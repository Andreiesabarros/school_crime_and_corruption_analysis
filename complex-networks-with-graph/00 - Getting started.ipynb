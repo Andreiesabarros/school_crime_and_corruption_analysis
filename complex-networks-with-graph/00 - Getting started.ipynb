{
 "cells": [
  {
   "cell_type": "markdown",
   "metadata": {},
   "source": [
    "# Getting started"
   ]
  },
  {
   "cell_type": "markdown",
   "metadata": {},
   "source": [
    "The package we will use for our network analysis is `igraph`. There are also other packages out there for Python, such as `networkx` or `graphtool`, but we will not use them during this course. First, we will load all required packages."
   ]
  },
  {
   "cell_type": "code",
   "execution_count": 4,
   "metadata": {
    "ExecuteTime": {
     "end_time": "2019-06-25T21:28:32.656671Z",
     "start_time": "2019-06-25T21:28:32.649982Z"
    }
   },
   "outputs": [],
   "source": [
    "# Networks\n",
    "import igraph as ig\n",
    "import leidenalg\n",
    "\n",
    "# Computation\n",
    "import numpy as np\n",
    "np.random.seed(0)\n",
    "import scipy\n",
    "import random\n",
    "random.seed(0)\n",
    "\n",
    "# Data\n",
    "import pandas as pd\n",
    "\n",
    "# Plotting\n",
    "import seaborn as sns\n",
    "import matplotlib.pyplot as plt\n",
    "%matplotlib inline"
   ]
  },
  {
   "cell_type": "markdown",
   "metadata": {},
   "source": [
    "Note that at any time, you can get some information by pressing Shift-Tab when your cursor is on some function, and simply Tab to autocomplete some value."
   ]
  },
  {
   "cell_type": "markdown",
   "metadata": {},
   "source": [
    "We can create a graph ourselves, adding vertices and edges as we go."
   ]
  },
  {
   "cell_type": "code",
   "execution_count": 5,
   "metadata": {
    "ExecuteTime": {
     "end_time": "2019-06-25T21:28:34.472567Z",
     "start_time": "2019-06-25T21:28:34.467986Z"
    }
   },
   "outputs": [],
   "source": [
    "G = ig.Graph(directed=False)\n",
    "G.add_vertices(n=4)\n",
    "G.add_edges([(0, 1),\n",
    "             (0, 2),\n",
    "             (0, 3),\n",
    "             (1, 2),\n",
    "             (1, 3),\n",
    "             (2, 3)])"
   ]
  },
  {
   "cell_type": "markdown",
   "metadata": {},
   "source": [
    "We can get a summary of the graph, providing some basic information on the graph"
   ]
  },
  {
   "cell_type": "code",
   "execution_count": 6,
   "metadata": {
    "ExecuteTime": {
     "end_time": "2019-06-25T21:28:35.634268Z",
     "start_time": "2019-06-25T21:28:35.625953Z"
    }
   },
   "outputs": [
    {
     "data": {
      "text/plain": [
       "'IGRAPH U--- 4 6 -- '"
      ]
     },
     "execution_count": 6,
     "metadata": {},
     "output_type": "execute_result"
    }
   ],
   "source": [
    "G.summary()"
   ]
  },
  {
   "cell_type": "markdown",
   "metadata": {},
   "source": [
    "The result indicates this graph is undirected (indicated by the `U`) has 4 nodes and 6 edges. The information on the number of nodes and edges can also be obtained using functions."
   ]
  },
  {
   "cell_type": "code",
   "execution_count": 7,
   "metadata": {
    "ExecuteTime": {
     "end_time": "2019-06-25T21:28:36.832275Z",
     "start_time": "2019-06-25T21:28:36.827840Z"
    }
   },
   "outputs": [
    {
     "name": "stdout",
     "output_type": "stream",
     "text": [
      "4 nodes, 6 edges\n"
     ]
    }
   ],
   "source": [
    "n = G.vcount()\n",
    "m = G.ecount()\n",
    "print('{0} nodes, {1} edges'.format(n, m))"
   ]
  },
  {
   "cell_type": "markdown",
   "metadata": {},
   "source": [
    "In the remainder of this exercise, we will work with various networks, that need to be downloaded. There is one exception, a network that has become so famous that it is built in `igraph`: the karate club network constructed by [Zachary (1977)](https://www.jstor.org/stable/3629752?seq=1#page_scan_tab_contents)."
   ]
  },
  {
   "cell_type": "code",
   "execution_count": 8,
   "metadata": {
    "ExecuteTime": {
     "end_time": "2019-06-25T21:28:37.241547Z",
     "start_time": "2019-06-25T21:28:37.237753Z"
    }
   },
   "outputs": [],
   "source": [
    "G = ig.Graph.Famous('Zachary')"
   ]
  },
  {
   "cell_type": "markdown",
   "metadata": {},
   "source": [
    "You can plot the graph easily"
   ]
  },
  {
   "cell_type": "code",
   "execution_count": 9,
   "metadata": {
    "ExecuteTime": {
     "end_time": "2019-06-25T21:28:38.155773Z",
     "start_time": "2019-06-25T21:28:38.107242Z"
    }
   },
   "outputs": [
    {
     "data": {
      "image/svg+xml": [
       "<?xml version=\"1.0\" encoding=\"UTF-8\"?>\n",
       "<svg xmlns=\"http://www.w3.org/2000/svg\" xmlns:xlink=\"http://www.w3.org/1999/xlink\" width=\"600pt\" height=\"600pt\" viewBox=\"0 0 600 600\" version=\"1.1\">\n",
       "<g id=\"surface2\">\n",
       "<rect x=\"0\" y=\"0\" width=\"600\" height=\"600\" style=\"fill:rgb(100%,100%,100%);fill-opacity:1;stroke:none;\"/>\n",
       "<path style=\"fill:none;stroke-width:1;stroke-linecap:butt;stroke-linejoin:miter;stroke:rgb(74.509804%,74.509804%,74.509804%);stroke-opacity:1;stroke-miterlimit:10;\" d=\"M 243.953125 173.003906 L 166.183594 224.988281 \"/>\n",
       "<path style=\"fill:none;stroke-width:1;stroke-linecap:butt;stroke-linejoin:miter;stroke:rgb(74.509804%,74.509804%,74.509804%);stroke-opacity:1;stroke-miterlimit:10;\" d=\"M 243.953125 173.003906 L 217.597656 309.71875 \"/>\n",
       "<path style=\"fill:none;stroke-width:1;stroke-linecap:butt;stroke-linejoin:miter;stroke:rgb(74.509804%,74.509804%,74.509804%);stroke-opacity:1;stroke-miterlimit:10;\" d=\"M 243.953125 173.003906 L 79.515625 235.207031 \"/>\n",
       "<path style=\"fill:none;stroke-width:1;stroke-linecap:butt;stroke-linejoin:miter;stroke:rgb(74.509804%,74.509804%,74.509804%);stroke-opacity:1;stroke-miterlimit:10;\" d=\"M 243.953125 173.003906 L 312.511719 32.328125 \"/>\n",
       "<path style=\"fill:none;stroke-width:1;stroke-linecap:butt;stroke-linejoin:miter;stroke:rgb(74.509804%,74.509804%,74.509804%);stroke-opacity:1;stroke-miterlimit:10;\" d=\"M 243.953125 173.003906 L 439.894531 103.0625 \"/>\n",
       "<path style=\"fill:none;stroke-width:1;stroke-linecap:butt;stroke-linejoin:miter;stroke:rgb(74.509804%,74.509804%,74.509804%);stroke-opacity:1;stroke-miterlimit:10;\" d=\"M 243.953125 173.003906 L 410.863281 51.773438 \"/>\n",
       "<path style=\"fill:none;stroke-width:1;stroke-linecap:butt;stroke-linejoin:miter;stroke:rgb(74.509804%,74.509804%,74.509804%);stroke-opacity:1;stroke-miterlimit:10;\" d=\"M 243.953125 173.003906 L 115.167969 195.996094 \"/>\n",
       "<path style=\"fill:none;stroke-width:1;stroke-linecap:butt;stroke-linejoin:miter;stroke:rgb(74.509804%,74.509804%,74.509804%);stroke-opacity:1;stroke-miterlimit:10;\" d=\"M 243.953125 173.003906 L 251.976562 347.332031 \"/>\n",
       "<path style=\"fill:none;stroke-width:1;stroke-linecap:butt;stroke-linejoin:miter;stroke:rgb(74.509804%,74.509804%,74.509804%);stroke-opacity:1;stroke-miterlimit:10;\" d=\"M 243.953125 173.003906 L 347.71875 85.382812 \"/>\n",
       "<path style=\"fill:none;stroke-width:1;stroke-linecap:butt;stroke-linejoin:miter;stroke:rgb(74.509804%,74.509804%,74.509804%);stroke-opacity:1;stroke-miterlimit:10;\" d=\"M 243.953125 173.003906 L 182.925781 20 \"/>\n",
       "<path style=\"fill:none;stroke-width:1;stroke-linecap:butt;stroke-linejoin:miter;stroke:rgb(74.509804%,74.509804%,74.509804%);stroke-opacity:1;stroke-miterlimit:10;\" d=\"M 243.953125 173.003906 L 20 156.15625 \"/>\n",
       "<path style=\"fill:none;stroke-width:1;stroke-linecap:butt;stroke-linejoin:miter;stroke:rgb(74.509804%,74.509804%,74.509804%);stroke-opacity:1;stroke-miterlimit:10;\" d=\"M 243.953125 173.003906 L 151.554688 296.667969 \"/>\n",
       "<path style=\"fill:none;stroke-width:1;stroke-linecap:butt;stroke-linejoin:miter;stroke:rgb(74.509804%,74.509804%,74.509804%);stroke-opacity:1;stroke-miterlimit:10;\" d=\"M 243.953125 173.003906 L 169.234375 101.558594 \"/>\n",
       "<path style=\"fill:none;stroke-width:1;stroke-linecap:butt;stroke-linejoin:miter;stroke:rgb(74.509804%,74.509804%,74.509804%);stroke-opacity:1;stroke-miterlimit:10;\" d=\"M 243.953125 173.003906 L 293.289062 267.175781 \"/>\n",
       "<path style=\"fill:none;stroke-width:1;stroke-linecap:butt;stroke-linejoin:miter;stroke:rgb(74.509804%,74.509804%,74.509804%);stroke-opacity:1;stroke-miterlimit:10;\" d=\"M 243.953125 173.003906 L 92.636719 113.039062 \"/>\n",
       "<path style=\"fill:none;stroke-width:1;stroke-linecap:butt;stroke-linejoin:miter;stroke:rgb(74.509804%,74.509804%,74.509804%);stroke-opacity:1;stroke-miterlimit:10;\" d=\"M 243.953125 173.003906 L 409.925781 329.035156 \"/>\n",
       "<path style=\"fill:none;stroke-width:1;stroke-linecap:butt;stroke-linejoin:miter;stroke:rgb(74.509804%,74.509804%,74.509804%);stroke-opacity:1;stroke-miterlimit:10;\" d=\"M 166.183594 224.988281 L 217.597656 309.71875 \"/>\n",
       "<path style=\"fill:none;stroke-width:1;stroke-linecap:butt;stroke-linejoin:miter;stroke:rgb(74.509804%,74.509804%,74.509804%);stroke-opacity:1;stroke-miterlimit:10;\" d=\"M 166.183594 224.988281 L 79.515625 235.207031 \"/>\n",
       "<path style=\"fill:none;stroke-width:1;stroke-linecap:butt;stroke-linejoin:miter;stroke:rgb(74.509804%,74.509804%,74.509804%);stroke-opacity:1;stroke-miterlimit:10;\" d=\"M 166.183594 224.988281 L 115.167969 195.996094 \"/>\n",
       "<path style=\"fill:none;stroke-width:1;stroke-linecap:butt;stroke-linejoin:miter;stroke:rgb(74.509804%,74.509804%,74.509804%);stroke-opacity:1;stroke-miterlimit:10;\" d=\"M 166.183594 224.988281 L 151.554688 296.667969 \"/>\n",
       "<path style=\"fill:none;stroke-width:1;stroke-linecap:butt;stroke-linejoin:miter;stroke:rgb(74.509804%,74.509804%,74.509804%);stroke-opacity:1;stroke-miterlimit:10;\" d=\"M 166.183594 224.988281 L 169.234375 101.558594 \"/>\n",
       "<path style=\"fill:none;stroke-width:1;stroke-linecap:butt;stroke-linejoin:miter;stroke:rgb(74.509804%,74.509804%,74.509804%);stroke-opacity:1;stroke-miterlimit:10;\" d=\"M 166.183594 224.988281 L 293.289062 267.175781 \"/>\n",
       "<path style=\"fill:none;stroke-width:1;stroke-linecap:butt;stroke-linejoin:miter;stroke:rgb(74.509804%,74.509804%,74.509804%);stroke-opacity:1;stroke-miterlimit:10;\" d=\"M 166.183594 224.988281 L 92.636719 113.039062 \"/>\n",
       "<path style=\"fill:none;stroke-width:1;stroke-linecap:butt;stroke-linejoin:miter;stroke:rgb(74.509804%,74.509804%,74.509804%);stroke-opacity:1;stroke-miterlimit:10;\" d=\"M 166.183594 224.988281 L 173.960938 382.304688 \"/>\n",
       "<path style=\"fill:none;stroke-width:1;stroke-linecap:butt;stroke-linejoin:miter;stroke:rgb(74.509804%,74.509804%,74.509804%);stroke-opacity:1;stroke-miterlimit:10;\" d=\"M 217.597656 309.71875 L 79.515625 235.207031 \"/>\n",
       "<path style=\"fill:none;stroke-width:1;stroke-linecap:butt;stroke-linejoin:miter;stroke:rgb(74.509804%,74.509804%,74.509804%);stroke-opacity:1;stroke-miterlimit:10;\" d=\"M 217.597656 309.71875 L 115.167969 195.996094 \"/>\n",
       "<path style=\"fill:none;stroke-width:1;stroke-linecap:butt;stroke-linejoin:miter;stroke:rgb(74.509804%,74.509804%,74.509804%);stroke-opacity:1;stroke-miterlimit:10;\" d=\"M 217.597656 309.71875 L 431.488281 374.773438 \"/>\n",
       "<path style=\"fill:none;stroke-width:1;stroke-linecap:butt;stroke-linejoin:miter;stroke:rgb(74.509804%,74.509804%,74.509804%);stroke-opacity:1;stroke-miterlimit:10;\" d=\"M 217.597656 309.71875 L 343.558594 359.785156 \"/>\n",
       "<path style=\"fill:none;stroke-width:1;stroke-linecap:butt;stroke-linejoin:miter;stroke:rgb(74.509804%,74.509804%,74.509804%);stroke-opacity:1;stroke-miterlimit:10;\" d=\"M 217.597656 309.71875 L 278.757812 467.304688 \"/>\n",
       "<path style=\"fill:none;stroke-width:1;stroke-linecap:butt;stroke-linejoin:miter;stroke:rgb(74.509804%,74.509804%,74.509804%);stroke-opacity:1;stroke-miterlimit:10;\" d=\"M 217.597656 309.71875 L 97.109375 413.257812 \"/>\n",
       "<path style=\"fill:none;stroke-width:1;stroke-linecap:butt;stroke-linejoin:miter;stroke:rgb(74.509804%,74.509804%,74.509804%);stroke-opacity:1;stroke-miterlimit:10;\" d=\"M 217.597656 309.71875 L 251.976562 347.332031 \"/>\n",
       "<path style=\"fill:none;stroke-width:1;stroke-linecap:butt;stroke-linejoin:miter;stroke:rgb(74.509804%,74.509804%,74.509804%);stroke-opacity:1;stroke-miterlimit:10;\" d=\"M 217.597656 309.71875 L 151.554688 296.667969 \"/>\n",
       "<path style=\"fill:none;stroke-width:1;stroke-linecap:butt;stroke-linejoin:miter;stroke:rgb(74.509804%,74.509804%,74.509804%);stroke-opacity:1;stroke-miterlimit:10;\" d=\"M 79.515625 235.207031 L 115.167969 195.996094 \"/>\n",
       "<path style=\"fill:none;stroke-width:1;stroke-linecap:butt;stroke-linejoin:miter;stroke:rgb(74.509804%,74.509804%,74.509804%);stroke-opacity:1;stroke-miterlimit:10;\" d=\"M 79.515625 235.207031 L 20 156.15625 \"/>\n",
       "<path style=\"fill:none;stroke-width:1;stroke-linecap:butt;stroke-linejoin:miter;stroke:rgb(74.509804%,74.509804%,74.509804%);stroke-opacity:1;stroke-miterlimit:10;\" d=\"M 79.515625 235.207031 L 151.554688 296.667969 \"/>\n",
       "<path style=\"fill:none;stroke-width:1;stroke-linecap:butt;stroke-linejoin:miter;stroke:rgb(74.509804%,74.509804%,74.509804%);stroke-opacity:1;stroke-miterlimit:10;\" d=\"M 312.511719 32.328125 L 410.863281 51.773438 \"/>\n",
       "<path style=\"fill:none;stroke-width:1;stroke-linecap:butt;stroke-linejoin:miter;stroke:rgb(74.509804%,74.509804%,74.509804%);stroke-opacity:1;stroke-miterlimit:10;\" d=\"M 312.511719 32.328125 L 347.71875 85.382812 \"/>\n",
       "<path style=\"fill:none;stroke-width:1;stroke-linecap:butt;stroke-linejoin:miter;stroke:rgb(74.509804%,74.509804%,74.509804%);stroke-opacity:1;stroke-miterlimit:10;\" d=\"M 439.894531 103.0625 L 410.863281 51.773438 \"/>\n",
       "<path style=\"fill:none;stroke-width:1;stroke-linecap:butt;stroke-linejoin:miter;stroke:rgb(74.509804%,74.509804%,74.509804%);stroke-opacity:1;stroke-miterlimit:10;\" d=\"M 439.894531 103.0625 L 347.71875 85.382812 \"/>\n",
       "<path style=\"fill:none;stroke-width:1;stroke-linecap:butt;stroke-linejoin:miter;stroke:rgb(74.509804%,74.509804%,74.509804%);stroke-opacity:1;stroke-miterlimit:10;\" d=\"M 439.894531 103.0625 L 543.710938 42.511719 \"/>\n",
       "<path style=\"fill:none;stroke-width:1;stroke-linecap:butt;stroke-linejoin:miter;stroke:rgb(74.509804%,74.509804%,74.509804%);stroke-opacity:1;stroke-miterlimit:10;\" d=\"M 410.863281 51.773438 L 543.710938 42.511719 \"/>\n",
       "<path style=\"fill:none;stroke-width:1;stroke-linecap:butt;stroke-linejoin:miter;stroke:rgb(74.509804%,74.509804%,74.509804%);stroke-opacity:1;stroke-miterlimit:10;\" d=\"M 251.976562 347.332031 L 173.960938 382.304688 \"/>\n",
       "<path style=\"fill:none;stroke-width:1;stroke-linecap:butt;stroke-linejoin:miter;stroke:rgb(74.509804%,74.509804%,74.509804%);stroke-opacity:1;stroke-miterlimit:10;\" d=\"M 251.976562 347.332031 L 278.757812 467.304688 \"/>\n",
       "<path style=\"fill:none;stroke-width:1;stroke-linecap:butt;stroke-linejoin:miter;stroke:rgb(74.509804%,74.509804%,74.509804%);stroke-opacity:1;stroke-miterlimit:10;\" d=\"M 251.976562 347.332031 L 290.375 439.902344 \"/>\n",
       "<path style=\"fill:none;stroke-width:1;stroke-linecap:butt;stroke-linejoin:miter;stroke:rgb(74.509804%,74.509804%,74.509804%);stroke-opacity:1;stroke-miterlimit:10;\" d=\"M 97.109375 413.257812 L 290.375 439.902344 \"/>\n",
       "<path style=\"fill:none;stroke-width:1;stroke-linecap:butt;stroke-linejoin:miter;stroke:rgb(74.509804%,74.509804%,74.509804%);stroke-opacity:1;stroke-miterlimit:10;\" d=\"M 151.554688 296.667969 L 290.375 439.902344 \"/>\n",
       "<path style=\"fill:none;stroke-width:1;stroke-linecap:butt;stroke-linejoin:miter;stroke:rgb(74.509804%,74.509804%,74.509804%);stroke-opacity:1;stroke-miterlimit:10;\" d=\"M 347.828125 560.824219 L 278.757812 467.304688 \"/>\n",
       "<path style=\"fill:none;stroke-width:1;stroke-linecap:butt;stroke-linejoin:miter;stroke:rgb(74.509804%,74.509804%,74.509804%);stroke-opacity:1;stroke-miterlimit:10;\" d=\"M 347.828125 560.824219 L 290.375 439.902344 \"/>\n",
       "<path style=\"fill:none;stroke-width:1;stroke-linecap:butt;stroke-linejoin:miter;stroke:rgb(74.509804%,74.509804%,74.509804%);stroke-opacity:1;stroke-miterlimit:10;\" d=\"M 133.496094 499.222656 L 278.757812 467.304688 \"/>\n",
       "<path style=\"fill:none;stroke-width:1;stroke-linecap:butt;stroke-linejoin:miter;stroke:rgb(74.509804%,74.509804%,74.509804%);stroke-opacity:1;stroke-miterlimit:10;\" d=\"M 133.496094 499.222656 L 290.375 439.902344 \"/>\n",
       "<path style=\"fill:none;stroke-width:1;stroke-linecap:butt;stroke-linejoin:miter;stroke:rgb(74.509804%,74.509804%,74.509804%);stroke-opacity:1;stroke-miterlimit:10;\" d=\"M 164.214844 544.449219 L 278.757812 467.304688 \"/>\n",
       "<path style=\"fill:none;stroke-width:1;stroke-linecap:butt;stroke-linejoin:miter;stroke:rgb(74.509804%,74.509804%,74.509804%);stroke-opacity:1;stroke-miterlimit:10;\" d=\"M 164.214844 544.449219 L 290.375 439.902344 \"/>\n",
       "<path style=\"fill:none;stroke-width:1;stroke-linecap:butt;stroke-linejoin:miter;stroke:rgb(74.509804%,74.509804%,74.509804%);stroke-opacity:1;stroke-miterlimit:10;\" d=\"M 293.289062 267.175781 L 290.375 439.902344 \"/>\n",
       "<path style=\"fill:none;stroke-width:1;stroke-linecap:butt;stroke-linejoin:miter;stroke:rgb(74.509804%,74.509804%,74.509804%);stroke-opacity:1;stroke-miterlimit:10;\" d=\"M 285.027344 580 L 278.757812 467.304688 \"/>\n",
       "<path style=\"fill:none;stroke-width:1;stroke-linecap:butt;stroke-linejoin:miter;stroke:rgb(74.509804%,74.509804%,74.509804%);stroke-opacity:1;stroke-miterlimit:10;\" d=\"M 285.027344 580 L 290.375 439.902344 \"/>\n",
       "<path style=\"fill:none;stroke-width:1;stroke-linecap:butt;stroke-linejoin:miter;stroke:rgb(74.509804%,74.509804%,74.509804%);stroke-opacity:1;stroke-miterlimit:10;\" d=\"M 223.25 563.792969 L 278.757812 467.304688 \"/>\n",
       "<path style=\"fill:none;stroke-width:1;stroke-linecap:butt;stroke-linejoin:miter;stroke:rgb(74.509804%,74.509804%,74.509804%);stroke-opacity:1;stroke-miterlimit:10;\" d=\"M 223.25 563.792969 L 290.375 439.902344 \"/>\n",
       "<path style=\"fill:none;stroke-width:1;stroke-linecap:butt;stroke-linejoin:miter;stroke:rgb(74.509804%,74.509804%,74.509804%);stroke-opacity:1;stroke-miterlimit:10;\" d=\"M 455.511719 451.648438 L 580 386.101562 \"/>\n",
       "<path style=\"fill:none;stroke-width:1;stroke-linecap:butt;stroke-linejoin:miter;stroke:rgb(74.509804%,74.509804%,74.509804%);stroke-opacity:1;stroke-miterlimit:10;\" d=\"M 455.511719 451.648438 L 431.488281 374.773438 \"/>\n",
       "<path style=\"fill:none;stroke-width:1;stroke-linecap:butt;stroke-linejoin:miter;stroke:rgb(74.509804%,74.509804%,74.509804%);stroke-opacity:1;stroke-miterlimit:10;\" d=\"M 455.511719 451.648438 L 278.757812 467.304688 \"/>\n",
       "<path style=\"fill:none;stroke-width:1;stroke-linecap:butt;stroke-linejoin:miter;stroke:rgb(74.509804%,74.509804%,74.509804%);stroke-opacity:1;stroke-miterlimit:10;\" d=\"M 455.511719 451.648438 L 290.375 439.902344 \"/>\n",
       "<path style=\"fill:none;stroke-width:1;stroke-linecap:butt;stroke-linejoin:miter;stroke:rgb(74.509804%,74.509804%,74.509804%);stroke-opacity:1;stroke-miterlimit:10;\" d=\"M 455.511719 451.648438 L 409.9375 511.394531 \"/>\n",
       "<path style=\"fill:none;stroke-width:1;stroke-linecap:butt;stroke-linejoin:miter;stroke:rgb(74.509804%,74.509804%,74.509804%);stroke-opacity:1;stroke-miterlimit:10;\" d=\"M 571.445312 321.46875 L 580 386.101562 \"/>\n",
       "<path style=\"fill:none;stroke-width:1;stroke-linecap:butt;stroke-linejoin:miter;stroke:rgb(74.509804%,74.509804%,74.509804%);stroke-opacity:1;stroke-miterlimit:10;\" d=\"M 571.445312 321.46875 L 431.488281 374.773438 \"/>\n",
       "<path style=\"fill:none;stroke-width:1;stroke-linecap:butt;stroke-linejoin:miter;stroke:rgb(74.509804%,74.509804%,74.509804%);stroke-opacity:1;stroke-miterlimit:10;\" d=\"M 571.445312 321.46875 L 409.925781 329.035156 \"/>\n",
       "<path style=\"fill:none;stroke-width:1;stroke-linecap:butt;stroke-linejoin:miter;stroke:rgb(74.509804%,74.509804%,74.509804%);stroke-opacity:1;stroke-miterlimit:10;\" d=\"M 580 386.101562 L 409.925781 329.035156 \"/>\n",
       "<path style=\"fill:none;stroke-width:1;stroke-linecap:butt;stroke-linejoin:miter;stroke:rgb(74.509804%,74.509804%,74.509804%);stroke-opacity:1;stroke-miterlimit:10;\" d=\"M 463.574219 553.773438 L 409.9375 511.394531 \"/>\n",
       "<path style=\"fill:none;stroke-width:1;stroke-linecap:butt;stroke-linejoin:miter;stroke:rgb(74.509804%,74.509804%,74.509804%);stroke-opacity:1;stroke-miterlimit:10;\" d=\"M 463.574219 553.773438 L 290.375 439.902344 \"/>\n",
       "<path style=\"fill:none;stroke-width:1;stroke-linecap:butt;stroke-linejoin:miter;stroke:rgb(74.509804%,74.509804%,74.509804%);stroke-opacity:1;stroke-miterlimit:10;\" d=\"M 431.488281 374.773438 L 290.375 439.902344 \"/>\n",
       "<path style=\"fill:none;stroke-width:1;stroke-linecap:butt;stroke-linejoin:miter;stroke:rgb(74.509804%,74.509804%,74.509804%);stroke-opacity:1;stroke-miterlimit:10;\" d=\"M 343.558594 359.785156 L 409.925781 329.035156 \"/>\n",
       "<path style=\"fill:none;stroke-width:1;stroke-linecap:butt;stroke-linejoin:miter;stroke:rgb(74.509804%,74.509804%,74.509804%);stroke-opacity:1;stroke-miterlimit:10;\" d=\"M 343.558594 359.785156 L 290.375 439.902344 \"/>\n",
       "<path style=\"fill:none;stroke-width:1;stroke-linecap:butt;stroke-linejoin:miter;stroke:rgb(74.509804%,74.509804%,74.509804%);stroke-opacity:1;stroke-miterlimit:10;\" d=\"M 409.9375 511.394531 L 278.757812 467.304688 \"/>\n",
       "<path style=\"fill:none;stroke-width:1;stroke-linecap:butt;stroke-linejoin:miter;stroke:rgb(74.509804%,74.509804%,74.509804%);stroke-opacity:1;stroke-miterlimit:10;\" d=\"M 409.9375 511.394531 L 290.375 439.902344 \"/>\n",
       "<path style=\"fill:none;stroke-width:1;stroke-linecap:butt;stroke-linejoin:miter;stroke:rgb(74.509804%,74.509804%,74.509804%);stroke-opacity:1;stroke-miterlimit:10;\" d=\"M 173.960938 382.304688 L 278.757812 467.304688 \"/>\n",
       "<path style=\"fill:none;stroke-width:1;stroke-linecap:butt;stroke-linejoin:miter;stroke:rgb(74.509804%,74.509804%,74.509804%);stroke-opacity:1;stroke-miterlimit:10;\" d=\"M 173.960938 382.304688 L 290.375 439.902344 \"/>\n",
       "<path style=\"fill:none;stroke-width:1;stroke-linecap:butt;stroke-linejoin:miter;stroke:rgb(74.509804%,74.509804%,74.509804%);stroke-opacity:1;stroke-miterlimit:10;\" d=\"M 409.925781 329.035156 L 278.757812 467.304688 \"/>\n",
       "<path style=\"fill:none;stroke-width:1;stroke-linecap:butt;stroke-linejoin:miter;stroke:rgb(74.509804%,74.509804%,74.509804%);stroke-opacity:1;stroke-miterlimit:10;\" d=\"M 409.925781 329.035156 L 290.375 439.902344 \"/>\n",
       "<path style=\"fill:none;stroke-width:1;stroke-linecap:butt;stroke-linejoin:miter;stroke:rgb(74.509804%,74.509804%,74.509804%);stroke-opacity:1;stroke-miterlimit:10;\" d=\"M 278.757812 467.304688 L 290.375 439.902344 \"/>\n",
       "<path style=\"fill-rule:nonzero;fill:rgb(74.509804%,74.509804%,74.509804%);fill-opacity:1;stroke-width:1;stroke-linecap:butt;stroke-linejoin:miter;stroke:rgb(0%,0%,0%);stroke-opacity:1;stroke-miterlimit:10;\" d=\"M 253.953125 173.003906 C 253.953125 178.527344 249.476562 183.003906 243.953125 183.003906 C 238.429688 183.003906 233.953125 178.527344 233.953125 173.003906 C 233.953125 167.480469 238.429688 163.003906 243.953125 163.003906 C 249.476562 163.003906 253.953125 167.480469 253.953125 173.003906 \"/>\n",
       "<path style=\"fill-rule:nonzero;fill:rgb(74.509804%,74.509804%,74.509804%);fill-opacity:1;stroke-width:1;stroke-linecap:butt;stroke-linejoin:miter;stroke:rgb(0%,0%,0%);stroke-opacity:1;stroke-miterlimit:10;\" d=\"M 176.183594 224.988281 C 176.183594 230.511719 171.707031 234.988281 166.183594 234.988281 C 160.660156 234.988281 156.183594 230.511719 156.183594 224.988281 C 156.183594 219.46875 160.660156 214.988281 166.183594 214.988281 C 171.707031 214.988281 176.183594 219.46875 176.183594 224.988281 \"/>\n",
       "<path style=\"fill-rule:nonzero;fill:rgb(74.509804%,74.509804%,74.509804%);fill-opacity:1;stroke-width:1;stroke-linecap:butt;stroke-linejoin:miter;stroke:rgb(0%,0%,0%);stroke-opacity:1;stroke-miterlimit:10;\" d=\"M 227.597656 309.71875 C 227.597656 315.242188 223.117188 319.71875 217.597656 319.71875 C 212.074219 319.71875 207.597656 315.242188 207.597656 309.71875 C 207.597656 304.199219 212.074219 299.71875 217.597656 299.71875 C 223.117188 299.71875 227.597656 304.199219 227.597656 309.71875 \"/>\n",
       "<path style=\"fill-rule:nonzero;fill:rgb(74.509804%,74.509804%,74.509804%);fill-opacity:1;stroke-width:1;stroke-linecap:butt;stroke-linejoin:miter;stroke:rgb(0%,0%,0%);stroke-opacity:1;stroke-miterlimit:10;\" d=\"M 89.515625 235.207031 C 89.515625 240.726562 85.039062 245.207031 79.515625 245.207031 C 73.992188 245.207031 69.515625 240.726562 69.515625 235.207031 C 69.515625 229.683594 73.992188 225.207031 79.515625 225.207031 C 85.039062 225.207031 89.515625 229.683594 89.515625 235.207031 \"/>\n",
       "<path style=\"fill-rule:nonzero;fill:rgb(74.509804%,74.509804%,74.509804%);fill-opacity:1;stroke-width:1;stroke-linecap:butt;stroke-linejoin:miter;stroke:rgb(0%,0%,0%);stroke-opacity:1;stroke-miterlimit:10;\" d=\"M 322.511719 32.328125 C 322.511719 37.847656 318.035156 42.328125 312.511719 42.328125 C 306.988281 42.328125 302.511719 37.847656 302.511719 32.328125 C 302.511719 26.804688 306.988281 22.328125 312.511719 22.328125 C 318.035156 22.328125 322.511719 26.804688 322.511719 32.328125 \"/>\n",
       "<path style=\"fill-rule:nonzero;fill:rgb(74.509804%,74.509804%,74.509804%);fill-opacity:1;stroke-width:1;stroke-linecap:butt;stroke-linejoin:miter;stroke:rgb(0%,0%,0%);stroke-opacity:1;stroke-miterlimit:10;\" d=\"M 449.894531 103.0625 C 449.894531 108.585938 445.417969 113.0625 439.894531 113.0625 C 434.371094 113.0625 429.894531 108.585938 429.894531 103.0625 C 429.894531 97.539062 434.371094 93.0625 439.894531 93.0625 C 445.417969 93.0625 449.894531 97.539062 449.894531 103.0625 \"/>\n",
       "<path style=\"fill-rule:nonzero;fill:rgb(74.509804%,74.509804%,74.509804%);fill-opacity:1;stroke-width:1;stroke-linecap:butt;stroke-linejoin:miter;stroke:rgb(0%,0%,0%);stroke-opacity:1;stroke-miterlimit:10;\" d=\"M 420.863281 51.773438 C 420.863281 57.296875 416.386719 61.773438 410.863281 61.773438 C 405.34375 61.773438 400.863281 57.296875 400.863281 51.773438 C 400.863281 46.25 405.34375 41.773438 410.863281 41.773438 C 416.386719 41.773438 420.863281 46.25 420.863281 51.773438 \"/>\n",
       "<path style=\"fill-rule:nonzero;fill:rgb(74.509804%,74.509804%,74.509804%);fill-opacity:1;stroke-width:1;stroke-linecap:butt;stroke-linejoin:miter;stroke:rgb(0%,0%,0%);stroke-opacity:1;stroke-miterlimit:10;\" d=\"M 125.167969 195.996094 C 125.167969 201.515625 120.691406 205.996094 115.167969 205.996094 C 109.648438 205.996094 105.167969 201.515625 105.167969 195.996094 C 105.167969 190.472656 109.648438 185.996094 115.167969 185.996094 C 120.691406 185.996094 125.167969 190.472656 125.167969 195.996094 \"/>\n",
       "<path style=\"fill-rule:nonzero;fill:rgb(74.509804%,74.509804%,74.509804%);fill-opacity:1;stroke-width:1;stroke-linecap:butt;stroke-linejoin:miter;stroke:rgb(0%,0%,0%);stroke-opacity:1;stroke-miterlimit:10;\" d=\"M 261.976562 347.332031 C 261.976562 352.855469 257.496094 357.332031 251.976562 357.332031 C 246.453125 357.332031 241.976562 352.855469 241.976562 347.332031 C 241.976562 341.808594 246.453125 337.332031 251.976562 337.332031 C 257.496094 337.332031 261.976562 341.808594 261.976562 347.332031 \"/>\n",
       "<path style=\"fill-rule:nonzero;fill:rgb(74.509804%,74.509804%,74.509804%);fill-opacity:1;stroke-width:1;stroke-linecap:butt;stroke-linejoin:miter;stroke:rgb(0%,0%,0%);stroke-opacity:1;stroke-miterlimit:10;\" d=\"M 107.109375 413.257812 C 107.109375 418.78125 102.632812 423.257812 97.109375 423.257812 C 91.585938 423.257812 87.109375 418.78125 87.109375 413.257812 C 87.109375 407.734375 91.585938 403.257812 97.109375 403.257812 C 102.632812 403.257812 107.109375 407.734375 107.109375 413.257812 \"/>\n",
       "<path style=\"fill-rule:nonzero;fill:rgb(74.509804%,74.509804%,74.509804%);fill-opacity:1;stroke-width:1;stroke-linecap:butt;stroke-linejoin:miter;stroke:rgb(0%,0%,0%);stroke-opacity:1;stroke-miterlimit:10;\" d=\"M 357.71875 85.382812 C 357.71875 90.90625 353.242188 95.382812 347.71875 95.382812 C 342.199219 95.382812 337.71875 90.90625 337.71875 85.382812 C 337.71875 79.859375 342.199219 75.382812 347.71875 75.382812 C 353.242188 75.382812 357.71875 79.859375 357.71875 85.382812 \"/>\n",
       "<path style=\"fill-rule:nonzero;fill:rgb(74.509804%,74.509804%,74.509804%);fill-opacity:1;stroke-width:1;stroke-linecap:butt;stroke-linejoin:miter;stroke:rgb(0%,0%,0%);stroke-opacity:1;stroke-miterlimit:10;\" d=\"M 192.925781 20 C 192.925781 25.523438 188.449219 30 182.925781 30 C 177.402344 30 172.925781 25.523438 172.925781 20 C 172.925781 14.476562 177.402344 10 182.925781 10 C 188.449219 10 192.925781 14.476562 192.925781 20 \"/>\n",
       "<path style=\"fill-rule:nonzero;fill:rgb(74.509804%,74.509804%,74.509804%);fill-opacity:1;stroke-width:1;stroke-linecap:butt;stroke-linejoin:miter;stroke:rgb(0%,0%,0%);stroke-opacity:1;stroke-miterlimit:10;\" d=\"M 30 156.15625 C 30 161.679688 25.523438 166.15625 20 166.15625 C 14.476562 166.15625 10 161.679688 10 156.15625 C 10 150.632812 14.476562 146.15625 20 146.15625 C 25.523438 146.15625 30 150.632812 30 156.15625 \"/>\n",
       "<path style=\"fill-rule:nonzero;fill:rgb(74.509804%,74.509804%,74.509804%);fill-opacity:1;stroke-width:1;stroke-linecap:butt;stroke-linejoin:miter;stroke:rgb(0%,0%,0%);stroke-opacity:1;stroke-miterlimit:10;\" d=\"M 161.554688 296.667969 C 161.554688 302.191406 157.078125 306.667969 151.554688 306.667969 C 146.03125 306.667969 141.554688 302.191406 141.554688 296.667969 C 141.554688 291.144531 146.03125 286.667969 151.554688 286.667969 C 157.078125 286.667969 161.554688 291.144531 161.554688 296.667969 \"/>\n",
       "<path style=\"fill-rule:nonzero;fill:rgb(74.509804%,74.509804%,74.509804%);fill-opacity:1;stroke-width:1;stroke-linecap:butt;stroke-linejoin:miter;stroke:rgb(0%,0%,0%);stroke-opacity:1;stroke-miterlimit:10;\" d=\"M 357.828125 560.824219 C 357.828125 566.347656 353.347656 570.824219 347.828125 570.824219 C 342.304688 570.824219 337.828125 566.347656 337.828125 560.824219 C 337.828125 555.300781 342.304688 550.824219 347.828125 550.824219 C 353.347656 550.824219 357.828125 555.300781 357.828125 560.824219 \"/>\n",
       "<path style=\"fill-rule:nonzero;fill:rgb(74.509804%,74.509804%,74.509804%);fill-opacity:1;stroke-width:1;stroke-linecap:butt;stroke-linejoin:miter;stroke:rgb(0%,0%,0%);stroke-opacity:1;stroke-miterlimit:10;\" d=\"M 143.496094 499.222656 C 143.496094 504.746094 139.019531 509.222656 133.496094 509.222656 C 127.972656 509.222656 123.496094 504.746094 123.496094 499.222656 C 123.496094 493.699219 127.972656 489.222656 133.496094 489.222656 C 139.019531 489.222656 143.496094 493.699219 143.496094 499.222656 \"/>\n",
       "<path style=\"fill-rule:nonzero;fill:rgb(74.509804%,74.509804%,74.509804%);fill-opacity:1;stroke-width:1;stroke-linecap:butt;stroke-linejoin:miter;stroke:rgb(0%,0%,0%);stroke-opacity:1;stroke-miterlimit:10;\" d=\"M 553.710938 42.511719 C 553.710938 48.035156 549.234375 52.511719 543.710938 52.511719 C 538.1875 52.511719 533.710938 48.035156 533.710938 42.511719 C 533.710938 36.992188 538.1875 32.511719 543.710938 32.511719 C 549.234375 32.511719 553.710938 36.992188 553.710938 42.511719 \"/>\n",
       "<path style=\"fill-rule:nonzero;fill:rgb(74.509804%,74.509804%,74.509804%);fill-opacity:1;stroke-width:1;stroke-linecap:butt;stroke-linejoin:miter;stroke:rgb(0%,0%,0%);stroke-opacity:1;stroke-miterlimit:10;\" d=\"M 179.234375 101.558594 C 179.234375 107.082031 174.757812 111.558594 169.234375 111.558594 C 163.714844 111.558594 159.234375 107.082031 159.234375 101.558594 C 159.234375 96.035156 163.714844 91.558594 169.234375 91.558594 C 174.757812 91.558594 179.234375 96.035156 179.234375 101.558594 \"/>\n",
       "<path style=\"fill-rule:nonzero;fill:rgb(74.509804%,74.509804%,74.509804%);fill-opacity:1;stroke-width:1;stroke-linecap:butt;stroke-linejoin:miter;stroke:rgb(0%,0%,0%);stroke-opacity:1;stroke-miterlimit:10;\" d=\"M 174.214844 544.449219 C 174.214844 549.972656 169.738281 554.449219 164.214844 554.449219 C 158.691406 554.449219 154.214844 549.972656 154.214844 544.449219 C 154.214844 538.925781 158.691406 534.449219 164.214844 534.449219 C 169.738281 534.449219 174.214844 538.925781 174.214844 544.449219 \"/>\n",
       "<path style=\"fill-rule:nonzero;fill:rgb(74.509804%,74.509804%,74.509804%);fill-opacity:1;stroke-width:1;stroke-linecap:butt;stroke-linejoin:miter;stroke:rgb(0%,0%,0%);stroke-opacity:1;stroke-miterlimit:10;\" d=\"M 303.289062 267.175781 C 303.289062 272.699219 298.8125 277.175781 293.289062 277.175781 C 287.765625 277.175781 283.289062 272.699219 283.289062 267.175781 C 283.289062 261.652344 287.765625 257.175781 293.289062 257.175781 C 298.8125 257.175781 303.289062 261.652344 303.289062 267.175781 \"/>\n",
       "<path style=\"fill-rule:nonzero;fill:rgb(74.509804%,74.509804%,74.509804%);fill-opacity:1;stroke-width:1;stroke-linecap:butt;stroke-linejoin:miter;stroke:rgb(0%,0%,0%);stroke-opacity:1;stroke-miterlimit:10;\" d=\"M 295.027344 580 C 295.027344 585.523438 290.550781 590 285.027344 590 C 279.507812 590 275.027344 585.523438 275.027344 580 C 275.027344 574.476562 279.507812 570 285.027344 570 C 290.550781 570 295.027344 574.476562 295.027344 580 \"/>\n",
       "<path style=\"fill-rule:nonzero;fill:rgb(74.509804%,74.509804%,74.509804%);fill-opacity:1;stroke-width:1;stroke-linecap:butt;stroke-linejoin:miter;stroke:rgb(0%,0%,0%);stroke-opacity:1;stroke-miterlimit:10;\" d=\"M 102.636719 113.039062 C 102.636719 118.5625 98.160156 123.039062 92.636719 123.039062 C 87.113281 123.039062 82.636719 118.5625 82.636719 113.039062 C 82.636719 107.515625 87.113281 103.039062 92.636719 103.039062 C 98.160156 103.039062 102.636719 107.515625 102.636719 113.039062 \"/>\n",
       "<path style=\"fill-rule:nonzero;fill:rgb(74.509804%,74.509804%,74.509804%);fill-opacity:1;stroke-width:1;stroke-linecap:butt;stroke-linejoin:miter;stroke:rgb(0%,0%,0%);stroke-opacity:1;stroke-miterlimit:10;\" d=\"M 233.25 563.792969 C 233.25 569.316406 228.773438 573.792969 223.25 573.792969 C 217.726562 573.792969 213.25 569.316406 213.25 563.792969 C 213.25 558.273438 217.726562 553.792969 223.25 553.792969 C 228.773438 553.792969 233.25 558.273438 233.25 563.792969 \"/>\n",
       "<path style=\"fill-rule:nonzero;fill:rgb(74.509804%,74.509804%,74.509804%);fill-opacity:1;stroke-width:1;stroke-linecap:butt;stroke-linejoin:miter;stroke:rgb(0%,0%,0%);stroke-opacity:1;stroke-miterlimit:10;\" d=\"M 465.511719 451.648438 C 465.511719 457.171875 461.035156 461.648438 455.511719 461.648438 C 449.992188 461.648438 445.511719 457.171875 445.511719 451.648438 C 445.511719 446.128906 449.992188 441.648438 455.511719 441.648438 C 461.035156 441.648438 465.511719 446.128906 465.511719 451.648438 \"/>\n",
       "<path style=\"fill-rule:nonzero;fill:rgb(74.509804%,74.509804%,74.509804%);fill-opacity:1;stroke-width:1;stroke-linecap:butt;stroke-linejoin:miter;stroke:rgb(0%,0%,0%);stroke-opacity:1;stroke-miterlimit:10;\" d=\"M 581.445312 321.46875 C 581.445312 326.992188 576.96875 331.46875 571.445312 331.46875 C 565.921875 331.46875 561.445312 326.992188 561.445312 321.46875 C 561.445312 315.945312 565.921875 311.46875 571.445312 311.46875 C 576.96875 311.46875 581.445312 315.945312 581.445312 321.46875 \"/>\n",
       "<path style=\"fill-rule:nonzero;fill:rgb(74.509804%,74.509804%,74.509804%);fill-opacity:1;stroke-width:1;stroke-linecap:butt;stroke-linejoin:miter;stroke:rgb(0%,0%,0%);stroke-opacity:1;stroke-miterlimit:10;\" d=\"M 590 386.101562 C 590 391.621094 585.523438 396.101562 580 396.101562 C 574.476562 396.101562 570 391.621094 570 386.101562 C 570 380.578125 574.476562 376.101562 580 376.101562 C 585.523438 376.101562 590 380.578125 590 386.101562 \"/>\n",
       "<path style=\"fill-rule:nonzero;fill:rgb(74.509804%,74.509804%,74.509804%);fill-opacity:1;stroke-width:1;stroke-linecap:butt;stroke-linejoin:miter;stroke:rgb(0%,0%,0%);stroke-opacity:1;stroke-miterlimit:10;\" d=\"M 473.574219 553.773438 C 473.574219 559.296875 469.097656 563.773438 463.574219 563.773438 C 458.050781 563.773438 453.574219 559.296875 453.574219 553.773438 C 453.574219 548.25 458.050781 543.773438 463.574219 543.773438 C 469.097656 543.773438 473.574219 548.25 473.574219 553.773438 \"/>\n",
       "<path style=\"fill-rule:nonzero;fill:rgb(74.509804%,74.509804%,74.509804%);fill-opacity:1;stroke-width:1;stroke-linecap:butt;stroke-linejoin:miter;stroke:rgb(0%,0%,0%);stroke-opacity:1;stroke-miterlimit:10;\" d=\"M 441.488281 374.773438 C 441.488281 380.296875 437.011719 384.773438 431.488281 384.773438 C 425.96875 384.773438 421.488281 380.296875 421.488281 374.773438 C 421.488281 369.25 425.96875 364.773438 431.488281 364.773438 C 437.011719 364.773438 441.488281 369.25 441.488281 374.773438 \"/>\n",
       "<path style=\"fill-rule:nonzero;fill:rgb(74.509804%,74.509804%,74.509804%);fill-opacity:1;stroke-width:1;stroke-linecap:butt;stroke-linejoin:miter;stroke:rgb(0%,0%,0%);stroke-opacity:1;stroke-miterlimit:10;\" d=\"M 353.558594 359.785156 C 353.558594 365.308594 349.082031 369.785156 343.558594 369.785156 C 338.035156 369.785156 333.558594 365.308594 333.558594 359.785156 C 333.558594 354.261719 338.035156 349.785156 343.558594 349.785156 C 349.082031 349.785156 353.558594 354.261719 353.558594 359.785156 \"/>\n",
       "<path style=\"fill-rule:nonzero;fill:rgb(74.509804%,74.509804%,74.509804%);fill-opacity:1;stroke-width:1;stroke-linecap:butt;stroke-linejoin:miter;stroke:rgb(0%,0%,0%);stroke-opacity:1;stroke-miterlimit:10;\" d=\"M 419.9375 511.394531 C 419.9375 516.914062 415.460938 521.394531 409.9375 521.394531 C 404.414062 521.394531 399.9375 516.914062 399.9375 511.394531 C 399.9375 505.871094 404.414062 501.394531 409.9375 501.394531 C 415.460938 501.394531 419.9375 505.871094 419.9375 511.394531 \"/>\n",
       "<path style=\"fill-rule:nonzero;fill:rgb(74.509804%,74.509804%,74.509804%);fill-opacity:1;stroke-width:1;stroke-linecap:butt;stroke-linejoin:miter;stroke:rgb(0%,0%,0%);stroke-opacity:1;stroke-miterlimit:10;\" d=\"M 183.960938 382.304688 C 183.960938 387.828125 179.484375 392.304688 173.960938 392.304688 C 168.4375 392.304688 163.960938 387.828125 163.960938 382.304688 C 163.960938 376.78125 168.4375 372.304688 173.960938 372.304688 C 179.484375 372.304688 183.960938 376.78125 183.960938 382.304688 \"/>\n",
       "<path style=\"fill-rule:nonzero;fill:rgb(74.509804%,74.509804%,74.509804%);fill-opacity:1;stroke-width:1;stroke-linecap:butt;stroke-linejoin:miter;stroke:rgb(0%,0%,0%);stroke-opacity:1;stroke-miterlimit:10;\" d=\"M 419.925781 329.035156 C 419.925781 334.558594 415.449219 339.035156 409.925781 339.035156 C 404.402344 339.035156 399.925781 334.558594 399.925781 329.035156 C 399.925781 323.511719 404.402344 319.035156 409.925781 319.035156 C 415.449219 319.035156 419.925781 323.511719 419.925781 329.035156 \"/>\n",
       "<path style=\"fill-rule:nonzero;fill:rgb(74.509804%,74.509804%,74.509804%);fill-opacity:1;stroke-width:1;stroke-linecap:butt;stroke-linejoin:miter;stroke:rgb(0%,0%,0%);stroke-opacity:1;stroke-miterlimit:10;\" d=\"M 288.757812 467.304688 C 288.757812 472.828125 284.28125 477.304688 278.757812 477.304688 C 273.238281 477.304688 268.757812 472.828125 268.757812 467.304688 C 268.757812 461.78125 273.238281 457.304688 278.757812 457.304688 C 284.28125 457.304688 288.757812 461.78125 288.757812 467.304688 \"/>\n",
       "<path style=\"fill-rule:nonzero;fill:rgb(74.509804%,74.509804%,74.509804%);fill-opacity:1;stroke-width:1;stroke-linecap:butt;stroke-linejoin:miter;stroke:rgb(0%,0%,0%);stroke-opacity:1;stroke-miterlimit:10;\" d=\"M 300.375 439.902344 C 300.375 445.425781 295.898438 449.902344 290.375 449.902344 C 284.851562 449.902344 280.375 445.425781 280.375 439.902344 C 280.375 434.378906 284.851562 429.902344 290.375 429.902344 C 295.898438 429.902344 300.375 434.378906 300.375 439.902344 \"/>\n",
       "</g>\n",
       "</svg>\n"
      ],
      "text/plain": [
       "<igraph.drawing.Plot at 0x1a1ea3ff28>"
      ]
     },
     "execution_count": 9,
     "metadata": {},
     "output_type": "execute_result"
    }
   ],
   "source": [
    "G['layout'] = G.layout_fruchterman_reingold()\n",
    "G.vs['color'] = 'gray'\n",
    "G.es['color'] = 'gray'\n",
    "ig.plot(G)"
   ]
  },
  {
   "cell_type": "markdown",
   "metadata": {},
   "source": [
    "The most basic elements of any graph are the *nodes* and the connection between the nodes, called *edges*. Nodes are also called *vertices* and edges are also called *links*. These words will be used interchangebly. Vertices and edges are the terms that are most often used in graph theory, while nodes and links are more common in (social) network analysis. Sometimes, you also see the term *tie* or *arc* for referring to an edge."
   ]
  },
  {
   "cell_type": "markdown",
   "metadata": {},
   "source": [
    "In `igraph` the terms vertex and edges are used throughout, and they can be accessed through a so-called `VertexSequence` and `EdgeSequence`. You can make different selections of vertices and edges, either based on attributes or simply specifying specific (vertex or edge) indices. The functionality on vertex and edge sequences is quite extensive. The following just demonstrates one possibility."
   ]
  },
  {
   "cell_type": "code",
   "execution_count": 10,
   "metadata": {
    "ExecuteTime": {
     "end_time": "2019-06-25T21:28:39.880740Z",
     "start_time": "2019-06-25T21:28:39.868180Z"
    }
   },
   "outputs": [
    {
     "data": {
      "image/svg+xml": [
       "<?xml version=\"1.0\" encoding=\"UTF-8\"?>\n",
       "<svg xmlns=\"http://www.w3.org/2000/svg\" xmlns:xlink=\"http://www.w3.org/1999/xlink\" width=\"600pt\" height=\"600pt\" viewBox=\"0 0 600 600\" version=\"1.1\">\n",
       "<g id=\"surface8\">\n",
       "<rect x=\"0\" y=\"0\" width=\"600\" height=\"600\" style=\"fill:rgb(100%,100%,100%);fill-opacity:1;stroke:none;\"/>\n",
       "<path style=\"fill:none;stroke-width:1;stroke-linecap:butt;stroke-linejoin:miter;stroke:rgb(0%,0%,100%);stroke-opacity:1;stroke-miterlimit:10;\" d=\"M 243.953125 173.003906 L 166.183594 224.988281 \"/>\n",
       "<path style=\"fill:none;stroke-width:1;stroke-linecap:butt;stroke-linejoin:miter;stroke:rgb(0%,0%,100%);stroke-opacity:1;stroke-miterlimit:10;\" d=\"M 243.953125 173.003906 L 217.597656 309.71875 \"/>\n",
       "<path style=\"fill:none;stroke-width:1;stroke-linecap:butt;stroke-linejoin:miter;stroke:rgb(0%,0%,100%);stroke-opacity:1;stroke-miterlimit:10;\" d=\"M 243.953125 173.003906 L 79.515625 235.207031 \"/>\n",
       "<path style=\"fill:none;stroke-width:1;stroke-linecap:butt;stroke-linejoin:miter;stroke:rgb(74.509804%,74.509804%,74.509804%);stroke-opacity:1;stroke-miterlimit:10;\" d=\"M 243.953125 173.003906 L 312.511719 32.328125 \"/>\n",
       "<path style=\"fill:none;stroke-width:1;stroke-linecap:butt;stroke-linejoin:miter;stroke:rgb(74.509804%,74.509804%,74.509804%);stroke-opacity:1;stroke-miterlimit:10;\" d=\"M 243.953125 173.003906 L 439.894531 103.0625 \"/>\n",
       "<path style=\"fill:none;stroke-width:1;stroke-linecap:butt;stroke-linejoin:miter;stroke:rgb(74.509804%,74.509804%,74.509804%);stroke-opacity:1;stroke-miterlimit:10;\" d=\"M 243.953125 173.003906 L 410.863281 51.773438 \"/>\n",
       "<path style=\"fill:none;stroke-width:1;stroke-linecap:butt;stroke-linejoin:miter;stroke:rgb(74.509804%,74.509804%,74.509804%);stroke-opacity:1;stroke-miterlimit:10;\" d=\"M 243.953125 173.003906 L 115.167969 195.996094 \"/>\n",
       "<path style=\"fill:none;stroke-width:1;stroke-linecap:butt;stroke-linejoin:miter;stroke:rgb(74.509804%,74.509804%,74.509804%);stroke-opacity:1;stroke-miterlimit:10;\" d=\"M 243.953125 173.003906 L 251.976562 347.332031 \"/>\n",
       "<path style=\"fill:none;stroke-width:1;stroke-linecap:butt;stroke-linejoin:miter;stroke:rgb(74.509804%,74.509804%,74.509804%);stroke-opacity:1;stroke-miterlimit:10;\" d=\"M 243.953125 173.003906 L 347.71875 85.382812 \"/>\n",
       "<path style=\"fill:none;stroke-width:1;stroke-linecap:butt;stroke-linejoin:miter;stroke:rgb(74.509804%,74.509804%,74.509804%);stroke-opacity:1;stroke-miterlimit:10;\" d=\"M 243.953125 173.003906 L 182.925781 20 \"/>\n",
       "<path style=\"fill:none;stroke-width:1;stroke-linecap:butt;stroke-linejoin:miter;stroke:rgb(74.509804%,74.509804%,74.509804%);stroke-opacity:1;stroke-miterlimit:10;\" d=\"M 243.953125 173.003906 L 20 156.15625 \"/>\n",
       "<path style=\"fill:none;stroke-width:1;stroke-linecap:butt;stroke-linejoin:miter;stroke:rgb(74.509804%,74.509804%,74.509804%);stroke-opacity:1;stroke-miterlimit:10;\" d=\"M 243.953125 173.003906 L 151.554688 296.667969 \"/>\n",
       "<path style=\"fill:none;stroke-width:1;stroke-linecap:butt;stroke-linejoin:miter;stroke:rgb(74.509804%,74.509804%,74.509804%);stroke-opacity:1;stroke-miterlimit:10;\" d=\"M 243.953125 173.003906 L 169.234375 101.558594 \"/>\n",
       "<path style=\"fill:none;stroke-width:1;stroke-linecap:butt;stroke-linejoin:miter;stroke:rgb(74.509804%,74.509804%,74.509804%);stroke-opacity:1;stroke-miterlimit:10;\" d=\"M 243.953125 173.003906 L 293.289062 267.175781 \"/>\n",
       "<path style=\"fill:none;stroke-width:1;stroke-linecap:butt;stroke-linejoin:miter;stroke:rgb(74.509804%,74.509804%,74.509804%);stroke-opacity:1;stroke-miterlimit:10;\" d=\"M 243.953125 173.003906 L 92.636719 113.039062 \"/>\n",
       "<path style=\"fill:none;stroke-width:1;stroke-linecap:butt;stroke-linejoin:miter;stroke:rgb(74.509804%,74.509804%,74.509804%);stroke-opacity:1;stroke-miterlimit:10;\" d=\"M 243.953125 173.003906 L 409.925781 329.035156 \"/>\n",
       "<path style=\"fill:none;stroke-width:1;stroke-linecap:butt;stroke-linejoin:miter;stroke:rgb(0%,0%,100%);stroke-opacity:1;stroke-miterlimit:10;\" d=\"M 166.183594 224.988281 L 217.597656 309.71875 \"/>\n",
       "<path style=\"fill:none;stroke-width:1;stroke-linecap:butt;stroke-linejoin:miter;stroke:rgb(0%,0%,100%);stroke-opacity:1;stroke-miterlimit:10;\" d=\"M 166.183594 224.988281 L 79.515625 235.207031 \"/>\n",
       "<path style=\"fill:none;stroke-width:1;stroke-linecap:butt;stroke-linejoin:miter;stroke:rgb(74.509804%,74.509804%,74.509804%);stroke-opacity:1;stroke-miterlimit:10;\" d=\"M 166.183594 224.988281 L 115.167969 195.996094 \"/>\n",
       "<path style=\"fill:none;stroke-width:1;stroke-linecap:butt;stroke-linejoin:miter;stroke:rgb(74.509804%,74.509804%,74.509804%);stroke-opacity:1;stroke-miterlimit:10;\" d=\"M 166.183594 224.988281 L 151.554688 296.667969 \"/>\n",
       "<path style=\"fill:none;stroke-width:1;stroke-linecap:butt;stroke-linejoin:miter;stroke:rgb(74.509804%,74.509804%,74.509804%);stroke-opacity:1;stroke-miterlimit:10;\" d=\"M 166.183594 224.988281 L 169.234375 101.558594 \"/>\n",
       "<path style=\"fill:none;stroke-width:1;stroke-linecap:butt;stroke-linejoin:miter;stroke:rgb(74.509804%,74.509804%,74.509804%);stroke-opacity:1;stroke-miterlimit:10;\" d=\"M 166.183594 224.988281 L 293.289062 267.175781 \"/>\n",
       "<path style=\"fill:none;stroke-width:1;stroke-linecap:butt;stroke-linejoin:miter;stroke:rgb(74.509804%,74.509804%,74.509804%);stroke-opacity:1;stroke-miterlimit:10;\" d=\"M 166.183594 224.988281 L 92.636719 113.039062 \"/>\n",
       "<path style=\"fill:none;stroke-width:1;stroke-linecap:butt;stroke-linejoin:miter;stroke:rgb(74.509804%,74.509804%,74.509804%);stroke-opacity:1;stroke-miterlimit:10;\" d=\"M 166.183594 224.988281 L 173.960938 382.304688 \"/>\n",
       "<path style=\"fill:none;stroke-width:1;stroke-linecap:butt;stroke-linejoin:miter;stroke:rgb(0%,0%,100%);stroke-opacity:1;stroke-miterlimit:10;\" d=\"M 217.597656 309.71875 L 79.515625 235.207031 \"/>\n",
       "<path style=\"fill:none;stroke-width:1;stroke-linecap:butt;stroke-linejoin:miter;stroke:rgb(74.509804%,74.509804%,74.509804%);stroke-opacity:1;stroke-miterlimit:10;\" d=\"M 217.597656 309.71875 L 115.167969 195.996094 \"/>\n",
       "<path style=\"fill:none;stroke-width:1;stroke-linecap:butt;stroke-linejoin:miter;stroke:rgb(74.509804%,74.509804%,74.509804%);stroke-opacity:1;stroke-miterlimit:10;\" d=\"M 217.597656 309.71875 L 431.488281 374.773438 \"/>\n",
       "<path style=\"fill:none;stroke-width:1;stroke-linecap:butt;stroke-linejoin:miter;stroke:rgb(74.509804%,74.509804%,74.509804%);stroke-opacity:1;stroke-miterlimit:10;\" d=\"M 217.597656 309.71875 L 343.558594 359.785156 \"/>\n",
       "<path style=\"fill:none;stroke-width:1;stroke-linecap:butt;stroke-linejoin:miter;stroke:rgb(74.509804%,74.509804%,74.509804%);stroke-opacity:1;stroke-miterlimit:10;\" d=\"M 217.597656 309.71875 L 278.757812 467.304688 \"/>\n",
       "<path style=\"fill:none;stroke-width:1;stroke-linecap:butt;stroke-linejoin:miter;stroke:rgb(74.509804%,74.509804%,74.509804%);stroke-opacity:1;stroke-miterlimit:10;\" d=\"M 217.597656 309.71875 L 97.109375 413.257812 \"/>\n",
       "<path style=\"fill:none;stroke-width:1;stroke-linecap:butt;stroke-linejoin:miter;stroke:rgb(74.509804%,74.509804%,74.509804%);stroke-opacity:1;stroke-miterlimit:10;\" d=\"M 217.597656 309.71875 L 251.976562 347.332031 \"/>\n",
       "<path style=\"fill:none;stroke-width:1;stroke-linecap:butt;stroke-linejoin:miter;stroke:rgb(74.509804%,74.509804%,74.509804%);stroke-opacity:1;stroke-miterlimit:10;\" d=\"M 217.597656 309.71875 L 151.554688 296.667969 \"/>\n",
       "<path style=\"fill:none;stroke-width:1;stroke-linecap:butt;stroke-linejoin:miter;stroke:rgb(74.509804%,74.509804%,74.509804%);stroke-opacity:1;stroke-miterlimit:10;\" d=\"M 79.515625 235.207031 L 115.167969 195.996094 \"/>\n",
       "<path style=\"fill:none;stroke-width:1;stroke-linecap:butt;stroke-linejoin:miter;stroke:rgb(74.509804%,74.509804%,74.509804%);stroke-opacity:1;stroke-miterlimit:10;\" d=\"M 79.515625 235.207031 L 20 156.15625 \"/>\n",
       "<path style=\"fill:none;stroke-width:1;stroke-linecap:butt;stroke-linejoin:miter;stroke:rgb(74.509804%,74.509804%,74.509804%);stroke-opacity:1;stroke-miterlimit:10;\" d=\"M 79.515625 235.207031 L 151.554688 296.667969 \"/>\n",
       "<path style=\"fill:none;stroke-width:1;stroke-linecap:butt;stroke-linejoin:miter;stroke:rgb(74.509804%,74.509804%,74.509804%);stroke-opacity:1;stroke-miterlimit:10;\" d=\"M 312.511719 32.328125 L 410.863281 51.773438 \"/>\n",
       "<path style=\"fill:none;stroke-width:1;stroke-linecap:butt;stroke-linejoin:miter;stroke:rgb(74.509804%,74.509804%,74.509804%);stroke-opacity:1;stroke-miterlimit:10;\" d=\"M 312.511719 32.328125 L 347.71875 85.382812 \"/>\n",
       "<path style=\"fill:none;stroke-width:1;stroke-linecap:butt;stroke-linejoin:miter;stroke:rgb(74.509804%,74.509804%,74.509804%);stroke-opacity:1;stroke-miterlimit:10;\" d=\"M 439.894531 103.0625 L 410.863281 51.773438 \"/>\n",
       "<path style=\"fill:none;stroke-width:1;stroke-linecap:butt;stroke-linejoin:miter;stroke:rgb(74.509804%,74.509804%,74.509804%);stroke-opacity:1;stroke-miterlimit:10;\" d=\"M 439.894531 103.0625 L 347.71875 85.382812 \"/>\n",
       "<path style=\"fill:none;stroke-width:1;stroke-linecap:butt;stroke-linejoin:miter;stroke:rgb(74.509804%,74.509804%,74.509804%);stroke-opacity:1;stroke-miterlimit:10;\" d=\"M 439.894531 103.0625 L 543.710938 42.511719 \"/>\n",
       "<path style=\"fill:none;stroke-width:1;stroke-linecap:butt;stroke-linejoin:miter;stroke:rgb(74.509804%,74.509804%,74.509804%);stroke-opacity:1;stroke-miterlimit:10;\" d=\"M 410.863281 51.773438 L 543.710938 42.511719 \"/>\n",
       "<path style=\"fill:none;stroke-width:1;stroke-linecap:butt;stroke-linejoin:miter;stroke:rgb(74.509804%,74.509804%,74.509804%);stroke-opacity:1;stroke-miterlimit:10;\" d=\"M 251.976562 347.332031 L 173.960938 382.304688 \"/>\n",
       "<path style=\"fill:none;stroke-width:1;stroke-linecap:butt;stroke-linejoin:miter;stroke:rgb(74.509804%,74.509804%,74.509804%);stroke-opacity:1;stroke-miterlimit:10;\" d=\"M 251.976562 347.332031 L 278.757812 467.304688 \"/>\n",
       "<path style=\"fill:none;stroke-width:1;stroke-linecap:butt;stroke-linejoin:miter;stroke:rgb(74.509804%,74.509804%,74.509804%);stroke-opacity:1;stroke-miterlimit:10;\" d=\"M 251.976562 347.332031 L 290.375 439.902344 \"/>\n",
       "<path style=\"fill:none;stroke-width:1;stroke-linecap:butt;stroke-linejoin:miter;stroke:rgb(74.509804%,74.509804%,74.509804%);stroke-opacity:1;stroke-miterlimit:10;\" d=\"M 97.109375 413.257812 L 290.375 439.902344 \"/>\n",
       "<path style=\"fill:none;stroke-width:1;stroke-linecap:butt;stroke-linejoin:miter;stroke:rgb(74.509804%,74.509804%,74.509804%);stroke-opacity:1;stroke-miterlimit:10;\" d=\"M 151.554688 296.667969 L 290.375 439.902344 \"/>\n",
       "<path style=\"fill:none;stroke-width:1;stroke-linecap:butt;stroke-linejoin:miter;stroke:rgb(74.509804%,74.509804%,74.509804%);stroke-opacity:1;stroke-miterlimit:10;\" d=\"M 347.828125 560.824219 L 278.757812 467.304688 \"/>\n",
       "<path style=\"fill:none;stroke-width:1;stroke-linecap:butt;stroke-linejoin:miter;stroke:rgb(74.509804%,74.509804%,74.509804%);stroke-opacity:1;stroke-miterlimit:10;\" d=\"M 347.828125 560.824219 L 290.375 439.902344 \"/>\n",
       "<path style=\"fill:none;stroke-width:1;stroke-linecap:butt;stroke-linejoin:miter;stroke:rgb(74.509804%,74.509804%,74.509804%);stroke-opacity:1;stroke-miterlimit:10;\" d=\"M 133.496094 499.222656 L 278.757812 467.304688 \"/>\n",
       "<path style=\"fill:none;stroke-width:1;stroke-linecap:butt;stroke-linejoin:miter;stroke:rgb(74.509804%,74.509804%,74.509804%);stroke-opacity:1;stroke-miterlimit:10;\" d=\"M 133.496094 499.222656 L 290.375 439.902344 \"/>\n",
       "<path style=\"fill:none;stroke-width:1;stroke-linecap:butt;stroke-linejoin:miter;stroke:rgb(74.509804%,74.509804%,74.509804%);stroke-opacity:1;stroke-miterlimit:10;\" d=\"M 164.214844 544.449219 L 278.757812 467.304688 \"/>\n",
       "<path style=\"fill:none;stroke-width:1;stroke-linecap:butt;stroke-linejoin:miter;stroke:rgb(74.509804%,74.509804%,74.509804%);stroke-opacity:1;stroke-miterlimit:10;\" d=\"M 164.214844 544.449219 L 290.375 439.902344 \"/>\n",
       "<path style=\"fill:none;stroke-width:1;stroke-linecap:butt;stroke-linejoin:miter;stroke:rgb(74.509804%,74.509804%,74.509804%);stroke-opacity:1;stroke-miterlimit:10;\" d=\"M 293.289062 267.175781 L 290.375 439.902344 \"/>\n",
       "<path style=\"fill:none;stroke-width:1;stroke-linecap:butt;stroke-linejoin:miter;stroke:rgb(74.509804%,74.509804%,74.509804%);stroke-opacity:1;stroke-miterlimit:10;\" d=\"M 285.027344 580 L 278.757812 467.304688 \"/>\n",
       "<path style=\"fill:none;stroke-width:1;stroke-linecap:butt;stroke-linejoin:miter;stroke:rgb(74.509804%,74.509804%,74.509804%);stroke-opacity:1;stroke-miterlimit:10;\" d=\"M 285.027344 580 L 290.375 439.902344 \"/>\n",
       "<path style=\"fill:none;stroke-width:1;stroke-linecap:butt;stroke-linejoin:miter;stroke:rgb(74.509804%,74.509804%,74.509804%);stroke-opacity:1;stroke-miterlimit:10;\" d=\"M 223.25 563.792969 L 278.757812 467.304688 \"/>\n",
       "<path style=\"fill:none;stroke-width:1;stroke-linecap:butt;stroke-linejoin:miter;stroke:rgb(74.509804%,74.509804%,74.509804%);stroke-opacity:1;stroke-miterlimit:10;\" d=\"M 223.25 563.792969 L 290.375 439.902344 \"/>\n",
       "<path style=\"fill:none;stroke-width:1;stroke-linecap:butt;stroke-linejoin:miter;stroke:rgb(74.509804%,74.509804%,74.509804%);stroke-opacity:1;stroke-miterlimit:10;\" d=\"M 455.511719 451.648438 L 580 386.101562 \"/>\n",
       "<path style=\"fill:none;stroke-width:1;stroke-linecap:butt;stroke-linejoin:miter;stroke:rgb(74.509804%,74.509804%,74.509804%);stroke-opacity:1;stroke-miterlimit:10;\" d=\"M 455.511719 451.648438 L 431.488281 374.773438 \"/>\n",
       "<path style=\"fill:none;stroke-width:1;stroke-linecap:butt;stroke-linejoin:miter;stroke:rgb(74.509804%,74.509804%,74.509804%);stroke-opacity:1;stroke-miterlimit:10;\" d=\"M 455.511719 451.648438 L 278.757812 467.304688 \"/>\n",
       "<path style=\"fill:none;stroke-width:1;stroke-linecap:butt;stroke-linejoin:miter;stroke:rgb(74.509804%,74.509804%,74.509804%);stroke-opacity:1;stroke-miterlimit:10;\" d=\"M 455.511719 451.648438 L 290.375 439.902344 \"/>\n",
       "<path style=\"fill:none;stroke-width:1;stroke-linecap:butt;stroke-linejoin:miter;stroke:rgb(74.509804%,74.509804%,74.509804%);stroke-opacity:1;stroke-miterlimit:10;\" d=\"M 455.511719 451.648438 L 409.9375 511.394531 \"/>\n",
       "<path style=\"fill:none;stroke-width:1;stroke-linecap:butt;stroke-linejoin:miter;stroke:rgb(74.509804%,74.509804%,74.509804%);stroke-opacity:1;stroke-miterlimit:10;\" d=\"M 571.445312 321.46875 L 580 386.101562 \"/>\n",
       "<path style=\"fill:none;stroke-width:1;stroke-linecap:butt;stroke-linejoin:miter;stroke:rgb(74.509804%,74.509804%,74.509804%);stroke-opacity:1;stroke-miterlimit:10;\" d=\"M 571.445312 321.46875 L 431.488281 374.773438 \"/>\n",
       "<path style=\"fill:none;stroke-width:1;stroke-linecap:butt;stroke-linejoin:miter;stroke:rgb(74.509804%,74.509804%,74.509804%);stroke-opacity:1;stroke-miterlimit:10;\" d=\"M 571.445312 321.46875 L 409.925781 329.035156 \"/>\n",
       "<path style=\"fill:none;stroke-width:1;stroke-linecap:butt;stroke-linejoin:miter;stroke:rgb(74.509804%,74.509804%,74.509804%);stroke-opacity:1;stroke-miterlimit:10;\" d=\"M 580 386.101562 L 409.925781 329.035156 \"/>\n",
       "<path style=\"fill:none;stroke-width:1;stroke-linecap:butt;stroke-linejoin:miter;stroke:rgb(74.509804%,74.509804%,74.509804%);stroke-opacity:1;stroke-miterlimit:10;\" d=\"M 463.574219 553.773438 L 409.9375 511.394531 \"/>\n",
       "<path style=\"fill:none;stroke-width:1;stroke-linecap:butt;stroke-linejoin:miter;stroke:rgb(74.509804%,74.509804%,74.509804%);stroke-opacity:1;stroke-miterlimit:10;\" d=\"M 463.574219 553.773438 L 290.375 439.902344 \"/>\n",
       "<path style=\"fill:none;stroke-width:1;stroke-linecap:butt;stroke-linejoin:miter;stroke:rgb(74.509804%,74.509804%,74.509804%);stroke-opacity:1;stroke-miterlimit:10;\" d=\"M 431.488281 374.773438 L 290.375 439.902344 \"/>\n",
       "<path style=\"fill:none;stroke-width:1;stroke-linecap:butt;stroke-linejoin:miter;stroke:rgb(74.509804%,74.509804%,74.509804%);stroke-opacity:1;stroke-miterlimit:10;\" d=\"M 343.558594 359.785156 L 409.925781 329.035156 \"/>\n",
       "<path style=\"fill:none;stroke-width:1;stroke-linecap:butt;stroke-linejoin:miter;stroke:rgb(74.509804%,74.509804%,74.509804%);stroke-opacity:1;stroke-miterlimit:10;\" d=\"M 343.558594 359.785156 L 290.375 439.902344 \"/>\n",
       "<path style=\"fill:none;stroke-width:1;stroke-linecap:butt;stroke-linejoin:miter;stroke:rgb(74.509804%,74.509804%,74.509804%);stroke-opacity:1;stroke-miterlimit:10;\" d=\"M 409.9375 511.394531 L 278.757812 467.304688 \"/>\n",
       "<path style=\"fill:none;stroke-width:1;stroke-linecap:butt;stroke-linejoin:miter;stroke:rgb(74.509804%,74.509804%,74.509804%);stroke-opacity:1;stroke-miterlimit:10;\" d=\"M 409.9375 511.394531 L 290.375 439.902344 \"/>\n",
       "<path style=\"fill:none;stroke-width:1;stroke-linecap:butt;stroke-linejoin:miter;stroke:rgb(74.509804%,74.509804%,74.509804%);stroke-opacity:1;stroke-miterlimit:10;\" d=\"M 173.960938 382.304688 L 278.757812 467.304688 \"/>\n",
       "<path style=\"fill:none;stroke-width:1;stroke-linecap:butt;stroke-linejoin:miter;stroke:rgb(74.509804%,74.509804%,74.509804%);stroke-opacity:1;stroke-miterlimit:10;\" d=\"M 173.960938 382.304688 L 290.375 439.902344 \"/>\n",
       "<path style=\"fill:none;stroke-width:1;stroke-linecap:butt;stroke-linejoin:miter;stroke:rgb(74.509804%,74.509804%,74.509804%);stroke-opacity:1;stroke-miterlimit:10;\" d=\"M 409.925781 329.035156 L 278.757812 467.304688 \"/>\n",
       "<path style=\"fill:none;stroke-width:1;stroke-linecap:butt;stroke-linejoin:miter;stroke:rgb(74.509804%,74.509804%,74.509804%);stroke-opacity:1;stroke-miterlimit:10;\" d=\"M 409.925781 329.035156 L 290.375 439.902344 \"/>\n",
       "<path style=\"fill:none;stroke-width:1;stroke-linecap:butt;stroke-linejoin:miter;stroke:rgb(74.509804%,74.509804%,74.509804%);stroke-opacity:1;stroke-miterlimit:10;\" d=\"M 278.757812 467.304688 L 290.375 439.902344 \"/>\n",
       "<path style=\"fill-rule:nonzero;fill:rgb(0%,0%,100%);fill-opacity:1;stroke-width:1;stroke-linecap:butt;stroke-linejoin:miter;stroke:rgb(0%,0%,0%);stroke-opacity:1;stroke-miterlimit:10;\" d=\"M 253.953125 173.003906 C 253.953125 178.527344 249.476562 183.003906 243.953125 183.003906 C 238.429688 183.003906 233.953125 178.527344 233.953125 173.003906 C 233.953125 167.480469 238.429688 163.003906 243.953125 163.003906 C 249.476562 163.003906 253.953125 167.480469 253.953125 173.003906 \"/>\n",
       "<path style=\"fill-rule:nonzero;fill:rgb(0%,0%,100%);fill-opacity:1;stroke-width:1;stroke-linecap:butt;stroke-linejoin:miter;stroke:rgb(0%,0%,0%);stroke-opacity:1;stroke-miterlimit:10;\" d=\"M 176.183594 224.988281 C 176.183594 230.511719 171.707031 234.988281 166.183594 234.988281 C 160.660156 234.988281 156.183594 230.511719 156.183594 224.988281 C 156.183594 219.46875 160.660156 214.988281 166.183594 214.988281 C 171.707031 214.988281 176.183594 219.46875 176.183594 224.988281 \"/>\n",
       "<path style=\"fill-rule:nonzero;fill:rgb(0%,0%,100%);fill-opacity:1;stroke-width:1;stroke-linecap:butt;stroke-linejoin:miter;stroke:rgb(0%,0%,0%);stroke-opacity:1;stroke-miterlimit:10;\" d=\"M 227.597656 309.71875 C 227.597656 315.242188 223.117188 319.71875 217.597656 319.71875 C 212.074219 319.71875 207.597656 315.242188 207.597656 309.71875 C 207.597656 304.199219 212.074219 299.71875 217.597656 299.71875 C 223.117188 299.71875 227.597656 304.199219 227.597656 309.71875 \"/>\n",
       "<path style=\"fill-rule:nonzero;fill:rgb(0%,0%,100%);fill-opacity:1;stroke-width:1;stroke-linecap:butt;stroke-linejoin:miter;stroke:rgb(0%,0%,0%);stroke-opacity:1;stroke-miterlimit:10;\" d=\"M 89.515625 235.207031 C 89.515625 240.726562 85.039062 245.207031 79.515625 245.207031 C 73.992188 245.207031 69.515625 240.726562 69.515625 235.207031 C 69.515625 229.683594 73.992188 225.207031 79.515625 225.207031 C 85.039062 225.207031 89.515625 229.683594 89.515625 235.207031 \"/>\n",
       "<path style=\"fill-rule:nonzero;fill:rgb(74.509804%,74.509804%,74.509804%);fill-opacity:1;stroke-width:1;stroke-linecap:butt;stroke-linejoin:miter;stroke:rgb(0%,0%,0%);stroke-opacity:1;stroke-miterlimit:10;\" d=\"M 322.511719 32.328125 C 322.511719 37.847656 318.035156 42.328125 312.511719 42.328125 C 306.988281 42.328125 302.511719 37.847656 302.511719 32.328125 C 302.511719 26.804688 306.988281 22.328125 312.511719 22.328125 C 318.035156 22.328125 322.511719 26.804688 322.511719 32.328125 \"/>\n",
       "<path style=\"fill-rule:nonzero;fill:rgb(74.509804%,74.509804%,74.509804%);fill-opacity:1;stroke-width:1;stroke-linecap:butt;stroke-linejoin:miter;stroke:rgb(0%,0%,0%);stroke-opacity:1;stroke-miterlimit:10;\" d=\"M 449.894531 103.0625 C 449.894531 108.585938 445.417969 113.0625 439.894531 113.0625 C 434.371094 113.0625 429.894531 108.585938 429.894531 103.0625 C 429.894531 97.539062 434.371094 93.0625 439.894531 93.0625 C 445.417969 93.0625 449.894531 97.539062 449.894531 103.0625 \"/>\n",
       "<path style=\"fill-rule:nonzero;fill:rgb(74.509804%,74.509804%,74.509804%);fill-opacity:1;stroke-width:1;stroke-linecap:butt;stroke-linejoin:miter;stroke:rgb(0%,0%,0%);stroke-opacity:1;stroke-miterlimit:10;\" d=\"M 420.863281 51.773438 C 420.863281 57.296875 416.386719 61.773438 410.863281 61.773438 C 405.34375 61.773438 400.863281 57.296875 400.863281 51.773438 C 400.863281 46.25 405.34375 41.773438 410.863281 41.773438 C 416.386719 41.773438 420.863281 46.25 420.863281 51.773438 \"/>\n",
       "<path style=\"fill-rule:nonzero;fill:rgb(74.509804%,74.509804%,74.509804%);fill-opacity:1;stroke-width:1;stroke-linecap:butt;stroke-linejoin:miter;stroke:rgb(0%,0%,0%);stroke-opacity:1;stroke-miterlimit:10;\" d=\"M 125.167969 195.996094 C 125.167969 201.515625 120.691406 205.996094 115.167969 205.996094 C 109.648438 205.996094 105.167969 201.515625 105.167969 195.996094 C 105.167969 190.472656 109.648438 185.996094 115.167969 185.996094 C 120.691406 185.996094 125.167969 190.472656 125.167969 195.996094 \"/>\n",
       "<path style=\"fill-rule:nonzero;fill:rgb(74.509804%,74.509804%,74.509804%);fill-opacity:1;stroke-width:1;stroke-linecap:butt;stroke-linejoin:miter;stroke:rgb(0%,0%,0%);stroke-opacity:1;stroke-miterlimit:10;\" d=\"M 261.976562 347.332031 C 261.976562 352.855469 257.496094 357.332031 251.976562 357.332031 C 246.453125 357.332031 241.976562 352.855469 241.976562 347.332031 C 241.976562 341.808594 246.453125 337.332031 251.976562 337.332031 C 257.496094 337.332031 261.976562 341.808594 261.976562 347.332031 \"/>\n",
       "<path style=\"fill-rule:nonzero;fill:rgb(74.509804%,74.509804%,74.509804%);fill-opacity:1;stroke-width:1;stroke-linecap:butt;stroke-linejoin:miter;stroke:rgb(0%,0%,0%);stroke-opacity:1;stroke-miterlimit:10;\" d=\"M 107.109375 413.257812 C 107.109375 418.78125 102.632812 423.257812 97.109375 423.257812 C 91.585938 423.257812 87.109375 418.78125 87.109375 413.257812 C 87.109375 407.734375 91.585938 403.257812 97.109375 403.257812 C 102.632812 403.257812 107.109375 407.734375 107.109375 413.257812 \"/>\n",
       "<path style=\"fill-rule:nonzero;fill:rgb(74.509804%,74.509804%,74.509804%);fill-opacity:1;stroke-width:1;stroke-linecap:butt;stroke-linejoin:miter;stroke:rgb(0%,0%,0%);stroke-opacity:1;stroke-miterlimit:10;\" d=\"M 357.71875 85.382812 C 357.71875 90.90625 353.242188 95.382812 347.71875 95.382812 C 342.199219 95.382812 337.71875 90.90625 337.71875 85.382812 C 337.71875 79.859375 342.199219 75.382812 347.71875 75.382812 C 353.242188 75.382812 357.71875 79.859375 357.71875 85.382812 \"/>\n",
       "<path style=\"fill-rule:nonzero;fill:rgb(74.509804%,74.509804%,74.509804%);fill-opacity:1;stroke-width:1;stroke-linecap:butt;stroke-linejoin:miter;stroke:rgb(0%,0%,0%);stroke-opacity:1;stroke-miterlimit:10;\" d=\"M 192.925781 20 C 192.925781 25.523438 188.449219 30 182.925781 30 C 177.402344 30 172.925781 25.523438 172.925781 20 C 172.925781 14.476562 177.402344 10 182.925781 10 C 188.449219 10 192.925781 14.476562 192.925781 20 \"/>\n",
       "<path style=\"fill-rule:nonzero;fill:rgb(74.509804%,74.509804%,74.509804%);fill-opacity:1;stroke-width:1;stroke-linecap:butt;stroke-linejoin:miter;stroke:rgb(0%,0%,0%);stroke-opacity:1;stroke-miterlimit:10;\" d=\"M 30 156.15625 C 30 161.679688 25.523438 166.15625 20 166.15625 C 14.476562 166.15625 10 161.679688 10 156.15625 C 10 150.632812 14.476562 146.15625 20 146.15625 C 25.523438 146.15625 30 150.632812 30 156.15625 \"/>\n",
       "<path style=\"fill-rule:nonzero;fill:rgb(74.509804%,74.509804%,74.509804%);fill-opacity:1;stroke-width:1;stroke-linecap:butt;stroke-linejoin:miter;stroke:rgb(0%,0%,0%);stroke-opacity:1;stroke-miterlimit:10;\" d=\"M 161.554688 296.667969 C 161.554688 302.191406 157.078125 306.667969 151.554688 306.667969 C 146.03125 306.667969 141.554688 302.191406 141.554688 296.667969 C 141.554688 291.144531 146.03125 286.667969 151.554688 286.667969 C 157.078125 286.667969 161.554688 291.144531 161.554688 296.667969 \"/>\n",
       "<path style=\"fill-rule:nonzero;fill:rgb(74.509804%,74.509804%,74.509804%);fill-opacity:1;stroke-width:1;stroke-linecap:butt;stroke-linejoin:miter;stroke:rgb(0%,0%,0%);stroke-opacity:1;stroke-miterlimit:10;\" d=\"M 357.828125 560.824219 C 357.828125 566.347656 353.347656 570.824219 347.828125 570.824219 C 342.304688 570.824219 337.828125 566.347656 337.828125 560.824219 C 337.828125 555.300781 342.304688 550.824219 347.828125 550.824219 C 353.347656 550.824219 357.828125 555.300781 357.828125 560.824219 \"/>\n",
       "<path style=\"fill-rule:nonzero;fill:rgb(74.509804%,74.509804%,74.509804%);fill-opacity:1;stroke-width:1;stroke-linecap:butt;stroke-linejoin:miter;stroke:rgb(0%,0%,0%);stroke-opacity:1;stroke-miterlimit:10;\" d=\"M 143.496094 499.222656 C 143.496094 504.746094 139.019531 509.222656 133.496094 509.222656 C 127.972656 509.222656 123.496094 504.746094 123.496094 499.222656 C 123.496094 493.699219 127.972656 489.222656 133.496094 489.222656 C 139.019531 489.222656 143.496094 493.699219 143.496094 499.222656 \"/>\n",
       "<path style=\"fill-rule:nonzero;fill:rgb(74.509804%,74.509804%,74.509804%);fill-opacity:1;stroke-width:1;stroke-linecap:butt;stroke-linejoin:miter;stroke:rgb(0%,0%,0%);stroke-opacity:1;stroke-miterlimit:10;\" d=\"M 553.710938 42.511719 C 553.710938 48.035156 549.234375 52.511719 543.710938 52.511719 C 538.1875 52.511719 533.710938 48.035156 533.710938 42.511719 C 533.710938 36.992188 538.1875 32.511719 543.710938 32.511719 C 549.234375 32.511719 553.710938 36.992188 553.710938 42.511719 \"/>\n",
       "<path style=\"fill-rule:nonzero;fill:rgb(74.509804%,74.509804%,74.509804%);fill-opacity:1;stroke-width:1;stroke-linecap:butt;stroke-linejoin:miter;stroke:rgb(0%,0%,0%);stroke-opacity:1;stroke-miterlimit:10;\" d=\"M 179.234375 101.558594 C 179.234375 107.082031 174.757812 111.558594 169.234375 111.558594 C 163.714844 111.558594 159.234375 107.082031 159.234375 101.558594 C 159.234375 96.035156 163.714844 91.558594 169.234375 91.558594 C 174.757812 91.558594 179.234375 96.035156 179.234375 101.558594 \"/>\n",
       "<path style=\"fill-rule:nonzero;fill:rgb(74.509804%,74.509804%,74.509804%);fill-opacity:1;stroke-width:1;stroke-linecap:butt;stroke-linejoin:miter;stroke:rgb(0%,0%,0%);stroke-opacity:1;stroke-miterlimit:10;\" d=\"M 174.214844 544.449219 C 174.214844 549.972656 169.738281 554.449219 164.214844 554.449219 C 158.691406 554.449219 154.214844 549.972656 154.214844 544.449219 C 154.214844 538.925781 158.691406 534.449219 164.214844 534.449219 C 169.738281 534.449219 174.214844 538.925781 174.214844 544.449219 \"/>\n",
       "<path style=\"fill-rule:nonzero;fill:rgb(74.509804%,74.509804%,74.509804%);fill-opacity:1;stroke-width:1;stroke-linecap:butt;stroke-linejoin:miter;stroke:rgb(0%,0%,0%);stroke-opacity:1;stroke-miterlimit:10;\" d=\"M 303.289062 267.175781 C 303.289062 272.699219 298.8125 277.175781 293.289062 277.175781 C 287.765625 277.175781 283.289062 272.699219 283.289062 267.175781 C 283.289062 261.652344 287.765625 257.175781 293.289062 257.175781 C 298.8125 257.175781 303.289062 261.652344 303.289062 267.175781 \"/>\n",
       "<path style=\"fill-rule:nonzero;fill:rgb(74.509804%,74.509804%,74.509804%);fill-opacity:1;stroke-width:1;stroke-linecap:butt;stroke-linejoin:miter;stroke:rgb(0%,0%,0%);stroke-opacity:1;stroke-miterlimit:10;\" d=\"M 295.027344 580 C 295.027344 585.523438 290.550781 590 285.027344 590 C 279.507812 590 275.027344 585.523438 275.027344 580 C 275.027344 574.476562 279.507812 570 285.027344 570 C 290.550781 570 295.027344 574.476562 295.027344 580 \"/>\n",
       "<path style=\"fill-rule:nonzero;fill:rgb(74.509804%,74.509804%,74.509804%);fill-opacity:1;stroke-width:1;stroke-linecap:butt;stroke-linejoin:miter;stroke:rgb(0%,0%,0%);stroke-opacity:1;stroke-miterlimit:10;\" d=\"M 102.636719 113.039062 C 102.636719 118.5625 98.160156 123.039062 92.636719 123.039062 C 87.113281 123.039062 82.636719 118.5625 82.636719 113.039062 C 82.636719 107.515625 87.113281 103.039062 92.636719 103.039062 C 98.160156 103.039062 102.636719 107.515625 102.636719 113.039062 \"/>\n",
       "<path style=\"fill-rule:nonzero;fill:rgb(74.509804%,74.509804%,74.509804%);fill-opacity:1;stroke-width:1;stroke-linecap:butt;stroke-linejoin:miter;stroke:rgb(0%,0%,0%);stroke-opacity:1;stroke-miterlimit:10;\" d=\"M 233.25 563.792969 C 233.25 569.316406 228.773438 573.792969 223.25 573.792969 C 217.726562 573.792969 213.25 569.316406 213.25 563.792969 C 213.25 558.273438 217.726562 553.792969 223.25 553.792969 C 228.773438 553.792969 233.25 558.273438 233.25 563.792969 \"/>\n",
       "<path style=\"fill-rule:nonzero;fill:rgb(74.509804%,74.509804%,74.509804%);fill-opacity:1;stroke-width:1;stroke-linecap:butt;stroke-linejoin:miter;stroke:rgb(0%,0%,0%);stroke-opacity:1;stroke-miterlimit:10;\" d=\"M 465.511719 451.648438 C 465.511719 457.171875 461.035156 461.648438 455.511719 461.648438 C 449.992188 461.648438 445.511719 457.171875 445.511719 451.648438 C 445.511719 446.128906 449.992188 441.648438 455.511719 441.648438 C 461.035156 441.648438 465.511719 446.128906 465.511719 451.648438 \"/>\n",
       "<path style=\"fill-rule:nonzero;fill:rgb(74.509804%,74.509804%,74.509804%);fill-opacity:1;stroke-width:1;stroke-linecap:butt;stroke-linejoin:miter;stroke:rgb(0%,0%,0%);stroke-opacity:1;stroke-miterlimit:10;\" d=\"M 581.445312 321.46875 C 581.445312 326.992188 576.96875 331.46875 571.445312 331.46875 C 565.921875 331.46875 561.445312 326.992188 561.445312 321.46875 C 561.445312 315.945312 565.921875 311.46875 571.445312 311.46875 C 576.96875 311.46875 581.445312 315.945312 581.445312 321.46875 \"/>\n",
       "<path style=\"fill-rule:nonzero;fill:rgb(74.509804%,74.509804%,74.509804%);fill-opacity:1;stroke-width:1;stroke-linecap:butt;stroke-linejoin:miter;stroke:rgb(0%,0%,0%);stroke-opacity:1;stroke-miterlimit:10;\" d=\"M 590 386.101562 C 590 391.621094 585.523438 396.101562 580 396.101562 C 574.476562 396.101562 570 391.621094 570 386.101562 C 570 380.578125 574.476562 376.101562 580 376.101562 C 585.523438 376.101562 590 380.578125 590 386.101562 \"/>\n",
       "<path style=\"fill-rule:nonzero;fill:rgb(74.509804%,74.509804%,74.509804%);fill-opacity:1;stroke-width:1;stroke-linecap:butt;stroke-linejoin:miter;stroke:rgb(0%,0%,0%);stroke-opacity:1;stroke-miterlimit:10;\" d=\"M 473.574219 553.773438 C 473.574219 559.296875 469.097656 563.773438 463.574219 563.773438 C 458.050781 563.773438 453.574219 559.296875 453.574219 553.773438 C 453.574219 548.25 458.050781 543.773438 463.574219 543.773438 C 469.097656 543.773438 473.574219 548.25 473.574219 553.773438 \"/>\n",
       "<path style=\"fill-rule:nonzero;fill:rgb(74.509804%,74.509804%,74.509804%);fill-opacity:1;stroke-width:1;stroke-linecap:butt;stroke-linejoin:miter;stroke:rgb(0%,0%,0%);stroke-opacity:1;stroke-miterlimit:10;\" d=\"M 441.488281 374.773438 C 441.488281 380.296875 437.011719 384.773438 431.488281 384.773438 C 425.96875 384.773438 421.488281 380.296875 421.488281 374.773438 C 421.488281 369.25 425.96875 364.773438 431.488281 364.773438 C 437.011719 364.773438 441.488281 369.25 441.488281 374.773438 \"/>\n",
       "<path style=\"fill-rule:nonzero;fill:rgb(74.509804%,74.509804%,74.509804%);fill-opacity:1;stroke-width:1;stroke-linecap:butt;stroke-linejoin:miter;stroke:rgb(0%,0%,0%);stroke-opacity:1;stroke-miterlimit:10;\" d=\"M 353.558594 359.785156 C 353.558594 365.308594 349.082031 369.785156 343.558594 369.785156 C 338.035156 369.785156 333.558594 365.308594 333.558594 359.785156 C 333.558594 354.261719 338.035156 349.785156 343.558594 349.785156 C 349.082031 349.785156 353.558594 354.261719 353.558594 359.785156 \"/>\n",
       "<path style=\"fill-rule:nonzero;fill:rgb(74.509804%,74.509804%,74.509804%);fill-opacity:1;stroke-width:1;stroke-linecap:butt;stroke-linejoin:miter;stroke:rgb(0%,0%,0%);stroke-opacity:1;stroke-miterlimit:10;\" d=\"M 419.9375 511.394531 C 419.9375 516.914062 415.460938 521.394531 409.9375 521.394531 C 404.414062 521.394531 399.9375 516.914062 399.9375 511.394531 C 399.9375 505.871094 404.414062 501.394531 409.9375 501.394531 C 415.460938 501.394531 419.9375 505.871094 419.9375 511.394531 \"/>\n",
       "<path style=\"fill-rule:nonzero;fill:rgb(74.509804%,74.509804%,74.509804%);fill-opacity:1;stroke-width:1;stroke-linecap:butt;stroke-linejoin:miter;stroke:rgb(0%,0%,0%);stroke-opacity:1;stroke-miterlimit:10;\" d=\"M 183.960938 382.304688 C 183.960938 387.828125 179.484375 392.304688 173.960938 392.304688 C 168.4375 392.304688 163.960938 387.828125 163.960938 382.304688 C 163.960938 376.78125 168.4375 372.304688 173.960938 372.304688 C 179.484375 372.304688 183.960938 376.78125 183.960938 382.304688 \"/>\n",
       "<path style=\"fill-rule:nonzero;fill:rgb(74.509804%,74.509804%,74.509804%);fill-opacity:1;stroke-width:1;stroke-linecap:butt;stroke-linejoin:miter;stroke:rgb(0%,0%,0%);stroke-opacity:1;stroke-miterlimit:10;\" d=\"M 419.925781 329.035156 C 419.925781 334.558594 415.449219 339.035156 409.925781 339.035156 C 404.402344 339.035156 399.925781 334.558594 399.925781 329.035156 C 399.925781 323.511719 404.402344 319.035156 409.925781 319.035156 C 415.449219 319.035156 419.925781 323.511719 419.925781 329.035156 \"/>\n",
       "<path style=\"fill-rule:nonzero;fill:rgb(74.509804%,74.509804%,74.509804%);fill-opacity:1;stroke-width:1;stroke-linecap:butt;stroke-linejoin:miter;stroke:rgb(0%,0%,0%);stroke-opacity:1;stroke-miterlimit:10;\" d=\"M 288.757812 467.304688 C 288.757812 472.828125 284.28125 477.304688 278.757812 477.304688 C 273.238281 477.304688 268.757812 472.828125 268.757812 467.304688 C 268.757812 461.78125 273.238281 457.304688 278.757812 457.304688 C 284.28125 457.304688 288.757812 461.78125 288.757812 467.304688 \"/>\n",
       "<path style=\"fill-rule:nonzero;fill:rgb(74.509804%,74.509804%,74.509804%);fill-opacity:1;stroke-width:1;stroke-linecap:butt;stroke-linejoin:miter;stroke:rgb(0%,0%,0%);stroke-opacity:1;stroke-miterlimit:10;\" d=\"M 300.375 439.902344 C 300.375 445.425781 295.898438 449.902344 290.375 449.902344 C 284.851562 449.902344 280.375 445.425781 280.375 439.902344 C 280.375 434.378906 284.851562 429.902344 290.375 429.902344 C 295.898438 429.902344 300.375 434.378906 300.375 439.902344 \"/>\n",
       "</g>\n",
       "</svg>\n"
      ],
      "text/plain": [
       "<igraph.drawing.Plot at 0x1a1ea470f0>"
      ]
     },
     "execution_count": 10,
     "metadata": {},
     "output_type": "execute_result"
    }
   ],
   "source": [
    "vs = G.vs[[0, 1, 2, 3]]\n",
    "es = G.es.select(_within=vs)\n",
    "vs['color'] = 'blue'\n",
    "es['color'] = 'blue'\n",
    "ig.plot(G)"
   ]
  },
  {
   "cell_type": "markdown",
   "metadata": {},
   "source": [
    "The nodes that are linked to another node are called the *neighbors* of a node. The number of neighbors is called the *degree* of a node."
   ]
  },
  {
   "cell_type": "code",
   "execution_count": 11,
   "metadata": {
    "ExecuteTime": {
     "end_time": "2019-06-25T21:28:41.543646Z",
     "start_time": "2019-06-25T21:28:41.536935Z"
    }
   },
   "outputs": [
    {
     "name": "stdout",
     "output_type": "stream",
     "text": [
      "[0, 6, 10] 3\n"
     ]
    }
   ],
   "source": [
    "neighbors = G.neighbors(4)\n",
    "print(neighbors, G.degree(4))"
   ]
  },
  {
   "cell_type": "markdown",
   "metadata": {},
   "source": [
    "## Paths"
   ]
  },
  {
   "cell_type": "markdown",
   "metadata": {},
   "source": [
    "One of the most basic operations on any network is finding a *path* from one node to another node, not unlike finding a route from one city to another using some navigational software."
   ]
  },
  {
   "cell_type": "code",
   "execution_count": 12,
   "metadata": {
    "ExecuteTime": {
     "end_time": "2019-06-25T21:28:43.063184Z",
     "start_time": "2019-06-25T21:28:43.057343Z"
    }
   },
   "outputs": [
    {
     "data": {
      "text/plain": [
       "[[39, 4, 1, 28, 48]]"
      ]
     },
     "execution_count": 12,
     "metadata": {},
     "output_type": "execute_result"
    }
   ],
   "source": [
    "edge_paths = G.get_shortest_paths(v=16, to=15, output='epath')\n",
    "edge_paths"
   ]
  },
  {
   "cell_type": "markdown",
   "metadata": {},
   "source": [
    "This retrieves a shortest path between node `16` and node `15`. It returns the *indices* of the edges because we set `output='epath'`. In this case there is only one path of 5 edges long. We can also get the endpoints of those edges, so that the path becomes a bit more clear."
   ]
  },
  {
   "cell_type": "code",
   "execution_count": 13,
   "metadata": {
    "ExecuteTime": {
     "end_time": "2019-06-25T21:28:43.860631Z",
     "start_time": "2019-06-25T21:28:43.852326Z"
    }
   },
   "outputs": [
    {
     "data": {
      "text/plain": [
       "[(5, 16), (0, 5), (0, 2), (2, 32), (15, 32)]"
      ]
     },
     "execution_count": 13,
     "metadata": {},
     "output_type": "execute_result"
    }
   ],
   "source": [
    "edge_path = G.es[edge_paths[0]];\n",
    "[(edge.source, edge.target) for edge in edge_path]"
   ]
  },
  {
   "cell_type": "markdown",
   "metadata": {},
   "source": [
    "We can also get the same path in terms of vertices"
   ]
  },
  {
   "cell_type": "code",
   "execution_count": 14,
   "metadata": {
    "ExecuteTime": {
     "end_time": "2019-06-25T21:28:45.024242Z",
     "start_time": "2019-06-25T21:28:45.016290Z"
    }
   },
   "outputs": [
    {
     "data": {
      "text/plain": [
       "[16, 5, 0, 2, 32, 15]"
      ]
     },
     "execution_count": 14,
     "metadata": {},
     "output_type": "execute_result"
    }
   ],
   "source": [
    "vertex_path = G.vs[G.get_shortest_paths(v=16, to=15, output='vpath')[0]]\n",
    "[v.index for v in vertex_path]"
   ]
  },
  {
   "cell_type": "markdown",
   "metadata": {},
   "source": [
    "We can visualize this path as follows."
   ]
  },
  {
   "cell_type": "code",
   "execution_count": 15,
   "metadata": {
    "ExecuteTime": {
     "end_time": "2019-06-25T21:28:45.616502Z",
     "start_time": "2019-06-25T21:28:45.603523Z"
    }
   },
   "outputs": [
    {
     "data": {
      "image/svg+xml": [
       "<?xml version=\"1.0\" encoding=\"UTF-8\"?>\n",
       "<svg xmlns=\"http://www.w3.org/2000/svg\" xmlns:xlink=\"http://www.w3.org/1999/xlink\" width=\"600pt\" height=\"600pt\" viewBox=\"0 0 600 600\" version=\"1.1\">\n",
       "<g id=\"surface14\">\n",
       "<rect x=\"0\" y=\"0\" width=\"600\" height=\"600\" style=\"fill:rgb(100%,100%,100%);fill-opacity:1;stroke:none;\"/>\n",
       "<path style=\"fill:none;stroke-width:0.5;stroke-linecap:butt;stroke-linejoin:miter;stroke:rgb(74.509804%,74.509804%,74.509804%);stroke-opacity:1;stroke-miterlimit:10;\" d=\"M 243.953125 173.003906 L 166.183594 224.988281 \"/>\n",
       "<path style=\"fill:none;stroke-width:2;stroke-linecap:butt;stroke-linejoin:miter;stroke:rgb(100%,0%,0%);stroke-opacity:1;stroke-miterlimit:10;\" d=\"M 243.953125 173.003906 L 217.597656 309.71875 \"/>\n",
       "<path style=\"fill:none;stroke-width:0.5;stroke-linecap:butt;stroke-linejoin:miter;stroke:rgb(74.509804%,74.509804%,74.509804%);stroke-opacity:1;stroke-miterlimit:10;\" d=\"M 243.953125 173.003906 L 79.515625 235.207031 \"/>\n",
       "<path style=\"fill:none;stroke-width:0.5;stroke-linecap:butt;stroke-linejoin:miter;stroke:rgb(74.509804%,74.509804%,74.509804%);stroke-opacity:1;stroke-miterlimit:10;\" d=\"M 243.953125 173.003906 L 312.511719 32.328125 \"/>\n",
       "<path style=\"fill:none;stroke-width:2;stroke-linecap:butt;stroke-linejoin:miter;stroke:rgb(100%,0%,0%);stroke-opacity:1;stroke-miterlimit:10;\" d=\"M 243.953125 173.003906 L 439.894531 103.0625 \"/>\n",
       "<path style=\"fill:none;stroke-width:0.5;stroke-linecap:butt;stroke-linejoin:miter;stroke:rgb(74.509804%,74.509804%,74.509804%);stroke-opacity:1;stroke-miterlimit:10;\" d=\"M 243.953125 173.003906 L 410.863281 51.773438 \"/>\n",
       "<path style=\"fill:none;stroke-width:0.5;stroke-linecap:butt;stroke-linejoin:miter;stroke:rgb(74.509804%,74.509804%,74.509804%);stroke-opacity:1;stroke-miterlimit:10;\" d=\"M 243.953125 173.003906 L 115.167969 195.996094 \"/>\n",
       "<path style=\"fill:none;stroke-width:0.5;stroke-linecap:butt;stroke-linejoin:miter;stroke:rgb(74.509804%,74.509804%,74.509804%);stroke-opacity:1;stroke-miterlimit:10;\" d=\"M 243.953125 173.003906 L 251.976562 347.332031 \"/>\n",
       "<path style=\"fill:none;stroke-width:0.5;stroke-linecap:butt;stroke-linejoin:miter;stroke:rgb(74.509804%,74.509804%,74.509804%);stroke-opacity:1;stroke-miterlimit:10;\" d=\"M 243.953125 173.003906 L 347.71875 85.382812 \"/>\n",
       "<path style=\"fill:none;stroke-width:0.5;stroke-linecap:butt;stroke-linejoin:miter;stroke:rgb(74.509804%,74.509804%,74.509804%);stroke-opacity:1;stroke-miterlimit:10;\" d=\"M 243.953125 173.003906 L 182.925781 20 \"/>\n",
       "<path style=\"fill:none;stroke-width:0.5;stroke-linecap:butt;stroke-linejoin:miter;stroke:rgb(74.509804%,74.509804%,74.509804%);stroke-opacity:1;stroke-miterlimit:10;\" d=\"M 243.953125 173.003906 L 20 156.15625 \"/>\n",
       "<path style=\"fill:none;stroke-width:0.5;stroke-linecap:butt;stroke-linejoin:miter;stroke:rgb(74.509804%,74.509804%,74.509804%);stroke-opacity:1;stroke-miterlimit:10;\" d=\"M 243.953125 173.003906 L 151.554688 296.667969 \"/>\n",
       "<path style=\"fill:none;stroke-width:0.5;stroke-linecap:butt;stroke-linejoin:miter;stroke:rgb(74.509804%,74.509804%,74.509804%);stroke-opacity:1;stroke-miterlimit:10;\" d=\"M 243.953125 173.003906 L 169.234375 101.558594 \"/>\n",
       "<path style=\"fill:none;stroke-width:0.5;stroke-linecap:butt;stroke-linejoin:miter;stroke:rgb(74.509804%,74.509804%,74.509804%);stroke-opacity:1;stroke-miterlimit:10;\" d=\"M 243.953125 173.003906 L 293.289062 267.175781 \"/>\n",
       "<path style=\"fill:none;stroke-width:0.5;stroke-linecap:butt;stroke-linejoin:miter;stroke:rgb(74.509804%,74.509804%,74.509804%);stroke-opacity:1;stroke-miterlimit:10;\" d=\"M 243.953125 173.003906 L 92.636719 113.039062 \"/>\n",
       "<path style=\"fill:none;stroke-width:0.5;stroke-linecap:butt;stroke-linejoin:miter;stroke:rgb(74.509804%,74.509804%,74.509804%);stroke-opacity:1;stroke-miterlimit:10;\" d=\"M 243.953125 173.003906 L 409.925781 329.035156 \"/>\n",
       "<path style=\"fill:none;stroke-width:0.5;stroke-linecap:butt;stroke-linejoin:miter;stroke:rgb(74.509804%,74.509804%,74.509804%);stroke-opacity:1;stroke-miterlimit:10;\" d=\"M 166.183594 224.988281 L 217.597656 309.71875 \"/>\n",
       "<path style=\"fill:none;stroke-width:0.5;stroke-linecap:butt;stroke-linejoin:miter;stroke:rgb(74.509804%,74.509804%,74.509804%);stroke-opacity:1;stroke-miterlimit:10;\" d=\"M 166.183594 224.988281 L 79.515625 235.207031 \"/>\n",
       "<path style=\"fill:none;stroke-width:0.5;stroke-linecap:butt;stroke-linejoin:miter;stroke:rgb(74.509804%,74.509804%,74.509804%);stroke-opacity:1;stroke-miterlimit:10;\" d=\"M 166.183594 224.988281 L 115.167969 195.996094 \"/>\n",
       "<path style=\"fill:none;stroke-width:0.5;stroke-linecap:butt;stroke-linejoin:miter;stroke:rgb(74.509804%,74.509804%,74.509804%);stroke-opacity:1;stroke-miterlimit:10;\" d=\"M 166.183594 224.988281 L 151.554688 296.667969 \"/>\n",
       "<path style=\"fill:none;stroke-width:0.5;stroke-linecap:butt;stroke-linejoin:miter;stroke:rgb(74.509804%,74.509804%,74.509804%);stroke-opacity:1;stroke-miterlimit:10;\" d=\"M 166.183594 224.988281 L 169.234375 101.558594 \"/>\n",
       "<path style=\"fill:none;stroke-width:0.5;stroke-linecap:butt;stroke-linejoin:miter;stroke:rgb(74.509804%,74.509804%,74.509804%);stroke-opacity:1;stroke-miterlimit:10;\" d=\"M 166.183594 224.988281 L 293.289062 267.175781 \"/>\n",
       "<path style=\"fill:none;stroke-width:0.5;stroke-linecap:butt;stroke-linejoin:miter;stroke:rgb(74.509804%,74.509804%,74.509804%);stroke-opacity:1;stroke-miterlimit:10;\" d=\"M 166.183594 224.988281 L 92.636719 113.039062 \"/>\n",
       "<path style=\"fill:none;stroke-width:0.5;stroke-linecap:butt;stroke-linejoin:miter;stroke:rgb(74.509804%,74.509804%,74.509804%);stroke-opacity:1;stroke-miterlimit:10;\" d=\"M 166.183594 224.988281 L 173.960938 382.304688 \"/>\n",
       "<path style=\"fill:none;stroke-width:0.5;stroke-linecap:butt;stroke-linejoin:miter;stroke:rgb(74.509804%,74.509804%,74.509804%);stroke-opacity:1;stroke-miterlimit:10;\" d=\"M 217.597656 309.71875 L 79.515625 235.207031 \"/>\n",
       "<path style=\"fill:none;stroke-width:0.5;stroke-linecap:butt;stroke-linejoin:miter;stroke:rgb(74.509804%,74.509804%,74.509804%);stroke-opacity:1;stroke-miterlimit:10;\" d=\"M 217.597656 309.71875 L 115.167969 195.996094 \"/>\n",
       "<path style=\"fill:none;stroke-width:0.5;stroke-linecap:butt;stroke-linejoin:miter;stroke:rgb(74.509804%,74.509804%,74.509804%);stroke-opacity:1;stroke-miterlimit:10;\" d=\"M 217.597656 309.71875 L 431.488281 374.773438 \"/>\n",
       "<path style=\"fill:none;stroke-width:0.5;stroke-linecap:butt;stroke-linejoin:miter;stroke:rgb(74.509804%,74.509804%,74.509804%);stroke-opacity:1;stroke-miterlimit:10;\" d=\"M 217.597656 309.71875 L 343.558594 359.785156 \"/>\n",
       "<path style=\"fill:none;stroke-width:2;stroke-linecap:butt;stroke-linejoin:miter;stroke:rgb(100%,0%,0%);stroke-opacity:1;stroke-miterlimit:10;\" d=\"M 217.597656 309.71875 L 278.757812 467.304688 \"/>\n",
       "<path style=\"fill:none;stroke-width:0.5;stroke-linecap:butt;stroke-linejoin:miter;stroke:rgb(74.509804%,74.509804%,74.509804%);stroke-opacity:1;stroke-miterlimit:10;\" d=\"M 217.597656 309.71875 L 97.109375 413.257812 \"/>\n",
       "<path style=\"fill:none;stroke-width:0.5;stroke-linecap:butt;stroke-linejoin:miter;stroke:rgb(74.509804%,74.509804%,74.509804%);stroke-opacity:1;stroke-miterlimit:10;\" d=\"M 217.597656 309.71875 L 251.976562 347.332031 \"/>\n",
       "<path style=\"fill:none;stroke-width:0.5;stroke-linecap:butt;stroke-linejoin:miter;stroke:rgb(74.509804%,74.509804%,74.509804%);stroke-opacity:1;stroke-miterlimit:10;\" d=\"M 217.597656 309.71875 L 151.554688 296.667969 \"/>\n",
       "<path style=\"fill:none;stroke-width:0.5;stroke-linecap:butt;stroke-linejoin:miter;stroke:rgb(74.509804%,74.509804%,74.509804%);stroke-opacity:1;stroke-miterlimit:10;\" d=\"M 79.515625 235.207031 L 115.167969 195.996094 \"/>\n",
       "<path style=\"fill:none;stroke-width:0.5;stroke-linecap:butt;stroke-linejoin:miter;stroke:rgb(74.509804%,74.509804%,74.509804%);stroke-opacity:1;stroke-miterlimit:10;\" d=\"M 79.515625 235.207031 L 20 156.15625 \"/>\n",
       "<path style=\"fill:none;stroke-width:0.5;stroke-linecap:butt;stroke-linejoin:miter;stroke:rgb(74.509804%,74.509804%,74.509804%);stroke-opacity:1;stroke-miterlimit:10;\" d=\"M 79.515625 235.207031 L 151.554688 296.667969 \"/>\n",
       "<path style=\"fill:none;stroke-width:0.5;stroke-linecap:butt;stroke-linejoin:miter;stroke:rgb(74.509804%,74.509804%,74.509804%);stroke-opacity:1;stroke-miterlimit:10;\" d=\"M 312.511719 32.328125 L 410.863281 51.773438 \"/>\n",
       "<path style=\"fill:none;stroke-width:0.5;stroke-linecap:butt;stroke-linejoin:miter;stroke:rgb(74.509804%,74.509804%,74.509804%);stroke-opacity:1;stroke-miterlimit:10;\" d=\"M 312.511719 32.328125 L 347.71875 85.382812 \"/>\n",
       "<path style=\"fill:none;stroke-width:0.5;stroke-linecap:butt;stroke-linejoin:miter;stroke:rgb(74.509804%,74.509804%,74.509804%);stroke-opacity:1;stroke-miterlimit:10;\" d=\"M 439.894531 103.0625 L 410.863281 51.773438 \"/>\n",
       "<path style=\"fill:none;stroke-width:0.5;stroke-linecap:butt;stroke-linejoin:miter;stroke:rgb(74.509804%,74.509804%,74.509804%);stroke-opacity:1;stroke-miterlimit:10;\" d=\"M 439.894531 103.0625 L 347.71875 85.382812 \"/>\n",
       "<path style=\"fill:none;stroke-width:2;stroke-linecap:butt;stroke-linejoin:miter;stroke:rgb(100%,0%,0%);stroke-opacity:1;stroke-miterlimit:10;\" d=\"M 439.894531 103.0625 L 543.710938 42.511719 \"/>\n",
       "<path style=\"fill:none;stroke-width:0.5;stroke-linecap:butt;stroke-linejoin:miter;stroke:rgb(74.509804%,74.509804%,74.509804%);stroke-opacity:1;stroke-miterlimit:10;\" d=\"M 410.863281 51.773438 L 543.710938 42.511719 \"/>\n",
       "<path style=\"fill:none;stroke-width:0.5;stroke-linecap:butt;stroke-linejoin:miter;stroke:rgb(74.509804%,74.509804%,74.509804%);stroke-opacity:1;stroke-miterlimit:10;\" d=\"M 251.976562 347.332031 L 173.960938 382.304688 \"/>\n",
       "<path style=\"fill:none;stroke-width:0.5;stroke-linecap:butt;stroke-linejoin:miter;stroke:rgb(74.509804%,74.509804%,74.509804%);stroke-opacity:1;stroke-miterlimit:10;\" d=\"M 251.976562 347.332031 L 278.757812 467.304688 \"/>\n",
       "<path style=\"fill:none;stroke-width:0.5;stroke-linecap:butt;stroke-linejoin:miter;stroke:rgb(74.509804%,74.509804%,74.509804%);stroke-opacity:1;stroke-miterlimit:10;\" d=\"M 251.976562 347.332031 L 290.375 439.902344 \"/>\n",
       "<path style=\"fill:none;stroke-width:0.5;stroke-linecap:butt;stroke-linejoin:miter;stroke:rgb(74.509804%,74.509804%,74.509804%);stroke-opacity:1;stroke-miterlimit:10;\" d=\"M 97.109375 413.257812 L 290.375 439.902344 \"/>\n",
       "<path style=\"fill:none;stroke-width:0.5;stroke-linecap:butt;stroke-linejoin:miter;stroke:rgb(74.509804%,74.509804%,74.509804%);stroke-opacity:1;stroke-miterlimit:10;\" d=\"M 151.554688 296.667969 L 290.375 439.902344 \"/>\n",
       "<path style=\"fill:none;stroke-width:0.5;stroke-linecap:butt;stroke-linejoin:miter;stroke:rgb(74.509804%,74.509804%,74.509804%);stroke-opacity:1;stroke-miterlimit:10;\" d=\"M 347.828125 560.824219 L 278.757812 467.304688 \"/>\n",
       "<path style=\"fill:none;stroke-width:0.5;stroke-linecap:butt;stroke-linejoin:miter;stroke:rgb(74.509804%,74.509804%,74.509804%);stroke-opacity:1;stroke-miterlimit:10;\" d=\"M 347.828125 560.824219 L 290.375 439.902344 \"/>\n",
       "<path style=\"fill:none;stroke-width:2;stroke-linecap:butt;stroke-linejoin:miter;stroke:rgb(100%,0%,0%);stroke-opacity:1;stroke-miterlimit:10;\" d=\"M 133.496094 499.222656 L 278.757812 467.304688 \"/>\n",
       "<path style=\"fill:none;stroke-width:0.5;stroke-linecap:butt;stroke-linejoin:miter;stroke:rgb(74.509804%,74.509804%,74.509804%);stroke-opacity:1;stroke-miterlimit:10;\" d=\"M 133.496094 499.222656 L 290.375 439.902344 \"/>\n",
       "<path style=\"fill:none;stroke-width:0.5;stroke-linecap:butt;stroke-linejoin:miter;stroke:rgb(74.509804%,74.509804%,74.509804%);stroke-opacity:1;stroke-miterlimit:10;\" d=\"M 164.214844 544.449219 L 278.757812 467.304688 \"/>\n",
       "<path style=\"fill:none;stroke-width:0.5;stroke-linecap:butt;stroke-linejoin:miter;stroke:rgb(74.509804%,74.509804%,74.509804%);stroke-opacity:1;stroke-miterlimit:10;\" d=\"M 164.214844 544.449219 L 290.375 439.902344 \"/>\n",
       "<path style=\"fill:none;stroke-width:0.5;stroke-linecap:butt;stroke-linejoin:miter;stroke:rgb(74.509804%,74.509804%,74.509804%);stroke-opacity:1;stroke-miterlimit:10;\" d=\"M 293.289062 267.175781 L 290.375 439.902344 \"/>\n",
       "<path style=\"fill:none;stroke-width:0.5;stroke-linecap:butt;stroke-linejoin:miter;stroke:rgb(74.509804%,74.509804%,74.509804%);stroke-opacity:1;stroke-miterlimit:10;\" d=\"M 285.027344 580 L 278.757812 467.304688 \"/>\n",
       "<path style=\"fill:none;stroke-width:0.5;stroke-linecap:butt;stroke-linejoin:miter;stroke:rgb(74.509804%,74.509804%,74.509804%);stroke-opacity:1;stroke-miterlimit:10;\" d=\"M 285.027344 580 L 290.375 439.902344 \"/>\n",
       "<path style=\"fill:none;stroke-width:0.5;stroke-linecap:butt;stroke-linejoin:miter;stroke:rgb(74.509804%,74.509804%,74.509804%);stroke-opacity:1;stroke-miterlimit:10;\" d=\"M 223.25 563.792969 L 278.757812 467.304688 \"/>\n",
       "<path style=\"fill:none;stroke-width:0.5;stroke-linecap:butt;stroke-linejoin:miter;stroke:rgb(74.509804%,74.509804%,74.509804%);stroke-opacity:1;stroke-miterlimit:10;\" d=\"M 223.25 563.792969 L 290.375 439.902344 \"/>\n",
       "<path style=\"fill:none;stroke-width:0.5;stroke-linecap:butt;stroke-linejoin:miter;stroke:rgb(74.509804%,74.509804%,74.509804%);stroke-opacity:1;stroke-miterlimit:10;\" d=\"M 455.511719 451.648438 L 580 386.101562 \"/>\n",
       "<path style=\"fill:none;stroke-width:0.5;stroke-linecap:butt;stroke-linejoin:miter;stroke:rgb(74.509804%,74.509804%,74.509804%);stroke-opacity:1;stroke-miterlimit:10;\" d=\"M 455.511719 451.648438 L 431.488281 374.773438 \"/>\n",
       "<path style=\"fill:none;stroke-width:0.5;stroke-linecap:butt;stroke-linejoin:miter;stroke:rgb(74.509804%,74.509804%,74.509804%);stroke-opacity:1;stroke-miterlimit:10;\" d=\"M 455.511719 451.648438 L 278.757812 467.304688 \"/>\n",
       "<path style=\"fill:none;stroke-width:0.5;stroke-linecap:butt;stroke-linejoin:miter;stroke:rgb(74.509804%,74.509804%,74.509804%);stroke-opacity:1;stroke-miterlimit:10;\" d=\"M 455.511719 451.648438 L 290.375 439.902344 \"/>\n",
       "<path style=\"fill:none;stroke-width:0.5;stroke-linecap:butt;stroke-linejoin:miter;stroke:rgb(74.509804%,74.509804%,74.509804%);stroke-opacity:1;stroke-miterlimit:10;\" d=\"M 455.511719 451.648438 L 409.9375 511.394531 \"/>\n",
       "<path style=\"fill:none;stroke-width:0.5;stroke-linecap:butt;stroke-linejoin:miter;stroke:rgb(74.509804%,74.509804%,74.509804%);stroke-opacity:1;stroke-miterlimit:10;\" d=\"M 571.445312 321.46875 L 580 386.101562 \"/>\n",
       "<path style=\"fill:none;stroke-width:0.5;stroke-linecap:butt;stroke-linejoin:miter;stroke:rgb(74.509804%,74.509804%,74.509804%);stroke-opacity:1;stroke-miterlimit:10;\" d=\"M 571.445312 321.46875 L 431.488281 374.773438 \"/>\n",
       "<path style=\"fill:none;stroke-width:0.5;stroke-linecap:butt;stroke-linejoin:miter;stroke:rgb(74.509804%,74.509804%,74.509804%);stroke-opacity:1;stroke-miterlimit:10;\" d=\"M 571.445312 321.46875 L 409.925781 329.035156 \"/>\n",
       "<path style=\"fill:none;stroke-width:0.5;stroke-linecap:butt;stroke-linejoin:miter;stroke:rgb(74.509804%,74.509804%,74.509804%);stroke-opacity:1;stroke-miterlimit:10;\" d=\"M 580 386.101562 L 409.925781 329.035156 \"/>\n",
       "<path style=\"fill:none;stroke-width:0.5;stroke-linecap:butt;stroke-linejoin:miter;stroke:rgb(74.509804%,74.509804%,74.509804%);stroke-opacity:1;stroke-miterlimit:10;\" d=\"M 463.574219 553.773438 L 409.9375 511.394531 \"/>\n",
       "<path style=\"fill:none;stroke-width:0.5;stroke-linecap:butt;stroke-linejoin:miter;stroke:rgb(74.509804%,74.509804%,74.509804%);stroke-opacity:1;stroke-miterlimit:10;\" d=\"M 463.574219 553.773438 L 290.375 439.902344 \"/>\n",
       "<path style=\"fill:none;stroke-width:0.5;stroke-linecap:butt;stroke-linejoin:miter;stroke:rgb(74.509804%,74.509804%,74.509804%);stroke-opacity:1;stroke-miterlimit:10;\" d=\"M 431.488281 374.773438 L 290.375 439.902344 \"/>\n",
       "<path style=\"fill:none;stroke-width:0.5;stroke-linecap:butt;stroke-linejoin:miter;stroke:rgb(74.509804%,74.509804%,74.509804%);stroke-opacity:1;stroke-miterlimit:10;\" d=\"M 343.558594 359.785156 L 409.925781 329.035156 \"/>\n",
       "<path style=\"fill:none;stroke-width:0.5;stroke-linecap:butt;stroke-linejoin:miter;stroke:rgb(74.509804%,74.509804%,74.509804%);stroke-opacity:1;stroke-miterlimit:10;\" d=\"M 343.558594 359.785156 L 290.375 439.902344 \"/>\n",
       "<path style=\"fill:none;stroke-width:0.5;stroke-linecap:butt;stroke-linejoin:miter;stroke:rgb(74.509804%,74.509804%,74.509804%);stroke-opacity:1;stroke-miterlimit:10;\" d=\"M 409.9375 511.394531 L 278.757812 467.304688 \"/>\n",
       "<path style=\"fill:none;stroke-width:0.5;stroke-linecap:butt;stroke-linejoin:miter;stroke:rgb(74.509804%,74.509804%,74.509804%);stroke-opacity:1;stroke-miterlimit:10;\" d=\"M 409.9375 511.394531 L 290.375 439.902344 \"/>\n",
       "<path style=\"fill:none;stroke-width:0.5;stroke-linecap:butt;stroke-linejoin:miter;stroke:rgb(74.509804%,74.509804%,74.509804%);stroke-opacity:1;stroke-miterlimit:10;\" d=\"M 173.960938 382.304688 L 278.757812 467.304688 \"/>\n",
       "<path style=\"fill:none;stroke-width:0.5;stroke-linecap:butt;stroke-linejoin:miter;stroke:rgb(74.509804%,74.509804%,74.509804%);stroke-opacity:1;stroke-miterlimit:10;\" d=\"M 173.960938 382.304688 L 290.375 439.902344 \"/>\n",
       "<path style=\"fill:none;stroke-width:0.5;stroke-linecap:butt;stroke-linejoin:miter;stroke:rgb(74.509804%,74.509804%,74.509804%);stroke-opacity:1;stroke-miterlimit:10;\" d=\"M 409.925781 329.035156 L 278.757812 467.304688 \"/>\n",
       "<path style=\"fill:none;stroke-width:0.5;stroke-linecap:butt;stroke-linejoin:miter;stroke:rgb(74.509804%,74.509804%,74.509804%);stroke-opacity:1;stroke-miterlimit:10;\" d=\"M 409.925781 329.035156 L 290.375 439.902344 \"/>\n",
       "<path style=\"fill:none;stroke-width:0.5;stroke-linecap:butt;stroke-linejoin:miter;stroke:rgb(74.509804%,74.509804%,74.509804%);stroke-opacity:1;stroke-miterlimit:10;\" d=\"M 278.757812 467.304688 L 290.375 439.902344 \"/>\n",
       "<path style=\"fill-rule:nonzero;fill:rgb(100%,0%,0%);fill-opacity:1;stroke-width:1;stroke-linecap:butt;stroke-linejoin:miter;stroke:rgb(0%,0%,0%);stroke-opacity:1;stroke-miterlimit:10;\" d=\"M 253.953125 173.003906 C 253.953125 178.527344 249.476562 183.003906 243.953125 183.003906 C 238.429688 183.003906 233.953125 178.527344 233.953125 173.003906 C 233.953125 167.480469 238.429688 163.003906 243.953125 163.003906 C 249.476562 163.003906 253.953125 167.480469 253.953125 173.003906 \"/>\n",
       "<path style=\"fill-rule:nonzero;fill:rgb(74.509804%,74.509804%,74.509804%);fill-opacity:1;stroke-width:1;stroke-linecap:butt;stroke-linejoin:miter;stroke:rgb(0%,0%,0%);stroke-opacity:1;stroke-miterlimit:10;\" d=\"M 176.183594 224.988281 C 176.183594 230.511719 171.707031 234.988281 166.183594 234.988281 C 160.660156 234.988281 156.183594 230.511719 156.183594 224.988281 C 156.183594 219.46875 160.660156 214.988281 166.183594 214.988281 C 171.707031 214.988281 176.183594 219.46875 176.183594 224.988281 \"/>\n",
       "<path style=\"fill-rule:nonzero;fill:rgb(100%,0%,0%);fill-opacity:1;stroke-width:1;stroke-linecap:butt;stroke-linejoin:miter;stroke:rgb(0%,0%,0%);stroke-opacity:1;stroke-miterlimit:10;\" d=\"M 227.597656 309.71875 C 227.597656 315.242188 223.117188 319.71875 217.597656 319.71875 C 212.074219 319.71875 207.597656 315.242188 207.597656 309.71875 C 207.597656 304.199219 212.074219 299.71875 217.597656 299.71875 C 223.117188 299.71875 227.597656 304.199219 227.597656 309.71875 \"/>\n",
       "<path style=\"fill-rule:nonzero;fill:rgb(74.509804%,74.509804%,74.509804%);fill-opacity:1;stroke-width:1;stroke-linecap:butt;stroke-linejoin:miter;stroke:rgb(0%,0%,0%);stroke-opacity:1;stroke-miterlimit:10;\" d=\"M 89.515625 235.207031 C 89.515625 240.726562 85.039062 245.207031 79.515625 245.207031 C 73.992188 245.207031 69.515625 240.726562 69.515625 235.207031 C 69.515625 229.683594 73.992188 225.207031 79.515625 225.207031 C 85.039062 225.207031 89.515625 229.683594 89.515625 235.207031 \"/>\n",
       "<path style=\"fill-rule:nonzero;fill:rgb(74.509804%,74.509804%,74.509804%);fill-opacity:1;stroke-width:1;stroke-linecap:butt;stroke-linejoin:miter;stroke:rgb(0%,0%,0%);stroke-opacity:1;stroke-miterlimit:10;\" d=\"M 322.511719 32.328125 C 322.511719 37.847656 318.035156 42.328125 312.511719 42.328125 C 306.988281 42.328125 302.511719 37.847656 302.511719 32.328125 C 302.511719 26.804688 306.988281 22.328125 312.511719 22.328125 C 318.035156 22.328125 322.511719 26.804688 322.511719 32.328125 \"/>\n",
       "<path style=\"fill-rule:nonzero;fill:rgb(100%,0%,0%);fill-opacity:1;stroke-width:1;stroke-linecap:butt;stroke-linejoin:miter;stroke:rgb(0%,0%,0%);stroke-opacity:1;stroke-miterlimit:10;\" d=\"M 449.894531 103.0625 C 449.894531 108.585938 445.417969 113.0625 439.894531 113.0625 C 434.371094 113.0625 429.894531 108.585938 429.894531 103.0625 C 429.894531 97.539062 434.371094 93.0625 439.894531 93.0625 C 445.417969 93.0625 449.894531 97.539062 449.894531 103.0625 \"/>\n",
       "<path style=\"fill-rule:nonzero;fill:rgb(74.509804%,74.509804%,74.509804%);fill-opacity:1;stroke-width:1;stroke-linecap:butt;stroke-linejoin:miter;stroke:rgb(0%,0%,0%);stroke-opacity:1;stroke-miterlimit:10;\" d=\"M 420.863281 51.773438 C 420.863281 57.296875 416.386719 61.773438 410.863281 61.773438 C 405.34375 61.773438 400.863281 57.296875 400.863281 51.773438 C 400.863281 46.25 405.34375 41.773438 410.863281 41.773438 C 416.386719 41.773438 420.863281 46.25 420.863281 51.773438 \"/>\n",
       "<path style=\"fill-rule:nonzero;fill:rgb(74.509804%,74.509804%,74.509804%);fill-opacity:1;stroke-width:1;stroke-linecap:butt;stroke-linejoin:miter;stroke:rgb(0%,0%,0%);stroke-opacity:1;stroke-miterlimit:10;\" d=\"M 125.167969 195.996094 C 125.167969 201.515625 120.691406 205.996094 115.167969 205.996094 C 109.648438 205.996094 105.167969 201.515625 105.167969 195.996094 C 105.167969 190.472656 109.648438 185.996094 115.167969 185.996094 C 120.691406 185.996094 125.167969 190.472656 125.167969 195.996094 \"/>\n",
       "<path style=\"fill-rule:nonzero;fill:rgb(74.509804%,74.509804%,74.509804%);fill-opacity:1;stroke-width:1;stroke-linecap:butt;stroke-linejoin:miter;stroke:rgb(0%,0%,0%);stroke-opacity:1;stroke-miterlimit:10;\" d=\"M 261.976562 347.332031 C 261.976562 352.855469 257.496094 357.332031 251.976562 357.332031 C 246.453125 357.332031 241.976562 352.855469 241.976562 347.332031 C 241.976562 341.808594 246.453125 337.332031 251.976562 337.332031 C 257.496094 337.332031 261.976562 341.808594 261.976562 347.332031 \"/>\n",
       "<path style=\"fill-rule:nonzero;fill:rgb(74.509804%,74.509804%,74.509804%);fill-opacity:1;stroke-width:1;stroke-linecap:butt;stroke-linejoin:miter;stroke:rgb(0%,0%,0%);stroke-opacity:1;stroke-miterlimit:10;\" d=\"M 107.109375 413.257812 C 107.109375 418.78125 102.632812 423.257812 97.109375 423.257812 C 91.585938 423.257812 87.109375 418.78125 87.109375 413.257812 C 87.109375 407.734375 91.585938 403.257812 97.109375 403.257812 C 102.632812 403.257812 107.109375 407.734375 107.109375 413.257812 \"/>\n",
       "<path style=\"fill-rule:nonzero;fill:rgb(74.509804%,74.509804%,74.509804%);fill-opacity:1;stroke-width:1;stroke-linecap:butt;stroke-linejoin:miter;stroke:rgb(0%,0%,0%);stroke-opacity:1;stroke-miterlimit:10;\" d=\"M 357.71875 85.382812 C 357.71875 90.90625 353.242188 95.382812 347.71875 95.382812 C 342.199219 95.382812 337.71875 90.90625 337.71875 85.382812 C 337.71875 79.859375 342.199219 75.382812 347.71875 75.382812 C 353.242188 75.382812 357.71875 79.859375 357.71875 85.382812 \"/>\n",
       "<path style=\"fill-rule:nonzero;fill:rgb(74.509804%,74.509804%,74.509804%);fill-opacity:1;stroke-width:1;stroke-linecap:butt;stroke-linejoin:miter;stroke:rgb(0%,0%,0%);stroke-opacity:1;stroke-miterlimit:10;\" d=\"M 192.925781 20 C 192.925781 25.523438 188.449219 30 182.925781 30 C 177.402344 30 172.925781 25.523438 172.925781 20 C 172.925781 14.476562 177.402344 10 182.925781 10 C 188.449219 10 192.925781 14.476562 192.925781 20 \"/>\n",
       "<path style=\"fill-rule:nonzero;fill:rgb(74.509804%,74.509804%,74.509804%);fill-opacity:1;stroke-width:1;stroke-linecap:butt;stroke-linejoin:miter;stroke:rgb(0%,0%,0%);stroke-opacity:1;stroke-miterlimit:10;\" d=\"M 30 156.15625 C 30 161.679688 25.523438 166.15625 20 166.15625 C 14.476562 166.15625 10 161.679688 10 156.15625 C 10 150.632812 14.476562 146.15625 20 146.15625 C 25.523438 146.15625 30 150.632812 30 156.15625 \"/>\n",
       "<path style=\"fill-rule:nonzero;fill:rgb(74.509804%,74.509804%,74.509804%);fill-opacity:1;stroke-width:1;stroke-linecap:butt;stroke-linejoin:miter;stroke:rgb(0%,0%,0%);stroke-opacity:1;stroke-miterlimit:10;\" d=\"M 161.554688 296.667969 C 161.554688 302.191406 157.078125 306.667969 151.554688 306.667969 C 146.03125 306.667969 141.554688 302.191406 141.554688 296.667969 C 141.554688 291.144531 146.03125 286.667969 151.554688 286.667969 C 157.078125 286.667969 161.554688 291.144531 161.554688 296.667969 \"/>\n",
       "<path style=\"fill-rule:nonzero;fill:rgb(74.509804%,74.509804%,74.509804%);fill-opacity:1;stroke-width:1;stroke-linecap:butt;stroke-linejoin:miter;stroke:rgb(0%,0%,0%);stroke-opacity:1;stroke-miterlimit:10;\" d=\"M 357.828125 560.824219 C 357.828125 566.347656 353.347656 570.824219 347.828125 570.824219 C 342.304688 570.824219 337.828125 566.347656 337.828125 560.824219 C 337.828125 555.300781 342.304688 550.824219 347.828125 550.824219 C 353.347656 550.824219 357.828125 555.300781 357.828125 560.824219 \"/>\n",
       "<path style=\"fill-rule:nonzero;fill:rgb(100%,0%,0%);fill-opacity:1;stroke-width:1;stroke-linecap:butt;stroke-linejoin:miter;stroke:rgb(0%,0%,0%);stroke-opacity:1;stroke-miterlimit:10;\" d=\"M 143.496094 499.222656 C 143.496094 504.746094 139.019531 509.222656 133.496094 509.222656 C 127.972656 509.222656 123.496094 504.746094 123.496094 499.222656 C 123.496094 493.699219 127.972656 489.222656 133.496094 489.222656 C 139.019531 489.222656 143.496094 493.699219 143.496094 499.222656 \"/>\n",
       "<path style=\"fill-rule:nonzero;fill:rgb(100%,0%,0%);fill-opacity:1;stroke-width:1;stroke-linecap:butt;stroke-linejoin:miter;stroke:rgb(0%,0%,0%);stroke-opacity:1;stroke-miterlimit:10;\" d=\"M 553.710938 42.511719 C 553.710938 48.035156 549.234375 52.511719 543.710938 52.511719 C 538.1875 52.511719 533.710938 48.035156 533.710938 42.511719 C 533.710938 36.992188 538.1875 32.511719 543.710938 32.511719 C 549.234375 32.511719 553.710938 36.992188 553.710938 42.511719 \"/>\n",
       "<path style=\"fill-rule:nonzero;fill:rgb(74.509804%,74.509804%,74.509804%);fill-opacity:1;stroke-width:1;stroke-linecap:butt;stroke-linejoin:miter;stroke:rgb(0%,0%,0%);stroke-opacity:1;stroke-miterlimit:10;\" d=\"M 179.234375 101.558594 C 179.234375 107.082031 174.757812 111.558594 169.234375 111.558594 C 163.714844 111.558594 159.234375 107.082031 159.234375 101.558594 C 159.234375 96.035156 163.714844 91.558594 169.234375 91.558594 C 174.757812 91.558594 179.234375 96.035156 179.234375 101.558594 \"/>\n",
       "<path style=\"fill-rule:nonzero;fill:rgb(74.509804%,74.509804%,74.509804%);fill-opacity:1;stroke-width:1;stroke-linecap:butt;stroke-linejoin:miter;stroke:rgb(0%,0%,0%);stroke-opacity:1;stroke-miterlimit:10;\" d=\"M 174.214844 544.449219 C 174.214844 549.972656 169.738281 554.449219 164.214844 554.449219 C 158.691406 554.449219 154.214844 549.972656 154.214844 544.449219 C 154.214844 538.925781 158.691406 534.449219 164.214844 534.449219 C 169.738281 534.449219 174.214844 538.925781 174.214844 544.449219 \"/>\n",
       "<path style=\"fill-rule:nonzero;fill:rgb(74.509804%,74.509804%,74.509804%);fill-opacity:1;stroke-width:1;stroke-linecap:butt;stroke-linejoin:miter;stroke:rgb(0%,0%,0%);stroke-opacity:1;stroke-miterlimit:10;\" d=\"M 303.289062 267.175781 C 303.289062 272.699219 298.8125 277.175781 293.289062 277.175781 C 287.765625 277.175781 283.289062 272.699219 283.289062 267.175781 C 283.289062 261.652344 287.765625 257.175781 293.289062 257.175781 C 298.8125 257.175781 303.289062 261.652344 303.289062 267.175781 \"/>\n",
       "<path style=\"fill-rule:nonzero;fill:rgb(74.509804%,74.509804%,74.509804%);fill-opacity:1;stroke-width:1;stroke-linecap:butt;stroke-linejoin:miter;stroke:rgb(0%,0%,0%);stroke-opacity:1;stroke-miterlimit:10;\" d=\"M 295.027344 580 C 295.027344 585.523438 290.550781 590 285.027344 590 C 279.507812 590 275.027344 585.523438 275.027344 580 C 275.027344 574.476562 279.507812 570 285.027344 570 C 290.550781 570 295.027344 574.476562 295.027344 580 \"/>\n",
       "<path style=\"fill-rule:nonzero;fill:rgb(74.509804%,74.509804%,74.509804%);fill-opacity:1;stroke-width:1;stroke-linecap:butt;stroke-linejoin:miter;stroke:rgb(0%,0%,0%);stroke-opacity:1;stroke-miterlimit:10;\" d=\"M 102.636719 113.039062 C 102.636719 118.5625 98.160156 123.039062 92.636719 123.039062 C 87.113281 123.039062 82.636719 118.5625 82.636719 113.039062 C 82.636719 107.515625 87.113281 103.039062 92.636719 103.039062 C 98.160156 103.039062 102.636719 107.515625 102.636719 113.039062 \"/>\n",
       "<path style=\"fill-rule:nonzero;fill:rgb(74.509804%,74.509804%,74.509804%);fill-opacity:1;stroke-width:1;stroke-linecap:butt;stroke-linejoin:miter;stroke:rgb(0%,0%,0%);stroke-opacity:1;stroke-miterlimit:10;\" d=\"M 233.25 563.792969 C 233.25 569.316406 228.773438 573.792969 223.25 573.792969 C 217.726562 573.792969 213.25 569.316406 213.25 563.792969 C 213.25 558.273438 217.726562 553.792969 223.25 553.792969 C 228.773438 553.792969 233.25 558.273438 233.25 563.792969 \"/>\n",
       "<path style=\"fill-rule:nonzero;fill:rgb(74.509804%,74.509804%,74.509804%);fill-opacity:1;stroke-width:1;stroke-linecap:butt;stroke-linejoin:miter;stroke:rgb(0%,0%,0%);stroke-opacity:1;stroke-miterlimit:10;\" d=\"M 465.511719 451.648438 C 465.511719 457.171875 461.035156 461.648438 455.511719 461.648438 C 449.992188 461.648438 445.511719 457.171875 445.511719 451.648438 C 445.511719 446.128906 449.992188 441.648438 455.511719 441.648438 C 461.035156 441.648438 465.511719 446.128906 465.511719 451.648438 \"/>\n",
       "<path style=\"fill-rule:nonzero;fill:rgb(74.509804%,74.509804%,74.509804%);fill-opacity:1;stroke-width:1;stroke-linecap:butt;stroke-linejoin:miter;stroke:rgb(0%,0%,0%);stroke-opacity:1;stroke-miterlimit:10;\" d=\"M 581.445312 321.46875 C 581.445312 326.992188 576.96875 331.46875 571.445312 331.46875 C 565.921875 331.46875 561.445312 326.992188 561.445312 321.46875 C 561.445312 315.945312 565.921875 311.46875 571.445312 311.46875 C 576.96875 311.46875 581.445312 315.945312 581.445312 321.46875 \"/>\n",
       "<path style=\"fill-rule:nonzero;fill:rgb(74.509804%,74.509804%,74.509804%);fill-opacity:1;stroke-width:1;stroke-linecap:butt;stroke-linejoin:miter;stroke:rgb(0%,0%,0%);stroke-opacity:1;stroke-miterlimit:10;\" d=\"M 590 386.101562 C 590 391.621094 585.523438 396.101562 580 396.101562 C 574.476562 396.101562 570 391.621094 570 386.101562 C 570 380.578125 574.476562 376.101562 580 376.101562 C 585.523438 376.101562 590 380.578125 590 386.101562 \"/>\n",
       "<path style=\"fill-rule:nonzero;fill:rgb(74.509804%,74.509804%,74.509804%);fill-opacity:1;stroke-width:1;stroke-linecap:butt;stroke-linejoin:miter;stroke:rgb(0%,0%,0%);stroke-opacity:1;stroke-miterlimit:10;\" d=\"M 473.574219 553.773438 C 473.574219 559.296875 469.097656 563.773438 463.574219 563.773438 C 458.050781 563.773438 453.574219 559.296875 453.574219 553.773438 C 453.574219 548.25 458.050781 543.773438 463.574219 543.773438 C 469.097656 543.773438 473.574219 548.25 473.574219 553.773438 \"/>\n",
       "<path style=\"fill-rule:nonzero;fill:rgb(74.509804%,74.509804%,74.509804%);fill-opacity:1;stroke-width:1;stroke-linecap:butt;stroke-linejoin:miter;stroke:rgb(0%,0%,0%);stroke-opacity:1;stroke-miterlimit:10;\" d=\"M 441.488281 374.773438 C 441.488281 380.296875 437.011719 384.773438 431.488281 384.773438 C 425.96875 384.773438 421.488281 380.296875 421.488281 374.773438 C 421.488281 369.25 425.96875 364.773438 431.488281 364.773438 C 437.011719 364.773438 441.488281 369.25 441.488281 374.773438 \"/>\n",
       "<path style=\"fill-rule:nonzero;fill:rgb(74.509804%,74.509804%,74.509804%);fill-opacity:1;stroke-width:1;stroke-linecap:butt;stroke-linejoin:miter;stroke:rgb(0%,0%,0%);stroke-opacity:1;stroke-miterlimit:10;\" d=\"M 353.558594 359.785156 C 353.558594 365.308594 349.082031 369.785156 343.558594 369.785156 C 338.035156 369.785156 333.558594 365.308594 333.558594 359.785156 C 333.558594 354.261719 338.035156 349.785156 343.558594 349.785156 C 349.082031 349.785156 353.558594 354.261719 353.558594 359.785156 \"/>\n",
       "<path style=\"fill-rule:nonzero;fill:rgb(74.509804%,74.509804%,74.509804%);fill-opacity:1;stroke-width:1;stroke-linecap:butt;stroke-linejoin:miter;stroke:rgb(0%,0%,0%);stroke-opacity:1;stroke-miterlimit:10;\" d=\"M 419.9375 511.394531 C 419.9375 516.914062 415.460938 521.394531 409.9375 521.394531 C 404.414062 521.394531 399.9375 516.914062 399.9375 511.394531 C 399.9375 505.871094 404.414062 501.394531 409.9375 501.394531 C 415.460938 501.394531 419.9375 505.871094 419.9375 511.394531 \"/>\n",
       "<path style=\"fill-rule:nonzero;fill:rgb(74.509804%,74.509804%,74.509804%);fill-opacity:1;stroke-width:1;stroke-linecap:butt;stroke-linejoin:miter;stroke:rgb(0%,0%,0%);stroke-opacity:1;stroke-miterlimit:10;\" d=\"M 183.960938 382.304688 C 183.960938 387.828125 179.484375 392.304688 173.960938 392.304688 C 168.4375 392.304688 163.960938 387.828125 163.960938 382.304688 C 163.960938 376.78125 168.4375 372.304688 173.960938 372.304688 C 179.484375 372.304688 183.960938 376.78125 183.960938 382.304688 \"/>\n",
       "<path style=\"fill-rule:nonzero;fill:rgb(74.509804%,74.509804%,74.509804%);fill-opacity:1;stroke-width:1;stroke-linecap:butt;stroke-linejoin:miter;stroke:rgb(0%,0%,0%);stroke-opacity:1;stroke-miterlimit:10;\" d=\"M 419.925781 329.035156 C 419.925781 334.558594 415.449219 339.035156 409.925781 339.035156 C 404.402344 339.035156 399.925781 334.558594 399.925781 329.035156 C 399.925781 323.511719 404.402344 319.035156 409.925781 319.035156 C 415.449219 319.035156 419.925781 323.511719 419.925781 329.035156 \"/>\n",
       "<path style=\"fill-rule:nonzero;fill:rgb(100%,0%,0%);fill-opacity:1;stroke-width:1;stroke-linecap:butt;stroke-linejoin:miter;stroke:rgb(0%,0%,0%);stroke-opacity:1;stroke-miterlimit:10;\" d=\"M 288.757812 467.304688 C 288.757812 472.828125 284.28125 477.304688 278.757812 477.304688 C 273.238281 477.304688 268.757812 472.828125 268.757812 467.304688 C 268.757812 461.78125 273.238281 457.304688 278.757812 457.304688 C 284.28125 457.304688 288.757812 461.78125 288.757812 467.304688 \"/>\n",
       "<path style=\"fill-rule:nonzero;fill:rgb(74.509804%,74.509804%,74.509804%);fill-opacity:1;stroke-width:1;stroke-linecap:butt;stroke-linejoin:miter;stroke:rgb(0%,0%,0%);stroke-opacity:1;stroke-miterlimit:10;\" d=\"M 300.375 439.902344 C 300.375 445.425781 295.898438 449.902344 290.375 449.902344 C 284.851562 449.902344 280.375 445.425781 280.375 439.902344 C 280.375 434.378906 284.851562 429.902344 290.375 429.902344 C 295.898438 429.902344 300.375 434.378906 300.375 439.902344 \"/>\n",
       "</g>\n",
       "</svg>\n"
      ],
      "text/plain": [
       "<igraph.drawing.Plot at 0x1a1ea47668>"
      ]
     },
     "execution_count": 15,
     "metadata": {},
     "output_type": "execute_result"
    }
   ],
   "source": [
    "G.vs['color'] = 'gray'\n",
    "vertex_path['color'] = 'red'\n",
    "\n",
    "G.es['color'] = 'gray'\n",
    "G.es['width'] = 0.5\n",
    "edge_path['color'] = 'red'\n",
    "edge_path['width'] = 2\n",
    "\n",
    "ig.plot(G)"
   ]
  },
  {
   "cell_type": "markdown",
   "metadata": {},
   "source": [
    "Rather than determining the actual shortest paths, we may also simply be interested in the distance between two nodes."
   ]
  },
  {
   "cell_type": "code",
   "execution_count": 16,
   "metadata": {
    "ExecuteTime": {
     "end_time": "2019-06-25T21:28:46.910513Z",
     "start_time": "2019-06-25T21:28:46.901648Z"
    }
   },
   "outputs": [
    {
     "data": {
      "text/plain": [
       "[[5]]"
      ]
     },
     "execution_count": 16,
     "metadata": {},
     "output_type": "execute_result"
    }
   ],
   "source": [
    "G.shortest_paths(source=16, target=15)"
   ]
  },
  {
   "cell_type": "markdown",
   "metadata": {},
   "source": [
    "This only provides the actual length of the path (5 edges) rather than the actual path. We can also use this function to get the distance of all nodes to all other nodes. This is conveniently represented as a matrix, for which the `numpy` library is especially well suited."
   ]
  },
  {
   "cell_type": "code",
   "execution_count": 17,
   "metadata": {
    "ExecuteTime": {
     "end_time": "2019-06-25T21:28:48.158557Z",
     "start_time": "2019-06-25T21:28:48.149426Z"
    }
   },
   "outputs": [
    {
     "data": {
      "text/plain": [
       "array([[0, 1, 1, ..., 1, 2, 2],\n",
       "       [1, 0, 1, ..., 2, 2, 2],\n",
       "       [1, 1, 0, ..., 2, 1, 2],\n",
       "       ...,\n",
       "       [1, 2, 2, ..., 0, 1, 1],\n",
       "       [2, 2, 1, ..., 1, 0, 1],\n",
       "       [2, 2, 2, ..., 1, 1, 0]])"
      ]
     },
     "execution_count": 17,
     "metadata": {},
     "output_type": "execute_result"
    }
   ],
   "source": [
    "distances = np.array(G.shortest_paths())\n",
    "distances"
   ]
  },
  {
   "cell_type": "markdown",
   "metadata": {},
   "source": [
    "The largest distance from a node to any other node is called the *eccentricity*. If a node has a very high eccentricity, it is a bit peripheral. If a node has a very low eccentricity, it means that it is relatively close to to all other nodes, and that it is in the center of the graph in a certain sense."
   ]
  },
  {
   "cell_type": "code",
   "execution_count": 18,
   "metadata": {
    "ExecuteTime": {
     "end_time": "2019-06-25T21:28:49.472062Z",
     "start_time": "2019-06-25T21:28:49.461223Z"
    }
   },
   "outputs": [
    {
     "data": {
      "image/svg+xml": [
       "<?xml version=\"1.0\" encoding=\"UTF-8\"?>\n",
       "<svg xmlns=\"http://www.w3.org/2000/svg\" xmlns:xlink=\"http://www.w3.org/1999/xlink\" width=\"600pt\" height=\"600pt\" viewBox=\"0 0 600 600\" version=\"1.1\">\n",
       "<g id=\"surface20\">\n",
       "<rect x=\"0\" y=\"0\" width=\"600\" height=\"600\" style=\"fill:rgb(100%,100%,100%);fill-opacity:1;stroke:none;\"/>\n",
       "<path style=\"fill:none;stroke-width:0.5;stroke-linecap:butt;stroke-linejoin:miter;stroke:rgb(74.509804%,74.509804%,74.509804%);stroke-opacity:1;stroke-miterlimit:10;\" d=\"M 243.953125 173.003906 L 166.183594 224.988281 \"/>\n",
       "<path style=\"fill:none;stroke-width:2;stroke-linecap:butt;stroke-linejoin:miter;stroke:rgb(100%,0%,0%);stroke-opacity:1;stroke-miterlimit:10;\" d=\"M 243.953125 173.003906 L 217.597656 309.71875 \"/>\n",
       "<path style=\"fill:none;stroke-width:0.5;stroke-linecap:butt;stroke-linejoin:miter;stroke:rgb(74.509804%,74.509804%,74.509804%);stroke-opacity:1;stroke-miterlimit:10;\" d=\"M 243.953125 173.003906 L 79.515625 235.207031 \"/>\n",
       "<path style=\"fill:none;stroke-width:0.5;stroke-linecap:butt;stroke-linejoin:miter;stroke:rgb(74.509804%,74.509804%,74.509804%);stroke-opacity:1;stroke-miterlimit:10;\" d=\"M 243.953125 173.003906 L 312.511719 32.328125 \"/>\n",
       "<path style=\"fill:none;stroke-width:2;stroke-linecap:butt;stroke-linejoin:miter;stroke:rgb(100%,0%,0%);stroke-opacity:1;stroke-miterlimit:10;\" d=\"M 243.953125 173.003906 L 439.894531 103.0625 \"/>\n",
       "<path style=\"fill:none;stroke-width:0.5;stroke-linecap:butt;stroke-linejoin:miter;stroke:rgb(74.509804%,74.509804%,74.509804%);stroke-opacity:1;stroke-miterlimit:10;\" d=\"M 243.953125 173.003906 L 410.863281 51.773438 \"/>\n",
       "<path style=\"fill:none;stroke-width:0.5;stroke-linecap:butt;stroke-linejoin:miter;stroke:rgb(74.509804%,74.509804%,74.509804%);stroke-opacity:1;stroke-miterlimit:10;\" d=\"M 243.953125 173.003906 L 115.167969 195.996094 \"/>\n",
       "<path style=\"fill:none;stroke-width:0.5;stroke-linecap:butt;stroke-linejoin:miter;stroke:rgb(74.509804%,74.509804%,74.509804%);stroke-opacity:1;stroke-miterlimit:10;\" d=\"M 243.953125 173.003906 L 251.976562 347.332031 \"/>\n",
       "<path style=\"fill:none;stroke-width:0.5;stroke-linecap:butt;stroke-linejoin:miter;stroke:rgb(74.509804%,74.509804%,74.509804%);stroke-opacity:1;stroke-miterlimit:10;\" d=\"M 243.953125 173.003906 L 347.71875 85.382812 \"/>\n",
       "<path style=\"fill:none;stroke-width:0.5;stroke-linecap:butt;stroke-linejoin:miter;stroke:rgb(74.509804%,74.509804%,74.509804%);stroke-opacity:1;stroke-miterlimit:10;\" d=\"M 243.953125 173.003906 L 182.925781 20 \"/>\n",
       "<path style=\"fill:none;stroke-width:0.5;stroke-linecap:butt;stroke-linejoin:miter;stroke:rgb(74.509804%,74.509804%,74.509804%);stroke-opacity:1;stroke-miterlimit:10;\" d=\"M 243.953125 173.003906 L 20 156.15625 \"/>\n",
       "<path style=\"fill:none;stroke-width:0.5;stroke-linecap:butt;stroke-linejoin:miter;stroke:rgb(74.509804%,74.509804%,74.509804%);stroke-opacity:1;stroke-miterlimit:10;\" d=\"M 243.953125 173.003906 L 151.554688 296.667969 \"/>\n",
       "<path style=\"fill:none;stroke-width:0.5;stroke-linecap:butt;stroke-linejoin:miter;stroke:rgb(74.509804%,74.509804%,74.509804%);stroke-opacity:1;stroke-miterlimit:10;\" d=\"M 243.953125 173.003906 L 169.234375 101.558594 \"/>\n",
       "<path style=\"fill:none;stroke-width:0.5;stroke-linecap:butt;stroke-linejoin:miter;stroke:rgb(74.509804%,74.509804%,74.509804%);stroke-opacity:1;stroke-miterlimit:10;\" d=\"M 243.953125 173.003906 L 293.289062 267.175781 \"/>\n",
       "<path style=\"fill:none;stroke-width:0.5;stroke-linecap:butt;stroke-linejoin:miter;stroke:rgb(74.509804%,74.509804%,74.509804%);stroke-opacity:1;stroke-miterlimit:10;\" d=\"M 243.953125 173.003906 L 92.636719 113.039062 \"/>\n",
       "<path style=\"fill:none;stroke-width:0.5;stroke-linecap:butt;stroke-linejoin:miter;stroke:rgb(74.509804%,74.509804%,74.509804%);stroke-opacity:1;stroke-miterlimit:10;\" d=\"M 243.953125 173.003906 L 409.925781 329.035156 \"/>\n",
       "<path style=\"fill:none;stroke-width:0.5;stroke-linecap:butt;stroke-linejoin:miter;stroke:rgb(74.509804%,74.509804%,74.509804%);stroke-opacity:1;stroke-miterlimit:10;\" d=\"M 166.183594 224.988281 L 217.597656 309.71875 \"/>\n",
       "<path style=\"fill:none;stroke-width:0.5;stroke-linecap:butt;stroke-linejoin:miter;stroke:rgb(74.509804%,74.509804%,74.509804%);stroke-opacity:1;stroke-miterlimit:10;\" d=\"M 166.183594 224.988281 L 79.515625 235.207031 \"/>\n",
       "<path style=\"fill:none;stroke-width:0.5;stroke-linecap:butt;stroke-linejoin:miter;stroke:rgb(74.509804%,74.509804%,74.509804%);stroke-opacity:1;stroke-miterlimit:10;\" d=\"M 166.183594 224.988281 L 115.167969 195.996094 \"/>\n",
       "<path style=\"fill:none;stroke-width:0.5;stroke-linecap:butt;stroke-linejoin:miter;stroke:rgb(74.509804%,74.509804%,74.509804%);stroke-opacity:1;stroke-miterlimit:10;\" d=\"M 166.183594 224.988281 L 151.554688 296.667969 \"/>\n",
       "<path style=\"fill:none;stroke-width:0.5;stroke-linecap:butt;stroke-linejoin:miter;stroke:rgb(74.509804%,74.509804%,74.509804%);stroke-opacity:1;stroke-miterlimit:10;\" d=\"M 166.183594 224.988281 L 169.234375 101.558594 \"/>\n",
       "<path style=\"fill:none;stroke-width:0.5;stroke-linecap:butt;stroke-linejoin:miter;stroke:rgb(74.509804%,74.509804%,74.509804%);stroke-opacity:1;stroke-miterlimit:10;\" d=\"M 166.183594 224.988281 L 293.289062 267.175781 \"/>\n",
       "<path style=\"fill:none;stroke-width:0.5;stroke-linecap:butt;stroke-linejoin:miter;stroke:rgb(74.509804%,74.509804%,74.509804%);stroke-opacity:1;stroke-miterlimit:10;\" d=\"M 166.183594 224.988281 L 92.636719 113.039062 \"/>\n",
       "<path style=\"fill:none;stroke-width:0.5;stroke-linecap:butt;stroke-linejoin:miter;stroke:rgb(74.509804%,74.509804%,74.509804%);stroke-opacity:1;stroke-miterlimit:10;\" d=\"M 166.183594 224.988281 L 173.960938 382.304688 \"/>\n",
       "<path style=\"fill:none;stroke-width:0.5;stroke-linecap:butt;stroke-linejoin:miter;stroke:rgb(74.509804%,74.509804%,74.509804%);stroke-opacity:1;stroke-miterlimit:10;\" d=\"M 217.597656 309.71875 L 79.515625 235.207031 \"/>\n",
       "<path style=\"fill:none;stroke-width:0.5;stroke-linecap:butt;stroke-linejoin:miter;stroke:rgb(74.509804%,74.509804%,74.509804%);stroke-opacity:1;stroke-miterlimit:10;\" d=\"M 217.597656 309.71875 L 115.167969 195.996094 \"/>\n",
       "<path style=\"fill:none;stroke-width:0.5;stroke-linecap:butt;stroke-linejoin:miter;stroke:rgb(74.509804%,74.509804%,74.509804%);stroke-opacity:1;stroke-miterlimit:10;\" d=\"M 217.597656 309.71875 L 431.488281 374.773438 \"/>\n",
       "<path style=\"fill:none;stroke-width:0.5;stroke-linecap:butt;stroke-linejoin:miter;stroke:rgb(74.509804%,74.509804%,74.509804%);stroke-opacity:1;stroke-miterlimit:10;\" d=\"M 217.597656 309.71875 L 343.558594 359.785156 \"/>\n",
       "<path style=\"fill:none;stroke-width:2;stroke-linecap:butt;stroke-linejoin:miter;stroke:rgb(100%,0%,0%);stroke-opacity:1;stroke-miterlimit:10;\" d=\"M 217.597656 309.71875 L 278.757812 467.304688 \"/>\n",
       "<path style=\"fill:none;stroke-width:0.5;stroke-linecap:butt;stroke-linejoin:miter;stroke:rgb(74.509804%,74.509804%,74.509804%);stroke-opacity:1;stroke-miterlimit:10;\" d=\"M 217.597656 309.71875 L 97.109375 413.257812 \"/>\n",
       "<path style=\"fill:none;stroke-width:0.5;stroke-linecap:butt;stroke-linejoin:miter;stroke:rgb(74.509804%,74.509804%,74.509804%);stroke-opacity:1;stroke-miterlimit:10;\" d=\"M 217.597656 309.71875 L 251.976562 347.332031 \"/>\n",
       "<path style=\"fill:none;stroke-width:0.5;stroke-linecap:butt;stroke-linejoin:miter;stroke:rgb(74.509804%,74.509804%,74.509804%);stroke-opacity:1;stroke-miterlimit:10;\" d=\"M 217.597656 309.71875 L 151.554688 296.667969 \"/>\n",
       "<path style=\"fill:none;stroke-width:0.5;stroke-linecap:butt;stroke-linejoin:miter;stroke:rgb(74.509804%,74.509804%,74.509804%);stroke-opacity:1;stroke-miterlimit:10;\" d=\"M 79.515625 235.207031 L 115.167969 195.996094 \"/>\n",
       "<path style=\"fill:none;stroke-width:0.5;stroke-linecap:butt;stroke-linejoin:miter;stroke:rgb(74.509804%,74.509804%,74.509804%);stroke-opacity:1;stroke-miterlimit:10;\" d=\"M 79.515625 235.207031 L 20 156.15625 \"/>\n",
       "<path style=\"fill:none;stroke-width:0.5;stroke-linecap:butt;stroke-linejoin:miter;stroke:rgb(74.509804%,74.509804%,74.509804%);stroke-opacity:1;stroke-miterlimit:10;\" d=\"M 79.515625 235.207031 L 151.554688 296.667969 \"/>\n",
       "<path style=\"fill:none;stroke-width:0.5;stroke-linecap:butt;stroke-linejoin:miter;stroke:rgb(74.509804%,74.509804%,74.509804%);stroke-opacity:1;stroke-miterlimit:10;\" d=\"M 312.511719 32.328125 L 410.863281 51.773438 \"/>\n",
       "<path style=\"fill:none;stroke-width:0.5;stroke-linecap:butt;stroke-linejoin:miter;stroke:rgb(74.509804%,74.509804%,74.509804%);stroke-opacity:1;stroke-miterlimit:10;\" d=\"M 312.511719 32.328125 L 347.71875 85.382812 \"/>\n",
       "<path style=\"fill:none;stroke-width:0.5;stroke-linecap:butt;stroke-linejoin:miter;stroke:rgb(74.509804%,74.509804%,74.509804%);stroke-opacity:1;stroke-miterlimit:10;\" d=\"M 439.894531 103.0625 L 410.863281 51.773438 \"/>\n",
       "<path style=\"fill:none;stroke-width:0.5;stroke-linecap:butt;stroke-linejoin:miter;stroke:rgb(74.509804%,74.509804%,74.509804%);stroke-opacity:1;stroke-miterlimit:10;\" d=\"M 439.894531 103.0625 L 347.71875 85.382812 \"/>\n",
       "<path style=\"fill:none;stroke-width:2;stroke-linecap:butt;stroke-linejoin:miter;stroke:rgb(100%,0%,0%);stroke-opacity:1;stroke-miterlimit:10;\" d=\"M 439.894531 103.0625 L 543.710938 42.511719 \"/>\n",
       "<path style=\"fill:none;stroke-width:0.5;stroke-linecap:butt;stroke-linejoin:miter;stroke:rgb(74.509804%,74.509804%,74.509804%);stroke-opacity:1;stroke-miterlimit:10;\" d=\"M 410.863281 51.773438 L 543.710938 42.511719 \"/>\n",
       "<path style=\"fill:none;stroke-width:0.5;stroke-linecap:butt;stroke-linejoin:miter;stroke:rgb(74.509804%,74.509804%,74.509804%);stroke-opacity:1;stroke-miterlimit:10;\" d=\"M 251.976562 347.332031 L 173.960938 382.304688 \"/>\n",
       "<path style=\"fill:none;stroke-width:0.5;stroke-linecap:butt;stroke-linejoin:miter;stroke:rgb(74.509804%,74.509804%,74.509804%);stroke-opacity:1;stroke-miterlimit:10;\" d=\"M 251.976562 347.332031 L 278.757812 467.304688 \"/>\n",
       "<path style=\"fill:none;stroke-width:0.5;stroke-linecap:butt;stroke-linejoin:miter;stroke:rgb(74.509804%,74.509804%,74.509804%);stroke-opacity:1;stroke-miterlimit:10;\" d=\"M 251.976562 347.332031 L 290.375 439.902344 \"/>\n",
       "<path style=\"fill:none;stroke-width:0.5;stroke-linecap:butt;stroke-linejoin:miter;stroke:rgb(74.509804%,74.509804%,74.509804%);stroke-opacity:1;stroke-miterlimit:10;\" d=\"M 97.109375 413.257812 L 290.375 439.902344 \"/>\n",
       "<path style=\"fill:none;stroke-width:0.5;stroke-linecap:butt;stroke-linejoin:miter;stroke:rgb(74.509804%,74.509804%,74.509804%);stroke-opacity:1;stroke-miterlimit:10;\" d=\"M 151.554688 296.667969 L 290.375 439.902344 \"/>\n",
       "<path style=\"fill:none;stroke-width:0.5;stroke-linecap:butt;stroke-linejoin:miter;stroke:rgb(74.509804%,74.509804%,74.509804%);stroke-opacity:1;stroke-miterlimit:10;\" d=\"M 347.828125 560.824219 L 278.757812 467.304688 \"/>\n",
       "<path style=\"fill:none;stroke-width:0.5;stroke-linecap:butt;stroke-linejoin:miter;stroke:rgb(74.509804%,74.509804%,74.509804%);stroke-opacity:1;stroke-miterlimit:10;\" d=\"M 347.828125 560.824219 L 290.375 439.902344 \"/>\n",
       "<path style=\"fill:none;stroke-width:2;stroke-linecap:butt;stroke-linejoin:miter;stroke:rgb(100%,0%,0%);stroke-opacity:1;stroke-miterlimit:10;\" d=\"M 133.496094 499.222656 L 278.757812 467.304688 \"/>\n",
       "<path style=\"fill:none;stroke-width:0.5;stroke-linecap:butt;stroke-linejoin:miter;stroke:rgb(74.509804%,74.509804%,74.509804%);stroke-opacity:1;stroke-miterlimit:10;\" d=\"M 133.496094 499.222656 L 290.375 439.902344 \"/>\n",
       "<path style=\"fill:none;stroke-width:0.5;stroke-linecap:butt;stroke-linejoin:miter;stroke:rgb(74.509804%,74.509804%,74.509804%);stroke-opacity:1;stroke-miterlimit:10;\" d=\"M 164.214844 544.449219 L 278.757812 467.304688 \"/>\n",
       "<path style=\"fill:none;stroke-width:0.5;stroke-linecap:butt;stroke-linejoin:miter;stroke:rgb(74.509804%,74.509804%,74.509804%);stroke-opacity:1;stroke-miterlimit:10;\" d=\"M 164.214844 544.449219 L 290.375 439.902344 \"/>\n",
       "<path style=\"fill:none;stroke-width:0.5;stroke-linecap:butt;stroke-linejoin:miter;stroke:rgb(74.509804%,74.509804%,74.509804%);stroke-opacity:1;stroke-miterlimit:10;\" d=\"M 293.289062 267.175781 L 290.375 439.902344 \"/>\n",
       "<path style=\"fill:none;stroke-width:0.5;stroke-linecap:butt;stroke-linejoin:miter;stroke:rgb(74.509804%,74.509804%,74.509804%);stroke-opacity:1;stroke-miterlimit:10;\" d=\"M 285.027344 580 L 278.757812 467.304688 \"/>\n",
       "<path style=\"fill:none;stroke-width:0.5;stroke-linecap:butt;stroke-linejoin:miter;stroke:rgb(74.509804%,74.509804%,74.509804%);stroke-opacity:1;stroke-miterlimit:10;\" d=\"M 285.027344 580 L 290.375 439.902344 \"/>\n",
       "<path style=\"fill:none;stroke-width:0.5;stroke-linecap:butt;stroke-linejoin:miter;stroke:rgb(74.509804%,74.509804%,74.509804%);stroke-opacity:1;stroke-miterlimit:10;\" d=\"M 223.25 563.792969 L 278.757812 467.304688 \"/>\n",
       "<path style=\"fill:none;stroke-width:0.5;stroke-linecap:butt;stroke-linejoin:miter;stroke:rgb(74.509804%,74.509804%,74.509804%);stroke-opacity:1;stroke-miterlimit:10;\" d=\"M 223.25 563.792969 L 290.375 439.902344 \"/>\n",
       "<path style=\"fill:none;stroke-width:0.5;stroke-linecap:butt;stroke-linejoin:miter;stroke:rgb(74.509804%,74.509804%,74.509804%);stroke-opacity:1;stroke-miterlimit:10;\" d=\"M 455.511719 451.648438 L 580 386.101562 \"/>\n",
       "<path style=\"fill:none;stroke-width:0.5;stroke-linecap:butt;stroke-linejoin:miter;stroke:rgb(74.509804%,74.509804%,74.509804%);stroke-opacity:1;stroke-miterlimit:10;\" d=\"M 455.511719 451.648438 L 431.488281 374.773438 \"/>\n",
       "<path style=\"fill:none;stroke-width:0.5;stroke-linecap:butt;stroke-linejoin:miter;stroke:rgb(74.509804%,74.509804%,74.509804%);stroke-opacity:1;stroke-miterlimit:10;\" d=\"M 455.511719 451.648438 L 278.757812 467.304688 \"/>\n",
       "<path style=\"fill:none;stroke-width:0.5;stroke-linecap:butt;stroke-linejoin:miter;stroke:rgb(74.509804%,74.509804%,74.509804%);stroke-opacity:1;stroke-miterlimit:10;\" d=\"M 455.511719 451.648438 L 290.375 439.902344 \"/>\n",
       "<path style=\"fill:none;stroke-width:0.5;stroke-linecap:butt;stroke-linejoin:miter;stroke:rgb(74.509804%,74.509804%,74.509804%);stroke-opacity:1;stroke-miterlimit:10;\" d=\"M 455.511719 451.648438 L 409.9375 511.394531 \"/>\n",
       "<path style=\"fill:none;stroke-width:0.5;stroke-linecap:butt;stroke-linejoin:miter;stroke:rgb(74.509804%,74.509804%,74.509804%);stroke-opacity:1;stroke-miterlimit:10;\" d=\"M 571.445312 321.46875 L 580 386.101562 \"/>\n",
       "<path style=\"fill:none;stroke-width:0.5;stroke-linecap:butt;stroke-linejoin:miter;stroke:rgb(74.509804%,74.509804%,74.509804%);stroke-opacity:1;stroke-miterlimit:10;\" d=\"M 571.445312 321.46875 L 431.488281 374.773438 \"/>\n",
       "<path style=\"fill:none;stroke-width:0.5;stroke-linecap:butt;stroke-linejoin:miter;stroke:rgb(74.509804%,74.509804%,74.509804%);stroke-opacity:1;stroke-miterlimit:10;\" d=\"M 571.445312 321.46875 L 409.925781 329.035156 \"/>\n",
       "<path style=\"fill:none;stroke-width:0.5;stroke-linecap:butt;stroke-linejoin:miter;stroke:rgb(74.509804%,74.509804%,74.509804%);stroke-opacity:1;stroke-miterlimit:10;\" d=\"M 580 386.101562 L 409.925781 329.035156 \"/>\n",
       "<path style=\"fill:none;stroke-width:0.5;stroke-linecap:butt;stroke-linejoin:miter;stroke:rgb(74.509804%,74.509804%,74.509804%);stroke-opacity:1;stroke-miterlimit:10;\" d=\"M 463.574219 553.773438 L 409.9375 511.394531 \"/>\n",
       "<path style=\"fill:none;stroke-width:0.5;stroke-linecap:butt;stroke-linejoin:miter;stroke:rgb(74.509804%,74.509804%,74.509804%);stroke-opacity:1;stroke-miterlimit:10;\" d=\"M 463.574219 553.773438 L 290.375 439.902344 \"/>\n",
       "<path style=\"fill:none;stroke-width:0.5;stroke-linecap:butt;stroke-linejoin:miter;stroke:rgb(74.509804%,74.509804%,74.509804%);stroke-opacity:1;stroke-miterlimit:10;\" d=\"M 431.488281 374.773438 L 290.375 439.902344 \"/>\n",
       "<path style=\"fill:none;stroke-width:0.5;stroke-linecap:butt;stroke-linejoin:miter;stroke:rgb(74.509804%,74.509804%,74.509804%);stroke-opacity:1;stroke-miterlimit:10;\" d=\"M 343.558594 359.785156 L 409.925781 329.035156 \"/>\n",
       "<path style=\"fill:none;stroke-width:0.5;stroke-linecap:butt;stroke-linejoin:miter;stroke:rgb(74.509804%,74.509804%,74.509804%);stroke-opacity:1;stroke-miterlimit:10;\" d=\"M 343.558594 359.785156 L 290.375 439.902344 \"/>\n",
       "<path style=\"fill:none;stroke-width:0.5;stroke-linecap:butt;stroke-linejoin:miter;stroke:rgb(74.509804%,74.509804%,74.509804%);stroke-opacity:1;stroke-miterlimit:10;\" d=\"M 409.9375 511.394531 L 278.757812 467.304688 \"/>\n",
       "<path style=\"fill:none;stroke-width:0.5;stroke-linecap:butt;stroke-linejoin:miter;stroke:rgb(74.509804%,74.509804%,74.509804%);stroke-opacity:1;stroke-miterlimit:10;\" d=\"M 409.9375 511.394531 L 290.375 439.902344 \"/>\n",
       "<path style=\"fill:none;stroke-width:0.5;stroke-linecap:butt;stroke-linejoin:miter;stroke:rgb(74.509804%,74.509804%,74.509804%);stroke-opacity:1;stroke-miterlimit:10;\" d=\"M 173.960938 382.304688 L 278.757812 467.304688 \"/>\n",
       "<path style=\"fill:none;stroke-width:0.5;stroke-linecap:butt;stroke-linejoin:miter;stroke:rgb(74.509804%,74.509804%,74.509804%);stroke-opacity:1;stroke-miterlimit:10;\" d=\"M 173.960938 382.304688 L 290.375 439.902344 \"/>\n",
       "<path style=\"fill:none;stroke-width:0.5;stroke-linecap:butt;stroke-linejoin:miter;stroke:rgb(74.509804%,74.509804%,74.509804%);stroke-opacity:1;stroke-miterlimit:10;\" d=\"M 409.925781 329.035156 L 278.757812 467.304688 \"/>\n",
       "<path style=\"fill:none;stroke-width:0.5;stroke-linecap:butt;stroke-linejoin:miter;stroke:rgb(74.509804%,74.509804%,74.509804%);stroke-opacity:1;stroke-miterlimit:10;\" d=\"M 409.925781 329.035156 L 290.375 439.902344 \"/>\n",
       "<path style=\"fill:none;stroke-width:0.5;stroke-linecap:butt;stroke-linejoin:miter;stroke:rgb(74.509804%,74.509804%,74.509804%);stroke-opacity:1;stroke-miterlimit:10;\" d=\"M 278.757812 467.304688 L 290.375 439.902344 \"/>\n",
       "<path style=\"fill-rule:nonzero;fill:rgb(100%,0%,0%);fill-opacity:1;stroke-width:1;stroke-linecap:butt;stroke-linejoin:miter;stroke:rgb(0%,0%,0%);stroke-opacity:1;stroke-miterlimit:10;\" d=\"M 251.453125 173.003906 C 251.453125 177.144531 248.09375 180.503906 243.953125 180.503906 C 239.8125 180.503906 236.453125 177.144531 236.453125 173.003906 C 236.453125 168.863281 239.8125 165.503906 243.953125 165.503906 C 248.09375 165.503906 251.453125 168.863281 251.453125 173.003906 \"/>\n",
       "<path style=\"fill-rule:nonzero;fill:rgb(74.509804%,74.509804%,74.509804%);fill-opacity:1;stroke-width:1;stroke-linecap:butt;stroke-linejoin:miter;stroke:rgb(0%,0%,0%);stroke-opacity:1;stroke-miterlimit:10;\" d=\"M 173.683594 224.988281 C 173.683594 229.132812 170.324219 232.488281 166.183594 232.488281 C 162.042969 232.488281 158.683594 229.132812 158.683594 224.988281 C 158.683594 220.847656 162.042969 217.488281 166.183594 217.488281 C 170.324219 217.488281 173.683594 220.847656 173.683594 224.988281 \"/>\n",
       "<path style=\"fill-rule:nonzero;fill:rgb(100%,0%,0%);fill-opacity:1;stroke-width:1;stroke-linecap:butt;stroke-linejoin:miter;stroke:rgb(0%,0%,0%);stroke-opacity:1;stroke-miterlimit:10;\" d=\"M 225.097656 309.71875 C 225.097656 313.863281 221.738281 317.21875 217.597656 317.21875 C 213.453125 317.21875 210.097656 313.863281 210.097656 309.71875 C 210.097656 305.578125 213.453125 302.21875 217.597656 302.21875 C 221.738281 302.21875 225.097656 305.578125 225.097656 309.71875 \"/>\n",
       "<path style=\"fill-rule:nonzero;fill:rgb(74.509804%,74.509804%,74.509804%);fill-opacity:1;stroke-width:1;stroke-linecap:butt;stroke-linejoin:miter;stroke:rgb(0%,0%,0%);stroke-opacity:1;stroke-miterlimit:10;\" d=\"M 87.015625 235.207031 C 87.015625 239.347656 83.65625 242.707031 79.515625 242.707031 C 75.371094 242.707031 72.015625 239.347656 72.015625 235.207031 C 72.015625 231.0625 75.371094 227.707031 79.515625 227.707031 C 83.65625 227.707031 87.015625 231.0625 87.015625 235.207031 \"/>\n",
       "<path style=\"fill-rule:nonzero;fill:rgb(74.509804%,74.509804%,74.509804%);fill-opacity:1;stroke-width:1;stroke-linecap:butt;stroke-linejoin:miter;stroke:rgb(0%,0%,0%);stroke-opacity:1;stroke-miterlimit:10;\" d=\"M 317.511719 32.328125 C 317.511719 38.992188 307.511719 38.992188 307.511719 32.328125 C 307.511719 25.660156 317.511719 25.660156 317.511719 32.328125 \"/>\n",
       "<path style=\"fill-rule:nonzero;fill:rgb(100%,0%,0%);fill-opacity:1;stroke-width:1;stroke-linecap:butt;stroke-linejoin:miter;stroke:rgb(0%,0%,0%);stroke-opacity:1;stroke-miterlimit:10;\" d=\"M 444.894531 103.0625 C 444.894531 109.730469 434.894531 109.730469 434.894531 103.0625 C 434.894531 96.394531 444.894531 96.394531 444.894531 103.0625 \"/>\n",
       "<path style=\"fill-rule:nonzero;fill:rgb(74.509804%,74.509804%,74.509804%);fill-opacity:1;stroke-width:1;stroke-linecap:butt;stroke-linejoin:miter;stroke:rgb(0%,0%,0%);stroke-opacity:1;stroke-miterlimit:10;\" d=\"M 415.863281 51.773438 C 415.863281 58.441406 405.863281 58.441406 405.863281 51.773438 C 405.863281 45.109375 415.863281 45.109375 415.863281 51.773438 \"/>\n",
       "<path style=\"fill-rule:nonzero;fill:rgb(74.509804%,74.509804%,74.509804%);fill-opacity:1;stroke-width:1;stroke-linecap:butt;stroke-linejoin:miter;stroke:rgb(0%,0%,0%);stroke-opacity:1;stroke-miterlimit:10;\" d=\"M 120.167969 195.996094 C 120.167969 202.660156 110.167969 202.660156 110.167969 195.996094 C 110.167969 189.328125 120.167969 189.328125 120.167969 195.996094 \"/>\n",
       "<path style=\"fill-rule:nonzero;fill:rgb(74.509804%,74.509804%,74.509804%);fill-opacity:1;stroke-width:1;stroke-linecap:butt;stroke-linejoin:miter;stroke:rgb(0%,0%,0%);stroke-opacity:1;stroke-miterlimit:10;\" d=\"M 259.476562 347.332031 C 259.476562 351.472656 256.117188 354.832031 251.976562 354.832031 C 247.832031 354.832031 244.476562 351.472656 244.476562 347.332031 C 244.476562 343.1875 247.832031 339.832031 251.976562 339.832031 C 256.117188 339.832031 259.476562 343.1875 259.476562 347.332031 \"/>\n",
       "<path style=\"fill-rule:nonzero;fill:rgb(74.509804%,74.509804%,74.509804%);fill-opacity:1;stroke-width:1;stroke-linecap:butt;stroke-linejoin:miter;stroke:rgb(0%,0%,0%);stroke-opacity:1;stroke-miterlimit:10;\" d=\"M 102.109375 413.257812 C 102.109375 419.925781 92.109375 419.925781 92.109375 413.257812 C 92.109375 406.589844 102.109375 406.589844 102.109375 413.257812 \"/>\n",
       "<path style=\"fill-rule:nonzero;fill:rgb(74.509804%,74.509804%,74.509804%);fill-opacity:1;stroke-width:1;stroke-linecap:butt;stroke-linejoin:miter;stroke:rgb(0%,0%,0%);stroke-opacity:1;stroke-miterlimit:10;\" d=\"M 352.71875 85.382812 C 352.71875 92.050781 342.71875 92.050781 342.71875 85.382812 C 342.71875 78.71875 352.71875 78.71875 352.71875 85.382812 \"/>\n",
       "<path style=\"fill-rule:nonzero;fill:rgb(74.509804%,74.509804%,74.509804%);fill-opacity:1;stroke-width:1;stroke-linecap:butt;stroke-linejoin:miter;stroke:rgb(0%,0%,0%);stroke-opacity:1;stroke-miterlimit:10;\" d=\"M 187.925781 20 C 187.925781 26.667969 177.925781 26.667969 177.925781 20 C 177.925781 13.332031 187.925781 13.332031 187.925781 20 \"/>\n",
       "<path style=\"fill-rule:nonzero;fill:rgb(74.509804%,74.509804%,74.509804%);fill-opacity:1;stroke-width:1;stroke-linecap:butt;stroke-linejoin:miter;stroke:rgb(0%,0%,0%);stroke-opacity:1;stroke-miterlimit:10;\" d=\"M 25 156.15625 C 25 162.820312 15 162.820312 15 156.15625 C 15 149.488281 25 149.488281 25 156.15625 \"/>\n",
       "<path style=\"fill-rule:nonzero;fill:rgb(74.509804%,74.509804%,74.509804%);fill-opacity:1;stroke-width:1;stroke-linecap:butt;stroke-linejoin:miter;stroke:rgb(0%,0%,0%);stroke-opacity:1;stroke-miterlimit:10;\" d=\"M 159.054688 296.667969 C 159.054688 300.808594 155.695312 304.167969 151.554688 304.167969 C 147.414062 304.167969 144.054688 300.808594 144.054688 296.667969 C 144.054688 292.527344 147.414062 289.167969 151.554688 289.167969 C 155.695312 289.167969 159.054688 292.527344 159.054688 296.667969 \"/>\n",
       "<path style=\"fill-rule:nonzero;fill:rgb(74.509804%,74.509804%,74.509804%);fill-opacity:1;stroke-width:1;stroke-linecap:butt;stroke-linejoin:miter;stroke:rgb(0%,0%,0%);stroke-opacity:1;stroke-miterlimit:10;\" d=\"M 350.328125 560.824219 C 350.328125 564.15625 345.328125 564.15625 345.328125 560.824219 C 345.328125 557.488281 350.328125 557.488281 350.328125 560.824219 \"/>\n",
       "<path style=\"fill-rule:nonzero;fill:rgb(100%,0%,0%);fill-opacity:1;stroke-width:1;stroke-linecap:butt;stroke-linejoin:miter;stroke:rgb(0%,0%,0%);stroke-opacity:1;stroke-miterlimit:10;\" d=\"M 135.996094 499.222656 C 135.996094 502.558594 130.996094 502.558594 130.996094 499.222656 C 130.996094 495.890625 135.996094 495.890625 135.996094 499.222656 \"/>\n",
       "<path style=\"fill-rule:nonzero;fill:rgb(100%,0%,0%);fill-opacity:1;stroke-width:1;stroke-linecap:butt;stroke-linejoin:miter;stroke:rgb(0%,0%,0%);stroke-opacity:1;stroke-miterlimit:10;\" d=\"M 546.210938 42.511719 C 546.210938 45.847656 541.210938 45.847656 541.210938 42.511719 C 541.210938 39.179688 546.210938 39.179688 546.210938 42.511719 \"/>\n",
       "<path style=\"fill-rule:nonzero;fill:rgb(74.509804%,74.509804%,74.509804%);fill-opacity:1;stroke-width:1;stroke-linecap:butt;stroke-linejoin:miter;stroke:rgb(0%,0%,0%);stroke-opacity:1;stroke-miterlimit:10;\" d=\"M 174.234375 101.558594 C 174.234375 108.222656 164.234375 108.222656 164.234375 101.558594 C 164.234375 94.890625 174.234375 94.890625 174.234375 101.558594 \"/>\n",
       "<path style=\"fill-rule:nonzero;fill:rgb(74.509804%,74.509804%,74.509804%);fill-opacity:1;stroke-width:1;stroke-linecap:butt;stroke-linejoin:miter;stroke:rgb(0%,0%,0%);stroke-opacity:1;stroke-miterlimit:10;\" d=\"M 166.714844 544.449219 C 166.714844 547.78125 161.714844 547.78125 161.714844 544.449219 C 161.714844 541.117188 166.714844 541.117188 166.714844 544.449219 \"/>\n",
       "<path style=\"fill-rule:nonzero;fill:rgb(74.509804%,74.509804%,74.509804%);fill-opacity:1;stroke-width:1;stroke-linecap:butt;stroke-linejoin:miter;stroke:rgb(0%,0%,0%);stroke-opacity:1;stroke-miterlimit:10;\" d=\"M 300.789062 267.175781 C 300.789062 271.320312 297.429688 274.675781 293.289062 274.675781 C 289.144531 274.675781 285.789062 271.320312 285.789062 267.175781 C 285.789062 263.035156 289.144531 259.675781 293.289062 259.675781 C 297.429688 259.675781 300.789062 263.035156 300.789062 267.175781 \"/>\n",
       "<path style=\"fill-rule:nonzero;fill:rgb(74.509804%,74.509804%,74.509804%);fill-opacity:1;stroke-width:1;stroke-linecap:butt;stroke-linejoin:miter;stroke:rgb(0%,0%,0%);stroke-opacity:1;stroke-miterlimit:10;\" d=\"M 287.527344 580 C 287.527344 583.332031 282.527344 583.332031 282.527344 580 C 282.527344 576.667969 287.527344 576.667969 287.527344 580 \"/>\n",
       "<path style=\"fill-rule:nonzero;fill:rgb(74.509804%,74.509804%,74.509804%);fill-opacity:1;stroke-width:1;stroke-linecap:butt;stroke-linejoin:miter;stroke:rgb(0%,0%,0%);stroke-opacity:1;stroke-miterlimit:10;\" d=\"M 97.636719 113.039062 C 97.636719 119.707031 87.636719 119.707031 87.636719 113.039062 C 87.636719 106.371094 97.636719 106.371094 97.636719 113.039062 \"/>\n",
       "<path style=\"fill-rule:nonzero;fill:rgb(74.509804%,74.509804%,74.509804%);fill-opacity:1;stroke-width:1;stroke-linecap:butt;stroke-linejoin:miter;stroke:rgb(0%,0%,0%);stroke-opacity:1;stroke-miterlimit:10;\" d=\"M 225.75 563.792969 C 225.75 567.128906 220.75 567.128906 220.75 563.792969 C 220.75 560.460938 225.75 560.460938 225.75 563.792969 \"/>\n",
       "<path style=\"fill-rule:nonzero;fill:rgb(74.509804%,74.509804%,74.509804%);fill-opacity:1;stroke-width:1;stroke-linecap:butt;stroke-linejoin:miter;stroke:rgb(0%,0%,0%);stroke-opacity:1;stroke-miterlimit:10;\" d=\"M 458.011719 451.648438 C 458.011719 454.984375 453.011719 454.984375 453.011719 451.648438 C 453.011719 448.316406 458.011719 448.316406 458.011719 451.648438 \"/>\n",
       "<path style=\"fill-rule:nonzero;fill:rgb(74.509804%,74.509804%,74.509804%);fill-opacity:1;stroke-width:1;stroke-linecap:butt;stroke-linejoin:miter;stroke:rgb(0%,0%,0%);stroke-opacity:1;stroke-miterlimit:10;\" d=\"M 576.445312 321.46875 C 576.445312 328.132812 566.445312 328.132812 566.445312 321.46875 C 566.445312 314.800781 576.445312 314.800781 576.445312 321.46875 \"/>\n",
       "<path style=\"fill-rule:nonzero;fill:rgb(74.509804%,74.509804%,74.509804%);fill-opacity:1;stroke-width:1;stroke-linecap:butt;stroke-linejoin:miter;stroke:rgb(0%,0%,0%);stroke-opacity:1;stroke-miterlimit:10;\" d=\"M 585 386.101562 C 585 392.765625 575 392.765625 575 386.101562 C 575 379.433594 585 379.433594 585 386.101562 \"/>\n",
       "<path style=\"fill-rule:nonzero;fill:rgb(74.509804%,74.509804%,74.509804%);fill-opacity:1;stroke-width:1;stroke-linecap:butt;stroke-linejoin:miter;stroke:rgb(0%,0%,0%);stroke-opacity:1;stroke-miterlimit:10;\" d=\"M 466.074219 553.773438 C 466.074219 557.105469 461.074219 557.105469 461.074219 553.773438 C 461.074219 550.441406 466.074219 550.441406 466.074219 553.773438 \"/>\n",
       "<path style=\"fill-rule:nonzero;fill:rgb(74.509804%,74.509804%,74.509804%);fill-opacity:1;stroke-width:1;stroke-linecap:butt;stroke-linejoin:miter;stroke:rgb(0%,0%,0%);stroke-opacity:1;stroke-miterlimit:10;\" d=\"M 436.488281 374.773438 C 436.488281 381.441406 426.488281 381.441406 426.488281 374.773438 C 426.488281 368.105469 436.488281 368.105469 436.488281 374.773438 \"/>\n",
       "<path style=\"fill-rule:nonzero;fill:rgb(74.509804%,74.509804%,74.509804%);fill-opacity:1;stroke-width:1;stroke-linecap:butt;stroke-linejoin:miter;stroke:rgb(0%,0%,0%);stroke-opacity:1;stroke-miterlimit:10;\" d=\"M 348.558594 359.785156 C 348.558594 366.453125 338.558594 366.453125 338.558594 359.785156 C 338.558594 353.117188 348.558594 353.117188 348.558594 359.785156 \"/>\n",
       "<path style=\"fill-rule:nonzero;fill:rgb(74.509804%,74.509804%,74.509804%);fill-opacity:1;stroke-width:1;stroke-linecap:butt;stroke-linejoin:miter;stroke:rgb(0%,0%,0%);stroke-opacity:1;stroke-miterlimit:10;\" d=\"M 412.4375 511.394531 C 412.4375 514.726562 407.4375 514.726562 407.4375 511.394531 C 407.4375 508.058594 412.4375 508.058594 412.4375 511.394531 \"/>\n",
       "<path style=\"fill-rule:nonzero;fill:rgb(74.509804%,74.509804%,74.509804%);fill-opacity:1;stroke-width:1;stroke-linecap:butt;stroke-linejoin:miter;stroke:rgb(0%,0%,0%);stroke-opacity:1;stroke-miterlimit:10;\" d=\"M 178.960938 382.304688 C 178.960938 388.972656 168.960938 388.972656 168.960938 382.304688 C 168.960938 375.636719 178.960938 375.636719 178.960938 382.304688 \"/>\n",
       "<path style=\"fill-rule:nonzero;fill:rgb(74.509804%,74.509804%,74.509804%);fill-opacity:1;stroke-width:1;stroke-linecap:butt;stroke-linejoin:miter;stroke:rgb(0%,0%,0%);stroke-opacity:1;stroke-miterlimit:10;\" d=\"M 417.425781 329.035156 C 417.425781 333.179688 414.066406 336.535156 409.925781 336.535156 C 405.785156 336.535156 402.425781 333.179688 402.425781 329.035156 C 402.425781 324.894531 405.785156 321.535156 409.925781 321.535156 C 414.066406 321.535156 417.425781 324.894531 417.425781 329.035156 \"/>\n",
       "<path style=\"fill-rule:nonzero;fill:rgb(100%,0%,0%);fill-opacity:1;stroke-width:1;stroke-linecap:butt;stroke-linejoin:miter;stroke:rgb(0%,0%,0%);stroke-opacity:1;stroke-miterlimit:10;\" d=\"M 283.757812 467.304688 C 283.757812 473.96875 273.757812 473.96875 273.757812 467.304688 C 273.757812 460.636719 283.757812 460.636719 283.757812 467.304688 \"/>\n",
       "<path style=\"fill-rule:nonzero;fill:rgb(74.509804%,74.509804%,74.509804%);fill-opacity:1;stroke-width:1;stroke-linecap:butt;stroke-linejoin:miter;stroke:rgb(0%,0%,0%);stroke-opacity:1;stroke-miterlimit:10;\" d=\"M 295.375 439.902344 C 295.375 446.570312 285.375 446.570312 285.375 439.902344 C 285.375 433.238281 295.375 433.238281 295.375 439.902344 \"/>\n",
       "</g>\n",
       "</svg>\n"
      ],
      "text/plain": [
       "<igraph.drawing.Plot at 0x1a1ea47588>"
      ]
     },
     "execution_count": 18,
     "metadata": {},
     "output_type": "execute_result"
    }
   ],
   "source": [
    "eccentricity = distances.max(1)\n",
    "ig.plot(G, vertex_size=5*(6 - eccentricity))"
   ]
  },
  {
   "cell_type": "markdown",
   "metadata": {},
   "source": [
    "The minimum eccentricity is called the *radius* of the graph and the maximum eccentricity is called the *diameter*. The diameter of any graph is always larger than the radius and smaller than twice the radius."
   ]
  },
  {
   "cell_type": "markdown",
   "metadata": {},
   "source": [
    "The network we currently look at is connected, which is not necessarily the case. It can consist of multiple components. Let us delete a number of edges so that we get a network with two components."
   ]
  },
  {
   "cell_type": "code",
   "execution_count": 19,
   "metadata": {
    "ExecuteTime": {
     "end_time": "2019-06-25T21:28:51.163654Z",
     "start_time": "2019-06-25T21:28:51.152915Z"
    }
   },
   "outputs": [
    {
     "data": {
      "image/svg+xml": [
       "<?xml version=\"1.0\" encoding=\"UTF-8\"?>\n",
       "<svg xmlns=\"http://www.w3.org/2000/svg\" xmlns:xlink=\"http://www.w3.org/1999/xlink\" width=\"600pt\" height=\"600pt\" viewBox=\"0 0 600 600\" version=\"1.1\">\n",
       "<g id=\"surface26\">\n",
       "<rect x=\"0\" y=\"0\" width=\"600\" height=\"600\" style=\"fill:rgb(100%,100%,100%);fill-opacity:1;stroke:none;\"/>\n",
       "<path style=\"fill:none;stroke-width:0.5;stroke-linecap:butt;stroke-linejoin:miter;stroke:rgb(74.509804%,74.509804%,74.509804%);stroke-opacity:1;stroke-miterlimit:10;\" d=\"M 243.953125 173.003906 L 166.183594 224.988281 \"/>\n",
       "<path style=\"fill:none;stroke-width:2;stroke-linecap:butt;stroke-linejoin:miter;stroke:rgb(100%,0%,0%);stroke-opacity:1;stroke-miterlimit:10;\" d=\"M 243.953125 173.003906 L 217.597656 309.71875 \"/>\n",
       "<path style=\"fill:none;stroke-width:0.5;stroke-linecap:butt;stroke-linejoin:miter;stroke:rgb(74.509804%,74.509804%,74.509804%);stroke-opacity:1;stroke-miterlimit:10;\" d=\"M 243.953125 173.003906 L 79.515625 235.207031 \"/>\n",
       "<path style=\"fill:none;stroke-width:0.5;stroke-linecap:butt;stroke-linejoin:miter;stroke:rgb(74.509804%,74.509804%,74.509804%);stroke-opacity:1;stroke-miterlimit:10;\" d=\"M 243.953125 173.003906 L 115.167969 195.996094 \"/>\n",
       "<path style=\"fill:none;stroke-width:0.5;stroke-linecap:butt;stroke-linejoin:miter;stroke:rgb(74.509804%,74.509804%,74.509804%);stroke-opacity:1;stroke-miterlimit:10;\" d=\"M 243.953125 173.003906 L 251.976562 347.332031 \"/>\n",
       "<path style=\"fill:none;stroke-width:0.5;stroke-linecap:butt;stroke-linejoin:miter;stroke:rgb(74.509804%,74.509804%,74.509804%);stroke-opacity:1;stroke-miterlimit:10;\" d=\"M 243.953125 173.003906 L 182.925781 20 \"/>\n",
       "<path style=\"fill:none;stroke-width:0.5;stroke-linecap:butt;stroke-linejoin:miter;stroke:rgb(74.509804%,74.509804%,74.509804%);stroke-opacity:1;stroke-miterlimit:10;\" d=\"M 243.953125 173.003906 L 20 156.15625 \"/>\n",
       "<path style=\"fill:none;stroke-width:0.5;stroke-linecap:butt;stroke-linejoin:miter;stroke:rgb(74.509804%,74.509804%,74.509804%);stroke-opacity:1;stroke-miterlimit:10;\" d=\"M 243.953125 173.003906 L 151.554688 296.667969 \"/>\n",
       "<path style=\"fill:none;stroke-width:0.5;stroke-linecap:butt;stroke-linejoin:miter;stroke:rgb(74.509804%,74.509804%,74.509804%);stroke-opacity:1;stroke-miterlimit:10;\" d=\"M 243.953125 173.003906 L 169.234375 101.558594 \"/>\n",
       "<path style=\"fill:none;stroke-width:0.5;stroke-linecap:butt;stroke-linejoin:miter;stroke:rgb(74.509804%,74.509804%,74.509804%);stroke-opacity:1;stroke-miterlimit:10;\" d=\"M 243.953125 173.003906 L 293.289062 267.175781 \"/>\n",
       "<path style=\"fill:none;stroke-width:0.5;stroke-linecap:butt;stroke-linejoin:miter;stroke:rgb(74.509804%,74.509804%,74.509804%);stroke-opacity:1;stroke-miterlimit:10;\" d=\"M 243.953125 173.003906 L 92.636719 113.039062 \"/>\n",
       "<path style=\"fill:none;stroke-width:0.5;stroke-linecap:butt;stroke-linejoin:miter;stroke:rgb(74.509804%,74.509804%,74.509804%);stroke-opacity:1;stroke-miterlimit:10;\" d=\"M 243.953125 173.003906 L 409.925781 329.035156 \"/>\n",
       "<path style=\"fill:none;stroke-width:0.5;stroke-linecap:butt;stroke-linejoin:miter;stroke:rgb(74.509804%,74.509804%,74.509804%);stroke-opacity:1;stroke-miterlimit:10;\" d=\"M 166.183594 224.988281 L 217.597656 309.71875 \"/>\n",
       "<path style=\"fill:none;stroke-width:0.5;stroke-linecap:butt;stroke-linejoin:miter;stroke:rgb(74.509804%,74.509804%,74.509804%);stroke-opacity:1;stroke-miterlimit:10;\" d=\"M 166.183594 224.988281 L 79.515625 235.207031 \"/>\n",
       "<path style=\"fill:none;stroke-width:0.5;stroke-linecap:butt;stroke-linejoin:miter;stroke:rgb(74.509804%,74.509804%,74.509804%);stroke-opacity:1;stroke-miterlimit:10;\" d=\"M 166.183594 224.988281 L 115.167969 195.996094 \"/>\n",
       "<path style=\"fill:none;stroke-width:0.5;stroke-linecap:butt;stroke-linejoin:miter;stroke:rgb(74.509804%,74.509804%,74.509804%);stroke-opacity:1;stroke-miterlimit:10;\" d=\"M 166.183594 224.988281 L 151.554688 296.667969 \"/>\n",
       "<path style=\"fill:none;stroke-width:0.5;stroke-linecap:butt;stroke-linejoin:miter;stroke:rgb(74.509804%,74.509804%,74.509804%);stroke-opacity:1;stroke-miterlimit:10;\" d=\"M 166.183594 224.988281 L 169.234375 101.558594 \"/>\n",
       "<path style=\"fill:none;stroke-width:0.5;stroke-linecap:butt;stroke-linejoin:miter;stroke:rgb(74.509804%,74.509804%,74.509804%);stroke-opacity:1;stroke-miterlimit:10;\" d=\"M 166.183594 224.988281 L 293.289062 267.175781 \"/>\n",
       "<path style=\"fill:none;stroke-width:0.5;stroke-linecap:butt;stroke-linejoin:miter;stroke:rgb(74.509804%,74.509804%,74.509804%);stroke-opacity:1;stroke-miterlimit:10;\" d=\"M 166.183594 224.988281 L 92.636719 113.039062 \"/>\n",
       "<path style=\"fill:none;stroke-width:0.5;stroke-linecap:butt;stroke-linejoin:miter;stroke:rgb(74.509804%,74.509804%,74.509804%);stroke-opacity:1;stroke-miterlimit:10;\" d=\"M 166.183594 224.988281 L 173.960938 382.304688 \"/>\n",
       "<path style=\"fill:none;stroke-width:0.5;stroke-linecap:butt;stroke-linejoin:miter;stroke:rgb(74.509804%,74.509804%,74.509804%);stroke-opacity:1;stroke-miterlimit:10;\" d=\"M 217.597656 309.71875 L 79.515625 235.207031 \"/>\n",
       "<path style=\"fill:none;stroke-width:0.5;stroke-linecap:butt;stroke-linejoin:miter;stroke:rgb(74.509804%,74.509804%,74.509804%);stroke-opacity:1;stroke-miterlimit:10;\" d=\"M 217.597656 309.71875 L 115.167969 195.996094 \"/>\n",
       "<path style=\"fill:none;stroke-width:0.5;stroke-linecap:butt;stroke-linejoin:miter;stroke:rgb(74.509804%,74.509804%,74.509804%);stroke-opacity:1;stroke-miterlimit:10;\" d=\"M 217.597656 309.71875 L 431.488281 374.773438 \"/>\n",
       "<path style=\"fill:none;stroke-width:0.5;stroke-linecap:butt;stroke-linejoin:miter;stroke:rgb(74.509804%,74.509804%,74.509804%);stroke-opacity:1;stroke-miterlimit:10;\" d=\"M 217.597656 309.71875 L 343.558594 359.785156 \"/>\n",
       "<path style=\"fill:none;stroke-width:2;stroke-linecap:butt;stroke-linejoin:miter;stroke:rgb(100%,0%,0%);stroke-opacity:1;stroke-miterlimit:10;\" d=\"M 217.597656 309.71875 L 278.757812 467.304688 \"/>\n",
       "<path style=\"fill:none;stroke-width:0.5;stroke-linecap:butt;stroke-linejoin:miter;stroke:rgb(74.509804%,74.509804%,74.509804%);stroke-opacity:1;stroke-miterlimit:10;\" d=\"M 217.597656 309.71875 L 97.109375 413.257812 \"/>\n",
       "<path style=\"fill:none;stroke-width:0.5;stroke-linecap:butt;stroke-linejoin:miter;stroke:rgb(74.509804%,74.509804%,74.509804%);stroke-opacity:1;stroke-miterlimit:10;\" d=\"M 217.597656 309.71875 L 251.976562 347.332031 \"/>\n",
       "<path style=\"fill:none;stroke-width:0.5;stroke-linecap:butt;stroke-linejoin:miter;stroke:rgb(74.509804%,74.509804%,74.509804%);stroke-opacity:1;stroke-miterlimit:10;\" d=\"M 217.597656 309.71875 L 151.554688 296.667969 \"/>\n",
       "<path style=\"fill:none;stroke-width:0.5;stroke-linecap:butt;stroke-linejoin:miter;stroke:rgb(74.509804%,74.509804%,74.509804%);stroke-opacity:1;stroke-miterlimit:10;\" d=\"M 79.515625 235.207031 L 115.167969 195.996094 \"/>\n",
       "<path style=\"fill:none;stroke-width:0.5;stroke-linecap:butt;stroke-linejoin:miter;stroke:rgb(74.509804%,74.509804%,74.509804%);stroke-opacity:1;stroke-miterlimit:10;\" d=\"M 79.515625 235.207031 L 20 156.15625 \"/>\n",
       "<path style=\"fill:none;stroke-width:0.5;stroke-linecap:butt;stroke-linejoin:miter;stroke:rgb(74.509804%,74.509804%,74.509804%);stroke-opacity:1;stroke-miterlimit:10;\" d=\"M 79.515625 235.207031 L 151.554688 296.667969 \"/>\n",
       "<path style=\"fill:none;stroke-width:0.5;stroke-linecap:butt;stroke-linejoin:miter;stroke:rgb(74.509804%,74.509804%,74.509804%);stroke-opacity:1;stroke-miterlimit:10;\" d=\"M 312.511719 32.328125 L 410.863281 51.773438 \"/>\n",
       "<path style=\"fill:none;stroke-width:0.5;stroke-linecap:butt;stroke-linejoin:miter;stroke:rgb(74.509804%,74.509804%,74.509804%);stroke-opacity:1;stroke-miterlimit:10;\" d=\"M 312.511719 32.328125 L 347.71875 85.382812 \"/>\n",
       "<path style=\"fill:none;stroke-width:0.5;stroke-linecap:butt;stroke-linejoin:miter;stroke:rgb(74.509804%,74.509804%,74.509804%);stroke-opacity:1;stroke-miterlimit:10;\" d=\"M 439.894531 103.0625 L 410.863281 51.773438 \"/>\n",
       "<path style=\"fill:none;stroke-width:0.5;stroke-linecap:butt;stroke-linejoin:miter;stroke:rgb(74.509804%,74.509804%,74.509804%);stroke-opacity:1;stroke-miterlimit:10;\" d=\"M 439.894531 103.0625 L 347.71875 85.382812 \"/>\n",
       "<path style=\"fill:none;stroke-width:2;stroke-linecap:butt;stroke-linejoin:miter;stroke:rgb(100%,0%,0%);stroke-opacity:1;stroke-miterlimit:10;\" d=\"M 439.894531 103.0625 L 543.710938 42.511719 \"/>\n",
       "<path style=\"fill:none;stroke-width:0.5;stroke-linecap:butt;stroke-linejoin:miter;stroke:rgb(74.509804%,74.509804%,74.509804%);stroke-opacity:1;stroke-miterlimit:10;\" d=\"M 410.863281 51.773438 L 543.710938 42.511719 \"/>\n",
       "<path style=\"fill:none;stroke-width:0.5;stroke-linecap:butt;stroke-linejoin:miter;stroke:rgb(74.509804%,74.509804%,74.509804%);stroke-opacity:1;stroke-miterlimit:10;\" d=\"M 251.976562 347.332031 L 173.960938 382.304688 \"/>\n",
       "<path style=\"fill:none;stroke-width:0.5;stroke-linecap:butt;stroke-linejoin:miter;stroke:rgb(74.509804%,74.509804%,74.509804%);stroke-opacity:1;stroke-miterlimit:10;\" d=\"M 251.976562 347.332031 L 278.757812 467.304688 \"/>\n",
       "<path style=\"fill:none;stroke-width:0.5;stroke-linecap:butt;stroke-linejoin:miter;stroke:rgb(74.509804%,74.509804%,74.509804%);stroke-opacity:1;stroke-miterlimit:10;\" d=\"M 251.976562 347.332031 L 290.375 439.902344 \"/>\n",
       "<path style=\"fill:none;stroke-width:0.5;stroke-linecap:butt;stroke-linejoin:miter;stroke:rgb(74.509804%,74.509804%,74.509804%);stroke-opacity:1;stroke-miterlimit:10;\" d=\"M 97.109375 413.257812 L 290.375 439.902344 \"/>\n",
       "<path style=\"fill:none;stroke-width:0.5;stroke-linecap:butt;stroke-linejoin:miter;stroke:rgb(74.509804%,74.509804%,74.509804%);stroke-opacity:1;stroke-miterlimit:10;\" d=\"M 151.554688 296.667969 L 290.375 439.902344 \"/>\n",
       "<path style=\"fill:none;stroke-width:0.5;stroke-linecap:butt;stroke-linejoin:miter;stroke:rgb(74.509804%,74.509804%,74.509804%);stroke-opacity:1;stroke-miterlimit:10;\" d=\"M 347.828125 560.824219 L 278.757812 467.304688 \"/>\n",
       "<path style=\"fill:none;stroke-width:0.5;stroke-linecap:butt;stroke-linejoin:miter;stroke:rgb(74.509804%,74.509804%,74.509804%);stroke-opacity:1;stroke-miterlimit:10;\" d=\"M 347.828125 560.824219 L 290.375 439.902344 \"/>\n",
       "<path style=\"fill:none;stroke-width:2;stroke-linecap:butt;stroke-linejoin:miter;stroke:rgb(100%,0%,0%);stroke-opacity:1;stroke-miterlimit:10;\" d=\"M 133.496094 499.222656 L 278.757812 467.304688 \"/>\n",
       "<path style=\"fill:none;stroke-width:0.5;stroke-linecap:butt;stroke-linejoin:miter;stroke:rgb(74.509804%,74.509804%,74.509804%);stroke-opacity:1;stroke-miterlimit:10;\" d=\"M 133.496094 499.222656 L 290.375 439.902344 \"/>\n",
       "<path style=\"fill:none;stroke-width:0.5;stroke-linecap:butt;stroke-linejoin:miter;stroke:rgb(74.509804%,74.509804%,74.509804%);stroke-opacity:1;stroke-miterlimit:10;\" d=\"M 164.214844 544.449219 L 278.757812 467.304688 \"/>\n",
       "<path style=\"fill:none;stroke-width:0.5;stroke-linecap:butt;stroke-linejoin:miter;stroke:rgb(74.509804%,74.509804%,74.509804%);stroke-opacity:1;stroke-miterlimit:10;\" d=\"M 164.214844 544.449219 L 290.375 439.902344 \"/>\n",
       "<path style=\"fill:none;stroke-width:0.5;stroke-linecap:butt;stroke-linejoin:miter;stroke:rgb(74.509804%,74.509804%,74.509804%);stroke-opacity:1;stroke-miterlimit:10;\" d=\"M 293.289062 267.175781 L 290.375 439.902344 \"/>\n",
       "<path style=\"fill:none;stroke-width:0.5;stroke-linecap:butt;stroke-linejoin:miter;stroke:rgb(74.509804%,74.509804%,74.509804%);stroke-opacity:1;stroke-miterlimit:10;\" d=\"M 285.027344 580 L 278.757812 467.304688 \"/>\n",
       "<path style=\"fill:none;stroke-width:0.5;stroke-linecap:butt;stroke-linejoin:miter;stroke:rgb(74.509804%,74.509804%,74.509804%);stroke-opacity:1;stroke-miterlimit:10;\" d=\"M 285.027344 580 L 290.375 439.902344 \"/>\n",
       "<path style=\"fill:none;stroke-width:0.5;stroke-linecap:butt;stroke-linejoin:miter;stroke:rgb(74.509804%,74.509804%,74.509804%);stroke-opacity:1;stroke-miterlimit:10;\" d=\"M 223.25 563.792969 L 278.757812 467.304688 \"/>\n",
       "<path style=\"fill:none;stroke-width:0.5;stroke-linecap:butt;stroke-linejoin:miter;stroke:rgb(74.509804%,74.509804%,74.509804%);stroke-opacity:1;stroke-miterlimit:10;\" d=\"M 223.25 563.792969 L 290.375 439.902344 \"/>\n",
       "<path style=\"fill:none;stroke-width:0.5;stroke-linecap:butt;stroke-linejoin:miter;stroke:rgb(74.509804%,74.509804%,74.509804%);stroke-opacity:1;stroke-miterlimit:10;\" d=\"M 455.511719 451.648438 L 580 386.101562 \"/>\n",
       "<path style=\"fill:none;stroke-width:0.5;stroke-linecap:butt;stroke-linejoin:miter;stroke:rgb(74.509804%,74.509804%,74.509804%);stroke-opacity:1;stroke-miterlimit:10;\" d=\"M 455.511719 451.648438 L 431.488281 374.773438 \"/>\n",
       "<path style=\"fill:none;stroke-width:0.5;stroke-linecap:butt;stroke-linejoin:miter;stroke:rgb(74.509804%,74.509804%,74.509804%);stroke-opacity:1;stroke-miterlimit:10;\" d=\"M 455.511719 451.648438 L 278.757812 467.304688 \"/>\n",
       "<path style=\"fill:none;stroke-width:0.5;stroke-linecap:butt;stroke-linejoin:miter;stroke:rgb(74.509804%,74.509804%,74.509804%);stroke-opacity:1;stroke-miterlimit:10;\" d=\"M 455.511719 451.648438 L 290.375 439.902344 \"/>\n",
       "<path style=\"fill:none;stroke-width:0.5;stroke-linecap:butt;stroke-linejoin:miter;stroke:rgb(74.509804%,74.509804%,74.509804%);stroke-opacity:1;stroke-miterlimit:10;\" d=\"M 455.511719 451.648438 L 409.9375 511.394531 \"/>\n",
       "<path style=\"fill:none;stroke-width:0.5;stroke-linecap:butt;stroke-linejoin:miter;stroke:rgb(74.509804%,74.509804%,74.509804%);stroke-opacity:1;stroke-miterlimit:10;\" d=\"M 571.445312 321.46875 L 580 386.101562 \"/>\n",
       "<path style=\"fill:none;stroke-width:0.5;stroke-linecap:butt;stroke-linejoin:miter;stroke:rgb(74.509804%,74.509804%,74.509804%);stroke-opacity:1;stroke-miterlimit:10;\" d=\"M 571.445312 321.46875 L 431.488281 374.773438 \"/>\n",
       "<path style=\"fill:none;stroke-width:0.5;stroke-linecap:butt;stroke-linejoin:miter;stroke:rgb(74.509804%,74.509804%,74.509804%);stroke-opacity:1;stroke-miterlimit:10;\" d=\"M 571.445312 321.46875 L 409.925781 329.035156 \"/>\n",
       "<path style=\"fill:none;stroke-width:0.5;stroke-linecap:butt;stroke-linejoin:miter;stroke:rgb(74.509804%,74.509804%,74.509804%);stroke-opacity:1;stroke-miterlimit:10;\" d=\"M 580 386.101562 L 409.925781 329.035156 \"/>\n",
       "<path style=\"fill:none;stroke-width:0.5;stroke-linecap:butt;stroke-linejoin:miter;stroke:rgb(74.509804%,74.509804%,74.509804%);stroke-opacity:1;stroke-miterlimit:10;\" d=\"M 463.574219 553.773438 L 409.9375 511.394531 \"/>\n",
       "<path style=\"fill:none;stroke-width:0.5;stroke-linecap:butt;stroke-linejoin:miter;stroke:rgb(74.509804%,74.509804%,74.509804%);stroke-opacity:1;stroke-miterlimit:10;\" d=\"M 463.574219 553.773438 L 290.375 439.902344 \"/>\n",
       "<path style=\"fill:none;stroke-width:0.5;stroke-linecap:butt;stroke-linejoin:miter;stroke:rgb(74.509804%,74.509804%,74.509804%);stroke-opacity:1;stroke-miterlimit:10;\" d=\"M 431.488281 374.773438 L 290.375 439.902344 \"/>\n",
       "<path style=\"fill:none;stroke-width:0.5;stroke-linecap:butt;stroke-linejoin:miter;stroke:rgb(74.509804%,74.509804%,74.509804%);stroke-opacity:1;stroke-miterlimit:10;\" d=\"M 343.558594 359.785156 L 409.925781 329.035156 \"/>\n",
       "<path style=\"fill:none;stroke-width:0.5;stroke-linecap:butt;stroke-linejoin:miter;stroke:rgb(74.509804%,74.509804%,74.509804%);stroke-opacity:1;stroke-miterlimit:10;\" d=\"M 343.558594 359.785156 L 290.375 439.902344 \"/>\n",
       "<path style=\"fill:none;stroke-width:0.5;stroke-linecap:butt;stroke-linejoin:miter;stroke:rgb(74.509804%,74.509804%,74.509804%);stroke-opacity:1;stroke-miterlimit:10;\" d=\"M 409.9375 511.394531 L 278.757812 467.304688 \"/>\n",
       "<path style=\"fill:none;stroke-width:0.5;stroke-linecap:butt;stroke-linejoin:miter;stroke:rgb(74.509804%,74.509804%,74.509804%);stroke-opacity:1;stroke-miterlimit:10;\" d=\"M 409.9375 511.394531 L 290.375 439.902344 \"/>\n",
       "<path style=\"fill:none;stroke-width:0.5;stroke-linecap:butt;stroke-linejoin:miter;stroke:rgb(74.509804%,74.509804%,74.509804%);stroke-opacity:1;stroke-miterlimit:10;\" d=\"M 173.960938 382.304688 L 278.757812 467.304688 \"/>\n",
       "<path style=\"fill:none;stroke-width:0.5;stroke-linecap:butt;stroke-linejoin:miter;stroke:rgb(74.509804%,74.509804%,74.509804%);stroke-opacity:1;stroke-miterlimit:10;\" d=\"M 173.960938 382.304688 L 290.375 439.902344 \"/>\n",
       "<path style=\"fill:none;stroke-width:0.5;stroke-linecap:butt;stroke-linejoin:miter;stroke:rgb(74.509804%,74.509804%,74.509804%);stroke-opacity:1;stroke-miterlimit:10;\" d=\"M 409.925781 329.035156 L 278.757812 467.304688 \"/>\n",
       "<path style=\"fill:none;stroke-width:0.5;stroke-linecap:butt;stroke-linejoin:miter;stroke:rgb(74.509804%,74.509804%,74.509804%);stroke-opacity:1;stroke-miterlimit:10;\" d=\"M 409.925781 329.035156 L 290.375 439.902344 \"/>\n",
       "<path style=\"fill:none;stroke-width:0.5;stroke-linecap:butt;stroke-linejoin:miter;stroke:rgb(74.509804%,74.509804%,74.509804%);stroke-opacity:1;stroke-miterlimit:10;\" d=\"M 278.757812 467.304688 L 290.375 439.902344 \"/>\n",
       "<path style=\"fill-rule:nonzero;fill:rgb(100%,0%,0%);fill-opacity:1;stroke-width:1;stroke-linecap:butt;stroke-linejoin:miter;stroke:rgb(0%,0%,0%);stroke-opacity:1;stroke-miterlimit:10;\" d=\"M 253.953125 173.003906 C 253.953125 178.527344 249.476562 183.003906 243.953125 183.003906 C 238.429688 183.003906 233.953125 178.527344 233.953125 173.003906 C 233.953125 167.480469 238.429688 163.003906 243.953125 163.003906 C 249.476562 163.003906 253.953125 167.480469 253.953125 173.003906 \"/>\n",
       "<path style=\"fill-rule:nonzero;fill:rgb(74.509804%,74.509804%,74.509804%);fill-opacity:1;stroke-width:1;stroke-linecap:butt;stroke-linejoin:miter;stroke:rgb(0%,0%,0%);stroke-opacity:1;stroke-miterlimit:10;\" d=\"M 176.183594 224.988281 C 176.183594 230.511719 171.707031 234.988281 166.183594 234.988281 C 160.660156 234.988281 156.183594 230.511719 156.183594 224.988281 C 156.183594 219.46875 160.660156 214.988281 166.183594 214.988281 C 171.707031 214.988281 176.183594 219.46875 176.183594 224.988281 \"/>\n",
       "<path style=\"fill-rule:nonzero;fill:rgb(100%,0%,0%);fill-opacity:1;stroke-width:1;stroke-linecap:butt;stroke-linejoin:miter;stroke:rgb(0%,0%,0%);stroke-opacity:1;stroke-miterlimit:10;\" d=\"M 227.597656 309.71875 C 227.597656 315.242188 223.117188 319.71875 217.597656 319.71875 C 212.074219 319.71875 207.597656 315.242188 207.597656 309.71875 C 207.597656 304.199219 212.074219 299.71875 217.597656 299.71875 C 223.117188 299.71875 227.597656 304.199219 227.597656 309.71875 \"/>\n",
       "<path style=\"fill-rule:nonzero;fill:rgb(74.509804%,74.509804%,74.509804%);fill-opacity:1;stroke-width:1;stroke-linecap:butt;stroke-linejoin:miter;stroke:rgb(0%,0%,0%);stroke-opacity:1;stroke-miterlimit:10;\" d=\"M 89.515625 235.207031 C 89.515625 240.726562 85.039062 245.207031 79.515625 245.207031 C 73.992188 245.207031 69.515625 240.726562 69.515625 235.207031 C 69.515625 229.683594 73.992188 225.207031 79.515625 225.207031 C 85.039062 225.207031 89.515625 229.683594 89.515625 235.207031 \"/>\n",
       "<path style=\"fill-rule:nonzero;fill:rgb(74.509804%,74.509804%,74.509804%);fill-opacity:1;stroke-width:1;stroke-linecap:butt;stroke-linejoin:miter;stroke:rgb(0%,0%,0%);stroke-opacity:1;stroke-miterlimit:10;\" d=\"M 322.511719 32.328125 C 322.511719 37.847656 318.035156 42.328125 312.511719 42.328125 C 306.988281 42.328125 302.511719 37.847656 302.511719 32.328125 C 302.511719 26.804688 306.988281 22.328125 312.511719 22.328125 C 318.035156 22.328125 322.511719 26.804688 322.511719 32.328125 \"/>\n",
       "<path style=\"fill-rule:nonzero;fill:rgb(100%,0%,0%);fill-opacity:1;stroke-width:1;stroke-linecap:butt;stroke-linejoin:miter;stroke:rgb(0%,0%,0%);stroke-opacity:1;stroke-miterlimit:10;\" d=\"M 449.894531 103.0625 C 449.894531 108.585938 445.417969 113.0625 439.894531 113.0625 C 434.371094 113.0625 429.894531 108.585938 429.894531 103.0625 C 429.894531 97.539062 434.371094 93.0625 439.894531 93.0625 C 445.417969 93.0625 449.894531 97.539062 449.894531 103.0625 \"/>\n",
       "<path style=\"fill-rule:nonzero;fill:rgb(74.509804%,74.509804%,74.509804%);fill-opacity:1;stroke-width:1;stroke-linecap:butt;stroke-linejoin:miter;stroke:rgb(0%,0%,0%);stroke-opacity:1;stroke-miterlimit:10;\" d=\"M 420.863281 51.773438 C 420.863281 57.296875 416.386719 61.773438 410.863281 61.773438 C 405.34375 61.773438 400.863281 57.296875 400.863281 51.773438 C 400.863281 46.25 405.34375 41.773438 410.863281 41.773438 C 416.386719 41.773438 420.863281 46.25 420.863281 51.773438 \"/>\n",
       "<path style=\"fill-rule:nonzero;fill:rgb(74.509804%,74.509804%,74.509804%);fill-opacity:1;stroke-width:1;stroke-linecap:butt;stroke-linejoin:miter;stroke:rgb(0%,0%,0%);stroke-opacity:1;stroke-miterlimit:10;\" d=\"M 125.167969 195.996094 C 125.167969 201.515625 120.691406 205.996094 115.167969 205.996094 C 109.648438 205.996094 105.167969 201.515625 105.167969 195.996094 C 105.167969 190.472656 109.648438 185.996094 115.167969 185.996094 C 120.691406 185.996094 125.167969 190.472656 125.167969 195.996094 \"/>\n",
       "<path style=\"fill-rule:nonzero;fill:rgb(74.509804%,74.509804%,74.509804%);fill-opacity:1;stroke-width:1;stroke-linecap:butt;stroke-linejoin:miter;stroke:rgb(0%,0%,0%);stroke-opacity:1;stroke-miterlimit:10;\" d=\"M 261.976562 347.332031 C 261.976562 352.855469 257.496094 357.332031 251.976562 357.332031 C 246.453125 357.332031 241.976562 352.855469 241.976562 347.332031 C 241.976562 341.808594 246.453125 337.332031 251.976562 337.332031 C 257.496094 337.332031 261.976562 341.808594 261.976562 347.332031 \"/>\n",
       "<path style=\"fill-rule:nonzero;fill:rgb(74.509804%,74.509804%,74.509804%);fill-opacity:1;stroke-width:1;stroke-linecap:butt;stroke-linejoin:miter;stroke:rgb(0%,0%,0%);stroke-opacity:1;stroke-miterlimit:10;\" d=\"M 107.109375 413.257812 C 107.109375 418.78125 102.632812 423.257812 97.109375 423.257812 C 91.585938 423.257812 87.109375 418.78125 87.109375 413.257812 C 87.109375 407.734375 91.585938 403.257812 97.109375 403.257812 C 102.632812 403.257812 107.109375 407.734375 107.109375 413.257812 \"/>\n",
       "<path style=\"fill-rule:nonzero;fill:rgb(74.509804%,74.509804%,74.509804%);fill-opacity:1;stroke-width:1;stroke-linecap:butt;stroke-linejoin:miter;stroke:rgb(0%,0%,0%);stroke-opacity:1;stroke-miterlimit:10;\" d=\"M 357.71875 85.382812 C 357.71875 90.90625 353.242188 95.382812 347.71875 95.382812 C 342.199219 95.382812 337.71875 90.90625 337.71875 85.382812 C 337.71875 79.859375 342.199219 75.382812 347.71875 75.382812 C 353.242188 75.382812 357.71875 79.859375 357.71875 85.382812 \"/>\n",
       "<path style=\"fill-rule:nonzero;fill:rgb(74.509804%,74.509804%,74.509804%);fill-opacity:1;stroke-width:1;stroke-linecap:butt;stroke-linejoin:miter;stroke:rgb(0%,0%,0%);stroke-opacity:1;stroke-miterlimit:10;\" d=\"M 192.925781 20 C 192.925781 25.523438 188.449219 30 182.925781 30 C 177.402344 30 172.925781 25.523438 172.925781 20 C 172.925781 14.476562 177.402344 10 182.925781 10 C 188.449219 10 192.925781 14.476562 192.925781 20 \"/>\n",
       "<path style=\"fill-rule:nonzero;fill:rgb(74.509804%,74.509804%,74.509804%);fill-opacity:1;stroke-width:1;stroke-linecap:butt;stroke-linejoin:miter;stroke:rgb(0%,0%,0%);stroke-opacity:1;stroke-miterlimit:10;\" d=\"M 30 156.15625 C 30 161.679688 25.523438 166.15625 20 166.15625 C 14.476562 166.15625 10 161.679688 10 156.15625 C 10 150.632812 14.476562 146.15625 20 146.15625 C 25.523438 146.15625 30 150.632812 30 156.15625 \"/>\n",
       "<path style=\"fill-rule:nonzero;fill:rgb(74.509804%,74.509804%,74.509804%);fill-opacity:1;stroke-width:1;stroke-linecap:butt;stroke-linejoin:miter;stroke:rgb(0%,0%,0%);stroke-opacity:1;stroke-miterlimit:10;\" d=\"M 161.554688 296.667969 C 161.554688 302.191406 157.078125 306.667969 151.554688 306.667969 C 146.03125 306.667969 141.554688 302.191406 141.554688 296.667969 C 141.554688 291.144531 146.03125 286.667969 151.554688 286.667969 C 157.078125 286.667969 161.554688 291.144531 161.554688 296.667969 \"/>\n",
       "<path style=\"fill-rule:nonzero;fill:rgb(74.509804%,74.509804%,74.509804%);fill-opacity:1;stroke-width:1;stroke-linecap:butt;stroke-linejoin:miter;stroke:rgb(0%,0%,0%);stroke-opacity:1;stroke-miterlimit:10;\" d=\"M 357.828125 560.824219 C 357.828125 566.347656 353.347656 570.824219 347.828125 570.824219 C 342.304688 570.824219 337.828125 566.347656 337.828125 560.824219 C 337.828125 555.300781 342.304688 550.824219 347.828125 550.824219 C 353.347656 550.824219 357.828125 555.300781 357.828125 560.824219 \"/>\n",
       "<path style=\"fill-rule:nonzero;fill:rgb(100%,0%,0%);fill-opacity:1;stroke-width:1;stroke-linecap:butt;stroke-linejoin:miter;stroke:rgb(0%,0%,0%);stroke-opacity:1;stroke-miterlimit:10;\" d=\"M 143.496094 499.222656 C 143.496094 504.746094 139.019531 509.222656 133.496094 509.222656 C 127.972656 509.222656 123.496094 504.746094 123.496094 499.222656 C 123.496094 493.699219 127.972656 489.222656 133.496094 489.222656 C 139.019531 489.222656 143.496094 493.699219 143.496094 499.222656 \"/>\n",
       "<path style=\"fill-rule:nonzero;fill:rgb(100%,0%,0%);fill-opacity:1;stroke-width:1;stroke-linecap:butt;stroke-linejoin:miter;stroke:rgb(0%,0%,0%);stroke-opacity:1;stroke-miterlimit:10;\" d=\"M 553.710938 42.511719 C 553.710938 48.035156 549.234375 52.511719 543.710938 52.511719 C 538.1875 52.511719 533.710938 48.035156 533.710938 42.511719 C 533.710938 36.992188 538.1875 32.511719 543.710938 32.511719 C 549.234375 32.511719 553.710938 36.992188 553.710938 42.511719 \"/>\n",
       "<path style=\"fill-rule:nonzero;fill:rgb(74.509804%,74.509804%,74.509804%);fill-opacity:1;stroke-width:1;stroke-linecap:butt;stroke-linejoin:miter;stroke:rgb(0%,0%,0%);stroke-opacity:1;stroke-miterlimit:10;\" d=\"M 179.234375 101.558594 C 179.234375 107.082031 174.757812 111.558594 169.234375 111.558594 C 163.714844 111.558594 159.234375 107.082031 159.234375 101.558594 C 159.234375 96.035156 163.714844 91.558594 169.234375 91.558594 C 174.757812 91.558594 179.234375 96.035156 179.234375 101.558594 \"/>\n",
       "<path style=\"fill-rule:nonzero;fill:rgb(74.509804%,74.509804%,74.509804%);fill-opacity:1;stroke-width:1;stroke-linecap:butt;stroke-linejoin:miter;stroke:rgb(0%,0%,0%);stroke-opacity:1;stroke-miterlimit:10;\" d=\"M 174.214844 544.449219 C 174.214844 549.972656 169.738281 554.449219 164.214844 554.449219 C 158.691406 554.449219 154.214844 549.972656 154.214844 544.449219 C 154.214844 538.925781 158.691406 534.449219 164.214844 534.449219 C 169.738281 534.449219 174.214844 538.925781 174.214844 544.449219 \"/>\n",
       "<path style=\"fill-rule:nonzero;fill:rgb(74.509804%,74.509804%,74.509804%);fill-opacity:1;stroke-width:1;stroke-linecap:butt;stroke-linejoin:miter;stroke:rgb(0%,0%,0%);stroke-opacity:1;stroke-miterlimit:10;\" d=\"M 303.289062 267.175781 C 303.289062 272.699219 298.8125 277.175781 293.289062 277.175781 C 287.765625 277.175781 283.289062 272.699219 283.289062 267.175781 C 283.289062 261.652344 287.765625 257.175781 293.289062 257.175781 C 298.8125 257.175781 303.289062 261.652344 303.289062 267.175781 \"/>\n",
       "<path style=\"fill-rule:nonzero;fill:rgb(74.509804%,74.509804%,74.509804%);fill-opacity:1;stroke-width:1;stroke-linecap:butt;stroke-linejoin:miter;stroke:rgb(0%,0%,0%);stroke-opacity:1;stroke-miterlimit:10;\" d=\"M 295.027344 580 C 295.027344 585.523438 290.550781 590 285.027344 590 C 279.507812 590 275.027344 585.523438 275.027344 580 C 275.027344 574.476562 279.507812 570 285.027344 570 C 290.550781 570 295.027344 574.476562 295.027344 580 \"/>\n",
       "<path style=\"fill-rule:nonzero;fill:rgb(74.509804%,74.509804%,74.509804%);fill-opacity:1;stroke-width:1;stroke-linecap:butt;stroke-linejoin:miter;stroke:rgb(0%,0%,0%);stroke-opacity:1;stroke-miterlimit:10;\" d=\"M 102.636719 113.039062 C 102.636719 118.5625 98.160156 123.039062 92.636719 123.039062 C 87.113281 123.039062 82.636719 118.5625 82.636719 113.039062 C 82.636719 107.515625 87.113281 103.039062 92.636719 103.039062 C 98.160156 103.039062 102.636719 107.515625 102.636719 113.039062 \"/>\n",
       "<path style=\"fill-rule:nonzero;fill:rgb(74.509804%,74.509804%,74.509804%);fill-opacity:1;stroke-width:1;stroke-linecap:butt;stroke-linejoin:miter;stroke:rgb(0%,0%,0%);stroke-opacity:1;stroke-miterlimit:10;\" d=\"M 233.25 563.792969 C 233.25 569.316406 228.773438 573.792969 223.25 573.792969 C 217.726562 573.792969 213.25 569.316406 213.25 563.792969 C 213.25 558.273438 217.726562 553.792969 223.25 553.792969 C 228.773438 553.792969 233.25 558.273438 233.25 563.792969 \"/>\n",
       "<path style=\"fill-rule:nonzero;fill:rgb(74.509804%,74.509804%,74.509804%);fill-opacity:1;stroke-width:1;stroke-linecap:butt;stroke-linejoin:miter;stroke:rgb(0%,0%,0%);stroke-opacity:1;stroke-miterlimit:10;\" d=\"M 465.511719 451.648438 C 465.511719 457.171875 461.035156 461.648438 455.511719 461.648438 C 449.992188 461.648438 445.511719 457.171875 445.511719 451.648438 C 445.511719 446.128906 449.992188 441.648438 455.511719 441.648438 C 461.035156 441.648438 465.511719 446.128906 465.511719 451.648438 \"/>\n",
       "<path style=\"fill-rule:nonzero;fill:rgb(74.509804%,74.509804%,74.509804%);fill-opacity:1;stroke-width:1;stroke-linecap:butt;stroke-linejoin:miter;stroke:rgb(0%,0%,0%);stroke-opacity:1;stroke-miterlimit:10;\" d=\"M 581.445312 321.46875 C 581.445312 326.992188 576.96875 331.46875 571.445312 331.46875 C 565.921875 331.46875 561.445312 326.992188 561.445312 321.46875 C 561.445312 315.945312 565.921875 311.46875 571.445312 311.46875 C 576.96875 311.46875 581.445312 315.945312 581.445312 321.46875 \"/>\n",
       "<path style=\"fill-rule:nonzero;fill:rgb(74.509804%,74.509804%,74.509804%);fill-opacity:1;stroke-width:1;stroke-linecap:butt;stroke-linejoin:miter;stroke:rgb(0%,0%,0%);stroke-opacity:1;stroke-miterlimit:10;\" d=\"M 590 386.101562 C 590 391.621094 585.523438 396.101562 580 396.101562 C 574.476562 396.101562 570 391.621094 570 386.101562 C 570 380.578125 574.476562 376.101562 580 376.101562 C 585.523438 376.101562 590 380.578125 590 386.101562 \"/>\n",
       "<path style=\"fill-rule:nonzero;fill:rgb(74.509804%,74.509804%,74.509804%);fill-opacity:1;stroke-width:1;stroke-linecap:butt;stroke-linejoin:miter;stroke:rgb(0%,0%,0%);stroke-opacity:1;stroke-miterlimit:10;\" d=\"M 473.574219 553.773438 C 473.574219 559.296875 469.097656 563.773438 463.574219 563.773438 C 458.050781 563.773438 453.574219 559.296875 453.574219 553.773438 C 453.574219 548.25 458.050781 543.773438 463.574219 543.773438 C 469.097656 543.773438 473.574219 548.25 473.574219 553.773438 \"/>\n",
       "<path style=\"fill-rule:nonzero;fill:rgb(74.509804%,74.509804%,74.509804%);fill-opacity:1;stroke-width:1;stroke-linecap:butt;stroke-linejoin:miter;stroke:rgb(0%,0%,0%);stroke-opacity:1;stroke-miterlimit:10;\" d=\"M 441.488281 374.773438 C 441.488281 380.296875 437.011719 384.773438 431.488281 384.773438 C 425.96875 384.773438 421.488281 380.296875 421.488281 374.773438 C 421.488281 369.25 425.96875 364.773438 431.488281 364.773438 C 437.011719 364.773438 441.488281 369.25 441.488281 374.773438 \"/>\n",
       "<path style=\"fill-rule:nonzero;fill:rgb(74.509804%,74.509804%,74.509804%);fill-opacity:1;stroke-width:1;stroke-linecap:butt;stroke-linejoin:miter;stroke:rgb(0%,0%,0%);stroke-opacity:1;stroke-miterlimit:10;\" d=\"M 353.558594 359.785156 C 353.558594 365.308594 349.082031 369.785156 343.558594 369.785156 C 338.035156 369.785156 333.558594 365.308594 333.558594 359.785156 C 333.558594 354.261719 338.035156 349.785156 343.558594 349.785156 C 349.082031 349.785156 353.558594 354.261719 353.558594 359.785156 \"/>\n",
       "<path style=\"fill-rule:nonzero;fill:rgb(74.509804%,74.509804%,74.509804%);fill-opacity:1;stroke-width:1;stroke-linecap:butt;stroke-linejoin:miter;stroke:rgb(0%,0%,0%);stroke-opacity:1;stroke-miterlimit:10;\" d=\"M 419.9375 511.394531 C 419.9375 516.914062 415.460938 521.394531 409.9375 521.394531 C 404.414062 521.394531 399.9375 516.914062 399.9375 511.394531 C 399.9375 505.871094 404.414062 501.394531 409.9375 501.394531 C 415.460938 501.394531 419.9375 505.871094 419.9375 511.394531 \"/>\n",
       "<path style=\"fill-rule:nonzero;fill:rgb(74.509804%,74.509804%,74.509804%);fill-opacity:1;stroke-width:1;stroke-linecap:butt;stroke-linejoin:miter;stroke:rgb(0%,0%,0%);stroke-opacity:1;stroke-miterlimit:10;\" d=\"M 183.960938 382.304688 C 183.960938 387.828125 179.484375 392.304688 173.960938 392.304688 C 168.4375 392.304688 163.960938 387.828125 163.960938 382.304688 C 163.960938 376.78125 168.4375 372.304688 173.960938 372.304688 C 179.484375 372.304688 183.960938 376.78125 183.960938 382.304688 \"/>\n",
       "<path style=\"fill-rule:nonzero;fill:rgb(74.509804%,74.509804%,74.509804%);fill-opacity:1;stroke-width:1;stroke-linecap:butt;stroke-linejoin:miter;stroke:rgb(0%,0%,0%);stroke-opacity:1;stroke-miterlimit:10;\" d=\"M 419.925781 329.035156 C 419.925781 334.558594 415.449219 339.035156 409.925781 339.035156 C 404.402344 339.035156 399.925781 334.558594 399.925781 329.035156 C 399.925781 323.511719 404.402344 319.035156 409.925781 319.035156 C 415.449219 319.035156 419.925781 323.511719 419.925781 329.035156 \"/>\n",
       "<path style=\"fill-rule:nonzero;fill:rgb(100%,0%,0%);fill-opacity:1;stroke-width:1;stroke-linecap:butt;stroke-linejoin:miter;stroke:rgb(0%,0%,0%);stroke-opacity:1;stroke-miterlimit:10;\" d=\"M 288.757812 467.304688 C 288.757812 472.828125 284.28125 477.304688 278.757812 477.304688 C 273.238281 477.304688 268.757812 472.828125 268.757812 467.304688 C 268.757812 461.78125 273.238281 457.304688 278.757812 457.304688 C 284.28125 457.304688 288.757812 461.78125 288.757812 467.304688 \"/>\n",
       "<path style=\"fill-rule:nonzero;fill:rgb(74.509804%,74.509804%,74.509804%);fill-opacity:1;stroke-width:1;stroke-linecap:butt;stroke-linejoin:miter;stroke:rgb(0%,0%,0%);stroke-opacity:1;stroke-miterlimit:10;\" d=\"M 300.375 439.902344 C 300.375 445.425781 295.898438 449.902344 290.375 449.902344 C 284.851562 449.902344 280.375 445.425781 280.375 439.902344 C 280.375 434.378906 284.851562 429.902344 290.375 429.902344 C 295.898438 429.902344 300.375 434.378906 300.375 439.902344 \"/>\n",
       "</g>\n",
       "</svg>\n"
      ],
      "text/plain": [
       "<igraph.drawing.Plot at 0x1a1ea47860>"
      ]
     },
     "execution_count": 19,
     "metadata": {},
     "output_type": "execute_result"
    }
   ],
   "source": [
    "G.delete_edges(G.es.select(_between=[(4, 5, 6, 10), (0,)]))\n",
    "ig.plot(G)"
   ]
  },
  {
   "cell_type": "markdown",
   "metadata": {},
   "source": [
    "The path we constructed earlier is now no longer connected. In this case, there is no longer any path between the two nodes at all. The distance between the two nodes in hence infinitely large."
   ]
  },
  {
   "cell_type": "code",
   "execution_count": 20,
   "metadata": {
    "ExecuteTime": {
     "end_time": "2019-06-25T21:28:52.375195Z",
     "start_time": "2019-06-25T21:28:52.369065Z"
    }
   },
   "outputs": [
    {
     "data": {
      "text/plain": [
       "[[inf]]"
      ]
     },
     "execution_count": 20,
     "metadata": {},
     "output_type": "execute_result"
    }
   ],
   "source": [
    "G.shortest_paths(source=16, target=15)"
   ]
  },
  {
   "cell_type": "markdown",
   "metadata": {},
   "source": [
    "There is now no longer a path between any two nodes, and the graph is then no longer said to be *connected*."
   ]
  },
  {
   "cell_type": "code",
   "execution_count": 21,
   "metadata": {
    "ExecuteTime": {
     "end_time": "2019-06-25T21:28:53.508317Z",
     "start_time": "2019-06-25T21:28:53.502834Z"
    }
   },
   "outputs": [
    {
     "data": {
      "text/plain": [
       "False"
      ]
     },
     "execution_count": 21,
     "metadata": {},
     "output_type": "execute_result"
    }
   ],
   "source": [
    "G.is_connected()"
   ]
  },
  {
   "cell_type": "markdown",
   "metadata": {},
   "source": [
    "The network is now said to be *disconnected* and the different parts of the network that still are connected are called *connected components*."
   ]
  },
  {
   "cell_type": "code",
   "execution_count": 22,
   "metadata": {
    "ExecuteTime": {
     "end_time": "2019-06-25T21:28:54.616821Z",
     "start_time": "2019-06-25T21:28:54.605051Z"
    }
   },
   "outputs": [
    {
     "data": {
      "image/svg+xml": [
       "<?xml version=\"1.0\" encoding=\"UTF-8\"?>\n",
       "<svg xmlns=\"http://www.w3.org/2000/svg\" xmlns:xlink=\"http://www.w3.org/1999/xlink\" width=\"600pt\" height=\"600pt\" viewBox=\"0 0 600 600\" version=\"1.1\">\n",
       "<g id=\"surface32\">\n",
       "<rect x=\"0\" y=\"0\" width=\"600\" height=\"600\" style=\"fill:rgb(100%,100%,100%);fill-opacity:1;stroke:none;\"/>\n",
       "<path style=\"fill:none;stroke-width:0.5;stroke-linecap:butt;stroke-linejoin:miter;stroke:rgb(74.509804%,74.509804%,74.509804%);stroke-opacity:1;stroke-miterlimit:10;\" d=\"M 243.953125 173.003906 L 166.183594 224.988281 \"/>\n",
       "<path style=\"fill:none;stroke-width:2;stroke-linecap:butt;stroke-linejoin:miter;stroke:rgb(100%,0%,0%);stroke-opacity:1;stroke-miterlimit:10;\" d=\"M 243.953125 173.003906 L 217.597656 309.71875 \"/>\n",
       "<path style=\"fill:none;stroke-width:0.5;stroke-linecap:butt;stroke-linejoin:miter;stroke:rgb(74.509804%,74.509804%,74.509804%);stroke-opacity:1;stroke-miterlimit:10;\" d=\"M 243.953125 173.003906 L 79.515625 235.207031 \"/>\n",
       "<path style=\"fill:none;stroke-width:0.5;stroke-linecap:butt;stroke-linejoin:miter;stroke:rgb(74.509804%,74.509804%,74.509804%);stroke-opacity:1;stroke-miterlimit:10;\" d=\"M 243.953125 173.003906 L 115.167969 195.996094 \"/>\n",
       "<path style=\"fill:none;stroke-width:0.5;stroke-linecap:butt;stroke-linejoin:miter;stroke:rgb(74.509804%,74.509804%,74.509804%);stroke-opacity:1;stroke-miterlimit:10;\" d=\"M 243.953125 173.003906 L 251.976562 347.332031 \"/>\n",
       "<path style=\"fill:none;stroke-width:0.5;stroke-linecap:butt;stroke-linejoin:miter;stroke:rgb(74.509804%,74.509804%,74.509804%);stroke-opacity:1;stroke-miterlimit:10;\" d=\"M 243.953125 173.003906 L 182.925781 20 \"/>\n",
       "<path style=\"fill:none;stroke-width:0.5;stroke-linecap:butt;stroke-linejoin:miter;stroke:rgb(74.509804%,74.509804%,74.509804%);stroke-opacity:1;stroke-miterlimit:10;\" d=\"M 243.953125 173.003906 L 20 156.15625 \"/>\n",
       "<path style=\"fill:none;stroke-width:0.5;stroke-linecap:butt;stroke-linejoin:miter;stroke:rgb(74.509804%,74.509804%,74.509804%);stroke-opacity:1;stroke-miterlimit:10;\" d=\"M 243.953125 173.003906 L 151.554688 296.667969 \"/>\n",
       "<path style=\"fill:none;stroke-width:0.5;stroke-linecap:butt;stroke-linejoin:miter;stroke:rgb(74.509804%,74.509804%,74.509804%);stroke-opacity:1;stroke-miterlimit:10;\" d=\"M 243.953125 173.003906 L 169.234375 101.558594 \"/>\n",
       "<path style=\"fill:none;stroke-width:0.5;stroke-linecap:butt;stroke-linejoin:miter;stroke:rgb(74.509804%,74.509804%,74.509804%);stroke-opacity:1;stroke-miterlimit:10;\" d=\"M 243.953125 173.003906 L 293.289062 267.175781 \"/>\n",
       "<path style=\"fill:none;stroke-width:0.5;stroke-linecap:butt;stroke-linejoin:miter;stroke:rgb(74.509804%,74.509804%,74.509804%);stroke-opacity:1;stroke-miterlimit:10;\" d=\"M 243.953125 173.003906 L 92.636719 113.039062 \"/>\n",
       "<path style=\"fill:none;stroke-width:0.5;stroke-linecap:butt;stroke-linejoin:miter;stroke:rgb(74.509804%,74.509804%,74.509804%);stroke-opacity:1;stroke-miterlimit:10;\" d=\"M 243.953125 173.003906 L 409.925781 329.035156 \"/>\n",
       "<path style=\"fill:none;stroke-width:0.5;stroke-linecap:butt;stroke-linejoin:miter;stroke:rgb(74.509804%,74.509804%,74.509804%);stroke-opacity:1;stroke-miterlimit:10;\" d=\"M 166.183594 224.988281 L 217.597656 309.71875 \"/>\n",
       "<path style=\"fill:none;stroke-width:0.5;stroke-linecap:butt;stroke-linejoin:miter;stroke:rgb(74.509804%,74.509804%,74.509804%);stroke-opacity:1;stroke-miterlimit:10;\" d=\"M 166.183594 224.988281 L 79.515625 235.207031 \"/>\n",
       "<path style=\"fill:none;stroke-width:0.5;stroke-linecap:butt;stroke-linejoin:miter;stroke:rgb(74.509804%,74.509804%,74.509804%);stroke-opacity:1;stroke-miterlimit:10;\" d=\"M 166.183594 224.988281 L 115.167969 195.996094 \"/>\n",
       "<path style=\"fill:none;stroke-width:0.5;stroke-linecap:butt;stroke-linejoin:miter;stroke:rgb(74.509804%,74.509804%,74.509804%);stroke-opacity:1;stroke-miterlimit:10;\" d=\"M 166.183594 224.988281 L 151.554688 296.667969 \"/>\n",
       "<path style=\"fill:none;stroke-width:0.5;stroke-linecap:butt;stroke-linejoin:miter;stroke:rgb(74.509804%,74.509804%,74.509804%);stroke-opacity:1;stroke-miterlimit:10;\" d=\"M 166.183594 224.988281 L 169.234375 101.558594 \"/>\n",
       "<path style=\"fill:none;stroke-width:0.5;stroke-linecap:butt;stroke-linejoin:miter;stroke:rgb(74.509804%,74.509804%,74.509804%);stroke-opacity:1;stroke-miterlimit:10;\" d=\"M 166.183594 224.988281 L 293.289062 267.175781 \"/>\n",
       "<path style=\"fill:none;stroke-width:0.5;stroke-linecap:butt;stroke-linejoin:miter;stroke:rgb(74.509804%,74.509804%,74.509804%);stroke-opacity:1;stroke-miterlimit:10;\" d=\"M 166.183594 224.988281 L 92.636719 113.039062 \"/>\n",
       "<path style=\"fill:none;stroke-width:0.5;stroke-linecap:butt;stroke-linejoin:miter;stroke:rgb(74.509804%,74.509804%,74.509804%);stroke-opacity:1;stroke-miterlimit:10;\" d=\"M 166.183594 224.988281 L 173.960938 382.304688 \"/>\n",
       "<path style=\"fill:none;stroke-width:0.5;stroke-linecap:butt;stroke-linejoin:miter;stroke:rgb(74.509804%,74.509804%,74.509804%);stroke-opacity:1;stroke-miterlimit:10;\" d=\"M 217.597656 309.71875 L 79.515625 235.207031 \"/>\n",
       "<path style=\"fill:none;stroke-width:0.5;stroke-linecap:butt;stroke-linejoin:miter;stroke:rgb(74.509804%,74.509804%,74.509804%);stroke-opacity:1;stroke-miterlimit:10;\" d=\"M 217.597656 309.71875 L 115.167969 195.996094 \"/>\n",
       "<path style=\"fill:none;stroke-width:0.5;stroke-linecap:butt;stroke-linejoin:miter;stroke:rgb(74.509804%,74.509804%,74.509804%);stroke-opacity:1;stroke-miterlimit:10;\" d=\"M 217.597656 309.71875 L 431.488281 374.773438 \"/>\n",
       "<path style=\"fill:none;stroke-width:0.5;stroke-linecap:butt;stroke-linejoin:miter;stroke:rgb(74.509804%,74.509804%,74.509804%);stroke-opacity:1;stroke-miterlimit:10;\" d=\"M 217.597656 309.71875 L 343.558594 359.785156 \"/>\n",
       "<path style=\"fill:none;stroke-width:2;stroke-linecap:butt;stroke-linejoin:miter;stroke:rgb(100%,0%,0%);stroke-opacity:1;stroke-miterlimit:10;\" d=\"M 217.597656 309.71875 L 278.757812 467.304688 \"/>\n",
       "<path style=\"fill:none;stroke-width:0.5;stroke-linecap:butt;stroke-linejoin:miter;stroke:rgb(74.509804%,74.509804%,74.509804%);stroke-opacity:1;stroke-miterlimit:10;\" d=\"M 217.597656 309.71875 L 97.109375 413.257812 \"/>\n",
       "<path style=\"fill:none;stroke-width:0.5;stroke-linecap:butt;stroke-linejoin:miter;stroke:rgb(74.509804%,74.509804%,74.509804%);stroke-opacity:1;stroke-miterlimit:10;\" d=\"M 217.597656 309.71875 L 251.976562 347.332031 \"/>\n",
       "<path style=\"fill:none;stroke-width:0.5;stroke-linecap:butt;stroke-linejoin:miter;stroke:rgb(74.509804%,74.509804%,74.509804%);stroke-opacity:1;stroke-miterlimit:10;\" d=\"M 217.597656 309.71875 L 151.554688 296.667969 \"/>\n",
       "<path style=\"fill:none;stroke-width:0.5;stroke-linecap:butt;stroke-linejoin:miter;stroke:rgb(74.509804%,74.509804%,74.509804%);stroke-opacity:1;stroke-miterlimit:10;\" d=\"M 79.515625 235.207031 L 115.167969 195.996094 \"/>\n",
       "<path style=\"fill:none;stroke-width:0.5;stroke-linecap:butt;stroke-linejoin:miter;stroke:rgb(74.509804%,74.509804%,74.509804%);stroke-opacity:1;stroke-miterlimit:10;\" d=\"M 79.515625 235.207031 L 20 156.15625 \"/>\n",
       "<path style=\"fill:none;stroke-width:0.5;stroke-linecap:butt;stroke-linejoin:miter;stroke:rgb(74.509804%,74.509804%,74.509804%);stroke-opacity:1;stroke-miterlimit:10;\" d=\"M 79.515625 235.207031 L 151.554688 296.667969 \"/>\n",
       "<path style=\"fill:none;stroke-width:0.5;stroke-linecap:butt;stroke-linejoin:miter;stroke:rgb(74.509804%,74.509804%,74.509804%);stroke-opacity:1;stroke-miterlimit:10;\" d=\"M 312.511719 32.328125 L 410.863281 51.773438 \"/>\n",
       "<path style=\"fill:none;stroke-width:0.5;stroke-linecap:butt;stroke-linejoin:miter;stroke:rgb(74.509804%,74.509804%,74.509804%);stroke-opacity:1;stroke-miterlimit:10;\" d=\"M 312.511719 32.328125 L 347.71875 85.382812 \"/>\n",
       "<path style=\"fill:none;stroke-width:0.5;stroke-linecap:butt;stroke-linejoin:miter;stroke:rgb(74.509804%,74.509804%,74.509804%);stroke-opacity:1;stroke-miterlimit:10;\" d=\"M 439.894531 103.0625 L 410.863281 51.773438 \"/>\n",
       "<path style=\"fill:none;stroke-width:0.5;stroke-linecap:butt;stroke-linejoin:miter;stroke:rgb(74.509804%,74.509804%,74.509804%);stroke-opacity:1;stroke-miterlimit:10;\" d=\"M 439.894531 103.0625 L 347.71875 85.382812 \"/>\n",
       "<path style=\"fill:none;stroke-width:2;stroke-linecap:butt;stroke-linejoin:miter;stroke:rgb(100%,0%,0%);stroke-opacity:1;stroke-miterlimit:10;\" d=\"M 439.894531 103.0625 L 543.710938 42.511719 \"/>\n",
       "<path style=\"fill:none;stroke-width:0.5;stroke-linecap:butt;stroke-linejoin:miter;stroke:rgb(74.509804%,74.509804%,74.509804%);stroke-opacity:1;stroke-miterlimit:10;\" d=\"M 410.863281 51.773438 L 543.710938 42.511719 \"/>\n",
       "<path style=\"fill:none;stroke-width:0.5;stroke-linecap:butt;stroke-linejoin:miter;stroke:rgb(74.509804%,74.509804%,74.509804%);stroke-opacity:1;stroke-miterlimit:10;\" d=\"M 251.976562 347.332031 L 173.960938 382.304688 \"/>\n",
       "<path style=\"fill:none;stroke-width:0.5;stroke-linecap:butt;stroke-linejoin:miter;stroke:rgb(74.509804%,74.509804%,74.509804%);stroke-opacity:1;stroke-miterlimit:10;\" d=\"M 251.976562 347.332031 L 278.757812 467.304688 \"/>\n",
       "<path style=\"fill:none;stroke-width:0.5;stroke-linecap:butt;stroke-linejoin:miter;stroke:rgb(74.509804%,74.509804%,74.509804%);stroke-opacity:1;stroke-miterlimit:10;\" d=\"M 251.976562 347.332031 L 290.375 439.902344 \"/>\n",
       "<path style=\"fill:none;stroke-width:0.5;stroke-linecap:butt;stroke-linejoin:miter;stroke:rgb(74.509804%,74.509804%,74.509804%);stroke-opacity:1;stroke-miterlimit:10;\" d=\"M 97.109375 413.257812 L 290.375 439.902344 \"/>\n",
       "<path style=\"fill:none;stroke-width:0.5;stroke-linecap:butt;stroke-linejoin:miter;stroke:rgb(74.509804%,74.509804%,74.509804%);stroke-opacity:1;stroke-miterlimit:10;\" d=\"M 151.554688 296.667969 L 290.375 439.902344 \"/>\n",
       "<path style=\"fill:none;stroke-width:0.5;stroke-linecap:butt;stroke-linejoin:miter;stroke:rgb(74.509804%,74.509804%,74.509804%);stroke-opacity:1;stroke-miterlimit:10;\" d=\"M 347.828125 560.824219 L 278.757812 467.304688 \"/>\n",
       "<path style=\"fill:none;stroke-width:0.5;stroke-linecap:butt;stroke-linejoin:miter;stroke:rgb(74.509804%,74.509804%,74.509804%);stroke-opacity:1;stroke-miterlimit:10;\" d=\"M 347.828125 560.824219 L 290.375 439.902344 \"/>\n",
       "<path style=\"fill:none;stroke-width:2;stroke-linecap:butt;stroke-linejoin:miter;stroke:rgb(100%,0%,0%);stroke-opacity:1;stroke-miterlimit:10;\" d=\"M 133.496094 499.222656 L 278.757812 467.304688 \"/>\n",
       "<path style=\"fill:none;stroke-width:0.5;stroke-linecap:butt;stroke-linejoin:miter;stroke:rgb(74.509804%,74.509804%,74.509804%);stroke-opacity:1;stroke-miterlimit:10;\" d=\"M 133.496094 499.222656 L 290.375 439.902344 \"/>\n",
       "<path style=\"fill:none;stroke-width:0.5;stroke-linecap:butt;stroke-linejoin:miter;stroke:rgb(74.509804%,74.509804%,74.509804%);stroke-opacity:1;stroke-miterlimit:10;\" d=\"M 164.214844 544.449219 L 278.757812 467.304688 \"/>\n",
       "<path style=\"fill:none;stroke-width:0.5;stroke-linecap:butt;stroke-linejoin:miter;stroke:rgb(74.509804%,74.509804%,74.509804%);stroke-opacity:1;stroke-miterlimit:10;\" d=\"M 164.214844 544.449219 L 290.375 439.902344 \"/>\n",
       "<path style=\"fill:none;stroke-width:0.5;stroke-linecap:butt;stroke-linejoin:miter;stroke:rgb(74.509804%,74.509804%,74.509804%);stroke-opacity:1;stroke-miterlimit:10;\" d=\"M 293.289062 267.175781 L 290.375 439.902344 \"/>\n",
       "<path style=\"fill:none;stroke-width:0.5;stroke-linecap:butt;stroke-linejoin:miter;stroke:rgb(74.509804%,74.509804%,74.509804%);stroke-opacity:1;stroke-miterlimit:10;\" d=\"M 285.027344 580 L 278.757812 467.304688 \"/>\n",
       "<path style=\"fill:none;stroke-width:0.5;stroke-linecap:butt;stroke-linejoin:miter;stroke:rgb(74.509804%,74.509804%,74.509804%);stroke-opacity:1;stroke-miterlimit:10;\" d=\"M 285.027344 580 L 290.375 439.902344 \"/>\n",
       "<path style=\"fill:none;stroke-width:0.5;stroke-linecap:butt;stroke-linejoin:miter;stroke:rgb(74.509804%,74.509804%,74.509804%);stroke-opacity:1;stroke-miterlimit:10;\" d=\"M 223.25 563.792969 L 278.757812 467.304688 \"/>\n",
       "<path style=\"fill:none;stroke-width:0.5;stroke-linecap:butt;stroke-linejoin:miter;stroke:rgb(74.509804%,74.509804%,74.509804%);stroke-opacity:1;stroke-miterlimit:10;\" d=\"M 223.25 563.792969 L 290.375 439.902344 \"/>\n",
       "<path style=\"fill:none;stroke-width:0.5;stroke-linecap:butt;stroke-linejoin:miter;stroke:rgb(74.509804%,74.509804%,74.509804%);stroke-opacity:1;stroke-miterlimit:10;\" d=\"M 455.511719 451.648438 L 580 386.101562 \"/>\n",
       "<path style=\"fill:none;stroke-width:0.5;stroke-linecap:butt;stroke-linejoin:miter;stroke:rgb(74.509804%,74.509804%,74.509804%);stroke-opacity:1;stroke-miterlimit:10;\" d=\"M 455.511719 451.648438 L 431.488281 374.773438 \"/>\n",
       "<path style=\"fill:none;stroke-width:0.5;stroke-linecap:butt;stroke-linejoin:miter;stroke:rgb(74.509804%,74.509804%,74.509804%);stroke-opacity:1;stroke-miterlimit:10;\" d=\"M 455.511719 451.648438 L 278.757812 467.304688 \"/>\n",
       "<path style=\"fill:none;stroke-width:0.5;stroke-linecap:butt;stroke-linejoin:miter;stroke:rgb(74.509804%,74.509804%,74.509804%);stroke-opacity:1;stroke-miterlimit:10;\" d=\"M 455.511719 451.648438 L 290.375 439.902344 \"/>\n",
       "<path style=\"fill:none;stroke-width:0.5;stroke-linecap:butt;stroke-linejoin:miter;stroke:rgb(74.509804%,74.509804%,74.509804%);stroke-opacity:1;stroke-miterlimit:10;\" d=\"M 455.511719 451.648438 L 409.9375 511.394531 \"/>\n",
       "<path style=\"fill:none;stroke-width:0.5;stroke-linecap:butt;stroke-linejoin:miter;stroke:rgb(74.509804%,74.509804%,74.509804%);stroke-opacity:1;stroke-miterlimit:10;\" d=\"M 571.445312 321.46875 L 580 386.101562 \"/>\n",
       "<path style=\"fill:none;stroke-width:0.5;stroke-linecap:butt;stroke-linejoin:miter;stroke:rgb(74.509804%,74.509804%,74.509804%);stroke-opacity:1;stroke-miterlimit:10;\" d=\"M 571.445312 321.46875 L 431.488281 374.773438 \"/>\n",
       "<path style=\"fill:none;stroke-width:0.5;stroke-linecap:butt;stroke-linejoin:miter;stroke:rgb(74.509804%,74.509804%,74.509804%);stroke-opacity:1;stroke-miterlimit:10;\" d=\"M 571.445312 321.46875 L 409.925781 329.035156 \"/>\n",
       "<path style=\"fill:none;stroke-width:0.5;stroke-linecap:butt;stroke-linejoin:miter;stroke:rgb(74.509804%,74.509804%,74.509804%);stroke-opacity:1;stroke-miterlimit:10;\" d=\"M 580 386.101562 L 409.925781 329.035156 \"/>\n",
       "<path style=\"fill:none;stroke-width:0.5;stroke-linecap:butt;stroke-linejoin:miter;stroke:rgb(74.509804%,74.509804%,74.509804%);stroke-opacity:1;stroke-miterlimit:10;\" d=\"M 463.574219 553.773438 L 409.9375 511.394531 \"/>\n",
       "<path style=\"fill:none;stroke-width:0.5;stroke-linecap:butt;stroke-linejoin:miter;stroke:rgb(74.509804%,74.509804%,74.509804%);stroke-opacity:1;stroke-miterlimit:10;\" d=\"M 463.574219 553.773438 L 290.375 439.902344 \"/>\n",
       "<path style=\"fill:none;stroke-width:0.5;stroke-linecap:butt;stroke-linejoin:miter;stroke:rgb(74.509804%,74.509804%,74.509804%);stroke-opacity:1;stroke-miterlimit:10;\" d=\"M 431.488281 374.773438 L 290.375 439.902344 \"/>\n",
       "<path style=\"fill:none;stroke-width:0.5;stroke-linecap:butt;stroke-linejoin:miter;stroke:rgb(74.509804%,74.509804%,74.509804%);stroke-opacity:1;stroke-miterlimit:10;\" d=\"M 343.558594 359.785156 L 409.925781 329.035156 \"/>\n",
       "<path style=\"fill:none;stroke-width:0.5;stroke-linecap:butt;stroke-linejoin:miter;stroke:rgb(74.509804%,74.509804%,74.509804%);stroke-opacity:1;stroke-miterlimit:10;\" d=\"M 343.558594 359.785156 L 290.375 439.902344 \"/>\n",
       "<path style=\"fill:none;stroke-width:0.5;stroke-linecap:butt;stroke-linejoin:miter;stroke:rgb(74.509804%,74.509804%,74.509804%);stroke-opacity:1;stroke-miterlimit:10;\" d=\"M 409.9375 511.394531 L 278.757812 467.304688 \"/>\n",
       "<path style=\"fill:none;stroke-width:0.5;stroke-linecap:butt;stroke-linejoin:miter;stroke:rgb(74.509804%,74.509804%,74.509804%);stroke-opacity:1;stroke-miterlimit:10;\" d=\"M 409.9375 511.394531 L 290.375 439.902344 \"/>\n",
       "<path style=\"fill:none;stroke-width:0.5;stroke-linecap:butt;stroke-linejoin:miter;stroke:rgb(74.509804%,74.509804%,74.509804%);stroke-opacity:1;stroke-miterlimit:10;\" d=\"M 173.960938 382.304688 L 278.757812 467.304688 \"/>\n",
       "<path style=\"fill:none;stroke-width:0.5;stroke-linecap:butt;stroke-linejoin:miter;stroke:rgb(74.509804%,74.509804%,74.509804%);stroke-opacity:1;stroke-miterlimit:10;\" d=\"M 173.960938 382.304688 L 290.375 439.902344 \"/>\n",
       "<path style=\"fill:none;stroke-width:0.5;stroke-linecap:butt;stroke-linejoin:miter;stroke:rgb(74.509804%,74.509804%,74.509804%);stroke-opacity:1;stroke-miterlimit:10;\" d=\"M 409.925781 329.035156 L 278.757812 467.304688 \"/>\n",
       "<path style=\"fill:none;stroke-width:0.5;stroke-linecap:butt;stroke-linejoin:miter;stroke:rgb(74.509804%,74.509804%,74.509804%);stroke-opacity:1;stroke-miterlimit:10;\" d=\"M 409.925781 329.035156 L 290.375 439.902344 \"/>\n",
       "<path style=\"fill:none;stroke-width:0.5;stroke-linecap:butt;stroke-linejoin:miter;stroke:rgb(74.509804%,74.509804%,74.509804%);stroke-opacity:1;stroke-miterlimit:10;\" d=\"M 278.757812 467.304688 L 290.375 439.902344 \"/>\n",
       "<path style=\"fill-rule:nonzero;fill:rgb(100%,0%,0%);fill-opacity:1;stroke-width:1;stroke-linecap:butt;stroke-linejoin:miter;stroke:rgb(0%,0%,0%);stroke-opacity:1;stroke-miterlimit:10;\" d=\"M 253.953125 173.003906 C 253.953125 178.527344 249.476562 183.003906 243.953125 183.003906 C 238.429688 183.003906 233.953125 178.527344 233.953125 173.003906 C 233.953125 167.480469 238.429688 163.003906 243.953125 163.003906 C 249.476562 163.003906 253.953125 167.480469 253.953125 173.003906 \"/>\n",
       "<path style=\"fill-rule:nonzero;fill:rgb(100%,0%,0%);fill-opacity:1;stroke-width:1;stroke-linecap:butt;stroke-linejoin:miter;stroke:rgb(0%,0%,0%);stroke-opacity:1;stroke-miterlimit:10;\" d=\"M 176.183594 224.988281 C 176.183594 230.511719 171.707031 234.988281 166.183594 234.988281 C 160.660156 234.988281 156.183594 230.511719 156.183594 224.988281 C 156.183594 219.46875 160.660156 214.988281 166.183594 214.988281 C 171.707031 214.988281 176.183594 219.46875 176.183594 224.988281 \"/>\n",
       "<path style=\"fill-rule:nonzero;fill:rgb(100%,0%,0%);fill-opacity:1;stroke-width:1;stroke-linecap:butt;stroke-linejoin:miter;stroke:rgb(0%,0%,0%);stroke-opacity:1;stroke-miterlimit:10;\" d=\"M 227.597656 309.71875 C 227.597656 315.242188 223.117188 319.71875 217.597656 319.71875 C 212.074219 319.71875 207.597656 315.242188 207.597656 309.71875 C 207.597656 304.199219 212.074219 299.71875 217.597656 299.71875 C 223.117188 299.71875 227.597656 304.199219 227.597656 309.71875 \"/>\n",
       "<path style=\"fill-rule:nonzero;fill:rgb(100%,0%,0%);fill-opacity:1;stroke-width:1;stroke-linecap:butt;stroke-linejoin:miter;stroke:rgb(0%,0%,0%);stroke-opacity:1;stroke-miterlimit:10;\" d=\"M 89.515625 235.207031 C 89.515625 240.726562 85.039062 245.207031 79.515625 245.207031 C 73.992188 245.207031 69.515625 240.726562 69.515625 235.207031 C 69.515625 229.683594 73.992188 225.207031 79.515625 225.207031 C 85.039062 225.207031 89.515625 229.683594 89.515625 235.207031 \"/>\n",
       "<path style=\"fill-rule:nonzero;fill:rgb(0%,0%,100%);fill-opacity:1;stroke-width:1;stroke-linecap:butt;stroke-linejoin:miter;stroke:rgb(0%,0%,0%);stroke-opacity:1;stroke-miterlimit:10;\" d=\"M 322.511719 32.328125 C 322.511719 37.847656 318.035156 42.328125 312.511719 42.328125 C 306.988281 42.328125 302.511719 37.847656 302.511719 32.328125 C 302.511719 26.804688 306.988281 22.328125 312.511719 22.328125 C 318.035156 22.328125 322.511719 26.804688 322.511719 32.328125 \"/>\n",
       "<path style=\"fill-rule:nonzero;fill:rgb(0%,0%,100%);fill-opacity:1;stroke-width:1;stroke-linecap:butt;stroke-linejoin:miter;stroke:rgb(0%,0%,0%);stroke-opacity:1;stroke-miterlimit:10;\" d=\"M 449.894531 103.0625 C 449.894531 108.585938 445.417969 113.0625 439.894531 113.0625 C 434.371094 113.0625 429.894531 108.585938 429.894531 103.0625 C 429.894531 97.539062 434.371094 93.0625 439.894531 93.0625 C 445.417969 93.0625 449.894531 97.539062 449.894531 103.0625 \"/>\n",
       "<path style=\"fill-rule:nonzero;fill:rgb(0%,0%,100%);fill-opacity:1;stroke-width:1;stroke-linecap:butt;stroke-linejoin:miter;stroke:rgb(0%,0%,0%);stroke-opacity:1;stroke-miterlimit:10;\" d=\"M 420.863281 51.773438 C 420.863281 57.296875 416.386719 61.773438 410.863281 61.773438 C 405.34375 61.773438 400.863281 57.296875 400.863281 51.773438 C 400.863281 46.25 405.34375 41.773438 410.863281 41.773438 C 416.386719 41.773438 420.863281 46.25 420.863281 51.773438 \"/>\n",
       "<path style=\"fill-rule:nonzero;fill:rgb(100%,0%,0%);fill-opacity:1;stroke-width:1;stroke-linecap:butt;stroke-linejoin:miter;stroke:rgb(0%,0%,0%);stroke-opacity:1;stroke-miterlimit:10;\" d=\"M 125.167969 195.996094 C 125.167969 201.515625 120.691406 205.996094 115.167969 205.996094 C 109.648438 205.996094 105.167969 201.515625 105.167969 195.996094 C 105.167969 190.472656 109.648438 185.996094 115.167969 185.996094 C 120.691406 185.996094 125.167969 190.472656 125.167969 195.996094 \"/>\n",
       "<path style=\"fill-rule:nonzero;fill:rgb(100%,0%,0%);fill-opacity:1;stroke-width:1;stroke-linecap:butt;stroke-linejoin:miter;stroke:rgb(0%,0%,0%);stroke-opacity:1;stroke-miterlimit:10;\" d=\"M 261.976562 347.332031 C 261.976562 352.855469 257.496094 357.332031 251.976562 357.332031 C 246.453125 357.332031 241.976562 352.855469 241.976562 347.332031 C 241.976562 341.808594 246.453125 337.332031 251.976562 337.332031 C 257.496094 337.332031 261.976562 341.808594 261.976562 347.332031 \"/>\n",
       "<path style=\"fill-rule:nonzero;fill:rgb(100%,0%,0%);fill-opacity:1;stroke-width:1;stroke-linecap:butt;stroke-linejoin:miter;stroke:rgb(0%,0%,0%);stroke-opacity:1;stroke-miterlimit:10;\" d=\"M 107.109375 413.257812 C 107.109375 418.78125 102.632812 423.257812 97.109375 423.257812 C 91.585938 423.257812 87.109375 418.78125 87.109375 413.257812 C 87.109375 407.734375 91.585938 403.257812 97.109375 403.257812 C 102.632812 403.257812 107.109375 407.734375 107.109375 413.257812 \"/>\n",
       "<path style=\"fill-rule:nonzero;fill:rgb(0%,0%,100%);fill-opacity:1;stroke-width:1;stroke-linecap:butt;stroke-linejoin:miter;stroke:rgb(0%,0%,0%);stroke-opacity:1;stroke-miterlimit:10;\" d=\"M 357.71875 85.382812 C 357.71875 90.90625 353.242188 95.382812 347.71875 95.382812 C 342.199219 95.382812 337.71875 90.90625 337.71875 85.382812 C 337.71875 79.859375 342.199219 75.382812 347.71875 75.382812 C 353.242188 75.382812 357.71875 79.859375 357.71875 85.382812 \"/>\n",
       "<path style=\"fill-rule:nonzero;fill:rgb(100%,0%,0%);fill-opacity:1;stroke-width:1;stroke-linecap:butt;stroke-linejoin:miter;stroke:rgb(0%,0%,0%);stroke-opacity:1;stroke-miterlimit:10;\" d=\"M 192.925781 20 C 192.925781 25.523438 188.449219 30 182.925781 30 C 177.402344 30 172.925781 25.523438 172.925781 20 C 172.925781 14.476562 177.402344 10 182.925781 10 C 188.449219 10 192.925781 14.476562 192.925781 20 \"/>\n",
       "<path style=\"fill-rule:nonzero;fill:rgb(100%,0%,0%);fill-opacity:1;stroke-width:1;stroke-linecap:butt;stroke-linejoin:miter;stroke:rgb(0%,0%,0%);stroke-opacity:1;stroke-miterlimit:10;\" d=\"M 30 156.15625 C 30 161.679688 25.523438 166.15625 20 166.15625 C 14.476562 166.15625 10 161.679688 10 156.15625 C 10 150.632812 14.476562 146.15625 20 146.15625 C 25.523438 146.15625 30 150.632812 30 156.15625 \"/>\n",
       "<path style=\"fill-rule:nonzero;fill:rgb(100%,0%,0%);fill-opacity:1;stroke-width:1;stroke-linecap:butt;stroke-linejoin:miter;stroke:rgb(0%,0%,0%);stroke-opacity:1;stroke-miterlimit:10;\" d=\"M 161.554688 296.667969 C 161.554688 302.191406 157.078125 306.667969 151.554688 306.667969 C 146.03125 306.667969 141.554688 302.191406 141.554688 296.667969 C 141.554688 291.144531 146.03125 286.667969 151.554688 286.667969 C 157.078125 286.667969 161.554688 291.144531 161.554688 296.667969 \"/>\n",
       "<path style=\"fill-rule:nonzero;fill:rgb(100%,0%,0%);fill-opacity:1;stroke-width:1;stroke-linecap:butt;stroke-linejoin:miter;stroke:rgb(0%,0%,0%);stroke-opacity:1;stroke-miterlimit:10;\" d=\"M 357.828125 560.824219 C 357.828125 566.347656 353.347656 570.824219 347.828125 570.824219 C 342.304688 570.824219 337.828125 566.347656 337.828125 560.824219 C 337.828125 555.300781 342.304688 550.824219 347.828125 550.824219 C 353.347656 550.824219 357.828125 555.300781 357.828125 560.824219 \"/>\n",
       "<path style=\"fill-rule:nonzero;fill:rgb(100%,0%,0%);fill-opacity:1;stroke-width:1;stroke-linecap:butt;stroke-linejoin:miter;stroke:rgb(0%,0%,0%);stroke-opacity:1;stroke-miterlimit:10;\" d=\"M 143.496094 499.222656 C 143.496094 504.746094 139.019531 509.222656 133.496094 509.222656 C 127.972656 509.222656 123.496094 504.746094 123.496094 499.222656 C 123.496094 493.699219 127.972656 489.222656 133.496094 489.222656 C 139.019531 489.222656 143.496094 493.699219 143.496094 499.222656 \"/>\n",
       "<path style=\"fill-rule:nonzero;fill:rgb(0%,0%,100%);fill-opacity:1;stroke-width:1;stroke-linecap:butt;stroke-linejoin:miter;stroke:rgb(0%,0%,0%);stroke-opacity:1;stroke-miterlimit:10;\" d=\"M 553.710938 42.511719 C 553.710938 48.035156 549.234375 52.511719 543.710938 52.511719 C 538.1875 52.511719 533.710938 48.035156 533.710938 42.511719 C 533.710938 36.992188 538.1875 32.511719 543.710938 32.511719 C 549.234375 32.511719 553.710938 36.992188 553.710938 42.511719 \"/>\n",
       "<path style=\"fill-rule:nonzero;fill:rgb(100%,0%,0%);fill-opacity:1;stroke-width:1;stroke-linecap:butt;stroke-linejoin:miter;stroke:rgb(0%,0%,0%);stroke-opacity:1;stroke-miterlimit:10;\" d=\"M 179.234375 101.558594 C 179.234375 107.082031 174.757812 111.558594 169.234375 111.558594 C 163.714844 111.558594 159.234375 107.082031 159.234375 101.558594 C 159.234375 96.035156 163.714844 91.558594 169.234375 91.558594 C 174.757812 91.558594 179.234375 96.035156 179.234375 101.558594 \"/>\n",
       "<path style=\"fill-rule:nonzero;fill:rgb(100%,0%,0%);fill-opacity:1;stroke-width:1;stroke-linecap:butt;stroke-linejoin:miter;stroke:rgb(0%,0%,0%);stroke-opacity:1;stroke-miterlimit:10;\" d=\"M 174.214844 544.449219 C 174.214844 549.972656 169.738281 554.449219 164.214844 554.449219 C 158.691406 554.449219 154.214844 549.972656 154.214844 544.449219 C 154.214844 538.925781 158.691406 534.449219 164.214844 534.449219 C 169.738281 534.449219 174.214844 538.925781 174.214844 544.449219 \"/>\n",
       "<path style=\"fill-rule:nonzero;fill:rgb(100%,0%,0%);fill-opacity:1;stroke-width:1;stroke-linecap:butt;stroke-linejoin:miter;stroke:rgb(0%,0%,0%);stroke-opacity:1;stroke-miterlimit:10;\" d=\"M 303.289062 267.175781 C 303.289062 272.699219 298.8125 277.175781 293.289062 277.175781 C 287.765625 277.175781 283.289062 272.699219 283.289062 267.175781 C 283.289062 261.652344 287.765625 257.175781 293.289062 257.175781 C 298.8125 257.175781 303.289062 261.652344 303.289062 267.175781 \"/>\n",
       "<path style=\"fill-rule:nonzero;fill:rgb(100%,0%,0%);fill-opacity:1;stroke-width:1;stroke-linecap:butt;stroke-linejoin:miter;stroke:rgb(0%,0%,0%);stroke-opacity:1;stroke-miterlimit:10;\" d=\"M 295.027344 580 C 295.027344 585.523438 290.550781 590 285.027344 590 C 279.507812 590 275.027344 585.523438 275.027344 580 C 275.027344 574.476562 279.507812 570 285.027344 570 C 290.550781 570 295.027344 574.476562 295.027344 580 \"/>\n",
       "<path style=\"fill-rule:nonzero;fill:rgb(100%,0%,0%);fill-opacity:1;stroke-width:1;stroke-linecap:butt;stroke-linejoin:miter;stroke:rgb(0%,0%,0%);stroke-opacity:1;stroke-miterlimit:10;\" d=\"M 102.636719 113.039062 C 102.636719 118.5625 98.160156 123.039062 92.636719 123.039062 C 87.113281 123.039062 82.636719 118.5625 82.636719 113.039062 C 82.636719 107.515625 87.113281 103.039062 92.636719 103.039062 C 98.160156 103.039062 102.636719 107.515625 102.636719 113.039062 \"/>\n",
       "<path style=\"fill-rule:nonzero;fill:rgb(100%,0%,0%);fill-opacity:1;stroke-width:1;stroke-linecap:butt;stroke-linejoin:miter;stroke:rgb(0%,0%,0%);stroke-opacity:1;stroke-miterlimit:10;\" d=\"M 233.25 563.792969 C 233.25 569.316406 228.773438 573.792969 223.25 573.792969 C 217.726562 573.792969 213.25 569.316406 213.25 563.792969 C 213.25 558.273438 217.726562 553.792969 223.25 553.792969 C 228.773438 553.792969 233.25 558.273438 233.25 563.792969 \"/>\n",
       "<path style=\"fill-rule:nonzero;fill:rgb(100%,0%,0%);fill-opacity:1;stroke-width:1;stroke-linecap:butt;stroke-linejoin:miter;stroke:rgb(0%,0%,0%);stroke-opacity:1;stroke-miterlimit:10;\" d=\"M 465.511719 451.648438 C 465.511719 457.171875 461.035156 461.648438 455.511719 461.648438 C 449.992188 461.648438 445.511719 457.171875 445.511719 451.648438 C 445.511719 446.128906 449.992188 441.648438 455.511719 441.648438 C 461.035156 441.648438 465.511719 446.128906 465.511719 451.648438 \"/>\n",
       "<path style=\"fill-rule:nonzero;fill:rgb(100%,0%,0%);fill-opacity:1;stroke-width:1;stroke-linecap:butt;stroke-linejoin:miter;stroke:rgb(0%,0%,0%);stroke-opacity:1;stroke-miterlimit:10;\" d=\"M 581.445312 321.46875 C 581.445312 326.992188 576.96875 331.46875 571.445312 331.46875 C 565.921875 331.46875 561.445312 326.992188 561.445312 321.46875 C 561.445312 315.945312 565.921875 311.46875 571.445312 311.46875 C 576.96875 311.46875 581.445312 315.945312 581.445312 321.46875 \"/>\n",
       "<path style=\"fill-rule:nonzero;fill:rgb(100%,0%,0%);fill-opacity:1;stroke-width:1;stroke-linecap:butt;stroke-linejoin:miter;stroke:rgb(0%,0%,0%);stroke-opacity:1;stroke-miterlimit:10;\" d=\"M 590 386.101562 C 590 391.621094 585.523438 396.101562 580 396.101562 C 574.476562 396.101562 570 391.621094 570 386.101562 C 570 380.578125 574.476562 376.101562 580 376.101562 C 585.523438 376.101562 590 380.578125 590 386.101562 \"/>\n",
       "<path style=\"fill-rule:nonzero;fill:rgb(100%,0%,0%);fill-opacity:1;stroke-width:1;stroke-linecap:butt;stroke-linejoin:miter;stroke:rgb(0%,0%,0%);stroke-opacity:1;stroke-miterlimit:10;\" d=\"M 473.574219 553.773438 C 473.574219 559.296875 469.097656 563.773438 463.574219 563.773438 C 458.050781 563.773438 453.574219 559.296875 453.574219 553.773438 C 453.574219 548.25 458.050781 543.773438 463.574219 543.773438 C 469.097656 543.773438 473.574219 548.25 473.574219 553.773438 \"/>\n",
       "<path style=\"fill-rule:nonzero;fill:rgb(100%,0%,0%);fill-opacity:1;stroke-width:1;stroke-linecap:butt;stroke-linejoin:miter;stroke:rgb(0%,0%,0%);stroke-opacity:1;stroke-miterlimit:10;\" d=\"M 441.488281 374.773438 C 441.488281 380.296875 437.011719 384.773438 431.488281 384.773438 C 425.96875 384.773438 421.488281 380.296875 421.488281 374.773438 C 421.488281 369.25 425.96875 364.773438 431.488281 364.773438 C 437.011719 364.773438 441.488281 369.25 441.488281 374.773438 \"/>\n",
       "<path style=\"fill-rule:nonzero;fill:rgb(100%,0%,0%);fill-opacity:1;stroke-width:1;stroke-linecap:butt;stroke-linejoin:miter;stroke:rgb(0%,0%,0%);stroke-opacity:1;stroke-miterlimit:10;\" d=\"M 353.558594 359.785156 C 353.558594 365.308594 349.082031 369.785156 343.558594 369.785156 C 338.035156 369.785156 333.558594 365.308594 333.558594 359.785156 C 333.558594 354.261719 338.035156 349.785156 343.558594 349.785156 C 349.082031 349.785156 353.558594 354.261719 353.558594 359.785156 \"/>\n",
       "<path style=\"fill-rule:nonzero;fill:rgb(100%,0%,0%);fill-opacity:1;stroke-width:1;stroke-linecap:butt;stroke-linejoin:miter;stroke:rgb(0%,0%,0%);stroke-opacity:1;stroke-miterlimit:10;\" d=\"M 419.9375 511.394531 C 419.9375 516.914062 415.460938 521.394531 409.9375 521.394531 C 404.414062 521.394531 399.9375 516.914062 399.9375 511.394531 C 399.9375 505.871094 404.414062 501.394531 409.9375 501.394531 C 415.460938 501.394531 419.9375 505.871094 419.9375 511.394531 \"/>\n",
       "<path style=\"fill-rule:nonzero;fill:rgb(100%,0%,0%);fill-opacity:1;stroke-width:1;stroke-linecap:butt;stroke-linejoin:miter;stroke:rgb(0%,0%,0%);stroke-opacity:1;stroke-miterlimit:10;\" d=\"M 183.960938 382.304688 C 183.960938 387.828125 179.484375 392.304688 173.960938 392.304688 C 168.4375 392.304688 163.960938 387.828125 163.960938 382.304688 C 163.960938 376.78125 168.4375 372.304688 173.960938 372.304688 C 179.484375 372.304688 183.960938 376.78125 183.960938 382.304688 \"/>\n",
       "<path style=\"fill-rule:nonzero;fill:rgb(100%,0%,0%);fill-opacity:1;stroke-width:1;stroke-linecap:butt;stroke-linejoin:miter;stroke:rgb(0%,0%,0%);stroke-opacity:1;stroke-miterlimit:10;\" d=\"M 419.925781 329.035156 C 419.925781 334.558594 415.449219 339.035156 409.925781 339.035156 C 404.402344 339.035156 399.925781 334.558594 399.925781 329.035156 C 399.925781 323.511719 404.402344 319.035156 409.925781 319.035156 C 415.449219 319.035156 419.925781 323.511719 419.925781 329.035156 \"/>\n",
       "<path style=\"fill-rule:nonzero;fill:rgb(100%,0%,0%);fill-opacity:1;stroke-width:1;stroke-linecap:butt;stroke-linejoin:miter;stroke:rgb(0%,0%,0%);stroke-opacity:1;stroke-miterlimit:10;\" d=\"M 288.757812 467.304688 C 288.757812 472.828125 284.28125 477.304688 278.757812 477.304688 C 273.238281 477.304688 268.757812 472.828125 268.757812 467.304688 C 268.757812 461.78125 273.238281 457.304688 278.757812 457.304688 C 284.28125 457.304688 288.757812 461.78125 288.757812 467.304688 \"/>\n",
       "<path style=\"fill-rule:nonzero;fill:rgb(100%,0%,0%);fill-opacity:1;stroke-width:1;stroke-linecap:butt;stroke-linejoin:miter;stroke:rgb(0%,0%,0%);stroke-opacity:1;stroke-miterlimit:10;\" d=\"M 300.375 439.902344 C 300.375 445.425781 295.898438 449.902344 290.375 449.902344 C 284.851562 449.902344 280.375 445.425781 280.375 439.902344 C 280.375 434.378906 284.851562 429.902344 290.375 429.902344 C 295.898438 429.902344 300.375 434.378906 300.375 439.902344 \"/>\n",
       "</g>\n",
       "</svg>\n"
      ],
      "text/plain": [
       "<igraph.drawing.Plot at 0x1a1ea92860>"
      ]
     },
     "execution_count": 22,
     "metadata": {},
     "output_type": "execute_result"
    }
   ],
   "source": [
    "components = G.clusters()\n",
    "G.vs[components[0]]['color'] = 'red'\n",
    "G.vs[components[1]]['color'] = 'blue'\n",
    "ig.plot(G)"
   ]
  },
  {
   "cell_type": "markdown",
   "metadata": {},
   "source": [
    "Usually, networks tend to have one large component, and many smaller components. In empirical networks, it is therefore common practice to restrict any further analyses to the largest connected component. Because the difference between the largest connected component and the other components is usually quite large, the largest connected component is sometimes also called the *giant component*."
   ]
  },
  {
   "cell_type": "code",
   "execution_count": 23,
   "metadata": {
    "ExecuteTime": {
     "end_time": "2019-06-25T21:28:56.093641Z",
     "start_time": "2019-06-25T21:28:56.077277Z"
    }
   },
   "outputs": [
    {
     "data": {
      "image/svg+xml": [
       "<?xml version=\"1.0\" encoding=\"UTF-8\"?>\n",
       "<svg xmlns=\"http://www.w3.org/2000/svg\" xmlns:xlink=\"http://www.w3.org/1999/xlink\" width=\"600pt\" height=\"600pt\" viewBox=\"0 0 600 600\" version=\"1.1\">\n",
       "<g id=\"surface38\">\n",
       "<rect x=\"0\" y=\"0\" width=\"600\" height=\"600\" style=\"fill:rgb(100%,100%,100%);fill-opacity:1;stroke:none;\"/>\n",
       "<path style=\"fill:none;stroke-width:0.5;stroke-linecap:butt;stroke-linejoin:miter;stroke:rgb(74.509804%,74.509804%,74.509804%);stroke-opacity:1;stroke-miterlimit:10;\" d=\"M 174.140625 403.375 L 197.160156 453.328125 \"/>\n",
       "<path style=\"fill:none;stroke-width:2;stroke-linecap:butt;stroke-linejoin:miter;stroke:rgb(100%,0%,0%);stroke-opacity:1;stroke-miterlimit:10;\" d=\"M 174.140625 403.375 L 248.40625 295.664062 \"/>\n",
       "<path style=\"fill:none;stroke-width:0.5;stroke-linecap:butt;stroke-linejoin:miter;stroke:rgb(74.509804%,74.509804%,74.509804%);stroke-opacity:1;stroke-miterlimit:10;\" d=\"M 174.140625 403.375 L 125.25 320.464844 \"/>\n",
       "<path style=\"fill:none;stroke-width:0.5;stroke-linecap:butt;stroke-linejoin:miter;stroke:rgb(74.509804%,74.509804%,74.509804%);stroke-opacity:1;stroke-miterlimit:10;\" d=\"M 174.140625 403.375 L 102.054688 376.222656 \"/>\n",
       "<path style=\"fill:none;stroke-width:0.5;stroke-linecap:butt;stroke-linejoin:miter;stroke:rgb(74.509804%,74.509804%,74.509804%);stroke-opacity:1;stroke-miterlimit:10;\" d=\"M 174.140625 403.375 L 330.753906 374.035156 \"/>\n",
       "<path style=\"fill:none;stroke-width:0.5;stroke-linecap:butt;stroke-linejoin:miter;stroke:rgb(74.509804%,74.509804%,74.509804%);stroke-opacity:1;stroke-miterlimit:10;\" d=\"M 174.140625 403.375 L 71.722656 574.699219 \"/>\n",
       "<path style=\"fill:none;stroke-width:0.5;stroke-linecap:butt;stroke-linejoin:miter;stroke:rgb(74.509804%,74.509804%,74.509804%);stroke-opacity:1;stroke-miterlimit:10;\" d=\"M 174.140625 403.375 L 20 313.492188 \"/>\n",
       "<path style=\"fill:none;stroke-width:0.5;stroke-linecap:butt;stroke-linejoin:miter;stroke:rgb(74.509804%,74.509804%,74.509804%);stroke-opacity:1;stroke-miterlimit:10;\" d=\"M 174.140625 403.375 L 240.667969 360.039062 \"/>\n",
       "<path style=\"fill:none;stroke-width:0.5;stroke-linecap:butt;stroke-linejoin:miter;stroke:rgb(74.509804%,74.509804%,74.509804%);stroke-opacity:1;stroke-miterlimit:10;\" d=\"M 174.140625 403.375 L 68.09375 488.351562 \"/>\n",
       "<path style=\"fill:none;stroke-width:0.5;stroke-linecap:butt;stroke-linejoin:miter;stroke:rgb(74.509804%,74.509804%,74.509804%);stroke-opacity:1;stroke-miterlimit:10;\" d=\"M 174.140625 403.375 L 295.550781 476.015625 \"/>\n",
       "<path style=\"fill:none;stroke-width:0.5;stroke-linecap:butt;stroke-linejoin:miter;stroke:rgb(74.509804%,74.509804%,74.509804%);stroke-opacity:1;stroke-miterlimit:10;\" d=\"M 174.140625 403.375 L 175.964844 580 \"/>\n",
       "<path style=\"fill:none;stroke-width:0.5;stroke-linecap:butt;stroke-linejoin:miter;stroke:rgb(74.509804%,74.509804%,74.509804%);stroke-opacity:1;stroke-miterlimit:10;\" d=\"M 174.140625 403.375 L 330.300781 206.410156 \"/>\n",
       "<path style=\"fill:none;stroke-width:0.5;stroke-linecap:butt;stroke-linejoin:miter;stroke:rgb(74.509804%,74.509804%,74.509804%);stroke-opacity:1;stroke-miterlimit:10;\" d=\"M 197.160156 453.328125 L 248.40625 295.664062 \"/>\n",
       "<path style=\"fill:none;stroke-width:0.5;stroke-linecap:butt;stroke-linejoin:miter;stroke:rgb(74.509804%,74.509804%,74.509804%);stroke-opacity:1;stroke-miterlimit:10;\" d=\"M 197.160156 453.328125 L 125.25 320.464844 \"/>\n",
       "<path style=\"fill:none;stroke-width:0.5;stroke-linecap:butt;stroke-linejoin:miter;stroke:rgb(74.509804%,74.509804%,74.509804%);stroke-opacity:1;stroke-miterlimit:10;\" d=\"M 197.160156 453.328125 L 102.054688 376.222656 \"/>\n",
       "<path style=\"fill:none;stroke-width:0.5;stroke-linecap:butt;stroke-linejoin:miter;stroke:rgb(74.509804%,74.509804%,74.509804%);stroke-opacity:1;stroke-miterlimit:10;\" d=\"M 197.160156 453.328125 L 240.667969 360.039062 \"/>\n",
       "<path style=\"fill:none;stroke-width:0.5;stroke-linecap:butt;stroke-linejoin:miter;stroke:rgb(74.509804%,74.509804%,74.509804%);stroke-opacity:1;stroke-miterlimit:10;\" d=\"M 197.160156 453.328125 L 68.09375 488.351562 \"/>\n",
       "<path style=\"fill:none;stroke-width:0.5;stroke-linecap:butt;stroke-linejoin:miter;stroke:rgb(74.509804%,74.509804%,74.509804%);stroke-opacity:1;stroke-miterlimit:10;\" d=\"M 197.160156 453.328125 L 295.550781 476.015625 \"/>\n",
       "<path style=\"fill:none;stroke-width:0.5;stroke-linecap:butt;stroke-linejoin:miter;stroke:rgb(74.509804%,74.509804%,74.509804%);stroke-opacity:1;stroke-miterlimit:10;\" d=\"M 197.160156 453.328125 L 175.964844 580 \"/>\n",
       "<path style=\"fill:none;stroke-width:0.5;stroke-linecap:butt;stroke-linejoin:miter;stroke:rgb(74.509804%,74.509804%,74.509804%);stroke-opacity:1;stroke-miterlimit:10;\" d=\"M 197.160156 453.328125 L 370.195312 447.058594 \"/>\n",
       "<path style=\"fill:none;stroke-width:0.5;stroke-linecap:butt;stroke-linejoin:miter;stroke:rgb(74.509804%,74.509804%,74.509804%);stroke-opacity:1;stroke-miterlimit:10;\" d=\"M 248.40625 295.664062 L 125.25 320.464844 \"/>\n",
       "<path style=\"fill:none;stroke-width:0.5;stroke-linecap:butt;stroke-linejoin:miter;stroke:rgb(74.509804%,74.509804%,74.509804%);stroke-opacity:1;stroke-miterlimit:10;\" d=\"M 248.40625 295.664062 L 102.054688 376.222656 \"/>\n",
       "<path style=\"fill:none;stroke-width:0.5;stroke-linecap:butt;stroke-linejoin:miter;stroke:rgb(74.509804%,74.509804%,74.509804%);stroke-opacity:1;stroke-miterlimit:10;\" d=\"M 248.40625 295.664062 L 355.050781 137.246094 \"/>\n",
       "<path style=\"fill:none;stroke-width:0.5;stroke-linecap:butt;stroke-linejoin:miter;stroke:rgb(74.509804%,74.509804%,74.509804%);stroke-opacity:1;stroke-miterlimit:10;\" d=\"M 248.40625 295.664062 L 263.988281 208.980469 \"/>\n",
       "<path style=\"fill:none;stroke-width:2;stroke-linecap:butt;stroke-linejoin:miter;stroke:rgb(100%,0%,0%);stroke-opacity:1;stroke-miterlimit:10;\" d=\"M 248.40625 295.664062 L 453.640625 329.625 \"/>\n",
       "<path style=\"fill:none;stroke-width:0.5;stroke-linecap:butt;stroke-linejoin:miter;stroke:rgb(74.509804%,74.509804%,74.509804%);stroke-opacity:1;stroke-miterlimit:10;\" d=\"M 248.40625 295.664062 L 267.425781 148.246094 \"/>\n",
       "<path style=\"fill:none;stroke-width:0.5;stroke-linecap:butt;stroke-linejoin:miter;stroke:rgb(74.509804%,74.509804%,74.509804%);stroke-opacity:1;stroke-miterlimit:10;\" d=\"M 248.40625 295.664062 L 330.753906 374.035156 \"/>\n",
       "<path style=\"fill:none;stroke-width:0.5;stroke-linecap:butt;stroke-linejoin:miter;stroke:rgb(74.509804%,74.509804%,74.509804%);stroke-opacity:1;stroke-miterlimit:10;\" d=\"M 248.40625 295.664062 L 240.667969 360.039062 \"/>\n",
       "<path style=\"fill:none;stroke-width:0.5;stroke-linecap:butt;stroke-linejoin:miter;stroke:rgb(74.509804%,74.509804%,74.509804%);stroke-opacity:1;stroke-miterlimit:10;\" d=\"M 125.25 320.464844 L 102.054688 376.222656 \"/>\n",
       "<path style=\"fill:none;stroke-width:0.5;stroke-linecap:butt;stroke-linejoin:miter;stroke:rgb(74.509804%,74.509804%,74.509804%);stroke-opacity:1;stroke-miterlimit:10;\" d=\"M 125.25 320.464844 L 20 313.492188 \"/>\n",
       "<path style=\"fill:none;stroke-width:0.5;stroke-linecap:butt;stroke-linejoin:miter;stroke:rgb(74.509804%,74.509804%,74.509804%);stroke-opacity:1;stroke-miterlimit:10;\" d=\"M 125.25 320.464844 L 240.667969 360.039062 \"/>\n",
       "<path style=\"fill:none;stroke-width:0.5;stroke-linecap:butt;stroke-linejoin:miter;stroke:rgb(74.509804%,74.509804%,74.509804%);stroke-opacity:1;stroke-miterlimit:10;\" d=\"M 330.753906 374.035156 L 370.195312 447.058594 \"/>\n",
       "<path style=\"fill:none;stroke-width:0.5;stroke-linecap:butt;stroke-linejoin:miter;stroke:rgb(74.509804%,74.509804%,74.509804%);stroke-opacity:1;stroke-miterlimit:10;\" d=\"M 330.753906 374.035156 L 453.640625 329.625 \"/>\n",
       "<path style=\"fill:none;stroke-width:0.5;stroke-linecap:butt;stroke-linejoin:miter;stroke:rgb(74.509804%,74.509804%,74.509804%);stroke-opacity:1;stroke-miterlimit:10;\" d=\"M 330.753906 374.035156 L 420.050781 297.960938 \"/>\n",
       "<path style=\"fill:none;stroke-width:0.5;stroke-linecap:butt;stroke-linejoin:miter;stroke:rgb(74.509804%,74.509804%,74.509804%);stroke-opacity:1;stroke-miterlimit:10;\" d=\"M 267.425781 148.246094 L 420.050781 297.960938 \"/>\n",
       "<path style=\"fill:none;stroke-width:0.5;stroke-linecap:butt;stroke-linejoin:miter;stroke:rgb(74.509804%,74.509804%,74.509804%);stroke-opacity:1;stroke-miterlimit:10;\" d=\"M 240.667969 360.039062 L 420.050781 297.960938 \"/>\n",
       "<path style=\"fill:none;stroke-width:0.5;stroke-linecap:butt;stroke-linejoin:miter;stroke:rgb(74.509804%,74.509804%,74.509804%);stroke-opacity:1;stroke-miterlimit:10;\" d=\"M 564.78125 336.96875 L 453.640625 329.625 \"/>\n",
       "<path style=\"fill:none;stroke-width:0.5;stroke-linecap:butt;stroke-linejoin:miter;stroke:rgb(74.509804%,74.509804%,74.509804%);stroke-opacity:1;stroke-miterlimit:10;\" d=\"M 564.78125 336.96875 L 420.050781 297.960938 \"/>\n",
       "<path style=\"fill:none;stroke-width:2;stroke-linecap:butt;stroke-linejoin:miter;stroke:rgb(100%,0%,0%);stroke-opacity:1;stroke-miterlimit:10;\" d=\"M 580 273.507812 L 453.640625 329.625 \"/>\n",
       "<path style=\"fill:none;stroke-width:0.5;stroke-linecap:butt;stroke-linejoin:miter;stroke:rgb(74.509804%,74.509804%,74.509804%);stroke-opacity:1;stroke-miterlimit:10;\" d=\"M 580 273.507812 L 420.050781 297.960938 \"/>\n",
       "<path style=\"fill:none;stroke-width:0.5;stroke-linecap:butt;stroke-linejoin:miter;stroke:rgb(74.509804%,74.509804%,74.509804%);stroke-opacity:1;stroke-miterlimit:10;\" d=\"M 573.585938 399.859375 L 453.640625 329.625 \"/>\n",
       "<path style=\"fill:none;stroke-width:0.5;stroke-linecap:butt;stroke-linejoin:miter;stroke:rgb(74.509804%,74.509804%,74.509804%);stroke-opacity:1;stroke-miterlimit:10;\" d=\"M 573.585938 399.859375 L 420.050781 297.960938 \"/>\n",
       "<path style=\"fill:none;stroke-width:0.5;stroke-linecap:butt;stroke-linejoin:miter;stroke:rgb(74.509804%,74.509804%,74.509804%);stroke-opacity:1;stroke-miterlimit:10;\" d=\"M 295.550781 476.015625 L 420.050781 297.960938 \"/>\n",
       "<path style=\"fill:none;stroke-width:0.5;stroke-linecap:butt;stroke-linejoin:miter;stroke:rgb(74.509804%,74.509804%,74.509804%);stroke-opacity:1;stroke-miterlimit:10;\" d=\"M 527.75 444.253906 L 453.640625 329.625 \"/>\n",
       "<path style=\"fill:none;stroke-width:0.5;stroke-linecap:butt;stroke-linejoin:miter;stroke:rgb(74.509804%,74.509804%,74.509804%);stroke-opacity:1;stroke-miterlimit:10;\" d=\"M 527.75 444.253906 L 420.050781 297.960938 \"/>\n",
       "<path style=\"fill:none;stroke-width:0.5;stroke-linecap:butt;stroke-linejoin:miter;stroke:rgb(74.509804%,74.509804%,74.509804%);stroke-opacity:1;stroke-miterlimit:10;\" d=\"M 474.308594 474.210938 L 453.640625 329.625 \"/>\n",
       "<path style=\"fill:none;stroke-width:0.5;stroke-linecap:butt;stroke-linejoin:miter;stroke:rgb(74.509804%,74.509804%,74.509804%);stroke-opacity:1;stroke-miterlimit:10;\" d=\"M 474.308594 474.210938 L 420.050781 297.960938 \"/>\n",
       "<path style=\"fill:none;stroke-width:0.5;stroke-linecap:butt;stroke-linejoin:miter;stroke:rgb(74.509804%,74.509804%,74.509804%);stroke-opacity:1;stroke-miterlimit:10;\" d=\"M 453.097656 152.398438 L 392.277344 28.625 \"/>\n",
       "<path style=\"fill:none;stroke-width:0.5;stroke-linecap:butt;stroke-linejoin:miter;stroke:rgb(74.509804%,74.509804%,74.509804%);stroke-opacity:1;stroke-miterlimit:10;\" d=\"M 453.097656 152.398438 L 355.050781 137.246094 \"/>\n",
       "<path style=\"fill:none;stroke-width:0.5;stroke-linecap:butt;stroke-linejoin:miter;stroke:rgb(74.509804%,74.509804%,74.509804%);stroke-opacity:1;stroke-miterlimit:10;\" d=\"M 453.097656 152.398438 L 453.640625 329.625 \"/>\n",
       "<path style=\"fill:none;stroke-width:0.5;stroke-linecap:butt;stroke-linejoin:miter;stroke:rgb(74.509804%,74.509804%,74.509804%);stroke-opacity:1;stroke-miterlimit:10;\" d=\"M 453.097656 152.398438 L 420.050781 297.960938 \"/>\n",
       "<path style=\"fill:none;stroke-width:0.5;stroke-linecap:butt;stroke-linejoin:miter;stroke:rgb(74.509804%,74.509804%,74.509804%);stroke-opacity:1;stroke-miterlimit:10;\" d=\"M 453.097656 152.398438 L 520.511719 205.953125 \"/>\n",
       "<path style=\"fill:none;stroke-width:0.5;stroke-linecap:butt;stroke-linejoin:miter;stroke:rgb(74.509804%,74.509804%,74.509804%);stroke-opacity:1;stroke-miterlimit:10;\" d=\"M 308.382812 20 L 392.277344 28.625 \"/>\n",
       "<path style=\"fill:none;stroke-width:0.5;stroke-linecap:butt;stroke-linejoin:miter;stroke:rgb(74.509804%,74.509804%,74.509804%);stroke-opacity:1;stroke-miterlimit:10;\" d=\"M 308.382812 20 L 355.050781 137.246094 \"/>\n",
       "<path style=\"fill:none;stroke-width:0.5;stroke-linecap:butt;stroke-linejoin:miter;stroke:rgb(74.509804%,74.509804%,74.509804%);stroke-opacity:1;stroke-miterlimit:10;\" d=\"M 308.382812 20 L 330.300781 206.410156 \"/>\n",
       "<path style=\"fill:none;stroke-width:0.5;stroke-linecap:butt;stroke-linejoin:miter;stroke:rgb(74.509804%,74.509804%,74.509804%);stroke-opacity:1;stroke-miterlimit:10;\" d=\"M 392.277344 28.625 L 330.300781 206.410156 \"/>\n",
       "<path style=\"fill:none;stroke-width:0.5;stroke-linecap:butt;stroke-linejoin:miter;stroke:rgb(74.509804%,74.509804%,74.509804%);stroke-opacity:1;stroke-miterlimit:10;\" d=\"M 573.914062 153.511719 L 520.511719 205.953125 \"/>\n",
       "<path style=\"fill:none;stroke-width:0.5;stroke-linecap:butt;stroke-linejoin:miter;stroke:rgb(74.509804%,74.509804%,74.509804%);stroke-opacity:1;stroke-miterlimit:10;\" d=\"M 573.914062 153.511719 L 420.050781 297.960938 \"/>\n",
       "<path style=\"fill:none;stroke-width:0.5;stroke-linecap:butt;stroke-linejoin:miter;stroke:rgb(74.509804%,74.509804%,74.509804%);stroke-opacity:1;stroke-miterlimit:10;\" d=\"M 355.050781 137.246094 L 420.050781 297.960938 \"/>\n",
       "<path style=\"fill:none;stroke-width:0.5;stroke-linecap:butt;stroke-linejoin:miter;stroke:rgb(74.509804%,74.509804%,74.509804%);stroke-opacity:1;stroke-miterlimit:10;\" d=\"M 263.988281 208.980469 L 330.300781 206.410156 \"/>\n",
       "<path style=\"fill:none;stroke-width:0.5;stroke-linecap:butt;stroke-linejoin:miter;stroke:rgb(74.509804%,74.509804%,74.509804%);stroke-opacity:1;stroke-miterlimit:10;\" d=\"M 263.988281 208.980469 L 420.050781 297.960938 \"/>\n",
       "<path style=\"fill:none;stroke-width:0.5;stroke-linecap:butt;stroke-linejoin:miter;stroke:rgb(74.509804%,74.509804%,74.509804%);stroke-opacity:1;stroke-miterlimit:10;\" d=\"M 520.511719 205.953125 L 453.640625 329.625 \"/>\n",
       "<path style=\"fill:none;stroke-width:0.5;stroke-linecap:butt;stroke-linejoin:miter;stroke:rgb(74.509804%,74.509804%,74.509804%);stroke-opacity:1;stroke-miterlimit:10;\" d=\"M 520.511719 205.953125 L 420.050781 297.960938 \"/>\n",
       "<path style=\"fill:none;stroke-width:0.5;stroke-linecap:butt;stroke-linejoin:miter;stroke:rgb(74.509804%,74.509804%,74.509804%);stroke-opacity:1;stroke-miterlimit:10;\" d=\"M 370.195312 447.058594 L 453.640625 329.625 \"/>\n",
       "<path style=\"fill:none;stroke-width:0.5;stroke-linecap:butt;stroke-linejoin:miter;stroke:rgb(74.509804%,74.509804%,74.509804%);stroke-opacity:1;stroke-miterlimit:10;\" d=\"M 370.195312 447.058594 L 420.050781 297.960938 \"/>\n",
       "<path style=\"fill:none;stroke-width:0.5;stroke-linecap:butt;stroke-linejoin:miter;stroke:rgb(74.509804%,74.509804%,74.509804%);stroke-opacity:1;stroke-miterlimit:10;\" d=\"M 330.300781 206.410156 L 453.640625 329.625 \"/>\n",
       "<path style=\"fill:none;stroke-width:0.5;stroke-linecap:butt;stroke-linejoin:miter;stroke:rgb(74.509804%,74.509804%,74.509804%);stroke-opacity:1;stroke-miterlimit:10;\" d=\"M 330.300781 206.410156 L 420.050781 297.960938 \"/>\n",
       "<path style=\"fill:none;stroke-width:0.5;stroke-linecap:butt;stroke-linejoin:miter;stroke:rgb(74.509804%,74.509804%,74.509804%);stroke-opacity:1;stroke-miterlimit:10;\" d=\"M 453.640625 329.625 L 420.050781 297.960938 \"/>\n",
       "<path style=\"fill-rule:nonzero;fill:rgb(100%,0%,0%);fill-opacity:1;stroke-width:1;stroke-linecap:butt;stroke-linejoin:miter;stroke:rgb(0%,0%,0%);stroke-opacity:1;stroke-miterlimit:10;\" d=\"M 184.140625 403.375 C 184.140625 408.894531 179.664062 413.375 174.140625 413.375 C 168.617188 413.375 164.140625 408.894531 164.140625 403.375 C 164.140625 397.851562 168.617188 393.375 174.140625 393.375 C 179.664062 393.375 184.140625 397.851562 184.140625 403.375 \"/>\n",
       "<path style=\"fill-rule:nonzero;fill:rgb(100%,0%,0%);fill-opacity:1;stroke-width:1;stroke-linecap:butt;stroke-linejoin:miter;stroke:rgb(0%,0%,0%);stroke-opacity:1;stroke-miterlimit:10;\" d=\"M 207.160156 453.328125 C 207.160156 458.851562 202.683594 463.328125 197.160156 463.328125 C 191.636719 463.328125 187.160156 458.851562 187.160156 453.328125 C 187.160156 447.804688 191.636719 443.328125 197.160156 443.328125 C 202.683594 443.328125 207.160156 447.804688 207.160156 453.328125 \"/>\n",
       "<path style=\"fill-rule:nonzero;fill:rgb(100%,0%,0%);fill-opacity:1;stroke-width:1;stroke-linecap:butt;stroke-linejoin:miter;stroke:rgb(0%,0%,0%);stroke-opacity:1;stroke-miterlimit:10;\" d=\"M 258.40625 295.664062 C 258.40625 301.1875 253.929688 305.664062 248.40625 305.664062 C 242.882812 305.664062 238.40625 301.1875 238.40625 295.664062 C 238.40625 290.144531 242.882812 285.664062 248.40625 285.664062 C 253.929688 285.664062 258.40625 290.144531 258.40625 295.664062 \"/>\n",
       "<path style=\"fill-rule:nonzero;fill:rgb(100%,0%,0%);fill-opacity:1;stroke-width:1;stroke-linecap:butt;stroke-linejoin:miter;stroke:rgb(0%,0%,0%);stroke-opacity:1;stroke-miterlimit:10;\" d=\"M 135.25 320.464844 C 135.25 325.984375 130.773438 330.464844 125.25 330.464844 C 119.726562 330.464844 115.25 325.984375 115.25 320.464844 C 115.25 314.941406 119.726562 310.464844 125.25 310.464844 C 130.773438 310.464844 135.25 314.941406 135.25 320.464844 \"/>\n",
       "<path style=\"fill-rule:nonzero;fill:rgb(100%,0%,0%);fill-opacity:1;stroke-width:1;stroke-linecap:butt;stroke-linejoin:miter;stroke:rgb(0%,0%,0%);stroke-opacity:1;stroke-miterlimit:10;\" d=\"M 112.054688 376.222656 C 112.054688 381.742188 107.578125 386.222656 102.054688 386.222656 C 96.535156 386.222656 92.054688 381.742188 92.054688 376.222656 C 92.054688 370.699219 96.535156 366.222656 102.054688 366.222656 C 107.578125 366.222656 112.054688 370.699219 112.054688 376.222656 \"/>\n",
       "<path style=\"fill-rule:nonzero;fill:rgb(100%,0%,0%);fill-opacity:1;stroke-width:1;stroke-linecap:butt;stroke-linejoin:miter;stroke:rgb(0%,0%,0%);stroke-opacity:1;stroke-miterlimit:10;\" d=\"M 340.753906 374.035156 C 340.753906 379.558594 336.277344 384.035156 330.753906 384.035156 C 325.230469 384.035156 320.753906 379.558594 320.753906 374.035156 C 320.753906 368.511719 325.230469 364.035156 330.753906 364.035156 C 336.277344 364.035156 340.753906 368.511719 340.753906 374.035156 \"/>\n",
       "<path style=\"fill-rule:nonzero;fill:rgb(100%,0%,0%);fill-opacity:1;stroke-width:1;stroke-linecap:butt;stroke-linejoin:miter;stroke:rgb(0%,0%,0%);stroke-opacity:1;stroke-miterlimit:10;\" d=\"M 277.425781 148.246094 C 277.425781 153.769531 272.949219 158.246094 267.425781 158.246094 C 261.90625 158.246094 257.425781 153.769531 257.425781 148.246094 C 257.425781 142.722656 261.90625 138.246094 267.425781 138.246094 C 272.949219 138.246094 277.425781 142.722656 277.425781 148.246094 \"/>\n",
       "<path style=\"fill-rule:nonzero;fill:rgb(100%,0%,0%);fill-opacity:1;stroke-width:1;stroke-linecap:butt;stroke-linejoin:miter;stroke:rgb(0%,0%,0%);stroke-opacity:1;stroke-miterlimit:10;\" d=\"M 81.722656 574.699219 C 81.722656 580.222656 77.246094 584.699219 71.722656 584.699219 C 66.199219 584.699219 61.722656 580.222656 61.722656 574.699219 C 61.722656 569.175781 66.199219 564.699219 71.722656 564.699219 C 77.246094 564.699219 81.722656 569.175781 81.722656 574.699219 \"/>\n",
       "<path style=\"fill-rule:nonzero;fill:rgb(100%,0%,0%);fill-opacity:1;stroke-width:1;stroke-linecap:butt;stroke-linejoin:miter;stroke:rgb(0%,0%,0%);stroke-opacity:1;stroke-miterlimit:10;\" d=\"M 30 313.492188 C 30 319.015625 25.523438 323.492188 20 323.492188 C 14.476562 323.492188 10 319.015625 10 313.492188 C 10 307.96875 14.476562 303.492188 20 303.492188 C 25.523438 303.492188 30 307.96875 30 313.492188 \"/>\n",
       "<path style=\"fill-rule:nonzero;fill:rgb(100%,0%,0%);fill-opacity:1;stroke-width:1;stroke-linecap:butt;stroke-linejoin:miter;stroke:rgb(0%,0%,0%);stroke-opacity:1;stroke-miterlimit:10;\" d=\"M 250.667969 360.039062 C 250.667969 365.5625 246.1875 370.039062 240.667969 370.039062 C 235.144531 370.039062 230.667969 365.5625 230.667969 360.039062 C 230.667969 354.519531 235.144531 350.039062 240.667969 350.039062 C 246.1875 350.039062 250.667969 354.519531 250.667969 360.039062 \"/>\n",
       "<path style=\"fill-rule:nonzero;fill:rgb(100%,0%,0%);fill-opacity:1;stroke-width:1;stroke-linecap:butt;stroke-linejoin:miter;stroke:rgb(0%,0%,0%);stroke-opacity:1;stroke-miterlimit:10;\" d=\"M 574.78125 336.96875 C 574.78125 342.492188 570.304688 346.96875 564.78125 346.96875 C 559.257812 346.96875 554.78125 342.492188 554.78125 336.96875 C 554.78125 331.445312 559.257812 326.96875 564.78125 326.96875 C 570.304688 326.96875 574.78125 331.445312 574.78125 336.96875 \"/>\n",
       "<path style=\"fill-rule:nonzero;fill:rgb(100%,0%,0%);fill-opacity:1;stroke-width:1;stroke-linecap:butt;stroke-linejoin:miter;stroke:rgb(0%,0%,0%);stroke-opacity:1;stroke-miterlimit:10;\" d=\"M 590 273.507812 C 590 279.03125 585.523438 283.507812 580 283.507812 C 574.476562 283.507812 570 279.03125 570 273.507812 C 570 267.984375 574.476562 263.507812 580 263.507812 C 585.523438 263.507812 590 267.984375 590 273.507812 \"/>\n",
       "<path style=\"fill-rule:nonzero;fill:rgb(100%,0%,0%);fill-opacity:1;stroke-width:1;stroke-linecap:butt;stroke-linejoin:miter;stroke:rgb(0%,0%,0%);stroke-opacity:1;stroke-miterlimit:10;\" d=\"M 78.09375 488.351562 C 78.09375 493.871094 73.617188 498.351562 68.09375 498.351562 C 62.570312 498.351562 58.09375 493.871094 58.09375 488.351562 C 58.09375 482.828125 62.570312 478.351562 68.09375 478.351562 C 73.617188 478.351562 78.09375 482.828125 78.09375 488.351562 \"/>\n",
       "<path style=\"fill-rule:nonzero;fill:rgb(100%,0%,0%);fill-opacity:1;stroke-width:1;stroke-linecap:butt;stroke-linejoin:miter;stroke:rgb(0%,0%,0%);stroke-opacity:1;stroke-miterlimit:10;\" d=\"M 583.585938 399.859375 C 583.585938 405.382812 579.109375 409.859375 573.585938 409.859375 C 568.066406 409.859375 563.585938 405.382812 563.585938 399.859375 C 563.585938 394.339844 568.066406 389.859375 573.585938 389.859375 C 579.109375 389.859375 583.585938 394.339844 583.585938 399.859375 \"/>\n",
       "<path style=\"fill-rule:nonzero;fill:rgb(100%,0%,0%);fill-opacity:1;stroke-width:1;stroke-linecap:butt;stroke-linejoin:miter;stroke:rgb(0%,0%,0%);stroke-opacity:1;stroke-miterlimit:10;\" d=\"M 305.550781 476.015625 C 305.550781 481.539062 301.074219 486.015625 295.550781 486.015625 C 290.027344 486.015625 285.550781 481.539062 285.550781 476.015625 C 285.550781 470.492188 290.027344 466.015625 295.550781 466.015625 C 301.074219 466.015625 305.550781 470.492188 305.550781 476.015625 \"/>\n",
       "<path style=\"fill-rule:nonzero;fill:rgb(100%,0%,0%);fill-opacity:1;stroke-width:1;stroke-linecap:butt;stroke-linejoin:miter;stroke:rgb(0%,0%,0%);stroke-opacity:1;stroke-miterlimit:10;\" d=\"M 537.75 444.253906 C 537.75 449.773438 533.273438 454.253906 527.75 454.253906 C 522.230469 454.253906 517.75 449.773438 517.75 444.253906 C 517.75 438.730469 522.230469 434.253906 527.75 434.253906 C 533.273438 434.253906 537.75 438.730469 537.75 444.253906 \"/>\n",
       "<path style=\"fill-rule:nonzero;fill:rgb(100%,0%,0%);fill-opacity:1;stroke-width:1;stroke-linecap:butt;stroke-linejoin:miter;stroke:rgb(0%,0%,0%);stroke-opacity:1;stroke-miterlimit:10;\" d=\"M 185.964844 580 C 185.964844 585.523438 181.488281 590 175.964844 590 C 170.441406 590 165.964844 585.523438 165.964844 580 C 165.964844 574.476562 170.441406 570 175.964844 570 C 181.488281 570 185.964844 574.476562 185.964844 580 \"/>\n",
       "<path style=\"fill-rule:nonzero;fill:rgb(100%,0%,0%);fill-opacity:1;stroke-width:1;stroke-linecap:butt;stroke-linejoin:miter;stroke:rgb(0%,0%,0%);stroke-opacity:1;stroke-miterlimit:10;\" d=\"M 484.308594 474.210938 C 484.308594 479.730469 479.832031 484.210938 474.308594 484.210938 C 468.785156 484.210938 464.308594 479.730469 464.308594 474.210938 C 464.308594 468.6875 468.785156 464.210938 474.308594 464.210938 C 479.832031 464.210938 484.308594 468.6875 484.308594 474.210938 \"/>\n",
       "<path style=\"fill-rule:nonzero;fill:rgb(100%,0%,0%);fill-opacity:1;stroke-width:1;stroke-linecap:butt;stroke-linejoin:miter;stroke:rgb(0%,0%,0%);stroke-opacity:1;stroke-miterlimit:10;\" d=\"M 463.097656 152.398438 C 463.097656 157.921875 458.617188 162.398438 453.097656 162.398438 C 447.574219 162.398438 443.097656 157.921875 443.097656 152.398438 C 443.097656 146.875 447.574219 142.398438 453.097656 142.398438 C 458.617188 142.398438 463.097656 146.875 463.097656 152.398438 \"/>\n",
       "<path style=\"fill-rule:nonzero;fill:rgb(100%,0%,0%);fill-opacity:1;stroke-width:1;stroke-linecap:butt;stroke-linejoin:miter;stroke:rgb(0%,0%,0%);stroke-opacity:1;stroke-miterlimit:10;\" d=\"M 318.382812 20 C 318.382812 25.523438 313.90625 30 308.382812 30 C 302.859375 30 298.382812 25.523438 298.382812 20 C 298.382812 14.476562 302.859375 10 308.382812 10 C 313.90625 10 318.382812 14.476562 318.382812 20 \"/>\n",
       "<path style=\"fill-rule:nonzero;fill:rgb(100%,0%,0%);fill-opacity:1;stroke-width:1;stroke-linecap:butt;stroke-linejoin:miter;stroke:rgb(0%,0%,0%);stroke-opacity:1;stroke-miterlimit:10;\" d=\"M 402.277344 28.625 C 402.277344 34.148438 397.800781 38.625 392.277344 38.625 C 386.753906 38.625 382.277344 34.148438 382.277344 28.625 C 382.277344 23.105469 386.753906 18.625 392.277344 18.625 C 397.800781 18.625 402.277344 23.105469 402.277344 28.625 \"/>\n",
       "<path style=\"fill-rule:nonzero;fill:rgb(100%,0%,0%);fill-opacity:1;stroke-width:1;stroke-linecap:butt;stroke-linejoin:miter;stroke:rgb(0%,0%,0%);stroke-opacity:1;stroke-miterlimit:10;\" d=\"M 583.914062 153.511719 C 583.914062 159.035156 579.4375 163.511719 573.914062 163.511719 C 568.390625 163.511719 563.914062 159.035156 563.914062 153.511719 C 563.914062 147.992188 568.390625 143.511719 573.914062 143.511719 C 579.4375 143.511719 583.914062 147.992188 583.914062 153.511719 \"/>\n",
       "<path style=\"fill-rule:nonzero;fill:rgb(100%,0%,0%);fill-opacity:1;stroke-width:1;stroke-linecap:butt;stroke-linejoin:miter;stroke:rgb(0%,0%,0%);stroke-opacity:1;stroke-miterlimit:10;\" d=\"M 365.050781 137.246094 C 365.050781 142.765625 360.574219 147.246094 355.050781 147.246094 C 349.527344 147.246094 345.050781 142.765625 345.050781 137.246094 C 345.050781 131.722656 349.527344 127.246094 355.050781 127.246094 C 360.574219 127.246094 365.050781 131.722656 365.050781 137.246094 \"/>\n",
       "<path style=\"fill-rule:nonzero;fill:rgb(100%,0%,0%);fill-opacity:1;stroke-width:1;stroke-linecap:butt;stroke-linejoin:miter;stroke:rgb(0%,0%,0%);stroke-opacity:1;stroke-miterlimit:10;\" d=\"M 273.988281 208.980469 C 273.988281 214.503906 269.507812 218.980469 263.988281 218.980469 C 258.464844 218.980469 253.988281 214.503906 253.988281 208.980469 C 253.988281 203.460938 258.464844 198.980469 263.988281 198.980469 C 269.507812 198.980469 273.988281 203.460938 273.988281 208.980469 \"/>\n",
       "<path style=\"fill-rule:nonzero;fill:rgb(100%,0%,0%);fill-opacity:1;stroke-width:1;stroke-linecap:butt;stroke-linejoin:miter;stroke:rgb(0%,0%,0%);stroke-opacity:1;stroke-miterlimit:10;\" d=\"M 530.511719 205.953125 C 530.511719 211.476562 526.035156 215.953125 520.511719 215.953125 C 514.992188 215.953125 510.511719 211.476562 510.511719 205.953125 C 510.511719 200.429688 514.992188 195.953125 520.511719 195.953125 C 526.035156 195.953125 530.511719 200.429688 530.511719 205.953125 \"/>\n",
       "<path style=\"fill-rule:nonzero;fill:rgb(100%,0%,0%);fill-opacity:1;stroke-width:1;stroke-linecap:butt;stroke-linejoin:miter;stroke:rgb(0%,0%,0%);stroke-opacity:1;stroke-miterlimit:10;\" d=\"M 380.195312 447.058594 C 380.195312 452.582031 375.71875 457.058594 370.195312 457.058594 C 364.675781 457.058594 360.195312 452.582031 360.195312 447.058594 C 360.195312 441.535156 364.675781 437.058594 370.195312 437.058594 C 375.71875 437.058594 380.195312 441.535156 380.195312 447.058594 \"/>\n",
       "<path style=\"fill-rule:nonzero;fill:rgb(100%,0%,0%);fill-opacity:1;stroke-width:1;stroke-linecap:butt;stroke-linejoin:miter;stroke:rgb(0%,0%,0%);stroke-opacity:1;stroke-miterlimit:10;\" d=\"M 340.300781 206.410156 C 340.300781 211.933594 335.824219 216.410156 330.300781 216.410156 C 324.78125 216.410156 320.300781 211.933594 320.300781 206.410156 C 320.300781 200.886719 324.78125 196.410156 330.300781 196.410156 C 335.824219 196.410156 340.300781 200.886719 340.300781 206.410156 \"/>\n",
       "<path style=\"fill-rule:nonzero;fill:rgb(100%,0%,0%);fill-opacity:1;stroke-width:1;stroke-linecap:butt;stroke-linejoin:miter;stroke:rgb(0%,0%,0%);stroke-opacity:1;stroke-miterlimit:10;\" d=\"M 463.640625 329.625 C 463.640625 335.148438 459.164062 339.625 453.640625 339.625 C 448.121094 339.625 443.640625 335.148438 443.640625 329.625 C 443.640625 324.101562 448.121094 319.625 453.640625 319.625 C 459.164062 319.625 463.640625 324.101562 463.640625 329.625 \"/>\n",
       "<path style=\"fill-rule:nonzero;fill:rgb(100%,0%,0%);fill-opacity:1;stroke-width:1;stroke-linecap:butt;stroke-linejoin:miter;stroke:rgb(0%,0%,0%);stroke-opacity:1;stroke-miterlimit:10;\" d=\"M 430.050781 297.960938 C 430.050781 303.484375 425.574219 307.960938 420.050781 307.960938 C 414.527344 307.960938 410.050781 303.484375 410.050781 297.960938 C 410.050781 292.441406 414.527344 287.960938 420.050781 287.960938 C 425.574219 287.960938 430.050781 292.441406 430.050781 297.960938 \"/>\n",
       "</g>\n",
       "</svg>\n"
      ],
      "text/plain": [
       "<igraph.drawing.Plot at 0x1a1ea47128>"
      ]
     },
     "execution_count": 23,
     "metadata": {},
     "output_type": "execute_result"
    }
   ],
   "source": [
    "H = G.clusters().giant()\n",
    "ig.plot(H, layout=H.layout_fruchterman_reingold())"
   ]
  },
  {
   "cell_type": "markdown",
   "metadata": {},
   "source": [
    "## Cycles"
   ]
  },
  {
   "cell_type": "markdown",
   "metadata": {},
   "source": [
    "If there are two paths going from one node to another node, we can join them together and make a *cycle*. We start again with a fresh graph."
   ]
  },
  {
   "cell_type": "code",
   "execution_count": 24,
   "metadata": {
    "ExecuteTime": {
     "end_time": "2019-06-25T21:28:58.332031Z",
     "start_time": "2019-06-25T21:28:58.324574Z"
    }
   },
   "outputs": [],
   "source": [
    "G = ig.Graph.Famous('Zachary')\n",
    "G['layout'] = G.layout_fruchterman_reingold()"
   ]
  },
  {
   "cell_type": "code",
   "execution_count": 25,
   "metadata": {
    "ExecuteTime": {
     "end_time": "2019-06-25T21:28:58.780831Z",
     "start_time": "2019-06-25T21:28:58.767969Z"
    }
   },
   "outputs": [
    {
     "data": {
      "image/svg+xml": [
       "<?xml version=\"1.0\" encoding=\"UTF-8\"?>\n",
       "<svg xmlns=\"http://www.w3.org/2000/svg\" xmlns:xlink=\"http://www.w3.org/1999/xlink\" width=\"600pt\" height=\"600pt\" viewBox=\"0 0 600 600\" version=\"1.1\">\n",
       "<g id=\"surface44\">\n",
       "<rect x=\"0\" y=\"0\" width=\"600\" height=\"600\" style=\"fill:rgb(100%,100%,100%);fill-opacity:1;stroke:none;\"/>\n",
       "<path style=\"fill:none;stroke-width:0.5;stroke-linecap:butt;stroke-linejoin:miter;stroke:rgb(74.509804%,74.509804%,74.509804%);stroke-opacity:1;stroke-miterlimit:10;\" d=\"M 221.085938 374.695312 L 260.867188 332.039062 \"/>\n",
       "<path style=\"fill:none;stroke-width:0.5;stroke-linecap:butt;stroke-linejoin:miter;stroke:rgb(74.509804%,74.509804%,74.509804%);stroke-opacity:1;stroke-miterlimit:10;\" d=\"M 221.085938 374.695312 L 368.019531 370.164062 \"/>\n",
       "<path style=\"fill:none;stroke-width:0.5;stroke-linecap:butt;stroke-linejoin:miter;stroke:rgb(74.509804%,74.509804%,74.509804%);stroke-opacity:1;stroke-miterlimit:10;\" d=\"M 221.085938 374.695312 L 297.65625 476.515625 \"/>\n",
       "<path style=\"fill:none;stroke-width:0.5;stroke-linecap:butt;stroke-linejoin:miter;stroke:rgb(74.509804%,74.509804%,74.509804%);stroke-opacity:1;stroke-miterlimit:10;\" d=\"M 221.085938 374.695312 L 75.875 415.714844 \"/>\n",
       "<path style=\"fill:none;stroke-width:0.5;stroke-linecap:butt;stroke-linejoin:miter;stroke:rgb(74.509804%,74.509804%,74.509804%);stroke-opacity:1;stroke-miterlimit:10;\" d=\"M 221.085938 374.695312 L 94.472656 241.8125 \"/>\n",
       "<path style=\"fill:none;stroke-width:0.5;stroke-linecap:butt;stroke-linejoin:miter;stroke:rgb(74.509804%,74.509804%,74.509804%);stroke-opacity:1;stroke-miterlimit:10;\" d=\"M 221.085938 374.695312 L 62.777344 297.972656 \"/>\n",
       "<path style=\"fill:none;stroke-width:0.5;stroke-linecap:butt;stroke-linejoin:miter;stroke:rgb(74.509804%,74.509804%,74.509804%);stroke-opacity:1;stroke-miterlimit:10;\" d=\"M 221.085938 374.695312 L 262.082031 458.457031 \"/>\n",
       "<path style=\"fill:none;stroke-width:0.5;stroke-linecap:butt;stroke-linejoin:miter;stroke:rgb(74.509804%,74.509804%,74.509804%);stroke-opacity:1;stroke-miterlimit:10;\" d=\"M 221.085938 374.695312 L 350.632812 251.960938 \"/>\n",
       "<path style=\"fill:none;stroke-width:0.5;stroke-linecap:butt;stroke-linejoin:miter;stroke:rgb(74.509804%,74.509804%,74.509804%);stroke-opacity:1;stroke-miterlimit:10;\" d=\"M 221.085938 374.695312 L 99.964844 350.988281 \"/>\n",
       "<path style=\"fill:none;stroke-width:0.5;stroke-linecap:butt;stroke-linejoin:miter;stroke:rgb(74.509804%,74.509804%,74.509804%);stroke-opacity:1;stroke-miterlimit:10;\" d=\"M 221.085938 374.695312 L 145.425781 564.195312 \"/>\n",
       "<path style=\"fill:none;stroke-width:0.5;stroke-linecap:butt;stroke-linejoin:miter;stroke:rgb(74.509804%,74.509804%,74.509804%);stroke-opacity:1;stroke-miterlimit:10;\" d=\"M 221.085938 374.695312 L 243.695312 580 \"/>\n",
       "<path style=\"fill:none;stroke-width:0.5;stroke-linecap:butt;stroke-linejoin:miter;stroke:rgb(74.509804%,74.509804%,74.509804%);stroke-opacity:1;stroke-miterlimit:10;\" d=\"M 221.085938 374.695312 L 322.859375 352.128906 \"/>\n",
       "<path style=\"fill:none;stroke-width:0.5;stroke-linecap:butt;stroke-linejoin:miter;stroke:rgb(74.509804%,74.509804%,74.509804%);stroke-opacity:1;stroke-miterlimit:10;\" d=\"M 221.085938 374.695312 L 178.90625 234.371094 \"/>\n",
       "<path style=\"fill:none;stroke-width:0.5;stroke-linecap:butt;stroke-linejoin:miter;stroke:rgb(74.509804%,74.509804%,74.509804%);stroke-opacity:1;stroke-miterlimit:10;\" d=\"M 221.085938 374.695312 L 282.757812 220.152344 \"/>\n",
       "<path style=\"fill:none;stroke-width:0.5;stroke-linecap:butt;stroke-linejoin:miter;stroke:rgb(74.509804%,74.509804%,74.509804%);stroke-opacity:1;stroke-miterlimit:10;\" d=\"M 221.085938 374.695312 L 169.078125 452.429688 \"/>\n",
       "<path style=\"fill:none;stroke-width:0.5;stroke-linecap:butt;stroke-linejoin:miter;stroke:rgb(74.509804%,74.509804%,74.509804%);stroke-opacity:1;stroke-miterlimit:10;\" d=\"M 221.085938 374.695312 L 434.171875 373.011719 \"/>\n",
       "<path style=\"fill:none;stroke-width:0.5;stroke-linecap:butt;stroke-linejoin:miter;stroke:rgb(74.509804%,74.509804%,74.509804%);stroke-opacity:1;stroke-miterlimit:10;\" d=\"M 260.867188 332.039062 L 368.019531 370.164062 \"/>\n",
       "<path style=\"fill:none;stroke-width:0.5;stroke-linecap:butt;stroke-linejoin:miter;stroke:rgb(74.509804%,74.509804%,74.509804%);stroke-opacity:1;stroke-miterlimit:10;\" d=\"M 260.867188 332.039062 L 297.65625 476.515625 \"/>\n",
       "<path style=\"fill:none;stroke-width:0.5;stroke-linecap:butt;stroke-linejoin:miter;stroke:rgb(74.509804%,74.509804%,74.509804%);stroke-opacity:1;stroke-miterlimit:10;\" d=\"M 260.867188 332.039062 L 262.082031 458.457031 \"/>\n",
       "<path style=\"fill:none;stroke-width:0.5;stroke-linecap:butt;stroke-linejoin:miter;stroke:rgb(74.509804%,74.509804%,74.509804%);stroke-opacity:1;stroke-miterlimit:10;\" d=\"M 260.867188 332.039062 L 322.859375 352.128906 \"/>\n",
       "<path style=\"fill:none;stroke-width:0.5;stroke-linecap:butt;stroke-linejoin:miter;stroke:rgb(74.509804%,74.509804%,74.509804%);stroke-opacity:1;stroke-miterlimit:10;\" d=\"M 260.867188 332.039062 L 178.90625 234.371094 \"/>\n",
       "<path style=\"fill:none;stroke-width:0.5;stroke-linecap:butt;stroke-linejoin:miter;stroke:rgb(74.509804%,74.509804%,74.509804%);stroke-opacity:1;stroke-miterlimit:10;\" d=\"M 260.867188 332.039062 L 282.757812 220.152344 \"/>\n",
       "<path style=\"fill:none;stroke-width:0.5;stroke-linecap:butt;stroke-linejoin:miter;stroke:rgb(74.509804%,74.509804%,74.509804%);stroke-opacity:1;stroke-miterlimit:10;\" d=\"M 260.867188 332.039062 L 169.078125 452.429688 \"/>\n",
       "<path style=\"fill:none;stroke-width:0.5;stroke-linecap:butt;stroke-linejoin:miter;stroke:rgb(74.509804%,74.509804%,74.509804%);stroke-opacity:1;stroke-miterlimit:10;\" d=\"M 260.867188 332.039062 L 346.40625 169.027344 \"/>\n",
       "<path style=\"fill:none;stroke-width:0.5;stroke-linecap:butt;stroke-linejoin:miter;stroke:rgb(74.509804%,74.509804%,74.509804%);stroke-opacity:1;stroke-miterlimit:10;\" d=\"M 368.019531 370.164062 L 297.65625 476.515625 \"/>\n",
       "<path style=\"fill:none;stroke-width:0.5;stroke-linecap:butt;stroke-linejoin:miter;stroke:rgb(74.509804%,74.509804%,74.509804%);stroke-opacity:1;stroke-miterlimit:10;\" d=\"M 368.019531 370.164062 L 262.082031 458.457031 \"/>\n",
       "<path style=\"fill:none;stroke-width:0.5;stroke-linecap:butt;stroke-linejoin:miter;stroke:rgb(74.509804%,74.509804%,74.509804%);stroke-opacity:1;stroke-miterlimit:10;\" d=\"M 368.019531 370.164062 L 509.847656 386.65625 \"/>\n",
       "<path style=\"fill:none;stroke-width:0.5;stroke-linecap:butt;stroke-linejoin:miter;stroke:rgb(74.509804%,74.509804%,74.509804%);stroke-opacity:1;stroke-miterlimit:10;\" d=\"M 368.019531 370.164062 L 469.820312 324.519531 \"/>\n",
       "<path style=\"fill:none;stroke-width:0.5;stroke-linecap:butt;stroke-linejoin:miter;stroke:rgb(74.509804%,74.509804%,74.509804%);stroke-opacity:1;stroke-miterlimit:10;\" d=\"M 368.019531 370.164062 L 455.253906 174.800781 \"/>\n",
       "<path style=\"fill:none;stroke-width:0.5;stroke-linecap:butt;stroke-linejoin:miter;stroke:rgb(74.509804%,74.509804%,74.509804%);stroke-opacity:1;stroke-miterlimit:10;\" d=\"M 368.019531 370.164062 L 449.386719 441.878906 \"/>\n",
       "<path style=\"fill:none;stroke-width:0.5;stroke-linecap:butt;stroke-linejoin:miter;stroke:rgb(74.509804%,74.509804%,74.509804%);stroke-opacity:1;stroke-miterlimit:10;\" d=\"M 368.019531 370.164062 L 350.632812 251.960938 \"/>\n",
       "<path style=\"fill:none;stroke-width:0.5;stroke-linecap:butt;stroke-linejoin:miter;stroke:rgb(74.509804%,74.509804%,74.509804%);stroke-opacity:1;stroke-miterlimit:10;\" d=\"M 368.019531 370.164062 L 322.859375 352.128906 \"/>\n",
       "<path style=\"fill:none;stroke-width:0.5;stroke-linecap:butt;stroke-linejoin:miter;stroke:rgb(74.509804%,74.509804%,74.509804%);stroke-opacity:1;stroke-miterlimit:10;\" d=\"M 297.65625 476.515625 L 262.082031 458.457031 \"/>\n",
       "<path style=\"fill:none;stroke-width:0.5;stroke-linecap:butt;stroke-linejoin:miter;stroke:rgb(74.509804%,74.509804%,74.509804%);stroke-opacity:1;stroke-miterlimit:10;\" d=\"M 297.65625 476.515625 L 243.695312 580 \"/>\n",
       "<path style=\"fill:none;stroke-width:0.5;stroke-linecap:butt;stroke-linejoin:miter;stroke:rgb(74.509804%,74.509804%,74.509804%);stroke-opacity:1;stroke-miterlimit:10;\" d=\"M 297.65625 476.515625 L 322.859375 352.128906 \"/>\n",
       "<path style=\"fill:none;stroke-width:0.5;stroke-linecap:butt;stroke-linejoin:miter;stroke:rgb(74.509804%,74.509804%,74.509804%);stroke-opacity:1;stroke-miterlimit:10;\" d=\"M 75.875 415.714844 L 62.777344 297.972656 \"/>\n",
       "<path style=\"fill:none;stroke-width:0.5;stroke-linecap:butt;stroke-linejoin:miter;stroke:rgb(74.509804%,74.509804%,74.509804%);stroke-opacity:1;stroke-miterlimit:10;\" d=\"M 75.875 415.714844 L 99.964844 350.988281 \"/>\n",
       "<path style=\"fill:none;stroke-width:0.5;stroke-linecap:butt;stroke-linejoin:miter;stroke:rgb(74.509804%,74.509804%,74.509804%);stroke-opacity:1;stroke-miterlimit:10;\" d=\"M 94.472656 241.8125 L 62.777344 297.972656 \"/>\n",
       "<path style=\"fill:none;stroke-width:0.5;stroke-linecap:butt;stroke-linejoin:miter;stroke:rgb(74.509804%,74.509804%,74.509804%);stroke-opacity:1;stroke-miterlimit:10;\" d=\"M 94.472656 241.8125 L 99.964844 350.988281 \"/>\n",
       "<path style=\"fill:none;stroke-width:0.5;stroke-linecap:butt;stroke-linejoin:miter;stroke:rgb(74.509804%,74.509804%,74.509804%);stroke-opacity:1;stroke-miterlimit:10;\" d=\"M 94.472656 241.8125 L 20 170.296875 \"/>\n",
       "<path style=\"fill:none;stroke-width:0.5;stroke-linecap:butt;stroke-linejoin:miter;stroke:rgb(74.509804%,74.509804%,74.509804%);stroke-opacity:1;stroke-miterlimit:10;\" d=\"M 62.777344 297.972656 L 20 170.296875 \"/>\n",
       "<path style=\"fill:none;stroke-width:0.5;stroke-linecap:butt;stroke-linejoin:miter;stroke:rgb(74.509804%,74.509804%,74.509804%);stroke-opacity:1;stroke-miterlimit:10;\" d=\"M 350.632812 251.960938 L 346.40625 169.027344 \"/>\n",
       "<path style=\"fill:none;stroke-width:0.5;stroke-linecap:butt;stroke-linejoin:miter;stroke:rgb(74.509804%,74.509804%,74.509804%);stroke-opacity:1;stroke-miterlimit:10;\" d=\"M 350.632812 251.960938 L 455.253906 174.800781 \"/>\n",
       "<path style=\"fill:none;stroke-width:0.5;stroke-linecap:butt;stroke-linejoin:miter;stroke:rgb(74.509804%,74.509804%,74.509804%);stroke-opacity:1;stroke-miterlimit:10;\" d=\"M 350.632812 251.960938 L 449.457031 212.871094 \"/>\n",
       "<path style=\"fill:none;stroke-width:0.5;stroke-linecap:butt;stroke-linejoin:miter;stroke:rgb(74.509804%,74.509804%,74.509804%);stroke-opacity:1;stroke-miterlimit:10;\" d=\"M 449.386719 441.878906 L 449.457031 212.871094 \"/>\n",
       "<path style=\"fill:none;stroke-width:0.5;stroke-linecap:butt;stroke-linejoin:miter;stroke:rgb(74.509804%,74.509804%,74.509804%);stroke-opacity:1;stroke-miterlimit:10;\" d=\"M 322.859375 352.128906 L 449.457031 212.871094 \"/>\n",
       "<path style=\"fill:none;stroke-width:0.5;stroke-linecap:butt;stroke-linejoin:miter;stroke:rgb(74.509804%,74.509804%,74.509804%);stroke-opacity:1;stroke-miterlimit:10;\" d=\"M 474.171875 40.453125 L 455.253906 174.800781 \"/>\n",
       "<path style=\"fill:none;stroke-width:0.5;stroke-linecap:butt;stroke-linejoin:miter;stroke:rgb(74.509804%,74.509804%,74.509804%);stroke-opacity:1;stroke-miterlimit:10;\" d=\"M 474.171875 40.453125 L 449.457031 212.871094 \"/>\n",
       "<path style=\"fill:none;stroke-width:0.5;stroke-linecap:butt;stroke-linejoin:miter;stroke:rgb(74.509804%,74.509804%,74.509804%);stroke-opacity:1;stroke-miterlimit:10;\" d=\"M 544.511719 92.824219 L 455.253906 174.800781 \"/>\n",
       "<path style=\"fill:none;stroke-width:0.5;stroke-linecap:butt;stroke-linejoin:miter;stroke:rgb(74.509804%,74.509804%,74.509804%);stroke-opacity:1;stroke-miterlimit:10;\" d=\"M 544.511719 92.824219 L 449.457031 212.871094 \"/>\n",
       "<path style=\"fill:none;stroke-width:0.5;stroke-linecap:butt;stroke-linejoin:miter;stroke:rgb(74.509804%,74.509804%,74.509804%);stroke-opacity:1;stroke-miterlimit:10;\" d=\"M 427.582031 20 L 455.253906 174.800781 \"/>\n",
       "<path style=\"fill:none;stroke-width:0.5;stroke-linecap:butt;stroke-linejoin:miter;stroke:rgb(74.509804%,74.509804%,74.509804%);stroke-opacity:1;stroke-miterlimit:10;\" d=\"M 427.582031 20 L 449.457031 212.871094 \"/>\n",
       "<path style=\"fill:none;stroke-width:0.5;stroke-linecap:butt;stroke-linejoin:miter;stroke:rgb(74.509804%,74.509804%,74.509804%);stroke-opacity:1;stroke-miterlimit:10;\" d=\"M 282.757812 220.152344 L 449.457031 212.871094 \"/>\n",
       "<path style=\"fill:none;stroke-width:0.5;stroke-linecap:butt;stroke-linejoin:miter;stroke:rgb(74.509804%,74.509804%,74.509804%);stroke-opacity:1;stroke-miterlimit:10;\" d=\"M 383.960938 52.757812 L 455.253906 174.800781 \"/>\n",
       "<path style=\"fill:none;stroke-width:0.5;stroke-linecap:butt;stroke-linejoin:miter;stroke:rgb(74.509804%,74.509804%,74.509804%);stroke-opacity:1;stroke-miterlimit:10;\" d=\"M 383.960938 52.757812 L 449.457031 212.871094 \"/>\n",
       "<path style=\"fill:none;stroke-width:0.5;stroke-linecap:butt;stroke-linejoin:miter;stroke:rgb(74.509804%,74.509804%,74.509804%);stroke-opacity:1;stroke-miterlimit:10;\" d=\"M 580 195.355469 L 455.253906 174.800781 \"/>\n",
       "<path style=\"fill:none;stroke-width:0.5;stroke-linecap:butt;stroke-linejoin:miter;stroke:rgb(74.509804%,74.509804%,74.509804%);stroke-opacity:1;stroke-miterlimit:10;\" d=\"M 580 195.355469 L 449.457031 212.871094 \"/>\n",
       "<path style=\"fill:none;stroke-width:2;stroke-linecap:butt;stroke-linejoin:miter;stroke:rgb(100%,0%,0%);stroke-opacity:1;stroke-miterlimit:10;\" d=\"M 553.273438 284.808594 L 574.003906 439.148438 \"/>\n",
       "<path style=\"fill:none;stroke-width:2;stroke-linecap:butt;stroke-linejoin:miter;stroke:rgb(100%,0%,0%);stroke-opacity:1;stroke-miterlimit:10;\" d=\"M 553.273438 284.808594 L 509.847656 386.65625 \"/>\n",
       "<path style=\"fill:none;stroke-width:0.5;stroke-linecap:butt;stroke-linejoin:miter;stroke:rgb(74.509804%,74.509804%,74.509804%);stroke-opacity:1;stroke-miterlimit:10;\" d=\"M 553.273438 284.808594 L 455.253906 174.800781 \"/>\n",
       "<path style=\"fill:none;stroke-width:0.5;stroke-linecap:butt;stroke-linejoin:miter;stroke:rgb(74.509804%,74.509804%,74.509804%);stroke-opacity:1;stroke-miterlimit:10;\" d=\"M 553.273438 284.808594 L 449.457031 212.871094 \"/>\n",
       "<path style=\"fill:none;stroke-width:0.5;stroke-linecap:butt;stroke-linejoin:miter;stroke:rgb(74.509804%,74.509804%,74.509804%);stroke-opacity:1;stroke-miterlimit:10;\" d=\"M 553.273438 284.808594 L 544.550781 154.023438 \"/>\n",
       "<path style=\"fill:none;stroke-width:2;stroke-linecap:butt;stroke-linejoin:miter;stroke:rgb(100%,0%,0%);stroke-opacity:1;stroke-miterlimit:10;\" d=\"M 531.066406 516.8125 L 574.003906 439.148438 \"/>\n",
       "<path style=\"fill:none;stroke-width:2;stroke-linecap:butt;stroke-linejoin:miter;stroke:rgb(100%,0%,0%);stroke-opacity:1;stroke-miterlimit:10;\" d=\"M 531.066406 516.8125 L 509.847656 386.65625 \"/>\n",
       "<path style=\"fill:none;stroke-width:0.5;stroke-linecap:butt;stroke-linejoin:miter;stroke:rgb(74.509804%,74.509804%,74.509804%);stroke-opacity:1;stroke-miterlimit:10;\" d=\"M 531.066406 516.8125 L 434.171875 373.011719 \"/>\n",
       "<path style=\"fill:none;stroke-width:0.5;stroke-linecap:butt;stroke-linejoin:miter;stroke:rgb(74.509804%,74.509804%,74.509804%);stroke-opacity:1;stroke-miterlimit:10;\" d=\"M 574.003906 439.148438 L 434.171875 373.011719 \"/>\n",
       "<path style=\"fill:none;stroke-width:0.5;stroke-linecap:butt;stroke-linejoin:miter;stroke:rgb(74.509804%,74.509804%,74.509804%);stroke-opacity:1;stroke-miterlimit:10;\" d=\"M 544.292969 30.21875 L 544.550781 154.023438 \"/>\n",
       "<path style=\"fill:none;stroke-width:0.5;stroke-linecap:butt;stroke-linejoin:miter;stroke:rgb(74.509804%,74.509804%,74.509804%);stroke-opacity:1;stroke-miterlimit:10;\" d=\"M 544.292969 30.21875 L 449.457031 212.871094 \"/>\n",
       "<path style=\"fill:none;stroke-width:0.5;stroke-linecap:butt;stroke-linejoin:miter;stroke:rgb(74.509804%,74.509804%,74.509804%);stroke-opacity:1;stroke-miterlimit:10;\" d=\"M 509.847656 386.65625 L 449.457031 212.871094 \"/>\n",
       "<path style=\"fill:none;stroke-width:0.5;stroke-linecap:butt;stroke-linejoin:miter;stroke:rgb(74.509804%,74.509804%,74.509804%);stroke-opacity:1;stroke-miterlimit:10;\" d=\"M 469.820312 324.519531 L 434.171875 373.011719 \"/>\n",
       "<path style=\"fill:none;stroke-width:0.5;stroke-linecap:butt;stroke-linejoin:miter;stroke:rgb(74.509804%,74.509804%,74.509804%);stroke-opacity:1;stroke-miterlimit:10;\" d=\"M 469.820312 324.519531 L 449.457031 212.871094 \"/>\n",
       "<path style=\"fill:none;stroke-width:0.5;stroke-linecap:butt;stroke-linejoin:miter;stroke:rgb(74.509804%,74.509804%,74.509804%);stroke-opacity:1;stroke-miterlimit:10;\" d=\"M 544.550781 154.023438 L 455.253906 174.800781 \"/>\n",
       "<path style=\"fill:none;stroke-width:0.5;stroke-linecap:butt;stroke-linejoin:miter;stroke:rgb(74.509804%,74.509804%,74.509804%);stroke-opacity:1;stroke-miterlimit:10;\" d=\"M 544.550781 154.023438 L 449.457031 212.871094 \"/>\n",
       "<path style=\"fill:none;stroke-width:0.5;stroke-linecap:butt;stroke-linejoin:miter;stroke:rgb(74.509804%,74.509804%,74.509804%);stroke-opacity:1;stroke-miterlimit:10;\" d=\"M 346.40625 169.027344 L 455.253906 174.800781 \"/>\n",
       "<path style=\"fill:none;stroke-width:0.5;stroke-linecap:butt;stroke-linejoin:miter;stroke:rgb(74.509804%,74.509804%,74.509804%);stroke-opacity:1;stroke-miterlimit:10;\" d=\"M 346.40625 169.027344 L 449.457031 212.871094 \"/>\n",
       "<path style=\"fill:none;stroke-width:0.5;stroke-linecap:butt;stroke-linejoin:miter;stroke:rgb(74.509804%,74.509804%,74.509804%);stroke-opacity:1;stroke-miterlimit:10;\" d=\"M 434.171875 373.011719 L 455.253906 174.800781 \"/>\n",
       "<path style=\"fill:none;stroke-width:0.5;stroke-linecap:butt;stroke-linejoin:miter;stroke:rgb(74.509804%,74.509804%,74.509804%);stroke-opacity:1;stroke-miterlimit:10;\" d=\"M 434.171875 373.011719 L 449.457031 212.871094 \"/>\n",
       "<path style=\"fill:none;stroke-width:0.5;stroke-linecap:butt;stroke-linejoin:miter;stroke:rgb(74.509804%,74.509804%,74.509804%);stroke-opacity:1;stroke-miterlimit:10;\" d=\"M 455.253906 174.800781 L 449.457031 212.871094 \"/>\n",
       "<path style=\"fill-rule:nonzero;fill:rgb(100%,0%,0%);fill-opacity:1;stroke-width:1;stroke-linecap:butt;stroke-linejoin:miter;stroke:rgb(0%,0%,0%);stroke-opacity:1;stroke-miterlimit:10;\" d=\"M 231.085938 374.695312 C 231.085938 380.214844 226.609375 384.695312 221.085938 384.695312 C 215.5625 384.695312 211.085938 380.214844 211.085938 374.695312 C 211.085938 369.171875 215.5625 364.695312 221.085938 364.695312 C 226.609375 364.695312 231.085938 369.171875 231.085938 374.695312 \"/>\n",
       "<path style=\"fill-rule:nonzero;fill:rgb(100%,0%,0%);fill-opacity:1;stroke-width:1;stroke-linecap:butt;stroke-linejoin:miter;stroke:rgb(0%,0%,0%);stroke-opacity:1;stroke-miterlimit:10;\" d=\"M 270.867188 332.039062 C 270.867188 337.5625 266.390625 342.039062 260.867188 342.039062 C 255.34375 342.039062 250.867188 337.5625 250.867188 332.039062 C 250.867188 326.519531 255.34375 322.039062 260.867188 322.039062 C 266.390625 322.039062 270.867188 326.519531 270.867188 332.039062 \"/>\n",
       "<path style=\"fill-rule:nonzero;fill:rgb(100%,0%,0%);fill-opacity:1;stroke-width:1;stroke-linecap:butt;stroke-linejoin:miter;stroke:rgb(0%,0%,0%);stroke-opacity:1;stroke-miterlimit:10;\" d=\"M 378.019531 370.164062 C 378.019531 375.6875 373.542969 380.164062 368.019531 380.164062 C 362.5 380.164062 358.019531 375.6875 358.019531 370.164062 C 358.019531 364.640625 362.5 360.164062 368.019531 360.164062 C 373.542969 360.164062 378.019531 364.640625 378.019531 370.164062 \"/>\n",
       "<path style=\"fill-rule:nonzero;fill:rgb(100%,0%,0%);fill-opacity:1;stroke-width:1;stroke-linecap:butt;stroke-linejoin:miter;stroke:rgb(0%,0%,0%);stroke-opacity:1;stroke-miterlimit:10;\" d=\"M 307.65625 476.515625 C 307.65625 482.039062 303.179688 486.515625 297.65625 486.515625 C 292.132812 486.515625 287.65625 482.039062 287.65625 476.515625 C 287.65625 470.992188 292.132812 466.515625 297.65625 466.515625 C 303.179688 466.515625 307.65625 470.992188 307.65625 476.515625 \"/>\n",
       "<path style=\"fill-rule:nonzero;fill:rgb(100%,0%,0%);fill-opacity:1;stroke-width:1;stroke-linecap:butt;stroke-linejoin:miter;stroke:rgb(0%,0%,0%);stroke-opacity:1;stroke-miterlimit:10;\" d=\"M 85.875 415.714844 C 85.875 421.238281 81.398438 425.714844 75.875 425.714844 C 70.351562 425.714844 65.875 421.238281 65.875 415.714844 C 65.875 410.195312 70.351562 405.714844 75.875 405.714844 C 81.398438 405.714844 85.875 410.195312 85.875 415.714844 \"/>\n",
       "<path style=\"fill-rule:nonzero;fill:rgb(100%,0%,0%);fill-opacity:1;stroke-width:1;stroke-linecap:butt;stroke-linejoin:miter;stroke:rgb(0%,0%,0%);stroke-opacity:1;stroke-miterlimit:10;\" d=\"M 104.472656 241.8125 C 104.472656 247.332031 99.996094 251.8125 94.472656 251.8125 C 88.953125 251.8125 84.472656 247.332031 84.472656 241.8125 C 84.472656 236.289062 88.953125 231.8125 94.472656 231.8125 C 99.996094 231.8125 104.472656 236.289062 104.472656 241.8125 \"/>\n",
       "<path style=\"fill-rule:nonzero;fill:rgb(100%,0%,0%);fill-opacity:1;stroke-width:1;stroke-linecap:butt;stroke-linejoin:miter;stroke:rgb(0%,0%,0%);stroke-opacity:1;stroke-miterlimit:10;\" d=\"M 72.777344 297.972656 C 72.777344 303.496094 68.300781 307.972656 62.777344 307.972656 C 57.253906 307.972656 52.777344 303.496094 52.777344 297.972656 C 52.777344 292.449219 57.253906 287.972656 62.777344 287.972656 C 68.300781 287.972656 72.777344 292.449219 72.777344 297.972656 \"/>\n",
       "<path style=\"fill-rule:nonzero;fill:rgb(100%,0%,0%);fill-opacity:1;stroke-width:1;stroke-linecap:butt;stroke-linejoin:miter;stroke:rgb(0%,0%,0%);stroke-opacity:1;stroke-miterlimit:10;\" d=\"M 272.082031 458.457031 C 272.082031 463.980469 267.605469 468.457031 262.082031 468.457031 C 256.558594 468.457031 252.082031 463.980469 252.082031 458.457031 C 252.082031 452.933594 256.558594 448.457031 262.082031 448.457031 C 267.605469 448.457031 272.082031 452.933594 272.082031 458.457031 \"/>\n",
       "<path style=\"fill-rule:nonzero;fill:rgb(100%,0%,0%);fill-opacity:1;stroke-width:1;stroke-linecap:butt;stroke-linejoin:miter;stroke:rgb(0%,0%,0%);stroke-opacity:1;stroke-miterlimit:10;\" d=\"M 360.632812 251.960938 C 360.632812 257.484375 356.15625 261.960938 350.632812 261.960938 C 345.109375 261.960938 340.632812 257.484375 340.632812 251.960938 C 340.632812 246.441406 345.109375 241.960938 350.632812 241.960938 C 356.15625 241.960938 360.632812 246.441406 360.632812 251.960938 \"/>\n",
       "<path style=\"fill-rule:nonzero;fill:rgb(100%,0%,0%);fill-opacity:1;stroke-width:1;stroke-linecap:butt;stroke-linejoin:miter;stroke:rgb(0%,0%,0%);stroke-opacity:1;stroke-miterlimit:10;\" d=\"M 459.386719 441.878906 C 459.386719 447.402344 454.910156 451.878906 449.386719 451.878906 C 443.867188 451.878906 439.386719 447.402344 439.386719 441.878906 C 439.386719 436.355469 443.867188 431.878906 449.386719 431.878906 C 454.910156 431.878906 459.386719 436.355469 459.386719 441.878906 \"/>\n",
       "<path style=\"fill-rule:nonzero;fill:rgb(100%,0%,0%);fill-opacity:1;stroke-width:1;stroke-linecap:butt;stroke-linejoin:miter;stroke:rgb(0%,0%,0%);stroke-opacity:1;stroke-miterlimit:10;\" d=\"M 109.964844 350.988281 C 109.964844 356.511719 105.488281 360.988281 99.964844 360.988281 C 94.441406 360.988281 89.964844 356.511719 89.964844 350.988281 C 89.964844 345.464844 94.441406 340.988281 99.964844 340.988281 C 105.488281 340.988281 109.964844 345.464844 109.964844 350.988281 \"/>\n",
       "<path style=\"fill-rule:nonzero;fill:rgb(100%,0%,0%);fill-opacity:1;stroke-width:1;stroke-linecap:butt;stroke-linejoin:miter;stroke:rgb(0%,0%,0%);stroke-opacity:1;stroke-miterlimit:10;\" d=\"M 155.425781 564.195312 C 155.425781 569.71875 150.945312 574.195312 145.425781 574.195312 C 139.902344 574.195312 135.425781 569.71875 135.425781 564.195312 C 135.425781 558.671875 139.902344 554.195312 145.425781 554.195312 C 150.945312 554.195312 155.425781 558.671875 155.425781 564.195312 \"/>\n",
       "<path style=\"fill-rule:nonzero;fill:rgb(100%,0%,0%);fill-opacity:1;stroke-width:1;stroke-linecap:butt;stroke-linejoin:miter;stroke:rgb(0%,0%,0%);stroke-opacity:1;stroke-miterlimit:10;\" d=\"M 253.695312 580 C 253.695312 585.523438 249.21875 590 243.695312 590 C 238.171875 590 233.695312 585.523438 233.695312 580 C 233.695312 574.476562 238.171875 570 243.695312 570 C 249.21875 570 253.695312 574.476562 253.695312 580 \"/>\n",
       "<path style=\"fill-rule:nonzero;fill:rgb(100%,0%,0%);fill-opacity:1;stroke-width:1;stroke-linecap:butt;stroke-linejoin:miter;stroke:rgb(0%,0%,0%);stroke-opacity:1;stroke-miterlimit:10;\" d=\"M 332.859375 352.128906 C 332.859375 357.652344 328.382812 362.128906 322.859375 362.128906 C 317.335938 362.128906 312.859375 357.652344 312.859375 352.128906 C 312.859375 346.605469 317.335938 342.128906 322.859375 342.128906 C 328.382812 342.128906 332.859375 346.605469 332.859375 352.128906 \"/>\n",
       "<path style=\"fill-rule:nonzero;fill:rgb(100%,0%,0%);fill-opacity:1;stroke-width:1;stroke-linecap:butt;stroke-linejoin:miter;stroke:rgb(0%,0%,0%);stroke-opacity:1;stroke-miterlimit:10;\" d=\"M 484.171875 40.453125 C 484.171875 45.976562 479.695312 50.453125 474.171875 50.453125 C 468.648438 50.453125 464.171875 45.976562 464.171875 40.453125 C 464.171875 34.929688 468.648438 30.453125 474.171875 30.453125 C 479.695312 30.453125 484.171875 34.929688 484.171875 40.453125 \"/>\n",
       "<path style=\"fill-rule:nonzero;fill:rgb(100%,0%,0%);fill-opacity:1;stroke-width:1;stroke-linecap:butt;stroke-linejoin:miter;stroke:rgb(0%,0%,0%);stroke-opacity:1;stroke-miterlimit:10;\" d=\"M 554.511719 92.824219 C 554.511719 98.347656 550.03125 102.824219 544.511719 102.824219 C 538.988281 102.824219 534.511719 98.347656 534.511719 92.824219 C 534.511719 87.300781 538.988281 82.824219 544.511719 82.824219 C 550.03125 82.824219 554.511719 87.300781 554.511719 92.824219 \"/>\n",
       "<path style=\"fill-rule:nonzero;fill:rgb(100%,0%,0%);fill-opacity:1;stroke-width:1;stroke-linecap:butt;stroke-linejoin:miter;stroke:rgb(0%,0%,0%);stroke-opacity:1;stroke-miterlimit:10;\" d=\"M 30 170.296875 C 30 175.820312 25.523438 180.296875 20 180.296875 C 14.476562 180.296875 10 175.820312 10 170.296875 C 10 164.777344 14.476562 160.296875 20 160.296875 C 25.523438 160.296875 30 164.777344 30 170.296875 \"/>\n",
       "<path style=\"fill-rule:nonzero;fill:rgb(100%,0%,0%);fill-opacity:1;stroke-width:1;stroke-linecap:butt;stroke-linejoin:miter;stroke:rgb(0%,0%,0%);stroke-opacity:1;stroke-miterlimit:10;\" d=\"M 188.90625 234.371094 C 188.90625 239.894531 184.429688 244.371094 178.90625 244.371094 C 173.382812 244.371094 168.90625 239.894531 168.90625 234.371094 C 168.90625 228.847656 173.382812 224.371094 178.90625 224.371094 C 184.429688 224.371094 188.90625 228.847656 188.90625 234.371094 \"/>\n",
       "<path style=\"fill-rule:nonzero;fill:rgb(100%,0%,0%);fill-opacity:1;stroke-width:1;stroke-linecap:butt;stroke-linejoin:miter;stroke:rgb(0%,0%,0%);stroke-opacity:1;stroke-miterlimit:10;\" d=\"M 437.582031 20 C 437.582031 25.523438 433.105469 30 427.582031 30 C 422.058594 30 417.582031 25.523438 417.582031 20 C 417.582031 14.476562 422.058594 10 427.582031 10 C 433.105469 10 437.582031 14.476562 437.582031 20 \"/>\n",
       "<path style=\"fill-rule:nonzero;fill:rgb(100%,0%,0%);fill-opacity:1;stroke-width:1;stroke-linecap:butt;stroke-linejoin:miter;stroke:rgb(0%,0%,0%);stroke-opacity:1;stroke-miterlimit:10;\" d=\"M 292.757812 220.152344 C 292.757812 225.675781 288.28125 230.152344 282.757812 230.152344 C 277.238281 230.152344 272.757812 225.675781 272.757812 220.152344 C 272.757812 214.628906 277.238281 210.152344 282.757812 210.152344 C 288.28125 210.152344 292.757812 214.628906 292.757812 220.152344 \"/>\n",
       "<path style=\"fill-rule:nonzero;fill:rgb(100%,0%,0%);fill-opacity:1;stroke-width:1;stroke-linecap:butt;stroke-linejoin:miter;stroke:rgb(0%,0%,0%);stroke-opacity:1;stroke-miterlimit:10;\" d=\"M 393.960938 52.757812 C 393.960938 58.28125 389.484375 62.757812 383.960938 62.757812 C 378.4375 62.757812 373.960938 58.28125 373.960938 52.757812 C 373.960938 47.234375 378.4375 42.757812 383.960938 42.757812 C 389.484375 42.757812 393.960938 47.234375 393.960938 52.757812 \"/>\n",
       "<path style=\"fill-rule:nonzero;fill:rgb(100%,0%,0%);fill-opacity:1;stroke-width:1;stroke-linecap:butt;stroke-linejoin:miter;stroke:rgb(0%,0%,0%);stroke-opacity:1;stroke-miterlimit:10;\" d=\"M 179.078125 452.429688 C 179.078125 457.953125 174.601562 462.429688 169.078125 462.429688 C 163.554688 462.429688 159.078125 457.953125 159.078125 452.429688 C 159.078125 446.90625 163.554688 442.429688 169.078125 442.429688 C 174.601562 442.429688 179.078125 446.90625 179.078125 452.429688 \"/>\n",
       "<path style=\"fill-rule:nonzero;fill:rgb(100%,0%,0%);fill-opacity:1;stroke-width:1;stroke-linecap:butt;stroke-linejoin:miter;stroke:rgb(0%,0%,0%);stroke-opacity:1;stroke-miterlimit:10;\" d=\"M 590 195.355469 C 590 200.878906 585.523438 205.355469 580 205.355469 C 574.476562 205.355469 570 200.878906 570 195.355469 C 570 189.832031 574.476562 185.355469 580 185.355469 C 585.523438 185.355469 590 189.832031 590 195.355469 \"/>\n",
       "<path style=\"fill-rule:nonzero;fill:rgb(100%,0%,0%);fill-opacity:1;stroke-width:1;stroke-linecap:butt;stroke-linejoin:miter;stroke:rgb(0%,0%,0%);stroke-opacity:1;stroke-miterlimit:10;\" d=\"M 563.273438 284.808594 C 563.273438 290.332031 558.796875 294.808594 553.273438 294.808594 C 547.75 294.808594 543.273438 290.332031 543.273438 284.808594 C 543.273438 279.289062 547.75 274.808594 553.273438 274.808594 C 558.796875 274.808594 563.273438 279.289062 563.273438 284.808594 \"/>\n",
       "<path style=\"fill-rule:nonzero;fill:rgb(100%,0%,0%);fill-opacity:1;stroke-width:1;stroke-linecap:butt;stroke-linejoin:miter;stroke:rgb(0%,0%,0%);stroke-opacity:1;stroke-miterlimit:10;\" d=\"M 541.066406 516.8125 C 541.066406 522.335938 536.589844 526.8125 531.066406 526.8125 C 525.542969 526.8125 521.066406 522.335938 521.066406 516.8125 C 521.066406 511.289062 525.542969 506.8125 531.066406 506.8125 C 536.589844 506.8125 541.066406 511.289062 541.066406 516.8125 \"/>\n",
       "<path style=\"fill-rule:nonzero;fill:rgb(100%,0%,0%);fill-opacity:1;stroke-width:1;stroke-linecap:butt;stroke-linejoin:miter;stroke:rgb(0%,0%,0%);stroke-opacity:1;stroke-miterlimit:10;\" d=\"M 584.003906 439.148438 C 584.003906 444.667969 579.527344 449.148438 574.003906 449.148438 C 568.480469 449.148438 564.003906 444.667969 564.003906 439.148438 C 564.003906 433.625 568.480469 429.148438 574.003906 429.148438 C 579.527344 429.148438 584.003906 433.625 584.003906 439.148438 \"/>\n",
       "<path style=\"fill-rule:nonzero;fill:rgb(100%,0%,0%);fill-opacity:1;stroke-width:1;stroke-linecap:butt;stroke-linejoin:miter;stroke:rgb(0%,0%,0%);stroke-opacity:1;stroke-miterlimit:10;\" d=\"M 554.292969 30.21875 C 554.292969 35.742188 549.816406 40.21875 544.292969 40.21875 C 538.769531 40.21875 534.292969 35.742188 534.292969 30.21875 C 534.292969 24.695312 538.769531 20.21875 544.292969 20.21875 C 549.816406 20.21875 554.292969 24.695312 554.292969 30.21875 \"/>\n",
       "<path style=\"fill-rule:nonzero;fill:rgb(100%,0%,0%);fill-opacity:1;stroke-width:1;stroke-linecap:butt;stroke-linejoin:miter;stroke:rgb(0%,0%,0%);stroke-opacity:1;stroke-miterlimit:10;\" d=\"M 519.847656 386.65625 C 519.847656 392.179688 515.371094 396.65625 509.847656 396.65625 C 504.328125 396.65625 499.847656 392.179688 499.847656 386.65625 C 499.847656 381.132812 504.328125 376.65625 509.847656 376.65625 C 515.371094 376.65625 519.847656 381.132812 519.847656 386.65625 \"/>\n",
       "<path style=\"fill-rule:nonzero;fill:rgb(100%,0%,0%);fill-opacity:1;stroke-width:1;stroke-linecap:butt;stroke-linejoin:miter;stroke:rgb(0%,0%,0%);stroke-opacity:1;stroke-miterlimit:10;\" d=\"M 479.820312 324.519531 C 479.820312 330.042969 475.34375 334.519531 469.820312 334.519531 C 464.296875 334.519531 459.820312 330.042969 459.820312 324.519531 C 459.820312 319 464.296875 314.519531 469.820312 314.519531 C 475.34375 314.519531 479.820312 319 479.820312 324.519531 \"/>\n",
       "<path style=\"fill-rule:nonzero;fill:rgb(100%,0%,0%);fill-opacity:1;stroke-width:1;stroke-linecap:butt;stroke-linejoin:miter;stroke:rgb(0%,0%,0%);stroke-opacity:1;stroke-miterlimit:10;\" d=\"M 554.550781 154.023438 C 554.550781 159.546875 550.070312 164.023438 544.550781 164.023438 C 539.027344 164.023438 534.550781 159.546875 534.550781 154.023438 C 534.550781 148.503906 539.027344 144.023438 544.550781 144.023438 C 550.070312 144.023438 554.550781 148.503906 554.550781 154.023438 \"/>\n",
       "<path style=\"fill-rule:nonzero;fill:rgb(100%,0%,0%);fill-opacity:1;stroke-width:1;stroke-linecap:butt;stroke-linejoin:miter;stroke:rgb(0%,0%,0%);stroke-opacity:1;stroke-miterlimit:10;\" d=\"M 356.40625 169.027344 C 356.40625 174.550781 351.925781 179.027344 346.40625 179.027344 C 340.882812 179.027344 336.40625 174.550781 336.40625 169.027344 C 336.40625 163.503906 340.882812 159.027344 346.40625 159.027344 C 351.925781 159.027344 356.40625 163.503906 356.40625 169.027344 \"/>\n",
       "<path style=\"fill-rule:nonzero;fill:rgb(100%,0%,0%);fill-opacity:1;stroke-width:1;stroke-linecap:butt;stroke-linejoin:miter;stroke:rgb(0%,0%,0%);stroke-opacity:1;stroke-miterlimit:10;\" d=\"M 444.171875 373.011719 C 444.171875 378.535156 439.695312 383.011719 434.171875 383.011719 C 428.652344 383.011719 424.171875 378.535156 424.171875 373.011719 C 424.171875 367.488281 428.652344 363.011719 434.171875 363.011719 C 439.695312 363.011719 444.171875 367.488281 444.171875 373.011719 \"/>\n",
       "<path style=\"fill-rule:nonzero;fill:rgb(100%,0%,0%);fill-opacity:1;stroke-width:1;stroke-linecap:butt;stroke-linejoin:miter;stroke:rgb(0%,0%,0%);stroke-opacity:1;stroke-miterlimit:10;\" d=\"M 465.253906 174.800781 C 465.253906 180.320312 460.777344 184.800781 455.253906 184.800781 C 449.730469 184.800781 445.253906 180.320312 445.253906 174.800781 C 445.253906 169.277344 449.730469 164.800781 455.253906 164.800781 C 460.777344 164.800781 465.253906 169.277344 465.253906 174.800781 \"/>\n",
       "<path style=\"fill-rule:nonzero;fill:rgb(100%,0%,0%);fill-opacity:1;stroke-width:1;stroke-linecap:butt;stroke-linejoin:miter;stroke:rgb(0%,0%,0%);stroke-opacity:1;stroke-miterlimit:10;\" d=\"M 459.457031 212.871094 C 459.457031 218.394531 454.980469 222.871094 449.457031 222.871094 C 443.933594 222.871094 439.457031 218.394531 439.457031 212.871094 C 439.457031 207.347656 443.933594 202.871094 449.457031 202.871094 C 454.980469 202.871094 459.457031 207.347656 459.457031 212.871094 \"/>\n",
       "</g>\n",
       "</svg>\n"
      ],
      "text/plain": [
       "<igraph.drawing.Plot at 0x1099305c0>"
      ]
     },
     "execution_count": 25,
     "metadata": {},
     "output_type": "execute_result"
    }
   ],
   "source": [
    "cycle = G.es[G.get_eids(path=(24, 25, 23, 27, 24))]\n",
    "\n",
    "G.es['color'] = 'gray'\n",
    "G.es['width'] = 0.5\n",
    "cycle['color'] = 'red'\n",
    "cycle['width'] = 2\n",
    "\n",
    "ig.plot(G)"
   ]
  },
  {
   "cell_type": "code",
   "execution_count": 26,
   "metadata": {
    "ExecuteTime": {
     "end_time": "2019-06-25T21:28:59.522481Z",
     "start_time": "2019-06-25T21:28:59.514611Z"
    }
   },
   "outputs": [
    {
     "data": {
      "text/plain": [
       "[(24, 25), (23, 25), (23, 27), (24, 27)]"
      ]
     },
     "execution_count": 26,
     "metadata": {},
     "output_type": "execute_result"
    }
   ],
   "source": [
    "[(e.source, e.target) for e in cycle]"
   ]
  },
  {
   "cell_type": "markdown",
   "metadata": {},
   "source": [
    "This is a cycle of length 4, but longer cycles do exist in the graph. The smallest cycle of length 3 are of particular interest to the social sciences. A small group of three people is commonly called a *triad* in the social sciences. It is of particular interest because if two people have a friend in common, they are more likely to become friends themselves. This is known as *triadic closure*.\n",
    "\n",
    "If there are many closed triads, i.e. many cycles of length 3, it suggests that many people have many friends in common. In particular, the network is then said to be *clustered*. The *clustering coefficient* for a node is defined as the proportion of neighbors that are connected amongst each other. A clustering coefficient of 1 then means that all the neighbors of a node are connected to each other, while a clustering coefficient of 0 means that no neigbhours are connected amongst each other. The overall clustering is then simply the average over the whole network."
   ]
  },
  {
   "cell_type": "code",
   "execution_count": 27,
   "metadata": {
    "ExecuteTime": {
     "end_time": "2019-06-25T21:29:01.271440Z",
     "start_time": "2019-06-25T21:29:01.261345Z"
    }
   },
   "outputs": [
    {
     "data": {
      "image/svg+xml": [
       "<?xml version=\"1.0\" encoding=\"UTF-8\"?>\n",
       "<svg xmlns=\"http://www.w3.org/2000/svg\" xmlns:xlink=\"http://www.w3.org/1999/xlink\" width=\"600pt\" height=\"600pt\" viewBox=\"0 0 600 600\" version=\"1.1\">\n",
       "<g id=\"surface50\">\n",
       "<rect x=\"0\" y=\"0\" width=\"600\" height=\"600\" style=\"fill:rgb(100%,100%,100%);fill-opacity:1;stroke:none;\"/>\n",
       "<path style=\"fill:none;stroke-width:0.5;stroke-linecap:butt;stroke-linejoin:miter;stroke:rgb(74.509804%,74.509804%,74.509804%);stroke-opacity:1;stroke-miterlimit:10;\" d=\"M 221.085938 374.695312 L 260.867188 332.039062 \"/>\n",
       "<path style=\"fill:none;stroke-width:0.5;stroke-linecap:butt;stroke-linejoin:miter;stroke:rgb(74.509804%,74.509804%,74.509804%);stroke-opacity:1;stroke-miterlimit:10;\" d=\"M 221.085938 374.695312 L 368.019531 370.164062 \"/>\n",
       "<path style=\"fill:none;stroke-width:0.5;stroke-linecap:butt;stroke-linejoin:miter;stroke:rgb(74.509804%,74.509804%,74.509804%);stroke-opacity:1;stroke-miterlimit:10;\" d=\"M 221.085938 374.695312 L 297.65625 476.515625 \"/>\n",
       "<path style=\"fill:none;stroke-width:0.5;stroke-linecap:butt;stroke-linejoin:miter;stroke:rgb(74.509804%,74.509804%,74.509804%);stroke-opacity:1;stroke-miterlimit:10;\" d=\"M 221.085938 374.695312 L 75.875 415.714844 \"/>\n",
       "<path style=\"fill:none;stroke-width:0.5;stroke-linecap:butt;stroke-linejoin:miter;stroke:rgb(74.509804%,74.509804%,74.509804%);stroke-opacity:1;stroke-miterlimit:10;\" d=\"M 221.085938 374.695312 L 94.472656 241.8125 \"/>\n",
       "<path style=\"fill:none;stroke-width:0.5;stroke-linecap:butt;stroke-linejoin:miter;stroke:rgb(74.509804%,74.509804%,74.509804%);stroke-opacity:1;stroke-miterlimit:10;\" d=\"M 221.085938 374.695312 L 62.777344 297.972656 \"/>\n",
       "<path style=\"fill:none;stroke-width:0.5;stroke-linecap:butt;stroke-linejoin:miter;stroke:rgb(74.509804%,74.509804%,74.509804%);stroke-opacity:1;stroke-miterlimit:10;\" d=\"M 221.085938 374.695312 L 262.082031 458.457031 \"/>\n",
       "<path style=\"fill:none;stroke-width:0.5;stroke-linecap:butt;stroke-linejoin:miter;stroke:rgb(74.509804%,74.509804%,74.509804%);stroke-opacity:1;stroke-miterlimit:10;\" d=\"M 221.085938 374.695312 L 350.632812 251.960938 \"/>\n",
       "<path style=\"fill:none;stroke-width:0.5;stroke-linecap:butt;stroke-linejoin:miter;stroke:rgb(74.509804%,74.509804%,74.509804%);stroke-opacity:1;stroke-miterlimit:10;\" d=\"M 221.085938 374.695312 L 99.964844 350.988281 \"/>\n",
       "<path style=\"fill:none;stroke-width:0.5;stroke-linecap:butt;stroke-linejoin:miter;stroke:rgb(74.509804%,74.509804%,74.509804%);stroke-opacity:1;stroke-miterlimit:10;\" d=\"M 221.085938 374.695312 L 145.425781 564.195312 \"/>\n",
       "<path style=\"fill:none;stroke-width:0.5;stroke-linecap:butt;stroke-linejoin:miter;stroke:rgb(74.509804%,74.509804%,74.509804%);stroke-opacity:1;stroke-miterlimit:10;\" d=\"M 221.085938 374.695312 L 243.695312 580 \"/>\n",
       "<path style=\"fill:none;stroke-width:0.5;stroke-linecap:butt;stroke-linejoin:miter;stroke:rgb(74.509804%,74.509804%,74.509804%);stroke-opacity:1;stroke-miterlimit:10;\" d=\"M 221.085938 374.695312 L 322.859375 352.128906 \"/>\n",
       "<path style=\"fill:none;stroke-width:0.5;stroke-linecap:butt;stroke-linejoin:miter;stroke:rgb(74.509804%,74.509804%,74.509804%);stroke-opacity:1;stroke-miterlimit:10;\" d=\"M 221.085938 374.695312 L 178.90625 234.371094 \"/>\n",
       "<path style=\"fill:none;stroke-width:0.5;stroke-linecap:butt;stroke-linejoin:miter;stroke:rgb(74.509804%,74.509804%,74.509804%);stroke-opacity:1;stroke-miterlimit:10;\" d=\"M 221.085938 374.695312 L 282.757812 220.152344 \"/>\n",
       "<path style=\"fill:none;stroke-width:0.5;stroke-linecap:butt;stroke-linejoin:miter;stroke:rgb(74.509804%,74.509804%,74.509804%);stroke-opacity:1;stroke-miterlimit:10;\" d=\"M 221.085938 374.695312 L 169.078125 452.429688 \"/>\n",
       "<path style=\"fill:none;stroke-width:0.5;stroke-linecap:butt;stroke-linejoin:miter;stroke:rgb(74.509804%,74.509804%,74.509804%);stroke-opacity:1;stroke-miterlimit:10;\" d=\"M 221.085938 374.695312 L 434.171875 373.011719 \"/>\n",
       "<path style=\"fill:none;stroke-width:0.5;stroke-linecap:butt;stroke-linejoin:miter;stroke:rgb(74.509804%,74.509804%,74.509804%);stroke-opacity:1;stroke-miterlimit:10;\" d=\"M 260.867188 332.039062 L 368.019531 370.164062 \"/>\n",
       "<path style=\"fill:none;stroke-width:0.5;stroke-linecap:butt;stroke-linejoin:miter;stroke:rgb(74.509804%,74.509804%,74.509804%);stroke-opacity:1;stroke-miterlimit:10;\" d=\"M 260.867188 332.039062 L 297.65625 476.515625 \"/>\n",
       "<path style=\"fill:none;stroke-width:0.5;stroke-linecap:butt;stroke-linejoin:miter;stroke:rgb(74.509804%,74.509804%,74.509804%);stroke-opacity:1;stroke-miterlimit:10;\" d=\"M 260.867188 332.039062 L 262.082031 458.457031 \"/>\n",
       "<path style=\"fill:none;stroke-width:0.5;stroke-linecap:butt;stroke-linejoin:miter;stroke:rgb(74.509804%,74.509804%,74.509804%);stroke-opacity:1;stroke-miterlimit:10;\" d=\"M 260.867188 332.039062 L 322.859375 352.128906 \"/>\n",
       "<path style=\"fill:none;stroke-width:0.5;stroke-linecap:butt;stroke-linejoin:miter;stroke:rgb(74.509804%,74.509804%,74.509804%);stroke-opacity:1;stroke-miterlimit:10;\" d=\"M 260.867188 332.039062 L 178.90625 234.371094 \"/>\n",
       "<path style=\"fill:none;stroke-width:0.5;stroke-linecap:butt;stroke-linejoin:miter;stroke:rgb(74.509804%,74.509804%,74.509804%);stroke-opacity:1;stroke-miterlimit:10;\" d=\"M 260.867188 332.039062 L 282.757812 220.152344 \"/>\n",
       "<path style=\"fill:none;stroke-width:0.5;stroke-linecap:butt;stroke-linejoin:miter;stroke:rgb(74.509804%,74.509804%,74.509804%);stroke-opacity:1;stroke-miterlimit:10;\" d=\"M 260.867188 332.039062 L 169.078125 452.429688 \"/>\n",
       "<path style=\"fill:none;stroke-width:0.5;stroke-linecap:butt;stroke-linejoin:miter;stroke:rgb(74.509804%,74.509804%,74.509804%);stroke-opacity:1;stroke-miterlimit:10;\" d=\"M 260.867188 332.039062 L 346.40625 169.027344 \"/>\n",
       "<path style=\"fill:none;stroke-width:0.5;stroke-linecap:butt;stroke-linejoin:miter;stroke:rgb(74.509804%,74.509804%,74.509804%);stroke-opacity:1;stroke-miterlimit:10;\" d=\"M 368.019531 370.164062 L 297.65625 476.515625 \"/>\n",
       "<path style=\"fill:none;stroke-width:0.5;stroke-linecap:butt;stroke-linejoin:miter;stroke:rgb(74.509804%,74.509804%,74.509804%);stroke-opacity:1;stroke-miterlimit:10;\" d=\"M 368.019531 370.164062 L 262.082031 458.457031 \"/>\n",
       "<path style=\"fill:none;stroke-width:0.5;stroke-linecap:butt;stroke-linejoin:miter;stroke:rgb(74.509804%,74.509804%,74.509804%);stroke-opacity:1;stroke-miterlimit:10;\" d=\"M 368.019531 370.164062 L 509.847656 386.65625 \"/>\n",
       "<path style=\"fill:none;stroke-width:0.5;stroke-linecap:butt;stroke-linejoin:miter;stroke:rgb(74.509804%,74.509804%,74.509804%);stroke-opacity:1;stroke-miterlimit:10;\" d=\"M 368.019531 370.164062 L 469.820312 324.519531 \"/>\n",
       "<path style=\"fill:none;stroke-width:0.5;stroke-linecap:butt;stroke-linejoin:miter;stroke:rgb(74.509804%,74.509804%,74.509804%);stroke-opacity:1;stroke-miterlimit:10;\" d=\"M 368.019531 370.164062 L 455.253906 174.800781 \"/>\n",
       "<path style=\"fill:none;stroke-width:0.5;stroke-linecap:butt;stroke-linejoin:miter;stroke:rgb(74.509804%,74.509804%,74.509804%);stroke-opacity:1;stroke-miterlimit:10;\" d=\"M 368.019531 370.164062 L 449.386719 441.878906 \"/>\n",
       "<path style=\"fill:none;stroke-width:0.5;stroke-linecap:butt;stroke-linejoin:miter;stroke:rgb(74.509804%,74.509804%,74.509804%);stroke-opacity:1;stroke-miterlimit:10;\" d=\"M 368.019531 370.164062 L 350.632812 251.960938 \"/>\n",
       "<path style=\"fill:none;stroke-width:0.5;stroke-linecap:butt;stroke-linejoin:miter;stroke:rgb(74.509804%,74.509804%,74.509804%);stroke-opacity:1;stroke-miterlimit:10;\" d=\"M 368.019531 370.164062 L 322.859375 352.128906 \"/>\n",
       "<path style=\"fill:none;stroke-width:0.5;stroke-linecap:butt;stroke-linejoin:miter;stroke:rgb(74.509804%,74.509804%,74.509804%);stroke-opacity:1;stroke-miterlimit:10;\" d=\"M 297.65625 476.515625 L 262.082031 458.457031 \"/>\n",
       "<path style=\"fill:none;stroke-width:0.5;stroke-linecap:butt;stroke-linejoin:miter;stroke:rgb(74.509804%,74.509804%,74.509804%);stroke-opacity:1;stroke-miterlimit:10;\" d=\"M 297.65625 476.515625 L 243.695312 580 \"/>\n",
       "<path style=\"fill:none;stroke-width:0.5;stroke-linecap:butt;stroke-linejoin:miter;stroke:rgb(74.509804%,74.509804%,74.509804%);stroke-opacity:1;stroke-miterlimit:10;\" d=\"M 297.65625 476.515625 L 322.859375 352.128906 \"/>\n",
       "<path style=\"fill:none;stroke-width:0.5;stroke-linecap:butt;stroke-linejoin:miter;stroke:rgb(74.509804%,74.509804%,74.509804%);stroke-opacity:1;stroke-miterlimit:10;\" d=\"M 75.875 415.714844 L 62.777344 297.972656 \"/>\n",
       "<path style=\"fill:none;stroke-width:0.5;stroke-linecap:butt;stroke-linejoin:miter;stroke:rgb(74.509804%,74.509804%,74.509804%);stroke-opacity:1;stroke-miterlimit:10;\" d=\"M 75.875 415.714844 L 99.964844 350.988281 \"/>\n",
       "<path style=\"fill:none;stroke-width:0.5;stroke-linecap:butt;stroke-linejoin:miter;stroke:rgb(74.509804%,74.509804%,74.509804%);stroke-opacity:1;stroke-miterlimit:10;\" d=\"M 94.472656 241.8125 L 62.777344 297.972656 \"/>\n",
       "<path style=\"fill:none;stroke-width:0.5;stroke-linecap:butt;stroke-linejoin:miter;stroke:rgb(74.509804%,74.509804%,74.509804%);stroke-opacity:1;stroke-miterlimit:10;\" d=\"M 94.472656 241.8125 L 99.964844 350.988281 \"/>\n",
       "<path style=\"fill:none;stroke-width:0.5;stroke-linecap:butt;stroke-linejoin:miter;stroke:rgb(74.509804%,74.509804%,74.509804%);stroke-opacity:1;stroke-miterlimit:10;\" d=\"M 94.472656 241.8125 L 20 170.296875 \"/>\n",
       "<path style=\"fill:none;stroke-width:0.5;stroke-linecap:butt;stroke-linejoin:miter;stroke:rgb(74.509804%,74.509804%,74.509804%);stroke-opacity:1;stroke-miterlimit:10;\" d=\"M 62.777344 297.972656 L 20 170.296875 \"/>\n",
       "<path style=\"fill:none;stroke-width:0.5;stroke-linecap:butt;stroke-linejoin:miter;stroke:rgb(74.509804%,74.509804%,74.509804%);stroke-opacity:1;stroke-miterlimit:10;\" d=\"M 350.632812 251.960938 L 346.40625 169.027344 \"/>\n",
       "<path style=\"fill:none;stroke-width:0.5;stroke-linecap:butt;stroke-linejoin:miter;stroke:rgb(74.509804%,74.509804%,74.509804%);stroke-opacity:1;stroke-miterlimit:10;\" d=\"M 350.632812 251.960938 L 455.253906 174.800781 \"/>\n",
       "<path style=\"fill:none;stroke-width:0.5;stroke-linecap:butt;stroke-linejoin:miter;stroke:rgb(74.509804%,74.509804%,74.509804%);stroke-opacity:1;stroke-miterlimit:10;\" d=\"M 350.632812 251.960938 L 449.457031 212.871094 \"/>\n",
       "<path style=\"fill:none;stroke-width:0.5;stroke-linecap:butt;stroke-linejoin:miter;stroke:rgb(74.509804%,74.509804%,74.509804%);stroke-opacity:1;stroke-miterlimit:10;\" d=\"M 449.386719 441.878906 L 449.457031 212.871094 \"/>\n",
       "<path style=\"fill:none;stroke-width:0.5;stroke-linecap:butt;stroke-linejoin:miter;stroke:rgb(74.509804%,74.509804%,74.509804%);stroke-opacity:1;stroke-miterlimit:10;\" d=\"M 322.859375 352.128906 L 449.457031 212.871094 \"/>\n",
       "<path style=\"fill:none;stroke-width:0.5;stroke-linecap:butt;stroke-linejoin:miter;stroke:rgb(74.509804%,74.509804%,74.509804%);stroke-opacity:1;stroke-miterlimit:10;\" d=\"M 474.171875 40.453125 L 455.253906 174.800781 \"/>\n",
       "<path style=\"fill:none;stroke-width:0.5;stroke-linecap:butt;stroke-linejoin:miter;stroke:rgb(74.509804%,74.509804%,74.509804%);stroke-opacity:1;stroke-miterlimit:10;\" d=\"M 474.171875 40.453125 L 449.457031 212.871094 \"/>\n",
       "<path style=\"fill:none;stroke-width:0.5;stroke-linecap:butt;stroke-linejoin:miter;stroke:rgb(74.509804%,74.509804%,74.509804%);stroke-opacity:1;stroke-miterlimit:10;\" d=\"M 544.511719 92.824219 L 455.253906 174.800781 \"/>\n",
       "<path style=\"fill:none;stroke-width:0.5;stroke-linecap:butt;stroke-linejoin:miter;stroke:rgb(74.509804%,74.509804%,74.509804%);stroke-opacity:1;stroke-miterlimit:10;\" d=\"M 544.511719 92.824219 L 449.457031 212.871094 \"/>\n",
       "<path style=\"fill:none;stroke-width:0.5;stroke-linecap:butt;stroke-linejoin:miter;stroke:rgb(74.509804%,74.509804%,74.509804%);stroke-opacity:1;stroke-miterlimit:10;\" d=\"M 427.582031 20 L 455.253906 174.800781 \"/>\n",
       "<path style=\"fill:none;stroke-width:0.5;stroke-linecap:butt;stroke-linejoin:miter;stroke:rgb(74.509804%,74.509804%,74.509804%);stroke-opacity:1;stroke-miterlimit:10;\" d=\"M 427.582031 20 L 449.457031 212.871094 \"/>\n",
       "<path style=\"fill:none;stroke-width:0.5;stroke-linecap:butt;stroke-linejoin:miter;stroke:rgb(74.509804%,74.509804%,74.509804%);stroke-opacity:1;stroke-miterlimit:10;\" d=\"M 282.757812 220.152344 L 449.457031 212.871094 \"/>\n",
       "<path style=\"fill:none;stroke-width:0.5;stroke-linecap:butt;stroke-linejoin:miter;stroke:rgb(74.509804%,74.509804%,74.509804%);stroke-opacity:1;stroke-miterlimit:10;\" d=\"M 383.960938 52.757812 L 455.253906 174.800781 \"/>\n",
       "<path style=\"fill:none;stroke-width:0.5;stroke-linecap:butt;stroke-linejoin:miter;stroke:rgb(74.509804%,74.509804%,74.509804%);stroke-opacity:1;stroke-miterlimit:10;\" d=\"M 383.960938 52.757812 L 449.457031 212.871094 \"/>\n",
       "<path style=\"fill:none;stroke-width:0.5;stroke-linecap:butt;stroke-linejoin:miter;stroke:rgb(74.509804%,74.509804%,74.509804%);stroke-opacity:1;stroke-miterlimit:10;\" d=\"M 580 195.355469 L 455.253906 174.800781 \"/>\n",
       "<path style=\"fill:none;stroke-width:0.5;stroke-linecap:butt;stroke-linejoin:miter;stroke:rgb(74.509804%,74.509804%,74.509804%);stroke-opacity:1;stroke-miterlimit:10;\" d=\"M 580 195.355469 L 449.457031 212.871094 \"/>\n",
       "<path style=\"fill:none;stroke-width:2;stroke-linecap:butt;stroke-linejoin:miter;stroke:rgb(100%,0%,0%);stroke-opacity:1;stroke-miterlimit:10;\" d=\"M 553.273438 284.808594 L 574.003906 439.148438 \"/>\n",
       "<path style=\"fill:none;stroke-width:2;stroke-linecap:butt;stroke-linejoin:miter;stroke:rgb(100%,0%,0%);stroke-opacity:1;stroke-miterlimit:10;\" d=\"M 553.273438 284.808594 L 509.847656 386.65625 \"/>\n",
       "<path style=\"fill:none;stroke-width:0.5;stroke-linecap:butt;stroke-linejoin:miter;stroke:rgb(74.509804%,74.509804%,74.509804%);stroke-opacity:1;stroke-miterlimit:10;\" d=\"M 553.273438 284.808594 L 455.253906 174.800781 \"/>\n",
       "<path style=\"fill:none;stroke-width:0.5;stroke-linecap:butt;stroke-linejoin:miter;stroke:rgb(74.509804%,74.509804%,74.509804%);stroke-opacity:1;stroke-miterlimit:10;\" d=\"M 553.273438 284.808594 L 449.457031 212.871094 \"/>\n",
       "<path style=\"fill:none;stroke-width:0.5;stroke-linecap:butt;stroke-linejoin:miter;stroke:rgb(74.509804%,74.509804%,74.509804%);stroke-opacity:1;stroke-miterlimit:10;\" d=\"M 553.273438 284.808594 L 544.550781 154.023438 \"/>\n",
       "<path style=\"fill:none;stroke-width:2;stroke-linecap:butt;stroke-linejoin:miter;stroke:rgb(100%,0%,0%);stroke-opacity:1;stroke-miterlimit:10;\" d=\"M 531.066406 516.8125 L 574.003906 439.148438 \"/>\n",
       "<path style=\"fill:none;stroke-width:2;stroke-linecap:butt;stroke-linejoin:miter;stroke:rgb(100%,0%,0%);stroke-opacity:1;stroke-miterlimit:10;\" d=\"M 531.066406 516.8125 L 509.847656 386.65625 \"/>\n",
       "<path style=\"fill:none;stroke-width:0.5;stroke-linecap:butt;stroke-linejoin:miter;stroke:rgb(74.509804%,74.509804%,74.509804%);stroke-opacity:1;stroke-miterlimit:10;\" d=\"M 531.066406 516.8125 L 434.171875 373.011719 \"/>\n",
       "<path style=\"fill:none;stroke-width:0.5;stroke-linecap:butt;stroke-linejoin:miter;stroke:rgb(74.509804%,74.509804%,74.509804%);stroke-opacity:1;stroke-miterlimit:10;\" d=\"M 574.003906 439.148438 L 434.171875 373.011719 \"/>\n",
       "<path style=\"fill:none;stroke-width:0.5;stroke-linecap:butt;stroke-linejoin:miter;stroke:rgb(74.509804%,74.509804%,74.509804%);stroke-opacity:1;stroke-miterlimit:10;\" d=\"M 544.292969 30.21875 L 544.550781 154.023438 \"/>\n",
       "<path style=\"fill:none;stroke-width:0.5;stroke-linecap:butt;stroke-linejoin:miter;stroke:rgb(74.509804%,74.509804%,74.509804%);stroke-opacity:1;stroke-miterlimit:10;\" d=\"M 544.292969 30.21875 L 449.457031 212.871094 \"/>\n",
       "<path style=\"fill:none;stroke-width:0.5;stroke-linecap:butt;stroke-linejoin:miter;stroke:rgb(74.509804%,74.509804%,74.509804%);stroke-opacity:1;stroke-miterlimit:10;\" d=\"M 509.847656 386.65625 L 449.457031 212.871094 \"/>\n",
       "<path style=\"fill:none;stroke-width:0.5;stroke-linecap:butt;stroke-linejoin:miter;stroke:rgb(74.509804%,74.509804%,74.509804%);stroke-opacity:1;stroke-miterlimit:10;\" d=\"M 469.820312 324.519531 L 434.171875 373.011719 \"/>\n",
       "<path style=\"fill:none;stroke-width:0.5;stroke-linecap:butt;stroke-linejoin:miter;stroke:rgb(74.509804%,74.509804%,74.509804%);stroke-opacity:1;stroke-miterlimit:10;\" d=\"M 469.820312 324.519531 L 449.457031 212.871094 \"/>\n",
       "<path style=\"fill:none;stroke-width:0.5;stroke-linecap:butt;stroke-linejoin:miter;stroke:rgb(74.509804%,74.509804%,74.509804%);stroke-opacity:1;stroke-miterlimit:10;\" d=\"M 544.550781 154.023438 L 455.253906 174.800781 \"/>\n",
       "<path style=\"fill:none;stroke-width:0.5;stroke-linecap:butt;stroke-linejoin:miter;stroke:rgb(74.509804%,74.509804%,74.509804%);stroke-opacity:1;stroke-miterlimit:10;\" d=\"M 544.550781 154.023438 L 449.457031 212.871094 \"/>\n",
       "<path style=\"fill:none;stroke-width:0.5;stroke-linecap:butt;stroke-linejoin:miter;stroke:rgb(74.509804%,74.509804%,74.509804%);stroke-opacity:1;stroke-miterlimit:10;\" d=\"M 346.40625 169.027344 L 455.253906 174.800781 \"/>\n",
       "<path style=\"fill:none;stroke-width:0.5;stroke-linecap:butt;stroke-linejoin:miter;stroke:rgb(74.509804%,74.509804%,74.509804%);stroke-opacity:1;stroke-miterlimit:10;\" d=\"M 346.40625 169.027344 L 449.457031 212.871094 \"/>\n",
       "<path style=\"fill:none;stroke-width:0.5;stroke-linecap:butt;stroke-linejoin:miter;stroke:rgb(74.509804%,74.509804%,74.509804%);stroke-opacity:1;stroke-miterlimit:10;\" d=\"M 434.171875 373.011719 L 455.253906 174.800781 \"/>\n",
       "<path style=\"fill:none;stroke-width:0.5;stroke-linecap:butt;stroke-linejoin:miter;stroke:rgb(74.509804%,74.509804%,74.509804%);stroke-opacity:1;stroke-miterlimit:10;\" d=\"M 434.171875 373.011719 L 449.457031 212.871094 \"/>\n",
       "<path style=\"fill:none;stroke-width:0.5;stroke-linecap:butt;stroke-linejoin:miter;stroke:rgb(74.509804%,74.509804%,74.509804%);stroke-opacity:1;stroke-miterlimit:10;\" d=\"M 455.253906 174.800781 L 449.457031 212.871094 \"/>\n",
       "<path style=\"fill-rule:nonzero;fill:rgb(100%,0%,0%);fill-opacity:1;stroke-width:1;stroke-linecap:butt;stroke-linejoin:miter;stroke:rgb(0%,0%,0%);stroke-opacity:1;stroke-miterlimit:10;\" d=\"M 224.335938 374.695312 C 224.335938 379.027344 217.835938 379.027344 217.835938 374.695312 C 217.835938 370.359375 224.335938 370.359375 224.335938 374.695312 \"/>\n",
       "<path style=\"fill-rule:nonzero;fill:rgb(100%,0%,0%);fill-opacity:1;stroke-width:1;stroke-linecap:butt;stroke-linejoin:miter;stroke:rgb(0%,0%,0%);stroke-opacity:1;stroke-miterlimit:10;\" d=\"M 265.035156 332.039062 C 265.035156 337.597656 256.699219 337.597656 256.699219 332.039062 C 256.699219 326.484375 265.035156 326.484375 265.035156 332.039062 \"/>\n",
       "<path style=\"fill-rule:nonzero;fill:rgb(100%,0%,0%);fill-opacity:1;stroke-width:1;stroke-linecap:butt;stroke-linejoin:miter;stroke:rgb(0%,0%,0%);stroke-opacity:1;stroke-miterlimit:10;\" d=\"M 371.742188 370.164062 C 371.742188 375.128906 364.300781 375.128906 364.300781 370.164062 C 364.300781 365.203125 371.742188 365.203125 371.742188 370.164062 \"/>\n",
       "<path style=\"fill-rule:nonzero;fill:rgb(100%,0%,0%);fill-opacity:1;stroke-width:1;stroke-linecap:butt;stroke-linejoin:miter;stroke:rgb(0%,0%,0%);stroke-opacity:1;stroke-miterlimit:10;\" d=\"M 303.488281 476.515625 C 303.488281 479.734375 300.878906 482.347656 297.65625 482.347656 C 294.433594 482.347656 291.824219 479.734375 291.824219 476.515625 C 291.824219 473.292969 294.433594 470.679688 297.65625 470.679688 C 300.878906 470.679688 303.488281 473.292969 303.488281 476.515625 \"/>\n",
       "<path style=\"fill-rule:nonzero;fill:rgb(100%,0%,0%);fill-opacity:1;stroke-width:1;stroke-linecap:butt;stroke-linejoin:miter;stroke:rgb(0%,0%,0%);stroke-opacity:1;stroke-miterlimit:10;\" d=\"M 81.710938 415.714844 C 81.710938 418.9375 79.097656 421.550781 75.875 421.550781 C 72.65625 421.550781 70.042969 418.9375 70.042969 415.714844 C 70.042969 412.496094 72.65625 409.882812 75.875 409.882812 C 79.097656 409.882812 81.710938 412.496094 81.710938 415.714844 \"/>\n",
       "<path style=\"fill-rule:nonzero;fill:rgb(100%,0%,0%);fill-opacity:1;stroke-width:1;stroke-linecap:butt;stroke-linejoin:miter;stroke:rgb(0%,0%,0%);stroke-opacity:1;stroke-miterlimit:10;\" d=\"M 99.472656 241.8125 C 99.472656 248.476562 89.472656 248.476562 89.472656 241.8125 C 89.472656 235.144531 99.472656 235.144531 99.472656 241.8125 \"/>\n",
       "<path style=\"fill-rule:nonzero;fill:rgb(100%,0%,0%);fill-opacity:1;stroke-width:1;stroke-linecap:butt;stroke-linejoin:miter;stroke:rgb(0%,0%,0%);stroke-opacity:1;stroke-miterlimit:10;\" d=\"M 67.777344 297.972656 C 67.777344 304.640625 57.777344 304.640625 57.777344 297.972656 C 57.777344 291.304688 67.777344 291.304688 67.777344 297.972656 \"/>\n",
       "<path style=\"fill-rule:nonzero;fill:rgb(100%,0%,0%);fill-opacity:1;stroke-width:1;stroke-linecap:butt;stroke-linejoin:miter;stroke:rgb(0%,0%,0%);stroke-opacity:1;stroke-miterlimit:10;\" d=\"M 269.582031 458.457031 C 269.582031 462.601562 266.222656 465.957031 262.082031 465.957031 C 257.9375 465.957031 254.582031 462.601562 254.582031 458.457031 C 254.582031 454.316406 257.9375 450.957031 262.082031 450.957031 C 266.222656 450.957031 269.582031 454.316406 269.582031 458.457031 \"/>\n",
       "<path style=\"fill-rule:nonzero;fill:rgb(100%,0%,0%);fill-opacity:1;stroke-width:1;stroke-linecap:butt;stroke-linejoin:miter;stroke:rgb(0%,0%,0%);stroke-opacity:1;stroke-miterlimit:10;\" d=\"M 355.632812 251.960938 C 355.632812 258.628906 345.632812 258.628906 345.632812 251.960938 C 345.632812 245.296875 355.632812 245.296875 355.632812 251.960938 \"/>\n",
       "<path style=\"fill-rule:nonzero;fill:rgb(100%,0%,0%);fill-opacity:1;stroke-width:1;stroke-linecap:butt;stroke-linejoin:miter;stroke:rgb(0%,0%,0%);stroke-opacity:1;stroke-miterlimit:10;\" d=\"M 451.886719 441.878906 C 451.886719 445.210938 446.886719 445.210938 446.886719 441.878906 C 446.886719 438.546875 451.886719 438.546875 451.886719 441.878906 \"/>\n",
       "<path style=\"fill-rule:nonzero;fill:rgb(100%,0%,0%);fill-opacity:1;stroke-width:1;stroke-linecap:butt;stroke-linejoin:miter;stroke:rgb(0%,0%,0%);stroke-opacity:1;stroke-miterlimit:10;\" d=\"M 105.800781 350.988281 C 105.800781 354.210938 103.1875 356.820312 99.964844 356.820312 C 96.746094 356.820312 94.132812 354.210938 94.132812 350.988281 C 94.132812 347.765625 96.746094 345.15625 99.964844 345.15625 C 103.1875 345.15625 105.800781 347.765625 105.800781 350.988281 \"/>\n",
       "<path style=\"fill-rule:nonzero;fill:rgb(100%,0%,0%);fill-opacity:1;stroke-width:1;stroke-linecap:butt;stroke-linejoin:miter;stroke:rgb(0%,0%,0%);stroke-opacity:1;stroke-miterlimit:10;\" d=\"M 147.925781 564.195312 C 147.925781 567.527344 142.925781 567.527344 142.925781 564.195312 C 142.925781 560.863281 147.925781 560.863281 147.925781 564.195312 \"/>\n",
       "<path style=\"fill-rule:nonzero;fill:rgb(100%,0%,0%);fill-opacity:1;stroke-width:1;stroke-linecap:butt;stroke-linejoin:miter;stroke:rgb(0%,0%,0%);stroke-opacity:1;stroke-miterlimit:10;\" d=\"M 251.195312 580 C 251.195312 584.140625 247.835938 587.5 243.695312 587.5 C 239.550781 587.5 236.195312 584.140625 236.195312 580 C 236.195312 575.859375 239.550781 572.5 243.695312 572.5 C 247.835938 572.5 251.195312 575.859375 251.195312 580 \"/>\n",
       "<path style=\"fill-rule:nonzero;fill:rgb(100%,0%,0%);fill-opacity:1;stroke-width:1;stroke-linecap:butt;stroke-linejoin:miter;stroke:rgb(0%,0%,0%);stroke-opacity:1;stroke-miterlimit:10;\" d=\"M 328.359375 352.128906 C 328.359375 355.164062 325.898438 357.628906 322.859375 357.628906 C 319.824219 357.628906 317.359375 355.164062 317.359375 352.128906 C 317.359375 349.089844 319.824219 346.628906 322.859375 346.628906 C 325.898438 346.628906 328.359375 349.089844 328.359375 352.128906 \"/>\n",
       "<path style=\"fill-rule:nonzero;fill:rgb(100%,0%,0%);fill-opacity:1;stroke-width:1;stroke-linecap:butt;stroke-linejoin:miter;stroke:rgb(0%,0%,0%);stroke-opacity:1;stroke-miterlimit:10;\" d=\"M 481.671875 40.453125 C 481.671875 44.597656 478.3125 47.953125 474.171875 47.953125 C 470.027344 47.953125 466.671875 44.597656 466.671875 40.453125 C 466.671875 36.3125 470.027344 32.953125 474.171875 32.953125 C 478.3125 32.953125 481.671875 36.3125 481.671875 40.453125 \"/>\n",
       "<path style=\"fill-rule:nonzero;fill:rgb(100%,0%,0%);fill-opacity:1;stroke-width:1;stroke-linecap:butt;stroke-linejoin:miter;stroke:rgb(0%,0%,0%);stroke-opacity:1;stroke-miterlimit:10;\" d=\"M 552.011719 92.824219 C 552.011719 96.964844 548.652344 100.324219 544.511719 100.324219 C 540.367188 100.324219 537.011719 96.964844 537.011719 92.824219 C 537.011719 88.679688 540.367188 85.324219 544.511719 85.324219 C 548.652344 85.324219 552.011719 88.679688 552.011719 92.824219 \"/>\n",
       "<path style=\"fill-rule:nonzero;fill:rgb(100%,0%,0%);fill-opacity:1;stroke-width:1;stroke-linecap:butt;stroke-linejoin:miter;stroke:rgb(0%,0%,0%);stroke-opacity:1;stroke-miterlimit:10;\" d=\"M 27.5 170.296875 C 27.5 174.441406 24.140625 177.796875 20 177.796875 C 15.859375 177.796875 12.5 174.441406 12.5 170.296875 C 12.5 166.15625 15.859375 162.796875 20 162.796875 C 24.140625 162.796875 27.5 166.15625 27.5 170.296875 \"/>\n",
       "<path style=\"fill-rule:nonzero;fill:rgb(100%,0%,0%);fill-opacity:1;stroke-width:1;stroke-linecap:butt;stroke-linejoin:miter;stroke:rgb(0%,0%,0%);stroke-opacity:1;stroke-miterlimit:10;\" d=\"M 186.40625 234.371094 C 186.40625 238.515625 183.046875 241.871094 178.90625 241.871094 C 174.765625 241.871094 171.40625 238.515625 171.40625 234.371094 C 171.40625 230.230469 174.765625 226.871094 178.90625 226.871094 C 183.046875 226.871094 186.40625 230.230469 186.40625 234.371094 \"/>\n",
       "<path style=\"fill-rule:nonzero;fill:rgb(100%,0%,0%);fill-opacity:1;stroke-width:1;stroke-linecap:butt;stroke-linejoin:miter;stroke:rgb(0%,0%,0%);stroke-opacity:1;stroke-miterlimit:10;\" d=\"M 435.082031 20 C 435.082031 24.140625 431.722656 27.5 427.582031 27.5 C 423.441406 27.5 420.082031 24.140625 420.082031 20 C 420.082031 15.859375 423.441406 12.5 427.582031 12.5 C 431.722656 12.5 435.082031 15.859375 435.082031 20 \"/>\n",
       "<path style=\"fill-rule:nonzero;fill:rgb(100%,0%,0%);fill-opacity:1;stroke-width:1;stroke-linecap:butt;stroke-linejoin:miter;stroke:rgb(0%,0%,0%);stroke-opacity:1;stroke-miterlimit:10;\" d=\"M 286.925781 220.152344 C 286.925781 225.707031 278.59375 225.707031 278.59375 220.152344 C 278.59375 214.597656 286.925781 214.597656 286.925781 220.152344 \"/>\n",
       "<path style=\"fill-rule:nonzero;fill:rgb(100%,0%,0%);fill-opacity:1;stroke-width:1;stroke-linecap:butt;stroke-linejoin:miter;stroke:rgb(0%,0%,0%);stroke-opacity:1;stroke-miterlimit:10;\" d=\"M 391.460938 52.757812 C 391.460938 56.898438 388.101562 60.257812 383.960938 60.257812 C 379.816406 60.257812 376.460938 56.898438 376.460938 52.757812 C 376.460938 48.617188 379.816406 45.257812 383.960938 45.257812 C 388.101562 45.257812 391.460938 48.617188 391.460938 52.757812 \"/>\n",
       "<path style=\"fill-rule:nonzero;fill:rgb(100%,0%,0%);fill-opacity:1;stroke-width:1;stroke-linecap:butt;stroke-linejoin:miter;stroke:rgb(0%,0%,0%);stroke-opacity:1;stroke-miterlimit:10;\" d=\"M 176.578125 452.429688 C 176.578125 456.570312 173.21875 459.929688 169.078125 459.929688 C 164.9375 459.929688 161.578125 456.570312 161.578125 452.429688 C 161.578125 448.289062 164.9375 444.929688 169.078125 444.929688 C 173.21875 444.929688 176.578125 448.289062 176.578125 452.429688 \"/>\n",
       "<path style=\"fill-rule:nonzero;fill:rgb(100%,0%,0%);fill-opacity:1;stroke-width:1;stroke-linecap:butt;stroke-linejoin:miter;stroke:rgb(0%,0%,0%);stroke-opacity:1;stroke-miterlimit:10;\" d=\"M 587.5 195.355469 C 587.5 199.496094 584.140625 202.855469 580 202.855469 C 575.859375 202.855469 572.5 199.496094 572.5 195.355469 C 572.5 191.210938 575.859375 187.855469 580 187.855469 C 584.140625 187.855469 587.5 191.210938 587.5 195.355469 \"/>\n",
       "<path style=\"fill-rule:nonzero;fill:rgb(100%,0%,0%);fill-opacity:1;stroke-width:1;stroke-linecap:butt;stroke-linejoin:miter;stroke:rgb(0%,0%,0%);stroke-opacity:1;stroke-miterlimit:10;\" d=\"M 557.773438 284.808594 C 557.773438 290.808594 548.773438 290.808594 548.773438 284.808594 C 548.773438 278.808594 557.773438 278.808594 557.773438 284.808594 \"/>\n",
       "<path style=\"fill-rule:nonzero;fill:rgb(100%,0%,0%);fill-opacity:1;stroke-width:1;stroke-linecap:butt;stroke-linejoin:miter;stroke:rgb(0%,0%,0%);stroke-opacity:1;stroke-miterlimit:10;\" d=\"M 535.234375 516.8125 C 535.234375 522.367188 526.902344 522.367188 526.902344 516.8125 C 526.902344 511.257812 535.234375 511.257812 535.234375 516.8125 \"/>\n",
       "<path style=\"fill-rule:nonzero;fill:rgb(100%,0%,0%);fill-opacity:1;stroke-width:1;stroke-linecap:butt;stroke-linejoin:miter;stroke:rgb(0%,0%,0%);stroke-opacity:1;stroke-miterlimit:10;\" d=\"M 578.171875 439.148438 C 578.171875 444.703125 569.835938 444.703125 569.835938 439.148438 C 569.835938 433.589844 578.171875 433.589844 578.171875 439.148438 \"/>\n",
       "<path style=\"fill-rule:nonzero;fill:rgb(100%,0%,0%);fill-opacity:1;stroke-width:1;stroke-linecap:butt;stroke-linejoin:miter;stroke:rgb(0%,0%,0%);stroke-opacity:1;stroke-miterlimit:10;\" d=\"M 551.792969 30.21875 C 551.792969 34.359375 548.433594 37.71875 544.292969 37.71875 C 540.148438 37.71875 536.792969 34.359375 536.792969 30.21875 C 536.792969 26.074219 540.148438 22.71875 544.292969 22.71875 C 548.433594 22.71875 551.792969 26.074219 551.792969 30.21875 \"/>\n",
       "<path style=\"fill-rule:nonzero;fill:rgb(100%,0%,0%);fill-opacity:1;stroke-width:1;stroke-linecap:butt;stroke-linejoin:miter;stroke:rgb(0%,0%,0%);stroke-opacity:1;stroke-miterlimit:10;\" d=\"M 513.183594 386.65625 C 513.183594 391.101562 506.515625 391.101562 506.515625 386.65625 C 506.515625 382.210938 513.183594 382.210938 513.183594 386.65625 \"/>\n",
       "<path style=\"fill-rule:nonzero;fill:rgb(100%,0%,0%);fill-opacity:1;stroke-width:1;stroke-linecap:butt;stroke-linejoin:miter;stroke:rgb(0%,0%,0%);stroke-opacity:1;stroke-miterlimit:10;\" d=\"M 473.988281 324.519531 C 473.988281 330.078125 465.652344 330.078125 465.652344 324.519531 C 465.652344 318.964844 473.988281 318.964844 473.988281 324.519531 \"/>\n",
       "<path style=\"fill-rule:nonzero;fill:rgb(100%,0%,0%);fill-opacity:1;stroke-width:1;stroke-linecap:butt;stroke-linejoin:miter;stroke:rgb(0%,0%,0%);stroke-opacity:1;stroke-miterlimit:10;\" d=\"M 550.382812 154.023438 C 550.382812 157.246094 547.769531 159.859375 544.550781 159.859375 C 541.328125 159.859375 538.714844 157.246094 538.714844 154.023438 C 538.714844 150.804688 541.328125 148.191406 544.550781 148.191406 C 547.769531 148.191406 550.382812 150.804688 550.382812 154.023438 \"/>\n",
       "<path style=\"fill-rule:nonzero;fill:rgb(100%,0%,0%);fill-opacity:1;stroke-width:1;stroke-linecap:butt;stroke-linejoin:miter;stroke:rgb(0%,0%,0%);stroke-opacity:1;stroke-miterlimit:10;\" d=\"M 351.40625 169.027344 C 351.40625 175.695312 341.40625 175.695312 341.40625 169.027344 C 341.40625 162.359375 351.40625 162.359375 351.40625 169.027344 \"/>\n",
       "<path style=\"fill-rule:nonzero;fill:rgb(100%,0%,0%);fill-opacity:1;stroke-width:1;stroke-linecap:butt;stroke-linejoin:miter;stroke:rgb(0%,0%,0%);stroke-opacity:1;stroke-miterlimit:10;\" d=\"M 437.671875 373.011719 C 437.671875 377.675781 430.671875 377.675781 430.671875 373.011719 C 430.671875 368.34375 437.671875 368.34375 437.671875 373.011719 \"/>\n",
       "<path style=\"fill-rule:nonzero;fill:rgb(100%,0%,0%);fill-opacity:1;stroke-width:1;stroke-linecap:butt;stroke-linejoin:miter;stroke:rgb(0%,0%,0%);stroke-opacity:1;stroke-miterlimit:10;\" d=\"M 458.738281 174.800781 C 458.738281 179.445312 451.769531 179.445312 451.769531 174.800781 C 451.769531 170.152344 458.738281 170.152344 458.738281 174.800781 \"/>\n",
       "<path style=\"fill-rule:nonzero;fill:rgb(100%,0%,0%);fill-opacity:1;stroke-width:1;stroke-linecap:butt;stroke-linejoin:miter;stroke:rgb(0%,0%,0%);stroke-opacity:1;stroke-miterlimit:10;\" d=\"M 452.507812 212.871094 C 452.507812 216.9375 446.40625 216.9375 446.40625 212.871094 C 446.40625 208.800781 452.507812 208.800781 452.507812 212.871094 \"/>\n",
       "</g>\n",
       "</svg>\n"
      ],
      "text/plain": [
       "<igraph.drawing.Plot at 0x1a1ea47e10>"
      ]
     },
     "execution_count": 27,
     "metadata": {},
     "output_type": "execute_result"
    }
   ],
   "source": [
    "clustering = G.transitivity_local_undirected(mode=\"zero\")\n",
    "\n",
    "ig.plot(G, vertex_size=10*(np.array(clustering)+0.5))"
   ]
  },
  {
   "cell_type": "markdown",
   "metadata": {},
   "source": [
    "As you can see, the nodes that are more clustered seem to be more peripheral. This is something that can be seen more\n",
    "often. Nodes that have many neighbors usually have fewer connections between *all* their neighbors, so that they tend to have a lower clustering coefficient.\n",
    "\n",
    "Nodes that have a higher clustering coefficient tend to be well embedded in the network. Nodes with a low clustering coefficient on the other hand tend to function as bridges, connecting different parts of the network. For example, when removing node 0 from the network, this disconnects the network."
   ]
  },
  {
   "cell_type": "code",
   "execution_count": 28,
   "metadata": {
    "ExecuteTime": {
     "end_time": "2019-06-25T21:29:02.762249Z",
     "start_time": "2019-06-25T21:29:02.747865Z"
    }
   },
   "outputs": [
    {
     "data": {
      "image/svg+xml": [
       "<?xml version=\"1.0\" encoding=\"UTF-8\"?>\n",
       "<svg xmlns=\"http://www.w3.org/2000/svg\" xmlns:xlink=\"http://www.w3.org/1999/xlink\" width=\"600pt\" height=\"600pt\" viewBox=\"0 0 600 600\" version=\"1.1\">\n",
       "<g id=\"surface56\">\n",
       "<rect x=\"0\" y=\"0\" width=\"600\" height=\"600\" style=\"fill:rgb(100%,100%,100%);fill-opacity:1;stroke:none;\"/>\n",
       "<path style=\"fill:none;stroke-width:0.5;stroke-linecap:butt;stroke-linejoin:miter;stroke:rgb(74.509804%,74.509804%,74.509804%);stroke-opacity:1;stroke-miterlimit:10;\" d=\"M 170.335938 120.699219 L 292.945312 117.347656 \"/>\n",
       "<path style=\"fill:none;stroke-width:0.5;stroke-linecap:butt;stroke-linejoin:miter;stroke:rgb(74.509804%,74.509804%,74.509804%);stroke-opacity:1;stroke-miterlimit:10;\" d=\"M 170.335938 120.699219 L 145.386719 82.128906 \"/>\n",
       "<path style=\"fill:none;stroke-width:0.5;stroke-linecap:butt;stroke-linejoin:miter;stroke:rgb(74.509804%,74.509804%,74.509804%);stroke-opacity:1;stroke-miterlimit:10;\" d=\"M 170.335938 120.699219 L 194.492188 29.113281 \"/>\n",
       "<path style=\"fill:none;stroke-width:0.5;stroke-linecap:butt;stroke-linejoin:miter;stroke:rgb(74.509804%,74.509804%,74.509804%);stroke-opacity:1;stroke-miterlimit:10;\" d=\"M 170.335938 120.699219 L 231.355469 155.308594 \"/>\n",
       "<path style=\"fill:none;stroke-width:0.5;stroke-linecap:butt;stroke-linejoin:miter;stroke:rgb(74.509804%,74.509804%,74.509804%);stroke-opacity:1;stroke-miterlimit:10;\" d=\"M 170.335938 120.699219 L 82.246094 20 \"/>\n",
       "<path style=\"fill:none;stroke-width:0.5;stroke-linecap:butt;stroke-linejoin:miter;stroke:rgb(74.509804%,74.509804%,74.509804%);stroke-opacity:1;stroke-miterlimit:10;\" d=\"M 170.335938 120.699219 L 273.992188 81.660156 \"/>\n",
       "<path style=\"fill:none;stroke-width:0.5;stroke-linecap:butt;stroke-linejoin:miter;stroke:rgb(74.509804%,74.509804%,74.509804%);stroke-opacity:1;stroke-miterlimit:10;\" d=\"M 170.335938 120.699219 L 49.714844 178.410156 \"/>\n",
       "<path style=\"fill:none;stroke-width:0.5;stroke-linecap:butt;stroke-linejoin:miter;stroke:rgb(74.509804%,74.509804%,74.509804%);stroke-opacity:1;stroke-miterlimit:10;\" d=\"M 170.335938 120.699219 L 268.535156 223.550781 \"/>\n",
       "<path style=\"fill:none;stroke-width:0.5;stroke-linecap:butt;stroke-linejoin:miter;stroke:rgb(74.509804%,74.509804%,74.509804%);stroke-opacity:1;stroke-miterlimit:10;\" d=\"M 292.945312 117.347656 L 145.386719 82.128906 \"/>\n",
       "<path style=\"fill:none;stroke-width:0.5;stroke-linecap:butt;stroke-linejoin:miter;stroke:rgb(74.509804%,74.509804%,74.509804%);stroke-opacity:1;stroke-miterlimit:10;\" d=\"M 292.945312 117.347656 L 194.492188 29.113281 \"/>\n",
       "<path style=\"fill:none;stroke-width:0.5;stroke-linecap:butt;stroke-linejoin:miter;stroke:rgb(74.509804%,74.509804%,74.509804%);stroke-opacity:1;stroke-miterlimit:10;\" d=\"M 292.945312 117.347656 L 438.957031 85.652344 \"/>\n",
       "<path style=\"fill:none;stroke-width:0.5;stroke-linecap:butt;stroke-linejoin:miter;stroke:rgb(74.509804%,74.509804%,74.509804%);stroke-opacity:1;stroke-miterlimit:10;\" d=\"M 292.945312 117.347656 L 391.308594 111.003906 \"/>\n",
       "<path style=\"fill:none;stroke-width:0.5;stroke-linecap:butt;stroke-linejoin:miter;stroke:rgb(74.509804%,74.509804%,74.509804%);stroke-opacity:1;stroke-miterlimit:10;\" d=\"M 292.945312 117.347656 L 400.875 246.355469 \"/>\n",
       "<path style=\"fill:none;stroke-width:0.5;stroke-linecap:butt;stroke-linejoin:miter;stroke:rgb(74.509804%,74.509804%,74.509804%);stroke-opacity:1;stroke-miterlimit:10;\" d=\"M 292.945312 117.347656 L 357.578125 54.539062 \"/>\n",
       "<path style=\"fill:none;stroke-width:0.5;stroke-linecap:butt;stroke-linejoin:miter;stroke:rgb(74.509804%,74.509804%,74.509804%);stroke-opacity:1;stroke-miterlimit:10;\" d=\"M 292.945312 117.347656 L 320.316406 208.726562 \"/>\n",
       "<path style=\"fill:none;stroke-width:0.5;stroke-linecap:butt;stroke-linejoin:miter;stroke:rgb(74.509804%,74.509804%,74.509804%);stroke-opacity:1;stroke-miterlimit:10;\" d=\"M 292.945312 117.347656 L 231.355469 155.308594 \"/>\n",
       "<path style=\"fill:none;stroke-width:0.5;stroke-linecap:butt;stroke-linejoin:miter;stroke:rgb(74.509804%,74.509804%,74.509804%);stroke-opacity:1;stroke-miterlimit:10;\" d=\"M 145.386719 82.128906 L 194.492188 29.113281 \"/>\n",
       "<path style=\"fill:none;stroke-width:0.5;stroke-linecap:butt;stroke-linejoin:miter;stroke:rgb(74.509804%,74.509804%,74.509804%);stroke-opacity:1;stroke-miterlimit:10;\" d=\"M 145.386719 82.128906 L 20 76.464844 \"/>\n",
       "<path style=\"fill:none;stroke-width:0.5;stroke-linecap:butt;stroke-linejoin:miter;stroke:rgb(74.509804%,74.509804%,74.509804%);stroke-opacity:1;stroke-miterlimit:10;\" d=\"M 145.386719 82.128906 L 231.355469 155.308594 \"/>\n",
       "<path style=\"fill:none;stroke-width:0.5;stroke-linecap:butt;stroke-linejoin:miter;stroke:rgb(74.509804%,74.509804%,74.509804%);stroke-opacity:1;stroke-miterlimit:10;\" d=\"M 32.203125 477.457031 L 105.234375 528.027344 \"/>\n",
       "<path style=\"fill:none;stroke-width:0.5;stroke-linecap:butt;stroke-linejoin:miter;stroke:rgb(74.509804%,74.509804%,74.509804%);stroke-opacity:1;stroke-miterlimit:10;\" d=\"M 32.203125 477.457031 L 50.671875 414.75 \"/>\n",
       "<path style=\"fill:none;stroke-width:0.5;stroke-linecap:butt;stroke-linejoin:miter;stroke:rgb(74.509804%,74.509804%,74.509804%);stroke-opacity:1;stroke-miterlimit:10;\" d=\"M 127.398438 470.476562 L 105.234375 528.027344 \"/>\n",
       "<path style=\"fill:none;stroke-width:0.5;stroke-linecap:butt;stroke-linejoin:miter;stroke:rgb(74.509804%,74.509804%,74.509804%);stroke-opacity:1;stroke-miterlimit:10;\" d=\"M 127.398438 470.476562 L 50.671875 414.75 \"/>\n",
       "<path style=\"fill:none;stroke-width:0.5;stroke-linecap:butt;stroke-linejoin:miter;stroke:rgb(74.509804%,74.509804%,74.509804%);stroke-opacity:1;stroke-miterlimit:10;\" d=\"M 127.398438 470.476562 L 181.226562 537.136719 \"/>\n",
       "<path style=\"fill:none;stroke-width:0.5;stroke-linecap:butt;stroke-linejoin:miter;stroke:rgb(74.509804%,74.509804%,74.509804%);stroke-opacity:1;stroke-miterlimit:10;\" d=\"M 105.234375 528.027344 L 181.226562 537.136719 \"/>\n",
       "<path style=\"fill:none;stroke-width:0.5;stroke-linecap:butt;stroke-linejoin:miter;stroke:rgb(74.509804%,74.509804%,74.509804%);stroke-opacity:1;stroke-miterlimit:10;\" d=\"M 320.316406 208.726562 L 268.535156 223.550781 \"/>\n",
       "<path style=\"fill:none;stroke-width:0.5;stroke-linecap:butt;stroke-linejoin:miter;stroke:rgb(74.509804%,74.509804%,74.509804%);stroke-opacity:1;stroke-miterlimit:10;\" d=\"M 320.316406 208.726562 L 400.875 246.355469 \"/>\n",
       "<path style=\"fill:none;stroke-width:0.5;stroke-linecap:butt;stroke-linejoin:miter;stroke:rgb(74.509804%,74.509804%,74.509804%);stroke-opacity:1;stroke-miterlimit:10;\" d=\"M 320.316406 208.726562 L 396.601562 207.707031 \"/>\n",
       "<path style=\"fill:none;stroke-width:0.5;stroke-linecap:butt;stroke-linejoin:miter;stroke:rgb(74.509804%,74.509804%,74.509804%);stroke-opacity:1;stroke-miterlimit:10;\" d=\"M 357.578125 54.539062 L 396.601562 207.707031 \"/>\n",
       "<path style=\"fill:none;stroke-width:0.5;stroke-linecap:butt;stroke-linejoin:miter;stroke:rgb(74.509804%,74.509804%,74.509804%);stroke-opacity:1;stroke-miterlimit:10;\" d=\"M 231.355469 155.308594 L 396.601562 207.707031 \"/>\n",
       "<path style=\"fill:none;stroke-width:0.5;stroke-linecap:butt;stroke-linejoin:miter;stroke:rgb(74.509804%,74.509804%,74.509804%);stroke-opacity:1;stroke-miterlimit:10;\" d=\"M 361 345.289062 L 400.875 246.355469 \"/>\n",
       "<path style=\"fill:none;stroke-width:0.5;stroke-linecap:butt;stroke-linejoin:miter;stroke:rgb(74.509804%,74.509804%,74.509804%);stroke-opacity:1;stroke-miterlimit:10;\" d=\"M 361 345.289062 L 396.601562 207.707031 \"/>\n",
       "<path style=\"fill:none;stroke-width:0.5;stroke-linecap:butt;stroke-linejoin:miter;stroke:rgb(74.509804%,74.509804%,74.509804%);stroke-opacity:1;stroke-miterlimit:10;\" d=\"M 484.921875 299.441406 L 400.875 246.355469 \"/>\n",
       "<path style=\"fill:none;stroke-width:0.5;stroke-linecap:butt;stroke-linejoin:miter;stroke:rgb(74.509804%,74.509804%,74.509804%);stroke-opacity:1;stroke-miterlimit:10;\" d=\"M 484.921875 299.441406 L 396.601562 207.707031 \"/>\n",
       "<path style=\"fill:none;stroke-width:0.5;stroke-linecap:butt;stroke-linejoin:miter;stroke:rgb(74.509804%,74.509804%,74.509804%);stroke-opacity:1;stroke-miterlimit:10;\" d=\"M 459.984375 343.722656 L 400.875 246.355469 \"/>\n",
       "<path style=\"fill:none;stroke-width:0.5;stroke-linecap:butt;stroke-linejoin:miter;stroke:rgb(74.509804%,74.509804%,74.509804%);stroke-opacity:1;stroke-miterlimit:10;\" d=\"M 459.984375 343.722656 L 396.601562 207.707031 \"/>\n",
       "<path style=\"fill:none;stroke-width:0.5;stroke-linecap:butt;stroke-linejoin:miter;stroke:rgb(74.509804%,74.509804%,74.509804%);stroke-opacity:1;stroke-miterlimit:10;\" d=\"M 273.992188 81.660156 L 396.601562 207.707031 \"/>\n",
       "<path style=\"fill:none;stroke-width:0.5;stroke-linecap:butt;stroke-linejoin:miter;stroke:rgb(74.509804%,74.509804%,74.509804%);stroke-opacity:1;stroke-miterlimit:10;\" d=\"M 319.628906 308.015625 L 400.875 246.355469 \"/>\n",
       "<path style=\"fill:none;stroke-width:0.5;stroke-linecap:butt;stroke-linejoin:miter;stroke:rgb(74.509804%,74.509804%,74.509804%);stroke-opacity:1;stroke-miterlimit:10;\" d=\"M 319.628906 308.015625 L 396.601562 207.707031 \"/>\n",
       "<path style=\"fill:none;stroke-width:0.5;stroke-linecap:butt;stroke-linejoin:miter;stroke:rgb(74.509804%,74.509804%,74.509804%);stroke-opacity:1;stroke-miterlimit:10;\" d=\"M 410.523438 336.828125 L 400.875 246.355469 \"/>\n",
       "<path style=\"fill:none;stroke-width:0.5;stroke-linecap:butt;stroke-linejoin:miter;stroke:rgb(74.509804%,74.509804%,74.509804%);stroke-opacity:1;stroke-miterlimit:10;\" d=\"M 410.523438 336.828125 L 396.601562 207.707031 \"/>\n",
       "<path style=\"fill:none;stroke-width:2;stroke-linecap:butt;stroke-linejoin:miter;stroke:rgb(100%,0%,0%);stroke-opacity:1;stroke-miterlimit:10;\" d=\"M 502.371094 172.039062 L 580 96.667969 \"/>\n",
       "<path style=\"fill:none;stroke-width:2;stroke-linecap:butt;stroke-linejoin:miter;stroke:rgb(100%,0%,0%);stroke-opacity:1;stroke-miterlimit:10;\" d=\"M 502.371094 172.039062 L 438.957031 85.652344 \"/>\n",
       "<path style=\"fill:none;stroke-width:0.5;stroke-linecap:butt;stroke-linejoin:miter;stroke:rgb(74.509804%,74.509804%,74.509804%);stroke-opacity:1;stroke-miterlimit:10;\" d=\"M 502.371094 172.039062 L 400.875 246.355469 \"/>\n",
       "<path style=\"fill:none;stroke-width:0.5;stroke-linecap:butt;stroke-linejoin:miter;stroke:rgb(74.509804%,74.509804%,74.509804%);stroke-opacity:1;stroke-miterlimit:10;\" d=\"M 502.371094 172.039062 L 396.601562 207.707031 \"/>\n",
       "<path style=\"fill:none;stroke-width:0.5;stroke-linecap:butt;stroke-linejoin:miter;stroke:rgb(74.509804%,74.509804%,74.509804%);stroke-opacity:1;stroke-miterlimit:10;\" d=\"M 502.371094 172.039062 L 506.257812 237.832031 \"/>\n",
       "<path style=\"fill:none;stroke-width:2;stroke-linecap:butt;stroke-linejoin:miter;stroke:rgb(100%,0%,0%);stroke-opacity:1;stroke-miterlimit:10;\" d=\"M 531.792969 34.523438 L 580 96.667969 \"/>\n",
       "<path style=\"fill:none;stroke-width:2;stroke-linecap:butt;stroke-linejoin:miter;stroke:rgb(100%,0%,0%);stroke-opacity:1;stroke-miterlimit:10;\" d=\"M 531.792969 34.523438 L 438.957031 85.652344 \"/>\n",
       "<path style=\"fill:none;stroke-width:0.5;stroke-linecap:butt;stroke-linejoin:miter;stroke:rgb(74.509804%,74.509804%,74.509804%);stroke-opacity:1;stroke-miterlimit:10;\" d=\"M 531.792969 34.523438 L 483.984375 126.804688 \"/>\n",
       "<path style=\"fill:none;stroke-width:0.5;stroke-linecap:butt;stroke-linejoin:miter;stroke:rgb(74.509804%,74.509804%,74.509804%);stroke-opacity:1;stroke-miterlimit:10;\" d=\"M 580 96.667969 L 483.984375 126.804688 \"/>\n",
       "<path style=\"fill:none;stroke-width:0.5;stroke-linecap:butt;stroke-linejoin:miter;stroke:rgb(74.509804%,74.509804%,74.509804%);stroke-opacity:1;stroke-miterlimit:10;\" d=\"M 557.453125 270.757812 L 506.257812 237.832031 \"/>\n",
       "<path style=\"fill:none;stroke-width:0.5;stroke-linecap:butt;stroke-linejoin:miter;stroke:rgb(74.509804%,74.509804%,74.509804%);stroke-opacity:1;stroke-miterlimit:10;\" d=\"M 557.453125 270.757812 L 396.601562 207.707031 \"/>\n",
       "<path style=\"fill:none;stroke-width:0.5;stroke-linecap:butt;stroke-linejoin:miter;stroke:rgb(74.509804%,74.509804%,74.509804%);stroke-opacity:1;stroke-miterlimit:10;\" d=\"M 438.957031 85.652344 L 396.601562 207.707031 \"/>\n",
       "<path style=\"fill:none;stroke-width:0.5;stroke-linecap:butt;stroke-linejoin:miter;stroke:rgb(74.509804%,74.509804%,74.509804%);stroke-opacity:1;stroke-miterlimit:10;\" d=\"M 391.308594 111.003906 L 483.984375 126.804688 \"/>\n",
       "<path style=\"fill:none;stroke-width:0.5;stroke-linecap:butt;stroke-linejoin:miter;stroke:rgb(74.509804%,74.509804%,74.509804%);stroke-opacity:1;stroke-miterlimit:10;\" d=\"M 391.308594 111.003906 L 396.601562 207.707031 \"/>\n",
       "<path style=\"fill:none;stroke-width:0.5;stroke-linecap:butt;stroke-linejoin:miter;stroke:rgb(74.509804%,74.509804%,74.509804%);stroke-opacity:1;stroke-miterlimit:10;\" d=\"M 506.257812 237.832031 L 400.875 246.355469 \"/>\n",
       "<path style=\"fill:none;stroke-width:0.5;stroke-linecap:butt;stroke-linejoin:miter;stroke:rgb(74.509804%,74.509804%,74.509804%);stroke-opacity:1;stroke-miterlimit:10;\" d=\"M 506.257812 237.832031 L 396.601562 207.707031 \"/>\n",
       "<path style=\"fill:none;stroke-width:0.5;stroke-linecap:butt;stroke-linejoin:miter;stroke:rgb(74.509804%,74.509804%,74.509804%);stroke-opacity:1;stroke-miterlimit:10;\" d=\"M 268.535156 223.550781 L 400.875 246.355469 \"/>\n",
       "<path style=\"fill:none;stroke-width:0.5;stroke-linecap:butt;stroke-linejoin:miter;stroke:rgb(74.509804%,74.509804%,74.509804%);stroke-opacity:1;stroke-miterlimit:10;\" d=\"M 268.535156 223.550781 L 396.601562 207.707031 \"/>\n",
       "<path style=\"fill:none;stroke-width:0.5;stroke-linecap:butt;stroke-linejoin:miter;stroke:rgb(74.509804%,74.509804%,74.509804%);stroke-opacity:1;stroke-miterlimit:10;\" d=\"M 483.984375 126.804688 L 400.875 246.355469 \"/>\n",
       "<path style=\"fill:none;stroke-width:0.5;stroke-linecap:butt;stroke-linejoin:miter;stroke:rgb(74.509804%,74.509804%,74.509804%);stroke-opacity:1;stroke-miterlimit:10;\" d=\"M 483.984375 126.804688 L 396.601562 207.707031 \"/>\n",
       "<path style=\"fill:none;stroke-width:0.5;stroke-linecap:butt;stroke-linejoin:miter;stroke:rgb(74.509804%,74.509804%,74.509804%);stroke-opacity:1;stroke-miterlimit:10;\" d=\"M 400.875 246.355469 L 396.601562 207.707031 \"/>\n",
       "<path style=\"fill-rule:nonzero;fill:rgb(100%,0%,0%);fill-opacity:1;stroke-width:1;stroke-linecap:butt;stroke-linejoin:miter;stroke:rgb(0%,0%,0%);stroke-opacity:1;stroke-miterlimit:10;\" d=\"M 180.335938 120.699219 C 180.335938 126.222656 175.859375 130.699219 170.335938 130.699219 C 164.8125 130.699219 160.335938 126.222656 160.335938 120.699219 C 160.335938 115.179688 164.8125 110.699219 170.335938 110.699219 C 175.859375 110.699219 180.335938 115.179688 180.335938 120.699219 \"/>\n",
       "<path style=\"fill-rule:nonzero;fill:rgb(100%,0%,0%);fill-opacity:1;stroke-width:1;stroke-linecap:butt;stroke-linejoin:miter;stroke:rgb(0%,0%,0%);stroke-opacity:1;stroke-miterlimit:10;\" d=\"M 302.945312 117.347656 C 302.945312 122.871094 298.46875 127.347656 292.945312 127.347656 C 287.421875 127.347656 282.945312 122.871094 282.945312 117.347656 C 282.945312 111.824219 287.421875 107.347656 292.945312 107.347656 C 298.46875 107.347656 302.945312 111.824219 302.945312 117.347656 \"/>\n",
       "<path style=\"fill-rule:nonzero;fill:rgb(100%,0%,0%);fill-opacity:1;stroke-width:1;stroke-linecap:butt;stroke-linejoin:miter;stroke:rgb(0%,0%,0%);stroke-opacity:1;stroke-miterlimit:10;\" d=\"M 155.386719 82.128906 C 155.386719 87.652344 150.910156 92.128906 145.386719 92.128906 C 139.863281 92.128906 135.386719 87.652344 135.386719 82.128906 C 135.386719 76.605469 139.863281 72.128906 145.386719 72.128906 C 150.910156 72.128906 155.386719 76.605469 155.386719 82.128906 \"/>\n",
       "<path style=\"fill-rule:nonzero;fill:rgb(0%,100%,0%);fill-opacity:1;stroke-width:1;stroke-linecap:butt;stroke-linejoin:miter;stroke:rgb(0%,0%,0%);stroke-opacity:1;stroke-miterlimit:10;\" d=\"M 42.203125 477.457031 C 42.203125 482.980469 37.726562 487.457031 32.203125 487.457031 C 26.679688 487.457031 22.203125 482.980469 22.203125 477.457031 C 22.203125 471.933594 26.679688 467.457031 32.203125 467.457031 C 37.726562 467.457031 42.203125 471.933594 42.203125 477.457031 \"/>\n",
       "<path style=\"fill-rule:nonzero;fill:rgb(0%,100%,0%);fill-opacity:1;stroke-width:1;stroke-linecap:butt;stroke-linejoin:miter;stroke:rgb(0%,0%,0%);stroke-opacity:1;stroke-miterlimit:10;\" d=\"M 137.398438 470.476562 C 137.398438 475.996094 132.921875 480.476562 127.398438 480.476562 C 121.875 480.476562 117.398438 475.996094 117.398438 470.476562 C 117.398438 464.953125 121.875 460.476562 127.398438 460.476562 C 132.921875 460.476562 137.398438 464.953125 137.398438 470.476562 \"/>\n",
       "<path style=\"fill-rule:nonzero;fill:rgb(0%,100%,0%);fill-opacity:1;stroke-width:1;stroke-linecap:butt;stroke-linejoin:miter;stroke:rgb(0%,0%,0%);stroke-opacity:1;stroke-miterlimit:10;\" d=\"M 115.234375 528.027344 C 115.234375 533.550781 110.757812 538.027344 105.234375 538.027344 C 99.714844 538.027344 95.234375 533.550781 95.234375 528.027344 C 95.234375 522.503906 99.714844 518.027344 105.234375 518.027344 C 110.757812 518.027344 115.234375 522.503906 115.234375 528.027344 \"/>\n",
       "<path style=\"fill-rule:nonzero;fill:rgb(100%,0%,0%);fill-opacity:1;stroke-width:1;stroke-linecap:butt;stroke-linejoin:miter;stroke:rgb(0%,0%,0%);stroke-opacity:1;stroke-miterlimit:10;\" d=\"M 204.492188 29.113281 C 204.492188 34.636719 200.015625 39.113281 194.492188 39.113281 C 188.972656 39.113281 184.492188 34.636719 184.492188 29.113281 C 184.492188 23.589844 188.972656 19.113281 194.492188 19.113281 C 200.015625 19.113281 204.492188 23.589844 204.492188 29.113281 \"/>\n",
       "<path style=\"fill-rule:nonzero;fill:rgb(100%,0%,0%);fill-opacity:1;stroke-width:1;stroke-linecap:butt;stroke-linejoin:miter;stroke:rgb(0%,0%,0%);stroke-opacity:1;stroke-miterlimit:10;\" d=\"M 330.316406 208.726562 C 330.316406 214.25 325.839844 218.726562 320.316406 218.726562 C 314.796875 218.726562 310.316406 214.25 310.316406 208.726562 C 310.316406 203.203125 314.796875 198.726562 320.316406 198.726562 C 325.839844 198.726562 330.316406 203.203125 330.316406 208.726562 \"/>\n",
       "<path style=\"fill-rule:nonzero;fill:rgb(100%,0%,0%);fill-opacity:1;stroke-width:1;stroke-linecap:butt;stroke-linejoin:miter;stroke:rgb(0%,0%,0%);stroke-opacity:1;stroke-miterlimit:10;\" d=\"M 367.578125 54.539062 C 367.578125 60.0625 363.097656 64.539062 357.578125 64.539062 C 352.054688 64.539062 347.578125 60.0625 347.578125 54.539062 C 347.578125 49.015625 352.054688 44.539062 357.578125 44.539062 C 363.097656 44.539062 367.578125 49.015625 367.578125 54.539062 \"/>\n",
       "<path style=\"fill-rule:nonzero;fill:rgb(0%,100%,0%);fill-opacity:1;stroke-width:1;stroke-linecap:butt;stroke-linejoin:miter;stroke:rgb(0%,0%,0%);stroke-opacity:1;stroke-miterlimit:10;\" d=\"M 60.671875 414.75 C 60.671875 420.273438 56.195312 424.75 50.671875 424.75 C 45.148438 424.75 40.671875 420.273438 40.671875 414.75 C 40.671875 409.226562 45.148438 404.75 50.671875 404.75 C 56.195312 404.75 60.671875 409.226562 60.671875 414.75 \"/>\n",
       "<path style=\"fill-rule:nonzero;fill:rgb(0%,0%,100%);fill-opacity:1;stroke-width:1;stroke-linecap:butt;stroke-linejoin:miter;stroke:rgb(0%,0%,0%);stroke-opacity:1;stroke-miterlimit:10;\" d=\"M 435.316406 580 C 435.316406 585.523438 430.839844 590 425.316406 590 C 419.792969 590 415.316406 585.523438 415.316406 580 C 415.316406 574.476562 419.792969 570 425.316406 570 C 430.839844 570 435.316406 574.476562 435.316406 580 \"/>\n",
       "<path style=\"fill-rule:nonzero;fill:rgb(100%,0%,0%);fill-opacity:1;stroke-width:1;stroke-linecap:butt;stroke-linejoin:miter;stroke:rgb(0%,0%,0%);stroke-opacity:1;stroke-miterlimit:10;\" d=\"M 30 76.464844 C 30 81.988281 25.523438 86.464844 20 86.464844 C 14.476562 86.464844 10 81.988281 10 76.464844 C 10 70.945312 14.476562 66.464844 20 66.464844 C 25.523438 66.464844 30 70.945312 30 76.464844 \"/>\n",
       "<path style=\"fill-rule:nonzero;fill:rgb(100%,0%,0%);fill-opacity:1;stroke-width:1;stroke-linecap:butt;stroke-linejoin:miter;stroke:rgb(0%,0%,0%);stroke-opacity:1;stroke-miterlimit:10;\" d=\"M 241.355469 155.308594 C 241.355469 160.832031 236.878906 165.308594 231.355469 165.308594 C 225.832031 165.308594 221.355469 160.832031 221.355469 155.308594 C 221.355469 149.785156 225.832031 145.308594 231.355469 145.308594 C 236.878906 145.308594 241.355469 149.785156 241.355469 155.308594 \"/>\n",
       "<path style=\"fill-rule:nonzero;fill:rgb(100%,0%,0%);fill-opacity:1;stroke-width:1;stroke-linecap:butt;stroke-linejoin:miter;stroke:rgb(0%,0%,0%);stroke-opacity:1;stroke-miterlimit:10;\" d=\"M 371 345.289062 C 371 350.8125 366.523438 355.289062 361 355.289062 C 355.476562 355.289062 351 350.8125 351 345.289062 C 351 339.765625 355.476562 335.289062 361 335.289062 C 366.523438 335.289062 371 339.765625 371 345.289062 \"/>\n",
       "<path style=\"fill-rule:nonzero;fill:rgb(100%,0%,0%);fill-opacity:1;stroke-width:1;stroke-linecap:butt;stroke-linejoin:miter;stroke:rgb(0%,0%,0%);stroke-opacity:1;stroke-miterlimit:10;\" d=\"M 494.921875 299.441406 C 494.921875 304.964844 490.445312 309.441406 484.921875 309.441406 C 479.398438 309.441406 474.921875 304.964844 474.921875 299.441406 C 474.921875 293.921875 479.398438 289.441406 484.921875 289.441406 C 490.445312 289.441406 494.921875 293.921875 494.921875 299.441406 \"/>\n",
       "<path style=\"fill-rule:nonzero;fill:rgb(0%,100%,0%);fill-opacity:1;stroke-width:1;stroke-linecap:butt;stroke-linejoin:miter;stroke:rgb(0%,0%,0%);stroke-opacity:1;stroke-miterlimit:10;\" d=\"M 191.226562 537.136719 C 191.226562 542.660156 186.75 547.136719 181.226562 547.136719 C 175.703125 547.136719 171.226562 542.660156 171.226562 537.136719 C 171.226562 531.617188 175.703125 527.136719 181.226562 527.136719 C 186.75 527.136719 191.226562 531.617188 191.226562 537.136719 \"/>\n",
       "<path style=\"fill-rule:nonzero;fill:rgb(100%,0%,0%);fill-opacity:1;stroke-width:1;stroke-linecap:butt;stroke-linejoin:miter;stroke:rgb(0%,0%,0%);stroke-opacity:1;stroke-miterlimit:10;\" d=\"M 92.246094 20 C 92.246094 25.523438 87.769531 30 82.246094 30 C 76.726562 30 72.246094 25.523438 72.246094 20 C 72.246094 14.476562 76.726562 10 82.246094 10 C 87.769531 10 92.246094 14.476562 92.246094 20 \"/>\n",
       "<path style=\"fill-rule:nonzero;fill:rgb(100%,0%,0%);fill-opacity:1;stroke-width:1;stroke-linecap:butt;stroke-linejoin:miter;stroke:rgb(0%,0%,0%);stroke-opacity:1;stroke-miterlimit:10;\" d=\"M 469.984375 343.722656 C 469.984375 349.246094 465.507812 353.722656 459.984375 353.722656 C 454.460938 353.722656 449.984375 349.246094 449.984375 343.722656 C 449.984375 338.199219 454.460938 333.722656 459.984375 333.722656 C 465.507812 333.722656 469.984375 338.199219 469.984375 343.722656 \"/>\n",
       "<path style=\"fill-rule:nonzero;fill:rgb(100%,0%,0%);fill-opacity:1;stroke-width:1;stroke-linecap:butt;stroke-linejoin:miter;stroke:rgb(0%,0%,0%);stroke-opacity:1;stroke-miterlimit:10;\" d=\"M 283.992188 81.660156 C 283.992188 87.179688 279.515625 91.660156 273.992188 91.660156 C 268.46875 91.660156 263.992188 87.179688 263.992188 81.660156 C 263.992188 76.136719 268.46875 71.660156 273.992188 71.660156 C 279.515625 71.660156 283.992188 76.136719 283.992188 81.660156 \"/>\n",
       "<path style=\"fill-rule:nonzero;fill:rgb(100%,0%,0%);fill-opacity:1;stroke-width:1;stroke-linecap:butt;stroke-linejoin:miter;stroke:rgb(0%,0%,0%);stroke-opacity:1;stroke-miterlimit:10;\" d=\"M 329.628906 308.015625 C 329.628906 313.535156 325.148438 318.015625 319.628906 318.015625 C 314.105469 318.015625 309.628906 313.535156 309.628906 308.015625 C 309.628906 302.492188 314.105469 298.015625 319.628906 298.015625 C 325.148438 298.015625 329.628906 302.492188 329.628906 308.015625 \"/>\n",
       "<path style=\"fill-rule:nonzero;fill:rgb(100%,0%,0%);fill-opacity:1;stroke-width:1;stroke-linecap:butt;stroke-linejoin:miter;stroke:rgb(0%,0%,0%);stroke-opacity:1;stroke-miterlimit:10;\" d=\"M 59.714844 178.410156 C 59.714844 183.933594 55.238281 188.410156 49.714844 188.410156 C 44.191406 188.410156 39.714844 183.933594 39.714844 178.410156 C 39.714844 172.886719 44.191406 168.410156 49.714844 168.410156 C 55.238281 168.410156 59.714844 172.886719 59.714844 178.410156 \"/>\n",
       "<path style=\"fill-rule:nonzero;fill:rgb(100%,0%,0%);fill-opacity:1;stroke-width:1;stroke-linecap:butt;stroke-linejoin:miter;stroke:rgb(0%,0%,0%);stroke-opacity:1;stroke-miterlimit:10;\" d=\"M 420.523438 336.828125 C 420.523438 342.351562 416.042969 346.828125 410.523438 346.828125 C 405 346.828125 400.523438 342.351562 400.523438 336.828125 C 400.523438 331.304688 405 326.828125 410.523438 326.828125 C 416.042969 326.828125 420.523438 331.304688 420.523438 336.828125 \"/>\n",
       "<path style=\"fill-rule:nonzero;fill:rgb(100%,0%,0%);fill-opacity:1;stroke-width:1;stroke-linecap:butt;stroke-linejoin:miter;stroke:rgb(0%,0%,0%);stroke-opacity:1;stroke-miterlimit:10;\" d=\"M 512.371094 172.039062 C 512.371094 177.5625 507.894531 182.039062 502.371094 182.039062 C 496.847656 182.039062 492.371094 177.5625 492.371094 172.039062 C 492.371094 166.515625 496.847656 162.039062 502.371094 162.039062 C 507.894531 162.039062 512.371094 166.515625 512.371094 172.039062 \"/>\n",
       "<path style=\"fill-rule:nonzero;fill:rgb(100%,0%,0%);fill-opacity:1;stroke-width:1;stroke-linecap:butt;stroke-linejoin:miter;stroke:rgb(0%,0%,0%);stroke-opacity:1;stroke-miterlimit:10;\" d=\"M 541.792969 34.523438 C 541.792969 40.046875 537.316406 44.523438 531.792969 44.523438 C 526.269531 44.523438 521.792969 40.046875 521.792969 34.523438 C 521.792969 29.003906 526.269531 24.523438 531.792969 24.523438 C 537.316406 24.523438 541.792969 29.003906 541.792969 34.523438 \"/>\n",
       "<path style=\"fill-rule:nonzero;fill:rgb(100%,0%,0%);fill-opacity:1;stroke-width:1;stroke-linecap:butt;stroke-linejoin:miter;stroke:rgb(0%,0%,0%);stroke-opacity:1;stroke-miterlimit:10;\" d=\"M 590 96.667969 C 590 102.191406 585.523438 106.667969 580 106.667969 C 574.476562 106.667969 570 102.191406 570 96.667969 C 570 91.144531 574.476562 86.667969 580 86.667969 C 585.523438 86.667969 590 91.144531 590 96.667969 \"/>\n",
       "<path style=\"fill-rule:nonzero;fill:rgb(100%,0%,0%);fill-opacity:1;stroke-width:1;stroke-linecap:butt;stroke-linejoin:miter;stroke:rgb(0%,0%,0%);stroke-opacity:1;stroke-miterlimit:10;\" d=\"M 567.453125 270.757812 C 567.453125 276.28125 562.976562 280.757812 557.453125 280.757812 C 551.929688 280.757812 547.453125 276.28125 547.453125 270.757812 C 547.453125 265.238281 551.929688 260.757812 557.453125 260.757812 C 562.976562 260.757812 567.453125 265.238281 567.453125 270.757812 \"/>\n",
       "<path style=\"fill-rule:nonzero;fill:rgb(100%,0%,0%);fill-opacity:1;stroke-width:1;stroke-linecap:butt;stroke-linejoin:miter;stroke:rgb(0%,0%,0%);stroke-opacity:1;stroke-miterlimit:10;\" d=\"M 448.957031 85.652344 C 448.957031 91.175781 444.480469 95.652344 438.957031 95.652344 C 433.4375 95.652344 428.957031 91.175781 428.957031 85.652344 C 428.957031 80.128906 433.4375 75.652344 438.957031 75.652344 C 444.480469 75.652344 448.957031 80.128906 448.957031 85.652344 \"/>\n",
       "<path style=\"fill-rule:nonzero;fill:rgb(100%,0%,0%);fill-opacity:1;stroke-width:1;stroke-linecap:butt;stroke-linejoin:miter;stroke:rgb(0%,0%,0%);stroke-opacity:1;stroke-miterlimit:10;\" d=\"M 401.308594 111.003906 C 401.308594 116.527344 396.828125 121.003906 391.308594 121.003906 C 385.785156 121.003906 381.308594 116.527344 381.308594 111.003906 C 381.308594 105.480469 385.785156 101.003906 391.308594 101.003906 C 396.828125 101.003906 401.308594 105.480469 401.308594 111.003906 \"/>\n",
       "<path style=\"fill-rule:nonzero;fill:rgb(100%,0%,0%);fill-opacity:1;stroke-width:1;stroke-linecap:butt;stroke-linejoin:miter;stroke:rgb(0%,0%,0%);stroke-opacity:1;stroke-miterlimit:10;\" d=\"M 516.257812 237.832031 C 516.257812 243.355469 511.78125 247.832031 506.257812 247.832031 C 500.734375 247.832031 496.257812 243.355469 496.257812 237.832031 C 496.257812 232.308594 500.734375 227.832031 506.257812 227.832031 C 511.78125 227.832031 516.257812 232.308594 516.257812 237.832031 \"/>\n",
       "<path style=\"fill-rule:nonzero;fill:rgb(100%,0%,0%);fill-opacity:1;stroke-width:1;stroke-linecap:butt;stroke-linejoin:miter;stroke:rgb(0%,0%,0%);stroke-opacity:1;stroke-miterlimit:10;\" d=\"M 278.535156 223.550781 C 278.535156 229.074219 274.058594 233.550781 268.535156 233.550781 C 263.011719 233.550781 258.535156 229.074219 258.535156 223.550781 C 258.535156 218.027344 263.011719 213.550781 268.535156 213.550781 C 274.058594 213.550781 278.535156 218.027344 278.535156 223.550781 \"/>\n",
       "<path style=\"fill-rule:nonzero;fill:rgb(100%,0%,0%);fill-opacity:1;stroke-width:1;stroke-linecap:butt;stroke-linejoin:miter;stroke:rgb(0%,0%,0%);stroke-opacity:1;stroke-miterlimit:10;\" d=\"M 493.984375 126.804688 C 493.984375 132.328125 489.507812 136.804688 483.984375 136.804688 C 478.460938 136.804688 473.984375 132.328125 473.984375 126.804688 C 473.984375 121.28125 478.460938 116.804688 483.984375 116.804688 C 489.507812 116.804688 493.984375 121.28125 493.984375 126.804688 \"/>\n",
       "<path style=\"fill-rule:nonzero;fill:rgb(100%,0%,0%);fill-opacity:1;stroke-width:1;stroke-linecap:butt;stroke-linejoin:miter;stroke:rgb(0%,0%,0%);stroke-opacity:1;stroke-miterlimit:10;\" d=\"M 410.875 246.355469 C 410.875 251.878906 406.398438 256.355469 400.875 256.355469 C 395.351562 256.355469 390.875 251.878906 390.875 246.355469 C 390.875 240.832031 395.351562 236.355469 400.875 236.355469 C 406.398438 236.355469 410.875 240.832031 410.875 246.355469 \"/>\n",
       "<path style=\"fill-rule:nonzero;fill:rgb(100%,0%,0%);fill-opacity:1;stroke-width:1;stroke-linecap:butt;stroke-linejoin:miter;stroke:rgb(0%,0%,0%);stroke-opacity:1;stroke-miterlimit:10;\" d=\"M 406.601562 207.707031 C 406.601562 213.230469 402.125 217.707031 396.601562 217.707031 C 391.082031 217.707031 386.601562 213.230469 386.601562 207.707031 C 386.601562 202.183594 391.082031 197.707031 396.601562 197.707031 C 402.125 197.707031 406.601562 202.183594 406.601562 207.707031 \"/>\n",
       "</g>\n",
       "</svg>\n"
      ],
      "text/plain": [
       "<igraph.drawing.Plot at 0x1099300b8>"
      ]
     },
     "execution_count": 28,
     "metadata": {},
     "output_type": "execute_result"
    }
   ],
   "source": [
    "H = G.copy()\n",
    "H.delete_vertices(0)\n",
    "components = H.clusters()\n",
    "ig.plot(components, layout=H.layout_fruchterman_reingold())"
   ]
  },
  {
   "cell_type": "markdown",
   "metadata": {},
   "source": [
    "This means that node 0 functions as a bridge. In fact, this is the only node that acts as a bridge in this graph."
   ]
  },
  {
   "cell_type": "code",
   "execution_count": 29,
   "metadata": {
    "ExecuteTime": {
     "end_time": "2019-06-25T21:29:04.124630Z",
     "start_time": "2019-06-25T21:29:04.109474Z"
    }
   },
   "outputs": [
    {
     "data": {
      "image/svg+xml": [
       "<?xml version=\"1.0\" encoding=\"UTF-8\"?>\n",
       "<svg xmlns=\"http://www.w3.org/2000/svg\" xmlns:xlink=\"http://www.w3.org/1999/xlink\" width=\"600pt\" height=\"600pt\" viewBox=\"0 0 600 600\" version=\"1.1\">\n",
       "<g id=\"surface62\">\n",
       "<rect x=\"0\" y=\"0\" width=\"600\" height=\"600\" style=\"fill:rgb(100%,100%,100%);fill-opacity:1;stroke:none;\"/>\n",
       "<path style=\"fill:none;stroke-width:0.5;stroke-linecap:butt;stroke-linejoin:miter;stroke:rgb(74.509804%,74.509804%,74.509804%);stroke-opacity:1;stroke-miterlimit:10;\" d=\"M 221.085938 374.695312 L 260.867188 332.039062 \"/>\n",
       "<path style=\"fill:none;stroke-width:0.5;stroke-linecap:butt;stroke-linejoin:miter;stroke:rgb(74.509804%,74.509804%,74.509804%);stroke-opacity:1;stroke-miterlimit:10;\" d=\"M 221.085938 374.695312 L 368.019531 370.164062 \"/>\n",
       "<path style=\"fill:none;stroke-width:0.5;stroke-linecap:butt;stroke-linejoin:miter;stroke:rgb(74.509804%,74.509804%,74.509804%);stroke-opacity:1;stroke-miterlimit:10;\" d=\"M 221.085938 374.695312 L 297.65625 476.515625 \"/>\n",
       "<path style=\"fill:none;stroke-width:0.5;stroke-linecap:butt;stroke-linejoin:miter;stroke:rgb(74.509804%,74.509804%,74.509804%);stroke-opacity:1;stroke-miterlimit:10;\" d=\"M 221.085938 374.695312 L 75.875 415.714844 \"/>\n",
       "<path style=\"fill:none;stroke-width:0.5;stroke-linecap:butt;stroke-linejoin:miter;stroke:rgb(74.509804%,74.509804%,74.509804%);stroke-opacity:1;stroke-miterlimit:10;\" d=\"M 221.085938 374.695312 L 94.472656 241.8125 \"/>\n",
       "<path style=\"fill:none;stroke-width:0.5;stroke-linecap:butt;stroke-linejoin:miter;stroke:rgb(74.509804%,74.509804%,74.509804%);stroke-opacity:1;stroke-miterlimit:10;\" d=\"M 221.085938 374.695312 L 62.777344 297.972656 \"/>\n",
       "<path style=\"fill:none;stroke-width:0.5;stroke-linecap:butt;stroke-linejoin:miter;stroke:rgb(74.509804%,74.509804%,74.509804%);stroke-opacity:1;stroke-miterlimit:10;\" d=\"M 221.085938 374.695312 L 262.082031 458.457031 \"/>\n",
       "<path style=\"fill:none;stroke-width:0.5;stroke-linecap:butt;stroke-linejoin:miter;stroke:rgb(74.509804%,74.509804%,74.509804%);stroke-opacity:1;stroke-miterlimit:10;\" d=\"M 221.085938 374.695312 L 350.632812 251.960938 \"/>\n",
       "<path style=\"fill:none;stroke-width:0.5;stroke-linecap:butt;stroke-linejoin:miter;stroke:rgb(74.509804%,74.509804%,74.509804%);stroke-opacity:1;stroke-miterlimit:10;\" d=\"M 221.085938 374.695312 L 99.964844 350.988281 \"/>\n",
       "<path style=\"fill:none;stroke-width:0.5;stroke-linecap:butt;stroke-linejoin:miter;stroke:rgb(74.509804%,74.509804%,74.509804%);stroke-opacity:1;stroke-miterlimit:10;\" d=\"M 221.085938 374.695312 L 145.425781 564.195312 \"/>\n",
       "<path style=\"fill:none;stroke-width:0.5;stroke-linecap:butt;stroke-linejoin:miter;stroke:rgb(74.509804%,74.509804%,74.509804%);stroke-opacity:1;stroke-miterlimit:10;\" d=\"M 221.085938 374.695312 L 243.695312 580 \"/>\n",
       "<path style=\"fill:none;stroke-width:0.5;stroke-linecap:butt;stroke-linejoin:miter;stroke:rgb(74.509804%,74.509804%,74.509804%);stroke-opacity:1;stroke-miterlimit:10;\" d=\"M 221.085938 374.695312 L 322.859375 352.128906 \"/>\n",
       "<path style=\"fill:none;stroke-width:0.5;stroke-linecap:butt;stroke-linejoin:miter;stroke:rgb(74.509804%,74.509804%,74.509804%);stroke-opacity:1;stroke-miterlimit:10;\" d=\"M 221.085938 374.695312 L 178.90625 234.371094 \"/>\n",
       "<path style=\"fill:none;stroke-width:0.5;stroke-linecap:butt;stroke-linejoin:miter;stroke:rgb(74.509804%,74.509804%,74.509804%);stroke-opacity:1;stroke-miterlimit:10;\" d=\"M 221.085938 374.695312 L 282.757812 220.152344 \"/>\n",
       "<path style=\"fill:none;stroke-width:0.5;stroke-linecap:butt;stroke-linejoin:miter;stroke:rgb(74.509804%,74.509804%,74.509804%);stroke-opacity:1;stroke-miterlimit:10;\" d=\"M 221.085938 374.695312 L 169.078125 452.429688 \"/>\n",
       "<path style=\"fill:none;stroke-width:0.5;stroke-linecap:butt;stroke-linejoin:miter;stroke:rgb(74.509804%,74.509804%,74.509804%);stroke-opacity:1;stroke-miterlimit:10;\" d=\"M 221.085938 374.695312 L 434.171875 373.011719 \"/>\n",
       "<path style=\"fill:none;stroke-width:0.5;stroke-linecap:butt;stroke-linejoin:miter;stroke:rgb(74.509804%,74.509804%,74.509804%);stroke-opacity:1;stroke-miterlimit:10;\" d=\"M 260.867188 332.039062 L 368.019531 370.164062 \"/>\n",
       "<path style=\"fill:none;stroke-width:0.5;stroke-linecap:butt;stroke-linejoin:miter;stroke:rgb(74.509804%,74.509804%,74.509804%);stroke-opacity:1;stroke-miterlimit:10;\" d=\"M 260.867188 332.039062 L 297.65625 476.515625 \"/>\n",
       "<path style=\"fill:none;stroke-width:0.5;stroke-linecap:butt;stroke-linejoin:miter;stroke:rgb(74.509804%,74.509804%,74.509804%);stroke-opacity:1;stroke-miterlimit:10;\" d=\"M 260.867188 332.039062 L 262.082031 458.457031 \"/>\n",
       "<path style=\"fill:none;stroke-width:0.5;stroke-linecap:butt;stroke-linejoin:miter;stroke:rgb(74.509804%,74.509804%,74.509804%);stroke-opacity:1;stroke-miterlimit:10;\" d=\"M 260.867188 332.039062 L 322.859375 352.128906 \"/>\n",
       "<path style=\"fill:none;stroke-width:0.5;stroke-linecap:butt;stroke-linejoin:miter;stroke:rgb(74.509804%,74.509804%,74.509804%);stroke-opacity:1;stroke-miterlimit:10;\" d=\"M 260.867188 332.039062 L 178.90625 234.371094 \"/>\n",
       "<path style=\"fill:none;stroke-width:0.5;stroke-linecap:butt;stroke-linejoin:miter;stroke:rgb(74.509804%,74.509804%,74.509804%);stroke-opacity:1;stroke-miterlimit:10;\" d=\"M 260.867188 332.039062 L 282.757812 220.152344 \"/>\n",
       "<path style=\"fill:none;stroke-width:0.5;stroke-linecap:butt;stroke-linejoin:miter;stroke:rgb(74.509804%,74.509804%,74.509804%);stroke-opacity:1;stroke-miterlimit:10;\" d=\"M 260.867188 332.039062 L 169.078125 452.429688 \"/>\n",
       "<path style=\"fill:none;stroke-width:0.5;stroke-linecap:butt;stroke-linejoin:miter;stroke:rgb(74.509804%,74.509804%,74.509804%);stroke-opacity:1;stroke-miterlimit:10;\" d=\"M 260.867188 332.039062 L 346.40625 169.027344 \"/>\n",
       "<path style=\"fill:none;stroke-width:0.5;stroke-linecap:butt;stroke-linejoin:miter;stroke:rgb(74.509804%,74.509804%,74.509804%);stroke-opacity:1;stroke-miterlimit:10;\" d=\"M 368.019531 370.164062 L 297.65625 476.515625 \"/>\n",
       "<path style=\"fill:none;stroke-width:0.5;stroke-linecap:butt;stroke-linejoin:miter;stroke:rgb(74.509804%,74.509804%,74.509804%);stroke-opacity:1;stroke-miterlimit:10;\" d=\"M 368.019531 370.164062 L 262.082031 458.457031 \"/>\n",
       "<path style=\"fill:none;stroke-width:0.5;stroke-linecap:butt;stroke-linejoin:miter;stroke:rgb(74.509804%,74.509804%,74.509804%);stroke-opacity:1;stroke-miterlimit:10;\" d=\"M 368.019531 370.164062 L 509.847656 386.65625 \"/>\n",
       "<path style=\"fill:none;stroke-width:0.5;stroke-linecap:butt;stroke-linejoin:miter;stroke:rgb(74.509804%,74.509804%,74.509804%);stroke-opacity:1;stroke-miterlimit:10;\" d=\"M 368.019531 370.164062 L 469.820312 324.519531 \"/>\n",
       "<path style=\"fill:none;stroke-width:0.5;stroke-linecap:butt;stroke-linejoin:miter;stroke:rgb(74.509804%,74.509804%,74.509804%);stroke-opacity:1;stroke-miterlimit:10;\" d=\"M 368.019531 370.164062 L 455.253906 174.800781 \"/>\n",
       "<path style=\"fill:none;stroke-width:0.5;stroke-linecap:butt;stroke-linejoin:miter;stroke:rgb(74.509804%,74.509804%,74.509804%);stroke-opacity:1;stroke-miterlimit:10;\" d=\"M 368.019531 370.164062 L 449.386719 441.878906 \"/>\n",
       "<path style=\"fill:none;stroke-width:0.5;stroke-linecap:butt;stroke-linejoin:miter;stroke:rgb(74.509804%,74.509804%,74.509804%);stroke-opacity:1;stroke-miterlimit:10;\" d=\"M 368.019531 370.164062 L 350.632812 251.960938 \"/>\n",
       "<path style=\"fill:none;stroke-width:0.5;stroke-linecap:butt;stroke-linejoin:miter;stroke:rgb(74.509804%,74.509804%,74.509804%);stroke-opacity:1;stroke-miterlimit:10;\" d=\"M 368.019531 370.164062 L 322.859375 352.128906 \"/>\n",
       "<path style=\"fill:none;stroke-width:0.5;stroke-linecap:butt;stroke-linejoin:miter;stroke:rgb(74.509804%,74.509804%,74.509804%);stroke-opacity:1;stroke-miterlimit:10;\" d=\"M 297.65625 476.515625 L 262.082031 458.457031 \"/>\n",
       "<path style=\"fill:none;stroke-width:0.5;stroke-linecap:butt;stroke-linejoin:miter;stroke:rgb(74.509804%,74.509804%,74.509804%);stroke-opacity:1;stroke-miterlimit:10;\" d=\"M 297.65625 476.515625 L 243.695312 580 \"/>\n",
       "<path style=\"fill:none;stroke-width:0.5;stroke-linecap:butt;stroke-linejoin:miter;stroke:rgb(74.509804%,74.509804%,74.509804%);stroke-opacity:1;stroke-miterlimit:10;\" d=\"M 297.65625 476.515625 L 322.859375 352.128906 \"/>\n",
       "<path style=\"fill:none;stroke-width:0.5;stroke-linecap:butt;stroke-linejoin:miter;stroke:rgb(74.509804%,74.509804%,74.509804%);stroke-opacity:1;stroke-miterlimit:10;\" d=\"M 75.875 415.714844 L 62.777344 297.972656 \"/>\n",
       "<path style=\"fill:none;stroke-width:0.5;stroke-linecap:butt;stroke-linejoin:miter;stroke:rgb(74.509804%,74.509804%,74.509804%);stroke-opacity:1;stroke-miterlimit:10;\" d=\"M 75.875 415.714844 L 99.964844 350.988281 \"/>\n",
       "<path style=\"fill:none;stroke-width:0.5;stroke-linecap:butt;stroke-linejoin:miter;stroke:rgb(74.509804%,74.509804%,74.509804%);stroke-opacity:1;stroke-miterlimit:10;\" d=\"M 94.472656 241.8125 L 62.777344 297.972656 \"/>\n",
       "<path style=\"fill:none;stroke-width:0.5;stroke-linecap:butt;stroke-linejoin:miter;stroke:rgb(74.509804%,74.509804%,74.509804%);stroke-opacity:1;stroke-miterlimit:10;\" d=\"M 94.472656 241.8125 L 99.964844 350.988281 \"/>\n",
       "<path style=\"fill:none;stroke-width:0.5;stroke-linecap:butt;stroke-linejoin:miter;stroke:rgb(74.509804%,74.509804%,74.509804%);stroke-opacity:1;stroke-miterlimit:10;\" d=\"M 94.472656 241.8125 L 20 170.296875 \"/>\n",
       "<path style=\"fill:none;stroke-width:0.5;stroke-linecap:butt;stroke-linejoin:miter;stroke:rgb(74.509804%,74.509804%,74.509804%);stroke-opacity:1;stroke-miterlimit:10;\" d=\"M 62.777344 297.972656 L 20 170.296875 \"/>\n",
       "<path style=\"fill:none;stroke-width:0.5;stroke-linecap:butt;stroke-linejoin:miter;stroke:rgb(74.509804%,74.509804%,74.509804%);stroke-opacity:1;stroke-miterlimit:10;\" d=\"M 350.632812 251.960938 L 346.40625 169.027344 \"/>\n",
       "<path style=\"fill:none;stroke-width:0.5;stroke-linecap:butt;stroke-linejoin:miter;stroke:rgb(74.509804%,74.509804%,74.509804%);stroke-opacity:1;stroke-miterlimit:10;\" d=\"M 350.632812 251.960938 L 455.253906 174.800781 \"/>\n",
       "<path style=\"fill:none;stroke-width:0.5;stroke-linecap:butt;stroke-linejoin:miter;stroke:rgb(74.509804%,74.509804%,74.509804%);stroke-opacity:1;stroke-miterlimit:10;\" d=\"M 350.632812 251.960938 L 449.457031 212.871094 \"/>\n",
       "<path style=\"fill:none;stroke-width:0.5;stroke-linecap:butt;stroke-linejoin:miter;stroke:rgb(74.509804%,74.509804%,74.509804%);stroke-opacity:1;stroke-miterlimit:10;\" d=\"M 449.386719 441.878906 L 449.457031 212.871094 \"/>\n",
       "<path style=\"fill:none;stroke-width:0.5;stroke-linecap:butt;stroke-linejoin:miter;stroke:rgb(74.509804%,74.509804%,74.509804%);stroke-opacity:1;stroke-miterlimit:10;\" d=\"M 322.859375 352.128906 L 449.457031 212.871094 \"/>\n",
       "<path style=\"fill:none;stroke-width:0.5;stroke-linecap:butt;stroke-linejoin:miter;stroke:rgb(74.509804%,74.509804%,74.509804%);stroke-opacity:1;stroke-miterlimit:10;\" d=\"M 474.171875 40.453125 L 455.253906 174.800781 \"/>\n",
       "<path style=\"fill:none;stroke-width:0.5;stroke-linecap:butt;stroke-linejoin:miter;stroke:rgb(74.509804%,74.509804%,74.509804%);stroke-opacity:1;stroke-miterlimit:10;\" d=\"M 474.171875 40.453125 L 449.457031 212.871094 \"/>\n",
       "<path style=\"fill:none;stroke-width:0.5;stroke-linecap:butt;stroke-linejoin:miter;stroke:rgb(74.509804%,74.509804%,74.509804%);stroke-opacity:1;stroke-miterlimit:10;\" d=\"M 544.511719 92.824219 L 455.253906 174.800781 \"/>\n",
       "<path style=\"fill:none;stroke-width:0.5;stroke-linecap:butt;stroke-linejoin:miter;stroke:rgb(74.509804%,74.509804%,74.509804%);stroke-opacity:1;stroke-miterlimit:10;\" d=\"M 544.511719 92.824219 L 449.457031 212.871094 \"/>\n",
       "<path style=\"fill:none;stroke-width:0.5;stroke-linecap:butt;stroke-linejoin:miter;stroke:rgb(74.509804%,74.509804%,74.509804%);stroke-opacity:1;stroke-miterlimit:10;\" d=\"M 427.582031 20 L 455.253906 174.800781 \"/>\n",
       "<path style=\"fill:none;stroke-width:0.5;stroke-linecap:butt;stroke-linejoin:miter;stroke:rgb(74.509804%,74.509804%,74.509804%);stroke-opacity:1;stroke-miterlimit:10;\" d=\"M 427.582031 20 L 449.457031 212.871094 \"/>\n",
       "<path style=\"fill:none;stroke-width:0.5;stroke-linecap:butt;stroke-linejoin:miter;stroke:rgb(74.509804%,74.509804%,74.509804%);stroke-opacity:1;stroke-miterlimit:10;\" d=\"M 282.757812 220.152344 L 449.457031 212.871094 \"/>\n",
       "<path style=\"fill:none;stroke-width:0.5;stroke-linecap:butt;stroke-linejoin:miter;stroke:rgb(74.509804%,74.509804%,74.509804%);stroke-opacity:1;stroke-miterlimit:10;\" d=\"M 383.960938 52.757812 L 455.253906 174.800781 \"/>\n",
       "<path style=\"fill:none;stroke-width:0.5;stroke-linecap:butt;stroke-linejoin:miter;stroke:rgb(74.509804%,74.509804%,74.509804%);stroke-opacity:1;stroke-miterlimit:10;\" d=\"M 383.960938 52.757812 L 449.457031 212.871094 \"/>\n",
       "<path style=\"fill:none;stroke-width:0.5;stroke-linecap:butt;stroke-linejoin:miter;stroke:rgb(74.509804%,74.509804%,74.509804%);stroke-opacity:1;stroke-miterlimit:10;\" d=\"M 580 195.355469 L 455.253906 174.800781 \"/>\n",
       "<path style=\"fill:none;stroke-width:0.5;stroke-linecap:butt;stroke-linejoin:miter;stroke:rgb(74.509804%,74.509804%,74.509804%);stroke-opacity:1;stroke-miterlimit:10;\" d=\"M 580 195.355469 L 449.457031 212.871094 \"/>\n",
       "<path style=\"fill:none;stroke-width:2;stroke-linecap:butt;stroke-linejoin:miter;stroke:rgb(100%,0%,0%);stroke-opacity:1;stroke-miterlimit:10;\" d=\"M 553.273438 284.808594 L 574.003906 439.148438 \"/>\n",
       "<path style=\"fill:none;stroke-width:2;stroke-linecap:butt;stroke-linejoin:miter;stroke:rgb(100%,0%,0%);stroke-opacity:1;stroke-miterlimit:10;\" d=\"M 553.273438 284.808594 L 509.847656 386.65625 \"/>\n",
       "<path style=\"fill:none;stroke-width:0.5;stroke-linecap:butt;stroke-linejoin:miter;stroke:rgb(74.509804%,74.509804%,74.509804%);stroke-opacity:1;stroke-miterlimit:10;\" d=\"M 553.273438 284.808594 L 455.253906 174.800781 \"/>\n",
       "<path style=\"fill:none;stroke-width:0.5;stroke-linecap:butt;stroke-linejoin:miter;stroke:rgb(74.509804%,74.509804%,74.509804%);stroke-opacity:1;stroke-miterlimit:10;\" d=\"M 553.273438 284.808594 L 449.457031 212.871094 \"/>\n",
       "<path style=\"fill:none;stroke-width:0.5;stroke-linecap:butt;stroke-linejoin:miter;stroke:rgb(74.509804%,74.509804%,74.509804%);stroke-opacity:1;stroke-miterlimit:10;\" d=\"M 553.273438 284.808594 L 544.550781 154.023438 \"/>\n",
       "<path style=\"fill:none;stroke-width:2;stroke-linecap:butt;stroke-linejoin:miter;stroke:rgb(100%,0%,0%);stroke-opacity:1;stroke-miterlimit:10;\" d=\"M 531.066406 516.8125 L 574.003906 439.148438 \"/>\n",
       "<path style=\"fill:none;stroke-width:2;stroke-linecap:butt;stroke-linejoin:miter;stroke:rgb(100%,0%,0%);stroke-opacity:1;stroke-miterlimit:10;\" d=\"M 531.066406 516.8125 L 509.847656 386.65625 \"/>\n",
       "<path style=\"fill:none;stroke-width:0.5;stroke-linecap:butt;stroke-linejoin:miter;stroke:rgb(74.509804%,74.509804%,74.509804%);stroke-opacity:1;stroke-miterlimit:10;\" d=\"M 531.066406 516.8125 L 434.171875 373.011719 \"/>\n",
       "<path style=\"fill:none;stroke-width:0.5;stroke-linecap:butt;stroke-linejoin:miter;stroke:rgb(74.509804%,74.509804%,74.509804%);stroke-opacity:1;stroke-miterlimit:10;\" d=\"M 574.003906 439.148438 L 434.171875 373.011719 \"/>\n",
       "<path style=\"fill:none;stroke-width:0.5;stroke-linecap:butt;stroke-linejoin:miter;stroke:rgb(74.509804%,74.509804%,74.509804%);stroke-opacity:1;stroke-miterlimit:10;\" d=\"M 544.292969 30.21875 L 544.550781 154.023438 \"/>\n",
       "<path style=\"fill:none;stroke-width:0.5;stroke-linecap:butt;stroke-linejoin:miter;stroke:rgb(74.509804%,74.509804%,74.509804%);stroke-opacity:1;stroke-miterlimit:10;\" d=\"M 544.292969 30.21875 L 449.457031 212.871094 \"/>\n",
       "<path style=\"fill:none;stroke-width:0.5;stroke-linecap:butt;stroke-linejoin:miter;stroke:rgb(74.509804%,74.509804%,74.509804%);stroke-opacity:1;stroke-miterlimit:10;\" d=\"M 509.847656 386.65625 L 449.457031 212.871094 \"/>\n",
       "<path style=\"fill:none;stroke-width:0.5;stroke-linecap:butt;stroke-linejoin:miter;stroke:rgb(74.509804%,74.509804%,74.509804%);stroke-opacity:1;stroke-miterlimit:10;\" d=\"M 469.820312 324.519531 L 434.171875 373.011719 \"/>\n",
       "<path style=\"fill:none;stroke-width:0.5;stroke-linecap:butt;stroke-linejoin:miter;stroke:rgb(74.509804%,74.509804%,74.509804%);stroke-opacity:1;stroke-miterlimit:10;\" d=\"M 469.820312 324.519531 L 449.457031 212.871094 \"/>\n",
       "<path style=\"fill:none;stroke-width:0.5;stroke-linecap:butt;stroke-linejoin:miter;stroke:rgb(74.509804%,74.509804%,74.509804%);stroke-opacity:1;stroke-miterlimit:10;\" d=\"M 544.550781 154.023438 L 455.253906 174.800781 \"/>\n",
       "<path style=\"fill:none;stroke-width:0.5;stroke-linecap:butt;stroke-linejoin:miter;stroke:rgb(74.509804%,74.509804%,74.509804%);stroke-opacity:1;stroke-miterlimit:10;\" d=\"M 544.550781 154.023438 L 449.457031 212.871094 \"/>\n",
       "<path style=\"fill:none;stroke-width:0.5;stroke-linecap:butt;stroke-linejoin:miter;stroke:rgb(74.509804%,74.509804%,74.509804%);stroke-opacity:1;stroke-miterlimit:10;\" d=\"M 346.40625 169.027344 L 455.253906 174.800781 \"/>\n",
       "<path style=\"fill:none;stroke-width:0.5;stroke-linecap:butt;stroke-linejoin:miter;stroke:rgb(74.509804%,74.509804%,74.509804%);stroke-opacity:1;stroke-miterlimit:10;\" d=\"M 346.40625 169.027344 L 449.457031 212.871094 \"/>\n",
       "<path style=\"fill:none;stroke-width:0.5;stroke-linecap:butt;stroke-linejoin:miter;stroke:rgb(74.509804%,74.509804%,74.509804%);stroke-opacity:1;stroke-miterlimit:10;\" d=\"M 434.171875 373.011719 L 455.253906 174.800781 \"/>\n",
       "<path style=\"fill:none;stroke-width:0.5;stroke-linecap:butt;stroke-linejoin:miter;stroke:rgb(74.509804%,74.509804%,74.509804%);stroke-opacity:1;stroke-miterlimit:10;\" d=\"M 434.171875 373.011719 L 449.457031 212.871094 \"/>\n",
       "<path style=\"fill:none;stroke-width:0.5;stroke-linecap:butt;stroke-linejoin:miter;stroke:rgb(74.509804%,74.509804%,74.509804%);stroke-opacity:1;stroke-miterlimit:10;\" d=\"M 455.253906 174.800781 L 449.457031 212.871094 \"/>\n",
       "<path style=\"fill-rule:nonzero;fill:rgb(0%,100%,100%);fill-opacity:1;stroke-width:1;stroke-linecap:butt;stroke-linejoin:miter;stroke:rgb(0%,0%,0%);stroke-opacity:1;stroke-miterlimit:10;\" d=\"M 231.085938 374.695312 C 231.085938 380.214844 226.609375 384.695312 221.085938 384.695312 C 215.5625 384.695312 211.085938 380.214844 211.085938 374.695312 C 211.085938 369.171875 215.5625 364.695312 221.085938 364.695312 C 226.609375 364.695312 231.085938 369.171875 231.085938 374.695312 \"/>\n",
       "<path style=\"fill-rule:nonzero;fill:rgb(100%,0%,0%);fill-opacity:1;stroke-width:1;stroke-linecap:butt;stroke-linejoin:miter;stroke:rgb(0%,0%,0%);stroke-opacity:1;stroke-miterlimit:10;\" d=\"M 270.867188 332.039062 C 270.867188 337.5625 266.390625 342.039062 260.867188 342.039062 C 255.34375 342.039062 250.867188 337.5625 250.867188 332.039062 C 250.867188 326.519531 255.34375 322.039062 260.867188 322.039062 C 266.390625 322.039062 270.867188 326.519531 270.867188 332.039062 \"/>\n",
       "<path style=\"fill-rule:nonzero;fill:rgb(100%,0%,0%);fill-opacity:1;stroke-width:1;stroke-linecap:butt;stroke-linejoin:miter;stroke:rgb(0%,0%,0%);stroke-opacity:1;stroke-miterlimit:10;\" d=\"M 378.019531 370.164062 C 378.019531 375.6875 373.542969 380.164062 368.019531 380.164062 C 362.5 380.164062 358.019531 375.6875 358.019531 370.164062 C 358.019531 364.640625 362.5 360.164062 368.019531 360.164062 C 373.542969 360.164062 378.019531 364.640625 378.019531 370.164062 \"/>\n",
       "<path style=\"fill-rule:nonzero;fill:rgb(100%,0%,0%);fill-opacity:1;stroke-width:1;stroke-linecap:butt;stroke-linejoin:miter;stroke:rgb(0%,0%,0%);stroke-opacity:1;stroke-miterlimit:10;\" d=\"M 307.65625 476.515625 C 307.65625 482.039062 303.179688 486.515625 297.65625 486.515625 C 292.132812 486.515625 287.65625 482.039062 287.65625 476.515625 C 287.65625 470.992188 292.132812 466.515625 297.65625 466.515625 C 303.179688 466.515625 307.65625 470.992188 307.65625 476.515625 \"/>\n",
       "<path style=\"fill-rule:nonzero;fill:rgb(100%,0%,0%);fill-opacity:1;stroke-width:1;stroke-linecap:butt;stroke-linejoin:miter;stroke:rgb(0%,0%,0%);stroke-opacity:1;stroke-miterlimit:10;\" d=\"M 85.875 415.714844 C 85.875 421.238281 81.398438 425.714844 75.875 425.714844 C 70.351562 425.714844 65.875 421.238281 65.875 415.714844 C 65.875 410.195312 70.351562 405.714844 75.875 405.714844 C 81.398438 405.714844 85.875 410.195312 85.875 415.714844 \"/>\n",
       "<path style=\"fill-rule:nonzero;fill:rgb(100%,0%,0%);fill-opacity:1;stroke-width:1;stroke-linecap:butt;stroke-linejoin:miter;stroke:rgb(0%,0%,0%);stroke-opacity:1;stroke-miterlimit:10;\" d=\"M 104.472656 241.8125 C 104.472656 247.332031 99.996094 251.8125 94.472656 251.8125 C 88.953125 251.8125 84.472656 247.332031 84.472656 241.8125 C 84.472656 236.289062 88.953125 231.8125 94.472656 231.8125 C 99.996094 231.8125 104.472656 236.289062 104.472656 241.8125 \"/>\n",
       "<path style=\"fill-rule:nonzero;fill:rgb(100%,0%,0%);fill-opacity:1;stroke-width:1;stroke-linecap:butt;stroke-linejoin:miter;stroke:rgb(0%,0%,0%);stroke-opacity:1;stroke-miterlimit:10;\" d=\"M 72.777344 297.972656 C 72.777344 303.496094 68.300781 307.972656 62.777344 307.972656 C 57.253906 307.972656 52.777344 303.496094 52.777344 297.972656 C 52.777344 292.449219 57.253906 287.972656 62.777344 287.972656 C 68.300781 287.972656 72.777344 292.449219 72.777344 297.972656 \"/>\n",
       "<path style=\"fill-rule:nonzero;fill:rgb(100%,0%,0%);fill-opacity:1;stroke-width:1;stroke-linecap:butt;stroke-linejoin:miter;stroke:rgb(0%,0%,0%);stroke-opacity:1;stroke-miterlimit:10;\" d=\"M 272.082031 458.457031 C 272.082031 463.980469 267.605469 468.457031 262.082031 468.457031 C 256.558594 468.457031 252.082031 463.980469 252.082031 458.457031 C 252.082031 452.933594 256.558594 448.457031 262.082031 448.457031 C 267.605469 448.457031 272.082031 452.933594 272.082031 458.457031 \"/>\n",
       "<path style=\"fill-rule:nonzero;fill:rgb(100%,0%,0%);fill-opacity:1;stroke-width:1;stroke-linecap:butt;stroke-linejoin:miter;stroke:rgb(0%,0%,0%);stroke-opacity:1;stroke-miterlimit:10;\" d=\"M 360.632812 251.960938 C 360.632812 257.484375 356.15625 261.960938 350.632812 261.960938 C 345.109375 261.960938 340.632812 257.484375 340.632812 251.960938 C 340.632812 246.441406 345.109375 241.960938 350.632812 241.960938 C 356.15625 241.960938 360.632812 246.441406 360.632812 251.960938 \"/>\n",
       "<path style=\"fill-rule:nonzero;fill:rgb(100%,0%,0%);fill-opacity:1;stroke-width:1;stroke-linecap:butt;stroke-linejoin:miter;stroke:rgb(0%,0%,0%);stroke-opacity:1;stroke-miterlimit:10;\" d=\"M 459.386719 441.878906 C 459.386719 447.402344 454.910156 451.878906 449.386719 451.878906 C 443.867188 451.878906 439.386719 447.402344 439.386719 441.878906 C 439.386719 436.355469 443.867188 431.878906 449.386719 431.878906 C 454.910156 431.878906 459.386719 436.355469 459.386719 441.878906 \"/>\n",
       "<path style=\"fill-rule:nonzero;fill:rgb(100%,0%,0%);fill-opacity:1;stroke-width:1;stroke-linecap:butt;stroke-linejoin:miter;stroke:rgb(0%,0%,0%);stroke-opacity:1;stroke-miterlimit:10;\" d=\"M 109.964844 350.988281 C 109.964844 356.511719 105.488281 360.988281 99.964844 360.988281 C 94.441406 360.988281 89.964844 356.511719 89.964844 350.988281 C 89.964844 345.464844 94.441406 340.988281 99.964844 340.988281 C 105.488281 340.988281 109.964844 345.464844 109.964844 350.988281 \"/>\n",
       "<path style=\"fill-rule:nonzero;fill:rgb(100%,0%,0%);fill-opacity:1;stroke-width:1;stroke-linecap:butt;stroke-linejoin:miter;stroke:rgb(0%,0%,0%);stroke-opacity:1;stroke-miterlimit:10;\" d=\"M 155.425781 564.195312 C 155.425781 569.71875 150.945312 574.195312 145.425781 574.195312 C 139.902344 574.195312 135.425781 569.71875 135.425781 564.195312 C 135.425781 558.671875 139.902344 554.195312 145.425781 554.195312 C 150.945312 554.195312 155.425781 558.671875 155.425781 564.195312 \"/>\n",
       "<path style=\"fill-rule:nonzero;fill:rgb(100%,0%,0%);fill-opacity:1;stroke-width:1;stroke-linecap:butt;stroke-linejoin:miter;stroke:rgb(0%,0%,0%);stroke-opacity:1;stroke-miterlimit:10;\" d=\"M 253.695312 580 C 253.695312 585.523438 249.21875 590 243.695312 590 C 238.171875 590 233.695312 585.523438 233.695312 580 C 233.695312 574.476562 238.171875 570 243.695312 570 C 249.21875 570 253.695312 574.476562 253.695312 580 \"/>\n",
       "<path style=\"fill-rule:nonzero;fill:rgb(100%,0%,0%);fill-opacity:1;stroke-width:1;stroke-linecap:butt;stroke-linejoin:miter;stroke:rgb(0%,0%,0%);stroke-opacity:1;stroke-miterlimit:10;\" d=\"M 332.859375 352.128906 C 332.859375 357.652344 328.382812 362.128906 322.859375 362.128906 C 317.335938 362.128906 312.859375 357.652344 312.859375 352.128906 C 312.859375 346.605469 317.335938 342.128906 322.859375 342.128906 C 328.382812 342.128906 332.859375 346.605469 332.859375 352.128906 \"/>\n",
       "<path style=\"fill-rule:nonzero;fill:rgb(100%,0%,0%);fill-opacity:1;stroke-width:1;stroke-linecap:butt;stroke-linejoin:miter;stroke:rgb(0%,0%,0%);stroke-opacity:1;stroke-miterlimit:10;\" d=\"M 484.171875 40.453125 C 484.171875 45.976562 479.695312 50.453125 474.171875 50.453125 C 468.648438 50.453125 464.171875 45.976562 464.171875 40.453125 C 464.171875 34.929688 468.648438 30.453125 474.171875 30.453125 C 479.695312 30.453125 484.171875 34.929688 484.171875 40.453125 \"/>\n",
       "<path style=\"fill-rule:nonzero;fill:rgb(100%,0%,0%);fill-opacity:1;stroke-width:1;stroke-linecap:butt;stroke-linejoin:miter;stroke:rgb(0%,0%,0%);stroke-opacity:1;stroke-miterlimit:10;\" d=\"M 554.511719 92.824219 C 554.511719 98.347656 550.03125 102.824219 544.511719 102.824219 C 538.988281 102.824219 534.511719 98.347656 534.511719 92.824219 C 534.511719 87.300781 538.988281 82.824219 544.511719 82.824219 C 550.03125 82.824219 554.511719 87.300781 554.511719 92.824219 \"/>\n",
       "<path style=\"fill-rule:nonzero;fill:rgb(100%,0%,0%);fill-opacity:1;stroke-width:1;stroke-linecap:butt;stroke-linejoin:miter;stroke:rgb(0%,0%,0%);stroke-opacity:1;stroke-miterlimit:10;\" d=\"M 30 170.296875 C 30 175.820312 25.523438 180.296875 20 180.296875 C 14.476562 180.296875 10 175.820312 10 170.296875 C 10 164.777344 14.476562 160.296875 20 160.296875 C 25.523438 160.296875 30 164.777344 30 170.296875 \"/>\n",
       "<path style=\"fill-rule:nonzero;fill:rgb(100%,0%,0%);fill-opacity:1;stroke-width:1;stroke-linecap:butt;stroke-linejoin:miter;stroke:rgb(0%,0%,0%);stroke-opacity:1;stroke-miterlimit:10;\" d=\"M 188.90625 234.371094 C 188.90625 239.894531 184.429688 244.371094 178.90625 244.371094 C 173.382812 244.371094 168.90625 239.894531 168.90625 234.371094 C 168.90625 228.847656 173.382812 224.371094 178.90625 224.371094 C 184.429688 224.371094 188.90625 228.847656 188.90625 234.371094 \"/>\n",
       "<path style=\"fill-rule:nonzero;fill:rgb(100%,0%,0%);fill-opacity:1;stroke-width:1;stroke-linecap:butt;stroke-linejoin:miter;stroke:rgb(0%,0%,0%);stroke-opacity:1;stroke-miterlimit:10;\" d=\"M 437.582031 20 C 437.582031 25.523438 433.105469 30 427.582031 30 C 422.058594 30 417.582031 25.523438 417.582031 20 C 417.582031 14.476562 422.058594 10 427.582031 10 C 433.105469 10 437.582031 14.476562 437.582031 20 \"/>\n",
       "<path style=\"fill-rule:nonzero;fill:rgb(100%,0%,0%);fill-opacity:1;stroke-width:1;stroke-linecap:butt;stroke-linejoin:miter;stroke:rgb(0%,0%,0%);stroke-opacity:1;stroke-miterlimit:10;\" d=\"M 292.757812 220.152344 C 292.757812 225.675781 288.28125 230.152344 282.757812 230.152344 C 277.238281 230.152344 272.757812 225.675781 272.757812 220.152344 C 272.757812 214.628906 277.238281 210.152344 282.757812 210.152344 C 288.28125 210.152344 292.757812 214.628906 292.757812 220.152344 \"/>\n",
       "<path style=\"fill-rule:nonzero;fill:rgb(100%,0%,0%);fill-opacity:1;stroke-width:1;stroke-linecap:butt;stroke-linejoin:miter;stroke:rgb(0%,0%,0%);stroke-opacity:1;stroke-miterlimit:10;\" d=\"M 393.960938 52.757812 C 393.960938 58.28125 389.484375 62.757812 383.960938 62.757812 C 378.4375 62.757812 373.960938 58.28125 373.960938 52.757812 C 373.960938 47.234375 378.4375 42.757812 383.960938 42.757812 C 389.484375 42.757812 393.960938 47.234375 393.960938 52.757812 \"/>\n",
       "<path style=\"fill-rule:nonzero;fill:rgb(100%,0%,0%);fill-opacity:1;stroke-width:1;stroke-linecap:butt;stroke-linejoin:miter;stroke:rgb(0%,0%,0%);stroke-opacity:1;stroke-miterlimit:10;\" d=\"M 179.078125 452.429688 C 179.078125 457.953125 174.601562 462.429688 169.078125 462.429688 C 163.554688 462.429688 159.078125 457.953125 159.078125 452.429688 C 159.078125 446.90625 163.554688 442.429688 169.078125 442.429688 C 174.601562 442.429688 179.078125 446.90625 179.078125 452.429688 \"/>\n",
       "<path style=\"fill-rule:nonzero;fill:rgb(100%,0%,0%);fill-opacity:1;stroke-width:1;stroke-linecap:butt;stroke-linejoin:miter;stroke:rgb(0%,0%,0%);stroke-opacity:1;stroke-miterlimit:10;\" d=\"M 590 195.355469 C 590 200.878906 585.523438 205.355469 580 205.355469 C 574.476562 205.355469 570 200.878906 570 195.355469 C 570 189.832031 574.476562 185.355469 580 185.355469 C 585.523438 185.355469 590 189.832031 590 195.355469 \"/>\n",
       "<path style=\"fill-rule:nonzero;fill:rgb(100%,0%,0%);fill-opacity:1;stroke-width:1;stroke-linecap:butt;stroke-linejoin:miter;stroke:rgb(0%,0%,0%);stroke-opacity:1;stroke-miterlimit:10;\" d=\"M 563.273438 284.808594 C 563.273438 290.332031 558.796875 294.808594 553.273438 294.808594 C 547.75 294.808594 543.273438 290.332031 543.273438 284.808594 C 543.273438 279.289062 547.75 274.808594 553.273438 274.808594 C 558.796875 274.808594 563.273438 279.289062 563.273438 284.808594 \"/>\n",
       "<path style=\"fill-rule:nonzero;fill:rgb(100%,0%,0%);fill-opacity:1;stroke-width:1;stroke-linecap:butt;stroke-linejoin:miter;stroke:rgb(0%,0%,0%);stroke-opacity:1;stroke-miterlimit:10;\" d=\"M 541.066406 516.8125 C 541.066406 522.335938 536.589844 526.8125 531.066406 526.8125 C 525.542969 526.8125 521.066406 522.335938 521.066406 516.8125 C 521.066406 511.289062 525.542969 506.8125 531.066406 506.8125 C 536.589844 506.8125 541.066406 511.289062 541.066406 516.8125 \"/>\n",
       "<path style=\"fill-rule:nonzero;fill:rgb(100%,0%,0%);fill-opacity:1;stroke-width:1;stroke-linecap:butt;stroke-linejoin:miter;stroke:rgb(0%,0%,0%);stroke-opacity:1;stroke-miterlimit:10;\" d=\"M 584.003906 439.148438 C 584.003906 444.667969 579.527344 449.148438 574.003906 449.148438 C 568.480469 449.148438 564.003906 444.667969 564.003906 439.148438 C 564.003906 433.625 568.480469 429.148438 574.003906 429.148438 C 579.527344 429.148438 584.003906 433.625 584.003906 439.148438 \"/>\n",
       "<path style=\"fill-rule:nonzero;fill:rgb(100%,0%,0%);fill-opacity:1;stroke-width:1;stroke-linecap:butt;stroke-linejoin:miter;stroke:rgb(0%,0%,0%);stroke-opacity:1;stroke-miterlimit:10;\" d=\"M 554.292969 30.21875 C 554.292969 35.742188 549.816406 40.21875 544.292969 40.21875 C 538.769531 40.21875 534.292969 35.742188 534.292969 30.21875 C 534.292969 24.695312 538.769531 20.21875 544.292969 20.21875 C 549.816406 20.21875 554.292969 24.695312 554.292969 30.21875 \"/>\n",
       "<path style=\"fill-rule:nonzero;fill:rgb(100%,0%,0%);fill-opacity:1;stroke-width:1;stroke-linecap:butt;stroke-linejoin:miter;stroke:rgb(0%,0%,0%);stroke-opacity:1;stroke-miterlimit:10;\" d=\"M 519.847656 386.65625 C 519.847656 392.179688 515.371094 396.65625 509.847656 396.65625 C 504.328125 396.65625 499.847656 392.179688 499.847656 386.65625 C 499.847656 381.132812 504.328125 376.65625 509.847656 376.65625 C 515.371094 376.65625 519.847656 381.132812 519.847656 386.65625 \"/>\n",
       "<path style=\"fill-rule:nonzero;fill:rgb(100%,0%,0%);fill-opacity:1;stroke-width:1;stroke-linecap:butt;stroke-linejoin:miter;stroke:rgb(0%,0%,0%);stroke-opacity:1;stroke-miterlimit:10;\" d=\"M 479.820312 324.519531 C 479.820312 330.042969 475.34375 334.519531 469.820312 334.519531 C 464.296875 334.519531 459.820312 330.042969 459.820312 324.519531 C 459.820312 319 464.296875 314.519531 469.820312 314.519531 C 475.34375 314.519531 479.820312 319 479.820312 324.519531 \"/>\n",
       "<path style=\"fill-rule:nonzero;fill:rgb(100%,0%,0%);fill-opacity:1;stroke-width:1;stroke-linecap:butt;stroke-linejoin:miter;stroke:rgb(0%,0%,0%);stroke-opacity:1;stroke-miterlimit:10;\" d=\"M 554.550781 154.023438 C 554.550781 159.546875 550.070312 164.023438 544.550781 164.023438 C 539.027344 164.023438 534.550781 159.546875 534.550781 154.023438 C 534.550781 148.503906 539.027344 144.023438 544.550781 144.023438 C 550.070312 144.023438 554.550781 148.503906 554.550781 154.023438 \"/>\n",
       "<path style=\"fill-rule:nonzero;fill:rgb(100%,0%,0%);fill-opacity:1;stroke-width:1;stroke-linecap:butt;stroke-linejoin:miter;stroke:rgb(0%,0%,0%);stroke-opacity:1;stroke-miterlimit:10;\" d=\"M 356.40625 169.027344 C 356.40625 174.550781 351.925781 179.027344 346.40625 179.027344 C 340.882812 179.027344 336.40625 174.550781 336.40625 169.027344 C 336.40625 163.503906 340.882812 159.027344 346.40625 159.027344 C 351.925781 159.027344 356.40625 163.503906 356.40625 169.027344 \"/>\n",
       "<path style=\"fill-rule:nonzero;fill:rgb(100%,0%,0%);fill-opacity:1;stroke-width:1;stroke-linecap:butt;stroke-linejoin:miter;stroke:rgb(0%,0%,0%);stroke-opacity:1;stroke-miterlimit:10;\" d=\"M 444.171875 373.011719 C 444.171875 378.535156 439.695312 383.011719 434.171875 383.011719 C 428.652344 383.011719 424.171875 378.535156 424.171875 373.011719 C 424.171875 367.488281 428.652344 363.011719 434.171875 363.011719 C 439.695312 363.011719 444.171875 367.488281 444.171875 373.011719 \"/>\n",
       "<path style=\"fill-rule:nonzero;fill:rgb(100%,0%,0%);fill-opacity:1;stroke-width:1;stroke-linecap:butt;stroke-linejoin:miter;stroke:rgb(0%,0%,0%);stroke-opacity:1;stroke-miterlimit:10;\" d=\"M 465.253906 174.800781 C 465.253906 180.320312 460.777344 184.800781 455.253906 184.800781 C 449.730469 184.800781 445.253906 180.320312 445.253906 174.800781 C 445.253906 169.277344 449.730469 164.800781 455.253906 164.800781 C 460.777344 164.800781 465.253906 169.277344 465.253906 174.800781 \"/>\n",
       "<path style=\"fill-rule:nonzero;fill:rgb(100%,0%,0%);fill-opacity:1;stroke-width:1;stroke-linecap:butt;stroke-linejoin:miter;stroke:rgb(0%,0%,0%);stroke-opacity:1;stroke-miterlimit:10;\" d=\"M 459.457031 212.871094 C 459.457031 218.394531 454.980469 222.871094 449.457031 222.871094 C 443.933594 222.871094 439.457031 218.394531 439.457031 212.871094 C 439.457031 207.347656 443.933594 202.871094 449.457031 202.871094 C 454.980469 202.871094 459.457031 207.347656 459.457031 212.871094 \"/>\n",
       "</g>\n",
       "</svg>\n"
      ],
      "text/plain": [
       "<igraph.drawing.Plot at 0x1a1ea3fcc0>"
      ]
     },
     "execution_count": 29,
     "metadata": {},
     "output_type": "execute_result"
    }
   ],
   "source": [
    "is_bridge = [False]*G.vcount()\n",
    "for v in range(G.vcount()):\n",
    "    H = G.copy()\n",
    "    H.delete_vertices(v)\n",
    "    is_bridge[v] = len(H.clusters()) > 1\n",
    "    \n",
    "ig.plot(G, vertex_color=is_bridge, palette=ig.RainbowPalette(2))"
   ]
  }
 ],
 "metadata": {
  "kernelspec": {
   "display_name": "igraph",
   "language": "python",
   "name": "igraph"
  },
  "language_info": {
   "codemirror_mode": {
    "name": "ipython",
    "version": 3
   },
   "file_extension": ".py",
   "mimetype": "text/x-python",
   "name": "python",
   "nbconvert_exporter": "python",
   "pygments_lexer": "ipython3",
   "version": "3.7.3"
  },
  "latex_envs": {
   "LaTeX_envs_menu_present": true,
   "autoclose": false,
   "autocomplete": true,
   "bibliofile": "biblio.bib",
   "cite_by": "apalike",
   "current_citInitial": 1,
   "eqLabelWithNumbers": true,
   "eqNumInitial": 1,
   "hotkeys": {
    "equation": "Ctrl-E",
    "itemize": "Ctrl-I"
   },
   "labels_anchors": false,
   "latex_user_defs": false,
   "report_style_numbering": false,
   "user_envs_cfg": false
  },
  "toc": {
   "nav_menu": {},
   "number_sections": true,
   "sideBar": true,
   "skip_h1_title": false,
   "title_cell": "Table of Contents",
   "title_sidebar": "Contents",
   "toc_cell": false,
   "toc_position": {
    "height": "calc(100% - 180px)",
    "left": "10px",
    "top": "150px",
    "width": "235px"
   },
   "toc_section_display": true,
   "toc_window_display": true
  }
 },
 "nbformat": 4,
 "nbformat_minor": 1
}
