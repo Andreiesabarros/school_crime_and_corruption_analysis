{
 "cells": [
  {
   "cell_type": "markdown",
   "metadata": {
    "collapsed": true
   },
   "source": [
    "# Synopsis\n",
    "\n",
    "We're going to work on a mini-project using real data on college majors that will reinforce all of the skills that we have learned up to this point."
   ]
  },
  {
   "cell_type": "markdown",
   "metadata": {
    "collapsed": true
   },
   "source": [
    "# Let's pull all the strings together!\n",
    "\n",
    "We can make plots, import libraries, write functions, read files, and, generally, just program like a unicorn.\n",
    "\n",
    "Let's work on a fun data problem together that most of us will relate to. I've gone and pulled data from [fivethirtyeight](fivethirtyeight.com) about the employability of recent college graduates. The files are in the `../Data/Day4-Dictionaries/College-Majors/` folder and each major is separated into a separate file like `recent_MAJOR.csv`.\n",
    "\n",
    "When we look at a single file it is like this:                     \n",
    "\n",
    "`\n",
    "Rank,Major_code,Major,Major_category,Total,Sample_size,Men,Women,ShareWomen,Employed,Full_time,Part_time,Full_time_year_round,Unemployed,Unemployment_rate,Median,P25th,P75th,College_jobs,Non_college_jobs,Low_wage_jobs\n",
    "20,3201,COURT REPORTING,Law & Public Policy,1148,14,877,271,0.236062718,930,808,223,808,11,0.011689692,54000,50000,54000,402,528,144\n",
    "30,5402,PUBLIC POLICY,Law & Public Policy,5978,55,2695,905,0.251388889,4547,4163,1306,2776,670,0.128426299,50000,35000,70000,1550,1871,340`\n",
    "\n",
    "So the first row is a header and then the other rows are the variables.\n",
    "\n",
    "First, let's write a function to read one file, we'll use the `recent_Arts.csv` file.\n",
    "\n",
    "The function should produce each row of real values (so not the header) as a dictionary (so pair it with the header). So like this:\n",
    "\n",
    "    {'Rank' : 20,\n",
    "     'Major_code' : 3201,\n",
    "     'Major': 'COURT REPORTING',\n",
    "     ...\n",
    "    }\n",
    "    \n",
    "And then return each of these \"line dictionaries\" as a list for the file\n",
    "\n",
    "    [ {'Rank': 20, ... }, {'Rank': 30, ..}]"
   ]
  },
  {
   "cell_type": "code",
   "execution_count": 1,
   "metadata": {
    "ExecuteTime": {
     "end_time": "2019-07-01T14:40:53.279101Z",
     "start_time": "2019-07-01T14:40:52.422636Z"
    }
   },
   "outputs": [],
   "source": [
    "%matplotlib inline"
   ]
  },
  {
   "cell_type": "code",
   "execution_count": 4,
   "metadata": {
    "ExecuteTime": {
     "end_time": "2019-07-01T14:41:37.672334Z",
     "start_time": "2019-07-01T14:41:37.665735Z"
    }
   },
   "outputs": [
    {
     "data": {
      "text/plain": [
       "[]"
      ]
     },
     "execution_count": 4,
     "metadata": {},
     "output_type": "execute_result"
    }
   ],
   "source": [
    "import os\n",
    "#Make this function work\n",
    "\n",
    "def read_major_file(filename):\n",
    "    '''\n",
    "    input:\n",
    "        filename - name of file containing csv of recent grad performance for a major\n",
    "    output:\n",
    "        majors_list - list of dictionaries, where every dictionary is a single major\n",
    "    '''\n",
    "    majors_list = []\n",
    "    \n",
    "    return majors_list\n",
    "\n",
    "\n",
    "read_major_file( os.path.join('..', 'Data', 'Day4-Dictionaries', 'College-Majors', 'recent_Arts.csv') )"
   ]
  },
  {
   "cell_type": "markdown",
   "metadata": {},
   "source": [
    "##Great!\n",
    "\n",
    "Now what we should do is read all of the files for the recent majors. Remember our friend `glob`? Also, there are other files in that directory so we'll need to use a pattern, maybe something like `recent*csv`."
   ]
  },
  {
   "cell_type": "code",
   "execution_count": 3,
   "metadata": {
    "ExecuteTime": {
     "end_time": "2019-07-01T14:41:00.087541Z",
     "start_time": "2019-07-01T14:40:59.962859Z"
    }
   },
   "outputs": [
    {
     "ename": "TypeError",
     "evalue": "join() missing 1 required positional argument: 'a'",
     "output_type": "error",
     "traceback": [
      "\u001b[0;31m----------------------------------------------------------------------\u001b[0m",
      "\u001b[0;31mTypeError\u001b[0m                            Traceback (most recent call last)",
      "\u001b[0;32m<ipython-input-3-0542865618b1>\u001b[0m in \u001b[0;36m<module>\u001b[0;34m\u001b[0m\n\u001b[1;32m     11\u001b[0m     \u001b[0;32mreturn\u001b[0m \u001b[0mmajors_list\u001b[0m\u001b[0;34m\u001b[0m\u001b[0;34m\u001b[0m\u001b[0m\n\u001b[1;32m     12\u001b[0m \u001b[0;34m\u001b[0m\u001b[0m\n\u001b[0;32m---> 13\u001b[0;31m \u001b[0mread_all_majors\u001b[0m\u001b[0;34m(\u001b[0m \u001b[0mos\u001b[0m\u001b[0;34m.\u001b[0m\u001b[0mpath\u001b[0m\u001b[0;34m.\u001b[0m\u001b[0mjoin\u001b[0m\u001b[0;34m(\u001b[0m\u001b[0;34m)\u001b[0m \u001b[0;34m)\u001b[0m\u001b[0;34m\u001b[0m\u001b[0;34m\u001b[0m\u001b[0m\n\u001b[0m",
      "\u001b[0;31mTypeError\u001b[0m: join() missing 1 required positional argument: 'a'"
     ]
    }
   ],
   "source": [
    "#Write a function to read in all majors\n",
    "def read_all_majors(glob_path):\n",
    "    '''\n",
    "    input:\n",
    "        glob_path - the path to search for the major files\n",
    "    output:\n",
    "        majors_list - list of dictionaries, a single dictionary for each major \n",
    "    '''\n",
    "    majors_list = []\n",
    "    \n",
    "    return majors_list\n",
    "\n",
    "read_all_majors( os.path.join() )"
   ]
  },
  {
   "cell_type": "markdown",
   "metadata": {},
   "source": [
    "Now let's work on plotting. I would like to compare the Employed versus Unemployed for each major.\n",
    "\n",
    "##What is a good plot to show that?"
   ]
  },
  {
   "cell_type": "code",
   "execution_count": null,
   "metadata": {
    "collapsed": true
   },
   "outputs": [],
   "source": [
    "##Plot the Employed vs Unemployed\n",
    "\n"
   ]
  },
  {
   "cell_type": "markdown",
   "metadata": {},
   "source": [
    "Great! But that plot is a bit hard to interpret that way.  We should probably color the majors by their group, that way we can look at broader patterns.\n",
    "\n",
    "I wonder how we can change our plot to do that... ([hint](http://stackoverflow.com/search?q=matplotlib+scatter+color))"
   ]
  },
  {
   "cell_type": "code",
   "execution_count": null,
   "metadata": {
    "collapsed": true
   },
   "outputs": [],
   "source": [
    "##Color by groups\n",
    "\n",
    "\n"
   ]
  },
  {
   "cell_type": "markdown",
   "metadata": {},
   "source": [
    "#Now let's move to a group level analysis\n",
    "\n",
    "I want to compare the fraction of employed people given each major category. \n",
    "\n",
    "We should plot the average and standard deviation for each group.\n",
    "\n",
    "[Does python have a standard deviation function?](http://lmgtfy.com/?q=python+standard+deviation)"
   ]
  },
  {
   "cell_type": "code",
   "execution_count": null,
   "metadata": {},
   "outputs": [],
   "source": [
    "#Plot the group averages and standard deviations\n",
    "\n",
    "    \n"
   ]
  },
  {
   "cell_type": "markdown",
   "metadata": {},
   "source": [
    "Are these group averages significantly different from each other?\n",
    "\n",
    "To test if any one of these groups differs from all of these groups we can use an [ANOVA test](https://en.wikipedia.org/wiki/Analysis_of_variance)\n",
    "\n",
    "I'll cut out the intermediate googling, and tell you that python has the [ANOVA test in the SciPy package](http://docs.scipy.org/doc/scipy-0.15.1/reference/generated/scipy.stats.f_oneway.html)"
   ]
  },
  {
   "cell_type": "code",
   "execution_count": null,
   "metadata": {
    "collapsed": true
   },
   "outputs": [],
   "source": [
    "#Test to see if the groups all have the same population mean\n"
   ]
  },
  {
   "cell_type": "markdown",
   "metadata": {},
   "source": [
    "To find out what groups significantly differ we can use pairwise t-tests to compare the samples\n",
    "\n",
    "\n",
    "SciPy has the [t-test for two samples too](http://docs.scipy.org/doc/scipy-0.14.0/reference/generated/scipy.stats.ttest_rel.html)\n",
    "\n",
    "How can we test each pair of groups? Which groups differ significantly from each other? (We'll ignore the fact that we should correct our p-values for the number of tests we're doing)."
   ]
  },
  {
   "cell_type": "code",
   "execution_count": null,
   "metadata": {
    "collapsed": true
   },
   "outputs": [],
   "source": [
    "#Test the pairwise associations\n",
    "\n"
   ]
  }
 ],
 "metadata": {
  "anaconda-cloud": {},
  "celltoolbar": "Raw Cell Format",
  "kernelspec": {
   "display_name": "Python 3",
   "language": "python",
   "name": "python3"
  },
  "language_info": {
   "codemirror_mode": {
    "name": "ipython",
    "version": 3
   },
   "file_extension": ".py",
   "mimetype": "text/x-python",
   "name": "python",
   "nbconvert_exporter": "python",
   "pygments_lexer": "ipython3",
   "version": "3.6.8"
  },
  "latex_envs": {
   "LaTeX_envs_menu_present": true,
   "autoclose": false,
   "autocomplete": true,
   "bibliofile": "biblio.bib",
   "cite_by": "apalike",
   "current_citInitial": 1,
   "eqLabelWithNumbers": true,
   "eqNumInitial": 1,
   "hotkeys": {
    "equation": "Ctrl-E",
    "itemize": "Ctrl-I"
   },
   "labels_anchors": false,
   "latex_user_defs": false,
   "report_style_numbering": false,
   "user_envs_cfg": false
  },
  "toc": {
   "nav_menu": {},
   "number_sections": true,
   "sideBar": true,
   "skip_h1_title": false,
   "title_cell": "Table of Contents",
   "title_sidebar": "Contents",
   "toc_cell": false,
   "toc_position": {},
   "toc_section_display": true,
   "toc_window_display": false
  }
 },
 "nbformat": 4,
 "nbformat_minor": 1
}
