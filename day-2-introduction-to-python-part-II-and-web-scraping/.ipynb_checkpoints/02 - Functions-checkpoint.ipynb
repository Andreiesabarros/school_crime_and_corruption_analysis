{
 "cells": [
  {
   "cell_type": "code",
   "execution_count": 1,
   "metadata": {
    "ExecuteTime": {
     "end_time": "2019-07-01T14:20:50.631188Z",
     "start_time": "2019-07-01T14:20:50.614328Z"
    }
   },
   "outputs": [
    {
     "data": {
      "text/html": [
       "<style>\n",
       "    @font-face {\n",
       "        font-family: \"Computer Modern\";\n",
       "        src: url('http://9dbb143991406a7c655e-aa5fcb0a5a4ec34cff238a2d56ca4144.r56.cf5.rackcdn.com/cmunss.otf');\n",
       "    }\n",
       "    @font-face {\n",
       "        font-family: \"Computer Modern\";\n",
       "        font-weight: bold;\n",
       "        src: url('http://9dbb143991406a7c655e-aa5fcb0a5a4ec34cff238a2d56ca4144.r56.cf5.rackcdn.com/cmunsx.otf');\n",
       "    }\n",
       "    @font-face {\n",
       "        font-family: \"Computer Modern\";\n",
       "        font-style: oblique;\n",
       "        src: url('http://9dbb143991406a7c655e-aa5fcb0a5a4ec34cff238a2d56ca4144.r56.cf5.rackcdn.com/cmunsi.otf');\n",
       "    }\n",
       "    @font-face {\n",
       "        font-family: \"Computer Modern\";\n",
       "        font-weight: bold;\n",
       "        font-style: oblique;\n",
       "        src: url('http://9dbb143991406a7c655e-aa5fcb0a5a4ec34cff238a2d56ca4144.r56.cf5.rackcdn.com/cmunso.otf');\n",
       "    }\n",
       "    h1 {\n",
       "        font-family: Helvetica, serif;\n",
       "    }\n",
       "    h4{\n",
       "        margin-top:12px;\n",
       "        margin-bottom: 3px;\n",
       "       }\n",
       "    div.text_cell_render{\n",
       "        font-family: Computer Modern, \"Helvetica Neue\", Arial, Helvetica, Geneva, sans-serif;\n",
       "        line-height: 145%;\n",
       "        font-size: 130%;\n",
       "        margin-left:auto;\n",
       "        margin-right:auto;\n",
       "    }\n",
       "    .CodeMirror{\n",
       "            font-family: \"Source Code Pro\", source-code-pro,Consolas, monospace;\n",
       "    }\n",
       "    .text_cell_render h5 {\n",
       "        font-weight: 300;\n",
       "        font-size: 22pt;\n",
       "        color: #4057A1;\n",
       "        font-style: italic;\n",
       "        margin-bottom: .5em;\n",
       "        margin-top: 0.5em;\n",
       "        display: block;\n",
       "    }\n",
       "    \n",
       "    .warning{\n",
       "        color: rgb( 240, 20, 20 )\n",
       "        }  \n",
       "</style>\n",
       "<script>\n",
       "    MathJax.Hub.Config({\n",
       "                        TeX: {\n",
       "                           extensions: [\"AMSmath.js\"]\n",
       "                           },\n",
       "                tex2jax: {\n",
       "                    inlineMath: [ ['$','$'], [\"\\\\(\",\"\\\\)\"] ],\n",
       "                    displayMath: [ ['$$','$$'], [\"\\\\[\",\"\\\\]\"] ]\n",
       "                },\n",
       "                displayAlign: 'center', // Change this to 'center' to center equations.\n",
       "                \"HTML-CSS\": {\n",
       "                    styles: {'.MathJax_Display': {\"margin\": 4}}\n",
       "                }\n",
       "        });\n",
       "</script>\n"
      ],
      "text/plain": [
       "<IPython.core.display.HTML object>"
      ]
     },
     "execution_count": 1,
     "metadata": {},
     "output_type": "execute_result"
    }
   ],
   "source": [
    "from IPython.core.display import HTML\n",
    "def css_styling():\n",
    "    styles = open(\"../Data/www/styles/custom.css\", \"r\").read()\n",
    "    return HTML(styles)\n",
    "css_styling()"
   ]
  },
  {
   "cell_type": "code",
   "execution_count": 2,
   "metadata": {
    "ExecuteTime": {
     "end_time": "2019-07-01T14:20:52.906217Z",
     "start_time": "2019-07-01T14:20:52.902886Z"
    }
   },
   "outputs": [],
   "source": [
    "# Write your imports here, so you can easily find and run them\n",
    "\n",
    "import glob\n",
    "import datetime"
   ]
  },
  {
   "cell_type": "markdown",
   "metadata": {},
   "source": [
    "# Synopsis\n",
    "\n",
    "In this unit we will learn that:\n",
    "\n",
    "1. **Modular** code is more readable, easier to maintain, and less prone to the creeping in of bugs.\n",
    "\n",
    "2. **Re-factoring** of code, that is, the re-writing and re-organizing of code, is a critical part of developing modular code.\n",
    "\n",
    "3. Functions are the underpins of modular code. They enable a programmer to avoid repeating lines of code across a project.\n",
    "\n",
    "    1. Descriptive function names increase code readability.\n",
    "    \n",
    "    2. Appropriate documentation of a function makes it easier to avoid logical errors.\n",
    "    "
   ]
  },
  {
   "cell_type": "markdown",
   "metadata": {},
   "source": [
    "+++"
   ]
  },
  {
   "cell_type": "markdown",
   "metadata": {},
   "source": [
    "# Functions\n",
    "\n",
    "**Writing modular code is good!**\n",
    "\n",
    "**Functions** are the workhorses of modular programming in Python! So, what's a function?\n",
    "\n",
    "You were actually exposed to functions when you filled in your answers to the homework questions **inside** of a function structure. So whenever you see this syntax:\n",
    "\n",
    ">    def function_name():\n",
    ">\n",
    ">        statements\n",
    ">\n",
    ">        return something\n",
    "        \n",
    "that block of code is a function. \n",
    "\n",
    "Functions help us avoid repeating the same set of statements everytime we want to repeat a task. Functions increase code readibility. Functions make code revision and updating easier (you do not have to re-do revisions in all the places of your code where the task is needed. Functions make testing of your code easier and more reliable.\n",
    "\n",
    "In order to execute the code in a function, you use the syntax `function_name()`. If you do not \"call\" your function in your code, then it is never executed.  However, the Python interpreter will still check its code for synthax errors.\n"
   ]
  },
  {
   "cell_type": "code",
   "execution_count": 3,
   "metadata": {
    "ExecuteTime": {
     "end_time": "2019-07-01T14:21:01.090962Z",
     "start_time": "2019-07-01T14:21:01.087105Z"
    }
   },
   "outputs": [],
   "source": [
    "# Let's write a really simple function -- a function that \"says hello\".\n",
    "\n",
    "def says_hello():\n",
    "    '''\n",
    "    Prints the word \"Hello\"\n",
    "    \n",
    "    input:\n",
    "        - None\n",
    "    output:\n",
    "        - None\n",
    "    '''\n",
    "    \n",
    "    print('Hello!')"
   ]
  },
  {
   "cell_type": "markdown",
   "metadata": {},
   "source": [
    "You just wrote a simple function! Notice that after writing it nothing was printed. That is because you didn't *call* the function, You only defined it so Python will know what on earth you're talking about should you so choose to write `says_hello` anywhere.\n",
    "\n",
    "You *call* a function just by writing its name along with the parentheses:"
   ]
  },
  {
   "cell_type": "code",
   "execution_count": 4,
   "metadata": {
    "ExecuteTime": {
     "end_time": "2019-07-01T14:21:06.252194Z",
     "start_time": "2019-07-01T14:21:06.246358Z"
    }
   },
   "outputs": [
    {
     "name": "stdout",
     "output_type": "stream",
     "text": [
      "Hello!\n"
     ]
    }
   ],
   "source": [
    "says_hello()"
   ]
  },
  {
   "cell_type": "markdown",
   "metadata": {},
   "source": [
    "There you go!\n",
    "\n",
    "Now let's diagram the basic parts of the syntax to give you an idea of what we are dealing with.\n",
    "\n",
    "<img src = '../images/function_annotation.png'></img>\n",
    "\n",
    "Here I allude to function inputs. Functions take in *variables* inside the parentheses. Those variables and variable names are only defined within the function. This creates a **Namespace**.  This compartmentalization of variable names makes it much easier to avoid errors due to using the name of variables defined in other parts of the code about which we may not be aware.\n",
    "\n",
    "You've already been using functions and inputs, you just didn't know it yet. Does that syntax `say_hello()` look familiar to anything that you know?\n",
    "\n",
    "How about:"
   ]
  },
  {
   "cell_type": "code",
   "execution_count": 5,
   "metadata": {
    "ExecuteTime": {
     "end_time": "2019-07-01T14:21:10.336609Z",
     "start_time": "2019-07-01T14:21:10.332957Z"
    }
   },
   "outputs": [
    {
     "name": "stdout",
     "output_type": "stream",
     "text": [
      "Hello\n"
     ]
    }
   ],
   "source": [
    "print('Hello')"
   ]
  },
  {
   "cell_type": "markdown",
   "metadata": {},
   "source": [
    "`print` is a **built-in** function. Given whatever input you pass it, the `print()` function prints that input to the screen. What happens if you do not provide an input?"
   ]
  },
  {
   "cell_type": "code",
   "execution_count": 6,
   "metadata": {
    "ExecuteTime": {
     "end_time": "2019-07-01T14:21:11.829703Z",
     "start_time": "2019-07-01T14:21:11.824199Z"
    }
   },
   "outputs": [
    {
     "name": "stdout",
     "output_type": "stream",
     "text": [
      "\n"
     ]
    }
   ],
   "source": [
    "print()"
   ]
  },
  {
   "cell_type": "markdown",
   "metadata": {},
   "source": [
    "It printed nothing, as expected.\n",
    "\n",
    "Let's create functions with more exciting transfers of data.  We will first write a `say_anything_twice()` function. It'll take as input a string and multiply it by 2 (have to say it twice!). It will then return that new string as an output. "
   ]
  },
  {
   "cell_type": "code",
   "execution_count": 7,
   "metadata": {
    "ExecuteTime": {
     "end_time": "2019-07-01T14:21:42.922763Z",
     "start_time": "2019-07-01T14:21:42.918943Z"
    }
   },
   "outputs": [],
   "source": [
    "def say_anything_twice(anything):\n",
    "    '''\n",
    "    Multiplies a string by 2\n",
    "    \n",
    "    input:\n",
    "        anything - str\n",
    "    output:\n",
    "        anything_twice - str\n",
    "    '''\n",
    "    \n",
    "    anything_twice = anything * 2\n",
    "    return anything_twice"
   ]
  },
  {
   "cell_type": "code",
   "execution_count": 8,
   "metadata": {
    "ExecuteTime": {
     "end_time": "2019-07-01T14:21:44.410703Z",
     "start_time": "2019-07-01T14:21:44.405872Z"
    }
   },
   "outputs": [
    {
     "name": "stdout",
     "output_type": "stream",
     "text": [
      "hellohello\n"
     ]
    }
   ],
   "source": [
    "print( say_anything_twice('hello') )"
   ]
  },
  {
   "cell_type": "markdown",
   "metadata": {},
   "source": [
    "**What's actually going on here?** \n",
    "\n",
    "The function took the string 'hello' as an input and assigned it **internally** to the variable `anything`. It then performed an operation on `anything` (in this case it multiplied it by 2) and assigned that value to a new variable called `anything_twice`. Finally, it **returned** `anything_twice`:\n",
    "    \n",
    ">    return anything_twice\n",
    "\n",
    "This statement returns the result of the functions operations to the place in the your code where the functions was called.\n",
    "\n",
    "The beauty of funtions, though not of this particular function which pretty much executes a single statement, is that we can call it on any string input without having to re-write a lot of code."
   ]
  },
  {
   "cell_type": "code",
   "execution_count": 9,
   "metadata": {
    "ExecuteTime": {
     "end_time": "2019-07-01T14:21:49.380516Z",
     "start_time": "2019-07-01T14:21:49.375483Z"
    }
   },
   "outputs": [
    {
     "name": "stdout",
     "output_type": "stream",
     "text": [
      "hihi\n",
      "hi hi \n",
      "hello again!hello again!\n",
      "goodbye! goodbye! \n"
     ]
    }
   ],
   "source": [
    "print( say_anything_twice('hi') )\n",
    "print( say_anything_twice('hi ') )\n",
    "print(say_anything_twice('hello again!'))\n",
    "print(say_anything_twice('goodbye! '))"
   ]
  },
  {
   "cell_type": "markdown",
   "metadata": {},
   "source": [
    "**Recall that the variables defined inside the function do not exist outside!** If we try to access `anything_twice` we get a `NameError` exception."
   ]
  },
  {
   "cell_type": "code",
   "execution_count": 10,
   "metadata": {
    "ExecuteTime": {
     "end_time": "2019-07-01T14:21:55.343333Z",
     "start_time": "2019-07-01T14:21:55.258630Z"
    }
   },
   "outputs": [
    {
     "ename": "NameError",
     "evalue": "name 'anything_twice' is not defined",
     "output_type": "error",
     "traceback": [
      "\u001b[0;31m----------------------------------------------------------------------\u001b[0m",
      "\u001b[0;31mNameError\u001b[0m                            Traceback (most recent call last)",
      "\u001b[0;32m<ipython-input-10-d8ebf0f1bf11>\u001b[0m in \u001b[0;36m<module>\u001b[0;34m\u001b[0m\n\u001b[0;32m----> 1\u001b[0;31m \u001b[0manything_twice\u001b[0m\u001b[0;34m\u001b[0m\u001b[0;34m\u001b[0m\u001b[0m\n\u001b[0m",
      "\u001b[0;31mNameError\u001b[0m: name 'anything_twice' is not defined"
     ]
    }
   ],
   "source": [
    "anything_twice"
   ]
  },
  {
   "cell_type": "markdown",
   "metadata": {},
   "source": [
    "This is and amazingly useful properties of Namespaces. We do not need to keep track of what variables are defined within the  functions we call in our code because as soon as the execution of those functions is concluded all variable defined internally to the function will be deleted.  Thus, we do not need to keep inventing new variable names.  \n",
    "\n",
    "### Sidebar: Namespaces\n",
    "\n",
    "Generally speaking, a Namespace (sometimes also called a context) is a naming system for making names unique to avoid ambiguity. A (not very good) namespacing system used in daily life is the naming of people with a firstname and a surname. A much better namespacing system is the  directory structure of file systems. The same file name can be used in different directories, the files can be uniquely accessed via the pathnames. \n",
    "\n",
    "Many programming languages use Namespaces or contexts for identifiers. An identifier defined in a Namespace is associated with that namespace. This way, the same identifier can be independently defined in multiple Namespaces. (Like the same file names in different directories) \n",
    "\n",
    "**Note that in Python we can define variables that are not limited to a given Namespace.  We can define `global` variables, and those variables will be accessible and known across all Namespaces created during the execution of your code.**\n",
    "\n",
    "\n"
   ]
  },
  {
   "cell_type": "code",
   "execution_count": 11,
   "metadata": {
    "ExecuteTime": {
     "end_time": "2019-06-23T21:27:16.565773Z",
     "start_time": "2019-06-23T21:27:16.561162Z"
    }
   },
   "outputs": [],
   "source": [
    "special_text = 'This is the best ever '\n",
    "\n",
    "def say_something_special(anything):\n",
    "    '''\n",
    "    Adds a special_text to string\n",
    "\n",
    "    input:\n",
    "        anything - str\n",
    "    output:\n",
    "        anything_twice - str\n",
    "    '''\n",
    "    \n",
    "    output = special_text + anything.upper()\n",
    "    return output"
   ]
  },
  {
   "cell_type": "code",
   "execution_count": 12,
   "metadata": {
    "ExecuteTime": {
     "end_time": "2019-06-23T21:27:20.877101Z",
     "start_time": "2019-06-23T21:27:20.871403Z"
    }
   },
   "outputs": [
    {
     "data": {
      "text/plain": [
       "'This is the best ever HELLO'"
      ]
     },
     "execution_count": 12,
     "metadata": {},
     "output_type": "execute_result"
    }
   ],
   "source": [
    "say_something_special('hello')"
   ]
  },
  {
   "cell_type": "markdown",
   "metadata": {},
   "source": [
    "In the above code, we defined a global variable `special_text`, which was accessible inside the function `say_something_special()`. \n",
    "\n",
    "Notice how this is dangerous.  What if somewhere else in the code we change the value of `special_text`? Then things could look very different.\n",
    "\n",
    "Because it may he difficult to keep track of the value of global variables, **it is not a good practice to make use of global variables in functions**.\n"
   ]
  },
  {
   "cell_type": "code",
   "execution_count": 13,
   "metadata": {
    "ExecuteTime": {
     "end_time": "2019-06-23T21:27:21.779589Z",
     "start_time": "2019-06-23T21:27:21.774593Z"
    }
   },
   "outputs": [
    {
     "data": {
      "text/plain": [
       "'This is the WORSE EVER HELLO'"
      ]
     },
     "execution_count": 13,
     "metadata": {},
     "output_type": "execute_result"
    }
   ],
   "source": [
    "special_text = \"This is the WORSE EVER \"\n",
    "say_something_special('hello')"
   ]
  },
  {
   "cell_type": "markdown",
   "metadata": {},
   "source": [
    "## So how do we use functions?\n",
    "\n",
    "A simple example is one thing, but it can be hard to figure out how we use functions in **real** code. \n",
    "\n",
    "The most powerful away in which functions can be used is as a device to sketch out what our program intends to do. To make this clear, let's go back to your administrative job and work with the `Roster` data.\n",
    "\n",
    "There are 800 student data files in the `Data/Roster` folder that need to be parsed. What we want to accomplish is something like this:\n",
    "\n",
    "    Find all files with student records\n",
    "    For each file repeat the following actions:\n",
    "            parse student record\n",
    "            calculate age of student\n",
    "            \n",
    "Each instruction in the \"code\" above is actually a function that we can write to perform the task described. Our pseudo-code also makes it clear how we could add additional calculations to our program or to take actions based on the values we calculate.\n",
    "\n",
    "Let's consider the first instruction in our pseudo-code: `Find all files with student records`.  If we are writing modular code, we are not writing all the necessary commands in our main program. Instead, we will define and write a function that will fund all student records. Since we want our code to be readable, we will call the function `find_student_records()`."
   ]
  },
  {
   "cell_type": "markdown",
   "metadata": {},
   "source": [
    "### Sketching out a function\n",
    "\n",
    "There are three basic questions that help you sketch a function:\n",
    "\n",
    "* What does this function do?\n",
    "* What inputs does this function need to do that?\n",
    "* What value(s) does the function return?\n",
    "\n",
    "The answers to these questions need to be answered before you start writing any code.  They are also the question that someone planning to use your code later will want answered.  For this reason, This is the information you **must** provide in the function's `docstring`. \n",
    "\n",
    "#### What task is the function accomplishing?\n",
    "\n",
    "The student files in our project are all in a single directory and all end with the `txt` extension.  Thus, we should write a  function that returns all of the filenames with the `txt` extension in a given directory.\n",
    "\n",
    "#### What inputs does the function require?\n",
    "\n",
    "The function needs to be given as input a directory and, if we want to be more general, an extension type.\n",
    "\n",
    "#### How should the information returned be formatted?\n",
    "\n",
    "Our function is collecting the file names of the student records. Our pseudo-code also tells us that we will be iterating through the elements in our collection.  Putting these facts together, it seems pretty clear that a good option for the output of our function is a list of file names in string form .\n",
    "\n",
    "Let's implement these decisions!\n"
   ]
  },
  {
   "cell_type": "code",
   "execution_count": 14,
   "metadata": {
    "ExecuteTime": {
     "end_time": "2019-06-23T21:27:23.039130Z",
     "start_time": "2019-06-23T21:27:23.034969Z"
    }
   },
   "outputs": [],
   "source": [
    "def find_student_records(directory):\n",
    "    \"\"\"\n",
    "    Return all roster filenames in directory\n",
    "    \n",
    "    input:\n",
    "        directory - str, Directory that contains the roster files\n",
    "    output:\n",
    "        filenames - list, List of roster filenames in directory\n",
    "    \"\"\"\n",
    "    # Statements here!\n",
    "    \n",
    "    return \n",
    "\n",
    "#assert()"
   ]
  },
  {
   "cell_type": "markdown",
   "metadata": {},
   "source": [
    "Good! If  we look at our pseudo-code for guidance, we see that we need to write two other functions: `parse_student_record()` and `calculate_age()`.  It is your turn to sketch these functions! "
   ]
  },
  {
   "cell_type": "code",
   "execution_count": 15,
   "metadata": {
    "ExecuteTime": {
     "end_time": "2019-06-23T21:27:23.904235Z",
     "start_time": "2019-06-23T21:27:23.901490Z"
    }
   },
   "outputs": [],
   "source": [
    "def parse_student_record( ):\n",
    "    \"\"\"\n",
    "    \n",
    "    \"\"\"\n",
    "    # Statements here!\n",
    "    \n",
    "    return"
   ]
  },
  {
   "cell_type": "code",
   "execution_count": 16,
   "metadata": {
    "ExecuteTime": {
     "end_time": "2019-06-23T21:27:24.269239Z",
     "start_time": "2019-06-23T21:27:24.264432Z"
    }
   },
   "outputs": [],
   "source": [
    "def calculate_age( ):\n",
    "    \"\"\"\n",
    "    \n",
    "    \"\"\"\n",
    "    # Statements here!\n",
    "    \n",
    "    return"
   ]
  },
  {
   "cell_type": "markdown",
   "metadata": {},
   "source": [
    "A very cool thing is that these sketched functions enable us to write our pseudo-code for real and to run it! Of course the code returns nothing useful but it enables us to test it as we go along. "
   ]
  },
  {
   "cell_type": "code",
   "execution_count": 18,
   "metadata": {
    "ExecuteTime": {
     "end_time": "2019-06-23T21:27:41.127191Z",
     "start_time": "2019-06-23T21:27:41.117557Z"
    }
   },
   "outputs": [
    {
     "ename": "TypeError",
     "evalue": "'NoneType' object is not iterable",
     "output_type": "error",
     "traceback": [
      "\u001b[0;31m---------------------------------------------------------------------------\u001b[0m",
      "\u001b[0;31mTypeError\u001b[0m                                 Traceback (most recent call last)",
      "\u001b[0;32m<ipython-input-18-018dcb22fd8b>\u001b[0m in \u001b[0;36m<module>\u001b[0;34m\u001b[0m\n\u001b[1;32m      1\u001b[0m \u001b[0mfilenames\u001b[0m \u001b[0;34m=\u001b[0m \u001b[0mfind_student_records\u001b[0m\u001b[0;34m(\u001b[0m\u001b[0;34m'./'\u001b[0m\u001b[0;34m)\u001b[0m\u001b[0;34m\u001b[0m\u001b[0;34m\u001b[0m\u001b[0m\n\u001b[1;32m      2\u001b[0m \u001b[0;34m\u001b[0m\u001b[0m\n\u001b[0;32m----> 3\u001b[0;31m \u001b[0;32mfor\u001b[0m \u001b[0mname\u001b[0m \u001b[0;32min\u001b[0m \u001b[0mfilenames\u001b[0m\u001b[0;34m:\u001b[0m\u001b[0;34m\u001b[0m\u001b[0;34m\u001b[0m\u001b[0m\n\u001b[0m\u001b[1;32m      4\u001b[0m     \u001b[0mdata\u001b[0m \u001b[0;34m=\u001b[0m \u001b[0mparse_student_record\u001b[0m\u001b[0;34m(\u001b[0m\u001b[0mname\u001b[0m\u001b[0;34m)\u001b[0m\u001b[0;34m\u001b[0m\u001b[0;34m\u001b[0m\u001b[0m\n\u001b[1;32m      5\u001b[0m     \u001b[0mage\u001b[0m \u001b[0;34m=\u001b[0m \u001b[0mcalculate_age\u001b[0m\u001b[0;34m(\u001b[0m\u001b[0mdata\u001b[0m\u001b[0;34m)\u001b[0m\u001b[0;34m\u001b[0m\u001b[0;34m\u001b[0m\u001b[0m\n",
      "\u001b[0;31mTypeError\u001b[0m: 'NoneType' object is not iterable"
     ]
    }
   ],
   "source": [
    "filenames = find_student_records('./')\n",
    "\n",
    "for name in filenames:\n",
    "    data = parse_student_record(name)\n",
    "    age = calculate_age(data)\n",
    "    \n"
   ]
  },
  {
   "cell_type": "markdown",
   "metadata": {},
   "source": [
    "### Adding details to the sketched out function\n",
    "\n",
    "With separate functions, it can be easy to develop and test each one without having to process the entire data set every time. Lets start by finding all the records.\n",
    "\n",
    "A powerful capability of the notebook is that it enables us to write and test a piece of code in a single cell until we are confident that it does what we want. We can then copy that code into the cell where we want to define the function.\n",
    "\n",
    "As before, let's do first things first.  Our first task is to find all student records. As any good programmer, we do not want to re-invent the wheel.  We know that `glob` is great for getting a list of filenames from a directory, so we will use it. "
   ]
  },
  {
   "cell_type": "code",
   "execution_count": 19,
   "metadata": {
    "ExecuteTime": {
     "end_time": "2019-06-23T21:27:42.408992Z",
     "start_time": "2019-06-23T21:27:42.387672Z"
    }
   },
   "outputs": [
    {
     "data": {
      "text/plain": [
       "['../Data/Day2-Collections-and-Files/Roster/Victoria_Ross_528.txt',\n",
       " '../Data/Day2-Collections-and-Files/Roster/Agatha_Young_172.txt',\n",
       " '../Data/Day2-Collections-and-Files/Roster/Lorelei_williams_221.txt',\n",
       " '../Data/Day2-Collections-and-Files/Roster/Yvonne_Butler_729.txt',\n",
       " '../Data/Day2-Collections-and-Files/Roster/Ezekiel_James_796.txt',\n",
       " '../Data/Day2-Collections-and-Files/Roster/Ernest_Wood_735.txt',\n",
       " '../Data/Day2-Collections-and-Files/Roster/Yvonne_Brooks_269.txt',\n",
       " '../Data/Day2-Collections-and-Files/Roster/Tabitha_Green_530.txt',\n",
       " '../Data/Day2-Collections-and-Files/Roster/May-Sue_Flores_464.txt',\n",
       " '../Data/Day2-Collections-and-Files/Roster/Victoria_Cox_33.txt',\n",
       " '../Data/Day2-Collections-and-Files/Roster/May-Sue_Bennett_186.txt',\n",
       " '../Data/Day2-Collections-and-Files/Roster/Ernest_Wright_278.txt',\n",
       " '../Data/Day2-Collections-and-Files/Roster/May-Sue_Clark_784.txt',\n",
       " '../Data/Day2-Collections-and-Files/Roster/Tabitha_Price_661.txt',\n",
       " '../Data/Day2-Collections-and-Files/Roster/Agatha_Sanders_385.txt',\n",
       " '../Data/Day2-Collections-and-Files/Roster/Montgomery_Russell_110.txt',\n",
       " '../Data/Day2-Collections-and-Files/Roster/Betty_Campbell_522.txt',\n",
       " '../Data/Day2-Collections-and-Files/Roster/Lorelei_Harris_126.txt',\n",
       " '../Data/Day2-Collections-and-Files/Roster/Tabitha_Ward_757.txt',\n",
       " '../Data/Day2-Collections-and-Files/Roster/Ernest_Henderson_308.txt',\n",
       " '../Data/Day2-Collections-and-Files/Roster/Orville_Coleman_582.txt',\n",
       " '../Data/Day2-Collections-and-Files/Roster/Lorelei_Richardson_763.txt',\n",
       " '../Data/Day2-Collections-and-Files/Roster/Ezekiel_Lee_225.txt',\n",
       " '../Data/Day2-Collections-and-Files/Roster/Ezekiel_Garcia_702.txt',\n",
       " '../Data/Day2-Collections-and-Files/Roster/Annabelle_Washington_8.txt',\n",
       " '../Data/Day2-Collections-and-Files/Roster/Eustace_Powell_413.txt',\n",
       " '../Data/Day2-Collections-and-Files/Roster/Ezekiel_Bryant_644.txt',\n",
       " '../Data/Day2-Collections-and-Files/Roster/Lorelei_Reed_660.txt',\n",
       " '../Data/Day2-Collections-and-Files/Roster/Zelda_Long_744.txt',\n",
       " '../Data/Day2-Collections-and-Files/Roster/Yvonne_Bailey_373.txt',\n",
       " '../Data/Day2-Collections-and-Files/Roster/Betty_Bell_614.txt',\n",
       " '../Data/Day2-Collections-and-Files/Roster/May-Sue_Bennett_12.txt',\n",
       " '../Data/Day2-Collections-and-Files/Roster/Victoria_Brown_424.txt',\n",
       " '../Data/Day2-Collections-and-Files/Roster/Howard_Rivera_539.txt',\n",
       " '../Data/Day2-Collections-and-Files/Roster/Marjorie_Patterson_60.txt',\n",
       " '../Data/Day2-Collections-and-Files/Roster/Lorelei_Brown_245.txt',\n",
       " '../Data/Day2-Collections-and-Files/Roster/Lorelei_Reed_339.txt',\n",
       " '../Data/Day2-Collections-and-Files/Roster/Eustace_Perry_0.txt',\n",
       " '../Data/Day2-Collections-and-Files/Roster/Lorelei_Turner_328.txt',\n",
       " '../Data/Day2-Collections-and-Files/Roster/Betty_Murphy_404.txt',\n",
       " '../Data/Day2-Collections-and-Files/Roster/Tabitha_Cox_98.txt',\n",
       " '../Data/Day2-Collections-and-Files/Roster/Wallace_Watson_394.txt',\n",
       " '../Data/Day2-Collections-and-Files/Roster/Agatha_Green_99.txt',\n",
       " '../Data/Day2-Collections-and-Files/Roster/Zelda_Wright_188.txt',\n",
       " '../Data/Day2-Collections-and-Files/Roster/Montgomery_Foster_193.txt',\n",
       " '../Data/Day2-Collections-and-Files/Roster/Matthias_Robinson_791.txt',\n",
       " '../Data/Day2-Collections-and-Files/Roster/May-Sue_Rogers_67.txt',\n",
       " '../Data/Day2-Collections-and-Files/Roster/Betty_Simmons_182.txt',\n",
       " '../Data/Day2-Collections-and-Files/Roster/May-Sue_Morgan_272.txt',\n",
       " '../Data/Day2-Collections-and-Files/Roster/Victoria_Campbell_506.txt',\n",
       " '../Data/Day2-Collections-and-Files/Roster/Betty_King_6.txt',\n",
       " '../Data/Day2-Collections-and-Files/Roster/Orville_Mitchell_31.txt',\n",
       " '../Data/Day2-Collections-and-Files/Roster/Eustace_Peterson_594.txt',\n",
       " '../Data/Day2-Collections-and-Files/Roster/Wallace_Perez_491.txt',\n",
       " '../Data/Day2-Collections-and-Files/Roster/Eustace_Parker_627.txt',\n",
       " '../Data/Day2-Collections-and-Files/Roster/Eustace_Jones_487.txt',\n",
       " '../Data/Day2-Collections-and-Files/Roster/Ezekiel_Price_671.txt',\n",
       " '../Data/Day2-Collections-and-Files/Roster/Wallace_Long_378.txt',\n",
       " '../Data/Day2-Collections-and-Files/Roster/Trip_Watson_261.txt',\n",
       " '../Data/Day2-Collections-and-Files/Roster/Montgomery_Phillips_749.txt',\n",
       " '../Data/Day2-Collections-and-Files/Roster/Victoria_Gray_704.txt',\n",
       " '../Data/Day2-Collections-and-Files/Roster/Lorelei_James_596.txt',\n",
       " '../Data/Day2-Collections-and-Files/Roster/Lorelei_Rodriguez_226.txt',\n",
       " '../Data/Day2-Collections-and-Files/Roster/Marjorie_Rodriguez_237.txt',\n",
       " '../Data/Day2-Collections-and-Files/Roster/Howard_Martin_691.txt',\n",
       " '../Data/Day2-Collections-and-Files/Roster/Agatha_Lee_11.txt',\n",
       " '../Data/Day2-Collections-and-Files/Roster/Ezekiel_Bailey_486.txt',\n",
       " '../Data/Day2-Collections-and-Files/Roster/Matthias_Baker_386.txt',\n",
       " '../Data/Day2-Collections-and-Files/Roster/May-Sue_Rivera_88.txt',\n",
       " '../Data/Day2-Collections-and-Files/Roster/Eustace_Evans_164.txt',\n",
       " '../Data/Day2-Collections-and-Files/Roster/Marjorie_Moore_209.txt',\n",
       " '../Data/Day2-Collections-and-Files/Roster/Annabelle_Wood_380.txt',\n",
       " '../Data/Day2-Collections-and-Files/Roster/Victoria_Hayes_606.txt',\n",
       " '../Data/Day2-Collections-and-Files/Roster/May-Sue_Collins_91.txt',\n",
       " '../Data/Day2-Collections-and-Files/Roster/Annabelle_Alexander_423.txt',\n",
       " '../Data/Day2-Collections-and-Files/Roster/Wallace_Taylor_475.txt',\n",
       " '../Data/Day2-Collections-and-Files/Roster/Yvonne_Wright_47.txt',\n",
       " '../Data/Day2-Collections-and-Files/Roster/Marjorie_Hernandez_546.txt',\n",
       " '../Data/Day2-Collections-and-Files/Roster/Howard_Powell_509.txt',\n",
       " '../Data/Day2-Collections-and-Files/Roster/Lorelei_Evans_677.txt',\n",
       " '../Data/Day2-Collections-and-Files/Roster/Lorelei_Scoot_45.txt',\n",
       " '../Data/Day2-Collections-and-Files/Roster/Tabitha_Ward_392.txt',\n",
       " '../Data/Day2-Collections-and-Files/Roster/May-Sue_Simmons_414.txt',\n",
       " '../Data/Day2-Collections-and-Files/Roster/Zelda_Cook_701.txt',\n",
       " '../Data/Day2-Collections-and-Files/Roster/Trip_Hayes_32.txt',\n",
       " '../Data/Day2-Collections-and-Files/Roster/Agatha_williams_341.txt',\n",
       " '../Data/Day2-Collections-and-Files/Roster/Orville_Parker_259.txt',\n",
       " '../Data/Day2-Collections-and-Files/Roster/Eustace_Morris_631.txt',\n",
       " '../Data/Day2-Collections-and-Files/Roster/Zelda_Gray_260.txt',\n",
       " '../Data/Day2-Collections-and-Files/Roster/Zelda_Russell_567.txt',\n",
       " '../Data/Day2-Collections-and-Files/Roster/Buzz_Carter_497.txt',\n",
       " '../Data/Day2-Collections-and-Files/Roster/Wallace_Cox_129.txt',\n",
       " '../Data/Day2-Collections-and-Files/Roster/May-Sue_Evans_303.txt',\n",
       " '../Data/Day2-Collections-and-Files/Roster/Matthias_Nelson_232.txt',\n",
       " '../Data/Day2-Collections-and-Files/Roster/Yvonne_Cook_548.txt',\n",
       " '../Data/Day2-Collections-and-Files/Roster/Tabitha_Ward_543.txt',\n",
       " '../Data/Day2-Collections-and-Files/Roster/Zelda_Rivera_535.txt',\n",
       " '../Data/Day2-Collections-and-Files/Roster/Lorelei_Parker_680.txt',\n",
       " '../Data/Day2-Collections-and-Files/Roster/Buzz_James_416.txt',\n",
       " '../Data/Day2-Collections-and-Files/Roster/Ernest_Hughes_222.txt',\n",
       " '../Data/Day2-Collections-and-Files/Roster/Ernest_Murphy_169.txt',\n",
       " '../Data/Day2-Collections-and-Files/Roster/Montgomery_Morgan_391.txt',\n",
       " '../Data/Day2-Collections-and-Files/Roster/Montgomery_Hayes_196.txt',\n",
       " '../Data/Day2-Collections-and-Files/Roster/Orville_Watson_526.txt',\n",
       " '../Data/Day2-Collections-and-Files/Roster/Zelda_Gray_112.txt',\n",
       " '../Data/Day2-Collections-and-Files/Roster/Trip_Wood_231.txt',\n",
       " '../Data/Day2-Collections-and-Files/Roster/Lorelei_Sanders_218.txt',\n",
       " '../Data/Day2-Collections-and-Files/Roster/Marjorie_Sanchez_201.txt',\n",
       " '../Data/Day2-Collections-and-Files/Roster/Orville_Lee_408.txt',\n",
       " '../Data/Day2-Collections-and-Files/Roster/May-Sue_Cooper_54.txt',\n",
       " '../Data/Day2-Collections-and-Files/Roster/Agatha_Moore_642.txt',\n",
       " '../Data/Day2-Collections-and-Files/Roster/Victoria_Evans_417.txt',\n",
       " '../Data/Day2-Collections-and-Files/Roster/Matthias_Morris_22.txt',\n",
       " '../Data/Day2-Collections-and-Files/Roster/Yvonne_Lopez_324.txt',\n",
       " '../Data/Day2-Collections-and-Files/Roster/Howard_Watson_137.txt',\n",
       " '../Data/Day2-Collections-and-Files/Roster/Montgomery_Lopez_68.txt',\n",
       " '../Data/Day2-Collections-and-Files/Roster/Howard_Barnes_568.txt',\n",
       " '../Data/Day2-Collections-and-Files/Roster/Trip_Martin_24.txt',\n",
       " '../Data/Day2-Collections-and-Files/Roster/Buzz_Davis_713.txt',\n",
       " '../Data/Day2-Collections-and-Files/Roster/Buzz_Campbell_353.txt',\n",
       " '../Data/Day2-Collections-and-Files/Roster/Ezekiel_Gonzalez_176.txt',\n",
       " '../Data/Day2-Collections-and-Files/Roster/Eustace_Long_4.txt',\n",
       " '../Data/Day2-Collections-and-Files/Roster/Ernest_Johnson_281.txt',\n",
       " '../Data/Day2-Collections-and-Files/Roster/Lorelei_James_418.txt',\n",
       " '../Data/Day2-Collections-and-Files/Roster/Victoria_Powell_725.txt',\n",
       " '../Data/Day2-Collections-and-Files/Roster/Betty_Peterson_587.txt',\n",
       " '../Data/Day2-Collections-and-Files/Roster/Annabelle_Kelly_442.txt',\n",
       " '../Data/Day2-Collections-and-Files/Roster/Betty_Harris_143.txt',\n",
       " '../Data/Day2-Collections-and-Files/Roster/Zelda_Kelly_220.txt',\n",
       " '../Data/Day2-Collections-and-Files/Roster/Matthias_Hayes_740.txt',\n",
       " '../Data/Day2-Collections-and-Files/Roster/Marjorie_Reed_584.txt',\n",
       " '../Data/Day2-Collections-and-Files/Roster/Agatha_Perry_345.txt',\n",
       " '../Data/Day2-Collections-and-Files/Roster/Agatha_Hall_651.txt',\n",
       " '../Data/Day2-Collections-and-Files/Roster/Buzz_Cox_80.txt',\n",
       " '../Data/Day2-Collections-and-Files/Roster/Yvonne_Phillips_602.txt',\n",
       " '../Data/Day2-Collections-and-Files/Roster/Tabitha_Hughes_120.txt',\n",
       " '../Data/Day2-Collections-and-Files/Roster/Tabitha_Campbell_48.txt',\n",
       " '../Data/Day2-Collections-and-Files/Roster/Howard_Diaz_234.txt',\n",
       " '../Data/Day2-Collections-and-Files/Roster/Zelda_Davis_611.txt',\n",
       " '../Data/Day2-Collections-and-Files/Roster/Eustace_Jenkins_114.txt',\n",
       " '../Data/Day2-Collections-and-Files/Roster/Ernest_Washington_349.txt',\n",
       " '../Data/Day2-Collections-and-Files/Roster/Yvonne_Hall_415.txt',\n",
       " '../Data/Day2-Collections-and-Files/Roster/Eustace_Turner_163.txt',\n",
       " '../Data/Day2-Collections-and-Files/Roster/Marjorie_Brown_347.txt',\n",
       " '../Data/Day2-Collections-and-Files/Roster/Orville_King_233.txt',\n",
       " '../Data/Day2-Collections-and-Files/Roster/Ezekiel_Ramirez_107.txt',\n",
       " '../Data/Day2-Collections-and-Files/Roster/Eustace_Griffin_326.txt',\n",
       " '../Data/Day2-Collections-and-Files/Roster/Tabitha_Torres_167.txt',\n",
       " '../Data/Day2-Collections-and-Files/Roster/Zelda_Reed_66.txt',\n",
       " '../Data/Day2-Collections-and-Files/Roster/Victoria_Brooks_51.txt',\n",
       " '../Data/Day2-Collections-and-Files/Roster/Buzz_Kelly_295.txt',\n",
       " '../Data/Day2-Collections-and-Files/Roster/May-Sue_Cooper_96.txt',\n",
       " '../Data/Day2-Collections-and-Files/Roster/Annabelle_Watson_342.txt',\n",
       " '../Data/Day2-Collections-and-Files/Roster/Marjorie_Davis_344.txt',\n",
       " '../Data/Day2-Collections-and-Files/Roster/Betty_Murphy_210.txt',\n",
       " '../Data/Day2-Collections-and-Files/Roster/Zelda_Perry_672.txt',\n",
       " '../Data/Day2-Collections-and-Files/Roster/Agatha_Russell_300.txt',\n",
       " '../Data/Day2-Collections-and-Files/Roster/Betty_Perez_626.txt',\n",
       " '../Data/Day2-Collections-and-Files/Roster/Lorelei_Clark_432.txt',\n",
       " '../Data/Day2-Collections-and-Files/Roster/Orville_Rodriguez_419.txt',\n",
       " '../Data/Day2-Collections-and-Files/Roster/Buzz_Bell_235.txt',\n",
       " '../Data/Day2-Collections-and-Files/Roster/Eustace_Russell_402.txt',\n",
       " '../Data/Day2-Collections-and-Files/Roster/Wallace_Flores_692.txt',\n",
       " '../Data/Day2-Collections-and-Files/Roster/Yvonne_Brooks_244.txt',\n",
       " '../Data/Day2-Collections-and-Files/Roster/Ernest_Bell_50.txt',\n",
       " '../Data/Day2-Collections-and-Files/Roster/Howard_Butler_115.txt',\n",
       " '../Data/Day2-Collections-and-Files/Roster/Buzz_Mitchell_407.txt',\n",
       " '../Data/Day2-Collections-and-Files/Roster/Matthias_Gonzalez_102.txt',\n",
       " '../Data/Day2-Collections-and-Files/Roster/Victoria_Collins_279.txt',\n",
       " '../Data/Day2-Collections-and-Files/Roster/May-Sue_Ward_406.txt',\n",
       " '../Data/Day2-Collections-and-Files/Roster/Zelda_Jackson_682.txt',\n",
       " '../Data/Day2-Collections-and-Files/Roster/Orville_Cox_664.txt',\n",
       " '../Data/Day2-Collections-and-Files/Roster/Annabelle_Mitchell_256.txt',\n",
       " '../Data/Day2-Collections-and-Files/Roster/Trip_Gonzalez_36.txt',\n",
       " '../Data/Day2-Collections-and-Files/Roster/Lorelei_Scoot_585.txt',\n",
       " '../Data/Day2-Collections-and-Files/Roster/Buzz_Gray_770.txt',\n",
       " '../Data/Day2-Collections-and-Files/Roster/Orville_Coleman_593.txt',\n",
       " '../Data/Day2-Collections-and-Files/Roster/Marjorie_Diaz_215.txt',\n",
       " '../Data/Day2-Collections-and-Files/Roster/Marjorie_Carter_149.txt',\n",
       " '../Data/Day2-Collections-and-Files/Roster/Howard_Sanders_292.txt',\n",
       " '../Data/Day2-Collections-and-Files/Roster/May-Sue_Powell_161.txt',\n",
       " '../Data/Day2-Collections-and-Files/Roster/Howard_Simmons_576.txt',\n",
       " '../Data/Day2-Collections-and-Files/Roster/Zelda_Thomas_117.txt',\n",
       " '../Data/Day2-Collections-and-Files/Roster/Ezekiel_Hernandez_152.txt',\n",
       " '../Data/Day2-Collections-and-Files/Roster/Trip_Jenkins_286.txt',\n",
       " '../Data/Day2-Collections-and-Files/Roster/Annabelle_Thomas_741.txt',\n",
       " '../Data/Day2-Collections-and-Files/Roster/May-Sue_Torres_531.txt',\n",
       " '../Data/Day2-Collections-and-Files/Roster/Marjorie_Alexander_395.txt',\n",
       " '../Data/Day2-Collections-and-Files/Roster/Eustace_Johnson_227.txt',\n",
       " '../Data/Day2-Collections-and-Files/Roster/Buzz_Rodriguez_358.txt',\n",
       " '../Data/Day2-Collections-and-Files/Roster/Orville_Miller_689.txt',\n",
       " '../Data/Day2-Collections-and-Files/Roster/Ezekiel_Russell_476.txt',\n",
       " '../Data/Day2-Collections-and-Files/Roster/Orville_Bennett_83.txt',\n",
       " '../Data/Day2-Collections-and-Files/Roster/Betty_Diaz_537.txt',\n",
       " '../Data/Day2-Collections-and-Files/Roster/Buzz_Gonzalez_747.txt',\n",
       " '../Data/Day2-Collections-and-Files/Roster/Eustace_Young_676.txt',\n",
       " '../Data/Day2-Collections-and-Files/Roster/Zelda_Jones_714.txt',\n",
       " '../Data/Day2-Collections-and-Files/Roster/Victoria_Morgan_236.txt',\n",
       " '../Data/Day2-Collections-and-Files/Roster/Annabelle_Morris_40.txt',\n",
       " '../Data/Day2-Collections-and-Files/Roster/Zelda_Allen_769.txt',\n",
       " '../Data/Day2-Collections-and-Files/Roster/May-Sue_Henderson_273.txt',\n",
       " '../Data/Day2-Collections-and-Files/Roster/Eustace_Hernandez_436.txt',\n",
       " '../Data/Day2-Collections-and-Files/Roster/Zelda_Davis_13.txt',\n",
       " '../Data/Day2-Collections-and-Files/Roster/May-Sue_Butler_396.txt',\n",
       " '../Data/Day2-Collections-and-Files/Roster/Montgomery_Ward_421.txt',\n",
       " '../Data/Day2-Collections-and-Files/Roster/Orville_Morris_504.txt',\n",
       " '../Data/Day2-Collections-and-Files/Roster/Eustace_Smith_285.txt',\n",
       " '../Data/Day2-Collections-and-Files/Roster/Tabitha_Jones_141.txt',\n",
       " '../Data/Day2-Collections-and-Files/Roster/Orville_Coleman_633.txt',\n",
       " '../Data/Day2-Collections-and-Files/Roster/Zelda_Roberts_134.txt',\n",
       " '../Data/Day2-Collections-and-Files/Roster/Victoria_Scoot_737.txt',\n",
       " '../Data/Day2-Collections-and-Files/Roster/Trip_Lopez_501.txt',\n",
       " '../Data/Day2-Collections-and-Files/Roster/Howard_Lee_398.txt',\n",
       " '../Data/Day2-Collections-and-Files/Roster/Betty_Cook_146.txt',\n",
       " '../Data/Day2-Collections-and-Files/Roster/Lorelei_Martinez_271.txt',\n",
       " '../Data/Day2-Collections-and-Files/Roster/Betty_Henderson_795.txt',\n",
       " '../Data/Day2-Collections-and-Files/Roster/Matthias_Johnson_84.txt',\n",
       " '../Data/Day2-Collections-and-Files/Roster/Montgomery_Scoot_610.txt',\n",
       " '../Data/Day2-Collections-and-Files/Roster/Zelda_williams_280.txt',\n",
       " '../Data/Day2-Collections-and-Files/Roster/Buzz_Robinson_148.txt',\n",
       " '../Data/Day2-Collections-and-Files/Roster/Orville_Barnes_726.txt',\n",
       " '../Data/Day2-Collections-and-Files/Roster/Buzz_Perry_503.txt',\n",
       " '../Data/Day2-Collections-and-Files/Roster/Eustace_Edwards_515.txt',\n",
       " '../Data/Day2-Collections-and-Files/Roster/Trip_Powell_217.txt',\n",
       " '../Data/Day2-Collections-and-Files/Roster/Agatha_Griffin_495.txt',\n",
       " '../Data/Day2-Collections-and-Files/Roster/Matthias_Hughes_151.txt',\n",
       " '../Data/Day2-Collections-and-Files/Roster/Wallace_Green_100.txt',\n",
       " '../Data/Day2-Collections-and-Files/Roster/Wallace_White_507.txt',\n",
       " '../Data/Day2-Collections-and-Files/Roster/Wallace_Evans_653.txt',\n",
       " '../Data/Day2-Collections-and-Files/Roster/Marjorie_Griffin_493.txt',\n",
       " '../Data/Day2-Collections-and-Files/Roster/Betty_Coleman_290.txt',\n",
       " '../Data/Day2-Collections-and-Files/Roster/Matthias_Lopez_317.txt',\n",
       " '../Data/Day2-Collections-and-Files/Roster/Trip_Campbell_496.txt',\n",
       " '../Data/Day2-Collections-and-Files/Roster/Orville_White_212.txt',\n",
       " '../Data/Day2-Collections-and-Files/Roster/Annabelle_Simmons_733.txt',\n",
       " '../Data/Day2-Collections-and-Files/Roster/Marjorie_Bailey_772.txt',\n",
       " '../Data/Day2-Collections-and-Files/Roster/May-Sue_White_195.txt',\n",
       " '../Data/Day2-Collections-and-Files/Roster/Montgomery_Garcia_123.txt',\n",
       " '../Data/Day2-Collections-and-Files/Roster/Wallace_Simmons_270.txt',\n",
       " '../Data/Day2-Collections-and-Files/Roster/Ezekiel_Robinson_431.txt',\n",
       " '../Data/Day2-Collections-and-Files/Roster/Orville_Powell_409.txt',\n",
       " '../Data/Day2-Collections-and-Files/Roster/Howard_Edwards_461.txt',\n",
       " '../Data/Day2-Collections-and-Files/Roster/Eustace_Bennett_7.txt',\n",
       " '../Data/Day2-Collections-and-Files/Roster/Eustace_Morris_484.txt',\n",
       " '../Data/Day2-Collections-and-Files/Roster/Marjorie_Washington_438.txt',\n",
       " '../Data/Day2-Collections-and-Files/Roster/Yvonne_Rivera_389.txt',\n",
       " '../Data/Day2-Collections-and-Files/Roster/Betty_Gonzalez_787.txt',\n",
       " '../Data/Day2-Collections-and-Files/Roster/Tabitha_Martin_595.txt',\n",
       " '../Data/Day2-Collections-and-Files/Roster/Montgomery_Murphy_433.txt',\n",
       " '../Data/Day2-Collections-and-Files/Roster/Yvonne_Perry_282.txt',\n",
       " '../Data/Day2-Collections-and-Files/Roster/Yvonne_Stewart_426.txt',\n",
       " '../Data/Day2-Collections-and-Files/Roster/Agatha_Jackson_454.txt',\n",
       " '../Data/Day2-Collections-and-Files/Roster/Yvonne_Bryant_305.txt',\n",
       " '../Data/Day2-Collections-and-Files/Roster/Eustace_Taylor_384.txt',\n",
       " '../Data/Day2-Collections-and-Files/Roster/Orville_Jackson_764.txt',\n",
       " '../Data/Day2-Collections-and-Files/Roster/Annabelle_Ross_275.txt',\n",
       " '../Data/Day2-Collections-and-Files/Roster/Wallace_Stewart_489.txt',\n",
       " '../Data/Day2-Collections-and-Files/Roster/Marjorie_Robinson_471.txt',\n",
       " '../Data/Day2-Collections-and-Files/Roster/Eustace_Hernandez_242.txt',\n",
       " '../Data/Day2-Collections-and-Files/Roster/Victoria_Green_136.txt',\n",
       " '../Data/Day2-Collections-and-Files/Roster/Agatha_Lewis_683.txt',\n",
       " '../Data/Day2-Collections-and-Files/Roster/Lorelei_Morris_597.txt',\n",
       " '../Data/Day2-Collections-and-Files/Roster/Howard_Ross_608.txt',\n",
       " '../Data/Day2-Collections-and-Files/Roster/Orville_Garcia_679.txt',\n",
       " '../Data/Day2-Collections-and-Files/Roster/Eustace_Green_291.txt',\n",
       " '../Data/Day2-Collections-and-Files/Roster/Orville_Miller_767.txt',\n",
       " '../Data/Day2-Collections-and-Files/Roster/Victoria_White_21.txt',\n",
       " '../Data/Day2-Collections-and-Files/Roster/Yvonne_Garcia_645.txt',\n",
       " '../Data/Day2-Collections-and-Files/Roster/Trip_Perry_276.txt',\n",
       " '../Data/Day2-Collections-and-Files/Roster/Trip_Brooks_207.txt',\n",
       " '../Data/Day2-Collections-and-Files/Roster/Trip_Griffin_774.txt',\n",
       " '../Data/Day2-Collections-and-Files/Roster/Betty_Evans_393.txt',\n",
       " '../Data/Day2-Collections-and-Files/Roster/Marjorie_Alexander_723.txt',\n",
       " '../Data/Day2-Collections-and-Files/Roster/Tabitha_williams_635.txt',\n",
       " '../Data/Day2-Collections-and-Files/Roster/Orville_Coleman_327.txt',\n",
       " '../Data/Day2-Collections-and-Files/Roster/Howard_Collins_332.txt',\n",
       " '../Data/Day2-Collections-and-Files/Roster/May-Sue_Hayes_203.txt',\n",
       " '../Data/Day2-Collections-and-Files/Roster/May-Sue_Foster_370.txt',\n",
       " '../Data/Day2-Collections-and-Files/Roster/Zelda_Thomas_199.txt',\n",
       " '../Data/Day2-Collections-and-Files/Roster/Buzz_Wright_329.txt',\n",
       " '../Data/Day2-Collections-and-Files/Roster/Montgomery_Carter_363.txt',\n",
       " '../Data/Day2-Collections-and-Files/Roster/Marjorie_Coleman_788.txt',\n",
       " '../Data/Day2-Collections-and-Files/Roster/Annabelle_Foster_621.txt',\n",
       " '../Data/Day2-Collections-and-Files/Roster/Eustace_Thompson_518.txt',\n",
       " '../Data/Day2-Collections-and-Files/Roster/Orville_Price_751.txt',\n",
       " '../Data/Day2-Collections-and-Files/Roster/Ezekiel_Hall_253.txt',\n",
       " '../Data/Day2-Collections-and-Files/Roster/Ernest_Barnes_90.txt',\n",
       " '../Data/Day2-Collections-and-Files/Roster/Agatha_Wright_505.txt',\n",
       " '../Data/Day2-Collections-and-Files/Roster/Tabitha_Hill_422.txt',\n",
       " '../Data/Day2-Collections-and-Files/Roster/Zelda_Evans_640.txt',\n",
       " '../Data/Day2-Collections-and-Files/Roster/Annabelle_Torres_159.txt',\n",
       " '../Data/Day2-Collections-and-Files/Roster/Ezekiel_Roberts_250.txt',\n",
       " '../Data/Day2-Collections-and-Files/Roster/Betty_Watson_500.txt',\n",
       " '../Data/Day2-Collections-and-Files/Roster/Tabitha_Rogers_469.txt',\n",
       " '../Data/Day2-Collections-and-Files/Roster/Annabelle_Ramirez_727.txt',\n",
       " '../Data/Day2-Collections-and-Files/Roster/Ezekiel_Martin_700.txt',\n",
       " '../Data/Day2-Collections-and-Files/Roster/Annabelle_Bailey_28.txt',\n",
       " '../Data/Day2-Collections-and-Files/Roster/Matthias_Foster_446.txt',\n",
       " '../Data/Day2-Collections-and-Files/Roster/Annabelle_Flores_381.txt',\n",
       " '../Data/Day2-Collections-and-Files/Roster/Matthias_Bell_563.txt',\n",
       " '../Data/Day2-Collections-and-Files/Roster/Tabitha_Bailey_470.txt',\n",
       " '../Data/Day2-Collections-and-Files/Roster/Lorelei_Wright_310.txt',\n",
       " '../Data/Day2-Collections-and-Files/Roster/Annabelle_Mitchell_346.txt',\n",
       " '../Data/Day2-Collections-and-Files/Roster/Matthias_Thomas_219.txt',\n",
       " '../Data/Day2-Collections-and-Files/Roster/Betty_Bennett_710.txt',\n",
       " '../Data/Day2-Collections-and-Files/Roster/May-Sue_Kelly_174.txt',\n",
       " '../Data/Day2-Collections-and-Files/Roster/Buzz_Parker_340.txt',\n",
       " '../Data/Day2-Collections-and-Files/Roster/Betty_Brooks_698.txt',\n",
       " '../Data/Day2-Collections-and-Files/Roster/Buzz_Baker_618.txt',\n",
       " '../Data/Day2-Collections-and-Files/Roster/Trip_Robinson_371.txt',\n",
       " '../Data/Day2-Collections-and-Files/Roster/Ernest_Griffin_695.txt',\n",
       " '../Data/Day2-Collections-and-Files/Roster/Lorelei_Carter_427.txt',\n",
       " '../Data/Day2-Collections-and-Files/Roster/Annabelle_Rivera_472.txt',\n",
       " '../Data/Day2-Collections-and-Files/Roster/Annabelle_Bailey_401.txt',\n",
       " '../Data/Day2-Collections-and-Files/Roster/Buzz_King_534.txt',\n",
       " '../Data/Day2-Collections-and-Files/Roster/Wallace_Ramirez_648.txt',\n",
       " '../Data/Day2-Collections-and-Files/Roster/May-Sue_King_374.txt',\n",
       " '../Data/Day2-Collections-and-Files/Roster/Trip_Rogers_265.txt',\n",
       " '../Data/Day2-Collections-and-Files/Roster/Montgomery_Wright_119.txt',\n",
       " '../Data/Day2-Collections-and-Files/Roster/Yvonne_Peterson_56.txt',\n",
       " '../Data/Day2-Collections-and-Files/Roster/Matthias_Wood_57.txt',\n",
       " '../Data/Day2-Collections-and-Files/Roster/Zelda_Brooks_229.txt',\n",
       " '../Data/Day2-Collections-and-Files/Roster/May-Sue_Garcia_166.txt',\n",
       " '../Data/Day2-Collections-and-Files/Roster/Trip_Baker_383.txt',\n",
       " '../Data/Day2-Collections-and-Files/Roster/Yvonne_Hernandez_612.txt',\n",
       " '../Data/Day2-Collections-and-Files/Roster/Wallace_Perry_760.txt',\n",
       " '../Data/Day2-Collections-and-Files/Roster/Orville_Brown_411.txt',\n",
       " '../Data/Day2-Collections-and-Files/Roster/Trip_Kelly_230.txt',\n",
       " '../Data/Day2-Collections-and-Files/Roster/Lorelei_Thompson_581.txt',\n",
       " '../Data/Day2-Collections-and-Files/Roster/Orville_Allen_390.txt',\n",
       " '../Data/Day2-Collections-and-Files/Roster/Wallace_Young_430.txt',\n",
       " '../Data/Day2-Collections-and-Files/Roster/Agatha_Jones_652.txt',\n",
       " '../Data/Day2-Collections-and-Files/Roster/Buzz_Griffin_694.txt',\n",
       " '../Data/Day2-Collections-and-Files/Roster/Trip_Hayes_185.txt',\n",
       " '../Data/Day2-Collections-and-Files/Roster/Yvonne_Nelson_734.txt',\n",
       " '../Data/Day2-Collections-and-Files/Roster/Agatha_Perez_717.txt',\n",
       " '../Data/Day2-Collections-and-Files/Roster/Orville_Davis_189.txt',\n",
       " '../Data/Day2-Collections-and-Files/Roster/Tabitha_Richardson_756.txt',\n",
       " '../Data/Day2-Collections-and-Files/Roster/May-Sue_Gray_352.txt',\n",
       " '../Data/Day2-Collections-and-Files/Roster/Buzz_Peterson_768.txt',\n",
       " '../Data/Day2-Collections-and-Files/Roster/Zelda_James_43.txt',\n",
       " '../Data/Day2-Collections-and-Files/Roster/May-Sue_Robinson_42.txt',\n",
       " '../Data/Day2-Collections-and-Files/Roster/Wallace_Green_258.txt',\n",
       " '../Data/Day2-Collections-and-Files/Roster/Zelda_Nelson_249.txt',\n",
       " '../Data/Day2-Collections-and-Files/Roster/Montgomery_Lewis_410.txt',\n",
       " '../Data/Day2-Collections-and-Files/Roster/Matthias_Richardson_320.txt',\n",
       " '../Data/Day2-Collections-and-Files/Roster/Wallace_Cox_588.txt',\n",
       " '../Data/Day2-Collections-and-Files/Roster/Annabelle_Smith_263.txt',\n",
       " '../Data/Day2-Collections-and-Files/Roster/Eustace_Hughes_458.txt',\n",
       " '../Data/Day2-Collections-and-Files/Roster/Trip_Coleman_468.txt',\n",
       " '../Data/Day2-Collections-and-Files/Roster/Howard_Jackson_622.txt',\n",
       " '../Data/Day2-Collections-and-Files/Roster/Matthias_Perez_437.txt',\n",
       " '../Data/Day2-Collections-and-Files/Roster/Trip_Martinez_158.txt',\n",
       " '../Data/Day2-Collections-and-Files/Roster/Buzz_Henderson_562.txt',\n",
       " '../Data/Day2-Collections-and-Files/Roster/Howard_Morris_405.txt',\n",
       " '../Data/Day2-Collections-and-Files/Roster/Ezekiel_Edwards_177.txt',\n",
       " '../Data/Day2-Collections-and-Files/Roster/Trip_Johnson_707.txt',\n",
       " '../Data/Day2-Collections-and-Files/Roster/Ezekiel_Price_366.txt',\n",
       " '../Data/Day2-Collections-and-Files/Roster/Agatha_Green_150.txt',\n",
       " '../Data/Day2-Collections-and-Files/Roster/Ernest_Adams_556.txt',\n",
       " '../Data/Day2-Collections-and-Files/Roster/Betty_Watson_673.txt',\n",
       " '../Data/Day2-Collections-and-Files/Roster/Montgomery_Morgan_650.txt',\n",
       " '../Data/Day2-Collections-and-Files/Roster/Zelda_Thompson_224.txt',\n",
       " '../Data/Day2-Collections-and-Files/Roster/Orville_Johnson_460.txt',\n",
       " '../Data/Day2-Collections-and-Files/Roster/Trip_Carter_632.txt',\n",
       " '../Data/Day2-Collections-and-Files/Roster/Trip_Jones_69.txt',\n",
       " '../Data/Day2-Collections-and-Files/Roster/Eustace_Reed_330.txt',\n",
       " '../Data/Day2-Collections-and-Files/Roster/Marjorie_Hughes_25.txt',\n",
       " '../Data/Day2-Collections-and-Files/Roster/Ezekiel_Cox_86.txt',\n",
       " '../Data/Day2-Collections-and-Files/Roster/Tabitha_Morris_762.txt',\n",
       " '../Data/Day2-Collections-and-Files/Roster/Wallace_Watson_287.txt',\n",
       " '../Data/Day2-Collections-and-Files/Roster/May-Sue_Watson_510.txt',\n",
       " '../Data/Day2-Collections-and-Files/Roster/Lorelei_Lee_412.txt',\n",
       " '../Data/Day2-Collections-and-Files/Roster/Eustace_Thompson_132.txt',\n",
       " '../Data/Day2-Collections-and-Files/Roster/Orville_Alexander_127.txt',\n",
       " '../Data/Day2-Collections-and-Files/Roster/Agatha_Brooks_78.txt',\n",
       " '../Data/Day2-Collections-and-Files/Roster/Tabitha_Alexander_135.txt',\n",
       " '../Data/Day2-Collections-and-Files/Roster/Lorelei_Harris_197.txt',\n",
       " '../Data/Day2-Collections-and-Files/Roster/Marjorie_williams_779.txt',\n",
       " '../Data/Day2-Collections-and-Files/Roster/Ezekiel_Allen_16.txt',\n",
       " '../Data/Day2-Collections-and-Files/Roster/Wallace_Morris_264.txt',\n",
       " '../Data/Day2-Collections-and-Files/Roster/Ezekiel_Scoot_30.txt',\n",
       " '../Data/Day2-Collections-and-Files/Roster/Matthias_Evans_440.txt',\n",
       " '../Data/Day2-Collections-and-Files/Roster/Lorelei_Martinez_171.txt',\n",
       " '../Data/Day2-Collections-and-Files/Roster/Eustace_Simmons_529.txt',\n",
       " '../Data/Day2-Collections-and-Files/Roster/Marjorie_Ramirez_775.txt',\n",
       " '../Data/Day2-Collections-and-Files/Roster/Agatha_Peterson_65.txt',\n",
       " '../Data/Day2-Collections-and-Files/Roster/Orville_Perez_10.txt',\n",
       " '../Data/Day2-Collections-and-Files/Roster/May-Sue_Murphy_716.txt',\n",
       " '../Data/Day2-Collections-and-Files/Roster/Victoria_Jenkins_715.txt',\n",
       " '../Data/Day2-Collections-and-Files/Roster/Eustace_Jenkins_175.txt',\n",
       " '../Data/Day2-Collections-and-Files/Roster/Marjorie_Taylor_20.txt',\n",
       " '../Data/Day2-Collections-and-Files/Roster/Betty_Powell_288.txt',\n",
       " '../Data/Day2-Collections-and-Files/Roster/Montgomery_King_590.txt',\n",
       " '../Data/Day2-Collections-and-Files/Roster/Buzz_Allen_634.txt',\n",
       " '../Data/Day2-Collections-and-Files/Roster/Trip_Edwards_2.txt',\n",
       " '../Data/Day2-Collections-and-Files/Roster/Wallace_Nelson_553.txt',\n",
       " '../Data/Day2-Collections-and-Files/Roster/May-Sue_Miller_131.txt',\n",
       " '../Data/Day2-Collections-and-Files/Roster/Matthias_Scoot_789.txt',\n",
       " '../Data/Day2-Collections-and-Files/Roster/Zelda_Sanchez_558.txt',\n",
       " '../Data/Day2-Collections-and-Files/Roster/Betty_Kelly_382.txt',\n",
       " '../Data/Day2-Collections-and-Files/Roster/Ezekiel_Gonzalez_498.txt',\n",
       " '../Data/Day2-Collections-and-Files/Roster/Yvonne_Nelson_246.txt',\n",
       " '../Data/Day2-Collections-and-Files/Roster/Ernest_King_540.txt',\n",
       " '../Data/Day2-Collections-and-Files/Roster/Howard_Morris_566.txt',\n",
       " '../Data/Day2-Collections-and-Files/Roster/Victoria_Wright_519.txt',\n",
       " '../Data/Day2-Collections-and-Files/Roster/May-Sue_Thomas_138.txt',\n",
       " '../Data/Day2-Collections-and-Files/Roster/Tabitha_Carter_773.txt',\n",
       " '../Data/Day2-Collections-and-Files/Roster/Betty_Robinson_277.txt',\n",
       " '../Data/Day2-Collections-and-Files/Roster/May-Sue_Washington_109.txt',\n",
       " '../Data/Day2-Collections-and-Files/Roster/Ezekiel_Hall_268.txt',\n",
       " '../Data/Day2-Collections-and-Files/Roster/Betty_Davis_23.txt',\n",
       " '../Data/Day2-Collections-and-Files/Roster/Wallace_Flores_551.txt',\n",
       " '../Data/Day2-Collections-and-Files/Roster/Victoria_Rivera_574.txt',\n",
       " '../Data/Day2-Collections-and-Files/Roster/Agatha_Stewart_759.txt',\n",
       " '../Data/Day2-Collections-and-Files/Roster/Victoria_Brown_709.txt',\n",
       " '../Data/Day2-Collections-and-Files/Roster/Eustace_Bailey_555.txt',\n",
       " '../Data/Day2-Collections-and-Files/Roster/Agatha_Phillips_38.txt',\n",
       " '../Data/Day2-Collections-and-Files/Roster/Annabelle_James_306.txt',\n",
       " '../Data/Day2-Collections-and-Files/Roster/Tabitha_Wright_520.txt',\n",
       " '../Data/Day2-Collections-and-Files/Roster/Betty_Parker_241.txt',\n",
       " '../Data/Day2-Collections-and-Files/Roster/Marjorie_Moore_325.txt',\n",
       " '../Data/Day2-Collections-and-Files/Roster/Orville_Bell_473.txt',\n",
       " '../Data/Day2-Collections-and-Files/Roster/Agatha_Young_124.txt',\n",
       " '../Data/Day2-Collections-and-Files/Roster/Howard_Carter_547.txt',\n",
       " '../Data/Day2-Collections-and-Files/Roster/Victoria_Moore_699.txt',\n",
       " '../Data/Day2-Collections-and-Files/Roster/Tabitha_Cooper_302.txt',\n",
       " '../Data/Day2-Collections-and-Files/Roster/Ezekiel_Cook_665.txt',\n",
       " '../Data/Day2-Collections-and-Files/Roster/Ezekiel_Miller_502.txt',\n",
       " '../Data/Day2-Collections-and-Files/Roster/Trip_Walker_360.txt',\n",
       " '../Data/Day2-Collections-and-Files/Roster/Howard_Scoot_121.txt',\n",
       " '../Data/Day2-Collections-and-Files/Roster/Eustace_Rogers_743.txt',\n",
       " '../Data/Day2-Collections-and-Files/Roster/May-Sue_Kelly_745.txt',\n",
       " '../Data/Day2-Collections-and-Files/Roster/Victoria_Simmons_580.txt',\n",
       " '../Data/Day2-Collections-and-Files/Roster/Ezekiel_Wright_591.txt',\n",
       " '../Data/Day2-Collections-and-Files/Roster/Howard_Coleman_669.txt',\n",
       " '../Data/Day2-Collections-and-Files/Roster/Annabelle_Robinson_248.txt',\n",
       " '../Data/Day2-Collections-and-Files/Roster/Tabitha_Hayes_155.txt',\n",
       " '../Data/Day2-Collections-and-Files/Roster/Montgomery_Ward_467.txt',\n",
       " '../Data/Day2-Collections-and-Files/Roster/Orville_Coleman_463.txt',\n",
       " '../Data/Day2-Collections-and-Files/Roster/Trip_Collins_255.txt',\n",
       " '../Data/Day2-Collections-and-Files/Roster/Howard_Kelly_639.txt',\n",
       " '../Data/Day2-Collections-and-Files/Roster/Howard_Nelson_738.txt',\n",
       " '../Data/Day2-Collections-and-Files/Roster/May-Sue_Jenkins_140.txt',\n",
       " '../Data/Day2-Collections-and-Files/Roster/Victoria_Torres_523.txt',\n",
       " '../Data/Day2-Collections-and-Files/Roster/Trip_Reed_348.txt',\n",
       " '../Data/Day2-Collections-and-Files/Roster/Buzz_King_311.txt',\n",
       " '../Data/Day2-Collections-and-Files/Roster/Yvonne_Bailey_655.txt',\n",
       " '../Data/Day2-Collections-and-Files/Roster/Tabitha_Davis_613.txt',\n",
       " '../Data/Day2-Collections-and-Files/Roster/Wallace_Brooks_649.txt',\n",
       " '../Data/Day2-Collections-and-Files/Roster/Howard_Carter_619.txt',\n",
       " '../Data/Day2-Collections-and-Files/Roster/Eustace_Wilson_144.txt',\n",
       " '../Data/Day2-Collections-and-Files/Roster/Buzz_Wilson_641.txt',\n",
       " '../Data/Day2-Collections-and-Files/Roster/Orville_williams_570.txt',\n",
       " '../Data/Day2-Collections-and-Files/Roster/Howard_Murphy_605.txt',\n",
       " '../Data/Day2-Collections-and-Files/Roster/Eustace_Edwards_656.txt',\n",
       " '../Data/Day2-Collections-and-Files/Roster/Trip_Henderson_499.txt',\n",
       " '../Data/Day2-Collections-and-Files/Roster/Trip_Jenkins_44.txt',\n",
       " '../Data/Day2-Collections-and-Files/Roster/Buzz_Baker_565.txt',\n",
       " '../Data/Day2-Collections-and-Files/Roster/Buzz_Wilson_318.txt',\n",
       " '../Data/Day2-Collections-and-Files/Roster/Eustace_Edwards_441.txt',\n",
       " '../Data/Day2-Collections-and-Files/Roster/Zelda_Alexander_799.txt',\n",
       " '../Data/Day2-Collections-and-Files/Roster/Annabelle_Jones_125.txt',\n",
       " '../Data/Day2-Collections-and-Files/Roster/Ezekiel_Gray_53.txt',\n",
       " '../Data/Day2-Collections-and-Files/Roster/Yvonne_Richardson_439.txt',\n",
       " '../Data/Day2-Collections-and-Files/Roster/Zelda_Perry_781.txt',\n",
       " '../Data/Day2-Collections-and-Files/Roster/Agatha_Carter_359.txt',\n",
       " '../Data/Day2-Collections-and-Files/Roster/Agatha_Long_483.txt',\n",
       " '../Data/Day2-Collections-and-Files/Roster/Ezekiel_Cox_586.txt',\n",
       " '../Data/Day2-Collections-and-Files/Roster/Ezekiel_Rogers_420.txt',\n",
       " '../Data/Day2-Collections-and-Files/Roster/Ernest_Perez_624.txt',\n",
       " '../Data/Day2-Collections-and-Files/Roster/Orville_Washington_205.txt',\n",
       " '../Data/Day2-Collections-and-Files/Roster/May-Sue_Johnson_462.txt',\n",
       " '../Data/Day2-Collections-and-Files/Roster/Trip_Thomas_191.txt',\n",
       " '../Data/Day2-Collections-and-Files/Roster/Orville_Perry_721.txt',\n",
       " '../Data/Day2-Collections-and-Files/Roster/May-Sue_Turner_322.txt',\n",
       " '../Data/Day2-Collections-and-Files/Roster/Howard_Ross_577.txt',\n",
       " '../Data/Day2-Collections-and-Files/Roster/Howard_Stewart_1.txt',\n",
       " '../Data/Day2-Collections-and-Files/Roster/Matthias_Edwards_296.txt',\n",
       " '../Data/Day2-Collections-and-Files/Roster/Marjorie_Ramirez_181.txt',\n",
       " '../Data/Day2-Collections-and-Files/Roster/Wallace_Cox_356.txt',\n",
       " '../Data/Day2-Collections-and-Files/Roster/Ernest_Price_41.txt',\n",
       " '../Data/Day2-Collections-and-Files/Roster/Matthias_Thompson_508.txt',\n",
       " '../Data/Day2-Collections-and-Files/Roster/Matthias_Lee_643.txt',\n",
       " '../Data/Day2-Collections-and-Files/Roster/Lorelei_Cox_670.txt',\n",
       " '../Data/Day2-Collections-and-Files/Roster/Ernest_Mitchell_783.txt',\n",
       " '../Data/Day2-Collections-and-Files/Roster/Orville_Nelson_316.txt',\n",
       " '../Data/Day2-Collections-and-Files/Roster/Agatha_Wood_552.txt',\n",
       " '../Data/Day2-Collections-and-Files/Roster/May-Sue_Perry_705.txt',\n",
       " '../Data/Day2-Collections-and-Files/Roster/Ezekiel_Adams_298.txt',\n",
       " '../Data/Day2-Collections-and-Files/Roster/Trip_Martinez_545.txt',\n",
       " '../Data/Day2-Collections-and-Files/Roster/Ernest_King_162.txt',\n",
       " '../Data/Day2-Collections-and-Files/Roster/May-Sue_Stewart_708.txt',\n",
       " '../Data/Day2-Collections-and-Files/Roster/May-Sue_Sanders_238.txt',\n",
       " '../Data/Day2-Collections-and-Files/Roster/Matthias_Lopez_490.txt',\n",
       " '../Data/Day2-Collections-and-Files/Roster/Wallace_Baker_94.txt',\n",
       " '../Data/Day2-Collections-and-Files/Roster/Trip_Sanchez_377.txt',\n",
       " '../Data/Day2-Collections-and-Files/Roster/Tabitha_James_667.txt',\n",
       " '../Data/Day2-Collections-and-Files/Roster/Orville_Green_192.txt',\n",
       " '../Data/Day2-Collections-and-Files/Roster/Betty_Bailey_18.txt',\n",
       " '../Data/Day2-Collections-and-Files/Roster/Ernest_Clark_771.txt',\n",
       " '../Data/Day2-Collections-and-Files/Roster/Lorelei_Griffin_666.txt',\n",
       " '../Data/Day2-Collections-and-Files/Roster/Montgomery_Foster_448.txt',\n",
       " '../Data/Day2-Collections-and-Files/Roster/Eustace_Peterson_477.txt',\n",
       " '../Data/Day2-Collections-and-Files/Roster/May-Sue_Coleman_647.txt',\n",
       " '../Data/Day2-Collections-and-Files/Roster/Matthias_Perry_786.txt',\n",
       " '../Data/Day2-Collections-and-Files/Roster/Lorelei_Young_444.txt',\n",
       " '../Data/Day2-Collections-and-Files/Roster/Trip_Bennett_34.txt',\n",
       " '../Data/Day2-Collections-and-Files/Roster/Montgomery_Wright_92.txt',\n",
       " '../Data/Day2-Collections-and-Files/Roster/Zelda_Jenkins_569.txt',\n",
       " '../Data/Day2-Collections-and-Files/Roster/Yvonne_Roberts_722.txt',\n",
       " '../Data/Day2-Collections-and-Files/Roster/Ezekiel_Barnes_620.txt',\n",
       " '../Data/Day2-Collections-and-Files/Roster/Buzz_Miller_173.txt',\n",
       " '../Data/Day2-Collections-and-Files/Roster/Lorelei_Carter_599.txt',\n",
       " '../Data/Day2-Collections-and-Files/Roster/Ezekiel_Moore_429.txt',\n",
       " '../Data/Day2-Collections-and-Files/Roster/Victoria_Kelly_719.txt',\n",
       " '../Data/Day2-Collections-and-Files/Roster/Marjorie_Kelly_294.txt',\n",
       " '../Data/Day2-Collections-and-Files/Roster/Montgomery_Johnson_615.txt',\n",
       " '../Data/Day2-Collections-and-Files/Roster/Trip_Thompson_202.txt',\n",
       " '../Data/Day2-Collections-and-Files/Roster/Trip_Washington_213.txt',\n",
       " '../Data/Day2-Collections-and-Files/Roster/Eustace_Lee_157.txt',\n",
       " '../Data/Day2-Collections-and-Files/Roster/Yvonne_Cooper_106.txt',\n",
       " '../Data/Day2-Collections-and-Files/Roster/Tabitha_Diaz_480.txt',\n",
       " '../Data/Day2-Collections-and-Files/Roster/Buzz_Adams_457.txt',\n",
       " '../Data/Day2-Collections-and-Files/Roster/Betty_Lee_512.txt',\n",
       " '../Data/Day2-Collections-and-Files/Roster/Lorelei_Bell_450.txt',\n",
       " '../Data/Day2-Collections-and-Files/Roster/May-Sue_Griffin_589.txt',\n",
       " '../Data/Day2-Collections-and-Files/Roster/Yvonne_Hayes_142.txt',\n",
       " '../Data/Day2-Collections-and-Files/Roster/Montgomery_White_453.txt',\n",
       " '../Data/Day2-Collections-and-Files/Roster/Ernest_Russell_623.txt',\n",
       " '../Data/Day2-Collections-and-Files/Roster/Wallace_Evans_314.txt',\n",
       " '../Data/Day2-Collections-and-Files/Roster/Yvonne_Garcia_659.txt',\n",
       " '../Data/Day2-Collections-and-Files/Roster/Annabelle_Roberts_755.txt',\n",
       " '../Data/Day2-Collections-and-Files/Roster/Montgomery_Scoot_179.txt',\n",
       " '../Data/Day2-Collections-and-Files/Roster/Tabitha_Long_663.txt',\n",
       " '../Data/Day2-Collections-and-Files/Roster/Trip_Thomas_223.txt',\n",
       " '../Data/Day2-Collections-and-Files/Roster/Trip_Thompson_776.txt',\n",
       " '../Data/Day2-Collections-and-Files/Roster/Wallace_White_252.txt',\n",
       " '../Data/Day2-Collections-and-Files/Roster/Marjorie_Henderson_629.txt',\n",
       " '../Data/Day2-Collections-and-Files/Roster/Tabitha_Ross_630.txt',\n",
       " '../Data/Day2-Collections-and-Files/Roster/Matthias_Ramirez_447.txt',\n",
       " '../Data/Day2-Collections-and-Files/Roster/Wallace_Turner_459.txt',\n",
       " '../Data/Day2-Collections-and-Files/Roster/Marjorie_Collins_564.txt',\n",
       " '../Data/Day2-Collections-and-Files/Roster/Victoria_Stewart_154.txt',\n",
       " '../Data/Day2-Collections-and-Files/Roster/Agatha_Smith_274.txt',\n",
       " '../Data/Day2-Collections-and-Files/Roster/Lorelei_Miller_49.txt',\n",
       " '../Data/Day2-Collections-and-Files/Roster/Eustace_Garcia_550.txt',\n",
       " '../Data/Day2-Collections-and-Files/Roster/May-Sue_Jenkins_542.txt',\n",
       " '../Data/Day2-Collections-and-Files/Roster/Lorelei_Barnes_333.txt',\n",
       " '../Data/Day2-Collections-and-Files/Roster/Trip_Peterson_214.txt',\n",
       " '../Data/Day2-Collections-and-Files/Roster/Zelda_Torres_299.txt',\n",
       " '../Data/Day2-Collections-and-Files/Roster/Howard_Sanchez_168.txt',\n",
       " '../Data/Day2-Collections-and-Files/Roster/Agatha_Lopez_399.txt',\n",
       " '../Data/Day2-Collections-and-Files/Roster/Annabelle_Green_797.txt',\n",
       " '../Data/Day2-Collections-and-Files/Roster/Lorelei_Phillips_600.txt',\n",
       " '../Data/Day2-Collections-and-Files/Roster/Eustace_Scoot_228.txt',\n",
       " '../Data/Day2-Collections-and-Files/Roster/Trip_Bell_711.txt',\n",
       " '../Data/Day2-Collections-and-Files/Roster/Trip_Rogers_321.txt',\n",
       " '../Data/Day2-Collections-and-Files/Roster/Howard_Jackson_617.txt',\n",
       " '../Data/Day2-Collections-and-Files/Roster/Marjorie_Morris_247.txt',\n",
       " '../Data/Day2-Collections-and-Files/Roster/Marjorie_Bryant_29.txt',\n",
       " '../Data/Day2-Collections-and-Files/Roster/Betty_Hall_513.txt',\n",
       " '../Data/Day2-Collections-and-Files/Roster/Buzz_Roberts_289.txt',\n",
       " '../Data/Day2-Collections-and-Files/Roster/Buzz_Sanders_662.txt',\n",
       " '../Data/Day2-Collections-and-Files/Roster/Orville_Watson_97.txt',\n",
       " '../Data/Day2-Collections-and-Files/Roster/Wallace_Anderson_147.txt',\n",
       " '../Data/Day2-Collections-and-Files/Roster/Zelda_Diaz_37.txt',\n",
       " '../Data/Day2-Collections-and-Files/Roster/Ezekiel_Sanchez_337.txt',\n",
       " '../Data/Day2-Collections-and-Files/Roster/May-Sue_Hughes_70.txt',\n",
       " '../Data/Day2-Collections-and-Files/Roster/Buzz_Hayes_75.txt',\n",
       " '../Data/Day2-Collections-and-Files/Roster/Howard_Ramirez_118.txt',\n",
       " '../Data/Day2-Collections-and-Files/Roster/Buzz_Hayes_758.txt',\n",
       " '../Data/Day2-Collections-and-Files/Roster/Orville_Butler_81.txt',\n",
       " '../Data/Day2-Collections-and-Files/Roster/Orville_Bailey_254.txt',\n",
       " '../Data/Day2-Collections-and-Files/Roster/Annabelle_Wilson_367.txt',\n",
       " '../Data/Day2-Collections-and-Files/Roster/Annabelle_Thomas_113.txt',\n",
       " '../Data/Day2-Collections-and-Files/Roster/Tabitha_Allen_180.txt',\n",
       " '../Data/Day2-Collections-and-Files/Roster/Buzz_Green_76.txt',\n",
       " '../Data/Day2-Collections-and-Files/Roster/Wallace_Ramirez_685.txt',\n",
       " '../Data/Day2-Collections-and-Files/Roster/Marjorie_Baker_122.txt',\n",
       " '../Data/Day2-Collections-and-Files/Roster/Matthias_Brown_64.txt',\n",
       " '../Data/Day2-Collections-and-Files/Roster/Marjorie_Thomas_116.txt',\n",
       " '../Data/Day2-Collections-and-Files/Roster/Yvonne_Rodriguez_746.txt',\n",
       " '../Data/Day2-Collections-and-Files/Roster/Agatha_Smith_465.txt',\n",
       " '../Data/Day2-Collections-and-Files/Roster/Ernest_Young_578.txt',\n",
       " '../Data/Day2-Collections-and-Files/Roster/Ezekiel_Martin_524.txt',\n",
       " '../Data/Day2-Collections-and-Files/Roster/Matthias_Collins_703.txt',\n",
       " '../Data/Day2-Collections-and-Files/Roster/Victoria_Rodriguez_525.txt',\n",
       " '../Data/Day2-Collections-and-Files/Roster/Wallace_James_554.txt',\n",
       " '../Data/Day2-Collections-and-Files/Roster/Zelda_Watson_434.txt',\n",
       " '../Data/Day2-Collections-and-Files/Roster/Eustace_Edwards_445.txt',\n",
       " '../Data/Day2-Collections-and-Files/Roster/Trip_Hernandez_400.txt',\n",
       " '../Data/Day2-Collections-and-Files/Roster/Lorelei_Anderson_479.txt',\n",
       " '../Data/Day2-Collections-and-Files/Roster/Eustace_Taylor_160.txt',\n",
       " '../Data/Day2-Collections-and-Files/Roster/Tabitha_Walker_17.txt',\n",
       " '../Data/Day2-Collections-and-Files/Roster/Wallace_Gray_790.txt',\n",
       " '../Data/Day2-Collections-and-Files/Roster/Montgomery_Young_362.txt',\n",
       " '../Data/Day2-Collections-and-Files/Roster/Howard_Nelson_304.txt',\n",
       " '../Data/Day2-Collections-and-Files/Roster/Orville_Richardson_309.txt',\n",
       " '../Data/Day2-Collections-and-Files/Roster/May-Sue_Wright_343.txt',\n",
       " '../Data/Day2-Collections-and-Files/Roster/Orville_Gonzalez_428.txt',\n",
       " '../Data/Day2-Collections-and-Files/Roster/Eustace_Ward_105.txt',\n",
       " '../Data/Day2-Collections-and-Files/Roster/Tabitha_Bennett_435.txt',\n",
       " '../Data/Day2-Collections-and-Files/Roster/Agatha_Nelson_686.txt',\n",
       " '../Data/Day2-Collections-and-Files/Roster/Betty_Lee_312.txt',\n",
       " '../Data/Day2-Collections-and-Files/Roster/May-Sue_Perry_79.txt',\n",
       " '../Data/Day2-Collections-and-Files/Roster/Marjorie_Hayes_696.txt',\n",
       " '../Data/Day2-Collections-and-Files/Roster/Howard_Sanders_5.txt',\n",
       " '../Data/Day2-Collections-and-Files/Roster/Matthias_Davis_536.txt',\n",
       " '../Data/Day2-Collections-and-Files/Roster/May-Sue_Diaz_739.txt',\n",
       " '../Data/Day2-Collections-and-Files/Roster/Marjorie_James_170.txt',\n",
       " '../Data/Day2-Collections-and-Files/Roster/Eustace_Cook_350.txt',\n",
       " '../Data/Day2-Collections-and-Files/Roster/Ezekiel_Rodriguez_675.txt',\n",
       " '../Data/Day2-Collections-and-Files/Roster/May-Sue_Thompson_9.txt',\n",
       " '../Data/Day2-Collections-and-Files/Roster/Betty_Barnes_178.txt',\n",
       " '../Data/Day2-Collections-and-Files/Roster/Lorelei_Thomas_730.txt',\n",
       " '../Data/Day2-Collections-and-Files/Roster/Ezekiel_williams_145.txt',\n",
       " '../Data/Day2-Collections-and-Files/Roster/Montgomery_Lewis_521.txt',\n",
       " '../Data/Day2-Collections-and-Files/Roster/Ernest_Wilson_71.txt',\n",
       " '../Data/Day2-Collections-and-Files/Roster/May-Sue_Murphy_194.txt',\n",
       " '../Data/Day2-Collections-and-Files/Roster/Wallace_Peterson_766.txt',\n",
       " '../Data/Day2-Collections-and-Files/Roster/Howard_Lewis_782.txt',\n",
       " '../Data/Day2-Collections-and-Files/Roster/Yvonne_Long_706.txt',\n",
       " '../Data/Day2-Collections-and-Files/Roster/Montgomery_Barnes_765.txt',\n",
       " '../Data/Day2-Collections-and-Files/Roster/Howard_Patterson_449.txt',\n",
       " '../Data/Day2-Collections-and-Files/Roster/Trip_Griffin_319.txt',\n",
       " '../Data/Day2-Collections-and-Files/Roster/Ernest_Evans_425.txt',\n",
       " '../Data/Day2-Collections-and-Files/Roster/Zelda_Thompson_103.txt',\n",
       " '../Data/Day2-Collections-and-Files/Roster/Eustace_Rodriguez_19.txt',\n",
       " '../Data/Day2-Collections-and-Files/Roster/Yvonne_Miller_693.txt',\n",
       " '../Data/Day2-Collections-and-Files/Roster/Montgomery_Martinez_165.txt',\n",
       " '../Data/Day2-Collections-and-Files/Roster/Zelda_Thomas_331.txt',\n",
       " '../Data/Day2-Collections-and-Files/Roster/Trip_Sanchez_712.txt',\n",
       " '../Data/Day2-Collections-and-Files/Roster/Wallace_Henderson_403.txt',\n",
       " '../Data/Day2-Collections-and-Files/Roster/Wallace_Davis_544.txt',\n",
       " '../Data/Day2-Collections-and-Files/Roster/Matthias_Hill_532.txt',\n",
       " '../Data/Day2-Collections-and-Files/Roster/Matthias_Phillips_351.txt',\n",
       " '../Data/Day2-Collections-and-Files/Roster/Agatha_Thomas_284.txt',\n",
       " '../Data/Day2-Collections-and-Files/Roster/Victoria_Walker_443.txt',\n",
       " '../Data/Day2-Collections-and-Files/Roster/Annabelle_Collins_794.txt',\n",
       " '../Data/Day2-Collections-and-Files/Roster/Lorelei_Cox_82.txt',\n",
       " '../Data/Day2-Collections-and-Files/Roster/Agatha_Murphy_130.txt',\n",
       " '../Data/Day2-Collections-and-Files/Roster/Eustace_Long_15.txt',\n",
       " '../Data/Day2-Collections-and-Files/Roster/Matthias_Wood_451.txt',\n",
       " '../Data/Day2-Collections-and-Files/Roster/Zelda_Mitchell_592.txt',\n",
       " '../Data/Day2-Collections-and-Files/Roster/Ezekiel_Garcia_681.txt',\n",
       " '../Data/Day2-Collections-and-Files/Roster/Orville_Roberts_293.txt',\n",
       " '../Data/Day2-Collections-and-Files/Roster/Agatha_Thomas_657.txt',\n",
       " '../Data/Day2-Collections-and-Files/Roster/Zelda_Brown_609.txt',\n",
       " '../Data/Day2-Collections-and-Files/Roster/Betty_Morris_603.txt',\n",
       " '../Data/Day2-Collections-and-Files/Roster/Eustace_Martin_184.txt',\n",
       " '../Data/Day2-Collections-and-Files/Roster/Trip_Hill_638.txt',\n",
       " '../Data/Day2-Collections-and-Files/Roster/Orville_Hall_579.txt',\n",
       " '../Data/Day2-Collections-and-Files/Roster/Zelda_Smith_85.txt',\n",
       " '../Data/Day2-Collections-and-Files/Roster/Yvonne_Rogers_216.txt',\n",
       " '../Data/Day2-Collections-and-Files/Roster/Ernest_Wood_73.txt',\n",
       " '../Data/Day2-Collections-and-Files/Roster/Eustace_Scoot_488.txt',\n",
       " '../Data/Day2-Collections-and-Files/Roster/Betty_Walker_575.txt',\n",
       " '../Data/Day2-Collections-and-Files/Roster/Matthias_Watson_101.txt',\n",
       " '../Data/Day2-Collections-and-Files/Roster/Howard_Ramirez_369.txt',\n",
       " '../Data/Day2-Collections-and-Files/Roster/Trip_Miller_35.txt',\n",
       " '../Data/Day2-Collections-and-Files/Roster/Wallace_Moore_355.txt',\n",
       " '../Data/Day2-Collections-and-Files/Roster/Buzz_Alexander_754.txt',\n",
       " '../Data/Day2-Collections-and-Files/Roster/Victoria_Russell_72.txt',\n",
       " '../Data/Day2-Collections-and-Files/Roster/Ezekiel_Hayes_668.txt',\n",
       " '../Data/Day2-Collections-and-Files/Roster/Trip_Lopez_527.txt',\n",
       " '../Data/Day2-Collections-and-Files/Roster/Eustace_Hall_481.txt',\n",
       " '../Data/Day2-Collections-and-Files/Roster/Agatha_Jackson_560.txt',\n",
       " '../Data/Day2-Collections-and-Files/Roster/Matthias_Scoot_336.txt',\n",
       " '../Data/Day2-Collections-and-Files/Roster/Zelda_Diaz_87.txt',\n",
       " '../Data/Day2-Collections-and-Files/Roster/Yvonne_Bennett_108.txt',\n",
       " '../Data/Day2-Collections-and-Files/Roster/Matthias_Perez_511.txt',\n",
       " '../Data/Day2-Collections-and-Files/Roster/Betty_Rogers_684.txt',\n",
       " '../Data/Day2-Collections-and-Files/Roster/Wallace_Stewart_52.txt',\n",
       " '../Data/Day2-Collections-and-Files/Roster/Ernest_Powell_239.txt',\n",
       " '../Data/Day2-Collections-and-Files/Roster/Agatha_Bailey_798.txt',\n",
       " '../Data/Day2-Collections-and-Files/Roster/Tabitha_Ross_736.txt',\n",
       " '../Data/Day2-Collections-and-Files/Roster/Tabitha_Adams_388.txt',\n",
       " '../Data/Day2-Collections-and-Files/Roster/Trip_Martinez_678.txt',\n",
       " '../Data/Day2-Collections-and-Files/Roster/Wallace_Bailey_492.txt',\n",
       " '../Data/Day2-Collections-and-Files/Roster/Yvonne_Reed_674.txt',\n",
       " '../Data/Day2-Collections-and-Files/Roster/Tabitha_Jones_211.txt',\n",
       " '../Data/Day2-Collections-and-Files/Roster/Tabitha_Alexander_561.txt',\n",
       " '../Data/Day2-Collections-and-Files/Roster/Orville_Martinez_785.txt',\n",
       " '../Data/Day2-Collections-and-Files/Roster/Ezekiel_Watson_625.txt',\n",
       " '../Data/Day2-Collections-and-Files/Roster/Montgomery_Campbell_61.txt',\n",
       " '../Data/Day2-Collections-and-Files/Roster/Betty_Sanchez_266.txt',\n",
       " '../Data/Day2-Collections-and-Files/Roster/Betty_williams_301.txt',\n",
       " '../Data/Day2-Collections-and-Files/Roster/Eustace_Ross_533.txt',\n",
       " '../Data/Day2-Collections-and-Files/Roster/Annabelle_Torres_654.txt',\n",
       " '../Data/Day2-Collections-and-Files/Roster/Annabelle_Jackson_452.txt',\n",
       " '../Data/Day2-Collections-and-Files/Roster/Tabitha_Bailey_368.txt',\n",
       " '../Data/Day2-Collections-and-Files/Roster/Wallace_Carter_557.txt',\n",
       " '../Data/Day2-Collections-and-Files/Roster/Tabitha_Bryant_156.txt',\n",
       " '../Data/Day2-Collections-and-Files/Roster/Buzz_Torres_598.txt',\n",
       " '../Data/Day2-Collections-and-Files/Roster/Zelda_Hughes_455.txt',\n",
       " '../Data/Day2-Collections-and-Files/Roster/Eustace_King_474.txt',\n",
       " '../Data/Day2-Collections-and-Files/Roster/Tabitha_Cox_748.txt',\n",
       " '../Data/Day2-Collections-and-Files/Roster/Agatha_Campbell_372.txt',\n",
       " '../Data/Day2-Collections-and-Files/Roster/Orville_Hughes_466.txt',\n",
       " '../Data/Day2-Collections-and-Files/Roster/Annabelle_Johnson_208.txt',\n",
       " '../Data/Day2-Collections-and-Files/Roster/Eustace_Sanders_26.txt',\n",
       " '../Data/Day2-Collections-and-Files/Roster/Marjorie_Flores_307.txt',\n",
       " '../Data/Day2-Collections-and-Files/Roster/Zelda_Simmons_778.txt',\n",
       " '../Data/Day2-Collections-and-Files/Roster/Yvonne_Jones_365.txt',\n",
       " '../Data/Day2-Collections-and-Files/Roster/Eustace_Lee_646.txt',\n",
       " '../Data/Day2-Collections-and-Files/Roster/Ezekiel_Perez_59.txt',\n",
       " '../Data/Day2-Collections-and-Files/Roster/Eustace_Wright_731.txt',\n",
       " '../Data/Day2-Collections-and-Files/Roster/Yvonne_Adams_571.txt',\n",
       " '../Data/Day2-Collections-and-Files/Roster/May-Sue_Wilson_718.txt',\n",
       " '../Data/Day2-Collections-and-Files/Roster/Yvonne_Thomas_262.txt',\n",
       " '../Data/Day2-Collections-and-Files/Roster/Montgomery_Russell_494.txt',\n",
       " '../Data/Day2-Collections-and-Files/Roster/Betty_Rodriguez_338.txt',\n",
       " '../Data/Day2-Collections-and-Files/Roster/Ernest_Nelson_111.txt',\n",
       " '../Data/Day2-Collections-and-Files/Roster/Trip_Foster_153.txt',\n",
       " '../Data/Day2-Collections-and-Files/Roster/Orville_Walker_335.txt',\n",
       " '../Data/Day2-Collections-and-Files/Roster/Ernest_Anderson_697.txt',\n",
       " '../Data/Day2-Collections-and-Files/Roster/Agatha_Nelson_793.txt',\n",
       " '../Data/Day2-Collections-and-Files/Roster/May-Sue_Kelly_720.txt',\n",
       " '../Data/Day2-Collections-and-Files/Roster/May-Sue_Anderson_93.txt',\n",
       " '../Data/Day2-Collections-and-Files/Roster/Yvonne_Allen_687.txt',\n",
       " '../Data/Day2-Collections-and-Files/Roster/Orville_Lee_3.txt',\n",
       " '../Data/Day2-Collections-and-Files/Roster/Howard_Cooper_55.txt',\n",
       " '../Data/Day2-Collections-and-Files/Roster/Marjorie_Barnes_538.txt',\n",
       " '../Data/Day2-Collections-and-Files/Roster/Lorelei_Garcia_742.txt',\n",
       " '../Data/Day2-Collections-and-Files/Roster/Tabitha_Perry_761.txt',\n",
       " '../Data/Day2-Collections-and-Files/Roster/Howard_Nelson_601.txt',\n",
       " '../Data/Day2-Collections-and-Files/Roster/Betty_Reed_62.txt',\n",
       " '../Data/Day2-Collections-and-Files/Roster/Eustace_Foster_58.txt',\n",
       " '../Data/Day2-Collections-and-Files/Roster/Zelda_Brooks_323.txt',\n",
       " '../Data/Day2-Collections-and-Files/Roster/Tabitha_Watson_313.txt',\n",
       " '../Data/Day2-Collections-and-Files/Roster/Marjorie_White_628.txt',\n",
       " '../Data/Day2-Collections-and-Files/Roster/Howard_Kelly_516.txt',\n",
       " '../Data/Day2-Collections-and-Files/Roster/Montgomery_Bailey_753.txt',\n",
       " '../Data/Day2-Collections-and-Files/Roster/Wallace_Morgan_104.txt',\n",
       " '../Data/Day2-Collections-and-Files/Roster/Buzz_Wright_187.txt',\n",
       " '../Data/Day2-Collections-and-Files/Roster/Zelda_Simmons_379.txt',\n",
       " '../Data/Day2-Collections-and-Files/Roster/Lorelei_Jones_777.txt',\n",
       " '../Data/Day2-Collections-and-Files/Roster/Zelda_Clark_240.txt',\n",
       " '../Data/Day2-Collections-and-Files/Roster/Howard_Foster_375.txt',\n",
       " '../Data/Day2-Collections-and-Files/Roster/Tabitha_Rodriguez_204.txt',\n",
       " '../Data/Day2-Collections-and-Files/Roster/Orville_Walker_724.txt',\n",
       " '../Data/Day2-Collections-and-Files/Roster/Zelda_Wright_636.txt',\n",
       " '../Data/Day2-Collections-and-Files/Roster/Matthias_Turner_128.txt',\n",
       " '../Data/Day2-Collections-and-Files/Roster/Matthias_Hernandez_183.txt',\n",
       " '../Data/Day2-Collections-and-Files/Roster/Marjorie_Turner_361.txt',\n",
       " '../Data/Day2-Collections-and-Files/Roster/Yvonne_Hughes_267.txt',\n",
       " '../Data/Day2-Collections-and-Files/Roster/Zelda_Sanchez_690.txt',\n",
       " '../Data/Day2-Collections-and-Files/Roster/Buzz_Taylor_200.txt',\n",
       " '../Data/Day2-Collections-and-Files/Roster/Matthias_Cooper_549.txt',\n",
       " '../Data/Day2-Collections-and-Files/Roster/Buzz_Moore_478.txt',\n",
       " '../Data/Day2-Collections-and-Files/Roster/Agatha_Perez_387.txt',\n",
       " '../Data/Day2-Collections-and-Files/Roster/Montgomery_Griffin_604.txt',\n",
       " '../Data/Day2-Collections-and-Files/Roster/Tabitha_Baker_257.txt',\n",
       " '../Data/Day2-Collections-and-Files/Roster/Ernest_King_139.txt',\n",
       " '../Data/Day2-Collections-and-Files/Roster/Buzz_Washington_485.txt',\n",
       " '../Data/Day2-Collections-and-Files/Roster/Ezekiel_Thompson_334.txt',\n",
       " '../Data/Day2-Collections-and-Files/Roster/Tabitha_Sanders_190.txt',\n",
       " '../Data/Day2-Collections-and-Files/Roster/Orville_Ramirez_198.txt',\n",
       " '../Data/Day2-Collections-and-Files/Roster/Agatha_Jones_573.txt',\n",
       " '../Data/Day2-Collections-and-Files/Roster/Ezekiel_Henderson_514.txt',\n",
       " '../Data/Day2-Collections-and-Files/Roster/Ernest_Johnson_658.txt',\n",
       " '../Data/Day2-Collections-and-Files/Roster/Marjorie_Jenkins_89.txt',\n",
       " '../Data/Day2-Collections-and-Files/Roster/Buzz_Allen_77.txt',\n",
       " '../Data/Day2-Collections-and-Files/Roster/Victoria_Ross_732.txt',\n",
       " '../Data/Day2-Collections-and-Files/Roster/Victoria_Garcia_27.txt',\n",
       " '../Data/Day2-Collections-and-Files/Roster/Victoria_Watson_315.txt',\n",
       " '../Data/Day2-Collections-and-Files/Roster/Montgomery_Alexander_397.txt',\n",
       " '../Data/Day2-Collections-and-Files/Roster/Zelda_Baker_206.txt',\n",
       " '../Data/Day2-Collections-and-Files/Roster/Victoria_Roberts_616.txt',\n",
       " '../Data/Day2-Collections-and-Files/Roster/Wallace_Morgan_517.txt',\n",
       " '../Data/Day2-Collections-and-Files/Roster/Ernest_Flores_688.txt',\n",
       " '../Data/Day2-Collections-and-Files/Roster/Annabelle_Brown_133.txt',\n",
       " '../Data/Day2-Collections-and-Files/Roster/Matthias_Johnson_572.txt',\n",
       " '../Data/Day2-Collections-and-Files/Roster/Annabelle_Wood_74.txt',\n",
       " '../Data/Day2-Collections-and-Files/Roster/Yvonne_Bell_95.txt',\n",
       " '../Data/Day2-Collections-and-Files/Roster/Orville_Miller_482.txt',\n",
       " '../Data/Day2-Collections-and-Files/Roster/Marjorie_Lee_559.txt',\n",
       " '../Data/Day2-Collections-and-Files/Roster/Betty_Wood_541.txt',\n",
       " '../Data/Day2-Collections-and-Files/Roster/Ernest_Simmons_243.txt',\n",
       " '../Data/Day2-Collections-and-Files/Roster/Ernest_Henderson_728.txt',\n",
       " '../Data/Day2-Collections-and-Files/Roster/Yvonne_Carter_251.txt',\n",
       " '../Data/Day2-Collections-and-Files/Roster/Zelda_Collins_39.txt',\n",
       " '../Data/Day2-Collections-and-Files/Roster/Howard_Foster_376.txt',\n",
       " '../Data/Day2-Collections-and-Files/Roster/Howard_Ward_354.txt',\n",
       " '../Data/Day2-Collections-and-Files/Roster/Tabitha_Adams_364.txt',\n",
       " '../Data/Day2-Collections-and-Files/Roster/Ezekiel_Gonzalez_46.txt',\n",
       " '../Data/Day2-Collections-and-Files/Roster/Montgomery_Bryant_792.txt',\n",
       " '../Data/Day2-Collections-and-Files/Roster/Ernest_Harris_750.txt',\n",
       " '../Data/Day2-Collections-and-Files/Roster/Marjorie_Baker_752.txt',\n",
       " '../Data/Day2-Collections-and-Files/Roster/Matthias_Stewart_357.txt',\n",
       " '../Data/Day2-Collections-and-Files/Roster/Eustace_Jenkins_297.txt',\n",
       " '../Data/Day2-Collections-and-Files/Roster/Lorelei_Young_780.txt',\n",
       " '../Data/Day2-Collections-and-Files/Roster/Tabitha_Robinson_583.txt',\n",
       " '../Data/Day2-Collections-and-Files/Roster/Tabitha_Wilson_14.txt',\n",
       " '../Data/Day2-Collections-and-Files/Roster/Ezekiel_Washington_456.txt',\n",
       " '../Data/Day2-Collections-and-Files/Roster/Yvonne_Jones_607.txt',\n",
       " '../Data/Day2-Collections-and-Files/Roster/Matthias_Lewis_283.txt',\n",
       " '../Data/Day2-Collections-and-Files/Roster/Zelda_Nelson_63.txt',\n",
       " '../Data/Day2-Collections-and-Files/Roster/Tabitha_Griffin_637.txt']"
      ]
     },
     "execution_count": 19,
     "metadata": {},
     "output_type": "execute_result"
    }
   ],
   "source": [
    "glob.glob('../Data/Day2-Collections-and-Files/Roster/*.txt')"
   ]
  },
  {
   "cell_type": "markdown",
   "metadata": {},
   "source": [
    "The command above works fine. However, it is **not general**, and it does not store its output. We want to make inputs and outputs very clear. The **input** is the directory and the **output** must be stored in a list."
   ]
  },
  {
   "cell_type": "code",
   "execution_count": 20,
   "metadata": {
    "ExecuteTime": {
     "end_time": "2019-06-23T21:27:43.361462Z",
     "start_time": "2019-06-23T21:27:43.351736Z"
    }
   },
   "outputs": [
    {
     "data": {
      "text/plain": [
       "['../Data/Day2-Collections-and-Files/Roster/Victoria_Ross_528.txt',\n",
       " '../Data/Day2-Collections-and-Files/Roster/Agatha_Young_172.txt',\n",
       " '../Data/Day2-Collections-and-Files/Roster/Lorelei_williams_221.txt',\n",
       " '../Data/Day2-Collections-and-Files/Roster/Yvonne_Butler_729.txt',\n",
       " '../Data/Day2-Collections-and-Files/Roster/Ezekiel_James_796.txt']"
      ]
     },
     "execution_count": 20,
     "metadata": {},
     "output_type": "execute_result"
    }
   ],
   "source": [
    "directory = '../Data/Day2-Collections-and-Files/Roster'\n",
    "\n",
    "filenames = glob.glob(directory + '/*.txt')\n",
    "\n",
    "filenames[:5]"
   ]
  },
  {
   "cell_type": "markdown",
   "metadata": {},
   "source": [
    "Now just wrap the code that we've written into a function"
   ]
  },
  {
   "cell_type": "code",
   "execution_count": 21,
   "metadata": {
    "ExecuteTime": {
     "end_time": "2019-06-23T21:27:44.242669Z",
     "start_time": "2019-06-23T21:27:44.238901Z"
    }
   },
   "outputs": [],
   "source": [
    "def find_student_records(directory):\n",
    "    \"\"\"\n",
    "    Return all roster filenames in a directory\n",
    "    input:\n",
    "        directory - str, Directory that contains the roster files\n",
    "    output:\n",
    "        filenames - list, List of roster filenames in directory\n",
    "    \"\"\"\n",
    "    # Statements here!\n",
    "    \n",
    "    return filenames"
   ]
  },
  {
   "cell_type": "markdown",
   "metadata": {},
   "source": [
    "Let's make sure that we get the answer we expect when we run the function using the directory string `../Data/Day2-Collections-and-Files/Roster/` as the input."
   ]
  },
  {
   "cell_type": "code",
   "execution_count": 22,
   "metadata": {
    "ExecuteTime": {
     "end_time": "2019-06-23T21:27:45.103240Z",
     "start_time": "2019-06-23T21:27:45.097553Z"
    }
   },
   "outputs": [
    {
     "data": {
      "text/plain": [
       "['../Data/Day2-Collections-and-Files/Roster/Victoria_Ross_528.txt',\n",
       " '../Data/Day2-Collections-and-Files/Roster/Agatha_Young_172.txt',\n",
       " '../Data/Day2-Collections-and-Files/Roster/Lorelei_williams_221.txt',\n",
       " '../Data/Day2-Collections-and-Files/Roster/Yvonne_Butler_729.txt',\n",
       " '../Data/Day2-Collections-and-Files/Roster/Ezekiel_James_796.txt']"
      ]
     },
     "execution_count": 22,
     "metadata": {},
     "output_type": "execute_result"
    }
   ],
   "source": [
    "find_student_records('../Data/Day2-Collections-and-Files/Roster/')[:5]"
   ]
  },
  {
   "cell_type": "markdown",
   "metadata": {},
   "source": [
    "### Doing it for the other functions now!\n",
    "\n",
    "In order to get the information we need for each student, we need to parse the content of each file.  In order to do this, it is important to recall what the content of the files looks like:\n",
    "\n",
    "\n",
    "    #This is a file that holds important personal information that should not be shared. \n",
    "    #You are being watched.\n",
    "\n",
    "\n",
    "\n",
    "    Name:\tBuzz M. Baker\n",
    "    Date of Birth:\t4/20/87\n",
    "    Email Address:\tbuzz.baker@northwestern.edu\n",
    "    Department:\tEngineering\n",
    "    Height:\t5ft,3in\n",
    "    Weight:\t194lbs\n",
    "    Favorite Color:\tPink\n",
    "    Favorite Animal:\tSnake\n",
    "    Zodiac Sign:\tApril\n"
   ]
  },
  {
   "cell_type": "markdown",
   "metadata": {},
   "source": [
    "As before, we first sketch out the function `parse_student_record()`. We get the `path` for the file from the list `filenames`. We must open the file and read its lines."
   ]
  },
  {
   "cell_type": "code",
   "execution_count": 23,
   "metadata": {
    "ExecuteTime": {
     "end_time": "2019-06-23T21:27:46.369274Z",
     "start_time": "2019-06-23T21:27:46.366026Z"
    }
   },
   "outputs": [],
   "source": [
    "path = '../Data/Day2-Collections-and-Files/Roster/Agatha_Bailey_798.txt'\n",
    "\n",
    "# open the file and read the lines\n",
    "# for each line in the file:\n",
    "    # check if the line should be ignored\n",
    "    # else:\n",
    "        # split line\n",
    "        # get field name\n",
    "        # get field value\n",
    "        # store field name and value in 'data holder'\n",
    "\n",
    "        \n",
    "# Check that it does what we want it to do!"
   ]
  },
  {
   "cell_type": "markdown",
   "metadata": {},
   "source": [
    "Once our code is working and doing what we want it to do, we can incorporate it within the function `parse_student_record()`."
   ]
  },
  {
   "cell_type": "code",
   "execution_count": 24,
   "metadata": {
    "ExecuteTime": {
     "end_time": "2019-06-23T21:27:47.606084Z",
     "start_time": "2019-06-23T21:27:47.600211Z"
    }
   },
   "outputs": [],
   "source": [
    "def parse_student_record(filename):\n",
    "    '''\n",
    "    Parses a student record file into a dictionary\n",
    "    input:\n",
    "        filename - str, path to the file\n",
    "    output:\n",
    "        data - dict, student attribute data\n",
    "    '''\n",
    "    # Statements here!\n",
    "    \n",
    "    return data\n"
   ]
  },
  {
   "cell_type": "code",
   "execution_count": 27,
   "metadata": {
    "ExecuteTime": {
     "end_time": "2019-06-23T21:28:07.091920Z",
     "start_time": "2019-06-23T21:28:07.078235Z"
    }
   },
   "outputs": [
    {
     "ename": "NameError",
     "evalue": "name 'data' is not defined",
     "output_type": "error",
     "traceback": [
      "\u001b[0;31m---------------------------------------------------------------------------\u001b[0m",
      "\u001b[0;31mNameError\u001b[0m                                 Traceback (most recent call last)",
      "\u001b[0;32m<ipython-input-27-9d4e2f403b3d>\u001b[0m in \u001b[0;36m<module>\u001b[0;34m\u001b[0m\n\u001b[0;32m----> 1\u001b[0;31m \u001b[0mparse_student_record\u001b[0m\u001b[0;34m(\u001b[0m\u001b[0;34m'../data/Day2-Collections-and-Files/Roster/Agatha_Lee_11.txt'\u001b[0m\u001b[0;34m)\u001b[0m\u001b[0;34m\u001b[0m\u001b[0;34m\u001b[0m\u001b[0m\n\u001b[0m",
      "\u001b[0;32m<ipython-input-24-7e3a6fc2c885>\u001b[0m in \u001b[0;36mparse_student_record\u001b[0;34m(filename)\u001b[0m\n\u001b[1;32m      9\u001b[0m     \u001b[0;31m# Statements here!\u001b[0m\u001b[0;34m\u001b[0m\u001b[0;34m\u001b[0m\u001b[0;34m\u001b[0m\u001b[0m\n\u001b[1;32m     10\u001b[0m \u001b[0;34m\u001b[0m\u001b[0m\n\u001b[0;32m---> 11\u001b[0;31m     \u001b[0;32mreturn\u001b[0m \u001b[0mdata\u001b[0m\u001b[0;34m\u001b[0m\u001b[0;34m\u001b[0m\u001b[0m\n\u001b[0m",
      "\u001b[0;31mNameError\u001b[0m: name 'data' is not defined"
     ]
    }
   ],
   "source": [
    "parse_student_record('../Data/Day2-Collections-and-Files/Roster/Agatha_Lee_11.txt')"
   ]
  },
  {
   "cell_type": "code",
   "execution_count": 28,
   "metadata": {
    "ExecuteTime": {
     "end_time": "2019-06-23T21:28:22.329436Z",
     "start_time": "2019-06-23T21:28:22.314159Z"
    }
   },
   "outputs": [
    {
     "ename": "NameError",
     "evalue": "name 'data' is not defined",
     "output_type": "error",
     "traceback": [
      "\u001b[0;31m---------------------------------------------------------------------------\u001b[0m",
      "\u001b[0;31mNameError\u001b[0m                                 Traceback (most recent call last)",
      "\u001b[0;32m<ipython-input-28-f119557190ed>\u001b[0m in \u001b[0;36m<module>\u001b[0;34m\u001b[0m\n\u001b[0;32m----> 1\u001b[0;31m \u001b[0mparse_student_record\u001b[0m\u001b[0;34m(\u001b[0m\u001b[0;34m'../Data/Day2-Collections-and-Files/Roster/Buzz_Baker_618.txt'\u001b[0m\u001b[0;34m)\u001b[0m\u001b[0;34m\u001b[0m\u001b[0;34m\u001b[0m\u001b[0m\n\u001b[0m",
      "\u001b[0;32m<ipython-input-24-7e3a6fc2c885>\u001b[0m in \u001b[0;36mparse_student_record\u001b[0;34m(filename)\u001b[0m\n\u001b[1;32m      9\u001b[0m     \u001b[0;31m# Statements here!\u001b[0m\u001b[0;34m\u001b[0m\u001b[0;34m\u001b[0m\u001b[0;34m\u001b[0m\u001b[0m\n\u001b[1;32m     10\u001b[0m \u001b[0;34m\u001b[0m\u001b[0m\n\u001b[0;32m---> 11\u001b[0;31m     \u001b[0;32mreturn\u001b[0m \u001b[0mdata\u001b[0m\u001b[0;34m\u001b[0m\u001b[0;34m\u001b[0m\u001b[0m\n\u001b[0m",
      "\u001b[0;31mNameError\u001b[0m: name 'data' is not defined"
     ]
    }
   ],
   "source": [
    "parse_student_record('../Data/Day2-Collections-and-Files/Roster/Buzz_Baker_618.txt')"
   ]
  },
  {
   "cell_type": "markdown",
   "metadata": {},
   "source": [
    "We are getting close. We have two of the three functions that we thought would be needed. We can already put the first two functions together to check things out."
   ]
  },
  {
   "cell_type": "code",
   "execution_count": 29,
   "metadata": {
    "ExecuteTime": {
     "end_time": "2019-06-23T21:28:23.413752Z",
     "start_time": "2019-06-23T21:28:23.394855Z"
    }
   },
   "outputs": [
    {
     "name": "stdout",
     "output_type": "stream",
     "text": [
      "../Data/Day2-Collections-and-Files/Roster/Victoria_Ross_528.txt\n"
     ]
    },
    {
     "ename": "NameError",
     "evalue": "name 'data' is not defined",
     "output_type": "error",
     "traceback": [
      "\u001b[0;31m---------------------------------------------------------------------------\u001b[0m",
      "\u001b[0;31mNameError\u001b[0m                                 Traceback (most recent call last)",
      "\u001b[0;32m<ipython-input-29-3cf5468ad239>\u001b[0m in \u001b[0;36m<module>\u001b[0;34m\u001b[0m\n\u001b[1;32m      2\u001b[0m \u001b[0ma_filename\u001b[0m \u001b[0;34m=\u001b[0m \u001b[0mfilenames\u001b[0m\u001b[0;34m[\u001b[0m\u001b[0;36m0\u001b[0m\u001b[0;34m]\u001b[0m\u001b[0;34m\u001b[0m\u001b[0;34m\u001b[0m\u001b[0m\n\u001b[1;32m      3\u001b[0m \u001b[0mprint\u001b[0m\u001b[0;34m(\u001b[0m \u001b[0ma_filename\u001b[0m \u001b[0;34m)\u001b[0m\u001b[0;34m\u001b[0m\u001b[0;34m\u001b[0m\u001b[0m\n\u001b[0;32m----> 4\u001b[0;31m \u001b[0mparse_student_record\u001b[0m\u001b[0;34m(\u001b[0m\u001b[0ma_filename\u001b[0m\u001b[0;34m)\u001b[0m\u001b[0;34m\u001b[0m\u001b[0;34m\u001b[0m\u001b[0m\n\u001b[0m",
      "\u001b[0;32m<ipython-input-24-7e3a6fc2c885>\u001b[0m in \u001b[0;36mparse_student_record\u001b[0;34m(filename)\u001b[0m\n\u001b[1;32m      9\u001b[0m     \u001b[0;31m# Statements here!\u001b[0m\u001b[0;34m\u001b[0m\u001b[0;34m\u001b[0m\u001b[0;34m\u001b[0m\u001b[0m\n\u001b[1;32m     10\u001b[0m \u001b[0;34m\u001b[0m\u001b[0m\n\u001b[0;32m---> 11\u001b[0;31m     \u001b[0;32mreturn\u001b[0m \u001b[0mdata\u001b[0m\u001b[0;34m\u001b[0m\u001b[0;34m\u001b[0m\u001b[0m\n\u001b[0m",
      "\u001b[0;31mNameError\u001b[0m: name 'data' is not defined"
     ]
    }
   ],
   "source": [
    "filenames = find_student_records('../Data/Day2-Collections-and-Files/Roster/')\n",
    "a_filename = filenames[0]\n",
    "print( a_filename )\n",
    "parse_student_record(a_filename)"
   ]
  },
  {
   "cell_type": "markdown",
   "metadata": {},
   "source": [
    "In order to calculate a student's age, we need to take her/his `Date of Birth` from the student's record. A difficulty is that the `Date of Birth` is stored as a `string`.  It would be much better to have a `Date of Birth` organized as a **tuple** with three elements (one's `Date of Birth` does not change, after all). \n",
    "\n",
    "We could write our function `calculate_age()` to take as an input a string, but that would be **bad practice**, since it would not be clear what the right format for the `string` would be be.  It is much better to do the conversion from `string` to `tuple` using a separate function. "
   ]
  },
  {
   "cell_type": "code",
   "execution_count": 30,
   "metadata": {
    "ExecuteTime": {
     "end_time": "2019-06-23T21:28:24.456147Z",
     "start_time": "2019-06-23T21:28:24.451825Z"
    }
   },
   "outputs": [],
   "source": [
    "def string2tuple_dob(dob_string):\n",
    "    '''\n",
    "    Takes a date string of \"M/D/YY\" and converts it to a tuple with month, day, and year as integers\n",
    "\n",
    "    input:\n",
    "        * dob_string - str, birthday string of form \"M/D/YY\"\n",
    "    output:\n",
    "        * dob - tuple, (\"month\", \"day\", \"year\")\n",
    "    '''\n",
    "    #Statements\n",
    "    \n",
    "    return dob"
   ]
  },
  {
   "cell_type": "code",
   "execution_count": 31,
   "metadata": {
    "ExecuteTime": {
     "end_time": "2019-06-23T21:28:24.923489Z",
     "start_time": "2019-06-23T21:28:24.915516Z"
    }
   },
   "outputs": [
    {
     "ename": "NameError",
     "evalue": "name 'clean_dob' is not defined",
     "output_type": "error",
     "traceback": [
      "\u001b[0;31m---------------------------------------------------------------------------\u001b[0m",
      "\u001b[0;31mNameError\u001b[0m                                 Traceback (most recent call last)",
      "\u001b[0;32m<ipython-input-31-f8f07a92a10f>\u001b[0m in \u001b[0;36m<module>\u001b[0;34m\u001b[0m\n\u001b[0;32m----> 1\u001b[0;31m \u001b[0mclean_dob\u001b[0m\u001b[0;34m(\u001b[0m\u001b[0;34m'8/7/1985'\u001b[0m\u001b[0;34m)\u001b[0m\u001b[0;34m\u001b[0m\u001b[0;34m\u001b[0m\u001b[0m\n\u001b[0m",
      "\u001b[0;31mNameError\u001b[0m: name 'clean_dob' is not defined"
     ]
    }
   ],
   "source": [
    "clean_dob('8/7/1985')"
   ]
  },
  {
   "cell_type": "markdown",
   "metadata": {},
   "source": [
    "The question now is where should we use that function.  Let's consider our pseudo-code again:\n",
    "\n",
    "    Find all files with student records\n",
    "    For each file repeat the following actions:\n",
    "            parse student record\n",
    "            calculate age of student\n",
    "\n",
    "The logical place to do the conversion from `string` to `tuple` is inside the `parse student record` command.  If we are going to parse the data we should do it right the first time around.  So,let's add the conversion function to the `parse_student_record()` function.\n"
   ]
  },
  {
   "cell_type": "code",
   "execution_count": null,
   "metadata": {},
   "outputs": [],
   "source": [
    "def parse_student_record(filename):\n",
    "    '''\n",
    "    Parses a student record file into a list of tuples\n",
    "    \n",
    "    input:\n",
    "        filename - str, path to the file\n",
    "    output:\n",
    "        data - list of tuples, student attribute data\n",
    "    '''\n",
    "    #Copy our code from above\n",
    "    \n",
    "    if field == 'Date of Birth':\n",
    "        data.append( string2tuple_dob( value ) ) \n",
    "    \n",
    "    return data"
   ]
  },
  {
   "cell_type": "markdown",
   "metadata": {},
   "source": [
    "We can now take the code you originally wrote to calculate someone's age from the `File IO` notebook and turn it into a function."
   ]
  },
  {
   "cell_type": "code",
   "execution_count": null,
   "metadata": {},
   "outputs": [],
   "source": [
    "def calculate_age( ):\n",
    "    \"\"\"\n",
    "    \n",
    "    \"\"\"\n",
    "    \n",
    "    # Statements\n",
    "    \n",
    "    return"
   ]
  },
  {
   "cell_type": "code",
   "execution_count": null,
   "metadata": {},
   "outputs": [],
   "source": [
    "#Input is Month, Day, Year\n",
    "calculate_age(3, 7, 1986)"
   ]
  },
  {
   "cell_type": "code",
   "execution_count": null,
   "metadata": {},
   "outputs": [],
   "source": [
    "buzz_baker = parse_student_record('../Data/Day2-Collections-and-Files/Roster/Buzz_Baker_618.txt')\n",
    "\n",
    "for field, value in buzz_baker:\n",
    "    if field == 'Date of Birth':\n",
    "        #Check to make sure that the month is correct\n",
    "        if value[0] == 4:\n",
    "            print(\"Success! You are a rock star!\")"
   ]
  },
  {
   "cell_type": "markdown",
   "metadata": {},
   "source": [
    "+++"
   ]
  },
  {
   "cell_type": "markdown",
   "metadata": {},
   "source": [
    "# Exercises\n",
    "\n",
    "Find the number of students born in 1975:"
   ]
  },
  {
   "cell_type": "code",
   "execution_count": null,
   "metadata": {},
   "outputs": [],
   "source": [
    "#This is your list of people born in 1975\n",
    "born_in_1975 = []\n",
    "\n",
    "#This is your file location\n",
    "data_dir = '../Data/Day2-Collections-and-Files/Roster'\n",
    "\n",
    "#First you need to get all of the student files\n",
    "data_files = find_student_records(data_dir)\n",
    "\n",
    "#Now go through each file\n",
    "for filename in data_files:\n",
    "    #First we parse the student record into the dictionary\n",
    "    data = parse_student_record(filename)\n",
    "    \n",
    "    #Now what field will let us check if a person is born in 1975?\n",
    "    if ________ == 1975:\n",
    "        #If you want to keep track of a person in 1975\n",
    "        #You should keep track of it outside of this for loop\n",
    "        #Remember that we lose anything inside the for loop once the loop finishes\n",
    "        #So where could you possibly store someone's data that is born in 1975...\n",
    "        #hmmm....................\n",
    "        \n",
    "#Now I want to know the number of people born in 1975\n",
    "#What was that number\n",
    "        "
   ]
  },
  {
   "cell_type": "markdown",
   "metadata": {},
   "source": [
    "Excellent! But how many of those people born in 1975 were also born in March?"
   ]
  },
  {
   "cell_type": "code",
   "execution_count": null,
   "metadata": {},
   "outputs": [],
   "source": [
    "born_in_march = []\n",
    "#I'll help you out here, you should iterate through the list of people born in 1975\n",
    "for person in born_in_1975:\n",
    "    #I'll let you figure out this part here\n",
    "    \n",
    "#Don't forget to tell me your answer!!!!\n",
    "len(born_in_march)"
   ]
  }
 ],
 "metadata": {
  "anaconda-cloud": {},
  "kernelspec": {
   "display_name": "Python 3",
   "language": "python",
   "name": "python3"
  },
  "language_info": {
   "codemirror_mode": {
    "name": "ipython",
    "version": 3
   },
   "file_extension": ".py",
   "mimetype": "text/x-python",
   "name": "python",
   "nbconvert_exporter": "python",
   "pygments_lexer": "ipython3",
   "version": "3.6.8"
  },
  "latex_envs": {
   "LaTeX_envs_menu_present": true,
   "autoclose": false,
   "autocomplete": true,
   "bibliofile": "biblio.bib",
   "cite_by": "apalike",
   "current_citInitial": 1,
   "eqLabelWithNumbers": true,
   "eqNumInitial": 1,
   "hotkeys": {
    "equation": "Ctrl-E",
    "itemize": "Ctrl-I"
   },
   "labels_anchors": false,
   "latex_user_defs": false,
   "report_style_numbering": false,
   "user_envs_cfg": false
  },
  "toc": {
   "nav_menu": {},
   "number_sections": true,
   "sideBar": true,
   "skip_h1_title": false,
   "title_cell": "Table of Contents",
   "title_sidebar": "Contents",
   "toc_cell": false,
   "toc_position": {},
   "toc_section_display": true,
   "toc_window_display": false
  }
 },
 "nbformat": 4,
 "nbformat_minor": 1
}
