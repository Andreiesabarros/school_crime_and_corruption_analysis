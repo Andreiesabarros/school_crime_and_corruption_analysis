{
 "cells": [
  {
   "cell_type": "markdown",
   "metadata": {},
   "source": [
    "# Synopsis\n",
    "\n",
    "This unit is a review to help reinforce what you've learned about writing functions."
   ]
  },
  {
   "cell_type": "markdown",
   "metadata": {},
   "source": [
    "## Get back to work!\n",
    "\n",
    "I'm glad you enjoyed your fancy administrative job at the University but it's time to get back to the work at the pet shop! Working two jobs is a bear (pun intended!), but I think you're up to the task. Even if you're not, the rent still has to get paid ;)"
   ]
  },
  {
   "cell_type": "markdown",
   "metadata": {},
   "source": [
    "## Speaking of getting paid... Payroll!\n",
    "\n",
    "So as a part of your job at the pet shop, I'm going to need you to work through the Profits and Losses statement from last month for the year so far. I've put the `p_and_l.csv` in the `Data/Day3-Visualization-and-Functions/` folder.\n",
    "\n",
    "We keep the profit and loss statement as a `csv` file, with the columns being\n",
    "\n",
    "`Source,Amount,Notes`\n",
    "\n",
    "Write a function to read in the file"
   ]
  },
  {
   "cell_type": "code",
   "execution_count": null,
   "metadata": {},
   "outputs": [],
   "source": []
  },
  {
   "cell_type": "markdown",
   "metadata": {},
   "source": [
    "Am I making money? Let me know"
   ]
  },
  {
   "cell_type": "code",
   "execution_count": null,
   "metadata": {
    "collapsed": true
   },
   "outputs": [],
   "source": []
  },
  {
   "cell_type": "markdown",
   "metadata": {},
   "source": [
    "GEEZ! WHAT HAPPENED????????\n",
    "\n",
    "Maybe I'm paying you too much! What percentage of sales is your salary?"
   ]
  },
  {
   "cell_type": "code",
   "execution_count": null,
   "metadata": {
    "collapsed": true
   },
   "outputs": [],
   "source": []
  },
  {
   "cell_type": "markdown",
   "metadata": {},
   "source": [
    "Wait, that's not the right question. What percentage of the costs is your salary? It's like ALL of it right?????"
   ]
  },
  {
   "cell_type": "raw",
   "metadata": {
    "collapsed": true
   },
   "source": [
    "##### "
   ]
  },
  {
   "cell_type": "markdown",
   "metadata": {},
   "source": [
    "CRAP! Well how much is your health insurance costing?? It's a ton when we add it to your salary right? Could you give me that ton as a percentage?"
   ]
  },
  {
   "cell_type": "code",
   "execution_count": null,
   "metadata": {
    "collapsed": true
   },
   "outputs": [],
   "source": []
  },
  {
   "cell_type": "markdown",
   "metadata": {},
   "source": [
    "Hmmm...Well it must be those healthcare changes. What are my insurance costs like? Include any `dental` work"
   ]
  },
  {
   "cell_type": "code",
   "execution_count": null,
   "metadata": {
    "collapsed": true
   },
   "outputs": [],
   "source": []
  },
  {
   "cell_type": "markdown",
   "metadata": {},
   "source": [
    "Well, it looks like I am really in the whole now. We're going to need to work our way out of that.\n",
    "\n",
    "Can you write a function to calculate our profit and allow it to take in our current profits and losses, but also accept additional conditions?\n",
    "\n",
    "Like maybe `future_profitability(current_pl = [], pl_changes = [])`\n",
    "\n",
    "I want to be apply to say `Rent` and have it be `10000` less than what it currently is and see if that makes us profitable. I also want you to make it so that a negative value *cannot* become a positive value. So if `Rent` is `-20000` the maximum value we canve have in `pl_changes` for `Rent` is `20000`. That's because it's really unlikely thate the landlord will pay us to be a business!"
   ]
  },
  {
   "cell_type": "code",
   "execution_count": null,
   "metadata": {
    "collapsed": true
   },
   "outputs": [],
   "source": []
  },
  {
   "cell_type": "markdown",
   "metadata": {},
   "source": [
    "So what if `Rent` is $10000 less than it currently is, will be profitable then?"
   ]
  },
  {
   "cell_type": "code",
   "execution_count": null,
   "metadata": {
    "collapsed": true
   },
   "outputs": [],
   "source": []
  },
  {
   "cell_type": "markdown",
   "metadata": {},
   "source": [
    "Can we turn a profit just by decreasing `Rent`? How much would it have to decrease?"
   ]
  },
  {
   "cell_type": "code",
   "execution_count": null,
   "metadata": {
    "collapsed": true
   },
   "outputs": [],
   "source": []
  },
  {
   "cell_type": "markdown",
   "metadata": {},
   "source": [
    "Okay, so let's just sell more then! Say that for every \\$2 in sales we incur $1 of costs for purchasing the pets."
   ]
  },
  {
   "cell_type": "code",
   "execution_count": null,
   "metadata": {
    "collapsed": true
   },
   "outputs": [],
   "source": []
  },
  {
   "cell_type": "markdown",
   "metadata": {},
   "source": [
    "There we go! Now we're in business (literally)."
   ]
  },
  {
   "cell_type": "code",
   "execution_count": null,
   "metadata": {
    "collapsed": true
   },
   "outputs": [],
   "source": []
  }
 ],
 "metadata": {
  "anaconda-cloud": {},
  "kernelspec": {
   "display_name": "Python 3",
   "language": "python",
   "name": "python3"
  },
  "language_info": {
   "codemirror_mode": {
    "name": "ipython",
    "version": 3
   },
   "file_extension": ".py",
   "mimetype": "text/x-python",
   "name": "python",
   "nbconvert_exporter": "python",
   "pygments_lexer": "ipython3",
   "version": "3.6.8"
  },
  "latex_envs": {
   "LaTeX_envs_menu_present": true,
   "autoclose": false,
   "autocomplete": true,
   "bibliofile": "biblio.bib",
   "cite_by": "apalike",
   "current_citInitial": 1,
   "eqLabelWithNumbers": true,
   "eqNumInitial": 1,
   "hotkeys": {
    "equation": "Ctrl-E",
    "itemize": "Ctrl-I"
   },
   "labels_anchors": false,
   "latex_user_defs": false,
   "report_style_numbering": false,
   "user_envs_cfg": false
  },
  "toc": {
   "nav_menu": {},
   "number_sections": true,
   "sideBar": true,
   "skip_h1_title": false,
   "title_cell": "Table of Contents",
   "title_sidebar": "Contents",
   "toc_cell": false,
   "toc_position": {},
   "toc_section_display": true,
   "toc_window_display": false
  }
 },
 "nbformat": 4,
 "nbformat_minor": 1
}
