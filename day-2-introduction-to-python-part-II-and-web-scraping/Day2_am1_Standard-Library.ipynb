{
 "cells": [
  {
   "cell_type": "code",
   "execution_count": 1,
   "metadata": {
    "ExecuteTime": {
     "end_time": "2019-06-23T21:22:06.237809Z",
     "start_time": "2019-06-23T21:22:06.211556Z"
    },
    "scrolled": true
   },
   "outputs": [
    {
     "data": {
      "text/html": [
       "<style>\n",
       "    @font-face {\n",
       "        font-family: \"Computer Modern\";\n",
       "        src: url('http://9dbb143991406a7c655e-aa5fcb0a5a4ec34cff238a2d56ca4144.r56.cf5.rackcdn.com/cmunss.otf');\n",
       "    }\n",
       "    @font-face {\n",
       "        font-family: \"Computer Modern\";\n",
       "        font-weight: bold;\n",
       "        src: url('http://9dbb143991406a7c655e-aa5fcb0a5a4ec34cff238a2d56ca4144.r56.cf5.rackcdn.com/cmunsx.otf');\n",
       "    }\n",
       "    @font-face {\n",
       "        font-family: \"Computer Modern\";\n",
       "        font-style: oblique;\n",
       "        src: url('http://9dbb143991406a7c655e-aa5fcb0a5a4ec34cff238a2d56ca4144.r56.cf5.rackcdn.com/cmunsi.otf');\n",
       "    }\n",
       "    @font-face {\n",
       "        font-family: \"Computer Modern\";\n",
       "        font-weight: bold;\n",
       "        font-style: oblique;\n",
       "        src: url('http://9dbb143991406a7c655e-aa5fcb0a5a4ec34cff238a2d56ca4144.r56.cf5.rackcdn.com/cmunso.otf');\n",
       "    }\n",
       "    h1 {\n",
       "        font-family: Helvetica, serif;\n",
       "    }\n",
       "    h4{\n",
       "        margin-top:12px;\n",
       "        margin-bottom: 3px;\n",
       "       }\n",
       "    div.text_cell_render{\n",
       "        font-family: Computer Modern, \"Helvetica Neue\", Arial, Helvetica, Geneva, sans-serif;\n",
       "        line-height: 145%;\n",
       "        font-size: 130%;\n",
       "        margin-left:auto;\n",
       "        margin-right:auto;\n",
       "    }\n",
       "    .CodeMirror{\n",
       "            font-family: \"Source Code Pro\", source-code-pro,Consolas, monospace;\n",
       "    }\n",
       "    .text_cell_render h5 {\n",
       "        font-weight: 300;\n",
       "        font-size: 22pt;\n",
       "        color: #4057A1;\n",
       "        font-style: italic;\n",
       "        margin-bottom: .5em;\n",
       "        margin-top: 0.5em;\n",
       "        display: block;\n",
       "    }\n",
       "    \n",
       "    .warning{\n",
       "        color: rgb( 240, 20, 20 )\n",
       "        }  \n",
       "</style>\n",
       "<script>\n",
       "    MathJax.Hub.Config({\n",
       "                        TeX: {\n",
       "                           extensions: [\"AMSmath.js\"]\n",
       "                           },\n",
       "                tex2jax: {\n",
       "                    inlineMath: [ ['$','$'], [\"\\\\(\",\"\\\\)\"] ],\n",
       "                    displayMath: [ ['$$','$$'], [\"\\\\[\",\"\\\\]\"] ]\n",
       "                },\n",
       "                displayAlign: 'center', // Change this to 'center' to center equations.\n",
       "                \"HTML-CSS\": {\n",
       "                    styles: {'.MathJax_Display': {\"margin\": 4}}\n",
       "                }\n",
       "        });\n",
       "</script>\n"
      ],
      "text/plain": [
       "<IPython.core.display.HTML object>"
      ]
     },
     "execution_count": 1,
     "metadata": {},
     "output_type": "execute_result"
    }
   ],
   "source": [
    "from IPython.core.display import HTML\n",
    "\n",
    "def css_styling():\n",
    "    styles = open(\"../Data/www/styles/custom.css\", \"r\").read()\n",
    "    return HTML(styles)\n",
    "css_styling()"
   ]
  },
  {
   "cell_type": "markdown",
   "metadata": {},
   "source": [
    "# Synopsis\n",
    "\n",
    "One of the strengths of Python is the sheer amount of code that has been included by default in its distribution. In this unit, we will learn:\n",
    "\n",
    "1. What libraries are\n",
    "2. How to handle importing a library\n",
    "3. Usage of several important, basic Python libraries (`math`, `glob`, `random`, `Collections`, `os`, `time`, `datetime`, `operator`)"
   ]
  },
  {
   "cell_type": "markdown",
   "metadata": {},
   "source": [
    "# The Python Standard Library: \"Batteries Included\"\n",
    "\n",
    "Of all the reasons to use Python, number one  (by a landslide) is that the community of Python programmers provide a ton of support. Most problems that you will encounter have been solved by someone, it's just a matter of knowing how to find and interpret the solutions.\n",
    "\n",
    "Prepare to become intricately familiar with [stackoverflow](https://stackoverflow.com) which is a messageboard where people post a dizzying array of problems and solutions that are ranked by the community in terms of their helpfulness. And if you're not already proficient at articulating the precise nature of your problem with google, prepare to learn. Google can either be your [best friend](https://www.google.com/#q=python+divide+string+into+list+of+characters), or a [mortal foe](https://www.google.com/#q=how+do+i+get+numbers+and+letters+as+a+list+in+python).\n",
    "\n",
    "Some problems, however, are so general that they just keep ocurring again and again and again. The community of Python programmers have taken some of these problems, figured out fast and efficient solutions to them, and provided the code directly to you in the form of a \"library\". Not all libraries come with the \"default\" Python because there are just too many of them. You can and likely will write your own libraries for specific problems you encounter. But some libraries are _really_ useful. The reason you all downloaded the punily named \"Anaconda\" is because it's Python, only _bigger_. Instead of just giving you Python, Anaconda has collected a range of other common \"libraries\" that nearly every Python programmer uses and has installed these for you.\n",
    "\n",
    "\"Default\" Python, however still has a lot of useful libraries known as the \"Standard Library\". A key principle here is _trust_, the things you find in the Python Standard Library will work. And they will work well. __When you find an answer to a question on stackoverflow, your confidence in that answer should be tempered and the results tested.__ If it's in the Python Standard Library, thousands of people have already tested it and it works. The same goes for some other very common packages, such as those included in Anaconda.\n",
    "\n",
    "Before we move on, we should note that this notebook has drawn heavily from the following references which are each great in their own right at helping to explain details of the Standard Library and Python programming in general. If you're looking for more after this lecture or after this course this is a good starting point: \n",
    "\n",
    "* [Brief Tour of the Standard Library](https://docs.python.org/3/tutorial/stdlib.html)\n",
    "* [The Python Standard Library - Index](https://docs.python.org/3/library/index.html)\n",
    "* [Think Python](http://www.greenteapress.com/thinkpython/)"
   ]
  },
  {
   "cell_type": "markdown",
   "metadata": {},
   "source": [
    "# Libraries \n",
    "### (...or how I learned to stop writing so much code and use the Python Standard Library)\n",
    "\n",
    "I've said the words \"library\" and \"libraries\" quite a few times now, but what are they? Think of a library as a collection of useful functions all relating to a generally similar topic. You might have seen code like this:\n",
    "\n",
    "```\n",
    "import math\n",
    "from math import log\n",
    "import math as awesome_mathematical functions\n",
    "from math import *\n",
    "```\n",
    "We'll look at each of these in turn to see what is going on here. \n",
    "\n",
    "Suppose that I was interested in knowing the logarithm of the number 348. I might type:"
   ]
  },
  {
   "cell_type": "code",
   "execution_count": 2,
   "metadata": {
    "ExecuteTime": {
     "end_time": "2019-06-23T21:22:08.382201Z",
     "start_time": "2019-06-23T21:22:08.303403Z"
    },
    "scrolled": false
   },
   "outputs": [
    {
     "ename": "NameError",
     "evalue": "name 'log' is not defined",
     "output_type": "error",
     "traceback": [
      "\u001b[0;31m---------------------------------------------------------------------------\u001b[0m",
      "\u001b[0;31mNameError\u001b[0m                                 Traceback (most recent call last)",
      "\u001b[0;32m<ipython-input-2-b91ced5be928>\u001b[0m in \u001b[0;36m<module>\u001b[0;34m\u001b[0m\n\u001b[0;32m----> 1\u001b[0;31m \u001b[0mlog\u001b[0m\u001b[0;34m(\u001b[0m\u001b[0;36m348\u001b[0m\u001b[0;34m)\u001b[0m\u001b[0;34m\u001b[0m\u001b[0;34m\u001b[0m\u001b[0m\n\u001b[0m",
      "\u001b[0;31mNameError\u001b[0m: name 'log' is not defined"
     ]
    }
   ],
   "source": [
    "log(348)"
   ]
  },
  {
   "cell_type": "markdown",
   "metadata": {},
   "source": [
    "And you should see a `NameError`, because 'normal' python doesn't know what 'log' means. We never defined it or told it that when I type `log(number)` what I really mean is that I want the exponent to which another fixed value, the base, must be raised to produce that number (phew). We could labor and think about _how_ to write that code but logarithms are pretty common right? Surely someone else has figured this out already. Enter `math`:"
   ]
  },
  {
   "cell_type": "code",
   "execution_count": 3,
   "metadata": {
    "ExecuteTime": {
     "end_time": "2019-06-23T21:22:10.800738Z",
     "start_time": "2019-06-23T21:22:10.797485Z"
    },
    "scrolled": false
   },
   "outputs": [],
   "source": [
    "import math"
   ]
  },
  {
   "cell_type": "code",
   "execution_count": 4,
   "metadata": {
    "ExecuteTime": {
     "end_time": "2019-06-23T21:22:11.502001Z",
     "start_time": "2019-06-23T21:22:11.492043Z"
    },
    "scrolled": true
   },
   "outputs": [
    {
     "ename": "NameError",
     "evalue": "name 'log' is not defined",
     "output_type": "error",
     "traceback": [
      "\u001b[0;31m---------------------------------------------------------------------------\u001b[0m",
      "\u001b[0;31mNameError\u001b[0m                                 Traceback (most recent call last)",
      "\u001b[0;32m<ipython-input-4-b91ced5be928>\u001b[0m in \u001b[0;36m<module>\u001b[0;34m\u001b[0m\n\u001b[0;32m----> 1\u001b[0;31m \u001b[0mlog\u001b[0m\u001b[0;34m(\u001b[0m\u001b[0;36m348\u001b[0m\u001b[0;34m)\u001b[0m\u001b[0;34m\u001b[0m\u001b[0;34m\u001b[0m\u001b[0m\n\u001b[0m",
      "\u001b[0;31mNameError\u001b[0m: name 'log' is not defined"
     ]
    }
   ],
   "source": [
    "log(348)"
   ]
  },
  {
   "cell_type": "markdown",
   "metadata": {},
   "source": [
    "But still we have a `NameError`, What's going on here? Well to access all the cool functions in `math` we need to first tell python what we really mean when we say `log` is a specific function written in the math library:"
   ]
  },
  {
   "cell_type": "code",
   "execution_count": 5,
   "metadata": {
    "ExecuteTime": {
     "end_time": "2019-06-23T21:22:13.251956Z",
     "start_time": "2019-06-23T21:22:13.246601Z"
    },
    "scrolled": true
   },
   "outputs": [
    {
     "data": {
      "text/plain": [
       "5.8522024797744745"
      ]
     },
     "execution_count": 5,
     "metadata": {},
     "output_type": "execute_result"
    }
   ],
   "source": [
    "math.log(348)"
   ]
  },
  {
   "cell_type": "markdown",
   "metadata": {},
   "source": [
    "Voila! 5.8522024... you get the point. Suppose we thought that was a little tedious to type over and over again. And all we really need the `math` library for is `log`, we don't care about all the other cool stuff that it has. Well, we could just type:"
   ]
  },
  {
   "cell_type": "code",
   "execution_count": 6,
   "metadata": {
    "ExecuteTime": {
     "end_time": "2019-06-23T21:22:14.314722Z",
     "start_time": "2019-06-23T21:22:14.311486Z"
    },
    "scrolled": false
   },
   "outputs": [],
   "source": [
    "from math import log"
   ]
  },
  {
   "cell_type": "markdown",
   "metadata": {},
   "source": [
    "And now `log()` should work out just fine:"
   ]
  },
  {
   "cell_type": "code",
   "execution_count": 7,
   "metadata": {
    "ExecuteTime": {
     "end_time": "2019-06-23T21:22:15.147965Z",
     "start_time": "2019-06-23T21:22:15.142841Z"
    },
    "scrolled": true
   },
   "outputs": [
    {
     "data": {
      "text/plain": [
       "5.8522024797744745"
      ]
     },
     "execution_count": 7,
     "metadata": {},
     "output_type": "execute_result"
    }
   ],
   "source": [
    "log(348)"
   ]
  },
  {
   "cell_type": "markdown",
   "metadata": {},
   "source": [
    "To assure ourselves that these two things are entirely equivalent:"
   ]
  },
  {
   "cell_type": "code",
   "execution_count": 8,
   "metadata": {
    "ExecuteTime": {
     "end_time": "2019-06-23T21:22:15.956535Z",
     "start_time": "2019-06-23T21:22:15.951050Z"
    },
    "scrolled": true
   },
   "outputs": [
    {
     "data": {
      "text/plain": [
       "True"
      ]
     },
     "execution_count": 8,
     "metadata": {},
     "output_type": "execute_result"
    }
   ],
   "source": [
    "math.log(348) == log(348)"
   ]
  },
  {
   "cell_type": "markdown",
   "metadata": {},
   "source": [
    "How you choose to import functions from a library might depend a lot on your project. You'll also frequently see something like this:"
   ]
  },
  {
   "cell_type": "code",
   "execution_count": 9,
   "metadata": {
    "ExecuteTime": {
     "end_time": "2019-06-23T21:22:16.843315Z",
     "start_time": "2019-06-23T21:22:16.839766Z"
    },
    "scrolled": false
   },
   "outputs": [],
   "source": [
    "import math as awesome_mathematical_functions"
   ]
  },
  {
   "cell_type": "markdown",
   "metadata": {},
   "source": [
    "All we did was kind of rename `math`. This is silly, because we're actually typing more in this example than math. But as you'll see later there are some packages that are so commonly used that even though their name is only 5 letters long people _always_ import them as an alias with two letters. Our function should work exactly the same as before though: "
   ]
  },
  {
   "cell_type": "code",
   "execution_count": 10,
   "metadata": {
    "ExecuteTime": {
     "end_time": "2019-06-23T21:22:17.635245Z",
     "start_time": "2019-06-23T21:22:17.629811Z"
    },
    "scrolled": true
   },
   "outputs": [
    {
     "data": {
      "text/plain": [
       "5.8522024797744745"
      ]
     },
     "execution_count": 10,
     "metadata": {},
     "output_type": "execute_result"
    }
   ],
   "source": [
    "awesome_mathematical_functions.log(348)"
   ]
  },
  {
   "cell_type": "code",
   "execution_count": 11,
   "metadata": {
    "ExecuteTime": {
     "end_time": "2019-06-23T21:22:18.208868Z",
     "start_time": "2019-06-23T21:22:18.203800Z"
    },
    "scrolled": true
   },
   "outputs": [
    {
     "data": {
      "text/plain": [
       "True"
      ]
     },
     "execution_count": 11,
     "metadata": {},
     "output_type": "execute_result"
    }
   ],
   "source": [
    "awesome_mathematical_functions.log(348) == math.log(348)"
   ]
  },
  {
   "cell_type": "markdown",
   "metadata": {},
   "source": [
    "There is a final way of importing libraries that you might see, but we're not going to actually run the code because it's the worst.\n",
    "```\n",
    "from math import *\n",
    "```\n",
    "You might be able to guess what this is doing and some of you might see why it's a terrible idea. Instead of having to type `math.log()`, importing in this manner will let us access every function in math directly by name `log()`, `exp()`, etc. This might seem nice and easy, but do you know everything that is in the `math` library? It might be huge. And what if my code is analyzing the revenues of a timber company and I happen to have a variable called `log` that refers to the price of a fallen tree. Depending on the order of when I run my code and my imports, `log` might either refer to a function or my variable. If I always use \n",
    "```\n",
    "from math import log\n",
    "```\n",
    "I have the same problem in that I've defined `log` but I'm explicitly reminded of the name of the function that I'm importing. And if I was a timber company I might see the err in my ways. But by using the first syntax:\n",
    "```\n",
    "from math import *\n",
    "```\n",
    "I'm importing perhaps hundreds or thousands of functions whose name I don't even know.\n",
    "\n",
    "> you'll see `from math import *` in your googling. Don't do it. "
   ]
  },
  {
   "cell_type": "markdown",
   "metadata": {},
   "source": [
    "### Documentation\n",
    "So we found the logarithm of 348 a number of ways. But the astute among you may ask, logarithm of base what? Well, Jupyter (Ipython Notebook) can be really helpful here. Try typing:"
   ]
  },
  {
   "cell_type": "code",
   "execution_count": 12,
   "metadata": {
    "ExecuteTime": {
     "end_time": "2019-06-23T21:22:19.889739Z",
     "start_time": "2019-06-23T21:22:19.882111Z"
    },
    "scrolled": false
   },
   "outputs": [],
   "source": [
    "math.log?"
   ]
  },
  {
   "cell_type": "markdown",
   "metadata": {},
   "source": [
    "A helpful little box should have popped up explaining a bit about math.log (which you can close by clicking the x in the upper right corner).\n",
    "We could also type `math.log` then Shift+Tab. Try that below:"
   ]
  },
  {
   "cell_type": "code",
   "execution_count": 13,
   "metadata": {
    "ExecuteTime": {
     "end_time": "2019-06-23T21:22:24.221177Z",
     "start_time": "2019-06-23T21:22:24.214500Z"
    },
    "scrolled": true
   },
   "outputs": [
    {
     "data": {
      "text/plain": [
       "<function math.log>"
      ]
     },
     "execution_count": 13,
     "metadata": {},
     "output_type": "execute_result"
    }
   ],
   "source": [
    "math.log"
   ]
  },
  {
   "cell_type": "markdown",
   "metadata": {},
   "source": [
    "or"
   ]
  },
  {
   "cell_type": "code",
   "execution_count": 14,
   "metadata": {
    "ExecuteTime": {
     "end_time": "2019-06-23T21:22:25.128118Z",
     "start_time": "2019-06-23T21:22:25.123772Z"
    },
    "scrolled": true
   },
   "outputs": [
    {
     "name": "stdout",
     "output_type": "stream",
     "text": [
      "Help on built-in function log in module math:\n",
      "\n",
      "log(...)\n",
      "    log(x[, base])\n",
      "    \n",
      "    Return the logarithm of x to the given base.\n",
      "    If the base not specified, returns the natural logarithm (base e) of x.\n",
      "\n"
     ]
    }
   ],
   "source": [
    "help(math.log)"
   ]
  },
  {
   "cell_type": "markdown",
   "metadata": {},
   "source": [
    "From either of these options we learned that `math.log` needs a number `x`. We could also give it a second number separated by a comma to specify the base. If we don't give that second argument, then it will default to `e`, the natural logarithm."
   ]
  },
  {
   "cell_type": "code",
   "execution_count": 15,
   "metadata": {
    "ExecuteTime": {
     "end_time": "2019-06-23T21:22:25.988619Z",
     "start_time": "2019-06-23T21:22:25.982338Z"
    },
    "scrolled": true
   },
   "outputs": [
    {
     "name": "stdout",
     "output_type": "stream",
     "text": [
      "5.8522024797744745\n",
      "8.442943495848729\n",
      "2.5415792439465807\n"
     ]
    }
   ],
   "source": [
    "print(math.log(348))\n",
    "print(math.log(348, 2))\n",
    "print(math.log(348, 10))"
   ]
  },
  {
   "cell_type": "markdown",
   "metadata": {},
   "source": [
    "But is it really the natural logarithm? Let's double check:"
   ]
  },
  {
   "cell_type": "code",
   "execution_count": 16,
   "metadata": {
    "ExecuteTime": {
     "end_time": "2019-06-23T21:22:26.525147Z",
     "start_time": "2019-06-23T21:22:26.515375Z"
    },
    "scrolled": true
   },
   "outputs": [
    {
     "ename": "NameError",
     "evalue": "name 'e' is not defined",
     "output_type": "error",
     "traceback": [
      "\u001b[0;31m---------------------------------------------------------------------------\u001b[0m",
      "\u001b[0;31mNameError\u001b[0m                                 Traceback (most recent call last)",
      "\u001b[0;32m<ipython-input-16-a5e2a7b5926b>\u001b[0m in \u001b[0;36m<module>\u001b[0;34m\u001b[0m\n\u001b[0;32m----> 1\u001b[0;31m \u001b[0mprint\u001b[0m\u001b[0;34m(\u001b[0m\u001b[0mmath\u001b[0m\u001b[0;34m.\u001b[0m\u001b[0mlog\u001b[0m\u001b[0;34m(\u001b[0m\u001b[0;36m348\u001b[0m\u001b[0;34m,\u001b[0m \u001b[0me\u001b[0m\u001b[0;34m)\u001b[0m\u001b[0;34m)\u001b[0m\u001b[0;34m\u001b[0m\u001b[0;34m\u001b[0m\u001b[0m\n\u001b[0m",
      "\u001b[0;31mNameError\u001b[0m: name 'e' is not defined"
     ]
    }
   ],
   "source": [
    "print(math.log(348, e))"
   ]
  },
  {
   "cell_type": "markdown",
   "metadata": {},
   "source": [
    "Ack! Python doesn't know what e is! How do I know whether `math.log` is really using the base `e`?\n",
    "\n",
    "Well `e` is pretty mathy, maybe the math library can help us but how do I know?"
   ]
  },
  {
   "cell_type": "code",
   "execution_count": 17,
   "metadata": {
    "ExecuteTime": {
     "end_time": "2019-06-23T21:22:26.911255Z",
     "start_time": "2019-06-23T21:22:26.904253Z"
    },
    "scrolled": true
   },
   "outputs": [
    {
     "name": "stdout",
     "output_type": "stream",
     "text": [
      "Help on module math:\n",
      "\n",
      "NAME\n",
      "    math\n",
      "\n",
      "MODULE REFERENCE\n",
      "    https://docs.python.org/3.6/library/math\n",
      "    \n",
      "    The following documentation is automatically generated from the Python\n",
      "    source files.  It may be incomplete, incorrect or include features that\n",
      "    are considered implementation detail and may vary between Python\n",
      "    implementations.  When in doubt, consult the module reference at the\n",
      "    location listed above.\n",
      "\n",
      "DESCRIPTION\n",
      "    This module is always available.  It provides access to the\n",
      "    mathematical functions defined by the C standard.\n",
      "\n",
      "FUNCTIONS\n",
      "    acos(...)\n",
      "        acos(x)\n",
      "        \n",
      "        Return the arc cosine (measured in radians) of x.\n",
      "    \n",
      "    acosh(...)\n",
      "        acosh(x)\n",
      "        \n",
      "        Return the inverse hyperbolic cosine of x.\n",
      "    \n",
      "    asin(...)\n",
      "        asin(x)\n",
      "        \n",
      "        Return the arc sine (measured in radians) of x.\n",
      "    \n",
      "    asinh(...)\n",
      "        asinh(x)\n",
      "        \n",
      "        Return the inverse hyperbolic sine of x.\n",
      "    \n",
      "    atan(...)\n",
      "        atan(x)\n",
      "        \n",
      "        Return the arc tangent (measured in radians) of x.\n",
      "    \n",
      "    atan2(...)\n",
      "        atan2(y, x)\n",
      "        \n",
      "        Return the arc tangent (measured in radians) of y/x.\n",
      "        Unlike atan(y/x), the signs of both x and y are considered.\n",
      "    \n",
      "    atanh(...)\n",
      "        atanh(x)\n",
      "        \n",
      "        Return the inverse hyperbolic tangent of x.\n",
      "    \n",
      "    ceil(...)\n",
      "        ceil(x)\n",
      "        \n",
      "        Return the ceiling of x as an Integral.\n",
      "        This is the smallest integer >= x.\n",
      "    \n",
      "    copysign(...)\n",
      "        copysign(x, y)\n",
      "        \n",
      "        Return a float with the magnitude (absolute value) of x but the sign \n",
      "        of y. On platforms that support signed zeros, copysign(1.0, -0.0) \n",
      "        returns -1.0.\n",
      "    \n",
      "    cos(...)\n",
      "        cos(x)\n",
      "        \n",
      "        Return the cosine of x (measured in radians).\n",
      "    \n",
      "    cosh(...)\n",
      "        cosh(x)\n",
      "        \n",
      "        Return the hyperbolic cosine of x.\n",
      "    \n",
      "    degrees(...)\n",
      "        degrees(x)\n",
      "        \n",
      "        Convert angle x from radians to degrees.\n",
      "    \n",
      "    erf(...)\n",
      "        erf(x)\n",
      "        \n",
      "        Error function at x.\n",
      "    \n",
      "    erfc(...)\n",
      "        erfc(x)\n",
      "        \n",
      "        Complementary error function at x.\n",
      "    \n",
      "    exp(...)\n",
      "        exp(x)\n",
      "        \n",
      "        Return e raised to the power of x.\n",
      "    \n",
      "    expm1(...)\n",
      "        expm1(x)\n",
      "        \n",
      "        Return exp(x)-1.\n",
      "        This function avoids the loss of precision involved in the direct evaluation of exp(x)-1 for small x.\n",
      "    \n",
      "    fabs(...)\n",
      "        fabs(x)\n",
      "        \n",
      "        Return the absolute value of the float x.\n",
      "    \n",
      "    factorial(...)\n",
      "        factorial(x) -> Integral\n",
      "        \n",
      "        Find x!. Raise a ValueError if x is negative or non-integral.\n",
      "    \n",
      "    floor(...)\n",
      "        floor(x)\n",
      "        \n",
      "        Return the floor of x as an Integral.\n",
      "        This is the largest integer <= x.\n",
      "    \n",
      "    fmod(...)\n",
      "        fmod(x, y)\n",
      "        \n",
      "        Return fmod(x, y), according to platform C.  x % y may differ.\n",
      "    \n",
      "    frexp(...)\n",
      "        frexp(x)\n",
      "        \n",
      "        Return the mantissa and exponent of x, as pair (m, e).\n",
      "        m is a float and e is an int, such that x = m * 2.**e.\n",
      "        If x is 0, m and e are both 0.  Else 0.5 <= abs(m) < 1.0.\n",
      "    \n",
      "    fsum(...)\n",
      "        fsum(iterable)\n",
      "        \n",
      "        Return an accurate floating point sum of values in the iterable.\n",
      "        Assumes IEEE-754 floating point arithmetic.\n",
      "    \n",
      "    gamma(...)\n",
      "        gamma(x)\n",
      "        \n",
      "        Gamma function at x.\n",
      "    \n",
      "    gcd(...)\n",
      "        gcd(x, y) -> int\n",
      "        greatest common divisor of x and y\n",
      "    \n",
      "    hypot(...)\n",
      "        hypot(x, y)\n",
      "        \n",
      "        Return the Euclidean distance, sqrt(x*x + y*y).\n",
      "    \n",
      "    isclose(...)\n",
      "        isclose(a, b, *, rel_tol=1e-09, abs_tol=0.0) -> bool\n",
      "        \n",
      "        Determine whether two floating point numbers are close in value.\n",
      "        \n",
      "           rel_tol\n",
      "               maximum difference for being considered \"close\", relative to the\n",
      "               magnitude of the input values\n",
      "            abs_tol\n",
      "               maximum difference for being considered \"close\", regardless of the\n",
      "               magnitude of the input values\n",
      "        \n",
      "        Return True if a is close in value to b, and False otherwise.\n",
      "        \n",
      "        For the values to be considered close, the difference between them\n",
      "        must be smaller than at least one of the tolerances.\n",
      "        \n",
      "        -inf, inf and NaN behave similarly to the IEEE 754 Standard.  That\n",
      "        is, NaN is not close to anything, even itself.  inf and -inf are\n",
      "        only close to themselves.\n",
      "    \n",
      "    isfinite(...)\n",
      "        isfinite(x) -> bool\n",
      "        \n",
      "        Return True if x is neither an infinity nor a NaN, and False otherwise.\n",
      "    \n",
      "    isinf(...)\n",
      "        isinf(x) -> bool\n",
      "        \n",
      "        Return True if x is a positive or negative infinity, and False otherwise.\n",
      "    \n",
      "    isnan(...)\n",
      "        isnan(x) -> bool\n",
      "        \n",
      "        Return True if x is a NaN (not a number), and False otherwise.\n",
      "    \n",
      "    ldexp(...)\n",
      "        ldexp(x, i)\n",
      "        \n",
      "        Return x * (2**i).\n",
      "    \n",
      "    lgamma(...)\n",
      "        lgamma(x)\n",
      "        \n",
      "        Natural logarithm of absolute value of Gamma function at x.\n",
      "    \n",
      "    log(...)\n",
      "        log(x[, base])\n",
      "        \n",
      "        Return the logarithm of x to the given base.\n",
      "        If the base not specified, returns the natural logarithm (base e) of x.\n",
      "    \n",
      "    log10(...)\n",
      "        log10(x)\n",
      "        \n",
      "        Return the base 10 logarithm of x.\n",
      "    \n",
      "    log1p(...)\n",
      "        log1p(x)\n",
      "        \n",
      "        Return the natural logarithm of 1+x (base e).\n",
      "        The result is computed in a way which is accurate for x near zero.\n",
      "    \n",
      "    log2(...)\n",
      "        log2(x)\n",
      "        \n",
      "        Return the base 2 logarithm of x.\n",
      "    \n",
      "    modf(...)\n",
      "        modf(x)\n",
      "        \n",
      "        Return the fractional and integer parts of x.  Both results carry the sign\n",
      "        of x and are floats.\n",
      "    \n",
      "    pow(...)\n",
      "        pow(x, y)\n",
      "        \n",
      "        Return x**y (x to the power of y).\n",
      "    \n",
      "    radians(...)\n",
      "        radians(x)\n",
      "        \n",
      "        Convert angle x from degrees to radians.\n",
      "    \n",
      "    sin(...)\n",
      "        sin(x)\n",
      "        \n",
      "        Return the sine of x (measured in radians).\n",
      "    \n",
      "    sinh(...)\n",
      "        sinh(x)\n",
      "        \n",
      "        Return the hyperbolic sine of x.\n",
      "    \n",
      "    sqrt(...)\n",
      "        sqrt(x)\n",
      "        \n",
      "        Return the square root of x.\n",
      "    \n",
      "    tan(...)\n",
      "        tan(x)\n",
      "        \n",
      "        Return the tangent of x (measured in radians).\n",
      "    \n",
      "    tanh(...)\n",
      "        tanh(x)\n",
      "        \n",
      "        Return the hyperbolic tangent of x.\n",
      "    \n",
      "    trunc(...)\n",
      "        trunc(x:Real) -> Integral\n",
      "        \n",
      "        Truncates x to the nearest Integral toward 0. Uses the __trunc__ magic method.\n",
      "\n",
      "DATA\n",
      "    e = 2.718281828459045\n",
      "    inf = inf\n",
      "    nan = nan\n",
      "    pi = 3.141592653589793\n",
      "    tau = 6.283185307179586\n",
      "\n",
      "FILE\n",
      "    /Users/lgaalves/miniconda3/lib/python3.6/lib-dynload/math.cpython-36m-darwin.so\n",
      "\n",
      "\n"
     ]
    }
   ],
   "source": [
    "help(math)"
   ]
  },
  {
   "cell_type": "markdown",
   "metadata": {},
   "source": [
    "Remember we could also just have typed `math` and then held down Shift+Tab to get a drop down of some available options. But it looks like `exp` is in there somewhere which is just what we want."
   ]
  },
  {
   "cell_type": "code",
   "execution_count": 18,
   "metadata": {
    "ExecuteTime": {
     "end_time": "2019-06-23T21:22:27.360361Z",
     "start_time": "2019-06-23T21:22:27.356753Z"
    },
    "scrolled": true
   },
   "outputs": [
    {
     "name": "stdout",
     "output_type": "stream",
     "text": [
      "Help on built-in function exp in module math:\n",
      "\n",
      "exp(...)\n",
      "    exp(x)\n",
      "    \n",
      "    Return e raised to the power of x.\n",
      "\n"
     ]
    }
   ],
   "source": [
    "help(math.exp)"
   ]
  },
  {
   "cell_type": "markdown",
   "metadata": {},
   "source": [
    "So e raised to the first should just be e! Right?"
   ]
  },
  {
   "cell_type": "code",
   "execution_count": 19,
   "metadata": {
    "ExecuteTime": {
     "end_time": "2019-06-23T21:22:28.092637Z",
     "start_time": "2019-06-23T21:22:28.085343Z"
    },
    "scrolled": true
   },
   "outputs": [
    {
     "data": {
      "text/plain": [
       "2.718281828459045"
      ]
     },
     "execution_count": 19,
     "metadata": {},
     "output_type": "execute_result"
    }
   ],
   "source": [
    "math.exp(1)"
   ]
  },
  {
   "cell_type": "markdown",
   "metadata": {},
   "source": [
    "Success! Now is math.log really defaulting to base e?"
   ]
  },
  {
   "cell_type": "code",
   "execution_count": 20,
   "metadata": {
    "ExecuteTime": {
     "end_time": "2019-06-23T21:22:28.693683Z",
     "start_time": "2019-06-23T21:22:28.689019Z"
    },
    "scrolled": true
   },
   "outputs": [
    {
     "data": {
      "text/plain": [
       "True"
      ]
     },
     "execution_count": 20,
     "metadata": {},
     "output_type": "execute_result"
    }
   ],
   "source": [
    "math.log(348) == math.log(348, math.exp(1))"
   ]
  },
  {
   "cell_type": "markdown",
   "metadata": {},
   "source": [
    "You win `math` library, you win. \n",
    "\n",
    "This is a fun little exercise. But really, I trusted that `math` library all along because I know it's part of the Python Standard Library. Trust is key when using built-in libraries and functions otherwise you might never get anything done. Just don't spread that trust too broadly. You really _really_ need to get in the habit of looking at documentation when you use a library or a function that you've never used before. Thankfully Jupyter gives you a lot of options on how to do so, so you have no excuse. \n",
    "\n",
    "# Time for the tour:"
   ]
  },
  {
   "cell_type": "markdown",
   "metadata": {},
   "source": [
    "# `math` - Mathematical functions\n",
    "[Package documentation](https://docs.python.org/3/library/math.html)\n",
    "\n",
    "Our old friend `math` is as good of a starting point as any. We'll learn a lot more about complex mathematics and statistics libraries later. But for now, you'll need some basic math aside from +-*/ (which should all work as expected!).\n",
    "\n",
    "But to see why `math` is so great let's take a break and try a little exercise:"
   ]
  },
  {
   "cell_type": "markdown",
   "metadata": {},
   "source": [
    "**Exercise:** what is the value of 21! (21 factorial)?"
   ]
  },
  {
   "cell_type": "code",
   "execution_count": 21,
   "metadata": {
    "ExecuteTime": {
     "end_time": "2019-06-23T21:22:30.019223Z",
     "start_time": "2019-06-23T21:22:30.015731Z"
    },
    "scrolled": true
   },
   "outputs": [],
   "source": [
    "def calculate_factorial(number_of_interest):\n",
    "    #Place your code here\n",
    "    return factorial_of_number"
   ]
  },
  {
   "cell_type": "code",
   "execution_count": 22,
   "metadata": {
    "ExecuteTime": {
     "end_time": "2019-06-23T21:22:30.349889Z",
     "start_time": "2019-06-23T21:22:30.339261Z"
    },
    "scrolled": true
   },
   "outputs": [
    {
     "ename": "NameError",
     "evalue": "name 'factorial_of_number' is not defined",
     "output_type": "error",
     "traceback": [
      "\u001b[0;31m---------------------------------------------------------------------------\u001b[0m",
      "\u001b[0;31mNameError\u001b[0m                                 Traceback (most recent call last)",
      "\u001b[0;32m<ipython-input-22-ed783430e5d0>\u001b[0m in \u001b[0;36m<module>\u001b[0;34m\u001b[0m\n\u001b[1;32m      1\u001b[0m \u001b[0mnumber_of_interest\u001b[0m \u001b[0;34m=\u001b[0m \u001b[0;36m21\u001b[0m\u001b[0;34m\u001b[0m\u001b[0;34m\u001b[0m\u001b[0m\n\u001b[0;32m----> 2\u001b[0;31m \u001b[0mcalculate_factorial\u001b[0m\u001b[0;34m(\u001b[0m\u001b[0mnumber_of_interest\u001b[0m\u001b[0;34m)\u001b[0m\u001b[0;34m\u001b[0m\u001b[0;34m\u001b[0m\u001b[0m\n\u001b[0m",
      "\u001b[0;32m<ipython-input-21-1dc1e7e7b982>\u001b[0m in \u001b[0;36mcalculate_factorial\u001b[0;34m(number_of_interest)\u001b[0m\n\u001b[1;32m      1\u001b[0m \u001b[0;32mdef\u001b[0m \u001b[0mcalculate_factorial\u001b[0m\u001b[0;34m(\u001b[0m\u001b[0mnumber_of_interest\u001b[0m\u001b[0;34m)\u001b[0m\u001b[0;34m:\u001b[0m\u001b[0;34m\u001b[0m\u001b[0;34m\u001b[0m\u001b[0m\n\u001b[1;32m      2\u001b[0m     \u001b[0;31m#Place your code here\u001b[0m\u001b[0;34m\u001b[0m\u001b[0;34m\u001b[0m\u001b[0;34m\u001b[0m\u001b[0m\n\u001b[0;32m----> 3\u001b[0;31m     \u001b[0;32mreturn\u001b[0m \u001b[0mfactorial_of_number\u001b[0m\u001b[0;34m\u001b[0m\u001b[0;34m\u001b[0m\u001b[0m\n\u001b[0m",
      "\u001b[0;31mNameError\u001b[0m: name 'factorial_of_number' is not defined"
     ]
    }
   ],
   "source": [
    "number_of_interest = 21\n",
    "calculate_factorial(number_of_interest)"
   ]
  },
  {
   "cell_type": "markdown",
   "metadata": {},
   "source": [
    "When you're learning how to code these exercises are great practice. Once you're comfortable you'll know that it's far easier to say:"
   ]
  },
  {
   "cell_type": "code",
   "execution_count": 23,
   "metadata": {
    "ExecuteTime": {
     "end_time": "2019-06-23T21:22:31.334657Z",
     "start_time": "2019-06-23T21:22:31.329567Z"
    },
    "scrolled": true
   },
   "outputs": [
    {
     "data": {
      "text/plain": [
       "51090942171709440000"
      ]
     },
     "execution_count": 23,
     "metadata": {},
     "output_type": "execute_result"
    }
   ],
   "source": [
    "math.factorial(21)"
   ]
  },
  {
   "cell_type": "markdown",
   "metadata": {},
   "source": [
    "Did your answers match up? They better!"
   ]
  },
  {
   "cell_type": "code",
   "execution_count": 24,
   "metadata": {
    "ExecuteTime": {
     "end_time": "2019-06-23T21:22:33.092135Z",
     "start_time": "2019-06-23T21:22:33.081193Z"
    },
    "scrolled": false
   },
   "outputs": [
    {
     "ename": "NameError",
     "evalue": "name 'factorial_of_number' is not defined",
     "output_type": "error",
     "traceback": [
      "\u001b[0;31m---------------------------------------------------------------------------\u001b[0m",
      "\u001b[0;31mNameError\u001b[0m                                 Traceback (most recent call last)",
      "\u001b[0;32m<ipython-input-24-3a036ff3318c>\u001b[0m in \u001b[0;36m<module>\u001b[0;34m\u001b[0m\n\u001b[0;32m----> 1\u001b[0;31m \u001b[0mmath\u001b[0m\u001b[0;34m.\u001b[0m\u001b[0mfactorial\u001b[0m\u001b[0;34m(\u001b[0m\u001b[0mnumber_of_interest\u001b[0m\u001b[0;34m)\u001b[0m \u001b[0;34m==\u001b[0m \u001b[0mcalculate_factorial\u001b[0m\u001b[0;34m(\u001b[0m\u001b[0mnumber_of_interest\u001b[0m\u001b[0;34m)\u001b[0m\u001b[0;34m\u001b[0m\u001b[0;34m\u001b[0m\u001b[0m\n\u001b[0m",
      "\u001b[0;32m<ipython-input-21-1dc1e7e7b982>\u001b[0m in \u001b[0;36mcalculate_factorial\u001b[0;34m(number_of_interest)\u001b[0m\n\u001b[1;32m      1\u001b[0m \u001b[0;32mdef\u001b[0m \u001b[0mcalculate_factorial\u001b[0m\u001b[0;34m(\u001b[0m\u001b[0mnumber_of_interest\u001b[0m\u001b[0;34m)\u001b[0m\u001b[0;34m:\u001b[0m\u001b[0;34m\u001b[0m\u001b[0;34m\u001b[0m\u001b[0m\n\u001b[1;32m      2\u001b[0m     \u001b[0;31m#Place your code here\u001b[0m\u001b[0;34m\u001b[0m\u001b[0;34m\u001b[0m\u001b[0;34m\u001b[0m\u001b[0m\n\u001b[0;32m----> 3\u001b[0;31m     \u001b[0;32mreturn\u001b[0m \u001b[0mfactorial_of_number\u001b[0m\u001b[0;34m\u001b[0m\u001b[0;34m\u001b[0m\u001b[0m\n\u001b[0m",
      "\u001b[0;31mNameError\u001b[0m: name 'factorial_of_number' is not defined"
     ]
    }
   ],
   "source": [
    "math.factorial(number_of_interest) == calculate_factorial(number_of_interest)"
   ]
  },
  {
   "cell_type": "markdown",
   "metadata": {},
   "source": [
    "# `random` - Generate pseudo-random numbers\n",
    "\n",
    "[Package documentation](https://docs.python.org/3/library/random.html)\n",
    "\n",
    "Greatest Hits:\n",
    "* `random.random()`: returns a number in the range [0.0, 1.0)\n",
    "* `random.randint(a, b)`: returns an integer in the range [a, b]\n",
    "* `random.choice(x)`: randomly returns a value from the sequence x\n",
    "* `random.sample(x, y)`: randomly returns a sample of length y from the sequence x without replacement"
   ]
  },
  {
   "cell_type": "code",
   "execution_count": 25,
   "metadata": {
    "ExecuteTime": {
     "end_time": "2019-06-23T21:22:33.889271Z",
     "start_time": "2019-06-23T21:22:33.885051Z"
    },
    "scrolled": true
   },
   "outputs": [],
   "source": [
    "import random"
   ]
  },
  {
   "cell_type": "markdown",
   "metadata": {},
   "source": [
    "What if I just want a random number between 0 and 1, because who knows, it might be useful (it will be at some point):"
   ]
  },
  {
   "cell_type": "code",
   "execution_count": 26,
   "metadata": {
    "ExecuteTime": {
     "end_time": "2019-06-23T21:22:34.670141Z",
     "start_time": "2019-06-23T21:22:34.664903Z"
    },
    "scrolled": false
   },
   "outputs": [
    {
     "data": {
      "text/plain": [
       "0.19591372200460733"
      ]
     },
     "execution_count": 26,
     "metadata": {},
     "output_type": "execute_result"
    }
   ],
   "source": [
    "random.random()"
   ]
  },
  {
   "cell_type": "markdown",
   "metadata": {},
   "source": [
    "Make sure that you run that cell a few times, you should get a different answer every time.\n",
    "\n",
    "Sometimes integers are just easier to deal with. "
   ]
  },
  {
   "cell_type": "code",
   "execution_count": 27,
   "metadata": {
    "ExecuteTime": {
     "end_time": "2019-06-23T21:22:35.013393Z",
     "start_time": "2019-06-23T21:22:35.009255Z"
    },
    "scrolled": false
   },
   "outputs": [
    {
     "data": {
      "text/plain": [
       "83"
      ]
     },
     "execution_count": 27,
     "metadata": {},
     "output_type": "execute_result"
    }
   ],
   "source": [
    "random.randint(7, 261)"
   ]
  },
  {
   "cell_type": "markdown",
   "metadata": {},
   "source": [
    "__Exercise:__ Are the numbers 7 and 261 included or excluded from this random number generator:"
   ]
  },
  {
   "cell_type": "code",
   "execution_count": 28,
   "metadata": {
    "ExecuteTime": {
     "end_time": "2019-06-23T21:22:35.528167Z",
     "start_time": "2019-06-23T21:22:35.525663Z"
    },
    "scrolled": false
   },
   "outputs": [],
   "source": [
    "#Place your code here\n",
    "\n"
   ]
  },
  {
   "cell_type": "markdown",
   "metadata": {},
   "source": [
    "For a lot of statistical tests you'll want to be able to randomly select items from a list so here are two easy ways to do it. As always, if this is random it better give you different results when you run it multiple times!"
   ]
  },
  {
   "cell_type": "code",
   "execution_count": 29,
   "metadata": {
    "ExecuteTime": {
     "end_time": "2019-06-23T21:22:36.217879Z",
     "start_time": "2019-06-23T21:22:36.214539Z"
    },
    "scrolled": false
   },
   "outputs": [],
   "source": [
    "dwarfs = ['Doc', 'Grumpy', 'Happy', 'Sleepy', 'Bashful', 'Sneezy', 'Dopey']"
   ]
  },
  {
   "cell_type": "code",
   "execution_count": 30,
   "metadata": {
    "ExecuteTime": {
     "end_time": "2019-06-23T21:22:36.628557Z",
     "start_time": "2019-06-23T21:22:36.623185Z"
    },
    "scrolled": false
   },
   "outputs": [
    {
     "data": {
      "text/plain": [
       "['Doc', 'Bashful', 'Sleepy']"
      ]
     },
     "execution_count": 30,
     "metadata": {},
     "output_type": "execute_result"
    }
   ],
   "source": [
    "random.sample(dwarfs, 3)"
   ]
  },
  {
   "cell_type": "code",
   "execution_count": 31,
   "metadata": {
    "ExecuteTime": {
     "end_time": "2019-06-23T21:22:37.076881Z",
     "start_time": "2019-06-23T21:22:37.072215Z"
    },
    "scrolled": false
   },
   "outputs": [
    {
     "data": {
      "text/plain": [
       "'Bashful'"
      ]
     },
     "execution_count": 31,
     "metadata": {},
     "output_type": "execute_result"
    }
   ],
   "source": [
    "random.choice(dwarfs)"
   ]
  },
  {
   "cell_type": "markdown",
   "metadata": {},
   "source": [
    "# `os` - Miscellaneous operating system interfaces\n",
    "\n",
    "[Package documentation](https://docs.python.org/3/library/os.html)\n",
    "\n",
    "These should be pretty self explanatory. But when you're navigating through file systems to read and write files you'll quickly learn how important they are."
   ]
  },
  {
   "cell_type": "code",
   "execution_count": 32,
   "metadata": {
    "ExecuteTime": {
     "end_time": "2019-06-23T21:22:38.078535Z",
     "start_time": "2019-06-23T21:22:38.075452Z"
    },
    "scrolled": true
   },
   "outputs": [],
   "source": [
    "import os"
   ]
  },
  {
   "cell_type": "code",
   "execution_count": 33,
   "metadata": {
    "ExecuteTime": {
     "end_time": "2019-06-23T21:22:38.739830Z",
     "start_time": "2019-06-23T21:22:38.732640Z"
    },
    "scrolled": false
   },
   "outputs": [
    {
     "name": "stdout",
     "output_type": "stream",
     "text": [
      "/Users/lgaalves/Documents/presentations/school_of_applied_math/Lessons\n"
     ]
    }
   ],
   "source": [
    "current_directory = os.getcwd()\n",
    "print(current_directory)"
   ]
  },
  {
   "cell_type": "code",
   "execution_count": 34,
   "metadata": {
    "ExecuteTime": {
     "end_time": "2019-06-23T21:22:39.228491Z",
     "start_time": "2019-06-23T21:22:39.224434Z"
    },
    "scrolled": false
   },
   "outputs": [
    {
     "name": "stdout",
     "output_type": "stream",
     "text": [
      "['Day4_pm1_Mini-Project.ipynb', 'Day6_am1_Using_APIs_1.ipynb', 'Day3_pm1_Functions.ipynb', '.DS_Store', 'Day7_pm2_Structured-Data-Analysis-Pt2.ipynb', 'Day3_am2_Data-Visualization.ipynb', 'Day4_am1_Dictionaries.ipynb', 'Day8_am1_Image-Manipulation.ipynb', 'Day5_pm2_Sentiment-Analysis.ipynb', 'Day7_am1_Statistical_analysis_w_Python.ipynb', 'Day6_am2_Using_APIs_2.ipynb', 'Day5_am1_Text-analysis.ipynb', 'Day8_pm1_Cell_detection_project.ipynb', 'Day6_pm1_Web_scraping.ipynb', 'Day8_am2_Image-Analysis.ipynb', 'introduction-to-python', 'Day7_am2_The-Bootstrap.ipynb', 'Day3_pm2_Review.ipynb', 'Day7_pm1_Structured-Data-Analysis-Pt1.ipynb', 'Day5_pm1_Regular-expressions.ipynb', 'Day3_am1_Standard-Library.ipynb', '.ipynb_checkpoints', 'Day7_am2_More_stats_w_Python.ipynb', 'Day4_am2_Review.ipynb', 'Day7_am2_Bootstrapping_MC_chains.ipynb', 'web-scrapping']\n"
     ]
    }
   ],
   "source": [
    "contents = os.listdir(current_directory)\n",
    "print(contents)"
   ]
  },
  {
   "cell_type": "markdown",
   "metadata": {},
   "source": [
    "# `glob` - Unix-style pathname pattern expansion\n",
    "\n",
    "[Package documentation](https://docs.python.org/3/library/glob.html)\n",
    "\n",
    "`glob` doesn't have a lot. In fact, it's just two functions which are quite similar but powerful nevertheless. "
   ]
  },
  {
   "cell_type": "code",
   "execution_count": 35,
   "metadata": {
    "ExecuteTime": {
     "end_time": "2019-06-23T21:22:41.818139Z",
     "start_time": "2019-06-23T21:22:41.814635Z"
    },
    "scrolled": true
   },
   "outputs": [],
   "source": [
    "import glob"
   ]
  },
  {
   "cell_type": "code",
   "execution_count": 36,
   "metadata": {
    "ExecuteTime": {
     "end_time": "2019-06-23T21:22:42.312020Z",
     "start_time": "2019-06-23T21:22:42.307774Z"
    },
    "scrolled": false
   },
   "outputs": [
    {
     "name": "stdout",
     "output_type": "stream",
     "text": [
      "Help on module glob:\n",
      "\n",
      "NAME\n",
      "    glob - Filename globbing utility.\n",
      "\n",
      "MODULE REFERENCE\n",
      "    https://docs.python.org/3.6/library/glob\n",
      "    \n",
      "    The following documentation is automatically generated from the Python\n",
      "    source files.  It may be incomplete, incorrect or include features that\n",
      "    are considered implementation detail and may vary between Python\n",
      "    implementations.  When in doubt, consult the module reference at the\n",
      "    location listed above.\n",
      "\n",
      "FUNCTIONS\n",
      "    escape(pathname)\n",
      "        Escape all special characters.\n",
      "    \n",
      "    glob(pathname, *, recursive=False)\n",
      "        Return a list of paths matching a pathname pattern.\n",
      "        \n",
      "        The pattern may contain simple shell-style wildcards a la\n",
      "        fnmatch. However, unlike fnmatch, filenames starting with a\n",
      "        dot are special cases that are not matched by '*' and '?'\n",
      "        patterns.\n",
      "        \n",
      "        If recursive is true, the pattern '**' will match any files and\n",
      "        zero or more directories and subdirectories.\n",
      "    \n",
      "    iglob(pathname, *, recursive=False)\n",
      "        Return an iterator which yields the paths matching a pathname pattern.\n",
      "        \n",
      "        The pattern may contain simple shell-style wildcards a la\n",
      "        fnmatch. However, unlike fnmatch, filenames starting with a\n",
      "        dot are special cases that are not matched by '*' and '?'\n",
      "        patterns.\n",
      "        \n",
      "        If recursive is true, the pattern '**' will match any files and\n",
      "        zero or more directories and subdirectories.\n",
      "\n",
      "DATA\n",
      "    __all__ = ['glob', 'iglob', 'escape']\n",
      "\n",
      "FILE\n",
      "    /Users/lgaalves/miniconda3/lib/python3.6/glob.py\n",
      "\n",
      "\n"
     ]
    }
   ],
   "source": [
    "help(glob)"
   ]
  },
  {
   "cell_type": "code",
   "execution_count": 37,
   "metadata": {
    "ExecuteTime": {
     "end_time": "2019-06-23T21:22:42.784491Z",
     "start_time": "2019-06-23T21:22:42.775738Z"
    },
    "scrolled": false
   },
   "outputs": [
    {
     "name": "stdout",
     "output_type": "stream",
     "text": [
      "/Users/lgaalves/Documents/presentations/school_of_applied_math/Lessons/Day4_pm1_Mini-Project.ipynb\n",
      "/Users/lgaalves/Documents/presentations/school_of_applied_math/Lessons/Day6_am1_Using_APIs_1.ipynb\n",
      "/Users/lgaalves/Documents/presentations/school_of_applied_math/Lessons/Day3_pm1_Functions.ipynb\n",
      "/Users/lgaalves/Documents/presentations/school_of_applied_math/Lessons/Day7_pm2_Structured-Data-Analysis-Pt2.ipynb\n",
      "/Users/lgaalves/Documents/presentations/school_of_applied_math/Lessons/Day3_am2_Data-Visualization.ipynb\n",
      "/Users/lgaalves/Documents/presentations/school_of_applied_math/Lessons/Day4_am1_Dictionaries.ipynb\n",
      "/Users/lgaalves/Documents/presentations/school_of_applied_math/Lessons/Day8_am1_Image-Manipulation.ipynb\n",
      "/Users/lgaalves/Documents/presentations/school_of_applied_math/Lessons/Day5_pm2_Sentiment-Analysis.ipynb\n",
      "/Users/lgaalves/Documents/presentations/school_of_applied_math/Lessons/Day7_am1_Statistical_analysis_w_Python.ipynb\n",
      "/Users/lgaalves/Documents/presentations/school_of_applied_math/Lessons/Day6_am2_Using_APIs_2.ipynb\n",
      "/Users/lgaalves/Documents/presentations/school_of_applied_math/Lessons/Day5_am1_Text-analysis.ipynb\n",
      "/Users/lgaalves/Documents/presentations/school_of_applied_math/Lessons/Day8_pm1_Cell_detection_project.ipynb\n",
      "/Users/lgaalves/Documents/presentations/school_of_applied_math/Lessons/Day6_pm1_Web_scraping.ipynb\n",
      "/Users/lgaalves/Documents/presentations/school_of_applied_math/Lessons/Day8_am2_Image-Analysis.ipynb\n",
      "/Users/lgaalves/Documents/presentations/school_of_applied_math/Lessons/introduction-to-python\n",
      "/Users/lgaalves/Documents/presentations/school_of_applied_math/Lessons/Day7_am2_The-Bootstrap.ipynb\n",
      "/Users/lgaalves/Documents/presentations/school_of_applied_math/Lessons/Day3_pm2_Review.ipynb\n",
      "/Users/lgaalves/Documents/presentations/school_of_applied_math/Lessons/Day7_pm1_Structured-Data-Analysis-Pt1.ipynb\n",
      "/Users/lgaalves/Documents/presentations/school_of_applied_math/Lessons/Day5_pm1_Regular-expressions.ipynb\n",
      "/Users/lgaalves/Documents/presentations/school_of_applied_math/Lessons/Day3_am1_Standard-Library.ipynb\n",
      "/Users/lgaalves/Documents/presentations/school_of_applied_math/Lessons/Day7_am2_More_stats_w_Python.ipynb\n",
      "/Users/lgaalves/Documents/presentations/school_of_applied_math/Lessons/Day4_am2_Review.ipynb\n",
      "/Users/lgaalves/Documents/presentations/school_of_applied_math/Lessons/Day7_am2_Bootstrapping_MC_chains.ipynb\n",
      "/Users/lgaalves/Documents/presentations/school_of_applied_math/Lessons/web-scrapping\n"
     ]
    }
   ],
   "source": [
    "for infile in glob.glob(current_directory + '/*'):\n",
    "    print(infile)"
   ]
  },
  {
   "cell_type": "markdown",
   "metadata": {},
   "source": [
    "**Exercise:** how many files are in your current directory? How many of those are '.ipynb' files?"
   ]
  },
  {
   "cell_type": "code",
   "execution_count": 38,
   "metadata": {
    "ExecuteTime": {
     "end_time": "2019-06-23T21:22:44.322342Z",
     "start_time": "2019-06-23T21:22:44.318771Z"
    },
    "scrolled": true
   },
   "outputs": [],
   "source": [
    "###Place code here\n"
   ]
  },
  {
   "cell_type": "markdown",
   "metadata": {},
   "source": [
    "# `time` - Time access and conversions\n",
    "\n",
    "[Package documentation](https://docs.python.org/3/library/time.html)\n",
    "\n",
    "Greatest Hits:\n",
    "* `time.sleep(x)`: pauses for x seconds\n",
    "* `time.time()`: gets current time in seconds"
   ]
  },
  {
   "cell_type": "code",
   "execution_count": 39,
   "metadata": {
    "ExecuteTime": {
     "end_time": "2019-06-23T21:22:45.211133Z",
     "start_time": "2019-06-23T21:22:45.208552Z"
    },
    "scrolled": true
   },
   "outputs": [],
   "source": [
    "import time"
   ]
  },
  {
   "cell_type": "code",
   "execution_count": 40,
   "metadata": {
    "ExecuteTime": {
     "end_time": "2019-06-23T21:22:45.709280Z",
     "start_time": "2019-06-23T21:22:45.704591Z"
    },
    "scrolled": false
   },
   "outputs": [
    {
     "data": {
      "text/plain": [
       "1561324965.7057338"
      ]
     },
     "execution_count": 40,
     "metadata": {},
     "output_type": "execute_result"
    }
   ],
   "source": [
    "time.time()"
   ]
  },
  {
   "cell_type": "code",
   "execution_count": 41,
   "metadata": {
    "ExecuteTime": {
     "end_time": "2019-06-23T21:22:46.059266Z",
     "start_time": "2019-06-23T21:22:46.051183Z"
    },
    "scrolled": false
   },
   "outputs": [
    {
     "data": {
      "text/plain": [
       "1561324966.05299"
      ]
     },
     "execution_count": 41,
     "metadata": {},
     "output_type": "execute_result"
    }
   ],
   "source": [
    "time.time()"
   ]
  },
  {
   "cell_type": "markdown",
   "metadata": {},
   "source": [
    "This can be a useful if somewhat tedious way to see how long your code takes to run!"
   ]
  },
  {
   "cell_type": "code",
   "execution_count": 42,
   "metadata": {
    "ExecuteTime": {
     "end_time": "2019-06-23T21:22:46.579020Z",
     "start_time": "2019-06-23T21:22:46.571167Z"
    },
    "scrolled": false
   },
   "outputs": [
    {
     "name": "stdout",
     "output_type": "stream",
     "text": [
      "0.0035271644592285156\n"
     ]
    }
   ],
   "source": [
    "start_time = time.time()\n",
    "for i in range(10000):\n",
    "    trash = i**2\n",
    "end_time = time.time()\n",
    "print(end_time - start_time)"
   ]
  },
  {
   "cell_type": "markdown",
   "metadata": {},
   "source": [
    "(There is another library called `timeit` that provides functions to help you do this as well)"
   ]
  },
  {
   "cell_type": "code",
   "execution_count": 43,
   "metadata": {
    "ExecuteTime": {
     "end_time": "2019-06-23T21:22:47.210427Z",
     "start_time": "2019-06-23T21:22:47.174432Z"
    },
    "scrolled": false
   },
   "outputs": [
    {
     "data": {
      "text/plain": [
       "0.03151125001022592"
      ]
     },
     "execution_count": 43,
     "metadata": {},
     "output_type": "execute_result"
    }
   ],
   "source": [
    "###Place your code here\n",
    "import timeit\n",
    "timeit.timeit('for i in range(10000): trash = i**2', number=10)"
   ]
  },
  {
   "cell_type": "markdown",
   "metadata": {},
   "source": [
    "__Exercise__: Remember when we made a function to rival `math.factorial`? Which one runs faster?"
   ]
  },
  {
   "cell_type": "code",
   "execution_count": null,
   "metadata": {
    "scrolled": false
   },
   "outputs": [],
   "source": []
  },
  {
   "cell_type": "markdown",
   "metadata": {},
   "source": [
    "On rare occasions, you might actually want your code to run _slower_ (perhaps when scraping a website). You might want to take a little break between each time you run a line of code:"
   ]
  },
  {
   "cell_type": "code",
   "execution_count": 44,
   "metadata": {
    "ExecuteTime": {
     "end_time": "2019-06-23T21:23:08.229253Z",
     "start_time": "2019-06-23T21:22:48.195847Z"
    },
    "scrolled": false
   },
   "outputs": [
    {
     "name": "stdout",
     "output_type": "stream",
     "text": [
      "0\n",
      "1\n",
      "2\n",
      "3\n",
      "4\n",
      "5\n",
      "6\n",
      "7\n",
      "8\n",
      "9\n"
     ]
    }
   ],
   "source": [
    "for i in range(10):\n",
    "    print(i)\n",
    "    time.sleep(2)"
   ]
  },
  {
   "cell_type": "markdown",
   "metadata": {},
   "source": [
    "Compare that to:"
   ]
  },
  {
   "cell_type": "code",
   "execution_count": 45,
   "metadata": {
    "ExecuteTime": {
     "end_time": "2019-06-23T21:23:08.237684Z",
     "start_time": "2019-06-23T21:23:08.231756Z"
    },
    "scrolled": false
   },
   "outputs": [
    {
     "name": "stdout",
     "output_type": "stream",
     "text": [
      "0\n",
      "1\n",
      "2\n",
      "3\n",
      "4\n",
      "5\n",
      "6\n",
      "7\n",
      "8\n",
      "9\n"
     ]
    }
   ],
   "source": [
    "for i in range(10):\n",
    "    print(i)"
   ]
  },
  {
   "cell_type": "markdown",
   "metadata": {},
   "source": [
    "# `datetime` - Basic date and time types\n",
    "\n",
    "[Package documentation](https://docs.python.org/3/library/datetime.html)\n",
    "\n",
    "We'll talk about this package a bit more later, but for now let's just give you some basics:"
   ]
  },
  {
   "cell_type": "code",
   "execution_count": 46,
   "metadata": {
    "ExecuteTime": {
     "end_time": "2019-06-23T21:23:08.243862Z",
     "start_time": "2019-06-23T21:23:08.240505Z"
    },
    "scrolled": true
   },
   "outputs": [],
   "source": [
    "import datetime"
   ]
  },
  {
   "cell_type": "code",
   "execution_count": 47,
   "metadata": {
    "ExecuteTime": {
     "end_time": "2019-06-23T21:23:08.253091Z",
     "start_time": "2019-06-23T21:23:08.247655Z"
    },
    "scrolled": false
   },
   "outputs": [
    {
     "name": "stdout",
     "output_type": "stream",
     "text": [
      "2019-06-23\n",
      "23\n",
      "2019\n"
     ]
    }
   ],
   "source": [
    "today = datetime.date.today()\n",
    "print(today)\n",
    "print(today.day)\n",
    "print(today.year)\n"
   ]
  },
  {
   "cell_type": "code",
   "execution_count": 48,
   "metadata": {
    "ExecuteTime": {
     "end_time": "2019-06-23T21:23:08.261690Z",
     "start_time": "2019-06-23T21:23:08.255985Z"
    },
    "scrolled": false
   },
   "outputs": [
    {
     "name": "stdout",
     "output_type": "stream",
     "text": [
      "25\n",
      "2\n",
      "1984\n"
     ]
    }
   ],
   "source": [
    "birthday = datetime.date(1984, 2, 25)\n",
    "print(birthday.day)\n",
    "print(birthday.month)\n",
    "print(birthday.year)"
   ]
  },
  {
   "cell_type": "markdown",
   "metadata": {},
   "source": [
    "In _one_ variable called `birthday` we now have lots of information. This is much easier to work with than having separate variables for each of these:\n",
    "```\n",
    "birth_day = 25\n",
    "birth_month = 2\n",
    "birth_year = 1984\n",
    "```\n",
    "or one variable that we have to split apart everytime we only care about a particular piece of it:\n",
    "\n",
    "```\n",
    "birthday = '02-25-1984'\n",
    "```"
   ]
  },
  {
   "cell_type": "markdown",
   "metadata": {},
   "source": [
    "# `copy` - Shallow and deep copy operations\n",
    "\n",
    "[Package documentation](https://docs.python.org/3/library/copy.html)\n",
    "\n",
    "Greatest Hits:\n",
    "* `copy.copy(x)`\n",
    "* `copy.deepcopy(x)`\n",
    "\n",
    "This is a really subtle but important point that you need to be aware of."
   ]
  },
  {
   "cell_type": "code",
   "execution_count": 49,
   "metadata": {
    "ExecuteTime": {
     "end_time": "2019-06-23T21:23:08.270246Z",
     "start_time": "2019-06-23T21:23:08.264285Z"
    },
    "scrolled": true
   },
   "outputs": [],
   "source": [
    "import copy"
   ]
  },
  {
   "cell_type": "markdown",
   "metadata": {},
   "source": [
    "Suppose I defined variable `x` and for the time being I want to have `y` equal the same thing:"
   ]
  },
  {
   "cell_type": "code",
   "execution_count": 50,
   "metadata": {
    "ExecuteTime": {
     "end_time": "2019-06-23T21:23:08.278932Z",
     "start_time": "2019-06-23T21:23:08.274591Z"
    },
    "scrolled": true
   },
   "outputs": [],
   "source": [
    "x = [5, 6]\n",
    "y = x"
   ]
  },
  {
   "cell_type": "markdown",
   "metadata": {},
   "source": [
    "But now something came up, I need to change `y`:"
   ]
  },
  {
   "cell_type": "code",
   "execution_count": 51,
   "metadata": {
    "ExecuteTime": {
     "end_time": "2019-06-23T21:23:08.287937Z",
     "start_time": "2019-06-23T21:23:08.283291Z"
    },
    "scrolled": false
   },
   "outputs": [],
   "source": [
    "y[0] = 2"
   ]
  },
  {
   "cell_type": "markdown",
   "metadata": {},
   "source": [
    "So now what are the values of x and y?"
   ]
  },
  {
   "cell_type": "code",
   "execution_count": 52,
   "metadata": {
    "ExecuteTime": {
     "end_time": "2019-06-23T21:23:08.299021Z",
     "start_time": "2019-06-23T21:23:08.292853Z"
    },
    "scrolled": false
   },
   "outputs": [
    {
     "name": "stdout",
     "output_type": "stream",
     "text": [
      "[2, 6]\n",
      "[2, 6]\n"
     ]
    }
   ],
   "source": [
    "print(x)\n",
    "print(y)"
   ]
  },
  {
   "cell_type": "markdown",
   "metadata": {},
   "source": [
    "Ack! That's not what we wanted at all. This is an important point in Python. Every time you are trying to copy a variable that is a collection (list, tuple, set, or dictionary) python actually copies just the _reference_ to that variable in order to save memory.\n",
    "\n",
    "So how would we get what we wanted? Enter `copy`"
   ]
  },
  {
   "cell_type": "code",
   "execution_count": 53,
   "metadata": {
    "ExecuteTime": {
     "end_time": "2019-06-23T21:23:08.310879Z",
     "start_time": "2019-06-23T21:23:08.304493Z"
    },
    "scrolled": false
   },
   "outputs": [
    {
     "name": "stdout",
     "output_type": "stream",
     "text": [
      "[5, 6]\n",
      "[2, 6]\n"
     ]
    }
   ],
   "source": [
    "x = [5, 6]\n",
    "y = copy.copy(x)\n",
    "y[0] = 2\n",
    "print(x)\n",
    "print(y)"
   ]
  },
  {
   "cell_type": "markdown",
   "metadata": {},
   "source": [
    "Much better. However `copy.copy()` is _shallow_. If I have nested lists for instance it would only 'copy' the top-level list and not the underlying lists. It's a subtle point but for almost all applications what you really want is copy.deepcopy(). I.e. it will create an exact replica all the way down to the variable you give it. And it functions the exact same way as copy:"
   ]
  },
  {
   "cell_type": "code",
   "execution_count": 54,
   "metadata": {
    "ExecuteTime": {
     "end_time": "2019-06-23T21:23:08.320131Z",
     "start_time": "2019-06-23T21:23:08.313260Z"
    },
    "scrolled": false
   },
   "outputs": [
    {
     "name": "stdout",
     "output_type": "stream",
     "text": [
      "['a', [2, 6]]\n",
      "['a', [2, 6]]\n"
     ]
    }
   ],
   "source": [
    "# Standard copy.copy doesn't work\n",
    "\n",
    "x = [\"a\", [5, 6]]\n",
    "y = copy.copy(x)\n",
    "y[1][0] = 2\n",
    "print(x)\n",
    "print(y)"
   ]
  },
  {
   "cell_type": "code",
   "execution_count": 55,
   "metadata": {
    "ExecuteTime": {
     "end_time": "2019-06-23T21:23:08.329731Z",
     "start_time": "2019-06-23T21:23:08.322293Z"
    },
    "scrolled": false
   },
   "outputs": [
    {
     "name": "stdout",
     "output_type": "stream",
     "text": [
      "['a', [5, 6]]\n",
      "['a', [2, 6]]\n"
     ]
    }
   ],
   "source": [
    "# But copy.deepcopy works!\n",
    "\n",
    "x = [\"a\", [5, 6]]\n",
    "y = copy.deepcopy(x)\n",
    "y[1][0] = 2\n",
    "print(x)\n",
    "print(y)"
   ]
  },
  {
   "cell_type": "markdown",
   "metadata": {},
   "source": [
    "# `operator` - Standard operators as functions\n",
    "\n",
    "[Package documentation](https://docs.python.org/3/library/operator.html)\n",
    "\n",
    "This will be easiest to describe with an example:"
   ]
  },
  {
   "cell_type": "code",
   "execution_count": 56,
   "metadata": {
    "ExecuteTime": {
     "end_time": "2019-06-23T21:23:08.337331Z",
     "start_time": "2019-06-23T21:23:08.332900Z"
    },
    "scrolled": true
   },
   "outputs": [],
   "source": [
    "import operator"
   ]
  },
  {
   "cell_type": "code",
   "execution_count": 57,
   "metadata": {
    "ExecuteTime": {
     "end_time": "2019-06-23T21:23:08.347117Z",
     "start_time": "2019-06-23T21:23:08.340535Z"
    },
    "scrolled": false
   },
   "outputs": [
    {
     "name": "stdout",
     "output_type": "stream",
     "text": [
      "[[2, 4, 5], [5, 4, 3], [9, 2, 1]]\n"
     ]
    }
   ],
   "source": [
    "x = [[5,4,3], [2, 4, 5], [9,2,1]]\n",
    "x.sort()\n",
    "print(x)"
   ]
  },
  {
   "cell_type": "markdown",
   "metadata": {},
   "source": [
    "What actually happened here? I sorted a list of lists based off of the first value of the lists. But suppose I wantd to sort based off the second? or the last?"
   ]
  },
  {
   "cell_type": "code",
   "execution_count": 61,
   "metadata": {
    "ExecuteTime": {
     "end_time": "2019-06-23T21:23:21.350268Z",
     "start_time": "2019-06-23T21:23:21.345636Z"
    },
    "scrolled": false
   },
   "outputs": [
    {
     "name": "stdout",
     "output_type": "stream",
     "text": [
      "[[9, 2, 1], [2, 4, 5], [5, 4, 3]]\n"
     ]
    }
   ],
   "source": [
    "x.sort(key=operator.itemgetter(3))\n",
    "print(x)"
   ]
  },
  {
   "cell_type": "markdown",
   "metadata": {},
   "source": [
    "Woops! Remember, the lists inside only have three elements in them. And we start indexing at 0 so I just told it to sort based off a non-existent entry. "
   ]
  },
  {
   "cell_type": "code",
   "execution_count": 62,
   "metadata": {
    "ExecuteTime": {
     "end_time": "2019-06-23T21:23:28.265966Z",
     "start_time": "2019-06-23T21:23:28.261829Z"
    },
    "scrolled": false
   },
   "outputs": [
    {
     "name": "stdout",
     "output_type": "stream",
     "text": [
      "[[9, 2, 1], [5, 4, 3], [2, 4, 5]]\n"
     ]
    }
   ],
   "source": [
    "x.sort(key=operator.itemgetter(2))\n",
    "print(x)"
   ]
  },
  {
   "cell_type": "markdown",
   "metadata": {},
   "source": [
    "Much better :)"
   ]
  },
  {
   "cell_type": "markdown",
   "metadata": {},
   "source": [
    "# `collections` - Container datatypes\n",
    "\n",
    "[Package documentation](https://docs.python.org/3/library/collections.html)\n",
    "\n",
    "Greatest Hits:\n",
    "* `collections.Counter`: counts repeated instances from an iterable\n",
    "\n",
    "A pretty common problem that you may encounter is: given a list, how many times does each unique element appear inside of that list? \n",
    "\n",
    "An easy way to solve this is with Counter"
   ]
  },
  {
   "cell_type": "code",
   "execution_count": 63,
   "metadata": {
    "ExecuteTime": {
     "end_time": "2019-06-23T21:23:30.033113Z",
     "start_time": "2019-06-23T21:23:30.022970Z"
    },
    "scrolled": true
   },
   "outputs": [
    {
     "ename": "NameError",
     "evalue": "name 'dwarfs_count' is not defined",
     "output_type": "error",
     "traceback": [
      "\u001b[0;31m---------------------------------------------------------------------------\u001b[0m",
      "\u001b[0;31mNameError\u001b[0m                                 Traceback (most recent call last)",
      "\u001b[0;32m<ipython-input-63-9f152fff9dfd>\u001b[0m in \u001b[0;36m<module>\u001b[0;34m\u001b[0m\n\u001b[1;32m      5\u001b[0m \u001b[0;34m\u001b[0m\u001b[0m\n\u001b[1;32m      6\u001b[0m \u001b[0;34m\u001b[0m\u001b[0m\n\u001b[0;32m----> 7\u001b[0;31m \u001b[0mprint\u001b[0m\u001b[0;34m(\u001b[0m\u001b[0mdwarfs_count\u001b[0m\u001b[0;34m)\u001b[0m\u001b[0;34m\u001b[0m\u001b[0;34m\u001b[0m\u001b[0m\n\u001b[0m",
      "\u001b[0;31mNameError\u001b[0m: name 'dwarfs_count' is not defined"
     ]
    }
   ],
   "source": [
    "#Write code to count the occurrences of all the names in the list\n",
    "dwarfs = ['Doc', 'Grumpy', 'Happy', 'Sleepy', 'Bashful', 'Sneezy', 'Doc', 'Dopey']\n",
    "###Place your code here\n",
    "\n",
    "\n",
    "\n",
    "print(dwarfs_count)"
   ]
  },
  {
   "cell_type": "markdown",
   "metadata": {},
   "source": [
    "While that's a good exercise, it's obviously a little bit tedious. Since I mentioned that this is a common problem, as you might expect, the work has already been done for you. "
   ]
  },
  {
   "cell_type": "code",
   "execution_count": 64,
   "metadata": {
    "ExecuteTime": {
     "end_time": "2019-06-23T21:23:31.799541Z",
     "start_time": "2019-06-23T21:23:31.792643Z"
    },
    "scrolled": false
   },
   "outputs": [
    {
     "name": "stdout",
     "output_type": "stream",
     "text": [
      "{'Doc': 2, 'Grumpy': 1, 'Happy': 1, 'Sleepy': 1, 'Bashful': 1, 'Sneezy': 1, 'Dopey': 1}\n"
     ]
    }
   ],
   "source": [
    "import collections\n",
    "dwarfs = ['Doc', 'Grumpy', 'Happy', 'Sleepy', 'Bashful', 'Sneezy', 'Doc', 'Dopey']\n",
    "dwarfs_count = dict(collections.Counter(dwarfs))\n",
    "print(dwarfs_count)"
   ]
  },
  {
   "cell_type": "markdown",
   "metadata": {},
   "source": [
    "# Bonus libraries (because they're awesome):\n",
    "\n",
    "# `numpy` - Numerical Python\n",
    "[Package documentation](http://docs.scipy.org/doc/numpy/)\n",
    "\n",
    "\n",
    "# `scipy` - Scientific Python\n",
    "[Package documentation](http://docs.scipy.org/doc/scipy/reference/)\n",
    "\n",
    "Strictly speaking, neither of these packages are in the Python Standard Library. But they're included by default in 'Anaconda' because they're extremely useful for any scientist. Both of these packages have a ton of information in them and you're sure to see more of them throughout the remainder of this bootcamp. But for now here are a few basics just to get you started and to show you how easy statistics is in python. \n",
    "\n",
    "\n",
    "*data from: [statcrunch](https://www.statcrunch.com/5.0/shareddata.php?keywords=HEIGHT)\n"
   ]
  },
  {
   "cell_type": "code",
   "execution_count": 66,
   "metadata": {
    "ExecuteTime": {
     "end_time": "2019-06-23T21:24:02.972832Z",
     "start_time": "2019-06-23T21:24:02.967807Z"
    },
    "scrolled": true
   },
   "outputs": [],
   "source": [
    "ny_sky_scrapers = [541.3, 417, 415.1, 381, 365.8, 318.9, 318.8, 306.4, 297.7, 290.2]\n",
    "chicago_sky_scrapers = [442.1, 423.2, 346.3, 343.7, 306.9, 303.3, 292.9, 265, 261.9, 261.8]"
   ]
  },
  {
   "cell_type": "markdown",
   "metadata": {},
   "source": [
    "Okay we have some data, the common question is... are they significantly different? Some common summary statistics that we might want are the mean and the standard deviations. Let's go ahead and get those easily using numpy:"
   ]
  },
  {
   "cell_type": "code",
   "execution_count": 67,
   "metadata": {
    "ExecuteTime": {
     "end_time": "2019-06-23T21:24:04.310670Z",
     "start_time": "2019-06-23T21:24:03.701112Z"
    },
    "scrolled": false
   },
   "outputs": [
    {
     "name": "stdout",
     "output_type": "stream",
     "text": [
      "365.21999999999997 73.7358772918584\n",
      "324.71 61.28861966140207\n"
     ]
    }
   ],
   "source": [
    "import numpy as np\n",
    "print(np.mean(ny_sky_scrapers), np.std(ny_sky_scrapers))\n",
    "print(np.mean(chicago_sky_scrapers), np.std(chicago_sky_scrapers))"
   ]
  },
  {
   "cell_type": "markdown",
   "metadata": {},
   "source": [
    "Looks like buildings in NYC are taller! But is the difference significant? For that, we can turn to scipy..."
   ]
  },
  {
   "cell_type": "code",
   "execution_count": 68,
   "metadata": {
    "ExecuteTime": {
     "end_time": "2019-06-23T21:24:05.877193Z",
     "start_time": "2019-06-23T21:24:05.115160Z"
    },
    "scrolled": false
   },
   "outputs": [
    {
     "name": "stdout",
     "output_type": "stream",
     "text": [
      "Ttest_indResult(statistic=1.2675012140787592, pvalue=0.2211287940263085)\n"
     ]
    }
   ],
   "source": [
    "from scipy import stats\n",
    "print(stats.ttest_ind(ny_sky_scrapers, chicago_sky_scrapers))"
   ]
  },
  {
   "cell_type": "markdown",
   "metadata": {},
   "source": [
    "Well, we have some numbers! But what are they? Don't forget to always check the documentation!"
   ]
  },
  {
   "cell_type": "code",
   "execution_count": 69,
   "metadata": {
    "ExecuteTime": {
     "end_time": "2019-06-23T21:24:06.111837Z",
     "start_time": "2019-06-23T21:24:06.106768Z"
    }
   },
   "outputs": [
    {
     "name": "stdout",
     "output_type": "stream",
     "text": [
      "Help on function ttest_ind in module scipy.stats.stats:\n",
      "\n",
      "ttest_ind(a, b, axis=0, equal_var=True, nan_policy='propagate')\n",
      "    Calculate the T-test for the means of *two independent* samples of scores.\n",
      "    \n",
      "    This is a two-sided test for the null hypothesis that 2 independent samples\n",
      "    have identical average (expected) values. This test assumes that the\n",
      "    populations have identical variances by default.\n",
      "    \n",
      "    Parameters\n",
      "    ----------\n",
      "    a, b : array_like\n",
      "        The arrays must have the same shape, except in the dimension\n",
      "        corresponding to `axis` (the first, by default).\n",
      "    axis : int or None, optional\n",
      "        Axis along which to compute test. If None, compute over the whole\n",
      "        arrays, `a`, and `b`.\n",
      "    equal_var : bool, optional\n",
      "        If True (default), perform a standard independent 2 sample test\n",
      "        that assumes equal population variances [1]_.\n",
      "        If False, perform Welch's t-test, which does not assume equal\n",
      "        population variance [2]_.\n",
      "    \n",
      "        .. versionadded:: 0.11.0\n",
      "    nan_policy : {'propagate', 'raise', 'omit'}, optional\n",
      "        Defines how to handle when input contains nan. 'propagate' returns nan,\n",
      "        'raise' throws an error, 'omit' performs the calculations ignoring nan\n",
      "        values. Default is 'propagate'.\n",
      "    \n",
      "    \n",
      "    Returns\n",
      "    -------\n",
      "    statistic : float or array\n",
      "        The calculated t-statistic.\n",
      "    pvalue : float or array\n",
      "        The two-tailed p-value.\n",
      "    \n",
      "    Notes\n",
      "    -----\n",
      "    We can use this test, if we observe two independent samples from\n",
      "    the same or different population, e.g. exam scores of boys and\n",
      "    girls or of two ethnic groups. The test measures whether the\n",
      "    average (expected) value differs significantly across samples. If\n",
      "    we observe a large p-value, for example larger than 0.05 or 0.1,\n",
      "    then we cannot reject the null hypothesis of identical average scores.\n",
      "    If the p-value is smaller than the threshold, e.g. 1%, 5% or 10%,\n",
      "    then we reject the null hypothesis of equal averages.\n",
      "    \n",
      "    References\n",
      "    ----------\n",
      "    .. [1] https://en.wikipedia.org/wiki/T-test#Independent_two-sample_t-test\n",
      "    \n",
      "    .. [2] https://en.wikipedia.org/wiki/Welch%27s_t-test\n",
      "    \n",
      "    Examples\n",
      "    --------\n",
      "    >>> from scipy import stats\n",
      "    >>> np.random.seed(12345678)\n",
      "    \n",
      "    Test with sample with identical means:\n",
      "    \n",
      "    >>> rvs1 = stats.norm.rvs(loc=5,scale=10,size=500)\n",
      "    >>> rvs2 = stats.norm.rvs(loc=5,scale=10,size=500)\n",
      "    >>> stats.ttest_ind(rvs1,rvs2)\n",
      "    (0.26833823296239279, 0.78849443369564776)\n",
      "    >>> stats.ttest_ind(rvs1,rvs2, equal_var = False)\n",
      "    (0.26833823296239279, 0.78849452749500748)\n",
      "    \n",
      "    `ttest_ind` underestimates p for unequal variances:\n",
      "    \n",
      "    >>> rvs3 = stats.norm.rvs(loc=5, scale=20, size=500)\n",
      "    >>> stats.ttest_ind(rvs1, rvs3)\n",
      "    (-0.46580283298287162, 0.64145827413436174)\n",
      "    >>> stats.ttest_ind(rvs1, rvs3, equal_var = False)\n",
      "    (-0.46580283298287162, 0.64149646246569292)\n",
      "    \n",
      "    When n1 != n2, the equal variance t-statistic is no longer equal to the\n",
      "    unequal variance t-statistic:\n",
      "    \n",
      "    >>> rvs4 = stats.norm.rvs(loc=5, scale=20, size=100)\n",
      "    >>> stats.ttest_ind(rvs1, rvs4)\n",
      "    (-0.99882539442782481, 0.3182832709103896)\n",
      "    >>> stats.ttest_ind(rvs1, rvs4, equal_var = False)\n",
      "    (-0.69712570584654099, 0.48716927725402048)\n",
      "    \n",
      "    T-test with different means, variance, and n:\n",
      "    \n",
      "    >>> rvs5 = stats.norm.rvs(loc=8, scale=20, size=100)\n",
      "    >>> stats.ttest_ind(rvs1, rvs5)\n",
      "    (-1.4679669854490653, 0.14263895620529152)\n",
      "    >>> stats.ttest_ind(rvs1, rvs5, equal_var = False)\n",
      "    (-0.94365973617132992, 0.34744170334794122)\n",
      "\n"
     ]
    }
   ],
   "source": [
    "help(stats.ttest_ind)"
   ]
  },
  {
   "cell_type": "markdown",
   "metadata": {},
   "source": [
    "So it returns two things, the t-statistic and the p-value. Since our p-value was 0.22 we wouldn't conventionally say that there is a significant difference. \n",
    "\n",
    "Let's not go too far into the statistical weeds here... but these two lists probably aren't normally distributed  (a central assumption of a t-test!). So we should really perform a non-parametric test that doesn't assume normality:"
   ]
  },
  {
   "cell_type": "code",
   "execution_count": 70,
   "metadata": {
    "ExecuteTime": {
     "end_time": "2019-06-23T21:24:07.304987Z",
     "start_time": "2019-06-23T21:24:07.297212Z"
    },
    "scrolled": false
   },
   "outputs": [
    {
     "name": "stdout",
     "output_type": "stream",
     "text": [
      "RanksumsResult(statistic=1.209486313629527, pvalue=0.22647606604348625)\n"
     ]
    }
   ],
   "source": [
    "print(stats.ranksums(ny_sky_scrapers, chicago_sky_scrapers))"
   ]
  },
  {
   "cell_type": "markdown",
   "metadata": {},
   "source": [
    "Same result, take that New York City! The point being, a lotttt of common statistical tests are already implemented in scipy so rather than re-invent the wheel, search for your favorite, understand its assumptions and limitations, and implement it in a line for a quick result. "
   ]
  },
  {
   "cell_type": "markdown",
   "metadata": {},
   "source": [
    "Another really common problem you'll inevitably have is whether two things are correlated or not. Standard linear regression is super nice and easy using `scipy`. I wonder if buildings are getting taller over time or not?"
   ]
  },
  {
   "cell_type": "code",
   "execution_count": 71,
   "metadata": {
    "ExecuteTime": {
     "end_time": "2019-06-23T21:24:08.156058Z",
     "start_time": "2019-06-23T21:24:08.151981Z"
    },
    "scrolled": false
   },
   "outputs": [],
   "source": [
    "heights = [541.3, 442.1, 423.2, 417, 415.1, 381, 365.8, 346.3, 343.7, 318.9, 318.8,\\\n",
    "          306.9, 306.4, 303.3, 297.7, 292.9, 290.2, 265, 261.9, 261.8] \n",
    "dates = [2014, 1974, 2009, 1972, 1973, 1931, 2009, 1973, 1969, 1930, 2007,\\\n",
    "        1989, 2014, 1990, 2014, 1990, 1932, 1989, 1976, 2009]"
   ]
  },
  {
   "cell_type": "markdown",
   "metadata": {},
   "source": [
    "Here are two functions for calculating correlations. The first is a standard linear regression and the second is what is known as a non-parametric regression because it doesn't assume a linear relationship between the variables."
   ]
  },
  {
   "cell_type": "code",
   "execution_count": 72,
   "metadata": {
    "ExecuteTime": {
     "end_time": "2019-06-23T21:24:09.022386Z",
     "start_time": "2019-06-23T21:24:09.001158Z"
    },
    "scrolled": false
   },
   "outputs": [
    {
     "name": "stdout",
     "output_type": "stream",
     "text": [
      "LinregressResult(slope=0.16407069333851218, intercept=19.58000097106259, rvalue=0.06225466775144008, pvalue=0.7942952339246117, stderr=0.6199827708596287)\n",
      "SpearmanrResult(correlation=-0.10645618397234095, pvalue=0.6550882607496282)\n"
     ]
    }
   ],
   "source": [
    "print(stats.linregress(dates, heights))\n",
    "print(stats.spearmanr(dates, heights))"
   ]
  },
  {
   "cell_type": "markdown",
   "metadata": {},
   "source": [
    "You'll have to look in the documentation to see what all of those numbers are!\n",
    "\n",
    "But since I already know, the correlation doesn't appear to be significant. Of course, we're not saying buildings *aren't* getting taller with time. What we're saying is that based off of the 10 tallest buildings in Chicago and the 10 tallest buildings in NYC, there is no evidence that buildings are getting taller with time. If we really wanted to test this hypothesis, our limited/truncated little dataset probably wouldn't suffice. The most important part of data analysis is good data, and we kind of violated that rule here, but it provides a nice introduction to some basic statistical tests at least!"
   ]
  },
  {
   "cell_type": "markdown",
   "metadata": {},
   "source": [
    "# Wrap-up\n",
    "That's all for the Python Standard Library, but you haven't seen the last of any of these packages. I highly recommend reading through some of the links I provided at the top of this notebook. But the best way to learn about packages also happens to be the best way to learn programming. Practice. Practice. Practice. Just know that while you're practicing, if you encounter a problem that seems like it might already have been done before, turn to google. Trust the standard library. Trust other packages slightly less so. And trust stackoverflow the least. Test functions that you use, make sure they give you results that you expect, and delight in how much time you'll have saved. "
   ]
  },
  {
   "cell_type": "code",
   "execution_count": null,
   "metadata": {},
   "outputs": [],
   "source": []
  }
 ],
 "metadata": {
  "anaconda-cloud": {},
  "kernelspec": {
   "display_name": "Python 3",
   "language": "python",
   "name": "python3"
  },
  "language_info": {
   "codemirror_mode": {
    "name": "ipython",
    "version": 3
   },
   "file_extension": ".py",
   "mimetype": "text/x-python",
   "name": "python",
   "nbconvert_exporter": "python",
   "pygments_lexer": "ipython3",
   "version": "3.6.8"
  },
  "latex_envs": {
   "LaTeX_envs_menu_present": true,
   "autoclose": false,
   "autocomplete": true,
   "bibliofile": "biblio.bib",
   "cite_by": "apalike",
   "current_citInitial": 1,
   "eqLabelWithNumbers": true,
   "eqNumInitial": 1,
   "hotkeys": {
    "equation": "Ctrl-E",
    "itemize": "Ctrl-I"
   },
   "labels_anchors": false,
   "latex_user_defs": false,
   "report_style_numbering": false,
   "user_envs_cfg": false
  },
  "toc": {
   "nav_menu": {},
   "number_sections": true,
   "sideBar": true,
   "skip_h1_title": false,
   "title_cell": "Table of Contents",
   "title_sidebar": "Contents",
   "toc_cell": false,
   "toc_position": {},
   "toc_section_display": true,
   "toc_window_display": false
  }
 },
 "nbformat": 4,
 "nbformat_minor": 1
}
