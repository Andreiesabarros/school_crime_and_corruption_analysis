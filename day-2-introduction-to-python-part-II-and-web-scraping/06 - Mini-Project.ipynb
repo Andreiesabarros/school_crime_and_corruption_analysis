{
 "cells": [
  {
   "cell_type": "markdown",
   "metadata": {
    "collapsed": true
   },
   "source": [
    "# Synopsis\n",
    "\n",
    "We're going to work on a mini-project using real data on college majors that will reinforce all of the skills that we have learned up to this point."
   ]
  },
  {
   "cell_type": "markdown",
   "metadata": {
    "collapsed": true
   },
   "source": [
    "# Let's pull all the strings together!\n",
    "\n",
    "We can make plots, import libraries, write functions, read files, and, generally, just program like a unicorn.\n",
    "\n",
    "Let's work on a fun data problem together that most of us will relate to. I've gone and pulled data from [fivethirtyeight](fivethirtyeight.com) about the employability of recent college graduates. The files are in the `../Data/Day4-Dictionaries/College-Majors/` folder and each major is separated into a separate file like `recent_MAJOR.csv`.\n",
    "\n",
    "When we look at a single file it is like this:                     \n",
    "\n",
    "`\n",
    "Rank,Major_code,Major,Major_category,Total,Sample_size,Men,Women,ShareWomen,Employed,Full_time,Part_time,Full_time_year_round,Unemployed,Unemployment_rate,Median,P25th,P75th,College_jobs,Non_college_jobs,Low_wage_jobs\n",
    "20,3201,COURT REPORTING,Law & Public Policy,1148,14,877,271,0.236062718,930,808,223,808,11,0.011689692,54000,50000,54000,402,528,144\n",
    "30,5402,PUBLIC POLICY,Law & Public Policy,5978,55,2695,905,0.251388889,4547,4163,1306,2776,670,0.128426299,50000,35000,70000,1550,1871,340`\n",
    "\n",
    "So the first row is a header and then the other rows are the variables.\n",
    "\n",
    "First, let's write a function to read one file, we'll use the `recent_Arts.csv` file.\n",
    "\n",
    "The function should produce each row of real values (so not the header) as a dictionary (so pair it with the header). So like this:\n",
    "\n",
    "    {'Rank' : 20,\n",
    "     'Major_code' : 3201,\n",
    "     'Major': 'COURT REPORTING',\n",
    "     ...\n",
    "    }\n",
    "    \n",
    "And then return each of these \"line dictionaries\" as a list for the file\n",
    "\n",
    "    [ {'Rank': 20, ... }, {'Rank': 30, ..}]"
   ]
  },
  {
   "cell_type": "code",
   "execution_count": 2,
   "metadata": {
    "ExecuteTime": {
     "end_time": "2019-07-02T11:03:43.311970Z",
     "start_time": "2019-07-02T11:03:42.274739Z"
    }
   },
   "outputs": [],
   "source": [
    "import os\n",
    "%matplotlib inline"
   ]
  },
  {
   "cell_type": "code",
   "execution_count": 43,
   "metadata": {
    "ExecuteTime": {
     "end_time": "2019-07-02T11:32:29.646322Z",
     "start_time": "2019-07-02T11:32:29.637805Z"
    }
   },
   "outputs": [
    {
     "name": "stdout",
     "output_type": "stream",
     "text": [
      "21\n",
      "40,5102,\"NUCLEAR, INDUSTRIAL RADIOLOGY, AND BIOLOGICAL TECHNOLOGIES\",Physical Sciences,2116,31,7575,5727,0.430536761,1778,1392,579,1115,137,0.07154047,46000,38000,53000,162,1475,124\n",
      "\n"
     ]
    }
   ],
   "source": [
    "file=open(os.path.join('..', 'Data', 'Day4-Dictionaries', 'College-Majors', 'recent_Physical Sciences.csv') )\n",
    "\n",
    "lines=file.readlines()\n",
    "keys=lines[0].strip('\\n').split(',')\n",
    "print(len(keys))\n",
    "mylist=[]\n",
    "for line in lines[1:]:\n",
    "    values=line.strip('\\n').split(',')\n",
    "    if len(keys)!=len(values):\n",
    "        mylist_of_string=mystring.strip('\\n').split(',')\n",
    "        major_category=mylist_of_string[2]+mylist_of_string[3]+mylist_of_string[4]\n",
    "        mylist_of_string.remove(mylist_of_string[3])\n",
    "        mylist_of_string.remove(mylist_of_string[3])\n",
    "        mylist_of_string[2]=major_category.strip('\"')\n",
    "        mylist_of_string\n",
    "    else:\n",
    "        mydict=dict(zip(keys,values))\n",
    "    mylist.append(mydict)"
   ]
  },
  {
   "cell_type": "code",
   "execution_count": 46,
   "metadata": {
    "ExecuteTime": {
     "end_time": "2019-07-02T11:32:55.262554Z",
     "start_time": "2019-07-02T11:32:55.259231Z"
    }
   },
   "outputs": [],
   "source": [
    "mystring='40,5102,\"NUCLEAR, INDUSTRIAL RADIOLOGY, AND BIOLOGICAL TECHNOLOGIES\",Physical Sciences,2116,31,7575,5727,0.430536761,1778,1392,579,1115,137,0.07154047,46000,38000,53000,162,1475,124'"
   ]
  },
  {
   "cell_type": "code",
   "execution_count": 117,
   "metadata": {
    "ExecuteTime": {
     "end_time": "2019-07-02T12:08:58.485170Z",
     "start_time": "2019-07-02T12:08:58.480985Z"
    }
   },
   "outputs": [],
   "source": [
    "import numpy as np"
   ]
  },
  {
   "cell_type": "code",
   "execution_count": 121,
   "metadata": {
    "ExecuteTime": {
     "end_time": "2019-07-02T12:09:42.049156Z",
     "start_time": "2019-07-02T12:09:42.033411Z"
    },
    "scrolled": true
   },
   "outputs": [
    {
     "data": {
      "text/plain": [
       "[{'Rank': 27.0,\n",
       "  'Major_code': 5601.0,\n",
       "  'Major': 'CONSTRUCTION SERVICES',\n",
       "  'Major_category': 'Industrial Arts & Consumer Services',\n",
       "  'Total': 18498.0,\n",
       "  'Sample_size': 295.0,\n",
       "  'Men': 2662.0,\n",
       "  'Women': 1385.0,\n",
       "  'ShareWomen': 0.342228811,\n",
       "  'Employed': 16318.0,\n",
       "  'Full_time': 15690.0,\n",
       "  'Part_time': 1751.0,\n",
       "  'Full_time_year_round': 12313.0,\n",
       "  'Unemployed': 1042.0,\n",
       "  'Unemployment_rate': 0.060023041,\n",
       "  'Median': 50000.0,\n",
       "  'P25th': 36000.0,\n",
       "  'P75th': 60000.0,\n",
       "  'College_jobs': 3275.0,\n",
       "  'Non_college_jobs': 5351.0,\n",
       "  'Low_wage_jobs': 703.0},\n",
       " {'Rank': 74.0,\n",
       "  'Major_code': 3801.0,\n",
       "  'Major': 'MILITARY TECHNOLOGIES',\n",
       "  'Major_category': 'Industrial Arts & Consumer Services',\n",
       "  'Total': 124.0,\n",
       "  'Sample_size': 4.0,\n",
       "  'Men': 1756.0,\n",
       "  'Women': 1323.0,\n",
       "  'ShareWomen': 0.429684963,\n",
       "  'Employed': 0.0,\n",
       "  'Full_time': 111.0,\n",
       "  'Part_time': 0.0,\n",
       "  'Full_time_year_round': 111.0,\n",
       "  'Unemployed': 0.0,\n",
       "  'Unemployment_rate': None,\n",
       "  'Median': 40000.0,\n",
       "  'P25th': 40000.0,\n",
       "  'P75th': 40000.0,\n",
       "  'College_jobs': 0.0,\n",
       "  'Non_college_jobs': 0.0,\n",
       "  'Low_wage_jobs': 0.0},\n",
       " {'Rank': 76.0,\n",
       "  'Major_code': 5701.0,\n",
       "  'Major': 'ELECTRICAL MECHANICAL AND PRECISION TECHNOLOGIES AND PRODUCTION',\n",
       "  'Major_category': 'Industrial Arts & Consumer Services',\n",
       "  'Total': 2435.0,\n",
       "  'Sample_size': 37.0,\n",
       "  'Men': 1869.0,\n",
       "  'Women': 566.0,\n",
       "  'ShareWomen': 0.23244353199999998,\n",
       "  'Employed': 2107.0,\n",
       "  'Full_time': 2057.0,\n",
       "  'Part_time': 287.0,\n",
       "  'Full_time_year_round': 1752.0,\n",
       "  'Unemployed': 64.0,\n",
       "  'Unemployment_rate': 0.029479502999999997,\n",
       "  'Median': 38400.0,\n",
       "  'P25th': 22500.0,\n",
       "  'P75th': 45000.0,\n",
       "  'College_jobs': 221.0,\n",
       "  'Non_college_jobs': 1659.0,\n",
       "  'Low_wage_jobs': 81.0},\n",
       " {'Rank': 107.0,\n",
       "  'Major_code': 5901.0,\n",
       "  'Major': 'TRANSPORTATION SCIENCES AND TECHNOLOGIES',\n",
       "  'Major_category': 'Industrial Arts & Consumer Services',\n",
       "  'Total': 15150.0,\n",
       "  'Sample_size': 180.0,\n",
       "  'Men': 2744.0,\n",
       "  'Women': 1299.0,\n",
       "  'ShareWomen': 0.321296067,\n",
       "  'Employed': 12266.0,\n",
       "  'Full_time': 11688.0,\n",
       "  'Part_time': 2633.0,\n",
       "  'Full_time_year_round': 9170.0,\n",
       "  'Unemployed': 962.0,\n",
       "  'Unemployment_rate': 0.072724524,\n",
       "  'Median': 35000.0,\n",
       "  'P25th': 22000.0,\n",
       "  'P75th': 52000.0,\n",
       "  'College_jobs': 4575.0,\n",
       "  'Non_college_jobs': 6147.0,\n",
       "  'Low_wage_jobs': 557.0},\n",
       " {'Rank': 140.0,\n",
       "  'Major_code': 4101.0,\n",
       "  'Major': 'PHYSICAL FITNESS PARKS RECREATION AND LEISURE',\n",
       "  'Major_category': 'Industrial Arts & Consumer Services',\n",
       "  'Total': 125074.0,\n",
       "  'Sample_size': 1014.0,\n",
       "  'Men': 2049.0,\n",
       "  'Women': 4434.0,\n",
       "  'ShareWomen': 0.6839426190000001,\n",
       "  'Employed': 103078.0,\n",
       "  'Full_time': 77428.0,\n",
       "  'Part_time': 38515.0,\n",
       "  'Full_time_year_round': 57978.0,\n",
       "  'Unemployed': 5593.0,\n",
       "  'Unemployment_rate': 0.051467273,\n",
       "  'Median': 32000.0,\n",
       "  'P25th': 24000.0,\n",
       "  'P75th': 43000.0,\n",
       "  'College_jobs': 27581.0,\n",
       "  'Non_college_jobs': 63946.0,\n",
       "  'Low_wage_jobs': 16838.0},\n",
       " {'Rank': 151.0,\n",
       "  'Major_code': 2901.0,\n",
       "  'Major': 'FAMILY AND CONSUMER SCIENCES',\n",
       "  'Major_category': 'Industrial Arts & Consumer Services',\n",
       "  'Total': 58001.0,\n",
       "  'Sample_size': 518.0,\n",
       "  'Men': 5347.0,\n",
       "  'Women': 16226.0,\n",
       "  'ShareWomen': 0.7521438840000001,\n",
       "  'Employed': 46624.0,\n",
       "  'Full_time': 36747.0,\n",
       "  'Part_time': 15872.0,\n",
       "  'Full_time_year_round': 26906.0,\n",
       "  'Unemployed': 3355.0,\n",
       "  'Unemployment_rate': 0.067128194,\n",
       "  'Median': 30000.0,\n",
       "  'P25th': 22900.0,\n",
       "  'P75th': 40000.0,\n",
       "  'College_jobs': 20985.0,\n",
       "  'Non_college_jobs': 20133.0,\n",
       "  'Low_wage_jobs': 5248.0},\n",
       " {'Rank': 161.0,\n",
       "  'Major_code': 2201.0,\n",
       "  'Major': 'COSMETOLOGY SERVICES AND CULINARY ARTS',\n",
       "  'Major_category': 'Industrial Arts & Consumer Services',\n",
       "  'Total': 10510.0,\n",
       "  'Sample_size': 117.0,\n",
       "  'Men': 18616.0,\n",
       "  'Women': 11591.0,\n",
       "  'ShareWomen': 0.38371900600000003,\n",
       "  'Employed': 8650.0,\n",
       "  'Full_time': 7662.0,\n",
       "  'Part_time': 2064.0,\n",
       "  'Full_time_year_round': 5949.0,\n",
       "  'Unemployed': 510.0,\n",
       "  'Unemployment_rate': 0.055676856,\n",
       "  'Median': 29000.0,\n",
       "  'P25th': 20000.0,\n",
       "  'P75th': 36000.0,\n",
       "  'College_jobs': 563.0,\n",
       "  'Non_college_jobs': 7384.0,\n",
       "  'Low_wage_jobs': 3163.0}]"
      ]
     },
     "execution_count": 121,
     "metadata": {},
     "output_type": "execute_result"
    }
   ],
   "source": [
    "#Make this function work\n",
    "\n",
    "def read_major_file(path):\n",
    "    '''\n",
    "    input:\n",
    "        path - name of file containing csv of recent grad performance for a major\n",
    "    output:\n",
    "        majors_list - list of dictionaries, where every dictionary is a single major\n",
    "    '''\n",
    "    file=open(path)\n",
    "    majors_list = []\n",
    "    lines=file.readlines()\n",
    "    keys=lines[0].strip('\\n').split(',')\n",
    "    mylist=[]\n",
    "    for line in lines[1:]:\n",
    "        values=line.strip('\\n').split(',')\n",
    "        if len(keys)!=len(values):\n",
    "            major_category=values[2]+values[3]+values[4]\n",
    "            values.remove(values[3]) # Remove 3\n",
    "            values.remove(values[3]) # Remove former 4\n",
    "            values[2]=major_category.strip('\"')\n",
    "        # Convert numbers to float \n",
    "        mydict=dict()\n",
    "        for i,key in enumerate(keys):\n",
    "            #print(i,key,values[i])\n",
    "            if key!='Major' and key!='Major_category':\n",
    "                try:\n",
    "                    mydict[key]=float(values[i])\n",
    "                except ValueError:\n",
    "                    mydict[key]=None\n",
    "            else:\n",
    "                mydict[key]=values[i] \n",
    "           \n",
    "        majors_list.append(mydict)\n",
    "    return majors_list\n",
    "\n",
    "read_major_file(os.path.join('..', 'Data', 'Day4-Dictionaries', 'College-Majors', 'recent_Industrial Arts & Consumer Services.csv') )"
   ]
  },
  {
   "cell_type": "markdown",
   "metadata": {},
   "source": [
    "## Great!\n",
    "\n",
    "Now what we should do is read all of the files for the recent majors. Remember our friend `glob`? Also, there are other files in that directory so we'll need to use a pattern, maybe something like `recent*csv`."
   ]
  },
  {
   "cell_type": "code",
   "execution_count": 122,
   "metadata": {
    "ExecuteTime": {
     "end_time": "2019-07-02T12:10:19.497298Z",
     "start_time": "2019-07-02T12:10:19.472079Z"
    },
    "scrolled": false
   },
   "outputs": [
    {
     "name": "stdout",
     "output_type": "stream",
     "text": [
      "../Data/Day4-Dictionaries/College-Majors/recent_Business.csv\n",
      "../Data/Day4-Dictionaries/College-Majors/recent_Engineering.csv\n",
      "../Data/Day4-Dictionaries/College-Majors/recent_Physical Sciences.csv\n",
      "../Data/Day4-Dictionaries/College-Majors/recent_Agriculture & Natural Resources.csv\n",
      "../Data/Day4-Dictionaries/College-Majors/recent_Arts.csv\n",
      "../Data/Day4-Dictionaries/College-Majors/recent_Humanities & Liberal Arts.csv\n",
      "../Data/Day4-Dictionaries/College-Majors/recent_Social Science.csv\n",
      "../Data/Day4-Dictionaries/College-Majors/recent_Industrial Arts & Consumer Services.csv\n",
      "../Data/Day4-Dictionaries/College-Majors/recent_Interdisciplinary.csv\n",
      "../Data/Day4-Dictionaries/College-Majors/recent_Computers & Mathematics.csv\n",
      "../Data/Day4-Dictionaries/College-Majors/recent_Health.csv\n",
      "../Data/Day4-Dictionaries/College-Majors/recent_Law & Public Policy.csv\n",
      "../Data/Day4-Dictionaries/College-Majors/recent_Psychology & Social Work.csv\n",
      "../Data/Day4-Dictionaries/College-Majors/recent_Education.csv\n",
      "../Data/Day4-Dictionaries/College-Majors/recent_Biology & Life Science.csv\n",
      "../Data/Day4-Dictionaries/College-Majors/recent_Communications & Journalism.csv\n"
     ]
    }
   ],
   "source": [
    "import glob\n",
    "glob_path=glob.glob(os.path.join('..', 'Data', 'Day4-Dictionaries', 'College-Majors', 'recent*.csv'))\n",
    "majors_list=[]\n",
    "for path in glob_path:\n",
    "    print(path)\n",
    "    result=read_major_file(path)\n",
    "    majors_list.append(result)"
   ]
  },
  {
   "cell_type": "code",
   "execution_count": 128,
   "metadata": {
    "ExecuteTime": {
     "end_time": "2019-07-02T12:15:09.482880Z",
     "start_time": "2019-07-02T12:15:09.469612Z"
    },
    "scrolled": true
   },
   "outputs": [],
   "source": [
    "#Write a function to read in all majors\n",
    "def read_all_majors(glob_path):\n",
    "    '''\n",
    "    input:\n",
    "        glob_path - the path to search for the major files\n",
    "    output:\n",
    "        majors_list - list of dictionaries, a single dictionary for each major \n",
    "    '''\n",
    "    paths=glob.glob(glob_path)\n",
    "    majors_list=[]\n",
    "    for path in paths:\n",
    "        result=read_major_file(path)\n",
    "        majors_list.append(result)\n",
    "    return majors_list\n",
    "\n",
    "all_majors=read_all_majors( os.path.join('..', 'Data', 'Day4-Dictionaries', 'College-Majors','recent*.csv') )"
   ]
  },
  {
   "cell_type": "markdown",
   "metadata": {},
   "source": [
    "Now let's work on plotting. I would like to compare the Employed versus Unemployed for each major.\n",
    "\n",
    "## What is a good plot to show that?"
   ]
  },
  {
   "cell_type": "code",
   "execution_count": 146,
   "metadata": {
    "ExecuteTime": {
     "end_time": "2019-07-02T12:23:46.758412Z",
     "start_time": "2019-07-02T12:23:46.754975Z"
    }
   },
   "outputs": [],
   "source": [
    "import matplotlib.pyplot as plt"
   ]
  },
  {
   "cell_type": "code",
   "execution_count": 153,
   "metadata": {
    "ExecuteTime": {
     "end_time": "2019-07-02T12:26:28.771443Z",
     "start_time": "2019-07-02T12:26:28.608462Z"
    },
    "scrolled": false
   },
   "outputs": [
    {
     "data": {
      "text/plain": [
       "Text(0, 0.5, 'Unemployed')"
      ]
     },
     "execution_count": 153,
     "metadata": {},
     "output_type": "execute_result"
    },
    {
     "data": {
      "image/png": "[encoded data removed]",
      "text/plain": [
       "<Figure size 432x288 with 1 Axes>"
      ]
     },
     "metadata": {
      "needs_background": "light"
     },
     "output_type": "display_data"
    }
   ],
   "source": [
    "##Plot the Employed vs Unemployed\n",
    "employed=[]\n",
    "unemployed=[]\n",
    "for major_category in all_majors:\n",
    "    for major in major_category:\n",
    "        employed.append(major['Employed'])\n",
    "        unemployed.append(major['Unemployed'])\n",
    "        \n",
    "plt.scatter(employed,unemployed)\n",
    "plt.xlabel('Employed',fontsize=20)\n",
    "plt.ylabel('Unemployed',fontsize=20)"
   ]
  },
  {
   "cell_type": "markdown",
   "metadata": {},
   "source": [
    "Great! But that plot is a bit hard to interpret that way.  We should probably color the majors by their group, that way we can look at broader patterns.\n",
    "\n",
    "I wonder how we can change our plot to do that... ([hint](http://stackoverflow.com/search?q=matplotlib+scatter+color))"
   ]
  },
  {
   "cell_type": "code",
   "execution_count": 186,
   "metadata": {
    "ExecuteTime": {
     "end_time": "2019-07-02T12:49:29.742836Z",
     "start_time": "2019-07-02T12:49:29.532825Z"
    }
   },
   "outputs": [
    {
     "data": {
      "image/png": "[encoded data removed]",
      "text/plain": [
       "<Figure size 432x288 with 1 Axes>"
      ]
     },
     "metadata": {
      "needs_background": "light"
     },
     "output_type": "display_data"
    }
   ],
   "source": [
    "##Color by groups\n",
    "for major_category in all_majors:\n",
    "    employed=[]\n",
    "    unemployed=[]\n",
    "    for major in major_category:\n",
    "        employed.append(major['Employed'])\n",
    "        unemployed.append(major['Unemployed'])     \n",
    "    plt.scatter(employed,unemployed)\n",
    "    plt.xlabel('Employed',fontsize=20)\n",
    "    plt.ylabel('Unemployed',fontsize=20)"
   ]
  },
  {
   "cell_type": "markdown",
   "metadata": {},
   "source": [
    "# Now let's move to a group level analysis\n",
    "\n",
    "I want to compare the fraction of employed people given each major category. \n",
    "\n",
    "We should plot the average and standard deviation for each group.\n",
    "\n",
    "[Does python have a standard deviation function?](http://lmgtfy.com/?q=python+standard+deviation)"
   ]
  },
  {
   "cell_type": "code",
   "execution_count": 155,
   "metadata": {
    "ExecuteTime": {
     "end_time": "2019-07-02T12:30:31.972063Z",
     "start_time": "2019-07-02T12:30:31.967611Z"
    }
   },
   "outputs": [],
   "source": [
    "import numpy as np"
   ]
  },
  {
   "cell_type": "code",
   "execution_count": 181,
   "metadata": {
    "ExecuteTime": {
     "end_time": "2019-07-02T12:42:50.194103Z",
     "start_time": "2019-07-02T12:42:50.187106Z"
    }
   },
   "outputs": [
    {
     "data": {
      "text/plain": [
       "'Communications & Journalism'"
      ]
     },
     "execution_count": 181,
     "metadata": {},
     "output_type": "execute_result"
    }
   ],
   "source": []
  },
  {
   "cell_type": "code",
   "execution_count": 182,
   "metadata": {
    "ExecuteTime": {
     "end_time": "2019-07-02T12:42:54.831205Z",
     "start_time": "2019-07-02T12:42:54.823901Z"
    }
   },
   "outputs": [],
   "source": [
    "#Plot the group averages and standard deviations\n",
    "media=[]\n",
    "desvio=[]\n",
    "categories_names=[]\n",
    "for major_category in all_majors:\n",
    "    categories_names.append(major_category[0]['Major_category'])\n",
    "    employed=[]\n",
    "    unemployed=[]\n",
    "    for major in major_category:\n",
    "        employed.append(major['Employed'])\n",
    "        unemployed.append(major['Unemployed']) \n",
    "    media.append([np.mean(employed),np.mean(unemployed)])\n",
    "    desvio.append([np.std(employed),np.std(unemployed)])"
   ]
  },
  {
   "cell_type": "code",
   "execution_count": 172,
   "metadata": {
    "ExecuteTime": {
     "end_time": "2019-07-02T12:40:56.291241Z",
     "start_time": "2019-07-02T12:40:56.285516Z"
    }
   },
   "outputs": [],
   "source": [
    "employed_mean=np.transpose(media)[0]\n",
    "unemployed_mean=np.transpose(media)[1]\n",
    "employed_std=np.transpose(desvio)[0]\n",
    "unemployed_std=np.transpose(desvio)[1]"
   ]
  },
  {
   "cell_type": "code",
   "execution_count": 184,
   "metadata": {
    "ExecuteTime": {
     "end_time": "2019-07-02T12:43:15.081761Z",
     "start_time": "2019-07-02T12:43:14.728713Z"
    }
   },
   "outputs": [
    {
     "data": {
      "text/plain": [
       "<matplotlib.legend.Legend at 0x11e854390>"
      ]
     },
     "execution_count": 184,
     "metadata": {},
     "output_type": "execute_result"
    },
    {
     "data": {
      "image/png": "[encoded data removed]",
      "text/plain": [
       "<Figure size 432x288 with 1 Axes>"
      ]
     },
     "metadata": {
      "needs_background": "light"
     },
     "output_type": "display_data"
    }
   ],
   "source": [
    "ind = np.arange(len(employed_mean))  # the x locations for the groups\n",
    "width = 0.35  # the width of the bars\n",
    "\n",
    "fig, ax = plt.subplots()\n",
    "rects1 = ax.bar(ind - width/2, employed_mean, width, yerr=employed_std,\n",
    "                label='Employed')\n",
    "rects2 = ax.bar(ind + width/2, unemployed_mean, width, yerr=unemployed_std,\n",
    "                label='Unemployed')\n",
    "\n",
    "# Add some text for labels, title and custom x-axis tick labels, etc.\n",
    "ax.set_ylabel('Number of employed/unemployed',fontsize=14)\n",
    "ax.set_xlabel('Category',fontsize=14)\n",
    "\n",
    "ax.set_title('Number of employed/unemployed by group',fontsize=14)\n",
    "ax.set_xticks(ind)\n",
    "ax.set_xticklabels(categories_names,rotation=90)\n",
    "ax.legend()"
   ]
  },
  {
   "cell_type": "markdown",
   "metadata": {},
   "source": [
    "Are these group averages significantly different from each other?\n",
    "\n",
    "To test if any one of these groups differs from all of these groups we can use an [ANOVA test](https://en.wikipedia.org/wiki/Analysis_of_variance)\n",
    "\n",
    "I'll cut out the intermediate googling, and tell you that python has the [ANOVA test in the SciPy package](http://docs.scipy.org/doc/scipy-0.15.1/reference/generated/scipy.stats.f_oneway.html)"
   ]
  },
  {
   "cell_type": "code",
   "execution_count": 209,
   "metadata": {
    "ExecuteTime": {
     "end_time": "2019-07-02T12:55:14.180254Z",
     "start_time": "2019-07-02T12:55:14.175575Z"
    }
   },
   "outputs": [],
   "source": [
    "#Test to see if the groups all have the same population mean\n",
    "category_employed=[]\n",
    "category_unemployed=[]\n",
    "for major_category in all_majors:\n",
    "    employed=[]\n",
    "    unemployed=[]\n",
    "    for major in major_category:\n",
    "        employed.append(major['Employed'])\n",
    "        unemployed.append(major['Unemployed']) \n",
    "    category_employed.append(employed)\n",
    "    category_unemployed.append(unemployed)"
   ]
  },
  {
   "cell_type": "code",
   "execution_count": 210,
   "metadata": {
    "ExecuteTime": {
     "end_time": "2019-07-02T12:55:14.756162Z",
     "start_time": "2019-07-02T12:55:14.752269Z"
    }
   },
   "outputs": [],
   "source": [
    "from scipy import stats"
   ]
  },
  {
   "cell_type": "code",
   "execution_count": 212,
   "metadata": {
    "ExecuteTime": {
     "end_time": "2019-07-02T12:55:18.622152Z",
     "start_time": "2019-07-02T12:55:18.613466Z"
    }
   },
   "outputs": [
    {
     "data": {
      "text/plain": [
       "F_onewayResult(statistic=1.9640512058789068, pvalue=0.02099887134728745)"
      ]
     },
     "execution_count": 212,
     "metadata": {},
     "output_type": "execute_result"
    }
   ],
   "source": [
    "stats.f_oneway(*category_employed)"
   ]
  },
  {
   "cell_type": "markdown",
   "metadata": {},
   "source": [
    "To find out what groups significantly differ we can use pairwise t-tests to compare the samples\n",
    "\n",
    "\n",
    "SciPy has the [t-test for two samples too](http://docs.scipy.org/doc/scipy-0.14.0/reference/generated/scipy.stats.ttest_rel.html)\n",
    "\n",
    "How can we test each pair of groups? Which groups differ significantly from each other? (We'll ignore the fact that we should correct our p-values for the number of tests we're doing)."
   ]
  },
  {
   "cell_type": "code",
   "execution_count": 225,
   "metadata": {
    "ExecuteTime": {
     "end_time": "2019-07-02T13:02:48.517443Z",
     "start_time": "2019-07-02T13:02:48.397765Z"
    },
    "scrolled": true
   },
   "outputs": [
    {
     "name": "stdout",
     "output_type": "stream",
     "text": [
      "Ttest_relResult(statistic=0.0504495325651921, pvalue=0.960594189383159)\n",
      "Ttest_relResult(statistic=0.0, pvalue=1.0)\n",
      "Ttest_relResult(statistic=0.0, pvalue=1.0)\n",
      "Ttest_relResult(statistic=0.0, pvalue=1.0)\n",
      "Ttest_relResult(statistic=0.0, pvalue=1.0)\n",
      "Ttest_relResult(statistic=0.0, pvalue=1.0)\n",
      "Ttest_relResult(statistic=0.0, pvalue=1.0)\n",
      "Ttest_relResult(statistic=0.0, pvalue=1.0)\n",
      "Ttest_relResult(statistic=0.0, pvalue=1.0)\n",
      "Ttest_relResult(statistic=0.0, pvalue=1.0)\n",
      "Ttest_relResult(statistic=-0.7883255371962423, pvalue=0.445800663382695)\n",
      "Ttest_relResult(statistic=0.0, pvalue=1.0)\n",
      "Ttest_relResult(statistic=-1.4975378508098602, pvalue=0.16847781543284177)\n",
      "Ttest_relResult(statistic=0.2999388460717597, pvalue=0.7710358604903551)\n",
      "Ttest_relResult(statistic=-0.5189109104251876, pvalue=0.6198195185903999)\n",
      "Ttest_relResult(statistic=0.0, pvalue=1.0)\n",
      "Ttest_relResult(statistic=0.0, pvalue=1.0)\n",
      "Ttest_relResult(statistic=0.0, pvalue=1.0)\n",
      "Ttest_relResult(statistic=0.0, pvalue=1.0)\n",
      "Ttest_relResult(statistic=-0.5986883271587532, pvalue=0.5682402448462812)\n",
      "Ttest_relResult(statistic=0.0, pvalue=1.0)\n",
      "Ttest_relResult(statistic=0.0, pvalue=1.0)\n",
      "Ttest_relResult(statistic=0.0, pvalue=1.0)\n",
      "Ttest_relResult(statistic=0.0, pvalue=1.0)\n",
      "Ttest_relResult(statistic=0.0, pvalue=1.0)\n",
      "Ttest_relResult(statistic=0.0, pvalue=1.0)\n",
      "Ttest_relResult(statistic=0.0, pvalue=1.0)\n",
      "Ttest_relResult(statistic=0.0, pvalue=1.0)\n",
      "Ttest_relResult(statistic=nan, pvalue=nan)\n",
      "Ttest_relResult(statistic=nan, pvalue=nan)\n",
      "Ttest_relResult(statistic=nan, pvalue=nan)\n",
      "Ttest_relResult(statistic=nan, pvalue=nan)\n",
      "Ttest_relResult(statistic=nan, pvalue=nan)\n",
      "Ttest_relResult(statistic=nan, pvalue=nan)\n",
      "Ttest_relResult(statistic=nan, pvalue=nan)\n",
      "Ttest_relResult(statistic=nan, pvalue=nan)\n",
      "Ttest_relResult(statistic=0.0, pvalue=1.0)\n",
      "Ttest_relResult(statistic=0.0, pvalue=1.0)\n",
      "Ttest_relResult(statistic=1.0243597531249011, pvalue=0.33240899197347545)\n",
      "Ttest_relResult(statistic=0.7388361887977629, pvalue=0.4788307712681754)\n",
      "Ttest_relResult(statistic=-0.7132310921844974, pvalue=0.49878391816088585)\n",
      "Ttest_relResult(statistic=0.0, pvalue=1.0)\n",
      "Ttest_relResult(statistic=-0.03247517527656843, pvalue=0.9748887285460899)\n",
      "Ttest_relResult(statistic=-0.3967669077817311, pvalue=0.7052669336428916)\n",
      "Ttest_relResult(statistic=nan, pvalue=nan)\n",
      "Ttest_relResult(statistic=0.0, pvalue=1.0)\n",
      "Ttest_relResult(statistic=0.0, pvalue=1.0)\n",
      "Ttest_relResult(statistic=0.017231602869499176, pvalue=0.9866278083909905)\n",
      "Ttest_relResult(statistic=-0.09143568118094404, pvalue=0.9291492078333905)\n",
      "Ttest_relResult(statistic=0.09298737443015126, pvalue=0.9285190152118993)\n",
      "Ttest_relResult(statistic=0.0, pvalue=1.0)\n",
      "Ttest_relResult(statistic=0.15877451404202428, pvalue=0.8777815243118201)\n",
      "Ttest_relResult(statistic=0.09057805107815033, pvalue=0.9307760278906351)\n",
      "Ttest_relResult(statistic=nan, pvalue=nan)\n",
      "Ttest_relResult(statistic=-0.8590507494190052, pvalue=0.41043204940030964)\n",
      "Ttest_relResult(statistic=0.0, pvalue=1.0)\n",
      "Ttest_relResult(statistic=0.0, pvalue=1.0)\n",
      "Ttest_relResult(statistic=0.0, pvalue=1.0)\n",
      "Ttest_relResult(statistic=0.0, pvalue=1.0)\n",
      "Ttest_relResult(statistic=0.0, pvalue=1.0)\n",
      "Ttest_relResult(statistic=0.0, pvalue=1.0)\n",
      "Ttest_relResult(statistic=0.0, pvalue=1.0)\n",
      "Ttest_relResult(statistic=0.0, pvalue=1.0)\n",
      "Ttest_relResult(statistic=nan, pvalue=nan)\n",
      "Ttest_relResult(statistic=0.0, pvalue=1.0)\n",
      "Ttest_relResult(statistic=0.0, pvalue=1.0)\n",
      "Ttest_relResult(statistic=0.0, pvalue=1.0)\n",
      "Ttest_relResult(statistic=0.0, pvalue=1.0)\n",
      "Ttest_relResult(statistic=0.0, pvalue=1.0)\n",
      "Ttest_relResult(statistic=0.0, pvalue=1.0)\n",
      "Ttest_relResult(statistic=0.011932788467373254, pvalue=0.9908122061030902)\n",
      "Ttest_relResult(statistic=0.0, pvalue=1.0)\n",
      "Ttest_relResult(statistic=0.0, pvalue=1.0)\n",
      "Ttest_relResult(statistic=0.8295668247611109, pvalue=0.4385351054078381)\n",
      "Ttest_relResult(statistic=nan, pvalue=nan)\n",
      "Ttest_relResult(statistic=0.0, pvalue=1.0)\n",
      "Ttest_relResult(statistic=0.0, pvalue=1.0)\n",
      "Ttest_relResult(statistic=1.025261386570478, pvalue=0.36319213101629494)\n",
      "Ttest_relResult(statistic=0.6852666640573166, pvalue=0.5061978319850027)\n",
      "Ttest_relResult(statistic=0.0, pvalue=1.0)\n",
      "Ttest_relResult(statistic=-0.8585890230676441, pvalue=0.4128492762454443)\n",
      "Ttest_relResult(statistic=-1.0217670916739507, pvalue=0.33356977466242943)\n",
      "Ttest_relResult(statistic=0.48775717719595046, pvalue=0.6406268965257917)\n",
      "Ttest_relResult(statistic=0.04713829592506989, pvalue=0.9630688400441088)\n",
      "Ttest_relResult(statistic=-0.898287802395188, pvalue=0.3952628452332346)\n",
      "Ttest_relResult(statistic=0.7282750109875585, pvalue=0.4938758539152197)\n",
      "Ttest_relResult(statistic=nan, pvalue=nan)\n",
      "Ttest_relResult(statistic=0.8504284649730413, pvalue=0.4149850240804003)\n",
      "Ttest_relResult(statistic=-0.1916035783353225, pvalue=0.8515437292128144)\n",
      "Ttest_relResult(statistic=0.22621427608377528, pvalue=0.8321240809489096)\n",
      "Ttest_relResult(statistic=-0.452877524980973, pvalue=0.6626667764725428)\n",
      "Ttest_relResult(statistic=-0.9868857842685903, pvalue=0.3431800608647114)\n",
      "Ttest_relResult(statistic=0.0, pvalue=1.0)\n",
      "Ttest_relResult(statistic=0.07127336021255355, pvalue=0.9447388776965592)\n",
      "Ttest_relResult(statistic=0.9211146186859336, pvalue=0.38101842034875877)\n",
      "Ttest_relResult(statistic=0.035216984918645604, pvalue=0.9728899279349632)\n",
      "Ttest_relResult(statistic=0.0, pvalue=1.0)\n",
      "Ttest_relResult(statistic=-0.1098875291265014, pvalue=0.9152051417468683)\n",
      "Ttest_relResult(statistic=1.1275432009803281, pvalue=0.30257447149167377)\n",
      "Ttest_relResult(statistic=nan, pvalue=nan)\n",
      "Ttest_relResult(statistic=-0.04015129387660628, pvalue=0.9687628220285394)\n",
      "Ttest_relResult(statistic=-0.030348926881068296, pvalue=0.9763324222145671)\n",
      "Ttest_relResult(statistic=-0.9614874089118949, pvalue=0.3907553453359607)\n",
      "Ttest_relResult(statistic=-0.0972080740360194, pvalue=0.9249524089392498)\n",
      "Ttest_relResult(statistic=0.0, pvalue=1.0)\n",
      "Ttest_relResult(statistic=0.0, pvalue=1.0)\n",
      "Ttest_relResult(statistic=0.0, pvalue=1.0)\n",
      "Ttest_relResult(statistic=0.0, pvalue=1.0)\n",
      "Ttest_relResult(statistic=0.0, pvalue=1.0)\n",
      "Ttest_relResult(statistic=0.0, pvalue=1.0)\n",
      "Ttest_relResult(statistic=0.0, pvalue=1.0)\n",
      "Ttest_relResult(statistic=0.0, pvalue=1.0)\n",
      "Ttest_relResult(statistic=0.0, pvalue=1.0)\n",
      "Ttest_relResult(statistic=nan, pvalue=nan)\n",
      "Ttest_relResult(statistic=0.0, pvalue=1.0)\n",
      "Ttest_relResult(statistic=0.0, pvalue=1.0)\n",
      "Ttest_relResult(statistic=0.0, pvalue=1.0)\n",
      "Ttest_relResult(statistic=0.0, pvalue=1.0)\n",
      "Ttest_relResult(statistic=0.0, pvalue=1.0)\n",
      "Ttest_relResult(statistic=0.0, pvalue=1.0)\n"
     ]
    }
   ],
   "source": [
    "#Test the pairwise associations\n",
    "for i in range(0, len(category_employed)):\n",
    "    for j in range(0, len(category_employed)):\n",
    "        if i >j:\n",
    "            leni=len(category_employed[i])\n",
    "            lenj=len(category_employed[j])\n",
    "            min_len=min(leni,lenj)\n",
    "            sample1=np.random.choice(category_employed[i],min_len,replace=False)\n",
    "            sample2=np.random.choice(category_employed[i],min_len,replace=False)\n",
    "            print(stats.ttest_rel(sample1, sample2))"
   ]
  },
  {
   "cell_type": "code",
   "execution_count": null,
   "metadata": {
    "ExecuteTime": {
     "end_time": "2019-07-02T13:01:03.762814Z",
     "start_time": "2019-07-02T13:01:03.750650Z"
    }
   },
   "outputs": [],
   "source": []
  },
  {
   "cell_type": "code",
   "execution_count": null,
   "metadata": {},
   "outputs": [],
   "source": []
  },
  {
   "cell_type": "code",
   "execution_count": null,
   "metadata": {},
   "outputs": [],
   "source": []
  }
 ],
 "metadata": {
  "anaconda-cloud": {},
  "celltoolbar": "Raw Cell Format",
  "kernelspec": {
   "display_name": "Python 3",
   "language": "python",
   "name": "python3"
  },
  "language_info": {
   "codemirror_mode": {
    "name": "ipython",
    "version": 3
   },
   "file_extension": ".py",
   "mimetype": "text/x-python",
   "name": "python",
   "nbconvert_exporter": "python",
   "pygments_lexer": "ipython3",
   "version": "3.6.8"
  },
  "latex_envs": {
   "LaTeX_envs_menu_present": true,
   "autoclose": false,
   "autocomplete": true,
   "bibliofile": "biblio.bib",
   "cite_by": "apalike",
   "current_citInitial": 1,
   "eqLabelWithNumbers": true,
   "eqNumInitial": 1,
   "hotkeys": {
    "equation": "Ctrl-E",
    "itemize": "Ctrl-I"
   },
   "labels_anchors": false,
   "latex_user_defs": false,
   "report_style_numbering": false,
   "user_envs_cfg": false
  },
  "toc": {
   "nav_menu": {},
   "number_sections": true,
   "sideBar": true,
   "skip_h1_title": false,
   "title_cell": "Table of Contents",
   "title_sidebar": "Contents",
   "toc_cell": false,
   "toc_position": {},
   "toc_section_display": true,
   "toc_window_display": false
  }
 },
 "nbformat": 4,
 "nbformat_minor": 1
}
