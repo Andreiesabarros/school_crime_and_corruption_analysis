{
 "cells": [
  {
   "cell_type": "code",
   "execution_count": 1,
   "metadata": {
    "ExecuteTime": {
     "end_time": "2019-06-23T21:29:11.495287Z",
     "start_time": "2019-06-23T21:29:11.479834Z"
    }
   },
   "outputs": [
    {
     "data": {
      "text/html": [
       "<style>\n",
       "    @font-face {\n",
       "        font-family: \"Computer Modern\";\n",
       "        src: url('http://9dbb143991406a7c655e-aa5fcb0a5a4ec34cff238a2d56ca4144.r56.cf5.rackcdn.com/cmunss.otf');\n",
       "    }\n",
       "    @font-face {\n",
       "        font-family: \"Computer Modern\";\n",
       "        font-weight: bold;\n",
       "        src: url('http://9dbb143991406a7c655e-aa5fcb0a5a4ec34cff238a2d56ca4144.r56.cf5.rackcdn.com/cmunsx.otf');\n",
       "    }\n",
       "    @font-face {\n",
       "        font-family: \"Computer Modern\";\n",
       "        font-style: oblique;\n",
       "        src: url('http://9dbb143991406a7c655e-aa5fcb0a5a4ec34cff238a2d56ca4144.r56.cf5.rackcdn.com/cmunsi.otf');\n",
       "    }\n",
       "    @font-face {\n",
       "        font-family: \"Computer Modern\";\n",
       "        font-weight: bold;\n",
       "        font-style: oblique;\n",
       "        src: url('http://9dbb143991406a7c655e-aa5fcb0a5a4ec34cff238a2d56ca4144.r56.cf5.rackcdn.com/cmunso.otf');\n",
       "    }\n",
       "    h1 {\n",
       "        font-family: Helvetica, serif;\n",
       "    }\n",
       "    h4{\n",
       "        margin-top:12px;\n",
       "        margin-bottom: 3px;\n",
       "       }\n",
       "    div.text_cell_render{\n",
       "        font-family: Computer Modern, \"Helvetica Neue\", Arial, Helvetica, Geneva, sans-serif;\n",
       "        line-height: 145%;\n",
       "        font-size: 130%;\n",
       "        margin-left:auto;\n",
       "        margin-right:auto;\n",
       "    }\n",
       "    .CodeMirror{\n",
       "            font-family: \"Source Code Pro\", source-code-pro,Consolas, monospace;\n",
       "    }\n",
       "    .text_cell_render h5 {\n",
       "        font-weight: 300;\n",
       "        font-size: 22pt;\n",
       "        color: #4057A1;\n",
       "        font-style: italic;\n",
       "        margin-bottom: .5em;\n",
       "        margin-top: 0.5em;\n",
       "        display: block;\n",
       "    }\n",
       "    \n",
       "    .warning{\n",
       "        color: rgb( 240, 20, 20 )\n",
       "        }  \n",
       "</style>\n",
       "<script>\n",
       "    MathJax.Hub.Config({\n",
       "                        TeX: {\n",
       "                           extensions: [\"AMSmath.js\"]\n",
       "                           },\n",
       "                tex2jax: {\n",
       "                    inlineMath: [ ['$','$'], [\"\\\\(\",\"\\\\)\"] ],\n",
       "                    displayMath: [ ['$$','$$'], [\"\\\\[\",\"\\\\]\"] ]\n",
       "                },\n",
       "                displayAlign: 'center', // Change this to 'center' to center equations.\n",
       "                \"HTML-CSS\": {\n",
       "                    styles: {'.MathJax_Display': {\"margin\": 4}}\n",
       "                }\n",
       "        });\n",
       "</script>\n"
      ],
      "text/plain": [
       "<IPython.core.display.HTML object>"
      ]
     },
     "execution_count": 1,
     "metadata": {},
     "output_type": "execute_result"
    }
   ],
   "source": [
    "from IPython.core.display import HTML\n",
    "from IPython.lib.display import YouTubeVideo\n",
    "\n",
    "def css_styling():\n",
    "    styles = open(\"../Data/www/styles/custom.css\", \"r\").read()\n",
    "    return HTML(styles)\n",
    "css_styling()"
   ]
  },
  {
   "cell_type": "code",
   "execution_count": 2,
   "metadata": {
    "ExecuteTime": {
     "end_time": "2019-06-23T21:29:11.501418Z",
     "start_time": "2019-06-23T21:29:11.497541Z"
    }
   },
   "outputs": [],
   "source": [
    "import glob\n",
    "import datetime\n",
    "import string"
   ]
  },
  {
   "cell_type": "markdown",
   "metadata": {},
   "source": [
    "# Synopsis\n",
    "\n",
    "In this unit we will learn that:\n",
    "\n",
    "1. **Dictionaries** are **mutable unordered** collections whose elements are accessed using **keys**.\n",
    "\n",
    "    1. Dictionaries are created using the `{}` syntax.\n",
    "    \n",
    "    2. Dictionaries are composed of `key, value` pairs.\n",
    "\n",
    "    3. Each `key, value` pair is called an *item*.\n",
    "    \n",
    "    4. `Items` can be added to a dictionary using the built-in method `update()`.\n",
    "    \n",
    "    5. `Items` can be changed using instanciation.\n",
    "    \n",
    "    6. `Items` can be removed usind the functions `del` and the method `pop()`.\n",
    "    \n",
    "2. Dictionaries allow nesting with all data types.\n",
    "\n",
    "3. We can access all `items`, `keys`, and `values` in a dictionary."
   ]
  },
  {
   "cell_type": "markdown",
   "metadata": {},
   "source": [
    "+++"
   ]
  },
  {
   "cell_type": "markdown",
   "metadata": {
    "collapsed": true
   },
   "source": [
    "## Dictionaries\n",
    "\n",
    "A Python dictionary is an extraordinarily useful data type that expands on the possibilities offered by lists.  In a list one keeps track of the elements by an index that must be an integer.  **Dictionaries keep track of elements by `key`!**\n",
    "\n",
    "Each element in a dictionary is an **item**, and every `item` has both a **key** and a **value**. You use the `key` to \"look up\" the `value`. This concept is just like if we wanted to look up the meaning of a word in a real dictionary. Also, just like in a real dictionary, it means that all of the `keys` **must** be unique. If we had a `key` multiple times, then we wouldn't know where to go look up its `value`. Remember `sets`?  **The `keys` in a dictionary form a set!**\n",
    "\n",
    "The syntax to create a dictionary also uses the syntax`{}`. If we are initializing a dictionary, we enter `key-value` pairs separated by commas; for each `item`, the key is separated from the value by a colon.\n",
    "\n",
    "`a_dict = {key : value, another_key : another_value}`\n"
   ]
  },
  {
   "cell_type": "markdown",
   "metadata": {},
   "source": [
    "## What are dictionaries good for?\n",
    "\n",
    "Great that you would ask! Recall the project involving all the student records?  Dictionaries are **the** data type to deal with records.  What are `Date of Birth` and `Age` if not keys? \n",
    "\n",
    "Let's retrieve our code so that we can start seeing how great dictionaries are."
   ]
  },
  {
   "cell_type": "code",
   "execution_count": 3,
   "metadata": {
    "ExecuteTime": {
     "end_time": "2019-06-23T21:29:12.572244Z",
     "start_time": "2019-06-23T21:29:12.567349Z"
    }
   },
   "outputs": [],
   "source": [
    "def find_student_records(directory):\n",
    "    \"\"\"\n",
    "    Return all roster filenames in a directory\n",
    "    \n",
    "    input:\n",
    "        directory - str, Directory that contains the roster files\n",
    "    output:\n",
    "        filenames - list, List of roster filenames in directory\n",
    "    \"\"\"\n",
    "    filenames = glob.glob( directory + '/*.txt' )\n",
    "    \n",
    "    return filenames"
   ]
  },
  {
   "cell_type": "code",
   "execution_count": 4,
   "metadata": {
    "ExecuteTime": {
     "end_time": "2019-06-23T21:29:13.076459Z",
     "start_time": "2019-06-23T21:29:13.067767Z"
    }
   },
   "outputs": [],
   "source": [
    "def string2tuple_dob(dob_string):\n",
    "    '''\n",
    "    Takes a date string of \"M/D/YY\" and converts it to a tuple with month, day, and year as integers\n",
    "\n",
    "    input:\n",
    "        * dob_string - str, birthday string of form \"M/D/YY\"\n",
    "    output:\n",
    "        * dob - tuple, (\"month\", \"day\", \"year\")\n",
    "    '''\n",
    "    month, day, year = dob_string.split('/')\n",
    "    month = int(month)\n",
    "    day = int(day)\n",
    "    year = int(year) + 1900\n",
    "    dob = (month, day, year)\n",
    "    \n",
    "    return dob\n",
    "\n",
    "\n",
    "def parse_student_record(filename):\n",
    "    '''\n",
    "    Parses a student record file into a list of tuples\n",
    "    \n",
    "    input:\n",
    "        filename - str, path to the file\n",
    "    output:\n",
    "        data - list of tuples, student attribute data\n",
    "    '''\n",
    "    data = []\n",
    "    file_in = open(filename, u\"r\")\n",
    "    \n",
    "    for line in file_in.readlines():\n",
    "        if line[0] == '#' or line in string.whitespace:\n",
    "            continue\n",
    "        else:\n",
    "            field, value = line.split(':')\n",
    "            field = field.strip()\n",
    "            value = value.strip()\n",
    "            if field == 'Date of Birth':\n",
    "                value = string2tuple_dob( value )\n",
    "            data.append( (field, value) )\n",
    "            \n",
    "    return data\n"
   ]
  },
  {
   "cell_type": "code",
   "execution_count": 5,
   "metadata": {
    "ExecuteTime": {
     "end_time": "2019-06-23T21:29:13.571435Z",
     "start_time": "2019-06-23T21:29:13.559434Z"
    }
   },
   "outputs": [
    {
     "name": "stdout",
     "output_type": "stream",
     "text": [
      "['../Data/Day2-Collections-and-Files/Roster/Victoria_Ross_528.txt', '../Data/Day2-Collections-and-Files/Roster/Agatha_Young_172.txt']\n"
     ]
    }
   ],
   "source": [
    "filenames = find_student_records('../Data/Day2-Collections-and-Files/Roster/')\n",
    "print(filenames[:2])\n",
    "data = parse_student_record(filenames[0])"
   ]
  },
  {
   "cell_type": "markdown",
   "metadata": {},
   "source": [
    "The list of tuples that we create for each student contains all information we have available. However, it is not particular easy to access any particular field.  Imagine we want to find the `Department` where `Agatha Brooks` studies. We need to find the index of the tuple for which the first element equals `Department` and then print the second element of that tuple."
   ]
  },
  {
   "cell_type": "code",
   "execution_count": 6,
   "metadata": {
    "ExecuteTime": {
     "end_time": "2019-06-23T21:29:14.318572Z",
     "start_time": "2019-06-23T21:29:14.312154Z"
    }
   },
   "outputs": [
    {
     "name": "stdout",
     "output_type": "stream",
     "text": [
      "Engineering\n"
     ]
    }
   ],
   "source": [
    "for i in range( len(data) ):\n",
    "    if data[i][0] == 'Department':\n",
    "        print( data[i][1])\n",
    "        break"
   ]
  },
  {
   "cell_type": "markdown",
   "metadata": {},
   "source": [
    "Let's transform our list of tuple into a dictionary and check how much easier it is to retrieve the same information."
   ]
  },
  {
   "cell_type": "code",
   "execution_count": 7,
   "metadata": {
    "ExecuteTime": {
     "end_time": "2019-06-23T21:29:15.204096Z",
     "start_time": "2019-06-23T21:29:15.198137Z"
    }
   },
   "outputs": [
    {
     "name": "stdout",
     "output_type": "stream",
     "text": [
      "{'Name': 'Victoria Y. Ross', 'Date of Birth': (11, 26, 1975), 'Email Address': 'victoria.ross@northwestern.edu', 'Department': 'Engineering', 'Height': '5ft,0in', 'Weight': '160lbs', 'Favorite Color': 'Teal', 'Favorite Animal': 'Mouse', 'Zodiac Sign': 'November'}\n"
     ]
    }
   ],
   "source": [
    "data_dict = {}\n",
    "for i in range( len(data) ):\n",
    "    data_dict[data[i][0]] = data[i][1]\n",
    "\n",
    "print(data_dict)"
   ]
  },
  {
   "cell_type": "code",
   "execution_count": 8,
   "metadata": {
    "ExecuteTime": {
     "end_time": "2019-06-23T21:29:15.626358Z",
     "start_time": "2019-06-23T21:29:15.618704Z"
    }
   },
   "outputs": [
    {
     "data": {
      "text/plain": [
       "'Engineering'"
      ]
     },
     "execution_count": 8,
     "metadata": {},
     "output_type": "execute_result"
    }
   ],
   "source": [
    "data_dict['Department']"
   ]
  },
  {
   "cell_type": "code",
   "execution_count": 9,
   "metadata": {
    "ExecuteTime": {
     "end_time": "2019-06-23T21:29:16.108909Z",
     "start_time": "2019-06-23T21:29:16.102304Z"
    }
   },
   "outputs": [
    {
     "data": {
      "text/plain": [
       "'Teal'"
      ]
     },
     "execution_count": 9,
     "metadata": {},
     "output_type": "execute_result"
    }
   ],
   "source": [
    "data_dict['Favorite Color']"
   ]
  },
  {
   "cell_type": "markdown",
   "metadata": {},
   "source": [
    "Let's look into the properties of dictionaries.  Dictionaries are **mutable**. You can change the value of an element by re-assigning its value.\n",
    "\n",
    "Dictionaries are **unordered**. If you print the same dictionary twice, the order in which `items` will be printed does not need to be the same. \n",
    "\n",
    "If we want to add a new `key-value` pair to the dictionary, we access a new `key` and assign it a value. If we want to add multiple `items` to a dictionary, we must use the built-in method `update()`."
   ]
  },
  {
   "cell_type": "code",
   "execution_count": 10,
   "metadata": {
    "ExecuteTime": {
     "end_time": "2019-06-23T21:29:16.886481Z",
     "start_time": "2019-06-23T21:29:16.875985Z"
    }
   },
   "outputs": [
    {
     "name": "stdout",
     "output_type": "stream",
     "text": [
      "{'Name': 'Victoria Y. Ross', 'Date of Birth': (11, 26, 1975), 'Email Address': 'victoria.ross@northwestern.edu', 'Department': 'Engineering', 'Height': '5ft,0in', 'Weight': '160lbs', 'Favorite Color': 'Teal', 'Favorite Animal': 'Mouse', 'Zodiac Sign': 'November', 'Favorite Sport': 'Soccer'}\n",
      "{'Name': 'Victoria Y. Ross', 'Date of Birth': (11, 26, 1975), 'Email Address': 'victoria.ross@northwestern.edu', 'Department': 'Engineering', 'Height': '5ft,0in', 'Weight': '160lbs', 'Favorite Color': 'Teal', 'Favorite Animal': 'Mouse', 'Zodiac Sign': 'November', 'Favorite Sport': 'Soccer', 'Favorite Sports Team': 'S. L. Benfica', 'Favorite Sports Team Mascot': 'Eagle'}\n"
     ]
    }
   ],
   "source": [
    "data_dict['Favorite Sport'] = 'Soccer'\n",
    "print(data_dict)\n",
    "data_dict.update({'Favorite Sports Team': 'S. L. Benfica', 'Favorite Sports Team Mascot': 'Eagle'})\n",
    "print(data_dict)"
   ]
  },
  {
   "cell_type": "markdown",
   "metadata": {},
   "source": [
    "To remove a `key-value` pair from a `dict` variable, we can use `del` and provide the `key`. Guess what happens if you provide a `key` that does not exist? \n",
    "\n",
    "Alternatively, you can use the built-in method `pop()` and provide a `key`. This method deletes the `item` with `key` and returns the `value`.\n"
   ]
  },
  {
   "cell_type": "code",
   "execution_count": 11,
   "metadata": {
    "ExecuteTime": {
     "end_time": "2019-06-23T21:29:17.748035Z",
     "start_time": "2019-06-23T21:29:17.742940Z"
    }
   },
   "outputs": [
    {
     "name": "stdout",
     "output_type": "stream",
     "text": [
      "S. L. Benfica\n",
      "Soccer\n"
     ]
    }
   ],
   "source": [
    "del data_dict['Favorite Sports Team Mascot']\n",
    "print( data_dict.pop('Favorite Sports Team') )\n",
    "print( data_dict.pop('Favorite Sport') )"
   ]
  },
  {
   "cell_type": "code",
   "execution_count": 12,
   "metadata": {
    "ExecuteTime": {
     "end_time": "2019-06-23T21:29:18.151643Z",
     "start_time": "2019-06-23T21:29:18.147168Z"
    }
   },
   "outputs": [
    {
     "data": {
      "text/plain": [
       "{'Name': 'Victoria Y. Ross',\n",
       " 'Date of Birth': (11, 26, 1975),\n",
       " 'Email Address': 'victoria.ross@northwestern.edu',\n",
       " 'Department': 'Engineering',\n",
       " 'Height': '5ft,0in',\n",
       " 'Weight': '160lbs',\n",
       " 'Favorite Color': 'Teal',\n",
       " 'Favorite Animal': 'Mouse',\n",
       " 'Zodiac Sign': 'November'}"
      ]
     },
     "execution_count": 12,
     "metadata": {},
     "output_type": "execute_result"
    }
   ],
   "source": [
    "data_dict"
   ]
  },
  {
   "cell_type": "markdown",
   "metadata": {},
   "source": [
    "We could access all elements of a list using contructions such as `for element in a_list` or `for i in range(len(a_list))`. \n",
    "\n",
    "Dictionaries have more types of information. We can access all `items`, or all `keys`, or all `values`."
   ]
  },
  {
   "cell_type": "code",
   "execution_count": 13,
   "metadata": {
    "ExecuteTime": {
     "end_time": "2019-06-23T21:29:18.993921Z",
     "start_time": "2019-06-23T21:29:18.987359Z"
    }
   },
   "outputs": [
    {
     "name": "stdout",
     "output_type": "stream",
     "text": [
      "dict_keys(['Name', 'Date of Birth', 'Email Address', 'Department', 'Height', 'Weight', 'Favorite Color', 'Favorite Animal', 'Zodiac Sign'])\n",
      "\n",
      "dict_items([('Name', 'Victoria Y. Ross'), ('Date of Birth', (11, 26, 1975)), ('Email Address', 'victoria.ross@northwestern.edu'), ('Department', 'Engineering'), ('Height', '5ft,0in'), ('Weight', '160lbs'), ('Favorite Color', 'Teal'), ('Favorite Animal', 'Mouse'), ('Zodiac Sign', 'November')])\n",
      "\n",
      "dict_values(['Victoria Y. Ross', (11, 26, 1975), 'victoria.ross@northwestern.edu', 'Engineering', '5ft,0in', '160lbs', 'Teal', 'Mouse', 'November'])\n"
     ]
    }
   ],
   "source": [
    "print(data_dict.keys())   # It looks like as list of strings\n",
    "print()\n",
    "print(data_dict.items())  # It looks like a list of tuples\n",
    "print()\n",
    "print(data_dict.values()) # It looks like a list"
   ]
  },
  {
   "cell_type": "markdown",
   "metadata": {},
   "source": [
    "Even though all these objects look like lists they are not lists. They are **iterators**.  This means that you can go in order and access each one in turn, but they are not accessible by index."
   ]
  },
  {
   "cell_type": "code",
   "execution_count": 14,
   "metadata": {
    "ExecuteTime": {
     "end_time": "2019-06-23T21:29:19.854591Z",
     "start_time": "2019-06-23T21:29:19.771201Z"
    }
   },
   "outputs": [
    {
     "name": "stdout",
     "output_type": "stream",
     "text": [
      "Victoria Y. Ross\n",
      "(11, 26, 1975)\n",
      "victoria.ross@northwestern.edu\n",
      "Engineering\n",
      "5ft,0in\n",
      "160lbs\n",
      "Teal\n",
      "Mouse\n",
      "November\n",
      "\n",
      "<class 'dict_values'>\n",
      "\n",
      "(11, 26, 1975)\n"
     ]
    },
    {
     "ename": "TypeError",
     "evalue": "'dict_values' object does not support indexing",
     "output_type": "error",
     "traceback": [
      "\u001b[0;31m---------------------------------------------------------------------------\u001b[0m",
      "\u001b[0;31mTypeError\u001b[0m                                 Traceback (most recent call last)",
      "\u001b[0;32m<ipython-input-14-54c068eddd42>\u001b[0m in \u001b[0;36m<module>\u001b[0;34m\u001b[0m\n\u001b[1;32m      6\u001b[0m \u001b[0mprint\u001b[0m\u001b[0;34m(\u001b[0m\u001b[0;34m)\u001b[0m\u001b[0;34m\u001b[0m\u001b[0;34m\u001b[0m\u001b[0m\n\u001b[1;32m      7\u001b[0m \u001b[0mprint\u001b[0m\u001b[0;34m(\u001b[0m \u001b[0mlist\u001b[0m\u001b[0;34m(\u001b[0m\u001b[0mdata_dict\u001b[0m\u001b[0;34m.\u001b[0m\u001b[0mvalues\u001b[0m\u001b[0;34m(\u001b[0m\u001b[0;34m)\u001b[0m\u001b[0;34m)\u001b[0m\u001b[0;34m[\u001b[0m\u001b[0;36m1\u001b[0m\u001b[0;34m]\u001b[0m \u001b[0;34m)\u001b[0m\u001b[0;34m\u001b[0m\u001b[0;34m\u001b[0m\u001b[0m\n\u001b[0;32m----> 8\u001b[0;31m \u001b[0mprint\u001b[0m\u001b[0;34m(\u001b[0m \u001b[0mdata_dict\u001b[0m\u001b[0;34m.\u001b[0m\u001b[0mvalues\u001b[0m\u001b[0;34m(\u001b[0m\u001b[0;34m)\u001b[0m\u001b[0;34m[\u001b[0m\u001b[0;36m1\u001b[0m\u001b[0;34m]\u001b[0m \u001b[0;34m)\u001b[0m\u001b[0;34m\u001b[0m\u001b[0;34m\u001b[0m\u001b[0m\n\u001b[0m",
      "\u001b[0;31mTypeError\u001b[0m: 'dict_values' object does not support indexing"
     ]
    }
   ],
   "source": [
    "for value in data_dict.values():\n",
    "    print(value)\n",
    "\n",
    "print()\n",
    "print( type( data_dict.values() ) )\n",
    "print()\n",
    "print( list(data_dict.values())[1] )\n",
    "print( data_dict.values()[1] )"
   ]
  },
  {
   "cell_type": "markdown",
   "metadata": {},
   "source": [
    "Working with dictionaries can be challenging when you are starting.  Accessing information by `key` is less natural for many of us.  Moreover, things can quickly become rather complex when nesting is involved. Keeping track of the elements in a list of dictionaries that contains lists of list is not easy task.  \n",
    "\n",
    "As in many other situations, being organized and working out specific cases with paper and pen can make all the difference.\n",
    "\n",
    "In order to gain experience with these challenges, let's create a list of dictionaries using the code for processing the roster files.  First, we have to change the function `parse_student_record()` to create a dictionary instead of a list of tuples."
   ]
  },
  {
   "cell_type": "code",
   "execution_count": 15,
   "metadata": {
    "ExecuteTime": {
     "end_time": "2019-06-23T21:29:23.872665Z",
     "start_time": "2019-06-23T21:29:23.861682Z"
    }
   },
   "outputs": [],
   "source": [
    "def string2tuple_dob(dob_string):\n",
    "    '''\n",
    "    Takes a date string of \"M/D/YY\" and converts it to a tuple with month, day, and year as integers\n",
    "\n",
    "    input:\n",
    "        * dob_string - str, birthday string of form \"M/D/YY\"\n",
    "    output:\n",
    "        * dob - tuple, (\"month\", \"day\", \"year\")\n",
    "    '''\n",
    "    month, day, year = dob_string.split('/')\n",
    "    month = int(month)\n",
    "    day = int(day)\n",
    "    year = int(year) + 1900\n",
    "    dob = (month, day, year)\n",
    "    \n",
    "    return dob\n",
    "\n",
    "\n",
    "def parse_student_record(filename):\n",
    "    '''\n",
    "    Parses a student record file into a list of tuples <-- CHANGE THIS\n",
    "    \n",
    "    input:\n",
    "        filename - str, path to the file\n",
    "    output:\n",
    "        data - list of tuples, student attribute data <-- CHANGE THIS\n",
    "    '''\n",
    "    data = []   # CHANGE THIS\n",
    "    file_in = open(filename, u\"r\")\n",
    "    \n",
    "    for line in file_in.readlines():\n",
    "        if line[0] == '#' or line in string.whitespace:\n",
    "            continue\n",
    "        else:\n",
    "            field, value = line.split(':')\n",
    "            field = field.strip()\n",
    "            value = value.strip()\n",
    "            if field == 'Date of Birth':\n",
    "                value = string2tuple_dob( value )\n",
    "            data.append( (field, value) ) # CHANGE THIS\n",
    "            \n",
    "    return data\n"
   ]
  },
  {
   "cell_type": "code",
   "execution_count": 16,
   "metadata": {
    "ExecuteTime": {
     "end_time": "2019-06-23T21:29:24.489640Z",
     "start_time": "2019-06-23T21:29:24.475746Z"
    }
   },
   "outputs": [],
   "source": [
    "def string2tuple_dob(dob_string):\n",
    "    '''\n",
    "    Takes a date string of \"M/D/YY\" and converts it to a tuple with month, day, and year as integers\n",
    "\n",
    "    input:\n",
    "        * dob_string - str, birthday string of form \"M/D/YY\"\n",
    "    output:\n",
    "        * dob - tuple, (\"month\", \"day\", \"year\")\n",
    "    '''\n",
    "    month, day, year = dob_string.split('/')\n",
    "    month = int(month)\n",
    "    day = int(day)\n",
    "    year = int(year) + 1900\n",
    "    dob = (month, day, year)\n",
    "    \n",
    "    return dob\n",
    "\n",
    "\n",
    "def parse_student_record(filename):\n",
    "    '''\n",
    "    Parses a student record file into a dictionary\n",
    "    \n",
    "    input:\n",
    "        filename - str, path to the file\n",
    "    output:\n",
    "        data - dictionary\n",
    "    '''\n",
    "    data = {}\n",
    "    file_in = open(filename, u\"r\")\n",
    "    \n",
    "    for line in file_in.readlines():\n",
    "        if line[0] == '#' or line in string.whitespace:\n",
    "            continue\n",
    "        else:\n",
    "            field, value = line.split(':')\n",
    "            field = field.strip()\n",
    "            value = value.strip()\n",
    "            if field == 'Date of Birth':\n",
    "                value = string2tuple_dob( value )\n",
    "            data[field] = value\n",
    "            \n",
    "    return data\n"
   ]
  },
  {
   "cell_type": "code",
   "execution_count": 17,
   "metadata": {
    "ExecuteTime": {
     "end_time": "2019-06-23T21:29:24.910859Z",
     "start_time": "2019-06-23T21:29:24.888741Z"
    }
   },
   "outputs": [
    {
     "name": "stdout",
     "output_type": "stream",
     "text": [
      "[{'Name': 'Victoria Y. Ross', 'Date of Birth': (11, 26, 1975), 'Email Address': 'victoria.ross@northwestern.edu', 'Department': 'Engineering', 'Height': '5ft,0in', 'Weight': '160lbs', 'Favorite Color': 'Teal', 'Favorite Animal': 'Mouse', 'Zodiac Sign': 'November'}, {'Name': 'Agatha E. Young', 'Date of Birth': (8, 10, 1990), 'Email Address': 'agatha.young@northwestern.edu', 'Department': 'English', 'Height': '5ft,3in', 'Weight': '182lbs', 'Favorite Color': 'Green', 'Favorite Animal': 'Bird', 'Zodiac Sign': 'August'}]\n"
     ]
    }
   ],
   "source": [
    "filenames = find_student_records('../Data/Day2-Collections-and-Files/Roster/')\n",
    "\n",
    "all_records = []\n",
    "for file in filenames[:20]:\n",
    "    data = parse_student_record(file)\n",
    "    all_records.append(data)\n",
    "    \n",
    "print(all_records[:2])"
   ]
  },
  {
   "cell_type": "markdown",
   "metadata": {},
   "source": [
    "In order to see what we are up against, it is useful to know how to read the output above.  The information is enclosed inside `[]`.  We expect this, since `all_records` is a list.\n",
    "\n",
    "We also know that since `all_records` is a list of dictionaries. Thus, each element in the list is going to be enclosed inside `{}` and separated by commas. Look for `}, {`. Those mark where a dictionary ends and the next begins.\n",
    "\n",
    "Inside each dictionary, we have `key: value` pairs separated by commas. \n",
    "\n",
    "If you can read them, you can write a command that accesses them!"
   ]
  },
  {
   "cell_type": "code",
   "execution_count": 18,
   "metadata": {
    "ExecuteTime": {
     "end_time": "2019-06-23T21:29:25.811635Z",
     "start_time": "2019-06-23T21:29:25.806192Z"
    }
   },
   "outputs": [
    {
     "data": {
      "text/plain": [
       "'Engineering'"
      ]
     },
     "execution_count": 18,
     "metadata": {},
     "output_type": "execute_result"
    }
   ],
   "source": [
    "# Print the Department of the 5th student record\n",
    "all_records[4]['Department']"
   ]
  },
  {
   "cell_type": "code",
   "execution_count": 19,
   "metadata": {
    "ExecuteTime": {
     "end_time": "2019-06-23T21:29:26.195790Z",
     "start_time": "2019-06-23T21:29:26.188736Z"
    }
   },
   "outputs": [
    {
     "data": {
      "text/plain": [
       "'5ft,4in'"
      ]
     },
     "execution_count": 19,
     "metadata": {},
     "output_type": "execute_result"
    }
   ],
   "source": [
    "# Print the Height of the 15th student record\n",
    "all_records[14]['Height']"
   ]
  },
  {
   "cell_type": "code",
   "execution_count": 20,
   "metadata": {
    "ExecuteTime": {
     "end_time": "2019-06-23T21:29:26.497045Z",
     "start_time": "2019-06-23T21:29:26.490001Z"
    }
   },
   "outputs": [
    {
     "name": "stdout",
     "output_type": "stream",
     "text": [
      "My name is Agatha Q. Sanders and I was born in 5 of 1991.\n"
     ]
    }
   ],
   "source": [
    "# Print the string \"My name is ______ and I was born in _month___ of ___year.\" for the 15th student record\n",
    "print( \"My name is {0} and I was born in {1} of {2}.\".format(all_records[14]['Name'], \n",
    "                                                             all_records[14]['Date of Birth'][0], \n",
    "                                                             all_records[14]['Date of Birth'][2]) )"
   ]
  },
  {
   "cell_type": "markdown",
   "metadata": {},
   "source": [
    "Well. That does not look good, does it?  It would be nice to have the actual month name instead of the number...  Why don't we find a way to do that conversion?"
   ]
  },
  {
   "cell_type": "code",
   "execution_count": 21,
   "metadata": {
    "ExecuteTime": {
     "end_time": "2019-06-23T21:29:27.212860Z",
     "start_time": "2019-06-23T21:29:27.208429Z"
    }
   },
   "outputs": [],
   "source": [
    "def convert_number2month( number ):\n",
    "    \"\"\"\n",
    "    This function takes a number between 1 and 12 and returns the name of the corresponding month.\n",
    "    \n",
    "    input:\n",
    "        number - int\n",
    "    output:\n",
    "        month - string\n",
    "    \"\"\"\n",
    "    months = ('January', 'February', 'March', 'April', 'May', 'June', 'July', 'August', 'September', 'October', 'November', 'December')\n",
    "    month = months[ number - 1 ]\n",
    "\n",
    "    return month"
   ]
  },
  {
   "cell_type": "code",
   "execution_count": 22,
   "metadata": {
    "ExecuteTime": {
     "end_time": "2019-06-23T21:29:27.543346Z",
     "start_time": "2019-06-23T21:29:27.536074Z"
    }
   },
   "outputs": [
    {
     "name": "stdout",
     "output_type": "stream",
     "text": [
      "My name is Agatha Q. Sanders and I was born in May of 1991.\n"
     ]
    }
   ],
   "source": [
    "# Print the string \"My name is ______ and I was born in _month___ of ___year.\" for the 15th student record\n",
    "print( \"My name is {0} and I was born in {1} of {2}.\".format(all_records[14]['Name'], \n",
    "                                                             convert_number2month(all_records[14]['Date of Birth'][0]), \n",
    "                                                             all_records[14]['Date of Birth'][2]) )"
   ]
  },
  {
   "cell_type": "code",
   "execution_count": 23,
   "metadata": {
    "ExecuteTime": {
     "end_time": "2019-06-23T21:29:27.789575Z",
     "start_time": "2019-06-23T21:29:27.786776Z"
    }
   },
   "outputs": [],
   "source": [
    "# Print the string \"My name is ______ and I love _color_.\" for the 25th student record\n"
   ]
  },
  {
   "cell_type": "code",
   "execution_count": 24,
   "metadata": {
    "ExecuteTime": {
     "end_time": "2019-06-23T21:29:28.261583Z",
     "start_time": "2019-06-23T21:29:28.258628Z"
    }
   },
   "outputs": [],
   "source": [
    "# # Print the string \"My name is ______ and I love _color_.\" for the first 10 student records \n"
   ]
  },
  {
   "cell_type": "markdown",
   "metadata": {
    "collapsed": true
   },
   "source": [
    "Ok, since you seem to get this, let's make it more interesting.\n",
    "\n",
    "Please find for each student all other students that are within 5 years of their age.  Then add to the record of each student a list with the indices in the `all_records` of those other students."
   ]
  },
  {
   "cell_type": "code",
   "execution_count": null,
   "metadata": {},
   "outputs": [],
   "source": [
    "\n"
   ]
  },
  {
   "cell_type": "markdown",
   "metadata": {},
   "source": [
    "## Using JSON to store and retrieve data\n",
    "\n",
    "So far, we have performed calculation and used the results inside our program without the need to store complex data structures to a file.  However, many times we will want to store the result of a calculation for later instead of having to repeat it whenever we need the result.  \n",
    "\n",
    "`JSON` (JavaScript Object Notation) is a lightweight data-interchange format. It is easy for humans to read and write. It is easy for machines to parse and generate. `JSON` is a text format that is completely language independent but uses conventions that are familiar to programmers of the C-family of languages, including C, C++, C#, Java, JavaScript, Perl, Python, and many others. **These properties make JSON an ideal data-interchange language**.\n",
    "\n",
    "JSON is built on two structures:\n",
    "\n",
    "* A collection of name/value pairs. In various languages, this is realized as an object, record, struct, dictionary, hash table, keyed list, or associative array.\n",
    "* An ordered list of values. In most languages, this is realized as an array, vector, list, or sequence.\n",
    "\n",
    "These are universal data structures. Virtually all modern programming languages support them in one form or another. \n",
    "It makes sense that a data format that is interchangeable with programming languages also be based on these structures.\n",
    "\n",
    "In JSON, they take on these forms:\n",
    "\n",
    "* An `object` is an unordered set of `name/value` pairs. An object begins with { (left brace) and ends with } (right brace). Each name is followed by : (colon) and the name/value pairs are separated by , (comma).\n",
    "* An `array` is an ordered collection of `values`. An array begins with [ (left bracket) and ends with ] (right bracket). `Values` are separated by , (comma).\n",
    "\n",
    "A `value` can be a string in double quotes, or a number, or true or false or null, or an object or an array. These structures can be nested.\n",
    "\n",
    "\n",
    "As you would expect, there is a library in Python for using JSON."
   ]
  },
  {
   "cell_type": "code",
   "execution_count": 25,
   "metadata": {
    "ExecuteTime": {
     "end_time": "2019-06-23T21:29:29.669118Z",
     "start_time": "2019-06-23T21:29:29.665977Z"
    }
   },
   "outputs": [],
   "source": [
    "import json"
   ]
  },
  {
   "cell_type": "markdown",
   "metadata": {},
   "source": [
    "The `json` [library](https://docs.python.org/3.4/library/json.html) gives us access to a number of methods.  In order to explore some of those methods, we will write to a file the data we created earlier."
   ]
  },
  {
   "cell_type": "code",
   "execution_count": 26,
   "metadata": {
    "ExecuteTime": {
     "end_time": "2019-06-23T21:29:30.351246Z",
     "start_time": "2019-06-23T21:29:30.344800Z"
    }
   },
   "outputs": [],
   "source": [
    "with open('../Data/Day4-Dictionaries/records.json', 'w') as file_out:\n",
    "    json.dump(all_records, file_out)"
   ]
  },
  {
   "cell_type": "markdown",
   "metadata": {},
   "source": [
    "This is what the contents of the file look like:\n",
    "\n",
    "`[{\"Date of Birth\": [1, 10, 1975], \"Zodiac Sign\": \"January\", \"Department\": \"Engineering\", \"Weight\": \"220lbs\", \"Favorite Color\": \"Lime\", \"Height\": \"6ft,0in\", \"Favorite Animal\": \"Turtle\", \"Email Address\": \"agatha.bailey@northwestern.edu\", \"Name\": \"Agatha A. Bailey\"}, {\"Date of Birth\": [3, 31, 1986], \"Zodiac Sign\": \"March\", \"Department\": \"Music\", \"Weight\": \"194lbs\", \"Favorite Color\": \"Blue\", \"Height\": \"5ft,5in\", \"Favorite Animal\": \"Cat\", \"Email Address\": \"agatha.brooks@northwestern.edu\", \"Name\": \"Agatha A. Brooks\"}, {\"Date of Birth\": [7, 24, 1989], \"Zodiac Sign\": \"July\", \"Department\": \"Psychology\", \"Weight\": \"164lbs\", \"Favorite Color\": \"Yellow\", \"Height\": \"5ft,10in\", \"Favorite Animal\": \"Mouse\", \"Email Address\": \"agatha.campbell@northwestern.edu\", \"Name\": \"Agatha N. Campbell\"},...`\n",
    "\n",
    "\n",
    "We can read back the information stored in the file into a variable:\n"
   ]
  },
  {
   "cell_type": "code",
   "execution_count": 27,
   "metadata": {
    "ExecuteTime": {
     "end_time": "2019-06-23T21:29:31.351540Z",
     "start_time": "2019-06-23T21:29:31.346857Z"
    }
   },
   "outputs": [],
   "source": [
    "with open('../Data/Day4-Dictionaries/records.json', 'r') as file_in:\n",
    "    loaded_records = json.load(file_in)"
   ]
  },
  {
   "cell_type": "code",
   "execution_count": 28,
   "metadata": {
    "ExecuteTime": {
     "end_time": "2019-06-23T21:29:31.748972Z",
     "start_time": "2019-06-23T21:29:31.744296Z"
    }
   },
   "outputs": [
    {
     "name": "stdout",
     "output_type": "stream",
     "text": [
      "<class 'list'>\n",
      "<class 'list'>\n",
      "{'Name': 'Agatha E. Young', 'Date of Birth': (8, 10, 1990), 'Email Address': 'agatha.young@northwestern.edu', 'Department': 'English', 'Height': '5ft,3in', 'Weight': '182lbs', 'Favorite Color': 'Green', 'Favorite Animal': 'Bird', 'Zodiac Sign': 'August'}\n",
      "{'Name': 'Agatha E. Young', 'Date of Birth': [8, 10, 1990], 'Email Address': 'agatha.young@northwestern.edu', 'Department': 'English', 'Height': '5ft,3in', 'Weight': '182lbs', 'Favorite Color': 'Green', 'Favorite Animal': 'Bird', 'Zodiac Sign': 'August'}\n"
     ]
    }
   ],
   "source": [
    "print(type(all_records))\n",
    "print(type(loaded_records))\n",
    "print(all_records[1])\n",
    "print(loaded_records[1])"
   ]
  },
  {
   "cell_type": "markdown",
   "metadata": {},
   "source": [
    "Notice any changes?"
   ]
  },
  {
   "cell_type": "code",
   "execution_count": null,
   "metadata": {},
   "outputs": [],
   "source": []
  }
 ],
 "metadata": {
  "anaconda-cloud": {},
  "kernelspec": {
   "display_name": "Python 3",
   "language": "python",
   "name": "python3"
  },
  "language_info": {
   "codemirror_mode": {
    "name": "ipython",
    "version": 3
   },
   "file_extension": ".py",
   "mimetype": "text/x-python",
   "name": "python",
   "nbconvert_exporter": "python",
   "pygments_lexer": "ipython3",
   "version": "3.6.8"
  },
  "latex_envs": {
   "LaTeX_envs_menu_present": true,
   "autoclose": false,
   "autocomplete": true,
   "bibliofile": "biblio.bib",
   "cite_by": "apalike",
   "current_citInitial": 1,
   "eqLabelWithNumbers": true,
   "eqNumInitial": 1,
   "hotkeys": {
    "equation": "Ctrl-E",
    "itemize": "Ctrl-I"
   },
   "labels_anchors": false,
   "latex_user_defs": false,
   "report_style_numbering": false,
   "user_envs_cfg": false
  },
  "toc": {
   "nav_menu": {},
   "number_sections": true,
   "sideBar": true,
   "skip_h1_title": false,
   "title_cell": "Table of Contents",
   "title_sidebar": "Contents",
   "toc_cell": false,
   "toc_position": {},
   "toc_section_display": true,
   "toc_window_display": false
  }
 },
 "nbformat": 4,
 "nbformat_minor": 1
}
