{
 "cells": [
  {
   "cell_type": "code",
   "execution_count": 2,
   "metadata": {
    "ExecuteTime": {
     "end_time": "2019-07-03T12:43:33.206669Z",
     "start_time": "2019-07-03T12:43:33.199774Z"
    }
   },
   "outputs": [
    {
     "data": {
      "text/html": [
       "<style>\n",
       "    @font-face {\n",
       "        font-family: \"Computer Modern\";\n",
       "        src: url('http://9dbb143991406a7c655e-aa5fcb0a5a4ec34cff238a2d56ca4144.r56.cf5.rackcdn.com/cmunss.otf');\n",
       "    }\n",
       "    @font-face {\n",
       "        font-family: \"Computer Modern\";\n",
       "        font-weight: bold;\n",
       "        src: url('http://9dbb143991406a7c655e-aa5fcb0a5a4ec34cff238a2d56ca4144.r56.cf5.rackcdn.com/cmunsx.otf');\n",
       "    }\n",
       "    @font-face {\n",
       "        font-family: \"Computer Modern\";\n",
       "        font-style: oblique;\n",
       "        src: url('http://9dbb143991406a7c655e-aa5fcb0a5a4ec34cff238a2d56ca4144.r56.cf5.rackcdn.com/cmunsi.otf');\n",
       "    }\n",
       "    @font-face {\n",
       "        font-family: \"Computer Modern\";\n",
       "        font-weight: bold;\n",
       "        font-style: oblique;\n",
       "        src: url('http://9dbb143991406a7c655e-aa5fcb0a5a4ec34cff238a2d56ca4144.r56.cf5.rackcdn.com/cmunso.otf');\n",
       "    }\n",
       "    h1 {\n",
       "        font-family: Helvetica, serif;\n",
       "    }\n",
       "    h4{\n",
       "        margin-top:12px;\n",
       "        margin-bottom: 3px;\n",
       "       }\n",
       "    div.text_cell_render{\n",
       "        font-family: Computer Modern, \"Helvetica Neue\", Arial, Helvetica, Geneva, sans-serif;\n",
       "        line-height: 145%;\n",
       "        font-size: 130%;\n",
       "        margin-left:auto;\n",
       "        margin-right:auto;\n",
       "    }\n",
       "    .CodeMirror{\n",
       "            font-family: \"Source Code Pro\", source-code-pro,Consolas, monospace;\n",
       "    }\n",
       "    .text_cell_render h5 {\n",
       "        font-weight: 300;\n",
       "        font-size: 22pt;\n",
       "        color: #4057A1;\n",
       "        font-style: italic;\n",
       "        margin-bottom: .5em;\n",
       "        margin-top: 0.5em;\n",
       "        display: block;\n",
       "    }\n",
       "    \n",
       "    .warning{\n",
       "        color: rgb( 240, 20, 20 )\n",
       "        }  \n",
       "</style>\n",
       "<script>\n",
       "    MathJax.Hub.Config({\n",
       "                        TeX: {\n",
       "                           extensions: [\"AMSmath.js\"]\n",
       "                           },\n",
       "                tex2jax: {\n",
       "                    inlineMath: [ ['$','$'], [\"\\\\(\",\"\\\\)\"] ],\n",
       "                    displayMath: [ ['$$','$$'], [\"\\\\[\",\"\\\\]\"] ]\n",
       "                },\n",
       "                displayAlign: 'center', // Change this to 'center' to center equations.\n",
       "                \"HTML-CSS\": {\n",
       "                    styles: {'.MathJax_Display': {\"margin\": 4}}\n",
       "                }\n",
       "        });\n",
       "</script>\n"
      ],
      "text/plain": [
       "<IPython.core.display.HTML object>"
      ]
     },
     "execution_count": 2,
     "metadata": {},
     "output_type": "execute_result"
    }
   ],
   "source": [
    "from IPython.core.display import HTML\n",
    "def css_styling():\n",
    "    styles = open(\"../Data/www/styles/custom.css\", \"r\").read()\n",
    "    return HTML(styles)\n",
    "css_styling()"
   ]
  },
  {
   "cell_type": "markdown",
   "metadata": {},
   "source": [
    "# Synopsis\n",
    "\n",
    "In this unit we will learn the basics of analyzing structured data. In the process we will cover:\n",
    "\n",
    "* What is structured data\n",
    "* How to use Pandas to read and write structured data\n",
    "* Basic indexing operations of Pandas\n",
    "* Basic operations (math and plotting) with Pandas\n",
    "* Handling dates and times\n",
    "* The 'split-apply-combine' framework for analysis"
   ]
  },
  {
   "cell_type": "markdown",
   "metadata": {},
   "source": [
    "# An Introduction to Pandas\n",
    "\n",
    "Pandas is a contraction for \"panel data\", which is kind of an obtuse saying. A shorthand way of thinking about it is to think of it as dealing with a connected series of data, like a company's stock price over time. Particularly, most spreadsheets fall into this category so pandas is the most natural way of working with Excel-type data using Python. \n",
    "\n",
    "Pandas can do a lot, so I find it easier to think of it as this for data:\n",
    "\n",
    "![party](http://cdn.protoolreviews.com/wp-content/uploads/ptr/4433.jpg)\n",
    "\n",
    "But first let's confront the ugly reality.\n",
    "\n",
    "## Pandas is not very pythonic\n",
    "\n",
    "Actually **using** Pandas and not just using it to read files can be conceptually difficult and is a bit of a mental switch compared to most of what we have learned so far. If you want to iterate over things, you can't use a `for` loop easily. Instead you'll need to use specific Pandas methods to do whatever functions you want. These little differences add up and can wear on you, which might make you want to stop using Pandas. That's a fine way to feel (you don't really *have* to use it), but there are some big benefits to using it, that for a lot of people, are worth the costs.\n",
    "\n",
    "## Benefits of Pandas\n",
    "\n",
    "1. Pandas handles a lot of file I/O drudgery for you. I'll show you this in a bit, but reading CSV files and accessing data in them is super simple\n",
    "2. Pandas has a lot of *magic* built into, automaticallly taking care of many type conversions after reading a file\n",
    "3. Using Pandas **is** like working with [SQL](https://en.wikipedia.org/wiki/SQL) (don't know what SQL is? Don't worry, it's a bit advanced for this course but is surely something you'll encounter if you continue to program so it's worth reading up on). So learning Pandas means that you'll have a good idea of the underpinnings how SQL databases work which might help you later in your programming education (although the syntax is different).\n",
    "\n",
    "If you like using or want to continue using Pandas here is some recommended additional reading\n",
    "\n",
    "The Pandas tutorial pages http://pandas.pydata.org/pandas-docs/stable/tutorials.html\n",
    "\n",
    "10 minutes to Pandas http://pandas.pydata.org/pandas-docs/stable/10min.html"
   ]
  },
  {
   "cell_type": "code",
   "execution_count": 3,
   "metadata": {
    "ExecuteTime": {
     "end_time": "2019-07-03T12:43:45.454138Z",
     "start_time": "2019-07-03T12:43:43.825332Z"
    }
   },
   "outputs": [],
   "source": [
    "#We start with importing the packages\n",
    "import pandas as pd #pandas is almost always imported as pd. Just because. \n",
    "import numpy as np\n",
    "import matplotlib.pyplot as plt\n",
    "import matplotlib as mpl\n",
    "\n",
    "#We turn off the latex usage in matplotlib because LaTeX doesn't know\n",
    "#how to handle a '_' character without it being escaped with a backslash\n",
    "#Since we use '_' in column names typically this can be a bit of a problem\n",
    "#If we don't turn this off\n",
    "mpl.rc('text', usetex=False)"
   ]
  },
  {
   "cell_type": "code",
   "execution_count": 4,
   "metadata": {
    "ExecuteTime": {
     "end_time": "2019-07-03T12:43:45.467585Z",
     "start_time": "2019-07-03T12:43:45.457548Z"
    }
   },
   "outputs": [],
   "source": [
    "#This is an IPython \"magic\" to make sure that plots appear\n",
    "#directly in the notebook\n",
    "%matplotlib inline"
   ]
  },
  {
   "cell_type": "markdown",
   "metadata": {},
   "source": [
    "## Data structures in Pandas\n",
    "\n",
    "First, let's show some of this automagic. Remember the `CSV` files that had the college major information? Remember how much work it was? I'll remind you, it looked like this:\n",
    "\n",
    "<img src='../Data/www/images/csv_reading.png'></img>\n",
    "\n",
    "Let's load one of those files right now."
   ]
  },
  {
   "cell_type": "code",
   "execution_count": 7,
   "metadata": {
    "ExecuteTime": {
     "end_time": "2019-07-03T12:45:11.060067Z",
     "start_time": "2019-07-03T12:45:11.030099Z"
    }
   },
   "outputs": [
    {
     "data": {
      "text/html": [
       "<div>\n",
       "<style scoped>\n",
       "    .dataframe tbody tr th:only-of-type {\n",
       "        vertical-align: middle;\n",
       "    }\n",
       "\n",
       "    .dataframe tbody tr th {\n",
       "        vertical-align: top;\n",
       "    }\n",
       "\n",
       "    .dataframe thead th {\n",
       "        text-align: right;\n",
       "    }\n",
       "</style>\n",
       "<table border=\"1\" class=\"dataframe\">\n",
       "  <thead>\n",
       "    <tr style=\"text-align: right;\">\n",
       "      <th></th>\n",
       "      <th>Rank</th>\n",
       "      <th>Major_code</th>\n",
       "      <th>Major</th>\n",
       "      <th>Major_category</th>\n",
       "      <th>Total</th>\n",
       "      <th>Sample_size</th>\n",
       "      <th>Men</th>\n",
       "      <th>Women</th>\n",
       "      <th>ShareWomen</th>\n",
       "      <th>Employed</th>\n",
       "      <th>...</th>\n",
       "      <th>Part_time</th>\n",
       "      <th>Full_time_year_round</th>\n",
       "      <th>Unemployed</th>\n",
       "      <th>Unemployment_rate</th>\n",
       "      <th>Median</th>\n",
       "      <th>P25th</th>\n",
       "      <th>P75th</th>\n",
       "      <th>College_jobs</th>\n",
       "      <th>Non_college_jobs</th>\n",
       "      <th>Low_wage_jobs</th>\n",
       "    </tr>\n",
       "  </thead>\n",
       "  <tbody>\n",
       "    <tr>\n",
       "      <th>0</th>\n",
       "      <td>33</td>\n",
       "      <td>6099</td>\n",
       "      <td>MISCELLANEOUS FINE ARTS</td>\n",
       "      <td>Arts</td>\n",
       "      <td>3340</td>\n",
       "      <td>30</td>\n",
       "      <td>1970</td>\n",
       "      <td>1370</td>\n",
       "      <td>0.410180</td>\n",
       "      <td>2914</td>\n",
       "      <td>...</td>\n",
       "      <td>1067</td>\n",
       "      <td>1200</td>\n",
       "      <td>286</td>\n",
       "      <td>0.089375</td>\n",
       "      <td>50000</td>\n",
       "      <td>25000</td>\n",
       "      <td>66000</td>\n",
       "      <td>693</td>\n",
       "      <td>1714</td>\n",
       "      <td>755</td>\n",
       "    </tr>\n",
       "    <tr>\n",
       "      <th>1</th>\n",
       "      <td>96</td>\n",
       "      <td>6004</td>\n",
       "      <td>COMMERCIAL ART AND GRAPHIC DESIGN</td>\n",
       "      <td>Arts</td>\n",
       "      <td>103480</td>\n",
       "      <td>1186</td>\n",
       "      <td>8617</td>\n",
       "      <td>5156</td>\n",
       "      <td>0.374356</td>\n",
       "      <td>83483</td>\n",
       "      <td>...</td>\n",
       "      <td>24387</td>\n",
       "      <td>52243</td>\n",
       "      <td>8947</td>\n",
       "      <td>0.096798</td>\n",
       "      <td>35000</td>\n",
       "      <td>25000</td>\n",
       "      <td>45000</td>\n",
       "      <td>37389</td>\n",
       "      <td>38119</td>\n",
       "      <td>14839</td>\n",
       "    </tr>\n",
       "    <tr>\n",
       "      <th>2</th>\n",
       "      <td>142</td>\n",
       "      <td>6005</td>\n",
       "      <td>FILM VIDEO AND PHOTOGRAPHIC ARTS</td>\n",
       "      <td>Arts</td>\n",
       "      <td>38761</td>\n",
       "      <td>331</td>\n",
       "      <td>22339</td>\n",
       "      <td>49030</td>\n",
       "      <td>0.686993</td>\n",
       "      <td>31433</td>\n",
       "      <td>...</td>\n",
       "      <td>12818</td>\n",
       "      <td>15740</td>\n",
       "      <td>3718</td>\n",
       "      <td>0.105772</td>\n",
       "      <td>32000</td>\n",
       "      <td>22000</td>\n",
       "      <td>42000</td>\n",
       "      <td>7368</td>\n",
       "      <td>20721</td>\n",
       "      <td>5862</td>\n",
       "    </tr>\n",
       "    <tr>\n",
       "      <th>3</th>\n",
       "      <td>147</td>\n",
       "      <td>6002</td>\n",
       "      <td>MUSIC</td>\n",
       "      <td>Arts</td>\n",
       "      <td>60633</td>\n",
       "      <td>419</td>\n",
       "      <td>15670</td>\n",
       "      <td>12543</td>\n",
       "      <td>0.444582</td>\n",
       "      <td>47662</td>\n",
       "      <td>...</td>\n",
       "      <td>24943</td>\n",
       "      <td>21425</td>\n",
       "      <td>3918</td>\n",
       "      <td>0.075960</td>\n",
       "      <td>31000</td>\n",
       "      <td>22300</td>\n",
       "      <td>42000</td>\n",
       "      <td>13752</td>\n",
       "      <td>28786</td>\n",
       "      <td>9286</td>\n",
       "    </tr>\n",
       "    <tr>\n",
       "      <th>4</th>\n",
       "      <td>150</td>\n",
       "      <td>6000</td>\n",
       "      <td>FINE ARTS</td>\n",
       "      <td>Arts</td>\n",
       "      <td>74440</td>\n",
       "      <td>623</td>\n",
       "      <td>24786</td>\n",
       "      <td>49654</td>\n",
       "      <td>0.667034</td>\n",
       "      <td>59679</td>\n",
       "      <td>...</td>\n",
       "      <td>23656</td>\n",
       "      <td>31877</td>\n",
       "      <td>5486</td>\n",
       "      <td>0.084186</td>\n",
       "      <td>30500</td>\n",
       "      <td>21000</td>\n",
       "      <td>41000</td>\n",
       "      <td>20792</td>\n",
       "      <td>32725</td>\n",
       "      <td>11880</td>\n",
       "    </tr>\n",
       "    <tr>\n",
       "      <th>5</th>\n",
       "      <td>154</td>\n",
       "      <td>6003</td>\n",
       "      <td>VISUAL AND PERFORMING ARTS</td>\n",
       "      <td>Arts</td>\n",
       "      <td>16250</td>\n",
       "      <td>132</td>\n",
       "      <td>2013</td>\n",
       "      <td>4639</td>\n",
       "      <td>0.697384</td>\n",
       "      <td>12870</td>\n",
       "      <td>...</td>\n",
       "      <td>6253</td>\n",
       "      <td>6322</td>\n",
       "      <td>1465</td>\n",
       "      <td>0.102197</td>\n",
       "      <td>30000</td>\n",
       "      <td>22000</td>\n",
       "      <td>40000</td>\n",
       "      <td>3849</td>\n",
       "      <td>7635</td>\n",
       "      <td>2840</td>\n",
       "    </tr>\n",
       "    <tr>\n",
       "      <th>6</th>\n",
       "      <td>160</td>\n",
       "      <td>6007</td>\n",
       "      <td>STUDIO ARTS</td>\n",
       "      <td>Arts</td>\n",
       "      <td>16977</td>\n",
       "      <td>182</td>\n",
       "      <td>4364</td>\n",
       "      <td>6146</td>\n",
       "      <td>0.584776</td>\n",
       "      <td>13908</td>\n",
       "      <td>...</td>\n",
       "      <td>5673</td>\n",
       "      <td>7413</td>\n",
       "      <td>1368</td>\n",
       "      <td>0.089552</td>\n",
       "      <td>29000</td>\n",
       "      <td>19200</td>\n",
       "      <td>38300</td>\n",
       "      <td>3948</td>\n",
       "      <td>8707</td>\n",
       "      <td>3586</td>\n",
       "    </tr>\n",
       "    <tr>\n",
       "      <th>7</th>\n",
       "      <td>167</td>\n",
       "      <td>6001</td>\n",
       "      <td>DRAMA AND THEATER ARTS</td>\n",
       "      <td>Arts</td>\n",
       "      <td>43249</td>\n",
       "      <td>357</td>\n",
       "      <td>7022</td>\n",
       "      <td>11931</td>\n",
       "      <td>0.629505</td>\n",
       "      <td>36165</td>\n",
       "      <td>...</td>\n",
       "      <td>15994</td>\n",
       "      <td>16891</td>\n",
       "      <td>3040</td>\n",
       "      <td>0.077541</td>\n",
       "      <td>27000</td>\n",
       "      <td>19200</td>\n",
       "      <td>35000</td>\n",
       "      <td>6994</td>\n",
       "      <td>25313</td>\n",
       "      <td>11068</td>\n",
       "    </tr>\n",
       "  </tbody>\n",
       "</table>\n",
       "<p>8 rows × 21 columns</p>\n",
       "</div>"
      ],
      "text/plain": [
       "   Rank  Major_code                              Major Major_category   Total  \\\n",
       "0    33        6099            MISCELLANEOUS FINE ARTS           Arts    3340   \n",
       "1    96        6004  COMMERCIAL ART AND GRAPHIC DESIGN           Arts  103480   \n",
       "2   142        6005   FILM VIDEO AND PHOTOGRAPHIC ARTS           Arts   38761   \n",
       "3   147        6002                              MUSIC           Arts   60633   \n",
       "4   150        6000                          FINE ARTS           Arts   74440   \n",
       "5   154        6003         VISUAL AND PERFORMING ARTS           Arts   16250   \n",
       "6   160        6007                        STUDIO ARTS           Arts   16977   \n",
       "7   167        6001             DRAMA AND THEATER ARTS           Arts   43249   \n",
       "\n",
       "   Sample_size    Men  Women  ShareWomen  Employed  ...  Part_time  \\\n",
       "0           30   1970   1370    0.410180      2914  ...       1067   \n",
       "1         1186   8617   5156    0.374356     83483  ...      24387   \n",
       "2          331  22339  49030    0.686993     31433  ...      12818   \n",
       "3          419  15670  12543    0.444582     47662  ...      24943   \n",
       "4          623  24786  49654    0.667034     59679  ...      23656   \n",
       "5          132   2013   4639    0.697384     12870  ...       6253   \n",
       "6          182   4364   6146    0.584776     13908  ...       5673   \n",
       "7          357   7022  11931    0.629505     36165  ...      15994   \n",
       "\n",
       "   Full_time_year_round  Unemployed  Unemployment_rate  Median  P25th  P75th  \\\n",
       "0                  1200         286           0.089375   50000  25000  66000   \n",
       "1                 52243        8947           0.096798   35000  25000  45000   \n",
       "2                 15740        3718           0.105772   32000  22000  42000   \n",
       "3                 21425        3918           0.075960   31000  22300  42000   \n",
       "4                 31877        5486           0.084186   30500  21000  41000   \n",
       "5                  6322        1465           0.102197   30000  22000  40000   \n",
       "6                  7413        1368           0.089552   29000  19200  38300   \n",
       "7                 16891        3040           0.077541   27000  19200  35000   \n",
       "\n",
       "   College_jobs  Non_college_jobs  Low_wage_jobs  \n",
       "0           693              1714            755  \n",
       "1         37389             38119          14839  \n",
       "2          7368             20721           5862  \n",
       "3         13752             28786           9286  \n",
       "4         20792             32725          11880  \n",
       "5          3849              7635           2840  \n",
       "6          3948              8707           3586  \n",
       "7          6994             25313          11068  \n",
       "\n",
       "[8 rows x 21 columns]"
      ]
     },
     "execution_count": 7,
     "metadata": {},
     "output_type": "execute_result"
    }
   ],
   "source": [
    "pd.read_csv('../Data/Day4-Dictionaries/College-Majors/recent_Arts.csv')"
   ]
  },
  {
   "cell_type": "markdown",
   "metadata": {},
   "source": [
    "When Pandas reads in a `CSV` it turns it into its own data structure called a `Dataframe`. This `Dataframe` is actually a Python class, you can think of it as just a type of *object*. Our data is inside this *object* and it controls how we can interact with it (so you can see the first difference between this and regular programming).\n",
    "\n",
    "\n",
    "(The nice formatting that makes it look like an Excel spreadsheet is provided by IPython Notebook!)\n",
    "\n",
    "Now, let's actually load this `CSV` into a variable so we can explore it."
   ]
  },
  {
   "cell_type": "code",
   "execution_count": 8,
   "metadata": {
    "ExecuteTime": {
     "end_time": "2019-07-03T12:45:17.517381Z",
     "start_time": "2019-07-03T12:45:17.508522Z"
    }
   },
   "outputs": [],
   "source": [
    "df = pd.read_csv('../Data/Day4-Dictionaries/College-Majors/recent_Arts.csv')"
   ]
  },
  {
   "cell_type": "markdown",
   "metadata": {},
   "source": [
    "## The basics of a dataframe\n",
    "\n",
    "As usual, the choice of variable names is whatever you so choose. However, since the object we're working with is a `Dataframe` you'll very frequently see people assign this to a variable called df. \n",
    "\n",
    "A `Dataframe` has two basic ways to access values inside of it.\n",
    "\n",
    "The **columns** run across the **top**\n",
    "\n",
    "The **indices** run down the **left** (for now, you can think of these as rows)\n",
    "\n",
    "We can get see the variables by calling them by name from the `dataframe`"
   ]
  },
  {
   "cell_type": "code",
   "execution_count": 9,
   "metadata": {
    "ExecuteTime": {
     "end_time": "2019-07-03T12:45:20.251377Z",
     "start_time": "2019-07-03T12:45:20.245842Z"
    }
   },
   "outputs": [
    {
     "name": "stdout",
     "output_type": "stream",
     "text": [
      "Index(['Rank', 'Major_code', 'Major', 'Major_category', 'Total', 'Sample_size',\n",
      "       'Men', 'Women', 'ShareWomen', 'Employed', 'Full_time', 'Part_time',\n",
      "       'Full_time_year_round', 'Unemployed', 'Unemployment_rate', 'Median',\n",
      "       'P25th', 'P75th', 'College_jobs', 'Non_college_jobs', 'Low_wage_jobs'],\n",
      "      dtype='object')\n",
      "\n",
      "RangeIndex(start=0, stop=8, step=1)\n"
     ]
    }
   ],
   "source": [
    "#The columns are the labels across the top\n",
    "print( df.columns ) \n",
    "print()\n",
    "\n",
    "#The indexes run down the side\n",
    "print( df.index )"
   ]
  },
  {
   "cell_type": "markdown",
   "metadata": {},
   "source": [
    "## Accessing Data in Pandas\n",
    "\n",
    "Pandas supports two methodologies to access data that is stored in a column. The first is  just by typing the name of the column after the variable name"
   ]
  },
  {
   "cell_type": "code",
   "execution_count": 13,
   "metadata": {
    "ExecuteTime": {
     "end_time": "2019-07-03T12:46:14.935302Z",
     "start_time": "2019-07-03T12:46:14.929345Z"
    }
   },
   "outputs": [
    {
     "data": {
      "text/plain": [
       "0    6099\n",
       "1    6004\n",
       "2    6005\n",
       "3    6002\n",
       "4    6000\n",
       "5    6003\n",
       "6    6007\n",
       "7    6001\n",
       "Name: Major_code, dtype: int64"
      ]
     },
     "execution_count": 13,
     "metadata": {},
     "output_type": "execute_result"
    }
   ],
   "source": [
    "#We can access a column with the . notation shown here\n",
    "df.Major_code"
   ]
  },
  {
   "cell_type": "markdown",
   "metadata": {},
   "source": [
    "The other way is similar to accessing the values of a key in a dictionary"
   ]
  },
  {
   "cell_type": "code",
   "execution_count": 14,
   "metadata": {
    "ExecuteTime": {
     "end_time": "2019-07-03T12:46:16.217268Z",
     "start_time": "2019-07-03T12:46:16.210150Z"
    }
   },
   "outputs": [
    {
     "data": {
      "text/plain": [
       "0    6099\n",
       "1    6004\n",
       "2    6005\n",
       "3    6002\n",
       "4    6000\n",
       "5    6003\n",
       "6    6007\n",
       "7    6001\n",
       "Name: Major_code, dtype: int64"
      ]
     },
     "execution_count": 14,
     "metadata": {},
     "output_type": "execute_result"
    }
   ],
   "source": [
    "#Or we can access a column of data like we access the value of a key in a dictionary\n",
    "df['Major_code']"
   ]
  },
  {
   "cell_type": "markdown",
   "metadata": {},
   "source": [
    "With the indices, we can slice just like it was a list and get rows."
   ]
  },
  {
   "cell_type": "code",
   "execution_count": 15,
   "metadata": {
    "ExecuteTime": {
     "end_time": "2019-07-03T12:46:24.993679Z",
     "start_time": "2019-07-03T12:46:24.971309Z"
    }
   },
   "outputs": [
    {
     "data": {
      "text/html": [
       "<div>\n",
       "<style scoped>\n",
       "    .dataframe tbody tr th:only-of-type {\n",
       "        vertical-align: middle;\n",
       "    }\n",
       "\n",
       "    .dataframe tbody tr th {\n",
       "        vertical-align: top;\n",
       "    }\n",
       "\n",
       "    .dataframe thead th {\n",
       "        text-align: right;\n",
       "    }\n",
       "</style>\n",
       "<table border=\"1\" class=\"dataframe\">\n",
       "  <thead>\n",
       "    <tr style=\"text-align: right;\">\n",
       "      <th></th>\n",
       "      <th>Rank</th>\n",
       "      <th>Major_code</th>\n",
       "      <th>Major</th>\n",
       "      <th>Major_category</th>\n",
       "      <th>Total</th>\n",
       "      <th>Sample_size</th>\n",
       "      <th>Men</th>\n",
       "      <th>Women</th>\n",
       "      <th>ShareWomen</th>\n",
       "      <th>Employed</th>\n",
       "      <th>...</th>\n",
       "      <th>Part_time</th>\n",
       "      <th>Full_time_year_round</th>\n",
       "      <th>Unemployed</th>\n",
       "      <th>Unemployment_rate</th>\n",
       "      <th>Median</th>\n",
       "      <th>P25th</th>\n",
       "      <th>P75th</th>\n",
       "      <th>College_jobs</th>\n",
       "      <th>Non_college_jobs</th>\n",
       "      <th>Low_wage_jobs</th>\n",
       "    </tr>\n",
       "  </thead>\n",
       "  <tbody>\n",
       "    <tr>\n",
       "      <th>0</th>\n",
       "      <td>33</td>\n",
       "      <td>6099</td>\n",
       "      <td>MISCELLANEOUS FINE ARTS</td>\n",
       "      <td>Arts</td>\n",
       "      <td>3340</td>\n",
       "      <td>30</td>\n",
       "      <td>1970</td>\n",
       "      <td>1370</td>\n",
       "      <td>0.410180</td>\n",
       "      <td>2914</td>\n",
       "      <td>...</td>\n",
       "      <td>1067</td>\n",
       "      <td>1200</td>\n",
       "      <td>286</td>\n",
       "      <td>0.089375</td>\n",
       "      <td>50000</td>\n",
       "      <td>25000</td>\n",
       "      <td>66000</td>\n",
       "      <td>693</td>\n",
       "      <td>1714</td>\n",
       "      <td>755</td>\n",
       "    </tr>\n",
       "    <tr>\n",
       "      <th>1</th>\n",
       "      <td>96</td>\n",
       "      <td>6004</td>\n",
       "      <td>COMMERCIAL ART AND GRAPHIC DESIGN</td>\n",
       "      <td>Arts</td>\n",
       "      <td>103480</td>\n",
       "      <td>1186</td>\n",
       "      <td>8617</td>\n",
       "      <td>5156</td>\n",
       "      <td>0.374356</td>\n",
       "      <td>83483</td>\n",
       "      <td>...</td>\n",
       "      <td>24387</td>\n",
       "      <td>52243</td>\n",
       "      <td>8947</td>\n",
       "      <td>0.096798</td>\n",
       "      <td>35000</td>\n",
       "      <td>25000</td>\n",
       "      <td>45000</td>\n",
       "      <td>37389</td>\n",
       "      <td>38119</td>\n",
       "      <td>14839</td>\n",
       "    </tr>\n",
       "  </tbody>\n",
       "</table>\n",
       "<p>2 rows × 21 columns</p>\n",
       "</div>"
      ],
      "text/plain": [
       "   Rank  Major_code                              Major Major_category   Total  \\\n",
       "0    33        6099            MISCELLANEOUS FINE ARTS           Arts    3340   \n",
       "1    96        6004  COMMERCIAL ART AND GRAPHIC DESIGN           Arts  103480   \n",
       "\n",
       "   Sample_size   Men  Women  ShareWomen  Employed  ...  Part_time  \\\n",
       "0           30  1970   1370    0.410180      2914  ...       1067   \n",
       "1         1186  8617   5156    0.374356     83483  ...      24387   \n",
       "\n",
       "   Full_time_year_round  Unemployed  Unemployment_rate  Median  P25th  P75th  \\\n",
       "0                  1200         286           0.089375   50000  25000  66000   \n",
       "1                 52243        8947           0.096798   35000  25000  45000   \n",
       "\n",
       "   College_jobs  Non_college_jobs  Low_wage_jobs  \n",
       "0           693              1714            755  \n",
       "1         37389             38119          14839  \n",
       "\n",
       "[2 rows x 21 columns]"
      ]
     },
     "execution_count": 15,
     "metadata": {},
     "output_type": "execute_result"
    }
   ],
   "source": [
    "#We can slice like in a list, and we'll get those columns \n",
    "#Notice how the row indexes are numeric and that's what we slice on\n",
    "df[0:2]"
   ]
  },
  {
   "cell_type": "markdown",
   "metadata": {},
   "source": [
    "Notice how we have these ways of accessing:\n",
    "\n",
    "* Accessing like a dictionary is a column\n",
    "* Accessing like a list is the index (row)\n",
    "\n",
    "and accessing a column name after a dot is something that we can do because the data is wrapped in the `Dataframe` class but in practice is just a shorthand way of accessing the column as if it were a dictionary.\n",
    "\n",
    "However, these direct methods of accessing can be a bit limiting. For this reason Pandas has three additional methods that allow us to *slice* a dataframe and return specific rows."
   ]
  },
  {
   "cell_type": "markdown",
   "metadata": {},
   "source": [
    "## Slicing in Pandas\n",
    "\n",
    "Pandas has 2 methods besides to direct access to slice/index data\n",
    "\n",
    "* .iloc is integer based and works on the index\n",
    "* .loc is strictly label based\n",
    "\n",
    "To distinguish these concepts I'm going to sort the matrix so that the index labels are **not** in the same order as their position."
   ]
  },
  {
   "cell_type": "code",
   "execution_count": 16,
   "metadata": {
    "ExecuteTime": {
     "end_time": "2019-07-03T12:46:46.607538Z",
     "start_time": "2019-07-03T12:46:46.582576Z"
    }
   },
   "outputs": [
    {
     "data": {
      "text/html": [
       "<div>\n",
       "<style scoped>\n",
       "    .dataframe tbody tr th:only-of-type {\n",
       "        vertical-align: middle;\n",
       "    }\n",
       "\n",
       "    .dataframe tbody tr th {\n",
       "        vertical-align: top;\n",
       "    }\n",
       "\n",
       "    .dataframe thead th {\n",
       "        text-align: right;\n",
       "    }\n",
       "</style>\n",
       "<table border=\"1\" class=\"dataframe\">\n",
       "  <thead>\n",
       "    <tr style=\"text-align: right;\">\n",
       "      <th></th>\n",
       "      <th>Rank</th>\n",
       "      <th>Major_code</th>\n",
       "      <th>Major</th>\n",
       "      <th>Major_category</th>\n",
       "      <th>Total</th>\n",
       "      <th>Sample_size</th>\n",
       "      <th>Men</th>\n",
       "      <th>Women</th>\n",
       "      <th>ShareWomen</th>\n",
       "      <th>Employed</th>\n",
       "      <th>...</th>\n",
       "      <th>Part_time</th>\n",
       "      <th>Full_time_year_round</th>\n",
       "      <th>Unemployed</th>\n",
       "      <th>Unemployment_rate</th>\n",
       "      <th>Median</th>\n",
       "      <th>P25th</th>\n",
       "      <th>P75th</th>\n",
       "      <th>College_jobs</th>\n",
       "      <th>Non_college_jobs</th>\n",
       "      <th>Low_wage_jobs</th>\n",
       "    </tr>\n",
       "  </thead>\n",
       "  <tbody>\n",
       "    <tr>\n",
       "      <th>0</th>\n",
       "      <td>33</td>\n",
       "      <td>6099</td>\n",
       "      <td>MISCELLANEOUS FINE ARTS</td>\n",
       "      <td>Arts</td>\n",
       "      <td>3340</td>\n",
       "      <td>30</td>\n",
       "      <td>1970</td>\n",
       "      <td>1370</td>\n",
       "      <td>0.410180</td>\n",
       "      <td>2914</td>\n",
       "      <td>...</td>\n",
       "      <td>1067</td>\n",
       "      <td>1200</td>\n",
       "      <td>286</td>\n",
       "      <td>0.089375</td>\n",
       "      <td>50000</td>\n",
       "      <td>25000</td>\n",
       "      <td>66000</td>\n",
       "      <td>693</td>\n",
       "      <td>1714</td>\n",
       "      <td>755</td>\n",
       "    </tr>\n",
       "    <tr>\n",
       "      <th>5</th>\n",
       "      <td>154</td>\n",
       "      <td>6003</td>\n",
       "      <td>VISUAL AND PERFORMING ARTS</td>\n",
       "      <td>Arts</td>\n",
       "      <td>16250</td>\n",
       "      <td>132</td>\n",
       "      <td>2013</td>\n",
       "      <td>4639</td>\n",
       "      <td>0.697384</td>\n",
       "      <td>12870</td>\n",
       "      <td>...</td>\n",
       "      <td>6253</td>\n",
       "      <td>6322</td>\n",
       "      <td>1465</td>\n",
       "      <td>0.102197</td>\n",
       "      <td>30000</td>\n",
       "      <td>22000</td>\n",
       "      <td>40000</td>\n",
       "      <td>3849</td>\n",
       "      <td>7635</td>\n",
       "      <td>2840</td>\n",
       "    </tr>\n",
       "    <tr>\n",
       "      <th>6</th>\n",
       "      <td>160</td>\n",
       "      <td>6007</td>\n",
       "      <td>STUDIO ARTS</td>\n",
       "      <td>Arts</td>\n",
       "      <td>16977</td>\n",
       "      <td>182</td>\n",
       "      <td>4364</td>\n",
       "      <td>6146</td>\n",
       "      <td>0.584776</td>\n",
       "      <td>13908</td>\n",
       "      <td>...</td>\n",
       "      <td>5673</td>\n",
       "      <td>7413</td>\n",
       "      <td>1368</td>\n",
       "      <td>0.089552</td>\n",
       "      <td>29000</td>\n",
       "      <td>19200</td>\n",
       "      <td>38300</td>\n",
       "      <td>3948</td>\n",
       "      <td>8707</td>\n",
       "      <td>3586</td>\n",
       "    </tr>\n",
       "    <tr>\n",
       "      <th>2</th>\n",
       "      <td>142</td>\n",
       "      <td>6005</td>\n",
       "      <td>FILM VIDEO AND PHOTOGRAPHIC ARTS</td>\n",
       "      <td>Arts</td>\n",
       "      <td>38761</td>\n",
       "      <td>331</td>\n",
       "      <td>22339</td>\n",
       "      <td>49030</td>\n",
       "      <td>0.686993</td>\n",
       "      <td>31433</td>\n",
       "      <td>...</td>\n",
       "      <td>12818</td>\n",
       "      <td>15740</td>\n",
       "      <td>3718</td>\n",
       "      <td>0.105772</td>\n",
       "      <td>32000</td>\n",
       "      <td>22000</td>\n",
       "      <td>42000</td>\n",
       "      <td>7368</td>\n",
       "      <td>20721</td>\n",
       "      <td>5862</td>\n",
       "    </tr>\n",
       "    <tr>\n",
       "      <th>7</th>\n",
       "      <td>167</td>\n",
       "      <td>6001</td>\n",
       "      <td>DRAMA AND THEATER ARTS</td>\n",
       "      <td>Arts</td>\n",
       "      <td>43249</td>\n",
       "      <td>357</td>\n",
       "      <td>7022</td>\n",
       "      <td>11931</td>\n",
       "      <td>0.629505</td>\n",
       "      <td>36165</td>\n",
       "      <td>...</td>\n",
       "      <td>15994</td>\n",
       "      <td>16891</td>\n",
       "      <td>3040</td>\n",
       "      <td>0.077541</td>\n",
       "      <td>27000</td>\n",
       "      <td>19200</td>\n",
       "      <td>35000</td>\n",
       "      <td>6994</td>\n",
       "      <td>25313</td>\n",
       "      <td>11068</td>\n",
       "    </tr>\n",
       "    <tr>\n",
       "      <th>3</th>\n",
       "      <td>147</td>\n",
       "      <td>6002</td>\n",
       "      <td>MUSIC</td>\n",
       "      <td>Arts</td>\n",
       "      <td>60633</td>\n",
       "      <td>419</td>\n",
       "      <td>15670</td>\n",
       "      <td>12543</td>\n",
       "      <td>0.444582</td>\n",
       "      <td>47662</td>\n",
       "      <td>...</td>\n",
       "      <td>24943</td>\n",
       "      <td>21425</td>\n",
       "      <td>3918</td>\n",
       "      <td>0.075960</td>\n",
       "      <td>31000</td>\n",
       "      <td>22300</td>\n",
       "      <td>42000</td>\n",
       "      <td>13752</td>\n",
       "      <td>28786</td>\n",
       "      <td>9286</td>\n",
       "    </tr>\n",
       "    <tr>\n",
       "      <th>4</th>\n",
       "      <td>150</td>\n",
       "      <td>6000</td>\n",
       "      <td>FINE ARTS</td>\n",
       "      <td>Arts</td>\n",
       "      <td>74440</td>\n",
       "      <td>623</td>\n",
       "      <td>24786</td>\n",
       "      <td>49654</td>\n",
       "      <td>0.667034</td>\n",
       "      <td>59679</td>\n",
       "      <td>...</td>\n",
       "      <td>23656</td>\n",
       "      <td>31877</td>\n",
       "      <td>5486</td>\n",
       "      <td>0.084186</td>\n",
       "      <td>30500</td>\n",
       "      <td>21000</td>\n",
       "      <td>41000</td>\n",
       "      <td>20792</td>\n",
       "      <td>32725</td>\n",
       "      <td>11880</td>\n",
       "    </tr>\n",
       "    <tr>\n",
       "      <th>1</th>\n",
       "      <td>96</td>\n",
       "      <td>6004</td>\n",
       "      <td>COMMERCIAL ART AND GRAPHIC DESIGN</td>\n",
       "      <td>Arts</td>\n",
       "      <td>103480</td>\n",
       "      <td>1186</td>\n",
       "      <td>8617</td>\n",
       "      <td>5156</td>\n",
       "      <td>0.374356</td>\n",
       "      <td>83483</td>\n",
       "      <td>...</td>\n",
       "      <td>24387</td>\n",
       "      <td>52243</td>\n",
       "      <td>8947</td>\n",
       "      <td>0.096798</td>\n",
       "      <td>35000</td>\n",
       "      <td>25000</td>\n",
       "      <td>45000</td>\n",
       "      <td>37389</td>\n",
       "      <td>38119</td>\n",
       "      <td>14839</td>\n",
       "    </tr>\n",
       "  </tbody>\n",
       "</table>\n",
       "<p>8 rows × 21 columns</p>\n",
       "</div>"
      ],
      "text/plain": [
       "   Rank  Major_code                              Major Major_category   Total  \\\n",
       "0    33        6099            MISCELLANEOUS FINE ARTS           Arts    3340   \n",
       "5   154        6003         VISUAL AND PERFORMING ARTS           Arts   16250   \n",
       "6   160        6007                        STUDIO ARTS           Arts   16977   \n",
       "2   142        6005   FILM VIDEO AND PHOTOGRAPHIC ARTS           Arts   38761   \n",
       "7   167        6001             DRAMA AND THEATER ARTS           Arts   43249   \n",
       "3   147        6002                              MUSIC           Arts   60633   \n",
       "4   150        6000                          FINE ARTS           Arts   74440   \n",
       "1    96        6004  COMMERCIAL ART AND GRAPHIC DESIGN           Arts  103480   \n",
       "\n",
       "   Sample_size    Men  Women  ShareWomen  Employed  ...  Part_time  \\\n",
       "0           30   1970   1370    0.410180      2914  ...       1067   \n",
       "5          132   2013   4639    0.697384     12870  ...       6253   \n",
       "6          182   4364   6146    0.584776     13908  ...       5673   \n",
       "2          331  22339  49030    0.686993     31433  ...      12818   \n",
       "7          357   7022  11931    0.629505     36165  ...      15994   \n",
       "3          419  15670  12543    0.444582     47662  ...      24943   \n",
       "4          623  24786  49654    0.667034     59679  ...      23656   \n",
       "1         1186   8617   5156    0.374356     83483  ...      24387   \n",
       "\n",
       "   Full_time_year_round  Unemployed  Unemployment_rate  Median  P25th  P75th  \\\n",
       "0                  1200         286           0.089375   50000  25000  66000   \n",
       "5                  6322        1465           0.102197   30000  22000  40000   \n",
       "6                  7413        1368           0.089552   29000  19200  38300   \n",
       "2                 15740        3718           0.105772   32000  22000  42000   \n",
       "7                 16891        3040           0.077541   27000  19200  35000   \n",
       "3                 21425        3918           0.075960   31000  22300  42000   \n",
       "4                 31877        5486           0.084186   30500  21000  41000   \n",
       "1                 52243        8947           0.096798   35000  25000  45000   \n",
       "\n",
       "   College_jobs  Non_college_jobs  Low_wage_jobs  \n",
       "0           693              1714            755  \n",
       "5          3849              7635           2840  \n",
       "6          3948              8707           3586  \n",
       "2          7368             20721           5862  \n",
       "7          6994             25313          11068  \n",
       "3         13752             28786           9286  \n",
       "4         20792             32725          11880  \n",
       "1         37389             38119          14839  \n",
       "\n",
       "[8 rows x 21 columns]"
      ]
     },
     "execution_count": 16,
     "metadata": {},
     "output_type": "execute_result"
    }
   ],
   "source": [
    "#We can sort by a single column\n",
    "sdf = df.sort_values('Total')\n",
    "sdf"
   ]
  },
  {
   "cell_type": "markdown",
   "metadata": {},
   "source": [
    "When we use the iloc method on sdf we get the first row in the new sorted `dataframe`\n",
    "Check it out in comparison to above:"
   ]
  },
  {
   "cell_type": "code",
   "execution_count": 20,
   "metadata": {
    "ExecuteTime": {
     "end_time": "2019-07-03T12:47:09.458333Z",
     "start_time": "2019-07-03T12:47:09.449989Z"
    }
   },
   "outputs": [
    {
     "data": {
      "text/plain": [
       "Rank                                         33\n",
       "Major_code                                 6099\n",
       "Major                   MISCELLANEOUS FINE ARTS\n",
       "Major_category                             Arts\n",
       "Total                                      3340\n",
       "Sample_size                                  30\n",
       "Men                                        1970\n",
       "Women                                      1370\n",
       "ShareWomen                              0.41018\n",
       "Employed                                   2914\n",
       "Full_time                                  2049\n",
       "Part_time                                  1067\n",
       "Full_time_year_round                       1200\n",
       "Unemployed                                  286\n",
       "Unemployment_rate                      0.089375\n",
       "Median                                    50000\n",
       "P25th                                     25000\n",
       "P75th                                     66000\n",
       "College_jobs                                693\n",
       "Non_college_jobs                           1714\n",
       "Low_wage_jobs                               755\n",
       "Name: 0, dtype: object"
      ]
     },
     "execution_count": 20,
     "metadata": {},
     "output_type": "execute_result"
    }
   ],
   "source": [
    "sdf.iloc[0]"
   ]
  },
  {
   "cell_type": "markdown",
   "metadata": {},
   "source": [
    "This works the same as if we were indexing the `dataframe`, but the difference is that when we index, we can't access just a single row. It requires that we give a range."
   ]
  },
  {
   "cell_type": "code",
   "execution_count": 21,
   "metadata": {
    "ExecuteTime": {
     "end_time": "2019-07-03T12:47:11.808598Z",
     "start_time": "2019-07-03T12:47:11.781453Z"
    }
   },
   "outputs": [
    {
     "data": {
      "text/html": [
       "<div>\n",
       "<style scoped>\n",
       "    .dataframe tbody tr th:only-of-type {\n",
       "        vertical-align: middle;\n",
       "    }\n",
       "\n",
       "    .dataframe tbody tr th {\n",
       "        vertical-align: top;\n",
       "    }\n",
       "\n",
       "    .dataframe thead th {\n",
       "        text-align: right;\n",
       "    }\n",
       "</style>\n",
       "<table border=\"1\" class=\"dataframe\">\n",
       "  <thead>\n",
       "    <tr style=\"text-align: right;\">\n",
       "      <th></th>\n",
       "      <th>Rank</th>\n",
       "      <th>Major_code</th>\n",
       "      <th>Major</th>\n",
       "      <th>Major_category</th>\n",
       "      <th>Total</th>\n",
       "      <th>Sample_size</th>\n",
       "      <th>Men</th>\n",
       "      <th>Women</th>\n",
       "      <th>ShareWomen</th>\n",
       "      <th>Employed</th>\n",
       "      <th>...</th>\n",
       "      <th>Part_time</th>\n",
       "      <th>Full_time_year_round</th>\n",
       "      <th>Unemployed</th>\n",
       "      <th>Unemployment_rate</th>\n",
       "      <th>Median</th>\n",
       "      <th>P25th</th>\n",
       "      <th>P75th</th>\n",
       "      <th>College_jobs</th>\n",
       "      <th>Non_college_jobs</th>\n",
       "      <th>Low_wage_jobs</th>\n",
       "    </tr>\n",
       "  </thead>\n",
       "  <tbody>\n",
       "    <tr>\n",
       "      <th>0</th>\n",
       "      <td>33</td>\n",
       "      <td>6099</td>\n",
       "      <td>MISCELLANEOUS FINE ARTS</td>\n",
       "      <td>Arts</td>\n",
       "      <td>3340</td>\n",
       "      <td>30</td>\n",
       "      <td>1970</td>\n",
       "      <td>1370</td>\n",
       "      <td>0.41018</td>\n",
       "      <td>2914</td>\n",
       "      <td>...</td>\n",
       "      <td>1067</td>\n",
       "      <td>1200</td>\n",
       "      <td>286</td>\n",
       "      <td>0.089375</td>\n",
       "      <td>50000</td>\n",
       "      <td>25000</td>\n",
       "      <td>66000</td>\n",
       "      <td>693</td>\n",
       "      <td>1714</td>\n",
       "      <td>755</td>\n",
       "    </tr>\n",
       "  </tbody>\n",
       "</table>\n",
       "<p>1 rows × 21 columns</p>\n",
       "</div>"
      ],
      "text/plain": [
       "   Rank  Major_code                    Major Major_category  Total  \\\n",
       "0    33        6099  MISCELLANEOUS FINE ARTS           Arts   3340   \n",
       "\n",
       "   Sample_size   Men  Women  ShareWomen  Employed  ...  Part_time  \\\n",
       "0           30  1970   1370     0.41018      2914  ...       1067   \n",
       "\n",
       "   Full_time_year_round  Unemployed  Unemployment_rate  Median  P25th  P75th  \\\n",
       "0                  1200         286           0.089375   50000  25000  66000   \n",
       "\n",
       "   College_jobs  Non_college_jobs  Low_wage_jobs  \n",
       "0           693              1714            755  \n",
       "\n",
       "[1 rows x 21 columns]"
      ]
     },
     "execution_count": 21,
     "metadata": {},
     "output_type": "execute_result"
    }
   ],
   "source": [
    "sdf[0:1]"
   ]
  },
  {
   "cell_type": "markdown",
   "metadata": {},
   "source": [
    "The iloc method can handle a slice and it will return the same number of rows, in the same positions just like when we slice."
   ]
  },
  {
   "cell_type": "code",
   "execution_count": 22,
   "metadata": {
    "ExecuteTime": {
     "end_time": "2019-07-03T12:47:31.778844Z",
     "start_time": "2019-07-03T12:47:31.757348Z"
    }
   },
   "outputs": [
    {
     "data": {
      "text/html": [
       "<div>\n",
       "<style scoped>\n",
       "    .dataframe tbody tr th:only-of-type {\n",
       "        vertical-align: middle;\n",
       "    }\n",
       "\n",
       "    .dataframe tbody tr th {\n",
       "        vertical-align: top;\n",
       "    }\n",
       "\n",
       "    .dataframe thead th {\n",
       "        text-align: right;\n",
       "    }\n",
       "</style>\n",
       "<table border=\"1\" class=\"dataframe\">\n",
       "  <thead>\n",
       "    <tr style=\"text-align: right;\">\n",
       "      <th></th>\n",
       "      <th>Rank</th>\n",
       "      <th>Major_code</th>\n",
       "      <th>Major</th>\n",
       "      <th>Major_category</th>\n",
       "      <th>Total</th>\n",
       "      <th>Sample_size</th>\n",
       "      <th>Men</th>\n",
       "      <th>Women</th>\n",
       "      <th>ShareWomen</th>\n",
       "      <th>Employed</th>\n",
       "      <th>...</th>\n",
       "      <th>Part_time</th>\n",
       "      <th>Full_time_year_round</th>\n",
       "      <th>Unemployed</th>\n",
       "      <th>Unemployment_rate</th>\n",
       "      <th>Median</th>\n",
       "      <th>P25th</th>\n",
       "      <th>P75th</th>\n",
       "      <th>College_jobs</th>\n",
       "      <th>Non_college_jobs</th>\n",
       "      <th>Low_wage_jobs</th>\n",
       "    </tr>\n",
       "  </thead>\n",
       "  <tbody>\n",
       "    <tr>\n",
       "      <th>0</th>\n",
       "      <td>33</td>\n",
       "      <td>6099</td>\n",
       "      <td>MISCELLANEOUS FINE ARTS</td>\n",
       "      <td>Arts</td>\n",
       "      <td>3340</td>\n",
       "      <td>30</td>\n",
       "      <td>1970</td>\n",
       "      <td>1370</td>\n",
       "      <td>0.410180</td>\n",
       "      <td>2914</td>\n",
       "      <td>...</td>\n",
       "      <td>1067</td>\n",
       "      <td>1200</td>\n",
       "      <td>286</td>\n",
       "      <td>0.089375</td>\n",
       "      <td>50000</td>\n",
       "      <td>25000</td>\n",
       "      <td>66000</td>\n",
       "      <td>693</td>\n",
       "      <td>1714</td>\n",
       "      <td>755</td>\n",
       "    </tr>\n",
       "    <tr>\n",
       "      <th>5</th>\n",
       "      <td>154</td>\n",
       "      <td>6003</td>\n",
       "      <td>VISUAL AND PERFORMING ARTS</td>\n",
       "      <td>Arts</td>\n",
       "      <td>16250</td>\n",
       "      <td>132</td>\n",
       "      <td>2013</td>\n",
       "      <td>4639</td>\n",
       "      <td>0.697384</td>\n",
       "      <td>12870</td>\n",
       "      <td>...</td>\n",
       "      <td>6253</td>\n",
       "      <td>6322</td>\n",
       "      <td>1465</td>\n",
       "      <td>0.102197</td>\n",
       "      <td>30000</td>\n",
       "      <td>22000</td>\n",
       "      <td>40000</td>\n",
       "      <td>3849</td>\n",
       "      <td>7635</td>\n",
       "      <td>2840</td>\n",
       "    </tr>\n",
       "    <tr>\n",
       "      <th>6</th>\n",
       "      <td>160</td>\n",
       "      <td>6007</td>\n",
       "      <td>STUDIO ARTS</td>\n",
       "      <td>Arts</td>\n",
       "      <td>16977</td>\n",
       "      <td>182</td>\n",
       "      <td>4364</td>\n",
       "      <td>6146</td>\n",
       "      <td>0.584776</td>\n",
       "      <td>13908</td>\n",
       "      <td>...</td>\n",
       "      <td>5673</td>\n",
       "      <td>7413</td>\n",
       "      <td>1368</td>\n",
       "      <td>0.089552</td>\n",
       "      <td>29000</td>\n",
       "      <td>19200</td>\n",
       "      <td>38300</td>\n",
       "      <td>3948</td>\n",
       "      <td>8707</td>\n",
       "      <td>3586</td>\n",
       "    </tr>\n",
       "  </tbody>\n",
       "</table>\n",
       "<p>3 rows × 21 columns</p>\n",
       "</div>"
      ],
      "text/plain": [
       "   Rank  Major_code                       Major Major_category  Total  \\\n",
       "0    33        6099     MISCELLANEOUS FINE ARTS           Arts   3340   \n",
       "5   154        6003  VISUAL AND PERFORMING ARTS           Arts  16250   \n",
       "6   160        6007                 STUDIO ARTS           Arts  16977   \n",
       "\n",
       "   Sample_size   Men  Women  ShareWomen  Employed  ...  Part_time  \\\n",
       "0           30  1970   1370    0.410180      2914  ...       1067   \n",
       "5          132  2013   4639    0.697384     12870  ...       6253   \n",
       "6          182  4364   6146    0.584776     13908  ...       5673   \n",
       "\n",
       "   Full_time_year_round  Unemployed  Unemployment_rate  Median  P25th  P75th  \\\n",
       "0                  1200         286           0.089375   50000  25000  66000   \n",
       "5                  6322        1465           0.102197   30000  22000  40000   \n",
       "6                  7413        1368           0.089552   29000  19200  38300   \n",
       "\n",
       "   College_jobs  Non_college_jobs  Low_wage_jobs  \n",
       "0           693              1714            755  \n",
       "5          3849              7635           2840  \n",
       "6          3948              8707           3586  \n",
       "\n",
       "[3 rows x 21 columns]"
      ]
     },
     "execution_count": 22,
     "metadata": {},
     "output_type": "execute_result"
    }
   ],
   "source": [
    "sdf.iloc[0:3]"
   ]
  },
  {
   "cell_type": "markdown",
   "metadata": {},
   "source": [
    "Now the **big** difference between direct slicing on the dataframe and using the iloc method is that we can actually slice **both columns and rows**.\n",
    "\n",
    "When we access both columns and rows the syntax is:\n",
    "\n",
    "`dataframe.iloc[row_slice, column_slice]`"
   ]
  },
  {
   "cell_type": "code",
   "execution_count": 23,
   "metadata": {
    "ExecuteTime": {
     "end_time": "2019-07-03T12:47:52.337624Z",
     "start_time": "2019-07-03T12:47:52.328720Z"
    }
   },
   "outputs": [
    {
     "data": {
      "text/html": [
       "<div>\n",
       "<style scoped>\n",
       "    .dataframe tbody tr th:only-of-type {\n",
       "        vertical-align: middle;\n",
       "    }\n",
       "\n",
       "    .dataframe tbody tr th {\n",
       "        vertical-align: top;\n",
       "    }\n",
       "\n",
       "    .dataframe thead th {\n",
       "        text-align: right;\n",
       "    }\n",
       "</style>\n",
       "<table border=\"1\" class=\"dataframe\">\n",
       "  <thead>\n",
       "    <tr style=\"text-align: right;\">\n",
       "      <th></th>\n",
       "      <th>Rank</th>\n",
       "      <th>Major_code</th>\n",
       "      <th>Major</th>\n",
       "    </tr>\n",
       "  </thead>\n",
       "  <tbody>\n",
       "    <tr>\n",
       "      <th>0</th>\n",
       "      <td>33</td>\n",
       "      <td>6099</td>\n",
       "      <td>MISCELLANEOUS FINE ARTS</td>\n",
       "    </tr>\n",
       "    <tr>\n",
       "      <th>5</th>\n",
       "      <td>154</td>\n",
       "      <td>6003</td>\n",
       "      <td>VISUAL AND PERFORMING ARTS</td>\n",
       "    </tr>\n",
       "    <tr>\n",
       "      <th>6</th>\n",
       "      <td>160</td>\n",
       "      <td>6007</td>\n",
       "      <td>STUDIO ARTS</td>\n",
       "    </tr>\n",
       "  </tbody>\n",
       "</table>\n",
       "</div>"
      ],
      "text/plain": [
       "   Rank  Major_code                       Major\n",
       "0    33        6099     MISCELLANEOUS FINE ARTS\n",
       "5   154        6003  VISUAL AND PERFORMING ARTS\n",
       "6   160        6007                 STUDIO ARTS"
      ]
     },
     "execution_count": 23,
     "metadata": {},
     "output_type": "execute_result"
    }
   ],
   "source": [
    "sdf.iloc[0:3, 0:3]"
   ]
  },
  {
   "cell_type": "markdown",
   "metadata": {},
   "source": [
    "If we want **all** of the rows but only some of the columns we can do that too. We just need to give it an empty slice in the row column."
   ]
  },
  {
   "cell_type": "code",
   "execution_count": 24,
   "metadata": {
    "ExecuteTime": {
     "end_time": "2019-07-03T12:47:55.313178Z",
     "start_time": "2019-07-03T12:47:55.303836Z"
    }
   },
   "outputs": [
    {
     "data": {
      "text/html": [
       "<div>\n",
       "<style scoped>\n",
       "    .dataframe tbody tr th:only-of-type {\n",
       "        vertical-align: middle;\n",
       "    }\n",
       "\n",
       "    .dataframe tbody tr th {\n",
       "        vertical-align: top;\n",
       "    }\n",
       "\n",
       "    .dataframe thead th {\n",
       "        text-align: right;\n",
       "    }\n",
       "</style>\n",
       "<table border=\"1\" class=\"dataframe\">\n",
       "  <thead>\n",
       "    <tr style=\"text-align: right;\">\n",
       "      <th></th>\n",
       "      <th>Rank</th>\n",
       "      <th>Major_code</th>\n",
       "    </tr>\n",
       "  </thead>\n",
       "  <tbody>\n",
       "    <tr>\n",
       "      <th>0</th>\n",
       "      <td>33</td>\n",
       "      <td>6099</td>\n",
       "    </tr>\n",
       "    <tr>\n",
       "      <th>5</th>\n",
       "      <td>154</td>\n",
       "      <td>6003</td>\n",
       "    </tr>\n",
       "    <tr>\n",
       "      <th>6</th>\n",
       "      <td>160</td>\n",
       "      <td>6007</td>\n",
       "    </tr>\n",
       "    <tr>\n",
       "      <th>2</th>\n",
       "      <td>142</td>\n",
       "      <td>6005</td>\n",
       "    </tr>\n",
       "    <tr>\n",
       "      <th>7</th>\n",
       "      <td>167</td>\n",
       "      <td>6001</td>\n",
       "    </tr>\n",
       "    <tr>\n",
       "      <th>3</th>\n",
       "      <td>147</td>\n",
       "      <td>6002</td>\n",
       "    </tr>\n",
       "    <tr>\n",
       "      <th>4</th>\n",
       "      <td>150</td>\n",
       "      <td>6000</td>\n",
       "    </tr>\n",
       "    <tr>\n",
       "      <th>1</th>\n",
       "      <td>96</td>\n",
       "      <td>6004</td>\n",
       "    </tr>\n",
       "  </tbody>\n",
       "</table>\n",
       "</div>"
      ],
      "text/plain": [
       "   Rank  Major_code\n",
       "0    33        6099\n",
       "5   154        6003\n",
       "6   160        6007\n",
       "2   142        6005\n",
       "7   167        6001\n",
       "3   147        6002\n",
       "4   150        6000\n",
       "1    96        6004"
      ]
     },
     "execution_count": 24,
     "metadata": {},
     "output_type": "execute_result"
    }
   ],
   "source": [
    "sdf.iloc[:, 0:2]"
   ]
  },
  {
   "cell_type": "markdown",
   "metadata": {},
   "source": [
    "And that is the `iloc` method, it allows us to slice a dataframe using integer-based labels given the order of the dataframe.\n",
    "\n",
    "So now let's move on and see the differences that occur when we access rows by their index label using the `loc` function."
   ]
  },
  {
   "cell_type": "code",
   "execution_count": 25,
   "metadata": {
    "ExecuteTime": {
     "end_time": "2019-07-03T12:48:00.945382Z",
     "start_time": "2019-07-03T12:48:00.936805Z"
    }
   },
   "outputs": [
    {
     "data": {
      "text/plain": [
       "Rank                            160\n",
       "Major_code                     6007\n",
       "Major                   STUDIO ARTS\n",
       "Major_category                 Arts\n",
       "Total                         16977\n",
       "Sample_size                     182\n",
       "Men                            4364\n",
       "Women                          6146\n",
       "ShareWomen                 0.584776\n",
       "Employed                      13908\n",
       "Full_time                     10451\n",
       "Part_time                      5673\n",
       "Full_time_year_round           7413\n",
       "Unemployed                     1368\n",
       "Unemployment_rate         0.0895522\n",
       "Median                        29000\n",
       "P25th                         19200\n",
       "P75th                         38300\n",
       "College_jobs                   3948\n",
       "Non_college_jobs               8707\n",
       "Low_wage_jobs                  3586\n",
       "Name: 6, dtype: object"
      ]
     },
     "execution_count": 25,
     "metadata": {},
     "output_type": "execute_result"
    }
   ],
   "source": [
    "sdf.loc[6]"
   ]
  },
  {
   "cell_type": "markdown",
   "metadata": {},
   "source": [
    "When we use the loc method, it looks for the row labeled '6'. Notice how this was the third line in the `dataframe` (as printed above in order). So the `loc` method retrieves rows based on thier index label, which does not need to be their position in the `dataframe`!\n",
    "\n",
    "This allows us to also access columns using just their names which is really convenient."
   ]
  },
  {
   "cell_type": "code",
   "execution_count": 26,
   "metadata": {
    "ExecuteTime": {
     "end_time": "2019-07-03T12:48:14.483353Z",
     "start_time": "2019-07-03T12:48:14.473658Z"
    }
   },
   "outputs": [
    {
     "data": {
      "text/plain": [
       "Major_code                                    6005\n",
       "Major             FILM VIDEO AND PHOTOGRAPHIC ARTS\n",
       "Major_category                                Arts\n",
       "Name: 2, dtype: object"
      ]
     },
     "execution_count": 26,
     "metadata": {},
     "output_type": "execute_result"
    }
   ],
   "source": [
    "#We can also use the loc method with an index label and column labels\n",
    "#Note how we can slice on columns also! But we can only slice across labels\n",
    "sdf.loc[2, 'Major_code':'Major_category']"
   ]
  },
  {
   "cell_type": "markdown",
   "metadata": {},
   "source": [
    "We can access all the rows, but only some of the columns similarly as with `loc`, just give a `:` for the rows and then the columns"
   ]
  },
  {
   "cell_type": "code",
   "execution_count": 27,
   "metadata": {
    "ExecuteTime": {
     "end_time": "2019-07-03T12:48:18.733490Z",
     "start_time": "2019-07-03T12:48:18.723537Z"
    }
   },
   "outputs": [
    {
     "data": {
      "text/html": [
       "<div>\n",
       "<style scoped>\n",
       "    .dataframe tbody tr th:only-of-type {\n",
       "        vertical-align: middle;\n",
       "    }\n",
       "\n",
       "    .dataframe tbody tr th {\n",
       "        vertical-align: top;\n",
       "    }\n",
       "\n",
       "    .dataframe thead th {\n",
       "        text-align: right;\n",
       "    }\n",
       "</style>\n",
       "<table border=\"1\" class=\"dataframe\">\n",
       "  <thead>\n",
       "    <tr style=\"text-align: right;\">\n",
       "      <th></th>\n",
       "      <th>Major_code</th>\n",
       "      <th>Major</th>\n",
       "      <th>Major_category</th>\n",
       "    </tr>\n",
       "  </thead>\n",
       "  <tbody>\n",
       "    <tr>\n",
       "      <th>0</th>\n",
       "      <td>6099</td>\n",
       "      <td>MISCELLANEOUS FINE ARTS</td>\n",
       "      <td>Arts</td>\n",
       "    </tr>\n",
       "    <tr>\n",
       "      <th>5</th>\n",
       "      <td>6003</td>\n",
       "      <td>VISUAL AND PERFORMING ARTS</td>\n",
       "      <td>Arts</td>\n",
       "    </tr>\n",
       "    <tr>\n",
       "      <th>6</th>\n",
       "      <td>6007</td>\n",
       "      <td>STUDIO ARTS</td>\n",
       "      <td>Arts</td>\n",
       "    </tr>\n",
       "    <tr>\n",
       "      <th>2</th>\n",
       "      <td>6005</td>\n",
       "      <td>FILM VIDEO AND PHOTOGRAPHIC ARTS</td>\n",
       "      <td>Arts</td>\n",
       "    </tr>\n",
       "    <tr>\n",
       "      <th>7</th>\n",
       "      <td>6001</td>\n",
       "      <td>DRAMA AND THEATER ARTS</td>\n",
       "      <td>Arts</td>\n",
       "    </tr>\n",
       "    <tr>\n",
       "      <th>3</th>\n",
       "      <td>6002</td>\n",
       "      <td>MUSIC</td>\n",
       "      <td>Arts</td>\n",
       "    </tr>\n",
       "    <tr>\n",
       "      <th>4</th>\n",
       "      <td>6000</td>\n",
       "      <td>FINE ARTS</td>\n",
       "      <td>Arts</td>\n",
       "    </tr>\n",
       "    <tr>\n",
       "      <th>1</th>\n",
       "      <td>6004</td>\n",
       "      <td>COMMERCIAL ART AND GRAPHIC DESIGN</td>\n",
       "      <td>Arts</td>\n",
       "    </tr>\n",
       "  </tbody>\n",
       "</table>\n",
       "</div>"
      ],
      "text/plain": [
       "   Major_code                              Major Major_category\n",
       "0        6099            MISCELLANEOUS FINE ARTS           Arts\n",
       "5        6003         VISUAL AND PERFORMING ARTS           Arts\n",
       "6        6007                        STUDIO ARTS           Arts\n",
       "2        6005   FILM VIDEO AND PHOTOGRAPHIC ARTS           Arts\n",
       "7        6001             DRAMA AND THEATER ARTS           Arts\n",
       "3        6002                              MUSIC           Arts\n",
       "4        6000                          FINE ARTS           Arts\n",
       "1        6004  COMMERCIAL ART AND GRAPHIC DESIGN           Arts"
      ]
     },
     "execution_count": 27,
     "metadata": {},
     "output_type": "execute_result"
    }
   ],
   "source": [
    "sdf.loc[:, 'Major_code':'Major_category']"
   ]
  },
  {
   "cell_type": "markdown",
   "metadata": {},
   "source": [
    "# Series: Pandas' other data type (that you'll use)\n",
    "\n",
    "You may have noticed that when we selected only one row or column, it printed differently than when we print the `dataframe`. That's because a dataframe is for 2-dimensional data (meaning that it has multiple rows and columns). When we have 1-dimensional data that is a Pandas `series`.\n",
    "\n",
    "The same methods work on a `series` as a `dataframe`, the only difference is that it only has one column which will be without a label. I'll demonstrate by creating and indexing a `series` right now"
   ]
  },
  {
   "cell_type": "code",
   "execution_count": 29,
   "metadata": {
    "ExecuteTime": {
     "end_time": "2019-07-03T12:48:48.320198Z",
     "start_time": "2019-07-03T12:48:48.311403Z"
    }
   },
   "outputs": [
    {
     "data": {
      "text/plain": [
       "Rank                                         33\n",
       "Major_code                                 6099\n",
       "Major                   MISCELLANEOUS FINE ARTS\n",
       "Major_category                             Arts\n",
       "Total                                      3340\n",
       "Sample_size                                  30\n",
       "Men                                        1970\n",
       "Women                                      1370\n",
       "ShareWomen                              0.41018\n",
       "Employed                                   2914\n",
       "Full_time                                  2049\n",
       "Part_time                                  1067\n",
       "Full_time_year_round                       1200\n",
       "Unemployed                                  286\n",
       "Unemployment_rate                      0.089375\n",
       "Median                                    50000\n",
       "P25th                                     25000\n",
       "P75th                                     66000\n",
       "College_jobs                                693\n",
       "Non_college_jobs                           1714\n",
       "Low_wage_jobs                               755\n",
       "Name: 0, dtype: object"
      ]
     },
     "execution_count": 29,
     "metadata": {},
     "output_type": "execute_result"
    }
   ],
   "source": [
    "tseries = sdf.loc[0]\n",
    "tseries"
   ]
  },
  {
   "cell_type": "code",
   "execution_count": 30,
   "metadata": {
    "ExecuteTime": {
     "end_time": "2019-07-03T12:48:51.894395Z",
     "start_time": "2019-07-03T12:48:51.885879Z"
    }
   },
   "outputs": [
    {
     "data": {
      "text/plain": [
       "Rank            33\n",
       "Major_code    6099\n",
       "Name: 0, dtype: object"
      ]
     },
     "execution_count": 30,
     "metadata": {},
     "output_type": "execute_result"
    }
   ],
   "source": [
    "#A series is indexed just like a list\n",
    "tseries[0:2]"
   ]
  },
  {
   "cell_type": "code",
   "execution_count": 31,
   "metadata": {
    "ExecuteTime": {
     "end_time": "2019-07-03T12:48:56.181569Z",
     "start_time": "2019-07-03T12:48:56.175317Z"
    }
   },
   "outputs": [
    {
     "data": {
      "text/plain": [
       "Major_code                           6099\n",
       "Major             MISCELLANEOUS FINE ARTS\n",
       "Major_category                       Arts\n",
       "Name: 0, dtype: object"
      ]
     },
     "execution_count": 31,
     "metadata": {},
     "output_type": "execute_result"
    }
   ],
   "source": [
    "#But it can also be indexed by its row labels\n",
    "tseries['Major_code':'Major_category']"
   ]
  },
  {
   "cell_type": "code",
   "execution_count": 32,
   "metadata": {
    "ExecuteTime": {
     "end_time": "2019-07-03T12:48:59.639485Z",
     "start_time": "2019-07-03T12:48:59.635050Z"
    }
   },
   "outputs": [
    {
     "data": {
      "text/plain": [
       "33"
      ]
     },
     "execution_count": 32,
     "metadata": {},
     "output_type": "execute_result"
    }
   ],
   "source": [
    "#We can use the iloc method, but now it returns a single value\n",
    "tseries.iloc[0]"
   ]
  },
  {
   "cell_type": "code",
   "execution_count": 33,
   "metadata": {
    "ExecuteTime": {
     "end_time": "2019-07-03T12:49:00.386535Z",
     "start_time": "2019-07-03T12:49:00.381948Z"
    }
   },
   "outputs": [
    {
     "data": {
      "text/plain": [
       "'Arts'"
      ]
     },
     "execution_count": 33,
     "metadata": {},
     "output_type": "execute_result"
    }
   ],
   "source": [
    "#Or the loc method, which also returns a single value\n",
    "tseries.loc['Major_category']"
   ]
  },
  {
   "cell_type": "markdown",
   "metadata": {},
   "source": [
    "## Now let's go over the benefits of using Pandas\n",
    "Okay, some of that might seem tedious, but it's really important that you get a grasp of the fundamental ways of working with and manipulating `dataframe` and `series` objects. A lack of understanding of your datatypes is a sure fire way to make mistakes, and if that happens the benefits of Pandas can disappear. And you'll really like some of these benefits...\n",
    "\n",
    "The first one is a lifesaver. Pandas can read (and write) .xls/.xlsx files! Now you don't need to open a workbook in Excel and save it to a CSV everytime someone sends one to you!\n",
    "\n",
    "When we read an Excel spreadsheet, all we have to say is what sheet we want to use in the file. You can use either the sheetname (if it has one) or just give it the index of the sheet."
   ]
  },
  {
   "cell_type": "code",
   "execution_count": 34,
   "metadata": {
    "ExecuteTime": {
     "end_time": "2019-07-03T12:49:12.168733Z",
     "start_time": "2019-07-03T12:49:12.037596Z"
    }
   },
   "outputs": [
    {
     "data": {
      "text/html": [
       "<div>\n",
       "<style scoped>\n",
       "    .dataframe tbody tr th:only-of-type {\n",
       "        vertical-align: middle;\n",
       "    }\n",
       "\n",
       "    .dataframe tbody tr th {\n",
       "        vertical-align: top;\n",
       "    }\n",
       "\n",
       "    .dataframe thead th {\n",
       "        text-align: right;\n",
       "    }\n",
       "</style>\n",
       "<table border=\"1\" class=\"dataframe\">\n",
       "  <thead>\n",
       "    <tr style=\"text-align: right;\">\n",
       "      <th></th>\n",
       "      <th>Rank</th>\n",
       "      <th>Major_code</th>\n",
       "      <th>Major</th>\n",
       "      <th>Major_category</th>\n",
       "      <th>Total</th>\n",
       "      <th>Sample_size</th>\n",
       "      <th>Men</th>\n",
       "      <th>Women</th>\n",
       "      <th>ShareWomen</th>\n",
       "      <th>Employed</th>\n",
       "      <th>...</th>\n",
       "      <th>Part_time</th>\n",
       "      <th>Full_time_year_round</th>\n",
       "      <th>Unemployed</th>\n",
       "      <th>Unemployment_rate</th>\n",
       "      <th>Median</th>\n",
       "      <th>P25th</th>\n",
       "      <th>P75th</th>\n",
       "      <th>College_jobs</th>\n",
       "      <th>Non_college_jobs</th>\n",
       "      <th>Low_wage_jobs</th>\n",
       "    </tr>\n",
       "  </thead>\n",
       "  <tbody>\n",
       "    <tr>\n",
       "      <th>0</th>\n",
       "      <td>33</td>\n",
       "      <td>6099</td>\n",
       "      <td>MISCELLANEOUS FINE ARTS</td>\n",
       "      <td>Arts</td>\n",
       "      <td>3340</td>\n",
       "      <td>30</td>\n",
       "      <td>1970</td>\n",
       "      <td>1370</td>\n",
       "      <td>0.410180</td>\n",
       "      <td>2914</td>\n",
       "      <td>...</td>\n",
       "      <td>1067</td>\n",
       "      <td>1200</td>\n",
       "      <td>286</td>\n",
       "      <td>0.089375</td>\n",
       "      <td>50000</td>\n",
       "      <td>25000</td>\n",
       "      <td>66000</td>\n",
       "      <td>693</td>\n",
       "      <td>1714</td>\n",
       "      <td>755</td>\n",
       "    </tr>\n",
       "    <tr>\n",
       "      <th>1</th>\n",
       "      <td>96</td>\n",
       "      <td>6004</td>\n",
       "      <td>COMMERCIAL ART AND GRAPHIC DESIGN</td>\n",
       "      <td>Arts</td>\n",
       "      <td>103480</td>\n",
       "      <td>1186</td>\n",
       "      <td>8617</td>\n",
       "      <td>5156</td>\n",
       "      <td>0.374356</td>\n",
       "      <td>83483</td>\n",
       "      <td>...</td>\n",
       "      <td>24387</td>\n",
       "      <td>52243</td>\n",
       "      <td>8947</td>\n",
       "      <td>0.096798</td>\n",
       "      <td>35000</td>\n",
       "      <td>25000</td>\n",
       "      <td>45000</td>\n",
       "      <td>37389</td>\n",
       "      <td>38119</td>\n",
       "      <td>14839</td>\n",
       "    </tr>\n",
       "    <tr>\n",
       "      <th>2</th>\n",
       "      <td>142</td>\n",
       "      <td>6005</td>\n",
       "      <td>FILM VIDEO AND PHOTOGRAPHIC ARTS</td>\n",
       "      <td>Arts</td>\n",
       "      <td>38761</td>\n",
       "      <td>331</td>\n",
       "      <td>22339</td>\n",
       "      <td>49030</td>\n",
       "      <td>0.686993</td>\n",
       "      <td>31433</td>\n",
       "      <td>...</td>\n",
       "      <td>12818</td>\n",
       "      <td>15740</td>\n",
       "      <td>3718</td>\n",
       "      <td>0.105772</td>\n",
       "      <td>32000</td>\n",
       "      <td>22000</td>\n",
       "      <td>42000</td>\n",
       "      <td>7368</td>\n",
       "      <td>20721</td>\n",
       "      <td>5862</td>\n",
       "    </tr>\n",
       "    <tr>\n",
       "      <th>3</th>\n",
       "      <td>147</td>\n",
       "      <td>6002</td>\n",
       "      <td>MUSIC</td>\n",
       "      <td>Arts</td>\n",
       "      <td>60633</td>\n",
       "      <td>419</td>\n",
       "      <td>15670</td>\n",
       "      <td>12543</td>\n",
       "      <td>0.444582</td>\n",
       "      <td>47662</td>\n",
       "      <td>...</td>\n",
       "      <td>24943</td>\n",
       "      <td>21425</td>\n",
       "      <td>3918</td>\n",
       "      <td>0.075960</td>\n",
       "      <td>31000</td>\n",
       "      <td>22300</td>\n",
       "      <td>42000</td>\n",
       "      <td>13752</td>\n",
       "      <td>28786</td>\n",
       "      <td>9286</td>\n",
       "    </tr>\n",
       "    <tr>\n",
       "      <th>4</th>\n",
       "      <td>150</td>\n",
       "      <td>6000</td>\n",
       "      <td>FINE ARTS</td>\n",
       "      <td>Arts</td>\n",
       "      <td>74440</td>\n",
       "      <td>623</td>\n",
       "      <td>24786</td>\n",
       "      <td>49654</td>\n",
       "      <td>0.667034</td>\n",
       "      <td>59679</td>\n",
       "      <td>...</td>\n",
       "      <td>23656</td>\n",
       "      <td>31877</td>\n",
       "      <td>5486</td>\n",
       "      <td>0.084186</td>\n",
       "      <td>30500</td>\n",
       "      <td>21000</td>\n",
       "      <td>41000</td>\n",
       "      <td>20792</td>\n",
       "      <td>32725</td>\n",
       "      <td>11880</td>\n",
       "    </tr>\n",
       "    <tr>\n",
       "      <th>5</th>\n",
       "      <td>154</td>\n",
       "      <td>6003</td>\n",
       "      <td>VISUAL AND PERFORMING ARTS</td>\n",
       "      <td>Arts</td>\n",
       "      <td>16250</td>\n",
       "      <td>132</td>\n",
       "      <td>2013</td>\n",
       "      <td>4639</td>\n",
       "      <td>0.697384</td>\n",
       "      <td>12870</td>\n",
       "      <td>...</td>\n",
       "      <td>6253</td>\n",
       "      <td>6322</td>\n",
       "      <td>1465</td>\n",
       "      <td>0.102197</td>\n",
       "      <td>30000</td>\n",
       "      <td>22000</td>\n",
       "      <td>40000</td>\n",
       "      <td>3849</td>\n",
       "      <td>7635</td>\n",
       "      <td>2840</td>\n",
       "    </tr>\n",
       "    <tr>\n",
       "      <th>6</th>\n",
       "      <td>160</td>\n",
       "      <td>6007</td>\n",
       "      <td>STUDIO ARTS</td>\n",
       "      <td>Arts</td>\n",
       "      <td>16977</td>\n",
       "      <td>182</td>\n",
       "      <td>4364</td>\n",
       "      <td>6146</td>\n",
       "      <td>0.584776</td>\n",
       "      <td>13908</td>\n",
       "      <td>...</td>\n",
       "      <td>5673</td>\n",
       "      <td>7413</td>\n",
       "      <td>1368</td>\n",
       "      <td>0.089552</td>\n",
       "      <td>29000</td>\n",
       "      <td>19200</td>\n",
       "      <td>38300</td>\n",
       "      <td>3948</td>\n",
       "      <td>8707</td>\n",
       "      <td>3586</td>\n",
       "    </tr>\n",
       "    <tr>\n",
       "      <th>7</th>\n",
       "      <td>167</td>\n",
       "      <td>6001</td>\n",
       "      <td>DRAMA AND THEATER ARTS</td>\n",
       "      <td>Arts</td>\n",
       "      <td>43249</td>\n",
       "      <td>357</td>\n",
       "      <td>7022</td>\n",
       "      <td>11931</td>\n",
       "      <td>0.629505</td>\n",
       "      <td>36165</td>\n",
       "      <td>...</td>\n",
       "      <td>15994</td>\n",
       "      <td>16891</td>\n",
       "      <td>3040</td>\n",
       "      <td>0.077541</td>\n",
       "      <td>27000</td>\n",
       "      <td>19200</td>\n",
       "      <td>35000</td>\n",
       "      <td>6994</td>\n",
       "      <td>25313</td>\n",
       "      <td>11068</td>\n",
       "    </tr>\n",
       "  </tbody>\n",
       "</table>\n",
       "<p>8 rows × 21 columns</p>\n",
       "</div>"
      ],
      "text/plain": [
       "   Rank  Major_code                              Major Major_category   Total  \\\n",
       "0    33        6099            MISCELLANEOUS FINE ARTS           Arts    3340   \n",
       "1    96        6004  COMMERCIAL ART AND GRAPHIC DESIGN           Arts  103480   \n",
       "2   142        6005   FILM VIDEO AND PHOTOGRAPHIC ARTS           Arts   38761   \n",
       "3   147        6002                              MUSIC           Arts   60633   \n",
       "4   150        6000                          FINE ARTS           Arts   74440   \n",
       "5   154        6003         VISUAL AND PERFORMING ARTS           Arts   16250   \n",
       "6   160        6007                        STUDIO ARTS           Arts   16977   \n",
       "7   167        6001             DRAMA AND THEATER ARTS           Arts   43249   \n",
       "\n",
       "   Sample_size    Men  Women  ShareWomen  Employed  ...  Part_time  \\\n",
       "0           30   1970   1370    0.410180      2914  ...       1067   \n",
       "1         1186   8617   5156    0.374356     83483  ...      24387   \n",
       "2          331  22339  49030    0.686993     31433  ...      12818   \n",
       "3          419  15670  12543    0.444582     47662  ...      24943   \n",
       "4          623  24786  49654    0.667034     59679  ...      23656   \n",
       "5          132   2013   4639    0.697384     12870  ...       6253   \n",
       "6          182   4364   6146    0.584776     13908  ...       5673   \n",
       "7          357   7022  11931    0.629505     36165  ...      15994   \n",
       "\n",
       "   Full_time_year_round  Unemployed  Unemployment_rate  Median  P25th  P75th  \\\n",
       "0                  1200         286           0.089375   50000  25000  66000   \n",
       "1                 52243        8947           0.096798   35000  25000  45000   \n",
       "2                 15740        3718           0.105772   32000  22000  42000   \n",
       "3                 21425        3918           0.075960   31000  22300  42000   \n",
       "4                 31877        5486           0.084186   30500  21000  41000   \n",
       "5                  6322        1465           0.102197   30000  22000  40000   \n",
       "6                  7413        1368           0.089552   29000  19200  38300   \n",
       "7                 16891        3040           0.077541   27000  19200  35000   \n",
       "\n",
       "   College_jobs  Non_college_jobs  Low_wage_jobs  \n",
       "0           693              1714            755  \n",
       "1         37389             38119          14839  \n",
       "2          7368             20721           5862  \n",
       "3         13752             28786           9286  \n",
       "4         20792             32725          11880  \n",
       "5          3849              7635           2840  \n",
       "6          3948              8707           3586  \n",
       "7          6994             25313          11068  \n",
       "\n",
       "[8 rows x 21 columns]"
      ]
     },
     "execution_count": 34,
     "metadata": {},
     "output_type": "execute_result"
    }
   ],
   "source": [
    "excel_df = pd.read_excel('../Data/Day4-Dictionaries/College-Majors/recent_Arts.xlsx', sheet_name=0)\n",
    "excel_df"
   ]
  },
  {
   "cell_type": "markdown",
   "metadata": {},
   "source": [
    "And it's not just excel. Pandas can actually read/write a large number of different and really useful file formats that can be essential when working with collaborators who might not be quite so python inclined. This is the full list:\n",
    "\n",
    "        read_csv\n",
    "        read_excel\n",
    "        read_hdf\n",
    "        read_sql\n",
    "        read_json\n",
    "        read_msgpack (experimental)\n",
    "        read_html\n",
    "        read_gbq (experimental)\n",
    "        read_stata\n",
    "        read_clipboard\n",
    "        read_pickle\n",
    "\n",
    "But really the only two you'll probably ever use are Excel and CSV."
   ]
  },
  {
   "cell_type": "markdown",
   "metadata": {},
   "source": [
    "### Visualization\n",
    "\n",
    "Pandas helps you quickly explore and manipulate data as you learn about your dataset basics. One quick benefit is the built-in plotting directly from the dataframe.\n",
    "\n",
    "Let's say that we wanted to make a plot that examined the difference between the majors in terms of the raw employment numbers."
   ]
  },
  {
   "cell_type": "code",
   "execution_count": 37,
   "metadata": {
    "ExecuteTime": {
     "end_time": "2019-07-03T12:50:34.726416Z",
     "start_time": "2019-07-03T12:50:34.702685Z"
    }
   },
   "outputs": [
    {
     "data": {
      "text/html": [
       "<div>\n",
       "<style scoped>\n",
       "    .dataframe tbody tr th:only-of-type {\n",
       "        vertical-align: middle;\n",
       "    }\n",
       "\n",
       "    .dataframe tbody tr th {\n",
       "        vertical-align: top;\n",
       "    }\n",
       "\n",
       "    .dataframe thead th {\n",
       "        text-align: right;\n",
       "    }\n",
       "</style>\n",
       "<table border=\"1\" class=\"dataframe\">\n",
       "  <thead>\n",
       "    <tr style=\"text-align: right;\">\n",
       "      <th></th>\n",
       "      <th>Rank</th>\n",
       "      <th>Major_code</th>\n",
       "      <th>Major</th>\n",
       "      <th>Major_category</th>\n",
       "      <th>Total</th>\n",
       "      <th>Sample_size</th>\n",
       "      <th>Men</th>\n",
       "      <th>Women</th>\n",
       "      <th>ShareWomen</th>\n",
       "      <th>Employed</th>\n",
       "      <th>...</th>\n",
       "      <th>Part_time</th>\n",
       "      <th>Full_time_year_round</th>\n",
       "      <th>Unemployed</th>\n",
       "      <th>Unemployment_rate</th>\n",
       "      <th>Median</th>\n",
       "      <th>P25th</th>\n",
       "      <th>P75th</th>\n",
       "      <th>College_jobs</th>\n",
       "      <th>Non_college_jobs</th>\n",
       "      <th>Low_wage_jobs</th>\n",
       "    </tr>\n",
       "  </thead>\n",
       "  <tbody>\n",
       "    <tr>\n",
       "      <th>0</th>\n",
       "      <td>33</td>\n",
       "      <td>6099</td>\n",
       "      <td>MISCELLANEOUS FINE ARTS</td>\n",
       "      <td>Arts</td>\n",
       "      <td>3340</td>\n",
       "      <td>30</td>\n",
       "      <td>1970</td>\n",
       "      <td>1370</td>\n",
       "      <td>0.410180</td>\n",
       "      <td>2914</td>\n",
       "      <td>...</td>\n",
       "      <td>1067</td>\n",
       "      <td>1200</td>\n",
       "      <td>286</td>\n",
       "      <td>0.089375</td>\n",
       "      <td>50000</td>\n",
       "      <td>25000</td>\n",
       "      <td>66000</td>\n",
       "      <td>693</td>\n",
       "      <td>1714</td>\n",
       "      <td>755</td>\n",
       "    </tr>\n",
       "    <tr>\n",
       "      <th>1</th>\n",
       "      <td>96</td>\n",
       "      <td>6004</td>\n",
       "      <td>COMMERCIAL ART AND GRAPHIC DESIGN</td>\n",
       "      <td>Arts</td>\n",
       "      <td>103480</td>\n",
       "      <td>1186</td>\n",
       "      <td>8617</td>\n",
       "      <td>5156</td>\n",
       "      <td>0.374356</td>\n",
       "      <td>83483</td>\n",
       "      <td>...</td>\n",
       "      <td>24387</td>\n",
       "      <td>52243</td>\n",
       "      <td>8947</td>\n",
       "      <td>0.096798</td>\n",
       "      <td>35000</td>\n",
       "      <td>25000</td>\n",
       "      <td>45000</td>\n",
       "      <td>37389</td>\n",
       "      <td>38119</td>\n",
       "      <td>14839</td>\n",
       "    </tr>\n",
       "    <tr>\n",
       "      <th>2</th>\n",
       "      <td>142</td>\n",
       "      <td>6005</td>\n",
       "      <td>FILM VIDEO AND PHOTOGRAPHIC ARTS</td>\n",
       "      <td>Arts</td>\n",
       "      <td>38761</td>\n",
       "      <td>331</td>\n",
       "      <td>22339</td>\n",
       "      <td>49030</td>\n",
       "      <td>0.686993</td>\n",
       "      <td>31433</td>\n",
       "      <td>...</td>\n",
       "      <td>12818</td>\n",
       "      <td>15740</td>\n",
       "      <td>3718</td>\n",
       "      <td>0.105772</td>\n",
       "      <td>32000</td>\n",
       "      <td>22000</td>\n",
       "      <td>42000</td>\n",
       "      <td>7368</td>\n",
       "      <td>20721</td>\n",
       "      <td>5862</td>\n",
       "    </tr>\n",
       "    <tr>\n",
       "      <th>3</th>\n",
       "      <td>147</td>\n",
       "      <td>6002</td>\n",
       "      <td>MUSIC</td>\n",
       "      <td>Arts</td>\n",
       "      <td>60633</td>\n",
       "      <td>419</td>\n",
       "      <td>15670</td>\n",
       "      <td>12543</td>\n",
       "      <td>0.444582</td>\n",
       "      <td>47662</td>\n",
       "      <td>...</td>\n",
       "      <td>24943</td>\n",
       "      <td>21425</td>\n",
       "      <td>3918</td>\n",
       "      <td>0.075960</td>\n",
       "      <td>31000</td>\n",
       "      <td>22300</td>\n",
       "      <td>42000</td>\n",
       "      <td>13752</td>\n",
       "      <td>28786</td>\n",
       "      <td>9286</td>\n",
       "    </tr>\n",
       "    <tr>\n",
       "      <th>4</th>\n",
       "      <td>150</td>\n",
       "      <td>6000</td>\n",
       "      <td>FINE ARTS</td>\n",
       "      <td>Arts</td>\n",
       "      <td>74440</td>\n",
       "      <td>623</td>\n",
       "      <td>24786</td>\n",
       "      <td>49654</td>\n",
       "      <td>0.667034</td>\n",
       "      <td>59679</td>\n",
       "      <td>...</td>\n",
       "      <td>23656</td>\n",
       "      <td>31877</td>\n",
       "      <td>5486</td>\n",
       "      <td>0.084186</td>\n",
       "      <td>30500</td>\n",
       "      <td>21000</td>\n",
       "      <td>41000</td>\n",
       "      <td>20792</td>\n",
       "      <td>32725</td>\n",
       "      <td>11880</td>\n",
       "    </tr>\n",
       "  </tbody>\n",
       "</table>\n",
       "<p>5 rows × 21 columns</p>\n",
       "</div>"
      ],
      "text/plain": [
       "   Rank  Major_code                              Major Major_category   Total  \\\n",
       "0    33        6099            MISCELLANEOUS FINE ARTS           Arts    3340   \n",
       "1    96        6004  COMMERCIAL ART AND GRAPHIC DESIGN           Arts  103480   \n",
       "2   142        6005   FILM VIDEO AND PHOTOGRAPHIC ARTS           Arts   38761   \n",
       "3   147        6002                              MUSIC           Arts   60633   \n",
       "4   150        6000                          FINE ARTS           Arts   74440   \n",
       "\n",
       "   Sample_size    Men  Women  ShareWomen  Employed  ...  Part_time  \\\n",
       "0           30   1970   1370    0.410180      2914  ...       1067   \n",
       "1         1186   8617   5156    0.374356     83483  ...      24387   \n",
       "2          331  22339  49030    0.686993     31433  ...      12818   \n",
       "3          419  15670  12543    0.444582     47662  ...      24943   \n",
       "4          623  24786  49654    0.667034     59679  ...      23656   \n",
       "\n",
       "   Full_time_year_round  Unemployed  Unemployment_rate  Median  P25th  P75th  \\\n",
       "0                  1200         286           0.089375   50000  25000  66000   \n",
       "1                 52243        8947           0.096798   35000  25000  45000   \n",
       "2                 15740        3718           0.105772   32000  22000  42000   \n",
       "3                 21425        3918           0.075960   31000  22300  42000   \n",
       "4                 31877        5486           0.084186   30500  21000  41000   \n",
       "\n",
       "   College_jobs  Non_college_jobs  Low_wage_jobs  \n",
       "0           693              1714            755  \n",
       "1         37389             38119          14839  \n",
       "2          7368             20721           5862  \n",
       "3         13752             28786           9286  \n",
       "4         20792             32725          11880  \n",
       "\n",
       "[5 rows x 21 columns]"
      ]
     },
     "execution_count": 37,
     "metadata": {},
     "output_type": "execute_result"
    }
   ],
   "source": [
    "df.head()"
   ]
  },
  {
   "cell_type": "code",
   "execution_count": 38,
   "metadata": {
    "ExecuteTime": {
     "end_time": "2019-07-03T12:50:36.895486Z",
     "start_time": "2019-07-03T12:50:36.696688Z"
    }
   },
   "outputs": [
    {
     "data": {
      "text/plain": [
       "<matplotlib.axes._subplots.AxesSubplot at 0x11742ccf8>"
      ]
     },
     "execution_count": 38,
     "metadata": {},
     "output_type": "execute_result"
    },
    {
     "data": {
      "image/png": "[encoded data removed]",
      "text/plain": [
       "<Figure size 432x288 with 1 Axes>"
      ]
     },
     "metadata": {
      "needs_background": "light"
     },
     "output_type": "display_data"
    }
   ],
   "source": [
    "df['Employed'].plot()"
   ]
  },
  {
   "cell_type": "markdown",
   "metadata": {},
   "source": [
    "Okay, so it's pretty ugly, but it was also super quick!\n",
    "\n",
    "Let's actually think about this for a moment because something magical just happened and we all probably took it for granted.\n",
    "\n",
    "### We just plotted numeric data from the file that I read in with a single command.\n",
    "\n",
    "### When did I change the type of that data to be an integer so that we could plot it??\n",
    "You might recall when we read files in the past using `open('super_cool_file.csv')`, everything was read in as a string by default, even numbers!\n",
    "\n",
    "When we load data with Pandas it automatically converted the 'Employed' column data to integers. In fact, Pandas does this with all of the columns and when it does this it picks the **least** expansive data type that **accommodates all the data in the column**.\n",
    "\n",
    "We can check this, so the `Unemployed` column should be integers also."
   ]
  },
  {
   "cell_type": "code",
   "execution_count": 39,
   "metadata": {
    "ExecuteTime": {
     "end_time": "2019-07-03T12:50:48.354861Z",
     "start_time": "2019-07-03T12:50:48.347026Z"
    }
   },
   "outputs": [
    {
     "data": {
      "text/plain": [
       "0     286\n",
       "1    8947\n",
       "2    3718\n",
       "3    3918\n",
       "4    5486\n",
       "5    1465\n",
       "6    1368\n",
       "7    3040\n",
       "Name: Unemployed, dtype: int64"
      ]
     },
     "execution_count": 39,
     "metadata": {},
     "output_type": "execute_result"
    }
   ],
   "source": [
    "df['Unemployed']"
   ]
  },
  {
   "cell_type": "markdown",
   "metadata": {},
   "source": [
    "And that means that the `ShareWomen` column should be floats."
   ]
  },
  {
   "cell_type": "code",
   "execution_count": 40,
   "metadata": {
    "ExecuteTime": {
     "end_time": "2019-07-03T12:50:51.666501Z",
     "start_time": "2019-07-03T12:50:51.660889Z"
    }
   },
   "outputs": [
    {
     "data": {
      "text/plain": [
       "0    0.410180\n",
       "1    0.374356\n",
       "2    0.686993\n",
       "3    0.444582\n",
       "4    0.667034\n",
       "5    0.697384\n",
       "6    0.584776\n",
       "7    0.629505\n",
       "Name: ShareWomen, dtype: float64"
      ]
     },
     "execution_count": 40,
     "metadata": {},
     "output_type": "execute_result"
    }
   ],
   "source": [
    "df['ShareWomen']"
   ]
  },
  {
   "cell_type": "markdown",
   "metadata": {},
   "source": [
    "Something to be aware of though, is that if we had a single string in that column of data **none of it would be converted**. All of the read values would be strings because any number can represented as a string, just as text data can."
   ]
  },
  {
   "cell_type": "markdown",
   "metadata": {},
   "source": [
    "Now, we should really change the plot type so that it displays the data as a bar."
   ]
  },
  {
   "cell_type": "code",
   "execution_count": 41,
   "metadata": {
    "ExecuteTime": {
     "end_time": "2019-07-03T12:50:58.166211Z",
     "start_time": "2019-07-03T12:50:57.986416Z"
    }
   },
   "outputs": [
    {
     "data": {
      "text/plain": [
       "<matplotlib.axes._subplots.AxesSubplot at 0x11774b978>"
      ]
     },
     "execution_count": 41,
     "metadata": {},
     "output_type": "execute_result"
    },
    {
     "data": {
      "image/png": "[encoded data removed]",
      "text/plain": [
       "<Figure size 432x288 with 1 Axes>"
      ]
     },
     "metadata": {
      "needs_background": "light"
     },
     "output_type": "display_data"
    }
   ],
   "source": [
    "df['Employed'].plot(kind='bar')"
   ]
  },
  {
   "cell_type": "markdown",
   "metadata": {},
   "source": [
    "Ah! That's a little bit better!\n",
    "\n",
    "But we should never have a graph without a y-label! To change labels we'll need to operate on the `matplotlib` graph. Whenever we call a `plot()` off of a dataframe it always retuns a Matplotlib axis object that is our graph. We can modify that graph to add labels and other features."
   ]
  },
  {
   "cell_type": "code",
   "execution_count": 42,
   "metadata": {
    "ExecuteTime": {
     "end_time": "2019-07-03T12:51:07.054135Z",
     "start_time": "2019-07-03T12:51:06.846838Z"
    }
   },
   "outputs": [
    {
     "data": {
      "image/png": "[encoded data removed]",
      "text/plain": [
       "<Figure size 432x288 with 1 Axes>"
      ]
     },
     "metadata": {
      "needs_background": "light"
     },
     "output_type": "display_data"
    }
   ],
   "source": [
    "#I'm changing the color of the bars here because the other blue looks awful!\n",
    "ax = df['Employed'].plot(kind = 'bar', color = 'steelblue')\n",
    "#Now I can set the y-axis label\n",
    "ax.set_ylabel('Students Employed')\n",
    "#I can also set the xticks to the major names\n",
    "major_labels = df['Major']\n",
    "#Here I set the xtick labels. The `;` suppresses matplotlib print statements\n",
    "ax.set_xticklabels(major_labels);"
   ]
  },
  {
   "cell_type": "markdown",
   "metadata": {},
   "source": [
    "When we have the matplotlib axis object, we can do anything with it that would normally with a `matplotlib` graph.\n",
    "\n",
    "## But wait, there's more!\n",
    "\n",
    "Pandas has mathematical functions built directly into the `dataframe`. So if we want to know the average of a column or the number of rows with entries (not every position has to have a value!) we can do that quickly and easily.\n",
    "\n",
    "Let's start by just counting the number of values in each column (it should be 8 in every column since every spot in our spreadsheet was filled out)."
   ]
  },
  {
   "cell_type": "code",
   "execution_count": 43,
   "metadata": {
    "ExecuteTime": {
     "end_time": "2019-07-03T12:51:15.080140Z",
     "start_time": "2019-07-03T12:51:15.071672Z"
    }
   },
   "outputs": [
    {
     "data": {
      "text/plain": [
       "Rank                    8\n",
       "Major_code              8\n",
       "Major                   8\n",
       "Major_category          8\n",
       "Total                   8\n",
       "Sample_size             8\n",
       "Men                     8\n",
       "Women                   8\n",
       "ShareWomen              8\n",
       "Employed                8\n",
       "Full_time               8\n",
       "Part_time               8\n",
       "Full_time_year_round    8\n",
       "Unemployed              8\n",
       "Unemployment_rate       8\n",
       "Median                  8\n",
       "P25th                   8\n",
       "P75th                   8\n",
       "College_jobs            8\n",
       "Non_college_jobs        8\n",
       "Low_wage_jobs           8\n",
       "dtype: int64"
      ]
     },
     "execution_count": 43,
     "metadata": {},
     "output_type": "execute_result"
    }
   ],
   "source": [
    "df.count()"
   ]
  },
  {
   "cell_type": "markdown",
   "metadata": {},
   "source": [
    "But I also want to show you what happens when we have a column with no values entered for it. When there is a missing value in the raw data Pandas replaces that value with a `Not a Number` or `NaN` value from numpy."
   ]
  },
  {
   "cell_type": "code",
   "execution_count": 44,
   "metadata": {
    "ExecuteTime": {
     "end_time": "2019-07-03T12:51:23.973327Z",
     "start_time": "2019-07-03T12:51:23.945187Z"
    }
   },
   "outputs": [
    {
     "data": {
      "text/html": [
       "<div>\n",
       "<style scoped>\n",
       "    .dataframe tbody tr th:only-of-type {\n",
       "        vertical-align: middle;\n",
       "    }\n",
       "\n",
       "    .dataframe tbody tr th {\n",
       "        vertical-align: top;\n",
       "    }\n",
       "\n",
       "    .dataframe thead th {\n",
       "        text-align: right;\n",
       "    }\n",
       "</style>\n",
       "<table border=\"1\" class=\"dataframe\">\n",
       "  <thead>\n",
       "    <tr style=\"text-align: right;\">\n",
       "      <th></th>\n",
       "      <th>Rank</th>\n",
       "      <th>Major_code</th>\n",
       "      <th>Major</th>\n",
       "      <th>Major_category</th>\n",
       "      <th>Total</th>\n",
       "      <th>Sample_size</th>\n",
       "      <th>Men</th>\n",
       "      <th>Women</th>\n",
       "      <th>ShareWomen</th>\n",
       "      <th>Employed</th>\n",
       "      <th>...</th>\n",
       "      <th>Full_time_year_round</th>\n",
       "      <th>Unemployed</th>\n",
       "      <th>Unemployment_rate</th>\n",
       "      <th>Median</th>\n",
       "      <th>P25th</th>\n",
       "      <th>P75th</th>\n",
       "      <th>College_jobs</th>\n",
       "      <th>Non_college_jobs</th>\n",
       "      <th>Low_wage_jobs</th>\n",
       "      <th>Test_column</th>\n",
       "    </tr>\n",
       "  </thead>\n",
       "  <tbody>\n",
       "    <tr>\n",
       "      <th>0</th>\n",
       "      <td>33</td>\n",
       "      <td>6099</td>\n",
       "      <td>MISCELLANEOUS FINE ARTS</td>\n",
       "      <td>Arts</td>\n",
       "      <td>3340</td>\n",
       "      <td>30</td>\n",
       "      <td>1970</td>\n",
       "      <td>1370</td>\n",
       "      <td>0.410180</td>\n",
       "      <td>2914</td>\n",
       "      <td>...</td>\n",
       "      <td>1200</td>\n",
       "      <td>286</td>\n",
       "      <td>0.089375</td>\n",
       "      <td>50000</td>\n",
       "      <td>25000</td>\n",
       "      <td>66000</td>\n",
       "      <td>693</td>\n",
       "      <td>1714</td>\n",
       "      <td>755</td>\n",
       "      <td>NaN</td>\n",
       "    </tr>\n",
       "    <tr>\n",
       "      <th>1</th>\n",
       "      <td>96</td>\n",
       "      <td>6004</td>\n",
       "      <td>COMMERCIAL ART AND GRAPHIC DESIGN</td>\n",
       "      <td>Arts</td>\n",
       "      <td>103480</td>\n",
       "      <td>1186</td>\n",
       "      <td>8617</td>\n",
       "      <td>5156</td>\n",
       "      <td>0.374356</td>\n",
       "      <td>83483</td>\n",
       "      <td>...</td>\n",
       "      <td>52243</td>\n",
       "      <td>8947</td>\n",
       "      <td>0.096798</td>\n",
       "      <td>35000</td>\n",
       "      <td>25000</td>\n",
       "      <td>45000</td>\n",
       "      <td>37389</td>\n",
       "      <td>38119</td>\n",
       "      <td>14839</td>\n",
       "      <td>NaN</td>\n",
       "    </tr>\n",
       "    <tr>\n",
       "      <th>2</th>\n",
       "      <td>142</td>\n",
       "      <td>6005</td>\n",
       "      <td>FILM VIDEO AND PHOTOGRAPHIC ARTS</td>\n",
       "      <td>Arts</td>\n",
       "      <td>38761</td>\n",
       "      <td>331</td>\n",
       "      <td>22339</td>\n",
       "      <td>49030</td>\n",
       "      <td>0.686993</td>\n",
       "      <td>31433</td>\n",
       "      <td>...</td>\n",
       "      <td>15740</td>\n",
       "      <td>3718</td>\n",
       "      <td>0.105772</td>\n",
       "      <td>32000</td>\n",
       "      <td>22000</td>\n",
       "      <td>42000</td>\n",
       "      <td>7368</td>\n",
       "      <td>20721</td>\n",
       "      <td>5862</td>\n",
       "      <td>NaN</td>\n",
       "    </tr>\n",
       "    <tr>\n",
       "      <th>3</th>\n",
       "      <td>147</td>\n",
       "      <td>6002</td>\n",
       "      <td>MUSIC</td>\n",
       "      <td>Arts</td>\n",
       "      <td>60633</td>\n",
       "      <td>419</td>\n",
       "      <td>15670</td>\n",
       "      <td>12543</td>\n",
       "      <td>0.444582</td>\n",
       "      <td>47662</td>\n",
       "      <td>...</td>\n",
       "      <td>21425</td>\n",
       "      <td>3918</td>\n",
       "      <td>0.075960</td>\n",
       "      <td>31000</td>\n",
       "      <td>22300</td>\n",
       "      <td>42000</td>\n",
       "      <td>13752</td>\n",
       "      <td>28786</td>\n",
       "      <td>9286</td>\n",
       "      <td>NaN</td>\n",
       "    </tr>\n",
       "    <tr>\n",
       "      <th>4</th>\n",
       "      <td>150</td>\n",
       "      <td>6000</td>\n",
       "      <td>FINE ARTS</td>\n",
       "      <td>Arts</td>\n",
       "      <td>74440</td>\n",
       "      <td>623</td>\n",
       "      <td>24786</td>\n",
       "      <td>49654</td>\n",
       "      <td>0.667034</td>\n",
       "      <td>59679</td>\n",
       "      <td>...</td>\n",
       "      <td>31877</td>\n",
       "      <td>5486</td>\n",
       "      <td>0.084186</td>\n",
       "      <td>30500</td>\n",
       "      <td>21000</td>\n",
       "      <td>41000</td>\n",
       "      <td>20792</td>\n",
       "      <td>32725</td>\n",
       "      <td>11880</td>\n",
       "      <td>NaN</td>\n",
       "    </tr>\n",
       "    <tr>\n",
       "      <th>5</th>\n",
       "      <td>154</td>\n",
       "      <td>6003</td>\n",
       "      <td>VISUAL AND PERFORMING ARTS</td>\n",
       "      <td>Arts</td>\n",
       "      <td>16250</td>\n",
       "      <td>132</td>\n",
       "      <td>2013</td>\n",
       "      <td>4639</td>\n",
       "      <td>0.697384</td>\n",
       "      <td>12870</td>\n",
       "      <td>...</td>\n",
       "      <td>6322</td>\n",
       "      <td>1465</td>\n",
       "      <td>0.102197</td>\n",
       "      <td>30000</td>\n",
       "      <td>22000</td>\n",
       "      <td>40000</td>\n",
       "      <td>3849</td>\n",
       "      <td>7635</td>\n",
       "      <td>2840</td>\n",
       "      <td>NaN</td>\n",
       "    </tr>\n",
       "    <tr>\n",
       "      <th>6</th>\n",
       "      <td>160</td>\n",
       "      <td>6007</td>\n",
       "      <td>STUDIO ARTS</td>\n",
       "      <td>Arts</td>\n",
       "      <td>16977</td>\n",
       "      <td>182</td>\n",
       "      <td>4364</td>\n",
       "      <td>6146</td>\n",
       "      <td>0.584776</td>\n",
       "      <td>13908</td>\n",
       "      <td>...</td>\n",
       "      <td>7413</td>\n",
       "      <td>1368</td>\n",
       "      <td>0.089552</td>\n",
       "      <td>29000</td>\n",
       "      <td>19200</td>\n",
       "      <td>38300</td>\n",
       "      <td>3948</td>\n",
       "      <td>8707</td>\n",
       "      <td>3586</td>\n",
       "      <td>NaN</td>\n",
       "    </tr>\n",
       "    <tr>\n",
       "      <th>7</th>\n",
       "      <td>167</td>\n",
       "      <td>6001</td>\n",
       "      <td>DRAMA AND THEATER ARTS</td>\n",
       "      <td>Arts</td>\n",
       "      <td>43249</td>\n",
       "      <td>357</td>\n",
       "      <td>7022</td>\n",
       "      <td>11931</td>\n",
       "      <td>0.629505</td>\n",
       "      <td>36165</td>\n",
       "      <td>...</td>\n",
       "      <td>16891</td>\n",
       "      <td>3040</td>\n",
       "      <td>0.077541</td>\n",
       "      <td>27000</td>\n",
       "      <td>19200</td>\n",
       "      <td>35000</td>\n",
       "      <td>6994</td>\n",
       "      <td>25313</td>\n",
       "      <td>11068</td>\n",
       "      <td>NaN</td>\n",
       "    </tr>\n",
       "  </tbody>\n",
       "</table>\n",
       "<p>8 rows × 22 columns</p>\n",
       "</div>"
      ],
      "text/plain": [
       "   Rank  Major_code                              Major Major_category   Total  \\\n",
       "0    33        6099            MISCELLANEOUS FINE ARTS           Arts    3340   \n",
       "1    96        6004  COMMERCIAL ART AND GRAPHIC DESIGN           Arts  103480   \n",
       "2   142        6005   FILM VIDEO AND PHOTOGRAPHIC ARTS           Arts   38761   \n",
       "3   147        6002                              MUSIC           Arts   60633   \n",
       "4   150        6000                          FINE ARTS           Arts   74440   \n",
       "5   154        6003         VISUAL AND PERFORMING ARTS           Arts   16250   \n",
       "6   160        6007                        STUDIO ARTS           Arts   16977   \n",
       "7   167        6001             DRAMA AND THEATER ARTS           Arts   43249   \n",
       "\n",
       "   Sample_size    Men  Women  ShareWomen  Employed  ...  Full_time_year_round  \\\n",
       "0           30   1970   1370    0.410180      2914  ...                  1200   \n",
       "1         1186   8617   5156    0.374356     83483  ...                 52243   \n",
       "2          331  22339  49030    0.686993     31433  ...                 15740   \n",
       "3          419  15670  12543    0.444582     47662  ...                 21425   \n",
       "4          623  24786  49654    0.667034     59679  ...                 31877   \n",
       "5          132   2013   4639    0.697384     12870  ...                  6322   \n",
       "6          182   4364   6146    0.584776     13908  ...                  7413   \n",
       "7          357   7022  11931    0.629505     36165  ...                 16891   \n",
       "\n",
       "   Unemployed  Unemployment_rate  Median  P25th  P75th  College_jobs  \\\n",
       "0         286           0.089375   50000  25000  66000           693   \n",
       "1        8947           0.096798   35000  25000  45000         37389   \n",
       "2        3718           0.105772   32000  22000  42000          7368   \n",
       "3        3918           0.075960   31000  22300  42000         13752   \n",
       "4        5486           0.084186   30500  21000  41000         20792   \n",
       "5        1465           0.102197   30000  22000  40000          3849   \n",
       "6        1368           0.089552   29000  19200  38300          3948   \n",
       "7        3040           0.077541   27000  19200  35000          6994   \n",
       "\n",
       "   Non_college_jobs  Low_wage_jobs  Test_column  \n",
       "0              1714            755          NaN  \n",
       "1             38119          14839          NaN  \n",
       "2             20721           5862          NaN  \n",
       "3             28786           9286          NaN  \n",
       "4             32725          11880          NaN  \n",
       "5              7635           2840          NaN  \n",
       "6              8707           3586          NaN  \n",
       "7             25313          11068          NaN  \n",
       "\n",
       "[8 rows x 22 columns]"
      ]
     },
     "execution_count": 44,
     "metadata": {},
     "output_type": "execute_result"
    }
   ],
   "source": [
    "import numpy as np\n",
    "df['Test_column'] = np.nan\n",
    "df"
   ]
  },
  {
   "cell_type": "markdown",
   "metadata": {},
   "source": [
    "Now when we count, it won't be the same as before."
   ]
  },
  {
   "cell_type": "code",
   "execution_count": 45,
   "metadata": {
    "ExecuteTime": {
     "end_time": "2019-07-03T12:52:01.879383Z",
     "start_time": "2019-07-03T12:52:01.871597Z"
    }
   },
   "outputs": [
    {
     "data": {
      "text/plain": [
       "Rank                    8\n",
       "Major_code              8\n",
       "Major                   8\n",
       "Major_category          8\n",
       "Total                   8\n",
       "Sample_size             8\n",
       "Men                     8\n",
       "Women                   8\n",
       "ShareWomen              8\n",
       "Employed                8\n",
       "Full_time               8\n",
       "Part_time               8\n",
       "Full_time_year_round    8\n",
       "Unemployed              8\n",
       "Unemployment_rate       8\n",
       "Median                  8\n",
       "P25th                   8\n",
       "P75th                   8\n",
       "College_jobs            8\n",
       "Non_college_jobs        8\n",
       "Low_wage_jobs           8\n",
       "Test_column             0\n",
       "dtype: int64"
      ]
     },
     "execution_count": 45,
     "metadata": {},
     "output_type": "execute_result"
    }
   ],
   "source": [
    "df.count()"
   ]
  },
  {
   "cell_type": "markdown",
   "metadata": {},
   "source": [
    "We can also just count a few columns or single column by chaining the `count()` function after we index the Dataframe."
   ]
  },
  {
   "cell_type": "code",
   "execution_count": 46,
   "metadata": {
    "ExecuteTime": {
     "end_time": "2019-07-03T12:52:10.302380Z",
     "start_time": "2019-07-03T12:52:10.297211Z"
    }
   },
   "outputs": [
    {
     "data": {
      "text/plain": [
       "8"
      ]
     },
     "execution_count": 46,
     "metadata": {},
     "output_type": "execute_result"
    }
   ],
   "source": [
    "df['Employed'].count()"
   ]
  },
  {
   "cell_type": "code",
   "execution_count": 47,
   "metadata": {
    "ExecuteTime": {
     "end_time": "2019-07-03T12:52:10.727417Z",
     "start_time": "2019-07-03T12:52:10.718878Z"
    }
   },
   "outputs": [
    {
     "data": {
      "text/plain": [
       "Rank                    3\n",
       "Major_code              3\n",
       "Major                   3\n",
       "Major_category          3\n",
       "Total                   3\n",
       "Sample_size             3\n",
       "Men                     3\n",
       "Women                   3\n",
       "ShareWomen              3\n",
       "Employed                3\n",
       "Full_time               3\n",
       "Part_time               3\n",
       "Full_time_year_round    3\n",
       "Unemployed              3\n",
       "Unemployment_rate       3\n",
       "Median                  3\n",
       "P25th                   3\n",
       "P75th                   3\n",
       "College_jobs            3\n",
       "Non_college_jobs        3\n",
       "Low_wage_jobs           3\n",
       "Test_column             0\n",
       "dtype: int64"
      ]
     },
     "execution_count": 47,
     "metadata": {},
     "output_type": "execute_result"
    }
   ],
   "source": [
    "df.loc[0:2].count()"
   ]
  },
  {
   "cell_type": "markdown",
   "metadata": {},
   "source": [
    "There are other useful functions built in too. We can quickly take the mean or median of a column also."
   ]
  },
  {
   "cell_type": "code",
   "execution_count": 48,
   "metadata": {
    "ExecuteTime": {
     "end_time": "2019-07-03T12:52:14.850364Z",
     "start_time": "2019-07-03T12:52:14.844622Z"
    }
   },
   "outputs": [
    {
     "data": {
      "text/plain": [
       "36014.25"
      ]
     },
     "execution_count": 48,
     "metadata": {},
     "output_type": "execute_result"
    }
   ],
   "source": [
    "df.Employed.mean()"
   ]
  },
  {
   "cell_type": "code",
   "execution_count": 49,
   "metadata": {
    "ExecuteTime": {
     "end_time": "2019-07-03T12:52:16.995405Z",
     "start_time": "2019-07-03T12:52:16.989398Z"
    }
   },
   "outputs": [
    {
     "data": {
      "text/plain": [
       "33799.0"
      ]
     },
     "execution_count": 49,
     "metadata": {},
     "output_type": "execute_result"
    }
   ],
   "source": [
    "df.Employed.median()"
   ]
  },
  {
   "cell_type": "markdown",
   "metadata": {},
   "source": [
    "Or we can even get the mean, medians, and a host of other summary statistics for all columns!"
   ]
  },
  {
   "cell_type": "code",
   "execution_count": 50,
   "metadata": {
    "ExecuteTime": {
     "end_time": "2019-07-03T12:52:21.661656Z",
     "start_time": "2019-07-03T12:52:21.583211Z"
    }
   },
   "outputs": [
    {
     "data": {
      "text/html": [
       "<div>\n",
       "<style scoped>\n",
       "    .dataframe tbody tr th:only-of-type {\n",
       "        vertical-align: middle;\n",
       "    }\n",
       "\n",
       "    .dataframe tbody tr th {\n",
       "        vertical-align: top;\n",
       "    }\n",
       "\n",
       "    .dataframe thead th {\n",
       "        text-align: right;\n",
       "    }\n",
       "</style>\n",
       "<table border=\"1\" class=\"dataframe\">\n",
       "  <thead>\n",
       "    <tr style=\"text-align: right;\">\n",
       "      <th></th>\n",
       "      <th>Rank</th>\n",
       "      <th>Major_code</th>\n",
       "      <th>Total</th>\n",
       "      <th>Sample_size</th>\n",
       "      <th>Men</th>\n",
       "      <th>Women</th>\n",
       "      <th>ShareWomen</th>\n",
       "      <th>Employed</th>\n",
       "      <th>Full_time</th>\n",
       "      <th>Part_time</th>\n",
       "      <th>Full_time_year_round</th>\n",
       "      <th>Unemployed</th>\n",
       "      <th>Unemployment_rate</th>\n",
       "      <th>Median</th>\n",
       "      <th>P25th</th>\n",
       "      <th>P75th</th>\n",
       "      <th>College_jobs</th>\n",
       "      <th>Non_college_jobs</th>\n",
       "      <th>Low_wage_jobs</th>\n",
       "      <th>Test_column</th>\n",
       "    </tr>\n",
       "  </thead>\n",
       "  <tbody>\n",
       "    <tr>\n",
       "      <th>count</th>\n",
       "      <td>8.000000</td>\n",
       "      <td>8.000000</td>\n",
       "      <td>8.000000</td>\n",
       "      <td>8.000000</td>\n",
       "      <td>8.000000</td>\n",
       "      <td>8.00000</td>\n",
       "      <td>8.000000</td>\n",
       "      <td>8.00000</td>\n",
       "      <td>8.000000</td>\n",
       "      <td>8.000000</td>\n",
       "      <td>8.000000</td>\n",
       "      <td>8.000000</td>\n",
       "      <td>8.000000</td>\n",
       "      <td>8.000000</td>\n",
       "      <td>8.000000</td>\n",
       "      <td>8.000000</td>\n",
       "      <td>8.000000</td>\n",
       "      <td>8.000000</td>\n",
       "      <td>8.000000</td>\n",
       "      <td>0.0</td>\n",
       "    </tr>\n",
       "    <tr>\n",
       "      <th>mean</th>\n",
       "      <td>131.125000</td>\n",
       "      <td>6015.125000</td>\n",
       "      <td>44641.250000</td>\n",
       "      <td>407.500000</td>\n",
       "      <td>10847.625000</td>\n",
       "      <td>17558.62500</td>\n",
       "      <td>0.561851</td>\n",
       "      <td>36014.25000</td>\n",
       "      <td>25971.625000</td>\n",
       "      <td>14348.875000</td>\n",
       "      <td>19138.875000</td>\n",
       "      <td>3528.500000</td>\n",
       "      <td>0.090173</td>\n",
       "      <td>33062.500000</td>\n",
       "      <td>21962.500000</td>\n",
       "      <td>43662.500000</td>\n",
       "      <td>11848.125000</td>\n",
       "      <td>20465.000000</td>\n",
       "      <td>7514.500000</td>\n",
       "      <td>NaN</td>\n",
       "    </tr>\n",
       "    <tr>\n",
       "      <th>std</th>\n",
       "      <td>45.091772</td>\n",
       "      <td>33.964004</td>\n",
       "      <td>33635.404025</td>\n",
       "      <td>364.553347</td>\n",
       "      <td>9008.699049</td>\n",
       "      <td>19965.85873</td>\n",
       "      <td>0.132075</td>\n",
       "      <td>26965.46051</td>\n",
       "      <td>21195.795162</td>\n",
       "      <td>9425.605179</td>\n",
       "      <td>16490.457184</td>\n",
       "      <td>2753.122902</td>\n",
       "      <td>0.010891</td>\n",
       "      <td>7223.164621</td>\n",
       "      <td>2228.348203</td>\n",
       "      <td>9491.189524</td>\n",
       "      <td>12132.734793</td>\n",
       "      <td>13143.376724</td>\n",
       "      <td>4988.230777</td>\n",
       "      <td>NaN</td>\n",
       "    </tr>\n",
       "    <tr>\n",
       "      <th>min</th>\n",
       "      <td>33.000000</td>\n",
       "      <td>6000.000000</td>\n",
       "      <td>3340.000000</td>\n",
       "      <td>30.000000</td>\n",
       "      <td>1970.000000</td>\n",
       "      <td>1370.00000</td>\n",
       "      <td>0.374356</td>\n",
       "      <td>2914.00000</td>\n",
       "      <td>2049.000000</td>\n",
       "      <td>1067.000000</td>\n",
       "      <td>1200.000000</td>\n",
       "      <td>286.000000</td>\n",
       "      <td>0.075960</td>\n",
       "      <td>27000.000000</td>\n",
       "      <td>19200.000000</td>\n",
       "      <td>35000.000000</td>\n",
       "      <td>693.000000</td>\n",
       "      <td>1714.000000</td>\n",
       "      <td>755.000000</td>\n",
       "      <td>NaN</td>\n",
       "    </tr>\n",
       "    <tr>\n",
       "      <th>25%</th>\n",
       "      <td>130.500000</td>\n",
       "      <td>6001.750000</td>\n",
       "      <td>16795.250000</td>\n",
       "      <td>169.500000</td>\n",
       "      <td>3776.250000</td>\n",
       "      <td>5026.75000</td>\n",
       "      <td>0.435982</td>\n",
       "      <td>13648.50000</td>\n",
       "      <td>9950.000000</td>\n",
       "      <td>6108.000000</td>\n",
       "      <td>7140.250000</td>\n",
       "      <td>1440.750000</td>\n",
       "      <td>0.082525</td>\n",
       "      <td>29750.000000</td>\n",
       "      <td>20550.000000</td>\n",
       "      <td>39575.000000</td>\n",
       "      <td>3923.250000</td>\n",
       "      <td>8439.000000</td>\n",
       "      <td>3399.500000</td>\n",
       "      <td>NaN</td>\n",
       "    </tr>\n",
       "    <tr>\n",
       "      <th>50%</th>\n",
       "      <td>148.500000</td>\n",
       "      <td>6003.500000</td>\n",
       "      <td>41005.000000</td>\n",
       "      <td>344.000000</td>\n",
       "      <td>7819.500000</td>\n",
       "      <td>9038.50000</td>\n",
       "      <td>0.607140</td>\n",
       "      <td>33799.00000</td>\n",
       "      <td>23802.000000</td>\n",
       "      <td>14406.000000</td>\n",
       "      <td>16315.500000</td>\n",
       "      <td>3379.000000</td>\n",
       "      <td>0.089464</td>\n",
       "      <td>30750.000000</td>\n",
       "      <td>22000.000000</td>\n",
       "      <td>41500.000000</td>\n",
       "      <td>7181.000000</td>\n",
       "      <td>23017.000000</td>\n",
       "      <td>7574.000000</td>\n",
       "      <td>NaN</td>\n",
       "    </tr>\n",
       "    <tr>\n",
       "      <th>75%</th>\n",
       "      <td>155.500000</td>\n",
       "      <td>6005.500000</td>\n",
       "      <td>64084.750000</td>\n",
       "      <td>470.000000</td>\n",
       "      <td>17337.250000</td>\n",
       "      <td>21664.75000</td>\n",
       "      <td>0.672024</td>\n",
       "      <td>50666.25000</td>\n",
       "      <td>32448.500000</td>\n",
       "      <td>23838.750000</td>\n",
       "      <td>24038.000000</td>\n",
       "      <td>4310.000000</td>\n",
       "      <td>0.098148</td>\n",
       "      <td>32750.000000</td>\n",
       "      <td>22975.000000</td>\n",
       "      <td>42750.000000</td>\n",
       "      <td>15512.000000</td>\n",
       "      <td>29770.750000</td>\n",
       "      <td>11271.000000</td>\n",
       "      <td>NaN</td>\n",
       "    </tr>\n",
       "    <tr>\n",
       "      <th>max</th>\n",
       "      <td>167.000000</td>\n",
       "      <td>6099.000000</td>\n",
       "      <td>103480.000000</td>\n",
       "      <td>1186.000000</td>\n",
       "      <td>24786.000000</td>\n",
       "      <td>49654.00000</td>\n",
       "      <td>0.697384</td>\n",
       "      <td>83483.00000</td>\n",
       "      <td>67448.000000</td>\n",
       "      <td>24943.000000</td>\n",
       "      <td>52243.000000</td>\n",
       "      <td>8947.000000</td>\n",
       "      <td>0.105772</td>\n",
       "      <td>50000.000000</td>\n",
       "      <td>25000.000000</td>\n",
       "      <td>66000.000000</td>\n",
       "      <td>37389.000000</td>\n",
       "      <td>38119.000000</td>\n",
       "      <td>14839.000000</td>\n",
       "      <td>NaN</td>\n",
       "    </tr>\n",
       "  </tbody>\n",
       "</table>\n",
       "</div>"
      ],
      "text/plain": [
       "             Rank   Major_code          Total  Sample_size           Men  \\\n",
       "count    8.000000     8.000000       8.000000     8.000000      8.000000   \n",
       "mean   131.125000  6015.125000   44641.250000   407.500000  10847.625000   \n",
       "std     45.091772    33.964004   33635.404025   364.553347   9008.699049   \n",
       "min     33.000000  6000.000000    3340.000000    30.000000   1970.000000   \n",
       "25%    130.500000  6001.750000   16795.250000   169.500000   3776.250000   \n",
       "50%    148.500000  6003.500000   41005.000000   344.000000   7819.500000   \n",
       "75%    155.500000  6005.500000   64084.750000   470.000000  17337.250000   \n",
       "max    167.000000  6099.000000  103480.000000  1186.000000  24786.000000   \n",
       "\n",
       "             Women  ShareWomen     Employed     Full_time     Part_time  \\\n",
       "count      8.00000    8.000000      8.00000      8.000000      8.000000   \n",
       "mean   17558.62500    0.561851  36014.25000  25971.625000  14348.875000   \n",
       "std    19965.85873    0.132075  26965.46051  21195.795162   9425.605179   \n",
       "min     1370.00000    0.374356   2914.00000   2049.000000   1067.000000   \n",
       "25%     5026.75000    0.435982  13648.50000   9950.000000   6108.000000   \n",
       "50%     9038.50000    0.607140  33799.00000  23802.000000  14406.000000   \n",
       "75%    21664.75000    0.672024  50666.25000  32448.500000  23838.750000   \n",
       "max    49654.00000    0.697384  83483.00000  67448.000000  24943.000000   \n",
       "\n",
       "       Full_time_year_round   Unemployed  Unemployment_rate        Median  \\\n",
       "count              8.000000     8.000000           8.000000      8.000000   \n",
       "mean           19138.875000  3528.500000           0.090173  33062.500000   \n",
       "std            16490.457184  2753.122902           0.010891   7223.164621   \n",
       "min             1200.000000   286.000000           0.075960  27000.000000   \n",
       "25%             7140.250000  1440.750000           0.082525  29750.000000   \n",
       "50%            16315.500000  3379.000000           0.089464  30750.000000   \n",
       "75%            24038.000000  4310.000000           0.098148  32750.000000   \n",
       "max            52243.000000  8947.000000           0.105772  50000.000000   \n",
       "\n",
       "              P25th         P75th  College_jobs  Non_college_jobs  \\\n",
       "count      8.000000      8.000000      8.000000          8.000000   \n",
       "mean   21962.500000  43662.500000  11848.125000      20465.000000   \n",
       "std     2228.348203   9491.189524  12132.734793      13143.376724   \n",
       "min    19200.000000  35000.000000    693.000000       1714.000000   \n",
       "25%    20550.000000  39575.000000   3923.250000       8439.000000   \n",
       "50%    22000.000000  41500.000000   7181.000000      23017.000000   \n",
       "75%    22975.000000  42750.000000  15512.000000      29770.750000   \n",
       "max    25000.000000  66000.000000  37389.000000      38119.000000   \n",
       "\n",
       "       Low_wage_jobs  Test_column  \n",
       "count       8.000000          0.0  \n",
       "mean     7514.500000          NaN  \n",
       "std      4988.230777          NaN  \n",
       "min       755.000000          NaN  \n",
       "25%      3399.500000          NaN  \n",
       "50%      7574.000000          NaN  \n",
       "75%     11271.000000          NaN  \n",
       "max     14839.000000          NaN  "
      ]
     },
     "execution_count": 50,
     "metadata": {},
     "output_type": "execute_result"
    }
   ],
   "source": [
    "df.describe()"
   ]
  },
  {
   "cell_type": "markdown",
   "metadata": {},
   "source": [
    "## We can also quickly do row/column operations in Pandas\n",
    "\n",
    "What we're typically interested in is the percentage of Employed people out of the Total number of people for a given major. We can do that easily with Pandas."
   ]
  },
  {
   "cell_type": "code",
   "execution_count": 52,
   "metadata": {
    "ExecuteTime": {
     "end_time": "2019-07-03T12:52:50.523330Z",
     "start_time": "2019-07-03T12:52:50.517602Z"
    }
   },
   "outputs": [
    {
     "data": {
      "text/plain": [
       "0    0.872455\n",
       "1    0.806755\n",
       "2    0.810944\n",
       "3    0.786074\n",
       "4    0.801706\n",
       "5    0.792000\n",
       "6    0.819226\n",
       "7    0.836204\n",
       "dtype: float64"
      ]
     },
     "execution_count": 52,
     "metadata": {},
     "output_type": "execute_result"
    }
   ],
   "source": [
    "#We can divide an entire column by another column\n",
    "df['Employed']/df['Total']"
   ]
  },
  {
   "cell_type": "markdown",
   "metadata": {},
   "source": [
    "What it does is divide each value in the `Employed` column by the value in the `Total` column that is in the same row. It does that for all of the rows simultaneously with just one line of code!\n",
    "\n",
    "If we want to save this column of data (which we will) we can just make up a new name and assign the output to our `dataframe`."
   ]
  },
  {
   "cell_type": "code",
   "execution_count": 53,
   "metadata": {
    "ExecuteTime": {
     "end_time": "2019-07-03T12:52:53.073816Z",
     "start_time": "2019-07-03T12:52:53.069917Z"
    }
   },
   "outputs": [],
   "source": [
    "#And now use this to add a new column to the dataframe\n",
    "df['Percent_Employed'] = df['Employed']/df['Total']"
   ]
  },
  {
   "cell_type": "markdown",
   "metadata": {},
   "source": [
    "And we can check that it worked below. I'm going to use the `head()` function to print the `dataframe`. `head()` will only print the number of rows given as the argument. It helps save space."
   ]
  },
  {
   "cell_type": "code",
   "execution_count": 54,
   "metadata": {
    "ExecuteTime": {
     "end_time": "2019-07-03T12:52:59.183502Z",
     "start_time": "2019-07-03T12:52:59.160400Z"
    }
   },
   "outputs": [
    {
     "data": {
      "text/html": [
       "<div>\n",
       "<style scoped>\n",
       "    .dataframe tbody tr th:only-of-type {\n",
       "        vertical-align: middle;\n",
       "    }\n",
       "\n",
       "    .dataframe tbody tr th {\n",
       "        vertical-align: top;\n",
       "    }\n",
       "\n",
       "    .dataframe thead th {\n",
       "        text-align: right;\n",
       "    }\n",
       "</style>\n",
       "<table border=\"1\" class=\"dataframe\">\n",
       "  <thead>\n",
       "    <tr style=\"text-align: right;\">\n",
       "      <th></th>\n",
       "      <th>Rank</th>\n",
       "      <th>Major_code</th>\n",
       "      <th>Major</th>\n",
       "      <th>Major_category</th>\n",
       "      <th>Total</th>\n",
       "      <th>Sample_size</th>\n",
       "      <th>Men</th>\n",
       "      <th>Women</th>\n",
       "      <th>ShareWomen</th>\n",
       "      <th>Employed</th>\n",
       "      <th>...</th>\n",
       "      <th>Unemployed</th>\n",
       "      <th>Unemployment_rate</th>\n",
       "      <th>Median</th>\n",
       "      <th>P25th</th>\n",
       "      <th>P75th</th>\n",
       "      <th>College_jobs</th>\n",
       "      <th>Non_college_jobs</th>\n",
       "      <th>Low_wage_jobs</th>\n",
       "      <th>Test_column</th>\n",
       "      <th>Percent_Employed</th>\n",
       "    </tr>\n",
       "  </thead>\n",
       "  <tbody>\n",
       "    <tr>\n",
       "      <th>0</th>\n",
       "      <td>33</td>\n",
       "      <td>6099</td>\n",
       "      <td>MISCELLANEOUS FINE ARTS</td>\n",
       "      <td>Arts</td>\n",
       "      <td>3340</td>\n",
       "      <td>30</td>\n",
       "      <td>1970</td>\n",
       "      <td>1370</td>\n",
       "      <td>0.410180</td>\n",
       "      <td>2914</td>\n",
       "      <td>...</td>\n",
       "      <td>286</td>\n",
       "      <td>0.089375</td>\n",
       "      <td>50000</td>\n",
       "      <td>25000</td>\n",
       "      <td>66000</td>\n",
       "      <td>693</td>\n",
       "      <td>1714</td>\n",
       "      <td>755</td>\n",
       "      <td>NaN</td>\n",
       "      <td>0.872455</td>\n",
       "    </tr>\n",
       "    <tr>\n",
       "      <th>1</th>\n",
       "      <td>96</td>\n",
       "      <td>6004</td>\n",
       "      <td>COMMERCIAL ART AND GRAPHIC DESIGN</td>\n",
       "      <td>Arts</td>\n",
       "      <td>103480</td>\n",
       "      <td>1186</td>\n",
       "      <td>8617</td>\n",
       "      <td>5156</td>\n",
       "      <td>0.374356</td>\n",
       "      <td>83483</td>\n",
       "      <td>...</td>\n",
       "      <td>8947</td>\n",
       "      <td>0.096798</td>\n",
       "      <td>35000</td>\n",
       "      <td>25000</td>\n",
       "      <td>45000</td>\n",
       "      <td>37389</td>\n",
       "      <td>38119</td>\n",
       "      <td>14839</td>\n",
       "      <td>NaN</td>\n",
       "      <td>0.806755</td>\n",
       "    </tr>\n",
       "  </tbody>\n",
       "</table>\n",
       "<p>2 rows × 23 columns</p>\n",
       "</div>"
      ],
      "text/plain": [
       "   Rank  Major_code                              Major Major_category   Total  \\\n",
       "0    33        6099            MISCELLANEOUS FINE ARTS           Arts    3340   \n",
       "1    96        6004  COMMERCIAL ART AND GRAPHIC DESIGN           Arts  103480   \n",
       "\n",
       "   Sample_size   Men  Women  ShareWomen  Employed  ...  Unemployed  \\\n",
       "0           30  1970   1370    0.410180      2914  ...         286   \n",
       "1         1186  8617   5156    0.374356     83483  ...        8947   \n",
       "\n",
       "   Unemployment_rate  Median  P25th  P75th  College_jobs  Non_college_jobs  \\\n",
       "0           0.089375   50000  25000  66000           693              1714   \n",
       "1           0.096798   35000  25000  45000         37389             38119   \n",
       "\n",
       "   Low_wage_jobs  Test_column  Percent_Employed  \n",
       "0            755          NaN          0.872455  \n",
       "1          14839          NaN          0.806755  \n",
       "\n",
       "[2 rows x 23 columns]"
      ]
     },
     "execution_count": 54,
     "metadata": {},
     "output_type": "execute_result"
    }
   ],
   "source": [
    "df.head(2)"
   ]
  },
  {
   "cell_type": "markdown",
   "metadata": {
    "collapsed": true
   },
   "source": [
    "We can perform complicated functions to calculate new columns too."
   ]
  },
  {
   "cell_type": "code",
   "execution_count": 55,
   "metadata": {
    "ExecuteTime": {
     "end_time": "2019-07-03T12:53:00.710864Z",
     "start_time": "2019-07-03T12:53:00.704444Z"
    }
   },
   "outputs": [
    {
     "data": {
      "text/plain": [
       "0      1489.201429\n",
       "1       761.285714\n",
       "2    254718.012857\n",
       "3    322887.365714\n",
       "4    203423.555714\n",
       "5     20476.851429\n",
       "6     32354.401429\n",
       "7    479408.230000\n",
       "dtype: float64"
      ]
     },
     "execution_count": 55,
     "metadata": {},
     "output_type": "execute_result"
    }
   ],
   "source": [
    "#I'm only doing this for show (this calculation doesn't make any sense)\n",
    "(df['College_jobs'] - df['Non_college_jobs']) ** 2 / 700"
   ]
  },
  {
   "cell_type": "markdown",
   "metadata": {},
   "source": [
    "We can do the same with rows, but it's very unlikely that we will have a situation like this that makes sense"
   ]
  },
  {
   "cell_type": "code",
   "execution_count": 56,
   "metadata": {
    "ExecuteTime": {
     "end_time": "2019-07-03T12:53:05.487041Z",
     "start_time": "2019-07-03T12:53:05.482058Z"
    }
   },
   "outputs": [
    {
     "data": {
      "text/plain": [
       "0.034905310063126624"
      ]
     },
     "execution_count": 56,
     "metadata": {},
     "output_type": "execute_result"
    }
   ],
   "source": [
    "#We can perform row level operations, making a new row\n",
    "#Notice how each column is represented?\n",
    "df.loc[0, 'Employed']/df.loc[1, 'Employed']"
   ]
  },
  {
   "cell_type": "markdown",
   "metadata": {},
   "source": [
    "## Querying - or the database mentality\n",
    "\n",
    "So far we've just directly accessed rows and columns in the `dataframe`, but there's actually another way to get data. We can do this by *querying* the data. We can make comparions with greater than, less than, or equal signs to get only the rows or columns of the dataframe that meet our criteria.\n",
    "\n",
    "So now let's only consider majors that have more than 20,000 students that graduated."
   ]
  },
  {
   "cell_type": "code",
   "execution_count": 58,
   "metadata": {
    "ExecuteTime": {
     "end_time": "2019-07-03T12:53:31.046751Z",
     "start_time": "2019-07-03T12:53:31.040476Z"
    }
   },
   "outputs": [
    {
     "data": {
      "text/plain": [
       "0    False\n",
       "1     True\n",
       "2     True\n",
       "3     True\n",
       "4     True\n",
       "5    False\n",
       "6    False\n",
       "7     True\n",
       "Name: Total, dtype: bool"
      ]
     },
     "execution_count": 58,
     "metadata": {},
     "output_type": "execute_result"
    }
   ],
   "source": [
    "df.Total > 20000"
   ]
  },
  {
   "cell_type": "code",
   "execution_count": 59,
   "metadata": {
    "ExecuteTime": {
     "end_time": "2019-07-03T12:53:41.635029Z",
     "start_time": "2019-07-03T12:53:41.610740Z"
    }
   },
   "outputs": [
    {
     "data": {
      "text/html": [
       "<div>\n",
       "<style scoped>\n",
       "    .dataframe tbody tr th:only-of-type {\n",
       "        vertical-align: middle;\n",
       "    }\n",
       "\n",
       "    .dataframe tbody tr th {\n",
       "        vertical-align: top;\n",
       "    }\n",
       "\n",
       "    .dataframe thead th {\n",
       "        text-align: right;\n",
       "    }\n",
       "</style>\n",
       "<table border=\"1\" class=\"dataframe\">\n",
       "  <thead>\n",
       "    <tr style=\"text-align: right;\">\n",
       "      <th></th>\n",
       "      <th>Rank</th>\n",
       "      <th>Major_code</th>\n",
       "      <th>Major</th>\n",
       "      <th>Major_category</th>\n",
       "      <th>Total</th>\n",
       "      <th>Sample_size</th>\n",
       "      <th>Men</th>\n",
       "      <th>Women</th>\n",
       "      <th>ShareWomen</th>\n",
       "      <th>Employed</th>\n",
       "      <th>...</th>\n",
       "      <th>Unemployed</th>\n",
       "      <th>Unemployment_rate</th>\n",
       "      <th>Median</th>\n",
       "      <th>P25th</th>\n",
       "      <th>P75th</th>\n",
       "      <th>College_jobs</th>\n",
       "      <th>Non_college_jobs</th>\n",
       "      <th>Low_wage_jobs</th>\n",
       "      <th>Test_column</th>\n",
       "      <th>Percent_Employed</th>\n",
       "    </tr>\n",
       "  </thead>\n",
       "  <tbody>\n",
       "    <tr>\n",
       "      <th>1</th>\n",
       "      <td>96</td>\n",
       "      <td>6004</td>\n",
       "      <td>COMMERCIAL ART AND GRAPHIC DESIGN</td>\n",
       "      <td>Arts</td>\n",
       "      <td>103480</td>\n",
       "      <td>1186</td>\n",
       "      <td>8617</td>\n",
       "      <td>5156</td>\n",
       "      <td>0.374356</td>\n",
       "      <td>83483</td>\n",
       "      <td>...</td>\n",
       "      <td>8947</td>\n",
       "      <td>0.096798</td>\n",
       "      <td>35000</td>\n",
       "      <td>25000</td>\n",
       "      <td>45000</td>\n",
       "      <td>37389</td>\n",
       "      <td>38119</td>\n",
       "      <td>14839</td>\n",
       "      <td>NaN</td>\n",
       "      <td>0.806755</td>\n",
       "    </tr>\n",
       "    <tr>\n",
       "      <th>2</th>\n",
       "      <td>142</td>\n",
       "      <td>6005</td>\n",
       "      <td>FILM VIDEO AND PHOTOGRAPHIC ARTS</td>\n",
       "      <td>Arts</td>\n",
       "      <td>38761</td>\n",
       "      <td>331</td>\n",
       "      <td>22339</td>\n",
       "      <td>49030</td>\n",
       "      <td>0.686993</td>\n",
       "      <td>31433</td>\n",
       "      <td>...</td>\n",
       "      <td>3718</td>\n",
       "      <td>0.105772</td>\n",
       "      <td>32000</td>\n",
       "      <td>22000</td>\n",
       "      <td>42000</td>\n",
       "      <td>7368</td>\n",
       "      <td>20721</td>\n",
       "      <td>5862</td>\n",
       "      <td>NaN</td>\n",
       "      <td>0.810944</td>\n",
       "    </tr>\n",
       "    <tr>\n",
       "      <th>3</th>\n",
       "      <td>147</td>\n",
       "      <td>6002</td>\n",
       "      <td>MUSIC</td>\n",
       "      <td>Arts</td>\n",
       "      <td>60633</td>\n",
       "      <td>419</td>\n",
       "      <td>15670</td>\n",
       "      <td>12543</td>\n",
       "      <td>0.444582</td>\n",
       "      <td>47662</td>\n",
       "      <td>...</td>\n",
       "      <td>3918</td>\n",
       "      <td>0.075960</td>\n",
       "      <td>31000</td>\n",
       "      <td>22300</td>\n",
       "      <td>42000</td>\n",
       "      <td>13752</td>\n",
       "      <td>28786</td>\n",
       "      <td>9286</td>\n",
       "      <td>NaN</td>\n",
       "      <td>0.786074</td>\n",
       "    </tr>\n",
       "    <tr>\n",
       "      <th>4</th>\n",
       "      <td>150</td>\n",
       "      <td>6000</td>\n",
       "      <td>FINE ARTS</td>\n",
       "      <td>Arts</td>\n",
       "      <td>74440</td>\n",
       "      <td>623</td>\n",
       "      <td>24786</td>\n",
       "      <td>49654</td>\n",
       "      <td>0.667034</td>\n",
       "      <td>59679</td>\n",
       "      <td>...</td>\n",
       "      <td>5486</td>\n",
       "      <td>0.084186</td>\n",
       "      <td>30500</td>\n",
       "      <td>21000</td>\n",
       "      <td>41000</td>\n",
       "      <td>20792</td>\n",
       "      <td>32725</td>\n",
       "      <td>11880</td>\n",
       "      <td>NaN</td>\n",
       "      <td>0.801706</td>\n",
       "    </tr>\n",
       "    <tr>\n",
       "      <th>7</th>\n",
       "      <td>167</td>\n",
       "      <td>6001</td>\n",
       "      <td>DRAMA AND THEATER ARTS</td>\n",
       "      <td>Arts</td>\n",
       "      <td>43249</td>\n",
       "      <td>357</td>\n",
       "      <td>7022</td>\n",
       "      <td>11931</td>\n",
       "      <td>0.629505</td>\n",
       "      <td>36165</td>\n",
       "      <td>...</td>\n",
       "      <td>3040</td>\n",
       "      <td>0.077541</td>\n",
       "      <td>27000</td>\n",
       "      <td>19200</td>\n",
       "      <td>35000</td>\n",
       "      <td>6994</td>\n",
       "      <td>25313</td>\n",
       "      <td>11068</td>\n",
       "      <td>NaN</td>\n",
       "      <td>0.836204</td>\n",
       "    </tr>\n",
       "  </tbody>\n",
       "</table>\n",
       "<p>5 rows × 23 columns</p>\n",
       "</div>"
      ],
      "text/plain": [
       "   Rank  Major_code                              Major Major_category   Total  \\\n",
       "1    96        6004  COMMERCIAL ART AND GRAPHIC DESIGN           Arts  103480   \n",
       "2   142        6005   FILM VIDEO AND PHOTOGRAPHIC ARTS           Arts   38761   \n",
       "3   147        6002                              MUSIC           Arts   60633   \n",
       "4   150        6000                          FINE ARTS           Arts   74440   \n",
       "7   167        6001             DRAMA AND THEATER ARTS           Arts   43249   \n",
       "\n",
       "   Sample_size    Men  Women  ShareWomen  Employed  ...  Unemployed  \\\n",
       "1         1186   8617   5156    0.374356     83483  ...        8947   \n",
       "2          331  22339  49030    0.686993     31433  ...        3718   \n",
       "3          419  15670  12543    0.444582     47662  ...        3918   \n",
       "4          623  24786  49654    0.667034     59679  ...        5486   \n",
       "7          357   7022  11931    0.629505     36165  ...        3040   \n",
       "\n",
       "   Unemployment_rate  Median  P25th  P75th  College_jobs  Non_college_jobs  \\\n",
       "1           0.096798   35000  25000  45000         37389             38119   \n",
       "2           0.105772   32000  22000  42000          7368             20721   \n",
       "3           0.075960   31000  22300  42000         13752             28786   \n",
       "4           0.084186   30500  21000  41000         20792             32725   \n",
       "7           0.077541   27000  19200  35000          6994             25313   \n",
       "\n",
       "   Low_wage_jobs  Test_column  Percent_Employed  \n",
       "1          14839          NaN          0.806755  \n",
       "2           5862          NaN          0.810944  \n",
       "3           9286          NaN          0.786074  \n",
       "4          11880          NaN          0.801706  \n",
       "7          11068          NaN          0.836204  \n",
       "\n",
       "[5 rows x 23 columns]"
      ]
     },
     "execution_count": 59,
     "metadata": {},
     "output_type": "execute_result"
    }
   ],
   "source": [
    "df[df.Total > 20000]"
   ]
  },
  {
   "cell_type": "markdown",
   "metadata": {},
   "source": [
    "We can see now that only the 5 rows that had more than 20,000 students were selected.\n",
    "\n",
    "But how does this really work?\n",
    "\n",
    "The greater than symbol doesn't need to be used just inside the `[]` and it isn't **actually** instructing the dataframe what to do directly. When we use an expression with the dataframe we are actually creating a **mask**"
   ]
  },
  {
   "cell_type": "code",
   "execution_count": 60,
   "metadata": {
    "ExecuteTime": {
     "end_time": "2019-07-03T12:53:44.959017Z",
     "start_time": "2019-07-03T12:53:44.952945Z"
    }
   },
   "outputs": [
    {
     "data": {
      "text/plain": [
       "0    False\n",
       "1     True\n",
       "2     True\n",
       "3     True\n",
       "4     True\n",
       "5    False\n",
       "6    False\n",
       "7     True\n",
       "Name: Total, dtype: bool"
      ]
     },
     "execution_count": 60,
     "metadata": {},
     "output_type": "execute_result"
    }
   ],
   "source": [
    "df.Total > 20000"
   ]
  },
  {
   "cell_type": "markdown",
   "metadata": {},
   "source": [
    "So what's going on is that on the column of interest it evaluates if the statement is `True` or `False` and then pipes that truth array into the dataframe. Then any rows that were `True` are kept."
   ]
  },
  {
   "cell_type": "code",
   "execution_count": 61,
   "metadata": {
    "ExecuteTime": {
     "end_time": "2019-07-03T12:53:48.207651Z",
     "start_time": "2019-07-03T12:53:48.182114Z"
    }
   },
   "outputs": [
    {
     "data": {
      "text/html": [
       "<div>\n",
       "<style scoped>\n",
       "    .dataframe tbody tr th:only-of-type {\n",
       "        vertical-align: middle;\n",
       "    }\n",
       "\n",
       "    .dataframe tbody tr th {\n",
       "        vertical-align: top;\n",
       "    }\n",
       "\n",
       "    .dataframe thead th {\n",
       "        text-align: right;\n",
       "    }\n",
       "</style>\n",
       "<table border=\"1\" class=\"dataframe\">\n",
       "  <thead>\n",
       "    <tr style=\"text-align: right;\">\n",
       "      <th></th>\n",
       "      <th>Rank</th>\n",
       "      <th>Major_code</th>\n",
       "      <th>Major</th>\n",
       "      <th>Major_category</th>\n",
       "      <th>Total</th>\n",
       "      <th>Sample_size</th>\n",
       "      <th>Men</th>\n",
       "      <th>Women</th>\n",
       "      <th>ShareWomen</th>\n",
       "      <th>Employed</th>\n",
       "      <th>...</th>\n",
       "      <th>Unemployed</th>\n",
       "      <th>Unemployment_rate</th>\n",
       "      <th>Median</th>\n",
       "      <th>P25th</th>\n",
       "      <th>P75th</th>\n",
       "      <th>College_jobs</th>\n",
       "      <th>Non_college_jobs</th>\n",
       "      <th>Low_wage_jobs</th>\n",
       "      <th>Test_column</th>\n",
       "      <th>Percent_Employed</th>\n",
       "    </tr>\n",
       "  </thead>\n",
       "  <tbody>\n",
       "    <tr>\n",
       "      <th>1</th>\n",
       "      <td>96</td>\n",
       "      <td>6004</td>\n",
       "      <td>COMMERCIAL ART AND GRAPHIC DESIGN</td>\n",
       "      <td>Arts</td>\n",
       "      <td>103480</td>\n",
       "      <td>1186</td>\n",
       "      <td>8617</td>\n",
       "      <td>5156</td>\n",
       "      <td>0.374356</td>\n",
       "      <td>83483</td>\n",
       "      <td>...</td>\n",
       "      <td>8947</td>\n",
       "      <td>0.096798</td>\n",
       "      <td>35000</td>\n",
       "      <td>25000</td>\n",
       "      <td>45000</td>\n",
       "      <td>37389</td>\n",
       "      <td>38119</td>\n",
       "      <td>14839</td>\n",
       "      <td>NaN</td>\n",
       "      <td>0.806755</td>\n",
       "    </tr>\n",
       "    <tr>\n",
       "      <th>2</th>\n",
       "      <td>142</td>\n",
       "      <td>6005</td>\n",
       "      <td>FILM VIDEO AND PHOTOGRAPHIC ARTS</td>\n",
       "      <td>Arts</td>\n",
       "      <td>38761</td>\n",
       "      <td>331</td>\n",
       "      <td>22339</td>\n",
       "      <td>49030</td>\n",
       "      <td>0.686993</td>\n",
       "      <td>31433</td>\n",
       "      <td>...</td>\n",
       "      <td>3718</td>\n",
       "      <td>0.105772</td>\n",
       "      <td>32000</td>\n",
       "      <td>22000</td>\n",
       "      <td>42000</td>\n",
       "      <td>7368</td>\n",
       "      <td>20721</td>\n",
       "      <td>5862</td>\n",
       "      <td>NaN</td>\n",
       "      <td>0.810944</td>\n",
       "    </tr>\n",
       "    <tr>\n",
       "      <th>3</th>\n",
       "      <td>147</td>\n",
       "      <td>6002</td>\n",
       "      <td>MUSIC</td>\n",
       "      <td>Arts</td>\n",
       "      <td>60633</td>\n",
       "      <td>419</td>\n",
       "      <td>15670</td>\n",
       "      <td>12543</td>\n",
       "      <td>0.444582</td>\n",
       "      <td>47662</td>\n",
       "      <td>...</td>\n",
       "      <td>3918</td>\n",
       "      <td>0.075960</td>\n",
       "      <td>31000</td>\n",
       "      <td>22300</td>\n",
       "      <td>42000</td>\n",
       "      <td>13752</td>\n",
       "      <td>28786</td>\n",
       "      <td>9286</td>\n",
       "      <td>NaN</td>\n",
       "      <td>0.786074</td>\n",
       "    </tr>\n",
       "    <tr>\n",
       "      <th>4</th>\n",
       "      <td>150</td>\n",
       "      <td>6000</td>\n",
       "      <td>FINE ARTS</td>\n",
       "      <td>Arts</td>\n",
       "      <td>74440</td>\n",
       "      <td>623</td>\n",
       "      <td>24786</td>\n",
       "      <td>49654</td>\n",
       "      <td>0.667034</td>\n",
       "      <td>59679</td>\n",
       "      <td>...</td>\n",
       "      <td>5486</td>\n",
       "      <td>0.084186</td>\n",
       "      <td>30500</td>\n",
       "      <td>21000</td>\n",
       "      <td>41000</td>\n",
       "      <td>20792</td>\n",
       "      <td>32725</td>\n",
       "      <td>11880</td>\n",
       "      <td>NaN</td>\n",
       "      <td>0.801706</td>\n",
       "    </tr>\n",
       "    <tr>\n",
       "      <th>7</th>\n",
       "      <td>167</td>\n",
       "      <td>6001</td>\n",
       "      <td>DRAMA AND THEATER ARTS</td>\n",
       "      <td>Arts</td>\n",
       "      <td>43249</td>\n",
       "      <td>357</td>\n",
       "      <td>7022</td>\n",
       "      <td>11931</td>\n",
       "      <td>0.629505</td>\n",
       "      <td>36165</td>\n",
       "      <td>...</td>\n",
       "      <td>3040</td>\n",
       "      <td>0.077541</td>\n",
       "      <td>27000</td>\n",
       "      <td>19200</td>\n",
       "      <td>35000</td>\n",
       "      <td>6994</td>\n",
       "      <td>25313</td>\n",
       "      <td>11068</td>\n",
       "      <td>NaN</td>\n",
       "      <td>0.836204</td>\n",
       "    </tr>\n",
       "  </tbody>\n",
       "</table>\n",
       "<p>5 rows × 23 columns</p>\n",
       "</div>"
      ],
      "text/plain": [
       "   Rank  Major_code                              Major Major_category   Total  \\\n",
       "1    96        6004  COMMERCIAL ART AND GRAPHIC DESIGN           Arts  103480   \n",
       "2   142        6005   FILM VIDEO AND PHOTOGRAPHIC ARTS           Arts   38761   \n",
       "3   147        6002                              MUSIC           Arts   60633   \n",
       "4   150        6000                          FINE ARTS           Arts   74440   \n",
       "7   167        6001             DRAMA AND THEATER ARTS           Arts   43249   \n",
       "\n",
       "   Sample_size    Men  Women  ShareWomen  Employed  ...  Unemployed  \\\n",
       "1         1186   8617   5156    0.374356     83483  ...        8947   \n",
       "2          331  22339  49030    0.686993     31433  ...        3718   \n",
       "3          419  15670  12543    0.444582     47662  ...        3918   \n",
       "4          623  24786  49654    0.667034     59679  ...        5486   \n",
       "7          357   7022  11931    0.629505     36165  ...        3040   \n",
       "\n",
       "   Unemployment_rate  Median  P25th  P75th  College_jobs  Non_college_jobs  \\\n",
       "1           0.096798   35000  25000  45000         37389             38119   \n",
       "2           0.105772   32000  22000  42000          7368             20721   \n",
       "3           0.075960   31000  22300  42000         13752             28786   \n",
       "4           0.084186   30500  21000  41000         20792             32725   \n",
       "7           0.077541   27000  19200  35000          6994             25313   \n",
       "\n",
       "   Low_wage_jobs  Test_column  Percent_Employed  \n",
       "1          14839          NaN          0.806755  \n",
       "2           5862          NaN          0.810944  \n",
       "3           9286          NaN          0.786074  \n",
       "4          11880          NaN          0.801706  \n",
       "7          11068          NaN          0.836204  \n",
       "\n",
       "[5 rows x 23 columns]"
      ]
     },
     "execution_count": 61,
     "metadata": {},
     "output_type": "execute_result"
    }
   ],
   "source": [
    "df[df.Total > 20000]"
   ]
  },
  {
   "cell_type": "markdown",
   "metadata": {},
   "source": [
    "Neat, huh?"
   ]
  },
  {
   "cell_type": "code",
   "execution_count": 62,
   "metadata": {
    "ExecuteTime": {
     "end_time": "2019-07-03T12:53:51.447121Z",
     "start_time": "2019-07-03T12:53:51.421083Z"
    }
   },
   "outputs": [
    {
     "data": {
      "text/html": [
       "<div>\n",
       "<style scoped>\n",
       "    .dataframe tbody tr th:only-of-type {\n",
       "        vertical-align: middle;\n",
       "    }\n",
       "\n",
       "    .dataframe tbody tr th {\n",
       "        vertical-align: top;\n",
       "    }\n",
       "\n",
       "    .dataframe thead th {\n",
       "        text-align: right;\n",
       "    }\n",
       "</style>\n",
       "<table border=\"1\" class=\"dataframe\">\n",
       "  <thead>\n",
       "    <tr style=\"text-align: right;\">\n",
       "      <th></th>\n",
       "      <th>Rank</th>\n",
       "      <th>Major_code</th>\n",
       "      <th>Major</th>\n",
       "      <th>Major_category</th>\n",
       "      <th>Total</th>\n",
       "      <th>Sample_size</th>\n",
       "      <th>Men</th>\n",
       "      <th>Women</th>\n",
       "      <th>ShareWomen</th>\n",
       "      <th>Employed</th>\n",
       "      <th>...</th>\n",
       "      <th>Unemployed</th>\n",
       "      <th>Unemployment_rate</th>\n",
       "      <th>Median</th>\n",
       "      <th>P25th</th>\n",
       "      <th>P75th</th>\n",
       "      <th>College_jobs</th>\n",
       "      <th>Non_college_jobs</th>\n",
       "      <th>Low_wage_jobs</th>\n",
       "      <th>Test_column</th>\n",
       "      <th>Percent_Employed</th>\n",
       "    </tr>\n",
       "  </thead>\n",
       "  <tbody>\n",
       "    <tr>\n",
       "      <th>0</th>\n",
       "      <td>33</td>\n",
       "      <td>6099</td>\n",
       "      <td>MISCELLANEOUS FINE ARTS</td>\n",
       "      <td>Arts</td>\n",
       "      <td>3340</td>\n",
       "      <td>30</td>\n",
       "      <td>1970</td>\n",
       "      <td>1370</td>\n",
       "      <td>0.410180</td>\n",
       "      <td>2914</td>\n",
       "      <td>...</td>\n",
       "      <td>286</td>\n",
       "      <td>0.089375</td>\n",
       "      <td>50000</td>\n",
       "      <td>25000</td>\n",
       "      <td>66000</td>\n",
       "      <td>693</td>\n",
       "      <td>1714</td>\n",
       "      <td>755</td>\n",
       "      <td>NaN</td>\n",
       "      <td>0.872455</td>\n",
       "    </tr>\n",
       "    <tr>\n",
       "      <th>1</th>\n",
       "      <td>96</td>\n",
       "      <td>6004</td>\n",
       "      <td>COMMERCIAL ART AND GRAPHIC DESIGN</td>\n",
       "      <td>Arts</td>\n",
       "      <td>103480</td>\n",
       "      <td>1186</td>\n",
       "      <td>8617</td>\n",
       "      <td>5156</td>\n",
       "      <td>0.374356</td>\n",
       "      <td>83483</td>\n",
       "      <td>...</td>\n",
       "      <td>8947</td>\n",
       "      <td>0.096798</td>\n",
       "      <td>35000</td>\n",
       "      <td>25000</td>\n",
       "      <td>45000</td>\n",
       "      <td>37389</td>\n",
       "      <td>38119</td>\n",
       "      <td>14839</td>\n",
       "      <td>NaN</td>\n",
       "      <td>0.806755</td>\n",
       "    </tr>\n",
       "    <tr>\n",
       "      <th>2</th>\n",
       "      <td>142</td>\n",
       "      <td>6005</td>\n",
       "      <td>FILM VIDEO AND PHOTOGRAPHIC ARTS</td>\n",
       "      <td>Arts</td>\n",
       "      <td>38761</td>\n",
       "      <td>331</td>\n",
       "      <td>22339</td>\n",
       "      <td>49030</td>\n",
       "      <td>0.686993</td>\n",
       "      <td>31433</td>\n",
       "      <td>...</td>\n",
       "      <td>3718</td>\n",
       "      <td>0.105772</td>\n",
       "      <td>32000</td>\n",
       "      <td>22000</td>\n",
       "      <td>42000</td>\n",
       "      <td>7368</td>\n",
       "      <td>20721</td>\n",
       "      <td>5862</td>\n",
       "      <td>NaN</td>\n",
       "      <td>0.810944</td>\n",
       "    </tr>\n",
       "    <tr>\n",
       "      <th>3</th>\n",
       "      <td>147</td>\n",
       "      <td>6002</td>\n",
       "      <td>MUSIC</td>\n",
       "      <td>Arts</td>\n",
       "      <td>60633</td>\n",
       "      <td>419</td>\n",
       "      <td>15670</td>\n",
       "      <td>12543</td>\n",
       "      <td>0.444582</td>\n",
       "      <td>47662</td>\n",
       "      <td>...</td>\n",
       "      <td>3918</td>\n",
       "      <td>0.075960</td>\n",
       "      <td>31000</td>\n",
       "      <td>22300</td>\n",
       "      <td>42000</td>\n",
       "      <td>13752</td>\n",
       "      <td>28786</td>\n",
       "      <td>9286</td>\n",
       "      <td>NaN</td>\n",
       "      <td>0.786074</td>\n",
       "    </tr>\n",
       "    <tr>\n",
       "      <th>4</th>\n",
       "      <td>150</td>\n",
       "      <td>6000</td>\n",
       "      <td>FINE ARTS</td>\n",
       "      <td>Arts</td>\n",
       "      <td>74440</td>\n",
       "      <td>623</td>\n",
       "      <td>24786</td>\n",
       "      <td>49654</td>\n",
       "      <td>0.667034</td>\n",
       "      <td>59679</td>\n",
       "      <td>...</td>\n",
       "      <td>5486</td>\n",
       "      <td>0.084186</td>\n",
       "      <td>30500</td>\n",
       "      <td>21000</td>\n",
       "      <td>41000</td>\n",
       "      <td>20792</td>\n",
       "      <td>32725</td>\n",
       "      <td>11880</td>\n",
       "      <td>NaN</td>\n",
       "      <td>0.801706</td>\n",
       "    </tr>\n",
       "    <tr>\n",
       "      <th>5</th>\n",
       "      <td>154</td>\n",
       "      <td>6003</td>\n",
       "      <td>VISUAL AND PERFORMING ARTS</td>\n",
       "      <td>Arts</td>\n",
       "      <td>16250</td>\n",
       "      <td>132</td>\n",
       "      <td>2013</td>\n",
       "      <td>4639</td>\n",
       "      <td>0.697384</td>\n",
       "      <td>12870</td>\n",
       "      <td>...</td>\n",
       "      <td>1465</td>\n",
       "      <td>0.102197</td>\n",
       "      <td>30000</td>\n",
       "      <td>22000</td>\n",
       "      <td>40000</td>\n",
       "      <td>3849</td>\n",
       "      <td>7635</td>\n",
       "      <td>2840</td>\n",
       "      <td>NaN</td>\n",
       "      <td>0.792000</td>\n",
       "    </tr>\n",
       "    <tr>\n",
       "      <th>6</th>\n",
       "      <td>160</td>\n",
       "      <td>6007</td>\n",
       "      <td>STUDIO ARTS</td>\n",
       "      <td>Arts</td>\n",
       "      <td>16977</td>\n",
       "      <td>182</td>\n",
       "      <td>4364</td>\n",
       "      <td>6146</td>\n",
       "      <td>0.584776</td>\n",
       "      <td>13908</td>\n",
       "      <td>...</td>\n",
       "      <td>1368</td>\n",
       "      <td>0.089552</td>\n",
       "      <td>29000</td>\n",
       "      <td>19200</td>\n",
       "      <td>38300</td>\n",
       "      <td>3948</td>\n",
       "      <td>8707</td>\n",
       "      <td>3586</td>\n",
       "      <td>NaN</td>\n",
       "      <td>0.819226</td>\n",
       "    </tr>\n",
       "    <tr>\n",
       "      <th>7</th>\n",
       "      <td>167</td>\n",
       "      <td>6001</td>\n",
       "      <td>DRAMA AND THEATER ARTS</td>\n",
       "      <td>Arts</td>\n",
       "      <td>43249</td>\n",
       "      <td>357</td>\n",
       "      <td>7022</td>\n",
       "      <td>11931</td>\n",
       "      <td>0.629505</td>\n",
       "      <td>36165</td>\n",
       "      <td>...</td>\n",
       "      <td>3040</td>\n",
       "      <td>0.077541</td>\n",
       "      <td>27000</td>\n",
       "      <td>19200</td>\n",
       "      <td>35000</td>\n",
       "      <td>6994</td>\n",
       "      <td>25313</td>\n",
       "      <td>11068</td>\n",
       "      <td>NaN</td>\n",
       "      <td>0.836204</td>\n",
       "    </tr>\n",
       "  </tbody>\n",
       "</table>\n",
       "<p>8 rows × 23 columns</p>\n",
       "</div>"
      ],
      "text/plain": [
       "   Rank  Major_code                              Major Major_category   Total  \\\n",
       "0    33        6099            MISCELLANEOUS FINE ARTS           Arts    3340   \n",
       "1    96        6004  COMMERCIAL ART AND GRAPHIC DESIGN           Arts  103480   \n",
       "2   142        6005   FILM VIDEO AND PHOTOGRAPHIC ARTS           Arts   38761   \n",
       "3   147        6002                              MUSIC           Arts   60633   \n",
       "4   150        6000                          FINE ARTS           Arts   74440   \n",
       "5   154        6003         VISUAL AND PERFORMING ARTS           Arts   16250   \n",
       "6   160        6007                        STUDIO ARTS           Arts   16977   \n",
       "7   167        6001             DRAMA AND THEATER ARTS           Arts   43249   \n",
       "\n",
       "   Sample_size    Men  Women  ShareWomen  Employed  ...  Unemployed  \\\n",
       "0           30   1970   1370    0.410180      2914  ...         286   \n",
       "1         1186   8617   5156    0.374356     83483  ...        8947   \n",
       "2          331  22339  49030    0.686993     31433  ...        3718   \n",
       "3          419  15670  12543    0.444582     47662  ...        3918   \n",
       "4          623  24786  49654    0.667034     59679  ...        5486   \n",
       "5          132   2013   4639    0.697384     12870  ...        1465   \n",
       "6          182   4364   6146    0.584776     13908  ...        1368   \n",
       "7          357   7022  11931    0.629505     36165  ...        3040   \n",
       "\n",
       "   Unemployment_rate  Median  P25th  P75th  College_jobs  Non_college_jobs  \\\n",
       "0           0.089375   50000  25000  66000           693              1714   \n",
       "1           0.096798   35000  25000  45000         37389             38119   \n",
       "2           0.105772   32000  22000  42000          7368             20721   \n",
       "3           0.075960   31000  22300  42000         13752             28786   \n",
       "4           0.084186   30500  21000  41000         20792             32725   \n",
       "5           0.102197   30000  22000  40000          3849              7635   \n",
       "6           0.089552   29000  19200  38300          3948              8707   \n",
       "7           0.077541   27000  19200  35000          6994             25313   \n",
       "\n",
       "   Low_wage_jobs  Test_column  Percent_Employed  \n",
       "0            755          NaN          0.872455  \n",
       "1          14839          NaN          0.806755  \n",
       "2           5862          NaN          0.810944  \n",
       "3           9286          NaN          0.786074  \n",
       "4          11880          NaN          0.801706  \n",
       "5           2840          NaN          0.792000  \n",
       "6           3586          NaN          0.819226  \n",
       "7          11068          NaN          0.836204  \n",
       "\n",
       "[8 rows x 23 columns]"
      ]
     },
     "execution_count": 62,
     "metadata": {},
     "output_type": "execute_result"
    }
   ],
   "source": [
    "df"
   ]
  },
  {
   "cell_type": "markdown",
   "metadata": {},
   "source": [
    "We can chain selection operators off of the query also if we want to know a bit more about the resulting column"
   ]
  },
  {
   "cell_type": "code",
   "execution_count": 63,
   "metadata": {
    "ExecuteTime": {
     "end_time": "2019-07-03T12:54:08.485782Z",
     "start_time": "2019-07-03T12:54:08.479732Z"
    }
   },
   "outputs": [
    {
     "data": {
      "text/plain": [
       "0.0880513834"
      ]
     },
     "execution_count": 63,
     "metadata": {},
     "output_type": "execute_result"
    }
   ],
   "source": [
    "df[df.Employed > 20000].Unemployment_rate.mean()"
   ]
  },
  {
   "cell_type": "markdown",
   "metadata": {},
   "source": [
    "We can use more than one criterion to select rows in our `dataframe`. The syntax for this is very \"un-pythonic\", but it's a very useful way to get just the part of the data that you are interested in. To do that we have to use this syntax:\n",
    "\n",
    "`df[(first expression) & (second expression) | (third expression) ...]`\n",
    "\n",
    "Each expression has to be enclosed in parentheses.\n",
    "\n",
    "Expressions can be chained with an `and` statement, which must be represented as `&`.\n",
    "\n",
    "Alternatively you can chain expressions with an `or` statement, which must be represented as `|`.\n",
    "\n",
    "You can have as many statements as you want."
   ]
  },
  {
   "cell_type": "code",
   "execution_count": 64,
   "metadata": {
    "ExecuteTime": {
     "end_time": "2019-07-03T12:54:19.688091Z",
     "start_time": "2019-07-03T12:54:19.662231Z"
    }
   },
   "outputs": [
    {
     "data": {
      "text/html": [
       "<div>\n",
       "<style scoped>\n",
       "    .dataframe tbody tr th:only-of-type {\n",
       "        vertical-align: middle;\n",
       "    }\n",
       "\n",
       "    .dataframe tbody tr th {\n",
       "        vertical-align: top;\n",
       "    }\n",
       "\n",
       "    .dataframe thead th {\n",
       "        text-align: right;\n",
       "    }\n",
       "</style>\n",
       "<table border=\"1\" class=\"dataframe\">\n",
       "  <thead>\n",
       "    <tr style=\"text-align: right;\">\n",
       "      <th></th>\n",
       "      <th>Rank</th>\n",
       "      <th>Major_code</th>\n",
       "      <th>Major</th>\n",
       "      <th>Major_category</th>\n",
       "      <th>Total</th>\n",
       "      <th>Sample_size</th>\n",
       "      <th>Men</th>\n",
       "      <th>Women</th>\n",
       "      <th>ShareWomen</th>\n",
       "      <th>Employed</th>\n",
       "      <th>...</th>\n",
       "      <th>Unemployed</th>\n",
       "      <th>Unemployment_rate</th>\n",
       "      <th>Median</th>\n",
       "      <th>P25th</th>\n",
       "      <th>P75th</th>\n",
       "      <th>College_jobs</th>\n",
       "      <th>Non_college_jobs</th>\n",
       "      <th>Low_wage_jobs</th>\n",
       "      <th>Test_column</th>\n",
       "      <th>Percent_Employed</th>\n",
       "    </tr>\n",
       "  </thead>\n",
       "  <tbody>\n",
       "    <tr>\n",
       "      <th>2</th>\n",
       "      <td>142</td>\n",
       "      <td>6005</td>\n",
       "      <td>FILM VIDEO AND PHOTOGRAPHIC ARTS</td>\n",
       "      <td>Arts</td>\n",
       "      <td>38761</td>\n",
       "      <td>331</td>\n",
       "      <td>22339</td>\n",
       "      <td>49030</td>\n",
       "      <td>0.686993</td>\n",
       "      <td>31433</td>\n",
       "      <td>...</td>\n",
       "      <td>3718</td>\n",
       "      <td>0.105772</td>\n",
       "      <td>32000</td>\n",
       "      <td>22000</td>\n",
       "      <td>42000</td>\n",
       "      <td>7368</td>\n",
       "      <td>20721</td>\n",
       "      <td>5862</td>\n",
       "      <td>NaN</td>\n",
       "      <td>0.810944</td>\n",
       "    </tr>\n",
       "    <tr>\n",
       "      <th>4</th>\n",
       "      <td>150</td>\n",
       "      <td>6000</td>\n",
       "      <td>FINE ARTS</td>\n",
       "      <td>Arts</td>\n",
       "      <td>74440</td>\n",
       "      <td>623</td>\n",
       "      <td>24786</td>\n",
       "      <td>49654</td>\n",
       "      <td>0.667034</td>\n",
       "      <td>59679</td>\n",
       "      <td>...</td>\n",
       "      <td>5486</td>\n",
       "      <td>0.084186</td>\n",
       "      <td>30500</td>\n",
       "      <td>21000</td>\n",
       "      <td>41000</td>\n",
       "      <td>20792</td>\n",
       "      <td>32725</td>\n",
       "      <td>11880</td>\n",
       "      <td>NaN</td>\n",
       "      <td>0.801706</td>\n",
       "    </tr>\n",
       "    <tr>\n",
       "      <th>7</th>\n",
       "      <td>167</td>\n",
       "      <td>6001</td>\n",
       "      <td>DRAMA AND THEATER ARTS</td>\n",
       "      <td>Arts</td>\n",
       "      <td>43249</td>\n",
       "      <td>357</td>\n",
       "      <td>7022</td>\n",
       "      <td>11931</td>\n",
       "      <td>0.629505</td>\n",
       "      <td>36165</td>\n",
       "      <td>...</td>\n",
       "      <td>3040</td>\n",
       "      <td>0.077541</td>\n",
       "      <td>27000</td>\n",
       "      <td>19200</td>\n",
       "      <td>35000</td>\n",
       "      <td>6994</td>\n",
       "      <td>25313</td>\n",
       "      <td>11068</td>\n",
       "      <td>NaN</td>\n",
       "      <td>0.836204</td>\n",
       "    </tr>\n",
       "  </tbody>\n",
       "</table>\n",
       "<p>3 rows × 23 columns</p>\n",
       "</div>"
      ],
      "text/plain": [
       "   Rank  Major_code                             Major Major_category  Total  \\\n",
       "2   142        6005  FILM VIDEO AND PHOTOGRAPHIC ARTS           Arts  38761   \n",
       "4   150        6000                         FINE ARTS           Arts  74440   \n",
       "7   167        6001            DRAMA AND THEATER ARTS           Arts  43249   \n",
       "\n",
       "   Sample_size    Men  Women  ShareWomen  Employed  ...  Unemployed  \\\n",
       "2          331  22339  49030    0.686993     31433  ...        3718   \n",
       "4          623  24786  49654    0.667034     59679  ...        5486   \n",
       "7          357   7022  11931    0.629505     36165  ...        3040   \n",
       "\n",
       "   Unemployment_rate  Median  P25th  P75th  College_jobs  Non_college_jobs  \\\n",
       "2           0.105772   32000  22000  42000          7368             20721   \n",
       "4           0.084186   30500  21000  41000         20792             32725   \n",
       "7           0.077541   27000  19200  35000          6994             25313   \n",
       "\n",
       "   Low_wage_jobs  Test_column  Percent_Employed  \n",
       "2           5862          NaN          0.810944  \n",
       "4          11880          NaN          0.801706  \n",
       "7          11068          NaN          0.836204  \n",
       "\n",
       "[3 rows x 23 columns]"
      ]
     },
     "execution_count": 64,
     "metadata": {},
     "output_type": "execute_result"
    }
   ],
   "source": [
    "df[(df.Total > 20000) & (df.ShareWomen > 0.50)]"
   ]
  },
  {
   "cell_type": "markdown",
   "metadata": {},
   "source": [
    "And just for fun I'll demonstrate the same statement with the `|` operator"
   ]
  },
  {
   "cell_type": "code",
   "execution_count": 65,
   "metadata": {
    "ExecuteTime": {
     "end_time": "2019-07-03T12:54:22.189927Z",
     "start_time": "2019-07-03T12:54:22.162944Z"
    }
   },
   "outputs": [
    {
     "data": {
      "text/html": [
       "<div>\n",
       "<style scoped>\n",
       "    .dataframe tbody tr th:only-of-type {\n",
       "        vertical-align: middle;\n",
       "    }\n",
       "\n",
       "    .dataframe tbody tr th {\n",
       "        vertical-align: top;\n",
       "    }\n",
       "\n",
       "    .dataframe thead th {\n",
       "        text-align: right;\n",
       "    }\n",
       "</style>\n",
       "<table border=\"1\" class=\"dataframe\">\n",
       "  <thead>\n",
       "    <tr style=\"text-align: right;\">\n",
       "      <th></th>\n",
       "      <th>Rank</th>\n",
       "      <th>Major_code</th>\n",
       "      <th>Major</th>\n",
       "      <th>Major_category</th>\n",
       "      <th>Total</th>\n",
       "      <th>Sample_size</th>\n",
       "      <th>Men</th>\n",
       "      <th>Women</th>\n",
       "      <th>ShareWomen</th>\n",
       "      <th>Employed</th>\n",
       "      <th>...</th>\n",
       "      <th>Unemployed</th>\n",
       "      <th>Unemployment_rate</th>\n",
       "      <th>Median</th>\n",
       "      <th>P25th</th>\n",
       "      <th>P75th</th>\n",
       "      <th>College_jobs</th>\n",
       "      <th>Non_college_jobs</th>\n",
       "      <th>Low_wage_jobs</th>\n",
       "      <th>Test_column</th>\n",
       "      <th>Percent_Employed</th>\n",
       "    </tr>\n",
       "  </thead>\n",
       "  <tbody>\n",
       "    <tr>\n",
       "      <th>1</th>\n",
       "      <td>96</td>\n",
       "      <td>6004</td>\n",
       "      <td>COMMERCIAL ART AND GRAPHIC DESIGN</td>\n",
       "      <td>Arts</td>\n",
       "      <td>103480</td>\n",
       "      <td>1186</td>\n",
       "      <td>8617</td>\n",
       "      <td>5156</td>\n",
       "      <td>0.374356</td>\n",
       "      <td>83483</td>\n",
       "      <td>...</td>\n",
       "      <td>8947</td>\n",
       "      <td>0.096798</td>\n",
       "      <td>35000</td>\n",
       "      <td>25000</td>\n",
       "      <td>45000</td>\n",
       "      <td>37389</td>\n",
       "      <td>38119</td>\n",
       "      <td>14839</td>\n",
       "      <td>NaN</td>\n",
       "      <td>0.806755</td>\n",
       "    </tr>\n",
       "    <tr>\n",
       "      <th>2</th>\n",
       "      <td>142</td>\n",
       "      <td>6005</td>\n",
       "      <td>FILM VIDEO AND PHOTOGRAPHIC ARTS</td>\n",
       "      <td>Arts</td>\n",
       "      <td>38761</td>\n",
       "      <td>331</td>\n",
       "      <td>22339</td>\n",
       "      <td>49030</td>\n",
       "      <td>0.686993</td>\n",
       "      <td>31433</td>\n",
       "      <td>...</td>\n",
       "      <td>3718</td>\n",
       "      <td>0.105772</td>\n",
       "      <td>32000</td>\n",
       "      <td>22000</td>\n",
       "      <td>42000</td>\n",
       "      <td>7368</td>\n",
       "      <td>20721</td>\n",
       "      <td>5862</td>\n",
       "      <td>NaN</td>\n",
       "      <td>0.810944</td>\n",
       "    </tr>\n",
       "    <tr>\n",
       "      <th>3</th>\n",
       "      <td>147</td>\n",
       "      <td>6002</td>\n",
       "      <td>MUSIC</td>\n",
       "      <td>Arts</td>\n",
       "      <td>60633</td>\n",
       "      <td>419</td>\n",
       "      <td>15670</td>\n",
       "      <td>12543</td>\n",
       "      <td>0.444582</td>\n",
       "      <td>47662</td>\n",
       "      <td>...</td>\n",
       "      <td>3918</td>\n",
       "      <td>0.075960</td>\n",
       "      <td>31000</td>\n",
       "      <td>22300</td>\n",
       "      <td>42000</td>\n",
       "      <td>13752</td>\n",
       "      <td>28786</td>\n",
       "      <td>9286</td>\n",
       "      <td>NaN</td>\n",
       "      <td>0.786074</td>\n",
       "    </tr>\n",
       "    <tr>\n",
       "      <th>4</th>\n",
       "      <td>150</td>\n",
       "      <td>6000</td>\n",
       "      <td>FINE ARTS</td>\n",
       "      <td>Arts</td>\n",
       "      <td>74440</td>\n",
       "      <td>623</td>\n",
       "      <td>24786</td>\n",
       "      <td>49654</td>\n",
       "      <td>0.667034</td>\n",
       "      <td>59679</td>\n",
       "      <td>...</td>\n",
       "      <td>5486</td>\n",
       "      <td>0.084186</td>\n",
       "      <td>30500</td>\n",
       "      <td>21000</td>\n",
       "      <td>41000</td>\n",
       "      <td>20792</td>\n",
       "      <td>32725</td>\n",
       "      <td>11880</td>\n",
       "      <td>NaN</td>\n",
       "      <td>0.801706</td>\n",
       "    </tr>\n",
       "    <tr>\n",
       "      <th>5</th>\n",
       "      <td>154</td>\n",
       "      <td>6003</td>\n",
       "      <td>VISUAL AND PERFORMING ARTS</td>\n",
       "      <td>Arts</td>\n",
       "      <td>16250</td>\n",
       "      <td>132</td>\n",
       "      <td>2013</td>\n",
       "      <td>4639</td>\n",
       "      <td>0.697384</td>\n",
       "      <td>12870</td>\n",
       "      <td>...</td>\n",
       "      <td>1465</td>\n",
       "      <td>0.102197</td>\n",
       "      <td>30000</td>\n",
       "      <td>22000</td>\n",
       "      <td>40000</td>\n",
       "      <td>3849</td>\n",
       "      <td>7635</td>\n",
       "      <td>2840</td>\n",
       "      <td>NaN</td>\n",
       "      <td>0.792000</td>\n",
       "    </tr>\n",
       "    <tr>\n",
       "      <th>6</th>\n",
       "      <td>160</td>\n",
       "      <td>6007</td>\n",
       "      <td>STUDIO ARTS</td>\n",
       "      <td>Arts</td>\n",
       "      <td>16977</td>\n",
       "      <td>182</td>\n",
       "      <td>4364</td>\n",
       "      <td>6146</td>\n",
       "      <td>0.584776</td>\n",
       "      <td>13908</td>\n",
       "      <td>...</td>\n",
       "      <td>1368</td>\n",
       "      <td>0.089552</td>\n",
       "      <td>29000</td>\n",
       "      <td>19200</td>\n",
       "      <td>38300</td>\n",
       "      <td>3948</td>\n",
       "      <td>8707</td>\n",
       "      <td>3586</td>\n",
       "      <td>NaN</td>\n",
       "      <td>0.819226</td>\n",
       "    </tr>\n",
       "    <tr>\n",
       "      <th>7</th>\n",
       "      <td>167</td>\n",
       "      <td>6001</td>\n",
       "      <td>DRAMA AND THEATER ARTS</td>\n",
       "      <td>Arts</td>\n",
       "      <td>43249</td>\n",
       "      <td>357</td>\n",
       "      <td>7022</td>\n",
       "      <td>11931</td>\n",
       "      <td>0.629505</td>\n",
       "      <td>36165</td>\n",
       "      <td>...</td>\n",
       "      <td>3040</td>\n",
       "      <td>0.077541</td>\n",
       "      <td>27000</td>\n",
       "      <td>19200</td>\n",
       "      <td>35000</td>\n",
       "      <td>6994</td>\n",
       "      <td>25313</td>\n",
       "      <td>11068</td>\n",
       "      <td>NaN</td>\n",
       "      <td>0.836204</td>\n",
       "    </tr>\n",
       "  </tbody>\n",
       "</table>\n",
       "<p>7 rows × 23 columns</p>\n",
       "</div>"
      ],
      "text/plain": [
       "   Rank  Major_code                              Major Major_category   Total  \\\n",
       "1    96        6004  COMMERCIAL ART AND GRAPHIC DESIGN           Arts  103480   \n",
       "2   142        6005   FILM VIDEO AND PHOTOGRAPHIC ARTS           Arts   38761   \n",
       "3   147        6002                              MUSIC           Arts   60633   \n",
       "4   150        6000                          FINE ARTS           Arts   74440   \n",
       "5   154        6003         VISUAL AND PERFORMING ARTS           Arts   16250   \n",
       "6   160        6007                        STUDIO ARTS           Arts   16977   \n",
       "7   167        6001             DRAMA AND THEATER ARTS           Arts   43249   \n",
       "\n",
       "   Sample_size    Men  Women  ShareWomen  Employed  ...  Unemployed  \\\n",
       "1         1186   8617   5156    0.374356     83483  ...        8947   \n",
       "2          331  22339  49030    0.686993     31433  ...        3718   \n",
       "3          419  15670  12543    0.444582     47662  ...        3918   \n",
       "4          623  24786  49654    0.667034     59679  ...        5486   \n",
       "5          132   2013   4639    0.697384     12870  ...        1465   \n",
       "6          182   4364   6146    0.584776     13908  ...        1368   \n",
       "7          357   7022  11931    0.629505     36165  ...        3040   \n",
       "\n",
       "   Unemployment_rate  Median  P25th  P75th  College_jobs  Non_college_jobs  \\\n",
       "1           0.096798   35000  25000  45000         37389             38119   \n",
       "2           0.105772   32000  22000  42000          7368             20721   \n",
       "3           0.075960   31000  22300  42000         13752             28786   \n",
       "4           0.084186   30500  21000  41000         20792             32725   \n",
       "5           0.102197   30000  22000  40000          3849              7635   \n",
       "6           0.089552   29000  19200  38300          3948              8707   \n",
       "7           0.077541   27000  19200  35000          6994             25313   \n",
       "\n",
       "   Low_wage_jobs  Test_column  Percent_Employed  \n",
       "1          14839          NaN          0.806755  \n",
       "2           5862          NaN          0.810944  \n",
       "3           9286          NaN          0.786074  \n",
       "4          11880          NaN          0.801706  \n",
       "5           2840          NaN          0.792000  \n",
       "6           3586          NaN          0.819226  \n",
       "7          11068          NaN          0.836204  \n",
       "\n",
       "[7 rows x 23 columns]"
      ]
     },
     "execution_count": 65,
     "metadata": {},
     "output_type": "execute_result"
    }
   ],
   "source": [
    "df[(df.Total > 20000) | (df.ShareWomen > 0.50)]"
   ]
  },
  {
   "cell_type": "markdown",
   "metadata": {},
   "source": [
    "So you can see here that we now have 7 of the 8 majors printing. Only one major (Miscellaneous fine arts) does not have either more than 20,000 students that have graduated recently or a Share of Women in the major greater than 50%."
   ]
  },
  {
   "cell_type": "markdown",
   "metadata": {},
   "source": [
    "And with that you've seen the biggest conceptual shift between working with Pandas and analyzing data with raw Python.\n",
    "\n",
    "When you directly program code to work with data, you tell it what to do, step by step. We would go through each value and see if it met our conditions like this:\n",
    "\n",
    "    for total_students in total:\n",
    "        if total_students > 20000:\n",
    "            #Continue with code\n",
    "            \n",
    "We're basically writing a procedure for how things should be done. It's very readable and, if we keep our statements separated, it's very easy to debug.\n",
    "\n",
    "Pandas doesn't work like that. You don't tell it **what to do** really, you tell it **what you want** and it figures out how to get it to you. \n",
    "\n",
    "For someone that's been doing data analysis without Pandas or heavily relying on SQL this is an unsettling shift. That unsettling feeling isn't unwarranted, it's a tough concept to get used to and 'hiding' the mechanics of what is going on can easily lead to errors (especially when you try to execute a complicated statement right away). \n",
    "\n",
    "The worst part is that in a lot of these cases, Pandas will dutifully execute the statement you asked for and not provide an error (since technically there wasn't an error, just a gap in translating what you wanted/how you wanted the data handled to the machine). \n",
    "\n",
    "My advice though is to start slowly. IPython Notebook changes everything when it comes to learning complicated packages, making it possible to both learn a package and, whenever you start a new project, your data.\n",
    "\n",
    "Even with these hiccups, which is more related to this style of analysis than the library, Pandas has some amazing features that make it really worth using."
   ]
  },
  {
   "cell_type": "markdown",
   "metadata": {},
   "source": [
    "# Dates - the magical transformation\n",
    "\n",
    "We talked earlier about how Pandas automagically converts data types when reading a file in. One of the best automagic features is Pandas' ability to handle time. To show you how amazing this is, I'll also teach a bit about how we would handle time without using Pandas.\n",
    "\n",
    "Typically we would use the `datetime` library to handle time in regular code. `datetime` is a real workhorse of a library (and you'll still need to use it), but it can be a bit unfriendly.\n",
    "\n",
    "One unfriendly bit is that the module we use most has the exact same name as the package itself. Make sure to pay attention to code online to see if they are importing `datetime` the package or `datetime` the module!\n",
    "\n",
    "We're going to import the package so that we can access all of the methods."
   ]
  },
  {
   "cell_type": "code",
   "execution_count": 66,
   "metadata": {
    "ExecuteTime": {
     "end_time": "2019-07-03T12:54:26.432864Z",
     "start_time": "2019-07-03T12:54:26.428238Z"
    }
   },
   "outputs": [
    {
     "data": {
      "text/plain": [
       "datetime.date(2019, 7, 3)"
      ]
     },
     "execution_count": 66,
     "metadata": {},
     "output_type": "execute_result"
    }
   ],
   "source": [
    "import datetime\n",
    "\n",
    "datetime.date.today()"
   ]
  },
  {
   "cell_type": "markdown",
   "metadata": {},
   "source": [
    "If we want just the `date` we can use the `date` module in datetime.\n",
    "\n",
    "But typically most people care about what time it is too. To get both the date and the time, we must use the `datetime` module"
   ]
  },
  {
   "cell_type": "code",
   "execution_count": 67,
   "metadata": {
    "ExecuteTime": {
     "end_time": "2019-07-03T12:54:28.716712Z",
     "start_time": "2019-07-03T12:54:28.712316Z"
    }
   },
   "outputs": [
    {
     "data": {
      "text/plain": [
       "datetime.datetime(2019, 7, 3, 9, 54, 28, 713391)"
      ]
     },
     "execution_count": 67,
     "metadata": {},
     "output_type": "execute_result"
    }
   ],
   "source": [
    "datetime.datetime.today()"
   ]
  },
  {
   "cell_type": "markdown",
   "metadata": {},
   "source": [
    "So that's how dates and times are generated! The benefit is that the time is erturned in a `datetime` object so we can access individual parts of the time by name, like so:"
   ]
  },
  {
   "cell_type": "code",
   "execution_count": 53,
   "metadata": {
    "ExecuteTime": {
     "end_time": "2019-06-23T22:04:18.738131Z",
     "start_time": "2019-06-23T22:04:18.733934Z"
    }
   },
   "outputs": [
    {
     "name": "stdout",
     "output_type": "stream",
     "text": [
      "2019\n",
      "6\n",
      "18\n"
     ]
    }
   ],
   "source": [
    "date = datetime.datetime.today()\n",
    "print(date.year)\n",
    "print(date.month)\n",
    "print(date.second)"
   ]
  },
  {
   "cell_type": "markdown",
   "metadata": {},
   "source": [
    "But how do we read in a list of dates? For that we actually have to convert a string using the `datetime.datetime.strptime` function. This function takes two arguments - \n",
    "    1. the date string itself\n",
    "    2. a string telling it the format of the date string using a special [symbol set](https://docs.python.org/2/library/datetime.html)\n",
    "    \n",
    "So for every string, you have to write the format that the time is in (exactly!) in order for `datetime` to convert it."
   ]
  },
  {
   "cell_type": "code",
   "execution_count": 68,
   "metadata": {
    "ExecuteTime": {
     "end_time": "2019-07-03T12:54:55.045273Z",
     "start_time": "2019-07-03T12:54:55.039626Z"
    }
   },
   "outputs": [
    {
     "data": {
      "text/plain": [
       "datetime.datetime(2014, 1, 1, 0, 0)"
      ]
     },
     "execution_count": 68,
     "metadata": {},
     "output_type": "execute_result"
    }
   ],
   "source": [
    "datetime.datetime.strptime('2014-01-01', '%Y-%m-%d')"
   ]
  },
  {
   "cell_type": "markdown",
   "metadata": {},
   "source": [
    "But do you think that all dates in all text files are formatted the same?\n",
    "\n",
    "Absolutely not! Every file and every program typically writes out dates and times in a different format. Which would you require to write some really complex code to automatically read a file and convert those dates to a format that you can use (it's for this reason that the Python datetime web page used to be one of my most visited!).\n",
    "\n",
    "But Pandas can take care of all of that for us!"
   ]
  },
  {
   "cell_type": "code",
   "execution_count": 69,
   "metadata": {
    "ExecuteTime": {
     "end_time": "2019-07-03T12:55:00.297978Z",
     "start_time": "2019-07-03T12:55:00.267885Z"
    }
   },
   "outputs": [
    {
     "data": {
      "text/html": [
       "<div>\n",
       "<style scoped>\n",
       "    .dataframe tbody tr th:only-of-type {\n",
       "        vertical-align: middle;\n",
       "    }\n",
       "\n",
       "    .dataframe tbody tr th {\n",
       "        vertical-align: top;\n",
       "    }\n",
       "\n",
       "    .dataframe thead th {\n",
       "        text-align: right;\n",
       "    }\n",
       "</style>\n",
       "<table border=\"1\" class=\"dataframe\">\n",
       "  <thead>\n",
       "    <tr style=\"text-align: right;\">\n",
       "      <th></th>\n",
       "      <th>Date</th>\n",
       "      <th>Open</th>\n",
       "      <th>High</th>\n",
       "      <th>Low</th>\n",
       "      <th>Close</th>\n",
       "      <th>Volume</th>\n",
       "      <th>Adjusted Close</th>\n",
       "    </tr>\n",
       "  </thead>\n",
       "  <tbody>\n",
       "    <tr>\n",
       "      <th>0</th>\n",
       "      <td>2015-08-24</td>\n",
       "      <td>94.870003</td>\n",
       "      <td>103.449997</td>\n",
       "      <td>92.000000</td>\n",
       "      <td>103.120003</td>\n",
       "      <td>161454200.0</td>\n",
       "      <td>103.120003</td>\n",
       "    </tr>\n",
       "    <tr>\n",
       "      <th>1</th>\n",
       "      <td>2015-08-21</td>\n",
       "      <td>110.430000</td>\n",
       "      <td>111.900002</td>\n",
       "      <td>105.650002</td>\n",
       "      <td>105.760002</td>\n",
       "      <td>126289200.0</td>\n",
       "      <td>105.760002</td>\n",
       "    </tr>\n",
       "    <tr>\n",
       "      <th>2</th>\n",
       "      <td>2015-08-20</td>\n",
       "      <td>114.080002</td>\n",
       "      <td>114.349998</td>\n",
       "      <td>111.629997</td>\n",
       "      <td>112.650002</td>\n",
       "      <td>67765500.0</td>\n",
       "      <td>112.650002</td>\n",
       "    </tr>\n",
       "    <tr>\n",
       "      <th>3</th>\n",
       "      <td>2015-08-19</td>\n",
       "      <td>116.099998</td>\n",
       "      <td>116.519997</td>\n",
       "      <td>114.680000</td>\n",
       "      <td>115.010002</td>\n",
       "      <td>47445700.0</td>\n",
       "      <td>115.010002</td>\n",
       "    </tr>\n",
       "    <tr>\n",
       "      <th>4</th>\n",
       "      <td>2015-08-18</td>\n",
       "      <td>116.430000</td>\n",
       "      <td>117.440002</td>\n",
       "      <td>116.010002</td>\n",
       "      <td>116.500000</td>\n",
       "      <td>34461400.0</td>\n",
       "      <td>116.500000</td>\n",
       "    </tr>\n",
       "  </tbody>\n",
       "</table>\n",
       "</div>"
      ],
      "text/plain": [
       "         Date        Open        High         Low       Close       Volume  \\\n",
       "0  2015-08-24   94.870003  103.449997   92.000000  103.120003  161454200.0   \n",
       "1  2015-08-21  110.430000  111.900002  105.650002  105.760002  126289200.0   \n",
       "2  2015-08-20  114.080002  114.349998  111.629997  112.650002   67765500.0   \n",
       "3  2015-08-19  116.099998  116.519997  114.680000  115.010002   47445700.0   \n",
       "4  2015-08-18  116.430000  117.440002  116.010002  116.500000   34461400.0   \n",
       "\n",
       "   Adjusted Close  \n",
       "0      103.120003  \n",
       "1      105.760002  \n",
       "2      112.650002  \n",
       "3      115.010002  \n",
       "4      116.500000  "
      ]
     },
     "execution_count": 69,
     "metadata": {},
     "output_type": "execute_result"
    }
   ],
   "source": [
    "aapl = pd.read_csv('../Data/Day7-Structured-Data-Analysis/aapl_stock_price.csv')\n",
    "aapl.head()"
   ]
  },
  {
   "cell_type": "code",
   "execution_count": 70,
   "metadata": {
    "ExecuteTime": {
     "end_time": "2019-07-03T12:55:06.863690Z",
     "start_time": "2019-07-03T12:55:06.857963Z"
    }
   },
   "outputs": [
    {
     "data": {
      "text/plain": [
       "0    2015-08-24\n",
       "1    2015-08-21\n",
       "2    2015-08-20\n",
       "3    2015-08-19\n",
       "4    2015-08-18\n",
       "Name: Date, dtype: object"
      ]
     },
     "execution_count": 70,
     "metadata": {},
     "output_type": "execute_result"
    }
   ],
   "source": [
    "aapl.head().Date"
   ]
  },
  {
   "cell_type": "markdown",
   "metadata": {},
   "source": [
    "It automatically read in the dates! It understands time and can use basic functions with the column"
   ]
  },
  {
   "cell_type": "code",
   "execution_count": 71,
   "metadata": {
    "ExecuteTime": {
     "end_time": "2019-07-03T12:55:09.128864Z",
     "start_time": "2019-07-03T12:55:09.122199Z"
    }
   },
   "outputs": [
    {
     "data": {
      "text/plain": [
       "'2015-08-24'"
      ]
     },
     "execution_count": 71,
     "metadata": {},
     "output_type": "execute_result"
    }
   ],
   "source": [
    "aapl.Date.max()"
   ]
  },
  {
   "cell_type": "code",
   "execution_count": 72,
   "metadata": {
    "ExecuteTime": {
     "end_time": "2019-07-03T12:55:09.927979Z",
     "start_time": "2019-07-03T12:55:09.922128Z"
    }
   },
   "outputs": [
    {
     "data": {
      "text/plain": [
       "'1980-12-12'"
      ]
     },
     "execution_count": 72,
     "metadata": {},
     "output_type": "execute_result"
    }
   ],
   "source": [
    "aapl.Date.min()"
   ]
  },
  {
   "cell_type": "markdown",
   "metadata": {},
   "source": [
    "and can sort the dataframe based on it."
   ]
  },
  {
   "cell_type": "code",
   "execution_count": 73,
   "metadata": {
    "ExecuteTime": {
     "end_time": "2019-07-03T12:55:12.744506Z",
     "start_time": "2019-07-03T12:55:12.729317Z"
    },
    "scrolled": true
   },
   "outputs": [
    {
     "data": {
      "text/plain": [
       "8749    1980-12-12\n",
       "8748    1980-12-15\n",
       "8747    1980-12-16\n",
       "8746    1980-12-17\n",
       "8745    1980-12-18\n",
       "8744    1980-12-19\n",
       "8743    1980-12-22\n",
       "8742    1980-12-23\n",
       "8741    1980-12-24\n",
       "8740    1980-12-26\n",
       "8739    1980-12-29\n",
       "8738    1980-12-30\n",
       "8737    1980-12-31\n",
       "8736    1981-01-02\n",
       "8735    1981-01-05\n",
       "8734    1981-01-06\n",
       "8733    1981-01-07\n",
       "8732    1981-01-08\n",
       "8731    1981-01-09\n",
       "8730    1981-01-12\n",
       "8729    1981-01-13\n",
       "8728    1981-01-14\n",
       "8727    1981-01-15\n",
       "8726    1981-01-16\n",
       "8725    1981-01-19\n",
       "8724    1981-01-20\n",
       "8723    1981-01-21\n",
       "8722    1981-01-22\n",
       "8721    1981-01-23\n",
       "8720    1981-01-26\n",
       "           ...    \n",
       "29      2015-07-14\n",
       "28      2015-07-15\n",
       "27      2015-07-16\n",
       "26      2015-07-17\n",
       "25      2015-07-20\n",
       "24      2015-07-21\n",
       "23      2015-07-22\n",
       "22      2015-07-23\n",
       "21      2015-07-24\n",
       "20      2015-07-27\n",
       "19      2015-07-28\n",
       "18      2015-07-29\n",
       "17      2015-07-30\n",
       "16      2015-07-31\n",
       "15      2015-08-03\n",
       "14      2015-08-04\n",
       "13      2015-08-05\n",
       "12      2015-08-06\n",
       "11      2015-08-07\n",
       "10      2015-08-10\n",
       "9       2015-08-11\n",
       "8       2015-08-12\n",
       "7       2015-08-13\n",
       "6       2015-08-14\n",
       "5       2015-08-17\n",
       "4       2015-08-18\n",
       "3       2015-08-19\n",
       "2       2015-08-20\n",
       "1       2015-08-21\n",
       "0       2015-08-24\n",
       "Name: Date, Length: 8750, dtype: object"
      ]
     },
     "execution_count": 73,
     "metadata": {},
     "output_type": "execute_result"
    }
   ],
   "source": [
    "aapl.Date.sort_values()"
   ]
  },
  {
   "cell_type": "markdown",
   "metadata": {},
   "source": [
    "We can also easily select a certain period of time using queries! To specify a date, we don't even have to create a datetime object - we can just use a string representation of the time and Pandas will translate it for us."
   ]
  },
  {
   "cell_type": "code",
   "execution_count": 74,
   "metadata": {
    "ExecuteTime": {
     "end_time": "2019-07-03T12:55:20.368774Z",
     "start_time": "2019-07-03T12:55:20.350679Z"
    }
   },
   "outputs": [
    {
     "data": {
      "text/html": [
       "<div>\n",
       "<style scoped>\n",
       "    .dataframe tbody tr th:only-of-type {\n",
       "        vertical-align: middle;\n",
       "    }\n",
       "\n",
       "    .dataframe tbody tr th {\n",
       "        vertical-align: top;\n",
       "    }\n",
       "\n",
       "    .dataframe thead th {\n",
       "        text-align: right;\n",
       "    }\n",
       "</style>\n",
       "<table border=\"1\" class=\"dataframe\">\n",
       "  <thead>\n",
       "    <tr style=\"text-align: right;\">\n",
       "      <th></th>\n",
       "      <th>Date</th>\n",
       "      <th>Open</th>\n",
       "      <th>High</th>\n",
       "      <th>Low</th>\n",
       "      <th>Close</th>\n",
       "      <th>Volume</th>\n",
       "      <th>Adjusted Close</th>\n",
       "    </tr>\n",
       "  </thead>\n",
       "  <tbody>\n",
       "    <tr>\n",
       "      <th>0</th>\n",
       "      <td>2015-08-24</td>\n",
       "      <td>94.870003</td>\n",
       "      <td>103.449997</td>\n",
       "      <td>92.000000</td>\n",
       "      <td>103.120003</td>\n",
       "      <td>161454200.0</td>\n",
       "      <td>103.120003</td>\n",
       "    </tr>\n",
       "    <tr>\n",
       "      <th>1</th>\n",
       "      <td>2015-08-21</td>\n",
       "      <td>110.430000</td>\n",
       "      <td>111.900002</td>\n",
       "      <td>105.650002</td>\n",
       "      <td>105.760002</td>\n",
       "      <td>126289200.0</td>\n",
       "      <td>105.760002</td>\n",
       "    </tr>\n",
       "    <tr>\n",
       "      <th>2</th>\n",
       "      <td>2015-08-20</td>\n",
       "      <td>114.080002</td>\n",
       "      <td>114.349998</td>\n",
       "      <td>111.629997</td>\n",
       "      <td>112.650002</td>\n",
       "      <td>67765500.0</td>\n",
       "      <td>112.650002</td>\n",
       "    </tr>\n",
       "    <tr>\n",
       "      <th>3</th>\n",
       "      <td>2015-08-19</td>\n",
       "      <td>116.099998</td>\n",
       "      <td>116.519997</td>\n",
       "      <td>114.680000</td>\n",
       "      <td>115.010002</td>\n",
       "      <td>47445700.0</td>\n",
       "      <td>115.010002</td>\n",
       "    </tr>\n",
       "    <tr>\n",
       "      <th>4</th>\n",
       "      <td>2015-08-18</td>\n",
       "      <td>116.430000</td>\n",
       "      <td>117.440002</td>\n",
       "      <td>116.010002</td>\n",
       "      <td>116.500000</td>\n",
       "      <td>34461400.0</td>\n",
       "      <td>116.500000</td>\n",
       "    </tr>\n",
       "    <tr>\n",
       "      <th>5</th>\n",
       "      <td>2015-08-17</td>\n",
       "      <td>116.040001</td>\n",
       "      <td>117.650002</td>\n",
       "      <td>115.500000</td>\n",
       "      <td>117.160004</td>\n",
       "      <td>40702200.0</td>\n",
       "      <td>117.160004</td>\n",
       "    </tr>\n",
       "    <tr>\n",
       "      <th>6</th>\n",
       "      <td>2015-08-14</td>\n",
       "      <td>114.320000</td>\n",
       "      <td>116.309998</td>\n",
       "      <td>114.010002</td>\n",
       "      <td>115.959999</td>\n",
       "      <td>42693200.0</td>\n",
       "      <td>115.959999</td>\n",
       "    </tr>\n",
       "    <tr>\n",
       "      <th>7</th>\n",
       "      <td>2015-08-13</td>\n",
       "      <td>116.040001</td>\n",
       "      <td>116.400002</td>\n",
       "      <td>114.540001</td>\n",
       "      <td>115.150002</td>\n",
       "      <td>48335500.0</td>\n",
       "      <td>115.150002</td>\n",
       "    </tr>\n",
       "    <tr>\n",
       "      <th>8</th>\n",
       "      <td>2015-08-12</td>\n",
       "      <td>112.529999</td>\n",
       "      <td>115.419998</td>\n",
       "      <td>109.629997</td>\n",
       "      <td>115.239998</td>\n",
       "      <td>101217500.0</td>\n",
       "      <td>115.239998</td>\n",
       "    </tr>\n",
       "    <tr>\n",
       "      <th>9</th>\n",
       "      <td>2015-08-11</td>\n",
       "      <td>117.809998</td>\n",
       "      <td>118.180000</td>\n",
       "      <td>113.330002</td>\n",
       "      <td>113.489998</td>\n",
       "      <td>95711900.0</td>\n",
       "      <td>113.489998</td>\n",
       "    </tr>\n",
       "    <tr>\n",
       "      <th>10</th>\n",
       "      <td>2015-08-10</td>\n",
       "      <td>116.529999</td>\n",
       "      <td>119.989998</td>\n",
       "      <td>116.529999</td>\n",
       "      <td>119.720001</td>\n",
       "      <td>54538500.0</td>\n",
       "      <td>119.720001</td>\n",
       "    </tr>\n",
       "    <tr>\n",
       "      <th>11</th>\n",
       "      <td>2015-08-07</td>\n",
       "      <td>114.580002</td>\n",
       "      <td>116.250000</td>\n",
       "      <td>114.500000</td>\n",
       "      <td>115.519997</td>\n",
       "      <td>38421400.0</td>\n",
       "      <td>115.519997</td>\n",
       "    </tr>\n",
       "    <tr>\n",
       "      <th>12</th>\n",
       "      <td>2015-08-06</td>\n",
       "      <td>115.970001</td>\n",
       "      <td>116.500000</td>\n",
       "      <td>114.120003</td>\n",
       "      <td>115.129997</td>\n",
       "      <td>52903000.0</td>\n",
       "      <td>115.129997</td>\n",
       "    </tr>\n",
       "    <tr>\n",
       "      <th>13</th>\n",
       "      <td>2015-08-05</td>\n",
       "      <td>112.949997</td>\n",
       "      <td>117.440002</td>\n",
       "      <td>112.099998</td>\n",
       "      <td>115.400002</td>\n",
       "      <td>99312600.0</td>\n",
       "      <td>114.880003</td>\n",
       "    </tr>\n",
       "    <tr>\n",
       "      <th>14</th>\n",
       "      <td>2015-08-04</td>\n",
       "      <td>117.419998</td>\n",
       "      <td>117.699997</td>\n",
       "      <td>113.250000</td>\n",
       "      <td>114.639999</td>\n",
       "      <td>124138600.0</td>\n",
       "      <td>114.123426</td>\n",
       "    </tr>\n",
       "    <tr>\n",
       "      <th>15</th>\n",
       "      <td>2015-08-03</td>\n",
       "      <td>121.500000</td>\n",
       "      <td>122.570000</td>\n",
       "      <td>117.519997</td>\n",
       "      <td>118.440002</td>\n",
       "      <td>69976000.0</td>\n",
       "      <td>117.906306</td>\n",
       "    </tr>\n",
       "  </tbody>\n",
       "</table>\n",
       "</div>"
      ],
      "text/plain": [
       "          Date        Open        High         Low       Close       Volume  \\\n",
       "0   2015-08-24   94.870003  103.449997   92.000000  103.120003  161454200.0   \n",
       "1   2015-08-21  110.430000  111.900002  105.650002  105.760002  126289200.0   \n",
       "2   2015-08-20  114.080002  114.349998  111.629997  112.650002   67765500.0   \n",
       "3   2015-08-19  116.099998  116.519997  114.680000  115.010002   47445700.0   \n",
       "4   2015-08-18  116.430000  117.440002  116.010002  116.500000   34461400.0   \n",
       "5   2015-08-17  116.040001  117.650002  115.500000  117.160004   40702200.0   \n",
       "6   2015-08-14  114.320000  116.309998  114.010002  115.959999   42693200.0   \n",
       "7   2015-08-13  116.040001  116.400002  114.540001  115.150002   48335500.0   \n",
       "8   2015-08-12  112.529999  115.419998  109.629997  115.239998  101217500.0   \n",
       "9   2015-08-11  117.809998  118.180000  113.330002  113.489998   95711900.0   \n",
       "10  2015-08-10  116.529999  119.989998  116.529999  119.720001   54538500.0   \n",
       "11  2015-08-07  114.580002  116.250000  114.500000  115.519997   38421400.0   \n",
       "12  2015-08-06  115.970001  116.500000  114.120003  115.129997   52903000.0   \n",
       "13  2015-08-05  112.949997  117.440002  112.099998  115.400002   99312600.0   \n",
       "14  2015-08-04  117.419998  117.699997  113.250000  114.639999  124138600.0   \n",
       "15  2015-08-03  121.500000  122.570000  117.519997  118.440002   69976000.0   \n",
       "\n",
       "    Adjusted Close  \n",
       "0       103.120003  \n",
       "1       105.760002  \n",
       "2       112.650002  \n",
       "3       115.010002  \n",
       "4       116.500000  \n",
       "5       117.160004  \n",
       "6       115.959999  \n",
       "7       115.150002  \n",
       "8       115.239998  \n",
       "9       113.489998  \n",
       "10      119.720001  \n",
       "11      115.519997  \n",
       "12      115.129997  \n",
       "13      114.880003  \n",
       "14      114.123426  \n",
       "15      117.906306  "
      ]
     },
     "execution_count": 74,
     "metadata": {},
     "output_type": "execute_result"
    }
   ],
   "source": [
    "aapl[aapl.Date > '2015-08-01']"
   ]
  },
  {
   "cell_type": "code",
   "execution_count": 75,
   "metadata": {
    "ExecuteTime": {
     "end_time": "2019-07-03T12:55:32.687256Z",
     "start_time": "2019-07-03T12:55:32.670916Z"
    }
   },
   "outputs": [
    {
     "data": {
      "text/html": [
       "<div>\n",
       "<style scoped>\n",
       "    .dataframe tbody tr th:only-of-type {\n",
       "        vertical-align: middle;\n",
       "    }\n",
       "\n",
       "    .dataframe tbody tr th {\n",
       "        vertical-align: top;\n",
       "    }\n",
       "\n",
       "    .dataframe thead th {\n",
       "        text-align: right;\n",
       "    }\n",
       "</style>\n",
       "<table border=\"1\" class=\"dataframe\">\n",
       "  <thead>\n",
       "    <tr style=\"text-align: right;\">\n",
       "      <th></th>\n",
       "      <th>Date</th>\n",
       "      <th>Open</th>\n",
       "      <th>High</th>\n",
       "      <th>Low</th>\n",
       "      <th>Close</th>\n",
       "      <th>Volume</th>\n",
       "      <th>Adjusted Close</th>\n",
       "    </tr>\n",
       "  </thead>\n",
       "  <tbody>\n",
       "    <tr>\n",
       "      <th>5</th>\n",
       "      <td>2015-08-17</td>\n",
       "      <td>116.040001</td>\n",
       "      <td>117.650002</td>\n",
       "      <td>115.500000</td>\n",
       "      <td>117.160004</td>\n",
       "      <td>40702200.0</td>\n",
       "      <td>117.160004</td>\n",
       "    </tr>\n",
       "    <tr>\n",
       "      <th>6</th>\n",
       "      <td>2015-08-14</td>\n",
       "      <td>114.320000</td>\n",
       "      <td>116.309998</td>\n",
       "      <td>114.010002</td>\n",
       "      <td>115.959999</td>\n",
       "      <td>42693200.0</td>\n",
       "      <td>115.959999</td>\n",
       "    </tr>\n",
       "    <tr>\n",
       "      <th>7</th>\n",
       "      <td>2015-08-13</td>\n",
       "      <td>116.040001</td>\n",
       "      <td>116.400002</td>\n",
       "      <td>114.540001</td>\n",
       "      <td>115.150002</td>\n",
       "      <td>48335500.0</td>\n",
       "      <td>115.150002</td>\n",
       "    </tr>\n",
       "    <tr>\n",
       "      <th>8</th>\n",
       "      <td>2015-08-12</td>\n",
       "      <td>112.529999</td>\n",
       "      <td>115.419998</td>\n",
       "      <td>109.629997</td>\n",
       "      <td>115.239998</td>\n",
       "      <td>101217500.0</td>\n",
       "      <td>115.239998</td>\n",
       "    </tr>\n",
       "    <tr>\n",
       "      <th>9</th>\n",
       "      <td>2015-08-11</td>\n",
       "      <td>117.809998</td>\n",
       "      <td>118.180000</td>\n",
       "      <td>113.330002</td>\n",
       "      <td>113.489998</td>\n",
       "      <td>95711900.0</td>\n",
       "      <td>113.489998</td>\n",
       "    </tr>\n",
       "    <tr>\n",
       "      <th>10</th>\n",
       "      <td>2015-08-10</td>\n",
       "      <td>116.529999</td>\n",
       "      <td>119.989998</td>\n",
       "      <td>116.529999</td>\n",
       "      <td>119.720001</td>\n",
       "      <td>54538500.0</td>\n",
       "      <td>119.720001</td>\n",
       "    </tr>\n",
       "    <tr>\n",
       "      <th>11</th>\n",
       "      <td>2015-08-07</td>\n",
       "      <td>114.580002</td>\n",
       "      <td>116.250000</td>\n",
       "      <td>114.500000</td>\n",
       "      <td>115.519997</td>\n",
       "      <td>38421400.0</td>\n",
       "      <td>115.519997</td>\n",
       "    </tr>\n",
       "    <tr>\n",
       "      <th>12</th>\n",
       "      <td>2015-08-06</td>\n",
       "      <td>115.970001</td>\n",
       "      <td>116.500000</td>\n",
       "      <td>114.120003</td>\n",
       "      <td>115.129997</td>\n",
       "      <td>52903000.0</td>\n",
       "      <td>115.129997</td>\n",
       "    </tr>\n",
       "    <tr>\n",
       "      <th>13</th>\n",
       "      <td>2015-08-05</td>\n",
       "      <td>112.949997</td>\n",
       "      <td>117.440002</td>\n",
       "      <td>112.099998</td>\n",
       "      <td>115.400002</td>\n",
       "      <td>99312600.0</td>\n",
       "      <td>114.880003</td>\n",
       "    </tr>\n",
       "    <tr>\n",
       "      <th>14</th>\n",
       "      <td>2015-08-04</td>\n",
       "      <td>117.419998</td>\n",
       "      <td>117.699997</td>\n",
       "      <td>113.250000</td>\n",
       "      <td>114.639999</td>\n",
       "      <td>124138600.0</td>\n",
       "      <td>114.123426</td>\n",
       "    </tr>\n",
       "    <tr>\n",
       "      <th>15</th>\n",
       "      <td>2015-08-03</td>\n",
       "      <td>121.500000</td>\n",
       "      <td>122.570000</td>\n",
       "      <td>117.519997</td>\n",
       "      <td>118.440002</td>\n",
       "      <td>69976000.0</td>\n",
       "      <td>117.906306</td>\n",
       "    </tr>\n",
       "  </tbody>\n",
       "</table>\n",
       "</div>"
      ],
      "text/plain": [
       "          Date        Open        High         Low       Close       Volume  \\\n",
       "5   2015-08-17  116.040001  117.650002  115.500000  117.160004   40702200.0   \n",
       "6   2015-08-14  114.320000  116.309998  114.010002  115.959999   42693200.0   \n",
       "7   2015-08-13  116.040001  116.400002  114.540001  115.150002   48335500.0   \n",
       "8   2015-08-12  112.529999  115.419998  109.629997  115.239998  101217500.0   \n",
       "9   2015-08-11  117.809998  118.180000  113.330002  113.489998   95711900.0   \n",
       "10  2015-08-10  116.529999  119.989998  116.529999  119.720001   54538500.0   \n",
       "11  2015-08-07  114.580002  116.250000  114.500000  115.519997   38421400.0   \n",
       "12  2015-08-06  115.970001  116.500000  114.120003  115.129997   52903000.0   \n",
       "13  2015-08-05  112.949997  117.440002  112.099998  115.400002   99312600.0   \n",
       "14  2015-08-04  117.419998  117.699997  113.250000  114.639999  124138600.0   \n",
       "15  2015-08-03  121.500000  122.570000  117.519997  118.440002   69976000.0   \n",
       "\n",
       "    Adjusted Close  \n",
       "5       117.160004  \n",
       "6       115.959999  \n",
       "7       115.150002  \n",
       "8       115.239998  \n",
       "9       113.489998  \n",
       "10      119.720001  \n",
       "11      115.519997  \n",
       "12      115.129997  \n",
       "13      114.880003  \n",
       "14      114.123426  \n",
       "15      117.906306  "
      ]
     },
     "execution_count": 75,
     "metadata": {},
     "output_type": "execute_result"
    }
   ],
   "source": [
    "aapl[(aapl.Date > '2015-08-01') & (aapl.Date < '2015-08-18')]"
   ]
  },
  {
   "cell_type": "markdown",
   "metadata": {},
   "source": [
    "And these dates can work without specifying the whole date too!"
   ]
  },
  {
   "cell_type": "code",
   "execution_count": 77,
   "metadata": {
    "ExecuteTime": {
     "end_time": "2019-07-03T12:55:41.750697Z",
     "start_time": "2019-07-03T12:55:41.720654Z"
    }
   },
   "outputs": [
    {
     "data": {
      "text/html": [
       "<div>\n",
       "<style scoped>\n",
       "    .dataframe tbody tr th:only-of-type {\n",
       "        vertical-align: middle;\n",
       "    }\n",
       "\n",
       "    .dataframe tbody tr th {\n",
       "        vertical-align: top;\n",
       "    }\n",
       "\n",
       "    .dataframe thead th {\n",
       "        text-align: right;\n",
       "    }\n",
       "</style>\n",
       "<table border=\"1\" class=\"dataframe\">\n",
       "  <thead>\n",
       "    <tr style=\"text-align: right;\">\n",
       "      <th></th>\n",
       "      <th>Date</th>\n",
       "      <th>Open</th>\n",
       "      <th>High</th>\n",
       "      <th>Low</th>\n",
       "      <th>Close</th>\n",
       "      <th>Volume</th>\n",
       "      <th>Adjusted Close</th>\n",
       "    </tr>\n",
       "  </thead>\n",
       "  <tbody>\n",
       "    <tr>\n",
       "      <th>0</th>\n",
       "      <td>2015-08-24</td>\n",
       "      <td>94.870003</td>\n",
       "      <td>103.449997</td>\n",
       "      <td>92.000000</td>\n",
       "      <td>103.120003</td>\n",
       "      <td>161454200.0</td>\n",
       "      <td>103.120003</td>\n",
       "    </tr>\n",
       "    <tr>\n",
       "      <th>1</th>\n",
       "      <td>2015-08-21</td>\n",
       "      <td>110.430000</td>\n",
       "      <td>111.900002</td>\n",
       "      <td>105.650002</td>\n",
       "      <td>105.760002</td>\n",
       "      <td>126289200.0</td>\n",
       "      <td>105.760002</td>\n",
       "    </tr>\n",
       "    <tr>\n",
       "      <th>2</th>\n",
       "      <td>2015-08-20</td>\n",
       "      <td>114.080002</td>\n",
       "      <td>114.349998</td>\n",
       "      <td>111.629997</td>\n",
       "      <td>112.650002</td>\n",
       "      <td>67765500.0</td>\n",
       "      <td>112.650002</td>\n",
       "    </tr>\n",
       "    <tr>\n",
       "      <th>3</th>\n",
       "      <td>2015-08-19</td>\n",
       "      <td>116.099998</td>\n",
       "      <td>116.519997</td>\n",
       "      <td>114.680000</td>\n",
       "      <td>115.010002</td>\n",
       "      <td>47445700.0</td>\n",
       "      <td>115.010002</td>\n",
       "    </tr>\n",
       "    <tr>\n",
       "      <th>4</th>\n",
       "      <td>2015-08-18</td>\n",
       "      <td>116.430000</td>\n",
       "      <td>117.440002</td>\n",
       "      <td>116.010002</td>\n",
       "      <td>116.500000</td>\n",
       "      <td>34461400.0</td>\n",
       "      <td>116.500000</td>\n",
       "    </tr>\n",
       "    <tr>\n",
       "      <th>5</th>\n",
       "      <td>2015-08-17</td>\n",
       "      <td>116.040001</td>\n",
       "      <td>117.650002</td>\n",
       "      <td>115.500000</td>\n",
       "      <td>117.160004</td>\n",
       "      <td>40702200.0</td>\n",
       "      <td>117.160004</td>\n",
       "    </tr>\n",
       "    <tr>\n",
       "      <th>6</th>\n",
       "      <td>2015-08-14</td>\n",
       "      <td>114.320000</td>\n",
       "      <td>116.309998</td>\n",
       "      <td>114.010002</td>\n",
       "      <td>115.959999</td>\n",
       "      <td>42693200.0</td>\n",
       "      <td>115.959999</td>\n",
       "    </tr>\n",
       "    <tr>\n",
       "      <th>7</th>\n",
       "      <td>2015-08-13</td>\n",
       "      <td>116.040001</td>\n",
       "      <td>116.400002</td>\n",
       "      <td>114.540001</td>\n",
       "      <td>115.150002</td>\n",
       "      <td>48335500.0</td>\n",
       "      <td>115.150002</td>\n",
       "    </tr>\n",
       "    <tr>\n",
       "      <th>8</th>\n",
       "      <td>2015-08-12</td>\n",
       "      <td>112.529999</td>\n",
       "      <td>115.419998</td>\n",
       "      <td>109.629997</td>\n",
       "      <td>115.239998</td>\n",
       "      <td>101217500.0</td>\n",
       "      <td>115.239998</td>\n",
       "    </tr>\n",
       "    <tr>\n",
       "      <th>9</th>\n",
       "      <td>2015-08-11</td>\n",
       "      <td>117.809998</td>\n",
       "      <td>118.180000</td>\n",
       "      <td>113.330002</td>\n",
       "      <td>113.489998</td>\n",
       "      <td>95711900.0</td>\n",
       "      <td>113.489998</td>\n",
       "    </tr>\n",
       "    <tr>\n",
       "      <th>10</th>\n",
       "      <td>2015-08-10</td>\n",
       "      <td>116.529999</td>\n",
       "      <td>119.989998</td>\n",
       "      <td>116.529999</td>\n",
       "      <td>119.720001</td>\n",
       "      <td>54538500.0</td>\n",
       "      <td>119.720001</td>\n",
       "    </tr>\n",
       "    <tr>\n",
       "      <th>11</th>\n",
       "      <td>2015-08-07</td>\n",
       "      <td>114.580002</td>\n",
       "      <td>116.250000</td>\n",
       "      <td>114.500000</td>\n",
       "      <td>115.519997</td>\n",
       "      <td>38421400.0</td>\n",
       "      <td>115.519997</td>\n",
       "    </tr>\n",
       "    <tr>\n",
       "      <th>12</th>\n",
       "      <td>2015-08-06</td>\n",
       "      <td>115.970001</td>\n",
       "      <td>116.500000</td>\n",
       "      <td>114.120003</td>\n",
       "      <td>115.129997</td>\n",
       "      <td>52903000.0</td>\n",
       "      <td>115.129997</td>\n",
       "    </tr>\n",
       "    <tr>\n",
       "      <th>13</th>\n",
       "      <td>2015-08-05</td>\n",
       "      <td>112.949997</td>\n",
       "      <td>117.440002</td>\n",
       "      <td>112.099998</td>\n",
       "      <td>115.400002</td>\n",
       "      <td>99312600.0</td>\n",
       "      <td>114.880003</td>\n",
       "    </tr>\n",
       "    <tr>\n",
       "      <th>14</th>\n",
       "      <td>2015-08-04</td>\n",
       "      <td>117.419998</td>\n",
       "      <td>117.699997</td>\n",
       "      <td>113.250000</td>\n",
       "      <td>114.639999</td>\n",
       "      <td>124138600.0</td>\n",
       "      <td>114.123426</td>\n",
       "    </tr>\n",
       "    <tr>\n",
       "      <th>15</th>\n",
       "      <td>2015-08-03</td>\n",
       "      <td>121.500000</td>\n",
       "      <td>122.570000</td>\n",
       "      <td>117.519997</td>\n",
       "      <td>118.440002</td>\n",
       "      <td>69976000.0</td>\n",
       "      <td>117.906306</td>\n",
       "    </tr>\n",
       "    <tr>\n",
       "      <th>16</th>\n",
       "      <td>2015-07-31</td>\n",
       "      <td>122.599998</td>\n",
       "      <td>122.639999</td>\n",
       "      <td>120.910004</td>\n",
       "      <td>121.300003</td>\n",
       "      <td>42885000.0</td>\n",
       "      <td>120.753419</td>\n",
       "    </tr>\n",
       "    <tr>\n",
       "      <th>17</th>\n",
       "      <td>2015-07-30</td>\n",
       "      <td>122.320000</td>\n",
       "      <td>122.570000</td>\n",
       "      <td>121.709999</td>\n",
       "      <td>122.370003</td>\n",
       "      <td>33628300.0</td>\n",
       "      <td>121.818597</td>\n",
       "    </tr>\n",
       "    <tr>\n",
       "      <th>18</th>\n",
       "      <td>2015-07-29</td>\n",
       "      <td>123.150002</td>\n",
       "      <td>123.500000</td>\n",
       "      <td>122.269997</td>\n",
       "      <td>122.989998</td>\n",
       "      <td>37011700.0</td>\n",
       "      <td>122.435799</td>\n",
       "    </tr>\n",
       "    <tr>\n",
       "      <th>19</th>\n",
       "      <td>2015-07-28</td>\n",
       "      <td>123.379997</td>\n",
       "      <td>123.910004</td>\n",
       "      <td>122.550003</td>\n",
       "      <td>123.379997</td>\n",
       "      <td>33618100.0</td>\n",
       "      <td>122.824041</td>\n",
       "    </tr>\n",
       "    <tr>\n",
       "      <th>20</th>\n",
       "      <td>2015-07-27</td>\n",
       "      <td>123.089996</td>\n",
       "      <td>123.610001</td>\n",
       "      <td>122.120003</td>\n",
       "      <td>122.769997</td>\n",
       "      <td>44455500.0</td>\n",
       "      <td>122.216789</td>\n",
       "    </tr>\n",
       "    <tr>\n",
       "      <th>21</th>\n",
       "      <td>2015-07-24</td>\n",
       "      <td>125.320000</td>\n",
       "      <td>125.739998</td>\n",
       "      <td>123.900002</td>\n",
       "      <td>124.500000</td>\n",
       "      <td>42162300.0</td>\n",
       "      <td>123.938997</td>\n",
       "    </tr>\n",
       "    <tr>\n",
       "      <th>22</th>\n",
       "      <td>2015-07-23</td>\n",
       "      <td>126.199997</td>\n",
       "      <td>127.089996</td>\n",
       "      <td>125.059998</td>\n",
       "      <td>125.160004</td>\n",
       "      <td>50999500.0</td>\n",
       "      <td>124.596026</td>\n",
       "    </tr>\n",
       "    <tr>\n",
       "      <th>23</th>\n",
       "      <td>2015-07-22</td>\n",
       "      <td>121.989998</td>\n",
       "      <td>125.500000</td>\n",
       "      <td>121.989998</td>\n",
       "      <td>125.220001</td>\n",
       "      <td>115450600.0</td>\n",
       "      <td>124.655753</td>\n",
       "    </tr>\n",
       "    <tr>\n",
       "      <th>24</th>\n",
       "      <td>2015-07-21</td>\n",
       "      <td>132.850006</td>\n",
       "      <td>132.919998</td>\n",
       "      <td>130.320007</td>\n",
       "      <td>130.750000</td>\n",
       "      <td>76756400.0</td>\n",
       "      <td>130.160834</td>\n",
       "    </tr>\n",
       "    <tr>\n",
       "      <th>25</th>\n",
       "      <td>2015-07-20</td>\n",
       "      <td>130.970001</td>\n",
       "      <td>132.970001</td>\n",
       "      <td>130.699997</td>\n",
       "      <td>132.070007</td>\n",
       "      <td>58900200.0</td>\n",
       "      <td>131.474893</td>\n",
       "    </tr>\n",
       "    <tr>\n",
       "      <th>26</th>\n",
       "      <td>2015-07-17</td>\n",
       "      <td>129.080002</td>\n",
       "      <td>129.619995</td>\n",
       "      <td>128.309998</td>\n",
       "      <td>129.619995</td>\n",
       "      <td>46164700.0</td>\n",
       "      <td>129.035921</td>\n",
       "    </tr>\n",
       "    <tr>\n",
       "      <th>27</th>\n",
       "      <td>2015-07-16</td>\n",
       "      <td>127.739998</td>\n",
       "      <td>128.570007</td>\n",
       "      <td>127.349998</td>\n",
       "      <td>128.509995</td>\n",
       "      <td>36222400.0</td>\n",
       "      <td>127.930922</td>\n",
       "    </tr>\n",
       "    <tr>\n",
       "      <th>28</th>\n",
       "      <td>2015-07-15</td>\n",
       "      <td>125.720001</td>\n",
       "      <td>127.150002</td>\n",
       "      <td>125.580002</td>\n",
       "      <td>126.820000</td>\n",
       "      <td>33649200.0</td>\n",
       "      <td>126.248542</td>\n",
       "    </tr>\n",
       "    <tr>\n",
       "      <th>29</th>\n",
       "      <td>2015-07-14</td>\n",
       "      <td>126.040001</td>\n",
       "      <td>126.370003</td>\n",
       "      <td>125.040001</td>\n",
       "      <td>125.610001</td>\n",
       "      <td>31768100.0</td>\n",
       "      <td>125.043995</td>\n",
       "    </tr>\n",
       "    <tr>\n",
       "      <th>...</th>\n",
       "      <td>...</td>\n",
       "      <td>...</td>\n",
       "      <td>...</td>\n",
       "      <td>...</td>\n",
       "      <td>...</td>\n",
       "      <td>...</td>\n",
       "      <td>...</td>\n",
       "    </tr>\n",
       "    <tr>\n",
       "      <th>132</th>\n",
       "      <td>2015-02-13</td>\n",
       "      <td>127.279999</td>\n",
       "      <td>127.279999</td>\n",
       "      <td>125.650002</td>\n",
       "      <td>127.080002</td>\n",
       "      <td>54272200.0</td>\n",
       "      <td>125.981145</td>\n",
       "    </tr>\n",
       "    <tr>\n",
       "      <th>133</th>\n",
       "      <td>2015-02-12</td>\n",
       "      <td>126.059998</td>\n",
       "      <td>127.480003</td>\n",
       "      <td>125.570000</td>\n",
       "      <td>126.459999</td>\n",
       "      <td>74474500.0</td>\n",
       "      <td>125.366504</td>\n",
       "    </tr>\n",
       "    <tr>\n",
       "      <th>134</th>\n",
       "      <td>2015-02-11</td>\n",
       "      <td>122.769997</td>\n",
       "      <td>124.919998</td>\n",
       "      <td>122.500000</td>\n",
       "      <td>124.879997</td>\n",
       "      <td>73561800.0</td>\n",
       "      <td>123.800164</td>\n",
       "    </tr>\n",
       "    <tr>\n",
       "      <th>135</th>\n",
       "      <td>2015-02-10</td>\n",
       "      <td>120.169998</td>\n",
       "      <td>122.150002</td>\n",
       "      <td>120.160004</td>\n",
       "      <td>122.019997</td>\n",
       "      <td>62008500.0</td>\n",
       "      <td>120.964894</td>\n",
       "    </tr>\n",
       "    <tr>\n",
       "      <th>136</th>\n",
       "      <td>2015-02-09</td>\n",
       "      <td>118.550003</td>\n",
       "      <td>119.839996</td>\n",
       "      <td>118.430000</td>\n",
       "      <td>119.720001</td>\n",
       "      <td>38889800.0</td>\n",
       "      <td>118.684787</td>\n",
       "    </tr>\n",
       "    <tr>\n",
       "      <th>137</th>\n",
       "      <td>2015-02-06</td>\n",
       "      <td>120.019997</td>\n",
       "      <td>120.250000</td>\n",
       "      <td>118.449997</td>\n",
       "      <td>118.930000</td>\n",
       "      <td>43372000.0</td>\n",
       "      <td>117.901617</td>\n",
       "    </tr>\n",
       "    <tr>\n",
       "      <th>138</th>\n",
       "      <td>2015-02-05</td>\n",
       "      <td>120.019997</td>\n",
       "      <td>120.230003</td>\n",
       "      <td>119.250000</td>\n",
       "      <td>119.940002</td>\n",
       "      <td>42246200.0</td>\n",
       "      <td>118.902885</td>\n",
       "    </tr>\n",
       "    <tr>\n",
       "      <th>139</th>\n",
       "      <td>2015-02-04</td>\n",
       "      <td>118.500000</td>\n",
       "      <td>120.510002</td>\n",
       "      <td>118.309998</td>\n",
       "      <td>119.559998</td>\n",
       "      <td>70149700.0</td>\n",
       "      <td>118.060226</td>\n",
       "    </tr>\n",
       "    <tr>\n",
       "      <th>140</th>\n",
       "      <td>2015-02-03</td>\n",
       "      <td>118.500000</td>\n",
       "      <td>119.089996</td>\n",
       "      <td>117.610001</td>\n",
       "      <td>118.650002</td>\n",
       "      <td>51915700.0</td>\n",
       "      <td>117.161645</td>\n",
       "    </tr>\n",
       "    <tr>\n",
       "      <th>141</th>\n",
       "      <td>2015-02-02</td>\n",
       "      <td>118.050003</td>\n",
       "      <td>119.169998</td>\n",
       "      <td>116.080002</td>\n",
       "      <td>118.629997</td>\n",
       "      <td>62739100.0</td>\n",
       "      <td>117.141891</td>\n",
       "    </tr>\n",
       "    <tr>\n",
       "      <th>142</th>\n",
       "      <td>2015-01-30</td>\n",
       "      <td>118.400002</td>\n",
       "      <td>120.000000</td>\n",
       "      <td>116.849998</td>\n",
       "      <td>117.160004</td>\n",
       "      <td>83745500.0</td>\n",
       "      <td>115.690337</td>\n",
       "    </tr>\n",
       "    <tr>\n",
       "      <th>143</th>\n",
       "      <td>2015-01-29</td>\n",
       "      <td>116.320000</td>\n",
       "      <td>119.190002</td>\n",
       "      <td>115.559998</td>\n",
       "      <td>118.900002</td>\n",
       "      <td>84436400.0</td>\n",
       "      <td>117.408509</td>\n",
       "    </tr>\n",
       "    <tr>\n",
       "      <th>144</th>\n",
       "      <td>2015-01-28</td>\n",
       "      <td>117.629997</td>\n",
       "      <td>118.120003</td>\n",
       "      <td>115.309998</td>\n",
       "      <td>115.309998</td>\n",
       "      <td>146477100.0</td>\n",
       "      <td>113.863538</td>\n",
       "    </tr>\n",
       "    <tr>\n",
       "      <th>145</th>\n",
       "      <td>2015-01-27</td>\n",
       "      <td>112.419998</td>\n",
       "      <td>112.480003</td>\n",
       "      <td>109.029999</td>\n",
       "      <td>109.139999</td>\n",
       "      <td>95568700.0</td>\n",
       "      <td>107.770937</td>\n",
       "    </tr>\n",
       "    <tr>\n",
       "      <th>146</th>\n",
       "      <td>2015-01-26</td>\n",
       "      <td>113.739998</td>\n",
       "      <td>114.360001</td>\n",
       "      <td>112.800003</td>\n",
       "      <td>113.099998</td>\n",
       "      <td>55615000.0</td>\n",
       "      <td>111.681261</td>\n",
       "    </tr>\n",
       "    <tr>\n",
       "      <th>147</th>\n",
       "      <td>2015-01-23</td>\n",
       "      <td>112.300003</td>\n",
       "      <td>113.750000</td>\n",
       "      <td>111.529999</td>\n",
       "      <td>112.980003</td>\n",
       "      <td>46464800.0</td>\n",
       "      <td>111.562771</td>\n",
       "    </tr>\n",
       "    <tr>\n",
       "      <th>148</th>\n",
       "      <td>2015-01-22</td>\n",
       "      <td>110.260002</td>\n",
       "      <td>112.470001</td>\n",
       "      <td>109.720001</td>\n",
       "      <td>112.400002</td>\n",
       "      <td>53796400.0</td>\n",
       "      <td>110.990045</td>\n",
       "    </tr>\n",
       "    <tr>\n",
       "      <th>149</th>\n",
       "      <td>2015-01-21</td>\n",
       "      <td>108.949997</td>\n",
       "      <td>111.059998</td>\n",
       "      <td>108.269997</td>\n",
       "      <td>109.550003</td>\n",
       "      <td>48575900.0</td>\n",
       "      <td>108.175797</td>\n",
       "    </tr>\n",
       "    <tr>\n",
       "      <th>150</th>\n",
       "      <td>2015-01-20</td>\n",
       "      <td>107.839996</td>\n",
       "      <td>108.970001</td>\n",
       "      <td>106.500000</td>\n",
       "      <td>108.720001</td>\n",
       "      <td>49899900.0</td>\n",
       "      <td>107.356207</td>\n",
       "    </tr>\n",
       "    <tr>\n",
       "      <th>151</th>\n",
       "      <td>2015-01-16</td>\n",
       "      <td>107.029999</td>\n",
       "      <td>107.580002</td>\n",
       "      <td>105.199997</td>\n",
       "      <td>105.989998</td>\n",
       "      <td>78513300.0</td>\n",
       "      <td>104.660449</td>\n",
       "    </tr>\n",
       "    <tr>\n",
       "      <th>152</th>\n",
       "      <td>2015-01-15</td>\n",
       "      <td>110.000000</td>\n",
       "      <td>110.059998</td>\n",
       "      <td>106.660004</td>\n",
       "      <td>106.820000</td>\n",
       "      <td>60014000.0</td>\n",
       "      <td>105.480039</td>\n",
       "    </tr>\n",
       "    <tr>\n",
       "      <th>153</th>\n",
       "      <td>2015-01-14</td>\n",
       "      <td>109.040001</td>\n",
       "      <td>110.489998</td>\n",
       "      <td>108.500000</td>\n",
       "      <td>109.800003</td>\n",
       "      <td>48956600.0</td>\n",
       "      <td>108.422661</td>\n",
       "    </tr>\n",
       "    <tr>\n",
       "      <th>154</th>\n",
       "      <td>2015-01-13</td>\n",
       "      <td>111.430000</td>\n",
       "      <td>112.800003</td>\n",
       "      <td>108.910004</td>\n",
       "      <td>110.220001</td>\n",
       "      <td>67091900.0</td>\n",
       "      <td>108.837391</td>\n",
       "    </tr>\n",
       "    <tr>\n",
       "      <th>155</th>\n",
       "      <td>2015-01-12</td>\n",
       "      <td>112.599998</td>\n",
       "      <td>112.629997</td>\n",
       "      <td>108.800003</td>\n",
       "      <td>109.250000</td>\n",
       "      <td>49650800.0</td>\n",
       "      <td>107.879558</td>\n",
       "    </tr>\n",
       "    <tr>\n",
       "      <th>156</th>\n",
       "      <td>2015-01-09</td>\n",
       "      <td>112.669998</td>\n",
       "      <td>113.250000</td>\n",
       "      <td>110.209999</td>\n",
       "      <td>112.010002</td>\n",
       "      <td>53699500.0</td>\n",
       "      <td>110.604938</td>\n",
       "    </tr>\n",
       "    <tr>\n",
       "      <th>157</th>\n",
       "      <td>2015-01-08</td>\n",
       "      <td>109.230003</td>\n",
       "      <td>112.150002</td>\n",
       "      <td>108.699997</td>\n",
       "      <td>111.889999</td>\n",
       "      <td>59364500.0</td>\n",
       "      <td>110.486441</td>\n",
       "    </tr>\n",
       "    <tr>\n",
       "      <th>158</th>\n",
       "      <td>2015-01-07</td>\n",
       "      <td>107.199997</td>\n",
       "      <td>108.199997</td>\n",
       "      <td>106.699997</td>\n",
       "      <td>107.750000</td>\n",
       "      <td>40105900.0</td>\n",
       "      <td>106.398374</td>\n",
       "    </tr>\n",
       "    <tr>\n",
       "      <th>159</th>\n",
       "      <td>2015-01-06</td>\n",
       "      <td>106.540001</td>\n",
       "      <td>107.430000</td>\n",
       "      <td>104.629997</td>\n",
       "      <td>106.260002</td>\n",
       "      <td>65797100.0</td>\n",
       "      <td>104.927067</td>\n",
       "    </tr>\n",
       "    <tr>\n",
       "      <th>160</th>\n",
       "      <td>2015-01-05</td>\n",
       "      <td>108.290001</td>\n",
       "      <td>108.650002</td>\n",
       "      <td>105.410004</td>\n",
       "      <td>106.250000</td>\n",
       "      <td>64285500.0</td>\n",
       "      <td>104.917190</td>\n",
       "    </tr>\n",
       "    <tr>\n",
       "      <th>161</th>\n",
       "      <td>2015-01-02</td>\n",
       "      <td>111.389999</td>\n",
       "      <td>111.440002</td>\n",
       "      <td>107.349998</td>\n",
       "      <td>109.330002</td>\n",
       "      <td>53204600.0</td>\n",
       "      <td>107.958556</td>\n",
       "    </tr>\n",
       "  </tbody>\n",
       "</table>\n",
       "<p>162 rows × 7 columns</p>\n",
       "</div>"
      ],
      "text/plain": [
       "           Date        Open        High         Low       Close       Volume  \\\n",
       "0    2015-08-24   94.870003  103.449997   92.000000  103.120003  161454200.0   \n",
       "1    2015-08-21  110.430000  111.900002  105.650002  105.760002  126289200.0   \n",
       "2    2015-08-20  114.080002  114.349998  111.629997  112.650002   67765500.0   \n",
       "3    2015-08-19  116.099998  116.519997  114.680000  115.010002   47445700.0   \n",
       "4    2015-08-18  116.430000  117.440002  116.010002  116.500000   34461400.0   \n",
       "5    2015-08-17  116.040001  117.650002  115.500000  117.160004   40702200.0   \n",
       "6    2015-08-14  114.320000  116.309998  114.010002  115.959999   42693200.0   \n",
       "7    2015-08-13  116.040001  116.400002  114.540001  115.150002   48335500.0   \n",
       "8    2015-08-12  112.529999  115.419998  109.629997  115.239998  101217500.0   \n",
       "9    2015-08-11  117.809998  118.180000  113.330002  113.489998   95711900.0   \n",
       "10   2015-08-10  116.529999  119.989998  116.529999  119.720001   54538500.0   \n",
       "11   2015-08-07  114.580002  116.250000  114.500000  115.519997   38421400.0   \n",
       "12   2015-08-06  115.970001  116.500000  114.120003  115.129997   52903000.0   \n",
       "13   2015-08-05  112.949997  117.440002  112.099998  115.400002   99312600.0   \n",
       "14   2015-08-04  117.419998  117.699997  113.250000  114.639999  124138600.0   \n",
       "15   2015-08-03  121.500000  122.570000  117.519997  118.440002   69976000.0   \n",
       "16   2015-07-31  122.599998  122.639999  120.910004  121.300003   42885000.0   \n",
       "17   2015-07-30  122.320000  122.570000  121.709999  122.370003   33628300.0   \n",
       "18   2015-07-29  123.150002  123.500000  122.269997  122.989998   37011700.0   \n",
       "19   2015-07-28  123.379997  123.910004  122.550003  123.379997   33618100.0   \n",
       "20   2015-07-27  123.089996  123.610001  122.120003  122.769997   44455500.0   \n",
       "21   2015-07-24  125.320000  125.739998  123.900002  124.500000   42162300.0   \n",
       "22   2015-07-23  126.199997  127.089996  125.059998  125.160004   50999500.0   \n",
       "23   2015-07-22  121.989998  125.500000  121.989998  125.220001  115450600.0   \n",
       "24   2015-07-21  132.850006  132.919998  130.320007  130.750000   76756400.0   \n",
       "25   2015-07-20  130.970001  132.970001  130.699997  132.070007   58900200.0   \n",
       "26   2015-07-17  129.080002  129.619995  128.309998  129.619995   46164700.0   \n",
       "27   2015-07-16  127.739998  128.570007  127.349998  128.509995   36222400.0   \n",
       "28   2015-07-15  125.720001  127.150002  125.580002  126.820000   33649200.0   \n",
       "29   2015-07-14  126.040001  126.370003  125.040001  125.610001   31768100.0   \n",
       "..          ...         ...         ...         ...         ...          ...   \n",
       "132  2015-02-13  127.279999  127.279999  125.650002  127.080002   54272200.0   \n",
       "133  2015-02-12  126.059998  127.480003  125.570000  126.459999   74474500.0   \n",
       "134  2015-02-11  122.769997  124.919998  122.500000  124.879997   73561800.0   \n",
       "135  2015-02-10  120.169998  122.150002  120.160004  122.019997   62008500.0   \n",
       "136  2015-02-09  118.550003  119.839996  118.430000  119.720001   38889800.0   \n",
       "137  2015-02-06  120.019997  120.250000  118.449997  118.930000   43372000.0   \n",
       "138  2015-02-05  120.019997  120.230003  119.250000  119.940002   42246200.0   \n",
       "139  2015-02-04  118.500000  120.510002  118.309998  119.559998   70149700.0   \n",
       "140  2015-02-03  118.500000  119.089996  117.610001  118.650002   51915700.0   \n",
       "141  2015-02-02  118.050003  119.169998  116.080002  118.629997   62739100.0   \n",
       "142  2015-01-30  118.400002  120.000000  116.849998  117.160004   83745500.0   \n",
       "143  2015-01-29  116.320000  119.190002  115.559998  118.900002   84436400.0   \n",
       "144  2015-01-28  117.629997  118.120003  115.309998  115.309998  146477100.0   \n",
       "145  2015-01-27  112.419998  112.480003  109.029999  109.139999   95568700.0   \n",
       "146  2015-01-26  113.739998  114.360001  112.800003  113.099998   55615000.0   \n",
       "147  2015-01-23  112.300003  113.750000  111.529999  112.980003   46464800.0   \n",
       "148  2015-01-22  110.260002  112.470001  109.720001  112.400002   53796400.0   \n",
       "149  2015-01-21  108.949997  111.059998  108.269997  109.550003   48575900.0   \n",
       "150  2015-01-20  107.839996  108.970001  106.500000  108.720001   49899900.0   \n",
       "151  2015-01-16  107.029999  107.580002  105.199997  105.989998   78513300.0   \n",
       "152  2015-01-15  110.000000  110.059998  106.660004  106.820000   60014000.0   \n",
       "153  2015-01-14  109.040001  110.489998  108.500000  109.800003   48956600.0   \n",
       "154  2015-01-13  111.430000  112.800003  108.910004  110.220001   67091900.0   \n",
       "155  2015-01-12  112.599998  112.629997  108.800003  109.250000   49650800.0   \n",
       "156  2015-01-09  112.669998  113.250000  110.209999  112.010002   53699500.0   \n",
       "157  2015-01-08  109.230003  112.150002  108.699997  111.889999   59364500.0   \n",
       "158  2015-01-07  107.199997  108.199997  106.699997  107.750000   40105900.0   \n",
       "159  2015-01-06  106.540001  107.430000  104.629997  106.260002   65797100.0   \n",
       "160  2015-01-05  108.290001  108.650002  105.410004  106.250000   64285500.0   \n",
       "161  2015-01-02  111.389999  111.440002  107.349998  109.330002   53204600.0   \n",
       "\n",
       "     Adjusted Close  \n",
       "0        103.120003  \n",
       "1        105.760002  \n",
       "2        112.650002  \n",
       "3        115.010002  \n",
       "4        116.500000  \n",
       "5        117.160004  \n",
       "6        115.959999  \n",
       "7        115.150002  \n",
       "8        115.239998  \n",
       "9        113.489998  \n",
       "10       119.720001  \n",
       "11       115.519997  \n",
       "12       115.129997  \n",
       "13       114.880003  \n",
       "14       114.123426  \n",
       "15       117.906306  \n",
       "16       120.753419  \n",
       "17       121.818597  \n",
       "18       122.435799  \n",
       "19       122.824041  \n",
       "20       122.216789  \n",
       "21       123.938997  \n",
       "22       124.596026  \n",
       "23       124.655753  \n",
       "24       130.160834  \n",
       "25       131.474893  \n",
       "26       129.035921  \n",
       "27       127.930922  \n",
       "28       126.248542  \n",
       "29       125.043995  \n",
       "..              ...  \n",
       "132      125.981145  \n",
       "133      125.366504  \n",
       "134      123.800164  \n",
       "135      120.964894  \n",
       "136      118.684787  \n",
       "137      117.901617  \n",
       "138      118.902885  \n",
       "139      118.060226  \n",
       "140      117.161645  \n",
       "141      117.141891  \n",
       "142      115.690337  \n",
       "143      117.408509  \n",
       "144      113.863538  \n",
       "145      107.770937  \n",
       "146      111.681261  \n",
       "147      111.562771  \n",
       "148      110.990045  \n",
       "149      108.175797  \n",
       "150      107.356207  \n",
       "151      104.660449  \n",
       "152      105.480039  \n",
       "153      108.422661  \n",
       "154      108.837391  \n",
       "155      107.879558  \n",
       "156      110.604938  \n",
       "157      110.486441  \n",
       "158      106.398374  \n",
       "159      104.927067  \n",
       "160      104.917190  \n",
       "161      107.958556  \n",
       "\n",
       "[162 rows x 7 columns]"
      ]
     },
     "execution_count": 77,
     "metadata": {},
     "output_type": "execute_result"
    }
   ],
   "source": [
    "aapl[aapl.Date > '2015']"
   ]
  },
  {
   "cell_type": "markdown",
   "metadata": {},
   "source": [
    "However, by default we can't access individual attributes of a date value this way (because the value, despite being worked with as a date isn't actually a datetime)"
   ]
  },
  {
   "cell_type": "code",
   "execution_count": 78,
   "metadata": {
    "ExecuteTime": {
     "end_time": "2019-07-03T12:55:45.840897Z",
     "start_time": "2019-07-03T12:55:45.553752Z"
    }
   },
   "outputs": [
    {
     "ename": "AttributeError",
     "evalue": "'str' object has no attribute 'month'",
     "output_type": "error",
     "traceback": [
      "\u001b[0;31m----------------------------------------------------------------------\u001b[0m",
      "\u001b[0;31mAttributeError\u001b[0m                       Traceback (most recent call last)",
      "\u001b[0;32m<ipython-input-78-3ea9fcb8f69d>\u001b[0m in \u001b[0;36m<module>\u001b[0;34m\u001b[0m\n\u001b[0;32m----> 1\u001b[0;31m \u001b[0maapl\u001b[0m\u001b[0;34m.\u001b[0m\u001b[0mDate\u001b[0m\u001b[0;34m[\u001b[0m\u001b[0;36m0\u001b[0m\u001b[0;34m]\u001b[0m\u001b[0;34m.\u001b[0m\u001b[0mmonth\u001b[0m\u001b[0;34m\u001b[0m\u001b[0;34m\u001b[0m\u001b[0m\n\u001b[0m",
      "\u001b[0;31mAttributeError\u001b[0m: 'str' object has no attribute 'month'"
     ]
    }
   ],
   "source": [
    "aapl.Date[0].month"
   ]
  },
  {
   "cell_type": "markdown",
   "metadata": {},
   "source": [
    "See, Pandas is actually doing all of this with the date as a string!  If we need real datetimes though, Pandas has a function to convert it."
   ]
  },
  {
   "cell_type": "code",
   "execution_count": 85,
   "metadata": {
    "ExecuteTime": {
     "end_time": "2019-07-03T12:56:13.196495Z",
     "start_time": "2019-07-03T12:56:13.185903Z"
    }
   },
   "outputs": [
    {
     "data": {
      "text/plain": [
       "dtDate\n",
       "2015-08-24   2015-08-24\n",
       "2015-08-21   2015-08-21\n",
       "2015-08-20   2015-08-20\n",
       "2015-08-19   2015-08-19\n",
       "2015-08-18   2015-08-18\n",
       "Name: dtDate, dtype: datetime64[ns]"
      ]
     },
     "execution_count": 85,
     "metadata": {},
     "output_type": "execute_result"
    }
   ],
   "source": [
    "aapl['dtDate'] = pd.to_datetime(aapl.Date)\n",
    "aapl.dtDate.head()"
   ]
  },
  {
   "cell_type": "code",
   "execution_count": 86,
   "metadata": {
    "ExecuteTime": {
     "end_time": "2019-07-03T12:56:13.698116Z",
     "start_time": "2019-07-03T12:56:13.687935Z"
    }
   },
   "outputs": [
    {
     "data": {
      "text/plain": [
       "8"
      ]
     },
     "execution_count": 86,
     "metadata": {},
     "output_type": "execute_result"
    }
   ],
   "source": [
    "aapl.dtDate[0].month"
   ]
  },
  {
   "cell_type": "markdown",
   "metadata": {},
   "source": [
    "And even better, Pandas has the ability to plot timeseries with the dates directly! You just have to set the datetime column as the index."
   ]
  },
  {
   "cell_type": "code",
   "execution_count": 87,
   "metadata": {
    "ExecuteTime": {
     "end_time": "2019-07-03T12:56:15.994355Z",
     "start_time": "2019-07-03T12:56:15.781017Z"
    }
   },
   "outputs": [
    {
     "data": {
      "text/plain": [
       "Text(0, 0.5, 'Closing Price')"
      ]
     },
     "execution_count": 87,
     "metadata": {},
     "output_type": "execute_result"
    },
    {
     "data": {
      "image/png": "[encoded data removed]",
      "text/plain": [
       "<Figure size 432x288 with 1 Axes>"
      ]
     },
     "metadata": {
      "needs_background": "light"
     },
     "output_type": "display_data"
    }
   ],
   "source": [
    "aapl.set_index('dtDate', inplace=True)\n",
    "ax = aapl.Close.plot(color='steelblue')\n",
    "ax.set_ylabel('Closing Price')"
   ]
  },
  {
   "cell_type": "code",
   "execution_count": 88,
   "metadata": {
    "ExecuteTime": {
     "end_time": "2019-07-03T12:56:18.500414Z",
     "start_time": "2019-07-03T12:56:18.484867Z"
    }
   },
   "outputs": [
    {
     "data": {
      "text/html": [
       "<div>\n",
       "<style scoped>\n",
       "    .dataframe tbody tr th:only-of-type {\n",
       "        vertical-align: middle;\n",
       "    }\n",
       "\n",
       "    .dataframe tbody tr th {\n",
       "        vertical-align: top;\n",
       "    }\n",
       "\n",
       "    .dataframe thead th {\n",
       "        text-align: right;\n",
       "    }\n",
       "</style>\n",
       "<table border=\"1\" class=\"dataframe\">\n",
       "  <thead>\n",
       "    <tr style=\"text-align: right;\">\n",
       "      <th></th>\n",
       "      <th>Date</th>\n",
       "      <th>Open</th>\n",
       "      <th>High</th>\n",
       "      <th>Low</th>\n",
       "      <th>Close</th>\n",
       "      <th>Volume</th>\n",
       "      <th>Adjusted Close</th>\n",
       "    </tr>\n",
       "    <tr>\n",
       "      <th>dtDate</th>\n",
       "      <th></th>\n",
       "      <th></th>\n",
       "      <th></th>\n",
       "      <th></th>\n",
       "      <th></th>\n",
       "      <th></th>\n",
       "      <th></th>\n",
       "    </tr>\n",
       "  </thead>\n",
       "  <tbody>\n",
       "    <tr>\n",
       "      <th>2015-08-24</th>\n",
       "      <td>2015-08-24</td>\n",
       "      <td>94.870003</td>\n",
       "      <td>103.449997</td>\n",
       "      <td>92.000000</td>\n",
       "      <td>103.120003</td>\n",
       "      <td>161454200.0</td>\n",
       "      <td>103.120003</td>\n",
       "    </tr>\n",
       "    <tr>\n",
       "      <th>2015-08-21</th>\n",
       "      <td>2015-08-21</td>\n",
       "      <td>110.430000</td>\n",
       "      <td>111.900002</td>\n",
       "      <td>105.650002</td>\n",
       "      <td>105.760002</td>\n",
       "      <td>126289200.0</td>\n",
       "      <td>105.760002</td>\n",
       "    </tr>\n",
       "    <tr>\n",
       "      <th>2015-08-20</th>\n",
       "      <td>2015-08-20</td>\n",
       "      <td>114.080002</td>\n",
       "      <td>114.349998</td>\n",
       "      <td>111.629997</td>\n",
       "      <td>112.650002</td>\n",
       "      <td>67765500.0</td>\n",
       "      <td>112.650002</td>\n",
       "    </tr>\n",
       "    <tr>\n",
       "      <th>2015-08-19</th>\n",
       "      <td>2015-08-19</td>\n",
       "      <td>116.099998</td>\n",
       "      <td>116.519997</td>\n",
       "      <td>114.680000</td>\n",
       "      <td>115.010002</td>\n",
       "      <td>47445700.0</td>\n",
       "      <td>115.010002</td>\n",
       "    </tr>\n",
       "    <tr>\n",
       "      <th>2015-08-18</th>\n",
       "      <td>2015-08-18</td>\n",
       "      <td>116.430000</td>\n",
       "      <td>117.440002</td>\n",
       "      <td>116.010002</td>\n",
       "      <td>116.500000</td>\n",
       "      <td>34461400.0</td>\n",
       "      <td>116.500000</td>\n",
       "    </tr>\n",
       "  </tbody>\n",
       "</table>\n",
       "</div>"
      ],
      "text/plain": [
       "                  Date        Open        High         Low       Close  \\\n",
       "dtDate                                                                   \n",
       "2015-08-24  2015-08-24   94.870003  103.449997   92.000000  103.120003   \n",
       "2015-08-21  2015-08-21  110.430000  111.900002  105.650002  105.760002   \n",
       "2015-08-20  2015-08-20  114.080002  114.349998  111.629997  112.650002   \n",
       "2015-08-19  2015-08-19  116.099998  116.519997  114.680000  115.010002   \n",
       "2015-08-18  2015-08-18  116.430000  117.440002  116.010002  116.500000   \n",
       "\n",
       "                 Volume  Adjusted Close  \n",
       "dtDate                                   \n",
       "2015-08-24  161454200.0      103.120003  \n",
       "2015-08-21  126289200.0      105.760002  \n",
       "2015-08-20   67765500.0      112.650002  \n",
       "2015-08-19   47445700.0      115.010002  \n",
       "2015-08-18   34461400.0      116.500000  "
      ]
     },
     "execution_count": 88,
     "metadata": {},
     "output_type": "execute_result"
    }
   ],
   "source": [
    "aapl.head()"
   ]
  },
  {
   "cell_type": "markdown",
   "metadata": {},
   "source": [
    "# Advanced built-in functions\n",
    "\n",
    "Pandas also has a number of built-in functions that are a bit more advanced and useful with structured analysis. One great function is the `rolling_mean()`, which calculates a mean given a certain size window."
   ]
  },
  {
   "cell_type": "code",
   "execution_count": 91,
   "metadata": {
    "ExecuteTime": {
     "end_time": "2019-07-03T12:57:19.607957Z",
     "start_time": "2019-07-03T12:57:19.312085Z"
    }
   },
   "outputs": [
    {
     "data": {
      "text/plain": [
       "<matplotlib.legend.Legend at 0x117976c18>"
      ]
     },
     "execution_count": 91,
     "metadata": {},
     "output_type": "execute_result"
    },
    {
     "data": {
      "image/png": "[encoded data removed]",
      "text/plain": [
       "<Figure size 432x288 with 1 Axes>"
      ]
     },
     "metadata": {
      "needs_background": "light"
     },
     "output_type": "display_data"
    }
   ],
   "source": [
    "#There are roughly 260 workdays in a year\n",
    "close_moving_avg = aapl.Close.rolling(260).mean()\n",
    "#Now we just plot it\n",
    "ax = aapl.Close.plot(color='steelblue')\n",
    "close_moving_avg.plot(label='Moving Average', color='green')\n",
    "ax.set_ylabel('Closing Price')\n",
    "ax.legend(loc='best')"
   ]
  },
  {
   "cell_type": "markdown",
   "metadata": {},
   "source": [
    "What if we were interested in the movement of the stock between each day (i.e. did the stock lose or gain money from one day to another)?  We can do that easily with the `diff()` function."
   ]
  },
  {
   "cell_type": "code",
   "execution_count": 92,
   "metadata": {
    "ExecuteTime": {
     "end_time": "2019-07-03T12:57:33.488999Z",
     "start_time": "2019-07-03T12:57:33.260812Z"
    }
   },
   "outputs": [
    {
     "data": {
      "text/plain": [
       "Text(17.200000000000003, 0.5, 'Daily Return')"
      ]
     },
     "execution_count": 92,
     "metadata": {},
     "output_type": "execute_result"
    },
    {
     "data": {
      "image/png": "[encoded data removed]",
      "text/plain": [
       "<Figure size 432x288 with 1 Axes>"
      ]
     },
     "metadata": {
      "needs_background": "light"
     },
     "output_type": "display_data"
    }
   ],
   "source": [
    "aapl.Close.diff().plot(color='steelblue')\n",
    "ax.set_ylabel('Daily Return')"
   ]
  },
  {
   "cell_type": "markdown",
   "metadata": {},
   "source": [
    "And remember at anytime we can restrict the dataset with a query and plot only that portion"
   ]
  },
  {
   "cell_type": "code",
   "execution_count": 93,
   "metadata": {
    "ExecuteTime": {
     "end_time": "2019-07-03T12:57:36.049758Z",
     "start_time": "2019-07-03T12:57:35.816534Z"
    }
   },
   "outputs": [
    {
     "data": {
      "text/plain": [
       "Text(17.200000000000003, 0.5, 'Daily Return')"
      ]
     },
     "execution_count": 93,
     "metadata": {},
     "output_type": "execute_result"
    },
    {
     "data": {
      "image/png": "[encoded data removed]",
      "text/plain": [
       "<Figure size 432x288 with 1 Axes>"
      ]
     },
     "metadata": {
      "needs_background": "light"
     },
     "output_type": "display_data"
    }
   ],
   "source": [
    "aapl[aapl.Date < '2014'].Close.diff().plot(color='steelblue')\n",
    "ax.set_ylabel('Daily Return')"
   ]
  },
  {
   "cell_type": "markdown",
   "metadata": {},
   "source": [
    "What you're seeing above is lots of function calls one on top of the other. This is called `chaining` (and isn't very pythonic), but can be very useful. We can do this with most functions, watch as we finish with the mean or standard deviation."
   ]
  },
  {
   "cell_type": "code",
   "execution_count": 94,
   "metadata": {
    "ExecuteTime": {
     "end_time": "2019-07-03T12:57:37.049011Z",
     "start_time": "2019-07-03T12:57:37.039693Z"
    }
   },
   "outputs": [
    {
     "data": {
      "text/plain": [
       "-0.06385964691061798"
      ]
     },
     "execution_count": 94,
     "metadata": {},
     "output_type": "execute_result"
    }
   ],
   "source": [
    "aapl[aapl.Date < '2014'].Close.diff().mean()"
   ]
  },
  {
   "cell_type": "code",
   "execution_count": 95,
   "metadata": {
    "ExecuteTime": {
     "end_time": "2019-07-03T12:57:37.534926Z",
     "start_time": "2019-07-03T12:57:37.524618Z"
    }
   },
   "outputs": [
    {
     "data": {
      "text/plain": [
       "3.262637419334091"
      ]
     },
     "execution_count": 95,
     "metadata": {},
     "output_type": "execute_result"
    }
   ],
   "source": [
    "aapl[aapl.Date < '2014'].Close.diff().std()"
   ]
  },
  {
   "cell_type": "code",
   "execution_count": 96,
   "metadata": {
    "ExecuteTime": {
     "end_time": "2019-07-03T12:57:37.810502Z",
     "start_time": "2019-07-03T12:57:37.798868Z"
    }
   },
   "outputs": [
    {
     "data": {
      "text/plain": [
       "0.0"
      ]
     },
     "execution_count": 96,
     "metadata": {},
     "output_type": "execute_result"
    }
   ],
   "source": [
    "aapl[aapl.Date < '2014'].Close.diff().median()"
   ]
  },
  {
   "cell_type": "code",
   "execution_count": 97,
   "metadata": {
    "ExecuteTime": {
     "end_time": "2019-07-03T12:57:39.250782Z",
     "start_time": "2019-07-03T12:57:38.276408Z"
    }
   },
   "outputs": [
    {
     "data": {
      "text/plain": [
       "<matplotlib.axes._subplots.AxesSubplot at 0x118fda828>"
      ]
     },
     "execution_count": 97,
     "metadata": {},
     "output_type": "execute_result"
    },
    {
     "data": {
      "image/png": "[encoded data removed]",
      "text/plain": [
       "<Figure size 432x288 with 1 Axes>"
      ]
     },
     "metadata": {
      "needs_background": "light"
     },
     "output_type": "display_data"
    }
   ],
   "source": [
    "aapl[aapl.Date < '2014'].Close.diff().hist(bins=100, color='steelblue', log=True)"
   ]
  },
  {
   "cell_type": "markdown",
   "metadata": {},
   "source": [
    "# Split-Apply-Combine\n",
    "\n",
    "Pandas also has a codified pipline to handle faceting data, they refer to it as [Split-Apply-Combine](http://pandas.pydata.org/pandas-docs/stable/groupby.html). In laymans terms, this means:\n",
    "\n",
    "1. Split the data into groups\n",
    "2. Compute some function or transform the data in some way\n",
    "3. Combine into a new dataframe that has the groups as rows\n",
    "\n",
    "To test this we will work with the Major data again, we will probably be interested in comparing the different major categories. How many major categories do we have?"
   ]
  },
  {
   "cell_type": "code",
   "execution_count": null,
   "metadata": {},
   "outputs": [],
   "source": []
  },
  {
   "cell_type": "markdown",
   "metadata": {},
   "source": [
    "Woops! To do a meaningfull analysis, we'll need to read in the rest of the files for the other majors."
   ]
  },
  {
   "cell_type": "code",
   "execution_count": null,
   "metadata": {},
   "outputs": [],
   "source": [
    "ls ../Data/Day4-Dictionaries/College-Majors/"
   ]
  },
  {
   "cell_type": "markdown",
   "metadata": {},
   "source": [
    "Let's load in all of the `recent_*csv` files"
   ]
  },
  {
   "cell_type": "code",
   "execution_count": null,
   "metadata": {},
   "outputs": [],
   "source": [
    "#Your code\n"
   ]
  },
  {
   "cell_type": "markdown",
   "metadata": {},
   "source": [
    "But a list or dictionary of separate dataframes defeats the real utility of Pandas! We could go through the list and keeping adding all of the dataframes together, but instead we can use the built-in `concat()` function to put a list of dataframes together."
   ]
  },
  {
   "cell_type": "code",
   "execution_count": null,
   "metadata": {},
   "outputs": [],
   "source": [
    "fulldf = pd.concat(majordfs)\n",
    "fulldf.Major_category.unique()"
   ]
  },
  {
   "cell_type": "code",
   "execution_count": null,
   "metadata": {},
   "outputs": [],
   "source": [
    "fulldf.head()"
   ]
  },
  {
   "cell_type": "markdown",
   "metadata": {},
   "source": [
    "One quantity that we might be interested in is the percentage of graduates who are in low wage jobs per major category. To do that, the first thing we would have to do is group all of the majors by their major category. To do that, we use the `groupby()` function."
   ]
  },
  {
   "cell_type": "code",
   "execution_count": null,
   "metadata": {},
   "outputs": [],
   "source": [
    "grouped = fulldf.groupby('Major_category')\n",
    "dir(grouped)"
   ]
  },
  {
   "cell_type": "markdown",
   "metadata": {},
   "source": [
    "The grouped dataframe is a bit different than the regular dataframe, it's because it's storing all of the data grouped together.\n",
    "\n",
    "There are analytical functions that we can run on the entire grouped dataframe, such as getting the variance or mean."
   ]
  },
  {
   "cell_type": "code",
   "execution_count": null,
   "metadata": {},
   "outputs": [],
   "source": [
    "grouped.var()"
   ]
  },
  {
   "cell_type": "code",
   "execution_count": null,
   "metadata": {},
   "outputs": [],
   "source": [
    "grouped.mean()"
   ]
  },
  {
   "cell_type": "markdown",
   "metadata": {},
   "source": [
    "We can also use any of these functions on an individual column."
   ]
  },
  {
   "cell_type": "code",
   "execution_count": null,
   "metadata": {},
   "outputs": [],
   "source": [
    "grouped.Men.mean()"
   ]
  },
  {
   "cell_type": "markdown",
   "metadata": {},
   "source": [
    "But we can't use a function on the individual columns"
   ]
  },
  {
   "cell_type": "code",
   "execution_count": null,
   "metadata": {},
   "outputs": [],
   "source": [
    "grouped.Low_wage_jobs / grouped.Employed"
   ]
  },
  {
   "cell_type": "markdown",
   "metadata": {},
   "source": [
    "So any column that you want to use in the grouped analysis should be generated before you group the dataframe. Otherwise, you'll need to create the column in each group dataframe."
   ]
  },
  {
   "cell_type": "code",
   "execution_count": null,
   "metadata": {},
   "outputs": [],
   "source": [
    "fulldf['Pct_Low_wage'] = fulldf.Low_wage_jobs/ fulldf.Employed\n",
    "grouped = fulldf.groupby('Major_category')\n",
    "grouped.Pct_Low_wage.mean()"
   ]
  },
  {
   "cell_type": "markdown",
   "metadata": {},
   "source": [
    "But typically we will want to know more about a grouped column of data than just the mean (or I really hope you do). Other quantities you should care about are median, standard deviation, and standard error. \n",
    "\n",
    "That is where the aggregate function comes in handy (this is where the `Apply` and `Combine` come into play). The `agg` function allows you to specify multiple functions at the same time and returns a single dataframe."
   ]
  },
  {
   "cell_type": "code",
   "execution_count": null,
   "metadata": {},
   "outputs": [],
   "source": [
    "grouped.Pct_Low_wage.agg(['mean', 'median', 'std', 'sem'])"
   ]
  },
  {
   "cell_type": "markdown",
   "metadata": {},
   "source": [
    "And we could even combine this and plot it. "
   ]
  },
  {
   "cell_type": "code",
   "execution_count": null,
   "metadata": {},
   "outputs": [],
   "source": [
    "ax = grouped.Pct_Low_wage.agg(['mean', 'median', 'std', 'sem'])\\\n",
    "                         .loc[:, ['mean', 'sem']]\\\n",
    "                         .plot(kind='bar', yerr = 'sem', color='steelblue')\n",
    "ax.set_ylabel('Percentage Low Wage')"
   ]
  },
  {
   "cell_type": "markdown",
   "metadata": {},
   "source": [
    "We can also use functions that are outside of Pandas too and apply them."
   ]
  },
  {
   "cell_type": "code",
   "execution_count": null,
   "metadata": {},
   "outputs": [],
   "source": [
    "grouped.Pct_Low_wage.agg([np.sum])"
   ]
  },
  {
   "cell_type": "markdown",
   "metadata": {},
   "source": [
    "Or write our own functions if we give it as a dictionary and use a `lambda` function (`lambda` functions create a function in a single line."
   ]
  },
  {
   "cell_type": "code",
   "execution_count": null,
   "metadata": {},
   "outputs": [],
   "source": [
    "import random\n",
    "grouped.Pct_Low_wage.agg({'NoisyAverage': lambda x: np.mean(x*random.random())})"
   ]
  },
  {
   "cell_type": "markdown",
   "metadata": {
    "collapsed": true
   },
   "source": [
    "# Getting your data out of Pandas\n",
    "\n",
    "Sometimes you might really want to work with the data in a Pandas `dataframe` using regular Python code. At any time you can extract the data in a row, column or the entire dataframe.  We can do that simpy by appending `.values`.\n",
    "\n",
    "When we ask for the `values` from a Pandas `dataframe` it returns our old friend, the Numpy array."
   ]
  },
  {
   "cell_type": "code",
   "execution_count": null,
   "metadata": {},
   "outputs": [],
   "source": [
    "df.Total.values"
   ]
  },
  {
   "cell_type": "markdown",
   "metadata": {},
   "source": [
    "There, now we have an array of the actual raw values. We can iterate through these easily:"
   ]
  },
  {
   "cell_type": "code",
   "execution_count": null,
   "metadata": {},
   "outputs": [],
   "source": [
    "for value in df.Total.values:\n",
    "    print(value)"
   ]
  },
  {
   "cell_type": "markdown",
   "metadata": {},
   "source": [
    "If we need to have a list instead of a Numpy array (because they aren't the same thing!) we can do that easily too."
   ]
  },
  {
   "cell_type": "code",
   "execution_count": null,
   "metadata": {},
   "outputs": [],
   "source": [
    "df.Total.tolist()"
   ]
  },
  {
   "cell_type": "markdown",
   "metadata": {},
   "source": [
    "Had any of the manipulations we performed here actually been important, we'd of course want to save them. No more writing each item in the boring old python way, Pandas has a way to do this all in one line. All of the file formats that we could read, we can also write to. For a full list just type df.to follwed by TAB. For now, here is our excel example:"
   ]
  },
  {
   "cell_type": "code",
   "execution_count": null,
   "metadata": {},
   "outputs": [],
   "source": [
    "df.to_excel('../Data/Day4-Dictionaries/College-Majors/recent_Arts_edited.xlsx', sheet_name='Sheet1', index=False)"
   ]
  },
  {
   "cell_type": "markdown",
   "metadata": {
    "collapsed": true
   },
   "source": [
    "# Exercises\n",
    "\n",
    "Read in the data file for recent graduates in business"
   ]
  },
  {
   "cell_type": "code",
   "execution_count": null,
   "metadata": {},
   "outputs": [],
   "source": [
    "bdf = pd.read_csv('../Data/Day4-Dictionaries/College-Majors/recent_Business.csv')\n",
    "bdf"
   ]
  },
  {
   "cell_type": "markdown",
   "metadata": {},
   "source": [
    "Is the average unemployment rate greater for business or arts students?"
   ]
  },
  {
   "cell_type": "code",
   "execution_count": null,
   "metadata": {},
   "outputs": [],
   "source": [
    "bus_unemployment_rate = bdf.Unemployment_rate.mean()\n",
    "art_unemployment_rate = df.Unemployment_rate.mean()"
   ]
  },
  {
   "cell_type": "markdown",
   "metadata": {},
   "source": [
    "What if we are only interested in the majors that have more than 20,000 students for each? Which category has the lowest unemployment rate then?"
   ]
  },
  {
   "cell_type": "code",
   "execution_count": null,
   "metadata": {},
   "outputs": [],
   "source": []
  },
  {
   "cell_type": "markdown",
   "metadata": {},
   "source": [
    "Which major category has the greater share of women students when we consider majors with >20,000 students?"
   ]
  },
  {
   "cell_type": "code",
   "execution_count": null,
   "metadata": {},
   "outputs": [],
   "source": []
  },
  {
   "cell_type": "markdown",
   "metadata": {},
   "source": [
    "Exercises completed!"
   ]
  }
 ],
 "metadata": {
  "anaconda-cloud": {},
  "kernelspec": {
   "display_name": "Python 3",
   "language": "python",
   "name": "python3"
  },
  "language_info": {
   "codemirror_mode": {
    "name": "ipython",
    "version": 3
   },
   "file_extension": ".py",
   "mimetype": "text/x-python",
   "name": "python",
   "nbconvert_exporter": "python",
   "pygments_lexer": "ipython3",
   "version": "3.6.8"
  },
  "latex_envs": {
   "LaTeX_envs_menu_present": true,
   "autoclose": false,
   "autocomplete": true,
   "bibliofile": "biblio.bib",
   "cite_by": "apalike",
   "current_citInitial": 1,
   "eqLabelWithNumbers": true,
   "eqNumInitial": 1,
   "hotkeys": {
    "equation": "Ctrl-E",
    "itemize": "Ctrl-I"
   },
   "labels_anchors": false,
   "latex_user_defs": false,
   "report_style_numbering": false,
   "user_envs_cfg": false
  },
  "toc": {
   "nav_menu": {},
   "number_sections": true,
   "sideBar": true,
   "skip_h1_title": false,
   "title_cell": "Table of Contents",
   "title_sidebar": "Contents",
   "toc_cell": false,
   "toc_position": {},
   "toc_section_display": true,
   "toc_window_display": false
  }
 },
 "nbformat": 4,
 "nbformat_minor": 1
}
