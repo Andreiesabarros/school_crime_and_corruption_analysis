{
 "cells": [
  {
   "cell_type": "markdown",
   "metadata": {},
   "source": [
    "# Cross-validation"
   ]
  },
  {
   "cell_type": "code",
   "execution_count": 7,
   "metadata": {
    "ExecuteTime": {
     "end_time": "2019-07-03T14:12:02.182013Z",
     "start_time": "2019-07-03T14:12:02.176041Z"
    }
   },
   "outputs": [],
   "source": [
    "%matplotlib inline\n",
    "import matplotlib.pyplot as plt\n",
    "import numpy as np"
   ]
  },
  {
   "cell_type": "code",
   "execution_count": 8,
   "metadata": {
    "ExecuteTime": {
     "end_time": "2019-07-03T14:12:03.452387Z",
     "start_time": "2019-07-03T14:12:03.321995Z"
    }
   },
   "outputs": [],
   "source": [
    "from sklearn.datasets import load_digits\n",
    "from sklearn.model_selection import train_test_split\n",
    "digits = load_digits()\n",
    "X_train, X_test, y_train, y_test = train_test_split(digits.data, digits.target)"
   ]
  },
  {
   "cell_type": "code",
   "execution_count": 10,
   "metadata": {
    "ExecuteTime": {
     "end_time": "2019-07-03T14:13:32.381860Z",
     "start_time": "2019-07-03T14:13:32.378228Z"
    }
   },
   "outputs": [],
   "source": [
    "from sklearn.model_selection import cross_val_score\n",
    "from sklearn.neighbors import KNeighborsClassifier"
   ]
  },
  {
   "cell_type": "code",
   "execution_count": 4,
   "metadata": {
    "ExecuteTime": {
     "end_time": "2019-07-03T14:02:08.585427Z",
     "start_time": "2019-07-03T14:02:08.376923Z"
    }
   },
   "outputs": [
    {
     "data": {
      "text/plain": [
       "array([0.96336996, 0.98154982, 1.        , 0.98507463, 0.9887218 ])"
      ]
     },
     "execution_count": 4,
     "metadata": {},
     "output_type": "execute_result"
    }
   ],
   "source": [
    "cross_val_score(KNeighborsClassifier(),X_train, y_train, cv=5)"
   ]
  },
  {
   "cell_type": "code",
   "execution_count": 13,
   "metadata": {
    "ExecuteTime": {
     "end_time": "2019-07-03T14:18:06.339660Z",
     "start_time": "2019-07-03T14:18:06.335532Z"
    }
   },
   "outputs": [],
   "source": [
    "from sklearn.model_selection import KFold, StratifiedKFold"
   ]
  },
  {
   "cell_type": "code",
   "execution_count": 15,
   "metadata": {
    "ExecuteTime": {
     "end_time": "2019-07-03T14:19:26.564618Z",
     "start_time": "2019-07-03T14:19:26.331824Z"
    }
   },
   "outputs": [
    {
     "data": {
      "text/plain": [
       "array([0.97037037, 0.97777778, 0.96296296, 0.99259259, 0.97777778,\n",
       "       1.        , 0.99259259, 0.98507463, 1.        , 1.        ])"
      ]
     },
     "execution_count": 15,
     "metadata": {},
     "output_type": "execute_result"
    }
   ],
   "source": [
    "cross_val_score(KNeighborsClassifier(),\n",
    "                X_train, \n",
    "                y_train, \n",
    "                cv=KFold(n_splits=10, \n",
    "                         shuffle=True, \n",
    "                         random_state=42))"
   ]
  },
  {
   "cell_type": "markdown",
   "metadata": {},
   "source": [
    "Grid Searches\n",
    "================="
   ]
  },
  {
   "cell_type": "markdown",
   "metadata": {},
   "source": [
    "Grid-Search with build-in cross validation"
   ]
  },
  {
   "cell_type": "code",
   "execution_count": 18,
   "metadata": {
    "ExecuteTime": {
     "end_time": "2019-07-03T14:23:11.431768Z",
     "start_time": "2019-07-03T14:23:11.398474Z"
    }
   },
   "outputs": [],
   "source": [
    "from sklearn.model_selection import GridSearchCV\n",
    "from sklearn.svm import SVC"
   ]
  },
  {
   "cell_type": "markdown",
   "metadata": {},
   "source": [
    "Define parameter grid:"
   ]
  },
  {
   "cell_type": "code",
   "execution_count": 19,
   "metadata": {
    "ExecuteTime": {
     "end_time": "2019-07-03T14:23:12.243806Z",
     "start_time": "2019-07-03T14:23:12.238199Z"
    }
   },
   "outputs": [
    {
     "name": "stdout",
     "output_type": "stream",
     "text": [
      "{'C': array([  0.001,   0.01 ,   0.1  ,   1.   ,  10.   , 100.   ]), 'gamma': array([0.00001, 0.0001 , 0.001  , 0.01   , 0.1    ])}\n"
     ]
    }
   ],
   "source": [
    "import numpy as np\n",
    "\n",
    "param_grid = {'C': 10. ** np.arange(-3, 3),\n",
    "              'gamma' : 10. ** np.arange(-5, 0)}\n",
    "\n",
    "np.set_printoptions(suppress=True)\n",
    "print(param_grid)"
   ]
  },
  {
   "cell_type": "code",
   "execution_count": 20,
   "metadata": {
    "ExecuteTime": {
     "end_time": "2019-07-03T14:23:12.715148Z",
     "start_time": "2019-07-03T14:23:12.710713Z"
    }
   },
   "outputs": [],
   "source": [
    "grid_search = GridSearchCV(SVC(), param_grid, verbose=3, cv=5)"
   ]
  },
  {
   "cell_type": "markdown",
   "metadata": {},
   "source": [
    "A GridSearchCV object behaves just like a normal classifier."
   ]
  },
  {
   "cell_type": "code",
   "execution_count": 21,
   "metadata": {
    "ExecuteTime": {
     "end_time": "2019-07-03T14:24:11.254521Z",
     "start_time": "2019-07-03T14:23:33.847186Z"
    },
    "scrolled": true
   },
   "outputs": [
    {
     "name": "stdout",
     "output_type": "stream",
     "text": [
      "Fitting 5 folds for each of 30 candidates, totalling 150 fits\n",
      "[CV] C=0.001, gamma=1e-05 ............................................\n"
     ]
    },
    {
     "name": "stderr",
     "output_type": "stream",
     "text": [
      "[Parallel(n_jobs=1)]: Using backend SequentialBackend with 1 concurrent workers.\n"
     ]
    },
    {
     "name": "stdout",
     "output_type": "stream",
     "text": [
      "[CV] .. C=0.001, gamma=1e-05, score=0.10622710622710622, total=   0.2s\n",
      "[CV] C=0.001, gamma=1e-05 ............................................\n"
     ]
    },
    {
     "name": "stderr",
     "output_type": "stream",
     "text": [
      "[Parallel(n_jobs=1)]: Done   1 out of   1 | elapsed:    0.3s remaining:    0.0s\n"
     ]
    },
    {
     "name": "stdout",
     "output_type": "stream",
     "text": [
      "[CV] .. C=0.001, gamma=1e-05, score=0.10740740740740741, total=   0.2s\n",
      "[CV] C=0.001, gamma=1e-05 ............................................\n"
     ]
    },
    {
     "name": "stderr",
     "output_type": "stream",
     "text": [
      "[Parallel(n_jobs=1)]: Done   2 out of   2 | elapsed:    0.6s remaining:    0.0s\n"
     ]
    },
    {
     "name": "stdout",
     "output_type": "stream",
     "text": [
      "[CV] .. C=0.001, gamma=1e-05, score=0.10740740740740741, total=   0.2s\n",
      "[CV] C=0.001, gamma=1e-05 ............................................\n",
      "[CV] .. C=0.001, gamma=1e-05, score=0.10820895522388059, total=   0.2s\n",
      "[CV] C=0.001, gamma=1e-05 ............................................\n",
      "[CV] .. C=0.001, gamma=1e-05, score=0.10526315789473684, total=   0.2s\n",
      "[CV] C=0.001, gamma=0.0001 ...........................................\n",
      "[CV] . C=0.001, gamma=0.0001, score=0.10622710622710622, total=   0.2s\n",
      "[CV] C=0.001, gamma=0.0001 ...........................................\n",
      "[CV] . C=0.001, gamma=0.0001, score=0.10740740740740741, total=   0.2s\n",
      "[CV] C=0.001, gamma=0.0001 ...........................................\n",
      "[CV] . C=0.001, gamma=0.0001, score=0.10740740740740741, total=   0.2s\n",
      "[CV] C=0.001, gamma=0.0001 ...........................................\n",
      "[CV] . C=0.001, gamma=0.0001, score=0.10820895522388059, total=   0.2s\n",
      "[CV] C=0.001, gamma=0.0001 ...........................................\n",
      "[CV] . C=0.001, gamma=0.0001, score=0.10526315789473684, total=   0.2s\n",
      "[CV] C=0.001, gamma=0.001 ............................................\n",
      "[CV] .. C=0.001, gamma=0.001, score=0.10622710622710622, total=   0.2s\n",
      "[CV] C=0.001, gamma=0.001 ............................................\n",
      "[CV] .. C=0.001, gamma=0.001, score=0.10740740740740741, total=   0.2s\n",
      "[CV] C=0.001, gamma=0.001 ............................................\n",
      "[CV] .. C=0.001, gamma=0.001, score=0.10740740740740741, total=   0.2s\n",
      "[CV] C=0.001, gamma=0.001 ............................................\n",
      "[CV] .. C=0.001, gamma=0.001, score=0.10820895522388059, total=   0.2s\n",
      "[CV] C=0.001, gamma=0.001 ............................................\n",
      "[CV] .. C=0.001, gamma=0.001, score=0.10526315789473684, total=   0.2s\n",
      "[CV] C=0.001, gamma=0.01 .............................................\n",
      "[CV] ... C=0.001, gamma=0.01, score=0.10622710622710622, total=   0.2s\n",
      "[CV] C=0.001, gamma=0.01 .............................................\n",
      "[CV] ... C=0.001, gamma=0.01, score=0.10740740740740741, total=   0.2s\n",
      "[CV] C=0.001, gamma=0.01 .............................................\n",
      "[CV] ... C=0.001, gamma=0.01, score=0.10740740740740741, total=   0.2s\n",
      "[CV] C=0.001, gamma=0.01 .............................................\n",
      "[CV] ... C=0.001, gamma=0.01, score=0.10820895522388059, total=   0.2s\n",
      "[CV] C=0.001, gamma=0.01 .............................................\n",
      "[CV] ... C=0.001, gamma=0.01, score=0.10526315789473684, total=   0.2s\n",
      "[CV] C=0.001, gamma=0.1 ..............................................\n",
      "[CV] .... C=0.001, gamma=0.1, score=0.10622710622710622, total=   0.2s\n",
      "[CV] C=0.001, gamma=0.1 ..............................................\n",
      "[CV] .... C=0.001, gamma=0.1, score=0.10740740740740741, total=   0.2s\n",
      "[CV] C=0.001, gamma=0.1 ..............................................\n",
      "[CV] .... C=0.001, gamma=0.1, score=0.10740740740740741, total=   0.2s\n",
      "[CV] C=0.001, gamma=0.1 ..............................................\n",
      "[CV] .... C=0.001, gamma=0.1, score=0.10820895522388059, total=   0.2s\n",
      "[CV] C=0.001, gamma=0.1 ..............................................\n",
      "[CV] .... C=0.001, gamma=0.1, score=0.10526315789473684, total=   0.2s\n",
      "[CV] C=0.01, gamma=1e-05 .............................................\n",
      "[CV] ... C=0.01, gamma=1e-05, score=0.10622710622710622, total=   0.2s\n",
      "[CV] C=0.01, gamma=1e-05 .............................................\n",
      "[CV] ... C=0.01, gamma=1e-05, score=0.10740740740740741, total=   0.2s\n",
      "[CV] C=0.01, gamma=1e-05 .............................................\n",
      "[CV] ... C=0.01, gamma=1e-05, score=0.10740740740740741, total=   0.2s\n",
      "[CV] C=0.01, gamma=1e-05 .............................................\n",
      "[CV] ... C=0.01, gamma=1e-05, score=0.10820895522388059, total=   0.2s\n",
      "[CV] C=0.01, gamma=1e-05 .............................................\n",
      "[CV] ... C=0.01, gamma=1e-05, score=0.10526315789473684, total=   0.2s\n",
      "[CV] C=0.01, gamma=0.0001 ............................................\n",
      "[CV] .. C=0.01, gamma=0.0001, score=0.10622710622710622, total=   0.2s\n",
      "[CV] C=0.01, gamma=0.0001 ............................................\n",
      "[CV] .. C=0.01, gamma=0.0001, score=0.10740740740740741, total=   0.2s\n",
      "[CV] C=0.01, gamma=0.0001 ............................................\n",
      "[CV] .. C=0.01, gamma=0.0001, score=0.10740740740740741, total=   0.2s\n",
      "[CV] C=0.01, gamma=0.0001 ............................................\n",
      "[CV] .. C=0.01, gamma=0.0001, score=0.10820895522388059, total=   0.2s\n",
      "[CV] C=0.01, gamma=0.0001 ............................................\n",
      "[CV] .. C=0.01, gamma=0.0001, score=0.10526315789473684, total=   0.2s\n",
      "[CV] C=0.01, gamma=0.001 .............................................\n",
      "[CV] ... C=0.01, gamma=0.001, score=0.10622710622710622, total=   0.2s\n",
      "[CV] C=0.01, gamma=0.001 .............................................\n",
      "[CV] ... C=0.01, gamma=0.001, score=0.10740740740740741, total=   0.2s\n",
      "[CV] C=0.01, gamma=0.001 .............................................\n",
      "[CV] ... C=0.01, gamma=0.001, score=0.10740740740740741, total=   0.2s\n",
      "[CV] C=0.01, gamma=0.001 .............................................\n",
      "[CV] ... C=0.01, gamma=0.001, score=0.10820895522388059, total=   0.2s\n",
      "[CV] C=0.01, gamma=0.001 .............................................\n",
      "[CV] ... C=0.01, gamma=0.001, score=0.10526315789473684, total=   0.2s\n",
      "[CV] C=0.01, gamma=0.01 ..............................................\n",
      "[CV] .... C=0.01, gamma=0.01, score=0.10622710622710622, total=   0.2s\n",
      "[CV] C=0.01, gamma=0.01 ..............................................\n",
      "[CV] .... C=0.01, gamma=0.01, score=0.10740740740740741, total=   0.2s\n",
      "[CV] C=0.01, gamma=0.01 ..............................................\n",
      "[CV] .... C=0.01, gamma=0.01, score=0.10740740740740741, total=   0.2s\n",
      "[CV] C=0.01, gamma=0.01 ..............................................\n",
      "[CV] .... C=0.01, gamma=0.01, score=0.10820895522388059, total=   0.2s\n",
      "[CV] C=0.01, gamma=0.01 ..............................................\n",
      "[CV] .... C=0.01, gamma=0.01, score=0.10526315789473684, total=   0.2s\n",
      "[CV] C=0.01, gamma=0.1 ...............................................\n",
      "[CV] ..... C=0.01, gamma=0.1, score=0.10622710622710622, total=   0.2s\n",
      "[CV] C=0.01, gamma=0.1 ...............................................\n",
      "[CV] ..... C=0.01, gamma=0.1, score=0.10740740740740741, total=   0.2s\n",
      "[CV] C=0.01, gamma=0.1 ...............................................\n",
      "[CV] ..... C=0.01, gamma=0.1, score=0.10740740740740741, total=   0.2s\n",
      "[CV] C=0.01, gamma=0.1 ...............................................\n",
      "[CV] ..... C=0.01, gamma=0.1, score=0.10820895522388059, total=   0.2s\n",
      "[CV] C=0.01, gamma=0.1 ...............................................\n",
      "[CV] ..... C=0.01, gamma=0.1, score=0.10526315789473684, total=   0.2s\n",
      "[CV] C=0.1, gamma=1e-05 ..............................................\n",
      "[CV] .... C=0.1, gamma=1e-05, score=0.10622710622710622, total=   0.2s\n",
      "[CV] C=0.1, gamma=1e-05 ..............................................\n",
      "[CV] .... C=0.1, gamma=1e-05, score=0.10740740740740741, total=   0.2s\n",
      "[CV] C=0.1, gamma=1e-05 ..............................................\n",
      "[CV] .... C=0.1, gamma=1e-05, score=0.10740740740740741, total=   0.2s\n",
      "[CV] C=0.1, gamma=1e-05 ..............................................\n",
      "[CV] .... C=0.1, gamma=1e-05, score=0.10820895522388059, total=   0.2s\n",
      "[CV] C=0.1, gamma=1e-05 ..............................................\n",
      "[CV] .... C=0.1, gamma=1e-05, score=0.10526315789473684, total=   0.2s\n",
      "[CV] C=0.1, gamma=0.0001 .............................................\n",
      "[CV] .... C=0.1, gamma=0.0001, score=0.8644688644688645, total=   0.2s\n",
      "[CV] C=0.1, gamma=0.0001 .............................................\n",
      "[CV] ..... C=0.1, gamma=0.0001, score=0.837037037037037, total=   0.2s\n",
      "[CV] C=0.1, gamma=0.0001 .............................................\n",
      "[CV] .... C=0.1, gamma=0.0001, score=0.8629629629629629, total=   0.2s\n",
      "[CV] C=0.1, gamma=0.0001 .............................................\n",
      "[CV] .... C=0.1, gamma=0.0001, score=0.8582089552238806, total=   0.2s\n",
      "[CV] C=0.1, gamma=0.0001 .............................................\n",
      "[CV] .... C=0.1, gamma=0.0001, score=0.8909774436090225, total=   0.2s\n",
      "[CV] C=0.1, gamma=0.001 ..............................................\n",
      "[CV] ..... C=0.1, gamma=0.001, score=0.9560439560439561, total=   0.1s\n",
      "[CV] C=0.1, gamma=0.001 ..............................................\n"
     ]
    },
    {
     "name": "stdout",
     "output_type": "stream",
     "text": [
      "[CV] ..... C=0.1, gamma=0.001, score=0.9629629629629629, total=   0.1s\n",
      "[CV] C=0.1, gamma=0.001 ..............................................\n",
      "[CV] ..... C=0.1, gamma=0.001, score=0.9629629629629629, total=   0.1s\n",
      "[CV] C=0.1, gamma=0.001 ..............................................\n",
      "[CV] ..... C=0.1, gamma=0.001, score=0.9477611940298507, total=   0.1s\n",
      "[CV] C=0.1, gamma=0.001 ..............................................\n",
      "[CV] ..... C=0.1, gamma=0.001, score=0.9699248120300752, total=   0.1s\n",
      "[CV] C=0.1, gamma=0.01 ...............................................\n",
      "[CV] ..... C=0.1, gamma=0.01, score=0.10622710622710622, total=   0.2s\n",
      "[CV] C=0.1, gamma=0.01 ...............................................\n",
      "[CV] ..... C=0.1, gamma=0.01, score=0.10740740740740741, total=   0.2s\n",
      "[CV] C=0.1, gamma=0.01 ...............................................\n",
      "[CV] ..... C=0.1, gamma=0.01, score=0.10740740740740741, total=   0.2s\n",
      "[CV] C=0.1, gamma=0.01 ...............................................\n",
      "[CV] ..... C=0.1, gamma=0.01, score=0.10820895522388059, total=   0.2s\n",
      "[CV] C=0.1, gamma=0.01 ...............................................\n",
      "[CV] ..... C=0.1, gamma=0.01, score=0.10526315789473684, total=   0.2s\n",
      "[CV] C=0.1, gamma=0.1 ................................................\n",
      "[CV] ...... C=0.1, gamma=0.1, score=0.10622710622710622, total=   0.2s\n",
      "[CV] C=0.1, gamma=0.1 ................................................\n",
      "[CV] ...... C=0.1, gamma=0.1, score=0.10740740740740741, total=   0.2s\n",
      "[CV] C=0.1, gamma=0.1 ................................................\n",
      "[CV] ...... C=0.1, gamma=0.1, score=0.10740740740740741, total=   0.2s\n",
      "[CV] C=0.1, gamma=0.1 ................................................\n",
      "[CV] ...... C=0.1, gamma=0.1, score=0.10820895522388059, total=   0.3s\n",
      "[CV] C=0.1, gamma=0.1 ................................................\n",
      "[CV] ...... C=0.1, gamma=0.1, score=0.10526315789473684, total=   0.2s\n",
      "[CV] C=1.0, gamma=1e-05 ..............................................\n",
      "[CV] ..... C=1.0, gamma=1e-05, score=0.8827838827838828, total=   0.2s\n",
      "[CV] C=1.0, gamma=1e-05 ..............................................\n",
      "[CV] ..... C=1.0, gamma=1e-05, score=0.8814814814814815, total=   0.2s\n",
      "[CV] C=1.0, gamma=1e-05 ..............................................\n",
      "[CV] ..... C=1.0, gamma=1e-05, score=0.8814814814814815, total=   0.2s\n",
      "[CV] C=1.0, gamma=1e-05 ..............................................\n",
      "[CV] ..... C=1.0, gamma=1e-05, score=0.8843283582089553, total=   0.2s\n",
      "[CV] C=1.0, gamma=1e-05 ..............................................\n",
      "[CV] ..... C=1.0, gamma=1e-05, score=0.9210526315789473, total=   0.2s\n",
      "[CV] C=1.0, gamma=0.0001 .............................................\n",
      "[CV] .... C=1.0, gamma=0.0001, score=0.9743589743589743, total=   0.1s\n",
      "[CV] C=1.0, gamma=0.0001 .............................................\n",
      "[CV] .... C=1.0, gamma=0.0001, score=0.9703703703703703, total=   0.1s\n",
      "[CV] C=1.0, gamma=0.0001 .............................................\n",
      "[CV] .... C=1.0, gamma=0.0001, score=0.9666666666666667, total=   0.1s\n",
      "[CV] C=1.0, gamma=0.0001 .............................................\n",
      "[CV] .... C=1.0, gamma=0.0001, score=0.9738805970149254, total=   0.1s\n",
      "[CV] C=1.0, gamma=0.0001 .............................................\n",
      "[CV] .... C=1.0, gamma=0.0001, score=0.9736842105263158, total=   0.1s\n",
      "[CV] C=1.0, gamma=0.001 ..............................................\n",
      "[CV] ...... C=1.0, gamma=0.001, score=0.989010989010989, total=   0.1s\n",
      "[CV] C=1.0, gamma=0.001 ..............................................\n",
      "[CV] ..... C=1.0, gamma=0.001, score=0.9925925925925926, total=   0.1s\n",
      "[CV] C=1.0, gamma=0.001 ..............................................\n",
      "[CV] ..... C=1.0, gamma=0.001, score=0.9925925925925926, total=   0.1s\n",
      "[CV] C=1.0, gamma=0.001 ..............................................\n",
      "[CV] ..... C=1.0, gamma=0.001, score=0.9850746268656716, total=   0.1s\n",
      "[CV] C=1.0, gamma=0.001 ..............................................\n",
      "[CV] ...... C=1.0, gamma=0.001, score=0.981203007518797, total=   0.1s\n",
      "[CV] C=1.0, gamma=0.01 ...............................................\n",
      "[CV] ...... C=1.0, gamma=0.01, score=0.8534798534798534, total=   0.2s\n",
      "[CV] C=1.0, gamma=0.01 ...............................................\n",
      "[CV] ...... C=1.0, gamma=0.01, score=0.7703703703703704, total=   0.2s\n",
      "[CV] C=1.0, gamma=0.01 ...............................................\n",
      "[CV] ...... C=1.0, gamma=0.01, score=0.7666666666666667, total=   0.2s\n",
      "[CV] C=1.0, gamma=0.01 ...............................................\n",
      "[CV] ...... C=1.0, gamma=0.01, score=0.7798507462686567, total=   0.2s\n",
      "[CV] C=1.0, gamma=0.01 ...............................................\n",
      "[CV] ...... C=1.0, gamma=0.01, score=0.7669172932330827, total=   0.2s\n",
      "[CV] C=1.0, gamma=0.1 ................................................\n",
      "[CV] ...... C=1.0, gamma=0.1, score=0.10989010989010989, total=   0.2s\n",
      "[CV] C=1.0, gamma=0.1 ................................................\n",
      "[CV] ...... C=1.0, gamma=0.1, score=0.10740740740740741, total=   0.2s\n",
      "[CV] C=1.0, gamma=0.1 ................................................\n",
      "[CV] ...... C=1.0, gamma=0.1, score=0.10740740740740741, total=   0.3s\n",
      "[CV] C=1.0, gamma=0.1 ................................................\n",
      "[CV] ...... C=1.0, gamma=0.1, score=0.11194029850746269, total=   0.3s\n",
      "[CV] C=1.0, gamma=0.1 ................................................\n",
      "[CV] ...... C=1.0, gamma=0.1, score=0.10526315789473684, total=   0.2s\n",
      "[CV] C=10.0, gamma=1e-05 .............................................\n",
      "[CV] .... C=10.0, gamma=1e-05, score=0.9706959706959707, total=   0.1s\n",
      "[CV] C=10.0, gamma=1e-05 .............................................\n",
      "[CV] .... C=10.0, gamma=1e-05, score=0.9703703703703703, total=   0.1s\n",
      "[CV] C=10.0, gamma=1e-05 .............................................\n",
      "[CV] .... C=10.0, gamma=1e-05, score=0.9703703703703703, total=   0.1s\n",
      "[CV] C=10.0, gamma=1e-05 .............................................\n",
      "[CV] .... C=10.0, gamma=1e-05, score=0.9701492537313433, total=   0.1s\n",
      "[CV] C=10.0, gamma=1e-05 .............................................\n",
      "[CV] .... C=10.0, gamma=1e-05, score=0.9736842105263158, total=   0.1s\n",
      "[CV] C=10.0, gamma=0.0001 ............................................\n",
      "[CV] ... C=10.0, gamma=0.0001, score=0.9853479853479854, total=   0.0s\n",
      "[CV] C=10.0, gamma=0.0001 ............................................\n",
      "[CV] ... C=10.0, gamma=0.0001, score=0.9851851851851852, total=   0.0s\n",
      "[CV] C=10.0, gamma=0.0001 ............................................\n",
      "[CV] ... C=10.0, gamma=0.0001, score=0.9777777777777777, total=   0.0s\n",
      "[CV] C=10.0, gamma=0.0001 ............................................\n",
      "[CV] ... C=10.0, gamma=0.0001, score=0.9850746268656716, total=   0.0s\n",
      "[CV] C=10.0, gamma=0.0001 ............................................\n",
      "[CV] ... C=10.0, gamma=0.0001, score=0.9849624060150376, total=   0.0s\n",
      "[CV] C=10.0, gamma=0.001 .............................................\n",
      "[CV] ..... C=10.0, gamma=0.001, score=0.989010989010989, total=   0.1s\n",
      "[CV] C=10.0, gamma=0.001 .............................................\n",
      "[CV] .... C=10.0, gamma=0.001, score=0.9851851851851852, total=   0.1s\n",
      "[CV] C=10.0, gamma=0.001 .............................................\n",
      "[CV] .... C=10.0, gamma=0.001, score=0.9925925925925926, total=   0.1s\n",
      "[CV] C=10.0, gamma=0.001 .............................................\n",
      "[CV] .... C=10.0, gamma=0.001, score=0.9888059701492538, total=   0.1s\n",
      "[CV] C=10.0, gamma=0.001 .............................................\n",
      "[CV] .... C=10.0, gamma=0.001, score=0.9887218045112782, total=   0.1s\n",
      "[CV] C=10.0, gamma=0.01 ..............................................\n",
      "[CV] ..... C=10.0, gamma=0.01, score=0.8608058608058609, total=   0.2s\n",
      "[CV] C=10.0, gamma=0.01 ..............................................\n",
      "[CV] ..... C=10.0, gamma=0.01, score=0.7851851851851852, total=   0.2s\n",
      "[CV] C=10.0, gamma=0.01 ..............................................\n",
      "[CV] ..... C=10.0, gamma=0.01, score=0.7777777777777778, total=   0.2s\n",
      "[CV] C=10.0, gamma=0.01 ..............................................\n",
      "[CV] ..... C=10.0, gamma=0.01, score=0.7873134328358209, total=   0.2s\n",
      "[CV] C=10.0, gamma=0.01 ..............................................\n"
     ]
    },
    {
     "name": "stdout",
     "output_type": "stream",
     "text": [
      "[CV] ..... C=10.0, gamma=0.01, score=0.7744360902255639, total=   0.2s\n",
      "[CV] C=10.0, gamma=0.1 ...............................................\n",
      "[CV] ..... C=10.0, gamma=0.1, score=0.10989010989010989, total=   0.3s\n",
      "[CV] C=10.0, gamma=0.1 ...............................................\n",
      "[CV] ..... C=10.0, gamma=0.1, score=0.10740740740740741, total=   0.3s\n",
      "[CV] C=10.0, gamma=0.1 ...............................................\n",
      "[CV] ..... C=10.0, gamma=0.1, score=0.10740740740740741, total=   0.3s\n",
      "[CV] C=10.0, gamma=0.1 ...............................................\n",
      "[CV] ..... C=10.0, gamma=0.1, score=0.11194029850746269, total=   0.3s\n",
      "[CV] C=10.0, gamma=0.1 ...............................................\n",
      "[CV] ..... C=10.0, gamma=0.1, score=0.10526315789473684, total=   0.3s\n",
      "[CV] C=100.0, gamma=1e-05 ............................................\n",
      "[CV] ... C=100.0, gamma=1e-05, score=0.9816849816849816, total=   0.0s\n",
      "[CV] C=100.0, gamma=1e-05 ............................................\n",
      "[CV] ... C=100.0, gamma=1e-05, score=0.9740740740740741, total=   0.0s\n",
      "[CV] C=100.0, gamma=1e-05 ............................................\n",
      "[CV] ... C=100.0, gamma=1e-05, score=0.9777777777777777, total=   0.0s\n",
      "[CV] C=100.0, gamma=1e-05 ............................................\n",
      "[CV] ... C=100.0, gamma=1e-05, score=0.9776119402985075, total=   0.0s\n",
      "[CV] C=100.0, gamma=1e-05 ............................................\n",
      "[CV] ... C=100.0, gamma=1e-05, score=0.9699248120300752, total=   0.0s\n",
      "[CV] C=100.0, gamma=0.0001 ...........................................\n",
      "[CV] .. C=100.0, gamma=0.0001, score=0.9853479853479854, total=   0.0s\n",
      "[CV] C=100.0, gamma=0.0001 ...........................................\n",
      "[CV] .. C=100.0, gamma=0.0001, score=0.9851851851851852, total=   0.0s\n",
      "[CV] C=100.0, gamma=0.0001 ...........................................\n",
      "[CV] .. C=100.0, gamma=0.0001, score=0.9814814814814815, total=   0.0s\n",
      "[CV] C=100.0, gamma=0.0001 ...........................................\n",
      "[CV] .. C=100.0, gamma=0.0001, score=0.9888059701492538, total=   0.0s\n",
      "[CV] C=100.0, gamma=0.0001 ...........................................\n",
      "[CV] .. C=100.0, gamma=0.0001, score=0.9736842105263158, total=   0.0s\n",
      "[CV] C=100.0, gamma=0.001 ............................................\n",
      "[CV] .... C=100.0, gamma=0.001, score=0.989010989010989, total=   0.1s\n",
      "[CV] C=100.0, gamma=0.001 ............................................\n",
      "[CV] ... C=100.0, gamma=0.001, score=0.9851851851851852, total=   0.1s\n",
      "[CV] C=100.0, gamma=0.001 ............................................\n",
      "[CV] ... C=100.0, gamma=0.001, score=0.9925925925925926, total=   0.1s\n",
      "[CV] C=100.0, gamma=0.001 ............................................\n",
      "[CV] ... C=100.0, gamma=0.001, score=0.9888059701492538, total=   0.1s\n",
      "[CV] C=100.0, gamma=0.001 ............................................\n",
      "[CV] ... C=100.0, gamma=0.001, score=0.9887218045112782, total=   0.1s\n",
      "[CV] C=100.0, gamma=0.01 .............................................\n",
      "[CV] .... C=100.0, gamma=0.01, score=0.8608058608058609, total=   0.2s\n",
      "[CV] C=100.0, gamma=0.01 .............................................\n",
      "[CV] .... C=100.0, gamma=0.01, score=0.7851851851851852, total=   0.2s\n",
      "[CV] C=100.0, gamma=0.01 .............................................\n",
      "[CV] .... C=100.0, gamma=0.01, score=0.7777777777777778, total=   0.2s\n",
      "[CV] C=100.0, gamma=0.01 .............................................\n",
      "[CV] .... C=100.0, gamma=0.01, score=0.7873134328358209, total=   0.2s\n",
      "[CV] C=100.0, gamma=0.01 .............................................\n",
      "[CV] .... C=100.0, gamma=0.01, score=0.7744360902255639, total=   0.2s\n",
      "[CV] C=100.0, gamma=0.1 ..............................................\n",
      "[CV] .... C=100.0, gamma=0.1, score=0.10989010989010989, total=   0.3s\n",
      "[CV] C=100.0, gamma=0.1 ..............................................\n",
      "[CV] .... C=100.0, gamma=0.1, score=0.10740740740740741, total=   0.3s\n",
      "[CV] C=100.0, gamma=0.1 ..............................................\n",
      "[CV] .... C=100.0, gamma=0.1, score=0.10740740740740741, total=   0.3s\n",
      "[CV] C=100.0, gamma=0.1 ..............................................\n",
      "[CV] .... C=100.0, gamma=0.1, score=0.11194029850746269, total=   0.3s\n",
      "[CV] C=100.0, gamma=0.1 ..............................................\n",
      "[CV] .... C=100.0, gamma=0.1, score=0.10526315789473684, total=   0.3s\n"
     ]
    },
    {
     "name": "stderr",
     "output_type": "stream",
     "text": [
      "[Parallel(n_jobs=1)]: Done 150 out of 150 | elapsed:   37.3s finished\n",
      "/Users/lgaalves/miniconda3/lib/python3.6/site-packages/sklearn/model_selection/_search.py:841: DeprecationWarning: The default of the `iid` parameter will change from True to False in version 0.22 and will be removed in 0.24. This will change numeric results when test-set sizes are unequal.\n",
      "  DeprecationWarning)\n"
     ]
    },
    {
     "data": {
      "text/plain": [
       "GridSearchCV(cv=5, error_score='raise-deprecating',\n",
       "       estimator=SVC(C=1.0, cache_size=200, class_weight=None, coef0=0.0,\n",
       "  decision_function_shape='ovr', degree=3, gamma='auto_deprecated',\n",
       "  kernel='rbf', max_iter=-1, probability=False, random_state=None,\n",
       "  shrinking=True, tol=0.001, verbose=False),\n",
       "       fit_params=None, iid='warn', n_jobs=None,\n",
       "       param_grid={'C': array([  0.001,   0.01 ,   0.1  ,   1.   ,  10.   , 100.   ]), 'gamma': array([0.00001, 0.0001 , 0.001  , 0.01   , 0.1    ])},\n",
       "       pre_dispatch='2*n_jobs', refit=True, return_train_score='warn',\n",
       "       scoring=None, verbose=3)"
      ]
     },
     "execution_count": 21,
     "metadata": {},
     "output_type": "execute_result"
    }
   ],
   "source": [
    "grid_search.fit(X_train, y_train)"
   ]
  },
  {
   "cell_type": "code",
   "execution_count": 22,
   "metadata": {
    "ExecuteTime": {
     "end_time": "2019-07-03T14:24:38.666795Z",
     "start_time": "2019-07-03T14:24:38.634011Z"
    },
    "scrolled": true
   },
   "outputs": [
    {
     "data": {
      "text/plain": [
       "array([7, 0, 5, 5, 8, 0, 4, 8, 7, 4, 7, 3, 8, 5, 3, 0, 7, 0, 0, 2, 8, 2,\n",
       "       2, 6, 5, 0, 8, 6, 0, 9, 5, 5, 3, 2, 1, 1, 3, 4, 0, 5, 8, 3, 8, 3,\n",
       "       8, 9, 5, 2, 8, 7, 5, 7, 3, 0, 4, 8, 4, 6, 5, 8, 7, 5, 6, 3, 0, 7,\n",
       "       1, 2, 6, 7, 2, 1, 8, 4, 0, 7, 0, 1, 0, 6, 2, 3, 0, 4, 5, 6, 7, 6,\n",
       "       0, 2, 2, 5, 6, 8, 0, 2, 0, 6, 2, 7, 2, 1, 0, 6, 2, 8, 8, 0, 8, 6,\n",
       "       5, 7, 3, 2, 1, 3, 4, 1, 9, 6, 2, 6, 2, 4, 9, 1, 1, 0, 4, 9, 2, 2,\n",
       "       0, 5, 2, 8, 2, 5, 6, 0, 6, 3, 5, 1, 8, 9, 0, 5, 1, 7, 5, 1, 5, 9,\n",
       "       0, 7, 1, 9, 1, 9, 0, 6, 9, 1, 5, 7, 3, 5, 3, 9, 4, 1, 8, 9, 9, 3,\n",
       "       0, 7, 9, 7, 9, 1, 0, 5, 0, 7, 2, 4, 1, 0, 1, 4, 3, 6, 6, 9, 3, 5,\n",
       "       3, 5, 7, 7, 0, 0, 5, 3, 8, 7, 7, 8, 4, 1, 8, 2, 6, 0, 3, 3, 9, 7,\n",
       "       5, 7, 1, 3, 9, 6, 5, 2, 3, 3, 3, 3, 3, 2, 3, 4, 6, 5, 2, 7, 7, 4,\n",
       "       4, 2, 6, 8, 3, 3, 3, 9, 0, 1, 1, 4, 2, 9, 2, 7, 8, 4, 0, 0, 5, 5,\n",
       "       8, 6, 4, 6, 0, 9, 1, 1, 0, 7, 8, 1, 2, 6, 5, 1, 2, 1, 1, 9, 3, 5,\n",
       "       7, 9, 0, 8, 1, 0, 8, 2, 9, 3, 6, 9, 6, 8, 5, 7, 8, 4, 9, 7, 5, 8,\n",
       "       1, 5, 6, 3, 2, 5, 6, 0, 4, 7, 6, 2, 3, 7, 3, 7, 4, 1, 5, 7, 1, 8,\n",
       "       6, 1, 4, 9, 8, 6, 5, 2, 2, 8, 7, 0, 7, 7, 4, 3, 9, 1, 6, 3, 4, 8,\n",
       "       7, 0, 9, 9, 9, 3, 6, 2, 3, 4, 6, 7, 7, 3, 4, 3, 9, 5, 5, 7, 1, 9,\n",
       "       5, 0, 8, 1, 0, 7, 8, 9, 1, 1, 3, 7, 1, 8, 6, 6, 3, 0, 0, 3, 1, 9,\n",
       "       4, 1, 6, 8, 0, 7, 5, 9, 0, 0, 9, 0, 4, 2, 1, 8, 4, 8, 1, 3, 4, 3,\n",
       "       6, 4, 8, 9, 7, 6, 3, 9, 1, 7, 5, 7, 8, 9, 5, 4, 3, 8, 4, 2, 2, 5,\n",
       "       2, 4, 3, 2, 0, 5, 0, 4, 5, 7])"
      ]
     },
     "execution_count": 22,
     "metadata": {},
     "output_type": "execute_result"
    }
   ],
   "source": [
    "grid_search.predict(X_test)"
   ]
  },
  {
   "cell_type": "code",
   "execution_count": 23,
   "metadata": {
    "ExecuteTime": {
     "end_time": "2019-07-03T14:24:45.429361Z",
     "start_time": "2019-07-03T14:24:45.398316Z"
    }
   },
   "outputs": [
    {
     "data": {
      "text/plain": [
       "0.9866666666666667"
      ]
     },
     "execution_count": 23,
     "metadata": {},
     "output_type": "execute_result"
    }
   ],
   "source": [
    "grid_search.score(X_test, y_test)"
   ]
  },
  {
   "cell_type": "code",
   "execution_count": 24,
   "metadata": {
    "ExecuteTime": {
     "end_time": "2019-07-03T14:24:47.223509Z",
     "start_time": "2019-07-03T14:24:47.216917Z"
    }
   },
   "outputs": [
    {
     "data": {
      "text/plain": [
       "{'C': 10.0, 'gamma': 0.001}"
      ]
     },
     "execution_count": 24,
     "metadata": {},
     "output_type": "execute_result"
    }
   ],
   "source": [
    "grid_search.best_params_"
   ]
  },
  {
   "cell_type": "code",
   "execution_count": 25,
   "metadata": {
    "ExecuteTime": {
     "end_time": "2019-07-03T14:24:49.126368Z",
     "start_time": "2019-07-03T14:24:49.119742Z"
    }
   },
   "outputs": [
    {
     "data": {
      "text/plain": [
       "0.9888641425389755"
      ]
     },
     "execution_count": 25,
     "metadata": {},
     "output_type": "execute_result"
    }
   ],
   "source": [
    "grid_search.best_score_"
   ]
  },
  {
   "cell_type": "code",
   "execution_count": 26,
   "metadata": {
    "ExecuteTime": {
     "end_time": "2019-07-03T14:24:49.636581Z",
     "start_time": "2019-07-03T14:24:49.630348Z"
    }
   },
   "outputs": [
    {
     "data": {
      "text/plain": [
       "SVC(C=10.0, cache_size=200, class_weight=None, coef0=0.0,\n",
       "  decision_function_shape='ovr', degree=3, gamma=0.001, kernel='rbf',\n",
       "  max_iter=-1, probability=False, random_state=None, shrinking=True,\n",
       "  tol=0.001, verbose=False)"
      ]
     },
     "execution_count": 26,
     "metadata": {},
     "output_type": "execute_result"
    }
   ],
   "source": [
    "grid_search.best_estimator_"
   ]
  },
  {
   "cell_type": "code",
   "execution_count": 27,
   "metadata": {
    "ExecuteTime": {
     "end_time": "2019-07-03T14:24:54.675249Z",
     "start_time": "2019-07-03T14:24:54.445122Z"
    }
   },
   "outputs": [
    {
     "data": {
      "image/png": "[encoded data removed]",
      "text/plain": [
       "<Figure size 288x345.6 with 2 Axes>"
      ]
     },
     "metadata": {
      "needs_background": "light"
     },
     "output_type": "display_data"
    }
   ],
   "source": [
    "# We extract just the scores\n",
    "\n",
    "scores = grid_search.cv_results_['mean_test_score']\n",
    "scores = np.array(scores).reshape(6, 5)\n",
    "\n",
    "plt.matshow(scores)\n",
    "plt.xlabel('gamma')\n",
    "plt.ylabel('C')\n",
    "plt.colorbar()\n",
    "plt.xticks(np.arange(5), param_grid['gamma'])\n",
    "plt.yticks(np.arange(6), param_grid['C']);"
   ]
  },
  {
   "cell_type": "markdown",
   "metadata": {},
   "source": [
    "# Exercises\n",
    "Use GridSearchCV to adjust n_neighbors of KNeighborsClassifier."
   ]
  },
  {
   "cell_type": "code",
   "execution_count": 29,
   "metadata": {
    "ExecuteTime": {
     "end_time": "2019-07-03T14:27:25.145005Z",
     "start_time": "2019-07-03T14:27:25.141312Z"
    }
   },
   "outputs": [],
   "source": [
    "# %load solutions/grid_search_k_neighbors.py"
   ]
  },
  {
   "cell_type": "code",
   "execution_count": 35,
   "metadata": {
    "ExecuteTime": {
     "end_time": "2019-07-03T14:35:55.280031Z",
     "start_time": "2019-07-03T14:35:51.119058Z"
    }
   },
   "outputs": [
    {
     "name": "stdout",
     "output_type": "stream",
     "text": [
      "best parameters: {'n_neighbors': 5}\n",
      "Training set accuracy: 0.9903489235337788\n",
      "Test set accuracy: 0.9755555555555555\n"
     ]
    }
   ],
   "source": [
    "from sklearn.neighbors import KNeighborsClassifier\n",
    "\n",
    "param_grid = {'n_neighbors': [1, 3, 5, 7, 10]}\n",
    "\n",
    "grid = GridSearchCV(KNeighborsClassifier(), param_grid=param_grid,\n",
    "                    return_train_score=True, cv=5)\n",
    "\n",
    "grid.fit(X_train, y_train)\n",
    "\n",
    "print(\"best parameters: %s\" % grid.best_params_)\n",
    "print(\"Training set accuracy: %s\" % grid.score(X_train, y_train))\n",
    "print(\"Test set accuracy: %s\" % grid.score(X_test, y_test))\n",
    "\n",
    "results = grid.cv_results_"
   ]
  },
  {
   "cell_type": "code",
   "execution_count": 33,
   "metadata": {
    "ExecuteTime": {
     "end_time": "2019-07-03T14:29:42.892310Z",
     "start_time": "2019-07-03T14:29:42.693619Z"
    }
   },
   "outputs": [
    {
     "data": {
      "text/plain": [
       "<matplotlib.legend.Legend at 0x1a182c07f0>"
      ]
     },
     "execution_count": 33,
     "metadata": {},
     "output_type": "execute_result"
    },
    {
     "data": {
      "image/png": "[encoded data removed]",
      "text/plain": [
       "<Figure size 432x288 with 1 Axes>"
      ]
     },
     "metadata": {
      "needs_background": "light"
     },
     "output_type": "display_data"
    }
   ],
   "source": [
    "plt.plot(param_grid['n_neighbors'], results['mean_train_score'], label=\"train\")\n",
    "plt.plot(param_grid['n_neighbors'], results['mean_test_score'], label=\"test\")\n",
    "plt.legend()"
   ]
  },
  {
   "cell_type": "code",
   "execution_count": null,
   "metadata": {},
   "outputs": [],
   "source": []
  }
 ],
 "metadata": {
  "anaconda-cloud": {},
  "kernelspec": {
   "display_name": "Python 3",
   "language": "python",
   "name": "python3"
  },
  "language_info": {
   "codemirror_mode": {
    "name": "ipython",
    "version": 3
   },
   "file_extension": ".py",
   "mimetype": "text/x-python",
   "name": "python",
   "nbconvert_exporter": "python",
   "pygments_lexer": "ipython3",
   "version": "3.6.8"
  },
  "latex_envs": {
   "LaTeX_envs_menu_present": true,
   "autoclose": false,
   "autocomplete": true,
   "bibliofile": "biblio.bib",
   "cite_by": "apalike",
   "current_citInitial": 1,
   "eqLabelWithNumbers": true,
   "eqNumInitial": 1,
   "hotkeys": {
    "equation": "Ctrl-E",
    "itemize": "Ctrl-I"
   },
   "labels_anchors": false,
   "latex_user_defs": false,
   "report_style_numbering": false,
   "user_envs_cfg": false
  },
  "toc": {
   "nav_menu": {},
   "number_sections": true,
   "sideBar": true,
   "skip_h1_title": false,
   "title_cell": "Table of Contents",
   "title_sidebar": "Contents",
   "toc_cell": false,
   "toc_position": {},
   "toc_section_display": true,
   "toc_window_display": false
  }
 },
 "nbformat": 4,
 "nbformat_minor": 2
}
