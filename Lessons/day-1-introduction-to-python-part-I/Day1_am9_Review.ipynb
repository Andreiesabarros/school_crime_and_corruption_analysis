{
 "cells": [
  {
   "cell_type": "markdown",
   "metadata": {},
   "source": [
    "# Review of variables and flow control\n",
    "\n",
    "So far today we have introduced several foundational skills related to the python data types and flow control. Let's step through some examples right now.\n",
    "\n",
    "Different languages are very interesting and some people can speak many of them very well. Below we have five sentences that all say \"I speak Portuguese very well.\""
   ]
  },
  {
   "cell_type": "code",
   "execution_count": 1,
   "metadata": {
    "ExecuteTime": {
     "end_time": "2019-06-23T21:15:35.889150Z",
     "start_time": "2019-06-23T21:15:35.884734Z"
    }
   },
   "outputs": [],
   "source": [
    "sentence_pt = \"Eu falo Português muito bem.\"\n",
    "sentence_en = \"I speak Portuguese very well.\"\n",
    "sentence_fr = \"Je parle Portugais très bien.\"\n",
    "sentence_de = \"Ich spreche Portugiesisch sehr gut.\"\n",
    "sentence_es = \"Hablo portugués muy bien\""
   ]
  },
  {
   "cell_type": "markdown",
   "metadata": {},
   "source": [
    "Create a list named `sentences`, where each value is another list with both the name of the language and then the written sentence in that language. As an example:\n",
    "\n",
    "    sentences = [['Portuguese', sentence_pt], ...]\n",
    "\n",
    "Initialize each `list` with the sentence in the corresponding language (use the variable name and remember about tab-completion!)"
   ]
  },
  {
   "cell_type": "code",
   "execution_count": null,
   "metadata": {},
   "outputs": [],
   "source": []
  },
  {
   "cell_type": "markdown",
   "metadata": {},
   "source": [
    "Create a list named `words` where each value is another list with both the name of the language and then all the words in the sentence. Just like:\n",
    "\n",
    "    words = [['Portuguese', ['Eu', 'falo', 'Portugues', 'muito', 'bem']], ... ]\n",
    "\n",
    "Use a loop and information from `sentences`."
   ]
  },
  {
   "cell_type": "code",
   "execution_count": null,
   "metadata": {},
   "outputs": [],
   "source": []
  },
  {
   "cell_type": "markdown",
   "metadata": {},
   "source": [
    "Find the shortest word in the contents of the list *words*."
   ]
  },
  {
   "cell_type": "code",
   "execution_count": null,
   "metadata": {},
   "outputs": [],
   "source": []
  },
  {
   "cell_type": "markdown",
   "metadata": {},
   "source": [
    "Find the longest word in the contents of the list *words*."
   ]
  },
  {
   "cell_type": "code",
   "execution_count": null,
   "metadata": {},
   "outputs": [],
   "source": []
  },
  {
   "cell_type": "markdown",
   "metadata": {},
   "source": [
    "Now find the longest word that isn't German."
   ]
  },
  {
   "cell_type": "code",
   "execution_count": null,
   "metadata": {},
   "outputs": [],
   "source": []
  },
  {
   "cell_type": "markdown",
   "metadata": {},
   "source": [
    "Now find the shortest word that is not English or Portuguese."
   ]
  },
  {
   "cell_type": "code",
   "execution_count": null,
   "metadata": {},
   "outputs": [],
   "source": []
  },
  {
   "cell_type": "markdown",
   "metadata": {},
   "source": [
    "# Exercise 2\n",
    "\n",
    "Write code that prints all of the _last_ names in the following dictionary"
   ]
  },
  {
   "cell_type": "code",
   "execution_count": null,
   "metadata": {
    "collapsed": true
   },
   "outputs": [],
   "source": [
    "names = [[\"Joe\", \"Smith\"],\n",
    "          [\"Mary\", \"Smith\"],\n",
    "          [\"Pete\", \"Smith\"], \n",
    "          [\"Lily\", \"Smith\"],\n",
    "          [\"Heinz\", \"Maus\"], \n",
    "          [\"Brigita\", \"Maus\"],\n",
    "          [\"Juergen\", \"last_name\": \"Maus\"], \n",
    "          [\"Jean\", \"St. Croix\"],\n",
    "          [\"sophie\", \"St. Croix\"]]\n",
    "\n",
    "#Write code here\n",
    "\n"
   ]
  },
  {
   "cell_type": "markdown",
   "metadata": {},
   "source": [
    "Great! But now I want a list where each value is another list and the first entry is the `last_name` and the second entry is a list of all the first names that have that last name. Just like:\n",
    "\n",
    "last_name_list = [['St. Croix', ['sophie', 'Jean']], ... ]"
   ]
  },
  {
   "cell_type": "code",
   "execution_count": null,
   "metadata": {
    "collapsed": true
   },
   "outputs": [],
   "source": [
    "#Create a new dictionary with Last Name as the key and the value being a list of first names\n",
    "last_name_list = []\n",
    "###Place your code here\n",
    "\n"
   ]
  },
  {
   "cell_type": "markdown",
   "metadata": {},
   "source": [
    "Finally, I want you to iterate through the last naem list and print the number of people with a given last name and then all of the first names."
   ]
  },
  {
   "cell_type": "code",
   "execution_count": null,
   "metadata": {
    "collapsed": true
   },
   "outputs": [],
   "source": [
    "#Print the last name, the number of people with that last name, and the first names\n",
    "\n",
    "\n",
    "\n"
   ]
  },
  {
   "cell_type": "markdown",
   "metadata": {},
   "source": [
    "# Exercise 3\n",
    "\n",
    "Now let's work with a numerical example. I want to print the next 20 numbers in the Fibonacci sequence. The formula to calculate a new Fibonacci number is\n",
    "\n",
    "$F_{n} = F_{n-1} + F_{n-2}$\n",
    "\n",
    "Hint: We'll probably want to use the `range()` function"
   ]
  },
  {
   "cell_type": "code",
   "execution_count": null,
   "metadata": {
    "collapsed": true
   },
   "outputs": [],
   "source": [
    "# Print the next 20 numbers in Fibonacci series\n",
    "fib_sequence = [1, 1, 2, 3, 5, 8]\n",
    "\n"
   ]
  },
  {
   "cell_type": "markdown",
   "metadata": {},
   "source": [
    "Now let's go one step further and calculate the next 10 rows in Pascal's Triangle.\n",
    "\n",
    "[Pascal's triangle](https://en.wikipedia.org/wiki/Pascal%27s_triangle) is a 2-dimensional representation of the Fibonnacci sequence (sort of). A good explanation is this GIF from Wikipedia:\n",
    "\n",
    "<img src = '../Data/www/images/PascalTriangleAnimated2.gif'></img>\n",
    "\n",
    "[wp_pasc]: https://en.wikipedia.org/wiki/Pascal%27s_triangle\n",
    "[wp_pasc_gif]: https://en.wikipedia.org/wiki/File:PascalTriangleAnimated2.gif\n",
    "[gif]: ../images/PascalTriangleAnimated2.gif"
   ]
  },
  {
   "cell_type": "code",
   "execution_count": null,
   "metadata": {
    "collapsed": true
   },
   "outputs": [],
   "source": [
    "# Print the next 10 rows of Pascal's triangle\n",
    "rows = [ [1],\n",
    "         [1, 1],\n",
    "         [1, 2, 1],\n",
    "         [1, 3, 3, 1] ]\n",
    "\n",
    "\n"
   ]
  },
  {
   "cell_type": "markdown",
   "metadata": {},
   "source": [
    "# Exercise 4\n",
    "\n",
    "There is a file in the `Data/Day2-Collections-and-Files` folder called `head_individual_physical_attributes.csv`.\n",
    "\n",
    "This file is a list of the initial and final weights of users on a weight loss website. The structure of the file is as follows:\n",
    "\n",
    "    Initial_Weight,Final_Weight,Height,Age,Gender\n",
    "    144,142,64,52,female\n",
    "    310,310,66,42,female\n",
    "    195,195,63,35,female\n",
    "    123,122,62,40,female\n",
    "    242,242,74,22,male\n",
    "    132,132,65,19,female\n",
    "    220,220,67,39,female\n",
    "    271,268,64,41,female\n",
    "    228,228,76,41,male\n",
    "    \n",
    "The first line is a header, it tells you what each column in the file is.\n",
    "\n",
    "Write code to read in the file. Separate the first line of the file into a variable called `header` and the rest of the lines into a variable called `data`"
   ]
  },
  {
   "cell_type": "code",
   "execution_count": null,
   "metadata": {},
   "outputs": [],
   "source": [
    "#Read in the data\n",
    "\n"
   ]
  },
  {
   "cell_type": "markdown",
   "metadata": {},
   "source": [
    "I want you to calculate the average initial weight of all participants.\n",
    "\n",
    "As a refresher, we calculate an average as $\\bar{a} = \\frac{\\sum_{i=0}^n a_i}{n} = \\frac{1}{n} (a_1 + a_2 + ... + a_n)$"
   ]
  },
  {
   "cell_type": "code",
   "execution_count": null,
   "metadata": {
    "collapsed": true
   },
   "outputs": [],
   "source": [
    "#Average the initial weight of all participants\n"
   ]
  },
  {
   "cell_type": "markdown",
   "metadata": {},
   "source": [
    "Now I want you to calculate the average final weight of males and females separately."
   ]
  },
  {
   "cell_type": "code",
   "execution_count": null,
   "metadata": {
    "collapsed": true
   },
   "outputs": [],
   "source": [
    "#Calculate the average final weight of males and females separately\n"
   ]
  },
  {
   "cell_type": "markdown",
   "metadata": {},
   "source": [
    "What was the average weight loss/gain for males and females separately?"
   ]
  },
  {
   "cell_type": "code",
   "execution_count": null,
   "metadata": {
    "collapsed": true
   },
   "outputs": [],
   "source": [
    "# What was the average weight loss/gain for males /females"
   ]
  },
  {
   "cell_type": "markdown",
   "metadata": {},
   "source": [
    "What is the standard deviation of the weight loss/gain\n",
    "\n",
    "We calculate a standard deviation as $\\sigma = \\sqrt{ \\frac{1}{n} \\sum_{i=0}^n (a_i - \\bar{a})^2 }$\n",
    "\n",
    "I will import the square root function for you, to use it just do `sqrt( your_variable )`"
   ]
  },
  {
   "cell_type": "code",
   "execution_count": null,
   "metadata": {
    "collapsed": true
   },
   "outputs": [],
   "source": [
    "from math import sqrt\n",
    "#Calculate the standard deviation\n"
   ]
  },
  {
   "cell_type": "markdown",
   "metadata": {},
   "source": [
    "Write a new file that has the weight loss/gain and then the number of deviations that gain/loss is away from the average for each person. \n",
    "\n",
    "The file should have a header (that way you know what each column is later!), so it should look like this as an example:\n",
    "\n",
    "    Weight Loss/Gain, Deviations from Average\n",
    "    12,2.3\n",
    "    \n",
    "You can calculate the devation as $\\frac{a_i - \\bar{a}}{\\sigma}$"
   ]
  },
  {
   "cell_type": "code",
   "execution_count": null,
   "metadata": {
    "collapsed": true
   },
   "outputs": [],
   "source": [
    "#Write a file that has the weight loss/gain per person.\n"
   ]
  },
  {
   "cell_type": "markdown",
   "metadata": {},
   "source": [
    "Excellent! So the file that we initially read was just a small sample of a much larger file.\n",
    "\n",
    "The full file is actually `individual_physical_attributes.csv`\n",
    "\n",
    "Use the code you've already written to read in the full file. How many users are in this file?"
   ]
  },
  {
   "cell_type": "code",
   "execution_count": null,
   "metadata": {
    "collapsed": true
   },
   "outputs": [],
   "source": [
    "#Read in the full file\n"
   ]
  },
  {
   "cell_type": "markdown",
   "metadata": {},
   "source": [
    "Now use your code to calculate the average weight loss, the standard deviation of the weight loss for the entire population (so don't spearate based on gender)"
   ]
  },
  {
   "cell_type": "code",
   "execution_count": null,
   "metadata": {
    "collapsed": true
   },
   "outputs": [],
   "source": []
  },
  {
   "cell_type": "markdown",
   "metadata": {},
   "source": [
    "What percentage of males lost 10 pounds? What percentage of females lost 10 pounds?"
   ]
  },
  {
   "cell_type": "code",
   "execution_count": null,
   "metadata": {
    "collapsed": true
   },
   "outputs": [],
   "source": []
  },
  {
   "cell_type": "markdown",
   "metadata": {},
   "source": [
    "What was the maximum weight lost? Was the person male or female?"
   ]
  },
  {
   "cell_type": "code",
   "execution_count": null,
   "metadata": {
    "collapsed": true
   },
   "outputs": [],
   "source": []
  },
  {
   "cell_type": "markdown",
   "metadata": {},
   "source": [
    "What was the maximum weight gained? Was the person male or female?"
   ]
  },
  {
   "cell_type": "code",
   "execution_count": null,
   "metadata": {
    "collapsed": true
   },
   "outputs": [],
   "source": []
  }
 ],
 "metadata": {
  "anaconda-cloud": {},
  "kernelspec": {
   "display_name": "Python 3",
   "language": "python",
   "name": "python3"
  },
  "language_info": {
   "codemirror_mode": {
    "name": "ipython",
    "version": 3
   },
   "file_extension": ".py",
   "mimetype": "text/x-python",
   "name": "python",
   "nbconvert_exporter": "python",
   "pygments_lexer": "ipython3",
   "version": "3.6.8"
  },
  "latex_envs": {
   "LaTeX_envs_menu_present": true,
   "autoclose": false,
   "autocomplete": true,
   "bibliofile": "biblio.bib",
   "cite_by": "apalike",
   "current_citInitial": 1,
   "eqLabelWithNumbers": true,
   "eqNumInitial": 1,
   "hotkeys": {
    "equation": "Ctrl-E",
    "itemize": "Ctrl-I"
   },
   "labels_anchors": false,
   "latex_user_defs": false,
   "report_style_numbering": false,
   "user_envs_cfg": false
  },
  "toc": {
   "nav_menu": {},
   "number_sections": true,
   "sideBar": true,
   "skip_h1_title": false,
   "title_cell": "Table of Contents",
   "title_sidebar": "Contents",
   "toc_cell": false,
   "toc_position": {},
   "toc_section_display": true,
   "toc_window_display": false
  }
 },
 "nbformat": 4,
 "nbformat_minor": 1
}
