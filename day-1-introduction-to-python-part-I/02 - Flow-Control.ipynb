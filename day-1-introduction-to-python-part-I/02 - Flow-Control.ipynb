{
 "cells": [
  {
   "cell_type": "code",
   "execution_count": 1,
   "metadata": {
    "ExecuteTime": {
     "end_time": "2019-07-01T12:21:19.517910Z",
     "start_time": "2019-07-01T12:21:19.501962Z"
    }
   },
   "outputs": [
    {
     "data": {
      "text/html": [
       "<style>\n",
       "    @font-face {\n",
       "        font-family: \"Computer Modern\";\n",
       "        src: url('http://9dbb143991406a7c655e-aa5fcb0a5a4ec34cff238a2d56ca4144.r56.cf5.rackcdn.com/cmunss.otf');\n",
       "    }\n",
       "    @font-face {\n",
       "        font-family: \"Computer Modern\";\n",
       "        font-weight: bold;\n",
       "        src: url('http://9dbb143991406a7c655e-aa5fcb0a5a4ec34cff238a2d56ca4144.r56.cf5.rackcdn.com/cmunsx.otf');\n",
       "    }\n",
       "    @font-face {\n",
       "        font-family: \"Computer Modern\";\n",
       "        font-style: oblique;\n",
       "        src: url('http://9dbb143991406a7c655e-aa5fcb0a5a4ec34cff238a2d56ca4144.r56.cf5.rackcdn.com/cmunsi.otf');\n",
       "    }\n",
       "    @font-face {\n",
       "        font-family: \"Computer Modern\";\n",
       "        font-weight: bold;\n",
       "        font-style: oblique;\n",
       "        src: url('http://9dbb143991406a7c655e-aa5fcb0a5a4ec34cff238a2d56ca4144.r56.cf5.rackcdn.com/cmunso.otf');\n",
       "    }\n",
       "    h1 {\n",
       "        font-family: Helvetica, serif;\n",
       "    }\n",
       "    h4{\n",
       "        margin-top:12px;\n",
       "        margin-bottom: 3px;\n",
       "       }\n",
       "    div.text_cell_render{\n",
       "        font-family: Computer Modern, \"Helvetica Neue\", Arial, Helvetica, Geneva, sans-serif;\n",
       "        line-height: 145%;\n",
       "        font-size: 130%;\n",
       "        margin-left:auto;\n",
       "        margin-right:auto;\n",
       "    }\n",
       "    .CodeMirror{\n",
       "            font-family: \"Source Code Pro\", source-code-pro,Consolas, monospace;\n",
       "    }\n",
       "    .text_cell_render h5 {\n",
       "        font-weight: 300;\n",
       "        font-size: 22pt;\n",
       "        color: #4057A1;\n",
       "        font-style: italic;\n",
       "        margin-bottom: .5em;\n",
       "        margin-top: 0.5em;\n",
       "        display: block;\n",
       "    }\n",
       "    \n",
       "    .warning{\n",
       "        color: rgb( 240, 20, 20 )\n",
       "        }  \n",
       "</style>\n",
       "<script>\n",
       "    MathJax.Hub.Config({\n",
       "                        TeX: {\n",
       "                           extensions: [\"AMSmath.js\"]\n",
       "                           },\n",
       "                tex2jax: {\n",
       "                    inlineMath: [ ['$','$'], [\"\\\\(\",\"\\\\)\"] ],\n",
       "                    displayMath: [ ['$$','$$'], [\"\\\\[\",\"\\\\]\"] ]\n",
       "                },\n",
       "                displayAlign: 'center', // Change this to 'center' to center equations.\n",
       "                \"HTML-CSS\": {\n",
       "                    styles: {'.MathJax_Display': {\"margin\": 4}}\n",
       "                }\n",
       "        });\n",
       "</script>\n"
      ],
      "text/plain": [
       "<IPython.core.display.HTML object>"
      ]
     },
     "execution_count": 1,
     "metadata": {},
     "output_type": "execute_result"
    }
   ],
   "source": [
    "from IPython.core.display import HTML\n",
    "\n",
    "def css_styling():\n",
    "    styles = open(\"../Data/www/styles/custom.css\", \"r\").read()\n",
    "    return HTML(styles)\n",
    "css_styling()"
   ]
  },
  {
   "cell_type": "markdown",
   "metadata": {},
   "source": [
    "# Synopsis\n",
    "\n",
    "In this unit we will learn how to perform successive operations (\"looping\") without explicitly coding the commands. This is largely understood to be controlling the 'flow' of a program.  \n",
    "\n",
    "We will control the flow using:\n",
    "\n",
    "1. Logical statements to check for conditions (performing operations only `if` a condition is met)\n",
    "\n",
    "2. Continuing execution until a condition is met\n",
    "\n",
    "3. Iterating through a sequence of numbers using the `range()` function\n",
    "\n",
    "In order to do this we will learn the commands: `if`, `while`, and `for`\n",
    "\n"
   ]
  },
  {
   "cell_type": "markdown",
   "metadata": {},
   "source": [
    "# What if?\n",
    "\n",
    "There are times that we only want to execute a set of commands under a certain condition, such as in this classic programming joke of one spouse sending another out to the grocery store:\n",
    "\n",
    "** \"Buy a gallon of milk at the store and if there are organic eggs, buy a dozen\" **\n",
    "\n",
    "We have one action, \"Buy a gallon of milk\", that we will do no matter what (our assumption is that there is always milk at the grocery store). \n",
    "\n",
    "However, our other action, \"buy a dozen eggs\", is conditional on the right type of egg being available. If there are not organic eggs available then you shouldn't buy any!\n",
    "\n",
    "When we program all we are really doing is giving a set of instructions to the computer to execute, which means that we should be able to give a set of instructions about what to purchase at the grocery store.\n",
    "\n",
    "In order to program our word problem we need to learn a new command - `if`"
   ]
  },
  {
   "cell_type": "markdown",
   "metadata": {},
   "source": [
    "## Making more complicated programs\n",
    "\n",
    "When we start to make more complicated programs it helps to sketch out a plan of the overall program flow (and when I say sketch, I really do mean on paper!). We are going to program the classic joke\n",
    "\n",
    "** \"Buy a gallon of milk at the store and if there are organic eggs, buy a dozen\" **\n",
    "\n",
    "To do this, it helps to break our program apart into chunks. If it was me, this is the outline that I would come up with for our program (I like to start off super simple):\n",
    "\n",
    "----\n",
    "`# Define variables needed`\n",
    "\n",
    "`# Purchasing decisions`\n",
    "\n",
    "`# Check what was purchased`\n",
    "\n",
    "----\n",
    "\n",
    "I told you I liked to start simple! The first step that we have to do is to define all of the variables that we will need. While we can create variables whenever we need them in Python, it makes programming easier if we both (i) plan ahead and (ii) decide our variable names first."
   ]
  },
  {
   "cell_type": "markdown",
   "metadata": {},
   "source": [
    "#### Q1. So for this problem I can see three variables that will matter, what do you think they are?"
   ]
  },
  {
   "cell_type": "code",
   "execution_count": 2,
   "metadata": {
    "ExecuteTime": {
     "end_time": "2019-07-01T12:21:30.529846Z",
     "start_time": "2019-07-01T12:21:30.526678Z"
    }
   },
   "outputs": [],
   "source": [
    "## Now fill in the part of the code that we do know\n",
    "# Define variables needed\n",
    "\n",
    "# Purchasing decisions\n",
    "\n",
    "# Check what was purchased"
   ]
  },
  {
   "cell_type": "markdown",
   "metadata": {},
   "source": [
    "## Moving onto the logic\n",
    "\n",
    "Now that we've decided on what we will call our variables we can start to work out the rest of the code. \n",
    "\n",
    "The last part is pretty easy, we just need to print out the number of milk jugs and eggs purchased. It's the middle part that is a bit harder, we actually have to put in some logic to make this work properly. Based on my reading of the problem this is how I think the logic should go.\n",
    "\n",
    "----\n",
    "\n",
    "`# Define variables needed\n",
    "\n",
    "milk = 0\n",
    "\n",
    "eggs = 0\n",
    "\n",
    "store_has_eggs = False\n",
    "\n",
    "#Purchasing decisions`\n",
    "\n",
    "-> Purchase milk \n",
    "\n",
    "-> Check if there are eggs\n",
    "\n",
    "  -> Buy eggs if there are eggs\n",
    " \n",
    "`# Check what was purchased\n",
    "print(\"I purchased \", milk, \" gallons of milk\")\n",
    "print(\"I purchased \", eggs, \" eggs\")`\n",
    "\n",
    " \n",
    "----\n",
    "\n",
    "So that's the basic idea for the program. We already know how to purchase milk, that's just adding `1` to the value of milk. But the eggs are a bit more complicated, we have to check to see if there are eggs and then add the 12 eggs if the store has them. \n",
    "\n",
    "To do that we use the `if` statement - `if` does a check to see if a condition is met and if it is, then it executes all code that is **indented** below it. If the condition is not met, then it doesn't execute any of the code. \n",
    "\n",
    "So our purchasing logic would look like this:\n",
    "\n",
    "`# Purchasing decisions\n",
    "milk += 1\n",
    "if store_has_eggs == True:\n",
    "    eggs += 12`\n",
    "    \n",
    "It's extremely important to realize that **indentation** matters. Whitespace is how Python knows what parts of code go together.\n",
    "\n",
    "So we can now put this all together relatively easily."
   ]
  },
  {
   "cell_type": "code",
   "execution_count": 4,
   "metadata": {
    "ExecuteTime": {
     "end_time": "2019-07-01T12:22:45.403875Z",
     "start_time": "2019-07-01T12:22:45.398472Z"
    }
   },
   "outputs": [
    {
     "name": "stdout",
     "output_type": "stream",
     "text": [
      "I purchased  1  gallons of milk\n",
      "I purchased  0  eggs\n"
     ]
    }
   ],
   "source": [
    "# Define variables needed\n",
    "milk = 0\n",
    "eggs = 0\n",
    "store_has_eggs = False\n",
    "# Purchasing decisions\n",
    "milk += 1\n",
    "if store_has_eggs == True:\n",
    "    eggs += 12\n",
    "# Check what was purchased\n",
    "print(\"I purchased \", milk, \" gallons of milk\")\n",
    "print(\"I purchased \", eggs, \" eggs\")"
   ]
  },
  {
   "cell_type": "markdown",
   "metadata": {},
   "source": [
    "Excellent! There is a way to improve this code for humans though. If we purchase only 1 gallon of milk then we should say 'gallon' instead of 'gallons'. \n",
    "\n",
    "#### Q2. Use an if statement to check how many gallons we have purchased and print a grammatically correct sentence."
   ]
  },
  {
   "cell_type": "code",
   "execution_count": 9,
   "metadata": {
    "ExecuteTime": {
     "end_time": "2019-07-01T12:24:36.212278Z",
     "start_time": "2019-07-01T12:24:36.206230Z"
    }
   },
   "outputs": [
    {
     "name": "stdout",
     "output_type": "stream",
     "text": [
      "I purchased  1  gallons of milk\n",
      "I purchased  0  egg\n"
     ]
    }
   ],
   "source": [
    "# Make the final print statement grammatically correct with an `if` statement\n",
    "# Define variables needed\n",
    "milk = 0\n",
    "eggs = 0\n",
    "store_has_eggs = False\n",
    "# Purchasing decisions\n",
    "milk += 1\n",
    "if store_has_eggs == True:\n",
    "    eggs += 12\n",
    "\n",
    "    \n",
    "# Check what was purchased\n",
    "print(\"I purchased \", milk, \" gallons of milk\")\n",
    "if eggs>1:\n",
    "    print(\"I purchased \", eggs, \" eggs\")\n",
    "else:\n",
    "    print(\"I purchased \", eggs, \" egg\")"
   ]
  },
  {
   "cell_type": "markdown",
   "metadata": {},
   "source": [
    "We can use if statements in a large number of contexts too. We can use it to check and see if a certain character is in a string for example."
   ]
  },
  {
   "cell_type": "code",
   "execution_count": 11,
   "metadata": {
    "ExecuteTime": {
     "end_time": "2019-07-01T12:25:05.192519Z",
     "start_time": "2019-07-01T12:25:05.188333Z"
    }
   },
   "outputs": [
    {
     "name": "stdout",
     "output_type": "stream",
     "text": [
      "Give it up for all the a-names!\n"
     ]
    }
   ],
   "source": [
    "if 'a' in 'adam':\n",
    "    print('Give it up for all the a-names!')"
   ]
  },
  {
   "cell_type": "markdown",
   "metadata": {},
   "source": [
    "Or if something is less, more, or not equal"
   ]
  },
  {
   "cell_type": "code",
   "execution_count": 13,
   "metadata": {
    "ExecuteTime": {
     "end_time": "2019-07-01T12:25:40.639599Z",
     "start_time": "2019-07-01T12:25:40.633540Z"
    }
   },
   "outputs": [
    {
     "name": "stdout",
     "output_type": "stream",
     "text": [
      "That's not fair! They got more than me!\n"
     ]
    }
   ],
   "source": [
    "my_pay = 5\n",
    "my_siblings_pay = 10\n",
    "if my_pay < my_siblings_pay:\n",
    "    print(\"That's not fair! They got more than me!\")"
   ]
  },
  {
   "cell_type": "markdown",
   "metadata": {},
   "source": [
    "But sometimes we might want to chain multiple conditions together - for example, if we got paid the same or more than our sibling we might want to say that we think it is fair. \n",
    "\n",
    "To do that we pair the `if` with an `else`."
   ]
  },
  {
   "cell_type": "code",
   "execution_count": 16,
   "metadata": {
    "ExecuteTime": {
     "end_time": "2019-07-01T12:26:13.610512Z",
     "start_time": "2019-07-01T12:26:13.605806Z"
    }
   },
   "outputs": [
    {
     "name": "stdout",
     "output_type": "stream",
     "text": [
      "That's not fair! They got more than me!\n"
     ]
    }
   ],
   "source": [
    "my_pay = 5\n",
    "my_siblings_pay = 10\n",
    "\n",
    "if my_pay < my_siblings_pay:\n",
    "    print(\"That's not fair! They got more than me!\")\n",
    "else:\n",
    "    print(\"Well, that seems fair\")"
   ]
  },
  {
   "cell_type": "markdown",
   "metadata": {},
   "source": [
    "But what if we want to handle all 3 conditions (I get paid less, we get paid the same, I get paid more)? \n",
    "\n",
    "We can actually do that with what we already know. I want you to modify the code to handle all 3 conditions separately."
   ]
  },
  {
   "cell_type": "code",
   "execution_count": 17,
   "metadata": {
    "ExecuteTime": {
     "end_time": "2019-07-01T12:27:00.505674Z",
     "start_time": "2019-07-01T12:27:00.500939Z"
    }
   },
   "outputs": [
    {
     "name": "stdout",
     "output_type": "stream",
     "text": [
      "That's not fair! They got more than me!\n"
     ]
    }
   ],
   "source": [
    "# Modify to handle all 3 conditions with what you already know\n",
    "my_pay = 5\n",
    "my_siblings_pay = 10\n",
    "\n",
    "if my_pay < my_siblings_pay:\n",
    "    print(\"That's not fair! They got more than me!\")\n",
    "else:\n",
    "    print(\"Well, that seems fair\")"
   ]
  },
  {
   "cell_type": "markdown",
   "metadata": {
    "collapsed": true
   },
   "source": [
    "When we put an `if` statement inside another `if` statement that is called nesting. \n",
    "\n",
    "However, while we can nest code inside it is best to only do it when appropriate.\n",
    "\n",
    "**So when do I nest an `if` statement?**\n",
    "\n",
    "We nest `if` statements if we want to evaluate one condition and then further evaluate a separate condition. As an example, if we thought that it was fair for our sibling to get paid more than us *if* they were 5 years older than we were, that would be a good time to nest an `if` statement. \n",
    "\n",
    "When we want to evaluate the same condition it is best to do it all at the same level of code. To add in another condition we use the `elif` command (which stands for 'else if')"
   ]
  },
  {
   "cell_type": "code",
   "execution_count": 18,
   "metadata": {
    "ExecuteTime": {
     "end_time": "2019-07-01T12:27:54.154305Z",
     "start_time": "2019-07-01T12:27:54.149167Z"
    }
   },
   "outputs": [
    {
     "name": "stdout",
     "output_type": "stream",
     "text": [
      "Well, that seems fair\n"
     ]
    }
   ],
   "source": [
    "# Modify to handle all 3 conditions with what you already know\n",
    "my_pay = 11\n",
    "my_siblings_pay = 10\n",
    "\n",
    "if my_pay < my_siblings_pay:\n",
    "    print(\"That's not fair! They got more than me!\")\n",
    "elif my_pay == my_siblings_pay:\n",
    "    print(\"Well, we did do the same amount after all\")\n",
    "else:\n",
    "    print(\"Well, that seems fair\")"
   ]
  },
  {
   "cell_type": "markdown",
   "metadata": {},
   "source": [
    "#### E1. Add into the code a check for ages. \n",
    "If your sibling was paid more than you, but is more than 5 years older than you - have your code say - \n",
    "\"Well, I guess it's okay because I'm younger\""
   ]
  },
  {
   "cell_type": "code",
   "execution_count": null,
   "metadata": {},
   "outputs": [],
   "source": [
    "# Handle a check based on both wage discrepancy and age difference between you and your sibling\n",
    "\n",
    "\n"
   ]
  },
  {
   "cell_type": "markdown",
   "metadata": {},
   "source": [
    "# Keeping code running (`while` loops)\n",
    "\n",
    "\n",
    "## While loops\n",
    "\n",
    "A loop is used to repeat a block of commands multiple times. There are two ways to write a loop, one is a `for` loop and the other is a `while` loop. Typically, you use a `for` loop when you know how many times you want to loop, and a `while` loop when looping is based on a conditional that will be modified during the loop.\n",
    "\n",
    "A `while` loop is pretty simple, it's structure looks like:\n",
    "\n",
    "    while a_condition:\n",
    "        # do something\n",
    "        ...\n",
    "        \n",
    "and it continues until `a_condition` is false.\n",
    "\n",
    "\n",
    "As an example, let's think about trying to write code to perform division. \n",
    "\n",
    "So how do we do division? How can we do it in code?\n",
    "\n",
    "Well let's see: we have the number we want to divide and the divisor.\n",
    "\n",
    "We want to know the number of times that the divisor goes into our number. \n",
    "\n",
    "Once the divisor can no longer go into our number, we've reached the end. This means we want to use a `while` loop to continue subtracting the divisor from our original number. "
   ]
  },
  {
   "cell_type": "code",
   "execution_count": 20,
   "metadata": {
    "ExecuteTime": {
     "end_time": "2019-07-01T12:30:20.665551Z",
     "start_time": "2019-07-01T12:30:20.660223Z"
    }
   },
   "outputs": [
    {
     "name": "stdout",
     "output_type": "stream",
     "text": [
      "The division is:  8\n"
     ]
    }
   ],
   "source": [
    "# Our numeric variables\n",
    "number = 43\n",
    "divisor = 5\n",
    "answer = 0\n",
    "\n",
    "# While loop\n",
    "while number > 0:\n",
    "    number = number - divisor\n",
    "    # As long as we haven't gone below zero that means we should increment the answer\n",
    "    if number > 0:\n",
    "        answer += 1\n",
    "\n",
    "# Print the answer\n",
    "print('The division is: ', answer)"
   ]
  },
  {
   "cell_type": "markdown",
   "metadata": {},
   "source": [
    "The most important part to always keep track of is that you finish the condition that you started the `while` loop with. Otherwise, it'll just keep going on and on for forever!\n",
    "\n",
    "But there's one big problem with how we've set up our current code, it can't handle dividing a negative number!\n",
    "\n",
    "Rewrite the code to handle dividing a negative number by another negative number. "
   ]
  },
  {
   "cell_type": "code",
   "execution_count": null,
   "metadata": {},
   "outputs": [],
   "source": [
    "# Now let's rewrite the code to handle dividing a negative number\n",
    "\n"
   ]
  },
  {
   "cell_type": "markdown",
   "metadata": {},
   "source": [
    "# Iterating through a sequence (`for` loops)\n",
    "\n",
    "A `while` loop is an excellent choice when you need to perform a set of commands and do not know how many times they *should* be executed but do know when the commands *should finish*. \n",
    "\n",
    "Our next option helps us solve the other part of looping, when we know *how many times* a command should be executed.\n",
    "\n",
    "## For loops\n",
    "\n",
    "A `for` loop lets us repeat a set of commands a defined number of times. The syntax for a `for` loop is just:\n",
    "\n",
    "    for item in sequence:\n",
    "        # do something with item\n",
    "        ...\n",
    "\n",
    "But what is a sequence?\n",
    "\n",
    "There are lots of functions in Python that will actually return a sequence - they are called *iterators*. An iterator essentially provides the next element in the sequence each time we access it. \n",
    "\n",
    "The iterator that we will use to demonstrate a for loop is the `range()` function. The range function gives us a sequence of numbers from the first number we give it up until the last number we give it."
   ]
  },
  {
   "cell_type": "code",
   "execution_count": 22,
   "metadata": {
    "ExecuteTime": {
     "end_time": "2019-07-01T12:31:28.713280Z",
     "start_time": "2019-07-01T12:31:28.707240Z"
    }
   },
   "outputs": [
    {
     "data": {
      "text/plain": [
       "range(1, 5)"
      ]
     },
     "execution_count": 22,
     "metadata": {},
     "output_type": "execute_result"
    }
   ],
   "source": [
    "range(1, 5)"
   ]
  },
  {
   "cell_type": "markdown",
   "metadata": {},
   "source": [
    "That doesn't look right! \n",
    "\n",
    "It's because it's an iterator, in order to access the numbers we have to actually access the iterator each time to 'pull' a number out."
   ]
  },
  {
   "cell_type": "code",
   "execution_count": 23,
   "metadata": {
    "ExecuteTime": {
     "end_time": "2019-07-01T12:31:54.872161Z",
     "start_time": "2019-07-01T12:31:54.867312Z"
    }
   },
   "outputs": [
    {
     "name": "stdout",
     "output_type": "stream",
     "text": [
      "1\n",
      "2\n",
      "3\n",
      "4\n"
     ]
    }
   ],
   "source": [
    "for i in range(1, 5):\n",
    "    print(i)"
   ]
  },
  {
   "cell_type": "markdown",
   "metadata": {},
   "source": [
    "What's happening is that each time we go to the top of the for loop, we pull another number out of the sequence and that number is assigned to `i`.\n",
    "\n",
    "After that point, we execute all of the indented code in the block with the current value of `i`. Once we've finished executing the code we go back up to the top and assign the next value in the sequence to `i`."
   ]
  },
  {
   "cell_type": "code",
   "execution_count": 25,
   "metadata": {
    "ExecuteTime": {
     "end_time": "2019-07-01T12:34:11.903783Z",
     "start_time": "2019-07-01T12:34:11.897314Z"
    },
    "scrolled": true
   },
   "outputs": [
    {
     "name": "stdout",
     "output_type": "stream",
     "text": [
      "1\n",
      "3\n",
      "36\n",
      "---\n",
      "2\n",
      "6\n",
      "36\n",
      "---\n",
      "3\n",
      "9\n",
      "36\n",
      "---\n",
      "4\n",
      "12\n",
      "36\n",
      "---\n"
     ]
    }
   ],
   "source": [
    "for i in range(1, 5):\n",
    "    print(i)\n",
    "    print(i*3)\n",
    "    j = 12\n",
    "    print(j*3)\n",
    "    print('---')"
   ]
  },
  {
   "cell_type": "markdown",
   "metadata": {},
   "source": [
    "Using a for loop is very useful when we want to access all of the elements of some variable. For example, if we know that we want to do something to every individual letter in a string, we could use the range funciton to access each element directly."
   ]
  },
  {
   "cell_type": "code",
   "execution_count": 26,
   "metadata": {
    "ExecuteTime": {
     "end_time": "2019-07-01T12:34:17.844555Z",
     "start_time": "2019-07-01T12:34:17.839523Z"
    }
   },
   "outputs": [
    {
     "name": "stdout",
     "output_type": "stream",
     "text": [
      "h\n",
      "a\n",
      "m\n",
      "s\n"
     ]
    }
   ],
   "source": [
    "phrase = 'hams'\n",
    "\n",
    "for i in range(4):\n",
    "    print( phrase[i] )"
   ]
  },
  {
   "cell_type": "markdown",
   "metadata": {},
   "source": [
    "Note that the range we are iterating through **must** match the number of letters in `phrase`. Otherwise we would have an error as we try to access parts of the `phrase` variable that doesn't exist."
   ]
  },
  {
   "cell_type": "code",
   "execution_count": 30,
   "metadata": {
    "ExecuteTime": {
     "end_time": "2019-07-01T12:35:14.759539Z",
     "start_time": "2019-07-01T12:35:14.747651Z"
    }
   },
   "outputs": [
    {
     "name": "stdout",
     "output_type": "stream",
     "text": [
      "0 h\n",
      "1 a\n",
      "2 m\n",
      "3 s\n"
     ]
    },
    {
     "ename": "IndexError",
     "evalue": "string index out of range",
     "output_type": "error",
     "traceback": [
      "\u001b[0;31m----------------------------------------------------------------------\u001b[0m",
      "\u001b[0;31mIndexError\u001b[0m                           Traceback (most recent call last)",
      "\u001b[0;32m<ipython-input-30-74791bc6c45d>\u001b[0m in \u001b[0;36m<module>\u001b[0;34m\u001b[0m\n\u001b[1;32m      2\u001b[0m \u001b[0;34m\u001b[0m\u001b[0m\n\u001b[1;32m      3\u001b[0m \u001b[0;32mfor\u001b[0m \u001b[0mi\u001b[0m \u001b[0;32min\u001b[0m \u001b[0mrange\u001b[0m\u001b[0;34m(\u001b[0m\u001b[0;36m5\u001b[0m\u001b[0;34m)\u001b[0m\u001b[0;34m:\u001b[0m\u001b[0;34m\u001b[0m\u001b[0;34m\u001b[0m\u001b[0m\n\u001b[0;32m----> 4\u001b[0;31m     \u001b[0mprint\u001b[0m\u001b[0;34m(\u001b[0m \u001b[0mi\u001b[0m\u001b[0;34m,\u001b[0m\u001b[0mphrase\u001b[0m\u001b[0;34m[\u001b[0m\u001b[0mi\u001b[0m\u001b[0;34m]\u001b[0m \u001b[0;34m)\u001b[0m\u001b[0;34m\u001b[0m\u001b[0;34m\u001b[0m\u001b[0m\n\u001b[0m",
      "\u001b[0;31mIndexError\u001b[0m: string index out of range"
     ]
    }
   ],
   "source": [
    "phrase = 'hams'\n",
    "\n",
    "for i in range(5):\n",
    "    print( i,phrase[i] )"
   ]
  },
  {
   "cell_type": "markdown",
   "metadata": {},
   "source": [
    "So this would allow us to actually manipulate the individual characters of a string and create a new string that has the manipulated characters.\n",
    "\n",
    "Like, let's say we wanted to capitalize every letter `A` in any string we are given.\n",
    "\n",
    "Write code to do that using a for loop with the word \"aardvarks\""
   ]
  },
  {
   "cell_type": "code",
   "execution_count": null,
   "metadata": {},
   "outputs": [],
   "source": [
    "# Write code to capitalize every letter 'A' in the following word\n",
    "phrase = 'aardvarks'\n",
    "\n",
    "\n"
   ]
  },
  {
   "cell_type": "markdown",
   "metadata": {},
   "source": [
    "# Exercises"
   ]
  },
  {
   "cell_type": "markdown",
   "metadata": {},
   "source": [
    "Let's go back to our code to do division. We wrote one version that handles dividing negative numbers and another that handles dividing positive numbers. Let's write a version that can handle dividing positive or negative numbers by a positive or negative number. You should account for all possible combinations of positive and negative numbers in either position."
   ]
  },
  {
   "cell_type": "code",
   "execution_count": null,
   "metadata": {},
   "outputs": [],
   "source": [
    "# Multi-purpose division algorithm\n"
   ]
  },
  {
   "cell_type": "markdown",
   "metadata": {},
   "source": [
    "Write code to that will turn the string:\n",
    "\n",
    "' n o r t h w e s t e r n'\n",
    "\n",
    "into:\n",
    "\n",
    "'Northwestern'"
   ]
  },
  {
   "cell_type": "code",
   "execution_count": null,
   "metadata": {},
   "outputs": [],
   "source": [
    "word = ' n o r t h w e s t e r n'\n",
    "\n"
   ]
  }
 ],
 "metadata": {
  "anaconda-cloud": {},
  "kernelspec": {
   "display_name": "Python 3",
   "language": "python",
   "name": "python3"
  },
  "language_info": {
   "codemirror_mode": {
    "name": "ipython",
    "version": 3
   },
   "file_extension": ".py",
   "mimetype": "text/x-python",
   "name": "python",
   "nbconvert_exporter": "python",
   "pygments_lexer": "ipython3",
   "version": "3.6.8"
  },
  "latex_envs": {
   "LaTeX_envs_menu_present": true,
   "autoclose": false,
   "autocomplete": true,
   "bibliofile": "biblio.bib",
   "cite_by": "apalike",
   "current_citInitial": 1,
   "eqLabelWithNumbers": true,
   "eqNumInitial": 1,
   "hotkeys": {
    "equation": "Ctrl-E",
    "itemize": "Ctrl-I"
   },
   "labels_anchors": false,
   "latex_user_defs": false,
   "report_style_numbering": false,
   "user_envs_cfg": false
  },
  "toc": {
   "nav_menu": {},
   "number_sections": true,
   "sideBar": true,
   "skip_h1_title": false,
   "title_cell": "Table of Contents",
   "title_sidebar": "Contents",
   "toc_cell": false,
   "toc_position": {},
   "toc_section_display": true,
   "toc_window_display": false
  }
 },
 "nbformat": 4,
 "nbformat_minor": 1
}
