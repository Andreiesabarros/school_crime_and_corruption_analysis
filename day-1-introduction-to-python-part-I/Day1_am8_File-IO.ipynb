{
 "cells": [
  {
   "cell_type": "code",
   "execution_count": 1,
   "metadata": {
    "ExecuteTime": {
     "end_time": "2019-06-23T21:14:37.559358Z",
     "start_time": "2019-06-23T21:14:37.546435Z"
    }
   },
   "outputs": [
    {
     "data": {
      "text/html": [
       "<style>\n",
       "    @font-face {\n",
       "        font-family: \"Computer Modern\";\n",
       "        src: url('http://9dbb143991406a7c655e-aa5fcb0a5a4ec34cff238a2d56ca4144.r56.cf5.rackcdn.com/cmunss.otf');\n",
       "    }\n",
       "    @font-face {\n",
       "        font-family: \"Computer Modern\";\n",
       "        font-weight: bold;\n",
       "        src: url('http://9dbb143991406a7c655e-aa5fcb0a5a4ec34cff238a2d56ca4144.r56.cf5.rackcdn.com/cmunsx.otf');\n",
       "    }\n",
       "    @font-face {\n",
       "        font-family: \"Computer Modern\";\n",
       "        font-style: oblique;\n",
       "        src: url('http://9dbb143991406a7c655e-aa5fcb0a5a4ec34cff238a2d56ca4144.r56.cf5.rackcdn.com/cmunsi.otf');\n",
       "    }\n",
       "    @font-face {\n",
       "        font-family: \"Computer Modern\";\n",
       "        font-weight: bold;\n",
       "        font-style: oblique;\n",
       "        src: url('http://9dbb143991406a7c655e-aa5fcb0a5a4ec34cff238a2d56ca4144.r56.cf5.rackcdn.com/cmunso.otf');\n",
       "    }\n",
       "    h1 {\n",
       "        font-family: Helvetica, serif;\n",
       "    }\n",
       "    h4{\n",
       "        margin-top:12px;\n",
       "        margin-bottom: 3px;\n",
       "       }\n",
       "    div.text_cell_render{\n",
       "        font-family: Computer Modern, \"Helvetica Neue\", Arial, Helvetica, Geneva, sans-serif;\n",
       "        line-height: 145%;\n",
       "        font-size: 130%;\n",
       "        margin-left:auto;\n",
       "        margin-right:auto;\n",
       "    }\n",
       "    .CodeMirror{\n",
       "            font-family: \"Source Code Pro\", source-code-pro,Consolas, monospace;\n",
       "    }\n",
       "    .text_cell_render h5 {\n",
       "        font-weight: 300;\n",
       "        font-size: 22pt;\n",
       "        color: #4057A1;\n",
       "        font-style: italic;\n",
       "        margin-bottom: .5em;\n",
       "        margin-top: 0.5em;\n",
       "        display: block;\n",
       "    }\n",
       "    \n",
       "    .warning{\n",
       "        color: rgb( 240, 20, 20 )\n",
       "        }  \n",
       "</style>\n",
       "<script>\n",
       "    MathJax.Hub.Config({\n",
       "                        TeX: {\n",
       "                           extensions: [\"AMSmath.js\"]\n",
       "                           },\n",
       "                tex2jax: {\n",
       "                    inlineMath: [ ['$','$'], [\"\\\\(\",\"\\\\)\"] ],\n",
       "                    displayMath: [ ['$$','$$'], [\"\\\\[\",\"\\\\]\"] ]\n",
       "                },\n",
       "                displayAlign: 'center', // Change this to 'center' to center equations.\n",
       "                \"HTML-CSS\": {\n",
       "                    styles: {'.MathJax_Display': {\"margin\": 4}}\n",
       "                }\n",
       "        });\n",
       "</script>\n"
      ],
      "text/plain": [
       "<IPython.core.display.HTML object>"
      ]
     },
     "execution_count": 1,
     "metadata": {},
     "output_type": "execute_result"
    }
   ],
   "source": [
    "from IPython.core.display import HTML\n",
    "\n",
    "def css_styling():\n",
    "    styles = open(\"../Data/www/styles/custom.css\", \"r\").read()\n",
    "    return HTML(styles)\n",
    "css_styling()"
   ]
  },
  {
   "cell_type": "markdown",
   "metadata": {},
   "source": [
    "# Synopsis\n",
    "\n",
    "In this unit we will earn an important skill, how to read and write files. In order to do that, we will cover:\n",
    "\n",
    "1. How files are organized on a computer and how to view/find file locations with terminal commands from the notebook\n",
    "2. How to open a file and read it\n",
    "3. How to open a file and write text to it. "
   ]
  },
  {
   "cell_type": "markdown",
   "metadata": {},
   "source": [
    "# Reading and writing files\n",
    "\n",
    "Typing strings and numbers into an IPython Notebook are great ways to learn basics,\n",
    "but sooner or later you will have to learn how to read data from a file, perform some analysis on that data and ideally save the analysis. \n",
    "\n",
    "But first we need to go over the basics of the filesystem so you know where and how things are located"
   ]
  },
  {
   "cell_type": "markdown",
   "metadata": {},
   "source": [
    "# Filesystems\n",
    "\n",
    "A filesystem is presented to you in a folder structure like this\n",
    "\n",
    "<img src='../Data/www/images/osx_finder.png'></img>\n",
    "\n",
    "Where each folder is inside another folder and this keeps going all the way up. In fact this continues until we reach the root of the hard drive.\n",
    "\n",
    "One way to visualize this differently is to think of the file system as a tree. In Linux/OS X the tree generically looks like this:\n",
    "\n",
    "<img src='../Data/www/images/linux_fs_tree.png' width='600px'></img>\n",
    "\n",
    "On Windows it's very similar, it's just the root is `C:` instead of `/`\n",
    "\n",
    "<img src='../Data/www/images/windows_fs_tree.png' width='400px'></img>"
   ]
  },
  {
   "cell_type": "markdown",
   "metadata": {},
   "source": [
    "When we want to see what is inside a folder we can use the `ls` command (it stands for `list`). `ls` is **not** a Python command (it comes from the terminal) but Jupyter notebook allows us to use this command natively in any code cell **as long as there is no Python code in the cell**.\n",
    "\n",
    "If we wanted to see all of the files in this directory we can just use the following command:"
   ]
  },
  {
   "cell_type": "code",
   "execution_count": 2,
   "metadata": {
    "ExecuteTime": {
     "end_time": "2019-06-23T21:14:44.085056Z",
     "start_time": "2019-06-23T21:14:43.945542Z"
    }
   },
   "outputs": [
    {
     "name": "stdout",
     "output_type": "stream",
     "text": [
      "\u001b[31mDay1_am1_Jupyter-Notebook-Introduction.ipynb\u001b[m\u001b[m*\r\n",
      "\u001b[31mDay1_am2_Data-Types.ipynb\u001b[m\u001b[m*\r\n",
      "\u001b[31mDay1_pm1_Flow-Control.ipynb\u001b[m\u001b[m*\r\n",
      "\u001b[31mDay1_pm2_Handling_Errors.ipynb\u001b[m\u001b[m*\r\n",
      "\u001b[31mDay2_am1_Lists-Tuples-and-Sets.ipynb\u001b[m\u001b[m*\r\n",
      "\u001b[31mDay2_am2_File-IO.ipynb\u001b[m\u001b[m*\r\n",
      "\u001b[31mDay2_pm1_Review.ipynb\u001b[m\u001b[m*\r\n",
      "\u001b[31mDay3_am1_Standard-Library.ipynb\u001b[m\u001b[m*\r\n",
      "\u001b[31mDay3_am2_Data-Visualization.ipynb\u001b[m\u001b[m*\r\n",
      "\u001b[31mDay3_pm1_Functions.ipynb\u001b[m\u001b[m*\r\n",
      "\u001b[31mDay3_pm2_Review.ipynb\u001b[m\u001b[m*\r\n",
      "\u001b[31mDay4_am1_Dictionaries.ipynb\u001b[m\u001b[m*\r\n",
      "\u001b[31mDay4_am2_Review.ipynb\u001b[m\u001b[m*\r\n",
      "\u001b[31mDay4_pm1_Mini-Project.ipynb\u001b[m\u001b[m*\r\n",
      "\u001b[31mDay5_am1_Text-analysis.ipynb\u001b[m\u001b[m*\r\n",
      "\u001b[31mDay5_pm1_Regular-expressions.ipynb\u001b[m\u001b[m*\r\n",
      "\u001b[31mDay5_pm2_Sentiment-Analysis.ipynb\u001b[m\u001b[m*\r\n",
      "\u001b[31mDay6_am1_Using_APIs_1.ipynb\u001b[m\u001b[m*\r\n",
      "\u001b[31mDay6_am2_Using_APIs_2.ipynb\u001b[m\u001b[m*\r\n",
      "\u001b[31mDay6_pm1_Web_scraping.ipynb\u001b[m\u001b[m*\r\n",
      "\u001b[31mDay7_am1_Statistical_analysis_w_Python.ipynb\u001b[m\u001b[m*\r\n",
      "\u001b[31mDay7_am2_Bootstrapping_MC_chains.ipynb\u001b[m\u001b[m*\r\n",
      "\u001b[31mDay7_am2_More_stats_w_Python.ipynb\u001b[m\u001b[m*\r\n",
      "\u001b[31mDay7_am2_The-Bootstrap.ipynb\u001b[m\u001b[m*\r\n",
      "\u001b[31mDay7_pm1_Structured-Data-Analysis-Pt1.ipynb\u001b[m\u001b[m*\r\n",
      "\u001b[31mDay7_pm2_Structured-Data-Analysis-Pt2.ipynb\u001b[m\u001b[m*\r\n",
      "\u001b[31mDay8_am1_Image-Manipulation.ipynb\u001b[m\u001b[m*\r\n",
      "\u001b[31mDay8_am2_Image-Analysis.ipynb\u001b[m\u001b[m*\r\n",
      "\u001b[31mDay8_pm1_Cell_detection_project.ipynb\u001b[m\u001b[m*\r\n",
      "\r\n",
      "introduction-to-python:\r\n"
     ]
    }
   ],
   "source": [
    "ls *"
   ]
  },
  {
   "cell_type": "markdown",
   "metadata": {},
   "source": [
    "`ls` means `list` and the `*` is what we call a `wildcard`. The `*` wildcard means match to everything. \n",
    "\n",
    "We can use it with some text to restrict what we display though. If we only want to see Jupyter notebooks we can do"
   ]
  },
  {
   "cell_type": "code",
   "execution_count": 3,
   "metadata": {
    "ExecuteTime": {
     "end_time": "2019-06-23T21:14:49.484521Z",
     "start_time": "2019-06-23T21:14:49.361483Z"
    }
   },
   "outputs": [
    {
     "name": "stdout",
     "output_type": "stream",
     "text": [
      "\u001b[31mDay1_am1_Jupyter-Notebook-Introduction.ipynb\u001b[m\u001b[m*\r\n",
      "\u001b[31mDay1_am2_Data-Types.ipynb\u001b[m\u001b[m*\r\n",
      "\u001b[31mDay1_pm1_Flow-Control.ipynb\u001b[m\u001b[m*\r\n",
      "\u001b[31mDay1_pm2_Handling_Errors.ipynb\u001b[m\u001b[m*\r\n",
      "\u001b[31mDay2_am1_Lists-Tuples-and-Sets.ipynb\u001b[m\u001b[m*\r\n",
      "\u001b[31mDay2_am2_File-IO.ipynb\u001b[m\u001b[m*\r\n",
      "\u001b[31mDay2_pm1_Review.ipynb\u001b[m\u001b[m*\r\n",
      "\u001b[31mDay3_am1_Standard-Library.ipynb\u001b[m\u001b[m*\r\n",
      "\u001b[31mDay3_am2_Data-Visualization.ipynb\u001b[m\u001b[m*\r\n",
      "\u001b[31mDay3_pm1_Functions.ipynb\u001b[m\u001b[m*\r\n",
      "\u001b[31mDay3_pm2_Review.ipynb\u001b[m\u001b[m*\r\n",
      "\u001b[31mDay4_am1_Dictionaries.ipynb\u001b[m\u001b[m*\r\n",
      "\u001b[31mDay4_am2_Review.ipynb\u001b[m\u001b[m*\r\n",
      "\u001b[31mDay4_pm1_Mini-Project.ipynb\u001b[m\u001b[m*\r\n",
      "\u001b[31mDay5_am1_Text-analysis.ipynb\u001b[m\u001b[m*\r\n",
      "\u001b[31mDay5_pm1_Regular-expressions.ipynb\u001b[m\u001b[m*\r\n",
      "\u001b[31mDay5_pm2_Sentiment-Analysis.ipynb\u001b[m\u001b[m*\r\n",
      "\u001b[31mDay6_am1_Using_APIs_1.ipynb\u001b[m\u001b[m*\r\n",
      "\u001b[31mDay6_am2_Using_APIs_2.ipynb\u001b[m\u001b[m*\r\n",
      "\u001b[31mDay6_pm1_Web_scraping.ipynb\u001b[m\u001b[m*\r\n",
      "\u001b[31mDay7_am1_Statistical_analysis_w_Python.ipynb\u001b[m\u001b[m*\r\n",
      "\u001b[31mDay7_am2_Bootstrapping_MC_chains.ipynb\u001b[m\u001b[m*\r\n",
      "\u001b[31mDay7_am2_More_stats_w_Python.ipynb\u001b[m\u001b[m*\r\n",
      "\u001b[31mDay7_am2_The-Bootstrap.ipynb\u001b[m\u001b[m*\r\n",
      "\u001b[31mDay7_pm1_Structured-Data-Analysis-Pt1.ipynb\u001b[m\u001b[m*\r\n",
      "\u001b[31mDay7_pm2_Structured-Data-Analysis-Pt2.ipynb\u001b[m\u001b[m*\r\n",
      "\u001b[31mDay8_am1_Image-Manipulation.ipynb\u001b[m\u001b[m*\r\n",
      "\u001b[31mDay8_am2_Image-Analysis.ipynb\u001b[m\u001b[m*\r\n",
      "\u001b[31mDay8_pm1_Cell_detection_project.ipynb\u001b[m\u001b[m*\r\n"
     ]
    }
   ],
   "source": [
    "ls *ipynb"
   ]
  },
  {
   "cell_type": "markdown",
   "metadata": {},
   "source": [
    "If we want to see where we currently are in the tree, we can use the `pwd` command (shorthand for `p`resent `w`orking `d`irectory)"
   ]
  },
  {
   "cell_type": "code",
   "execution_count": 4,
   "metadata": {
    "ExecuteTime": {
     "end_time": "2019-06-23T21:14:50.712673Z",
     "start_time": "2019-06-23T21:14:50.706181Z"
    }
   },
   "outputs": [
    {
     "data": {
      "text/plain": [
       "'/Users/lgaalves/Documents/presentations/school_of_applied_math/Lessons'"
      ]
     },
     "execution_count": 4,
     "metadata": {},
     "output_type": "execute_result"
    }
   ],
   "source": [
    "pwd"
   ]
  },
  {
   "cell_type": "markdown",
   "metadata": {},
   "source": [
    "## But now how do we move out of our current folder?\n",
    "\n",
    "There are two ways to access a path: (i) absolute and (ii) relative.\n",
    "\n",
    "**Absolute paths** start from the *root* of the tree that we showed. On OS X or Windows that means the path will start with `/` or `C:\\`. We just string together the folder names with the path separator to get to our current path.\n",
    "\n",
    "**Note: I have this written for OS X, if you are using Windows change the `/` to `\\`\n",
    "\n",
    "We don't always have to use the root though, the `~` symbol stands for our user directory and we can start paths from there."
   ]
  },
  {
   "cell_type": "code",
   "execution_count": 5,
   "metadata": {
    "ExecuteTime": {
     "end_time": "2019-06-23T21:14:52.393739Z",
     "start_time": "2019-06-23T21:14:52.269653Z"
    }
   },
   "outputs": [
    {
     "name": "stdout",
     "output_type": "stream",
     "text": [
      "\u001b[34mApplications\u001b[m\u001b[m/              \u001b[35metc\u001b[m\u001b[m@\r\n",
      "\u001b[34mLibrary\u001b[m\u001b[m/                   \u001b[34mhome\u001b[m\u001b[m/\r\n",
      "\u001b[34mNetwork\u001b[m\u001b[m/                   installer.failurerequests\r\n",
      "\u001b[34mSystem\u001b[m\u001b[m/                    \u001b[34mnet\u001b[m\u001b[m/\r\n",
      "\u001b[34mUsers\u001b[m\u001b[m/                     \u001b[34mopt\u001b[m\u001b[m/\r\n",
      "\u001b[34mVolumes\u001b[m\u001b[m/                   \u001b[34mprivate\u001b[m\u001b[m/\r\n",
      "\u001b[34manaconda3\u001b[m\u001b[m/                 \u001b[34msbin\u001b[m\u001b[m/\r\n",
      "\u001b[34mbin\u001b[m\u001b[m/                       \u001b[35mtmp\u001b[m\u001b[m@\r\n",
      "\u001b[34mcores\u001b[m\u001b[m/                     \u001b[34musr\u001b[m\u001b[m/\r\n",
      "\u001b[34mdev\u001b[m\u001b[m/                       \u001b[35mvar\u001b[m\u001b[m@\r\n"
     ]
    }
   ],
   "source": [
    "ls /"
   ]
  },
  {
   "cell_type": "code",
   "execution_count": 6,
   "metadata": {
    "ExecuteTime": {
     "end_time": "2019-06-23T21:14:52.956820Z",
     "start_time": "2019-06-23T21:14:52.791013Z"
    }
   },
   "outputs": [
    {
     "name": "stdout",
     "output_type": "stream",
     "text": [
      "\u001b[34mApplications\u001b[m\u001b[m/      \u001b[34mLibrary\u001b[m\u001b[m/           \u001b[34manaconda3\u001b[m\u001b[m/         octave-workspace\r\n",
      "\u001b[34mDesktop\u001b[m\u001b[m/           \u001b[34mMovies\u001b[m\u001b[m/            \u001b[34mbin\u001b[m\u001b[m/               project_bepe.pdf\r\n",
      "\u001b[34mDocuments\u001b[m\u001b[m/         \u001b[34mMusic\u001b[m\u001b[m/             mex.log            \u001b[34mscikit_learn_data\u001b[m\u001b[m/\r\n",
      "\u001b[34mDownloads\u001b[m\u001b[m/         \u001b[34mPictures\u001b[m\u001b[m/          \u001b[34mminiconda3\u001b[m\u001b[m/        \u001b[34mseaborn-data\u001b[m\u001b[m/\r\n",
      "\u001b[34mDropbox\u001b[m\u001b[m/           \u001b[34mPublic\u001b[m\u001b[m/            \u001b[34moctave\u001b[m\u001b[m/            texput.log\r\n"
     ]
    }
   ],
   "source": [
    "ls ~/"
   ]
  },
  {
   "cell_type": "code",
   "execution_count": 7,
   "metadata": {
    "ExecuteTime": {
     "end_time": "2019-06-23T21:14:54.917623Z",
     "start_time": "2019-06-23T21:14:54.789576Z"
    }
   },
   "outputs": [
    {
     "name": "stdout",
     "output_type": "stream",
     "text": [
      "10.1038@s42256-019-0048-x.pdf\r\n",
      "1403.1011.pdf\r\n",
      "Aprenda_o_Buy_and_Hold_Fabio_Faria_CNPI_1711.01.pdf\r\n",
      "Como_analisar_uma_ac_a_o.pdf\r\n",
      "resultado.xlsx\r\n",
      "s41551-018-0304-0.pdf\r\n",
      "\u001b[34msocial_networks_papers_to_read\u001b[m\u001b[m/\r\n",
      "spreading_python_slides.pdf\r\n",
      "\u001b[34mworm_papers_to_read\u001b[m\u001b[m/\r\n"
     ]
    }
   ],
   "source": [
    "ls ~/Desktop"
   ]
  },
  {
   "cell_type": "markdown",
   "metadata": {},
   "source": [
    "**Relative paths** start from where you **currently** are. \n",
    "\n",
    "The symbol for your **current** directory is `.`\n",
    "\n",
    "The symbol for the **parent** directory (the folder above you) is `..`"
   ]
  },
  {
   "cell_type": "code",
   "execution_count": 8,
   "metadata": {
    "ExecuteTime": {
     "end_time": "2019-06-23T21:14:58.402267Z",
     "start_time": "2019-06-23T21:14:58.280109Z"
    }
   },
   "outputs": [
    {
     "name": "stdout",
     "output_type": "stream",
     "text": [
      "\u001b[31mDay1_am1_Jupyter-Notebook-Introduction.ipynb\u001b[m\u001b[m*\r\n",
      "\u001b[31mDay1_am2_Data-Types.ipynb\u001b[m\u001b[m*\r\n",
      "\u001b[31mDay1_pm1_Flow-Control.ipynb\u001b[m\u001b[m*\r\n",
      "\u001b[31mDay1_pm2_Handling_Errors.ipynb\u001b[m\u001b[m*\r\n",
      "\u001b[31mDay2_am1_Lists-Tuples-and-Sets.ipynb\u001b[m\u001b[m*\r\n",
      "\u001b[31mDay2_am2_File-IO.ipynb\u001b[m\u001b[m*\r\n",
      "\u001b[31mDay2_pm1_Review.ipynb\u001b[m\u001b[m*\r\n",
      "\u001b[31mDay3_am1_Standard-Library.ipynb\u001b[m\u001b[m*\r\n",
      "\u001b[31mDay3_am2_Data-Visualization.ipynb\u001b[m\u001b[m*\r\n",
      "\u001b[31mDay3_pm1_Functions.ipynb\u001b[m\u001b[m*\r\n",
      "\u001b[31mDay3_pm2_Review.ipynb\u001b[m\u001b[m*\r\n",
      "\u001b[31mDay4_am1_Dictionaries.ipynb\u001b[m\u001b[m*\r\n",
      "\u001b[31mDay4_am2_Review.ipynb\u001b[m\u001b[m*\r\n",
      "\u001b[31mDay4_pm1_Mini-Project.ipynb\u001b[m\u001b[m*\r\n",
      "\u001b[31mDay5_am1_Text-analysis.ipynb\u001b[m\u001b[m*\r\n",
      "\u001b[31mDay5_pm1_Regular-expressions.ipynb\u001b[m\u001b[m*\r\n",
      "\u001b[31mDay5_pm2_Sentiment-Analysis.ipynb\u001b[m\u001b[m*\r\n",
      "\u001b[31mDay6_am1_Using_APIs_1.ipynb\u001b[m\u001b[m*\r\n",
      "\u001b[31mDay6_am2_Using_APIs_2.ipynb\u001b[m\u001b[m*\r\n",
      "\u001b[31mDay6_pm1_Web_scraping.ipynb\u001b[m\u001b[m*\r\n",
      "\u001b[31mDay7_am1_Statistical_analysis_w_Python.ipynb\u001b[m\u001b[m*\r\n",
      "\u001b[31mDay7_am2_Bootstrapping_MC_chains.ipynb\u001b[m\u001b[m*\r\n",
      "\u001b[31mDay7_am2_More_stats_w_Python.ipynb\u001b[m\u001b[m*\r\n",
      "\u001b[31mDay7_am2_The-Bootstrap.ipynb\u001b[m\u001b[m*\r\n",
      "\u001b[31mDay7_pm1_Structured-Data-Analysis-Pt1.ipynb\u001b[m\u001b[m*\r\n",
      "\u001b[31mDay7_pm2_Structured-Data-Analysis-Pt2.ipynb\u001b[m\u001b[m*\r\n",
      "\u001b[31mDay8_am1_Image-Manipulation.ipynb\u001b[m\u001b[m*\r\n",
      "\u001b[31mDay8_am2_Image-Analysis.ipynb\u001b[m\u001b[m*\r\n",
      "\u001b[31mDay8_pm1_Cell_detection_project.ipynb\u001b[m\u001b[m*\r\n",
      "\u001b[34mintroduction-to-python\u001b[m\u001b[m/\r\n"
     ]
    }
   ],
   "source": [
    "ls ."
   ]
  },
  {
   "cell_type": "code",
   "execution_count": 9,
   "metadata": {
    "ExecuteTime": {
     "end_time": "2019-06-23T21:14:58.982233Z",
     "start_time": "2019-06-23T21:14:58.854398Z"
    }
   },
   "outputs": [
    {
     "name": "stdout",
     "output_type": "stream",
     "text": [
      "\u001b[31mLICENSE.md\u001b[m\u001b[m*     \u001b[31mPrologue.ipynb\u001b[m\u001b[m* \u001b[34mdata\u001b[m\u001b[m/           \u001b[34mpython\u001b[m\u001b[m/\r\n",
      "\u001b[34mLessons\u001b[m\u001b[m/        \u001b[31mREADME.md\u001b[m\u001b[m*      \u001b[34mdocumentation\u001b[m\u001b[m/\r\n"
     ]
    }
   ],
   "source": [
    "ls ../"
   ]
  },
  {
   "cell_type": "markdown",
   "metadata": {},
   "source": [
    "Here are alternate ways of looking at one path:\n",
    "\n",
    "<img src='../Data/www/images/DirTree.png'></img>\n",
    "\n",
    "**Absolute Path:**\n",
    "\n",
    "'/home/jono'\n",
    "\n",
    "\n",
    "\n",
    "**Relative Paths 1:** Getting to *jono* from...            \n",
    "\n",
    "                    /home/jono/                   ./\n",
    "\n",
    "                    /usr/lib/                     ~/jono/\n",
    "\n",
    "                    /home/cory/                   ../jono/\n",
    "\n",
    "                    /home/jono/work/              ../\n",
    "                    \n",
    "                    \n",
    "**Relative Paths 2:** Sometimes there are multiple ways of getting to *jono* ...\n",
    "\n",
    "                    /usr/lib/                     ~/jono\n",
    "                    \n",
    "                    /usr/lib/                     ../../home/jono"
   ]
  },
  {
   "cell_type": "markdown",
   "metadata": {},
   "source": [
    "Here is the structure of the `NICO101/` folder that we downloaded.\n",
    "\n",
    "<img src='../Data/www/images/bootcamp_structure.svg'></img>\n",
    "\n",
    "For this session we're going to use files that are in the `Data/Day2-Collections-and-Files` folder and right now we are using the `Day2_am2_File-IO.ipynb` notebook. \n",
    "\n",
    "Show me what is in the `Data/` folder"
   ]
  },
  {
   "cell_type": "code",
   "execution_count": 10,
   "metadata": {
    "ExecuteTime": {
     "end_time": "2019-06-23T21:15:01.506247Z",
     "start_time": "2019-06-23T21:15:01.317816Z"
    }
   },
   "outputs": [
    {
     "name": "stdout",
     "output_type": "stream",
     "text": [
      "\u001b[31m../Data/Day2-Collections-and-Files/Roster/Agatha_Bailey_798.txt\u001b[m\u001b[m*\r\n",
      "\u001b[31m../Data/Day2-Collections-and-Files/Roster/Agatha_Brooks_78.txt\u001b[m\u001b[m*\r\n",
      "\u001b[31m../Data/Day2-Collections-and-Files/Roster/Agatha_Campbell_372.txt\u001b[m\u001b[m*\r\n",
      "\u001b[31m../Data/Day2-Collections-and-Files/Roster/Agatha_Carter_359.txt\u001b[m\u001b[m*\r\n",
      "\u001b[31m../Data/Day2-Collections-and-Files/Roster/Agatha_Green_150.txt\u001b[m\u001b[m*\r\n",
      "\u001b[31m../Data/Day2-Collections-and-Files/Roster/Agatha_Green_99.txt\u001b[m\u001b[m*\r\n",
      "\u001b[31m../Data/Day2-Collections-and-Files/Roster/Agatha_Griffin_495.txt\u001b[m\u001b[m*\r\n",
      "\u001b[31m../Data/Day2-Collections-and-Files/Roster/Agatha_Hall_651.txt\u001b[m\u001b[m*\r\n",
      "\u001b[31m../Data/Day2-Collections-and-Files/Roster/Agatha_Jackson_454.txt\u001b[m\u001b[m*\r\n",
      "\u001b[31m../Data/Day2-Collections-and-Files/Roster/Agatha_Jackson_560.txt\u001b[m\u001b[m*\r\n",
      "\u001b[31m../Data/Day2-Collections-and-Files/Roster/Agatha_Jones_573.txt\u001b[m\u001b[m*\r\n",
      "\u001b[31m../Data/Day2-Collections-and-Files/Roster/Agatha_Jones_652.txt\u001b[m\u001b[m*\r\n",
      "\u001b[31m../Data/Day2-Collections-and-Files/Roster/Agatha_Lee_11.txt\u001b[m\u001b[m*\r\n",
      "\u001b[31m../Data/Day2-Collections-and-Files/Roster/Agatha_Lewis_683.txt\u001b[m\u001b[m*\r\n",
      "\u001b[31m../Data/Day2-Collections-and-Files/Roster/Agatha_Long_483.txt\u001b[m\u001b[m*\r\n",
      "\u001b[31m../Data/Day2-Collections-and-Files/Roster/Agatha_Lopez_399.txt\u001b[m\u001b[m*\r\n",
      "\u001b[31m../Data/Day2-Collections-and-Files/Roster/Agatha_Moore_642.txt\u001b[m\u001b[m*\r\n",
      "\u001b[31m../Data/Day2-Collections-and-Files/Roster/Agatha_Murphy_130.txt\u001b[m\u001b[m*\r\n",
      "\u001b[31m../Data/Day2-Collections-and-Files/Roster/Agatha_Nelson_686.txt\u001b[m\u001b[m*\r\n",
      "\u001b[31m../Data/Day2-Collections-and-Files/Roster/Agatha_Nelson_793.txt\u001b[m\u001b[m*\r\n",
      "\u001b[31m../Data/Day2-Collections-and-Files/Roster/Agatha_Perez_387.txt\u001b[m\u001b[m*\r\n",
      "\u001b[31m../Data/Day2-Collections-and-Files/Roster/Agatha_Perez_717.txt\u001b[m\u001b[m*\r\n",
      "\u001b[31m../Data/Day2-Collections-and-Files/Roster/Agatha_Perry_345.txt\u001b[m\u001b[m*\r\n",
      "\u001b[31m../Data/Day2-Collections-and-Files/Roster/Agatha_Peterson_65.txt\u001b[m\u001b[m*\r\n",
      "\u001b[31m../Data/Day2-Collections-and-Files/Roster/Agatha_Phillips_38.txt\u001b[m\u001b[m*\r\n",
      "\u001b[31m../Data/Day2-Collections-and-Files/Roster/Agatha_Russell_300.txt\u001b[m\u001b[m*\r\n",
      "\u001b[31m../Data/Day2-Collections-and-Files/Roster/Agatha_Sanders_385.txt\u001b[m\u001b[m*\r\n",
      "\u001b[31m../Data/Day2-Collections-and-Files/Roster/Agatha_Smith_274.txt\u001b[m\u001b[m*\r\n",
      "\u001b[31m../Data/Day2-Collections-and-Files/Roster/Agatha_Smith_465.txt\u001b[m\u001b[m*\r\n",
      "\u001b[31m../Data/Day2-Collections-and-Files/Roster/Agatha_Stewart_759.txt\u001b[m\u001b[m*\r\n",
      "\u001b[31m../Data/Day2-Collections-and-Files/Roster/Agatha_Thomas_284.txt\u001b[m\u001b[m*\r\n",
      "\u001b[31m../Data/Day2-Collections-and-Files/Roster/Agatha_Thomas_657.txt\u001b[m\u001b[m*\r\n",
      "\u001b[31m../Data/Day2-Collections-and-Files/Roster/Agatha_Wood_552.txt\u001b[m\u001b[m*\r\n",
      "\u001b[31m../Data/Day2-Collections-and-Files/Roster/Agatha_Wright_505.txt\u001b[m\u001b[m*\r\n",
      "\u001b[31m../Data/Day2-Collections-and-Files/Roster/Agatha_Young_124.txt\u001b[m\u001b[m*\r\n",
      "\u001b[31m../Data/Day2-Collections-and-Files/Roster/Agatha_Young_172.txt\u001b[m\u001b[m*\r\n",
      "\u001b[31m../Data/Day2-Collections-and-Files/Roster/Agatha_williams_341.txt\u001b[m\u001b[m*\r\n",
      "\u001b[31m../Data/Day2-Collections-and-Files/Roster/Annabelle_Alexander_423.txt\u001b[m\u001b[m*\r\n",
      "\u001b[31m../Data/Day2-Collections-and-Files/Roster/Annabelle_Bailey_28.txt\u001b[m\u001b[m*\r\n",
      "\u001b[31m../Data/Day2-Collections-and-Files/Roster/Annabelle_Bailey_401.txt\u001b[m\u001b[m*\r\n",
      "\u001b[31m../Data/Day2-Collections-and-Files/Roster/Annabelle_Brown_133.txt\u001b[m\u001b[m*\r\n",
      "\u001b[31m../Data/Day2-Collections-and-Files/Roster/Annabelle_Collins_794.txt\u001b[m\u001b[m*\r\n",
      "\u001b[31m../Data/Day2-Collections-and-Files/Roster/Annabelle_Flores_381.txt\u001b[m\u001b[m*\r\n",
      "\u001b[31m../Data/Day2-Collections-and-Files/Roster/Annabelle_Foster_621.txt\u001b[m\u001b[m*\r\n",
      "\u001b[31m../Data/Day2-Collections-and-Files/Roster/Annabelle_Green_797.txt\u001b[m\u001b[m*\r\n",
      "\u001b[31m../Data/Day2-Collections-and-Files/Roster/Annabelle_Jackson_452.txt\u001b[m\u001b[m*\r\n",
      "\u001b[31m../Data/Day2-Collections-and-Files/Roster/Annabelle_James_306.txt\u001b[m\u001b[m*\r\n",
      "\u001b[31m../Data/Day2-Collections-and-Files/Roster/Annabelle_Johnson_208.txt\u001b[m\u001b[m*\r\n",
      "\u001b[31m../Data/Day2-Collections-and-Files/Roster/Annabelle_Jones_125.txt\u001b[m\u001b[m*\r\n",
      "\u001b[31m../Data/Day2-Collections-and-Files/Roster/Annabelle_Kelly_442.txt\u001b[m\u001b[m*\r\n",
      "\u001b[31m../Data/Day2-Collections-and-Files/Roster/Annabelle_Mitchell_256.txt\u001b[m\u001b[m*\r\n",
      "\u001b[31m../Data/Day2-Collections-and-Files/Roster/Annabelle_Mitchell_346.txt\u001b[m\u001b[m*\r\n",
      "\u001b[31m../Data/Day2-Collections-and-Files/Roster/Annabelle_Morris_40.txt\u001b[m\u001b[m*\r\n",
      "\u001b[31m../Data/Day2-Collections-and-Files/Roster/Annabelle_Ramirez_727.txt\u001b[m\u001b[m*\r\n",
      "\u001b[31m../Data/Day2-Collections-and-Files/Roster/Annabelle_Rivera_472.txt\u001b[m\u001b[m*\r\n",
      "\u001b[31m../Data/Day2-Collections-and-Files/Roster/Annabelle_Roberts_755.txt\u001b[m\u001b[m*\r\n",
      "\u001b[31m../Data/Day2-Collections-and-Files/Roster/Annabelle_Robinson_248.txt\u001b[m\u001b[m*\r\n",
      "\u001b[31m../Data/Day2-Collections-and-Files/Roster/Annabelle_Ross_275.txt\u001b[m\u001b[m*\r\n",
      "\u001b[31m../Data/Day2-Collections-and-Files/Roster/Annabelle_Simmons_733.txt\u001b[m\u001b[m*\r\n",
      "\u001b[31m../Data/Day2-Collections-and-Files/Roster/Annabelle_Smith_263.txt\u001b[m\u001b[m*\r\n",
      "\u001b[31m../Data/Day2-Collections-and-Files/Roster/Annabelle_Thomas_113.txt\u001b[m\u001b[m*\r\n",
      "\u001b[31m../Data/Day2-Collections-and-Files/Roster/Annabelle_Thomas_741.txt\u001b[m\u001b[m*\r\n",
      "\u001b[31m../Data/Day2-Collections-and-Files/Roster/Annabelle_Torres_159.txt\u001b[m\u001b[m*\r\n",
      "\u001b[31m../Data/Day2-Collections-and-Files/Roster/Annabelle_Torres_654.txt\u001b[m\u001b[m*\r\n",
      "\u001b[31m../Data/Day2-Collections-and-Files/Roster/Annabelle_Washington_8.txt\u001b[m\u001b[m*\r\n",
      "\u001b[31m../Data/Day2-Collections-and-Files/Roster/Annabelle_Watson_342.txt\u001b[m\u001b[m*\r\n",
      "\u001b[31m../Data/Day2-Collections-and-Files/Roster/Annabelle_Wilson_367.txt\u001b[m\u001b[m*\r\n",
      "\u001b[31m../Data/Day2-Collections-and-Files/Roster/Annabelle_Wood_380.txt\u001b[m\u001b[m*\r\n",
      "\u001b[31m../Data/Day2-Collections-and-Files/Roster/Annabelle_Wood_74.txt\u001b[m\u001b[m*\r\n",
      "\u001b[31m../Data/Day2-Collections-and-Files/Roster/Betty_Bailey_18.txt\u001b[m\u001b[m*\r\n",
      "\u001b[31m../Data/Day2-Collections-and-Files/Roster/Betty_Barnes_178.txt\u001b[m\u001b[m*\r\n",
      "\u001b[31m../Data/Day2-Collections-and-Files/Roster/Betty_Bell_614.txt\u001b[m\u001b[m*\r\n",
      "\u001b[31m../Data/Day2-Collections-and-Files/Roster/Betty_Bennett_710.txt\u001b[m\u001b[m*\r\n",
      "\u001b[31m../Data/Day2-Collections-and-Files/Roster/Betty_Brooks_698.txt\u001b[m\u001b[m*\r\n",
      "\u001b[31m../Data/Day2-Collections-and-Files/Roster/Betty_Campbell_522.txt\u001b[m\u001b[m*\r\n",
      "\u001b[31m../Data/Day2-Collections-and-Files/Roster/Betty_Coleman_290.txt\u001b[m\u001b[m*\r\n",
      "\u001b[31m../Data/Day2-Collections-and-Files/Roster/Betty_Cook_146.txt\u001b[m\u001b[m*\r\n",
      "\u001b[31m../Data/Day2-Collections-and-Files/Roster/Betty_Davis_23.txt\u001b[m\u001b[m*\r\n",
      "\u001b[31m../Data/Day2-Collections-and-Files/Roster/Betty_Diaz_537.txt\u001b[m\u001b[m*\r\n",
      "\u001b[31m../Data/Day2-Collections-and-Files/Roster/Betty_Evans_393.txt\u001b[m\u001b[m*\r\n",
      "\u001b[31m../Data/Day2-Collections-and-Files/Roster/Betty_Gonzalez_787.txt\u001b[m\u001b[m*\r\n",
      "\u001b[31m../Data/Day2-Collections-and-Files/Roster/Betty_Hall_513.txt\u001b[m\u001b[m*\r\n",
      "\u001b[31m../Data/Day2-Collections-and-Files/Roster/Betty_Harris_143.txt\u001b[m\u001b[m*\r\n",
      "\u001b[31m../Data/Day2-Collections-and-Files/Roster/Betty_Henderson_795.txt\u001b[m\u001b[m*\r\n",
      "\u001b[31m../Data/Day2-Collections-and-Files/Roster/Betty_Kelly_382.txt\u001b[m\u001b[m*\r\n",
      "\u001b[31m../Data/Day2-Collections-and-Files/Roster/Betty_King_6.txt\u001b[m\u001b[m*\r\n",
      "\u001b[31m../Data/Day2-Collections-and-Files/Roster/Betty_Lee_312.txt\u001b[m\u001b[m*\r\n",
      "\u001b[31m../Data/Day2-Collections-and-Files/Roster/Betty_Lee_512.txt\u001b[m\u001b[m*\r\n",
      "\u001b[31m../Data/Day2-Collections-and-Files/Roster/Betty_Morris_603.txt\u001b[m\u001b[m*\r\n",
      "\u001b[31m../Data/Day2-Collections-and-Files/Roster/Betty_Murphy_210.txt\u001b[m\u001b[m*\r\n",
      "\u001b[31m../Data/Day2-Collections-and-Files/Roster/Betty_Murphy_404.txt\u001b[m\u001b[m*\r\n",
      "\u001b[31m../Data/Day2-Collections-and-Files/Roster/Betty_Parker_241.txt\u001b[m\u001b[m*\r\n",
      "\u001b[31m../Data/Day2-Collections-and-Files/Roster/Betty_Perez_626.txt\u001b[m\u001b[m*\r\n",
      "\u001b[31m../Data/Day2-Collections-and-Files/Roster/Betty_Peterson_587.txt\u001b[m\u001b[m*\r\n",
      "\u001b[31m../Data/Day2-Collections-and-Files/Roster/Betty_Powell_288.txt\u001b[m\u001b[m*\r\n",
      "\u001b[31m../Data/Day2-Collections-and-Files/Roster/Betty_Reed_62.txt\u001b[m\u001b[m*\r\n",
      "\u001b[31m../Data/Day2-Collections-and-Files/Roster/Betty_Robinson_277.txt\u001b[m\u001b[m*\r\n",
      "\u001b[31m../Data/Day2-Collections-and-Files/Roster/Betty_Rodriguez_338.txt\u001b[m\u001b[m*\r\n",
      "\u001b[31m../Data/Day2-Collections-and-Files/Roster/Betty_Rogers_684.txt\u001b[m\u001b[m*\r\n",
      "\u001b[31m../Data/Day2-Collections-and-Files/Roster/Betty_Sanchez_266.txt\u001b[m\u001b[m*\r\n",
      "\u001b[31m../Data/Day2-Collections-and-Files/Roster/Betty_Simmons_182.txt\u001b[m\u001b[m*\r\n",
      "\u001b[31m../Data/Day2-Collections-and-Files/Roster/Betty_Walker_575.txt\u001b[m\u001b[m*\r\n",
      "\u001b[31m../Data/Day2-Collections-and-Files/Roster/Betty_Watson_500.txt\u001b[m\u001b[m*\r\n",
      "\u001b[31m../Data/Day2-Collections-and-Files/Roster/Betty_Watson_673.txt\u001b[m\u001b[m*\r\n",
      "\u001b[31m../Data/Day2-Collections-and-Files/Roster/Betty_Wood_541.txt\u001b[m\u001b[m*\r\n",
      "\u001b[31m../Data/Day2-Collections-and-Files/Roster/Betty_williams_301.txt\u001b[m\u001b[m*\r\n",
      "\u001b[31m../Data/Day2-Collections-and-Files/Roster/Buzz_Adams_457.txt\u001b[m\u001b[m*\r\n",
      "\u001b[31m../Data/Day2-Collections-and-Files/Roster/Buzz_Alexander_754.txt\u001b[m\u001b[m*\r\n",
      "\u001b[31m../Data/Day2-Collections-and-Files/Roster/Buzz_Allen_634.txt\u001b[m\u001b[m*\r\n",
      "\u001b[31m../Data/Day2-Collections-and-Files/Roster/Buzz_Allen_77.txt\u001b[m\u001b[m*\r\n",
      "\u001b[31m../Data/Day2-Collections-and-Files/Roster/Buzz_Baker_565.txt\u001b[m\u001b[m*\r\n",
      "\u001b[31m../Data/Day2-Collections-and-Files/Roster/Buzz_Baker_618.txt\u001b[m\u001b[m*\r\n",
      "\u001b[31m../Data/Day2-Collections-and-Files/Roster/Buzz_Bell_235.txt\u001b[m\u001b[m*\r\n",
      "\u001b[31m../Data/Day2-Collections-and-Files/Roster/Buzz_Campbell_353.txt\u001b[m\u001b[m*\r\n",
      "\u001b[31m../Data/Day2-Collections-and-Files/Roster/Buzz_Carter_497.txt\u001b[m\u001b[m*\r\n",
      "\u001b[31m../Data/Day2-Collections-and-Files/Roster/Buzz_Cox_80.txt\u001b[m\u001b[m*\r\n",
      "\u001b[31m../Data/Day2-Collections-and-Files/Roster/Buzz_Davis_713.txt\u001b[m\u001b[m*\r\n",
      "\u001b[31m../Data/Day2-Collections-and-Files/Roster/Buzz_Gonzalez_747.txt\u001b[m\u001b[m*\r\n",
      "\u001b[31m../Data/Day2-Collections-and-Files/Roster/Buzz_Gray_770.txt\u001b[m\u001b[m*\r\n",
      "\u001b[31m../Data/Day2-Collections-and-Files/Roster/Buzz_Green_76.txt\u001b[m\u001b[m*\r\n",
      "\u001b[31m../Data/Day2-Collections-and-Files/Roster/Buzz_Griffin_694.txt\u001b[m\u001b[m*\r\n",
      "\u001b[31m../Data/Day2-Collections-and-Files/Roster/Buzz_Hayes_75.txt\u001b[m\u001b[m*\r\n",
      "\u001b[31m../Data/Day2-Collections-and-Files/Roster/Buzz_Hayes_758.txt\u001b[m\u001b[m*\r\n",
      "\u001b[31m../Data/Day2-Collections-and-Files/Roster/Buzz_Henderson_562.txt\u001b[m\u001b[m*\r\n",
      "\u001b[31m../Data/Day2-Collections-and-Files/Roster/Buzz_James_416.txt\u001b[m\u001b[m*\r\n",
      "\u001b[31m../Data/Day2-Collections-and-Files/Roster/Buzz_Kelly_295.txt\u001b[m\u001b[m*\r\n",
      "\u001b[31m../Data/Day2-Collections-and-Files/Roster/Buzz_King_311.txt\u001b[m\u001b[m*\r\n",
      "\u001b[31m../Data/Day2-Collections-and-Files/Roster/Buzz_King_534.txt\u001b[m\u001b[m*\r\n",
      "\u001b[31m../Data/Day2-Collections-and-Files/Roster/Buzz_Miller_173.txt\u001b[m\u001b[m*\r\n",
      "\u001b[31m../Data/Day2-Collections-and-Files/Roster/Buzz_Mitchell_407.txt\u001b[m\u001b[m*\r\n",
      "\u001b[31m../Data/Day2-Collections-and-Files/Roster/Buzz_Moore_478.txt\u001b[m\u001b[m*\r\n",
      "\u001b[31m../Data/Day2-Collections-and-Files/Roster/Buzz_Parker_340.txt\u001b[m\u001b[m*\r\n",
      "\u001b[31m../Data/Day2-Collections-and-Files/Roster/Buzz_Perry_503.txt\u001b[m\u001b[m*\r\n",
      "\u001b[31m../Data/Day2-Collections-and-Files/Roster/Buzz_Peterson_768.txt\u001b[m\u001b[m*\r\n",
      "\u001b[31m../Data/Day2-Collections-and-Files/Roster/Buzz_Roberts_289.txt\u001b[m\u001b[m*\r\n",
      "\u001b[31m../Data/Day2-Collections-and-Files/Roster/Buzz_Robinson_148.txt\u001b[m\u001b[m*\r\n",
      "\u001b[31m../Data/Day2-Collections-and-Files/Roster/Buzz_Rodriguez_358.txt\u001b[m\u001b[m*\r\n",
      "\u001b[31m../Data/Day2-Collections-and-Files/Roster/Buzz_Sanders_662.txt\u001b[m\u001b[m*\r\n",
      "\u001b[31m../Data/Day2-Collections-and-Files/Roster/Buzz_Taylor_200.txt\u001b[m\u001b[m*\r\n",
      "\u001b[31m../Data/Day2-Collections-and-Files/Roster/Buzz_Torres_598.txt\u001b[m\u001b[m*\r\n",
      "\u001b[31m../Data/Day2-Collections-and-Files/Roster/Buzz_Washington_485.txt\u001b[m\u001b[m*\r\n",
      "\u001b[31m../Data/Day2-Collections-and-Files/Roster/Buzz_Wilson_318.txt\u001b[m\u001b[m*\r\n",
      "\u001b[31m../Data/Day2-Collections-and-Files/Roster/Buzz_Wilson_641.txt\u001b[m\u001b[m*\r\n",
      "\u001b[31m../Data/Day2-Collections-and-Files/Roster/Buzz_Wright_187.txt\u001b[m\u001b[m*\r\n",
      "\u001b[31m../Data/Day2-Collections-and-Files/Roster/Buzz_Wright_329.txt\u001b[m\u001b[m*\r\n",
      "\u001b[31m../Data/Day2-Collections-and-Files/Roster/Ernest_Adams_556.txt\u001b[m\u001b[m*\r\n",
      "\u001b[31m../Data/Day2-Collections-and-Files/Roster/Ernest_Anderson_697.txt\u001b[m\u001b[m*\r\n",
      "\u001b[31m../Data/Day2-Collections-and-Files/Roster/Ernest_Barnes_90.txt\u001b[m\u001b[m*\r\n",
      "\u001b[31m../Data/Day2-Collections-and-Files/Roster/Ernest_Bell_50.txt\u001b[m\u001b[m*\r\n",
      "\u001b[31m../Data/Day2-Collections-and-Files/Roster/Ernest_Clark_771.txt\u001b[m\u001b[m*\r\n",
      "\u001b[31m../Data/Day2-Collections-and-Files/Roster/Ernest_Evans_425.txt\u001b[m\u001b[m*\r\n",
      "\u001b[31m../Data/Day2-Collections-and-Files/Roster/Ernest_Flores_688.txt\u001b[m\u001b[m*\r\n",
      "\u001b[31m../Data/Day2-Collections-and-Files/Roster/Ernest_Griffin_695.txt\u001b[m\u001b[m*\r\n",
      "\u001b[31m../Data/Day2-Collections-and-Files/Roster/Ernest_Harris_750.txt\u001b[m\u001b[m*\r\n",
      "\u001b[31m../Data/Day2-Collections-and-Files/Roster/Ernest_Henderson_308.txt\u001b[m\u001b[m*\r\n",
      "\u001b[31m../Data/Day2-Collections-and-Files/Roster/Ernest_Henderson_728.txt\u001b[m\u001b[m*\r\n",
      "\u001b[31m../Data/Day2-Collections-and-Files/Roster/Ernest_Hughes_222.txt\u001b[m\u001b[m*\r\n",
      "\u001b[31m../Data/Day2-Collections-and-Files/Roster/Ernest_Johnson_281.txt\u001b[m\u001b[m*\r\n",
      "\u001b[31m../Data/Day2-Collections-and-Files/Roster/Ernest_Johnson_658.txt\u001b[m\u001b[m*\r\n",
      "\u001b[31m../Data/Day2-Collections-and-Files/Roster/Ernest_King_139.txt\u001b[m\u001b[m*\r\n",
      "\u001b[31m../Data/Day2-Collections-and-Files/Roster/Ernest_King_162.txt\u001b[m\u001b[m*\r\n",
      "\u001b[31m../Data/Day2-Collections-and-Files/Roster/Ernest_King_540.txt\u001b[m\u001b[m*\r\n",
      "\u001b[31m../Data/Day2-Collections-and-Files/Roster/Ernest_Mitchell_783.txt\u001b[m\u001b[m*\r\n",
      "\u001b[31m../Data/Day2-Collections-and-Files/Roster/Ernest_Murphy_169.txt\u001b[m\u001b[m*\r\n",
      "\u001b[31m../Data/Day2-Collections-and-Files/Roster/Ernest_Nelson_111.txt\u001b[m\u001b[m*\r\n",
      "\u001b[31m../Data/Day2-Collections-and-Files/Roster/Ernest_Perez_624.txt\u001b[m\u001b[m*\r\n",
      "\u001b[31m../Data/Day2-Collections-and-Files/Roster/Ernest_Powell_239.txt\u001b[m\u001b[m*\r\n",
      "\u001b[31m../Data/Day2-Collections-and-Files/Roster/Ernest_Price_41.txt\u001b[m\u001b[m*\r\n",
      "\u001b[31m../Data/Day2-Collections-and-Files/Roster/Ernest_Russell_623.txt\u001b[m\u001b[m*\r\n",
      "\u001b[31m../Data/Day2-Collections-and-Files/Roster/Ernest_Simmons_243.txt\u001b[m\u001b[m*\r\n",
      "\u001b[31m../Data/Day2-Collections-and-Files/Roster/Ernest_Washington_349.txt\u001b[m\u001b[m*\r\n",
      "\u001b[31m../Data/Day2-Collections-and-Files/Roster/Ernest_Wilson_71.txt\u001b[m\u001b[m*\r\n",
      "\u001b[31m../Data/Day2-Collections-and-Files/Roster/Ernest_Wood_73.txt\u001b[m\u001b[m*\r\n",
      "\u001b[31m../Data/Day2-Collections-and-Files/Roster/Ernest_Wood_735.txt\u001b[m\u001b[m*\r\n",
      "\u001b[31m../Data/Day2-Collections-and-Files/Roster/Ernest_Wright_278.txt\u001b[m\u001b[m*\r\n",
      "\u001b[31m../Data/Day2-Collections-and-Files/Roster/Ernest_Young_578.txt\u001b[m\u001b[m*\r\n",
      "\u001b[31m../Data/Day2-Collections-and-Files/Roster/Eustace_Bailey_555.txt\u001b[m\u001b[m*\r\n",
      "\u001b[31m../Data/Day2-Collections-and-Files/Roster/Eustace_Bennett_7.txt\u001b[m\u001b[m*\r\n",
      "\u001b[31m../Data/Day2-Collections-and-Files/Roster/Eustace_Cook_350.txt\u001b[m\u001b[m*\r\n",
      "\u001b[31m../Data/Day2-Collections-and-Files/Roster/Eustace_Edwards_441.txt\u001b[m\u001b[m*\r\n",
      "\u001b[31m../Data/Day2-Collections-and-Files/Roster/Eustace_Edwards_445.txt\u001b[m\u001b[m*\r\n",
      "\u001b[31m../Data/Day2-Collections-and-Files/Roster/Eustace_Edwards_515.txt\u001b[m\u001b[m*\r\n",
      "\u001b[31m../Data/Day2-Collections-and-Files/Roster/Eustace_Edwards_656.txt\u001b[m\u001b[m*\r\n",
      "\u001b[31m../Data/Day2-Collections-and-Files/Roster/Eustace_Evans_164.txt\u001b[m\u001b[m*\r\n",
      "\u001b[31m../Data/Day2-Collections-and-Files/Roster/Eustace_Foster_58.txt\u001b[m\u001b[m*\r\n",
      "\u001b[31m../Data/Day2-Collections-and-Files/Roster/Eustace_Garcia_550.txt\u001b[m\u001b[m*\r\n",
      "\u001b[31m../Data/Day2-Collections-and-Files/Roster/Eustace_Green_291.txt\u001b[m\u001b[m*\r\n",
      "\u001b[31m../Data/Day2-Collections-and-Files/Roster/Eustace_Griffin_326.txt\u001b[m\u001b[m*\r\n",
      "\u001b[31m../Data/Day2-Collections-and-Files/Roster/Eustace_Hall_481.txt\u001b[m\u001b[m*\r\n",
      "\u001b[31m../Data/Day2-Collections-and-Files/Roster/Eustace_Hernandez_242.txt\u001b[m\u001b[m*\r\n",
      "\u001b[31m../Data/Day2-Collections-and-Files/Roster/Eustace_Hernandez_436.txt\u001b[m\u001b[m*\r\n",
      "\u001b[31m../Data/Day2-Collections-and-Files/Roster/Eustace_Hughes_458.txt\u001b[m\u001b[m*\r\n",
      "\u001b[31m../Data/Day2-Collections-and-Files/Roster/Eustace_Jenkins_114.txt\u001b[m\u001b[m*\r\n",
      "\u001b[31m../Data/Day2-Collections-and-Files/Roster/Eustace_Jenkins_175.txt\u001b[m\u001b[m*\r\n",
      "\u001b[31m../Data/Day2-Collections-and-Files/Roster/Eustace_Jenkins_297.txt\u001b[m\u001b[m*\r\n",
      "\u001b[31m../Data/Day2-Collections-and-Files/Roster/Eustace_Johnson_227.txt\u001b[m\u001b[m*\r\n",
      "\u001b[31m../Data/Day2-Collections-and-Files/Roster/Eustace_Jones_487.txt\u001b[m\u001b[m*\r\n",
      "\u001b[31m../Data/Day2-Collections-and-Files/Roster/Eustace_King_474.txt\u001b[m\u001b[m*\r\n",
      "\u001b[31m../Data/Day2-Collections-and-Files/Roster/Eustace_Lee_157.txt\u001b[m\u001b[m*\r\n",
      "\u001b[31m../Data/Day2-Collections-and-Files/Roster/Eustace_Lee_646.txt\u001b[m\u001b[m*\r\n",
      "\u001b[31m../Data/Day2-Collections-and-Files/Roster/Eustace_Long_15.txt\u001b[m\u001b[m*\r\n",
      "\u001b[31m../Data/Day2-Collections-and-Files/Roster/Eustace_Long_4.txt\u001b[m\u001b[m*\r\n",
      "\u001b[31m../Data/Day2-Collections-and-Files/Roster/Eustace_Martin_184.txt\u001b[m\u001b[m*\r\n",
      "\u001b[31m../Data/Day2-Collections-and-Files/Roster/Eustace_Morris_484.txt\u001b[m\u001b[m*\r\n",
      "\u001b[31m../Data/Day2-Collections-and-Files/Roster/Eustace_Morris_631.txt\u001b[m\u001b[m*\r\n",
      "\u001b[31m../Data/Day2-Collections-and-Files/Roster/Eustace_Parker_627.txt\u001b[m\u001b[m*\r\n",
      "\u001b[31m../Data/Day2-Collections-and-Files/Roster/Eustace_Perry_0.txt\u001b[m\u001b[m*\r\n",
      "\u001b[31m../Data/Day2-Collections-and-Files/Roster/Eustace_Peterson_477.txt\u001b[m\u001b[m*\r\n",
      "\u001b[31m../Data/Day2-Collections-and-Files/Roster/Eustace_Peterson_594.txt\u001b[m\u001b[m*\r\n",
      "\u001b[31m../Data/Day2-Collections-and-Files/Roster/Eustace_Powell_413.txt\u001b[m\u001b[m*\r\n",
      "\u001b[31m../Data/Day2-Collections-and-Files/Roster/Eustace_Reed_330.txt\u001b[m\u001b[m*\r\n",
      "\u001b[31m../Data/Day2-Collections-and-Files/Roster/Eustace_Rodriguez_19.txt\u001b[m\u001b[m*\r\n",
      "\u001b[31m../Data/Day2-Collections-and-Files/Roster/Eustace_Rogers_743.txt\u001b[m\u001b[m*\r\n",
      "\u001b[31m../Data/Day2-Collections-and-Files/Roster/Eustace_Ross_533.txt\u001b[m\u001b[m*\r\n",
      "\u001b[31m../Data/Day2-Collections-and-Files/Roster/Eustace_Russell_402.txt\u001b[m\u001b[m*\r\n",
      "\u001b[31m../Data/Day2-Collections-and-Files/Roster/Eustace_Sanders_26.txt\u001b[m\u001b[m*\r\n",
      "\u001b[31m../Data/Day2-Collections-and-Files/Roster/Eustace_Scoot_228.txt\u001b[m\u001b[m*\r\n",
      "\u001b[31m../Data/Day2-Collections-and-Files/Roster/Eustace_Scoot_488.txt\u001b[m\u001b[m*\r\n",
      "\u001b[31m../Data/Day2-Collections-and-Files/Roster/Eustace_Simmons_529.txt\u001b[m\u001b[m*\r\n",
      "\u001b[31m../Data/Day2-Collections-and-Files/Roster/Eustace_Smith_285.txt\u001b[m\u001b[m*\r\n",
      "\u001b[31m../Data/Day2-Collections-and-Files/Roster/Eustace_Taylor_160.txt\u001b[m\u001b[m*\r\n",
      "\u001b[31m../Data/Day2-Collections-and-Files/Roster/Eustace_Taylor_384.txt\u001b[m\u001b[m*\r\n",
      "\u001b[31m../Data/Day2-Collections-and-Files/Roster/Eustace_Thompson_132.txt\u001b[m\u001b[m*\r\n",
      "\u001b[31m../Data/Day2-Collections-and-Files/Roster/Eustace_Thompson_518.txt\u001b[m\u001b[m*\r\n",
      "\u001b[31m../Data/Day2-Collections-and-Files/Roster/Eustace_Turner_163.txt\u001b[m\u001b[m*\r\n",
      "\u001b[31m../Data/Day2-Collections-and-Files/Roster/Eustace_Ward_105.txt\u001b[m\u001b[m*\r\n",
      "\u001b[31m../Data/Day2-Collections-and-Files/Roster/Eustace_Wilson_144.txt\u001b[m\u001b[m*\r\n",
      "\u001b[31m../Data/Day2-Collections-and-Files/Roster/Eustace_Wright_731.txt\u001b[m\u001b[m*\r\n",
      "\u001b[31m../Data/Day2-Collections-and-Files/Roster/Eustace_Young_676.txt\u001b[m\u001b[m*\r\n",
      "\u001b[31m../Data/Day2-Collections-and-Files/Roster/Ezekiel_Adams_298.txt\u001b[m\u001b[m*\r\n",
      "\u001b[31m../Data/Day2-Collections-and-Files/Roster/Ezekiel_Allen_16.txt\u001b[m\u001b[m*\r\n",
      "\u001b[31m../Data/Day2-Collections-and-Files/Roster/Ezekiel_Bailey_486.txt\u001b[m\u001b[m*\r\n",
      "\u001b[31m../Data/Day2-Collections-and-Files/Roster/Ezekiel_Barnes_620.txt\u001b[m\u001b[m*\r\n",
      "\u001b[31m../Data/Day2-Collections-and-Files/Roster/Ezekiel_Bryant_644.txt\u001b[m\u001b[m*\r\n",
      "\u001b[31m../Data/Day2-Collections-and-Files/Roster/Ezekiel_Cook_665.txt\u001b[m\u001b[m*\r\n",
      "\u001b[31m../Data/Day2-Collections-and-Files/Roster/Ezekiel_Cox_586.txt\u001b[m\u001b[m*\r\n",
      "\u001b[31m../Data/Day2-Collections-and-Files/Roster/Ezekiel_Cox_86.txt\u001b[m\u001b[m*\r\n",
      "\u001b[31m../Data/Day2-Collections-and-Files/Roster/Ezekiel_Edwards_177.txt\u001b[m\u001b[m*\r\n",
      "\u001b[31m../Data/Day2-Collections-and-Files/Roster/Ezekiel_Garcia_681.txt\u001b[m\u001b[m*\r\n",
      "\u001b[31m../Data/Day2-Collections-and-Files/Roster/Ezekiel_Garcia_702.txt\u001b[m\u001b[m*\r\n",
      "\u001b[31m../Data/Day2-Collections-and-Files/Roster/Ezekiel_Gonzalez_176.txt\u001b[m\u001b[m*\r\n",
      "\u001b[31m../Data/Day2-Collections-and-Files/Roster/Ezekiel_Gonzalez_46.txt\u001b[m\u001b[m*\r\n",
      "\u001b[31m../Data/Day2-Collections-and-Files/Roster/Ezekiel_Gonzalez_498.txt\u001b[m\u001b[m*\r\n",
      "\u001b[31m../Data/Day2-Collections-and-Files/Roster/Ezekiel_Gray_53.txt\u001b[m\u001b[m*\r\n",
      "\u001b[31m../Data/Day2-Collections-and-Files/Roster/Ezekiel_Hall_253.txt\u001b[m\u001b[m*\r\n",
      "\u001b[31m../Data/Day2-Collections-and-Files/Roster/Ezekiel_Hall_268.txt\u001b[m\u001b[m*\r\n",
      "\u001b[31m../Data/Day2-Collections-and-Files/Roster/Ezekiel_Hayes_668.txt\u001b[m\u001b[m*\r\n",
      "\u001b[31m../Data/Day2-Collections-and-Files/Roster/Ezekiel_Henderson_514.txt\u001b[m\u001b[m*\r\n",
      "\u001b[31m../Data/Day2-Collections-and-Files/Roster/Ezekiel_Hernandez_152.txt\u001b[m\u001b[m*\r\n",
      "\u001b[31m../Data/Day2-Collections-and-Files/Roster/Ezekiel_James_796.txt\u001b[m\u001b[m*\r\n",
      "\u001b[31m../Data/Day2-Collections-and-Files/Roster/Ezekiel_Lee_225.txt\u001b[m\u001b[m*\r\n",
      "\u001b[31m../Data/Day2-Collections-and-Files/Roster/Ezekiel_Martin_524.txt\u001b[m\u001b[m*\r\n",
      "\u001b[31m../Data/Day2-Collections-and-Files/Roster/Ezekiel_Martin_700.txt\u001b[m\u001b[m*\r\n",
      "\u001b[31m../Data/Day2-Collections-and-Files/Roster/Ezekiel_Miller_502.txt\u001b[m\u001b[m*\r\n",
      "\u001b[31m../Data/Day2-Collections-and-Files/Roster/Ezekiel_Moore_429.txt\u001b[m\u001b[m*\r\n",
      "\u001b[31m../Data/Day2-Collections-and-Files/Roster/Ezekiel_Perez_59.txt\u001b[m\u001b[m*\r\n",
      "\u001b[31m../Data/Day2-Collections-and-Files/Roster/Ezekiel_Price_366.txt\u001b[m\u001b[m*\r\n",
      "\u001b[31m../Data/Day2-Collections-and-Files/Roster/Ezekiel_Price_671.txt\u001b[m\u001b[m*\r\n",
      "\u001b[31m../Data/Day2-Collections-and-Files/Roster/Ezekiel_Ramirez_107.txt\u001b[m\u001b[m*\r\n",
      "\u001b[31m../Data/Day2-Collections-and-Files/Roster/Ezekiel_Roberts_250.txt\u001b[m\u001b[m*\r\n",
      "\u001b[31m../Data/Day2-Collections-and-Files/Roster/Ezekiel_Robinson_431.txt\u001b[m\u001b[m*\r\n",
      "\u001b[31m../Data/Day2-Collections-and-Files/Roster/Ezekiel_Rodriguez_675.txt\u001b[m\u001b[m*\r\n",
      "\u001b[31m../Data/Day2-Collections-and-Files/Roster/Ezekiel_Rogers_420.txt\u001b[m\u001b[m*\r\n",
      "\u001b[31m../Data/Day2-Collections-and-Files/Roster/Ezekiel_Russell_476.txt\u001b[m\u001b[m*\r\n",
      "\u001b[31m../Data/Day2-Collections-and-Files/Roster/Ezekiel_Sanchez_337.txt\u001b[m\u001b[m*\r\n",
      "\u001b[31m../Data/Day2-Collections-and-Files/Roster/Ezekiel_Scoot_30.txt\u001b[m\u001b[m*\r\n",
      "\u001b[31m../Data/Day2-Collections-and-Files/Roster/Ezekiel_Thompson_334.txt\u001b[m\u001b[m*\r\n",
      "\u001b[31m../Data/Day2-Collections-and-Files/Roster/Ezekiel_Washington_456.txt\u001b[m\u001b[m*\r\n",
      "\u001b[31m../Data/Day2-Collections-and-Files/Roster/Ezekiel_Watson_625.txt\u001b[m\u001b[m*\r\n",
      "\u001b[31m../Data/Day2-Collections-and-Files/Roster/Ezekiel_Wright_591.txt\u001b[m\u001b[m*\r\n",
      "\u001b[31m../Data/Day2-Collections-and-Files/Roster/Ezekiel_williams_145.txt\u001b[m\u001b[m*\r\n",
      "\u001b[31m../Data/Day2-Collections-and-Files/Roster/Howard_Barnes_568.txt\u001b[m\u001b[m*\r\n",
      "\u001b[31m../Data/Day2-Collections-and-Files/Roster/Howard_Butler_115.txt\u001b[m\u001b[m*\r\n",
      "\u001b[31m../Data/Day2-Collections-and-Files/Roster/Howard_Carter_547.txt\u001b[m\u001b[m*\r\n",
      "\u001b[31m../Data/Day2-Collections-and-Files/Roster/Howard_Carter_619.txt\u001b[m\u001b[m*\r\n",
      "\u001b[31m../Data/Day2-Collections-and-Files/Roster/Howard_Coleman_669.txt\u001b[m\u001b[m*\r\n",
      "\u001b[31m../Data/Day2-Collections-and-Files/Roster/Howard_Collins_332.txt\u001b[m\u001b[m*\r\n",
      "\u001b[31m../Data/Day2-Collections-and-Files/Roster/Howard_Cooper_55.txt\u001b[m\u001b[m*\r\n",
      "\u001b[31m../Data/Day2-Collections-and-Files/Roster/Howard_Diaz_234.txt\u001b[m\u001b[m*\r\n",
      "\u001b[31m../Data/Day2-Collections-and-Files/Roster/Howard_Edwards_461.txt\u001b[m\u001b[m*\r\n",
      "\u001b[31m../Data/Day2-Collections-and-Files/Roster/Howard_Foster_375.txt\u001b[m\u001b[m*\r\n",
      "\u001b[31m../Data/Day2-Collections-and-Files/Roster/Howard_Foster_376.txt\u001b[m\u001b[m*\r\n",
      "\u001b[31m../Data/Day2-Collections-and-Files/Roster/Howard_Jackson_617.txt\u001b[m\u001b[m*\r\n",
      "\u001b[31m../Data/Day2-Collections-and-Files/Roster/Howard_Jackson_622.txt\u001b[m\u001b[m*\r\n",
      "\u001b[31m../Data/Day2-Collections-and-Files/Roster/Howard_Kelly_516.txt\u001b[m\u001b[m*\r\n",
      "\u001b[31m../Data/Day2-Collections-and-Files/Roster/Howard_Kelly_639.txt\u001b[m\u001b[m*\r\n",
      "\u001b[31m../Data/Day2-Collections-and-Files/Roster/Howard_Lee_398.txt\u001b[m\u001b[m*\r\n",
      "\u001b[31m../Data/Day2-Collections-and-Files/Roster/Howard_Lewis_782.txt\u001b[m\u001b[m*\r\n",
      "\u001b[31m../Data/Day2-Collections-and-Files/Roster/Howard_Martin_691.txt\u001b[m\u001b[m*\r\n",
      "\u001b[31m../Data/Day2-Collections-and-Files/Roster/Howard_Morris_405.txt\u001b[m\u001b[m*\r\n",
      "\u001b[31m../Data/Day2-Collections-and-Files/Roster/Howard_Morris_566.txt\u001b[m\u001b[m*\r\n",
      "\u001b[31m../Data/Day2-Collections-and-Files/Roster/Howard_Murphy_605.txt\u001b[m\u001b[m*\r\n",
      "\u001b[31m../Data/Day2-Collections-and-Files/Roster/Howard_Nelson_304.txt\u001b[m\u001b[m*\r\n",
      "\u001b[31m../Data/Day2-Collections-and-Files/Roster/Howard_Nelson_601.txt\u001b[m\u001b[m*\r\n",
      "\u001b[31m../Data/Day2-Collections-and-Files/Roster/Howard_Nelson_738.txt\u001b[m\u001b[m*\r\n",
      "\u001b[31m../Data/Day2-Collections-and-Files/Roster/Howard_Patterson_449.txt\u001b[m\u001b[m*\r\n",
      "\u001b[31m../Data/Day2-Collections-and-Files/Roster/Howard_Powell_509.txt\u001b[m\u001b[m*\r\n",
      "\u001b[31m../Data/Day2-Collections-and-Files/Roster/Howard_Ramirez_118.txt\u001b[m\u001b[m*\r\n",
      "\u001b[31m../Data/Day2-Collections-and-Files/Roster/Howard_Ramirez_369.txt\u001b[m\u001b[m*\r\n",
      "\u001b[31m../Data/Day2-Collections-and-Files/Roster/Howard_Rivera_539.txt\u001b[m\u001b[m*\r\n",
      "\u001b[31m../Data/Day2-Collections-and-Files/Roster/Howard_Ross_577.txt\u001b[m\u001b[m*\r\n",
      "\u001b[31m../Data/Day2-Collections-and-Files/Roster/Howard_Ross_608.txt\u001b[m\u001b[m*\r\n",
      "\u001b[31m../Data/Day2-Collections-and-Files/Roster/Howard_Sanchez_168.txt\u001b[m\u001b[m*\r\n",
      "\u001b[31m../Data/Day2-Collections-and-Files/Roster/Howard_Sanders_292.txt\u001b[m\u001b[m*\r\n",
      "\u001b[31m../Data/Day2-Collections-and-Files/Roster/Howard_Sanders_5.txt\u001b[m\u001b[m*\r\n",
      "\u001b[31m../Data/Day2-Collections-and-Files/Roster/Howard_Scoot_121.txt\u001b[m\u001b[m*\r\n",
      "\u001b[31m../Data/Day2-Collections-and-Files/Roster/Howard_Simmons_576.txt\u001b[m\u001b[m*\r\n",
      "\u001b[31m../Data/Day2-Collections-and-Files/Roster/Howard_Stewart_1.txt\u001b[m\u001b[m*\r\n",
      "\u001b[31m../Data/Day2-Collections-and-Files/Roster/Howard_Ward_354.txt\u001b[m\u001b[m*\r\n",
      "\u001b[31m../Data/Day2-Collections-and-Files/Roster/Howard_Watson_137.txt\u001b[m\u001b[m*\r\n",
      "\u001b[31m../Data/Day2-Collections-and-Files/Roster/Lorelei_Anderson_479.txt\u001b[m\u001b[m*\r\n",
      "\u001b[31m../Data/Day2-Collections-and-Files/Roster/Lorelei_Barnes_333.txt\u001b[m\u001b[m*\r\n",
      "\u001b[31m../Data/Day2-Collections-and-Files/Roster/Lorelei_Bell_450.txt\u001b[m\u001b[m*\r\n",
      "\u001b[31m../Data/Day2-Collections-and-Files/Roster/Lorelei_Brown_245.txt\u001b[m\u001b[m*\r\n",
      "\u001b[31m../Data/Day2-Collections-and-Files/Roster/Lorelei_Carter_427.txt\u001b[m\u001b[m*\r\n",
      "\u001b[31m../Data/Day2-Collections-and-Files/Roster/Lorelei_Carter_599.txt\u001b[m\u001b[m*\r\n",
      "\u001b[31m../Data/Day2-Collections-and-Files/Roster/Lorelei_Clark_432.txt\u001b[m\u001b[m*\r\n",
      "\u001b[31m../Data/Day2-Collections-and-Files/Roster/Lorelei_Cox_670.txt\u001b[m\u001b[m*\r\n",
      "\u001b[31m../Data/Day2-Collections-and-Files/Roster/Lorelei_Cox_82.txt\u001b[m\u001b[m*\r\n",
      "\u001b[31m../Data/Day2-Collections-and-Files/Roster/Lorelei_Evans_677.txt\u001b[m\u001b[m*\r\n",
      "\u001b[31m../Data/Day2-Collections-and-Files/Roster/Lorelei_Garcia_742.txt\u001b[m\u001b[m*\r\n",
      "\u001b[31m../Data/Day2-Collections-and-Files/Roster/Lorelei_Griffin_666.txt\u001b[m\u001b[m*\r\n",
      "\u001b[31m../Data/Day2-Collections-and-Files/Roster/Lorelei_Harris_126.txt\u001b[m\u001b[m*\r\n",
      "\u001b[31m../Data/Day2-Collections-and-Files/Roster/Lorelei_Harris_197.txt\u001b[m\u001b[m*\r\n",
      "\u001b[31m../Data/Day2-Collections-and-Files/Roster/Lorelei_James_418.txt\u001b[m\u001b[m*\r\n",
      "\u001b[31m../Data/Day2-Collections-and-Files/Roster/Lorelei_James_596.txt\u001b[m\u001b[m*\r\n",
      "\u001b[31m../Data/Day2-Collections-and-Files/Roster/Lorelei_Jones_777.txt\u001b[m\u001b[m*\r\n",
      "\u001b[31m../Data/Day2-Collections-and-Files/Roster/Lorelei_Lee_412.txt\u001b[m\u001b[m*\r\n",
      "\u001b[31m../Data/Day2-Collections-and-Files/Roster/Lorelei_Martinez_171.txt\u001b[m\u001b[m*\r\n",
      "\u001b[31m../Data/Day2-Collections-and-Files/Roster/Lorelei_Martinez_271.txt\u001b[m\u001b[m*\r\n",
      "\u001b[31m../Data/Day2-Collections-and-Files/Roster/Lorelei_Miller_49.txt\u001b[m\u001b[m*\r\n",
      "\u001b[31m../Data/Day2-Collections-and-Files/Roster/Lorelei_Morris_597.txt\u001b[m\u001b[m*\r\n",
      "\u001b[31m../Data/Day2-Collections-and-Files/Roster/Lorelei_Parker_680.txt\u001b[m\u001b[m*\r\n",
      "\u001b[31m../Data/Day2-Collections-and-Files/Roster/Lorelei_Phillips_600.txt\u001b[m\u001b[m*\r\n",
      "\u001b[31m../Data/Day2-Collections-and-Files/Roster/Lorelei_Reed_339.txt\u001b[m\u001b[m*\r\n",
      "\u001b[31m../Data/Day2-Collections-and-Files/Roster/Lorelei_Reed_660.txt\u001b[m\u001b[m*\r\n",
      "\u001b[31m../Data/Day2-Collections-and-Files/Roster/Lorelei_Richardson_763.txt\u001b[m\u001b[m*\r\n",
      "\u001b[31m../Data/Day2-Collections-and-Files/Roster/Lorelei_Rodriguez_226.txt\u001b[m\u001b[m*\r\n",
      "\u001b[31m../Data/Day2-Collections-and-Files/Roster/Lorelei_Sanders_218.txt\u001b[m\u001b[m*\r\n",
      "\u001b[31m../Data/Day2-Collections-and-Files/Roster/Lorelei_Scoot_45.txt\u001b[m\u001b[m*\r\n",
      "\u001b[31m../Data/Day2-Collections-and-Files/Roster/Lorelei_Scoot_585.txt\u001b[m\u001b[m*\r\n",
      "\u001b[31m../Data/Day2-Collections-and-Files/Roster/Lorelei_Thomas_730.txt\u001b[m\u001b[m*\r\n",
      "\u001b[31m../Data/Day2-Collections-and-Files/Roster/Lorelei_Thompson_581.txt\u001b[m\u001b[m*\r\n",
      "\u001b[31m../Data/Day2-Collections-and-Files/Roster/Lorelei_Turner_328.txt\u001b[m\u001b[m*\r\n",
      "\u001b[31m../Data/Day2-Collections-and-Files/Roster/Lorelei_Wright_310.txt\u001b[m\u001b[m*\r",
      "\r\n",
      "\u001b[31m../Data/Day2-Collections-and-Files/Roster/Lorelei_Young_444.txt\u001b[m\u001b[m*\r\n",
      "\u001b[31m../Data/Day2-Collections-and-Files/Roster/Lorelei_Young_780.txt\u001b[m\u001b[m*\r\n",
      "\u001b[31m../Data/Day2-Collections-and-Files/Roster/Lorelei_williams_221.txt\u001b[m\u001b[m*\r\n",
      "\u001b[31m../Data/Day2-Collections-and-Files/Roster/Marjorie_Alexander_395.txt\u001b[m\u001b[m*\r\n",
      "\u001b[31m../Data/Day2-Collections-and-Files/Roster/Marjorie_Alexander_723.txt\u001b[m\u001b[m*\r\n",
      "\u001b[31m../Data/Day2-Collections-and-Files/Roster/Marjorie_Bailey_772.txt\u001b[m\u001b[m*\r\n",
      "\u001b[31m../Data/Day2-Collections-and-Files/Roster/Marjorie_Baker_122.txt\u001b[m\u001b[m*\r\n",
      "\u001b[31m../Data/Day2-Collections-and-Files/Roster/Marjorie_Baker_752.txt\u001b[m\u001b[m*\r\n",
      "\u001b[31m../Data/Day2-Collections-and-Files/Roster/Marjorie_Barnes_538.txt\u001b[m\u001b[m*\r\n",
      "\u001b[31m../Data/Day2-Collections-and-Files/Roster/Marjorie_Brown_347.txt\u001b[m\u001b[m*\r\n",
      "\u001b[31m../Data/Day2-Collections-and-Files/Roster/Marjorie_Bryant_29.txt\u001b[m\u001b[m*\r\n",
      "\u001b[31m../Data/Day2-Collections-and-Files/Roster/Marjorie_Carter_149.txt\u001b[m\u001b[m*\r\n",
      "\u001b[31m../Data/Day2-Collections-and-Files/Roster/Marjorie_Coleman_788.txt\u001b[m\u001b[m*\r\n",
      "\u001b[31m../Data/Day2-Collections-and-Files/Roster/Marjorie_Collins_564.txt\u001b[m\u001b[m*\r\n",
      "\u001b[31m../Data/Day2-Collections-and-Files/Roster/Marjorie_Davis_344.txt\u001b[m\u001b[m*\r\n",
      "\u001b[31m../Data/Day2-Collections-and-Files/Roster/Marjorie_Diaz_215.txt\u001b[m\u001b[m*\r\n",
      "\u001b[31m../Data/Day2-Collections-and-Files/Roster/Marjorie_Flores_307.txt\u001b[m\u001b[m*\r\n",
      "\u001b[31m../Data/Day2-Collections-and-Files/Roster/Marjorie_Griffin_493.txt\u001b[m\u001b[m*\r\n",
      "\u001b[31m../Data/Day2-Collections-and-Files/Roster/Marjorie_Hayes_696.txt\u001b[m\u001b[m*\r\n",
      "\u001b[31m../Data/Day2-Collections-and-Files/Roster/Marjorie_Henderson_629.txt\u001b[m\u001b[m*\r\n",
      "\u001b[31m../Data/Day2-Collections-and-Files/Roster/Marjorie_Hernandez_546.txt\u001b[m\u001b[m*\r\n",
      "\u001b[31m../Data/Day2-Collections-and-Files/Roster/Marjorie_Hughes_25.txt\u001b[m\u001b[m*\r\n",
      "\u001b[31m../Data/Day2-Collections-and-Files/Roster/Marjorie_James_170.txt\u001b[m\u001b[m*\r\n",
      "\u001b[31m../Data/Day2-Collections-and-Files/Roster/Marjorie_Jenkins_89.txt\u001b[m\u001b[m*\r\n",
      "\u001b[31m../Data/Day2-Collections-and-Files/Roster/Marjorie_Kelly_294.txt\u001b[m\u001b[m*\r\n",
      "\u001b[31m../Data/Day2-Collections-and-Files/Roster/Marjorie_Lee_559.txt\u001b[m\u001b[m*\r\n",
      "\u001b[31m../Data/Day2-Collections-and-Files/Roster/Marjorie_Moore_209.txt\u001b[m\u001b[m*\r\n",
      "\u001b[31m../Data/Day2-Collections-and-Files/Roster/Marjorie_Moore_325.txt\u001b[m\u001b[m*\r\n",
      "\u001b[31m../Data/Day2-Collections-and-Files/Roster/Marjorie_Morris_247.txt\u001b[m\u001b[m*\r\n",
      "\u001b[31m../Data/Day2-Collections-and-Files/Roster/Marjorie_Patterson_60.txt\u001b[m\u001b[m*\r\n",
      "\u001b[31m../Data/Day2-Collections-and-Files/Roster/Marjorie_Ramirez_181.txt\u001b[m\u001b[m*\r\n",
      "\u001b[31m../Data/Day2-Collections-and-Files/Roster/Marjorie_Ramirez_775.txt\u001b[m\u001b[m*\r\n",
      "\u001b[31m../Data/Day2-Collections-and-Files/Roster/Marjorie_Reed_584.txt\u001b[m\u001b[m*\r\n",
      "\u001b[31m../Data/Day2-Collections-and-Files/Roster/Marjorie_Robinson_471.txt\u001b[m\u001b[m*\r\n",
      "\u001b[31m../Data/Day2-Collections-and-Files/Roster/Marjorie_Rodriguez_237.txt\u001b[m\u001b[m*\r\n",
      "\u001b[31m../Data/Day2-Collections-and-Files/Roster/Marjorie_Sanchez_201.txt\u001b[m\u001b[m*\r\n",
      "\u001b[31m../Data/Day2-Collections-and-Files/Roster/Marjorie_Taylor_20.txt\u001b[m\u001b[m*\r\n",
      "\u001b[31m../Data/Day2-Collections-and-Files/Roster/Marjorie_Thomas_116.txt\u001b[m\u001b[m*\r\n",
      "\u001b[31m../Data/Day2-Collections-and-Files/Roster/Marjorie_Turner_361.txt\u001b[m\u001b[m*\r\n",
      "\u001b[31m../Data/Day2-Collections-and-Files/Roster/Marjorie_Washington_438.txt\u001b[m\u001b[m*\r\n",
      "\u001b[31m../Data/Day2-Collections-and-Files/Roster/Marjorie_White_628.txt\u001b[m\u001b[m*\r\n",
      "\u001b[31m../Data/Day2-Collections-and-Files/Roster/Marjorie_williams_779.txt\u001b[m\u001b[m*\r\n",
      "\u001b[31m../Data/Day2-Collections-and-Files/Roster/Matthias_Baker_386.txt\u001b[m\u001b[m*\r\n",
      "\u001b[31m../Data/Day2-Collections-and-Files/Roster/Matthias_Bell_563.txt\u001b[m\u001b[m*\r\n",
      "\u001b[31m../Data/Day2-Collections-and-Files/Roster/Matthias_Brown_64.txt\u001b[m\u001b[m*\r\n",
      "\u001b[31m../Data/Day2-Collections-and-Files/Roster/Matthias_Collins_703.txt\u001b[m\u001b[m*\r\n",
      "\u001b[31m../Data/Day2-Collections-and-Files/Roster/Matthias_Cooper_549.txt\u001b[m\u001b[m*\r\n",
      "\u001b[31m../Data/Day2-Collections-and-Files/Roster/Matthias_Davis_536.txt\u001b[m\u001b[m*\r\n",
      "\u001b[31m../Data/Day2-Collections-and-Files/Roster/Matthias_Edwards_296.txt\u001b[m\u001b[m*\r\n",
      "\u001b[31m../Data/Day2-Collections-and-Files/Roster/Matthias_Evans_440.txt\u001b[m\u001b[m*\r\n",
      "\u001b[31m../Data/Day2-Collections-and-Files/Roster/Matthias_Foster_446.txt\u001b[m\u001b[m*\r\n",
      "\u001b[31m../Data/Day2-Collections-and-Files/Roster/Matthias_Gonzalez_102.txt\u001b[m\u001b[m*\r\n",
      "\u001b[31m../Data/Day2-Collections-and-Files/Roster/Matthias_Hayes_740.txt\u001b[m\u001b[m*\r\n",
      "\u001b[31m../Data/Day2-Collections-and-Files/Roster/Matthias_Hernandez_183.txt\u001b[m\u001b[m*\r\n",
      "\u001b[31m../Data/Day2-Collections-and-Files/Roster/Matthias_Hill_532.txt\u001b[m\u001b[m*\r\n",
      "\u001b[31m../Data/Day2-Collections-and-Files/Roster/Matthias_Hughes_151.txt\u001b[m\u001b[m*\r\n",
      "\u001b[31m../Data/Day2-Collections-and-Files/Roster/Matthias_Johnson_572.txt\u001b[m\u001b[m*\r\n",
      "\u001b[31m../Data/Day2-Collections-and-Files/Roster/Matthias_Johnson_84.txt\u001b[m\u001b[m*\r\n",
      "\u001b[31m../Data/Day2-Collections-and-Files/Roster/Matthias_Lee_643.txt\u001b[m\u001b[m*\r\n",
      "\u001b[31m../Data/Day2-Collections-and-Files/Roster/Matthias_Lewis_283.txt\u001b[m\u001b[m*\r\n",
      "\u001b[31m../Data/Day2-Collections-and-Files/Roster/Matthias_Lopez_317.txt\u001b[m\u001b[m*\r\n",
      "\u001b[31m../Data/Day2-Collections-and-Files/Roster/Matthias_Lopez_490.txt\u001b[m\u001b[m*\r\n",
      "\u001b[31m../Data/Day2-Collections-and-Files/Roster/Matthias_Morris_22.txt\u001b[m\u001b[m*\r\n",
      "\u001b[31m../Data/Day2-Collections-and-Files/Roster/Matthias_Nelson_232.txt\u001b[m\u001b[m*\r\n",
      "\u001b[31m../Data/Day2-Collections-and-Files/Roster/Matthias_Perez_437.txt\u001b[m\u001b[m*\r\n",
      "\u001b[31m../Data/Day2-Collections-and-Files/Roster/Matthias_Perez_511.txt\u001b[m\u001b[m*\r\n",
      "\u001b[31m../Data/Day2-Collections-and-Files/Roster/Matthias_Perry_786.txt\u001b[m\u001b[m*\r\n",
      "\u001b[31m../Data/Day2-Collections-and-Files/Roster/Matthias_Phillips_351.txt\u001b[m\u001b[m*\r\n",
      "\u001b[31m../Data/Day2-Collections-and-Files/Roster/Matthias_Ramirez_447.txt\u001b[m\u001b[m*\r\n",
      "\u001b[31m../Data/Day2-Collections-and-Files/Roster/Matthias_Richardson_320.txt\u001b[m\u001b[m*\r\n",
      "\u001b[31m../Data/Day2-Collections-and-Files/Roster/Matthias_Robinson_791.txt\u001b[m\u001b[m*\r\n",
      "\u001b[31m../Data/Day2-Collections-and-Files/Roster/Matthias_Scoot_336.txt\u001b[m\u001b[m*\r\n",
      "\u001b[31m../Data/Day2-Collections-and-Files/Roster/Matthias_Scoot_789.txt\u001b[m\u001b[m*\r\n",
      "\u001b[31m../Data/Day2-Collections-and-Files/Roster/Matthias_Stewart_357.txt\u001b[m\u001b[m*\r\n",
      "\u001b[31m../Data/Day2-Collections-and-Files/Roster/Matthias_Thomas_219.txt\u001b[m\u001b[m*\r\n",
      "\u001b[31m../Data/Day2-Collections-and-Files/Roster/Matthias_Thompson_508.txt\u001b[m\u001b[m*\r\n",
      "\u001b[31m../Data/Day2-Collections-and-Files/Roster/Matthias_Turner_128.txt\u001b[m\u001b[m*\r\n",
      "\u001b[31m../Data/Day2-Collections-and-Files/Roster/Matthias_Watson_101.txt\u001b[m\u001b[m*\r\n",
      "\u001b[31m../Data/Day2-Collections-and-Files/Roster/Matthias_Wood_451.txt\u001b[m\u001b[m*\r\n",
      "\u001b[31m../Data/Day2-Collections-and-Files/Roster/Matthias_Wood_57.txt\u001b[m\u001b[m*\r\n",
      "\u001b[31m../Data/Day2-Collections-and-Files/Roster/May-Sue_Anderson_93.txt\u001b[m\u001b[m*\r\n",
      "\u001b[31m../Data/Day2-Collections-and-Files/Roster/May-Sue_Bennett_12.txt\u001b[m\u001b[m*\r\n",
      "\u001b[31m../Data/Day2-Collections-and-Files/Roster/May-Sue_Bennett_186.txt\u001b[m\u001b[m*\r\n",
      "\u001b[31m../Data/Day2-Collections-and-Files/Roster/May-Sue_Butler_396.txt\u001b[m\u001b[m*\r\n",
      "\u001b[31m../Data/Day2-Collections-and-Files/Roster/May-Sue_Clark_784.txt\u001b[m\u001b[m*\r\n",
      "\u001b[31m../Data/Day2-Collections-and-Files/Roster/May-Sue_Coleman_647.txt\u001b[m\u001b[m*\r\n",
      "\u001b[31m../Data/Day2-Collections-and-Files/Roster/May-Sue_Collins_91.txt\u001b[m\u001b[m*\r\n",
      "\u001b[31m../Data/Day2-Collections-and-Files/Roster/May-Sue_Cooper_54.txt\u001b[m\u001b[m*\r\n",
      "\u001b[31m../Data/Day2-Collections-and-Files/Roster/May-Sue_Cooper_96.txt\u001b[m\u001b[m*\r\n",
      "\u001b[31m../Data/Day2-Collections-and-Files/Roster/May-Sue_Diaz_739.txt\u001b[m\u001b[m*\r\n",
      "\u001b[31m../Data/Day2-Collections-and-Files/Roster/May-Sue_Evans_303.txt\u001b[m\u001b[m*\r\n",
      "\u001b[31m../Data/Day2-Collections-and-Files/Roster/May-Sue_Flores_464.txt\u001b[m\u001b[m*\r\n",
      "\u001b[31m../Data/Day2-Collections-and-Files/Roster/May-Sue_Foster_370.txt\u001b[m\u001b[m*\r\n",
      "\u001b[31m../Data/Day2-Collections-and-Files/Roster/May-Sue_Garcia_166.txt\u001b[m\u001b[m*\r\n",
      "\u001b[31m../Data/Day2-Collections-and-Files/Roster/May-Sue_Gray_352.txt\u001b[m\u001b[m*\r\n",
      "\u001b[31m../Data/Day2-Collections-and-Files/Roster/May-Sue_Griffin_589.txt\u001b[m\u001b[m*\r\n",
      "\u001b[31m../Data/Day2-Collections-and-Files/Roster/May-Sue_Hayes_203.txt\u001b[m\u001b[m*\r\n",
      "\u001b[31m../Data/Day2-Collections-and-Files/Roster/May-Sue_Henderson_273.txt\u001b[m\u001b[m*\r\n",
      "\u001b[31m../Data/Day2-Collections-and-Files/Roster/May-Sue_Hughes_70.txt\u001b[m\u001b[m*\r\n",
      "\u001b[31m../Data/Day2-Collections-and-Files/Roster/May-Sue_Jenkins_140.txt\u001b[m\u001b[m*\r\n",
      "\u001b[31m../Data/Day2-Collections-and-Files/Roster/May-Sue_Jenkins_542.txt\u001b[m\u001b[m*\r\n",
      "\u001b[31m../Data/Day2-Collections-and-Files/Roster/May-Sue_Johnson_462.txt\u001b[m\u001b[m*\r\n",
      "\u001b[31m../Data/Day2-Collections-and-Files/Roster/May-Sue_Kelly_174.txt\u001b[m\u001b[m*\r\n",
      "\u001b[31m../Data/Day2-Collections-and-Files/Roster/May-Sue_Kelly_720.txt\u001b[m\u001b[m*\r",
      "\r\n",
      "\u001b[31m../Data/Day2-Collections-and-Files/Roster/May-Sue_Kelly_745.txt\u001b[m\u001b[m*\r\n",
      "\u001b[31m../Data/Day2-Collections-and-Files/Roster/May-Sue_King_374.txt\u001b[m\u001b[m*\r\n",
      "\u001b[31m../Data/Day2-Collections-and-Files/Roster/May-Sue_Miller_131.txt\u001b[m\u001b[m*\r\n",
      "\u001b[31m../Data/Day2-Collections-and-Files/Roster/May-Sue_Morgan_272.txt\u001b[m\u001b[m*\r\n",
      "\u001b[31m../Data/Day2-Collections-and-Files/Roster/May-Sue_Murphy_194.txt\u001b[m\u001b[m*\r\n",
      "\u001b[31m../Data/Day2-Collections-and-Files/Roster/May-Sue_Murphy_716.txt\u001b[m\u001b[m*\r\n",
      "\u001b[31m../Data/Day2-Collections-and-Files/Roster/May-Sue_Perry_705.txt\u001b[m\u001b[m*\r\n",
      "\u001b[31m../Data/Day2-Collections-and-Files/Roster/May-Sue_Perry_79.txt\u001b[m\u001b[m*\r\n",
      "\u001b[31m../Data/Day2-Collections-and-Files/Roster/May-Sue_Powell_161.txt\u001b[m\u001b[m*\r\n",
      "\u001b[31m../Data/Day2-Collections-and-Files/Roster/May-Sue_Rivera_88.txt\u001b[m\u001b[m*\r\n",
      "\u001b[31m../Data/Day2-Collections-and-Files/Roster/May-Sue_Robinson_42.txt\u001b[m\u001b[m*\r\n",
      "\u001b[31m../Data/Day2-Collections-and-Files/Roster/May-Sue_Rogers_67.txt\u001b[m\u001b[m*\r\n",
      "\u001b[31m../Data/Day2-Collections-and-Files/Roster/May-Sue_Sanders_238.txt\u001b[m\u001b[m*\r\n",
      "\u001b[31m../Data/Day2-Collections-and-Files/Roster/May-Sue_Simmons_414.txt\u001b[m\u001b[m*\r\n",
      "\u001b[31m../Data/Day2-Collections-and-Files/Roster/May-Sue_Stewart_708.txt\u001b[m\u001b[m*\r\n",
      "\u001b[31m../Data/Day2-Collections-and-Files/Roster/May-Sue_Thomas_138.txt\u001b[m\u001b[m*\r\n",
      "\u001b[31m../Data/Day2-Collections-and-Files/Roster/May-Sue_Thompson_9.txt\u001b[m\u001b[m*\r\n",
      "\u001b[31m../Data/Day2-Collections-and-Files/Roster/May-Sue_Torres_531.txt\u001b[m\u001b[m*\r\n",
      "\u001b[31m../Data/Day2-Collections-and-Files/Roster/May-Sue_Turner_322.txt\u001b[m\u001b[m*\r\n",
      "\u001b[31m../Data/Day2-Collections-and-Files/Roster/May-Sue_Ward_406.txt\u001b[m\u001b[m*\r\n",
      "\u001b[31m../Data/Day2-Collections-and-Files/Roster/May-Sue_Washington_109.txt\u001b[m\u001b[m*\r\n",
      "\u001b[31m../Data/Day2-Collections-and-Files/Roster/May-Sue_Watson_510.txt\u001b[m\u001b[m*\r\n",
      "\u001b[31m../Data/Day2-Collections-and-Files/Roster/May-Sue_White_195.txt\u001b[m\u001b[m*\r\n",
      "\u001b[31m../Data/Day2-Collections-and-Files/Roster/May-Sue_Wilson_718.txt\u001b[m\u001b[m*\r\n",
      "\u001b[31m../Data/Day2-Collections-and-Files/Roster/May-Sue_Wright_343.txt\u001b[m\u001b[m*\r\n",
      "\u001b[31m../Data/Day2-Collections-and-Files/Roster/Montgomery_Alexander_397.txt\u001b[m\u001b[m*\r\n",
      "\u001b[31m../Data/Day2-Collections-and-Files/Roster/Montgomery_Bailey_753.txt\u001b[m\u001b[m*\r\n",
      "\u001b[31m../Data/Day2-Collections-and-Files/Roster/Montgomery_Barnes_765.txt\u001b[m\u001b[m*\r\n",
      "\u001b[31m../Data/Day2-Collections-and-Files/Roster/Montgomery_Bryant_792.txt\u001b[m\u001b[m*\r\n",
      "\u001b[31m../Data/Day2-Collections-and-Files/Roster/Montgomery_Campbell_61.txt\u001b[m\u001b[m*\r\n",
      "\u001b[31m../Data/Day2-Collections-and-Files/Roster/Montgomery_Carter_363.txt\u001b[m\u001b[m*\r\n",
      "\u001b[31m../Data/Day2-Collections-and-Files/Roster/Montgomery_Foster_193.txt\u001b[m\u001b[m*\r\n",
      "\u001b[31m../Data/Day2-Collections-and-Files/Roster/Montgomery_Foster_448.txt\u001b[m\u001b[m*\r\n",
      "\u001b[31m../Data/Day2-Collections-and-Files/Roster/Montgomery_Garcia_123.txt\u001b[m\u001b[m*\r\n",
      "\u001b[31m../Data/Day2-Collections-and-Files/Roster/Montgomery_Griffin_604.txt\u001b[m\u001b[m*\r\n",
      "\u001b[31m../Data/Day2-Collections-and-Files/Roster/Montgomery_Hayes_196.txt\u001b[m\u001b[m*\r\n",
      "\u001b[31m../Data/Day2-Collections-and-Files/Roster/Montgomery_Johnson_615.txt\u001b[m\u001b[m*\r\n",
      "\u001b[31m../Data/Day2-Collections-and-Files/Roster/Montgomery_King_590.txt\u001b[m\u001b[m*\r\n",
      "\u001b[31m../Data/Day2-Collections-and-Files/Roster/Montgomery_Lewis_410.txt\u001b[m\u001b[m*\r\n",
      "\u001b[31m../Data/Day2-Collections-and-Files/Roster/Montgomery_Lewis_521.txt\u001b[m\u001b[m*\r\n",
      "\u001b[31m../Data/Day2-Collections-and-Files/Roster/Montgomery_Lopez_68.txt\u001b[m\u001b[m*\r\n",
      "\u001b[31m../Data/Day2-Collections-and-Files/Roster/Montgomery_Martinez_165.txt\u001b[m\u001b[m*\r\n",
      "\u001b[31m../Data/Day2-Collections-and-Files/Roster/Montgomery_Morgan_391.txt\u001b[m\u001b[m*\r\n",
      "\u001b[31m../Data/Day2-Collections-and-Files/Roster/Montgomery_Morgan_650.txt\u001b[m\u001b[m*\r\n",
      "\u001b[31m../Data/Day2-Collections-and-Files/Roster/Montgomery_Murphy_433.txt\u001b[m\u001b[m*\r\n",
      "\u001b[31m../Data/Day2-Collections-and-Files/Roster/Montgomery_Phillips_749.txt\u001b[m\u001b[m*\r\n",
      "\u001b[31m../Data/Day2-Collections-and-Files/Roster/Montgomery_Russell_110.txt\u001b[m\u001b[m*\r\n",
      "\u001b[31m../Data/Day2-Collections-and-Files/Roster/Montgomery_Russell_494.txt\u001b[m\u001b[m*\r\n",
      "\u001b[31m../Data/Day2-Collections-and-Files/Roster/Montgomery_Scoot_179.txt\u001b[m\u001b[m*\r\n",
      "\u001b[31m../Data/Day2-Collections-and-Files/Roster/Montgomery_Scoot_610.txt\u001b[m\u001b[m*\r\n",
      "\u001b[31m../Data/Day2-Collections-and-Files/Roster/Montgomery_Ward_421.txt\u001b[m\u001b[m*\r\n",
      "\u001b[31m../Data/Day2-Collections-and-Files/Roster/Montgomery_Ward_467.txt\u001b[m\u001b[m*\r\n",
      "\u001b[31m../Data/Day2-Collections-and-Files/Roster/Montgomery_White_453.txt\u001b[m\u001b[m*\r\n",
      "\u001b[31m../Data/Day2-Collections-and-Files/Roster/Montgomery_Wright_119.txt\u001b[m\u001b[m*\r\n",
      "\u001b[31m../Data/Day2-Collections-and-Files/Roster/Montgomery_Wright_92.txt\u001b[m\u001b[m*\r\n",
      "\u001b[31m../Data/Day2-Collections-and-Files/Roster/Montgomery_Young_362.txt\u001b[m\u001b[m*\r\n",
      "\u001b[31m../Data/Day2-Collections-and-Files/Roster/Orville_Alexander_127.txt\u001b[m\u001b[m*\r\n",
      "\u001b[31m../Data/Day2-Collections-and-Files/Roster/Orville_Allen_390.txt\u001b[m\u001b[m*\r\n",
      "\u001b[31m../Data/Day2-Collections-and-Files/Roster/Orville_Bailey_254.txt\u001b[m\u001b[m*\r\n",
      "\u001b[31m../Data/Day2-Collections-and-Files/Roster/Orville_Barnes_726.txt\u001b[m\u001b[m*\r\n",
      "\u001b[31m../Data/Day2-Collections-and-Files/Roster/Orville_Bell_473.txt\u001b[m\u001b[m*\r\n",
      "\u001b[31m../Data/Day2-Collections-and-Files/Roster/Orville_Bennett_83.txt\u001b[m\u001b[m*\r\n",
      "\u001b[31m../Data/Day2-Collections-and-Files/Roster/Orville_Brown_411.txt\u001b[m\u001b[m*\r\n",
      "\u001b[31m../Data/Day2-Collections-and-Files/Roster/Orville_Butler_81.txt\u001b[m\u001b[m*\r\n",
      "\u001b[31m../Data/Day2-Collections-and-Files/Roster/Orville_Coleman_327.txt\u001b[m\u001b[m*\r\n",
      "\u001b[31m../Data/Day2-Collections-and-Files/Roster/Orville_Coleman_463.txt\u001b[m\u001b[m*\r\n",
      "\u001b[31m../Data/Day2-Collections-and-Files/Roster/Orville_Coleman_582.txt\u001b[m\u001b[m*\r\n",
      "\u001b[31m../Data/Day2-Collections-and-Files/Roster/Orville_Coleman_593.txt\u001b[m\u001b[m*\r\n",
      "\u001b[31m../Data/Day2-Collections-and-Files/Roster/Orville_Coleman_633.txt\u001b[m\u001b[m*\r\n",
      "\u001b[31m../Data/Day2-Collections-and-Files/Roster/Orville_Cox_664.txt\u001b[m\u001b[m*\r\n",
      "\u001b[31m../Data/Day2-Collections-and-Files/Roster/Orville_Davis_189.txt\u001b[m\u001b[m*\r\n",
      "\u001b[31m../Data/Day2-Collections-and-Files/Roster/Orville_Garcia_679.txt\u001b[m\u001b[m*\r\n",
      "\u001b[31m../Data/Day2-Collections-and-Files/Roster/Orville_Gonzalez_428.txt\u001b[m\u001b[m*\r\n",
      "\u001b[31m../Data/Day2-Collections-and-Files/Roster/Orville_Green_192.txt\u001b[m\u001b[m*\r\n",
      "\u001b[31m../Data/Day2-Collections-and-Files/Roster/Orville_Hall_579.txt\u001b[m\u001b[m*\r\n",
      "\u001b[31m../Data/Day2-Collections-and-Files/Roster/Orville_Hughes_466.txt\u001b[m\u001b[m*\r\n",
      "\u001b[31m../Data/Day2-Collections-and-Files/Roster/Orville_Jackson_764.txt\u001b[m\u001b[m*\r\n",
      "\u001b[31m../Data/Day2-Collections-and-Files/Roster/Orville_Johnson_460.txt\u001b[m\u001b[m*\r\n",
      "\u001b[31m../Data/Day2-Collections-and-Files/Roster/Orville_King_233.txt\u001b[m\u001b[m*\r\n",
      "\u001b[31m../Data/Day2-Collections-and-Files/Roster/Orville_Lee_3.txt\u001b[m\u001b[m*\r\n",
      "\u001b[31m../Data/Day2-Collections-and-Files/Roster/Orville_Lee_408.txt\u001b[m\u001b[m*\r\n",
      "\u001b[31m../Data/Day2-Collections-and-Files/Roster/Orville_Martinez_785.txt\u001b[m\u001b[m*\r\n",
      "\u001b[31m../Data/Day2-Collections-and-Files/Roster/Orville_Miller_482.txt\u001b[m\u001b[m*\r\n",
      "\u001b[31m../Data/Day2-Collections-and-Files/Roster/Orville_Miller_689.txt\u001b[m\u001b[m*\r\n",
      "\u001b[31m../Data/Day2-Collections-and-Files/Roster/Orville_Miller_767.txt\u001b[m\u001b[m*\r\n",
      "\u001b[31m../Data/Day2-Collections-and-Files/Roster/Orville_Mitchell_31.txt\u001b[m\u001b[m*\r\n",
      "\u001b[31m../Data/Day2-Collections-and-Files/Roster/Orville_Morris_504.txt\u001b[m\u001b[m*\r\n",
      "\u001b[31m../Data/Day2-Collections-and-Files/Roster/Orville_Nelson_316.txt\u001b[m\u001b[m*\r\n",
      "\u001b[31m../Data/Day2-Collections-and-Files/Roster/Orville_Parker_259.txt\u001b[m\u001b[m*\r\n",
      "\u001b[31m../Data/Day2-Collections-and-Files/Roster/Orville_Perez_10.txt\u001b[m\u001b[m*\r\n",
      "\u001b[31m../Data/Day2-Collections-and-Files/Roster/Orville_Perry_721.txt\u001b[m\u001b[m*\r\n",
      "\u001b[31m../Data/Day2-Collections-and-Files/Roster/Orville_Powell_409.txt\u001b[m\u001b[m*\r\n",
      "\u001b[31m../Data/Day2-Collections-and-Files/Roster/Orville_Price_751.txt\u001b[m\u001b[m*\r\n",
      "\u001b[31m../Data/Day2-Collections-and-Files/Roster/Orville_Ramirez_198.txt\u001b[m\u001b[m*\r\n",
      "\u001b[31m../Data/Day2-Collections-and-Files/Roster/Orville_Richardson_309.txt\u001b[m\u001b[m*\r\n",
      "\u001b[31m../Data/Day2-Collections-and-Files/Roster/Orville_Roberts_293.txt\u001b[m\u001b[m*\r\n",
      "\u001b[31m../Data/Day2-Collections-and-Files/Roster/Orville_Rodriguez_419.txt\u001b[m\u001b[m*\r\n",
      "\u001b[31m../Data/Day2-Collections-and-Files/Roster/Orville_Walker_335.txt\u001b[m\u001b[m*\r\n",
      "\u001b[31m../Data/Day2-Collections-and-Files/Roster/Orville_Walker_724.txt\u001b[m\u001b[m*\r\n",
      "\u001b[31m../Data/Day2-Collections-and-Files/Roster/Orville_Washington_205.txt\u001b[m\u001b[m*\r\n",
      "\u001b[31m../Data/Day2-Collections-and-Files/Roster/Orville_Watson_526.txt\u001b[m\u001b[m*\r\n",
      "\u001b[31m../Data/Day2-Collections-and-Files/Roster/Orville_Watson_97.txt\u001b[m\u001b[m*\r\n",
      "\u001b[31m../Data/Day2-Collections-and-Files/Roster/Orville_White_212.txt\u001b[m\u001b[m*\r\n",
      "\u001b[31m../Data/Day2-Collections-and-Files/Roster/Orville_williams_570.txt\u001b[m\u001b[m*\r\n",
      "\u001b[31m../Data/Day2-Collections-and-Files/Roster/Tabitha_Adams_364.txt\u001b[m\u001b[m*\r\n",
      "\u001b[31m../Data/Day2-Collections-and-Files/Roster/Tabitha_Adams_388.txt\u001b[m\u001b[m*\r\n",
      "\u001b[31m../Data/Day2-Collections-and-Files/Roster/Tabitha_Alexander_135.txt\u001b[m\u001b[m*\r\n",
      "\u001b[31m../Data/Day2-Collections-and-Files/Roster/Tabitha_Alexander_561.txt\u001b[m\u001b[m*\r\n",
      "\u001b[31m../Data/Day2-Collections-and-Files/Roster/Tabitha_Allen_180.txt\u001b[m\u001b[m*\r\n",
      "\u001b[31m../Data/Day2-Collections-and-Files/Roster/Tabitha_Bailey_368.txt\u001b[m\u001b[m*\r\n",
      "\u001b[31m../Data/Day2-Collections-and-Files/Roster/Tabitha_Bailey_470.txt\u001b[m\u001b[m*\r\n",
      "\u001b[31m../Data/Day2-Collections-and-Files/Roster/Tabitha_Baker_257.txt\u001b[m\u001b[m*\r\n",
      "\u001b[31m../Data/Day2-Collections-and-Files/Roster/Tabitha_Bennett_435.txt\u001b[m\u001b[m*\r\n",
      "\u001b[31m../Data/Day2-Collections-and-Files/Roster/Tabitha_Bryant_156.txt\u001b[m\u001b[m*\r\n",
      "\u001b[31m../Data/Day2-Collections-and-Files/Roster/Tabitha_Campbell_48.txt\u001b[m\u001b[m*\r\n",
      "\u001b[31m../Data/Day2-Collections-and-Files/Roster/Tabitha_Carter_773.txt\u001b[m\u001b[m*\r\n",
      "\u001b[31m../Data/Day2-Collections-and-Files/Roster/Tabitha_Cooper_302.txt\u001b[m\u001b[m*\r\n",
      "\u001b[31m../Data/Day2-Collections-and-Files/Roster/Tabitha_Cox_748.txt\u001b[m\u001b[m*\r\n",
      "\u001b[31m../Data/Day2-Collections-and-Files/Roster/Tabitha_Cox_98.txt\u001b[m\u001b[m*\r\n",
      "\u001b[31m../Data/Day2-Collections-and-Files/Roster/Tabitha_Davis_613.txt\u001b[m\u001b[m*\r\n",
      "\u001b[31m../Data/Day2-Collections-and-Files/Roster/Tabitha_Diaz_480.txt\u001b[m\u001b[m*\r\n",
      "\u001b[31m../Data/Day2-Collections-and-Files/Roster/Tabitha_Green_530.txt\u001b[m\u001b[m*\r\n",
      "\u001b[31m../Data/Day2-Collections-and-Files/Roster/Tabitha_Griffin_637.txt\u001b[m\u001b[m*\r\n",
      "\u001b[31m../Data/Day2-Collections-and-Files/Roster/Tabitha_Hayes_155.txt\u001b[m\u001b[m*\r\n",
      "\u001b[31m../Data/Day2-Collections-and-Files/Roster/Tabitha_Hill_422.txt\u001b[m\u001b[m*\r\n",
      "\u001b[31m../Data/Day2-Collections-and-Files/Roster/Tabitha_Hughes_120.txt\u001b[m\u001b[m*\r\n",
      "\u001b[31m../Data/Day2-Collections-and-Files/Roster/Tabitha_James_667.txt\u001b[m\u001b[m*\r\n",
      "\u001b[31m../Data/Day2-Collections-and-Files/Roster/Tabitha_Jones_141.txt\u001b[m\u001b[m*\r\n",
      "\u001b[31m../Data/Day2-Collections-and-Files/Roster/Tabitha_Jones_211.txt\u001b[m\u001b[m*\r\n",
      "\u001b[31m../Data/Day2-Collections-and-Files/Roster/Tabitha_Long_663.txt\u001b[m\u001b[m*\r\n",
      "\u001b[31m../Data/Day2-Collections-and-Files/Roster/Tabitha_Martin_595.txt\u001b[m\u001b[m*\r\n",
      "\u001b[31m../Data/Day2-Collections-and-Files/Roster/Tabitha_Morris_762.txt\u001b[m\u001b[m*\r\n",
      "\u001b[31m../Data/Day2-Collections-and-Files/Roster/Tabitha_Perry_761.txt\u001b[m\u001b[m*\r\n",
      "\u001b[31m../Data/Day2-Collections-and-Files/Roster/Tabitha_Price_661.txt\u001b[m\u001b[m*\r\n",
      "\u001b[31m../Data/Day2-Collections-and-Files/Roster/Tabitha_Richardson_756.txt\u001b[m\u001b[m*\r\n",
      "\u001b[31m../Data/Day2-Collections-and-Files/Roster/Tabitha_Robinson_583.txt\u001b[m\u001b[m*\r\n",
      "\u001b[31m../Data/Day2-Collections-and-Files/Roster/Tabitha_Rodriguez_204.txt\u001b[m\u001b[m*\r\n",
      "\u001b[31m../Data/Day2-Collections-and-Files/Roster/Tabitha_Rogers_469.txt\u001b[m\u001b[m*\r\n",
      "\u001b[31m../Data/Day2-Collections-and-Files/Roster/Tabitha_Ross_630.txt\u001b[m\u001b[m*\r\n",
      "\u001b[31m../Data/Day2-Collections-and-Files/Roster/Tabitha_Ross_736.txt\u001b[m\u001b[m*\r\n",
      "\u001b[31m../Data/Day2-Collections-and-Files/Roster/Tabitha_Sanders_190.txt\u001b[m\u001b[m*\r\n",
      "\u001b[31m../Data/Day2-Collections-and-Files/Roster/Tabitha_Torres_167.txt\u001b[m\u001b[m*\r\n",
      "\u001b[31m../Data/Day2-Collections-and-Files/Roster/Tabitha_Walker_17.txt\u001b[m\u001b[m*\r\n",
      "\u001b[31m../Data/Day2-Collections-and-Files/Roster/Tabitha_Ward_392.txt\u001b[m\u001b[m*\r\n",
      "\u001b[31m../Data/Day2-Collections-and-Files/Roster/Tabitha_Ward_543.txt\u001b[m\u001b[m*\r\n",
      "\u001b[31m../Data/Day2-Collections-and-Files/Roster/Tabitha_Ward_757.txt\u001b[m\u001b[m*\r\n",
      "\u001b[31m../Data/Day2-Collections-and-Files/Roster/Tabitha_Watson_313.txt\u001b[m\u001b[m*\r\n",
      "\u001b[31m../Data/Day2-Collections-and-Files/Roster/Tabitha_Wilson_14.txt\u001b[m\u001b[m*\r\n",
      "\u001b[31m../Data/Day2-Collections-and-Files/Roster/Tabitha_Wright_520.txt\u001b[m\u001b[m*\r\n",
      "\u001b[31m../Data/Day2-Collections-and-Files/Roster/Tabitha_williams_635.txt\u001b[m\u001b[m*\r\n",
      "\u001b[31m../Data/Day2-Collections-and-Files/Roster/Trip_Baker_383.txt\u001b[m\u001b[m*\r\n",
      "\u001b[31m../Data/Day2-Collections-and-Files/Roster/Trip_Bell_711.txt\u001b[m\u001b[m*\r\n",
      "\u001b[31m../Data/Day2-Collections-and-Files/Roster/Trip_Bennett_34.txt\u001b[m\u001b[m*\r\n",
      "\u001b[31m../Data/Day2-Collections-and-Files/Roster/Trip_Brooks_207.txt\u001b[m\u001b[m*\r\n",
      "\u001b[31m../Data/Day2-Collections-and-Files/Roster/Trip_Campbell_496.txt\u001b[m\u001b[m*\r\n",
      "\u001b[31m../Data/Day2-Collections-and-Files/Roster/Trip_Carter_632.txt\u001b[m\u001b[m*\r\n",
      "\u001b[31m../Data/Day2-Collections-and-Files/Roster/Trip_Coleman_468.txt\u001b[m\u001b[m*\r\n",
      "\u001b[31m../Data/Day2-Collections-and-Files/Roster/Trip_Collins_255.txt\u001b[m\u001b[m*\r\n",
      "\u001b[31m../Data/Day2-Collections-and-Files/Roster/Trip_Edwards_2.txt\u001b[m\u001b[m*\r\n",
      "\u001b[31m../Data/Day2-Collections-and-Files/Roster/Trip_Foster_153.txt\u001b[m\u001b[m*\r\n",
      "\u001b[31m../Data/Day2-Collections-and-Files/Roster/Trip_Gonzalez_36.txt\u001b[m\u001b[m*\r\n",
      "\u001b[31m../Data/Day2-Collections-and-Files/Roster/Trip_Griffin_319.txt\u001b[m\u001b[m*\r\n",
      "\u001b[31m../Data/Day2-Collections-and-Files/Roster/Trip_Griffin_774.txt\u001b[m\u001b[m*\r\n",
      "\u001b[31m../Data/Day2-Collections-and-Files/Roster/Trip_Hayes_185.txt\u001b[m\u001b[m*\r\n",
      "\u001b[31m../Data/Day2-Collections-and-Files/Roster/Trip_Hayes_32.txt\u001b[m\u001b[m*\r\n",
      "\u001b[31m../Data/Day2-Collections-and-Files/Roster/Trip_Henderson_499.txt\u001b[m\u001b[m*\r\n",
      "\u001b[31m../Data/Day2-Collections-and-Files/Roster/Trip_Hernandez_400.txt\u001b[m\u001b[m*\r\n",
      "\u001b[31m../Data/Day2-Collections-and-Files/Roster/Trip_Hill_638.txt\u001b[m\u001b[m*\r\n",
      "\u001b[31m../Data/Day2-Collections-and-Files/Roster/Trip_Jenkins_286.txt\u001b[m\u001b[m*\r\n",
      "\u001b[31m../Data/Day2-Collections-and-Files/Roster/Trip_Jenkins_44.txt\u001b[m\u001b[m*\r\n",
      "\u001b[31m../Data/Day2-Collections-and-Files/Roster/Trip_Johnson_707.txt\u001b[m\u001b[m*\r\n",
      "\u001b[31m../Data/Day2-Collections-and-Files/Roster/Trip_Jones_69.txt\u001b[m\u001b[m*\r\n",
      "\u001b[31m../Data/Day2-Collections-and-Files/Roster/Trip_Kelly_230.txt\u001b[m\u001b[m*\r\n",
      "\u001b[31m../Data/Day2-Collections-and-Files/Roster/Trip_Lopez_501.txt\u001b[m\u001b[m*\r\n",
      "\u001b[31m../Data/Day2-Collections-and-Files/Roster/Trip_Lopez_527.txt\u001b[m\u001b[m*\r\n",
      "\u001b[31m../Data/Day2-Collections-and-Files/Roster/Trip_Martin_24.txt\u001b[m\u001b[m*\r\n",
      "\u001b[31m../Data/Day2-Collections-and-Files/Roster/Trip_Martinez_158.txt\u001b[m\u001b[m*\r\n",
      "\u001b[31m../Data/Day2-Collections-and-Files/Roster/Trip_Martinez_545.txt\u001b[m\u001b[m*\r\n",
      "\u001b[31m../Data/Day2-Collections-and-Files/Roster/Trip_Martinez_678.txt\u001b[m\u001b[m*\r\n",
      "\u001b[31m../Data/Day2-Collections-and-Files/Roster/Trip_Miller_35.txt\u001b[m\u001b[m*\r\n",
      "\u001b[31m../Data/Day2-Collections-and-Files/Roster/Trip_Perry_276.txt\u001b[m\u001b[m*\r\n",
      "\u001b[31m../Data/Day2-Collections-and-Files/Roster/Trip_Peterson_214.txt\u001b[m\u001b[m*\r\n",
      "\u001b[31m../Data/Day2-Collections-and-Files/Roster/Trip_Powell_217.txt\u001b[m\u001b[m*\r\n",
      "\u001b[31m../Data/Day2-Collections-and-Files/Roster/Trip_Reed_348.txt\u001b[m\u001b[m*\r\n",
      "\u001b[31m../Data/Day2-Collections-and-Files/Roster/Trip_Robinson_371.txt\u001b[m\u001b[m*\r\n",
      "\u001b[31m../Data/Day2-Collections-and-Files/Roster/Trip_Rogers_265.txt\u001b[m\u001b[m*\r\n",
      "\u001b[31m../Data/Day2-Collections-and-Files/Roster/Trip_Rogers_321.txt\u001b[m\u001b[m*\r\n",
      "\u001b[31m../Data/Day2-Collections-and-Files/Roster/Trip_Sanchez_377.txt\u001b[m\u001b[m*\r\n",
      "\u001b[31m../Data/Day2-Collections-and-Files/Roster/Trip_Sanchez_712.txt\u001b[m\u001b[m*\r\n",
      "\u001b[31m../Data/Day2-Collections-and-Files/Roster/Trip_Thomas_191.txt\u001b[m\u001b[m*\r\n",
      "\u001b[31m../Data/Day2-Collections-and-Files/Roster/Trip_Thomas_223.txt\u001b[m\u001b[m*\r\n",
      "\u001b[31m../Data/Day2-Collections-and-Files/Roster/Trip_Thompson_202.txt\u001b[m\u001b[m*\r\n",
      "\u001b[31m../Data/Day2-Collections-and-Files/Roster/Trip_Thompson_776.txt\u001b[m\u001b[m*\r\n",
      "\u001b[31m../Data/Day2-Collections-and-Files/Roster/Trip_Walker_360.txt\u001b[m\u001b[m*\r\n",
      "\u001b[31m../Data/Day2-Collections-and-Files/Roster/Trip_Washington_213.txt\u001b[m\u001b[m*\r\n",
      "\u001b[31m../Data/Day2-Collections-and-Files/Roster/Trip_Watson_261.txt\u001b[m\u001b[m*\r\n",
      "\u001b[31m../Data/Day2-Collections-and-Files/Roster/Trip_Wood_231.txt\u001b[m\u001b[m*\r\n",
      "\u001b[31m../Data/Day2-Collections-and-Files/Roster/Victoria_Brooks_51.txt\u001b[m\u001b[m*\r\n",
      "\u001b[31m../Data/Day2-Collections-and-Files/Roster/Victoria_Brown_424.txt\u001b[m\u001b[m*\r\n",
      "\u001b[31m../Data/Day2-Collections-and-Files/Roster/Victoria_Brown_709.txt\u001b[m\u001b[m*\r\n",
      "\u001b[31m../Data/Day2-Collections-and-Files/Roster/Victoria_Campbell_506.txt\u001b[m\u001b[m*\r\n",
      "\u001b[31m../Data/Day2-Collections-and-Files/Roster/Victoria_Collins_279.txt\u001b[m\u001b[m*\r\n",
      "\u001b[31m../Data/Day2-Collections-and-Files/Roster/Victoria_Cox_33.txt\u001b[m\u001b[m*\r\n",
      "\u001b[31m../Data/Day2-Collections-and-Files/Roster/Victoria_Evans_417.txt\u001b[m\u001b[m*\r\n",
      "\u001b[31m../Data/Day2-Collections-and-Files/Roster/Victoria_Garcia_27.txt\u001b[m\u001b[m*\r\n",
      "\u001b[31m../Data/Day2-Collections-and-Files/Roster/Victoria_Gray_704.txt\u001b[m\u001b[m*\r\n",
      "\u001b[31m../Data/Day2-Collections-and-Files/Roster/Victoria_Green_136.txt\u001b[m\u001b[m*\r\n",
      "\u001b[31m../Data/Day2-Collections-and-Files/Roster/Victoria_Hayes_606.txt\u001b[m\u001b[m*\r\n",
      "\u001b[31m../Data/Day2-Collections-and-Files/Roster/Victoria_Jenkins_715.txt\u001b[m\u001b[m*\r\n",
      "\u001b[31m../Data/Day2-Collections-and-Files/Roster/Victoria_Kelly_719.txt\u001b[m\u001b[m*\r\n",
      "\u001b[31m../Data/Day2-Collections-and-Files/Roster/Victoria_Moore_699.txt\u001b[m\u001b[m*\r\n",
      "\u001b[31m../Data/Day2-Collections-and-Files/Roster/Victoria_Morgan_236.txt\u001b[m\u001b[m*\r\n",
      "\u001b[31m../Data/Day2-Collections-and-Files/Roster/Victoria_Powell_725.txt\u001b[m\u001b[m*\r\n",
      "\u001b[31m../Data/Day2-Collections-and-Files/Roster/Victoria_Rivera_574.txt\u001b[m\u001b[m*\r\n",
      "\u001b[31m../Data/Day2-Collections-and-Files/Roster/Victoria_Roberts_616.txt\u001b[m\u001b[m*\r\n",
      "\u001b[31m../Data/Day2-Collections-and-Files/Roster/Victoria_Rodriguez_525.txt\u001b[m\u001b[m*\r\n",
      "\u001b[31m../Data/Day2-Collections-and-Files/Roster/Victoria_Ross_528.txt\u001b[m\u001b[m*\r\n",
      "\u001b[31m../Data/Day2-Collections-and-Files/Roster/Victoria_Ross_732.txt\u001b[m\u001b[m*\r\n",
      "\u001b[31m../Data/Day2-Collections-and-Files/Roster/Victoria_Russell_72.txt\u001b[m\u001b[m*\r\n",
      "\u001b[31m../Data/Day2-Collections-and-Files/Roster/Victoria_Scoot_737.txt\u001b[m\u001b[m*\r\n",
      "\u001b[31m../Data/Day2-Collections-and-Files/Roster/Victoria_Simmons_580.txt\u001b[m\u001b[m*\r\n",
      "\u001b[31m../Data/Day2-Collections-and-Files/Roster/Victoria_Stewart_154.txt\u001b[m\u001b[m*\r\n",
      "\u001b[31m../Data/Day2-Collections-and-Files/Roster/Victoria_Torres_523.txt\u001b[m\u001b[m*\r\n",
      "\u001b[31m../Data/Day2-Collections-and-Files/Roster/Victoria_Walker_443.txt\u001b[m\u001b[m*\r\n",
      "\u001b[31m../Data/Day2-Collections-and-Files/Roster/Victoria_Watson_315.txt\u001b[m\u001b[m*\r\n",
      "\u001b[31m../Data/Day2-Collections-and-Files/Roster/Victoria_White_21.txt\u001b[m\u001b[m*\r\n",
      "\u001b[31m../Data/Day2-Collections-and-Files/Roster/Victoria_Wright_519.txt\u001b[m\u001b[m*\r\n",
      "\u001b[31m../Data/Day2-Collections-and-Files/Roster/Wallace_Anderson_147.txt\u001b[m\u001b[m*\r\n",
      "\u001b[31m../Data/Day2-Collections-and-Files/Roster/Wallace_Bailey_492.txt\u001b[m\u001b[m*\r\n",
      "\u001b[31m../Data/Day2-Collections-and-Files/Roster/Wallace_Baker_94.txt\u001b[m\u001b[m*\r\n",
      "\u001b[31m../Data/Day2-Collections-and-Files/Roster/Wallace_Brooks_649.txt\u001b[m\u001b[m*\r\n",
      "\u001b[31m../Data/Day2-Collections-and-Files/Roster/Wallace_Carter_557.txt\u001b[m\u001b[m*\r\n",
      "\u001b[31m../Data/Day2-Collections-and-Files/Roster/Wallace_Cox_129.txt\u001b[m\u001b[m*\r\n",
      "\u001b[31m../Data/Day2-Collections-and-Files/Roster/Wallace_Cox_356.txt\u001b[m\u001b[m*\r\n",
      "\u001b[31m../Data/Day2-Collections-and-Files/Roster/Wallace_Cox_588.txt\u001b[m\u001b[m*\r\n",
      "\u001b[31m../Data/Day2-Collections-and-Files/Roster/Wallace_Davis_544.txt\u001b[m\u001b[m*\r\n",
      "\u001b[31m../Data/Day2-Collections-and-Files/Roster/Wallace_Evans_314.txt\u001b[m\u001b[m*\r\n",
      "\u001b[31m../Data/Day2-Collections-and-Files/Roster/Wallace_Evans_653.txt\u001b[m\u001b[m*\r\n",
      "\u001b[31m../Data/Day2-Collections-and-Files/Roster/Wallace_Flores_551.txt\u001b[m\u001b[m*\r\n",
      "\u001b[31m../Data/Day2-Collections-and-Files/Roster/Wallace_Flores_692.txt\u001b[m\u001b[m*\r\n",
      "\u001b[31m../Data/Day2-Collections-and-Files/Roster/Wallace_Gray_790.txt\u001b[m\u001b[m*\r\n",
      "\u001b[31m../Data/Day2-Collections-and-Files/Roster/Wallace_Green_100.txt\u001b[m\u001b[m*\r\n",
      "\u001b[31m../Data/Day2-Collections-and-Files/Roster/Wallace_Green_258.txt\u001b[m\u001b[m*\r\n",
      "\u001b[31m../Data/Day2-Collections-and-Files/Roster/Wallace_Henderson_403.txt\u001b[m\u001b[m*\r\n",
      "\u001b[31m../Data/Day2-Collections-and-Files/Roster/Wallace_James_554.txt\u001b[m\u001b[m*\r\n",
      "\u001b[31m../Data/Day2-Collections-and-Files/Roster/Wallace_Long_378.txt\u001b[m\u001b[m*\r\n",
      "\u001b[31m../Data/Day2-Collections-and-Files/Roster/Wallace_Moore_355.txt\u001b[m\u001b[m*\r\n",
      "\u001b[31m../Data/Day2-Collections-and-Files/Roster/Wallace_Morgan_104.txt\u001b[m\u001b[m*\r\n",
      "\u001b[31m../Data/Day2-Collections-and-Files/Roster/Wallace_Morgan_517.txt\u001b[m\u001b[m*\r\n",
      "\u001b[31m../Data/Day2-Collections-and-Files/Roster/Wallace_Morris_264.txt\u001b[m\u001b[m*\r\n",
      "\u001b[31m../Data/Day2-Collections-and-Files/Roster/Wallace_Nelson_553.txt\u001b[m\u001b[m*\r\n",
      "\u001b[31m../Data/Day2-Collections-and-Files/Roster/Wallace_Perez_491.txt\u001b[m\u001b[m*\r\n",
      "\u001b[31m../Data/Day2-Collections-and-Files/Roster/Wallace_Perry_760.txt\u001b[m\u001b[m*\r\n",
      "\u001b[31m../Data/Day2-Collections-and-Files/Roster/Wallace_Peterson_766.txt\u001b[m\u001b[m*\r\n",
      "\u001b[31m../Data/Day2-Collections-and-Files/Roster/Wallace_Ramirez_648.txt\u001b[m\u001b[m*\r\n",
      "\u001b[31m../Data/Day2-Collections-and-Files/Roster/Wallace_Ramirez_685.txt\u001b[m\u001b[m*\r\n",
      "\u001b[31m../Data/Day2-Collections-and-Files/Roster/Wallace_Simmons_270.txt\u001b[m\u001b[m*\r\n",
      "\u001b[31m../Data/Day2-Collections-and-Files/Roster/Wallace_Stewart_489.txt\u001b[m\u001b[m*\r\n",
      "\u001b[31m../Data/Day2-Collections-and-Files/Roster/Wallace_Stewart_52.txt\u001b[m\u001b[m*\r\n",
      "\u001b[31m../Data/Day2-Collections-and-Files/Roster/Wallace_Taylor_475.txt\u001b[m\u001b[m*\r\n",
      "\u001b[31m../Data/Day2-Collections-and-Files/Roster/Wallace_Turner_459.txt\u001b[m\u001b[m*\r\n",
      "\u001b[31m../Data/Day2-Collections-and-Files/Roster/Wallace_Watson_287.txt\u001b[m\u001b[m*\r\n",
      "\u001b[31m../Data/Day2-Collections-and-Files/Roster/Wallace_Watson_394.txt\u001b[m\u001b[m*\r\n",
      "\u001b[31m../Data/Day2-Collections-and-Files/Roster/Wallace_White_252.txt\u001b[m\u001b[m*\r\n",
      "\u001b[31m../Data/Day2-Collections-and-Files/Roster/Wallace_White_507.txt\u001b[m\u001b[m*\r\n",
      "\u001b[31m../Data/Day2-Collections-and-Files/Roster/Wallace_Young_430.txt\u001b[m\u001b[m*\r\n",
      "\u001b[31m../Data/Day2-Collections-and-Files/Roster/Yvonne_Adams_571.txt\u001b[m\u001b[m*\r\n",
      "\u001b[31m../Data/Day2-Collections-and-Files/Roster/Yvonne_Allen_687.txt\u001b[m\u001b[m*\r\n",
      "\u001b[31m../Data/Day2-Collections-and-Files/Roster/Yvonne_Bailey_373.txt\u001b[m\u001b[m*\r\n",
      "\u001b[31m../Data/Day2-Collections-and-Files/Roster/Yvonne_Bailey_655.txt\u001b[m\u001b[m*\r\n",
      "\u001b[31m../Data/Day2-Collections-and-Files/Roster/Yvonne_Bell_95.txt\u001b[m\u001b[m*\r\n",
      "\u001b[31m../Data/Day2-Collections-and-Files/Roster/Yvonne_Bennett_108.txt\u001b[m\u001b[m*\r\n",
      "\u001b[31m../Data/Day2-Collections-and-Files/Roster/Yvonne_Brooks_244.txt\u001b[m\u001b[m*\r\n",
      "\u001b[31m../Data/Day2-Collections-and-Files/Roster/Yvonne_Brooks_269.txt\u001b[m\u001b[m*\r\n",
      "\u001b[31m../Data/Day2-Collections-and-Files/Roster/Yvonne_Bryant_305.txt\u001b[m\u001b[m*\r\n",
      "\u001b[31m../Data/Day2-Collections-and-Files/Roster/Yvonne_Butler_729.txt\u001b[m\u001b[m*\r\n",
      "\u001b[31m../Data/Day2-Collections-and-Files/Roster/Yvonne_Carter_251.txt\u001b[m\u001b[m*\r\n",
      "\u001b[31m../Data/Day2-Collections-and-Files/Roster/Yvonne_Cook_548.txt\u001b[m\u001b[m*\r\n",
      "\u001b[31m../Data/Day2-Collections-and-Files/Roster/Yvonne_Cooper_106.txt\u001b[m\u001b[m*\r\n",
      "\u001b[31m../Data/Day2-Collections-and-Files/Roster/Yvonne_Garcia_645.txt\u001b[m\u001b[m*\r\n",
      "\u001b[31m../Data/Day2-Collections-and-Files/Roster/Yvonne_Garcia_659.txt\u001b[m\u001b[m*\r\n",
      "\u001b[31m../Data/Day2-Collections-and-Files/Roster/Yvonne_Hall_415.txt\u001b[m\u001b[m*\r\n",
      "\u001b[31m../Data/Day2-Collections-and-Files/Roster/Yvonne_Hayes_142.txt\u001b[m\u001b[m*\r\n",
      "\u001b[31m../Data/Day2-Collections-and-Files/Roster/Yvonne_Hernandez_612.txt\u001b[m\u001b[m*\r\n",
      "\u001b[31m../Data/Day2-Collections-and-Files/Roster/Yvonne_Hughes_267.txt\u001b[m\u001b[m*\r\n",
      "\u001b[31m../Data/Day2-Collections-and-Files/Roster/Yvonne_Jones_365.txt\u001b[m\u001b[m*\r\n",
      "\u001b[31m../Data/Day2-Collections-and-Files/Roster/Yvonne_Jones_607.txt\u001b[m\u001b[m*\r\n",
      "\u001b[31m../Data/Day2-Collections-and-Files/Roster/Yvonne_Long_706.txt\u001b[m\u001b[m*\r\n",
      "\u001b[31m../Data/Day2-Collections-and-Files/Roster/Yvonne_Lopez_324.txt\u001b[m\u001b[m*\r\n",
      "\u001b[31m../Data/Day2-Collections-and-Files/Roster/Yvonne_Miller_693.txt\u001b[m\u001b[m*\r\n",
      "\u001b[31m../Data/Day2-Collections-and-Files/Roster/Yvonne_Nelson_246.txt\u001b[m\u001b[m*\r\n",
      "\u001b[31m../Data/Day2-Collections-and-Files/Roster/Yvonne_Nelson_734.txt\u001b[m\u001b[m*\r\n",
      "\u001b[31m../Data/Day2-Collections-and-Files/Roster/Yvonne_Perry_282.txt\u001b[m\u001b[m*\r\n",
      "\u001b[31m../Data/Day2-Collections-and-Files/Roster/Yvonne_Peterson_56.txt\u001b[m\u001b[m*\r\n",
      "\u001b[31m../Data/Day2-Collections-and-Files/Roster/Yvonne_Phillips_602.txt\u001b[m\u001b[m*\r\n",
      "\u001b[31m../Data/Day2-Collections-and-Files/Roster/Yvonne_Reed_674.txt\u001b[m\u001b[m*\r\n",
      "\u001b[31m../Data/Day2-Collections-and-Files/Roster/Yvonne_Richardson_439.txt\u001b[m\u001b[m*\r\n",
      "\u001b[31m../Data/Day2-Collections-and-Files/Roster/Yvonne_Rivera_389.txt\u001b[m\u001b[m*\r\n",
      "\u001b[31m../Data/Day2-Collections-and-Files/Roster/Yvonne_Roberts_722.txt\u001b[m\u001b[m*\r\n",
      "\u001b[31m../Data/Day2-Collections-and-Files/Roster/Yvonne_Rodriguez_746.txt\u001b[m\u001b[m*\r\n",
      "\u001b[31m../Data/Day2-Collections-and-Files/Roster/Yvonne_Rogers_216.txt\u001b[m\u001b[m*\r\n",
      "\u001b[31m../Data/Day2-Collections-and-Files/Roster/Yvonne_Stewart_426.txt\u001b[m\u001b[m*\r\n",
      "\u001b[31m../Data/Day2-Collections-and-Files/Roster/Yvonne_Thomas_262.txt\u001b[m\u001b[m*\r\n",
      "\u001b[31m../Data/Day2-Collections-and-Files/Roster/Yvonne_Wright_47.txt\u001b[m\u001b[m*\r\n",
      "\u001b[31m../Data/Day2-Collections-and-Files/Roster/Zelda_Alexander_799.txt\u001b[m\u001b[m*\r\n",
      "\u001b[31m../Data/Day2-Collections-and-Files/Roster/Zelda_Allen_769.txt\u001b[m\u001b[m*\r\n",
      "\u001b[31m../Data/Day2-Collections-and-Files/Roster/Zelda_Baker_206.txt\u001b[m\u001b[m*\r\n",
      "\u001b[31m../Data/Day2-Collections-and-Files/Roster/Zelda_Brooks_229.txt\u001b[m\u001b[m*\r\n",
      "\u001b[31m../Data/Day2-Collections-and-Files/Roster/Zelda_Brooks_323.txt\u001b[m\u001b[m*\r\n",
      "\u001b[31m../Data/Day2-Collections-and-Files/Roster/Zelda_Brown_609.txt\u001b[m\u001b[m*\r\n",
      "\u001b[31m../Data/Day2-Collections-and-Files/Roster/Zelda_Clark_240.txt\u001b[m\u001b[m*\r\n",
      "\u001b[31m../Data/Day2-Collections-and-Files/Roster/Zelda_Collins_39.txt\u001b[m\u001b[m*\r\n",
      "\u001b[31m../Data/Day2-Collections-and-Files/Roster/Zelda_Cook_701.txt\u001b[m\u001b[m*\r\n",
      "\u001b[31m../Data/Day2-Collections-and-Files/Roster/Zelda_Davis_13.txt\u001b[m\u001b[m*\r\n",
      "\u001b[31m../Data/Day2-Collections-and-Files/Roster/Zelda_Davis_611.txt\u001b[m\u001b[m*\r\n",
      "\u001b[31m../Data/Day2-Collections-and-Files/Roster/Zelda_Diaz_37.txt\u001b[m\u001b[m*\r\n",
      "\u001b[31m../Data/Day2-Collections-and-Files/Roster/Zelda_Diaz_87.txt\u001b[m\u001b[m*\r\n",
      "\u001b[31m../Data/Day2-Collections-and-Files/Roster/Zelda_Evans_640.txt\u001b[m\u001b[m*\r\n",
      "\u001b[31m../Data/Day2-Collections-and-Files/Roster/Zelda_Gray_112.txt\u001b[m\u001b[m*\r\n",
      "\u001b[31m../Data/Day2-Collections-and-Files/Roster/Zelda_Gray_260.txt\u001b[m\u001b[m*\r\n",
      "\u001b[31m../Data/Day2-Collections-and-Files/Roster/Zelda_Hughes_455.txt\u001b[m\u001b[m*\r\n",
      "\u001b[31m../Data/Day2-Collections-and-Files/Roster/Zelda_Jackson_682.txt\u001b[m\u001b[m*\r\n",
      "\u001b[31m../Data/Day2-Collections-and-Files/Roster/Zelda_James_43.txt\u001b[m\u001b[m*\r\n",
      "\u001b[31m../Data/Day2-Collections-and-Files/Roster/Zelda_Jenkins_569.txt\u001b[m\u001b[m*\r\n",
      "\u001b[31m../Data/Day2-Collections-and-Files/Roster/Zelda_Jones_714.txt\u001b[m\u001b[m*\r\n",
      "\u001b[31m../Data/Day2-Collections-and-Files/Roster/Zelda_Kelly_220.txt\u001b[m\u001b[m*\r\n",
      "\u001b[31m../Data/Day2-Collections-and-Files/Roster/Zelda_Long_744.txt\u001b[m\u001b[m*\r\n",
      "\u001b[31m../Data/Day2-Collections-and-Files/Roster/Zelda_Mitchell_592.txt\u001b[m\u001b[m*\r\n",
      "\u001b[31m../Data/Day2-Collections-and-Files/Roster/Zelda_Nelson_249.txt\u001b[m\u001b[m*\r\n",
      "\u001b[31m../Data/Day2-Collections-and-Files/Roster/Zelda_Nelson_63.txt\u001b[m\u001b[m*\r\n",
      "\u001b[31m../Data/Day2-Collections-and-Files/Roster/Zelda_Perry_672.txt\u001b[m\u001b[m*\r\n",
      "\u001b[31m../Data/Day2-Collections-and-Files/Roster/Zelda_Perry_781.txt\u001b[m\u001b[m*\r\n",
      "\u001b[31m../Data/Day2-Collections-and-Files/Roster/Zelda_Reed_66.txt\u001b[m\u001b[m*\r\n",
      "\u001b[31m../Data/Day2-Collections-and-Files/Roster/Zelda_Rivera_535.txt\u001b[m\u001b[m*\r\n",
      "\u001b[31m../Data/Day2-Collections-and-Files/Roster/Zelda_Roberts_134.txt\u001b[m\u001b[m*\r\n",
      "\u001b[31m../Data/Day2-Collections-and-Files/Roster/Zelda_Russell_567.txt\u001b[m\u001b[m*\r\n",
      "\u001b[31m../Data/Day2-Collections-and-Files/Roster/Zelda_Sanchez_558.txt\u001b[m\u001b[m*\r\n",
      "\u001b[31m../Data/Day2-Collections-and-Files/Roster/Zelda_Sanchez_690.txt\u001b[m\u001b[m*\r\n",
      "\u001b[31m../Data/Day2-Collections-and-Files/Roster/Zelda_Simmons_379.txt\u001b[m\u001b[m*\r\n",
      "\u001b[31m../Data/Day2-Collections-and-Files/Roster/Zelda_Simmons_778.txt\u001b[m\u001b[m*\r\n",
      "\u001b[31m../Data/Day2-Collections-and-Files/Roster/Zelda_Smith_85.txt\u001b[m\u001b[m*\r\n",
      "\u001b[31m../Data/Day2-Collections-and-Files/Roster/Zelda_Thomas_117.txt\u001b[m\u001b[m*\r\n",
      "\u001b[31m../Data/Day2-Collections-and-Files/Roster/Zelda_Thomas_199.txt\u001b[m\u001b[m*\r\n",
      "\u001b[31m../Data/Day2-Collections-and-Files/Roster/Zelda_Thomas_331.txt\u001b[m\u001b[m*\r\n",
      "\u001b[31m../Data/Day2-Collections-and-Files/Roster/Zelda_Thompson_103.txt\u001b[m\u001b[m*\r\n",
      "\u001b[31m../Data/Day2-Collections-and-Files/Roster/Zelda_Thompson_224.txt\u001b[m\u001b[m*\r\n",
      "\u001b[31m../Data/Day2-Collections-and-Files/Roster/Zelda_Torres_299.txt\u001b[m\u001b[m*\r\n",
      "\u001b[31m../Data/Day2-Collections-and-Files/Roster/Zelda_Watson_434.txt\u001b[m\u001b[m*\r\n",
      "\u001b[31m../Data/Day2-Collections-and-Files/Roster/Zelda_Wright_188.txt\u001b[m\u001b[m*\r\n",
      "\u001b[31m../Data/Day2-Collections-and-Files/Roster/Zelda_Wright_636.txt\u001b[m\u001b[m*\r\n",
      "\u001b[31m../Data/Day2-Collections-and-Files/Roster/Zelda_williams_280.txt\u001b[m\u001b[m*\r\n"
     ]
    }
   ],
   "source": [
    "ls ../Data/Day2-Collections-and-Files/Roster/*"
   ]
  },
  {
   "cell_type": "markdown",
   "metadata": {},
   "source": [
    "# Now for reading files\n",
    "\n",
    "Inside the `Data/Day2-Collections-and-Files/` folder we have another folder labelled `Roster/`. The `Roster` file is full of lots of small `.txt` files (just raw text). Each file looks something like this:\n",
    "\n",
    "    #This is a file that holds important personal information that should not be shared. You are being watched.\n",
    "\n",
    "    Name:\tAgatha A. Bailey\n",
    "    Date of Birth:\t1/10/75\n",
    "    Email Address:\tagatha.bailey@northwestern.edu\n",
    "    Department:\tEngineering\n",
    "    Height:\t6ft,0in\n",
    "    Weight:\t220lbs\n",
    "    Favorite Color:\tLime\n",
    "    Favorite Animal:\tTurtle\n",
    "    Zodiac Sign:\tJanuary\n",
    "    \n",
    "You have all of these files because you just got a new job as an administrator in a department at Northwestern University. Congratulations!\n",
    "\n",
    "Since you're the new administrator you want to calculate some basic properties of the student body population.\n",
    "\n",
    "When we work with **any** new data the first step is to **look** at it. Print parts of it. Make sure that you're familiar with all the data types before thinking about doing any real calculations with it.\n",
    "\n",
    "Now-how are we going to process this information? Especially because everything will be coming in as a string???"
   ]
  },
  {
   "cell_type": "markdown",
   "metadata": {},
   "source": [
    "# Thinking algorithmically\n",
    "\n",
    "Human brains are great at reducing the complexity of problems so that the answers seem obvious. \n",
    "If I tell you my birthday and ask you to tell me how old I am, most of you can give me an answer in\n",
    "almost no time, but making your thought process explicit can be difficult. \n",
    "\n",
    "To do any programming \n",
    "or data analysis, perhaps the most important thing that you need to learn is how to break down a problem (that might seem really simple for you to do in your head) into tiny little steps such that \n",
    "you can teach a computer how to do it.\n",
    "\n",
    "Let's start with an exercise, how old am I?"
   ]
  },
  {
   "cell_type": "code",
   "execution_count": 11,
   "metadata": {
    "ExecuteTime": {
     "end_time": "2019-06-23T21:15:02.809259Z",
     "start_time": "2019-06-23T21:15:02.803883Z"
    }
   },
   "outputs": [],
   "source": [
    "### Here is my information\n",
    "birth_month = 2\n",
    "birth_day = 25\n",
    "birth_year = 1984\n",
    "\n",
    "current_month = 9\n",
    "current_day = 9\n",
    "current_year = 2015"
   ]
  },
  {
   "cell_type": "code",
   "execution_count": 12,
   "metadata": {
    "ExecuteTime": {
     "end_time": "2019-06-23T21:15:03.766936Z",
     "start_time": "2019-06-23T21:15:03.764020Z"
    }
   },
   "outputs": [],
   "source": [
    "##Place your code here to calculate the birthday\n",
    "\n",
    "##How old am I?\n",
    "# print(age)"
   ]
  },
  {
   "cell_type": "markdown",
   "metadata": {},
   "source": [
    "So now we see how have to break down all of these problems.\n",
    "\n",
    "Let's move onto actually reading a file."
   ]
  },
  {
   "cell_type": "code",
   "execution_count": 13,
   "metadata": {
    "ExecuteTime": {
     "end_time": "2019-06-23T21:15:05.297554Z",
     "start_time": "2019-06-23T21:15:05.290836Z"
    }
   },
   "outputs": [
    {
     "data": {
      "text/plain": [
       "<_io.TextIOWrapper name='../Data/Day2-Collections-and-Files/Roster/Agatha_Bailey_798.txt' mode='r' encoding='UTF-8'>"
      ]
     },
     "execution_count": 13,
     "metadata": {},
     "output_type": "execute_result"
    }
   ],
   "source": [
    "myFile = open('../Data/Day2-Collections-and-Files/Roster/Agatha_Bailey_798.txt', 'r')\n",
    "myFile"
   ]
  },
  {
   "cell_type": "code",
   "execution_count": 14,
   "metadata": {
    "ExecuteTime": {
     "end_time": "2019-06-23T21:15:05.714891Z",
     "start_time": "2019-06-23T21:15:05.707013Z"
    }
   },
   "outputs": [
    {
     "data": {
      "text/plain": [
       "'#This is a file that holds important personal information that should not be shared. You are being watched.\\n\\n\\n\\nName:\\tAgatha A. Bailey\\nDate of Birth:\\t1/10/75\\nEmail Address:\\tagatha.bailey@northwestern.edu\\nDepartment:\\tEngineering\\nHeight:\\t6ft,0in\\nWeight:\\t220lbs\\nFavorite Color:\\tLime\\nFavorite Animal:\\tTurtle\\nZodiac Sign:\\tJanuary\\n'"
      ]
     },
     "execution_count": 14,
     "metadata": {},
     "output_type": "execute_result"
    }
   ],
   "source": [
    "myFile = open('../Data/Day2-Collections-and-Files/Roster/Agatha_Bailey_798.txt', 'r')\n",
    "Agatha = myFile.read()\n",
    "Agatha"
   ]
  },
  {
   "cell_type": "code",
   "execution_count": 15,
   "metadata": {
    "ExecuteTime": {
     "end_time": "2019-06-23T21:15:06.149442Z",
     "start_time": "2019-06-23T21:15:06.143996Z"
    }
   },
   "outputs": [
    {
     "name": "stdout",
     "output_type": "stream",
     "text": [
      "['#This is a file that holds important personal information that should not be shared. You are being watched.\\n', '\\n', '\\n', '\\n', 'Name:\\tAgatha A. Bailey\\n', 'Date of Birth:\\t1/10/75\\n', 'Email Address:\\tagatha.bailey@northwestern.edu\\n', 'Department:\\tEngineering\\n', 'Height:\\t6ft,0in\\n', 'Weight:\\t220lbs\\n', 'Favorite Color:\\tLime\\n', 'Favorite Animal:\\tTurtle\\n', 'Zodiac Sign:\\tJanuary\\n']\n"
     ]
    }
   ],
   "source": [
    "myFile = open('../Data/Day2-Collections-and-Files/Roster/Agatha_Bailey_798.txt', 'r')\n",
    "Agatha = myFile.readlines()\n",
    "print(Agatha)"
   ]
  },
  {
   "cell_type": "code",
   "execution_count": 16,
   "metadata": {
    "ExecuteTime": {
     "end_time": "2019-06-23T21:15:06.829805Z",
     "start_time": "2019-06-23T21:15:06.822014Z"
    }
   },
   "outputs": [
    {
     "name": "stdout",
     "output_type": "stream",
     "text": [
      "<class 'list'>\n",
      "13\n",
      "<class 'str'>\n",
      "108\n",
      "#This is a file that holds important personal information that should not be shared. You are being watched.\n",
      "\n"
     ]
    }
   ],
   "source": [
    "print( type(Agatha) )\n",
    "print( len(Agatha) )\n",
    "print( type(Agatha[0]) )\n",
    "print( len(Agatha[0]) )\n",
    "print( Agatha[0] )"
   ]
  },
  {
   "cell_type": "markdown",
   "metadata": {},
   "source": [
    "# That's it! \n",
    "\n",
    "# You read a file and it is now a data type we understand!\n",
    "\n",
    "But let's see if you can tell me how old Agatha is, first we'll need to go from a line in that file to the variables that we used above to calculate someone's age"
   ]
  },
  {
   "cell_type": "code",
   "execution_count": 17,
   "metadata": {
    "ExecuteTime": {
     "end_time": "2019-06-23T21:15:07.847866Z",
     "start_time": "2019-06-23T21:15:07.842810Z"
    }
   },
   "outputs": [
    {
     "name": "stdout",
     "output_type": "stream",
     "text": [
      "Name:\tAgatha A. Bailey\n",
      "\n"
     ]
    }
   ],
   "source": [
    "for line in Agatha:\n",
    "    if 'Name' in line:\n",
    "        print(line)\n",
    "#         birthday_line = line\n",
    "# print(birthday_line)"
   ]
  },
  {
   "cell_type": "markdown",
   "metadata": {},
   "source": [
    "# A refresher on manipulating strings"
   ]
  },
  {
   "cell_type": "code",
   "execution_count": 18,
   "metadata": {
    "ExecuteTime": {
     "end_time": "2019-06-23T21:15:08.767186Z",
     "start_time": "2019-06-23T21:15:08.758833Z"
    }
   },
   "outputs": [],
   "source": [
    "temporary_line = 'Adam,Hockenberry,02-25-1984\\n'"
   ]
  },
  {
   "cell_type": "code",
   "execution_count": 19,
   "metadata": {
    "ExecuteTime": {
     "end_time": "2019-06-23T21:15:09.176332Z",
     "start_time": "2019-06-23T21:15:09.172726Z"
    }
   },
   "outputs": [
    {
     "name": "stdout",
     "output_type": "stream",
     "text": [
      "Adam,Hockenberry,02-25-1984\n",
      "\n"
     ]
    }
   ],
   "source": [
    "print(temporary_line)"
   ]
  },
  {
   "cell_type": "code",
   "execution_count": 20,
   "metadata": {
    "ExecuteTime": {
     "end_time": "2019-06-23T21:15:09.624711Z",
     "start_time": "2019-06-23T21:15:09.620484Z"
    }
   },
   "outputs": [
    {
     "name": "stdout",
     "output_type": "stream",
     "text": [
      "Adam,Hockenberry,02-25-1984\n"
     ]
    }
   ],
   "source": [
    "print(temporary_line.strip('\\n'))"
   ]
  },
  {
   "cell_type": "code",
   "execution_count": 21,
   "metadata": {
    "ExecuteTime": {
     "end_time": "2019-06-23T21:15:15.828599Z",
     "start_time": "2019-06-23T21:15:15.823975Z"
    }
   },
   "outputs": [
    {
     "name": "stdout",
     "output_type": "stream",
     "text": [
      "['Adam', 'Hockenberry', '02-25-1984\\n']\n"
     ]
    }
   ],
   "source": [
    "print(temporary_line.split(','))"
   ]
  },
  {
   "cell_type": "code",
   "execution_count": 22,
   "metadata": {
    "ExecuteTime": {
     "end_time": "2019-06-23T21:15:16.724056Z",
     "start_time": "2019-06-23T21:15:16.719531Z"
    }
   },
   "outputs": [
    {
     "name": "stdout",
     "output_type": "stream",
     "text": [
      "['Adam', 'Hockenberry', '02-25-1984']\n"
     ]
    }
   ],
   "source": [
    "print(temporary_line.strip('\\n').split(','))"
   ]
  },
  {
   "cell_type": "code",
   "execution_count": 23,
   "metadata": {
    "ExecuteTime": {
     "end_time": "2019-06-23T21:15:17.174185Z",
     "start_time": "2019-06-23T21:15:17.170332Z"
    }
   },
   "outputs": [
    {
     "name": "stdout",
     "output_type": "stream",
     "text": [
      "['Adam', 'Hockenberry', '02-25-1984']\n"
     ]
    }
   ],
   "source": [
    "line_as_list = temporary_line.strip('\\n').split(',')\n",
    "print(line_as_list)"
   ]
  },
  {
   "cell_type": "code",
   "execution_count": 24,
   "metadata": {
    "ExecuteTime": {
     "end_time": "2019-06-23T21:15:17.567741Z",
     "start_time": "2019-06-23T21:15:17.562393Z"
    }
   },
   "outputs": [
    {
     "name": "stdout",
     "output_type": "stream",
     "text": [
      "02-25-1984\n"
     ]
    }
   ],
   "source": [
    "DOB = line_as_list[2]\n",
    "print(DOB)"
   ]
  },
  {
   "cell_type": "code",
   "execution_count": 25,
   "metadata": {
    "ExecuteTime": {
     "end_time": "2019-06-23T21:15:18.155992Z",
     "start_time": "2019-06-23T21:15:18.151469Z"
    }
   },
   "outputs": [
    {
     "name": "stdout",
     "output_type": "stream",
     "text": [
      "02 25 1984\n"
     ]
    }
   ],
   "source": [
    "birth_day = DOB.split('-')[0]\n",
    "birth_month = DOB.split('-')[1]\n",
    "birth_year = DOB.split('-')[2]\n",
    "print(birth_day, birth_month, birth_year)"
   ]
  },
  {
   "cell_type": "markdown",
   "metadata": {},
   "source": [
    "# Back to Agatha..."
   ]
  },
  {
   "cell_type": "code",
   "execution_count": 26,
   "metadata": {
    "ExecuteTime": {
     "end_time": "2019-06-23T21:15:19.224183Z",
     "start_time": "2019-06-23T21:15:19.219353Z"
    }
   },
   "outputs": [
    {
     "name": "stdout",
     "output_type": "stream",
     "text": [
      "Date of Birth:\t1/10/75\n",
      "\n"
     ]
    }
   ],
   "source": [
    "for line in Agatha:\n",
    "    if 'Date of Birth' in line:\n",
    "        print(line)\n",
    "        birthday_line = line"
   ]
  },
  {
   "cell_type": "markdown",
   "metadata": {},
   "source": [
    "**Exercise:** apply the string manipulations that you just learned to get Agatha's birthday as variables that we can use"
   ]
  },
  {
   "cell_type": "code",
   "execution_count": 27,
   "metadata": {
    "ExecuteTime": {
     "end_time": "2019-06-23T21:15:20.150345Z",
     "start_time": "2019-06-23T21:15:20.147072Z"
    }
   },
   "outputs": [],
   "source": [
    "# birth_day = \n",
    "# birth_month = \n",
    "# birth_year = "
   ]
  },
  {
   "cell_type": "markdown",
   "metadata": {},
   "source": [
    "# We have all the parts but they're pretty scattered right now, let's put it all in one place:"
   ]
  },
  {
   "cell_type": "code",
   "execution_count": 28,
   "metadata": {
    "ExecuteTime": {
     "end_time": "2019-06-23T21:15:20.951702Z",
     "start_time": "2019-06-23T21:15:20.943473Z"
    }
   },
   "outputs": [
    {
     "name": "stdout",
     "output_type": "stream",
     "text": [
      "25 02 1984\n"
     ]
    },
    {
     "name": "stderr",
     "output_type": "stream",
     "text": [
      "/Users/lgaalves/miniconda3/lib/python3.6/site-packages/ipykernel_launcher.py:5: DeprecationWarning: 'U' mode is deprecated\n",
      "  \"\"\"\n"
     ]
    }
   ],
   "source": [
    "current_month = 9\n",
    "current_day = 9\n",
    "current_year = 2015\n",
    "\n",
    "myFile = open('../Data/Day2-Collections-and-Files/Roster/Agatha_Bailey_798.txt', 'rU')\n",
    "Agatha = myFile.readlines()\n",
    "for line in Agatha:\n",
    "    if 'Date of Birth' in line:\n",
    "        birthday_line = line\n",
    "###########################################################################\n",
    "###Paste your code to get birth_month, birth_day, and birth_year here!\n",
    "\n",
    "\n",
    "print(birth_month, birth_day, birth_year)\n",
    "\n",
    "###########################################################################\n",
    "#### Copy and paste the algorithm that you developed to calculate someones age here!\n",
    "\n",
    "        \n",
    "# print(age)"
   ]
  },
  {
   "cell_type": "markdown",
   "metadata": {},
   "source": [
    "# Writing files\n",
    "\n",
    "If you perform some calculation, there are a number of reasons why you should store these values somewhere. \n",
    "\n",
    "There are three primary ways to store data: raw text, comma separated values (csv), and json.\n",
    "\n",
    "Typically you would use raw text if you just have text (think like a story) or you want to have some thing like our roster files initially came in.\n",
    "\n",
    "A CSV file is still plain text, but it is formatted as if it were a spreadsheet. Typically we write a header at the top and every column is separated by a comma (that's where the name comes from). This way when we read it back in, we know to split each row whenever a comma appears. Make sure to not use commas in your values though!\n",
    "\n",
    "The last way is a JSON [(it's an acronym for something boring)](http://json.org/). JSON files let us store python dictionaries as text! When we read/write files it goes instantly from the raw text to a python dictionary.\n",
    "\n",
    "In this example we're going to make a file that contains the names of the Teaching Assistants and their ages. Since this is data where we might have more columns in the future what file type should we use?"
   ]
  },
  {
   "cell_type": "code",
   "execution_count": 29,
   "metadata": {
    "ExecuteTime": {
     "end_time": "2019-06-23T21:15:22.564333Z",
     "start_time": "2019-06-23T21:15:22.558802Z"
    }
   },
   "outputs": [],
   "source": [
    "### Here is a dictionary of TA's names/ages\n",
    "names = ['Adam H', 'Peter W', 'Joao M', 'Hyojun L']\n",
    "ages = [21, 31, 24, 19]\n",
    "# for x in zip(names, ages):\n",
    "#     print(x)"
   ]
  },
  {
   "cell_type": "code",
   "execution_count": 30,
   "metadata": {
    "ExecuteTime": {
     "end_time": "2019-06-23T21:15:23.142516Z",
     "start_time": "2019-06-23T21:15:23.138970Z"
    }
   },
   "outputs": [],
   "source": [
    "delimiter = ','\n",
    "\n",
    "# output_file = open('../Data/TA_ages.csv', 'w')\n",
    "\n",
    "####Here is yet another way that should also do the exact same thing\n",
    "# with open('../Data/TA_ages.csv', 'w') as output_file:\n",
    "#     for name, age in age_dictionary.items():\n",
    "#         output_file.write(name + delimiter + str(age) + '\\n')\n",
    "# output_file.close()\n",
    "    "
   ]
  },
  {
   "cell_type": "markdown",
   "metadata": {},
   "source": [
    "# What if we forgot someone?\n",
    "\n",
    "Take a deep breath. All is not yet lost.\n",
    "\n",
    "When opening files, we have used 'r' and 'w' for read and write but there is one more that I haven't told you about: 'a' for append."
   ]
  },
  {
   "cell_type": "code",
   "execution_count": 31,
   "metadata": {
    "ExecuteTime": {
     "end_time": "2019-06-23T21:15:24.480723Z",
     "start_time": "2019-06-23T21:15:24.470978Z"
    }
   },
   "outputs": [],
   "source": [
    "new_ages = [['Adam P', 38], ['Nick T', 28]]\n",
    "delimiter = ','\n",
    "\n",
    "output_file = open('../Data/Day2-Collections-and-Files/TA_ages.csv', 'a')\n",
    "for name, age in new_ages:\n",
    "    output_file.write(name + delimiter + str(age) + '\\n')    \n",
    "output_file.close()"
   ]
  },
  {
   "cell_type": "markdown",
   "metadata": {},
   "source": [
    "# Final exercise\n",
    "Let's read that same file again but instead of calculating Agatha's age, I'd like to know her height in centimeters (it's for a collaboration with europeans). When you're finished, please write her name and her height into a new file that looks like this (it will be pretty boring for now, with only two lines):\n",
    "\n",
    "    Name, Height (cm)\n",
    "    Agathas_full_name, Agathas_height\n",
    "    \n",
    "\n",
    "\n",
    "***If you get stuck, remember to break the problem down into small steps:***\n",
    "    \n",
    "    1) Read the file and find the lines that we care about:\n",
    "        a) name_line\n",
    "        b) height_line\n",
    "    2) Strip those lines apart so that we have three variables:\n",
    "        a) name\n",
    "        b) height_component_feet\n",
    "        c) height_component_inches\n",
    "    3) Get her height in inches:\n",
    "        a) total_height_inches\n",
    "    4) Then convert it into centimeters\n",
    "    5) Write everything into a new file"
   ]
  },
  {
   "cell_type": "code",
   "execution_count": 32,
   "metadata": {
    "ExecuteTime": {
     "end_time": "2019-06-23T21:15:25.315035Z",
     "start_time": "2019-06-23T21:15:25.312141Z"
    }
   },
   "outputs": [],
   "source": [
    "####Load this file\n",
    "input_file_name = '../Data/Day2-Collections-and-Files/Roster/Agatha_Bailey_798.txt'\n",
    "\n",
    "########################\n",
    "###Place your code here:\n",
    "\n",
    "\n",
    "###Write data into this file\n",
    "output_file_name = '../Data/Day2-Collections-and-Files/roster_heights.csv'"
   ]
  },
  {
   "cell_type": "code",
   "execution_count": null,
   "metadata": {},
   "outputs": [],
   "source": []
  },
  {
   "cell_type": "code",
   "execution_count": null,
   "metadata": {},
   "outputs": [],
   "source": []
  }
 ],
 "metadata": {
  "anaconda-cloud": {},
  "kernelspec": {
   "display_name": "Python 3",
   "language": "python",
   "name": "python3"
  },
  "language_info": {
   "codemirror_mode": {
    "name": "ipython",
    "version": 3
   },
   "file_extension": ".py",
   "mimetype": "text/x-python",
   "name": "python",
   "nbconvert_exporter": "python",
   "pygments_lexer": "ipython3",
   "version": "3.6.8"
  },
  "latex_envs": {
   "LaTeX_envs_menu_present": true,
   "autoclose": false,
   "autocomplete": true,
   "bibliofile": "biblio.bib",
   "cite_by": "apalike",
   "current_citInitial": 1,
   "eqLabelWithNumbers": true,
   "eqNumInitial": 1,
   "hotkeys": {
    "equation": "Ctrl-E",
    "itemize": "Ctrl-I"
   },
   "labels_anchors": false,
   "latex_user_defs": false,
   "report_style_numbering": false,
   "user_envs_cfg": false
  },
  "toc": {
   "nav_menu": {},
   "number_sections": true,
   "sideBar": true,
   "skip_h1_title": false,
   "title_cell": "Table of Contents",
   "title_sidebar": "Contents",
   "toc_cell": false,
   "toc_position": {},
   "toc_section_display": true,
   "toc_window_display": false
  }
 },
 "nbformat": 4,
 "nbformat_minor": 1
}
