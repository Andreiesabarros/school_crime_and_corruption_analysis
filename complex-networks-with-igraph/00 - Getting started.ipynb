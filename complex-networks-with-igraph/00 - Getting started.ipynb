{
 "cells": [
  {
   "cell_type": "markdown",
   "metadata": {},
   "source": [
    "# Getting started"
   ]
  },
  {
   "cell_type": "markdown",
   "metadata": {},
   "source": [
    "The package we will use for our network analysis is `igraph`. There are also other packages out there for Python, such as `networkx` or `graphtool`, but we will not use them during this course. First, we will load all required packages."
   ]
  },
  {
   "cell_type": "code",
   "execution_count": 1,
   "metadata": {
    "ExecuteTime": {
     "end_time": "2019-07-05T14:08:03.525416Z",
     "start_time": "2019-07-05T14:07:59.315795Z"
    }
   },
   "outputs": [],
   "source": [
    "# Networks\n",
    "import igraph as ig\n",
    "import leidenalg\n",
    "\n",
    "# Computation\n",
    "import numpy as np\n",
    "np.random.seed(0)\n",
    "import scipy\n",
    "import random\n",
    "random.seed(0)\n",
    "\n",
    "# Data\n",
    "import pandas as pd\n",
    "\n",
    "# Plotting\n",
    "import seaborn as sns\n",
    "import matplotlib.pyplot as plt\n",
    "%matplotlib inline"
   ]
  },
  {
   "cell_type": "markdown",
   "metadata": {},
   "source": [
    "Note that at any time, you can get some information by pressing Shift-Tab when your cursor is on some function, and simply Tab to autocomplete some value."
   ]
  },
  {
   "cell_type": "markdown",
   "metadata": {},
   "source": [
    "We can create a graph ourselves, adding vertices and edges as we go."
   ]
  },
  {
   "cell_type": "code",
   "execution_count": 6,
   "metadata": {
    "ExecuteTime": {
     "end_time": "2019-07-05T14:09:05.229147Z",
     "start_time": "2019-07-05T14:09:05.224196Z"
    }
   },
   "outputs": [],
   "source": [
    "G = ig.Graph(directed=False)\n",
    "G.add_vertices(n=4)\n",
    "G.add_edges([(0, 1),\n",
    "             (0, 2),\n",
    "             (0, 3),\n",
    "             (1, 2),\n",
    "             (1, 3),\n",
    "             (2, 3)])"
   ]
  },
  {
   "cell_type": "markdown",
   "metadata": {},
   "source": [
    "We can get a summary of the graph, providing some basic information on the graph"
   ]
  },
  {
   "cell_type": "code",
   "execution_count": 7,
   "metadata": {
    "ExecuteTime": {
     "end_time": "2019-07-05T14:09:13.372014Z",
     "start_time": "2019-07-05T14:09:13.363918Z"
    }
   },
   "outputs": [
    {
     "data": {
      "text/plain": [
       "'IGRAPH U--- 4 6 -- '"
      ]
     },
     "execution_count": 7,
     "metadata": {},
     "output_type": "execute_result"
    }
   ],
   "source": [
    "G.summary()"
   ]
  },
  {
   "cell_type": "markdown",
   "metadata": {},
   "source": [
    "The result indicates this graph is undirected (indicated by the `U`) has 4 nodes and 6 edges. The information on the number of nodes and edges can also be obtained using functions."
   ]
  },
  {
   "cell_type": "code",
   "execution_count": 8,
   "metadata": {
    "ExecuteTime": {
     "end_time": "2019-07-05T14:09:46.152855Z",
     "start_time": "2019-07-05T14:09:46.147299Z"
    }
   },
   "outputs": [
    {
     "name": "stdout",
     "output_type": "stream",
     "text": [
      "4 nodes, 6 edges\n"
     ]
    }
   ],
   "source": [
    "n = G.vcount()\n",
    "m = G.ecount()\n",
    "print('{0} nodes, {1} edges'.format(n, m))"
   ]
  },
  {
   "cell_type": "markdown",
   "metadata": {},
   "source": [
    "In the remainder of this exercise, we will work with various networks, that need to be downloaded. There is one exception, a network that has become so famous that it is built in `igraph`: the karate club network constructed by [Zachary (1977)](https://www.jstor.org/stable/3629752?seq=1#page_scan_tab_contents)."
   ]
  },
  {
   "cell_type": "code",
   "execution_count": 9,
   "metadata": {
    "ExecuteTime": {
     "end_time": "2019-07-05T14:09:51.979710Z",
     "start_time": "2019-07-05T14:09:51.975051Z"
    }
   },
   "outputs": [],
   "source": [
    "G = ig.Graph.Famous('Zachary')"
   ]
  },
  {
   "cell_type": "markdown",
   "metadata": {},
   "source": [
    "You can plot the graph easily"
   ]
  },
  {
   "cell_type": "code",
   "execution_count": 11,
   "metadata": {
    "ExecuteTime": {
     "end_time": "2019-07-05T14:11:00.286932Z",
     "start_time": "2019-07-05T14:11:00.272635Z"
    }
   },
   "outputs": [
    {
     "data": {
      "image/svg+xml": [
       "<?xml version=\"1.0\" encoding=\"UTF-8\"?>\n",
       "<svg xmlns=\"http://www.w3.org/2000/svg\" xmlns:xlink=\"http://www.w3.org/1999/xlink\" width=\"600pt\" height=\"600pt\" viewBox=\"0 0 600 600\" version=\"1.1\">\n",
       "<g id=\"surface8\">\n",
       "<rect x=\"0\" y=\"0\" width=\"600\" height=\"600\" style=\"fill:rgb(100%,100%,100%);fill-opacity:1;stroke:none;\"/>\n",
       "<path style=\"fill:none;stroke-width:1;stroke-linecap:butt;stroke-linejoin:miter;stroke:rgb(74.509804%,74.509804%,74.509804%);stroke-opacity:1;stroke-miterlimit:10;\" d=\"M 362.378906 394.390625 L 486.855469 323.328125 \"/>\n",
       "<path style=\"fill:none;stroke-width:1;stroke-linecap:butt;stroke-linejoin:miter;stroke:rgb(74.509804%,74.509804%,74.509804%);stroke-opacity:1;stroke-miterlimit:10;\" d=\"M 362.378906 394.390625 L 330.027344 286.5 \"/>\n",
       "<path style=\"fill:none;stroke-width:1;stroke-linecap:butt;stroke-linejoin:miter;stroke:rgb(74.509804%,74.509804%,74.509804%);stroke-opacity:1;stroke-miterlimit:10;\" d=\"M 362.378906 394.390625 L 426.921875 392.140625 \"/>\n",
       "<path style=\"fill:none;stroke-width:1;stroke-linecap:butt;stroke-linejoin:miter;stroke:rgb(74.509804%,74.509804%,74.509804%);stroke-opacity:1;stroke-miterlimit:10;\" d=\"M 362.378906 394.390625 L 316.441406 501.992188 \"/>\n",
       "<path style=\"fill:none;stroke-width:1;stroke-linecap:butt;stroke-linejoin:miter;stroke:rgb(74.509804%,74.509804%,74.509804%);stroke-opacity:1;stroke-miterlimit:10;\" d=\"M 362.378906 394.390625 L 269.464844 544.046875 \"/>\n",
       "<path style=\"fill:none;stroke-width:1;stroke-linecap:butt;stroke-linejoin:miter;stroke:rgb(74.509804%,74.509804%,74.509804%);stroke-opacity:1;stroke-miterlimit:10;\" d=\"M 362.378906 394.390625 L 221.222656 506.441406 \"/>\n",
       "<path style=\"fill:none;stroke-width:1;stroke-linecap:butt;stroke-linejoin:miter;stroke:rgb(74.509804%,74.509804%,74.509804%);stroke-opacity:1;stroke-miterlimit:10;\" d=\"M 362.378906 394.390625 L 469.792969 367.972656 \"/>\n",
       "<path style=\"fill:none;stroke-width:1;stroke-linecap:butt;stroke-linejoin:miter;stroke:rgb(74.509804%,74.509804%,74.509804%);stroke-opacity:1;stroke-miterlimit:10;\" d=\"M 362.378906 394.390625 L 375.109375 229.792969 \"/>\n",
       "<path style=\"fill:none;stroke-width:1;stroke-linecap:butt;stroke-linejoin:miter;stroke:rgb(74.509804%,74.509804%,74.509804%);stroke-opacity:1;stroke-miterlimit:10;\" d=\"M 362.378906 394.390625 L 372.226562 539.21875 \"/>\n",
       "<path style=\"fill:none;stroke-width:1;stroke-linecap:butt;stroke-linejoin:miter;stroke:rgb(74.509804%,74.509804%,74.509804%);stroke-opacity:1;stroke-miterlimit:10;\" d=\"M 362.378906 394.390625 L 171.09375 436.546875 \"/>\n",
       "<path style=\"fill:none;stroke-width:1;stroke-linecap:butt;stroke-linejoin:miter;stroke:rgb(74.509804%,74.509804%,74.509804%);stroke-opacity:1;stroke-miterlimit:10;\" d=\"M 362.378906 394.390625 L 474.078125 486.546875 \"/>\n",
       "<path style=\"fill:none;stroke-width:1;stroke-linecap:butt;stroke-linejoin:miter;stroke:rgb(74.509804%,74.509804%,74.509804%);stroke-opacity:1;stroke-miterlimit:10;\" d=\"M 362.378906 394.390625 L 390.644531 302.003906 \"/>\n",
       "<path style=\"fill:none;stroke-width:1;stroke-linecap:butt;stroke-linejoin:miter;stroke:rgb(74.509804%,74.509804%,74.509804%);stroke-opacity:1;stroke-miterlimit:10;\" d=\"M 362.378906 394.390625 L 545.621094 429.398438 \"/>\n",
       "<path style=\"fill:none;stroke-width:1;stroke-linecap:butt;stroke-linejoin:miter;stroke:rgb(74.509804%,74.509804%,74.509804%);stroke-opacity:1;stroke-miterlimit:10;\" d=\"M 362.378906 394.390625 L 456.183594 260.699219 \"/>\n",
       "<path style=\"fill:none;stroke-width:1;stroke-linecap:butt;stroke-linejoin:miter;stroke:rgb(74.509804%,74.509804%,74.509804%);stroke-opacity:1;stroke-miterlimit:10;\" d=\"M 362.378906 394.390625 L 580 376.621094 \"/>\n",
       "<path style=\"fill:none;stroke-width:1;stroke-linecap:butt;stroke-linejoin:miter;stroke:rgb(74.509804%,74.509804%,74.509804%);stroke-opacity:1;stroke-miterlimit:10;\" d=\"M 362.378906 394.390625 L 190.726562 238.234375 \"/>\n",
       "<path style=\"fill:none;stroke-width:1;stroke-linecap:butt;stroke-linejoin:miter;stroke:rgb(74.509804%,74.509804%,74.509804%);stroke-opacity:1;stroke-miterlimit:10;\" d=\"M 486.855469 323.328125 L 330.027344 286.5 \"/>\n",
       "<path style=\"fill:none;stroke-width:1;stroke-linecap:butt;stroke-linejoin:miter;stroke:rgb(74.509804%,74.509804%,74.509804%);stroke-opacity:1;stroke-miterlimit:10;\" d=\"M 486.855469 323.328125 L 426.921875 392.140625 \"/>\n",
       "<path style=\"fill:none;stroke-width:1;stroke-linecap:butt;stroke-linejoin:miter;stroke:rgb(74.509804%,74.509804%,74.509804%);stroke-opacity:1;stroke-miterlimit:10;\" d=\"M 486.855469 323.328125 L 469.792969 367.972656 \"/>\n",
       "<path style=\"fill:none;stroke-width:1;stroke-linecap:butt;stroke-linejoin:miter;stroke:rgb(74.509804%,74.509804%,74.509804%);stroke-opacity:1;stroke-miterlimit:10;\" d=\"M 486.855469 323.328125 L 390.644531 302.003906 \"/>\n",
       "<path style=\"fill:none;stroke-width:1;stroke-linecap:butt;stroke-linejoin:miter;stroke:rgb(74.509804%,74.509804%,74.509804%);stroke-opacity:1;stroke-miterlimit:10;\" d=\"M 486.855469 323.328125 L 545.621094 429.398438 \"/>\n",
       "<path style=\"fill:none;stroke-width:1;stroke-linecap:butt;stroke-linejoin:miter;stroke:rgb(74.509804%,74.509804%,74.509804%);stroke-opacity:1;stroke-miterlimit:10;\" d=\"M 486.855469 323.328125 L 456.183594 260.699219 \"/>\n",
       "<path style=\"fill:none;stroke-width:1;stroke-linecap:butt;stroke-linejoin:miter;stroke:rgb(74.509804%,74.509804%,74.509804%);stroke-opacity:1;stroke-miterlimit:10;\" d=\"M 486.855469 323.328125 L 580 376.621094 \"/>\n",
       "<path style=\"fill:none;stroke-width:1;stroke-linecap:butt;stroke-linejoin:miter;stroke:rgb(74.509804%,74.509804%,74.509804%);stroke-opacity:1;stroke-miterlimit:10;\" d=\"M 486.855469 323.328125 L 458.546875 186.113281 \"/>\n",
       "<path style=\"fill:none;stroke-width:1;stroke-linecap:butt;stroke-linejoin:miter;stroke:rgb(74.509804%,74.509804%,74.509804%);stroke-opacity:1;stroke-miterlimit:10;\" d=\"M 330.027344 286.5 L 426.921875 392.140625 \"/>\n",
       "<path style=\"fill:none;stroke-width:1;stroke-linecap:butt;stroke-linejoin:miter;stroke:rgb(74.509804%,74.509804%,74.509804%);stroke-opacity:1;stroke-miterlimit:10;\" d=\"M 330.027344 286.5 L 469.792969 367.972656 \"/>\n",
       "<path style=\"fill:none;stroke-width:1;stroke-linecap:butt;stroke-linejoin:miter;stroke:rgb(74.509804%,74.509804%,74.509804%);stroke-opacity:1;stroke-miterlimit:10;\" d=\"M 330.027344 286.5 L 147.542969 204.097656 \"/>\n",
       "<path style=\"fill:none;stroke-width:1;stroke-linecap:butt;stroke-linejoin:miter;stroke:rgb(74.509804%,74.509804%,74.509804%);stroke-opacity:1;stroke-miterlimit:10;\" d=\"M 330.027344 286.5 L 253.675781 221.515625 \"/>\n",
       "<path style=\"fill:none;stroke-width:1;stroke-linecap:butt;stroke-linejoin:miter;stroke:rgb(74.509804%,74.509804%,74.509804%);stroke-opacity:1;stroke-miterlimit:10;\" d=\"M 330.027344 286.5 L 331.804688 123.644531 \"/>\n",
       "<path style=\"fill:none;stroke-width:1;stroke-linecap:butt;stroke-linejoin:miter;stroke:rgb(74.509804%,74.509804%,74.509804%);stroke-opacity:1;stroke-miterlimit:10;\" d=\"M 330.027344 286.5 L 207.027344 283.3125 \"/>\n",
       "<path style=\"fill:none;stroke-width:1;stroke-linecap:butt;stroke-linejoin:miter;stroke:rgb(74.509804%,74.509804%,74.509804%);stroke-opacity:1;stroke-miterlimit:10;\" d=\"M 330.027344 286.5 L 375.109375 229.792969 \"/>\n",
       "<path style=\"fill:none;stroke-width:1;stroke-linecap:butt;stroke-linejoin:miter;stroke:rgb(74.509804%,74.509804%,74.509804%);stroke-opacity:1;stroke-miterlimit:10;\" d=\"M 330.027344 286.5 L 390.644531 302.003906 \"/>\n",
       "<path style=\"fill:none;stroke-width:1;stroke-linecap:butt;stroke-linejoin:miter;stroke:rgb(74.509804%,74.509804%,74.509804%);stroke-opacity:1;stroke-miterlimit:10;\" d=\"M 426.921875 392.140625 L 469.792969 367.972656 \"/>\n",
       "<path style=\"fill:none;stroke-width:1;stroke-linecap:butt;stroke-linejoin:miter;stroke:rgb(74.509804%,74.509804%,74.509804%);stroke-opacity:1;stroke-miterlimit:10;\" d=\"M 426.921875 392.140625 L 474.078125 486.546875 \"/>\n",
       "<path style=\"fill:none;stroke-width:1;stroke-linecap:butt;stroke-linejoin:miter;stroke:rgb(74.509804%,74.509804%,74.509804%);stroke-opacity:1;stroke-miterlimit:10;\" d=\"M 426.921875 392.140625 L 390.644531 302.003906 \"/>\n",
       "<path style=\"fill:none;stroke-width:1;stroke-linecap:butt;stroke-linejoin:miter;stroke:rgb(74.509804%,74.509804%,74.509804%);stroke-opacity:1;stroke-miterlimit:10;\" d=\"M 316.441406 501.992188 L 221.222656 506.441406 \"/>\n",
       "<path style=\"fill:none;stroke-width:1;stroke-linecap:butt;stroke-linejoin:miter;stroke:rgb(74.509804%,74.509804%,74.509804%);stroke-opacity:1;stroke-miterlimit:10;\" d=\"M 316.441406 501.992188 L 372.226562 539.21875 \"/>\n",
       "<path style=\"fill:none;stroke-width:1;stroke-linecap:butt;stroke-linejoin:miter;stroke:rgb(74.509804%,74.509804%,74.509804%);stroke-opacity:1;stroke-miterlimit:10;\" d=\"M 269.464844 544.046875 L 221.222656 506.441406 \"/>\n",
       "<path style=\"fill:none;stroke-width:1;stroke-linecap:butt;stroke-linejoin:miter;stroke:rgb(74.509804%,74.509804%,74.509804%);stroke-opacity:1;stroke-miterlimit:10;\" d=\"M 269.464844 544.046875 L 372.226562 539.21875 \"/>\n",
       "<path style=\"fill:none;stroke-width:1;stroke-linecap:butt;stroke-linejoin:miter;stroke:rgb(74.509804%,74.509804%,74.509804%);stroke-opacity:1;stroke-miterlimit:10;\" d=\"M 269.464844 544.046875 L 148.777344 580 \"/>\n",
       "<path style=\"fill:none;stroke-width:1;stroke-linecap:butt;stroke-linejoin:miter;stroke:rgb(74.509804%,74.509804%,74.509804%);stroke-opacity:1;stroke-miterlimit:10;\" d=\"M 221.222656 506.441406 L 148.777344 580 \"/>\n",
       "<path style=\"fill:none;stroke-width:1;stroke-linecap:butt;stroke-linejoin:miter;stroke:rgb(74.509804%,74.509804%,74.509804%);stroke-opacity:1;stroke-miterlimit:10;\" d=\"M 375.109375 229.792969 L 458.546875 186.113281 \"/>\n",
       "<path style=\"fill:none;stroke-width:1;stroke-linecap:butt;stroke-linejoin:miter;stroke:rgb(74.509804%,74.509804%,74.509804%);stroke-opacity:1;stroke-miterlimit:10;\" d=\"M 375.109375 229.792969 L 331.804688 123.644531 \"/>\n",
       "<path style=\"fill:none;stroke-width:1;stroke-linecap:butt;stroke-linejoin:miter;stroke:rgb(74.509804%,74.509804%,74.509804%);stroke-opacity:1;stroke-miterlimit:10;\" d=\"M 375.109375 229.792969 L 306.585938 149.066406 \"/>\n",
       "<path style=\"fill:none;stroke-width:1;stroke-linecap:butt;stroke-linejoin:miter;stroke:rgb(74.509804%,74.509804%,74.509804%);stroke-opacity:1;stroke-miterlimit:10;\" d=\"M 207.027344 283.3125 L 306.585938 149.066406 \"/>\n",
       "<path style=\"fill:none;stroke-width:1;stroke-linecap:butt;stroke-linejoin:miter;stroke:rgb(74.509804%,74.509804%,74.509804%);stroke-opacity:1;stroke-miterlimit:10;\" d=\"M 390.644531 302.003906 L 306.585938 149.066406 \"/>\n",
       "<path style=\"fill:none;stroke-width:1;stroke-linecap:butt;stroke-linejoin:miter;stroke:rgb(74.509804%,74.509804%,74.509804%);stroke-opacity:1;stroke-miterlimit:10;\" d=\"M 396.078125 32.746094 L 331.804688 123.644531 \"/>\n",
       "<path style=\"fill:none;stroke-width:1;stroke-linecap:butt;stroke-linejoin:miter;stroke:rgb(74.509804%,74.509804%,74.509804%);stroke-opacity:1;stroke-miterlimit:10;\" d=\"M 396.078125 32.746094 L 306.585938 149.066406 \"/>\n",
       "<path style=\"fill:none;stroke-width:1;stroke-linecap:butt;stroke-linejoin:miter;stroke:rgb(74.509804%,74.509804%,74.509804%);stroke-opacity:1;stroke-miterlimit:10;\" d=\"M 272.191406 28.792969 L 331.804688 123.644531 \"/>\n",
       "<path style=\"fill:none;stroke-width:1;stroke-linecap:butt;stroke-linejoin:miter;stroke:rgb(74.509804%,74.509804%,74.509804%);stroke-opacity:1;stroke-miterlimit:10;\" d=\"M 272.191406 28.792969 L 306.585938 149.066406 \"/>\n",
       "<path style=\"fill:none;stroke-width:1;stroke-linecap:butt;stroke-linejoin:miter;stroke:rgb(74.509804%,74.509804%,74.509804%);stroke-opacity:1;stroke-miterlimit:10;\" d=\"M 335.699219 20 L 331.804688 123.644531 \"/>\n",
       "<path style=\"fill:none;stroke-width:1;stroke-linecap:butt;stroke-linejoin:miter;stroke:rgb(74.509804%,74.509804%,74.509804%);stroke-opacity:1;stroke-miterlimit:10;\" d=\"M 335.699219 20 L 306.585938 149.066406 \"/>\n",
       "<path style=\"fill:none;stroke-width:1;stroke-linecap:butt;stroke-linejoin:miter;stroke:rgb(74.509804%,74.509804%,74.509804%);stroke-opacity:1;stroke-miterlimit:10;\" d=\"M 456.183594 260.699219 L 306.585938 149.066406 \"/>\n",
       "<path style=\"fill:none;stroke-width:1;stroke-linecap:butt;stroke-linejoin:miter;stroke:rgb(74.509804%,74.509804%,74.509804%);stroke-opacity:1;stroke-miterlimit:10;\" d=\"M 445.511719 60.796875 L 331.804688 123.644531 \"/>\n",
       "<path style=\"fill:none;stroke-width:1;stroke-linecap:butt;stroke-linejoin:miter;stroke:rgb(74.509804%,74.509804%,74.509804%);stroke-opacity:1;stroke-miterlimit:10;\" d=\"M 445.511719 60.796875 L 306.585938 149.066406 \"/>\n",
       "<path style=\"fill:none;stroke-width:1;stroke-linecap:butt;stroke-linejoin:miter;stroke:rgb(74.509804%,74.509804%,74.509804%);stroke-opacity:1;stroke-miterlimit:10;\" d=\"M 474.058594 103.523438 L 331.804688 123.644531 \"/>\n",
       "<path style=\"fill:none;stroke-width:1;stroke-linecap:butt;stroke-linejoin:miter;stroke:rgb(74.509804%,74.509804%,74.509804%);stroke-opacity:1;stroke-miterlimit:10;\" d=\"M 474.058594 103.523438 L 306.585938 149.066406 \"/>\n",
       "<path style=\"fill:none;stroke-width:1;stroke-linecap:butt;stroke-linejoin:miter;stroke:rgb(74.509804%,74.509804%,74.509804%);stroke-opacity:1;stroke-miterlimit:10;\" d=\"M 154.214844 126.300781 L 26.417969 180.246094 \"/>\n",
       "<path style=\"fill:none;stroke-width:1;stroke-linecap:butt;stroke-linejoin:miter;stroke:rgb(74.509804%,74.509804%,74.509804%);stroke-opacity:1;stroke-miterlimit:10;\" d=\"M 154.214844 126.300781 L 147.542969 204.097656 \"/>\n",
       "<path style=\"fill:none;stroke-width:1;stroke-linecap:butt;stroke-linejoin:miter;stroke:rgb(74.509804%,74.509804%,74.509804%);stroke-opacity:1;stroke-miterlimit:10;\" d=\"M 154.214844 126.300781 L 331.804688 123.644531 \"/>\n",
       "<path style=\"fill:none;stroke-width:1;stroke-linecap:butt;stroke-linejoin:miter;stroke:rgb(74.509804%,74.509804%,74.509804%);stroke-opacity:1;stroke-miterlimit:10;\" d=\"M 154.214844 126.300781 L 306.585938 149.066406 \"/>\n",
       "<path style=\"fill:none;stroke-width:1;stroke-linecap:butt;stroke-linejoin:miter;stroke:rgb(74.509804%,74.509804%,74.509804%);stroke-opacity:1;stroke-miterlimit:10;\" d=\"M 154.214844 126.300781 L 207.613281 72.308594 \"/>\n",
       "<path style=\"fill:none;stroke-width:1;stroke-linecap:butt;stroke-linejoin:miter;stroke:rgb(74.509804%,74.509804%,74.509804%);stroke-opacity:1;stroke-miterlimit:10;\" d=\"M 20 244.914062 L 26.417969 180.246094 \"/>\n",
       "<path style=\"fill:none;stroke-width:1;stroke-linecap:butt;stroke-linejoin:miter;stroke:rgb(74.509804%,74.509804%,74.509804%);stroke-opacity:1;stroke-miterlimit:10;\" d=\"M 20 244.914062 L 147.542969 204.097656 \"/>\n",
       "<path style=\"fill:none;stroke-width:1;stroke-linecap:butt;stroke-linejoin:miter;stroke:rgb(74.509804%,74.509804%,74.509804%);stroke-opacity:1;stroke-miterlimit:10;\" d=\"M 20 244.914062 L 190.726562 238.234375 \"/>\n",
       "<path style=\"fill:none;stroke-width:1;stroke-linecap:butt;stroke-linejoin:miter;stroke:rgb(74.509804%,74.509804%,74.509804%);stroke-opacity:1;stroke-miterlimit:10;\" d=\"M 26.417969 180.246094 L 190.726562 238.234375 \"/>\n",
       "<path style=\"fill:none;stroke-width:1;stroke-linecap:butt;stroke-linejoin:miter;stroke:rgb(74.509804%,74.509804%,74.509804%);stroke-opacity:1;stroke-miterlimit:10;\" d=\"M 155.378906 30.777344 L 207.613281 72.308594 \"/>\n",
       "<path style=\"fill:none;stroke-width:1;stroke-linecap:butt;stroke-linejoin:miter;stroke:rgb(74.509804%,74.509804%,74.509804%);stroke-opacity:1;stroke-miterlimit:10;\" d=\"M 155.378906 30.777344 L 306.585938 149.066406 \"/>\n",
       "<path style=\"fill:none;stroke-width:1;stroke-linecap:butt;stroke-linejoin:miter;stroke:rgb(74.509804%,74.509804%,74.509804%);stroke-opacity:1;stroke-miterlimit:10;\" d=\"M 147.542969 204.097656 L 306.585938 149.066406 \"/>\n",
       "<path style=\"fill:none;stroke-width:1;stroke-linecap:butt;stroke-linejoin:miter;stroke:rgb(74.509804%,74.509804%,74.509804%);stroke-opacity:1;stroke-miterlimit:10;\" d=\"M 253.675781 221.515625 L 190.726562 238.234375 \"/>\n",
       "<path style=\"fill:none;stroke-width:1;stroke-linecap:butt;stroke-linejoin:miter;stroke:rgb(74.509804%,74.509804%,74.509804%);stroke-opacity:1;stroke-miterlimit:10;\" d=\"M 253.675781 221.515625 L 306.585938 149.066406 \"/>\n",
       "<path style=\"fill:none;stroke-width:1;stroke-linecap:butt;stroke-linejoin:miter;stroke:rgb(74.509804%,74.509804%,74.509804%);stroke-opacity:1;stroke-miterlimit:10;\" d=\"M 207.613281 72.308594 L 331.804688 123.644531 \"/>\n",
       "<path style=\"fill:none;stroke-width:1;stroke-linecap:butt;stroke-linejoin:miter;stroke:rgb(74.509804%,74.509804%,74.509804%);stroke-opacity:1;stroke-miterlimit:10;\" d=\"M 207.613281 72.308594 L 306.585938 149.066406 \"/>\n",
       "<path style=\"fill:none;stroke-width:1;stroke-linecap:butt;stroke-linejoin:miter;stroke:rgb(74.509804%,74.509804%,74.509804%);stroke-opacity:1;stroke-miterlimit:10;\" d=\"M 458.546875 186.113281 L 331.804688 123.644531 \"/>\n",
       "<path style=\"fill:none;stroke-width:1;stroke-linecap:butt;stroke-linejoin:miter;stroke:rgb(74.509804%,74.509804%,74.509804%);stroke-opacity:1;stroke-miterlimit:10;\" d=\"M 458.546875 186.113281 L 306.585938 149.066406 \"/>\n",
       "<path style=\"fill:none;stroke-width:1;stroke-linecap:butt;stroke-linejoin:miter;stroke:rgb(74.509804%,74.509804%,74.509804%);stroke-opacity:1;stroke-miterlimit:10;\" d=\"M 190.726562 238.234375 L 331.804688 123.644531 \"/>\n",
       "<path style=\"fill:none;stroke-width:1;stroke-linecap:butt;stroke-linejoin:miter;stroke:rgb(74.509804%,74.509804%,74.509804%);stroke-opacity:1;stroke-miterlimit:10;\" d=\"M 190.726562 238.234375 L 306.585938 149.066406 \"/>\n",
       "<path style=\"fill:none;stroke-width:1;stroke-linecap:butt;stroke-linejoin:miter;stroke:rgb(74.509804%,74.509804%,74.509804%);stroke-opacity:1;stroke-miterlimit:10;\" d=\"M 331.804688 123.644531 L 306.585938 149.066406 \"/>\n",
       "<path style=\"fill-rule:nonzero;fill:rgb(74.509804%,74.509804%,74.509804%);fill-opacity:1;stroke-width:1;stroke-linecap:butt;stroke-linejoin:miter;stroke:rgb(0%,0%,0%);stroke-opacity:1;stroke-miterlimit:10;\" d=\"M 372.378906 394.390625 C 372.378906 399.910156 367.898438 404.390625 362.378906 404.390625 C 356.855469 404.390625 352.378906 399.910156 352.378906 394.390625 C 352.378906 388.867188 356.855469 384.390625 362.378906 384.390625 C 367.898438 384.390625 372.378906 388.867188 372.378906 394.390625 \"/>\n",
       "<path style=\"fill-rule:nonzero;fill:rgb(74.509804%,74.509804%,74.509804%);fill-opacity:1;stroke-width:1;stroke-linecap:butt;stroke-linejoin:miter;stroke:rgb(0%,0%,0%);stroke-opacity:1;stroke-miterlimit:10;\" d=\"M 496.855469 323.328125 C 496.855469 328.851562 492.378906 333.328125 486.855469 333.328125 C 481.335938 333.328125 476.855469 328.851562 476.855469 323.328125 C 476.855469 317.804688 481.335938 313.328125 486.855469 313.328125 C 492.378906 313.328125 496.855469 317.804688 496.855469 323.328125 \"/>\n",
       "<path style=\"fill-rule:nonzero;fill:rgb(74.509804%,74.509804%,74.509804%);fill-opacity:1;stroke-width:1;stroke-linecap:butt;stroke-linejoin:miter;stroke:rgb(0%,0%,0%);stroke-opacity:1;stroke-miterlimit:10;\" d=\"M 340.027344 286.5 C 340.027344 292.023438 335.550781 296.5 330.027344 296.5 C 324.503906 296.5 320.027344 292.023438 320.027344 286.5 C 320.027344 280.976562 324.503906 276.5 330.027344 276.5 C 335.550781 276.5 340.027344 280.976562 340.027344 286.5 \"/>\n",
       "<path style=\"fill-rule:nonzero;fill:rgb(74.509804%,74.509804%,74.509804%);fill-opacity:1;stroke-width:1;stroke-linecap:butt;stroke-linejoin:miter;stroke:rgb(0%,0%,0%);stroke-opacity:1;stroke-miterlimit:10;\" d=\"M 436.921875 392.140625 C 436.921875 397.664062 432.445312 402.140625 426.921875 402.140625 C 421.398438 402.140625 416.921875 397.664062 416.921875 392.140625 C 416.921875 386.617188 421.398438 382.140625 426.921875 382.140625 C 432.445312 382.140625 436.921875 386.617188 436.921875 392.140625 \"/>\n",
       "<path style=\"fill-rule:nonzero;fill:rgb(74.509804%,74.509804%,74.509804%);fill-opacity:1;stroke-width:1;stroke-linecap:butt;stroke-linejoin:miter;stroke:rgb(0%,0%,0%);stroke-opacity:1;stroke-miterlimit:10;\" d=\"M 326.441406 501.992188 C 326.441406 507.515625 321.964844 511.992188 316.441406 511.992188 C 310.917969 511.992188 306.441406 507.515625 306.441406 501.992188 C 306.441406 496.46875 310.917969 491.992188 316.441406 491.992188 C 321.964844 491.992188 326.441406 496.46875 326.441406 501.992188 \"/>\n",
       "<path style=\"fill-rule:nonzero;fill:rgb(74.509804%,74.509804%,74.509804%);fill-opacity:1;stroke-width:1;stroke-linecap:butt;stroke-linejoin:miter;stroke:rgb(0%,0%,0%);stroke-opacity:1;stroke-miterlimit:10;\" d=\"M 279.464844 544.046875 C 279.464844 549.570312 274.988281 554.046875 269.464844 554.046875 C 263.941406 554.046875 259.464844 549.570312 259.464844 544.046875 C 259.464844 538.523438 263.941406 534.046875 269.464844 534.046875 C 274.988281 534.046875 279.464844 538.523438 279.464844 544.046875 \"/>\n",
       "<path style=\"fill-rule:nonzero;fill:rgb(74.509804%,74.509804%,74.509804%);fill-opacity:1;stroke-width:1;stroke-linecap:butt;stroke-linejoin:miter;stroke:rgb(0%,0%,0%);stroke-opacity:1;stroke-miterlimit:10;\" d=\"M 231.222656 506.441406 C 231.222656 511.964844 226.746094 516.441406 221.222656 516.441406 C 215.699219 516.441406 211.222656 511.964844 211.222656 506.441406 C 211.222656 500.917969 215.699219 496.441406 221.222656 496.441406 C 226.746094 496.441406 231.222656 500.917969 231.222656 506.441406 \"/>\n",
       "<path style=\"fill-rule:nonzero;fill:rgb(74.509804%,74.509804%,74.509804%);fill-opacity:1;stroke-width:1;stroke-linecap:butt;stroke-linejoin:miter;stroke:rgb(0%,0%,0%);stroke-opacity:1;stroke-miterlimit:10;\" d=\"M 479.792969 367.972656 C 479.792969 373.496094 475.316406 377.972656 469.792969 377.972656 C 464.269531 377.972656 459.792969 373.496094 459.792969 367.972656 C 459.792969 362.453125 464.269531 357.972656 469.792969 357.972656 C 475.316406 357.972656 479.792969 362.453125 479.792969 367.972656 \"/>\n",
       "<path style=\"fill-rule:nonzero;fill:rgb(74.509804%,74.509804%,74.509804%);fill-opacity:1;stroke-width:1;stroke-linecap:butt;stroke-linejoin:miter;stroke:rgb(0%,0%,0%);stroke-opacity:1;stroke-miterlimit:10;\" d=\"M 385.109375 229.792969 C 385.109375 235.3125 380.628906 239.792969 375.109375 239.792969 C 369.585938 239.792969 365.109375 235.3125 365.109375 229.792969 C 365.109375 224.269531 369.585938 219.792969 375.109375 219.792969 C 380.628906 219.792969 385.109375 224.269531 385.109375 229.792969 \"/>\n",
       "<path style=\"fill-rule:nonzero;fill:rgb(74.509804%,74.509804%,74.509804%);fill-opacity:1;stroke-width:1;stroke-linecap:butt;stroke-linejoin:miter;stroke:rgb(0%,0%,0%);stroke-opacity:1;stroke-miterlimit:10;\" d=\"M 217.027344 283.3125 C 217.027344 288.835938 212.546875 293.3125 207.027344 293.3125 C 201.503906 293.3125 197.027344 288.835938 197.027344 283.3125 C 197.027344 277.789062 201.503906 273.3125 207.027344 273.3125 C 212.546875 273.3125 217.027344 277.789062 217.027344 283.3125 \"/>\n",
       "<path style=\"fill-rule:nonzero;fill:rgb(74.509804%,74.509804%,74.509804%);fill-opacity:1;stroke-width:1;stroke-linecap:butt;stroke-linejoin:miter;stroke:rgb(0%,0%,0%);stroke-opacity:1;stroke-miterlimit:10;\" d=\"M 382.226562 539.21875 C 382.226562 544.742188 377.746094 549.21875 372.226562 549.21875 C 366.703125 549.21875 362.226562 544.742188 362.226562 539.21875 C 362.226562 533.695312 366.703125 529.21875 372.226562 529.21875 C 377.746094 529.21875 382.226562 533.695312 382.226562 539.21875 \"/>\n",
       "<path style=\"fill-rule:nonzero;fill:rgb(74.509804%,74.509804%,74.509804%);fill-opacity:1;stroke-width:1;stroke-linecap:butt;stroke-linejoin:miter;stroke:rgb(0%,0%,0%);stroke-opacity:1;stroke-miterlimit:10;\" d=\"M 181.09375 436.546875 C 181.09375 442.070312 176.617188 446.546875 171.09375 446.546875 C 165.570312 446.546875 161.09375 442.070312 161.09375 436.546875 C 161.09375 431.023438 165.570312 426.546875 171.09375 426.546875 C 176.617188 426.546875 181.09375 431.023438 181.09375 436.546875 \"/>\n",
       "<path style=\"fill-rule:nonzero;fill:rgb(74.509804%,74.509804%,74.509804%);fill-opacity:1;stroke-width:1;stroke-linecap:butt;stroke-linejoin:miter;stroke:rgb(0%,0%,0%);stroke-opacity:1;stroke-miterlimit:10;\" d=\"M 484.078125 486.546875 C 484.078125 492.070312 479.601562 496.546875 474.078125 496.546875 C 468.554688 496.546875 464.078125 492.070312 464.078125 486.546875 C 464.078125 481.023438 468.554688 476.546875 474.078125 476.546875 C 479.601562 476.546875 484.078125 481.023438 484.078125 486.546875 \"/>\n",
       "<path style=\"fill-rule:nonzero;fill:rgb(74.509804%,74.509804%,74.509804%);fill-opacity:1;stroke-width:1;stroke-linecap:butt;stroke-linejoin:miter;stroke:rgb(0%,0%,0%);stroke-opacity:1;stroke-miterlimit:10;\" d=\"M 400.644531 302.003906 C 400.644531 307.527344 396.167969 312.003906 390.644531 312.003906 C 385.121094 312.003906 380.644531 307.527344 380.644531 302.003906 C 380.644531 296.480469 385.121094 292.003906 390.644531 292.003906 C 396.167969 292.003906 400.644531 296.480469 400.644531 302.003906 \"/>\n",
       "<path style=\"fill-rule:nonzero;fill:rgb(74.509804%,74.509804%,74.509804%);fill-opacity:1;stroke-width:1;stroke-linecap:butt;stroke-linejoin:miter;stroke:rgb(0%,0%,0%);stroke-opacity:1;stroke-miterlimit:10;\" d=\"M 406.078125 32.746094 C 406.078125 38.269531 401.601562 42.746094 396.078125 42.746094 C 390.554688 42.746094 386.078125 38.269531 386.078125 32.746094 C 386.078125 27.222656 390.554688 22.746094 396.078125 22.746094 C 401.601562 22.746094 406.078125 27.222656 406.078125 32.746094 \"/>\n",
       "<path style=\"fill-rule:nonzero;fill:rgb(74.509804%,74.509804%,74.509804%);fill-opacity:1;stroke-width:1;stroke-linecap:butt;stroke-linejoin:miter;stroke:rgb(0%,0%,0%);stroke-opacity:1;stroke-miterlimit:10;\" d=\"M 282.191406 28.792969 C 282.191406 34.316406 277.714844 38.792969 272.191406 38.792969 C 266.671875 38.792969 262.191406 34.316406 262.191406 28.792969 C 262.191406 23.269531 266.671875 18.792969 272.191406 18.792969 C 277.714844 18.792969 282.191406 23.269531 282.191406 28.792969 \"/>\n",
       "<path style=\"fill-rule:nonzero;fill:rgb(74.509804%,74.509804%,74.509804%);fill-opacity:1;stroke-width:1;stroke-linecap:butt;stroke-linejoin:miter;stroke:rgb(0%,0%,0%);stroke-opacity:1;stroke-miterlimit:10;\" d=\"M 158.777344 580 C 158.777344 585.523438 154.300781 590 148.777344 590 C 143.257812 590 138.777344 585.523438 138.777344 580 C 138.777344 574.476562 143.257812 570 148.777344 570 C 154.300781 570 158.777344 574.476562 158.777344 580 \"/>\n",
       "<path style=\"fill-rule:nonzero;fill:rgb(74.509804%,74.509804%,74.509804%);fill-opacity:1;stroke-width:1;stroke-linecap:butt;stroke-linejoin:miter;stroke:rgb(0%,0%,0%);stroke-opacity:1;stroke-miterlimit:10;\" d=\"M 555.621094 429.398438 C 555.621094 434.921875 551.144531 439.398438 545.621094 439.398438 C 540.097656 439.398438 535.621094 434.921875 535.621094 429.398438 C 535.621094 423.875 540.097656 419.398438 545.621094 419.398438 C 551.144531 419.398438 555.621094 423.875 555.621094 429.398438 \"/>\n",
       "<path style=\"fill-rule:nonzero;fill:rgb(74.509804%,74.509804%,74.509804%);fill-opacity:1;stroke-width:1;stroke-linecap:butt;stroke-linejoin:miter;stroke:rgb(0%,0%,0%);stroke-opacity:1;stroke-miterlimit:10;\" d=\"M 345.699219 20 C 345.699219 25.523438 341.222656 30 335.699219 30 C 330.175781 30 325.699219 25.523438 325.699219 20 C 325.699219 14.476562 330.175781 10 335.699219 10 C 341.222656 10 345.699219 14.476562 345.699219 20 \"/>\n",
       "<path style=\"fill-rule:nonzero;fill:rgb(74.509804%,74.509804%,74.509804%);fill-opacity:1;stroke-width:1;stroke-linecap:butt;stroke-linejoin:miter;stroke:rgb(0%,0%,0%);stroke-opacity:1;stroke-miterlimit:10;\" d=\"M 466.183594 260.699219 C 466.183594 266.222656 461.707031 270.699219 456.183594 270.699219 C 450.660156 270.699219 446.183594 266.222656 446.183594 260.699219 C 446.183594 255.179688 450.660156 250.699219 456.183594 250.699219 C 461.707031 250.699219 466.183594 255.179688 466.183594 260.699219 \"/>\n",
       "<path style=\"fill-rule:nonzero;fill:rgb(74.509804%,74.509804%,74.509804%);fill-opacity:1;stroke-width:1;stroke-linecap:butt;stroke-linejoin:miter;stroke:rgb(0%,0%,0%);stroke-opacity:1;stroke-miterlimit:10;\" d=\"M 455.511719 60.796875 C 455.511719 66.320312 451.03125 70.796875 445.511719 70.796875 C 439.988281 70.796875 435.511719 66.320312 435.511719 60.796875 C 435.511719 55.273438 439.988281 50.796875 445.511719 50.796875 C 451.03125 50.796875 455.511719 55.273438 455.511719 60.796875 \"/>\n",
       "<path style=\"fill-rule:nonzero;fill:rgb(74.509804%,74.509804%,74.509804%);fill-opacity:1;stroke-width:1;stroke-linecap:butt;stroke-linejoin:miter;stroke:rgb(0%,0%,0%);stroke-opacity:1;stroke-miterlimit:10;\" d=\"M 590 376.621094 C 590 382.140625 585.523438 386.621094 580 386.621094 C 574.476562 386.621094 570 382.140625 570 376.621094 C 570 371.097656 574.476562 366.621094 580 366.621094 C 585.523438 366.621094 590 371.097656 590 376.621094 \"/>\n",
       "<path style=\"fill-rule:nonzero;fill:rgb(74.509804%,74.509804%,74.509804%);fill-opacity:1;stroke-width:1;stroke-linecap:butt;stroke-linejoin:miter;stroke:rgb(0%,0%,0%);stroke-opacity:1;stroke-miterlimit:10;\" d=\"M 484.058594 103.523438 C 484.058594 109.046875 479.582031 113.523438 474.058594 113.523438 C 468.539062 113.523438 464.058594 109.046875 464.058594 103.523438 C 464.058594 98 468.539062 93.523438 474.058594 93.523438 C 479.582031 93.523438 484.058594 98 484.058594 103.523438 \"/>\n",
       "<path style=\"fill-rule:nonzero;fill:rgb(74.509804%,74.509804%,74.509804%);fill-opacity:1;stroke-width:1;stroke-linecap:butt;stroke-linejoin:miter;stroke:rgb(0%,0%,0%);stroke-opacity:1;stroke-miterlimit:10;\" d=\"M 164.214844 126.300781 C 164.214844 131.824219 159.738281 136.300781 154.214844 136.300781 C 148.691406 136.300781 144.214844 131.824219 144.214844 126.300781 C 144.214844 120.777344 148.691406 116.300781 154.214844 116.300781 C 159.738281 116.300781 164.214844 120.777344 164.214844 126.300781 \"/>\n",
       "<path style=\"fill-rule:nonzero;fill:rgb(74.509804%,74.509804%,74.509804%);fill-opacity:1;stroke-width:1;stroke-linecap:butt;stroke-linejoin:miter;stroke:rgb(0%,0%,0%);stroke-opacity:1;stroke-miterlimit:10;\" d=\"M 30 244.914062 C 30 250.433594 25.523438 254.914062 20 254.914062 C 14.476562 254.914062 10 250.433594 10 244.914062 C 10 239.390625 14.476562 234.914062 20 234.914062 C 25.523438 234.914062 30 239.390625 30 244.914062 \"/>\n",
       "<path style=\"fill-rule:nonzero;fill:rgb(74.509804%,74.509804%,74.509804%);fill-opacity:1;stroke-width:1;stroke-linecap:butt;stroke-linejoin:miter;stroke:rgb(0%,0%,0%);stroke-opacity:1;stroke-miterlimit:10;\" d=\"M 36.417969 180.246094 C 36.417969 185.769531 31.941406 190.246094 26.417969 190.246094 C 20.894531 190.246094 16.417969 185.769531 16.417969 180.246094 C 16.417969 174.726562 20.894531 170.246094 26.417969 170.246094 C 31.941406 170.246094 36.417969 174.726562 36.417969 180.246094 \"/>\n",
       "<path style=\"fill-rule:nonzero;fill:rgb(74.509804%,74.509804%,74.509804%);fill-opacity:1;stroke-width:1;stroke-linecap:butt;stroke-linejoin:miter;stroke:rgb(0%,0%,0%);stroke-opacity:1;stroke-miterlimit:10;\" d=\"M 165.378906 30.777344 C 165.378906 36.300781 160.902344 40.777344 155.378906 40.777344 C 149.855469 40.777344 145.378906 36.300781 145.378906 30.777344 C 145.378906 25.253906 149.855469 20.777344 155.378906 20.777344 C 160.902344 20.777344 165.378906 25.253906 165.378906 30.777344 \"/>\n",
       "<path style=\"fill-rule:nonzero;fill:rgb(74.509804%,74.509804%,74.509804%);fill-opacity:1;stroke-width:1;stroke-linecap:butt;stroke-linejoin:miter;stroke:rgb(0%,0%,0%);stroke-opacity:1;stroke-miterlimit:10;\" d=\"M 157.542969 204.097656 C 157.542969 209.617188 153.066406 214.097656 147.542969 214.097656 C 142.023438 214.097656 137.542969 209.617188 137.542969 204.097656 C 137.542969 198.574219 142.023438 194.097656 147.542969 194.097656 C 153.066406 194.097656 157.542969 198.574219 157.542969 204.097656 \"/>\n",
       "<path style=\"fill-rule:nonzero;fill:rgb(74.509804%,74.509804%,74.509804%);fill-opacity:1;stroke-width:1;stroke-linecap:butt;stroke-linejoin:miter;stroke:rgb(0%,0%,0%);stroke-opacity:1;stroke-miterlimit:10;\" d=\"M 263.675781 221.515625 C 263.675781 227.039062 259.199219 231.515625 253.675781 231.515625 C 248.152344 231.515625 243.675781 227.039062 243.675781 221.515625 C 243.675781 215.992188 248.152344 211.515625 253.675781 211.515625 C 259.199219 211.515625 263.675781 215.992188 263.675781 221.515625 \"/>\n",
       "<path style=\"fill-rule:nonzero;fill:rgb(74.509804%,74.509804%,74.509804%);fill-opacity:1;stroke-width:1;stroke-linecap:butt;stroke-linejoin:miter;stroke:rgb(0%,0%,0%);stroke-opacity:1;stroke-miterlimit:10;\" d=\"M 217.613281 72.308594 C 217.613281 77.832031 213.136719 82.308594 207.613281 82.308594 C 202.089844 82.308594 197.613281 77.832031 197.613281 72.308594 C 197.613281 66.785156 202.089844 62.308594 207.613281 62.308594 C 213.136719 62.308594 217.613281 66.785156 217.613281 72.308594 \"/>\n",
       "<path style=\"fill-rule:nonzero;fill:rgb(74.509804%,74.509804%,74.509804%);fill-opacity:1;stroke-width:1;stroke-linecap:butt;stroke-linejoin:miter;stroke:rgb(0%,0%,0%);stroke-opacity:1;stroke-miterlimit:10;\" d=\"M 468.546875 186.113281 C 468.546875 191.636719 464.070312 196.113281 458.546875 196.113281 C 453.023438 196.113281 448.546875 191.636719 448.546875 186.113281 C 448.546875 180.59375 453.023438 176.113281 458.546875 176.113281 C 464.070312 176.113281 468.546875 180.59375 468.546875 186.113281 \"/>\n",
       "<path style=\"fill-rule:nonzero;fill:rgb(74.509804%,74.509804%,74.509804%);fill-opacity:1;stroke-width:1;stroke-linecap:butt;stroke-linejoin:miter;stroke:rgb(0%,0%,0%);stroke-opacity:1;stroke-miterlimit:10;\" d=\"M 200.726562 238.234375 C 200.726562 243.757812 196.25 248.234375 190.726562 248.234375 C 185.203125 248.234375 180.726562 243.757812 180.726562 238.234375 C 180.726562 232.710938 185.203125 228.234375 190.726562 228.234375 C 196.25 228.234375 200.726562 232.710938 200.726562 238.234375 \"/>\n",
       "<path style=\"fill-rule:nonzero;fill:rgb(74.509804%,74.509804%,74.509804%);fill-opacity:1;stroke-width:1;stroke-linecap:butt;stroke-linejoin:miter;stroke:rgb(0%,0%,0%);stroke-opacity:1;stroke-miterlimit:10;\" d=\"M 341.804688 123.644531 C 341.804688 129.167969 337.328125 133.644531 331.804688 133.644531 C 326.28125 133.644531 321.804688 129.167969 321.804688 123.644531 C 321.804688 118.121094 326.28125 113.644531 331.804688 113.644531 C 337.328125 113.644531 341.804688 118.121094 341.804688 123.644531 \"/>\n",
       "<path style=\"fill-rule:nonzero;fill:rgb(74.509804%,74.509804%,74.509804%);fill-opacity:1;stroke-width:1;stroke-linecap:butt;stroke-linejoin:miter;stroke:rgb(0%,0%,0%);stroke-opacity:1;stroke-miterlimit:10;\" d=\"M 316.585938 149.066406 C 316.585938 154.589844 312.109375 159.066406 306.585938 159.066406 C 301.0625 159.066406 296.585938 154.589844 296.585938 149.066406 C 296.585938 143.542969 301.0625 139.066406 306.585938 139.066406 C 312.109375 139.066406 316.585938 143.542969 316.585938 149.066406 \"/>\n",
       "</g>\n",
       "</svg>\n"
      ],
      "text/plain": [
       "<igraph.drawing.Plot at 0x1a26cf4320>"
      ]
     },
     "execution_count": 11,
     "metadata": {},
     "output_type": "execute_result"
    }
   ],
   "source": [
    "G['layout'] = G.layout_fruchterman_reingold()\n",
    "G.vs['color'] = 'gray'\n",
    "G.es['color'] = 'gray'\n",
    "ig.plot(G)"
   ]
  },
  {
   "cell_type": "markdown",
   "metadata": {},
   "source": [
    "The most basic elements of any graph are the *nodes* and the connection between the nodes, called *edges*. Nodes are also called *vertices* and edges are also called *links*. These words will be used interchangebly. Vertices and edges are the terms that are most often used in graph theory, while nodes and links are more common in (social) network analysis. Sometimes, you also see the term *tie* or *arc* for referring to an edge."
   ]
  },
  {
   "cell_type": "markdown",
   "metadata": {},
   "source": [
    "In `igraph` the terms vertex and edges are used throughout, and they can be accessed through a so-called `VertexSequence` and `EdgeSequence`. You can make different selections of vertices and edges, either based on attributes or simply specifying specific (vertex or edge) indices. The functionality on vertex and edge sequences is quite extensive. The following just demonstrates one possibility."
   ]
  },
  {
   "cell_type": "code",
   "execution_count": 14,
   "metadata": {
    "ExecuteTime": {
     "end_time": "2019-07-05T14:12:53.188659Z",
     "start_time": "2019-07-05T14:12:53.174007Z"
    }
   },
   "outputs": [
    {
     "data": {
      "image/svg+xml": [
       "<?xml version=\"1.0\" encoding=\"UTF-8\"?>\n",
       "<svg xmlns=\"http://www.w3.org/2000/svg\" xmlns:xlink=\"http://www.w3.org/1999/xlink\" width=\"600pt\" height=\"600pt\" viewBox=\"0 0 600 600\" version=\"1.1\">\n",
       "<g id=\"surface14\">\n",
       "<rect x=\"0\" y=\"0\" width=\"600\" height=\"600\" style=\"fill:rgb(100%,100%,100%);fill-opacity:1;stroke:none;\"/>\n",
       "<path style=\"fill:none;stroke-width:1;stroke-linecap:butt;stroke-linejoin:miter;stroke:rgb(0%,0%,100%);stroke-opacity:1;stroke-miterlimit:10;\" d=\"M 362.378906 394.390625 L 486.855469 323.328125 \"/>\n",
       "<path style=\"fill:none;stroke-width:1;stroke-linecap:butt;stroke-linejoin:miter;stroke:rgb(0%,0%,100%);stroke-opacity:1;stroke-miterlimit:10;\" d=\"M 362.378906 394.390625 L 330.027344 286.5 \"/>\n",
       "<path style=\"fill:none;stroke-width:1;stroke-linecap:butt;stroke-linejoin:miter;stroke:rgb(0%,0%,100%);stroke-opacity:1;stroke-miterlimit:10;\" d=\"M 362.378906 394.390625 L 426.921875 392.140625 \"/>\n",
       "<path style=\"fill:none;stroke-width:1;stroke-linecap:butt;stroke-linejoin:miter;stroke:rgb(74.509804%,74.509804%,74.509804%);stroke-opacity:1;stroke-miterlimit:10;\" d=\"M 362.378906 394.390625 L 316.441406 501.992188 \"/>\n",
       "<path style=\"fill:none;stroke-width:1;stroke-linecap:butt;stroke-linejoin:miter;stroke:rgb(74.509804%,74.509804%,74.509804%);stroke-opacity:1;stroke-miterlimit:10;\" d=\"M 362.378906 394.390625 L 269.464844 544.046875 \"/>\n",
       "<path style=\"fill:none;stroke-width:1;stroke-linecap:butt;stroke-linejoin:miter;stroke:rgb(74.509804%,74.509804%,74.509804%);stroke-opacity:1;stroke-miterlimit:10;\" d=\"M 362.378906 394.390625 L 221.222656 506.441406 \"/>\n",
       "<path style=\"fill:none;stroke-width:1;stroke-linecap:butt;stroke-linejoin:miter;stroke:rgb(74.509804%,74.509804%,74.509804%);stroke-opacity:1;stroke-miterlimit:10;\" d=\"M 362.378906 394.390625 L 469.792969 367.972656 \"/>\n",
       "<path style=\"fill:none;stroke-width:1;stroke-linecap:butt;stroke-linejoin:miter;stroke:rgb(74.509804%,74.509804%,74.509804%);stroke-opacity:1;stroke-miterlimit:10;\" d=\"M 362.378906 394.390625 L 375.109375 229.792969 \"/>\n",
       "<path style=\"fill:none;stroke-width:1;stroke-linecap:butt;stroke-linejoin:miter;stroke:rgb(74.509804%,74.509804%,74.509804%);stroke-opacity:1;stroke-miterlimit:10;\" d=\"M 362.378906 394.390625 L 372.226562 539.21875 \"/>\n",
       "<path style=\"fill:none;stroke-width:1;stroke-linecap:butt;stroke-linejoin:miter;stroke:rgb(74.509804%,74.509804%,74.509804%);stroke-opacity:1;stroke-miterlimit:10;\" d=\"M 362.378906 394.390625 L 171.09375 436.546875 \"/>\n",
       "<path style=\"fill:none;stroke-width:1;stroke-linecap:butt;stroke-linejoin:miter;stroke:rgb(74.509804%,74.509804%,74.509804%);stroke-opacity:1;stroke-miterlimit:10;\" d=\"M 362.378906 394.390625 L 474.078125 486.546875 \"/>\n",
       "<path style=\"fill:none;stroke-width:1;stroke-linecap:butt;stroke-linejoin:miter;stroke:rgb(74.509804%,74.509804%,74.509804%);stroke-opacity:1;stroke-miterlimit:10;\" d=\"M 362.378906 394.390625 L 390.644531 302.003906 \"/>\n",
       "<path style=\"fill:none;stroke-width:1;stroke-linecap:butt;stroke-linejoin:miter;stroke:rgb(74.509804%,74.509804%,74.509804%);stroke-opacity:1;stroke-miterlimit:10;\" d=\"M 362.378906 394.390625 L 545.621094 429.398438 \"/>\n",
       "<path style=\"fill:none;stroke-width:1;stroke-linecap:butt;stroke-linejoin:miter;stroke:rgb(74.509804%,74.509804%,74.509804%);stroke-opacity:1;stroke-miterlimit:10;\" d=\"M 362.378906 394.390625 L 456.183594 260.699219 \"/>\n",
       "<path style=\"fill:none;stroke-width:1;stroke-linecap:butt;stroke-linejoin:miter;stroke:rgb(74.509804%,74.509804%,74.509804%);stroke-opacity:1;stroke-miterlimit:10;\" d=\"M 362.378906 394.390625 L 580 376.621094 \"/>\n",
       "<path style=\"fill:none;stroke-width:1;stroke-linecap:butt;stroke-linejoin:miter;stroke:rgb(74.509804%,74.509804%,74.509804%);stroke-opacity:1;stroke-miterlimit:10;\" d=\"M 362.378906 394.390625 L 190.726562 238.234375 \"/>\n",
       "<path style=\"fill:none;stroke-width:1;stroke-linecap:butt;stroke-linejoin:miter;stroke:rgb(0%,0%,100%);stroke-opacity:1;stroke-miterlimit:10;\" d=\"M 486.855469 323.328125 L 330.027344 286.5 \"/>\n",
       "<path style=\"fill:none;stroke-width:1;stroke-linecap:butt;stroke-linejoin:miter;stroke:rgb(0%,0%,100%);stroke-opacity:1;stroke-miterlimit:10;\" d=\"M 486.855469 323.328125 L 426.921875 392.140625 \"/>\n",
       "<path style=\"fill:none;stroke-width:1;stroke-linecap:butt;stroke-linejoin:miter;stroke:rgb(74.509804%,74.509804%,74.509804%);stroke-opacity:1;stroke-miterlimit:10;\" d=\"M 486.855469 323.328125 L 469.792969 367.972656 \"/>\n",
       "<path style=\"fill:none;stroke-width:1;stroke-linecap:butt;stroke-linejoin:miter;stroke:rgb(74.509804%,74.509804%,74.509804%);stroke-opacity:1;stroke-miterlimit:10;\" d=\"M 486.855469 323.328125 L 390.644531 302.003906 \"/>\n",
       "<path style=\"fill:none;stroke-width:1;stroke-linecap:butt;stroke-linejoin:miter;stroke:rgb(74.509804%,74.509804%,74.509804%);stroke-opacity:1;stroke-miterlimit:10;\" d=\"M 486.855469 323.328125 L 545.621094 429.398438 \"/>\n",
       "<path style=\"fill:none;stroke-width:1;stroke-linecap:butt;stroke-linejoin:miter;stroke:rgb(74.509804%,74.509804%,74.509804%);stroke-opacity:1;stroke-miterlimit:10;\" d=\"M 486.855469 323.328125 L 456.183594 260.699219 \"/>\n",
       "<path style=\"fill:none;stroke-width:1;stroke-linecap:butt;stroke-linejoin:miter;stroke:rgb(74.509804%,74.509804%,74.509804%);stroke-opacity:1;stroke-miterlimit:10;\" d=\"M 486.855469 323.328125 L 580 376.621094 \"/>\n",
       "<path style=\"fill:none;stroke-width:1;stroke-linecap:butt;stroke-linejoin:miter;stroke:rgb(74.509804%,74.509804%,74.509804%);stroke-opacity:1;stroke-miterlimit:10;\" d=\"M 486.855469 323.328125 L 458.546875 186.113281 \"/>\n",
       "<path style=\"fill:none;stroke-width:1;stroke-linecap:butt;stroke-linejoin:miter;stroke:rgb(0%,0%,100%);stroke-opacity:1;stroke-miterlimit:10;\" d=\"M 330.027344 286.5 L 426.921875 392.140625 \"/>\n",
       "<path style=\"fill:none;stroke-width:1;stroke-linecap:butt;stroke-linejoin:miter;stroke:rgb(74.509804%,74.509804%,74.509804%);stroke-opacity:1;stroke-miterlimit:10;\" d=\"M 330.027344 286.5 L 469.792969 367.972656 \"/>\n",
       "<path style=\"fill:none;stroke-width:1;stroke-linecap:butt;stroke-linejoin:miter;stroke:rgb(74.509804%,74.509804%,74.509804%);stroke-opacity:1;stroke-miterlimit:10;\" d=\"M 330.027344 286.5 L 147.542969 204.097656 \"/>\n",
       "<path style=\"fill:none;stroke-width:1;stroke-linecap:butt;stroke-linejoin:miter;stroke:rgb(74.509804%,74.509804%,74.509804%);stroke-opacity:1;stroke-miterlimit:10;\" d=\"M 330.027344 286.5 L 253.675781 221.515625 \"/>\n",
       "<path style=\"fill:none;stroke-width:1;stroke-linecap:butt;stroke-linejoin:miter;stroke:rgb(74.509804%,74.509804%,74.509804%);stroke-opacity:1;stroke-miterlimit:10;\" d=\"M 330.027344 286.5 L 331.804688 123.644531 \"/>\n",
       "<path style=\"fill:none;stroke-width:1;stroke-linecap:butt;stroke-linejoin:miter;stroke:rgb(74.509804%,74.509804%,74.509804%);stroke-opacity:1;stroke-miterlimit:10;\" d=\"M 330.027344 286.5 L 207.027344 283.3125 \"/>\n",
       "<path style=\"fill:none;stroke-width:1;stroke-linecap:butt;stroke-linejoin:miter;stroke:rgb(74.509804%,74.509804%,74.509804%);stroke-opacity:1;stroke-miterlimit:10;\" d=\"M 330.027344 286.5 L 375.109375 229.792969 \"/>\n",
       "<path style=\"fill:none;stroke-width:1;stroke-linecap:butt;stroke-linejoin:miter;stroke:rgb(74.509804%,74.509804%,74.509804%);stroke-opacity:1;stroke-miterlimit:10;\" d=\"M 330.027344 286.5 L 390.644531 302.003906 \"/>\n",
       "<path style=\"fill:none;stroke-width:1;stroke-linecap:butt;stroke-linejoin:miter;stroke:rgb(74.509804%,74.509804%,74.509804%);stroke-opacity:1;stroke-miterlimit:10;\" d=\"M 426.921875 392.140625 L 469.792969 367.972656 \"/>\n",
       "<path style=\"fill:none;stroke-width:1;stroke-linecap:butt;stroke-linejoin:miter;stroke:rgb(74.509804%,74.509804%,74.509804%);stroke-opacity:1;stroke-miterlimit:10;\" d=\"M 426.921875 392.140625 L 474.078125 486.546875 \"/>\n",
       "<path style=\"fill:none;stroke-width:1;stroke-linecap:butt;stroke-linejoin:miter;stroke:rgb(74.509804%,74.509804%,74.509804%);stroke-opacity:1;stroke-miterlimit:10;\" d=\"M 426.921875 392.140625 L 390.644531 302.003906 \"/>\n",
       "<path style=\"fill:none;stroke-width:1;stroke-linecap:butt;stroke-linejoin:miter;stroke:rgb(74.509804%,74.509804%,74.509804%);stroke-opacity:1;stroke-miterlimit:10;\" d=\"M 316.441406 501.992188 L 221.222656 506.441406 \"/>\n",
       "<path style=\"fill:none;stroke-width:1;stroke-linecap:butt;stroke-linejoin:miter;stroke:rgb(74.509804%,74.509804%,74.509804%);stroke-opacity:1;stroke-miterlimit:10;\" d=\"M 316.441406 501.992188 L 372.226562 539.21875 \"/>\n",
       "<path style=\"fill:none;stroke-width:1;stroke-linecap:butt;stroke-linejoin:miter;stroke:rgb(74.509804%,74.509804%,74.509804%);stroke-opacity:1;stroke-miterlimit:10;\" d=\"M 269.464844 544.046875 L 221.222656 506.441406 \"/>\n",
       "<path style=\"fill:none;stroke-width:1;stroke-linecap:butt;stroke-linejoin:miter;stroke:rgb(74.509804%,74.509804%,74.509804%);stroke-opacity:1;stroke-miterlimit:10;\" d=\"M 269.464844 544.046875 L 372.226562 539.21875 \"/>\n",
       "<path style=\"fill:none;stroke-width:1;stroke-linecap:butt;stroke-linejoin:miter;stroke:rgb(74.509804%,74.509804%,74.509804%);stroke-opacity:1;stroke-miterlimit:10;\" d=\"M 269.464844 544.046875 L 148.777344 580 \"/>\n",
       "<path style=\"fill:none;stroke-width:1;stroke-linecap:butt;stroke-linejoin:miter;stroke:rgb(74.509804%,74.509804%,74.509804%);stroke-opacity:1;stroke-miterlimit:10;\" d=\"M 221.222656 506.441406 L 148.777344 580 \"/>\n",
       "<path style=\"fill:none;stroke-width:1;stroke-linecap:butt;stroke-linejoin:miter;stroke:rgb(74.509804%,74.509804%,74.509804%);stroke-opacity:1;stroke-miterlimit:10;\" d=\"M 375.109375 229.792969 L 458.546875 186.113281 \"/>\n",
       "<path style=\"fill:none;stroke-width:1;stroke-linecap:butt;stroke-linejoin:miter;stroke:rgb(74.509804%,74.509804%,74.509804%);stroke-opacity:1;stroke-miterlimit:10;\" d=\"M 375.109375 229.792969 L 331.804688 123.644531 \"/>\n",
       "<path style=\"fill:none;stroke-width:1;stroke-linecap:butt;stroke-linejoin:miter;stroke:rgb(74.509804%,74.509804%,74.509804%);stroke-opacity:1;stroke-miterlimit:10;\" d=\"M 375.109375 229.792969 L 306.585938 149.066406 \"/>\n",
       "<path style=\"fill:none;stroke-width:1;stroke-linecap:butt;stroke-linejoin:miter;stroke:rgb(74.509804%,74.509804%,74.509804%);stroke-opacity:1;stroke-miterlimit:10;\" d=\"M 207.027344 283.3125 L 306.585938 149.066406 \"/>\n",
       "<path style=\"fill:none;stroke-width:1;stroke-linecap:butt;stroke-linejoin:miter;stroke:rgb(74.509804%,74.509804%,74.509804%);stroke-opacity:1;stroke-miterlimit:10;\" d=\"M 390.644531 302.003906 L 306.585938 149.066406 \"/>\n",
       "<path style=\"fill:none;stroke-width:1;stroke-linecap:butt;stroke-linejoin:miter;stroke:rgb(74.509804%,74.509804%,74.509804%);stroke-opacity:1;stroke-miterlimit:10;\" d=\"M 396.078125 32.746094 L 331.804688 123.644531 \"/>\n",
       "<path style=\"fill:none;stroke-width:1;stroke-linecap:butt;stroke-linejoin:miter;stroke:rgb(74.509804%,74.509804%,74.509804%);stroke-opacity:1;stroke-miterlimit:10;\" d=\"M 396.078125 32.746094 L 306.585938 149.066406 \"/>\n",
       "<path style=\"fill:none;stroke-width:1;stroke-linecap:butt;stroke-linejoin:miter;stroke:rgb(74.509804%,74.509804%,74.509804%);stroke-opacity:1;stroke-miterlimit:10;\" d=\"M 272.191406 28.792969 L 331.804688 123.644531 \"/>\n",
       "<path style=\"fill:none;stroke-width:1;stroke-linecap:butt;stroke-linejoin:miter;stroke:rgb(74.509804%,74.509804%,74.509804%);stroke-opacity:1;stroke-miterlimit:10;\" d=\"M 272.191406 28.792969 L 306.585938 149.066406 \"/>\n",
       "<path style=\"fill:none;stroke-width:1;stroke-linecap:butt;stroke-linejoin:miter;stroke:rgb(74.509804%,74.509804%,74.509804%);stroke-opacity:1;stroke-miterlimit:10;\" d=\"M 335.699219 20 L 331.804688 123.644531 \"/>\n",
       "<path style=\"fill:none;stroke-width:1;stroke-linecap:butt;stroke-linejoin:miter;stroke:rgb(74.509804%,74.509804%,74.509804%);stroke-opacity:1;stroke-miterlimit:10;\" d=\"M 335.699219 20 L 306.585938 149.066406 \"/>\n",
       "<path style=\"fill:none;stroke-width:1;stroke-linecap:butt;stroke-linejoin:miter;stroke:rgb(74.509804%,74.509804%,74.509804%);stroke-opacity:1;stroke-miterlimit:10;\" d=\"M 456.183594 260.699219 L 306.585938 149.066406 \"/>\n",
       "<path style=\"fill:none;stroke-width:1;stroke-linecap:butt;stroke-linejoin:miter;stroke:rgb(74.509804%,74.509804%,74.509804%);stroke-opacity:1;stroke-miterlimit:10;\" d=\"M 445.511719 60.796875 L 331.804688 123.644531 \"/>\n",
       "<path style=\"fill:none;stroke-width:1;stroke-linecap:butt;stroke-linejoin:miter;stroke:rgb(74.509804%,74.509804%,74.509804%);stroke-opacity:1;stroke-miterlimit:10;\" d=\"M 445.511719 60.796875 L 306.585938 149.066406 \"/>\n",
       "<path style=\"fill:none;stroke-width:1;stroke-linecap:butt;stroke-linejoin:miter;stroke:rgb(74.509804%,74.509804%,74.509804%);stroke-opacity:1;stroke-miterlimit:10;\" d=\"M 474.058594 103.523438 L 331.804688 123.644531 \"/>\n",
       "<path style=\"fill:none;stroke-width:1;stroke-linecap:butt;stroke-linejoin:miter;stroke:rgb(74.509804%,74.509804%,74.509804%);stroke-opacity:1;stroke-miterlimit:10;\" d=\"M 474.058594 103.523438 L 306.585938 149.066406 \"/>\n",
       "<path style=\"fill:none;stroke-width:1;stroke-linecap:butt;stroke-linejoin:miter;stroke:rgb(74.509804%,74.509804%,74.509804%);stroke-opacity:1;stroke-miterlimit:10;\" d=\"M 154.214844 126.300781 L 26.417969 180.246094 \"/>\n",
       "<path style=\"fill:none;stroke-width:1;stroke-linecap:butt;stroke-linejoin:miter;stroke:rgb(74.509804%,74.509804%,74.509804%);stroke-opacity:1;stroke-miterlimit:10;\" d=\"M 154.214844 126.300781 L 147.542969 204.097656 \"/>\n",
       "<path style=\"fill:none;stroke-width:1;stroke-linecap:butt;stroke-linejoin:miter;stroke:rgb(74.509804%,74.509804%,74.509804%);stroke-opacity:1;stroke-miterlimit:10;\" d=\"M 154.214844 126.300781 L 331.804688 123.644531 \"/>\n",
       "<path style=\"fill:none;stroke-width:1;stroke-linecap:butt;stroke-linejoin:miter;stroke:rgb(74.509804%,74.509804%,74.509804%);stroke-opacity:1;stroke-miterlimit:10;\" d=\"M 154.214844 126.300781 L 306.585938 149.066406 \"/>\n",
       "<path style=\"fill:none;stroke-width:1;stroke-linecap:butt;stroke-linejoin:miter;stroke:rgb(74.509804%,74.509804%,74.509804%);stroke-opacity:1;stroke-miterlimit:10;\" d=\"M 154.214844 126.300781 L 207.613281 72.308594 \"/>\n",
       "<path style=\"fill:none;stroke-width:1;stroke-linecap:butt;stroke-linejoin:miter;stroke:rgb(74.509804%,74.509804%,74.509804%);stroke-opacity:1;stroke-miterlimit:10;\" d=\"M 20 244.914062 L 26.417969 180.246094 \"/>\n",
       "<path style=\"fill:none;stroke-width:1;stroke-linecap:butt;stroke-linejoin:miter;stroke:rgb(74.509804%,74.509804%,74.509804%);stroke-opacity:1;stroke-miterlimit:10;\" d=\"M 20 244.914062 L 147.542969 204.097656 \"/>\n",
       "<path style=\"fill:none;stroke-width:1;stroke-linecap:butt;stroke-linejoin:miter;stroke:rgb(74.509804%,74.509804%,74.509804%);stroke-opacity:1;stroke-miterlimit:10;\" d=\"M 20 244.914062 L 190.726562 238.234375 \"/>\n",
       "<path style=\"fill:none;stroke-width:1;stroke-linecap:butt;stroke-linejoin:miter;stroke:rgb(74.509804%,74.509804%,74.509804%);stroke-opacity:1;stroke-miterlimit:10;\" d=\"M 26.417969 180.246094 L 190.726562 238.234375 \"/>\n",
       "<path style=\"fill:none;stroke-width:1;stroke-linecap:butt;stroke-linejoin:miter;stroke:rgb(74.509804%,74.509804%,74.509804%);stroke-opacity:1;stroke-miterlimit:10;\" d=\"M 155.378906 30.777344 L 207.613281 72.308594 \"/>\n",
       "<path style=\"fill:none;stroke-width:1;stroke-linecap:butt;stroke-linejoin:miter;stroke:rgb(74.509804%,74.509804%,74.509804%);stroke-opacity:1;stroke-miterlimit:10;\" d=\"M 155.378906 30.777344 L 306.585938 149.066406 \"/>\n",
       "<path style=\"fill:none;stroke-width:1;stroke-linecap:butt;stroke-linejoin:miter;stroke:rgb(74.509804%,74.509804%,74.509804%);stroke-opacity:1;stroke-miterlimit:10;\" d=\"M 147.542969 204.097656 L 306.585938 149.066406 \"/>\n",
       "<path style=\"fill:none;stroke-width:1;stroke-linecap:butt;stroke-linejoin:miter;stroke:rgb(74.509804%,74.509804%,74.509804%);stroke-opacity:1;stroke-miterlimit:10;\" d=\"M 253.675781 221.515625 L 190.726562 238.234375 \"/>\n",
       "<path style=\"fill:none;stroke-width:1;stroke-linecap:butt;stroke-linejoin:miter;stroke:rgb(74.509804%,74.509804%,74.509804%);stroke-opacity:1;stroke-miterlimit:10;\" d=\"M 253.675781 221.515625 L 306.585938 149.066406 \"/>\n",
       "<path style=\"fill:none;stroke-width:1;stroke-linecap:butt;stroke-linejoin:miter;stroke:rgb(74.509804%,74.509804%,74.509804%);stroke-opacity:1;stroke-miterlimit:10;\" d=\"M 207.613281 72.308594 L 331.804688 123.644531 \"/>\n",
       "<path style=\"fill:none;stroke-width:1;stroke-linecap:butt;stroke-linejoin:miter;stroke:rgb(74.509804%,74.509804%,74.509804%);stroke-opacity:1;stroke-miterlimit:10;\" d=\"M 207.613281 72.308594 L 306.585938 149.066406 \"/>\n",
       "<path style=\"fill:none;stroke-width:1;stroke-linecap:butt;stroke-linejoin:miter;stroke:rgb(74.509804%,74.509804%,74.509804%);stroke-opacity:1;stroke-miterlimit:10;\" d=\"M 458.546875 186.113281 L 331.804688 123.644531 \"/>\n",
       "<path style=\"fill:none;stroke-width:1;stroke-linecap:butt;stroke-linejoin:miter;stroke:rgb(74.509804%,74.509804%,74.509804%);stroke-opacity:1;stroke-miterlimit:10;\" d=\"M 458.546875 186.113281 L 306.585938 149.066406 \"/>\n",
       "<path style=\"fill:none;stroke-width:1;stroke-linecap:butt;stroke-linejoin:miter;stroke:rgb(74.509804%,74.509804%,74.509804%);stroke-opacity:1;stroke-miterlimit:10;\" d=\"M 190.726562 238.234375 L 331.804688 123.644531 \"/>\n",
       "<path style=\"fill:none;stroke-width:1;stroke-linecap:butt;stroke-linejoin:miter;stroke:rgb(74.509804%,74.509804%,74.509804%);stroke-opacity:1;stroke-miterlimit:10;\" d=\"M 190.726562 238.234375 L 306.585938 149.066406 \"/>\n",
       "<path style=\"fill:none;stroke-width:1;stroke-linecap:butt;stroke-linejoin:miter;stroke:rgb(74.509804%,74.509804%,74.509804%);stroke-opacity:1;stroke-miterlimit:10;\" d=\"M 331.804688 123.644531 L 306.585938 149.066406 \"/>\n",
       "<path style=\"fill-rule:nonzero;fill:rgb(0%,0%,100%);fill-opacity:1;stroke-width:1;stroke-linecap:butt;stroke-linejoin:miter;stroke:rgb(0%,0%,0%);stroke-opacity:1;stroke-miterlimit:10;\" d=\"M 372.378906 394.390625 C 372.378906 399.910156 367.898438 404.390625 362.378906 404.390625 C 356.855469 404.390625 352.378906 399.910156 352.378906 394.390625 C 352.378906 388.867188 356.855469 384.390625 362.378906 384.390625 C 367.898438 384.390625 372.378906 388.867188 372.378906 394.390625 \"/>\n",
       "<path style=\"fill-rule:nonzero;fill:rgb(0%,0%,100%);fill-opacity:1;stroke-width:1;stroke-linecap:butt;stroke-linejoin:miter;stroke:rgb(0%,0%,0%);stroke-opacity:1;stroke-miterlimit:10;\" d=\"M 496.855469 323.328125 C 496.855469 328.851562 492.378906 333.328125 486.855469 333.328125 C 481.335938 333.328125 476.855469 328.851562 476.855469 323.328125 C 476.855469 317.804688 481.335938 313.328125 486.855469 313.328125 C 492.378906 313.328125 496.855469 317.804688 496.855469 323.328125 \"/>\n",
       "<path style=\"fill-rule:nonzero;fill:rgb(0%,0%,100%);fill-opacity:1;stroke-width:1;stroke-linecap:butt;stroke-linejoin:miter;stroke:rgb(0%,0%,0%);stroke-opacity:1;stroke-miterlimit:10;\" d=\"M 340.027344 286.5 C 340.027344 292.023438 335.550781 296.5 330.027344 296.5 C 324.503906 296.5 320.027344 292.023438 320.027344 286.5 C 320.027344 280.976562 324.503906 276.5 330.027344 276.5 C 335.550781 276.5 340.027344 280.976562 340.027344 286.5 \"/>\n",
       "<path style=\"fill-rule:nonzero;fill:rgb(0%,0%,100%);fill-opacity:1;stroke-width:1;stroke-linecap:butt;stroke-linejoin:miter;stroke:rgb(0%,0%,0%);stroke-opacity:1;stroke-miterlimit:10;\" d=\"M 436.921875 392.140625 C 436.921875 397.664062 432.445312 402.140625 426.921875 402.140625 C 421.398438 402.140625 416.921875 397.664062 416.921875 392.140625 C 416.921875 386.617188 421.398438 382.140625 426.921875 382.140625 C 432.445312 382.140625 436.921875 386.617188 436.921875 392.140625 \"/>\n",
       "<path style=\"fill-rule:nonzero;fill:rgb(74.509804%,74.509804%,74.509804%);fill-opacity:1;stroke-width:1;stroke-linecap:butt;stroke-linejoin:miter;stroke:rgb(0%,0%,0%);stroke-opacity:1;stroke-miterlimit:10;\" d=\"M 326.441406 501.992188 C 326.441406 507.515625 321.964844 511.992188 316.441406 511.992188 C 310.917969 511.992188 306.441406 507.515625 306.441406 501.992188 C 306.441406 496.46875 310.917969 491.992188 316.441406 491.992188 C 321.964844 491.992188 326.441406 496.46875 326.441406 501.992188 \"/>\n",
       "<path style=\"fill-rule:nonzero;fill:rgb(74.509804%,74.509804%,74.509804%);fill-opacity:1;stroke-width:1;stroke-linecap:butt;stroke-linejoin:miter;stroke:rgb(0%,0%,0%);stroke-opacity:1;stroke-miterlimit:10;\" d=\"M 279.464844 544.046875 C 279.464844 549.570312 274.988281 554.046875 269.464844 554.046875 C 263.941406 554.046875 259.464844 549.570312 259.464844 544.046875 C 259.464844 538.523438 263.941406 534.046875 269.464844 534.046875 C 274.988281 534.046875 279.464844 538.523438 279.464844 544.046875 \"/>\n",
       "<path style=\"fill-rule:nonzero;fill:rgb(74.509804%,74.509804%,74.509804%);fill-opacity:1;stroke-width:1;stroke-linecap:butt;stroke-linejoin:miter;stroke:rgb(0%,0%,0%);stroke-opacity:1;stroke-miterlimit:10;\" d=\"M 231.222656 506.441406 C 231.222656 511.964844 226.746094 516.441406 221.222656 516.441406 C 215.699219 516.441406 211.222656 511.964844 211.222656 506.441406 C 211.222656 500.917969 215.699219 496.441406 221.222656 496.441406 C 226.746094 496.441406 231.222656 500.917969 231.222656 506.441406 \"/>\n",
       "<path style=\"fill-rule:nonzero;fill:rgb(74.509804%,74.509804%,74.509804%);fill-opacity:1;stroke-width:1;stroke-linecap:butt;stroke-linejoin:miter;stroke:rgb(0%,0%,0%);stroke-opacity:1;stroke-miterlimit:10;\" d=\"M 479.792969 367.972656 C 479.792969 373.496094 475.316406 377.972656 469.792969 377.972656 C 464.269531 377.972656 459.792969 373.496094 459.792969 367.972656 C 459.792969 362.453125 464.269531 357.972656 469.792969 357.972656 C 475.316406 357.972656 479.792969 362.453125 479.792969 367.972656 \"/>\n",
       "<path style=\"fill-rule:nonzero;fill:rgb(74.509804%,74.509804%,74.509804%);fill-opacity:1;stroke-width:1;stroke-linecap:butt;stroke-linejoin:miter;stroke:rgb(0%,0%,0%);stroke-opacity:1;stroke-miterlimit:10;\" d=\"M 385.109375 229.792969 C 385.109375 235.3125 380.628906 239.792969 375.109375 239.792969 C 369.585938 239.792969 365.109375 235.3125 365.109375 229.792969 C 365.109375 224.269531 369.585938 219.792969 375.109375 219.792969 C 380.628906 219.792969 385.109375 224.269531 385.109375 229.792969 \"/>\n",
       "<path style=\"fill-rule:nonzero;fill:rgb(74.509804%,74.509804%,74.509804%);fill-opacity:1;stroke-width:1;stroke-linecap:butt;stroke-linejoin:miter;stroke:rgb(0%,0%,0%);stroke-opacity:1;stroke-miterlimit:10;\" d=\"M 217.027344 283.3125 C 217.027344 288.835938 212.546875 293.3125 207.027344 293.3125 C 201.503906 293.3125 197.027344 288.835938 197.027344 283.3125 C 197.027344 277.789062 201.503906 273.3125 207.027344 273.3125 C 212.546875 273.3125 217.027344 277.789062 217.027344 283.3125 \"/>\n",
       "<path style=\"fill-rule:nonzero;fill:rgb(74.509804%,74.509804%,74.509804%);fill-opacity:1;stroke-width:1;stroke-linecap:butt;stroke-linejoin:miter;stroke:rgb(0%,0%,0%);stroke-opacity:1;stroke-miterlimit:10;\" d=\"M 382.226562 539.21875 C 382.226562 544.742188 377.746094 549.21875 372.226562 549.21875 C 366.703125 549.21875 362.226562 544.742188 362.226562 539.21875 C 362.226562 533.695312 366.703125 529.21875 372.226562 529.21875 C 377.746094 529.21875 382.226562 533.695312 382.226562 539.21875 \"/>\n",
       "<path style=\"fill-rule:nonzero;fill:rgb(74.509804%,74.509804%,74.509804%);fill-opacity:1;stroke-width:1;stroke-linecap:butt;stroke-linejoin:miter;stroke:rgb(0%,0%,0%);stroke-opacity:1;stroke-miterlimit:10;\" d=\"M 181.09375 436.546875 C 181.09375 442.070312 176.617188 446.546875 171.09375 446.546875 C 165.570312 446.546875 161.09375 442.070312 161.09375 436.546875 C 161.09375 431.023438 165.570312 426.546875 171.09375 426.546875 C 176.617188 426.546875 181.09375 431.023438 181.09375 436.546875 \"/>\n",
       "<path style=\"fill-rule:nonzero;fill:rgb(74.509804%,74.509804%,74.509804%);fill-opacity:1;stroke-width:1;stroke-linecap:butt;stroke-linejoin:miter;stroke:rgb(0%,0%,0%);stroke-opacity:1;stroke-miterlimit:10;\" d=\"M 484.078125 486.546875 C 484.078125 492.070312 479.601562 496.546875 474.078125 496.546875 C 468.554688 496.546875 464.078125 492.070312 464.078125 486.546875 C 464.078125 481.023438 468.554688 476.546875 474.078125 476.546875 C 479.601562 476.546875 484.078125 481.023438 484.078125 486.546875 \"/>\n",
       "<path style=\"fill-rule:nonzero;fill:rgb(74.509804%,74.509804%,74.509804%);fill-opacity:1;stroke-width:1;stroke-linecap:butt;stroke-linejoin:miter;stroke:rgb(0%,0%,0%);stroke-opacity:1;stroke-miterlimit:10;\" d=\"M 400.644531 302.003906 C 400.644531 307.527344 396.167969 312.003906 390.644531 312.003906 C 385.121094 312.003906 380.644531 307.527344 380.644531 302.003906 C 380.644531 296.480469 385.121094 292.003906 390.644531 292.003906 C 396.167969 292.003906 400.644531 296.480469 400.644531 302.003906 \"/>\n",
       "<path style=\"fill-rule:nonzero;fill:rgb(74.509804%,74.509804%,74.509804%);fill-opacity:1;stroke-width:1;stroke-linecap:butt;stroke-linejoin:miter;stroke:rgb(0%,0%,0%);stroke-opacity:1;stroke-miterlimit:10;\" d=\"M 406.078125 32.746094 C 406.078125 38.269531 401.601562 42.746094 396.078125 42.746094 C 390.554688 42.746094 386.078125 38.269531 386.078125 32.746094 C 386.078125 27.222656 390.554688 22.746094 396.078125 22.746094 C 401.601562 22.746094 406.078125 27.222656 406.078125 32.746094 \"/>\n",
       "<path style=\"fill-rule:nonzero;fill:rgb(74.509804%,74.509804%,74.509804%);fill-opacity:1;stroke-width:1;stroke-linecap:butt;stroke-linejoin:miter;stroke:rgb(0%,0%,0%);stroke-opacity:1;stroke-miterlimit:10;\" d=\"M 282.191406 28.792969 C 282.191406 34.316406 277.714844 38.792969 272.191406 38.792969 C 266.671875 38.792969 262.191406 34.316406 262.191406 28.792969 C 262.191406 23.269531 266.671875 18.792969 272.191406 18.792969 C 277.714844 18.792969 282.191406 23.269531 282.191406 28.792969 \"/>\n",
       "<path style=\"fill-rule:nonzero;fill:rgb(74.509804%,74.509804%,74.509804%);fill-opacity:1;stroke-width:1;stroke-linecap:butt;stroke-linejoin:miter;stroke:rgb(0%,0%,0%);stroke-opacity:1;stroke-miterlimit:10;\" d=\"M 158.777344 580 C 158.777344 585.523438 154.300781 590 148.777344 590 C 143.257812 590 138.777344 585.523438 138.777344 580 C 138.777344 574.476562 143.257812 570 148.777344 570 C 154.300781 570 158.777344 574.476562 158.777344 580 \"/>\n",
       "<path style=\"fill-rule:nonzero;fill:rgb(74.509804%,74.509804%,74.509804%);fill-opacity:1;stroke-width:1;stroke-linecap:butt;stroke-linejoin:miter;stroke:rgb(0%,0%,0%);stroke-opacity:1;stroke-miterlimit:10;\" d=\"M 555.621094 429.398438 C 555.621094 434.921875 551.144531 439.398438 545.621094 439.398438 C 540.097656 439.398438 535.621094 434.921875 535.621094 429.398438 C 535.621094 423.875 540.097656 419.398438 545.621094 419.398438 C 551.144531 419.398438 555.621094 423.875 555.621094 429.398438 \"/>\n",
       "<path style=\"fill-rule:nonzero;fill:rgb(74.509804%,74.509804%,74.509804%);fill-opacity:1;stroke-width:1;stroke-linecap:butt;stroke-linejoin:miter;stroke:rgb(0%,0%,0%);stroke-opacity:1;stroke-miterlimit:10;\" d=\"M 345.699219 20 C 345.699219 25.523438 341.222656 30 335.699219 30 C 330.175781 30 325.699219 25.523438 325.699219 20 C 325.699219 14.476562 330.175781 10 335.699219 10 C 341.222656 10 345.699219 14.476562 345.699219 20 \"/>\n",
       "<path style=\"fill-rule:nonzero;fill:rgb(74.509804%,74.509804%,74.509804%);fill-opacity:1;stroke-width:1;stroke-linecap:butt;stroke-linejoin:miter;stroke:rgb(0%,0%,0%);stroke-opacity:1;stroke-miterlimit:10;\" d=\"M 466.183594 260.699219 C 466.183594 266.222656 461.707031 270.699219 456.183594 270.699219 C 450.660156 270.699219 446.183594 266.222656 446.183594 260.699219 C 446.183594 255.179688 450.660156 250.699219 456.183594 250.699219 C 461.707031 250.699219 466.183594 255.179688 466.183594 260.699219 \"/>\n",
       "<path style=\"fill-rule:nonzero;fill:rgb(74.509804%,74.509804%,74.509804%);fill-opacity:1;stroke-width:1;stroke-linecap:butt;stroke-linejoin:miter;stroke:rgb(0%,0%,0%);stroke-opacity:1;stroke-miterlimit:10;\" d=\"M 455.511719 60.796875 C 455.511719 66.320312 451.03125 70.796875 445.511719 70.796875 C 439.988281 70.796875 435.511719 66.320312 435.511719 60.796875 C 435.511719 55.273438 439.988281 50.796875 445.511719 50.796875 C 451.03125 50.796875 455.511719 55.273438 455.511719 60.796875 \"/>\n",
       "<path style=\"fill-rule:nonzero;fill:rgb(74.509804%,74.509804%,74.509804%);fill-opacity:1;stroke-width:1;stroke-linecap:butt;stroke-linejoin:miter;stroke:rgb(0%,0%,0%);stroke-opacity:1;stroke-miterlimit:10;\" d=\"M 590 376.621094 C 590 382.140625 585.523438 386.621094 580 386.621094 C 574.476562 386.621094 570 382.140625 570 376.621094 C 570 371.097656 574.476562 366.621094 580 366.621094 C 585.523438 366.621094 590 371.097656 590 376.621094 \"/>\n",
       "<path style=\"fill-rule:nonzero;fill:rgb(74.509804%,74.509804%,74.509804%);fill-opacity:1;stroke-width:1;stroke-linecap:butt;stroke-linejoin:miter;stroke:rgb(0%,0%,0%);stroke-opacity:1;stroke-miterlimit:10;\" d=\"M 484.058594 103.523438 C 484.058594 109.046875 479.582031 113.523438 474.058594 113.523438 C 468.539062 113.523438 464.058594 109.046875 464.058594 103.523438 C 464.058594 98 468.539062 93.523438 474.058594 93.523438 C 479.582031 93.523438 484.058594 98 484.058594 103.523438 \"/>\n",
       "<path style=\"fill-rule:nonzero;fill:rgb(74.509804%,74.509804%,74.509804%);fill-opacity:1;stroke-width:1;stroke-linecap:butt;stroke-linejoin:miter;stroke:rgb(0%,0%,0%);stroke-opacity:1;stroke-miterlimit:10;\" d=\"M 164.214844 126.300781 C 164.214844 131.824219 159.738281 136.300781 154.214844 136.300781 C 148.691406 136.300781 144.214844 131.824219 144.214844 126.300781 C 144.214844 120.777344 148.691406 116.300781 154.214844 116.300781 C 159.738281 116.300781 164.214844 120.777344 164.214844 126.300781 \"/>\n",
       "<path style=\"fill-rule:nonzero;fill:rgb(74.509804%,74.509804%,74.509804%);fill-opacity:1;stroke-width:1;stroke-linecap:butt;stroke-linejoin:miter;stroke:rgb(0%,0%,0%);stroke-opacity:1;stroke-miterlimit:10;\" d=\"M 30 244.914062 C 30 250.433594 25.523438 254.914062 20 254.914062 C 14.476562 254.914062 10 250.433594 10 244.914062 C 10 239.390625 14.476562 234.914062 20 234.914062 C 25.523438 234.914062 30 239.390625 30 244.914062 \"/>\n",
       "<path style=\"fill-rule:nonzero;fill:rgb(74.509804%,74.509804%,74.509804%);fill-opacity:1;stroke-width:1;stroke-linecap:butt;stroke-linejoin:miter;stroke:rgb(0%,0%,0%);stroke-opacity:1;stroke-miterlimit:10;\" d=\"M 36.417969 180.246094 C 36.417969 185.769531 31.941406 190.246094 26.417969 190.246094 C 20.894531 190.246094 16.417969 185.769531 16.417969 180.246094 C 16.417969 174.726562 20.894531 170.246094 26.417969 170.246094 C 31.941406 170.246094 36.417969 174.726562 36.417969 180.246094 \"/>\n",
       "<path style=\"fill-rule:nonzero;fill:rgb(74.509804%,74.509804%,74.509804%);fill-opacity:1;stroke-width:1;stroke-linecap:butt;stroke-linejoin:miter;stroke:rgb(0%,0%,0%);stroke-opacity:1;stroke-miterlimit:10;\" d=\"M 165.378906 30.777344 C 165.378906 36.300781 160.902344 40.777344 155.378906 40.777344 C 149.855469 40.777344 145.378906 36.300781 145.378906 30.777344 C 145.378906 25.253906 149.855469 20.777344 155.378906 20.777344 C 160.902344 20.777344 165.378906 25.253906 165.378906 30.777344 \"/>\n",
       "<path style=\"fill-rule:nonzero;fill:rgb(74.509804%,74.509804%,74.509804%);fill-opacity:1;stroke-width:1;stroke-linecap:butt;stroke-linejoin:miter;stroke:rgb(0%,0%,0%);stroke-opacity:1;stroke-miterlimit:10;\" d=\"M 157.542969 204.097656 C 157.542969 209.617188 153.066406 214.097656 147.542969 214.097656 C 142.023438 214.097656 137.542969 209.617188 137.542969 204.097656 C 137.542969 198.574219 142.023438 194.097656 147.542969 194.097656 C 153.066406 194.097656 157.542969 198.574219 157.542969 204.097656 \"/>\n",
       "<path style=\"fill-rule:nonzero;fill:rgb(74.509804%,74.509804%,74.509804%);fill-opacity:1;stroke-width:1;stroke-linecap:butt;stroke-linejoin:miter;stroke:rgb(0%,0%,0%);stroke-opacity:1;stroke-miterlimit:10;\" d=\"M 263.675781 221.515625 C 263.675781 227.039062 259.199219 231.515625 253.675781 231.515625 C 248.152344 231.515625 243.675781 227.039062 243.675781 221.515625 C 243.675781 215.992188 248.152344 211.515625 253.675781 211.515625 C 259.199219 211.515625 263.675781 215.992188 263.675781 221.515625 \"/>\n",
       "<path style=\"fill-rule:nonzero;fill:rgb(74.509804%,74.509804%,74.509804%);fill-opacity:1;stroke-width:1;stroke-linecap:butt;stroke-linejoin:miter;stroke:rgb(0%,0%,0%);stroke-opacity:1;stroke-miterlimit:10;\" d=\"M 217.613281 72.308594 C 217.613281 77.832031 213.136719 82.308594 207.613281 82.308594 C 202.089844 82.308594 197.613281 77.832031 197.613281 72.308594 C 197.613281 66.785156 202.089844 62.308594 207.613281 62.308594 C 213.136719 62.308594 217.613281 66.785156 217.613281 72.308594 \"/>\n",
       "<path style=\"fill-rule:nonzero;fill:rgb(74.509804%,74.509804%,74.509804%);fill-opacity:1;stroke-width:1;stroke-linecap:butt;stroke-linejoin:miter;stroke:rgb(0%,0%,0%);stroke-opacity:1;stroke-miterlimit:10;\" d=\"M 468.546875 186.113281 C 468.546875 191.636719 464.070312 196.113281 458.546875 196.113281 C 453.023438 196.113281 448.546875 191.636719 448.546875 186.113281 C 448.546875 180.59375 453.023438 176.113281 458.546875 176.113281 C 464.070312 176.113281 468.546875 180.59375 468.546875 186.113281 \"/>\n",
       "<path style=\"fill-rule:nonzero;fill:rgb(74.509804%,74.509804%,74.509804%);fill-opacity:1;stroke-width:1;stroke-linecap:butt;stroke-linejoin:miter;stroke:rgb(0%,0%,0%);stroke-opacity:1;stroke-miterlimit:10;\" d=\"M 200.726562 238.234375 C 200.726562 243.757812 196.25 248.234375 190.726562 248.234375 C 185.203125 248.234375 180.726562 243.757812 180.726562 238.234375 C 180.726562 232.710938 185.203125 228.234375 190.726562 228.234375 C 196.25 228.234375 200.726562 232.710938 200.726562 238.234375 \"/>\n",
       "<path style=\"fill-rule:nonzero;fill:rgb(74.509804%,74.509804%,74.509804%);fill-opacity:1;stroke-width:1;stroke-linecap:butt;stroke-linejoin:miter;stroke:rgb(0%,0%,0%);stroke-opacity:1;stroke-miterlimit:10;\" d=\"M 341.804688 123.644531 C 341.804688 129.167969 337.328125 133.644531 331.804688 133.644531 C 326.28125 133.644531 321.804688 129.167969 321.804688 123.644531 C 321.804688 118.121094 326.28125 113.644531 331.804688 113.644531 C 337.328125 113.644531 341.804688 118.121094 341.804688 123.644531 \"/>\n",
       "<path style=\"fill-rule:nonzero;fill:rgb(74.509804%,74.509804%,74.509804%);fill-opacity:1;stroke-width:1;stroke-linecap:butt;stroke-linejoin:miter;stroke:rgb(0%,0%,0%);stroke-opacity:1;stroke-miterlimit:10;\" d=\"M 316.585938 149.066406 C 316.585938 154.589844 312.109375 159.066406 306.585938 159.066406 C 301.0625 159.066406 296.585938 154.589844 296.585938 149.066406 C 296.585938 143.542969 301.0625 139.066406 306.585938 139.066406 C 312.109375 139.066406 316.585938 143.542969 316.585938 149.066406 \"/>\n",
       "</g>\n",
       "</svg>\n"
      ],
      "text/plain": [
       "<igraph.drawing.Plot at 0x1a26efeac8>"
      ]
     },
     "execution_count": 14,
     "metadata": {},
     "output_type": "execute_result"
    }
   ],
   "source": [
    "vs = G.vs[[0, 1, 2, 3]]\n",
    "es = G.es.select(_within=vs)\n",
    "vs['color'] = 'blue'\n",
    "es['color'] = 'blue'\n",
    "ig.plot(G)"
   ]
  },
  {
   "cell_type": "markdown",
   "metadata": {},
   "source": [
    "The nodes that are linked to another node are called the *neighbors* of a node. The number of neighbors is called the *degree* of a node."
   ]
  },
  {
   "cell_type": "code",
   "execution_count": 15,
   "metadata": {
    "ExecuteTime": {
     "end_time": "2019-07-05T14:21:37.686095Z",
     "start_time": "2019-07-05T14:21:37.680945Z"
    }
   },
   "outputs": [
    {
     "name": "stdout",
     "output_type": "stream",
     "text": [
      "[0, 6, 10] 3\n"
     ]
    }
   ],
   "source": [
    "neighbors = G.neighbors(4)\n",
    "print(neighbors, G.degree(4))"
   ]
  },
  {
   "cell_type": "markdown",
   "metadata": {},
   "source": [
    "## Paths"
   ]
  },
  {
   "cell_type": "markdown",
   "metadata": {},
   "source": [
    "One of the most basic operations on any network is finding a *path* from one node to another node, not unlike finding a route from one city to another using some navigational software."
   ]
  },
  {
   "cell_type": "code",
   "execution_count": 16,
   "metadata": {
    "ExecuteTime": {
     "end_time": "2019-07-05T14:22:00.102079Z",
     "start_time": "2019-07-05T14:22:00.090269Z"
    }
   },
   "outputs": [
    {
     "data": {
      "text/plain": [
       "[[39, 4, 1, 28, 48]]"
      ]
     },
     "execution_count": 16,
     "metadata": {},
     "output_type": "execute_result"
    }
   ],
   "source": [
    "edge_paths = G.get_shortest_paths(v=16, to=15, output='epath')\n",
    "edge_paths"
   ]
  },
  {
   "cell_type": "markdown",
   "metadata": {},
   "source": [
    "This retrieves a shortest path between node `16` and node `15`. It returns the *indices* of the edges because we set `output='epath'`. In this case there is only one path of 5 edges long. We can also get the endpoints of those edges, so that the path becomes a bit more clear."
   ]
  },
  {
   "cell_type": "code",
   "execution_count": 17,
   "metadata": {
    "ExecuteTime": {
     "end_time": "2019-07-05T14:22:24.741428Z",
     "start_time": "2019-07-05T14:22:24.734999Z"
    }
   },
   "outputs": [
    {
     "data": {
      "text/plain": [
       "[(5, 16), (0, 5), (0, 2), (2, 32), (15, 32)]"
      ]
     },
     "execution_count": 17,
     "metadata": {},
     "output_type": "execute_result"
    }
   ],
   "source": [
    "edge_path = G.es[edge_paths[0]];\n",
    "[(edge.source, edge.target) for edge in edge_path]"
   ]
  },
  {
   "cell_type": "markdown",
   "metadata": {},
   "source": [
    "We can also get the same path in terms of vertices"
   ]
  },
  {
   "cell_type": "code",
   "execution_count": 18,
   "metadata": {
    "ExecuteTime": {
     "end_time": "2019-07-05T14:22:30.248999Z",
     "start_time": "2019-07-05T14:22:30.243306Z"
    }
   },
   "outputs": [
    {
     "data": {
      "text/plain": [
       "[16, 5, 0, 2, 32, 15]"
      ]
     },
     "execution_count": 18,
     "metadata": {},
     "output_type": "execute_result"
    }
   ],
   "source": [
    "vertex_path = G.vs[G.get_shortest_paths(v=16, to=15, output='vpath')[0]]\n",
    "[v.index for v in vertex_path]"
   ]
  },
  {
   "cell_type": "markdown",
   "metadata": {},
   "source": [
    "We can visualize this path as follows."
   ]
  },
  {
   "cell_type": "code",
   "execution_count": 19,
   "metadata": {
    "ExecuteTime": {
     "end_time": "2019-07-05T14:22:33.651475Z",
     "start_time": "2019-07-05T14:22:33.638048Z"
    }
   },
   "outputs": [
    {
     "data": {
      "image/svg+xml": [
       "<?xml version=\"1.0\" encoding=\"UTF-8\"?>\n",
       "<svg xmlns=\"http://www.w3.org/2000/svg\" xmlns:xlink=\"http://www.w3.org/1999/xlink\" width=\"600pt\" height=\"600pt\" viewBox=\"0 0 600 600\" version=\"1.1\">\n",
       "<g id=\"surface20\">\n",
       "<rect x=\"0\" y=\"0\" width=\"600\" height=\"600\" style=\"fill:rgb(100%,100%,100%);fill-opacity:1;stroke:none;\"/>\n",
       "<path style=\"fill:none;stroke-width:0.5;stroke-linecap:butt;stroke-linejoin:miter;stroke:rgb(74.509804%,74.509804%,74.509804%);stroke-opacity:1;stroke-miterlimit:10;\" d=\"M 362.378906 394.390625 L 486.855469 323.328125 \"/>\n",
       "<path style=\"fill:none;stroke-width:2;stroke-linecap:butt;stroke-linejoin:miter;stroke:rgb(100%,0%,0%);stroke-opacity:1;stroke-miterlimit:10;\" d=\"M 362.378906 394.390625 L 330.027344 286.5 \"/>\n",
       "<path style=\"fill:none;stroke-width:0.5;stroke-linecap:butt;stroke-linejoin:miter;stroke:rgb(74.509804%,74.509804%,74.509804%);stroke-opacity:1;stroke-miterlimit:10;\" d=\"M 362.378906 394.390625 L 426.921875 392.140625 \"/>\n",
       "<path style=\"fill:none;stroke-width:0.5;stroke-linecap:butt;stroke-linejoin:miter;stroke:rgb(74.509804%,74.509804%,74.509804%);stroke-opacity:1;stroke-miterlimit:10;\" d=\"M 362.378906 394.390625 L 316.441406 501.992188 \"/>\n",
       "<path style=\"fill:none;stroke-width:2;stroke-linecap:butt;stroke-linejoin:miter;stroke:rgb(100%,0%,0%);stroke-opacity:1;stroke-miterlimit:10;\" d=\"M 362.378906 394.390625 L 269.464844 544.046875 \"/>\n",
       "<path style=\"fill:none;stroke-width:0.5;stroke-linecap:butt;stroke-linejoin:miter;stroke:rgb(74.509804%,74.509804%,74.509804%);stroke-opacity:1;stroke-miterlimit:10;\" d=\"M 362.378906 394.390625 L 221.222656 506.441406 \"/>\n",
       "<path style=\"fill:none;stroke-width:0.5;stroke-linecap:butt;stroke-linejoin:miter;stroke:rgb(74.509804%,74.509804%,74.509804%);stroke-opacity:1;stroke-miterlimit:10;\" d=\"M 362.378906 394.390625 L 469.792969 367.972656 \"/>\n",
       "<path style=\"fill:none;stroke-width:0.5;stroke-linecap:butt;stroke-linejoin:miter;stroke:rgb(74.509804%,74.509804%,74.509804%);stroke-opacity:1;stroke-miterlimit:10;\" d=\"M 362.378906 394.390625 L 375.109375 229.792969 \"/>\n",
       "<path style=\"fill:none;stroke-width:0.5;stroke-linecap:butt;stroke-linejoin:miter;stroke:rgb(74.509804%,74.509804%,74.509804%);stroke-opacity:1;stroke-miterlimit:10;\" d=\"M 362.378906 394.390625 L 372.226562 539.21875 \"/>\n",
       "<path style=\"fill:none;stroke-width:0.5;stroke-linecap:butt;stroke-linejoin:miter;stroke:rgb(74.509804%,74.509804%,74.509804%);stroke-opacity:1;stroke-miterlimit:10;\" d=\"M 362.378906 394.390625 L 171.09375 436.546875 \"/>\n",
       "<path style=\"fill:none;stroke-width:0.5;stroke-linecap:butt;stroke-linejoin:miter;stroke:rgb(74.509804%,74.509804%,74.509804%);stroke-opacity:1;stroke-miterlimit:10;\" d=\"M 362.378906 394.390625 L 474.078125 486.546875 \"/>\n",
       "<path style=\"fill:none;stroke-width:0.5;stroke-linecap:butt;stroke-linejoin:miter;stroke:rgb(74.509804%,74.509804%,74.509804%);stroke-opacity:1;stroke-miterlimit:10;\" d=\"M 362.378906 394.390625 L 390.644531 302.003906 \"/>\n",
       "<path style=\"fill:none;stroke-width:0.5;stroke-linecap:butt;stroke-linejoin:miter;stroke:rgb(74.509804%,74.509804%,74.509804%);stroke-opacity:1;stroke-miterlimit:10;\" d=\"M 362.378906 394.390625 L 545.621094 429.398438 \"/>\n",
       "<path style=\"fill:none;stroke-width:0.5;stroke-linecap:butt;stroke-linejoin:miter;stroke:rgb(74.509804%,74.509804%,74.509804%);stroke-opacity:1;stroke-miterlimit:10;\" d=\"M 362.378906 394.390625 L 456.183594 260.699219 \"/>\n",
       "<path style=\"fill:none;stroke-width:0.5;stroke-linecap:butt;stroke-linejoin:miter;stroke:rgb(74.509804%,74.509804%,74.509804%);stroke-opacity:1;stroke-miterlimit:10;\" d=\"M 362.378906 394.390625 L 580 376.621094 \"/>\n",
       "<path style=\"fill:none;stroke-width:0.5;stroke-linecap:butt;stroke-linejoin:miter;stroke:rgb(74.509804%,74.509804%,74.509804%);stroke-opacity:1;stroke-miterlimit:10;\" d=\"M 362.378906 394.390625 L 190.726562 238.234375 \"/>\n",
       "<path style=\"fill:none;stroke-width:0.5;stroke-linecap:butt;stroke-linejoin:miter;stroke:rgb(74.509804%,74.509804%,74.509804%);stroke-opacity:1;stroke-miterlimit:10;\" d=\"M 486.855469 323.328125 L 330.027344 286.5 \"/>\n",
       "<path style=\"fill:none;stroke-width:0.5;stroke-linecap:butt;stroke-linejoin:miter;stroke:rgb(74.509804%,74.509804%,74.509804%);stroke-opacity:1;stroke-miterlimit:10;\" d=\"M 486.855469 323.328125 L 426.921875 392.140625 \"/>\n",
       "<path style=\"fill:none;stroke-width:0.5;stroke-linecap:butt;stroke-linejoin:miter;stroke:rgb(74.509804%,74.509804%,74.509804%);stroke-opacity:1;stroke-miterlimit:10;\" d=\"M 486.855469 323.328125 L 469.792969 367.972656 \"/>\n",
       "<path style=\"fill:none;stroke-width:0.5;stroke-linecap:butt;stroke-linejoin:miter;stroke:rgb(74.509804%,74.509804%,74.509804%);stroke-opacity:1;stroke-miterlimit:10;\" d=\"M 486.855469 323.328125 L 390.644531 302.003906 \"/>\n",
       "<path style=\"fill:none;stroke-width:0.5;stroke-linecap:butt;stroke-linejoin:miter;stroke:rgb(74.509804%,74.509804%,74.509804%);stroke-opacity:1;stroke-miterlimit:10;\" d=\"M 486.855469 323.328125 L 545.621094 429.398438 \"/>\n",
       "<path style=\"fill:none;stroke-width:0.5;stroke-linecap:butt;stroke-linejoin:miter;stroke:rgb(74.509804%,74.509804%,74.509804%);stroke-opacity:1;stroke-miterlimit:10;\" d=\"M 486.855469 323.328125 L 456.183594 260.699219 \"/>\n",
       "<path style=\"fill:none;stroke-width:0.5;stroke-linecap:butt;stroke-linejoin:miter;stroke:rgb(74.509804%,74.509804%,74.509804%);stroke-opacity:1;stroke-miterlimit:10;\" d=\"M 486.855469 323.328125 L 580 376.621094 \"/>\n",
       "<path style=\"fill:none;stroke-width:0.5;stroke-linecap:butt;stroke-linejoin:miter;stroke:rgb(74.509804%,74.509804%,74.509804%);stroke-opacity:1;stroke-miterlimit:10;\" d=\"M 486.855469 323.328125 L 458.546875 186.113281 \"/>\n",
       "<path style=\"fill:none;stroke-width:0.5;stroke-linecap:butt;stroke-linejoin:miter;stroke:rgb(74.509804%,74.509804%,74.509804%);stroke-opacity:1;stroke-miterlimit:10;\" d=\"M 330.027344 286.5 L 426.921875 392.140625 \"/>\n",
       "<path style=\"fill:none;stroke-width:0.5;stroke-linecap:butt;stroke-linejoin:miter;stroke:rgb(74.509804%,74.509804%,74.509804%);stroke-opacity:1;stroke-miterlimit:10;\" d=\"M 330.027344 286.5 L 469.792969 367.972656 \"/>\n",
       "<path style=\"fill:none;stroke-width:0.5;stroke-linecap:butt;stroke-linejoin:miter;stroke:rgb(74.509804%,74.509804%,74.509804%);stroke-opacity:1;stroke-miterlimit:10;\" d=\"M 330.027344 286.5 L 147.542969 204.097656 \"/>\n",
       "<path style=\"fill:none;stroke-width:0.5;stroke-linecap:butt;stroke-linejoin:miter;stroke:rgb(74.509804%,74.509804%,74.509804%);stroke-opacity:1;stroke-miterlimit:10;\" d=\"M 330.027344 286.5 L 253.675781 221.515625 \"/>\n",
       "<path style=\"fill:none;stroke-width:2;stroke-linecap:butt;stroke-linejoin:miter;stroke:rgb(100%,0%,0%);stroke-opacity:1;stroke-miterlimit:10;\" d=\"M 330.027344 286.5 L 331.804688 123.644531 \"/>\n",
       "<path style=\"fill:none;stroke-width:0.5;stroke-linecap:butt;stroke-linejoin:miter;stroke:rgb(74.509804%,74.509804%,74.509804%);stroke-opacity:1;stroke-miterlimit:10;\" d=\"M 330.027344 286.5 L 207.027344 283.3125 \"/>\n",
       "<path style=\"fill:none;stroke-width:0.5;stroke-linecap:butt;stroke-linejoin:miter;stroke:rgb(74.509804%,74.509804%,74.509804%);stroke-opacity:1;stroke-miterlimit:10;\" d=\"M 330.027344 286.5 L 375.109375 229.792969 \"/>\n",
       "<path style=\"fill:none;stroke-width:0.5;stroke-linecap:butt;stroke-linejoin:miter;stroke:rgb(74.509804%,74.509804%,74.509804%);stroke-opacity:1;stroke-miterlimit:10;\" d=\"M 330.027344 286.5 L 390.644531 302.003906 \"/>\n",
       "<path style=\"fill:none;stroke-width:0.5;stroke-linecap:butt;stroke-linejoin:miter;stroke:rgb(74.509804%,74.509804%,74.509804%);stroke-opacity:1;stroke-miterlimit:10;\" d=\"M 426.921875 392.140625 L 469.792969 367.972656 \"/>\n",
       "<path style=\"fill:none;stroke-width:0.5;stroke-linecap:butt;stroke-linejoin:miter;stroke:rgb(74.509804%,74.509804%,74.509804%);stroke-opacity:1;stroke-miterlimit:10;\" d=\"M 426.921875 392.140625 L 474.078125 486.546875 \"/>\n",
       "<path style=\"fill:none;stroke-width:0.5;stroke-linecap:butt;stroke-linejoin:miter;stroke:rgb(74.509804%,74.509804%,74.509804%);stroke-opacity:1;stroke-miterlimit:10;\" d=\"M 426.921875 392.140625 L 390.644531 302.003906 \"/>\n",
       "<path style=\"fill:none;stroke-width:0.5;stroke-linecap:butt;stroke-linejoin:miter;stroke:rgb(74.509804%,74.509804%,74.509804%);stroke-opacity:1;stroke-miterlimit:10;\" d=\"M 316.441406 501.992188 L 221.222656 506.441406 \"/>\n",
       "<path style=\"fill:none;stroke-width:0.5;stroke-linecap:butt;stroke-linejoin:miter;stroke:rgb(74.509804%,74.509804%,74.509804%);stroke-opacity:1;stroke-miterlimit:10;\" d=\"M 316.441406 501.992188 L 372.226562 539.21875 \"/>\n",
       "<path style=\"fill:none;stroke-width:0.5;stroke-linecap:butt;stroke-linejoin:miter;stroke:rgb(74.509804%,74.509804%,74.509804%);stroke-opacity:1;stroke-miterlimit:10;\" d=\"M 269.464844 544.046875 L 221.222656 506.441406 \"/>\n",
       "<path style=\"fill:none;stroke-width:0.5;stroke-linecap:butt;stroke-linejoin:miter;stroke:rgb(74.509804%,74.509804%,74.509804%);stroke-opacity:1;stroke-miterlimit:10;\" d=\"M 269.464844 544.046875 L 372.226562 539.21875 \"/>\n",
       "<path style=\"fill:none;stroke-width:2;stroke-linecap:butt;stroke-linejoin:miter;stroke:rgb(100%,0%,0%);stroke-opacity:1;stroke-miterlimit:10;\" d=\"M 269.464844 544.046875 L 148.777344 580 \"/>\n",
       "<path style=\"fill:none;stroke-width:0.5;stroke-linecap:butt;stroke-linejoin:miter;stroke:rgb(74.509804%,74.509804%,74.509804%);stroke-opacity:1;stroke-miterlimit:10;\" d=\"M 221.222656 506.441406 L 148.777344 580 \"/>\n",
       "<path style=\"fill:none;stroke-width:0.5;stroke-linecap:butt;stroke-linejoin:miter;stroke:rgb(74.509804%,74.509804%,74.509804%);stroke-opacity:1;stroke-miterlimit:10;\" d=\"M 375.109375 229.792969 L 458.546875 186.113281 \"/>\n",
       "<path style=\"fill:none;stroke-width:0.5;stroke-linecap:butt;stroke-linejoin:miter;stroke:rgb(74.509804%,74.509804%,74.509804%);stroke-opacity:1;stroke-miterlimit:10;\" d=\"M 375.109375 229.792969 L 331.804688 123.644531 \"/>\n",
       "<path style=\"fill:none;stroke-width:0.5;stroke-linecap:butt;stroke-linejoin:miter;stroke:rgb(74.509804%,74.509804%,74.509804%);stroke-opacity:1;stroke-miterlimit:10;\" d=\"M 375.109375 229.792969 L 306.585938 149.066406 \"/>\n",
       "<path style=\"fill:none;stroke-width:0.5;stroke-linecap:butt;stroke-linejoin:miter;stroke:rgb(74.509804%,74.509804%,74.509804%);stroke-opacity:1;stroke-miterlimit:10;\" d=\"M 207.027344 283.3125 L 306.585938 149.066406 \"/>\n",
       "<path style=\"fill:none;stroke-width:0.5;stroke-linecap:butt;stroke-linejoin:miter;stroke:rgb(74.509804%,74.509804%,74.509804%);stroke-opacity:1;stroke-miterlimit:10;\" d=\"M 390.644531 302.003906 L 306.585938 149.066406 \"/>\n",
       "<path style=\"fill:none;stroke-width:0.5;stroke-linecap:butt;stroke-linejoin:miter;stroke:rgb(74.509804%,74.509804%,74.509804%);stroke-opacity:1;stroke-miterlimit:10;\" d=\"M 396.078125 32.746094 L 331.804688 123.644531 \"/>\n",
       "<path style=\"fill:none;stroke-width:0.5;stroke-linecap:butt;stroke-linejoin:miter;stroke:rgb(74.509804%,74.509804%,74.509804%);stroke-opacity:1;stroke-miterlimit:10;\" d=\"M 396.078125 32.746094 L 306.585938 149.066406 \"/>\n",
       "<path style=\"fill:none;stroke-width:2;stroke-linecap:butt;stroke-linejoin:miter;stroke:rgb(100%,0%,0%);stroke-opacity:1;stroke-miterlimit:10;\" d=\"M 272.191406 28.792969 L 331.804688 123.644531 \"/>\n",
       "<path style=\"fill:none;stroke-width:0.5;stroke-linecap:butt;stroke-linejoin:miter;stroke:rgb(74.509804%,74.509804%,74.509804%);stroke-opacity:1;stroke-miterlimit:10;\" d=\"M 272.191406 28.792969 L 306.585938 149.066406 \"/>\n",
       "<path style=\"fill:none;stroke-width:0.5;stroke-linecap:butt;stroke-linejoin:miter;stroke:rgb(74.509804%,74.509804%,74.509804%);stroke-opacity:1;stroke-miterlimit:10;\" d=\"M 335.699219 20 L 331.804688 123.644531 \"/>\n",
       "<path style=\"fill:none;stroke-width:0.5;stroke-linecap:butt;stroke-linejoin:miter;stroke:rgb(74.509804%,74.509804%,74.509804%);stroke-opacity:1;stroke-miterlimit:10;\" d=\"M 335.699219 20 L 306.585938 149.066406 \"/>\n",
       "<path style=\"fill:none;stroke-width:0.5;stroke-linecap:butt;stroke-linejoin:miter;stroke:rgb(74.509804%,74.509804%,74.509804%);stroke-opacity:1;stroke-miterlimit:10;\" d=\"M 456.183594 260.699219 L 306.585938 149.066406 \"/>\n",
       "<path style=\"fill:none;stroke-width:0.5;stroke-linecap:butt;stroke-linejoin:miter;stroke:rgb(74.509804%,74.509804%,74.509804%);stroke-opacity:1;stroke-miterlimit:10;\" d=\"M 445.511719 60.796875 L 331.804688 123.644531 \"/>\n",
       "<path style=\"fill:none;stroke-width:0.5;stroke-linecap:butt;stroke-linejoin:miter;stroke:rgb(74.509804%,74.509804%,74.509804%);stroke-opacity:1;stroke-miterlimit:10;\" d=\"M 445.511719 60.796875 L 306.585938 149.066406 \"/>\n",
       "<path style=\"fill:none;stroke-width:0.5;stroke-linecap:butt;stroke-linejoin:miter;stroke:rgb(74.509804%,74.509804%,74.509804%);stroke-opacity:1;stroke-miterlimit:10;\" d=\"M 474.058594 103.523438 L 331.804688 123.644531 \"/>\n",
       "<path style=\"fill:none;stroke-width:0.5;stroke-linecap:butt;stroke-linejoin:miter;stroke:rgb(74.509804%,74.509804%,74.509804%);stroke-opacity:1;stroke-miterlimit:10;\" d=\"M 474.058594 103.523438 L 306.585938 149.066406 \"/>\n",
       "<path style=\"fill:none;stroke-width:0.5;stroke-linecap:butt;stroke-linejoin:miter;stroke:rgb(74.509804%,74.509804%,74.509804%);stroke-opacity:1;stroke-miterlimit:10;\" d=\"M 154.214844 126.300781 L 26.417969 180.246094 \"/>\n",
       "<path style=\"fill:none;stroke-width:0.5;stroke-linecap:butt;stroke-linejoin:miter;stroke:rgb(74.509804%,74.509804%,74.509804%);stroke-opacity:1;stroke-miterlimit:10;\" d=\"M 154.214844 126.300781 L 147.542969 204.097656 \"/>\n",
       "<path style=\"fill:none;stroke-width:0.5;stroke-linecap:butt;stroke-linejoin:miter;stroke:rgb(74.509804%,74.509804%,74.509804%);stroke-opacity:1;stroke-miterlimit:10;\" d=\"M 154.214844 126.300781 L 331.804688 123.644531 \"/>\n",
       "<path style=\"fill:none;stroke-width:0.5;stroke-linecap:butt;stroke-linejoin:miter;stroke:rgb(74.509804%,74.509804%,74.509804%);stroke-opacity:1;stroke-miterlimit:10;\" d=\"M 154.214844 126.300781 L 306.585938 149.066406 \"/>\n",
       "<path style=\"fill:none;stroke-width:0.5;stroke-linecap:butt;stroke-linejoin:miter;stroke:rgb(74.509804%,74.509804%,74.509804%);stroke-opacity:1;stroke-miterlimit:10;\" d=\"M 154.214844 126.300781 L 207.613281 72.308594 \"/>\n",
       "<path style=\"fill:none;stroke-width:0.5;stroke-linecap:butt;stroke-linejoin:miter;stroke:rgb(74.509804%,74.509804%,74.509804%);stroke-opacity:1;stroke-miterlimit:10;\" d=\"M 20 244.914062 L 26.417969 180.246094 \"/>\n",
       "<path style=\"fill:none;stroke-width:0.5;stroke-linecap:butt;stroke-linejoin:miter;stroke:rgb(74.509804%,74.509804%,74.509804%);stroke-opacity:1;stroke-miterlimit:10;\" d=\"M 20 244.914062 L 147.542969 204.097656 \"/>\n",
       "<path style=\"fill:none;stroke-width:0.5;stroke-linecap:butt;stroke-linejoin:miter;stroke:rgb(74.509804%,74.509804%,74.509804%);stroke-opacity:1;stroke-miterlimit:10;\" d=\"M 20 244.914062 L 190.726562 238.234375 \"/>\n",
       "<path style=\"fill:none;stroke-width:0.5;stroke-linecap:butt;stroke-linejoin:miter;stroke:rgb(74.509804%,74.509804%,74.509804%);stroke-opacity:1;stroke-miterlimit:10;\" d=\"M 26.417969 180.246094 L 190.726562 238.234375 \"/>\n",
       "<path style=\"fill:none;stroke-width:0.5;stroke-linecap:butt;stroke-linejoin:miter;stroke:rgb(74.509804%,74.509804%,74.509804%);stroke-opacity:1;stroke-miterlimit:10;\" d=\"M 155.378906 30.777344 L 207.613281 72.308594 \"/>\n",
       "<path style=\"fill:none;stroke-width:0.5;stroke-linecap:butt;stroke-linejoin:miter;stroke:rgb(74.509804%,74.509804%,74.509804%);stroke-opacity:1;stroke-miterlimit:10;\" d=\"M 155.378906 30.777344 L 306.585938 149.066406 \"/>\n",
       "<path style=\"fill:none;stroke-width:0.5;stroke-linecap:butt;stroke-linejoin:miter;stroke:rgb(74.509804%,74.509804%,74.509804%);stroke-opacity:1;stroke-miterlimit:10;\" d=\"M 147.542969 204.097656 L 306.585938 149.066406 \"/>\n",
       "<path style=\"fill:none;stroke-width:0.5;stroke-linecap:butt;stroke-linejoin:miter;stroke:rgb(74.509804%,74.509804%,74.509804%);stroke-opacity:1;stroke-miterlimit:10;\" d=\"M 253.675781 221.515625 L 190.726562 238.234375 \"/>\n",
       "<path style=\"fill:none;stroke-width:0.5;stroke-linecap:butt;stroke-linejoin:miter;stroke:rgb(74.509804%,74.509804%,74.509804%);stroke-opacity:1;stroke-miterlimit:10;\" d=\"M 253.675781 221.515625 L 306.585938 149.066406 \"/>\n",
       "<path style=\"fill:none;stroke-width:0.5;stroke-linecap:butt;stroke-linejoin:miter;stroke:rgb(74.509804%,74.509804%,74.509804%);stroke-opacity:1;stroke-miterlimit:10;\" d=\"M 207.613281 72.308594 L 331.804688 123.644531 \"/>\n",
       "<path style=\"fill:none;stroke-width:0.5;stroke-linecap:butt;stroke-linejoin:miter;stroke:rgb(74.509804%,74.509804%,74.509804%);stroke-opacity:1;stroke-miterlimit:10;\" d=\"M 207.613281 72.308594 L 306.585938 149.066406 \"/>\n",
       "<path style=\"fill:none;stroke-width:0.5;stroke-linecap:butt;stroke-linejoin:miter;stroke:rgb(74.509804%,74.509804%,74.509804%);stroke-opacity:1;stroke-miterlimit:10;\" d=\"M 458.546875 186.113281 L 331.804688 123.644531 \"/>\n",
       "<path style=\"fill:none;stroke-width:0.5;stroke-linecap:butt;stroke-linejoin:miter;stroke:rgb(74.509804%,74.509804%,74.509804%);stroke-opacity:1;stroke-miterlimit:10;\" d=\"M 458.546875 186.113281 L 306.585938 149.066406 \"/>\n",
       "<path style=\"fill:none;stroke-width:0.5;stroke-linecap:butt;stroke-linejoin:miter;stroke:rgb(74.509804%,74.509804%,74.509804%);stroke-opacity:1;stroke-miterlimit:10;\" d=\"M 190.726562 238.234375 L 331.804688 123.644531 \"/>\n",
       "<path style=\"fill:none;stroke-width:0.5;stroke-linecap:butt;stroke-linejoin:miter;stroke:rgb(74.509804%,74.509804%,74.509804%);stroke-opacity:1;stroke-miterlimit:10;\" d=\"M 190.726562 238.234375 L 306.585938 149.066406 \"/>\n",
       "<path style=\"fill:none;stroke-width:0.5;stroke-linecap:butt;stroke-linejoin:miter;stroke:rgb(74.509804%,74.509804%,74.509804%);stroke-opacity:1;stroke-miterlimit:10;\" d=\"M 331.804688 123.644531 L 306.585938 149.066406 \"/>\n",
       "<path style=\"fill-rule:nonzero;fill:rgb(100%,0%,0%);fill-opacity:1;stroke-width:1;stroke-linecap:butt;stroke-linejoin:miter;stroke:rgb(0%,0%,0%);stroke-opacity:1;stroke-miterlimit:10;\" d=\"M 372.378906 394.390625 C 372.378906 399.910156 367.898438 404.390625 362.378906 404.390625 C 356.855469 404.390625 352.378906 399.910156 352.378906 394.390625 C 352.378906 388.867188 356.855469 384.390625 362.378906 384.390625 C 367.898438 384.390625 372.378906 388.867188 372.378906 394.390625 \"/>\n",
       "<path style=\"fill-rule:nonzero;fill:rgb(74.509804%,74.509804%,74.509804%);fill-opacity:1;stroke-width:1;stroke-linecap:butt;stroke-linejoin:miter;stroke:rgb(0%,0%,0%);stroke-opacity:1;stroke-miterlimit:10;\" d=\"M 496.855469 323.328125 C 496.855469 328.851562 492.378906 333.328125 486.855469 333.328125 C 481.335938 333.328125 476.855469 328.851562 476.855469 323.328125 C 476.855469 317.804688 481.335938 313.328125 486.855469 313.328125 C 492.378906 313.328125 496.855469 317.804688 496.855469 323.328125 \"/>\n",
       "<path style=\"fill-rule:nonzero;fill:rgb(100%,0%,0%);fill-opacity:1;stroke-width:1;stroke-linecap:butt;stroke-linejoin:miter;stroke:rgb(0%,0%,0%);stroke-opacity:1;stroke-miterlimit:10;\" d=\"M 340.027344 286.5 C 340.027344 292.023438 335.550781 296.5 330.027344 296.5 C 324.503906 296.5 320.027344 292.023438 320.027344 286.5 C 320.027344 280.976562 324.503906 276.5 330.027344 276.5 C 335.550781 276.5 340.027344 280.976562 340.027344 286.5 \"/>\n",
       "<path style=\"fill-rule:nonzero;fill:rgb(74.509804%,74.509804%,74.509804%);fill-opacity:1;stroke-width:1;stroke-linecap:butt;stroke-linejoin:miter;stroke:rgb(0%,0%,0%);stroke-opacity:1;stroke-miterlimit:10;\" d=\"M 436.921875 392.140625 C 436.921875 397.664062 432.445312 402.140625 426.921875 402.140625 C 421.398438 402.140625 416.921875 397.664062 416.921875 392.140625 C 416.921875 386.617188 421.398438 382.140625 426.921875 382.140625 C 432.445312 382.140625 436.921875 386.617188 436.921875 392.140625 \"/>\n",
       "<path style=\"fill-rule:nonzero;fill:rgb(74.509804%,74.509804%,74.509804%);fill-opacity:1;stroke-width:1;stroke-linecap:butt;stroke-linejoin:miter;stroke:rgb(0%,0%,0%);stroke-opacity:1;stroke-miterlimit:10;\" d=\"M 326.441406 501.992188 C 326.441406 507.515625 321.964844 511.992188 316.441406 511.992188 C 310.917969 511.992188 306.441406 507.515625 306.441406 501.992188 C 306.441406 496.46875 310.917969 491.992188 316.441406 491.992188 C 321.964844 491.992188 326.441406 496.46875 326.441406 501.992188 \"/>\n",
       "<path style=\"fill-rule:nonzero;fill:rgb(100%,0%,0%);fill-opacity:1;stroke-width:1;stroke-linecap:butt;stroke-linejoin:miter;stroke:rgb(0%,0%,0%);stroke-opacity:1;stroke-miterlimit:10;\" d=\"M 279.464844 544.046875 C 279.464844 549.570312 274.988281 554.046875 269.464844 554.046875 C 263.941406 554.046875 259.464844 549.570312 259.464844 544.046875 C 259.464844 538.523438 263.941406 534.046875 269.464844 534.046875 C 274.988281 534.046875 279.464844 538.523438 279.464844 544.046875 \"/>\n",
       "<path style=\"fill-rule:nonzero;fill:rgb(74.509804%,74.509804%,74.509804%);fill-opacity:1;stroke-width:1;stroke-linecap:butt;stroke-linejoin:miter;stroke:rgb(0%,0%,0%);stroke-opacity:1;stroke-miterlimit:10;\" d=\"M 231.222656 506.441406 C 231.222656 511.964844 226.746094 516.441406 221.222656 516.441406 C 215.699219 516.441406 211.222656 511.964844 211.222656 506.441406 C 211.222656 500.917969 215.699219 496.441406 221.222656 496.441406 C 226.746094 496.441406 231.222656 500.917969 231.222656 506.441406 \"/>\n",
       "<path style=\"fill-rule:nonzero;fill:rgb(74.509804%,74.509804%,74.509804%);fill-opacity:1;stroke-width:1;stroke-linecap:butt;stroke-linejoin:miter;stroke:rgb(0%,0%,0%);stroke-opacity:1;stroke-miterlimit:10;\" d=\"M 479.792969 367.972656 C 479.792969 373.496094 475.316406 377.972656 469.792969 377.972656 C 464.269531 377.972656 459.792969 373.496094 459.792969 367.972656 C 459.792969 362.453125 464.269531 357.972656 469.792969 357.972656 C 475.316406 357.972656 479.792969 362.453125 479.792969 367.972656 \"/>\n",
       "<path style=\"fill-rule:nonzero;fill:rgb(74.509804%,74.509804%,74.509804%);fill-opacity:1;stroke-width:1;stroke-linecap:butt;stroke-linejoin:miter;stroke:rgb(0%,0%,0%);stroke-opacity:1;stroke-miterlimit:10;\" d=\"M 385.109375 229.792969 C 385.109375 235.3125 380.628906 239.792969 375.109375 239.792969 C 369.585938 239.792969 365.109375 235.3125 365.109375 229.792969 C 365.109375 224.269531 369.585938 219.792969 375.109375 219.792969 C 380.628906 219.792969 385.109375 224.269531 385.109375 229.792969 \"/>\n",
       "<path style=\"fill-rule:nonzero;fill:rgb(74.509804%,74.509804%,74.509804%);fill-opacity:1;stroke-width:1;stroke-linecap:butt;stroke-linejoin:miter;stroke:rgb(0%,0%,0%);stroke-opacity:1;stroke-miterlimit:10;\" d=\"M 217.027344 283.3125 C 217.027344 288.835938 212.546875 293.3125 207.027344 293.3125 C 201.503906 293.3125 197.027344 288.835938 197.027344 283.3125 C 197.027344 277.789062 201.503906 273.3125 207.027344 273.3125 C 212.546875 273.3125 217.027344 277.789062 217.027344 283.3125 \"/>\n",
       "<path style=\"fill-rule:nonzero;fill:rgb(74.509804%,74.509804%,74.509804%);fill-opacity:1;stroke-width:1;stroke-linecap:butt;stroke-linejoin:miter;stroke:rgb(0%,0%,0%);stroke-opacity:1;stroke-miterlimit:10;\" d=\"M 382.226562 539.21875 C 382.226562 544.742188 377.746094 549.21875 372.226562 549.21875 C 366.703125 549.21875 362.226562 544.742188 362.226562 539.21875 C 362.226562 533.695312 366.703125 529.21875 372.226562 529.21875 C 377.746094 529.21875 382.226562 533.695312 382.226562 539.21875 \"/>\n",
       "<path style=\"fill-rule:nonzero;fill:rgb(74.509804%,74.509804%,74.509804%);fill-opacity:1;stroke-width:1;stroke-linecap:butt;stroke-linejoin:miter;stroke:rgb(0%,0%,0%);stroke-opacity:1;stroke-miterlimit:10;\" d=\"M 181.09375 436.546875 C 181.09375 442.070312 176.617188 446.546875 171.09375 446.546875 C 165.570312 446.546875 161.09375 442.070312 161.09375 436.546875 C 161.09375 431.023438 165.570312 426.546875 171.09375 426.546875 C 176.617188 426.546875 181.09375 431.023438 181.09375 436.546875 \"/>\n",
       "<path style=\"fill-rule:nonzero;fill:rgb(74.509804%,74.509804%,74.509804%);fill-opacity:1;stroke-width:1;stroke-linecap:butt;stroke-linejoin:miter;stroke:rgb(0%,0%,0%);stroke-opacity:1;stroke-miterlimit:10;\" d=\"M 484.078125 486.546875 C 484.078125 492.070312 479.601562 496.546875 474.078125 496.546875 C 468.554688 496.546875 464.078125 492.070312 464.078125 486.546875 C 464.078125 481.023438 468.554688 476.546875 474.078125 476.546875 C 479.601562 476.546875 484.078125 481.023438 484.078125 486.546875 \"/>\n",
       "<path style=\"fill-rule:nonzero;fill:rgb(74.509804%,74.509804%,74.509804%);fill-opacity:1;stroke-width:1;stroke-linecap:butt;stroke-linejoin:miter;stroke:rgb(0%,0%,0%);stroke-opacity:1;stroke-miterlimit:10;\" d=\"M 400.644531 302.003906 C 400.644531 307.527344 396.167969 312.003906 390.644531 312.003906 C 385.121094 312.003906 380.644531 307.527344 380.644531 302.003906 C 380.644531 296.480469 385.121094 292.003906 390.644531 292.003906 C 396.167969 292.003906 400.644531 296.480469 400.644531 302.003906 \"/>\n",
       "<path style=\"fill-rule:nonzero;fill:rgb(74.509804%,74.509804%,74.509804%);fill-opacity:1;stroke-width:1;stroke-linecap:butt;stroke-linejoin:miter;stroke:rgb(0%,0%,0%);stroke-opacity:1;stroke-miterlimit:10;\" d=\"M 406.078125 32.746094 C 406.078125 38.269531 401.601562 42.746094 396.078125 42.746094 C 390.554688 42.746094 386.078125 38.269531 386.078125 32.746094 C 386.078125 27.222656 390.554688 22.746094 396.078125 22.746094 C 401.601562 22.746094 406.078125 27.222656 406.078125 32.746094 \"/>\n",
       "<path style=\"fill-rule:nonzero;fill:rgb(100%,0%,0%);fill-opacity:1;stroke-width:1;stroke-linecap:butt;stroke-linejoin:miter;stroke:rgb(0%,0%,0%);stroke-opacity:1;stroke-miterlimit:10;\" d=\"M 282.191406 28.792969 C 282.191406 34.316406 277.714844 38.792969 272.191406 38.792969 C 266.671875 38.792969 262.191406 34.316406 262.191406 28.792969 C 262.191406 23.269531 266.671875 18.792969 272.191406 18.792969 C 277.714844 18.792969 282.191406 23.269531 282.191406 28.792969 \"/>\n",
       "<path style=\"fill-rule:nonzero;fill:rgb(100%,0%,0%);fill-opacity:1;stroke-width:1;stroke-linecap:butt;stroke-linejoin:miter;stroke:rgb(0%,0%,0%);stroke-opacity:1;stroke-miterlimit:10;\" d=\"M 158.777344 580 C 158.777344 585.523438 154.300781 590 148.777344 590 C 143.257812 590 138.777344 585.523438 138.777344 580 C 138.777344 574.476562 143.257812 570 148.777344 570 C 154.300781 570 158.777344 574.476562 158.777344 580 \"/>\n",
       "<path style=\"fill-rule:nonzero;fill:rgb(74.509804%,74.509804%,74.509804%);fill-opacity:1;stroke-width:1;stroke-linecap:butt;stroke-linejoin:miter;stroke:rgb(0%,0%,0%);stroke-opacity:1;stroke-miterlimit:10;\" d=\"M 555.621094 429.398438 C 555.621094 434.921875 551.144531 439.398438 545.621094 439.398438 C 540.097656 439.398438 535.621094 434.921875 535.621094 429.398438 C 535.621094 423.875 540.097656 419.398438 545.621094 419.398438 C 551.144531 419.398438 555.621094 423.875 555.621094 429.398438 \"/>\n",
       "<path style=\"fill-rule:nonzero;fill:rgb(74.509804%,74.509804%,74.509804%);fill-opacity:1;stroke-width:1;stroke-linecap:butt;stroke-linejoin:miter;stroke:rgb(0%,0%,0%);stroke-opacity:1;stroke-miterlimit:10;\" d=\"M 345.699219 20 C 345.699219 25.523438 341.222656 30 335.699219 30 C 330.175781 30 325.699219 25.523438 325.699219 20 C 325.699219 14.476562 330.175781 10 335.699219 10 C 341.222656 10 345.699219 14.476562 345.699219 20 \"/>\n",
       "<path style=\"fill-rule:nonzero;fill:rgb(74.509804%,74.509804%,74.509804%);fill-opacity:1;stroke-width:1;stroke-linecap:butt;stroke-linejoin:miter;stroke:rgb(0%,0%,0%);stroke-opacity:1;stroke-miterlimit:10;\" d=\"M 466.183594 260.699219 C 466.183594 266.222656 461.707031 270.699219 456.183594 270.699219 C 450.660156 270.699219 446.183594 266.222656 446.183594 260.699219 C 446.183594 255.179688 450.660156 250.699219 456.183594 250.699219 C 461.707031 250.699219 466.183594 255.179688 466.183594 260.699219 \"/>\n",
       "<path style=\"fill-rule:nonzero;fill:rgb(74.509804%,74.509804%,74.509804%);fill-opacity:1;stroke-width:1;stroke-linecap:butt;stroke-linejoin:miter;stroke:rgb(0%,0%,0%);stroke-opacity:1;stroke-miterlimit:10;\" d=\"M 455.511719 60.796875 C 455.511719 66.320312 451.03125 70.796875 445.511719 70.796875 C 439.988281 70.796875 435.511719 66.320312 435.511719 60.796875 C 435.511719 55.273438 439.988281 50.796875 445.511719 50.796875 C 451.03125 50.796875 455.511719 55.273438 455.511719 60.796875 \"/>\n",
       "<path style=\"fill-rule:nonzero;fill:rgb(74.509804%,74.509804%,74.509804%);fill-opacity:1;stroke-width:1;stroke-linecap:butt;stroke-linejoin:miter;stroke:rgb(0%,0%,0%);stroke-opacity:1;stroke-miterlimit:10;\" d=\"M 590 376.621094 C 590 382.140625 585.523438 386.621094 580 386.621094 C 574.476562 386.621094 570 382.140625 570 376.621094 C 570 371.097656 574.476562 366.621094 580 366.621094 C 585.523438 366.621094 590 371.097656 590 376.621094 \"/>\n",
       "<path style=\"fill-rule:nonzero;fill:rgb(74.509804%,74.509804%,74.509804%);fill-opacity:1;stroke-width:1;stroke-linecap:butt;stroke-linejoin:miter;stroke:rgb(0%,0%,0%);stroke-opacity:1;stroke-miterlimit:10;\" d=\"M 484.058594 103.523438 C 484.058594 109.046875 479.582031 113.523438 474.058594 113.523438 C 468.539062 113.523438 464.058594 109.046875 464.058594 103.523438 C 464.058594 98 468.539062 93.523438 474.058594 93.523438 C 479.582031 93.523438 484.058594 98 484.058594 103.523438 \"/>\n",
       "<path style=\"fill-rule:nonzero;fill:rgb(74.509804%,74.509804%,74.509804%);fill-opacity:1;stroke-width:1;stroke-linecap:butt;stroke-linejoin:miter;stroke:rgb(0%,0%,0%);stroke-opacity:1;stroke-miterlimit:10;\" d=\"M 164.214844 126.300781 C 164.214844 131.824219 159.738281 136.300781 154.214844 136.300781 C 148.691406 136.300781 144.214844 131.824219 144.214844 126.300781 C 144.214844 120.777344 148.691406 116.300781 154.214844 116.300781 C 159.738281 116.300781 164.214844 120.777344 164.214844 126.300781 \"/>\n",
       "<path style=\"fill-rule:nonzero;fill:rgb(74.509804%,74.509804%,74.509804%);fill-opacity:1;stroke-width:1;stroke-linecap:butt;stroke-linejoin:miter;stroke:rgb(0%,0%,0%);stroke-opacity:1;stroke-miterlimit:10;\" d=\"M 30 244.914062 C 30 250.433594 25.523438 254.914062 20 254.914062 C 14.476562 254.914062 10 250.433594 10 244.914062 C 10 239.390625 14.476562 234.914062 20 234.914062 C 25.523438 234.914062 30 239.390625 30 244.914062 \"/>\n",
       "<path style=\"fill-rule:nonzero;fill:rgb(74.509804%,74.509804%,74.509804%);fill-opacity:1;stroke-width:1;stroke-linecap:butt;stroke-linejoin:miter;stroke:rgb(0%,0%,0%);stroke-opacity:1;stroke-miterlimit:10;\" d=\"M 36.417969 180.246094 C 36.417969 185.769531 31.941406 190.246094 26.417969 190.246094 C 20.894531 190.246094 16.417969 185.769531 16.417969 180.246094 C 16.417969 174.726562 20.894531 170.246094 26.417969 170.246094 C 31.941406 170.246094 36.417969 174.726562 36.417969 180.246094 \"/>\n",
       "<path style=\"fill-rule:nonzero;fill:rgb(74.509804%,74.509804%,74.509804%);fill-opacity:1;stroke-width:1;stroke-linecap:butt;stroke-linejoin:miter;stroke:rgb(0%,0%,0%);stroke-opacity:1;stroke-miterlimit:10;\" d=\"M 165.378906 30.777344 C 165.378906 36.300781 160.902344 40.777344 155.378906 40.777344 C 149.855469 40.777344 145.378906 36.300781 145.378906 30.777344 C 145.378906 25.253906 149.855469 20.777344 155.378906 20.777344 C 160.902344 20.777344 165.378906 25.253906 165.378906 30.777344 \"/>\n",
       "<path style=\"fill-rule:nonzero;fill:rgb(74.509804%,74.509804%,74.509804%);fill-opacity:1;stroke-width:1;stroke-linecap:butt;stroke-linejoin:miter;stroke:rgb(0%,0%,0%);stroke-opacity:1;stroke-miterlimit:10;\" d=\"M 157.542969 204.097656 C 157.542969 209.617188 153.066406 214.097656 147.542969 214.097656 C 142.023438 214.097656 137.542969 209.617188 137.542969 204.097656 C 137.542969 198.574219 142.023438 194.097656 147.542969 194.097656 C 153.066406 194.097656 157.542969 198.574219 157.542969 204.097656 \"/>\n",
       "<path style=\"fill-rule:nonzero;fill:rgb(74.509804%,74.509804%,74.509804%);fill-opacity:1;stroke-width:1;stroke-linecap:butt;stroke-linejoin:miter;stroke:rgb(0%,0%,0%);stroke-opacity:1;stroke-miterlimit:10;\" d=\"M 263.675781 221.515625 C 263.675781 227.039062 259.199219 231.515625 253.675781 231.515625 C 248.152344 231.515625 243.675781 227.039062 243.675781 221.515625 C 243.675781 215.992188 248.152344 211.515625 253.675781 211.515625 C 259.199219 211.515625 263.675781 215.992188 263.675781 221.515625 \"/>\n",
       "<path style=\"fill-rule:nonzero;fill:rgb(74.509804%,74.509804%,74.509804%);fill-opacity:1;stroke-width:1;stroke-linecap:butt;stroke-linejoin:miter;stroke:rgb(0%,0%,0%);stroke-opacity:1;stroke-miterlimit:10;\" d=\"M 217.613281 72.308594 C 217.613281 77.832031 213.136719 82.308594 207.613281 82.308594 C 202.089844 82.308594 197.613281 77.832031 197.613281 72.308594 C 197.613281 66.785156 202.089844 62.308594 207.613281 62.308594 C 213.136719 62.308594 217.613281 66.785156 217.613281 72.308594 \"/>\n",
       "<path style=\"fill-rule:nonzero;fill:rgb(74.509804%,74.509804%,74.509804%);fill-opacity:1;stroke-width:1;stroke-linecap:butt;stroke-linejoin:miter;stroke:rgb(0%,0%,0%);stroke-opacity:1;stroke-miterlimit:10;\" d=\"M 468.546875 186.113281 C 468.546875 191.636719 464.070312 196.113281 458.546875 196.113281 C 453.023438 196.113281 448.546875 191.636719 448.546875 186.113281 C 448.546875 180.59375 453.023438 176.113281 458.546875 176.113281 C 464.070312 176.113281 468.546875 180.59375 468.546875 186.113281 \"/>\n",
       "<path style=\"fill-rule:nonzero;fill:rgb(74.509804%,74.509804%,74.509804%);fill-opacity:1;stroke-width:1;stroke-linecap:butt;stroke-linejoin:miter;stroke:rgb(0%,0%,0%);stroke-opacity:1;stroke-miterlimit:10;\" d=\"M 200.726562 238.234375 C 200.726562 243.757812 196.25 248.234375 190.726562 248.234375 C 185.203125 248.234375 180.726562 243.757812 180.726562 238.234375 C 180.726562 232.710938 185.203125 228.234375 190.726562 228.234375 C 196.25 228.234375 200.726562 232.710938 200.726562 238.234375 \"/>\n",
       "<path style=\"fill-rule:nonzero;fill:rgb(100%,0%,0%);fill-opacity:1;stroke-width:1;stroke-linecap:butt;stroke-linejoin:miter;stroke:rgb(0%,0%,0%);stroke-opacity:1;stroke-miterlimit:10;\" d=\"M 341.804688 123.644531 C 341.804688 129.167969 337.328125 133.644531 331.804688 133.644531 C 326.28125 133.644531 321.804688 129.167969 321.804688 123.644531 C 321.804688 118.121094 326.28125 113.644531 331.804688 113.644531 C 337.328125 113.644531 341.804688 118.121094 341.804688 123.644531 \"/>\n",
       "<path style=\"fill-rule:nonzero;fill:rgb(74.509804%,74.509804%,74.509804%);fill-opacity:1;stroke-width:1;stroke-linecap:butt;stroke-linejoin:miter;stroke:rgb(0%,0%,0%);stroke-opacity:1;stroke-miterlimit:10;\" d=\"M 316.585938 149.066406 C 316.585938 154.589844 312.109375 159.066406 306.585938 159.066406 C 301.0625 159.066406 296.585938 154.589844 296.585938 149.066406 C 296.585938 143.542969 301.0625 139.066406 306.585938 139.066406 C 312.109375 139.066406 316.585938 143.542969 316.585938 149.066406 \"/>\n",
       "</g>\n",
       "</svg>\n"
      ],
      "text/plain": [
       "<igraph.drawing.Plot at 0x1a26f0fb00>"
      ]
     },
     "execution_count": 19,
     "metadata": {},
     "output_type": "execute_result"
    }
   ],
   "source": [
    "G.vs['color'] = 'gray'\n",
    "vertex_path['color'] = 'red'\n",
    "\n",
    "G.es['color'] = 'gray'\n",
    "G.es['width'] = 0.5\n",
    "edge_path['color'] = 'red'\n",
    "edge_path['width'] = 2\n",
    "\n",
    "ig.plot(G)"
   ]
  },
  {
   "cell_type": "markdown",
   "metadata": {},
   "source": [
    "Rather than determining the actual shortest paths, we may also simply be interested in the distance between two nodes."
   ]
  },
  {
   "cell_type": "code",
   "execution_count": 20,
   "metadata": {
    "ExecuteTime": {
     "end_time": "2019-07-05T14:23:10.301555Z",
     "start_time": "2019-07-05T14:23:10.293593Z"
    }
   },
   "outputs": [
    {
     "data": {
      "text/plain": [
       "[[5]]"
      ]
     },
     "execution_count": 20,
     "metadata": {},
     "output_type": "execute_result"
    }
   ],
   "source": [
    "G.shortest_paths(source=16, target=15)"
   ]
  },
  {
   "cell_type": "markdown",
   "metadata": {},
   "source": [
    "This only provides the actual length of the path (5 edges) rather than the actual path. We can also use this function to get the distance of all nodes to all other nodes. This is conveniently represented as a matrix, for which the `numpy` library is especially well suited."
   ]
  },
  {
   "cell_type": "code",
   "execution_count": 21,
   "metadata": {
    "ExecuteTime": {
     "end_time": "2019-07-05T14:23:11.428813Z",
     "start_time": "2019-07-05T14:23:11.420756Z"
    }
   },
   "outputs": [
    {
     "data": {
      "text/plain": [
       "array([[0, 1, 1, ..., 1, 2, 2],\n",
       "       [1, 0, 1, ..., 2, 2, 2],\n",
       "       [1, 1, 0, ..., 2, 1, 2],\n",
       "       ...,\n",
       "       [1, 2, 2, ..., 0, 1, 1],\n",
       "       [2, 2, 1, ..., 1, 0, 1],\n",
       "       [2, 2, 2, ..., 1, 1, 0]])"
      ]
     },
     "execution_count": 21,
     "metadata": {},
     "output_type": "execute_result"
    }
   ],
   "source": [
    "distances = np.array(G.shortest_paths())\n",
    "distances"
   ]
  },
  {
   "cell_type": "markdown",
   "metadata": {},
   "source": [
    "The largest distance from a node to any other node is called the *eccentricity*. If a node has a very high eccentricity, it is a bit peripheral. If a node has a very low eccentricity, it means that it is relatively close to to all other nodes, and that it is in the center of the graph in a certain sense."
   ]
  },
  {
   "cell_type": "code",
   "execution_count": 23,
   "metadata": {
    "ExecuteTime": {
     "end_time": "2019-07-05T14:23:54.309363Z",
     "start_time": "2019-07-05T14:23:54.298258Z"
    }
   },
   "outputs": [
    {
     "data": {
      "image/svg+xml": [
       "<?xml version=\"1.0\" encoding=\"UTF-8\"?>\n",
       "<svg xmlns=\"http://www.w3.org/2000/svg\" xmlns:xlink=\"http://www.w3.org/1999/xlink\" width=\"600pt\" height=\"600pt\" viewBox=\"0 0 600 600\" version=\"1.1\">\n",
       "<g id=\"surface32\">\n",
       "<rect x=\"0\" y=\"0\" width=\"600\" height=\"600\" style=\"fill:rgb(100%,100%,100%);fill-opacity:1;stroke:none;\"/>\n",
       "<path style=\"fill:none;stroke-width:0.5;stroke-linecap:butt;stroke-linejoin:miter;stroke:rgb(74.509804%,74.509804%,74.509804%);stroke-opacity:1;stroke-miterlimit:10;\" d=\"M 362.378906 394.390625 L 486.855469 323.328125 \"/>\n",
       "<path style=\"fill:none;stroke-width:2;stroke-linecap:butt;stroke-linejoin:miter;stroke:rgb(100%,0%,0%);stroke-opacity:1;stroke-miterlimit:10;\" d=\"M 362.378906 394.390625 L 330.027344 286.5 \"/>\n",
       "<path style=\"fill:none;stroke-width:0.5;stroke-linecap:butt;stroke-linejoin:miter;stroke:rgb(74.509804%,74.509804%,74.509804%);stroke-opacity:1;stroke-miterlimit:10;\" d=\"M 362.378906 394.390625 L 426.921875 392.140625 \"/>\n",
       "<path style=\"fill:none;stroke-width:0.5;stroke-linecap:butt;stroke-linejoin:miter;stroke:rgb(74.509804%,74.509804%,74.509804%);stroke-opacity:1;stroke-miterlimit:10;\" d=\"M 362.378906 394.390625 L 316.441406 501.992188 \"/>\n",
       "<path style=\"fill:none;stroke-width:2;stroke-linecap:butt;stroke-linejoin:miter;stroke:rgb(100%,0%,0%);stroke-opacity:1;stroke-miterlimit:10;\" d=\"M 362.378906 394.390625 L 269.464844 544.046875 \"/>\n",
       "<path style=\"fill:none;stroke-width:0.5;stroke-linecap:butt;stroke-linejoin:miter;stroke:rgb(74.509804%,74.509804%,74.509804%);stroke-opacity:1;stroke-miterlimit:10;\" d=\"M 362.378906 394.390625 L 221.222656 506.441406 \"/>\n",
       "<path style=\"fill:none;stroke-width:0.5;stroke-linecap:butt;stroke-linejoin:miter;stroke:rgb(74.509804%,74.509804%,74.509804%);stroke-opacity:1;stroke-miterlimit:10;\" d=\"M 362.378906 394.390625 L 469.792969 367.972656 \"/>\n",
       "<path style=\"fill:none;stroke-width:0.5;stroke-linecap:butt;stroke-linejoin:miter;stroke:rgb(74.509804%,74.509804%,74.509804%);stroke-opacity:1;stroke-miterlimit:10;\" d=\"M 362.378906 394.390625 L 375.109375 229.792969 \"/>\n",
       "<path style=\"fill:none;stroke-width:0.5;stroke-linecap:butt;stroke-linejoin:miter;stroke:rgb(74.509804%,74.509804%,74.509804%);stroke-opacity:1;stroke-miterlimit:10;\" d=\"M 362.378906 394.390625 L 372.226562 539.21875 \"/>\n",
       "<path style=\"fill:none;stroke-width:0.5;stroke-linecap:butt;stroke-linejoin:miter;stroke:rgb(74.509804%,74.509804%,74.509804%);stroke-opacity:1;stroke-miterlimit:10;\" d=\"M 362.378906 394.390625 L 171.09375 436.546875 \"/>\n",
       "<path style=\"fill:none;stroke-width:0.5;stroke-linecap:butt;stroke-linejoin:miter;stroke:rgb(74.509804%,74.509804%,74.509804%);stroke-opacity:1;stroke-miterlimit:10;\" d=\"M 362.378906 394.390625 L 474.078125 486.546875 \"/>\n",
       "<path style=\"fill:none;stroke-width:0.5;stroke-linecap:butt;stroke-linejoin:miter;stroke:rgb(74.509804%,74.509804%,74.509804%);stroke-opacity:1;stroke-miterlimit:10;\" d=\"M 362.378906 394.390625 L 390.644531 302.003906 \"/>\n",
       "<path style=\"fill:none;stroke-width:0.5;stroke-linecap:butt;stroke-linejoin:miter;stroke:rgb(74.509804%,74.509804%,74.509804%);stroke-opacity:1;stroke-miterlimit:10;\" d=\"M 362.378906 394.390625 L 545.621094 429.398438 \"/>\n",
       "<path style=\"fill:none;stroke-width:0.5;stroke-linecap:butt;stroke-linejoin:miter;stroke:rgb(74.509804%,74.509804%,74.509804%);stroke-opacity:1;stroke-miterlimit:10;\" d=\"M 362.378906 394.390625 L 456.183594 260.699219 \"/>\n",
       "<path style=\"fill:none;stroke-width:0.5;stroke-linecap:butt;stroke-linejoin:miter;stroke:rgb(74.509804%,74.509804%,74.509804%);stroke-opacity:1;stroke-miterlimit:10;\" d=\"M 362.378906 394.390625 L 580 376.621094 \"/>\n",
       "<path style=\"fill:none;stroke-width:0.5;stroke-linecap:butt;stroke-linejoin:miter;stroke:rgb(74.509804%,74.509804%,74.509804%);stroke-opacity:1;stroke-miterlimit:10;\" d=\"M 362.378906 394.390625 L 190.726562 238.234375 \"/>\n",
       "<path style=\"fill:none;stroke-width:0.5;stroke-linecap:butt;stroke-linejoin:miter;stroke:rgb(74.509804%,74.509804%,74.509804%);stroke-opacity:1;stroke-miterlimit:10;\" d=\"M 486.855469 323.328125 L 330.027344 286.5 \"/>\n",
       "<path style=\"fill:none;stroke-width:0.5;stroke-linecap:butt;stroke-linejoin:miter;stroke:rgb(74.509804%,74.509804%,74.509804%);stroke-opacity:1;stroke-miterlimit:10;\" d=\"M 486.855469 323.328125 L 426.921875 392.140625 \"/>\n",
       "<path style=\"fill:none;stroke-width:0.5;stroke-linecap:butt;stroke-linejoin:miter;stroke:rgb(74.509804%,74.509804%,74.509804%);stroke-opacity:1;stroke-miterlimit:10;\" d=\"M 486.855469 323.328125 L 469.792969 367.972656 \"/>\n",
       "<path style=\"fill:none;stroke-width:0.5;stroke-linecap:butt;stroke-linejoin:miter;stroke:rgb(74.509804%,74.509804%,74.509804%);stroke-opacity:1;stroke-miterlimit:10;\" d=\"M 486.855469 323.328125 L 390.644531 302.003906 \"/>\n",
       "<path style=\"fill:none;stroke-width:0.5;stroke-linecap:butt;stroke-linejoin:miter;stroke:rgb(74.509804%,74.509804%,74.509804%);stroke-opacity:1;stroke-miterlimit:10;\" d=\"M 486.855469 323.328125 L 545.621094 429.398438 \"/>\n",
       "<path style=\"fill:none;stroke-width:0.5;stroke-linecap:butt;stroke-linejoin:miter;stroke:rgb(74.509804%,74.509804%,74.509804%);stroke-opacity:1;stroke-miterlimit:10;\" d=\"M 486.855469 323.328125 L 456.183594 260.699219 \"/>\n",
       "<path style=\"fill:none;stroke-width:0.5;stroke-linecap:butt;stroke-linejoin:miter;stroke:rgb(74.509804%,74.509804%,74.509804%);stroke-opacity:1;stroke-miterlimit:10;\" d=\"M 486.855469 323.328125 L 580 376.621094 \"/>\n",
       "<path style=\"fill:none;stroke-width:0.5;stroke-linecap:butt;stroke-linejoin:miter;stroke:rgb(74.509804%,74.509804%,74.509804%);stroke-opacity:1;stroke-miterlimit:10;\" d=\"M 486.855469 323.328125 L 458.546875 186.113281 \"/>\n",
       "<path style=\"fill:none;stroke-width:0.5;stroke-linecap:butt;stroke-linejoin:miter;stroke:rgb(74.509804%,74.509804%,74.509804%);stroke-opacity:1;stroke-miterlimit:10;\" d=\"M 330.027344 286.5 L 426.921875 392.140625 \"/>\n",
       "<path style=\"fill:none;stroke-width:0.5;stroke-linecap:butt;stroke-linejoin:miter;stroke:rgb(74.509804%,74.509804%,74.509804%);stroke-opacity:1;stroke-miterlimit:10;\" d=\"M 330.027344 286.5 L 469.792969 367.972656 \"/>\n",
       "<path style=\"fill:none;stroke-width:0.5;stroke-linecap:butt;stroke-linejoin:miter;stroke:rgb(74.509804%,74.509804%,74.509804%);stroke-opacity:1;stroke-miterlimit:10;\" d=\"M 330.027344 286.5 L 147.542969 204.097656 \"/>\n",
       "<path style=\"fill:none;stroke-width:0.5;stroke-linecap:butt;stroke-linejoin:miter;stroke:rgb(74.509804%,74.509804%,74.509804%);stroke-opacity:1;stroke-miterlimit:10;\" d=\"M 330.027344 286.5 L 253.675781 221.515625 \"/>\n",
       "<path style=\"fill:none;stroke-width:2;stroke-linecap:butt;stroke-linejoin:miter;stroke:rgb(100%,0%,0%);stroke-opacity:1;stroke-miterlimit:10;\" d=\"M 330.027344 286.5 L 331.804688 123.644531 \"/>\n",
       "<path style=\"fill:none;stroke-width:0.5;stroke-linecap:butt;stroke-linejoin:miter;stroke:rgb(74.509804%,74.509804%,74.509804%);stroke-opacity:1;stroke-miterlimit:10;\" d=\"M 330.027344 286.5 L 207.027344 283.3125 \"/>\n",
       "<path style=\"fill:none;stroke-width:0.5;stroke-linecap:butt;stroke-linejoin:miter;stroke:rgb(74.509804%,74.509804%,74.509804%);stroke-opacity:1;stroke-miterlimit:10;\" d=\"M 330.027344 286.5 L 375.109375 229.792969 \"/>\n",
       "<path style=\"fill:none;stroke-width:0.5;stroke-linecap:butt;stroke-linejoin:miter;stroke:rgb(74.509804%,74.509804%,74.509804%);stroke-opacity:1;stroke-miterlimit:10;\" d=\"M 330.027344 286.5 L 390.644531 302.003906 \"/>\n",
       "<path style=\"fill:none;stroke-width:0.5;stroke-linecap:butt;stroke-linejoin:miter;stroke:rgb(74.509804%,74.509804%,74.509804%);stroke-opacity:1;stroke-miterlimit:10;\" d=\"M 426.921875 392.140625 L 469.792969 367.972656 \"/>\n",
       "<path style=\"fill:none;stroke-width:0.5;stroke-linecap:butt;stroke-linejoin:miter;stroke:rgb(74.509804%,74.509804%,74.509804%);stroke-opacity:1;stroke-miterlimit:10;\" d=\"M 426.921875 392.140625 L 474.078125 486.546875 \"/>\n",
       "<path style=\"fill:none;stroke-width:0.5;stroke-linecap:butt;stroke-linejoin:miter;stroke:rgb(74.509804%,74.509804%,74.509804%);stroke-opacity:1;stroke-miterlimit:10;\" d=\"M 426.921875 392.140625 L 390.644531 302.003906 \"/>\n",
       "<path style=\"fill:none;stroke-width:0.5;stroke-linecap:butt;stroke-linejoin:miter;stroke:rgb(74.509804%,74.509804%,74.509804%);stroke-opacity:1;stroke-miterlimit:10;\" d=\"M 316.441406 501.992188 L 221.222656 506.441406 \"/>\n",
       "<path style=\"fill:none;stroke-width:0.5;stroke-linecap:butt;stroke-linejoin:miter;stroke:rgb(74.509804%,74.509804%,74.509804%);stroke-opacity:1;stroke-miterlimit:10;\" d=\"M 316.441406 501.992188 L 372.226562 539.21875 \"/>\n",
       "<path style=\"fill:none;stroke-width:0.5;stroke-linecap:butt;stroke-linejoin:miter;stroke:rgb(74.509804%,74.509804%,74.509804%);stroke-opacity:1;stroke-miterlimit:10;\" d=\"M 269.464844 544.046875 L 221.222656 506.441406 \"/>\n",
       "<path style=\"fill:none;stroke-width:0.5;stroke-linecap:butt;stroke-linejoin:miter;stroke:rgb(74.509804%,74.509804%,74.509804%);stroke-opacity:1;stroke-miterlimit:10;\" d=\"M 269.464844 544.046875 L 372.226562 539.21875 \"/>\n",
       "<path style=\"fill:none;stroke-width:2;stroke-linecap:butt;stroke-linejoin:miter;stroke:rgb(100%,0%,0%);stroke-opacity:1;stroke-miterlimit:10;\" d=\"M 269.464844 544.046875 L 148.777344 580 \"/>\n",
       "<path style=\"fill:none;stroke-width:0.5;stroke-linecap:butt;stroke-linejoin:miter;stroke:rgb(74.509804%,74.509804%,74.509804%);stroke-opacity:1;stroke-miterlimit:10;\" d=\"M 221.222656 506.441406 L 148.777344 580 \"/>\n",
       "<path style=\"fill:none;stroke-width:0.5;stroke-linecap:butt;stroke-linejoin:miter;stroke:rgb(74.509804%,74.509804%,74.509804%);stroke-opacity:1;stroke-miterlimit:10;\" d=\"M 375.109375 229.792969 L 458.546875 186.113281 \"/>\n",
       "<path style=\"fill:none;stroke-width:0.5;stroke-linecap:butt;stroke-linejoin:miter;stroke:rgb(74.509804%,74.509804%,74.509804%);stroke-opacity:1;stroke-miterlimit:10;\" d=\"M 375.109375 229.792969 L 331.804688 123.644531 \"/>\n",
       "<path style=\"fill:none;stroke-width:0.5;stroke-linecap:butt;stroke-linejoin:miter;stroke:rgb(74.509804%,74.509804%,74.509804%);stroke-opacity:1;stroke-miterlimit:10;\" d=\"M 375.109375 229.792969 L 306.585938 149.066406 \"/>\n",
       "<path style=\"fill:none;stroke-width:0.5;stroke-linecap:butt;stroke-linejoin:miter;stroke:rgb(74.509804%,74.509804%,74.509804%);stroke-opacity:1;stroke-miterlimit:10;\" d=\"M 207.027344 283.3125 L 306.585938 149.066406 \"/>\n",
       "<path style=\"fill:none;stroke-width:0.5;stroke-linecap:butt;stroke-linejoin:miter;stroke:rgb(74.509804%,74.509804%,74.509804%);stroke-opacity:1;stroke-miterlimit:10;\" d=\"M 390.644531 302.003906 L 306.585938 149.066406 \"/>\n",
       "<path style=\"fill:none;stroke-width:0.5;stroke-linecap:butt;stroke-linejoin:miter;stroke:rgb(74.509804%,74.509804%,74.509804%);stroke-opacity:1;stroke-miterlimit:10;\" d=\"M 396.078125 32.746094 L 331.804688 123.644531 \"/>\n",
       "<path style=\"fill:none;stroke-width:0.5;stroke-linecap:butt;stroke-linejoin:miter;stroke:rgb(74.509804%,74.509804%,74.509804%);stroke-opacity:1;stroke-miterlimit:10;\" d=\"M 396.078125 32.746094 L 306.585938 149.066406 \"/>\n",
       "<path style=\"fill:none;stroke-width:2;stroke-linecap:butt;stroke-linejoin:miter;stroke:rgb(100%,0%,0%);stroke-opacity:1;stroke-miterlimit:10;\" d=\"M 272.191406 28.792969 L 331.804688 123.644531 \"/>\n",
       "<path style=\"fill:none;stroke-width:0.5;stroke-linecap:butt;stroke-linejoin:miter;stroke:rgb(74.509804%,74.509804%,74.509804%);stroke-opacity:1;stroke-miterlimit:10;\" d=\"M 272.191406 28.792969 L 306.585938 149.066406 \"/>\n",
       "<path style=\"fill:none;stroke-width:0.5;stroke-linecap:butt;stroke-linejoin:miter;stroke:rgb(74.509804%,74.509804%,74.509804%);stroke-opacity:1;stroke-miterlimit:10;\" d=\"M 335.699219 20 L 331.804688 123.644531 \"/>\n",
       "<path style=\"fill:none;stroke-width:0.5;stroke-linecap:butt;stroke-linejoin:miter;stroke:rgb(74.509804%,74.509804%,74.509804%);stroke-opacity:1;stroke-miterlimit:10;\" d=\"M 335.699219 20 L 306.585938 149.066406 \"/>\n",
       "<path style=\"fill:none;stroke-width:0.5;stroke-linecap:butt;stroke-linejoin:miter;stroke:rgb(74.509804%,74.509804%,74.509804%);stroke-opacity:1;stroke-miterlimit:10;\" d=\"M 456.183594 260.699219 L 306.585938 149.066406 \"/>\n",
       "<path style=\"fill:none;stroke-width:0.5;stroke-linecap:butt;stroke-linejoin:miter;stroke:rgb(74.509804%,74.509804%,74.509804%);stroke-opacity:1;stroke-miterlimit:10;\" d=\"M 445.511719 60.796875 L 331.804688 123.644531 \"/>\n",
       "<path style=\"fill:none;stroke-width:0.5;stroke-linecap:butt;stroke-linejoin:miter;stroke:rgb(74.509804%,74.509804%,74.509804%);stroke-opacity:1;stroke-miterlimit:10;\" d=\"M 445.511719 60.796875 L 306.585938 149.066406 \"/>\n",
       "<path style=\"fill:none;stroke-width:0.5;stroke-linecap:butt;stroke-linejoin:miter;stroke:rgb(74.509804%,74.509804%,74.509804%);stroke-opacity:1;stroke-miterlimit:10;\" d=\"M 474.058594 103.523438 L 331.804688 123.644531 \"/>\n",
       "<path style=\"fill:none;stroke-width:0.5;stroke-linecap:butt;stroke-linejoin:miter;stroke:rgb(74.509804%,74.509804%,74.509804%);stroke-opacity:1;stroke-miterlimit:10;\" d=\"M 474.058594 103.523438 L 306.585938 149.066406 \"/>\n",
       "<path style=\"fill:none;stroke-width:0.5;stroke-linecap:butt;stroke-linejoin:miter;stroke:rgb(74.509804%,74.509804%,74.509804%);stroke-opacity:1;stroke-miterlimit:10;\" d=\"M 154.214844 126.300781 L 26.417969 180.246094 \"/>\n",
       "<path style=\"fill:none;stroke-width:0.5;stroke-linecap:butt;stroke-linejoin:miter;stroke:rgb(74.509804%,74.509804%,74.509804%);stroke-opacity:1;stroke-miterlimit:10;\" d=\"M 154.214844 126.300781 L 147.542969 204.097656 \"/>\n",
       "<path style=\"fill:none;stroke-width:0.5;stroke-linecap:butt;stroke-linejoin:miter;stroke:rgb(74.509804%,74.509804%,74.509804%);stroke-opacity:1;stroke-miterlimit:10;\" d=\"M 154.214844 126.300781 L 331.804688 123.644531 \"/>\n",
       "<path style=\"fill:none;stroke-width:0.5;stroke-linecap:butt;stroke-linejoin:miter;stroke:rgb(74.509804%,74.509804%,74.509804%);stroke-opacity:1;stroke-miterlimit:10;\" d=\"M 154.214844 126.300781 L 306.585938 149.066406 \"/>\n",
       "<path style=\"fill:none;stroke-width:0.5;stroke-linecap:butt;stroke-linejoin:miter;stroke:rgb(74.509804%,74.509804%,74.509804%);stroke-opacity:1;stroke-miterlimit:10;\" d=\"M 154.214844 126.300781 L 207.613281 72.308594 \"/>\n",
       "<path style=\"fill:none;stroke-width:0.5;stroke-linecap:butt;stroke-linejoin:miter;stroke:rgb(74.509804%,74.509804%,74.509804%);stroke-opacity:1;stroke-miterlimit:10;\" d=\"M 20 244.914062 L 26.417969 180.246094 \"/>\n",
       "<path style=\"fill:none;stroke-width:0.5;stroke-linecap:butt;stroke-linejoin:miter;stroke:rgb(74.509804%,74.509804%,74.509804%);stroke-opacity:1;stroke-miterlimit:10;\" d=\"M 20 244.914062 L 147.542969 204.097656 \"/>\n",
       "<path style=\"fill:none;stroke-width:0.5;stroke-linecap:butt;stroke-linejoin:miter;stroke:rgb(74.509804%,74.509804%,74.509804%);stroke-opacity:1;stroke-miterlimit:10;\" d=\"M 20 244.914062 L 190.726562 238.234375 \"/>\n",
       "<path style=\"fill:none;stroke-width:0.5;stroke-linecap:butt;stroke-linejoin:miter;stroke:rgb(74.509804%,74.509804%,74.509804%);stroke-opacity:1;stroke-miterlimit:10;\" d=\"M 26.417969 180.246094 L 190.726562 238.234375 \"/>\n",
       "<path style=\"fill:none;stroke-width:0.5;stroke-linecap:butt;stroke-linejoin:miter;stroke:rgb(74.509804%,74.509804%,74.509804%);stroke-opacity:1;stroke-miterlimit:10;\" d=\"M 155.378906 30.777344 L 207.613281 72.308594 \"/>\n",
       "<path style=\"fill:none;stroke-width:0.5;stroke-linecap:butt;stroke-linejoin:miter;stroke:rgb(74.509804%,74.509804%,74.509804%);stroke-opacity:1;stroke-miterlimit:10;\" d=\"M 155.378906 30.777344 L 306.585938 149.066406 \"/>\n",
       "<path style=\"fill:none;stroke-width:0.5;stroke-linecap:butt;stroke-linejoin:miter;stroke:rgb(74.509804%,74.509804%,74.509804%);stroke-opacity:1;stroke-miterlimit:10;\" d=\"M 147.542969 204.097656 L 306.585938 149.066406 \"/>\n",
       "<path style=\"fill:none;stroke-width:0.5;stroke-linecap:butt;stroke-linejoin:miter;stroke:rgb(74.509804%,74.509804%,74.509804%);stroke-opacity:1;stroke-miterlimit:10;\" d=\"M 253.675781 221.515625 L 190.726562 238.234375 \"/>\n",
       "<path style=\"fill:none;stroke-width:0.5;stroke-linecap:butt;stroke-linejoin:miter;stroke:rgb(74.509804%,74.509804%,74.509804%);stroke-opacity:1;stroke-miterlimit:10;\" d=\"M 253.675781 221.515625 L 306.585938 149.066406 \"/>\n",
       "<path style=\"fill:none;stroke-width:0.5;stroke-linecap:butt;stroke-linejoin:miter;stroke:rgb(74.509804%,74.509804%,74.509804%);stroke-opacity:1;stroke-miterlimit:10;\" d=\"M 207.613281 72.308594 L 331.804688 123.644531 \"/>\n",
       "<path style=\"fill:none;stroke-width:0.5;stroke-linecap:butt;stroke-linejoin:miter;stroke:rgb(74.509804%,74.509804%,74.509804%);stroke-opacity:1;stroke-miterlimit:10;\" d=\"M 207.613281 72.308594 L 306.585938 149.066406 \"/>\n",
       "<path style=\"fill:none;stroke-width:0.5;stroke-linecap:butt;stroke-linejoin:miter;stroke:rgb(74.509804%,74.509804%,74.509804%);stroke-opacity:1;stroke-miterlimit:10;\" d=\"M 458.546875 186.113281 L 331.804688 123.644531 \"/>\n",
       "<path style=\"fill:none;stroke-width:0.5;stroke-linecap:butt;stroke-linejoin:miter;stroke:rgb(74.509804%,74.509804%,74.509804%);stroke-opacity:1;stroke-miterlimit:10;\" d=\"M 458.546875 186.113281 L 306.585938 149.066406 \"/>\n",
       "<path style=\"fill:none;stroke-width:0.5;stroke-linecap:butt;stroke-linejoin:miter;stroke:rgb(74.509804%,74.509804%,74.509804%);stroke-opacity:1;stroke-miterlimit:10;\" d=\"M 190.726562 238.234375 L 331.804688 123.644531 \"/>\n",
       "<path style=\"fill:none;stroke-width:0.5;stroke-linecap:butt;stroke-linejoin:miter;stroke:rgb(74.509804%,74.509804%,74.509804%);stroke-opacity:1;stroke-miterlimit:10;\" d=\"M 190.726562 238.234375 L 306.585938 149.066406 \"/>\n",
       "<path style=\"fill:none;stroke-width:0.5;stroke-linecap:butt;stroke-linejoin:miter;stroke:rgb(74.509804%,74.509804%,74.509804%);stroke-opacity:1;stroke-miterlimit:10;\" d=\"M 331.804688 123.644531 L 306.585938 149.066406 \"/>\n",
       "<path style=\"fill-rule:nonzero;fill:rgb(100%,0%,0%);fill-opacity:1;stroke-width:1;stroke-linecap:butt;stroke-linejoin:miter;stroke:rgb(0%,0%,0%);stroke-opacity:1;stroke-miterlimit:10;\" d=\"M 369.878906 394.390625 C 369.878906 398.53125 366.519531 401.890625 362.378906 401.890625 C 358.234375 401.890625 354.878906 398.53125 354.878906 394.390625 C 354.878906 390.246094 358.234375 386.890625 362.378906 386.890625 C 366.519531 386.890625 369.878906 390.246094 369.878906 394.390625 \"/>\n",
       "<path style=\"fill-rule:nonzero;fill:rgb(74.509804%,74.509804%,74.509804%);fill-opacity:1;stroke-width:1;stroke-linecap:butt;stroke-linejoin:miter;stroke:rgb(0%,0%,0%);stroke-opacity:1;stroke-miterlimit:10;\" d=\"M 494.355469 323.328125 C 494.355469 327.472656 491 330.828125 486.855469 330.828125 C 482.714844 330.828125 479.355469 327.472656 479.355469 323.328125 C 479.355469 319.1875 482.714844 315.828125 486.855469 315.828125 C 491 315.828125 494.355469 319.1875 494.355469 323.328125 \"/>\n",
       "<path style=\"fill-rule:nonzero;fill:rgb(100%,0%,0%);fill-opacity:1;stroke-width:1;stroke-linecap:butt;stroke-linejoin:miter;stroke:rgb(0%,0%,0%);stroke-opacity:1;stroke-miterlimit:10;\" d=\"M 337.527344 286.5 C 337.527344 290.644531 334.167969 294 330.027344 294 C 325.882812 294 322.527344 290.644531 322.527344 286.5 C 322.527344 282.359375 325.882812 279 330.027344 279 C 334.167969 279 337.527344 282.359375 337.527344 286.5 \"/>\n",
       "<path style=\"fill-rule:nonzero;fill:rgb(74.509804%,74.509804%,74.509804%);fill-opacity:1;stroke-width:1;stroke-linecap:butt;stroke-linejoin:miter;stroke:rgb(0%,0%,0%);stroke-opacity:1;stroke-miterlimit:10;\" d=\"M 434.421875 392.140625 C 434.421875 396.28125 431.0625 399.640625 426.921875 399.640625 C 422.78125 399.640625 419.421875 396.28125 419.421875 392.140625 C 419.421875 387.996094 422.78125 384.640625 426.921875 384.640625 C 431.0625 384.640625 434.421875 387.996094 434.421875 392.140625 \"/>\n",
       "<path style=\"fill-rule:nonzero;fill:rgb(74.509804%,74.509804%,74.509804%);fill-opacity:1;stroke-width:1;stroke-linecap:butt;stroke-linejoin:miter;stroke:rgb(0%,0%,0%);stroke-opacity:1;stroke-miterlimit:10;\" d=\"M 321.441406 501.992188 C 321.441406 508.660156 311.441406 508.660156 311.441406 501.992188 C 311.441406 495.324219 321.441406 495.324219 321.441406 501.992188 \"/>\n",
       "<path style=\"fill-rule:nonzero;fill:rgb(100%,0%,0%);fill-opacity:1;stroke-width:1;stroke-linecap:butt;stroke-linejoin:miter;stroke:rgb(0%,0%,0%);stroke-opacity:1;stroke-miterlimit:10;\" d=\"M 274.464844 544.046875 C 274.464844 550.710938 264.464844 550.710938 264.464844 544.046875 C 264.464844 537.378906 274.464844 537.378906 274.464844 544.046875 \"/>\n",
       "<path style=\"fill-rule:nonzero;fill:rgb(74.509804%,74.509804%,74.509804%);fill-opacity:1;stroke-width:1;stroke-linecap:butt;stroke-linejoin:miter;stroke:rgb(0%,0%,0%);stroke-opacity:1;stroke-miterlimit:10;\" d=\"M 226.222656 506.441406 C 226.222656 513.109375 216.222656 513.109375 216.222656 506.441406 C 216.222656 499.777344 226.222656 499.777344 226.222656 506.441406 \"/>\n",
       "<path style=\"fill-rule:nonzero;fill:rgb(74.509804%,74.509804%,74.509804%);fill-opacity:1;stroke-width:1;stroke-linecap:butt;stroke-linejoin:miter;stroke:rgb(0%,0%,0%);stroke-opacity:1;stroke-miterlimit:10;\" d=\"M 474.792969 367.972656 C 474.792969 374.640625 464.792969 374.640625 464.792969 367.972656 C 464.792969 361.308594 474.792969 361.308594 474.792969 367.972656 \"/>\n",
       "<path style=\"fill-rule:nonzero;fill:rgb(74.509804%,74.509804%,74.509804%);fill-opacity:1;stroke-width:1;stroke-linecap:butt;stroke-linejoin:miter;stroke:rgb(0%,0%,0%);stroke-opacity:1;stroke-miterlimit:10;\" d=\"M 382.609375 229.792969 C 382.609375 233.933594 379.25 237.292969 375.109375 237.292969 C 370.964844 237.292969 367.609375 233.933594 367.609375 229.792969 C 367.609375 225.648438 370.964844 222.292969 375.109375 222.292969 C 379.25 222.292969 382.609375 225.648438 382.609375 229.792969 \"/>\n",
       "<path style=\"fill-rule:nonzero;fill:rgb(74.509804%,74.509804%,74.509804%);fill-opacity:1;stroke-width:1;stroke-linecap:butt;stroke-linejoin:miter;stroke:rgb(0%,0%,0%);stroke-opacity:1;stroke-miterlimit:10;\" d=\"M 212.027344 283.3125 C 212.027344 289.980469 202.027344 289.980469 202.027344 283.3125 C 202.027344 276.644531 212.027344 276.644531 212.027344 283.3125 \"/>\n",
       "<path style=\"fill-rule:nonzero;fill:rgb(74.509804%,74.509804%,74.509804%);fill-opacity:1;stroke-width:1;stroke-linecap:butt;stroke-linejoin:miter;stroke:rgb(0%,0%,0%);stroke-opacity:1;stroke-miterlimit:10;\" d=\"M 377.226562 539.21875 C 377.226562 545.886719 367.226562 545.886719 367.226562 539.21875 C 367.226562 532.550781 377.226562 532.550781 377.226562 539.21875 \"/>\n",
       "<path style=\"fill-rule:nonzero;fill:rgb(74.509804%,74.509804%,74.509804%);fill-opacity:1;stroke-width:1;stroke-linecap:butt;stroke-linejoin:miter;stroke:rgb(0%,0%,0%);stroke-opacity:1;stroke-miterlimit:10;\" d=\"M 176.09375 436.546875 C 176.09375 443.214844 166.09375 443.214844 166.09375 436.546875 C 166.09375 429.878906 176.09375 429.878906 176.09375 436.546875 \"/>\n",
       "<path style=\"fill-rule:nonzero;fill:rgb(74.509804%,74.509804%,74.509804%);fill-opacity:1;stroke-width:1;stroke-linecap:butt;stroke-linejoin:miter;stroke:rgb(0%,0%,0%);stroke-opacity:1;stroke-miterlimit:10;\" d=\"M 479.078125 486.546875 C 479.078125 493.214844 469.078125 493.214844 469.078125 486.546875 C 469.078125 479.882812 479.078125 479.882812 479.078125 486.546875 \"/>\n",
       "<path style=\"fill-rule:nonzero;fill:rgb(74.509804%,74.509804%,74.509804%);fill-opacity:1;stroke-width:1;stroke-linecap:butt;stroke-linejoin:miter;stroke:rgb(0%,0%,0%);stroke-opacity:1;stroke-miterlimit:10;\" d=\"M 398.144531 302.003906 C 398.144531 306.144531 394.785156 309.503906 390.644531 309.503906 C 386.503906 309.503906 383.144531 306.144531 383.144531 302.003906 C 383.144531 297.863281 386.503906 294.503906 390.644531 294.503906 C 394.785156 294.503906 398.144531 297.863281 398.144531 302.003906 \"/>\n",
       "<path style=\"fill-rule:nonzero;fill:rgb(74.509804%,74.509804%,74.509804%);fill-opacity:1;stroke-width:1;stroke-linecap:butt;stroke-linejoin:miter;stroke:rgb(0%,0%,0%);stroke-opacity:1;stroke-miterlimit:10;\" d=\"M 398.578125 32.746094 C 398.578125 36.078125 393.578125 36.078125 393.578125 32.746094 C 393.578125 29.410156 398.578125 29.410156 398.578125 32.746094 \"/>\n",
       "<path style=\"fill-rule:nonzero;fill:rgb(100%,0%,0%);fill-opacity:1;stroke-width:1;stroke-linecap:butt;stroke-linejoin:miter;stroke:rgb(0%,0%,0%);stroke-opacity:1;stroke-miterlimit:10;\" d=\"M 274.691406 28.792969 C 274.691406 32.125 269.691406 32.125 269.691406 28.792969 C 269.691406 25.460938 274.691406 25.460938 274.691406 28.792969 \"/>\n",
       "<path style=\"fill-rule:nonzero;fill:rgb(100%,0%,0%);fill-opacity:1;stroke-width:1;stroke-linecap:butt;stroke-linejoin:miter;stroke:rgb(0%,0%,0%);stroke-opacity:1;stroke-miterlimit:10;\" d=\"M 151.277344 580 C 151.277344 583.332031 146.277344 583.332031 146.277344 580 C 146.277344 576.667969 151.277344 576.667969 151.277344 580 \"/>\n",
       "<path style=\"fill-rule:nonzero;fill:rgb(74.509804%,74.509804%,74.509804%);fill-opacity:1;stroke-width:1;stroke-linecap:butt;stroke-linejoin:miter;stroke:rgb(0%,0%,0%);stroke-opacity:1;stroke-miterlimit:10;\" d=\"M 550.621094 429.398438 C 550.621094 436.066406 540.621094 436.066406 540.621094 429.398438 C 540.621094 422.730469 550.621094 422.730469 550.621094 429.398438 \"/>\n",
       "<path style=\"fill-rule:nonzero;fill:rgb(74.509804%,74.509804%,74.509804%);fill-opacity:1;stroke-width:1;stroke-linecap:butt;stroke-linejoin:miter;stroke:rgb(0%,0%,0%);stroke-opacity:1;stroke-miterlimit:10;\" d=\"M 338.199219 20 C 338.199219 23.332031 333.199219 23.332031 333.199219 20 C 333.199219 16.667969 338.199219 16.667969 338.199219 20 \"/>\n",
       "<path style=\"fill-rule:nonzero;fill:rgb(74.509804%,74.509804%,74.509804%);fill-opacity:1;stroke-width:1;stroke-linecap:butt;stroke-linejoin:miter;stroke:rgb(0%,0%,0%);stroke-opacity:1;stroke-miterlimit:10;\" d=\"M 463.683594 260.699219 C 463.683594 264.84375 460.328125 268.199219 456.183594 268.199219 C 452.042969 268.199219 448.683594 264.84375 448.683594 260.699219 C 448.683594 256.558594 452.042969 253.199219 456.183594 253.199219 C 460.328125 253.199219 463.683594 256.558594 463.683594 260.699219 \"/>\n",
       "<path style=\"fill-rule:nonzero;fill:rgb(74.509804%,74.509804%,74.509804%);fill-opacity:1;stroke-width:1;stroke-linecap:butt;stroke-linejoin:miter;stroke:rgb(0%,0%,0%);stroke-opacity:1;stroke-miterlimit:10;\" d=\"M 448.011719 60.796875 C 448.011719 64.132812 443.011719 64.132812 443.011719 60.796875 C 443.011719 57.464844 448.011719 57.464844 448.011719 60.796875 \"/>\n",
       "<path style=\"fill-rule:nonzero;fill:rgb(74.509804%,74.509804%,74.509804%);fill-opacity:1;stroke-width:1;stroke-linecap:butt;stroke-linejoin:miter;stroke:rgb(0%,0%,0%);stroke-opacity:1;stroke-miterlimit:10;\" d=\"M 585 376.621094 C 585 383.285156 575 383.285156 575 376.621094 C 575 369.953125 585 369.953125 585 376.621094 \"/>\n",
       "<path style=\"fill-rule:nonzero;fill:rgb(74.509804%,74.509804%,74.509804%);fill-opacity:1;stroke-width:1;stroke-linecap:butt;stroke-linejoin:miter;stroke:rgb(0%,0%,0%);stroke-opacity:1;stroke-miterlimit:10;\" d=\"M 476.558594 103.523438 C 476.558594 106.859375 471.558594 106.859375 471.558594 103.523438 C 471.558594 100.191406 476.558594 100.191406 476.558594 103.523438 \"/>\n",
       "<path style=\"fill-rule:nonzero;fill:rgb(74.509804%,74.509804%,74.509804%);fill-opacity:1;stroke-width:1;stroke-linecap:butt;stroke-linejoin:miter;stroke:rgb(0%,0%,0%);stroke-opacity:1;stroke-miterlimit:10;\" d=\"M 156.714844 126.300781 C 156.714844 129.632812 151.714844 129.632812 151.714844 126.300781 C 151.714844 122.96875 156.714844 122.96875 156.714844 126.300781 \"/>\n",
       "<path style=\"fill-rule:nonzero;fill:rgb(74.509804%,74.509804%,74.509804%);fill-opacity:1;stroke-width:1;stroke-linecap:butt;stroke-linejoin:miter;stroke:rgb(0%,0%,0%);stroke-opacity:1;stroke-miterlimit:10;\" d=\"M 25 244.914062 C 25 251.578125 15 251.578125 15 244.914062 C 15 238.246094 25 238.246094 25 244.914062 \"/>\n",
       "<path style=\"fill-rule:nonzero;fill:rgb(74.509804%,74.509804%,74.509804%);fill-opacity:1;stroke-width:1;stroke-linecap:butt;stroke-linejoin:miter;stroke:rgb(0%,0%,0%);stroke-opacity:1;stroke-miterlimit:10;\" d=\"M 31.417969 180.246094 C 31.417969 186.914062 21.417969 186.914062 21.417969 180.246094 C 21.417969 173.582031 31.417969 173.582031 31.417969 180.246094 \"/>\n",
       "<path style=\"fill-rule:nonzero;fill:rgb(74.509804%,74.509804%,74.509804%);fill-opacity:1;stroke-width:1;stroke-linecap:butt;stroke-linejoin:miter;stroke:rgb(0%,0%,0%);stroke-opacity:1;stroke-miterlimit:10;\" d=\"M 157.878906 30.777344 C 157.878906 34.109375 152.878906 34.109375 152.878906 30.777344 C 152.878906 27.445312 157.878906 27.445312 157.878906 30.777344 \"/>\n",
       "<path style=\"fill-rule:nonzero;fill:rgb(74.509804%,74.509804%,74.509804%);fill-opacity:1;stroke-width:1;stroke-linecap:butt;stroke-linejoin:miter;stroke:rgb(0%,0%,0%);stroke-opacity:1;stroke-miterlimit:10;\" d=\"M 152.542969 204.097656 C 152.542969 210.761719 142.542969 210.761719 142.542969 204.097656 C 142.542969 197.429688 152.542969 197.429688 152.542969 204.097656 \"/>\n",
       "<path style=\"fill-rule:nonzero;fill:rgb(74.509804%,74.509804%,74.509804%);fill-opacity:1;stroke-width:1;stroke-linecap:butt;stroke-linejoin:miter;stroke:rgb(0%,0%,0%);stroke-opacity:1;stroke-miterlimit:10;\" d=\"M 258.675781 221.515625 C 258.675781 228.183594 248.675781 228.183594 248.675781 221.515625 C 248.675781 214.847656 258.675781 214.847656 258.675781 221.515625 \"/>\n",
       "<path style=\"fill-rule:nonzero;fill:rgb(74.509804%,74.509804%,74.509804%);fill-opacity:1;stroke-width:1;stroke-linecap:butt;stroke-linejoin:miter;stroke:rgb(0%,0%,0%);stroke-opacity:1;stroke-miterlimit:10;\" d=\"M 210.113281 72.308594 C 210.113281 75.640625 205.113281 75.640625 205.113281 72.308594 C 205.113281 68.976562 210.113281 68.976562 210.113281 72.308594 \"/>\n",
       "<path style=\"fill-rule:nonzero;fill:rgb(74.509804%,74.509804%,74.509804%);fill-opacity:1;stroke-width:1;stroke-linecap:butt;stroke-linejoin:miter;stroke:rgb(0%,0%,0%);stroke-opacity:1;stroke-miterlimit:10;\" d=\"M 463.546875 186.113281 C 463.546875 192.78125 453.546875 192.78125 453.546875 186.113281 C 453.546875 179.449219 463.546875 179.449219 463.546875 186.113281 \"/>\n",
       "<path style=\"fill-rule:nonzero;fill:rgb(74.509804%,74.509804%,74.509804%);fill-opacity:1;stroke-width:1;stroke-linecap:butt;stroke-linejoin:miter;stroke:rgb(0%,0%,0%);stroke-opacity:1;stroke-miterlimit:10;\" d=\"M 198.226562 238.234375 C 198.226562 242.375 194.867188 245.734375 190.726562 245.734375 C 186.585938 245.734375 183.226562 242.375 183.226562 238.234375 C 183.226562 234.09375 186.585938 230.734375 190.726562 230.734375 C 194.867188 230.734375 198.226562 234.09375 198.226562 238.234375 \"/>\n",
       "<path style=\"fill-rule:nonzero;fill:rgb(100%,0%,0%);fill-opacity:1;stroke-width:1;stroke-linecap:butt;stroke-linejoin:miter;stroke:rgb(0%,0%,0%);stroke-opacity:1;stroke-miterlimit:10;\" d=\"M 336.804688 123.644531 C 336.804688 130.3125 326.804688 130.3125 326.804688 123.644531 C 326.804688 116.976562 336.804688 116.976562 336.804688 123.644531 \"/>\n",
       "<path style=\"fill-rule:nonzero;fill:rgb(74.509804%,74.509804%,74.509804%);fill-opacity:1;stroke-width:1;stroke-linecap:butt;stroke-linejoin:miter;stroke:rgb(0%,0%,0%);stroke-opacity:1;stroke-miterlimit:10;\" d=\"M 311.585938 149.066406 C 311.585938 155.734375 301.585938 155.734375 301.585938 149.066406 C 301.585938 142.398438 311.585938 142.398438 311.585938 149.066406 \"/>\n",
       "</g>\n",
       "</svg>\n"
      ],
      "text/plain": [
       "<igraph.drawing.Plot at 0x1a26efe160>"
      ]
     },
     "execution_count": 23,
     "metadata": {},
     "output_type": "execute_result"
    }
   ],
   "source": [
    "eccentricity = distances.max(1)\n",
    "ig.plot(G, vertex_size=5*(6 - eccentricity))"
   ]
  },
  {
   "cell_type": "markdown",
   "metadata": {},
   "source": [
    "The minimum eccentricity is called the *radius* of the graph and the maximum eccentricity is called the *diameter*. The diameter of any graph is always larger than the radius and smaller than twice the radius."
   ]
  },
  {
   "cell_type": "markdown",
   "metadata": {},
   "source": [
    "The network we currently look at is connected, which is not necessarily the case. It can consist of multiple components. Let us delete a number of edges so that we get a network with two components."
   ]
  },
  {
   "cell_type": "code",
   "execution_count": 24,
   "metadata": {
    "ExecuteTime": {
     "end_time": "2019-07-05T14:24:08.121787Z",
     "start_time": "2019-07-05T14:24:08.108440Z"
    }
   },
   "outputs": [
    {
     "data": {
      "image/svg+xml": [
       "<?xml version=\"1.0\" encoding=\"UTF-8\"?>\n",
       "<svg xmlns=\"http://www.w3.org/2000/svg\" xmlns:xlink=\"http://www.w3.org/1999/xlink\" width=\"600pt\" height=\"600pt\" viewBox=\"0 0 600 600\" version=\"1.1\">\n",
       "<g id=\"surface38\">\n",
       "<rect x=\"0\" y=\"0\" width=\"600\" height=\"600\" style=\"fill:rgb(100%,100%,100%);fill-opacity:1;stroke:none;\"/>\n",
       "<path style=\"fill:none;stroke-width:0.5;stroke-linecap:butt;stroke-linejoin:miter;stroke:rgb(74.509804%,74.509804%,74.509804%);stroke-opacity:1;stroke-miterlimit:10;\" d=\"M 362.378906 394.390625 L 486.855469 323.328125 \"/>\n",
       "<path style=\"fill:none;stroke-width:2;stroke-linecap:butt;stroke-linejoin:miter;stroke:rgb(100%,0%,0%);stroke-opacity:1;stroke-miterlimit:10;\" d=\"M 362.378906 394.390625 L 330.027344 286.5 \"/>\n",
       "<path style=\"fill:none;stroke-width:0.5;stroke-linecap:butt;stroke-linejoin:miter;stroke:rgb(74.509804%,74.509804%,74.509804%);stroke-opacity:1;stroke-miterlimit:10;\" d=\"M 362.378906 394.390625 L 426.921875 392.140625 \"/>\n",
       "<path style=\"fill:none;stroke-width:0.5;stroke-linecap:butt;stroke-linejoin:miter;stroke:rgb(74.509804%,74.509804%,74.509804%);stroke-opacity:1;stroke-miterlimit:10;\" d=\"M 362.378906 394.390625 L 469.792969 367.972656 \"/>\n",
       "<path style=\"fill:none;stroke-width:0.5;stroke-linecap:butt;stroke-linejoin:miter;stroke:rgb(74.509804%,74.509804%,74.509804%);stroke-opacity:1;stroke-miterlimit:10;\" d=\"M 362.378906 394.390625 L 375.109375 229.792969 \"/>\n",
       "<path style=\"fill:none;stroke-width:0.5;stroke-linecap:butt;stroke-linejoin:miter;stroke:rgb(74.509804%,74.509804%,74.509804%);stroke-opacity:1;stroke-miterlimit:10;\" d=\"M 362.378906 394.390625 L 171.09375 436.546875 \"/>\n",
       "<path style=\"fill:none;stroke-width:0.5;stroke-linecap:butt;stroke-linejoin:miter;stroke:rgb(74.509804%,74.509804%,74.509804%);stroke-opacity:1;stroke-miterlimit:10;\" d=\"M 362.378906 394.390625 L 474.078125 486.546875 \"/>\n",
       "<path style=\"fill:none;stroke-width:0.5;stroke-linecap:butt;stroke-linejoin:miter;stroke:rgb(74.509804%,74.509804%,74.509804%);stroke-opacity:1;stroke-miterlimit:10;\" d=\"M 362.378906 394.390625 L 390.644531 302.003906 \"/>\n",
       "<path style=\"fill:none;stroke-width:0.5;stroke-linecap:butt;stroke-linejoin:miter;stroke:rgb(74.509804%,74.509804%,74.509804%);stroke-opacity:1;stroke-miterlimit:10;\" d=\"M 362.378906 394.390625 L 545.621094 429.398438 \"/>\n",
       "<path style=\"fill:none;stroke-width:0.5;stroke-linecap:butt;stroke-linejoin:miter;stroke:rgb(74.509804%,74.509804%,74.509804%);stroke-opacity:1;stroke-miterlimit:10;\" d=\"M 362.378906 394.390625 L 456.183594 260.699219 \"/>\n",
       "<path style=\"fill:none;stroke-width:0.5;stroke-linecap:butt;stroke-linejoin:miter;stroke:rgb(74.509804%,74.509804%,74.509804%);stroke-opacity:1;stroke-miterlimit:10;\" d=\"M 362.378906 394.390625 L 580 376.621094 \"/>\n",
       "<path style=\"fill:none;stroke-width:0.5;stroke-linecap:butt;stroke-linejoin:miter;stroke:rgb(74.509804%,74.509804%,74.509804%);stroke-opacity:1;stroke-miterlimit:10;\" d=\"M 362.378906 394.390625 L 190.726562 238.234375 \"/>\n",
       "<path style=\"fill:none;stroke-width:0.5;stroke-linecap:butt;stroke-linejoin:miter;stroke:rgb(74.509804%,74.509804%,74.509804%);stroke-opacity:1;stroke-miterlimit:10;\" d=\"M 486.855469 323.328125 L 330.027344 286.5 \"/>\n",
       "<path style=\"fill:none;stroke-width:0.5;stroke-linecap:butt;stroke-linejoin:miter;stroke:rgb(74.509804%,74.509804%,74.509804%);stroke-opacity:1;stroke-miterlimit:10;\" d=\"M 486.855469 323.328125 L 426.921875 392.140625 \"/>\n",
       "<path style=\"fill:none;stroke-width:0.5;stroke-linecap:butt;stroke-linejoin:miter;stroke:rgb(74.509804%,74.509804%,74.509804%);stroke-opacity:1;stroke-miterlimit:10;\" d=\"M 486.855469 323.328125 L 469.792969 367.972656 \"/>\n",
       "<path style=\"fill:none;stroke-width:0.5;stroke-linecap:butt;stroke-linejoin:miter;stroke:rgb(74.509804%,74.509804%,74.509804%);stroke-opacity:1;stroke-miterlimit:10;\" d=\"M 486.855469 323.328125 L 390.644531 302.003906 \"/>\n",
       "<path style=\"fill:none;stroke-width:0.5;stroke-linecap:butt;stroke-linejoin:miter;stroke:rgb(74.509804%,74.509804%,74.509804%);stroke-opacity:1;stroke-miterlimit:10;\" d=\"M 486.855469 323.328125 L 545.621094 429.398438 \"/>\n",
       "<path style=\"fill:none;stroke-width:0.5;stroke-linecap:butt;stroke-linejoin:miter;stroke:rgb(74.509804%,74.509804%,74.509804%);stroke-opacity:1;stroke-miterlimit:10;\" d=\"M 486.855469 323.328125 L 456.183594 260.699219 \"/>\n",
       "<path style=\"fill:none;stroke-width:0.5;stroke-linecap:butt;stroke-linejoin:miter;stroke:rgb(74.509804%,74.509804%,74.509804%);stroke-opacity:1;stroke-miterlimit:10;\" d=\"M 486.855469 323.328125 L 580 376.621094 \"/>\n",
       "<path style=\"fill:none;stroke-width:0.5;stroke-linecap:butt;stroke-linejoin:miter;stroke:rgb(74.509804%,74.509804%,74.509804%);stroke-opacity:1;stroke-miterlimit:10;\" d=\"M 486.855469 323.328125 L 458.546875 186.113281 \"/>\n",
       "<path style=\"fill:none;stroke-width:0.5;stroke-linecap:butt;stroke-linejoin:miter;stroke:rgb(74.509804%,74.509804%,74.509804%);stroke-opacity:1;stroke-miterlimit:10;\" d=\"M 330.027344 286.5 L 426.921875 392.140625 \"/>\n",
       "<path style=\"fill:none;stroke-width:0.5;stroke-linecap:butt;stroke-linejoin:miter;stroke:rgb(74.509804%,74.509804%,74.509804%);stroke-opacity:1;stroke-miterlimit:10;\" d=\"M 330.027344 286.5 L 469.792969 367.972656 \"/>\n",
       "<path style=\"fill:none;stroke-width:0.5;stroke-linecap:butt;stroke-linejoin:miter;stroke:rgb(74.509804%,74.509804%,74.509804%);stroke-opacity:1;stroke-miterlimit:10;\" d=\"M 330.027344 286.5 L 147.542969 204.097656 \"/>\n",
       "<path style=\"fill:none;stroke-width:0.5;stroke-linecap:butt;stroke-linejoin:miter;stroke:rgb(74.509804%,74.509804%,74.509804%);stroke-opacity:1;stroke-miterlimit:10;\" d=\"M 330.027344 286.5 L 253.675781 221.515625 \"/>\n",
       "<path style=\"fill:none;stroke-width:2;stroke-linecap:butt;stroke-linejoin:miter;stroke:rgb(100%,0%,0%);stroke-opacity:1;stroke-miterlimit:10;\" d=\"M 330.027344 286.5 L 331.804688 123.644531 \"/>\n",
       "<path style=\"fill:none;stroke-width:0.5;stroke-linecap:butt;stroke-linejoin:miter;stroke:rgb(74.509804%,74.509804%,74.509804%);stroke-opacity:1;stroke-miterlimit:10;\" d=\"M 330.027344 286.5 L 207.027344 283.3125 \"/>\n",
       "<path style=\"fill:none;stroke-width:0.5;stroke-linecap:butt;stroke-linejoin:miter;stroke:rgb(74.509804%,74.509804%,74.509804%);stroke-opacity:1;stroke-miterlimit:10;\" d=\"M 330.027344 286.5 L 375.109375 229.792969 \"/>\n",
       "<path style=\"fill:none;stroke-width:0.5;stroke-linecap:butt;stroke-linejoin:miter;stroke:rgb(74.509804%,74.509804%,74.509804%);stroke-opacity:1;stroke-miterlimit:10;\" d=\"M 330.027344 286.5 L 390.644531 302.003906 \"/>\n",
       "<path style=\"fill:none;stroke-width:0.5;stroke-linecap:butt;stroke-linejoin:miter;stroke:rgb(74.509804%,74.509804%,74.509804%);stroke-opacity:1;stroke-miterlimit:10;\" d=\"M 426.921875 392.140625 L 469.792969 367.972656 \"/>\n",
       "<path style=\"fill:none;stroke-width:0.5;stroke-linecap:butt;stroke-linejoin:miter;stroke:rgb(74.509804%,74.509804%,74.509804%);stroke-opacity:1;stroke-miterlimit:10;\" d=\"M 426.921875 392.140625 L 474.078125 486.546875 \"/>\n",
       "<path style=\"fill:none;stroke-width:0.5;stroke-linecap:butt;stroke-linejoin:miter;stroke:rgb(74.509804%,74.509804%,74.509804%);stroke-opacity:1;stroke-miterlimit:10;\" d=\"M 426.921875 392.140625 L 390.644531 302.003906 \"/>\n",
       "<path style=\"fill:none;stroke-width:0.5;stroke-linecap:butt;stroke-linejoin:miter;stroke:rgb(74.509804%,74.509804%,74.509804%);stroke-opacity:1;stroke-miterlimit:10;\" d=\"M 316.441406 501.992188 L 221.222656 506.441406 \"/>\n",
       "<path style=\"fill:none;stroke-width:0.5;stroke-linecap:butt;stroke-linejoin:miter;stroke:rgb(74.509804%,74.509804%,74.509804%);stroke-opacity:1;stroke-miterlimit:10;\" d=\"M 316.441406 501.992188 L 372.226562 539.21875 \"/>\n",
       "<path style=\"fill:none;stroke-width:0.5;stroke-linecap:butt;stroke-linejoin:miter;stroke:rgb(74.509804%,74.509804%,74.509804%);stroke-opacity:1;stroke-miterlimit:10;\" d=\"M 269.464844 544.046875 L 221.222656 506.441406 \"/>\n",
       "<path style=\"fill:none;stroke-width:0.5;stroke-linecap:butt;stroke-linejoin:miter;stroke:rgb(74.509804%,74.509804%,74.509804%);stroke-opacity:1;stroke-miterlimit:10;\" d=\"M 269.464844 544.046875 L 372.226562 539.21875 \"/>\n",
       "<path style=\"fill:none;stroke-width:2;stroke-linecap:butt;stroke-linejoin:miter;stroke:rgb(100%,0%,0%);stroke-opacity:1;stroke-miterlimit:10;\" d=\"M 269.464844 544.046875 L 148.777344 580 \"/>\n",
       "<path style=\"fill:none;stroke-width:0.5;stroke-linecap:butt;stroke-linejoin:miter;stroke:rgb(74.509804%,74.509804%,74.509804%);stroke-opacity:1;stroke-miterlimit:10;\" d=\"M 221.222656 506.441406 L 148.777344 580 \"/>\n",
       "<path style=\"fill:none;stroke-width:0.5;stroke-linecap:butt;stroke-linejoin:miter;stroke:rgb(74.509804%,74.509804%,74.509804%);stroke-opacity:1;stroke-miterlimit:10;\" d=\"M 375.109375 229.792969 L 458.546875 186.113281 \"/>\n",
       "<path style=\"fill:none;stroke-width:0.5;stroke-linecap:butt;stroke-linejoin:miter;stroke:rgb(74.509804%,74.509804%,74.509804%);stroke-opacity:1;stroke-miterlimit:10;\" d=\"M 375.109375 229.792969 L 331.804688 123.644531 \"/>\n",
       "<path style=\"fill:none;stroke-width:0.5;stroke-linecap:butt;stroke-linejoin:miter;stroke:rgb(74.509804%,74.509804%,74.509804%);stroke-opacity:1;stroke-miterlimit:10;\" d=\"M 375.109375 229.792969 L 306.585938 149.066406 \"/>\n",
       "<path style=\"fill:none;stroke-width:0.5;stroke-linecap:butt;stroke-linejoin:miter;stroke:rgb(74.509804%,74.509804%,74.509804%);stroke-opacity:1;stroke-miterlimit:10;\" d=\"M 207.027344 283.3125 L 306.585938 149.066406 \"/>\n",
       "<path style=\"fill:none;stroke-width:0.5;stroke-linecap:butt;stroke-linejoin:miter;stroke:rgb(74.509804%,74.509804%,74.509804%);stroke-opacity:1;stroke-miterlimit:10;\" d=\"M 390.644531 302.003906 L 306.585938 149.066406 \"/>\n",
       "<path style=\"fill:none;stroke-width:0.5;stroke-linecap:butt;stroke-linejoin:miter;stroke:rgb(74.509804%,74.509804%,74.509804%);stroke-opacity:1;stroke-miterlimit:10;\" d=\"M 396.078125 32.746094 L 331.804688 123.644531 \"/>\n",
       "<path style=\"fill:none;stroke-width:0.5;stroke-linecap:butt;stroke-linejoin:miter;stroke:rgb(74.509804%,74.509804%,74.509804%);stroke-opacity:1;stroke-miterlimit:10;\" d=\"M 396.078125 32.746094 L 306.585938 149.066406 \"/>\n",
       "<path style=\"fill:none;stroke-width:2;stroke-linecap:butt;stroke-linejoin:miter;stroke:rgb(100%,0%,0%);stroke-opacity:1;stroke-miterlimit:10;\" d=\"M 272.191406 28.792969 L 331.804688 123.644531 \"/>\n",
       "<path style=\"fill:none;stroke-width:0.5;stroke-linecap:butt;stroke-linejoin:miter;stroke:rgb(74.509804%,74.509804%,74.509804%);stroke-opacity:1;stroke-miterlimit:10;\" d=\"M 272.191406 28.792969 L 306.585938 149.066406 \"/>\n",
       "<path style=\"fill:none;stroke-width:0.5;stroke-linecap:butt;stroke-linejoin:miter;stroke:rgb(74.509804%,74.509804%,74.509804%);stroke-opacity:1;stroke-miterlimit:10;\" d=\"M 335.699219 20 L 331.804688 123.644531 \"/>\n",
       "<path style=\"fill:none;stroke-width:0.5;stroke-linecap:butt;stroke-linejoin:miter;stroke:rgb(74.509804%,74.509804%,74.509804%);stroke-opacity:1;stroke-miterlimit:10;\" d=\"M 335.699219 20 L 306.585938 149.066406 \"/>\n",
       "<path style=\"fill:none;stroke-width:0.5;stroke-linecap:butt;stroke-linejoin:miter;stroke:rgb(74.509804%,74.509804%,74.509804%);stroke-opacity:1;stroke-miterlimit:10;\" d=\"M 456.183594 260.699219 L 306.585938 149.066406 \"/>\n",
       "<path style=\"fill:none;stroke-width:0.5;stroke-linecap:butt;stroke-linejoin:miter;stroke:rgb(74.509804%,74.509804%,74.509804%);stroke-opacity:1;stroke-miterlimit:10;\" d=\"M 445.511719 60.796875 L 331.804688 123.644531 \"/>\n",
       "<path style=\"fill:none;stroke-width:0.5;stroke-linecap:butt;stroke-linejoin:miter;stroke:rgb(74.509804%,74.509804%,74.509804%);stroke-opacity:1;stroke-miterlimit:10;\" d=\"M 445.511719 60.796875 L 306.585938 149.066406 \"/>\n",
       "<path style=\"fill:none;stroke-width:0.5;stroke-linecap:butt;stroke-linejoin:miter;stroke:rgb(74.509804%,74.509804%,74.509804%);stroke-opacity:1;stroke-miterlimit:10;\" d=\"M 474.058594 103.523438 L 331.804688 123.644531 \"/>\n",
       "<path style=\"fill:none;stroke-width:0.5;stroke-linecap:butt;stroke-linejoin:miter;stroke:rgb(74.509804%,74.509804%,74.509804%);stroke-opacity:1;stroke-miterlimit:10;\" d=\"M 474.058594 103.523438 L 306.585938 149.066406 \"/>\n",
       "<path style=\"fill:none;stroke-width:0.5;stroke-linecap:butt;stroke-linejoin:miter;stroke:rgb(74.509804%,74.509804%,74.509804%);stroke-opacity:1;stroke-miterlimit:10;\" d=\"M 154.214844 126.300781 L 26.417969 180.246094 \"/>\n",
       "<path style=\"fill:none;stroke-width:0.5;stroke-linecap:butt;stroke-linejoin:miter;stroke:rgb(74.509804%,74.509804%,74.509804%);stroke-opacity:1;stroke-miterlimit:10;\" d=\"M 154.214844 126.300781 L 147.542969 204.097656 \"/>\n",
       "<path style=\"fill:none;stroke-width:0.5;stroke-linecap:butt;stroke-linejoin:miter;stroke:rgb(74.509804%,74.509804%,74.509804%);stroke-opacity:1;stroke-miterlimit:10;\" d=\"M 154.214844 126.300781 L 331.804688 123.644531 \"/>\n",
       "<path style=\"fill:none;stroke-width:0.5;stroke-linecap:butt;stroke-linejoin:miter;stroke:rgb(74.509804%,74.509804%,74.509804%);stroke-opacity:1;stroke-miterlimit:10;\" d=\"M 154.214844 126.300781 L 306.585938 149.066406 \"/>\n",
       "<path style=\"fill:none;stroke-width:0.5;stroke-linecap:butt;stroke-linejoin:miter;stroke:rgb(74.509804%,74.509804%,74.509804%);stroke-opacity:1;stroke-miterlimit:10;\" d=\"M 154.214844 126.300781 L 207.613281 72.308594 \"/>\n",
       "<path style=\"fill:none;stroke-width:0.5;stroke-linecap:butt;stroke-linejoin:miter;stroke:rgb(74.509804%,74.509804%,74.509804%);stroke-opacity:1;stroke-miterlimit:10;\" d=\"M 20 244.914062 L 26.417969 180.246094 \"/>\n",
       "<path style=\"fill:none;stroke-width:0.5;stroke-linecap:butt;stroke-linejoin:miter;stroke:rgb(74.509804%,74.509804%,74.509804%);stroke-opacity:1;stroke-miterlimit:10;\" d=\"M 20 244.914062 L 147.542969 204.097656 \"/>\n",
       "<path style=\"fill:none;stroke-width:0.5;stroke-linecap:butt;stroke-linejoin:miter;stroke:rgb(74.509804%,74.509804%,74.509804%);stroke-opacity:1;stroke-miterlimit:10;\" d=\"M 20 244.914062 L 190.726562 238.234375 \"/>\n",
       "<path style=\"fill:none;stroke-width:0.5;stroke-linecap:butt;stroke-linejoin:miter;stroke:rgb(74.509804%,74.509804%,74.509804%);stroke-opacity:1;stroke-miterlimit:10;\" d=\"M 26.417969 180.246094 L 190.726562 238.234375 \"/>\n",
       "<path style=\"fill:none;stroke-width:0.5;stroke-linecap:butt;stroke-linejoin:miter;stroke:rgb(74.509804%,74.509804%,74.509804%);stroke-opacity:1;stroke-miterlimit:10;\" d=\"M 155.378906 30.777344 L 207.613281 72.308594 \"/>\n",
       "<path style=\"fill:none;stroke-width:0.5;stroke-linecap:butt;stroke-linejoin:miter;stroke:rgb(74.509804%,74.509804%,74.509804%);stroke-opacity:1;stroke-miterlimit:10;\" d=\"M 155.378906 30.777344 L 306.585938 149.066406 \"/>\n",
       "<path style=\"fill:none;stroke-width:0.5;stroke-linecap:butt;stroke-linejoin:miter;stroke:rgb(74.509804%,74.509804%,74.509804%);stroke-opacity:1;stroke-miterlimit:10;\" d=\"M 147.542969 204.097656 L 306.585938 149.066406 \"/>\n",
       "<path style=\"fill:none;stroke-width:0.5;stroke-linecap:butt;stroke-linejoin:miter;stroke:rgb(74.509804%,74.509804%,74.509804%);stroke-opacity:1;stroke-miterlimit:10;\" d=\"M 253.675781 221.515625 L 190.726562 238.234375 \"/>\n",
       "<path style=\"fill:none;stroke-width:0.5;stroke-linecap:butt;stroke-linejoin:miter;stroke:rgb(74.509804%,74.509804%,74.509804%);stroke-opacity:1;stroke-miterlimit:10;\" d=\"M 253.675781 221.515625 L 306.585938 149.066406 \"/>\n",
       "<path style=\"fill:none;stroke-width:0.5;stroke-linecap:butt;stroke-linejoin:miter;stroke:rgb(74.509804%,74.509804%,74.509804%);stroke-opacity:1;stroke-miterlimit:10;\" d=\"M 207.613281 72.308594 L 331.804688 123.644531 \"/>\n",
       "<path style=\"fill:none;stroke-width:0.5;stroke-linecap:butt;stroke-linejoin:miter;stroke:rgb(74.509804%,74.509804%,74.509804%);stroke-opacity:1;stroke-miterlimit:10;\" d=\"M 207.613281 72.308594 L 306.585938 149.066406 \"/>\n",
       "<path style=\"fill:none;stroke-width:0.5;stroke-linecap:butt;stroke-linejoin:miter;stroke:rgb(74.509804%,74.509804%,74.509804%);stroke-opacity:1;stroke-miterlimit:10;\" d=\"M 458.546875 186.113281 L 331.804688 123.644531 \"/>\n",
       "<path style=\"fill:none;stroke-width:0.5;stroke-linecap:butt;stroke-linejoin:miter;stroke:rgb(74.509804%,74.509804%,74.509804%);stroke-opacity:1;stroke-miterlimit:10;\" d=\"M 458.546875 186.113281 L 306.585938 149.066406 \"/>\n",
       "<path style=\"fill:none;stroke-width:0.5;stroke-linecap:butt;stroke-linejoin:miter;stroke:rgb(74.509804%,74.509804%,74.509804%);stroke-opacity:1;stroke-miterlimit:10;\" d=\"M 190.726562 238.234375 L 331.804688 123.644531 \"/>\n",
       "<path style=\"fill:none;stroke-width:0.5;stroke-linecap:butt;stroke-linejoin:miter;stroke:rgb(74.509804%,74.509804%,74.509804%);stroke-opacity:1;stroke-miterlimit:10;\" d=\"M 190.726562 238.234375 L 306.585938 149.066406 \"/>\n",
       "<path style=\"fill:none;stroke-width:0.5;stroke-linecap:butt;stroke-linejoin:miter;stroke:rgb(74.509804%,74.509804%,74.509804%);stroke-opacity:1;stroke-miterlimit:10;\" d=\"M 331.804688 123.644531 L 306.585938 149.066406 \"/>\n",
       "<path style=\"fill-rule:nonzero;fill:rgb(100%,0%,0%);fill-opacity:1;stroke-width:1;stroke-linecap:butt;stroke-linejoin:miter;stroke:rgb(0%,0%,0%);stroke-opacity:1;stroke-miterlimit:10;\" d=\"M 372.378906 394.390625 C 372.378906 399.910156 367.898438 404.390625 362.378906 404.390625 C 356.855469 404.390625 352.378906 399.910156 352.378906 394.390625 C 352.378906 388.867188 356.855469 384.390625 362.378906 384.390625 C 367.898438 384.390625 372.378906 388.867188 372.378906 394.390625 \"/>\n",
       "<path style=\"fill-rule:nonzero;fill:rgb(74.509804%,74.509804%,74.509804%);fill-opacity:1;stroke-width:1;stroke-linecap:butt;stroke-linejoin:miter;stroke:rgb(0%,0%,0%);stroke-opacity:1;stroke-miterlimit:10;\" d=\"M 496.855469 323.328125 C 496.855469 328.851562 492.378906 333.328125 486.855469 333.328125 C 481.335938 333.328125 476.855469 328.851562 476.855469 323.328125 C 476.855469 317.804688 481.335938 313.328125 486.855469 313.328125 C 492.378906 313.328125 496.855469 317.804688 496.855469 323.328125 \"/>\n",
       "<path style=\"fill-rule:nonzero;fill:rgb(100%,0%,0%);fill-opacity:1;stroke-width:1;stroke-linecap:butt;stroke-linejoin:miter;stroke:rgb(0%,0%,0%);stroke-opacity:1;stroke-miterlimit:10;\" d=\"M 340.027344 286.5 C 340.027344 292.023438 335.550781 296.5 330.027344 296.5 C 324.503906 296.5 320.027344 292.023438 320.027344 286.5 C 320.027344 280.976562 324.503906 276.5 330.027344 276.5 C 335.550781 276.5 340.027344 280.976562 340.027344 286.5 \"/>\n",
       "<path style=\"fill-rule:nonzero;fill:rgb(74.509804%,74.509804%,74.509804%);fill-opacity:1;stroke-width:1;stroke-linecap:butt;stroke-linejoin:miter;stroke:rgb(0%,0%,0%);stroke-opacity:1;stroke-miterlimit:10;\" d=\"M 436.921875 392.140625 C 436.921875 397.664062 432.445312 402.140625 426.921875 402.140625 C 421.398438 402.140625 416.921875 397.664062 416.921875 392.140625 C 416.921875 386.617188 421.398438 382.140625 426.921875 382.140625 C 432.445312 382.140625 436.921875 386.617188 436.921875 392.140625 \"/>\n",
       "<path style=\"fill-rule:nonzero;fill:rgb(74.509804%,74.509804%,74.509804%);fill-opacity:1;stroke-width:1;stroke-linecap:butt;stroke-linejoin:miter;stroke:rgb(0%,0%,0%);stroke-opacity:1;stroke-miterlimit:10;\" d=\"M 326.441406 501.992188 C 326.441406 507.515625 321.964844 511.992188 316.441406 511.992188 C 310.917969 511.992188 306.441406 507.515625 306.441406 501.992188 C 306.441406 496.46875 310.917969 491.992188 316.441406 491.992188 C 321.964844 491.992188 326.441406 496.46875 326.441406 501.992188 \"/>\n",
       "<path style=\"fill-rule:nonzero;fill:rgb(100%,0%,0%);fill-opacity:1;stroke-width:1;stroke-linecap:butt;stroke-linejoin:miter;stroke:rgb(0%,0%,0%);stroke-opacity:1;stroke-miterlimit:10;\" d=\"M 279.464844 544.046875 C 279.464844 549.570312 274.988281 554.046875 269.464844 554.046875 C 263.941406 554.046875 259.464844 549.570312 259.464844 544.046875 C 259.464844 538.523438 263.941406 534.046875 269.464844 534.046875 C 274.988281 534.046875 279.464844 538.523438 279.464844 544.046875 \"/>\n",
       "<path style=\"fill-rule:nonzero;fill:rgb(74.509804%,74.509804%,74.509804%);fill-opacity:1;stroke-width:1;stroke-linecap:butt;stroke-linejoin:miter;stroke:rgb(0%,0%,0%);stroke-opacity:1;stroke-miterlimit:10;\" d=\"M 231.222656 506.441406 C 231.222656 511.964844 226.746094 516.441406 221.222656 516.441406 C 215.699219 516.441406 211.222656 511.964844 211.222656 506.441406 C 211.222656 500.917969 215.699219 496.441406 221.222656 496.441406 C 226.746094 496.441406 231.222656 500.917969 231.222656 506.441406 \"/>\n",
       "<path style=\"fill-rule:nonzero;fill:rgb(74.509804%,74.509804%,74.509804%);fill-opacity:1;stroke-width:1;stroke-linecap:butt;stroke-linejoin:miter;stroke:rgb(0%,0%,0%);stroke-opacity:1;stroke-miterlimit:10;\" d=\"M 479.792969 367.972656 C 479.792969 373.496094 475.316406 377.972656 469.792969 377.972656 C 464.269531 377.972656 459.792969 373.496094 459.792969 367.972656 C 459.792969 362.453125 464.269531 357.972656 469.792969 357.972656 C 475.316406 357.972656 479.792969 362.453125 479.792969 367.972656 \"/>\n",
       "<path style=\"fill-rule:nonzero;fill:rgb(74.509804%,74.509804%,74.509804%);fill-opacity:1;stroke-width:1;stroke-linecap:butt;stroke-linejoin:miter;stroke:rgb(0%,0%,0%);stroke-opacity:1;stroke-miterlimit:10;\" d=\"M 385.109375 229.792969 C 385.109375 235.3125 380.628906 239.792969 375.109375 239.792969 C 369.585938 239.792969 365.109375 235.3125 365.109375 229.792969 C 365.109375 224.269531 369.585938 219.792969 375.109375 219.792969 C 380.628906 219.792969 385.109375 224.269531 385.109375 229.792969 \"/>\n",
       "<path style=\"fill-rule:nonzero;fill:rgb(74.509804%,74.509804%,74.509804%);fill-opacity:1;stroke-width:1;stroke-linecap:butt;stroke-linejoin:miter;stroke:rgb(0%,0%,0%);stroke-opacity:1;stroke-miterlimit:10;\" d=\"M 217.027344 283.3125 C 217.027344 288.835938 212.546875 293.3125 207.027344 293.3125 C 201.503906 293.3125 197.027344 288.835938 197.027344 283.3125 C 197.027344 277.789062 201.503906 273.3125 207.027344 273.3125 C 212.546875 273.3125 217.027344 277.789062 217.027344 283.3125 \"/>\n",
       "<path style=\"fill-rule:nonzero;fill:rgb(74.509804%,74.509804%,74.509804%);fill-opacity:1;stroke-width:1;stroke-linecap:butt;stroke-linejoin:miter;stroke:rgb(0%,0%,0%);stroke-opacity:1;stroke-miterlimit:10;\" d=\"M 382.226562 539.21875 C 382.226562 544.742188 377.746094 549.21875 372.226562 549.21875 C 366.703125 549.21875 362.226562 544.742188 362.226562 539.21875 C 362.226562 533.695312 366.703125 529.21875 372.226562 529.21875 C 377.746094 529.21875 382.226562 533.695312 382.226562 539.21875 \"/>\n",
       "<path style=\"fill-rule:nonzero;fill:rgb(74.509804%,74.509804%,74.509804%);fill-opacity:1;stroke-width:1;stroke-linecap:butt;stroke-linejoin:miter;stroke:rgb(0%,0%,0%);stroke-opacity:1;stroke-miterlimit:10;\" d=\"M 181.09375 436.546875 C 181.09375 442.070312 176.617188 446.546875 171.09375 446.546875 C 165.570312 446.546875 161.09375 442.070312 161.09375 436.546875 C 161.09375 431.023438 165.570312 426.546875 171.09375 426.546875 C 176.617188 426.546875 181.09375 431.023438 181.09375 436.546875 \"/>\n",
       "<path style=\"fill-rule:nonzero;fill:rgb(74.509804%,74.509804%,74.509804%);fill-opacity:1;stroke-width:1;stroke-linecap:butt;stroke-linejoin:miter;stroke:rgb(0%,0%,0%);stroke-opacity:1;stroke-miterlimit:10;\" d=\"M 484.078125 486.546875 C 484.078125 492.070312 479.601562 496.546875 474.078125 496.546875 C 468.554688 496.546875 464.078125 492.070312 464.078125 486.546875 C 464.078125 481.023438 468.554688 476.546875 474.078125 476.546875 C 479.601562 476.546875 484.078125 481.023438 484.078125 486.546875 \"/>\n",
       "<path style=\"fill-rule:nonzero;fill:rgb(74.509804%,74.509804%,74.509804%);fill-opacity:1;stroke-width:1;stroke-linecap:butt;stroke-linejoin:miter;stroke:rgb(0%,0%,0%);stroke-opacity:1;stroke-miterlimit:10;\" d=\"M 400.644531 302.003906 C 400.644531 307.527344 396.167969 312.003906 390.644531 312.003906 C 385.121094 312.003906 380.644531 307.527344 380.644531 302.003906 C 380.644531 296.480469 385.121094 292.003906 390.644531 292.003906 C 396.167969 292.003906 400.644531 296.480469 400.644531 302.003906 \"/>\n",
       "<path style=\"fill-rule:nonzero;fill:rgb(74.509804%,74.509804%,74.509804%);fill-opacity:1;stroke-width:1;stroke-linecap:butt;stroke-linejoin:miter;stroke:rgb(0%,0%,0%);stroke-opacity:1;stroke-miterlimit:10;\" d=\"M 406.078125 32.746094 C 406.078125 38.269531 401.601562 42.746094 396.078125 42.746094 C 390.554688 42.746094 386.078125 38.269531 386.078125 32.746094 C 386.078125 27.222656 390.554688 22.746094 396.078125 22.746094 C 401.601562 22.746094 406.078125 27.222656 406.078125 32.746094 \"/>\n",
       "<path style=\"fill-rule:nonzero;fill:rgb(100%,0%,0%);fill-opacity:1;stroke-width:1;stroke-linecap:butt;stroke-linejoin:miter;stroke:rgb(0%,0%,0%);stroke-opacity:1;stroke-miterlimit:10;\" d=\"M 282.191406 28.792969 C 282.191406 34.316406 277.714844 38.792969 272.191406 38.792969 C 266.671875 38.792969 262.191406 34.316406 262.191406 28.792969 C 262.191406 23.269531 266.671875 18.792969 272.191406 18.792969 C 277.714844 18.792969 282.191406 23.269531 282.191406 28.792969 \"/>\n",
       "<path style=\"fill-rule:nonzero;fill:rgb(100%,0%,0%);fill-opacity:1;stroke-width:1;stroke-linecap:butt;stroke-linejoin:miter;stroke:rgb(0%,0%,0%);stroke-opacity:1;stroke-miterlimit:10;\" d=\"M 158.777344 580 C 158.777344 585.523438 154.300781 590 148.777344 590 C 143.257812 590 138.777344 585.523438 138.777344 580 C 138.777344 574.476562 143.257812 570 148.777344 570 C 154.300781 570 158.777344 574.476562 158.777344 580 \"/>\n",
       "<path style=\"fill-rule:nonzero;fill:rgb(74.509804%,74.509804%,74.509804%);fill-opacity:1;stroke-width:1;stroke-linecap:butt;stroke-linejoin:miter;stroke:rgb(0%,0%,0%);stroke-opacity:1;stroke-miterlimit:10;\" d=\"M 555.621094 429.398438 C 555.621094 434.921875 551.144531 439.398438 545.621094 439.398438 C 540.097656 439.398438 535.621094 434.921875 535.621094 429.398438 C 535.621094 423.875 540.097656 419.398438 545.621094 419.398438 C 551.144531 419.398438 555.621094 423.875 555.621094 429.398438 \"/>\n",
       "<path style=\"fill-rule:nonzero;fill:rgb(74.509804%,74.509804%,74.509804%);fill-opacity:1;stroke-width:1;stroke-linecap:butt;stroke-linejoin:miter;stroke:rgb(0%,0%,0%);stroke-opacity:1;stroke-miterlimit:10;\" d=\"M 345.699219 20 C 345.699219 25.523438 341.222656 30 335.699219 30 C 330.175781 30 325.699219 25.523438 325.699219 20 C 325.699219 14.476562 330.175781 10 335.699219 10 C 341.222656 10 345.699219 14.476562 345.699219 20 \"/>\n",
       "<path style=\"fill-rule:nonzero;fill:rgb(74.509804%,74.509804%,74.509804%);fill-opacity:1;stroke-width:1;stroke-linecap:butt;stroke-linejoin:miter;stroke:rgb(0%,0%,0%);stroke-opacity:1;stroke-miterlimit:10;\" d=\"M 466.183594 260.699219 C 466.183594 266.222656 461.707031 270.699219 456.183594 270.699219 C 450.660156 270.699219 446.183594 266.222656 446.183594 260.699219 C 446.183594 255.179688 450.660156 250.699219 456.183594 250.699219 C 461.707031 250.699219 466.183594 255.179688 466.183594 260.699219 \"/>\n",
       "<path style=\"fill-rule:nonzero;fill:rgb(74.509804%,74.509804%,74.509804%);fill-opacity:1;stroke-width:1;stroke-linecap:butt;stroke-linejoin:miter;stroke:rgb(0%,0%,0%);stroke-opacity:1;stroke-miterlimit:10;\" d=\"M 455.511719 60.796875 C 455.511719 66.320312 451.03125 70.796875 445.511719 70.796875 C 439.988281 70.796875 435.511719 66.320312 435.511719 60.796875 C 435.511719 55.273438 439.988281 50.796875 445.511719 50.796875 C 451.03125 50.796875 455.511719 55.273438 455.511719 60.796875 \"/>\n",
       "<path style=\"fill-rule:nonzero;fill:rgb(74.509804%,74.509804%,74.509804%);fill-opacity:1;stroke-width:1;stroke-linecap:butt;stroke-linejoin:miter;stroke:rgb(0%,0%,0%);stroke-opacity:1;stroke-miterlimit:10;\" d=\"M 590 376.621094 C 590 382.140625 585.523438 386.621094 580 386.621094 C 574.476562 386.621094 570 382.140625 570 376.621094 C 570 371.097656 574.476562 366.621094 580 366.621094 C 585.523438 366.621094 590 371.097656 590 376.621094 \"/>\n",
       "<path style=\"fill-rule:nonzero;fill:rgb(74.509804%,74.509804%,74.509804%);fill-opacity:1;stroke-width:1;stroke-linecap:butt;stroke-linejoin:miter;stroke:rgb(0%,0%,0%);stroke-opacity:1;stroke-miterlimit:10;\" d=\"M 484.058594 103.523438 C 484.058594 109.046875 479.582031 113.523438 474.058594 113.523438 C 468.539062 113.523438 464.058594 109.046875 464.058594 103.523438 C 464.058594 98 468.539062 93.523438 474.058594 93.523438 C 479.582031 93.523438 484.058594 98 484.058594 103.523438 \"/>\n",
       "<path style=\"fill-rule:nonzero;fill:rgb(74.509804%,74.509804%,74.509804%);fill-opacity:1;stroke-width:1;stroke-linecap:butt;stroke-linejoin:miter;stroke:rgb(0%,0%,0%);stroke-opacity:1;stroke-miterlimit:10;\" d=\"M 164.214844 126.300781 C 164.214844 131.824219 159.738281 136.300781 154.214844 136.300781 C 148.691406 136.300781 144.214844 131.824219 144.214844 126.300781 C 144.214844 120.777344 148.691406 116.300781 154.214844 116.300781 C 159.738281 116.300781 164.214844 120.777344 164.214844 126.300781 \"/>\n",
       "<path style=\"fill-rule:nonzero;fill:rgb(74.509804%,74.509804%,74.509804%);fill-opacity:1;stroke-width:1;stroke-linecap:butt;stroke-linejoin:miter;stroke:rgb(0%,0%,0%);stroke-opacity:1;stroke-miterlimit:10;\" d=\"M 30 244.914062 C 30 250.433594 25.523438 254.914062 20 254.914062 C 14.476562 254.914062 10 250.433594 10 244.914062 C 10 239.390625 14.476562 234.914062 20 234.914062 C 25.523438 234.914062 30 239.390625 30 244.914062 \"/>\n",
       "<path style=\"fill-rule:nonzero;fill:rgb(74.509804%,74.509804%,74.509804%);fill-opacity:1;stroke-width:1;stroke-linecap:butt;stroke-linejoin:miter;stroke:rgb(0%,0%,0%);stroke-opacity:1;stroke-miterlimit:10;\" d=\"M 36.417969 180.246094 C 36.417969 185.769531 31.941406 190.246094 26.417969 190.246094 C 20.894531 190.246094 16.417969 185.769531 16.417969 180.246094 C 16.417969 174.726562 20.894531 170.246094 26.417969 170.246094 C 31.941406 170.246094 36.417969 174.726562 36.417969 180.246094 \"/>\n",
       "<path style=\"fill-rule:nonzero;fill:rgb(74.509804%,74.509804%,74.509804%);fill-opacity:1;stroke-width:1;stroke-linecap:butt;stroke-linejoin:miter;stroke:rgb(0%,0%,0%);stroke-opacity:1;stroke-miterlimit:10;\" d=\"M 165.378906 30.777344 C 165.378906 36.300781 160.902344 40.777344 155.378906 40.777344 C 149.855469 40.777344 145.378906 36.300781 145.378906 30.777344 C 145.378906 25.253906 149.855469 20.777344 155.378906 20.777344 C 160.902344 20.777344 165.378906 25.253906 165.378906 30.777344 \"/>\n",
       "<path style=\"fill-rule:nonzero;fill:rgb(74.509804%,74.509804%,74.509804%);fill-opacity:1;stroke-width:1;stroke-linecap:butt;stroke-linejoin:miter;stroke:rgb(0%,0%,0%);stroke-opacity:1;stroke-miterlimit:10;\" d=\"M 157.542969 204.097656 C 157.542969 209.617188 153.066406 214.097656 147.542969 214.097656 C 142.023438 214.097656 137.542969 209.617188 137.542969 204.097656 C 137.542969 198.574219 142.023438 194.097656 147.542969 194.097656 C 153.066406 194.097656 157.542969 198.574219 157.542969 204.097656 \"/>\n",
       "<path style=\"fill-rule:nonzero;fill:rgb(74.509804%,74.509804%,74.509804%);fill-opacity:1;stroke-width:1;stroke-linecap:butt;stroke-linejoin:miter;stroke:rgb(0%,0%,0%);stroke-opacity:1;stroke-miterlimit:10;\" d=\"M 263.675781 221.515625 C 263.675781 227.039062 259.199219 231.515625 253.675781 231.515625 C 248.152344 231.515625 243.675781 227.039062 243.675781 221.515625 C 243.675781 215.992188 248.152344 211.515625 253.675781 211.515625 C 259.199219 211.515625 263.675781 215.992188 263.675781 221.515625 \"/>\n",
       "<path style=\"fill-rule:nonzero;fill:rgb(74.509804%,74.509804%,74.509804%);fill-opacity:1;stroke-width:1;stroke-linecap:butt;stroke-linejoin:miter;stroke:rgb(0%,0%,0%);stroke-opacity:1;stroke-miterlimit:10;\" d=\"M 217.613281 72.308594 C 217.613281 77.832031 213.136719 82.308594 207.613281 82.308594 C 202.089844 82.308594 197.613281 77.832031 197.613281 72.308594 C 197.613281 66.785156 202.089844 62.308594 207.613281 62.308594 C 213.136719 62.308594 217.613281 66.785156 217.613281 72.308594 \"/>\n",
       "<path style=\"fill-rule:nonzero;fill:rgb(74.509804%,74.509804%,74.509804%);fill-opacity:1;stroke-width:1;stroke-linecap:butt;stroke-linejoin:miter;stroke:rgb(0%,0%,0%);stroke-opacity:1;stroke-miterlimit:10;\" d=\"M 468.546875 186.113281 C 468.546875 191.636719 464.070312 196.113281 458.546875 196.113281 C 453.023438 196.113281 448.546875 191.636719 448.546875 186.113281 C 448.546875 180.59375 453.023438 176.113281 458.546875 176.113281 C 464.070312 176.113281 468.546875 180.59375 468.546875 186.113281 \"/>\n",
       "<path style=\"fill-rule:nonzero;fill:rgb(74.509804%,74.509804%,74.509804%);fill-opacity:1;stroke-width:1;stroke-linecap:butt;stroke-linejoin:miter;stroke:rgb(0%,0%,0%);stroke-opacity:1;stroke-miterlimit:10;\" d=\"M 200.726562 238.234375 C 200.726562 243.757812 196.25 248.234375 190.726562 248.234375 C 185.203125 248.234375 180.726562 243.757812 180.726562 238.234375 C 180.726562 232.710938 185.203125 228.234375 190.726562 228.234375 C 196.25 228.234375 200.726562 232.710938 200.726562 238.234375 \"/>\n",
       "<path style=\"fill-rule:nonzero;fill:rgb(100%,0%,0%);fill-opacity:1;stroke-width:1;stroke-linecap:butt;stroke-linejoin:miter;stroke:rgb(0%,0%,0%);stroke-opacity:1;stroke-miterlimit:10;\" d=\"M 341.804688 123.644531 C 341.804688 129.167969 337.328125 133.644531 331.804688 133.644531 C 326.28125 133.644531 321.804688 129.167969 321.804688 123.644531 C 321.804688 118.121094 326.28125 113.644531 331.804688 113.644531 C 337.328125 113.644531 341.804688 118.121094 341.804688 123.644531 \"/>\n",
       "<path style=\"fill-rule:nonzero;fill:rgb(74.509804%,74.509804%,74.509804%);fill-opacity:1;stroke-width:1;stroke-linecap:butt;stroke-linejoin:miter;stroke:rgb(0%,0%,0%);stroke-opacity:1;stroke-miterlimit:10;\" d=\"M 316.585938 149.066406 C 316.585938 154.589844 312.109375 159.066406 306.585938 159.066406 C 301.0625 159.066406 296.585938 154.589844 296.585938 149.066406 C 296.585938 143.542969 301.0625 139.066406 306.585938 139.066406 C 312.109375 139.066406 316.585938 143.542969 316.585938 149.066406 \"/>\n",
       "</g>\n",
       "</svg>\n"
      ],
      "text/plain": [
       "<igraph.drawing.Plot at 0x1a26efe588>"
      ]
     },
     "execution_count": 24,
     "metadata": {},
     "output_type": "execute_result"
    }
   ],
   "source": [
    "G.delete_edges(G.es.select(_between=[(4, 5, 6, 10), (0,)]))\n",
    "ig.plot(G)"
   ]
  },
  {
   "cell_type": "markdown",
   "metadata": {},
   "source": [
    "The path we constructed earlier is now no longer connected. In this case, there is no longer any path between the two nodes at all. The distance between the two nodes in hence infinitely large."
   ]
  },
  {
   "cell_type": "code",
   "execution_count": 25,
   "metadata": {
    "ExecuteTime": {
     "end_time": "2019-07-05T14:24:16.307680Z",
     "start_time": "2019-07-05T14:24:16.301858Z"
    }
   },
   "outputs": [
    {
     "data": {
      "text/plain": [
       "[[inf]]"
      ]
     },
     "execution_count": 25,
     "metadata": {},
     "output_type": "execute_result"
    }
   ],
   "source": [
    "G.shortest_paths(source=16, target=15)"
   ]
  },
  {
   "cell_type": "markdown",
   "metadata": {},
   "source": [
    "There is now no longer a path between any two nodes, and the graph is then no longer said to be *connected*."
   ]
  },
  {
   "cell_type": "code",
   "execution_count": 26,
   "metadata": {
    "ExecuteTime": {
     "end_time": "2019-07-05T14:24:37.165249Z",
     "start_time": "2019-07-05T14:24:37.160050Z"
    }
   },
   "outputs": [
    {
     "data": {
      "text/plain": [
       "False"
      ]
     },
     "execution_count": 26,
     "metadata": {},
     "output_type": "execute_result"
    }
   ],
   "source": [
    "G.is_connected()"
   ]
  },
  {
   "cell_type": "markdown",
   "metadata": {},
   "source": [
    "The network is now said to be *disconnected* and the different parts of the network that still are connected are called *connected components*."
   ]
  },
  {
   "cell_type": "code",
   "execution_count": 28,
   "metadata": {
    "ExecuteTime": {
     "end_time": "2019-07-05T14:24:57.041462Z",
     "start_time": "2019-07-05T14:24:57.030894Z"
    }
   },
   "outputs": [
    {
     "data": {
      "image/svg+xml": [
       "<?xml version=\"1.0\" encoding=\"UTF-8\"?>\n",
       "<svg xmlns=\"http://www.w3.org/2000/svg\" xmlns:xlink=\"http://www.w3.org/1999/xlink\" width=\"600pt\" height=\"600pt\" viewBox=\"0 0 600 600\" version=\"1.1\">\n",
       "<g id=\"surface50\">\n",
       "<rect x=\"0\" y=\"0\" width=\"600\" height=\"600\" style=\"fill:rgb(100%,100%,100%);fill-opacity:1;stroke:none;\"/>\n",
       "<path style=\"fill:none;stroke-width:0.5;stroke-linecap:butt;stroke-linejoin:miter;stroke:rgb(74.509804%,74.509804%,74.509804%);stroke-opacity:1;stroke-miterlimit:10;\" d=\"M 362.378906 394.390625 L 486.855469 323.328125 \"/>\n",
       "<path style=\"fill:none;stroke-width:2;stroke-linecap:butt;stroke-linejoin:miter;stroke:rgb(100%,0%,0%);stroke-opacity:1;stroke-miterlimit:10;\" d=\"M 362.378906 394.390625 L 330.027344 286.5 \"/>\n",
       "<path style=\"fill:none;stroke-width:0.5;stroke-linecap:butt;stroke-linejoin:miter;stroke:rgb(74.509804%,74.509804%,74.509804%);stroke-opacity:1;stroke-miterlimit:10;\" d=\"M 362.378906 394.390625 L 426.921875 392.140625 \"/>\n",
       "<path style=\"fill:none;stroke-width:0.5;stroke-linecap:butt;stroke-linejoin:miter;stroke:rgb(74.509804%,74.509804%,74.509804%);stroke-opacity:1;stroke-miterlimit:10;\" d=\"M 362.378906 394.390625 L 469.792969 367.972656 \"/>\n",
       "<path style=\"fill:none;stroke-width:0.5;stroke-linecap:butt;stroke-linejoin:miter;stroke:rgb(74.509804%,74.509804%,74.509804%);stroke-opacity:1;stroke-miterlimit:10;\" d=\"M 362.378906 394.390625 L 375.109375 229.792969 \"/>\n",
       "<path style=\"fill:none;stroke-width:0.5;stroke-linecap:butt;stroke-linejoin:miter;stroke:rgb(74.509804%,74.509804%,74.509804%);stroke-opacity:1;stroke-miterlimit:10;\" d=\"M 362.378906 394.390625 L 171.09375 436.546875 \"/>\n",
       "<path style=\"fill:none;stroke-width:0.5;stroke-linecap:butt;stroke-linejoin:miter;stroke:rgb(74.509804%,74.509804%,74.509804%);stroke-opacity:1;stroke-miterlimit:10;\" d=\"M 362.378906 394.390625 L 474.078125 486.546875 \"/>\n",
       "<path style=\"fill:none;stroke-width:0.5;stroke-linecap:butt;stroke-linejoin:miter;stroke:rgb(74.509804%,74.509804%,74.509804%);stroke-opacity:1;stroke-miterlimit:10;\" d=\"M 362.378906 394.390625 L 390.644531 302.003906 \"/>\n",
       "<path style=\"fill:none;stroke-width:0.5;stroke-linecap:butt;stroke-linejoin:miter;stroke:rgb(74.509804%,74.509804%,74.509804%);stroke-opacity:1;stroke-miterlimit:10;\" d=\"M 362.378906 394.390625 L 545.621094 429.398438 \"/>\n",
       "<path style=\"fill:none;stroke-width:0.5;stroke-linecap:butt;stroke-linejoin:miter;stroke:rgb(74.509804%,74.509804%,74.509804%);stroke-opacity:1;stroke-miterlimit:10;\" d=\"M 362.378906 394.390625 L 456.183594 260.699219 \"/>\n",
       "<path style=\"fill:none;stroke-width:0.5;stroke-linecap:butt;stroke-linejoin:miter;stroke:rgb(74.509804%,74.509804%,74.509804%);stroke-opacity:1;stroke-miterlimit:10;\" d=\"M 362.378906 394.390625 L 580 376.621094 \"/>\n",
       "<path style=\"fill:none;stroke-width:0.5;stroke-linecap:butt;stroke-linejoin:miter;stroke:rgb(74.509804%,74.509804%,74.509804%);stroke-opacity:1;stroke-miterlimit:10;\" d=\"M 362.378906 394.390625 L 190.726562 238.234375 \"/>\n",
       "<path style=\"fill:none;stroke-width:0.5;stroke-linecap:butt;stroke-linejoin:miter;stroke:rgb(74.509804%,74.509804%,74.509804%);stroke-opacity:1;stroke-miterlimit:10;\" d=\"M 486.855469 323.328125 L 330.027344 286.5 \"/>\n",
       "<path style=\"fill:none;stroke-width:0.5;stroke-linecap:butt;stroke-linejoin:miter;stroke:rgb(74.509804%,74.509804%,74.509804%);stroke-opacity:1;stroke-miterlimit:10;\" d=\"M 486.855469 323.328125 L 426.921875 392.140625 \"/>\n",
       "<path style=\"fill:none;stroke-width:0.5;stroke-linecap:butt;stroke-linejoin:miter;stroke:rgb(74.509804%,74.509804%,74.509804%);stroke-opacity:1;stroke-miterlimit:10;\" d=\"M 486.855469 323.328125 L 469.792969 367.972656 \"/>\n",
       "<path style=\"fill:none;stroke-width:0.5;stroke-linecap:butt;stroke-linejoin:miter;stroke:rgb(74.509804%,74.509804%,74.509804%);stroke-opacity:1;stroke-miterlimit:10;\" d=\"M 486.855469 323.328125 L 390.644531 302.003906 \"/>\n",
       "<path style=\"fill:none;stroke-width:0.5;stroke-linecap:butt;stroke-linejoin:miter;stroke:rgb(74.509804%,74.509804%,74.509804%);stroke-opacity:1;stroke-miterlimit:10;\" d=\"M 486.855469 323.328125 L 545.621094 429.398438 \"/>\n",
       "<path style=\"fill:none;stroke-width:0.5;stroke-linecap:butt;stroke-linejoin:miter;stroke:rgb(74.509804%,74.509804%,74.509804%);stroke-opacity:1;stroke-miterlimit:10;\" d=\"M 486.855469 323.328125 L 456.183594 260.699219 \"/>\n",
       "<path style=\"fill:none;stroke-width:0.5;stroke-linecap:butt;stroke-linejoin:miter;stroke:rgb(74.509804%,74.509804%,74.509804%);stroke-opacity:1;stroke-miterlimit:10;\" d=\"M 486.855469 323.328125 L 580 376.621094 \"/>\n",
       "<path style=\"fill:none;stroke-width:0.5;stroke-linecap:butt;stroke-linejoin:miter;stroke:rgb(74.509804%,74.509804%,74.509804%);stroke-opacity:1;stroke-miterlimit:10;\" d=\"M 486.855469 323.328125 L 458.546875 186.113281 \"/>\n",
       "<path style=\"fill:none;stroke-width:0.5;stroke-linecap:butt;stroke-linejoin:miter;stroke:rgb(74.509804%,74.509804%,74.509804%);stroke-opacity:1;stroke-miterlimit:10;\" d=\"M 330.027344 286.5 L 426.921875 392.140625 \"/>\n",
       "<path style=\"fill:none;stroke-width:0.5;stroke-linecap:butt;stroke-linejoin:miter;stroke:rgb(74.509804%,74.509804%,74.509804%);stroke-opacity:1;stroke-miterlimit:10;\" d=\"M 330.027344 286.5 L 469.792969 367.972656 \"/>\n",
       "<path style=\"fill:none;stroke-width:0.5;stroke-linecap:butt;stroke-linejoin:miter;stroke:rgb(74.509804%,74.509804%,74.509804%);stroke-opacity:1;stroke-miterlimit:10;\" d=\"M 330.027344 286.5 L 147.542969 204.097656 \"/>\n",
       "<path style=\"fill:none;stroke-width:0.5;stroke-linecap:butt;stroke-linejoin:miter;stroke:rgb(74.509804%,74.509804%,74.509804%);stroke-opacity:1;stroke-miterlimit:10;\" d=\"M 330.027344 286.5 L 253.675781 221.515625 \"/>\n",
       "<path style=\"fill:none;stroke-width:2;stroke-linecap:butt;stroke-linejoin:miter;stroke:rgb(100%,0%,0%);stroke-opacity:1;stroke-miterlimit:10;\" d=\"M 330.027344 286.5 L 331.804688 123.644531 \"/>\n",
       "<path style=\"fill:none;stroke-width:0.5;stroke-linecap:butt;stroke-linejoin:miter;stroke:rgb(74.509804%,74.509804%,74.509804%);stroke-opacity:1;stroke-miterlimit:10;\" d=\"M 330.027344 286.5 L 207.027344 283.3125 \"/>\n",
       "<path style=\"fill:none;stroke-width:0.5;stroke-linecap:butt;stroke-linejoin:miter;stroke:rgb(74.509804%,74.509804%,74.509804%);stroke-opacity:1;stroke-miterlimit:10;\" d=\"M 330.027344 286.5 L 375.109375 229.792969 \"/>\n",
       "<path style=\"fill:none;stroke-width:0.5;stroke-linecap:butt;stroke-linejoin:miter;stroke:rgb(74.509804%,74.509804%,74.509804%);stroke-opacity:1;stroke-miterlimit:10;\" d=\"M 330.027344 286.5 L 390.644531 302.003906 \"/>\n",
       "<path style=\"fill:none;stroke-width:0.5;stroke-linecap:butt;stroke-linejoin:miter;stroke:rgb(74.509804%,74.509804%,74.509804%);stroke-opacity:1;stroke-miterlimit:10;\" d=\"M 426.921875 392.140625 L 469.792969 367.972656 \"/>\n",
       "<path style=\"fill:none;stroke-width:0.5;stroke-linecap:butt;stroke-linejoin:miter;stroke:rgb(74.509804%,74.509804%,74.509804%);stroke-opacity:1;stroke-miterlimit:10;\" d=\"M 426.921875 392.140625 L 474.078125 486.546875 \"/>\n",
       "<path style=\"fill:none;stroke-width:0.5;stroke-linecap:butt;stroke-linejoin:miter;stroke:rgb(74.509804%,74.509804%,74.509804%);stroke-opacity:1;stroke-miterlimit:10;\" d=\"M 426.921875 392.140625 L 390.644531 302.003906 \"/>\n",
       "<path style=\"fill:none;stroke-width:0.5;stroke-linecap:butt;stroke-linejoin:miter;stroke:rgb(74.509804%,74.509804%,74.509804%);stroke-opacity:1;stroke-miterlimit:10;\" d=\"M 316.441406 501.992188 L 221.222656 506.441406 \"/>\n",
       "<path style=\"fill:none;stroke-width:0.5;stroke-linecap:butt;stroke-linejoin:miter;stroke:rgb(74.509804%,74.509804%,74.509804%);stroke-opacity:1;stroke-miterlimit:10;\" d=\"M 316.441406 501.992188 L 372.226562 539.21875 \"/>\n",
       "<path style=\"fill:none;stroke-width:0.5;stroke-linecap:butt;stroke-linejoin:miter;stroke:rgb(74.509804%,74.509804%,74.509804%);stroke-opacity:1;stroke-miterlimit:10;\" d=\"M 269.464844 544.046875 L 221.222656 506.441406 \"/>\n",
       "<path style=\"fill:none;stroke-width:0.5;stroke-linecap:butt;stroke-linejoin:miter;stroke:rgb(74.509804%,74.509804%,74.509804%);stroke-opacity:1;stroke-miterlimit:10;\" d=\"M 269.464844 544.046875 L 372.226562 539.21875 \"/>\n",
       "<path style=\"fill:none;stroke-width:2;stroke-linecap:butt;stroke-linejoin:miter;stroke:rgb(100%,0%,0%);stroke-opacity:1;stroke-miterlimit:10;\" d=\"M 269.464844 544.046875 L 148.777344 580 \"/>\n",
       "<path style=\"fill:none;stroke-width:0.5;stroke-linecap:butt;stroke-linejoin:miter;stroke:rgb(74.509804%,74.509804%,74.509804%);stroke-opacity:1;stroke-miterlimit:10;\" d=\"M 221.222656 506.441406 L 148.777344 580 \"/>\n",
       "<path style=\"fill:none;stroke-width:0.5;stroke-linecap:butt;stroke-linejoin:miter;stroke:rgb(74.509804%,74.509804%,74.509804%);stroke-opacity:1;stroke-miterlimit:10;\" d=\"M 375.109375 229.792969 L 458.546875 186.113281 \"/>\n",
       "<path style=\"fill:none;stroke-width:0.5;stroke-linecap:butt;stroke-linejoin:miter;stroke:rgb(74.509804%,74.509804%,74.509804%);stroke-opacity:1;stroke-miterlimit:10;\" d=\"M 375.109375 229.792969 L 331.804688 123.644531 \"/>\n",
       "<path style=\"fill:none;stroke-width:0.5;stroke-linecap:butt;stroke-linejoin:miter;stroke:rgb(74.509804%,74.509804%,74.509804%);stroke-opacity:1;stroke-miterlimit:10;\" d=\"M 375.109375 229.792969 L 306.585938 149.066406 \"/>\n",
       "<path style=\"fill:none;stroke-width:0.5;stroke-linecap:butt;stroke-linejoin:miter;stroke:rgb(74.509804%,74.509804%,74.509804%);stroke-opacity:1;stroke-miterlimit:10;\" d=\"M 207.027344 283.3125 L 306.585938 149.066406 \"/>\n",
       "<path style=\"fill:none;stroke-width:0.5;stroke-linecap:butt;stroke-linejoin:miter;stroke:rgb(74.509804%,74.509804%,74.509804%);stroke-opacity:1;stroke-miterlimit:10;\" d=\"M 390.644531 302.003906 L 306.585938 149.066406 \"/>\n",
       "<path style=\"fill:none;stroke-width:0.5;stroke-linecap:butt;stroke-linejoin:miter;stroke:rgb(74.509804%,74.509804%,74.509804%);stroke-opacity:1;stroke-miterlimit:10;\" d=\"M 396.078125 32.746094 L 331.804688 123.644531 \"/>\n",
       "<path style=\"fill:none;stroke-width:0.5;stroke-linecap:butt;stroke-linejoin:miter;stroke:rgb(74.509804%,74.509804%,74.509804%);stroke-opacity:1;stroke-miterlimit:10;\" d=\"M 396.078125 32.746094 L 306.585938 149.066406 \"/>\n",
       "<path style=\"fill:none;stroke-width:2;stroke-linecap:butt;stroke-linejoin:miter;stroke:rgb(100%,0%,0%);stroke-opacity:1;stroke-miterlimit:10;\" d=\"M 272.191406 28.792969 L 331.804688 123.644531 \"/>\n",
       "<path style=\"fill:none;stroke-width:0.5;stroke-linecap:butt;stroke-linejoin:miter;stroke:rgb(74.509804%,74.509804%,74.509804%);stroke-opacity:1;stroke-miterlimit:10;\" d=\"M 272.191406 28.792969 L 306.585938 149.066406 \"/>\n",
       "<path style=\"fill:none;stroke-width:0.5;stroke-linecap:butt;stroke-linejoin:miter;stroke:rgb(74.509804%,74.509804%,74.509804%);stroke-opacity:1;stroke-miterlimit:10;\" d=\"M 335.699219 20 L 331.804688 123.644531 \"/>\n",
       "<path style=\"fill:none;stroke-width:0.5;stroke-linecap:butt;stroke-linejoin:miter;stroke:rgb(74.509804%,74.509804%,74.509804%);stroke-opacity:1;stroke-miterlimit:10;\" d=\"M 335.699219 20 L 306.585938 149.066406 \"/>\n",
       "<path style=\"fill:none;stroke-width:0.5;stroke-linecap:butt;stroke-linejoin:miter;stroke:rgb(74.509804%,74.509804%,74.509804%);stroke-opacity:1;stroke-miterlimit:10;\" d=\"M 456.183594 260.699219 L 306.585938 149.066406 \"/>\n",
       "<path style=\"fill:none;stroke-width:0.5;stroke-linecap:butt;stroke-linejoin:miter;stroke:rgb(74.509804%,74.509804%,74.509804%);stroke-opacity:1;stroke-miterlimit:10;\" d=\"M 445.511719 60.796875 L 331.804688 123.644531 \"/>\n",
       "<path style=\"fill:none;stroke-width:0.5;stroke-linecap:butt;stroke-linejoin:miter;stroke:rgb(74.509804%,74.509804%,74.509804%);stroke-opacity:1;stroke-miterlimit:10;\" d=\"M 445.511719 60.796875 L 306.585938 149.066406 \"/>\n",
       "<path style=\"fill:none;stroke-width:0.5;stroke-linecap:butt;stroke-linejoin:miter;stroke:rgb(74.509804%,74.509804%,74.509804%);stroke-opacity:1;stroke-miterlimit:10;\" d=\"M 474.058594 103.523438 L 331.804688 123.644531 \"/>\n",
       "<path style=\"fill:none;stroke-width:0.5;stroke-linecap:butt;stroke-linejoin:miter;stroke:rgb(74.509804%,74.509804%,74.509804%);stroke-opacity:1;stroke-miterlimit:10;\" d=\"M 474.058594 103.523438 L 306.585938 149.066406 \"/>\n",
       "<path style=\"fill:none;stroke-width:0.5;stroke-linecap:butt;stroke-linejoin:miter;stroke:rgb(74.509804%,74.509804%,74.509804%);stroke-opacity:1;stroke-miterlimit:10;\" d=\"M 154.214844 126.300781 L 26.417969 180.246094 \"/>\n",
       "<path style=\"fill:none;stroke-width:0.5;stroke-linecap:butt;stroke-linejoin:miter;stroke:rgb(74.509804%,74.509804%,74.509804%);stroke-opacity:1;stroke-miterlimit:10;\" d=\"M 154.214844 126.300781 L 147.542969 204.097656 \"/>\n",
       "<path style=\"fill:none;stroke-width:0.5;stroke-linecap:butt;stroke-linejoin:miter;stroke:rgb(74.509804%,74.509804%,74.509804%);stroke-opacity:1;stroke-miterlimit:10;\" d=\"M 154.214844 126.300781 L 331.804688 123.644531 \"/>\n",
       "<path style=\"fill:none;stroke-width:0.5;stroke-linecap:butt;stroke-linejoin:miter;stroke:rgb(74.509804%,74.509804%,74.509804%);stroke-opacity:1;stroke-miterlimit:10;\" d=\"M 154.214844 126.300781 L 306.585938 149.066406 \"/>\n",
       "<path style=\"fill:none;stroke-width:0.5;stroke-linecap:butt;stroke-linejoin:miter;stroke:rgb(74.509804%,74.509804%,74.509804%);stroke-opacity:1;stroke-miterlimit:10;\" d=\"M 154.214844 126.300781 L 207.613281 72.308594 \"/>\n",
       "<path style=\"fill:none;stroke-width:0.5;stroke-linecap:butt;stroke-linejoin:miter;stroke:rgb(74.509804%,74.509804%,74.509804%);stroke-opacity:1;stroke-miterlimit:10;\" d=\"M 20 244.914062 L 26.417969 180.246094 \"/>\n",
       "<path style=\"fill:none;stroke-width:0.5;stroke-linecap:butt;stroke-linejoin:miter;stroke:rgb(74.509804%,74.509804%,74.509804%);stroke-opacity:1;stroke-miterlimit:10;\" d=\"M 20 244.914062 L 147.542969 204.097656 \"/>\n",
       "<path style=\"fill:none;stroke-width:0.5;stroke-linecap:butt;stroke-linejoin:miter;stroke:rgb(74.509804%,74.509804%,74.509804%);stroke-opacity:1;stroke-miterlimit:10;\" d=\"M 20 244.914062 L 190.726562 238.234375 \"/>\n",
       "<path style=\"fill:none;stroke-width:0.5;stroke-linecap:butt;stroke-linejoin:miter;stroke:rgb(74.509804%,74.509804%,74.509804%);stroke-opacity:1;stroke-miterlimit:10;\" d=\"M 26.417969 180.246094 L 190.726562 238.234375 \"/>\n",
       "<path style=\"fill:none;stroke-width:0.5;stroke-linecap:butt;stroke-linejoin:miter;stroke:rgb(74.509804%,74.509804%,74.509804%);stroke-opacity:1;stroke-miterlimit:10;\" d=\"M 155.378906 30.777344 L 207.613281 72.308594 \"/>\n",
       "<path style=\"fill:none;stroke-width:0.5;stroke-linecap:butt;stroke-linejoin:miter;stroke:rgb(74.509804%,74.509804%,74.509804%);stroke-opacity:1;stroke-miterlimit:10;\" d=\"M 155.378906 30.777344 L 306.585938 149.066406 \"/>\n",
       "<path style=\"fill:none;stroke-width:0.5;stroke-linecap:butt;stroke-linejoin:miter;stroke:rgb(74.509804%,74.509804%,74.509804%);stroke-opacity:1;stroke-miterlimit:10;\" d=\"M 147.542969 204.097656 L 306.585938 149.066406 \"/>\n",
       "<path style=\"fill:none;stroke-width:0.5;stroke-linecap:butt;stroke-linejoin:miter;stroke:rgb(74.509804%,74.509804%,74.509804%);stroke-opacity:1;stroke-miterlimit:10;\" d=\"M 253.675781 221.515625 L 190.726562 238.234375 \"/>\n",
       "<path style=\"fill:none;stroke-width:0.5;stroke-linecap:butt;stroke-linejoin:miter;stroke:rgb(74.509804%,74.509804%,74.509804%);stroke-opacity:1;stroke-miterlimit:10;\" d=\"M 253.675781 221.515625 L 306.585938 149.066406 \"/>\n",
       "<path style=\"fill:none;stroke-width:0.5;stroke-linecap:butt;stroke-linejoin:miter;stroke:rgb(74.509804%,74.509804%,74.509804%);stroke-opacity:1;stroke-miterlimit:10;\" d=\"M 207.613281 72.308594 L 331.804688 123.644531 \"/>\n",
       "<path style=\"fill:none;stroke-width:0.5;stroke-linecap:butt;stroke-linejoin:miter;stroke:rgb(74.509804%,74.509804%,74.509804%);stroke-opacity:1;stroke-miterlimit:10;\" d=\"M 207.613281 72.308594 L 306.585938 149.066406 \"/>\n",
       "<path style=\"fill:none;stroke-width:0.5;stroke-linecap:butt;stroke-linejoin:miter;stroke:rgb(74.509804%,74.509804%,74.509804%);stroke-opacity:1;stroke-miterlimit:10;\" d=\"M 458.546875 186.113281 L 331.804688 123.644531 \"/>\n",
       "<path style=\"fill:none;stroke-width:0.5;stroke-linecap:butt;stroke-linejoin:miter;stroke:rgb(74.509804%,74.509804%,74.509804%);stroke-opacity:1;stroke-miterlimit:10;\" d=\"M 458.546875 186.113281 L 306.585938 149.066406 \"/>\n",
       "<path style=\"fill:none;stroke-width:0.5;stroke-linecap:butt;stroke-linejoin:miter;stroke:rgb(74.509804%,74.509804%,74.509804%);stroke-opacity:1;stroke-miterlimit:10;\" d=\"M 190.726562 238.234375 L 331.804688 123.644531 \"/>\n",
       "<path style=\"fill:none;stroke-width:0.5;stroke-linecap:butt;stroke-linejoin:miter;stroke:rgb(74.509804%,74.509804%,74.509804%);stroke-opacity:1;stroke-miterlimit:10;\" d=\"M 190.726562 238.234375 L 306.585938 149.066406 \"/>\n",
       "<path style=\"fill:none;stroke-width:0.5;stroke-linecap:butt;stroke-linejoin:miter;stroke:rgb(74.509804%,74.509804%,74.509804%);stroke-opacity:1;stroke-miterlimit:10;\" d=\"M 331.804688 123.644531 L 306.585938 149.066406 \"/>\n",
       "<path style=\"fill-rule:nonzero;fill:rgb(100%,0%,0%);fill-opacity:1;stroke-width:1;stroke-linecap:butt;stroke-linejoin:miter;stroke:rgb(0%,0%,0%);stroke-opacity:1;stroke-miterlimit:10;\" d=\"M 372.378906 394.390625 C 372.378906 399.910156 367.898438 404.390625 362.378906 404.390625 C 356.855469 404.390625 352.378906 399.910156 352.378906 394.390625 C 352.378906 388.867188 356.855469 384.390625 362.378906 384.390625 C 367.898438 384.390625 372.378906 388.867188 372.378906 394.390625 \"/>\n",
       "<path style=\"fill-rule:nonzero;fill:rgb(100%,0%,0%);fill-opacity:1;stroke-width:1;stroke-linecap:butt;stroke-linejoin:miter;stroke:rgb(0%,0%,0%);stroke-opacity:1;stroke-miterlimit:10;\" d=\"M 496.855469 323.328125 C 496.855469 328.851562 492.378906 333.328125 486.855469 333.328125 C 481.335938 333.328125 476.855469 328.851562 476.855469 323.328125 C 476.855469 317.804688 481.335938 313.328125 486.855469 313.328125 C 492.378906 313.328125 496.855469 317.804688 496.855469 323.328125 \"/>\n",
       "<path style=\"fill-rule:nonzero;fill:rgb(100%,0%,0%);fill-opacity:1;stroke-width:1;stroke-linecap:butt;stroke-linejoin:miter;stroke:rgb(0%,0%,0%);stroke-opacity:1;stroke-miterlimit:10;\" d=\"M 340.027344 286.5 C 340.027344 292.023438 335.550781 296.5 330.027344 296.5 C 324.503906 296.5 320.027344 292.023438 320.027344 286.5 C 320.027344 280.976562 324.503906 276.5 330.027344 276.5 C 335.550781 276.5 340.027344 280.976562 340.027344 286.5 \"/>\n",
       "<path style=\"fill-rule:nonzero;fill:rgb(100%,0%,0%);fill-opacity:1;stroke-width:1;stroke-linecap:butt;stroke-linejoin:miter;stroke:rgb(0%,0%,0%);stroke-opacity:1;stroke-miterlimit:10;\" d=\"M 436.921875 392.140625 C 436.921875 397.664062 432.445312 402.140625 426.921875 402.140625 C 421.398438 402.140625 416.921875 397.664062 416.921875 392.140625 C 416.921875 386.617188 421.398438 382.140625 426.921875 382.140625 C 432.445312 382.140625 436.921875 386.617188 436.921875 392.140625 \"/>\n",
       "<path style=\"fill-rule:nonzero;fill:rgb(0%,0%,100%);fill-opacity:1;stroke-width:1;stroke-linecap:butt;stroke-linejoin:miter;stroke:rgb(0%,0%,0%);stroke-opacity:1;stroke-miterlimit:10;\" d=\"M 326.441406 501.992188 C 326.441406 507.515625 321.964844 511.992188 316.441406 511.992188 C 310.917969 511.992188 306.441406 507.515625 306.441406 501.992188 C 306.441406 496.46875 310.917969 491.992188 316.441406 491.992188 C 321.964844 491.992188 326.441406 496.46875 326.441406 501.992188 \"/>\n",
       "<path style=\"fill-rule:nonzero;fill:rgb(0%,0%,100%);fill-opacity:1;stroke-width:1;stroke-linecap:butt;stroke-linejoin:miter;stroke:rgb(0%,0%,0%);stroke-opacity:1;stroke-miterlimit:10;\" d=\"M 279.464844 544.046875 C 279.464844 549.570312 274.988281 554.046875 269.464844 554.046875 C 263.941406 554.046875 259.464844 549.570312 259.464844 544.046875 C 259.464844 538.523438 263.941406 534.046875 269.464844 534.046875 C 274.988281 534.046875 279.464844 538.523438 279.464844 544.046875 \"/>\n",
       "<path style=\"fill-rule:nonzero;fill:rgb(0%,0%,100%);fill-opacity:1;stroke-width:1;stroke-linecap:butt;stroke-linejoin:miter;stroke:rgb(0%,0%,0%);stroke-opacity:1;stroke-miterlimit:10;\" d=\"M 231.222656 506.441406 C 231.222656 511.964844 226.746094 516.441406 221.222656 516.441406 C 215.699219 516.441406 211.222656 511.964844 211.222656 506.441406 C 211.222656 500.917969 215.699219 496.441406 221.222656 496.441406 C 226.746094 496.441406 231.222656 500.917969 231.222656 506.441406 \"/>\n",
       "<path style=\"fill-rule:nonzero;fill:rgb(100%,0%,0%);fill-opacity:1;stroke-width:1;stroke-linecap:butt;stroke-linejoin:miter;stroke:rgb(0%,0%,0%);stroke-opacity:1;stroke-miterlimit:10;\" d=\"M 479.792969 367.972656 C 479.792969 373.496094 475.316406 377.972656 469.792969 377.972656 C 464.269531 377.972656 459.792969 373.496094 459.792969 367.972656 C 459.792969 362.453125 464.269531 357.972656 469.792969 357.972656 C 475.316406 357.972656 479.792969 362.453125 479.792969 367.972656 \"/>\n",
       "<path style=\"fill-rule:nonzero;fill:rgb(100%,0%,0%);fill-opacity:1;stroke-width:1;stroke-linecap:butt;stroke-linejoin:miter;stroke:rgb(0%,0%,0%);stroke-opacity:1;stroke-miterlimit:10;\" d=\"M 385.109375 229.792969 C 385.109375 235.3125 380.628906 239.792969 375.109375 239.792969 C 369.585938 239.792969 365.109375 235.3125 365.109375 229.792969 C 365.109375 224.269531 369.585938 219.792969 375.109375 219.792969 C 380.628906 219.792969 385.109375 224.269531 385.109375 229.792969 \"/>\n",
       "<path style=\"fill-rule:nonzero;fill:rgb(100%,0%,0%);fill-opacity:1;stroke-width:1;stroke-linecap:butt;stroke-linejoin:miter;stroke:rgb(0%,0%,0%);stroke-opacity:1;stroke-miterlimit:10;\" d=\"M 217.027344 283.3125 C 217.027344 288.835938 212.546875 293.3125 207.027344 293.3125 C 201.503906 293.3125 197.027344 288.835938 197.027344 283.3125 C 197.027344 277.789062 201.503906 273.3125 207.027344 273.3125 C 212.546875 273.3125 217.027344 277.789062 217.027344 283.3125 \"/>\n",
       "<path style=\"fill-rule:nonzero;fill:rgb(0%,0%,100%);fill-opacity:1;stroke-width:1;stroke-linecap:butt;stroke-linejoin:miter;stroke:rgb(0%,0%,0%);stroke-opacity:1;stroke-miterlimit:10;\" d=\"M 382.226562 539.21875 C 382.226562 544.742188 377.746094 549.21875 372.226562 549.21875 C 366.703125 549.21875 362.226562 544.742188 362.226562 539.21875 C 362.226562 533.695312 366.703125 529.21875 372.226562 529.21875 C 377.746094 529.21875 382.226562 533.695312 382.226562 539.21875 \"/>\n",
       "<path style=\"fill-rule:nonzero;fill:rgb(100%,0%,0%);fill-opacity:1;stroke-width:1;stroke-linecap:butt;stroke-linejoin:miter;stroke:rgb(0%,0%,0%);stroke-opacity:1;stroke-miterlimit:10;\" d=\"M 181.09375 436.546875 C 181.09375 442.070312 176.617188 446.546875 171.09375 446.546875 C 165.570312 446.546875 161.09375 442.070312 161.09375 436.546875 C 161.09375 431.023438 165.570312 426.546875 171.09375 426.546875 C 176.617188 426.546875 181.09375 431.023438 181.09375 436.546875 \"/>\n",
       "<path style=\"fill-rule:nonzero;fill:rgb(100%,0%,0%);fill-opacity:1;stroke-width:1;stroke-linecap:butt;stroke-linejoin:miter;stroke:rgb(0%,0%,0%);stroke-opacity:1;stroke-miterlimit:10;\" d=\"M 484.078125 486.546875 C 484.078125 492.070312 479.601562 496.546875 474.078125 496.546875 C 468.554688 496.546875 464.078125 492.070312 464.078125 486.546875 C 464.078125 481.023438 468.554688 476.546875 474.078125 476.546875 C 479.601562 476.546875 484.078125 481.023438 484.078125 486.546875 \"/>\n",
       "<path style=\"fill-rule:nonzero;fill:rgb(100%,0%,0%);fill-opacity:1;stroke-width:1;stroke-linecap:butt;stroke-linejoin:miter;stroke:rgb(0%,0%,0%);stroke-opacity:1;stroke-miterlimit:10;\" d=\"M 400.644531 302.003906 C 400.644531 307.527344 396.167969 312.003906 390.644531 312.003906 C 385.121094 312.003906 380.644531 307.527344 380.644531 302.003906 C 380.644531 296.480469 385.121094 292.003906 390.644531 292.003906 C 396.167969 292.003906 400.644531 296.480469 400.644531 302.003906 \"/>\n",
       "<path style=\"fill-rule:nonzero;fill:rgb(100%,0%,0%);fill-opacity:1;stroke-width:1;stroke-linecap:butt;stroke-linejoin:miter;stroke:rgb(0%,0%,0%);stroke-opacity:1;stroke-miterlimit:10;\" d=\"M 406.078125 32.746094 C 406.078125 38.269531 401.601562 42.746094 396.078125 42.746094 C 390.554688 42.746094 386.078125 38.269531 386.078125 32.746094 C 386.078125 27.222656 390.554688 22.746094 396.078125 22.746094 C 401.601562 22.746094 406.078125 27.222656 406.078125 32.746094 \"/>\n",
       "<path style=\"fill-rule:nonzero;fill:rgb(100%,0%,0%);fill-opacity:1;stroke-width:1;stroke-linecap:butt;stroke-linejoin:miter;stroke:rgb(0%,0%,0%);stroke-opacity:1;stroke-miterlimit:10;\" d=\"M 282.191406 28.792969 C 282.191406 34.316406 277.714844 38.792969 272.191406 38.792969 C 266.671875 38.792969 262.191406 34.316406 262.191406 28.792969 C 262.191406 23.269531 266.671875 18.792969 272.191406 18.792969 C 277.714844 18.792969 282.191406 23.269531 282.191406 28.792969 \"/>\n",
       "<path style=\"fill-rule:nonzero;fill:rgb(0%,0%,100%);fill-opacity:1;stroke-width:1;stroke-linecap:butt;stroke-linejoin:miter;stroke:rgb(0%,0%,0%);stroke-opacity:1;stroke-miterlimit:10;\" d=\"M 158.777344 580 C 158.777344 585.523438 154.300781 590 148.777344 590 C 143.257812 590 138.777344 585.523438 138.777344 580 C 138.777344 574.476562 143.257812 570 148.777344 570 C 154.300781 570 158.777344 574.476562 158.777344 580 \"/>\n",
       "<path style=\"fill-rule:nonzero;fill:rgb(100%,0%,0%);fill-opacity:1;stroke-width:1;stroke-linecap:butt;stroke-linejoin:miter;stroke:rgb(0%,0%,0%);stroke-opacity:1;stroke-miterlimit:10;\" d=\"M 555.621094 429.398438 C 555.621094 434.921875 551.144531 439.398438 545.621094 439.398438 C 540.097656 439.398438 535.621094 434.921875 535.621094 429.398438 C 535.621094 423.875 540.097656 419.398438 545.621094 419.398438 C 551.144531 419.398438 555.621094 423.875 555.621094 429.398438 \"/>\n",
       "<path style=\"fill-rule:nonzero;fill:rgb(100%,0%,0%);fill-opacity:1;stroke-width:1;stroke-linecap:butt;stroke-linejoin:miter;stroke:rgb(0%,0%,0%);stroke-opacity:1;stroke-miterlimit:10;\" d=\"M 345.699219 20 C 345.699219 25.523438 341.222656 30 335.699219 30 C 330.175781 30 325.699219 25.523438 325.699219 20 C 325.699219 14.476562 330.175781 10 335.699219 10 C 341.222656 10 345.699219 14.476562 345.699219 20 \"/>\n",
       "<path style=\"fill-rule:nonzero;fill:rgb(100%,0%,0%);fill-opacity:1;stroke-width:1;stroke-linecap:butt;stroke-linejoin:miter;stroke:rgb(0%,0%,0%);stroke-opacity:1;stroke-miterlimit:10;\" d=\"M 466.183594 260.699219 C 466.183594 266.222656 461.707031 270.699219 456.183594 270.699219 C 450.660156 270.699219 446.183594 266.222656 446.183594 260.699219 C 446.183594 255.179688 450.660156 250.699219 456.183594 250.699219 C 461.707031 250.699219 466.183594 255.179688 466.183594 260.699219 \"/>\n",
       "<path style=\"fill-rule:nonzero;fill:rgb(100%,0%,0%);fill-opacity:1;stroke-width:1;stroke-linecap:butt;stroke-linejoin:miter;stroke:rgb(0%,0%,0%);stroke-opacity:1;stroke-miterlimit:10;\" d=\"M 455.511719 60.796875 C 455.511719 66.320312 451.03125 70.796875 445.511719 70.796875 C 439.988281 70.796875 435.511719 66.320312 435.511719 60.796875 C 435.511719 55.273438 439.988281 50.796875 445.511719 50.796875 C 451.03125 50.796875 455.511719 55.273438 455.511719 60.796875 \"/>\n",
       "<path style=\"fill-rule:nonzero;fill:rgb(100%,0%,0%);fill-opacity:1;stroke-width:1;stroke-linecap:butt;stroke-linejoin:miter;stroke:rgb(0%,0%,0%);stroke-opacity:1;stroke-miterlimit:10;\" d=\"M 590 376.621094 C 590 382.140625 585.523438 386.621094 580 386.621094 C 574.476562 386.621094 570 382.140625 570 376.621094 C 570 371.097656 574.476562 366.621094 580 366.621094 C 585.523438 366.621094 590 371.097656 590 376.621094 \"/>\n",
       "<path style=\"fill-rule:nonzero;fill:rgb(100%,0%,0%);fill-opacity:1;stroke-width:1;stroke-linecap:butt;stroke-linejoin:miter;stroke:rgb(0%,0%,0%);stroke-opacity:1;stroke-miterlimit:10;\" d=\"M 484.058594 103.523438 C 484.058594 109.046875 479.582031 113.523438 474.058594 113.523438 C 468.539062 113.523438 464.058594 109.046875 464.058594 103.523438 C 464.058594 98 468.539062 93.523438 474.058594 93.523438 C 479.582031 93.523438 484.058594 98 484.058594 103.523438 \"/>\n",
       "<path style=\"fill-rule:nonzero;fill:rgb(100%,0%,0%);fill-opacity:1;stroke-width:1;stroke-linecap:butt;stroke-linejoin:miter;stroke:rgb(0%,0%,0%);stroke-opacity:1;stroke-miterlimit:10;\" d=\"M 164.214844 126.300781 C 164.214844 131.824219 159.738281 136.300781 154.214844 136.300781 C 148.691406 136.300781 144.214844 131.824219 144.214844 126.300781 C 144.214844 120.777344 148.691406 116.300781 154.214844 116.300781 C 159.738281 116.300781 164.214844 120.777344 164.214844 126.300781 \"/>\n",
       "<path style=\"fill-rule:nonzero;fill:rgb(100%,0%,0%);fill-opacity:1;stroke-width:1;stroke-linecap:butt;stroke-linejoin:miter;stroke:rgb(0%,0%,0%);stroke-opacity:1;stroke-miterlimit:10;\" d=\"M 30 244.914062 C 30 250.433594 25.523438 254.914062 20 254.914062 C 14.476562 254.914062 10 250.433594 10 244.914062 C 10 239.390625 14.476562 234.914062 20 234.914062 C 25.523438 234.914062 30 239.390625 30 244.914062 \"/>\n",
       "<path style=\"fill-rule:nonzero;fill:rgb(100%,0%,0%);fill-opacity:1;stroke-width:1;stroke-linecap:butt;stroke-linejoin:miter;stroke:rgb(0%,0%,0%);stroke-opacity:1;stroke-miterlimit:10;\" d=\"M 36.417969 180.246094 C 36.417969 185.769531 31.941406 190.246094 26.417969 190.246094 C 20.894531 190.246094 16.417969 185.769531 16.417969 180.246094 C 16.417969 174.726562 20.894531 170.246094 26.417969 170.246094 C 31.941406 170.246094 36.417969 174.726562 36.417969 180.246094 \"/>\n",
       "<path style=\"fill-rule:nonzero;fill:rgb(100%,0%,0%);fill-opacity:1;stroke-width:1;stroke-linecap:butt;stroke-linejoin:miter;stroke:rgb(0%,0%,0%);stroke-opacity:1;stroke-miterlimit:10;\" d=\"M 165.378906 30.777344 C 165.378906 36.300781 160.902344 40.777344 155.378906 40.777344 C 149.855469 40.777344 145.378906 36.300781 145.378906 30.777344 C 145.378906 25.253906 149.855469 20.777344 155.378906 20.777344 C 160.902344 20.777344 165.378906 25.253906 165.378906 30.777344 \"/>\n",
       "<path style=\"fill-rule:nonzero;fill:rgb(100%,0%,0%);fill-opacity:1;stroke-width:1;stroke-linecap:butt;stroke-linejoin:miter;stroke:rgb(0%,0%,0%);stroke-opacity:1;stroke-miterlimit:10;\" d=\"M 157.542969 204.097656 C 157.542969 209.617188 153.066406 214.097656 147.542969 214.097656 C 142.023438 214.097656 137.542969 209.617188 137.542969 204.097656 C 137.542969 198.574219 142.023438 194.097656 147.542969 194.097656 C 153.066406 194.097656 157.542969 198.574219 157.542969 204.097656 \"/>\n",
       "<path style=\"fill-rule:nonzero;fill:rgb(100%,0%,0%);fill-opacity:1;stroke-width:1;stroke-linecap:butt;stroke-linejoin:miter;stroke:rgb(0%,0%,0%);stroke-opacity:1;stroke-miterlimit:10;\" d=\"M 263.675781 221.515625 C 263.675781 227.039062 259.199219 231.515625 253.675781 231.515625 C 248.152344 231.515625 243.675781 227.039062 243.675781 221.515625 C 243.675781 215.992188 248.152344 211.515625 253.675781 211.515625 C 259.199219 211.515625 263.675781 215.992188 263.675781 221.515625 \"/>\n",
       "<path style=\"fill-rule:nonzero;fill:rgb(100%,0%,0%);fill-opacity:1;stroke-width:1;stroke-linecap:butt;stroke-linejoin:miter;stroke:rgb(0%,0%,0%);stroke-opacity:1;stroke-miterlimit:10;\" d=\"M 217.613281 72.308594 C 217.613281 77.832031 213.136719 82.308594 207.613281 82.308594 C 202.089844 82.308594 197.613281 77.832031 197.613281 72.308594 C 197.613281 66.785156 202.089844 62.308594 207.613281 62.308594 C 213.136719 62.308594 217.613281 66.785156 217.613281 72.308594 \"/>\n",
       "<path style=\"fill-rule:nonzero;fill:rgb(100%,0%,0%);fill-opacity:1;stroke-width:1;stroke-linecap:butt;stroke-linejoin:miter;stroke:rgb(0%,0%,0%);stroke-opacity:1;stroke-miterlimit:10;\" d=\"M 468.546875 186.113281 C 468.546875 191.636719 464.070312 196.113281 458.546875 196.113281 C 453.023438 196.113281 448.546875 191.636719 448.546875 186.113281 C 448.546875 180.59375 453.023438 176.113281 458.546875 176.113281 C 464.070312 176.113281 468.546875 180.59375 468.546875 186.113281 \"/>\n",
       "<path style=\"fill-rule:nonzero;fill:rgb(100%,0%,0%);fill-opacity:1;stroke-width:1;stroke-linecap:butt;stroke-linejoin:miter;stroke:rgb(0%,0%,0%);stroke-opacity:1;stroke-miterlimit:10;\" d=\"M 200.726562 238.234375 C 200.726562 243.757812 196.25 248.234375 190.726562 248.234375 C 185.203125 248.234375 180.726562 243.757812 180.726562 238.234375 C 180.726562 232.710938 185.203125 228.234375 190.726562 228.234375 C 196.25 228.234375 200.726562 232.710938 200.726562 238.234375 \"/>\n",
       "<path style=\"fill-rule:nonzero;fill:rgb(100%,0%,0%);fill-opacity:1;stroke-width:1;stroke-linecap:butt;stroke-linejoin:miter;stroke:rgb(0%,0%,0%);stroke-opacity:1;stroke-miterlimit:10;\" d=\"M 341.804688 123.644531 C 341.804688 129.167969 337.328125 133.644531 331.804688 133.644531 C 326.28125 133.644531 321.804688 129.167969 321.804688 123.644531 C 321.804688 118.121094 326.28125 113.644531 331.804688 113.644531 C 337.328125 113.644531 341.804688 118.121094 341.804688 123.644531 \"/>\n",
       "<path style=\"fill-rule:nonzero;fill:rgb(100%,0%,0%);fill-opacity:1;stroke-width:1;stroke-linecap:butt;stroke-linejoin:miter;stroke:rgb(0%,0%,0%);stroke-opacity:1;stroke-miterlimit:10;\" d=\"M 316.585938 149.066406 C 316.585938 154.589844 312.109375 159.066406 306.585938 159.066406 C 301.0625 159.066406 296.585938 154.589844 296.585938 149.066406 C 296.585938 143.542969 301.0625 139.066406 306.585938 139.066406 C 312.109375 139.066406 316.585938 143.542969 316.585938 149.066406 \"/>\n",
       "</g>\n",
       "</svg>\n"
      ],
      "text/plain": [
       "<igraph.drawing.Plot at 0x1a26de1f28>"
      ]
     },
     "execution_count": 28,
     "metadata": {},
     "output_type": "execute_result"
    }
   ],
   "source": [
    "components = G.clusters()\n",
    "G.vs[components[0]]['color'] = 'red'\n",
    "G.vs[components[1]]['color'] = 'blue'\n",
    "ig.plot(G)"
   ]
  },
  {
   "cell_type": "markdown",
   "metadata": {},
   "source": [
    "Usually, networks tend to have one large component, and many smaller components. In empirical networks, it is therefore common practice to restrict any further analyses to the largest connected component. Because the difference between the largest connected component and the other components is usually quite large, the largest connected component is sometimes also called the *giant component*."
   ]
  },
  {
   "cell_type": "code",
   "execution_count": 29,
   "metadata": {
    "ExecuteTime": {
     "end_time": "2019-07-05T14:25:15.551740Z",
     "start_time": "2019-07-05T14:25:15.538412Z"
    }
   },
   "outputs": [
    {
     "data": {
      "image/svg+xml": [
       "<?xml version=\"1.0\" encoding=\"UTF-8\"?>\n",
       "<svg xmlns=\"http://www.w3.org/2000/svg\" xmlns:xlink=\"http://www.w3.org/1999/xlink\" width=\"600pt\" height=\"600pt\" viewBox=\"0 0 600 600\" version=\"1.1\">\n",
       "<g id=\"surface56\">\n",
       "<rect x=\"0\" y=\"0\" width=\"600\" height=\"600\" style=\"fill:rgb(100%,100%,100%);fill-opacity:1;stroke:none;\"/>\n",
       "<path style=\"fill:none;stroke-width:0.5;stroke-linecap:butt;stroke-linejoin:miter;stroke:rgb(74.509804%,74.509804%,74.509804%);stroke-opacity:1;stroke-miterlimit:10;\" d=\"M 432.65625 296.402344 L 434.070312 218.695312 \"/>\n",
       "<path style=\"fill:none;stroke-width:2;stroke-linecap:butt;stroke-linejoin:miter;stroke:rgb(100%,0%,0%);stroke-opacity:1;stroke-miterlimit:10;\" d=\"M 432.65625 296.402344 L 325.808594 326.621094 \"/>\n",
       "<path style=\"fill:none;stroke-width:0.5;stroke-linecap:butt;stroke-linejoin:miter;stroke:rgb(74.509804%,74.509804%,74.509804%);stroke-opacity:1;stroke-miterlimit:10;\" d=\"M 432.65625 296.402344 L 427.566406 390.550781 \"/>\n",
       "<path style=\"fill:none;stroke-width:0.5;stroke-linecap:butt;stroke-linejoin:miter;stroke:rgb(74.509804%,74.509804%,74.509804%);stroke-opacity:1;stroke-miterlimit:10;\" d=\"M 432.65625 296.402344 L 473.097656 350.703125 \"/>\n",
       "<path style=\"fill:none;stroke-width:0.5;stroke-linecap:butt;stroke-linejoin:miter;stroke:rgb(74.509804%,74.509804%,74.509804%);stroke-opacity:1;stroke-miterlimit:10;\" d=\"M 432.65625 296.402344 L 302.367188 201.707031 \"/>\n",
       "<path style=\"fill:none;stroke-width:0.5;stroke-linecap:butt;stroke-linejoin:miter;stroke:rgb(74.509804%,74.509804%,74.509804%);stroke-opacity:1;stroke-miterlimit:10;\" d=\"M 432.65625 296.402344 L 580 362.542969 \"/>\n",
       "<path style=\"fill:none;stroke-width:0.5;stroke-linecap:butt;stroke-linejoin:miter;stroke:rgb(74.509804%,74.509804%,74.509804%);stroke-opacity:1;stroke-miterlimit:10;\" d=\"M 432.65625 296.402344 L 490.140625 483.910156 \"/>\n",
       "<path style=\"fill:none;stroke-width:0.5;stroke-linecap:butt;stroke-linejoin:miter;stroke:rgb(74.509804%,74.509804%,74.509804%);stroke-opacity:1;stroke-miterlimit:10;\" d=\"M 432.65625 296.402344 L 362.796875 275.871094 \"/>\n",
       "<path style=\"fill:none;stroke-width:0.5;stroke-linecap:butt;stroke-linejoin:miter;stroke:rgb(74.509804%,74.509804%,74.509804%);stroke-opacity:1;stroke-miterlimit:10;\" d=\"M 432.65625 296.402344 L 546.96875 216.6875 \"/>\n",
       "<path style=\"fill:none;stroke-width:0.5;stroke-linecap:butt;stroke-linejoin:miter;stroke:rgb(74.509804%,74.509804%,74.509804%);stroke-opacity:1;stroke-miterlimit:10;\" d=\"M 432.65625 296.402344 L 370.96875 139.238281 \"/>\n",
       "<path style=\"fill:none;stroke-width:0.5;stroke-linecap:butt;stroke-linejoin:miter;stroke:rgb(74.509804%,74.509804%,74.509804%);stroke-opacity:1;stroke-miterlimit:10;\" d=\"M 432.65625 296.402344 L 512.152344 129.269531 \"/>\n",
       "<path style=\"fill:none;stroke-width:0.5;stroke-linecap:butt;stroke-linejoin:miter;stroke:rgb(74.509804%,74.509804%,74.509804%);stroke-opacity:1;stroke-miterlimit:10;\" d=\"M 432.65625 296.402344 L 251.425781 399.371094 \"/>\n",
       "<path style=\"fill:none;stroke-width:0.5;stroke-linecap:butt;stroke-linejoin:miter;stroke:rgb(74.509804%,74.509804%,74.509804%);stroke-opacity:1;stroke-miterlimit:10;\" d=\"M 434.070312 218.695312 L 325.808594 326.621094 \"/>\n",
       "<path style=\"fill:none;stroke-width:0.5;stroke-linecap:butt;stroke-linejoin:miter;stroke:rgb(74.509804%,74.509804%,74.509804%);stroke-opacity:1;stroke-miterlimit:10;\" d=\"M 434.070312 218.695312 L 427.566406 390.550781 \"/>\n",
       "<path style=\"fill:none;stroke-width:0.5;stroke-linecap:butt;stroke-linejoin:miter;stroke:rgb(74.509804%,74.509804%,74.509804%);stroke-opacity:1;stroke-miterlimit:10;\" d=\"M 434.070312 218.695312 L 473.097656 350.703125 \"/>\n",
       "<path style=\"fill:none;stroke-width:0.5;stroke-linecap:butt;stroke-linejoin:miter;stroke:rgb(74.509804%,74.509804%,74.509804%);stroke-opacity:1;stroke-miterlimit:10;\" d=\"M 434.070312 218.695312 L 362.796875 275.871094 \"/>\n",
       "<path style=\"fill:none;stroke-width:0.5;stroke-linecap:butt;stroke-linejoin:miter;stroke:rgb(74.509804%,74.509804%,74.509804%);stroke-opacity:1;stroke-miterlimit:10;\" d=\"M 434.070312 218.695312 L 546.96875 216.6875 \"/>\n",
       "<path style=\"fill:none;stroke-width:0.5;stroke-linecap:butt;stroke-linejoin:miter;stroke:rgb(74.509804%,74.509804%,74.509804%);stroke-opacity:1;stroke-miterlimit:10;\" d=\"M 434.070312 218.695312 L 370.96875 139.238281 \"/>\n",
       "<path style=\"fill:none;stroke-width:0.5;stroke-linecap:butt;stroke-linejoin:miter;stroke:rgb(74.509804%,74.509804%,74.509804%);stroke-opacity:1;stroke-miterlimit:10;\" d=\"M 434.070312 218.695312 L 512.152344 129.269531 \"/>\n",
       "<path style=\"fill:none;stroke-width:0.5;stroke-linecap:butt;stroke-linejoin:miter;stroke:rgb(74.509804%,74.509804%,74.509804%);stroke-opacity:1;stroke-miterlimit:10;\" d=\"M 434.070312 218.695312 L 299.253906 109.972656 \"/>\n",
       "<path style=\"fill:none;stroke-width:0.5;stroke-linecap:butt;stroke-linejoin:miter;stroke:rgb(74.509804%,74.509804%,74.509804%);stroke-opacity:1;stroke-miterlimit:10;\" d=\"M 325.808594 326.621094 L 427.566406 390.550781 \"/>\n",
       "<path style=\"fill:none;stroke-width:0.5;stroke-linecap:butt;stroke-linejoin:miter;stroke:rgb(74.509804%,74.509804%,74.509804%);stroke-opacity:1;stroke-miterlimit:10;\" d=\"M 325.808594 326.621094 L 473.097656 350.703125 \"/>\n",
       "<path style=\"fill:none;stroke-width:0.5;stroke-linecap:butt;stroke-linejoin:miter;stroke:rgb(74.509804%,74.509804%,74.509804%);stroke-opacity:1;stroke-miterlimit:10;\" d=\"M 325.808594 326.621094 L 196.351562 438.078125 \"/>\n",
       "<path style=\"fill:none;stroke-width:0.5;stroke-linecap:butt;stroke-linejoin:miter;stroke:rgb(74.509804%,74.509804%,74.509804%);stroke-opacity:1;stroke-miterlimit:10;\" d=\"M 325.808594 326.621094 L 205.941406 362.84375 \"/>\n",
       "<path style=\"fill:none;stroke-width:2;stroke-linecap:butt;stroke-linejoin:miter;stroke:rgb(100%,0%,0%);stroke-opacity:1;stroke-miterlimit:10;\" d=\"M 325.808594 326.621094 L 182.886719 181.722656 \"/>\n",
       "<path style=\"fill:none;stroke-width:0.5;stroke-linecap:butt;stroke-linejoin:miter;stroke:rgb(74.509804%,74.509804%,74.509804%);stroke-opacity:1;stroke-miterlimit:10;\" d=\"M 325.808594 326.621094 L 251.207031 299.886719 \"/>\n",
       "<path style=\"fill:none;stroke-width:0.5;stroke-linecap:butt;stroke-linejoin:miter;stroke:rgb(74.509804%,74.509804%,74.509804%);stroke-opacity:1;stroke-miterlimit:10;\" d=\"M 325.808594 326.621094 L 302.367188 201.707031 \"/>\n",
       "<path style=\"fill:none;stroke-width:0.5;stroke-linecap:butt;stroke-linejoin:miter;stroke:rgb(74.509804%,74.509804%,74.509804%);stroke-opacity:1;stroke-miterlimit:10;\" d=\"M 325.808594 326.621094 L 362.796875 275.871094 \"/>\n",
       "<path style=\"fill:none;stroke-width:0.5;stroke-linecap:butt;stroke-linejoin:miter;stroke:rgb(74.509804%,74.509804%,74.509804%);stroke-opacity:1;stroke-miterlimit:10;\" d=\"M 427.566406 390.550781 L 473.097656 350.703125 \"/>\n",
       "<path style=\"fill:none;stroke-width:0.5;stroke-linecap:butt;stroke-linejoin:miter;stroke:rgb(74.509804%,74.509804%,74.509804%);stroke-opacity:1;stroke-miterlimit:10;\" d=\"M 427.566406 390.550781 L 490.140625 483.910156 \"/>\n",
       "<path style=\"fill:none;stroke-width:0.5;stroke-linecap:butt;stroke-linejoin:miter;stroke:rgb(74.509804%,74.509804%,74.509804%);stroke-opacity:1;stroke-miterlimit:10;\" d=\"M 427.566406 390.550781 L 362.796875 275.871094 \"/>\n",
       "<path style=\"fill:none;stroke-width:0.5;stroke-linecap:butt;stroke-linejoin:miter;stroke:rgb(74.509804%,74.509804%,74.509804%);stroke-opacity:1;stroke-miterlimit:10;\" d=\"M 302.367188 201.707031 L 299.253906 109.972656 \"/>\n",
       "<path style=\"fill:none;stroke-width:0.5;stroke-linecap:butt;stroke-linejoin:miter;stroke:rgb(74.509804%,74.509804%,74.509804%);stroke-opacity:1;stroke-miterlimit:10;\" d=\"M 302.367188 201.707031 L 182.886719 181.722656 \"/>\n",
       "<path style=\"fill:none;stroke-width:0.5;stroke-linecap:butt;stroke-linejoin:miter;stroke:rgb(74.509804%,74.509804%,74.509804%);stroke-opacity:1;stroke-miterlimit:10;\" d=\"M 302.367188 201.707031 L 195.265625 214.980469 \"/>\n",
       "<path style=\"fill:none;stroke-width:0.5;stroke-linecap:butt;stroke-linejoin:miter;stroke:rgb(74.509804%,74.509804%,74.509804%);stroke-opacity:1;stroke-miterlimit:10;\" d=\"M 251.207031 299.886719 L 195.265625 214.980469 \"/>\n",
       "<path style=\"fill:none;stroke-width:0.5;stroke-linecap:butt;stroke-linejoin:miter;stroke:rgb(74.509804%,74.509804%,74.509804%);stroke-opacity:1;stroke-miterlimit:10;\" d=\"M 362.796875 275.871094 L 195.265625 214.980469 \"/>\n",
       "<path style=\"fill:none;stroke-width:0.5;stroke-linecap:butt;stroke-linejoin:miter;stroke:rgb(74.509804%,74.509804%,74.509804%);stroke-opacity:1;stroke-miterlimit:10;\" d=\"M 170.042969 20 L 182.886719 181.722656 \"/>\n",
       "<path style=\"fill:none;stroke-width:0.5;stroke-linecap:butt;stroke-linejoin:miter;stroke:rgb(74.509804%,74.509804%,74.509804%);stroke-opacity:1;stroke-miterlimit:10;\" d=\"M 170.042969 20 L 195.265625 214.980469 \"/>\n",
       "<path style=\"fill:none;stroke-width:2;stroke-linecap:butt;stroke-linejoin:miter;stroke:rgb(100%,0%,0%);stroke-opacity:1;stroke-miterlimit:10;\" d=\"M 85.96875 104.34375 L 182.886719 181.722656 \"/>\n",
       "<path style=\"fill:none;stroke-width:0.5;stroke-linecap:butt;stroke-linejoin:miter;stroke:rgb(74.509804%,74.509804%,74.509804%);stroke-opacity:1;stroke-miterlimit:10;\" d=\"M 85.96875 104.34375 L 195.265625 214.980469 \"/>\n",
       "<path style=\"fill:none;stroke-width:0.5;stroke-linecap:butt;stroke-linejoin:miter;stroke:rgb(74.509804%,74.509804%,74.509804%);stroke-opacity:1;stroke-miterlimit:10;\" d=\"M 66.921875 278.472656 L 182.886719 181.722656 \"/>\n",
       "<path style=\"fill:none;stroke-width:0.5;stroke-linecap:butt;stroke-linejoin:miter;stroke:rgb(74.509804%,74.509804%,74.509804%);stroke-opacity:1;stroke-miterlimit:10;\" d=\"M 66.921875 278.472656 L 195.265625 214.980469 \"/>\n",
       "<path style=\"fill:none;stroke-width:0.5;stroke-linecap:butt;stroke-linejoin:miter;stroke:rgb(74.509804%,74.509804%,74.509804%);stroke-opacity:1;stroke-miterlimit:10;\" d=\"M 370.96875 139.238281 L 195.265625 214.980469 \"/>\n",
       "<path style=\"fill:none;stroke-width:0.5;stroke-linecap:butt;stroke-linejoin:miter;stroke:rgb(74.509804%,74.509804%,74.509804%);stroke-opacity:1;stroke-miterlimit:10;\" d=\"M 119.933594 45.59375 L 182.886719 181.722656 \"/>\n",
       "<path style=\"fill:none;stroke-width:0.5;stroke-linecap:butt;stroke-linejoin:miter;stroke:rgb(74.509804%,74.509804%,74.509804%);stroke-opacity:1;stroke-miterlimit:10;\" d=\"M 119.933594 45.59375 L 195.265625 214.980469 \"/>\n",
       "<path style=\"fill:none;stroke-width:0.5;stroke-linecap:butt;stroke-linejoin:miter;stroke:rgb(74.509804%,74.509804%,74.509804%);stroke-opacity:1;stroke-miterlimit:10;\" d=\"M 224.238281 24.527344 L 182.886719 181.722656 \"/>\n",
       "<path style=\"fill:none;stroke-width:0.5;stroke-linecap:butt;stroke-linejoin:miter;stroke:rgb(74.509804%,74.509804%,74.509804%);stroke-opacity:1;stroke-miterlimit:10;\" d=\"M 224.238281 24.527344 L 195.265625 214.980469 \"/>\n",
       "<path style=\"fill:none;stroke-width:0.5;stroke-linecap:butt;stroke-linejoin:miter;stroke:rgb(74.509804%,74.509804%,74.509804%);stroke-opacity:1;stroke-miterlimit:10;\" d=\"M 117.65625 354.820312 L 138.746094 528.351562 \"/>\n",
       "<path style=\"fill:none;stroke-width:0.5;stroke-linecap:butt;stroke-linejoin:miter;stroke:rgb(74.509804%,74.509804%,74.509804%);stroke-opacity:1;stroke-miterlimit:10;\" d=\"M 117.65625 354.820312 L 196.351562 438.078125 \"/>\n",
       "<path style=\"fill:none;stroke-width:0.5;stroke-linecap:butt;stroke-linejoin:miter;stroke:rgb(74.509804%,74.509804%,74.509804%);stroke-opacity:1;stroke-miterlimit:10;\" d=\"M 117.65625 354.820312 L 182.886719 181.722656 \"/>\n",
       "<path style=\"fill:none;stroke-width:0.5;stroke-linecap:butt;stroke-linejoin:miter;stroke:rgb(74.509804%,74.509804%,74.509804%);stroke-opacity:1;stroke-miterlimit:10;\" d=\"M 117.65625 354.820312 L 195.265625 214.980469 \"/>\n",
       "<path style=\"fill:none;stroke-width:0.5;stroke-linecap:butt;stroke-linejoin:miter;stroke:rgb(74.509804%,74.509804%,74.509804%);stroke-opacity:1;stroke-miterlimit:10;\" d=\"M 117.65625 354.820312 L 82.566406 219.050781 \"/>\n",
       "<path style=\"fill:none;stroke-width:0.5;stroke-linecap:butt;stroke-linejoin:miter;stroke:rgb(74.509804%,74.509804%,74.509804%);stroke-opacity:1;stroke-miterlimit:10;\" d=\"M 208.148438 580 L 138.746094 528.351562 \"/>\n",
       "<path style=\"fill:none;stroke-width:0.5;stroke-linecap:butt;stroke-linejoin:miter;stroke:rgb(74.509804%,74.509804%,74.509804%);stroke-opacity:1;stroke-miterlimit:10;\" d=\"M 208.148438 580 L 196.351562 438.078125 \"/>\n",
       "<path style=\"fill:none;stroke-width:0.5;stroke-linecap:butt;stroke-linejoin:miter;stroke:rgb(74.509804%,74.509804%,74.509804%);stroke-opacity:1;stroke-miterlimit:10;\" d=\"M 208.148438 580 L 251.425781 399.371094 \"/>\n",
       "<path style=\"fill:none;stroke-width:0.5;stroke-linecap:butt;stroke-linejoin:miter;stroke:rgb(74.509804%,74.509804%,74.509804%);stroke-opacity:1;stroke-miterlimit:10;\" d=\"M 138.746094 528.351562 L 251.425781 399.371094 \"/>\n",
       "<path style=\"fill:none;stroke-width:0.5;stroke-linecap:butt;stroke-linejoin:miter;stroke:rgb(74.509804%,74.509804%,74.509804%);stroke-opacity:1;stroke-miterlimit:10;\" d=\"M 20 176.347656 L 82.566406 219.050781 \"/>\n",
       "<path style=\"fill:none;stroke-width:0.5;stroke-linecap:butt;stroke-linejoin:miter;stroke:rgb(74.509804%,74.509804%,74.509804%);stroke-opacity:1;stroke-miterlimit:10;\" d=\"M 20 176.347656 L 195.265625 214.980469 \"/>\n",
       "<path style=\"fill:none;stroke-width:0.5;stroke-linecap:butt;stroke-linejoin:miter;stroke:rgb(74.509804%,74.509804%,74.509804%);stroke-opacity:1;stroke-miterlimit:10;\" d=\"M 196.351562 438.078125 L 195.265625 214.980469 \"/>\n",
       "<path style=\"fill:none;stroke-width:0.5;stroke-linecap:butt;stroke-linejoin:miter;stroke:rgb(74.509804%,74.509804%,74.509804%);stroke-opacity:1;stroke-miterlimit:10;\" d=\"M 205.941406 362.84375 L 251.425781 399.371094 \"/>\n",
       "<path style=\"fill:none;stroke-width:0.5;stroke-linecap:butt;stroke-linejoin:miter;stroke:rgb(74.509804%,74.509804%,74.509804%);stroke-opacity:1;stroke-miterlimit:10;\" d=\"M 205.941406 362.84375 L 195.265625 214.980469 \"/>\n",
       "<path style=\"fill:none;stroke-width:0.5;stroke-linecap:butt;stroke-linejoin:miter;stroke:rgb(74.509804%,74.509804%,74.509804%);stroke-opacity:1;stroke-miterlimit:10;\" d=\"M 82.566406 219.050781 L 182.886719 181.722656 \"/>\n",
       "<path style=\"fill:none;stroke-width:0.5;stroke-linecap:butt;stroke-linejoin:miter;stroke:rgb(74.509804%,74.509804%,74.509804%);stroke-opacity:1;stroke-miterlimit:10;\" d=\"M 82.566406 219.050781 L 195.265625 214.980469 \"/>\n",
       "<path style=\"fill:none;stroke-width:0.5;stroke-linecap:butt;stroke-linejoin:miter;stroke:rgb(74.509804%,74.509804%,74.509804%);stroke-opacity:1;stroke-miterlimit:10;\" d=\"M 299.253906 109.972656 L 182.886719 181.722656 \"/>\n",
       "<path style=\"fill:none;stroke-width:0.5;stroke-linecap:butt;stroke-linejoin:miter;stroke:rgb(74.509804%,74.509804%,74.509804%);stroke-opacity:1;stroke-miterlimit:10;\" d=\"M 299.253906 109.972656 L 195.265625 214.980469 \"/>\n",
       "<path style=\"fill:none;stroke-width:0.5;stroke-linecap:butt;stroke-linejoin:miter;stroke:rgb(74.509804%,74.509804%,74.509804%);stroke-opacity:1;stroke-miterlimit:10;\" d=\"M 251.425781 399.371094 L 182.886719 181.722656 \"/>\n",
       "<path style=\"fill:none;stroke-width:0.5;stroke-linecap:butt;stroke-linejoin:miter;stroke:rgb(74.509804%,74.509804%,74.509804%);stroke-opacity:1;stroke-miterlimit:10;\" d=\"M 251.425781 399.371094 L 195.265625 214.980469 \"/>\n",
       "<path style=\"fill:none;stroke-width:0.5;stroke-linecap:butt;stroke-linejoin:miter;stroke:rgb(74.509804%,74.509804%,74.509804%);stroke-opacity:1;stroke-miterlimit:10;\" d=\"M 182.886719 181.722656 L 195.265625 214.980469 \"/>\n",
       "<path style=\"fill-rule:nonzero;fill:rgb(100%,0%,0%);fill-opacity:1;stroke-width:1;stroke-linecap:butt;stroke-linejoin:miter;stroke:rgb(0%,0%,0%);stroke-opacity:1;stroke-miterlimit:10;\" d=\"M 442.65625 296.402344 C 442.65625 301.925781 438.179688 306.402344 432.65625 306.402344 C 427.136719 306.402344 422.65625 301.925781 422.65625 296.402344 C 422.65625 290.878906 427.136719 286.402344 432.65625 286.402344 C 438.179688 286.402344 442.65625 290.878906 442.65625 296.402344 \"/>\n",
       "<path style=\"fill-rule:nonzero;fill:rgb(100%,0%,0%);fill-opacity:1;stroke-width:1;stroke-linecap:butt;stroke-linejoin:miter;stroke:rgb(0%,0%,0%);stroke-opacity:1;stroke-miterlimit:10;\" d=\"M 444.070312 218.695312 C 444.070312 224.21875 439.59375 228.695312 434.070312 228.695312 C 428.550781 228.695312 424.070312 224.21875 424.070312 218.695312 C 424.070312 213.175781 428.550781 208.695312 434.070312 208.695312 C 439.59375 208.695312 444.070312 213.175781 444.070312 218.695312 \"/>\n",
       "<path style=\"fill-rule:nonzero;fill:rgb(100%,0%,0%);fill-opacity:1;stroke-width:1;stroke-linecap:butt;stroke-linejoin:miter;stroke:rgb(0%,0%,0%);stroke-opacity:1;stroke-miterlimit:10;\" d=\"M 335.808594 326.621094 C 335.808594 332.144531 331.332031 336.621094 325.808594 336.621094 C 320.285156 336.621094 315.808594 332.144531 315.808594 326.621094 C 315.808594 321.097656 320.285156 316.621094 325.808594 316.621094 C 331.332031 316.621094 335.808594 321.097656 335.808594 326.621094 \"/>\n",
       "<path style=\"fill-rule:nonzero;fill:rgb(100%,0%,0%);fill-opacity:1;stroke-width:1;stroke-linecap:butt;stroke-linejoin:miter;stroke:rgb(0%,0%,0%);stroke-opacity:1;stroke-miterlimit:10;\" d=\"M 437.566406 390.550781 C 437.566406 396.074219 433.089844 400.550781 427.566406 400.550781 C 422.046875 400.550781 417.566406 396.074219 417.566406 390.550781 C 417.566406 385.03125 422.046875 380.550781 427.566406 380.550781 C 433.089844 380.550781 437.566406 385.03125 437.566406 390.550781 \"/>\n",
       "<path style=\"fill-rule:nonzero;fill:rgb(100%,0%,0%);fill-opacity:1;stroke-width:1;stroke-linecap:butt;stroke-linejoin:miter;stroke:rgb(0%,0%,0%);stroke-opacity:1;stroke-miterlimit:10;\" d=\"M 483.097656 350.703125 C 483.097656 356.226562 478.621094 360.703125 473.097656 360.703125 C 467.574219 360.703125 463.097656 356.226562 463.097656 350.703125 C 463.097656 345.183594 467.574219 340.703125 473.097656 340.703125 C 478.621094 340.703125 483.097656 345.183594 483.097656 350.703125 \"/>\n",
       "<path style=\"fill-rule:nonzero;fill:rgb(100%,0%,0%);fill-opacity:1;stroke-width:1;stroke-linecap:butt;stroke-linejoin:miter;stroke:rgb(0%,0%,0%);stroke-opacity:1;stroke-miterlimit:10;\" d=\"M 312.367188 201.707031 C 312.367188 207.230469 307.886719 211.707031 302.367188 211.707031 C 296.84375 211.707031 292.367188 207.230469 292.367188 201.707031 C 292.367188 196.183594 296.84375 191.707031 302.367188 191.707031 C 307.886719 191.707031 312.367188 196.183594 312.367188 201.707031 \"/>\n",
       "<path style=\"fill-rule:nonzero;fill:rgb(100%,0%,0%);fill-opacity:1;stroke-width:1;stroke-linecap:butt;stroke-linejoin:miter;stroke:rgb(0%,0%,0%);stroke-opacity:1;stroke-miterlimit:10;\" d=\"M 261.207031 299.886719 C 261.207031 305.410156 256.730469 309.886719 251.207031 309.886719 C 245.683594 309.886719 241.207031 305.410156 241.207031 299.886719 C 241.207031 294.363281 245.683594 289.886719 251.207031 289.886719 C 256.730469 289.886719 261.207031 294.363281 261.207031 299.886719 \"/>\n",
       "<path style=\"fill-rule:nonzero;fill:rgb(100%,0%,0%);fill-opacity:1;stroke-width:1;stroke-linecap:butt;stroke-linejoin:miter;stroke:rgb(0%,0%,0%);stroke-opacity:1;stroke-miterlimit:10;\" d=\"M 590 362.542969 C 590 368.066406 585.523438 372.542969 580 372.542969 C 574.476562 372.542969 570 368.066406 570 362.542969 C 570 357.023438 574.476562 352.542969 580 352.542969 C 585.523438 352.542969 590 357.023438 590 362.542969 \"/>\n",
       "<path style=\"fill-rule:nonzero;fill:rgb(100%,0%,0%);fill-opacity:1;stroke-width:1;stroke-linecap:butt;stroke-linejoin:miter;stroke:rgb(0%,0%,0%);stroke-opacity:1;stroke-miterlimit:10;\" d=\"M 500.140625 483.910156 C 500.140625 489.433594 495.664062 493.910156 490.140625 493.910156 C 484.617188 493.910156 480.140625 489.433594 480.140625 483.910156 C 480.140625 478.386719 484.617188 473.910156 490.140625 473.910156 C 495.664062 473.910156 500.140625 478.386719 500.140625 483.910156 \"/>\n",
       "<path style=\"fill-rule:nonzero;fill:rgb(100%,0%,0%);fill-opacity:1;stroke-width:1;stroke-linecap:butt;stroke-linejoin:miter;stroke:rgb(0%,0%,0%);stroke-opacity:1;stroke-miterlimit:10;\" d=\"M 372.796875 275.871094 C 372.796875 281.394531 368.320312 285.871094 362.796875 285.871094 C 357.273438 285.871094 352.796875 281.394531 352.796875 275.871094 C 352.796875 270.351562 357.273438 265.871094 362.796875 265.871094 C 368.320312 265.871094 372.796875 270.351562 372.796875 275.871094 \"/>\n",
       "<path style=\"fill-rule:nonzero;fill:rgb(100%,0%,0%);fill-opacity:1;stroke-width:1;stroke-linecap:butt;stroke-linejoin:miter;stroke:rgb(0%,0%,0%);stroke-opacity:1;stroke-miterlimit:10;\" d=\"M 180.042969 20 C 180.042969 25.523438 175.566406 30 170.042969 30 C 164.519531 30 160.042969 25.523438 160.042969 20 C 160.042969 14.476562 164.519531 10 170.042969 10 C 175.566406 10 180.042969 14.476562 180.042969 20 \"/>\n",
       "<path style=\"fill-rule:nonzero;fill:rgb(100%,0%,0%);fill-opacity:1;stroke-width:1;stroke-linecap:butt;stroke-linejoin:miter;stroke:rgb(0%,0%,0%);stroke-opacity:1;stroke-miterlimit:10;\" d=\"M 95.96875 104.34375 C 95.96875 109.867188 91.492188 114.34375 85.96875 114.34375 C 80.445312 114.34375 75.96875 109.867188 75.96875 104.34375 C 75.96875 98.820312 80.445312 94.34375 85.96875 94.34375 C 91.492188 94.34375 95.96875 98.820312 95.96875 104.34375 \"/>\n",
       "<path style=\"fill-rule:nonzero;fill:rgb(100%,0%,0%);fill-opacity:1;stroke-width:1;stroke-linecap:butt;stroke-linejoin:miter;stroke:rgb(0%,0%,0%);stroke-opacity:1;stroke-miterlimit:10;\" d=\"M 556.96875 216.6875 C 556.96875 222.210938 552.492188 226.6875 546.96875 226.6875 C 541.445312 226.6875 536.96875 222.210938 536.96875 216.6875 C 536.96875 211.164062 541.445312 206.6875 546.96875 206.6875 C 552.492188 206.6875 556.96875 211.164062 556.96875 216.6875 \"/>\n",
       "<path style=\"fill-rule:nonzero;fill:rgb(100%,0%,0%);fill-opacity:1;stroke-width:1;stroke-linecap:butt;stroke-linejoin:miter;stroke:rgb(0%,0%,0%);stroke-opacity:1;stroke-miterlimit:10;\" d=\"M 76.921875 278.472656 C 76.921875 283.996094 72.445312 288.472656 66.921875 288.472656 C 61.398438 288.472656 56.921875 283.996094 56.921875 278.472656 C 56.921875 272.953125 61.398438 268.472656 66.921875 268.472656 C 72.445312 268.472656 76.921875 272.953125 76.921875 278.472656 \"/>\n",
       "<path style=\"fill-rule:nonzero;fill:rgb(100%,0%,0%);fill-opacity:1;stroke-width:1;stroke-linecap:butt;stroke-linejoin:miter;stroke:rgb(0%,0%,0%);stroke-opacity:1;stroke-miterlimit:10;\" d=\"M 380.96875 139.238281 C 380.96875 144.761719 376.492188 149.238281 370.96875 149.238281 C 365.449219 149.238281 360.96875 144.761719 360.96875 139.238281 C 360.96875 133.714844 365.449219 129.238281 370.96875 129.238281 C 376.492188 129.238281 380.96875 133.714844 380.96875 139.238281 \"/>\n",
       "<path style=\"fill-rule:nonzero;fill:rgb(100%,0%,0%);fill-opacity:1;stroke-width:1;stroke-linecap:butt;stroke-linejoin:miter;stroke:rgb(0%,0%,0%);stroke-opacity:1;stroke-miterlimit:10;\" d=\"M 129.933594 45.59375 C 129.933594 51.117188 125.457031 55.59375 119.933594 55.59375 C 114.410156 55.59375 109.933594 51.117188 109.933594 45.59375 C 109.933594 40.070312 114.410156 35.59375 119.933594 35.59375 C 125.457031 35.59375 129.933594 40.070312 129.933594 45.59375 \"/>\n",
       "<path style=\"fill-rule:nonzero;fill:rgb(100%,0%,0%);fill-opacity:1;stroke-width:1;stroke-linecap:butt;stroke-linejoin:miter;stroke:rgb(0%,0%,0%);stroke-opacity:1;stroke-miterlimit:10;\" d=\"M 522.152344 129.269531 C 522.152344 134.792969 517.675781 139.269531 512.152344 139.269531 C 506.632812 139.269531 502.152344 134.792969 502.152344 129.269531 C 502.152344 123.746094 506.632812 119.269531 512.152344 119.269531 C 517.675781 119.269531 522.152344 123.746094 522.152344 129.269531 \"/>\n",
       "<path style=\"fill-rule:nonzero;fill:rgb(100%,0%,0%);fill-opacity:1;stroke-width:1;stroke-linecap:butt;stroke-linejoin:miter;stroke:rgb(0%,0%,0%);stroke-opacity:1;stroke-miterlimit:10;\" d=\"M 234.238281 24.527344 C 234.238281 30.046875 229.761719 34.527344 224.238281 34.527344 C 218.714844 34.527344 214.238281 30.046875 214.238281 24.527344 C 214.238281 19.003906 218.714844 14.527344 224.238281 14.527344 C 229.761719 14.527344 234.238281 19.003906 234.238281 24.527344 \"/>\n",
       "<path style=\"fill-rule:nonzero;fill:rgb(100%,0%,0%);fill-opacity:1;stroke-width:1;stroke-linecap:butt;stroke-linejoin:miter;stroke:rgb(0%,0%,0%);stroke-opacity:1;stroke-miterlimit:10;\" d=\"M 127.65625 354.820312 C 127.65625 360.34375 123.179688 364.820312 117.65625 364.820312 C 112.132812 364.820312 107.65625 360.34375 107.65625 354.820312 C 107.65625 349.296875 112.132812 344.820312 117.65625 344.820312 C 123.179688 344.820312 127.65625 349.296875 127.65625 354.820312 \"/>\n",
       "<path style=\"fill-rule:nonzero;fill:rgb(100%,0%,0%);fill-opacity:1;stroke-width:1;stroke-linecap:butt;stroke-linejoin:miter;stroke:rgb(0%,0%,0%);stroke-opacity:1;stroke-miterlimit:10;\" d=\"M 218.148438 580 C 218.148438 585.523438 213.671875 590 208.148438 590 C 202.625 590 198.148438 585.523438 198.148438 580 C 198.148438 574.476562 202.625 570 208.148438 570 C 213.671875 570 218.148438 574.476562 218.148438 580 \"/>\n",
       "<path style=\"fill-rule:nonzero;fill:rgb(100%,0%,0%);fill-opacity:1;stroke-width:1;stroke-linecap:butt;stroke-linejoin:miter;stroke:rgb(0%,0%,0%);stroke-opacity:1;stroke-miterlimit:10;\" d=\"M 148.746094 528.351562 C 148.746094 533.875 144.269531 538.351562 138.746094 538.351562 C 133.222656 538.351562 128.746094 533.875 128.746094 528.351562 C 128.746094 522.828125 133.222656 518.351562 138.746094 518.351562 C 144.269531 518.351562 148.746094 522.828125 148.746094 528.351562 \"/>\n",
       "<path style=\"fill-rule:nonzero;fill:rgb(100%,0%,0%);fill-opacity:1;stroke-width:1;stroke-linecap:butt;stroke-linejoin:miter;stroke:rgb(0%,0%,0%);stroke-opacity:1;stroke-miterlimit:10;\" d=\"M 30 176.347656 C 30 181.871094 25.523438 186.347656 20 186.347656 C 14.476562 186.347656 10 181.871094 10 176.347656 C 10 170.824219 14.476562 166.347656 20 166.347656 C 25.523438 166.347656 30 170.824219 30 176.347656 \"/>\n",
       "<path style=\"fill-rule:nonzero;fill:rgb(100%,0%,0%);fill-opacity:1;stroke-width:1;stroke-linecap:butt;stroke-linejoin:miter;stroke:rgb(0%,0%,0%);stroke-opacity:1;stroke-miterlimit:10;\" d=\"M 206.351562 438.078125 C 206.351562 443.601562 201.871094 448.078125 196.351562 448.078125 C 190.828125 448.078125 186.351562 443.601562 186.351562 438.078125 C 186.351562 432.558594 190.828125 428.078125 196.351562 428.078125 C 201.871094 428.078125 206.351562 432.558594 206.351562 438.078125 \"/>\n",
       "<path style=\"fill-rule:nonzero;fill:rgb(100%,0%,0%);fill-opacity:1;stroke-width:1;stroke-linecap:butt;stroke-linejoin:miter;stroke:rgb(0%,0%,0%);stroke-opacity:1;stroke-miterlimit:10;\" d=\"M 215.941406 362.84375 C 215.941406 368.367188 211.464844 372.84375 205.941406 372.84375 C 200.417969 372.84375 195.941406 368.367188 195.941406 362.84375 C 195.941406 357.324219 200.417969 352.84375 205.941406 352.84375 C 211.464844 352.84375 215.941406 357.324219 215.941406 362.84375 \"/>\n",
       "<path style=\"fill-rule:nonzero;fill:rgb(100%,0%,0%);fill-opacity:1;stroke-width:1;stroke-linecap:butt;stroke-linejoin:miter;stroke:rgb(0%,0%,0%);stroke-opacity:1;stroke-miterlimit:10;\" d=\"M 92.566406 219.050781 C 92.566406 224.574219 88.089844 229.050781 82.566406 229.050781 C 77.046875 229.050781 72.566406 224.574219 72.566406 219.050781 C 72.566406 213.53125 77.046875 209.050781 82.566406 209.050781 C 88.089844 209.050781 92.566406 213.53125 92.566406 219.050781 \"/>\n",
       "<path style=\"fill-rule:nonzero;fill:rgb(100%,0%,0%);fill-opacity:1;stroke-width:1;stroke-linecap:butt;stroke-linejoin:miter;stroke:rgb(0%,0%,0%);stroke-opacity:1;stroke-miterlimit:10;\" d=\"M 309.253906 109.972656 C 309.253906 115.496094 304.777344 119.972656 299.253906 119.972656 C 293.730469 119.972656 289.253906 115.496094 289.253906 109.972656 C 289.253906 104.449219 293.730469 99.972656 299.253906 99.972656 C 304.777344 99.972656 309.253906 104.449219 309.253906 109.972656 \"/>\n",
       "<path style=\"fill-rule:nonzero;fill:rgb(100%,0%,0%);fill-opacity:1;stroke-width:1;stroke-linecap:butt;stroke-linejoin:miter;stroke:rgb(0%,0%,0%);stroke-opacity:1;stroke-miterlimit:10;\" d=\"M 261.425781 399.371094 C 261.425781 404.894531 256.949219 409.371094 251.425781 409.371094 C 245.902344 409.371094 241.425781 404.894531 241.425781 399.371094 C 241.425781 393.847656 245.902344 389.371094 251.425781 389.371094 C 256.949219 389.371094 261.425781 393.847656 261.425781 399.371094 \"/>\n",
       "<path style=\"fill-rule:nonzero;fill:rgb(100%,0%,0%);fill-opacity:1;stroke-width:1;stroke-linecap:butt;stroke-linejoin:miter;stroke:rgb(0%,0%,0%);stroke-opacity:1;stroke-miterlimit:10;\" d=\"M 192.886719 181.722656 C 192.886719 187.246094 188.40625 191.722656 182.886719 191.722656 C 177.363281 191.722656 172.886719 187.246094 172.886719 181.722656 C 172.886719 176.199219 177.363281 171.722656 182.886719 171.722656 C 188.40625 171.722656 192.886719 176.199219 192.886719 181.722656 \"/>\n",
       "<path style=\"fill-rule:nonzero;fill:rgb(100%,0%,0%);fill-opacity:1;stroke-width:1;stroke-linecap:butt;stroke-linejoin:miter;stroke:rgb(0%,0%,0%);stroke-opacity:1;stroke-miterlimit:10;\" d=\"M 205.265625 214.980469 C 205.265625 220.503906 200.789062 224.980469 195.265625 224.980469 C 189.746094 224.980469 185.265625 220.503906 185.265625 214.980469 C 185.265625 209.460938 189.746094 204.980469 195.265625 204.980469 C 200.789062 204.980469 205.265625 209.460938 205.265625 214.980469 \"/>\n",
       "</g>\n",
       "</svg>\n"
      ],
      "text/plain": [
       "<igraph.drawing.Plot at 0x1a26f0f828>"
      ]
     },
     "execution_count": 29,
     "metadata": {},
     "output_type": "execute_result"
    }
   ],
   "source": [
    "H = G.clusters().giant()\n",
    "ig.plot(H, layout=H.layout_fruchterman_reingold())"
   ]
  },
  {
   "cell_type": "markdown",
   "metadata": {},
   "source": [
    "## Cycles"
   ]
  },
  {
   "cell_type": "markdown",
   "metadata": {},
   "source": [
    "If there are two paths going from one node to another node, we can join them together and make a *cycle*. We start again with a fresh graph."
   ]
  },
  {
   "cell_type": "code",
   "execution_count": 24,
   "metadata": {
    "ExecuteTime": {
     "end_time": "2019-06-25T21:28:58.332031Z",
     "start_time": "2019-06-25T21:28:58.324574Z"
    }
   },
   "outputs": [],
   "source": [
    "G = ig.Graph.Famous('Zachary')\n",
    "G['layout'] = G.layout_fruchterman_reingold()"
   ]
  },
  {
   "cell_type": "code",
   "execution_count": 25,
   "metadata": {
    "ExecuteTime": {
     "end_time": "2019-06-25T21:28:58.780831Z",
     "start_time": "2019-06-25T21:28:58.767969Z"
    }
   },
   "outputs": [
    {
     "data": {
      "image/svg+xml": [
       "<?xml version=\"1.0\" encoding=\"UTF-8\"?>\n",
       "<svg xmlns=\"http://www.w3.org/2000/svg\" xmlns:xlink=\"http://www.w3.org/1999/xlink\" width=\"600pt\" height=\"600pt\" viewBox=\"0 0 600 600\" version=\"1.1\">\n",
       "<g id=\"surface44\">\n",
       "<rect x=\"0\" y=\"0\" width=\"600\" height=\"600\" style=\"fill:rgb(100%,100%,100%);fill-opacity:1;stroke:none;\"/>\n",
       "<path style=\"fill:none;stroke-width:0.5;stroke-linecap:butt;stroke-linejoin:miter;stroke:rgb(74.509804%,74.509804%,74.509804%);stroke-opacity:1;stroke-miterlimit:10;\" d=\"M 221.085938 374.695312 L 260.867188 332.039062 \"/>\n",
       "<path style=\"fill:none;stroke-width:0.5;stroke-linecap:butt;stroke-linejoin:miter;stroke:rgb(74.509804%,74.509804%,74.509804%);stroke-opacity:1;stroke-miterlimit:10;\" d=\"M 221.085938 374.695312 L 368.019531 370.164062 \"/>\n",
       "<path style=\"fill:none;stroke-width:0.5;stroke-linecap:butt;stroke-linejoin:miter;stroke:rgb(74.509804%,74.509804%,74.509804%);stroke-opacity:1;stroke-miterlimit:10;\" d=\"M 221.085938 374.695312 L 297.65625 476.515625 \"/>\n",
       "<path style=\"fill:none;stroke-width:0.5;stroke-linecap:butt;stroke-linejoin:miter;stroke:rgb(74.509804%,74.509804%,74.509804%);stroke-opacity:1;stroke-miterlimit:10;\" d=\"M 221.085938 374.695312 L 75.875 415.714844 \"/>\n",
       "<path style=\"fill:none;stroke-width:0.5;stroke-linecap:butt;stroke-linejoin:miter;stroke:rgb(74.509804%,74.509804%,74.509804%);stroke-opacity:1;stroke-miterlimit:10;\" d=\"M 221.085938 374.695312 L 94.472656 241.8125 \"/>\n",
       "<path style=\"fill:none;stroke-width:0.5;stroke-linecap:butt;stroke-linejoin:miter;stroke:rgb(74.509804%,74.509804%,74.509804%);stroke-opacity:1;stroke-miterlimit:10;\" d=\"M 221.085938 374.695312 L 62.777344 297.972656 \"/>\n",
       "<path style=\"fill:none;stroke-width:0.5;stroke-linecap:butt;stroke-linejoin:miter;stroke:rgb(74.509804%,74.509804%,74.509804%);stroke-opacity:1;stroke-miterlimit:10;\" d=\"M 221.085938 374.695312 L 262.082031 458.457031 \"/>\n",
       "<path style=\"fill:none;stroke-width:0.5;stroke-linecap:butt;stroke-linejoin:miter;stroke:rgb(74.509804%,74.509804%,74.509804%);stroke-opacity:1;stroke-miterlimit:10;\" d=\"M 221.085938 374.695312 L 350.632812 251.960938 \"/>\n",
       "<path style=\"fill:none;stroke-width:0.5;stroke-linecap:butt;stroke-linejoin:miter;stroke:rgb(74.509804%,74.509804%,74.509804%);stroke-opacity:1;stroke-miterlimit:10;\" d=\"M 221.085938 374.695312 L 99.964844 350.988281 \"/>\n",
       "<path style=\"fill:none;stroke-width:0.5;stroke-linecap:butt;stroke-linejoin:miter;stroke:rgb(74.509804%,74.509804%,74.509804%);stroke-opacity:1;stroke-miterlimit:10;\" d=\"M 221.085938 374.695312 L 145.425781 564.195312 \"/>\n",
       "<path style=\"fill:none;stroke-width:0.5;stroke-linecap:butt;stroke-linejoin:miter;stroke:rgb(74.509804%,74.509804%,74.509804%);stroke-opacity:1;stroke-miterlimit:10;\" d=\"M 221.085938 374.695312 L 243.695312 580 \"/>\n",
       "<path style=\"fill:none;stroke-width:0.5;stroke-linecap:butt;stroke-linejoin:miter;stroke:rgb(74.509804%,74.509804%,74.509804%);stroke-opacity:1;stroke-miterlimit:10;\" d=\"M 221.085938 374.695312 L 322.859375 352.128906 \"/>\n",
       "<path style=\"fill:none;stroke-width:0.5;stroke-linecap:butt;stroke-linejoin:miter;stroke:rgb(74.509804%,74.509804%,74.509804%);stroke-opacity:1;stroke-miterlimit:10;\" d=\"M 221.085938 374.695312 L 178.90625 234.371094 \"/>\n",
       "<path style=\"fill:none;stroke-width:0.5;stroke-linecap:butt;stroke-linejoin:miter;stroke:rgb(74.509804%,74.509804%,74.509804%);stroke-opacity:1;stroke-miterlimit:10;\" d=\"M 221.085938 374.695312 L 282.757812 220.152344 \"/>\n",
       "<path style=\"fill:none;stroke-width:0.5;stroke-linecap:butt;stroke-linejoin:miter;stroke:rgb(74.509804%,74.509804%,74.509804%);stroke-opacity:1;stroke-miterlimit:10;\" d=\"M 221.085938 374.695312 L 169.078125 452.429688 \"/>\n",
       "<path style=\"fill:none;stroke-width:0.5;stroke-linecap:butt;stroke-linejoin:miter;stroke:rgb(74.509804%,74.509804%,74.509804%);stroke-opacity:1;stroke-miterlimit:10;\" d=\"M 221.085938 374.695312 L 434.171875 373.011719 \"/>\n",
       "<path style=\"fill:none;stroke-width:0.5;stroke-linecap:butt;stroke-linejoin:miter;stroke:rgb(74.509804%,74.509804%,74.509804%);stroke-opacity:1;stroke-miterlimit:10;\" d=\"M 260.867188 332.039062 L 368.019531 370.164062 \"/>\n",
       "<path style=\"fill:none;stroke-width:0.5;stroke-linecap:butt;stroke-linejoin:miter;stroke:rgb(74.509804%,74.509804%,74.509804%);stroke-opacity:1;stroke-miterlimit:10;\" d=\"M 260.867188 332.039062 L 297.65625 476.515625 \"/>\n",
       "<path style=\"fill:none;stroke-width:0.5;stroke-linecap:butt;stroke-linejoin:miter;stroke:rgb(74.509804%,74.509804%,74.509804%);stroke-opacity:1;stroke-miterlimit:10;\" d=\"M 260.867188 332.039062 L 262.082031 458.457031 \"/>\n",
       "<path style=\"fill:none;stroke-width:0.5;stroke-linecap:butt;stroke-linejoin:miter;stroke:rgb(74.509804%,74.509804%,74.509804%);stroke-opacity:1;stroke-miterlimit:10;\" d=\"M 260.867188 332.039062 L 322.859375 352.128906 \"/>\n",
       "<path style=\"fill:none;stroke-width:0.5;stroke-linecap:butt;stroke-linejoin:miter;stroke:rgb(74.509804%,74.509804%,74.509804%);stroke-opacity:1;stroke-miterlimit:10;\" d=\"M 260.867188 332.039062 L 178.90625 234.371094 \"/>\n",
       "<path style=\"fill:none;stroke-width:0.5;stroke-linecap:butt;stroke-linejoin:miter;stroke:rgb(74.509804%,74.509804%,74.509804%);stroke-opacity:1;stroke-miterlimit:10;\" d=\"M 260.867188 332.039062 L 282.757812 220.152344 \"/>\n",
       "<path style=\"fill:none;stroke-width:0.5;stroke-linecap:butt;stroke-linejoin:miter;stroke:rgb(74.509804%,74.509804%,74.509804%);stroke-opacity:1;stroke-miterlimit:10;\" d=\"M 260.867188 332.039062 L 169.078125 452.429688 \"/>\n",
       "<path style=\"fill:none;stroke-width:0.5;stroke-linecap:butt;stroke-linejoin:miter;stroke:rgb(74.509804%,74.509804%,74.509804%);stroke-opacity:1;stroke-miterlimit:10;\" d=\"M 260.867188 332.039062 L 346.40625 169.027344 \"/>\n",
       "<path style=\"fill:none;stroke-width:0.5;stroke-linecap:butt;stroke-linejoin:miter;stroke:rgb(74.509804%,74.509804%,74.509804%);stroke-opacity:1;stroke-miterlimit:10;\" d=\"M 368.019531 370.164062 L 297.65625 476.515625 \"/>\n",
       "<path style=\"fill:none;stroke-width:0.5;stroke-linecap:butt;stroke-linejoin:miter;stroke:rgb(74.509804%,74.509804%,74.509804%);stroke-opacity:1;stroke-miterlimit:10;\" d=\"M 368.019531 370.164062 L 262.082031 458.457031 \"/>\n",
       "<path style=\"fill:none;stroke-width:0.5;stroke-linecap:butt;stroke-linejoin:miter;stroke:rgb(74.509804%,74.509804%,74.509804%);stroke-opacity:1;stroke-miterlimit:10;\" d=\"M 368.019531 370.164062 L 509.847656 386.65625 \"/>\n",
       "<path style=\"fill:none;stroke-width:0.5;stroke-linecap:butt;stroke-linejoin:miter;stroke:rgb(74.509804%,74.509804%,74.509804%);stroke-opacity:1;stroke-miterlimit:10;\" d=\"M 368.019531 370.164062 L 469.820312 324.519531 \"/>\n",
       "<path style=\"fill:none;stroke-width:0.5;stroke-linecap:butt;stroke-linejoin:miter;stroke:rgb(74.509804%,74.509804%,74.509804%);stroke-opacity:1;stroke-miterlimit:10;\" d=\"M 368.019531 370.164062 L 455.253906 174.800781 \"/>\n",
       "<path style=\"fill:none;stroke-width:0.5;stroke-linecap:butt;stroke-linejoin:miter;stroke:rgb(74.509804%,74.509804%,74.509804%);stroke-opacity:1;stroke-miterlimit:10;\" d=\"M 368.019531 370.164062 L 449.386719 441.878906 \"/>\n",
       "<path style=\"fill:none;stroke-width:0.5;stroke-linecap:butt;stroke-linejoin:miter;stroke:rgb(74.509804%,74.509804%,74.509804%);stroke-opacity:1;stroke-miterlimit:10;\" d=\"M 368.019531 370.164062 L 350.632812 251.960938 \"/>\n",
       "<path style=\"fill:none;stroke-width:0.5;stroke-linecap:butt;stroke-linejoin:miter;stroke:rgb(74.509804%,74.509804%,74.509804%);stroke-opacity:1;stroke-miterlimit:10;\" d=\"M 368.019531 370.164062 L 322.859375 352.128906 \"/>\n",
       "<path style=\"fill:none;stroke-width:0.5;stroke-linecap:butt;stroke-linejoin:miter;stroke:rgb(74.509804%,74.509804%,74.509804%);stroke-opacity:1;stroke-miterlimit:10;\" d=\"M 297.65625 476.515625 L 262.082031 458.457031 \"/>\n",
       "<path style=\"fill:none;stroke-width:0.5;stroke-linecap:butt;stroke-linejoin:miter;stroke:rgb(74.509804%,74.509804%,74.509804%);stroke-opacity:1;stroke-miterlimit:10;\" d=\"M 297.65625 476.515625 L 243.695312 580 \"/>\n",
       "<path style=\"fill:none;stroke-width:0.5;stroke-linecap:butt;stroke-linejoin:miter;stroke:rgb(74.509804%,74.509804%,74.509804%);stroke-opacity:1;stroke-miterlimit:10;\" d=\"M 297.65625 476.515625 L 322.859375 352.128906 \"/>\n",
       "<path style=\"fill:none;stroke-width:0.5;stroke-linecap:butt;stroke-linejoin:miter;stroke:rgb(74.509804%,74.509804%,74.509804%);stroke-opacity:1;stroke-miterlimit:10;\" d=\"M 75.875 415.714844 L 62.777344 297.972656 \"/>\n",
       "<path style=\"fill:none;stroke-width:0.5;stroke-linecap:butt;stroke-linejoin:miter;stroke:rgb(74.509804%,74.509804%,74.509804%);stroke-opacity:1;stroke-miterlimit:10;\" d=\"M 75.875 415.714844 L 99.964844 350.988281 \"/>\n",
       "<path style=\"fill:none;stroke-width:0.5;stroke-linecap:butt;stroke-linejoin:miter;stroke:rgb(74.509804%,74.509804%,74.509804%);stroke-opacity:1;stroke-miterlimit:10;\" d=\"M 94.472656 241.8125 L 62.777344 297.972656 \"/>\n",
       "<path style=\"fill:none;stroke-width:0.5;stroke-linecap:butt;stroke-linejoin:miter;stroke:rgb(74.509804%,74.509804%,74.509804%);stroke-opacity:1;stroke-miterlimit:10;\" d=\"M 94.472656 241.8125 L 99.964844 350.988281 \"/>\n",
       "<path style=\"fill:none;stroke-width:0.5;stroke-linecap:butt;stroke-linejoin:miter;stroke:rgb(74.509804%,74.509804%,74.509804%);stroke-opacity:1;stroke-miterlimit:10;\" d=\"M 94.472656 241.8125 L 20 170.296875 \"/>\n",
       "<path style=\"fill:none;stroke-width:0.5;stroke-linecap:butt;stroke-linejoin:miter;stroke:rgb(74.509804%,74.509804%,74.509804%);stroke-opacity:1;stroke-miterlimit:10;\" d=\"M 62.777344 297.972656 L 20 170.296875 \"/>\n",
       "<path style=\"fill:none;stroke-width:0.5;stroke-linecap:butt;stroke-linejoin:miter;stroke:rgb(74.509804%,74.509804%,74.509804%);stroke-opacity:1;stroke-miterlimit:10;\" d=\"M 350.632812 251.960938 L 346.40625 169.027344 \"/>\n",
       "<path style=\"fill:none;stroke-width:0.5;stroke-linecap:butt;stroke-linejoin:miter;stroke:rgb(74.509804%,74.509804%,74.509804%);stroke-opacity:1;stroke-miterlimit:10;\" d=\"M 350.632812 251.960938 L 455.253906 174.800781 \"/>\n",
       "<path style=\"fill:none;stroke-width:0.5;stroke-linecap:butt;stroke-linejoin:miter;stroke:rgb(74.509804%,74.509804%,74.509804%);stroke-opacity:1;stroke-miterlimit:10;\" d=\"M 350.632812 251.960938 L 449.457031 212.871094 \"/>\n",
       "<path style=\"fill:none;stroke-width:0.5;stroke-linecap:butt;stroke-linejoin:miter;stroke:rgb(74.509804%,74.509804%,74.509804%);stroke-opacity:1;stroke-miterlimit:10;\" d=\"M 449.386719 441.878906 L 449.457031 212.871094 \"/>\n",
       "<path style=\"fill:none;stroke-width:0.5;stroke-linecap:butt;stroke-linejoin:miter;stroke:rgb(74.509804%,74.509804%,74.509804%);stroke-opacity:1;stroke-miterlimit:10;\" d=\"M 322.859375 352.128906 L 449.457031 212.871094 \"/>\n",
       "<path style=\"fill:none;stroke-width:0.5;stroke-linecap:butt;stroke-linejoin:miter;stroke:rgb(74.509804%,74.509804%,74.509804%);stroke-opacity:1;stroke-miterlimit:10;\" d=\"M 474.171875 40.453125 L 455.253906 174.800781 \"/>\n",
       "<path style=\"fill:none;stroke-width:0.5;stroke-linecap:butt;stroke-linejoin:miter;stroke:rgb(74.509804%,74.509804%,74.509804%);stroke-opacity:1;stroke-miterlimit:10;\" d=\"M 474.171875 40.453125 L 449.457031 212.871094 \"/>\n",
       "<path style=\"fill:none;stroke-width:0.5;stroke-linecap:butt;stroke-linejoin:miter;stroke:rgb(74.509804%,74.509804%,74.509804%);stroke-opacity:1;stroke-miterlimit:10;\" d=\"M 544.511719 92.824219 L 455.253906 174.800781 \"/>\n",
       "<path style=\"fill:none;stroke-width:0.5;stroke-linecap:butt;stroke-linejoin:miter;stroke:rgb(74.509804%,74.509804%,74.509804%);stroke-opacity:1;stroke-miterlimit:10;\" d=\"M 544.511719 92.824219 L 449.457031 212.871094 \"/>\n",
       "<path style=\"fill:none;stroke-width:0.5;stroke-linecap:butt;stroke-linejoin:miter;stroke:rgb(74.509804%,74.509804%,74.509804%);stroke-opacity:1;stroke-miterlimit:10;\" d=\"M 427.582031 20 L 455.253906 174.800781 \"/>\n",
       "<path style=\"fill:none;stroke-width:0.5;stroke-linecap:butt;stroke-linejoin:miter;stroke:rgb(74.509804%,74.509804%,74.509804%);stroke-opacity:1;stroke-miterlimit:10;\" d=\"M 427.582031 20 L 449.457031 212.871094 \"/>\n",
       "<path style=\"fill:none;stroke-width:0.5;stroke-linecap:butt;stroke-linejoin:miter;stroke:rgb(74.509804%,74.509804%,74.509804%);stroke-opacity:1;stroke-miterlimit:10;\" d=\"M 282.757812 220.152344 L 449.457031 212.871094 \"/>\n",
       "<path style=\"fill:none;stroke-width:0.5;stroke-linecap:butt;stroke-linejoin:miter;stroke:rgb(74.509804%,74.509804%,74.509804%);stroke-opacity:1;stroke-miterlimit:10;\" d=\"M 383.960938 52.757812 L 455.253906 174.800781 \"/>\n",
       "<path style=\"fill:none;stroke-width:0.5;stroke-linecap:butt;stroke-linejoin:miter;stroke:rgb(74.509804%,74.509804%,74.509804%);stroke-opacity:1;stroke-miterlimit:10;\" d=\"M 383.960938 52.757812 L 449.457031 212.871094 \"/>\n",
       "<path style=\"fill:none;stroke-width:0.5;stroke-linecap:butt;stroke-linejoin:miter;stroke:rgb(74.509804%,74.509804%,74.509804%);stroke-opacity:1;stroke-miterlimit:10;\" d=\"M 580 195.355469 L 455.253906 174.800781 \"/>\n",
       "<path style=\"fill:none;stroke-width:0.5;stroke-linecap:butt;stroke-linejoin:miter;stroke:rgb(74.509804%,74.509804%,74.509804%);stroke-opacity:1;stroke-miterlimit:10;\" d=\"M 580 195.355469 L 449.457031 212.871094 \"/>\n",
       "<path style=\"fill:none;stroke-width:2;stroke-linecap:butt;stroke-linejoin:miter;stroke:rgb(100%,0%,0%);stroke-opacity:1;stroke-miterlimit:10;\" d=\"M 553.273438 284.808594 L 574.003906 439.148438 \"/>\n",
       "<path style=\"fill:none;stroke-width:2;stroke-linecap:butt;stroke-linejoin:miter;stroke:rgb(100%,0%,0%);stroke-opacity:1;stroke-miterlimit:10;\" d=\"M 553.273438 284.808594 L 509.847656 386.65625 \"/>\n",
       "<path style=\"fill:none;stroke-width:0.5;stroke-linecap:butt;stroke-linejoin:miter;stroke:rgb(74.509804%,74.509804%,74.509804%);stroke-opacity:1;stroke-miterlimit:10;\" d=\"M 553.273438 284.808594 L 455.253906 174.800781 \"/>\n",
       "<path style=\"fill:none;stroke-width:0.5;stroke-linecap:butt;stroke-linejoin:miter;stroke:rgb(74.509804%,74.509804%,74.509804%);stroke-opacity:1;stroke-miterlimit:10;\" d=\"M 553.273438 284.808594 L 449.457031 212.871094 \"/>\n",
       "<path style=\"fill:none;stroke-width:0.5;stroke-linecap:butt;stroke-linejoin:miter;stroke:rgb(74.509804%,74.509804%,74.509804%);stroke-opacity:1;stroke-miterlimit:10;\" d=\"M 553.273438 284.808594 L 544.550781 154.023438 \"/>\n",
       "<path style=\"fill:none;stroke-width:2;stroke-linecap:butt;stroke-linejoin:miter;stroke:rgb(100%,0%,0%);stroke-opacity:1;stroke-miterlimit:10;\" d=\"M 531.066406 516.8125 L 574.003906 439.148438 \"/>\n",
       "<path style=\"fill:none;stroke-width:2;stroke-linecap:butt;stroke-linejoin:miter;stroke:rgb(100%,0%,0%);stroke-opacity:1;stroke-miterlimit:10;\" d=\"M 531.066406 516.8125 L 509.847656 386.65625 \"/>\n",
       "<path style=\"fill:none;stroke-width:0.5;stroke-linecap:butt;stroke-linejoin:miter;stroke:rgb(74.509804%,74.509804%,74.509804%);stroke-opacity:1;stroke-miterlimit:10;\" d=\"M 531.066406 516.8125 L 434.171875 373.011719 \"/>\n",
       "<path style=\"fill:none;stroke-width:0.5;stroke-linecap:butt;stroke-linejoin:miter;stroke:rgb(74.509804%,74.509804%,74.509804%);stroke-opacity:1;stroke-miterlimit:10;\" d=\"M 574.003906 439.148438 L 434.171875 373.011719 \"/>\n",
       "<path style=\"fill:none;stroke-width:0.5;stroke-linecap:butt;stroke-linejoin:miter;stroke:rgb(74.509804%,74.509804%,74.509804%);stroke-opacity:1;stroke-miterlimit:10;\" d=\"M 544.292969 30.21875 L 544.550781 154.023438 \"/>\n",
       "<path style=\"fill:none;stroke-width:0.5;stroke-linecap:butt;stroke-linejoin:miter;stroke:rgb(74.509804%,74.509804%,74.509804%);stroke-opacity:1;stroke-miterlimit:10;\" d=\"M 544.292969 30.21875 L 449.457031 212.871094 \"/>\n",
       "<path style=\"fill:none;stroke-width:0.5;stroke-linecap:butt;stroke-linejoin:miter;stroke:rgb(74.509804%,74.509804%,74.509804%);stroke-opacity:1;stroke-miterlimit:10;\" d=\"M 509.847656 386.65625 L 449.457031 212.871094 \"/>\n",
       "<path style=\"fill:none;stroke-width:0.5;stroke-linecap:butt;stroke-linejoin:miter;stroke:rgb(74.509804%,74.509804%,74.509804%);stroke-opacity:1;stroke-miterlimit:10;\" d=\"M 469.820312 324.519531 L 434.171875 373.011719 \"/>\n",
       "<path style=\"fill:none;stroke-width:0.5;stroke-linecap:butt;stroke-linejoin:miter;stroke:rgb(74.509804%,74.509804%,74.509804%);stroke-opacity:1;stroke-miterlimit:10;\" d=\"M 469.820312 324.519531 L 449.457031 212.871094 \"/>\n",
       "<path style=\"fill:none;stroke-width:0.5;stroke-linecap:butt;stroke-linejoin:miter;stroke:rgb(74.509804%,74.509804%,74.509804%);stroke-opacity:1;stroke-miterlimit:10;\" d=\"M 544.550781 154.023438 L 455.253906 174.800781 \"/>\n",
       "<path style=\"fill:none;stroke-width:0.5;stroke-linecap:butt;stroke-linejoin:miter;stroke:rgb(74.509804%,74.509804%,74.509804%);stroke-opacity:1;stroke-miterlimit:10;\" d=\"M 544.550781 154.023438 L 449.457031 212.871094 \"/>\n",
       "<path style=\"fill:none;stroke-width:0.5;stroke-linecap:butt;stroke-linejoin:miter;stroke:rgb(74.509804%,74.509804%,74.509804%);stroke-opacity:1;stroke-miterlimit:10;\" d=\"M 346.40625 169.027344 L 455.253906 174.800781 \"/>\n",
       "<path style=\"fill:none;stroke-width:0.5;stroke-linecap:butt;stroke-linejoin:miter;stroke:rgb(74.509804%,74.509804%,74.509804%);stroke-opacity:1;stroke-miterlimit:10;\" d=\"M 346.40625 169.027344 L 449.457031 212.871094 \"/>\n",
       "<path style=\"fill:none;stroke-width:0.5;stroke-linecap:butt;stroke-linejoin:miter;stroke:rgb(74.509804%,74.509804%,74.509804%);stroke-opacity:1;stroke-miterlimit:10;\" d=\"M 434.171875 373.011719 L 455.253906 174.800781 \"/>\n",
       "<path style=\"fill:none;stroke-width:0.5;stroke-linecap:butt;stroke-linejoin:miter;stroke:rgb(74.509804%,74.509804%,74.509804%);stroke-opacity:1;stroke-miterlimit:10;\" d=\"M 434.171875 373.011719 L 449.457031 212.871094 \"/>\n",
       "<path style=\"fill:none;stroke-width:0.5;stroke-linecap:butt;stroke-linejoin:miter;stroke:rgb(74.509804%,74.509804%,74.509804%);stroke-opacity:1;stroke-miterlimit:10;\" d=\"M 455.253906 174.800781 L 449.457031 212.871094 \"/>\n",
       "<path style=\"fill-rule:nonzero;fill:rgb(100%,0%,0%);fill-opacity:1;stroke-width:1;stroke-linecap:butt;stroke-linejoin:miter;stroke:rgb(0%,0%,0%);stroke-opacity:1;stroke-miterlimit:10;\" d=\"M 231.085938 374.695312 C 231.085938 380.214844 226.609375 384.695312 221.085938 384.695312 C 215.5625 384.695312 211.085938 380.214844 211.085938 374.695312 C 211.085938 369.171875 215.5625 364.695312 221.085938 364.695312 C 226.609375 364.695312 231.085938 369.171875 231.085938 374.695312 \"/>\n",
       "<path style=\"fill-rule:nonzero;fill:rgb(100%,0%,0%);fill-opacity:1;stroke-width:1;stroke-linecap:butt;stroke-linejoin:miter;stroke:rgb(0%,0%,0%);stroke-opacity:1;stroke-miterlimit:10;\" d=\"M 270.867188 332.039062 C 270.867188 337.5625 266.390625 342.039062 260.867188 342.039062 C 255.34375 342.039062 250.867188 337.5625 250.867188 332.039062 C 250.867188 326.519531 255.34375 322.039062 260.867188 322.039062 C 266.390625 322.039062 270.867188 326.519531 270.867188 332.039062 \"/>\n",
       "<path style=\"fill-rule:nonzero;fill:rgb(100%,0%,0%);fill-opacity:1;stroke-width:1;stroke-linecap:butt;stroke-linejoin:miter;stroke:rgb(0%,0%,0%);stroke-opacity:1;stroke-miterlimit:10;\" d=\"M 378.019531 370.164062 C 378.019531 375.6875 373.542969 380.164062 368.019531 380.164062 C 362.5 380.164062 358.019531 375.6875 358.019531 370.164062 C 358.019531 364.640625 362.5 360.164062 368.019531 360.164062 C 373.542969 360.164062 378.019531 364.640625 378.019531 370.164062 \"/>\n",
       "<path style=\"fill-rule:nonzero;fill:rgb(100%,0%,0%);fill-opacity:1;stroke-width:1;stroke-linecap:butt;stroke-linejoin:miter;stroke:rgb(0%,0%,0%);stroke-opacity:1;stroke-miterlimit:10;\" d=\"M 307.65625 476.515625 C 307.65625 482.039062 303.179688 486.515625 297.65625 486.515625 C 292.132812 486.515625 287.65625 482.039062 287.65625 476.515625 C 287.65625 470.992188 292.132812 466.515625 297.65625 466.515625 C 303.179688 466.515625 307.65625 470.992188 307.65625 476.515625 \"/>\n",
       "<path style=\"fill-rule:nonzero;fill:rgb(100%,0%,0%);fill-opacity:1;stroke-width:1;stroke-linecap:butt;stroke-linejoin:miter;stroke:rgb(0%,0%,0%);stroke-opacity:1;stroke-miterlimit:10;\" d=\"M 85.875 415.714844 C 85.875 421.238281 81.398438 425.714844 75.875 425.714844 C 70.351562 425.714844 65.875 421.238281 65.875 415.714844 C 65.875 410.195312 70.351562 405.714844 75.875 405.714844 C 81.398438 405.714844 85.875 410.195312 85.875 415.714844 \"/>\n",
       "<path style=\"fill-rule:nonzero;fill:rgb(100%,0%,0%);fill-opacity:1;stroke-width:1;stroke-linecap:butt;stroke-linejoin:miter;stroke:rgb(0%,0%,0%);stroke-opacity:1;stroke-miterlimit:10;\" d=\"M 104.472656 241.8125 C 104.472656 247.332031 99.996094 251.8125 94.472656 251.8125 C 88.953125 251.8125 84.472656 247.332031 84.472656 241.8125 C 84.472656 236.289062 88.953125 231.8125 94.472656 231.8125 C 99.996094 231.8125 104.472656 236.289062 104.472656 241.8125 \"/>\n",
       "<path style=\"fill-rule:nonzero;fill:rgb(100%,0%,0%);fill-opacity:1;stroke-width:1;stroke-linecap:butt;stroke-linejoin:miter;stroke:rgb(0%,0%,0%);stroke-opacity:1;stroke-miterlimit:10;\" d=\"M 72.777344 297.972656 C 72.777344 303.496094 68.300781 307.972656 62.777344 307.972656 C 57.253906 307.972656 52.777344 303.496094 52.777344 297.972656 C 52.777344 292.449219 57.253906 287.972656 62.777344 287.972656 C 68.300781 287.972656 72.777344 292.449219 72.777344 297.972656 \"/>\n",
       "<path style=\"fill-rule:nonzero;fill:rgb(100%,0%,0%);fill-opacity:1;stroke-width:1;stroke-linecap:butt;stroke-linejoin:miter;stroke:rgb(0%,0%,0%);stroke-opacity:1;stroke-miterlimit:10;\" d=\"M 272.082031 458.457031 C 272.082031 463.980469 267.605469 468.457031 262.082031 468.457031 C 256.558594 468.457031 252.082031 463.980469 252.082031 458.457031 C 252.082031 452.933594 256.558594 448.457031 262.082031 448.457031 C 267.605469 448.457031 272.082031 452.933594 272.082031 458.457031 \"/>\n",
       "<path style=\"fill-rule:nonzero;fill:rgb(100%,0%,0%);fill-opacity:1;stroke-width:1;stroke-linecap:butt;stroke-linejoin:miter;stroke:rgb(0%,0%,0%);stroke-opacity:1;stroke-miterlimit:10;\" d=\"M 360.632812 251.960938 C 360.632812 257.484375 356.15625 261.960938 350.632812 261.960938 C 345.109375 261.960938 340.632812 257.484375 340.632812 251.960938 C 340.632812 246.441406 345.109375 241.960938 350.632812 241.960938 C 356.15625 241.960938 360.632812 246.441406 360.632812 251.960938 \"/>\n",
       "<path style=\"fill-rule:nonzero;fill:rgb(100%,0%,0%);fill-opacity:1;stroke-width:1;stroke-linecap:butt;stroke-linejoin:miter;stroke:rgb(0%,0%,0%);stroke-opacity:1;stroke-miterlimit:10;\" d=\"M 459.386719 441.878906 C 459.386719 447.402344 454.910156 451.878906 449.386719 451.878906 C 443.867188 451.878906 439.386719 447.402344 439.386719 441.878906 C 439.386719 436.355469 443.867188 431.878906 449.386719 431.878906 C 454.910156 431.878906 459.386719 436.355469 459.386719 441.878906 \"/>\n",
       "<path style=\"fill-rule:nonzero;fill:rgb(100%,0%,0%);fill-opacity:1;stroke-width:1;stroke-linecap:butt;stroke-linejoin:miter;stroke:rgb(0%,0%,0%);stroke-opacity:1;stroke-miterlimit:10;\" d=\"M 109.964844 350.988281 C 109.964844 356.511719 105.488281 360.988281 99.964844 360.988281 C 94.441406 360.988281 89.964844 356.511719 89.964844 350.988281 C 89.964844 345.464844 94.441406 340.988281 99.964844 340.988281 C 105.488281 340.988281 109.964844 345.464844 109.964844 350.988281 \"/>\n",
       "<path style=\"fill-rule:nonzero;fill:rgb(100%,0%,0%);fill-opacity:1;stroke-width:1;stroke-linecap:butt;stroke-linejoin:miter;stroke:rgb(0%,0%,0%);stroke-opacity:1;stroke-miterlimit:10;\" d=\"M 155.425781 564.195312 C 155.425781 569.71875 150.945312 574.195312 145.425781 574.195312 C 139.902344 574.195312 135.425781 569.71875 135.425781 564.195312 C 135.425781 558.671875 139.902344 554.195312 145.425781 554.195312 C 150.945312 554.195312 155.425781 558.671875 155.425781 564.195312 \"/>\n",
       "<path style=\"fill-rule:nonzero;fill:rgb(100%,0%,0%);fill-opacity:1;stroke-width:1;stroke-linecap:butt;stroke-linejoin:miter;stroke:rgb(0%,0%,0%);stroke-opacity:1;stroke-miterlimit:10;\" d=\"M 253.695312 580 C 253.695312 585.523438 249.21875 590 243.695312 590 C 238.171875 590 233.695312 585.523438 233.695312 580 C 233.695312 574.476562 238.171875 570 243.695312 570 C 249.21875 570 253.695312 574.476562 253.695312 580 \"/>\n",
       "<path style=\"fill-rule:nonzero;fill:rgb(100%,0%,0%);fill-opacity:1;stroke-width:1;stroke-linecap:butt;stroke-linejoin:miter;stroke:rgb(0%,0%,0%);stroke-opacity:1;stroke-miterlimit:10;\" d=\"M 332.859375 352.128906 C 332.859375 357.652344 328.382812 362.128906 322.859375 362.128906 C 317.335938 362.128906 312.859375 357.652344 312.859375 352.128906 C 312.859375 346.605469 317.335938 342.128906 322.859375 342.128906 C 328.382812 342.128906 332.859375 346.605469 332.859375 352.128906 \"/>\n",
       "<path style=\"fill-rule:nonzero;fill:rgb(100%,0%,0%);fill-opacity:1;stroke-width:1;stroke-linecap:butt;stroke-linejoin:miter;stroke:rgb(0%,0%,0%);stroke-opacity:1;stroke-miterlimit:10;\" d=\"M 484.171875 40.453125 C 484.171875 45.976562 479.695312 50.453125 474.171875 50.453125 C 468.648438 50.453125 464.171875 45.976562 464.171875 40.453125 C 464.171875 34.929688 468.648438 30.453125 474.171875 30.453125 C 479.695312 30.453125 484.171875 34.929688 484.171875 40.453125 \"/>\n",
       "<path style=\"fill-rule:nonzero;fill:rgb(100%,0%,0%);fill-opacity:1;stroke-width:1;stroke-linecap:butt;stroke-linejoin:miter;stroke:rgb(0%,0%,0%);stroke-opacity:1;stroke-miterlimit:10;\" d=\"M 554.511719 92.824219 C 554.511719 98.347656 550.03125 102.824219 544.511719 102.824219 C 538.988281 102.824219 534.511719 98.347656 534.511719 92.824219 C 534.511719 87.300781 538.988281 82.824219 544.511719 82.824219 C 550.03125 82.824219 554.511719 87.300781 554.511719 92.824219 \"/>\n",
       "<path style=\"fill-rule:nonzero;fill:rgb(100%,0%,0%);fill-opacity:1;stroke-width:1;stroke-linecap:butt;stroke-linejoin:miter;stroke:rgb(0%,0%,0%);stroke-opacity:1;stroke-miterlimit:10;\" d=\"M 30 170.296875 C 30 175.820312 25.523438 180.296875 20 180.296875 C 14.476562 180.296875 10 175.820312 10 170.296875 C 10 164.777344 14.476562 160.296875 20 160.296875 C 25.523438 160.296875 30 164.777344 30 170.296875 \"/>\n",
       "<path style=\"fill-rule:nonzero;fill:rgb(100%,0%,0%);fill-opacity:1;stroke-width:1;stroke-linecap:butt;stroke-linejoin:miter;stroke:rgb(0%,0%,0%);stroke-opacity:1;stroke-miterlimit:10;\" d=\"M 188.90625 234.371094 C 188.90625 239.894531 184.429688 244.371094 178.90625 244.371094 C 173.382812 244.371094 168.90625 239.894531 168.90625 234.371094 C 168.90625 228.847656 173.382812 224.371094 178.90625 224.371094 C 184.429688 224.371094 188.90625 228.847656 188.90625 234.371094 \"/>\n",
       "<path style=\"fill-rule:nonzero;fill:rgb(100%,0%,0%);fill-opacity:1;stroke-width:1;stroke-linecap:butt;stroke-linejoin:miter;stroke:rgb(0%,0%,0%);stroke-opacity:1;stroke-miterlimit:10;\" d=\"M 437.582031 20 C 437.582031 25.523438 433.105469 30 427.582031 30 C 422.058594 30 417.582031 25.523438 417.582031 20 C 417.582031 14.476562 422.058594 10 427.582031 10 C 433.105469 10 437.582031 14.476562 437.582031 20 \"/>\n",
       "<path style=\"fill-rule:nonzero;fill:rgb(100%,0%,0%);fill-opacity:1;stroke-width:1;stroke-linecap:butt;stroke-linejoin:miter;stroke:rgb(0%,0%,0%);stroke-opacity:1;stroke-miterlimit:10;\" d=\"M 292.757812 220.152344 C 292.757812 225.675781 288.28125 230.152344 282.757812 230.152344 C 277.238281 230.152344 272.757812 225.675781 272.757812 220.152344 C 272.757812 214.628906 277.238281 210.152344 282.757812 210.152344 C 288.28125 210.152344 292.757812 214.628906 292.757812 220.152344 \"/>\n",
       "<path style=\"fill-rule:nonzero;fill:rgb(100%,0%,0%);fill-opacity:1;stroke-width:1;stroke-linecap:butt;stroke-linejoin:miter;stroke:rgb(0%,0%,0%);stroke-opacity:1;stroke-miterlimit:10;\" d=\"M 393.960938 52.757812 C 393.960938 58.28125 389.484375 62.757812 383.960938 62.757812 C 378.4375 62.757812 373.960938 58.28125 373.960938 52.757812 C 373.960938 47.234375 378.4375 42.757812 383.960938 42.757812 C 389.484375 42.757812 393.960938 47.234375 393.960938 52.757812 \"/>\n",
       "<path style=\"fill-rule:nonzero;fill:rgb(100%,0%,0%);fill-opacity:1;stroke-width:1;stroke-linecap:butt;stroke-linejoin:miter;stroke:rgb(0%,0%,0%);stroke-opacity:1;stroke-miterlimit:10;\" d=\"M 179.078125 452.429688 C 179.078125 457.953125 174.601562 462.429688 169.078125 462.429688 C 163.554688 462.429688 159.078125 457.953125 159.078125 452.429688 C 159.078125 446.90625 163.554688 442.429688 169.078125 442.429688 C 174.601562 442.429688 179.078125 446.90625 179.078125 452.429688 \"/>\n",
       "<path style=\"fill-rule:nonzero;fill:rgb(100%,0%,0%);fill-opacity:1;stroke-width:1;stroke-linecap:butt;stroke-linejoin:miter;stroke:rgb(0%,0%,0%);stroke-opacity:1;stroke-miterlimit:10;\" d=\"M 590 195.355469 C 590 200.878906 585.523438 205.355469 580 205.355469 C 574.476562 205.355469 570 200.878906 570 195.355469 C 570 189.832031 574.476562 185.355469 580 185.355469 C 585.523438 185.355469 590 189.832031 590 195.355469 \"/>\n",
       "<path style=\"fill-rule:nonzero;fill:rgb(100%,0%,0%);fill-opacity:1;stroke-width:1;stroke-linecap:butt;stroke-linejoin:miter;stroke:rgb(0%,0%,0%);stroke-opacity:1;stroke-miterlimit:10;\" d=\"M 563.273438 284.808594 C 563.273438 290.332031 558.796875 294.808594 553.273438 294.808594 C 547.75 294.808594 543.273438 290.332031 543.273438 284.808594 C 543.273438 279.289062 547.75 274.808594 553.273438 274.808594 C 558.796875 274.808594 563.273438 279.289062 563.273438 284.808594 \"/>\n",
       "<path style=\"fill-rule:nonzero;fill:rgb(100%,0%,0%);fill-opacity:1;stroke-width:1;stroke-linecap:butt;stroke-linejoin:miter;stroke:rgb(0%,0%,0%);stroke-opacity:1;stroke-miterlimit:10;\" d=\"M 541.066406 516.8125 C 541.066406 522.335938 536.589844 526.8125 531.066406 526.8125 C 525.542969 526.8125 521.066406 522.335938 521.066406 516.8125 C 521.066406 511.289062 525.542969 506.8125 531.066406 506.8125 C 536.589844 506.8125 541.066406 511.289062 541.066406 516.8125 \"/>\n",
       "<path style=\"fill-rule:nonzero;fill:rgb(100%,0%,0%);fill-opacity:1;stroke-width:1;stroke-linecap:butt;stroke-linejoin:miter;stroke:rgb(0%,0%,0%);stroke-opacity:1;stroke-miterlimit:10;\" d=\"M 584.003906 439.148438 C 584.003906 444.667969 579.527344 449.148438 574.003906 449.148438 C 568.480469 449.148438 564.003906 444.667969 564.003906 439.148438 C 564.003906 433.625 568.480469 429.148438 574.003906 429.148438 C 579.527344 429.148438 584.003906 433.625 584.003906 439.148438 \"/>\n",
       "<path style=\"fill-rule:nonzero;fill:rgb(100%,0%,0%);fill-opacity:1;stroke-width:1;stroke-linecap:butt;stroke-linejoin:miter;stroke:rgb(0%,0%,0%);stroke-opacity:1;stroke-miterlimit:10;\" d=\"M 554.292969 30.21875 C 554.292969 35.742188 549.816406 40.21875 544.292969 40.21875 C 538.769531 40.21875 534.292969 35.742188 534.292969 30.21875 C 534.292969 24.695312 538.769531 20.21875 544.292969 20.21875 C 549.816406 20.21875 554.292969 24.695312 554.292969 30.21875 \"/>\n",
       "<path style=\"fill-rule:nonzero;fill:rgb(100%,0%,0%);fill-opacity:1;stroke-width:1;stroke-linecap:butt;stroke-linejoin:miter;stroke:rgb(0%,0%,0%);stroke-opacity:1;stroke-miterlimit:10;\" d=\"M 519.847656 386.65625 C 519.847656 392.179688 515.371094 396.65625 509.847656 396.65625 C 504.328125 396.65625 499.847656 392.179688 499.847656 386.65625 C 499.847656 381.132812 504.328125 376.65625 509.847656 376.65625 C 515.371094 376.65625 519.847656 381.132812 519.847656 386.65625 \"/>\n",
       "<path style=\"fill-rule:nonzero;fill:rgb(100%,0%,0%);fill-opacity:1;stroke-width:1;stroke-linecap:butt;stroke-linejoin:miter;stroke:rgb(0%,0%,0%);stroke-opacity:1;stroke-miterlimit:10;\" d=\"M 479.820312 324.519531 C 479.820312 330.042969 475.34375 334.519531 469.820312 334.519531 C 464.296875 334.519531 459.820312 330.042969 459.820312 324.519531 C 459.820312 319 464.296875 314.519531 469.820312 314.519531 C 475.34375 314.519531 479.820312 319 479.820312 324.519531 \"/>\n",
       "<path style=\"fill-rule:nonzero;fill:rgb(100%,0%,0%);fill-opacity:1;stroke-width:1;stroke-linecap:butt;stroke-linejoin:miter;stroke:rgb(0%,0%,0%);stroke-opacity:1;stroke-miterlimit:10;\" d=\"M 554.550781 154.023438 C 554.550781 159.546875 550.070312 164.023438 544.550781 164.023438 C 539.027344 164.023438 534.550781 159.546875 534.550781 154.023438 C 534.550781 148.503906 539.027344 144.023438 544.550781 144.023438 C 550.070312 144.023438 554.550781 148.503906 554.550781 154.023438 \"/>\n",
       "<path style=\"fill-rule:nonzero;fill:rgb(100%,0%,0%);fill-opacity:1;stroke-width:1;stroke-linecap:butt;stroke-linejoin:miter;stroke:rgb(0%,0%,0%);stroke-opacity:1;stroke-miterlimit:10;\" d=\"M 356.40625 169.027344 C 356.40625 174.550781 351.925781 179.027344 346.40625 179.027344 C 340.882812 179.027344 336.40625 174.550781 336.40625 169.027344 C 336.40625 163.503906 340.882812 159.027344 346.40625 159.027344 C 351.925781 159.027344 356.40625 163.503906 356.40625 169.027344 \"/>\n",
       "<path style=\"fill-rule:nonzero;fill:rgb(100%,0%,0%);fill-opacity:1;stroke-width:1;stroke-linecap:butt;stroke-linejoin:miter;stroke:rgb(0%,0%,0%);stroke-opacity:1;stroke-miterlimit:10;\" d=\"M 444.171875 373.011719 C 444.171875 378.535156 439.695312 383.011719 434.171875 383.011719 C 428.652344 383.011719 424.171875 378.535156 424.171875 373.011719 C 424.171875 367.488281 428.652344 363.011719 434.171875 363.011719 C 439.695312 363.011719 444.171875 367.488281 444.171875 373.011719 \"/>\n",
       "<path style=\"fill-rule:nonzero;fill:rgb(100%,0%,0%);fill-opacity:1;stroke-width:1;stroke-linecap:butt;stroke-linejoin:miter;stroke:rgb(0%,0%,0%);stroke-opacity:1;stroke-miterlimit:10;\" d=\"M 465.253906 174.800781 C 465.253906 180.320312 460.777344 184.800781 455.253906 184.800781 C 449.730469 184.800781 445.253906 180.320312 445.253906 174.800781 C 445.253906 169.277344 449.730469 164.800781 455.253906 164.800781 C 460.777344 164.800781 465.253906 169.277344 465.253906 174.800781 \"/>\n",
       "<path style=\"fill-rule:nonzero;fill:rgb(100%,0%,0%);fill-opacity:1;stroke-width:1;stroke-linecap:butt;stroke-linejoin:miter;stroke:rgb(0%,0%,0%);stroke-opacity:1;stroke-miterlimit:10;\" d=\"M 459.457031 212.871094 C 459.457031 218.394531 454.980469 222.871094 449.457031 222.871094 C 443.933594 222.871094 439.457031 218.394531 439.457031 212.871094 C 439.457031 207.347656 443.933594 202.871094 449.457031 202.871094 C 454.980469 202.871094 459.457031 207.347656 459.457031 212.871094 \"/>\n",
       "</g>\n",
       "</svg>\n"
      ],
      "text/plain": [
       "<igraph.drawing.Plot at 0x1099305c0>"
      ]
     },
     "execution_count": 25,
     "metadata": {},
     "output_type": "execute_result"
    }
   ],
   "source": [
    "cycle = G.es[G.get_eids(path=(24, 25, 23, 27, 24))]\n",
    "\n",
    "G.es['color'] = 'gray'\n",
    "G.es['width'] = 0.5\n",
    "cycle['color'] = 'red'\n",
    "cycle['width'] = 2\n",
    "\n",
    "ig.plot(G)"
   ]
  },
  {
   "cell_type": "code",
   "execution_count": 26,
   "metadata": {
    "ExecuteTime": {
     "end_time": "2019-06-25T21:28:59.522481Z",
     "start_time": "2019-06-25T21:28:59.514611Z"
    }
   },
   "outputs": [
    {
     "data": {
      "text/plain": [
       "[(24, 25), (23, 25), (23, 27), (24, 27)]"
      ]
     },
     "execution_count": 26,
     "metadata": {},
     "output_type": "execute_result"
    }
   ],
   "source": [
    "[(e.source, e.target) for e in cycle]"
   ]
  },
  {
   "cell_type": "markdown",
   "metadata": {},
   "source": [
    "This is a cycle of length 4, but longer cycles do exist in the graph. The smallest cycle of length 3 are of particular interest to the social sciences. A small group of three people is commonly called a *triad* in the social sciences. It is of particular interest because if two people have a friend in common, they are more likely to become friends themselves. This is known as *triadic closure*.\n",
    "\n",
    "If there are many closed triads, i.e. many cycles of length 3, it suggests that many people have many friends in common. In particular, the network is then said to be *clustered*. The *clustering coefficient* for a node is defined as the proportion of neighbors that are connected amongst each other. A clustering coefficient of 1 then means that all the neighbors of a node are connected to each other, while a clustering coefficient of 0 means that no neigbhours are connected amongst each other. The overall clustering is then simply the average over the whole network."
   ]
  },
  {
   "cell_type": "code",
   "execution_count": 27,
   "metadata": {
    "ExecuteTime": {
     "end_time": "2019-06-25T21:29:01.271440Z",
     "start_time": "2019-06-25T21:29:01.261345Z"
    }
   },
   "outputs": [
    {
     "data": {
      "image/svg+xml": [
       "<?xml version=\"1.0\" encoding=\"UTF-8\"?>\n",
       "<svg xmlns=\"http://www.w3.org/2000/svg\" xmlns:xlink=\"http://www.w3.org/1999/xlink\" width=\"600pt\" height=\"600pt\" viewBox=\"0 0 600 600\" version=\"1.1\">\n",
       "<g id=\"surface50\">\n",
       "<rect x=\"0\" y=\"0\" width=\"600\" height=\"600\" style=\"fill:rgb(100%,100%,100%);fill-opacity:1;stroke:none;\"/>\n",
       "<path style=\"fill:none;stroke-width:0.5;stroke-linecap:butt;stroke-linejoin:miter;stroke:rgb(74.509804%,74.509804%,74.509804%);stroke-opacity:1;stroke-miterlimit:10;\" d=\"M 221.085938 374.695312 L 260.867188 332.039062 \"/>\n",
       "<path style=\"fill:none;stroke-width:0.5;stroke-linecap:butt;stroke-linejoin:miter;stroke:rgb(74.509804%,74.509804%,74.509804%);stroke-opacity:1;stroke-miterlimit:10;\" d=\"M 221.085938 374.695312 L 368.019531 370.164062 \"/>\n",
       "<path style=\"fill:none;stroke-width:0.5;stroke-linecap:butt;stroke-linejoin:miter;stroke:rgb(74.509804%,74.509804%,74.509804%);stroke-opacity:1;stroke-miterlimit:10;\" d=\"M 221.085938 374.695312 L 297.65625 476.515625 \"/>\n",
       "<path style=\"fill:none;stroke-width:0.5;stroke-linecap:butt;stroke-linejoin:miter;stroke:rgb(74.509804%,74.509804%,74.509804%);stroke-opacity:1;stroke-miterlimit:10;\" d=\"M 221.085938 374.695312 L 75.875 415.714844 \"/>\n",
       "<path style=\"fill:none;stroke-width:0.5;stroke-linecap:butt;stroke-linejoin:miter;stroke:rgb(74.509804%,74.509804%,74.509804%);stroke-opacity:1;stroke-miterlimit:10;\" d=\"M 221.085938 374.695312 L 94.472656 241.8125 \"/>\n",
       "<path style=\"fill:none;stroke-width:0.5;stroke-linecap:butt;stroke-linejoin:miter;stroke:rgb(74.509804%,74.509804%,74.509804%);stroke-opacity:1;stroke-miterlimit:10;\" d=\"M 221.085938 374.695312 L 62.777344 297.972656 \"/>\n",
       "<path style=\"fill:none;stroke-width:0.5;stroke-linecap:butt;stroke-linejoin:miter;stroke:rgb(74.509804%,74.509804%,74.509804%);stroke-opacity:1;stroke-miterlimit:10;\" d=\"M 221.085938 374.695312 L 262.082031 458.457031 \"/>\n",
       "<path style=\"fill:none;stroke-width:0.5;stroke-linecap:butt;stroke-linejoin:miter;stroke:rgb(74.509804%,74.509804%,74.509804%);stroke-opacity:1;stroke-miterlimit:10;\" d=\"M 221.085938 374.695312 L 350.632812 251.960938 \"/>\n",
       "<path style=\"fill:none;stroke-width:0.5;stroke-linecap:butt;stroke-linejoin:miter;stroke:rgb(74.509804%,74.509804%,74.509804%);stroke-opacity:1;stroke-miterlimit:10;\" d=\"M 221.085938 374.695312 L 99.964844 350.988281 \"/>\n",
       "<path style=\"fill:none;stroke-width:0.5;stroke-linecap:butt;stroke-linejoin:miter;stroke:rgb(74.509804%,74.509804%,74.509804%);stroke-opacity:1;stroke-miterlimit:10;\" d=\"M 221.085938 374.695312 L 145.425781 564.195312 \"/>\n",
       "<path style=\"fill:none;stroke-width:0.5;stroke-linecap:butt;stroke-linejoin:miter;stroke:rgb(74.509804%,74.509804%,74.509804%);stroke-opacity:1;stroke-miterlimit:10;\" d=\"M 221.085938 374.695312 L 243.695312 580 \"/>\n",
       "<path style=\"fill:none;stroke-width:0.5;stroke-linecap:butt;stroke-linejoin:miter;stroke:rgb(74.509804%,74.509804%,74.509804%);stroke-opacity:1;stroke-miterlimit:10;\" d=\"M 221.085938 374.695312 L 322.859375 352.128906 \"/>\n",
       "<path style=\"fill:none;stroke-width:0.5;stroke-linecap:butt;stroke-linejoin:miter;stroke:rgb(74.509804%,74.509804%,74.509804%);stroke-opacity:1;stroke-miterlimit:10;\" d=\"M 221.085938 374.695312 L 178.90625 234.371094 \"/>\n",
       "<path style=\"fill:none;stroke-width:0.5;stroke-linecap:butt;stroke-linejoin:miter;stroke:rgb(74.509804%,74.509804%,74.509804%);stroke-opacity:1;stroke-miterlimit:10;\" d=\"M 221.085938 374.695312 L 282.757812 220.152344 \"/>\n",
       "<path style=\"fill:none;stroke-width:0.5;stroke-linecap:butt;stroke-linejoin:miter;stroke:rgb(74.509804%,74.509804%,74.509804%);stroke-opacity:1;stroke-miterlimit:10;\" d=\"M 221.085938 374.695312 L 169.078125 452.429688 \"/>\n",
       "<path style=\"fill:none;stroke-width:0.5;stroke-linecap:butt;stroke-linejoin:miter;stroke:rgb(74.509804%,74.509804%,74.509804%);stroke-opacity:1;stroke-miterlimit:10;\" d=\"M 221.085938 374.695312 L 434.171875 373.011719 \"/>\n",
       "<path style=\"fill:none;stroke-width:0.5;stroke-linecap:butt;stroke-linejoin:miter;stroke:rgb(74.509804%,74.509804%,74.509804%);stroke-opacity:1;stroke-miterlimit:10;\" d=\"M 260.867188 332.039062 L 368.019531 370.164062 \"/>\n",
       "<path style=\"fill:none;stroke-width:0.5;stroke-linecap:butt;stroke-linejoin:miter;stroke:rgb(74.509804%,74.509804%,74.509804%);stroke-opacity:1;stroke-miterlimit:10;\" d=\"M 260.867188 332.039062 L 297.65625 476.515625 \"/>\n",
       "<path style=\"fill:none;stroke-width:0.5;stroke-linecap:butt;stroke-linejoin:miter;stroke:rgb(74.509804%,74.509804%,74.509804%);stroke-opacity:1;stroke-miterlimit:10;\" d=\"M 260.867188 332.039062 L 262.082031 458.457031 \"/>\n",
       "<path style=\"fill:none;stroke-width:0.5;stroke-linecap:butt;stroke-linejoin:miter;stroke:rgb(74.509804%,74.509804%,74.509804%);stroke-opacity:1;stroke-miterlimit:10;\" d=\"M 260.867188 332.039062 L 322.859375 352.128906 \"/>\n",
       "<path style=\"fill:none;stroke-width:0.5;stroke-linecap:butt;stroke-linejoin:miter;stroke:rgb(74.509804%,74.509804%,74.509804%);stroke-opacity:1;stroke-miterlimit:10;\" d=\"M 260.867188 332.039062 L 178.90625 234.371094 \"/>\n",
       "<path style=\"fill:none;stroke-width:0.5;stroke-linecap:butt;stroke-linejoin:miter;stroke:rgb(74.509804%,74.509804%,74.509804%);stroke-opacity:1;stroke-miterlimit:10;\" d=\"M 260.867188 332.039062 L 282.757812 220.152344 \"/>\n",
       "<path style=\"fill:none;stroke-width:0.5;stroke-linecap:butt;stroke-linejoin:miter;stroke:rgb(74.509804%,74.509804%,74.509804%);stroke-opacity:1;stroke-miterlimit:10;\" d=\"M 260.867188 332.039062 L 169.078125 452.429688 \"/>\n",
       "<path style=\"fill:none;stroke-width:0.5;stroke-linecap:butt;stroke-linejoin:miter;stroke:rgb(74.509804%,74.509804%,74.509804%);stroke-opacity:1;stroke-miterlimit:10;\" d=\"M 260.867188 332.039062 L 346.40625 169.027344 \"/>\n",
       "<path style=\"fill:none;stroke-width:0.5;stroke-linecap:butt;stroke-linejoin:miter;stroke:rgb(74.509804%,74.509804%,74.509804%);stroke-opacity:1;stroke-miterlimit:10;\" d=\"M 368.019531 370.164062 L 297.65625 476.515625 \"/>\n",
       "<path style=\"fill:none;stroke-width:0.5;stroke-linecap:butt;stroke-linejoin:miter;stroke:rgb(74.509804%,74.509804%,74.509804%);stroke-opacity:1;stroke-miterlimit:10;\" d=\"M 368.019531 370.164062 L 262.082031 458.457031 \"/>\n",
       "<path style=\"fill:none;stroke-width:0.5;stroke-linecap:butt;stroke-linejoin:miter;stroke:rgb(74.509804%,74.509804%,74.509804%);stroke-opacity:1;stroke-miterlimit:10;\" d=\"M 368.019531 370.164062 L 509.847656 386.65625 \"/>\n",
       "<path style=\"fill:none;stroke-width:0.5;stroke-linecap:butt;stroke-linejoin:miter;stroke:rgb(74.509804%,74.509804%,74.509804%);stroke-opacity:1;stroke-miterlimit:10;\" d=\"M 368.019531 370.164062 L 469.820312 324.519531 \"/>\n",
       "<path style=\"fill:none;stroke-width:0.5;stroke-linecap:butt;stroke-linejoin:miter;stroke:rgb(74.509804%,74.509804%,74.509804%);stroke-opacity:1;stroke-miterlimit:10;\" d=\"M 368.019531 370.164062 L 455.253906 174.800781 \"/>\n",
       "<path style=\"fill:none;stroke-width:0.5;stroke-linecap:butt;stroke-linejoin:miter;stroke:rgb(74.509804%,74.509804%,74.509804%);stroke-opacity:1;stroke-miterlimit:10;\" d=\"M 368.019531 370.164062 L 449.386719 441.878906 \"/>\n",
       "<path style=\"fill:none;stroke-width:0.5;stroke-linecap:butt;stroke-linejoin:miter;stroke:rgb(74.509804%,74.509804%,74.509804%);stroke-opacity:1;stroke-miterlimit:10;\" d=\"M 368.019531 370.164062 L 350.632812 251.960938 \"/>\n",
       "<path style=\"fill:none;stroke-width:0.5;stroke-linecap:butt;stroke-linejoin:miter;stroke:rgb(74.509804%,74.509804%,74.509804%);stroke-opacity:1;stroke-miterlimit:10;\" d=\"M 368.019531 370.164062 L 322.859375 352.128906 \"/>\n",
       "<path style=\"fill:none;stroke-width:0.5;stroke-linecap:butt;stroke-linejoin:miter;stroke:rgb(74.509804%,74.509804%,74.509804%);stroke-opacity:1;stroke-miterlimit:10;\" d=\"M 297.65625 476.515625 L 262.082031 458.457031 \"/>\n",
       "<path style=\"fill:none;stroke-width:0.5;stroke-linecap:butt;stroke-linejoin:miter;stroke:rgb(74.509804%,74.509804%,74.509804%);stroke-opacity:1;stroke-miterlimit:10;\" d=\"M 297.65625 476.515625 L 243.695312 580 \"/>\n",
       "<path style=\"fill:none;stroke-width:0.5;stroke-linecap:butt;stroke-linejoin:miter;stroke:rgb(74.509804%,74.509804%,74.509804%);stroke-opacity:1;stroke-miterlimit:10;\" d=\"M 297.65625 476.515625 L 322.859375 352.128906 \"/>\n",
       "<path style=\"fill:none;stroke-width:0.5;stroke-linecap:butt;stroke-linejoin:miter;stroke:rgb(74.509804%,74.509804%,74.509804%);stroke-opacity:1;stroke-miterlimit:10;\" d=\"M 75.875 415.714844 L 62.777344 297.972656 \"/>\n",
       "<path style=\"fill:none;stroke-width:0.5;stroke-linecap:butt;stroke-linejoin:miter;stroke:rgb(74.509804%,74.509804%,74.509804%);stroke-opacity:1;stroke-miterlimit:10;\" d=\"M 75.875 415.714844 L 99.964844 350.988281 \"/>\n",
       "<path style=\"fill:none;stroke-width:0.5;stroke-linecap:butt;stroke-linejoin:miter;stroke:rgb(74.509804%,74.509804%,74.509804%);stroke-opacity:1;stroke-miterlimit:10;\" d=\"M 94.472656 241.8125 L 62.777344 297.972656 \"/>\n",
       "<path style=\"fill:none;stroke-width:0.5;stroke-linecap:butt;stroke-linejoin:miter;stroke:rgb(74.509804%,74.509804%,74.509804%);stroke-opacity:1;stroke-miterlimit:10;\" d=\"M 94.472656 241.8125 L 99.964844 350.988281 \"/>\n",
       "<path style=\"fill:none;stroke-width:0.5;stroke-linecap:butt;stroke-linejoin:miter;stroke:rgb(74.509804%,74.509804%,74.509804%);stroke-opacity:1;stroke-miterlimit:10;\" d=\"M 94.472656 241.8125 L 20 170.296875 \"/>\n",
       "<path style=\"fill:none;stroke-width:0.5;stroke-linecap:butt;stroke-linejoin:miter;stroke:rgb(74.509804%,74.509804%,74.509804%);stroke-opacity:1;stroke-miterlimit:10;\" d=\"M 62.777344 297.972656 L 20 170.296875 \"/>\n",
       "<path style=\"fill:none;stroke-width:0.5;stroke-linecap:butt;stroke-linejoin:miter;stroke:rgb(74.509804%,74.509804%,74.509804%);stroke-opacity:1;stroke-miterlimit:10;\" d=\"M 350.632812 251.960938 L 346.40625 169.027344 \"/>\n",
       "<path style=\"fill:none;stroke-width:0.5;stroke-linecap:butt;stroke-linejoin:miter;stroke:rgb(74.509804%,74.509804%,74.509804%);stroke-opacity:1;stroke-miterlimit:10;\" d=\"M 350.632812 251.960938 L 455.253906 174.800781 \"/>\n",
       "<path style=\"fill:none;stroke-width:0.5;stroke-linecap:butt;stroke-linejoin:miter;stroke:rgb(74.509804%,74.509804%,74.509804%);stroke-opacity:1;stroke-miterlimit:10;\" d=\"M 350.632812 251.960938 L 449.457031 212.871094 \"/>\n",
       "<path style=\"fill:none;stroke-width:0.5;stroke-linecap:butt;stroke-linejoin:miter;stroke:rgb(74.509804%,74.509804%,74.509804%);stroke-opacity:1;stroke-miterlimit:10;\" d=\"M 449.386719 441.878906 L 449.457031 212.871094 \"/>\n",
       "<path style=\"fill:none;stroke-width:0.5;stroke-linecap:butt;stroke-linejoin:miter;stroke:rgb(74.509804%,74.509804%,74.509804%);stroke-opacity:1;stroke-miterlimit:10;\" d=\"M 322.859375 352.128906 L 449.457031 212.871094 \"/>\n",
       "<path style=\"fill:none;stroke-width:0.5;stroke-linecap:butt;stroke-linejoin:miter;stroke:rgb(74.509804%,74.509804%,74.509804%);stroke-opacity:1;stroke-miterlimit:10;\" d=\"M 474.171875 40.453125 L 455.253906 174.800781 \"/>\n",
       "<path style=\"fill:none;stroke-width:0.5;stroke-linecap:butt;stroke-linejoin:miter;stroke:rgb(74.509804%,74.509804%,74.509804%);stroke-opacity:1;stroke-miterlimit:10;\" d=\"M 474.171875 40.453125 L 449.457031 212.871094 \"/>\n",
       "<path style=\"fill:none;stroke-width:0.5;stroke-linecap:butt;stroke-linejoin:miter;stroke:rgb(74.509804%,74.509804%,74.509804%);stroke-opacity:1;stroke-miterlimit:10;\" d=\"M 544.511719 92.824219 L 455.253906 174.800781 \"/>\n",
       "<path style=\"fill:none;stroke-width:0.5;stroke-linecap:butt;stroke-linejoin:miter;stroke:rgb(74.509804%,74.509804%,74.509804%);stroke-opacity:1;stroke-miterlimit:10;\" d=\"M 544.511719 92.824219 L 449.457031 212.871094 \"/>\n",
       "<path style=\"fill:none;stroke-width:0.5;stroke-linecap:butt;stroke-linejoin:miter;stroke:rgb(74.509804%,74.509804%,74.509804%);stroke-opacity:1;stroke-miterlimit:10;\" d=\"M 427.582031 20 L 455.253906 174.800781 \"/>\n",
       "<path style=\"fill:none;stroke-width:0.5;stroke-linecap:butt;stroke-linejoin:miter;stroke:rgb(74.509804%,74.509804%,74.509804%);stroke-opacity:1;stroke-miterlimit:10;\" d=\"M 427.582031 20 L 449.457031 212.871094 \"/>\n",
       "<path style=\"fill:none;stroke-width:0.5;stroke-linecap:butt;stroke-linejoin:miter;stroke:rgb(74.509804%,74.509804%,74.509804%);stroke-opacity:1;stroke-miterlimit:10;\" d=\"M 282.757812 220.152344 L 449.457031 212.871094 \"/>\n",
       "<path style=\"fill:none;stroke-width:0.5;stroke-linecap:butt;stroke-linejoin:miter;stroke:rgb(74.509804%,74.509804%,74.509804%);stroke-opacity:1;stroke-miterlimit:10;\" d=\"M 383.960938 52.757812 L 455.253906 174.800781 \"/>\n",
       "<path style=\"fill:none;stroke-width:0.5;stroke-linecap:butt;stroke-linejoin:miter;stroke:rgb(74.509804%,74.509804%,74.509804%);stroke-opacity:1;stroke-miterlimit:10;\" d=\"M 383.960938 52.757812 L 449.457031 212.871094 \"/>\n",
       "<path style=\"fill:none;stroke-width:0.5;stroke-linecap:butt;stroke-linejoin:miter;stroke:rgb(74.509804%,74.509804%,74.509804%);stroke-opacity:1;stroke-miterlimit:10;\" d=\"M 580 195.355469 L 455.253906 174.800781 \"/>\n",
       "<path style=\"fill:none;stroke-width:0.5;stroke-linecap:butt;stroke-linejoin:miter;stroke:rgb(74.509804%,74.509804%,74.509804%);stroke-opacity:1;stroke-miterlimit:10;\" d=\"M 580 195.355469 L 449.457031 212.871094 \"/>\n",
       "<path style=\"fill:none;stroke-width:2;stroke-linecap:butt;stroke-linejoin:miter;stroke:rgb(100%,0%,0%);stroke-opacity:1;stroke-miterlimit:10;\" d=\"M 553.273438 284.808594 L 574.003906 439.148438 \"/>\n",
       "<path style=\"fill:none;stroke-width:2;stroke-linecap:butt;stroke-linejoin:miter;stroke:rgb(100%,0%,0%);stroke-opacity:1;stroke-miterlimit:10;\" d=\"M 553.273438 284.808594 L 509.847656 386.65625 \"/>\n",
       "<path style=\"fill:none;stroke-width:0.5;stroke-linecap:butt;stroke-linejoin:miter;stroke:rgb(74.509804%,74.509804%,74.509804%);stroke-opacity:1;stroke-miterlimit:10;\" d=\"M 553.273438 284.808594 L 455.253906 174.800781 \"/>\n",
       "<path style=\"fill:none;stroke-width:0.5;stroke-linecap:butt;stroke-linejoin:miter;stroke:rgb(74.509804%,74.509804%,74.509804%);stroke-opacity:1;stroke-miterlimit:10;\" d=\"M 553.273438 284.808594 L 449.457031 212.871094 \"/>\n",
       "<path style=\"fill:none;stroke-width:0.5;stroke-linecap:butt;stroke-linejoin:miter;stroke:rgb(74.509804%,74.509804%,74.509804%);stroke-opacity:1;stroke-miterlimit:10;\" d=\"M 553.273438 284.808594 L 544.550781 154.023438 \"/>\n",
       "<path style=\"fill:none;stroke-width:2;stroke-linecap:butt;stroke-linejoin:miter;stroke:rgb(100%,0%,0%);stroke-opacity:1;stroke-miterlimit:10;\" d=\"M 531.066406 516.8125 L 574.003906 439.148438 \"/>\n",
       "<path style=\"fill:none;stroke-width:2;stroke-linecap:butt;stroke-linejoin:miter;stroke:rgb(100%,0%,0%);stroke-opacity:1;stroke-miterlimit:10;\" d=\"M 531.066406 516.8125 L 509.847656 386.65625 \"/>\n",
       "<path style=\"fill:none;stroke-width:0.5;stroke-linecap:butt;stroke-linejoin:miter;stroke:rgb(74.509804%,74.509804%,74.509804%);stroke-opacity:1;stroke-miterlimit:10;\" d=\"M 531.066406 516.8125 L 434.171875 373.011719 \"/>\n",
       "<path style=\"fill:none;stroke-width:0.5;stroke-linecap:butt;stroke-linejoin:miter;stroke:rgb(74.509804%,74.509804%,74.509804%);stroke-opacity:1;stroke-miterlimit:10;\" d=\"M 574.003906 439.148438 L 434.171875 373.011719 \"/>\n",
       "<path style=\"fill:none;stroke-width:0.5;stroke-linecap:butt;stroke-linejoin:miter;stroke:rgb(74.509804%,74.509804%,74.509804%);stroke-opacity:1;stroke-miterlimit:10;\" d=\"M 544.292969 30.21875 L 544.550781 154.023438 \"/>\n",
       "<path style=\"fill:none;stroke-width:0.5;stroke-linecap:butt;stroke-linejoin:miter;stroke:rgb(74.509804%,74.509804%,74.509804%);stroke-opacity:1;stroke-miterlimit:10;\" d=\"M 544.292969 30.21875 L 449.457031 212.871094 \"/>\n",
       "<path style=\"fill:none;stroke-width:0.5;stroke-linecap:butt;stroke-linejoin:miter;stroke:rgb(74.509804%,74.509804%,74.509804%);stroke-opacity:1;stroke-miterlimit:10;\" d=\"M 509.847656 386.65625 L 449.457031 212.871094 \"/>\n",
       "<path style=\"fill:none;stroke-width:0.5;stroke-linecap:butt;stroke-linejoin:miter;stroke:rgb(74.509804%,74.509804%,74.509804%);stroke-opacity:1;stroke-miterlimit:10;\" d=\"M 469.820312 324.519531 L 434.171875 373.011719 \"/>\n",
       "<path style=\"fill:none;stroke-width:0.5;stroke-linecap:butt;stroke-linejoin:miter;stroke:rgb(74.509804%,74.509804%,74.509804%);stroke-opacity:1;stroke-miterlimit:10;\" d=\"M 469.820312 324.519531 L 449.457031 212.871094 \"/>\n",
       "<path style=\"fill:none;stroke-width:0.5;stroke-linecap:butt;stroke-linejoin:miter;stroke:rgb(74.509804%,74.509804%,74.509804%);stroke-opacity:1;stroke-miterlimit:10;\" d=\"M 544.550781 154.023438 L 455.253906 174.800781 \"/>\n",
       "<path style=\"fill:none;stroke-width:0.5;stroke-linecap:butt;stroke-linejoin:miter;stroke:rgb(74.509804%,74.509804%,74.509804%);stroke-opacity:1;stroke-miterlimit:10;\" d=\"M 544.550781 154.023438 L 449.457031 212.871094 \"/>\n",
       "<path style=\"fill:none;stroke-width:0.5;stroke-linecap:butt;stroke-linejoin:miter;stroke:rgb(74.509804%,74.509804%,74.509804%);stroke-opacity:1;stroke-miterlimit:10;\" d=\"M 346.40625 169.027344 L 455.253906 174.800781 \"/>\n",
       "<path style=\"fill:none;stroke-width:0.5;stroke-linecap:butt;stroke-linejoin:miter;stroke:rgb(74.509804%,74.509804%,74.509804%);stroke-opacity:1;stroke-miterlimit:10;\" d=\"M 346.40625 169.027344 L 449.457031 212.871094 \"/>\n",
       "<path style=\"fill:none;stroke-width:0.5;stroke-linecap:butt;stroke-linejoin:miter;stroke:rgb(74.509804%,74.509804%,74.509804%);stroke-opacity:1;stroke-miterlimit:10;\" d=\"M 434.171875 373.011719 L 455.253906 174.800781 \"/>\n",
       "<path style=\"fill:none;stroke-width:0.5;stroke-linecap:butt;stroke-linejoin:miter;stroke:rgb(74.509804%,74.509804%,74.509804%);stroke-opacity:1;stroke-miterlimit:10;\" d=\"M 434.171875 373.011719 L 449.457031 212.871094 \"/>\n",
       "<path style=\"fill:none;stroke-width:0.5;stroke-linecap:butt;stroke-linejoin:miter;stroke:rgb(74.509804%,74.509804%,74.509804%);stroke-opacity:1;stroke-miterlimit:10;\" d=\"M 455.253906 174.800781 L 449.457031 212.871094 \"/>\n",
       "<path style=\"fill-rule:nonzero;fill:rgb(100%,0%,0%);fill-opacity:1;stroke-width:1;stroke-linecap:butt;stroke-linejoin:miter;stroke:rgb(0%,0%,0%);stroke-opacity:1;stroke-miterlimit:10;\" d=\"M 224.335938 374.695312 C 224.335938 379.027344 217.835938 379.027344 217.835938 374.695312 C 217.835938 370.359375 224.335938 370.359375 224.335938 374.695312 \"/>\n",
       "<path style=\"fill-rule:nonzero;fill:rgb(100%,0%,0%);fill-opacity:1;stroke-width:1;stroke-linecap:butt;stroke-linejoin:miter;stroke:rgb(0%,0%,0%);stroke-opacity:1;stroke-miterlimit:10;\" d=\"M 265.035156 332.039062 C 265.035156 337.597656 256.699219 337.597656 256.699219 332.039062 C 256.699219 326.484375 265.035156 326.484375 265.035156 332.039062 \"/>\n",
       "<path style=\"fill-rule:nonzero;fill:rgb(100%,0%,0%);fill-opacity:1;stroke-width:1;stroke-linecap:butt;stroke-linejoin:miter;stroke:rgb(0%,0%,0%);stroke-opacity:1;stroke-miterlimit:10;\" d=\"M 371.742188 370.164062 C 371.742188 375.128906 364.300781 375.128906 364.300781 370.164062 C 364.300781 365.203125 371.742188 365.203125 371.742188 370.164062 \"/>\n",
       "<path style=\"fill-rule:nonzero;fill:rgb(100%,0%,0%);fill-opacity:1;stroke-width:1;stroke-linecap:butt;stroke-linejoin:miter;stroke:rgb(0%,0%,0%);stroke-opacity:1;stroke-miterlimit:10;\" d=\"M 303.488281 476.515625 C 303.488281 479.734375 300.878906 482.347656 297.65625 482.347656 C 294.433594 482.347656 291.824219 479.734375 291.824219 476.515625 C 291.824219 473.292969 294.433594 470.679688 297.65625 470.679688 C 300.878906 470.679688 303.488281 473.292969 303.488281 476.515625 \"/>\n",
       "<path style=\"fill-rule:nonzero;fill:rgb(100%,0%,0%);fill-opacity:1;stroke-width:1;stroke-linecap:butt;stroke-linejoin:miter;stroke:rgb(0%,0%,0%);stroke-opacity:1;stroke-miterlimit:10;\" d=\"M 81.710938 415.714844 C 81.710938 418.9375 79.097656 421.550781 75.875 421.550781 C 72.65625 421.550781 70.042969 418.9375 70.042969 415.714844 C 70.042969 412.496094 72.65625 409.882812 75.875 409.882812 C 79.097656 409.882812 81.710938 412.496094 81.710938 415.714844 \"/>\n",
       "<path style=\"fill-rule:nonzero;fill:rgb(100%,0%,0%);fill-opacity:1;stroke-width:1;stroke-linecap:butt;stroke-linejoin:miter;stroke:rgb(0%,0%,0%);stroke-opacity:1;stroke-miterlimit:10;\" d=\"M 99.472656 241.8125 C 99.472656 248.476562 89.472656 248.476562 89.472656 241.8125 C 89.472656 235.144531 99.472656 235.144531 99.472656 241.8125 \"/>\n",
       "<path style=\"fill-rule:nonzero;fill:rgb(100%,0%,0%);fill-opacity:1;stroke-width:1;stroke-linecap:butt;stroke-linejoin:miter;stroke:rgb(0%,0%,0%);stroke-opacity:1;stroke-miterlimit:10;\" d=\"M 67.777344 297.972656 C 67.777344 304.640625 57.777344 304.640625 57.777344 297.972656 C 57.777344 291.304688 67.777344 291.304688 67.777344 297.972656 \"/>\n",
       "<path style=\"fill-rule:nonzero;fill:rgb(100%,0%,0%);fill-opacity:1;stroke-width:1;stroke-linecap:butt;stroke-linejoin:miter;stroke:rgb(0%,0%,0%);stroke-opacity:1;stroke-miterlimit:10;\" d=\"M 269.582031 458.457031 C 269.582031 462.601562 266.222656 465.957031 262.082031 465.957031 C 257.9375 465.957031 254.582031 462.601562 254.582031 458.457031 C 254.582031 454.316406 257.9375 450.957031 262.082031 450.957031 C 266.222656 450.957031 269.582031 454.316406 269.582031 458.457031 \"/>\n",
       "<path style=\"fill-rule:nonzero;fill:rgb(100%,0%,0%);fill-opacity:1;stroke-width:1;stroke-linecap:butt;stroke-linejoin:miter;stroke:rgb(0%,0%,0%);stroke-opacity:1;stroke-miterlimit:10;\" d=\"M 355.632812 251.960938 C 355.632812 258.628906 345.632812 258.628906 345.632812 251.960938 C 345.632812 245.296875 355.632812 245.296875 355.632812 251.960938 \"/>\n",
       "<path style=\"fill-rule:nonzero;fill:rgb(100%,0%,0%);fill-opacity:1;stroke-width:1;stroke-linecap:butt;stroke-linejoin:miter;stroke:rgb(0%,0%,0%);stroke-opacity:1;stroke-miterlimit:10;\" d=\"M 451.886719 441.878906 C 451.886719 445.210938 446.886719 445.210938 446.886719 441.878906 C 446.886719 438.546875 451.886719 438.546875 451.886719 441.878906 \"/>\n",
       "<path style=\"fill-rule:nonzero;fill:rgb(100%,0%,0%);fill-opacity:1;stroke-width:1;stroke-linecap:butt;stroke-linejoin:miter;stroke:rgb(0%,0%,0%);stroke-opacity:1;stroke-miterlimit:10;\" d=\"M 105.800781 350.988281 C 105.800781 354.210938 103.1875 356.820312 99.964844 356.820312 C 96.746094 356.820312 94.132812 354.210938 94.132812 350.988281 C 94.132812 347.765625 96.746094 345.15625 99.964844 345.15625 C 103.1875 345.15625 105.800781 347.765625 105.800781 350.988281 \"/>\n",
       "<path style=\"fill-rule:nonzero;fill:rgb(100%,0%,0%);fill-opacity:1;stroke-width:1;stroke-linecap:butt;stroke-linejoin:miter;stroke:rgb(0%,0%,0%);stroke-opacity:1;stroke-miterlimit:10;\" d=\"M 147.925781 564.195312 C 147.925781 567.527344 142.925781 567.527344 142.925781 564.195312 C 142.925781 560.863281 147.925781 560.863281 147.925781 564.195312 \"/>\n",
       "<path style=\"fill-rule:nonzero;fill:rgb(100%,0%,0%);fill-opacity:1;stroke-width:1;stroke-linecap:butt;stroke-linejoin:miter;stroke:rgb(0%,0%,0%);stroke-opacity:1;stroke-miterlimit:10;\" d=\"M 251.195312 580 C 251.195312 584.140625 247.835938 587.5 243.695312 587.5 C 239.550781 587.5 236.195312 584.140625 236.195312 580 C 236.195312 575.859375 239.550781 572.5 243.695312 572.5 C 247.835938 572.5 251.195312 575.859375 251.195312 580 \"/>\n",
       "<path style=\"fill-rule:nonzero;fill:rgb(100%,0%,0%);fill-opacity:1;stroke-width:1;stroke-linecap:butt;stroke-linejoin:miter;stroke:rgb(0%,0%,0%);stroke-opacity:1;stroke-miterlimit:10;\" d=\"M 328.359375 352.128906 C 328.359375 355.164062 325.898438 357.628906 322.859375 357.628906 C 319.824219 357.628906 317.359375 355.164062 317.359375 352.128906 C 317.359375 349.089844 319.824219 346.628906 322.859375 346.628906 C 325.898438 346.628906 328.359375 349.089844 328.359375 352.128906 \"/>\n",
       "<path style=\"fill-rule:nonzero;fill:rgb(100%,0%,0%);fill-opacity:1;stroke-width:1;stroke-linecap:butt;stroke-linejoin:miter;stroke:rgb(0%,0%,0%);stroke-opacity:1;stroke-miterlimit:10;\" d=\"M 481.671875 40.453125 C 481.671875 44.597656 478.3125 47.953125 474.171875 47.953125 C 470.027344 47.953125 466.671875 44.597656 466.671875 40.453125 C 466.671875 36.3125 470.027344 32.953125 474.171875 32.953125 C 478.3125 32.953125 481.671875 36.3125 481.671875 40.453125 \"/>\n",
       "<path style=\"fill-rule:nonzero;fill:rgb(100%,0%,0%);fill-opacity:1;stroke-width:1;stroke-linecap:butt;stroke-linejoin:miter;stroke:rgb(0%,0%,0%);stroke-opacity:1;stroke-miterlimit:10;\" d=\"M 552.011719 92.824219 C 552.011719 96.964844 548.652344 100.324219 544.511719 100.324219 C 540.367188 100.324219 537.011719 96.964844 537.011719 92.824219 C 537.011719 88.679688 540.367188 85.324219 544.511719 85.324219 C 548.652344 85.324219 552.011719 88.679688 552.011719 92.824219 \"/>\n",
       "<path style=\"fill-rule:nonzero;fill:rgb(100%,0%,0%);fill-opacity:1;stroke-width:1;stroke-linecap:butt;stroke-linejoin:miter;stroke:rgb(0%,0%,0%);stroke-opacity:1;stroke-miterlimit:10;\" d=\"M 27.5 170.296875 C 27.5 174.441406 24.140625 177.796875 20 177.796875 C 15.859375 177.796875 12.5 174.441406 12.5 170.296875 C 12.5 166.15625 15.859375 162.796875 20 162.796875 C 24.140625 162.796875 27.5 166.15625 27.5 170.296875 \"/>\n",
       "<path style=\"fill-rule:nonzero;fill:rgb(100%,0%,0%);fill-opacity:1;stroke-width:1;stroke-linecap:butt;stroke-linejoin:miter;stroke:rgb(0%,0%,0%);stroke-opacity:1;stroke-miterlimit:10;\" d=\"M 186.40625 234.371094 C 186.40625 238.515625 183.046875 241.871094 178.90625 241.871094 C 174.765625 241.871094 171.40625 238.515625 171.40625 234.371094 C 171.40625 230.230469 174.765625 226.871094 178.90625 226.871094 C 183.046875 226.871094 186.40625 230.230469 186.40625 234.371094 \"/>\n",
       "<path style=\"fill-rule:nonzero;fill:rgb(100%,0%,0%);fill-opacity:1;stroke-width:1;stroke-linecap:butt;stroke-linejoin:miter;stroke:rgb(0%,0%,0%);stroke-opacity:1;stroke-miterlimit:10;\" d=\"M 435.082031 20 C 435.082031 24.140625 431.722656 27.5 427.582031 27.5 C 423.441406 27.5 420.082031 24.140625 420.082031 20 C 420.082031 15.859375 423.441406 12.5 427.582031 12.5 C 431.722656 12.5 435.082031 15.859375 435.082031 20 \"/>\n",
       "<path style=\"fill-rule:nonzero;fill:rgb(100%,0%,0%);fill-opacity:1;stroke-width:1;stroke-linecap:butt;stroke-linejoin:miter;stroke:rgb(0%,0%,0%);stroke-opacity:1;stroke-miterlimit:10;\" d=\"M 286.925781 220.152344 C 286.925781 225.707031 278.59375 225.707031 278.59375 220.152344 C 278.59375 214.597656 286.925781 214.597656 286.925781 220.152344 \"/>\n",
       "<path style=\"fill-rule:nonzero;fill:rgb(100%,0%,0%);fill-opacity:1;stroke-width:1;stroke-linecap:butt;stroke-linejoin:miter;stroke:rgb(0%,0%,0%);stroke-opacity:1;stroke-miterlimit:10;\" d=\"M 391.460938 52.757812 C 391.460938 56.898438 388.101562 60.257812 383.960938 60.257812 C 379.816406 60.257812 376.460938 56.898438 376.460938 52.757812 C 376.460938 48.617188 379.816406 45.257812 383.960938 45.257812 C 388.101562 45.257812 391.460938 48.617188 391.460938 52.757812 \"/>\n",
       "<path style=\"fill-rule:nonzero;fill:rgb(100%,0%,0%);fill-opacity:1;stroke-width:1;stroke-linecap:butt;stroke-linejoin:miter;stroke:rgb(0%,0%,0%);stroke-opacity:1;stroke-miterlimit:10;\" d=\"M 176.578125 452.429688 C 176.578125 456.570312 173.21875 459.929688 169.078125 459.929688 C 164.9375 459.929688 161.578125 456.570312 161.578125 452.429688 C 161.578125 448.289062 164.9375 444.929688 169.078125 444.929688 C 173.21875 444.929688 176.578125 448.289062 176.578125 452.429688 \"/>\n",
       "<path style=\"fill-rule:nonzero;fill:rgb(100%,0%,0%);fill-opacity:1;stroke-width:1;stroke-linecap:butt;stroke-linejoin:miter;stroke:rgb(0%,0%,0%);stroke-opacity:1;stroke-miterlimit:10;\" d=\"M 587.5 195.355469 C 587.5 199.496094 584.140625 202.855469 580 202.855469 C 575.859375 202.855469 572.5 199.496094 572.5 195.355469 C 572.5 191.210938 575.859375 187.855469 580 187.855469 C 584.140625 187.855469 587.5 191.210938 587.5 195.355469 \"/>\n",
       "<path style=\"fill-rule:nonzero;fill:rgb(100%,0%,0%);fill-opacity:1;stroke-width:1;stroke-linecap:butt;stroke-linejoin:miter;stroke:rgb(0%,0%,0%);stroke-opacity:1;stroke-miterlimit:10;\" d=\"M 557.773438 284.808594 C 557.773438 290.808594 548.773438 290.808594 548.773438 284.808594 C 548.773438 278.808594 557.773438 278.808594 557.773438 284.808594 \"/>\n",
       "<path style=\"fill-rule:nonzero;fill:rgb(100%,0%,0%);fill-opacity:1;stroke-width:1;stroke-linecap:butt;stroke-linejoin:miter;stroke:rgb(0%,0%,0%);stroke-opacity:1;stroke-miterlimit:10;\" d=\"M 535.234375 516.8125 C 535.234375 522.367188 526.902344 522.367188 526.902344 516.8125 C 526.902344 511.257812 535.234375 511.257812 535.234375 516.8125 \"/>\n",
       "<path style=\"fill-rule:nonzero;fill:rgb(100%,0%,0%);fill-opacity:1;stroke-width:1;stroke-linecap:butt;stroke-linejoin:miter;stroke:rgb(0%,0%,0%);stroke-opacity:1;stroke-miterlimit:10;\" d=\"M 578.171875 439.148438 C 578.171875 444.703125 569.835938 444.703125 569.835938 439.148438 C 569.835938 433.589844 578.171875 433.589844 578.171875 439.148438 \"/>\n",
       "<path style=\"fill-rule:nonzero;fill:rgb(100%,0%,0%);fill-opacity:1;stroke-width:1;stroke-linecap:butt;stroke-linejoin:miter;stroke:rgb(0%,0%,0%);stroke-opacity:1;stroke-miterlimit:10;\" d=\"M 551.792969 30.21875 C 551.792969 34.359375 548.433594 37.71875 544.292969 37.71875 C 540.148438 37.71875 536.792969 34.359375 536.792969 30.21875 C 536.792969 26.074219 540.148438 22.71875 544.292969 22.71875 C 548.433594 22.71875 551.792969 26.074219 551.792969 30.21875 \"/>\n",
       "<path style=\"fill-rule:nonzero;fill:rgb(100%,0%,0%);fill-opacity:1;stroke-width:1;stroke-linecap:butt;stroke-linejoin:miter;stroke:rgb(0%,0%,0%);stroke-opacity:1;stroke-miterlimit:10;\" d=\"M 513.183594 386.65625 C 513.183594 391.101562 506.515625 391.101562 506.515625 386.65625 C 506.515625 382.210938 513.183594 382.210938 513.183594 386.65625 \"/>\n",
       "<path style=\"fill-rule:nonzero;fill:rgb(100%,0%,0%);fill-opacity:1;stroke-width:1;stroke-linecap:butt;stroke-linejoin:miter;stroke:rgb(0%,0%,0%);stroke-opacity:1;stroke-miterlimit:10;\" d=\"M 473.988281 324.519531 C 473.988281 330.078125 465.652344 330.078125 465.652344 324.519531 C 465.652344 318.964844 473.988281 318.964844 473.988281 324.519531 \"/>\n",
       "<path style=\"fill-rule:nonzero;fill:rgb(100%,0%,0%);fill-opacity:1;stroke-width:1;stroke-linecap:butt;stroke-linejoin:miter;stroke:rgb(0%,0%,0%);stroke-opacity:1;stroke-miterlimit:10;\" d=\"M 550.382812 154.023438 C 550.382812 157.246094 547.769531 159.859375 544.550781 159.859375 C 541.328125 159.859375 538.714844 157.246094 538.714844 154.023438 C 538.714844 150.804688 541.328125 148.191406 544.550781 148.191406 C 547.769531 148.191406 550.382812 150.804688 550.382812 154.023438 \"/>\n",
       "<path style=\"fill-rule:nonzero;fill:rgb(100%,0%,0%);fill-opacity:1;stroke-width:1;stroke-linecap:butt;stroke-linejoin:miter;stroke:rgb(0%,0%,0%);stroke-opacity:1;stroke-miterlimit:10;\" d=\"M 351.40625 169.027344 C 351.40625 175.695312 341.40625 175.695312 341.40625 169.027344 C 341.40625 162.359375 351.40625 162.359375 351.40625 169.027344 \"/>\n",
       "<path style=\"fill-rule:nonzero;fill:rgb(100%,0%,0%);fill-opacity:1;stroke-width:1;stroke-linecap:butt;stroke-linejoin:miter;stroke:rgb(0%,0%,0%);stroke-opacity:1;stroke-miterlimit:10;\" d=\"M 437.671875 373.011719 C 437.671875 377.675781 430.671875 377.675781 430.671875 373.011719 C 430.671875 368.34375 437.671875 368.34375 437.671875 373.011719 \"/>\n",
       "<path style=\"fill-rule:nonzero;fill:rgb(100%,0%,0%);fill-opacity:1;stroke-width:1;stroke-linecap:butt;stroke-linejoin:miter;stroke:rgb(0%,0%,0%);stroke-opacity:1;stroke-miterlimit:10;\" d=\"M 458.738281 174.800781 C 458.738281 179.445312 451.769531 179.445312 451.769531 174.800781 C 451.769531 170.152344 458.738281 170.152344 458.738281 174.800781 \"/>\n",
       "<path style=\"fill-rule:nonzero;fill:rgb(100%,0%,0%);fill-opacity:1;stroke-width:1;stroke-linecap:butt;stroke-linejoin:miter;stroke:rgb(0%,0%,0%);stroke-opacity:1;stroke-miterlimit:10;\" d=\"M 452.507812 212.871094 C 452.507812 216.9375 446.40625 216.9375 446.40625 212.871094 C 446.40625 208.800781 452.507812 208.800781 452.507812 212.871094 \"/>\n",
       "</g>\n",
       "</svg>\n"
      ],
      "text/plain": [
       "<igraph.drawing.Plot at 0x1a1ea47e10>"
      ]
     },
     "execution_count": 27,
     "metadata": {},
     "output_type": "execute_result"
    }
   ],
   "source": [
    "clustering = G.transitivity_local_undirected(mode=\"zero\")\n",
    "\n",
    "ig.plot(G, vertex_size=10*(np.array(clustering)+0.5))"
   ]
  },
  {
   "cell_type": "markdown",
   "metadata": {},
   "source": [
    "As you can see, the nodes that are more clustered seem to be more peripheral. This is something that can be seen more\n",
    "often. Nodes that have many neighbors usually have fewer connections between *all* their neighbors, so that they tend to have a lower clustering coefficient.\n",
    "\n",
    "Nodes that have a higher clustering coefficient tend to be well embedded in the network. Nodes with a low clustering coefficient on the other hand tend to function as bridges, connecting different parts of the network. For example, when removing node 0 from the network, this disconnects the network."
   ]
  },
  {
   "cell_type": "code",
   "execution_count": 28,
   "metadata": {
    "ExecuteTime": {
     "end_time": "2019-06-25T21:29:02.762249Z",
     "start_time": "2019-06-25T21:29:02.747865Z"
    }
   },
   "outputs": [
    {
     "data": {
      "image/svg+xml": [
       "<?xml version=\"1.0\" encoding=\"UTF-8\"?>\n",
       "<svg xmlns=\"http://www.w3.org/2000/svg\" xmlns:xlink=\"http://www.w3.org/1999/xlink\" width=\"600pt\" height=\"600pt\" viewBox=\"0 0 600 600\" version=\"1.1\">\n",
       "<g id=\"surface56\">\n",
       "<rect x=\"0\" y=\"0\" width=\"600\" height=\"600\" style=\"fill:rgb(100%,100%,100%);fill-opacity:1;stroke:none;\"/>\n",
       "<path style=\"fill:none;stroke-width:0.5;stroke-linecap:butt;stroke-linejoin:miter;stroke:rgb(74.509804%,74.509804%,74.509804%);stroke-opacity:1;stroke-miterlimit:10;\" d=\"M 170.335938 120.699219 L 292.945312 117.347656 \"/>\n",
       "<path style=\"fill:none;stroke-width:0.5;stroke-linecap:butt;stroke-linejoin:miter;stroke:rgb(74.509804%,74.509804%,74.509804%);stroke-opacity:1;stroke-miterlimit:10;\" d=\"M 170.335938 120.699219 L 145.386719 82.128906 \"/>\n",
       "<path style=\"fill:none;stroke-width:0.5;stroke-linecap:butt;stroke-linejoin:miter;stroke:rgb(74.509804%,74.509804%,74.509804%);stroke-opacity:1;stroke-miterlimit:10;\" d=\"M 170.335938 120.699219 L 194.492188 29.113281 \"/>\n",
       "<path style=\"fill:none;stroke-width:0.5;stroke-linecap:butt;stroke-linejoin:miter;stroke:rgb(74.509804%,74.509804%,74.509804%);stroke-opacity:1;stroke-miterlimit:10;\" d=\"M 170.335938 120.699219 L 231.355469 155.308594 \"/>\n",
       "<path style=\"fill:none;stroke-width:0.5;stroke-linecap:butt;stroke-linejoin:miter;stroke:rgb(74.509804%,74.509804%,74.509804%);stroke-opacity:1;stroke-miterlimit:10;\" d=\"M 170.335938 120.699219 L 82.246094 20 \"/>\n",
       "<path style=\"fill:none;stroke-width:0.5;stroke-linecap:butt;stroke-linejoin:miter;stroke:rgb(74.509804%,74.509804%,74.509804%);stroke-opacity:1;stroke-miterlimit:10;\" d=\"M 170.335938 120.699219 L 273.992188 81.660156 \"/>\n",
       "<path style=\"fill:none;stroke-width:0.5;stroke-linecap:butt;stroke-linejoin:miter;stroke:rgb(74.509804%,74.509804%,74.509804%);stroke-opacity:1;stroke-miterlimit:10;\" d=\"M 170.335938 120.699219 L 49.714844 178.410156 \"/>\n",
       "<path style=\"fill:none;stroke-width:0.5;stroke-linecap:butt;stroke-linejoin:miter;stroke:rgb(74.509804%,74.509804%,74.509804%);stroke-opacity:1;stroke-miterlimit:10;\" d=\"M 170.335938 120.699219 L 268.535156 223.550781 \"/>\n",
       "<path style=\"fill:none;stroke-width:0.5;stroke-linecap:butt;stroke-linejoin:miter;stroke:rgb(74.509804%,74.509804%,74.509804%);stroke-opacity:1;stroke-miterlimit:10;\" d=\"M 292.945312 117.347656 L 145.386719 82.128906 \"/>\n",
       "<path style=\"fill:none;stroke-width:0.5;stroke-linecap:butt;stroke-linejoin:miter;stroke:rgb(74.509804%,74.509804%,74.509804%);stroke-opacity:1;stroke-miterlimit:10;\" d=\"M 292.945312 117.347656 L 194.492188 29.113281 \"/>\n",
       "<path style=\"fill:none;stroke-width:0.5;stroke-linecap:butt;stroke-linejoin:miter;stroke:rgb(74.509804%,74.509804%,74.509804%);stroke-opacity:1;stroke-miterlimit:10;\" d=\"M 292.945312 117.347656 L 438.957031 85.652344 \"/>\n",
       "<path style=\"fill:none;stroke-width:0.5;stroke-linecap:butt;stroke-linejoin:miter;stroke:rgb(74.509804%,74.509804%,74.509804%);stroke-opacity:1;stroke-miterlimit:10;\" d=\"M 292.945312 117.347656 L 391.308594 111.003906 \"/>\n",
       "<path style=\"fill:none;stroke-width:0.5;stroke-linecap:butt;stroke-linejoin:miter;stroke:rgb(74.509804%,74.509804%,74.509804%);stroke-opacity:1;stroke-miterlimit:10;\" d=\"M 292.945312 117.347656 L 400.875 246.355469 \"/>\n",
       "<path style=\"fill:none;stroke-width:0.5;stroke-linecap:butt;stroke-linejoin:miter;stroke:rgb(74.509804%,74.509804%,74.509804%);stroke-opacity:1;stroke-miterlimit:10;\" d=\"M 292.945312 117.347656 L 357.578125 54.539062 \"/>\n",
       "<path style=\"fill:none;stroke-width:0.5;stroke-linecap:butt;stroke-linejoin:miter;stroke:rgb(74.509804%,74.509804%,74.509804%);stroke-opacity:1;stroke-miterlimit:10;\" d=\"M 292.945312 117.347656 L 320.316406 208.726562 \"/>\n",
       "<path style=\"fill:none;stroke-width:0.5;stroke-linecap:butt;stroke-linejoin:miter;stroke:rgb(74.509804%,74.509804%,74.509804%);stroke-opacity:1;stroke-miterlimit:10;\" d=\"M 292.945312 117.347656 L 231.355469 155.308594 \"/>\n",
       "<path style=\"fill:none;stroke-width:0.5;stroke-linecap:butt;stroke-linejoin:miter;stroke:rgb(74.509804%,74.509804%,74.509804%);stroke-opacity:1;stroke-miterlimit:10;\" d=\"M 145.386719 82.128906 L 194.492188 29.113281 \"/>\n",
       "<path style=\"fill:none;stroke-width:0.5;stroke-linecap:butt;stroke-linejoin:miter;stroke:rgb(74.509804%,74.509804%,74.509804%);stroke-opacity:1;stroke-miterlimit:10;\" d=\"M 145.386719 82.128906 L 20 76.464844 \"/>\n",
       "<path style=\"fill:none;stroke-width:0.5;stroke-linecap:butt;stroke-linejoin:miter;stroke:rgb(74.509804%,74.509804%,74.509804%);stroke-opacity:1;stroke-miterlimit:10;\" d=\"M 145.386719 82.128906 L 231.355469 155.308594 \"/>\n",
       "<path style=\"fill:none;stroke-width:0.5;stroke-linecap:butt;stroke-linejoin:miter;stroke:rgb(74.509804%,74.509804%,74.509804%);stroke-opacity:1;stroke-miterlimit:10;\" d=\"M 32.203125 477.457031 L 105.234375 528.027344 \"/>\n",
       "<path style=\"fill:none;stroke-width:0.5;stroke-linecap:butt;stroke-linejoin:miter;stroke:rgb(74.509804%,74.509804%,74.509804%);stroke-opacity:1;stroke-miterlimit:10;\" d=\"M 32.203125 477.457031 L 50.671875 414.75 \"/>\n",
       "<path style=\"fill:none;stroke-width:0.5;stroke-linecap:butt;stroke-linejoin:miter;stroke:rgb(74.509804%,74.509804%,74.509804%);stroke-opacity:1;stroke-miterlimit:10;\" d=\"M 127.398438 470.476562 L 105.234375 528.027344 \"/>\n",
       "<path style=\"fill:none;stroke-width:0.5;stroke-linecap:butt;stroke-linejoin:miter;stroke:rgb(74.509804%,74.509804%,74.509804%);stroke-opacity:1;stroke-miterlimit:10;\" d=\"M 127.398438 470.476562 L 50.671875 414.75 \"/>\n",
       "<path style=\"fill:none;stroke-width:0.5;stroke-linecap:butt;stroke-linejoin:miter;stroke:rgb(74.509804%,74.509804%,74.509804%);stroke-opacity:1;stroke-miterlimit:10;\" d=\"M 127.398438 470.476562 L 181.226562 537.136719 \"/>\n",
       "<path style=\"fill:none;stroke-width:0.5;stroke-linecap:butt;stroke-linejoin:miter;stroke:rgb(74.509804%,74.509804%,74.509804%);stroke-opacity:1;stroke-miterlimit:10;\" d=\"M 105.234375 528.027344 L 181.226562 537.136719 \"/>\n",
       "<path style=\"fill:none;stroke-width:0.5;stroke-linecap:butt;stroke-linejoin:miter;stroke:rgb(74.509804%,74.509804%,74.509804%);stroke-opacity:1;stroke-miterlimit:10;\" d=\"M 320.316406 208.726562 L 268.535156 223.550781 \"/>\n",
       "<path style=\"fill:none;stroke-width:0.5;stroke-linecap:butt;stroke-linejoin:miter;stroke:rgb(74.509804%,74.509804%,74.509804%);stroke-opacity:1;stroke-miterlimit:10;\" d=\"M 320.316406 208.726562 L 400.875 246.355469 \"/>\n",
       "<path style=\"fill:none;stroke-width:0.5;stroke-linecap:butt;stroke-linejoin:miter;stroke:rgb(74.509804%,74.509804%,74.509804%);stroke-opacity:1;stroke-miterlimit:10;\" d=\"M 320.316406 208.726562 L 396.601562 207.707031 \"/>\n",
       "<path style=\"fill:none;stroke-width:0.5;stroke-linecap:butt;stroke-linejoin:miter;stroke:rgb(74.509804%,74.509804%,74.509804%);stroke-opacity:1;stroke-miterlimit:10;\" d=\"M 357.578125 54.539062 L 396.601562 207.707031 \"/>\n",
       "<path style=\"fill:none;stroke-width:0.5;stroke-linecap:butt;stroke-linejoin:miter;stroke:rgb(74.509804%,74.509804%,74.509804%);stroke-opacity:1;stroke-miterlimit:10;\" d=\"M 231.355469 155.308594 L 396.601562 207.707031 \"/>\n",
       "<path style=\"fill:none;stroke-width:0.5;stroke-linecap:butt;stroke-linejoin:miter;stroke:rgb(74.509804%,74.509804%,74.509804%);stroke-opacity:1;stroke-miterlimit:10;\" d=\"M 361 345.289062 L 400.875 246.355469 \"/>\n",
       "<path style=\"fill:none;stroke-width:0.5;stroke-linecap:butt;stroke-linejoin:miter;stroke:rgb(74.509804%,74.509804%,74.509804%);stroke-opacity:1;stroke-miterlimit:10;\" d=\"M 361 345.289062 L 396.601562 207.707031 \"/>\n",
       "<path style=\"fill:none;stroke-width:0.5;stroke-linecap:butt;stroke-linejoin:miter;stroke:rgb(74.509804%,74.509804%,74.509804%);stroke-opacity:1;stroke-miterlimit:10;\" d=\"M 484.921875 299.441406 L 400.875 246.355469 \"/>\n",
       "<path style=\"fill:none;stroke-width:0.5;stroke-linecap:butt;stroke-linejoin:miter;stroke:rgb(74.509804%,74.509804%,74.509804%);stroke-opacity:1;stroke-miterlimit:10;\" d=\"M 484.921875 299.441406 L 396.601562 207.707031 \"/>\n",
       "<path style=\"fill:none;stroke-width:0.5;stroke-linecap:butt;stroke-linejoin:miter;stroke:rgb(74.509804%,74.509804%,74.509804%);stroke-opacity:1;stroke-miterlimit:10;\" d=\"M 459.984375 343.722656 L 400.875 246.355469 \"/>\n",
       "<path style=\"fill:none;stroke-width:0.5;stroke-linecap:butt;stroke-linejoin:miter;stroke:rgb(74.509804%,74.509804%,74.509804%);stroke-opacity:1;stroke-miterlimit:10;\" d=\"M 459.984375 343.722656 L 396.601562 207.707031 \"/>\n",
       "<path style=\"fill:none;stroke-width:0.5;stroke-linecap:butt;stroke-linejoin:miter;stroke:rgb(74.509804%,74.509804%,74.509804%);stroke-opacity:1;stroke-miterlimit:10;\" d=\"M 273.992188 81.660156 L 396.601562 207.707031 \"/>\n",
       "<path style=\"fill:none;stroke-width:0.5;stroke-linecap:butt;stroke-linejoin:miter;stroke:rgb(74.509804%,74.509804%,74.509804%);stroke-opacity:1;stroke-miterlimit:10;\" d=\"M 319.628906 308.015625 L 400.875 246.355469 \"/>\n",
       "<path style=\"fill:none;stroke-width:0.5;stroke-linecap:butt;stroke-linejoin:miter;stroke:rgb(74.509804%,74.509804%,74.509804%);stroke-opacity:1;stroke-miterlimit:10;\" d=\"M 319.628906 308.015625 L 396.601562 207.707031 \"/>\n",
       "<path style=\"fill:none;stroke-width:0.5;stroke-linecap:butt;stroke-linejoin:miter;stroke:rgb(74.509804%,74.509804%,74.509804%);stroke-opacity:1;stroke-miterlimit:10;\" d=\"M 410.523438 336.828125 L 400.875 246.355469 \"/>\n",
       "<path style=\"fill:none;stroke-width:0.5;stroke-linecap:butt;stroke-linejoin:miter;stroke:rgb(74.509804%,74.509804%,74.509804%);stroke-opacity:1;stroke-miterlimit:10;\" d=\"M 410.523438 336.828125 L 396.601562 207.707031 \"/>\n",
       "<path style=\"fill:none;stroke-width:2;stroke-linecap:butt;stroke-linejoin:miter;stroke:rgb(100%,0%,0%);stroke-opacity:1;stroke-miterlimit:10;\" d=\"M 502.371094 172.039062 L 580 96.667969 \"/>\n",
       "<path style=\"fill:none;stroke-width:2;stroke-linecap:butt;stroke-linejoin:miter;stroke:rgb(100%,0%,0%);stroke-opacity:1;stroke-miterlimit:10;\" d=\"M 502.371094 172.039062 L 438.957031 85.652344 \"/>\n",
       "<path style=\"fill:none;stroke-width:0.5;stroke-linecap:butt;stroke-linejoin:miter;stroke:rgb(74.509804%,74.509804%,74.509804%);stroke-opacity:1;stroke-miterlimit:10;\" d=\"M 502.371094 172.039062 L 400.875 246.355469 \"/>\n",
       "<path style=\"fill:none;stroke-width:0.5;stroke-linecap:butt;stroke-linejoin:miter;stroke:rgb(74.509804%,74.509804%,74.509804%);stroke-opacity:1;stroke-miterlimit:10;\" d=\"M 502.371094 172.039062 L 396.601562 207.707031 \"/>\n",
       "<path style=\"fill:none;stroke-width:0.5;stroke-linecap:butt;stroke-linejoin:miter;stroke:rgb(74.509804%,74.509804%,74.509804%);stroke-opacity:1;stroke-miterlimit:10;\" d=\"M 502.371094 172.039062 L 506.257812 237.832031 \"/>\n",
       "<path style=\"fill:none;stroke-width:2;stroke-linecap:butt;stroke-linejoin:miter;stroke:rgb(100%,0%,0%);stroke-opacity:1;stroke-miterlimit:10;\" d=\"M 531.792969 34.523438 L 580 96.667969 \"/>\n",
       "<path style=\"fill:none;stroke-width:2;stroke-linecap:butt;stroke-linejoin:miter;stroke:rgb(100%,0%,0%);stroke-opacity:1;stroke-miterlimit:10;\" d=\"M 531.792969 34.523438 L 438.957031 85.652344 \"/>\n",
       "<path style=\"fill:none;stroke-width:0.5;stroke-linecap:butt;stroke-linejoin:miter;stroke:rgb(74.509804%,74.509804%,74.509804%);stroke-opacity:1;stroke-miterlimit:10;\" d=\"M 531.792969 34.523438 L 483.984375 126.804688 \"/>\n",
       "<path style=\"fill:none;stroke-width:0.5;stroke-linecap:butt;stroke-linejoin:miter;stroke:rgb(74.509804%,74.509804%,74.509804%);stroke-opacity:1;stroke-miterlimit:10;\" d=\"M 580 96.667969 L 483.984375 126.804688 \"/>\n",
       "<path style=\"fill:none;stroke-width:0.5;stroke-linecap:butt;stroke-linejoin:miter;stroke:rgb(74.509804%,74.509804%,74.509804%);stroke-opacity:1;stroke-miterlimit:10;\" d=\"M 557.453125 270.757812 L 506.257812 237.832031 \"/>\n",
       "<path style=\"fill:none;stroke-width:0.5;stroke-linecap:butt;stroke-linejoin:miter;stroke:rgb(74.509804%,74.509804%,74.509804%);stroke-opacity:1;stroke-miterlimit:10;\" d=\"M 557.453125 270.757812 L 396.601562 207.707031 \"/>\n",
       "<path style=\"fill:none;stroke-width:0.5;stroke-linecap:butt;stroke-linejoin:miter;stroke:rgb(74.509804%,74.509804%,74.509804%);stroke-opacity:1;stroke-miterlimit:10;\" d=\"M 438.957031 85.652344 L 396.601562 207.707031 \"/>\n",
       "<path style=\"fill:none;stroke-width:0.5;stroke-linecap:butt;stroke-linejoin:miter;stroke:rgb(74.509804%,74.509804%,74.509804%);stroke-opacity:1;stroke-miterlimit:10;\" d=\"M 391.308594 111.003906 L 483.984375 126.804688 \"/>\n",
       "<path style=\"fill:none;stroke-width:0.5;stroke-linecap:butt;stroke-linejoin:miter;stroke:rgb(74.509804%,74.509804%,74.509804%);stroke-opacity:1;stroke-miterlimit:10;\" d=\"M 391.308594 111.003906 L 396.601562 207.707031 \"/>\n",
       "<path style=\"fill:none;stroke-width:0.5;stroke-linecap:butt;stroke-linejoin:miter;stroke:rgb(74.509804%,74.509804%,74.509804%);stroke-opacity:1;stroke-miterlimit:10;\" d=\"M 506.257812 237.832031 L 400.875 246.355469 \"/>\n",
       "<path style=\"fill:none;stroke-width:0.5;stroke-linecap:butt;stroke-linejoin:miter;stroke:rgb(74.509804%,74.509804%,74.509804%);stroke-opacity:1;stroke-miterlimit:10;\" d=\"M 506.257812 237.832031 L 396.601562 207.707031 \"/>\n",
       "<path style=\"fill:none;stroke-width:0.5;stroke-linecap:butt;stroke-linejoin:miter;stroke:rgb(74.509804%,74.509804%,74.509804%);stroke-opacity:1;stroke-miterlimit:10;\" d=\"M 268.535156 223.550781 L 400.875 246.355469 \"/>\n",
       "<path style=\"fill:none;stroke-width:0.5;stroke-linecap:butt;stroke-linejoin:miter;stroke:rgb(74.509804%,74.509804%,74.509804%);stroke-opacity:1;stroke-miterlimit:10;\" d=\"M 268.535156 223.550781 L 396.601562 207.707031 \"/>\n",
       "<path style=\"fill:none;stroke-width:0.5;stroke-linecap:butt;stroke-linejoin:miter;stroke:rgb(74.509804%,74.509804%,74.509804%);stroke-opacity:1;stroke-miterlimit:10;\" d=\"M 483.984375 126.804688 L 400.875 246.355469 \"/>\n",
       "<path style=\"fill:none;stroke-width:0.5;stroke-linecap:butt;stroke-linejoin:miter;stroke:rgb(74.509804%,74.509804%,74.509804%);stroke-opacity:1;stroke-miterlimit:10;\" d=\"M 483.984375 126.804688 L 396.601562 207.707031 \"/>\n",
       "<path style=\"fill:none;stroke-width:0.5;stroke-linecap:butt;stroke-linejoin:miter;stroke:rgb(74.509804%,74.509804%,74.509804%);stroke-opacity:1;stroke-miterlimit:10;\" d=\"M 400.875 246.355469 L 396.601562 207.707031 \"/>\n",
       "<path style=\"fill-rule:nonzero;fill:rgb(100%,0%,0%);fill-opacity:1;stroke-width:1;stroke-linecap:butt;stroke-linejoin:miter;stroke:rgb(0%,0%,0%);stroke-opacity:1;stroke-miterlimit:10;\" d=\"M 180.335938 120.699219 C 180.335938 126.222656 175.859375 130.699219 170.335938 130.699219 C 164.8125 130.699219 160.335938 126.222656 160.335938 120.699219 C 160.335938 115.179688 164.8125 110.699219 170.335938 110.699219 C 175.859375 110.699219 180.335938 115.179688 180.335938 120.699219 \"/>\n",
       "<path style=\"fill-rule:nonzero;fill:rgb(100%,0%,0%);fill-opacity:1;stroke-width:1;stroke-linecap:butt;stroke-linejoin:miter;stroke:rgb(0%,0%,0%);stroke-opacity:1;stroke-miterlimit:10;\" d=\"M 302.945312 117.347656 C 302.945312 122.871094 298.46875 127.347656 292.945312 127.347656 C 287.421875 127.347656 282.945312 122.871094 282.945312 117.347656 C 282.945312 111.824219 287.421875 107.347656 292.945312 107.347656 C 298.46875 107.347656 302.945312 111.824219 302.945312 117.347656 \"/>\n",
       "<path style=\"fill-rule:nonzero;fill:rgb(100%,0%,0%);fill-opacity:1;stroke-width:1;stroke-linecap:butt;stroke-linejoin:miter;stroke:rgb(0%,0%,0%);stroke-opacity:1;stroke-miterlimit:10;\" d=\"M 155.386719 82.128906 C 155.386719 87.652344 150.910156 92.128906 145.386719 92.128906 C 139.863281 92.128906 135.386719 87.652344 135.386719 82.128906 C 135.386719 76.605469 139.863281 72.128906 145.386719 72.128906 C 150.910156 72.128906 155.386719 76.605469 155.386719 82.128906 \"/>\n",
       "<path style=\"fill-rule:nonzero;fill:rgb(0%,100%,0%);fill-opacity:1;stroke-width:1;stroke-linecap:butt;stroke-linejoin:miter;stroke:rgb(0%,0%,0%);stroke-opacity:1;stroke-miterlimit:10;\" d=\"M 42.203125 477.457031 C 42.203125 482.980469 37.726562 487.457031 32.203125 487.457031 C 26.679688 487.457031 22.203125 482.980469 22.203125 477.457031 C 22.203125 471.933594 26.679688 467.457031 32.203125 467.457031 C 37.726562 467.457031 42.203125 471.933594 42.203125 477.457031 \"/>\n",
       "<path style=\"fill-rule:nonzero;fill:rgb(0%,100%,0%);fill-opacity:1;stroke-width:1;stroke-linecap:butt;stroke-linejoin:miter;stroke:rgb(0%,0%,0%);stroke-opacity:1;stroke-miterlimit:10;\" d=\"M 137.398438 470.476562 C 137.398438 475.996094 132.921875 480.476562 127.398438 480.476562 C 121.875 480.476562 117.398438 475.996094 117.398438 470.476562 C 117.398438 464.953125 121.875 460.476562 127.398438 460.476562 C 132.921875 460.476562 137.398438 464.953125 137.398438 470.476562 \"/>\n",
       "<path style=\"fill-rule:nonzero;fill:rgb(0%,100%,0%);fill-opacity:1;stroke-width:1;stroke-linecap:butt;stroke-linejoin:miter;stroke:rgb(0%,0%,0%);stroke-opacity:1;stroke-miterlimit:10;\" d=\"M 115.234375 528.027344 C 115.234375 533.550781 110.757812 538.027344 105.234375 538.027344 C 99.714844 538.027344 95.234375 533.550781 95.234375 528.027344 C 95.234375 522.503906 99.714844 518.027344 105.234375 518.027344 C 110.757812 518.027344 115.234375 522.503906 115.234375 528.027344 \"/>\n",
       "<path style=\"fill-rule:nonzero;fill:rgb(100%,0%,0%);fill-opacity:1;stroke-width:1;stroke-linecap:butt;stroke-linejoin:miter;stroke:rgb(0%,0%,0%);stroke-opacity:1;stroke-miterlimit:10;\" d=\"M 204.492188 29.113281 C 204.492188 34.636719 200.015625 39.113281 194.492188 39.113281 C 188.972656 39.113281 184.492188 34.636719 184.492188 29.113281 C 184.492188 23.589844 188.972656 19.113281 194.492188 19.113281 C 200.015625 19.113281 204.492188 23.589844 204.492188 29.113281 \"/>\n",
       "<path style=\"fill-rule:nonzero;fill:rgb(100%,0%,0%);fill-opacity:1;stroke-width:1;stroke-linecap:butt;stroke-linejoin:miter;stroke:rgb(0%,0%,0%);stroke-opacity:1;stroke-miterlimit:10;\" d=\"M 330.316406 208.726562 C 330.316406 214.25 325.839844 218.726562 320.316406 218.726562 C 314.796875 218.726562 310.316406 214.25 310.316406 208.726562 C 310.316406 203.203125 314.796875 198.726562 320.316406 198.726562 C 325.839844 198.726562 330.316406 203.203125 330.316406 208.726562 \"/>\n",
       "<path style=\"fill-rule:nonzero;fill:rgb(100%,0%,0%);fill-opacity:1;stroke-width:1;stroke-linecap:butt;stroke-linejoin:miter;stroke:rgb(0%,0%,0%);stroke-opacity:1;stroke-miterlimit:10;\" d=\"M 367.578125 54.539062 C 367.578125 60.0625 363.097656 64.539062 357.578125 64.539062 C 352.054688 64.539062 347.578125 60.0625 347.578125 54.539062 C 347.578125 49.015625 352.054688 44.539062 357.578125 44.539062 C 363.097656 44.539062 367.578125 49.015625 367.578125 54.539062 \"/>\n",
       "<path style=\"fill-rule:nonzero;fill:rgb(0%,100%,0%);fill-opacity:1;stroke-width:1;stroke-linecap:butt;stroke-linejoin:miter;stroke:rgb(0%,0%,0%);stroke-opacity:1;stroke-miterlimit:10;\" d=\"M 60.671875 414.75 C 60.671875 420.273438 56.195312 424.75 50.671875 424.75 C 45.148438 424.75 40.671875 420.273438 40.671875 414.75 C 40.671875 409.226562 45.148438 404.75 50.671875 404.75 C 56.195312 404.75 60.671875 409.226562 60.671875 414.75 \"/>\n",
       "<path style=\"fill-rule:nonzero;fill:rgb(0%,0%,100%);fill-opacity:1;stroke-width:1;stroke-linecap:butt;stroke-linejoin:miter;stroke:rgb(0%,0%,0%);stroke-opacity:1;stroke-miterlimit:10;\" d=\"M 435.316406 580 C 435.316406 585.523438 430.839844 590 425.316406 590 C 419.792969 590 415.316406 585.523438 415.316406 580 C 415.316406 574.476562 419.792969 570 425.316406 570 C 430.839844 570 435.316406 574.476562 435.316406 580 \"/>\n",
       "<path style=\"fill-rule:nonzero;fill:rgb(100%,0%,0%);fill-opacity:1;stroke-width:1;stroke-linecap:butt;stroke-linejoin:miter;stroke:rgb(0%,0%,0%);stroke-opacity:1;stroke-miterlimit:10;\" d=\"M 30 76.464844 C 30 81.988281 25.523438 86.464844 20 86.464844 C 14.476562 86.464844 10 81.988281 10 76.464844 C 10 70.945312 14.476562 66.464844 20 66.464844 C 25.523438 66.464844 30 70.945312 30 76.464844 \"/>\n",
       "<path style=\"fill-rule:nonzero;fill:rgb(100%,0%,0%);fill-opacity:1;stroke-width:1;stroke-linecap:butt;stroke-linejoin:miter;stroke:rgb(0%,0%,0%);stroke-opacity:1;stroke-miterlimit:10;\" d=\"M 241.355469 155.308594 C 241.355469 160.832031 236.878906 165.308594 231.355469 165.308594 C 225.832031 165.308594 221.355469 160.832031 221.355469 155.308594 C 221.355469 149.785156 225.832031 145.308594 231.355469 145.308594 C 236.878906 145.308594 241.355469 149.785156 241.355469 155.308594 \"/>\n",
       "<path style=\"fill-rule:nonzero;fill:rgb(100%,0%,0%);fill-opacity:1;stroke-width:1;stroke-linecap:butt;stroke-linejoin:miter;stroke:rgb(0%,0%,0%);stroke-opacity:1;stroke-miterlimit:10;\" d=\"M 371 345.289062 C 371 350.8125 366.523438 355.289062 361 355.289062 C 355.476562 355.289062 351 350.8125 351 345.289062 C 351 339.765625 355.476562 335.289062 361 335.289062 C 366.523438 335.289062 371 339.765625 371 345.289062 \"/>\n",
       "<path style=\"fill-rule:nonzero;fill:rgb(100%,0%,0%);fill-opacity:1;stroke-width:1;stroke-linecap:butt;stroke-linejoin:miter;stroke:rgb(0%,0%,0%);stroke-opacity:1;stroke-miterlimit:10;\" d=\"M 494.921875 299.441406 C 494.921875 304.964844 490.445312 309.441406 484.921875 309.441406 C 479.398438 309.441406 474.921875 304.964844 474.921875 299.441406 C 474.921875 293.921875 479.398438 289.441406 484.921875 289.441406 C 490.445312 289.441406 494.921875 293.921875 494.921875 299.441406 \"/>\n",
       "<path style=\"fill-rule:nonzero;fill:rgb(0%,100%,0%);fill-opacity:1;stroke-width:1;stroke-linecap:butt;stroke-linejoin:miter;stroke:rgb(0%,0%,0%);stroke-opacity:1;stroke-miterlimit:10;\" d=\"M 191.226562 537.136719 C 191.226562 542.660156 186.75 547.136719 181.226562 547.136719 C 175.703125 547.136719 171.226562 542.660156 171.226562 537.136719 C 171.226562 531.617188 175.703125 527.136719 181.226562 527.136719 C 186.75 527.136719 191.226562 531.617188 191.226562 537.136719 \"/>\n",
       "<path style=\"fill-rule:nonzero;fill:rgb(100%,0%,0%);fill-opacity:1;stroke-width:1;stroke-linecap:butt;stroke-linejoin:miter;stroke:rgb(0%,0%,0%);stroke-opacity:1;stroke-miterlimit:10;\" d=\"M 92.246094 20 C 92.246094 25.523438 87.769531 30 82.246094 30 C 76.726562 30 72.246094 25.523438 72.246094 20 C 72.246094 14.476562 76.726562 10 82.246094 10 C 87.769531 10 92.246094 14.476562 92.246094 20 \"/>\n",
       "<path style=\"fill-rule:nonzero;fill:rgb(100%,0%,0%);fill-opacity:1;stroke-width:1;stroke-linecap:butt;stroke-linejoin:miter;stroke:rgb(0%,0%,0%);stroke-opacity:1;stroke-miterlimit:10;\" d=\"M 469.984375 343.722656 C 469.984375 349.246094 465.507812 353.722656 459.984375 353.722656 C 454.460938 353.722656 449.984375 349.246094 449.984375 343.722656 C 449.984375 338.199219 454.460938 333.722656 459.984375 333.722656 C 465.507812 333.722656 469.984375 338.199219 469.984375 343.722656 \"/>\n",
       "<path style=\"fill-rule:nonzero;fill:rgb(100%,0%,0%);fill-opacity:1;stroke-width:1;stroke-linecap:butt;stroke-linejoin:miter;stroke:rgb(0%,0%,0%);stroke-opacity:1;stroke-miterlimit:10;\" d=\"M 283.992188 81.660156 C 283.992188 87.179688 279.515625 91.660156 273.992188 91.660156 C 268.46875 91.660156 263.992188 87.179688 263.992188 81.660156 C 263.992188 76.136719 268.46875 71.660156 273.992188 71.660156 C 279.515625 71.660156 283.992188 76.136719 283.992188 81.660156 \"/>\n",
       "<path style=\"fill-rule:nonzero;fill:rgb(100%,0%,0%);fill-opacity:1;stroke-width:1;stroke-linecap:butt;stroke-linejoin:miter;stroke:rgb(0%,0%,0%);stroke-opacity:1;stroke-miterlimit:10;\" d=\"M 329.628906 308.015625 C 329.628906 313.535156 325.148438 318.015625 319.628906 318.015625 C 314.105469 318.015625 309.628906 313.535156 309.628906 308.015625 C 309.628906 302.492188 314.105469 298.015625 319.628906 298.015625 C 325.148438 298.015625 329.628906 302.492188 329.628906 308.015625 \"/>\n",
       "<path style=\"fill-rule:nonzero;fill:rgb(100%,0%,0%);fill-opacity:1;stroke-width:1;stroke-linecap:butt;stroke-linejoin:miter;stroke:rgb(0%,0%,0%);stroke-opacity:1;stroke-miterlimit:10;\" d=\"M 59.714844 178.410156 C 59.714844 183.933594 55.238281 188.410156 49.714844 188.410156 C 44.191406 188.410156 39.714844 183.933594 39.714844 178.410156 C 39.714844 172.886719 44.191406 168.410156 49.714844 168.410156 C 55.238281 168.410156 59.714844 172.886719 59.714844 178.410156 \"/>\n",
       "<path style=\"fill-rule:nonzero;fill:rgb(100%,0%,0%);fill-opacity:1;stroke-width:1;stroke-linecap:butt;stroke-linejoin:miter;stroke:rgb(0%,0%,0%);stroke-opacity:1;stroke-miterlimit:10;\" d=\"M 420.523438 336.828125 C 420.523438 342.351562 416.042969 346.828125 410.523438 346.828125 C 405 346.828125 400.523438 342.351562 400.523438 336.828125 C 400.523438 331.304688 405 326.828125 410.523438 326.828125 C 416.042969 326.828125 420.523438 331.304688 420.523438 336.828125 \"/>\n",
       "<path style=\"fill-rule:nonzero;fill:rgb(100%,0%,0%);fill-opacity:1;stroke-width:1;stroke-linecap:butt;stroke-linejoin:miter;stroke:rgb(0%,0%,0%);stroke-opacity:1;stroke-miterlimit:10;\" d=\"M 512.371094 172.039062 C 512.371094 177.5625 507.894531 182.039062 502.371094 182.039062 C 496.847656 182.039062 492.371094 177.5625 492.371094 172.039062 C 492.371094 166.515625 496.847656 162.039062 502.371094 162.039062 C 507.894531 162.039062 512.371094 166.515625 512.371094 172.039062 \"/>\n",
       "<path style=\"fill-rule:nonzero;fill:rgb(100%,0%,0%);fill-opacity:1;stroke-width:1;stroke-linecap:butt;stroke-linejoin:miter;stroke:rgb(0%,0%,0%);stroke-opacity:1;stroke-miterlimit:10;\" d=\"M 541.792969 34.523438 C 541.792969 40.046875 537.316406 44.523438 531.792969 44.523438 C 526.269531 44.523438 521.792969 40.046875 521.792969 34.523438 C 521.792969 29.003906 526.269531 24.523438 531.792969 24.523438 C 537.316406 24.523438 541.792969 29.003906 541.792969 34.523438 \"/>\n",
       "<path style=\"fill-rule:nonzero;fill:rgb(100%,0%,0%);fill-opacity:1;stroke-width:1;stroke-linecap:butt;stroke-linejoin:miter;stroke:rgb(0%,0%,0%);stroke-opacity:1;stroke-miterlimit:10;\" d=\"M 590 96.667969 C 590 102.191406 585.523438 106.667969 580 106.667969 C 574.476562 106.667969 570 102.191406 570 96.667969 C 570 91.144531 574.476562 86.667969 580 86.667969 C 585.523438 86.667969 590 91.144531 590 96.667969 \"/>\n",
       "<path style=\"fill-rule:nonzero;fill:rgb(100%,0%,0%);fill-opacity:1;stroke-width:1;stroke-linecap:butt;stroke-linejoin:miter;stroke:rgb(0%,0%,0%);stroke-opacity:1;stroke-miterlimit:10;\" d=\"M 567.453125 270.757812 C 567.453125 276.28125 562.976562 280.757812 557.453125 280.757812 C 551.929688 280.757812 547.453125 276.28125 547.453125 270.757812 C 547.453125 265.238281 551.929688 260.757812 557.453125 260.757812 C 562.976562 260.757812 567.453125 265.238281 567.453125 270.757812 \"/>\n",
       "<path style=\"fill-rule:nonzero;fill:rgb(100%,0%,0%);fill-opacity:1;stroke-width:1;stroke-linecap:butt;stroke-linejoin:miter;stroke:rgb(0%,0%,0%);stroke-opacity:1;stroke-miterlimit:10;\" d=\"M 448.957031 85.652344 C 448.957031 91.175781 444.480469 95.652344 438.957031 95.652344 C 433.4375 95.652344 428.957031 91.175781 428.957031 85.652344 C 428.957031 80.128906 433.4375 75.652344 438.957031 75.652344 C 444.480469 75.652344 448.957031 80.128906 448.957031 85.652344 \"/>\n",
       "<path style=\"fill-rule:nonzero;fill:rgb(100%,0%,0%);fill-opacity:1;stroke-width:1;stroke-linecap:butt;stroke-linejoin:miter;stroke:rgb(0%,0%,0%);stroke-opacity:1;stroke-miterlimit:10;\" d=\"M 401.308594 111.003906 C 401.308594 116.527344 396.828125 121.003906 391.308594 121.003906 C 385.785156 121.003906 381.308594 116.527344 381.308594 111.003906 C 381.308594 105.480469 385.785156 101.003906 391.308594 101.003906 C 396.828125 101.003906 401.308594 105.480469 401.308594 111.003906 \"/>\n",
       "<path style=\"fill-rule:nonzero;fill:rgb(100%,0%,0%);fill-opacity:1;stroke-width:1;stroke-linecap:butt;stroke-linejoin:miter;stroke:rgb(0%,0%,0%);stroke-opacity:1;stroke-miterlimit:10;\" d=\"M 516.257812 237.832031 C 516.257812 243.355469 511.78125 247.832031 506.257812 247.832031 C 500.734375 247.832031 496.257812 243.355469 496.257812 237.832031 C 496.257812 232.308594 500.734375 227.832031 506.257812 227.832031 C 511.78125 227.832031 516.257812 232.308594 516.257812 237.832031 \"/>\n",
       "<path style=\"fill-rule:nonzero;fill:rgb(100%,0%,0%);fill-opacity:1;stroke-width:1;stroke-linecap:butt;stroke-linejoin:miter;stroke:rgb(0%,0%,0%);stroke-opacity:1;stroke-miterlimit:10;\" d=\"M 278.535156 223.550781 C 278.535156 229.074219 274.058594 233.550781 268.535156 233.550781 C 263.011719 233.550781 258.535156 229.074219 258.535156 223.550781 C 258.535156 218.027344 263.011719 213.550781 268.535156 213.550781 C 274.058594 213.550781 278.535156 218.027344 278.535156 223.550781 \"/>\n",
       "<path style=\"fill-rule:nonzero;fill:rgb(100%,0%,0%);fill-opacity:1;stroke-width:1;stroke-linecap:butt;stroke-linejoin:miter;stroke:rgb(0%,0%,0%);stroke-opacity:1;stroke-miterlimit:10;\" d=\"M 493.984375 126.804688 C 493.984375 132.328125 489.507812 136.804688 483.984375 136.804688 C 478.460938 136.804688 473.984375 132.328125 473.984375 126.804688 C 473.984375 121.28125 478.460938 116.804688 483.984375 116.804688 C 489.507812 116.804688 493.984375 121.28125 493.984375 126.804688 \"/>\n",
       "<path style=\"fill-rule:nonzero;fill:rgb(100%,0%,0%);fill-opacity:1;stroke-width:1;stroke-linecap:butt;stroke-linejoin:miter;stroke:rgb(0%,0%,0%);stroke-opacity:1;stroke-miterlimit:10;\" d=\"M 410.875 246.355469 C 410.875 251.878906 406.398438 256.355469 400.875 256.355469 C 395.351562 256.355469 390.875 251.878906 390.875 246.355469 C 390.875 240.832031 395.351562 236.355469 400.875 236.355469 C 406.398438 236.355469 410.875 240.832031 410.875 246.355469 \"/>\n",
       "<path style=\"fill-rule:nonzero;fill:rgb(100%,0%,0%);fill-opacity:1;stroke-width:1;stroke-linecap:butt;stroke-linejoin:miter;stroke:rgb(0%,0%,0%);stroke-opacity:1;stroke-miterlimit:10;\" d=\"M 406.601562 207.707031 C 406.601562 213.230469 402.125 217.707031 396.601562 217.707031 C 391.082031 217.707031 386.601562 213.230469 386.601562 207.707031 C 386.601562 202.183594 391.082031 197.707031 396.601562 197.707031 C 402.125 197.707031 406.601562 202.183594 406.601562 207.707031 \"/>\n",
       "</g>\n",
       "</svg>\n"
      ],
      "text/plain": [
       "<igraph.drawing.Plot at 0x1099300b8>"
      ]
     },
     "execution_count": 28,
     "metadata": {},
     "output_type": "execute_result"
    }
   ],
   "source": [
    "H = G.copy()\n",
    "H.delete_vertices(0)\n",
    "components = H.clusters()\n",
    "ig.plot(components, layout=H.layout_fruchterman_reingold())"
   ]
  },
  {
   "cell_type": "markdown",
   "metadata": {},
   "source": [
    "This means that node 0 functions as a bridge. In fact, this is the only node that acts as a bridge in this graph."
   ]
  },
  {
   "cell_type": "code",
   "execution_count": 29,
   "metadata": {
    "ExecuteTime": {
     "end_time": "2019-06-25T21:29:04.124630Z",
     "start_time": "2019-06-25T21:29:04.109474Z"
    }
   },
   "outputs": [
    {
     "data": {
      "image/svg+xml": [
       "<?xml version=\"1.0\" encoding=\"UTF-8\"?>\n",
       "<svg xmlns=\"http://www.w3.org/2000/svg\" xmlns:xlink=\"http://www.w3.org/1999/xlink\" width=\"600pt\" height=\"600pt\" viewBox=\"0 0 600 600\" version=\"1.1\">\n",
       "<g id=\"surface62\">\n",
       "<rect x=\"0\" y=\"0\" width=\"600\" height=\"600\" style=\"fill:rgb(100%,100%,100%);fill-opacity:1;stroke:none;\"/>\n",
       "<path style=\"fill:none;stroke-width:0.5;stroke-linecap:butt;stroke-linejoin:miter;stroke:rgb(74.509804%,74.509804%,74.509804%);stroke-opacity:1;stroke-miterlimit:10;\" d=\"M 221.085938 374.695312 L 260.867188 332.039062 \"/>\n",
       "<path style=\"fill:none;stroke-width:0.5;stroke-linecap:butt;stroke-linejoin:miter;stroke:rgb(74.509804%,74.509804%,74.509804%);stroke-opacity:1;stroke-miterlimit:10;\" d=\"M 221.085938 374.695312 L 368.019531 370.164062 \"/>\n",
       "<path style=\"fill:none;stroke-width:0.5;stroke-linecap:butt;stroke-linejoin:miter;stroke:rgb(74.509804%,74.509804%,74.509804%);stroke-opacity:1;stroke-miterlimit:10;\" d=\"M 221.085938 374.695312 L 297.65625 476.515625 \"/>\n",
       "<path style=\"fill:none;stroke-width:0.5;stroke-linecap:butt;stroke-linejoin:miter;stroke:rgb(74.509804%,74.509804%,74.509804%);stroke-opacity:1;stroke-miterlimit:10;\" d=\"M 221.085938 374.695312 L 75.875 415.714844 \"/>\n",
       "<path style=\"fill:none;stroke-width:0.5;stroke-linecap:butt;stroke-linejoin:miter;stroke:rgb(74.509804%,74.509804%,74.509804%);stroke-opacity:1;stroke-miterlimit:10;\" d=\"M 221.085938 374.695312 L 94.472656 241.8125 \"/>\n",
       "<path style=\"fill:none;stroke-width:0.5;stroke-linecap:butt;stroke-linejoin:miter;stroke:rgb(74.509804%,74.509804%,74.509804%);stroke-opacity:1;stroke-miterlimit:10;\" d=\"M 221.085938 374.695312 L 62.777344 297.972656 \"/>\n",
       "<path style=\"fill:none;stroke-width:0.5;stroke-linecap:butt;stroke-linejoin:miter;stroke:rgb(74.509804%,74.509804%,74.509804%);stroke-opacity:1;stroke-miterlimit:10;\" d=\"M 221.085938 374.695312 L 262.082031 458.457031 \"/>\n",
       "<path style=\"fill:none;stroke-width:0.5;stroke-linecap:butt;stroke-linejoin:miter;stroke:rgb(74.509804%,74.509804%,74.509804%);stroke-opacity:1;stroke-miterlimit:10;\" d=\"M 221.085938 374.695312 L 350.632812 251.960938 \"/>\n",
       "<path style=\"fill:none;stroke-width:0.5;stroke-linecap:butt;stroke-linejoin:miter;stroke:rgb(74.509804%,74.509804%,74.509804%);stroke-opacity:1;stroke-miterlimit:10;\" d=\"M 221.085938 374.695312 L 99.964844 350.988281 \"/>\n",
       "<path style=\"fill:none;stroke-width:0.5;stroke-linecap:butt;stroke-linejoin:miter;stroke:rgb(74.509804%,74.509804%,74.509804%);stroke-opacity:1;stroke-miterlimit:10;\" d=\"M 221.085938 374.695312 L 145.425781 564.195312 \"/>\n",
       "<path style=\"fill:none;stroke-width:0.5;stroke-linecap:butt;stroke-linejoin:miter;stroke:rgb(74.509804%,74.509804%,74.509804%);stroke-opacity:1;stroke-miterlimit:10;\" d=\"M 221.085938 374.695312 L 243.695312 580 \"/>\n",
       "<path style=\"fill:none;stroke-width:0.5;stroke-linecap:butt;stroke-linejoin:miter;stroke:rgb(74.509804%,74.509804%,74.509804%);stroke-opacity:1;stroke-miterlimit:10;\" d=\"M 221.085938 374.695312 L 322.859375 352.128906 \"/>\n",
       "<path style=\"fill:none;stroke-width:0.5;stroke-linecap:butt;stroke-linejoin:miter;stroke:rgb(74.509804%,74.509804%,74.509804%);stroke-opacity:1;stroke-miterlimit:10;\" d=\"M 221.085938 374.695312 L 178.90625 234.371094 \"/>\n",
       "<path style=\"fill:none;stroke-width:0.5;stroke-linecap:butt;stroke-linejoin:miter;stroke:rgb(74.509804%,74.509804%,74.509804%);stroke-opacity:1;stroke-miterlimit:10;\" d=\"M 221.085938 374.695312 L 282.757812 220.152344 \"/>\n",
       "<path style=\"fill:none;stroke-width:0.5;stroke-linecap:butt;stroke-linejoin:miter;stroke:rgb(74.509804%,74.509804%,74.509804%);stroke-opacity:1;stroke-miterlimit:10;\" d=\"M 221.085938 374.695312 L 169.078125 452.429688 \"/>\n",
       "<path style=\"fill:none;stroke-width:0.5;stroke-linecap:butt;stroke-linejoin:miter;stroke:rgb(74.509804%,74.509804%,74.509804%);stroke-opacity:1;stroke-miterlimit:10;\" d=\"M 221.085938 374.695312 L 434.171875 373.011719 \"/>\n",
       "<path style=\"fill:none;stroke-width:0.5;stroke-linecap:butt;stroke-linejoin:miter;stroke:rgb(74.509804%,74.509804%,74.509804%);stroke-opacity:1;stroke-miterlimit:10;\" d=\"M 260.867188 332.039062 L 368.019531 370.164062 \"/>\n",
       "<path style=\"fill:none;stroke-width:0.5;stroke-linecap:butt;stroke-linejoin:miter;stroke:rgb(74.509804%,74.509804%,74.509804%);stroke-opacity:1;stroke-miterlimit:10;\" d=\"M 260.867188 332.039062 L 297.65625 476.515625 \"/>\n",
       "<path style=\"fill:none;stroke-width:0.5;stroke-linecap:butt;stroke-linejoin:miter;stroke:rgb(74.509804%,74.509804%,74.509804%);stroke-opacity:1;stroke-miterlimit:10;\" d=\"M 260.867188 332.039062 L 262.082031 458.457031 \"/>\n",
       "<path style=\"fill:none;stroke-width:0.5;stroke-linecap:butt;stroke-linejoin:miter;stroke:rgb(74.509804%,74.509804%,74.509804%);stroke-opacity:1;stroke-miterlimit:10;\" d=\"M 260.867188 332.039062 L 322.859375 352.128906 \"/>\n",
       "<path style=\"fill:none;stroke-width:0.5;stroke-linecap:butt;stroke-linejoin:miter;stroke:rgb(74.509804%,74.509804%,74.509804%);stroke-opacity:1;stroke-miterlimit:10;\" d=\"M 260.867188 332.039062 L 178.90625 234.371094 \"/>\n",
       "<path style=\"fill:none;stroke-width:0.5;stroke-linecap:butt;stroke-linejoin:miter;stroke:rgb(74.509804%,74.509804%,74.509804%);stroke-opacity:1;stroke-miterlimit:10;\" d=\"M 260.867188 332.039062 L 282.757812 220.152344 \"/>\n",
       "<path style=\"fill:none;stroke-width:0.5;stroke-linecap:butt;stroke-linejoin:miter;stroke:rgb(74.509804%,74.509804%,74.509804%);stroke-opacity:1;stroke-miterlimit:10;\" d=\"M 260.867188 332.039062 L 169.078125 452.429688 \"/>\n",
       "<path style=\"fill:none;stroke-width:0.5;stroke-linecap:butt;stroke-linejoin:miter;stroke:rgb(74.509804%,74.509804%,74.509804%);stroke-opacity:1;stroke-miterlimit:10;\" d=\"M 260.867188 332.039062 L 346.40625 169.027344 \"/>\n",
       "<path style=\"fill:none;stroke-width:0.5;stroke-linecap:butt;stroke-linejoin:miter;stroke:rgb(74.509804%,74.509804%,74.509804%);stroke-opacity:1;stroke-miterlimit:10;\" d=\"M 368.019531 370.164062 L 297.65625 476.515625 \"/>\n",
       "<path style=\"fill:none;stroke-width:0.5;stroke-linecap:butt;stroke-linejoin:miter;stroke:rgb(74.509804%,74.509804%,74.509804%);stroke-opacity:1;stroke-miterlimit:10;\" d=\"M 368.019531 370.164062 L 262.082031 458.457031 \"/>\n",
       "<path style=\"fill:none;stroke-width:0.5;stroke-linecap:butt;stroke-linejoin:miter;stroke:rgb(74.509804%,74.509804%,74.509804%);stroke-opacity:1;stroke-miterlimit:10;\" d=\"M 368.019531 370.164062 L 509.847656 386.65625 \"/>\n",
       "<path style=\"fill:none;stroke-width:0.5;stroke-linecap:butt;stroke-linejoin:miter;stroke:rgb(74.509804%,74.509804%,74.509804%);stroke-opacity:1;stroke-miterlimit:10;\" d=\"M 368.019531 370.164062 L 469.820312 324.519531 \"/>\n",
       "<path style=\"fill:none;stroke-width:0.5;stroke-linecap:butt;stroke-linejoin:miter;stroke:rgb(74.509804%,74.509804%,74.509804%);stroke-opacity:1;stroke-miterlimit:10;\" d=\"M 368.019531 370.164062 L 455.253906 174.800781 \"/>\n",
       "<path style=\"fill:none;stroke-width:0.5;stroke-linecap:butt;stroke-linejoin:miter;stroke:rgb(74.509804%,74.509804%,74.509804%);stroke-opacity:1;stroke-miterlimit:10;\" d=\"M 368.019531 370.164062 L 449.386719 441.878906 \"/>\n",
       "<path style=\"fill:none;stroke-width:0.5;stroke-linecap:butt;stroke-linejoin:miter;stroke:rgb(74.509804%,74.509804%,74.509804%);stroke-opacity:1;stroke-miterlimit:10;\" d=\"M 368.019531 370.164062 L 350.632812 251.960938 \"/>\n",
       "<path style=\"fill:none;stroke-width:0.5;stroke-linecap:butt;stroke-linejoin:miter;stroke:rgb(74.509804%,74.509804%,74.509804%);stroke-opacity:1;stroke-miterlimit:10;\" d=\"M 368.019531 370.164062 L 322.859375 352.128906 \"/>\n",
       "<path style=\"fill:none;stroke-width:0.5;stroke-linecap:butt;stroke-linejoin:miter;stroke:rgb(74.509804%,74.509804%,74.509804%);stroke-opacity:1;stroke-miterlimit:10;\" d=\"M 297.65625 476.515625 L 262.082031 458.457031 \"/>\n",
       "<path style=\"fill:none;stroke-width:0.5;stroke-linecap:butt;stroke-linejoin:miter;stroke:rgb(74.509804%,74.509804%,74.509804%);stroke-opacity:1;stroke-miterlimit:10;\" d=\"M 297.65625 476.515625 L 243.695312 580 \"/>\n",
       "<path style=\"fill:none;stroke-width:0.5;stroke-linecap:butt;stroke-linejoin:miter;stroke:rgb(74.509804%,74.509804%,74.509804%);stroke-opacity:1;stroke-miterlimit:10;\" d=\"M 297.65625 476.515625 L 322.859375 352.128906 \"/>\n",
       "<path style=\"fill:none;stroke-width:0.5;stroke-linecap:butt;stroke-linejoin:miter;stroke:rgb(74.509804%,74.509804%,74.509804%);stroke-opacity:1;stroke-miterlimit:10;\" d=\"M 75.875 415.714844 L 62.777344 297.972656 \"/>\n",
       "<path style=\"fill:none;stroke-width:0.5;stroke-linecap:butt;stroke-linejoin:miter;stroke:rgb(74.509804%,74.509804%,74.509804%);stroke-opacity:1;stroke-miterlimit:10;\" d=\"M 75.875 415.714844 L 99.964844 350.988281 \"/>\n",
       "<path style=\"fill:none;stroke-width:0.5;stroke-linecap:butt;stroke-linejoin:miter;stroke:rgb(74.509804%,74.509804%,74.509804%);stroke-opacity:1;stroke-miterlimit:10;\" d=\"M 94.472656 241.8125 L 62.777344 297.972656 \"/>\n",
       "<path style=\"fill:none;stroke-width:0.5;stroke-linecap:butt;stroke-linejoin:miter;stroke:rgb(74.509804%,74.509804%,74.509804%);stroke-opacity:1;stroke-miterlimit:10;\" d=\"M 94.472656 241.8125 L 99.964844 350.988281 \"/>\n",
       "<path style=\"fill:none;stroke-width:0.5;stroke-linecap:butt;stroke-linejoin:miter;stroke:rgb(74.509804%,74.509804%,74.509804%);stroke-opacity:1;stroke-miterlimit:10;\" d=\"M 94.472656 241.8125 L 20 170.296875 \"/>\n",
       "<path style=\"fill:none;stroke-width:0.5;stroke-linecap:butt;stroke-linejoin:miter;stroke:rgb(74.509804%,74.509804%,74.509804%);stroke-opacity:1;stroke-miterlimit:10;\" d=\"M 62.777344 297.972656 L 20 170.296875 \"/>\n",
       "<path style=\"fill:none;stroke-width:0.5;stroke-linecap:butt;stroke-linejoin:miter;stroke:rgb(74.509804%,74.509804%,74.509804%);stroke-opacity:1;stroke-miterlimit:10;\" d=\"M 350.632812 251.960938 L 346.40625 169.027344 \"/>\n",
       "<path style=\"fill:none;stroke-width:0.5;stroke-linecap:butt;stroke-linejoin:miter;stroke:rgb(74.509804%,74.509804%,74.509804%);stroke-opacity:1;stroke-miterlimit:10;\" d=\"M 350.632812 251.960938 L 455.253906 174.800781 \"/>\n",
       "<path style=\"fill:none;stroke-width:0.5;stroke-linecap:butt;stroke-linejoin:miter;stroke:rgb(74.509804%,74.509804%,74.509804%);stroke-opacity:1;stroke-miterlimit:10;\" d=\"M 350.632812 251.960938 L 449.457031 212.871094 \"/>\n",
       "<path style=\"fill:none;stroke-width:0.5;stroke-linecap:butt;stroke-linejoin:miter;stroke:rgb(74.509804%,74.509804%,74.509804%);stroke-opacity:1;stroke-miterlimit:10;\" d=\"M 449.386719 441.878906 L 449.457031 212.871094 \"/>\n",
       "<path style=\"fill:none;stroke-width:0.5;stroke-linecap:butt;stroke-linejoin:miter;stroke:rgb(74.509804%,74.509804%,74.509804%);stroke-opacity:1;stroke-miterlimit:10;\" d=\"M 322.859375 352.128906 L 449.457031 212.871094 \"/>\n",
       "<path style=\"fill:none;stroke-width:0.5;stroke-linecap:butt;stroke-linejoin:miter;stroke:rgb(74.509804%,74.509804%,74.509804%);stroke-opacity:1;stroke-miterlimit:10;\" d=\"M 474.171875 40.453125 L 455.253906 174.800781 \"/>\n",
       "<path style=\"fill:none;stroke-width:0.5;stroke-linecap:butt;stroke-linejoin:miter;stroke:rgb(74.509804%,74.509804%,74.509804%);stroke-opacity:1;stroke-miterlimit:10;\" d=\"M 474.171875 40.453125 L 449.457031 212.871094 \"/>\n",
       "<path style=\"fill:none;stroke-width:0.5;stroke-linecap:butt;stroke-linejoin:miter;stroke:rgb(74.509804%,74.509804%,74.509804%);stroke-opacity:1;stroke-miterlimit:10;\" d=\"M 544.511719 92.824219 L 455.253906 174.800781 \"/>\n",
       "<path style=\"fill:none;stroke-width:0.5;stroke-linecap:butt;stroke-linejoin:miter;stroke:rgb(74.509804%,74.509804%,74.509804%);stroke-opacity:1;stroke-miterlimit:10;\" d=\"M 544.511719 92.824219 L 449.457031 212.871094 \"/>\n",
       "<path style=\"fill:none;stroke-width:0.5;stroke-linecap:butt;stroke-linejoin:miter;stroke:rgb(74.509804%,74.509804%,74.509804%);stroke-opacity:1;stroke-miterlimit:10;\" d=\"M 427.582031 20 L 455.253906 174.800781 \"/>\n",
       "<path style=\"fill:none;stroke-width:0.5;stroke-linecap:butt;stroke-linejoin:miter;stroke:rgb(74.509804%,74.509804%,74.509804%);stroke-opacity:1;stroke-miterlimit:10;\" d=\"M 427.582031 20 L 449.457031 212.871094 \"/>\n",
       "<path style=\"fill:none;stroke-width:0.5;stroke-linecap:butt;stroke-linejoin:miter;stroke:rgb(74.509804%,74.509804%,74.509804%);stroke-opacity:1;stroke-miterlimit:10;\" d=\"M 282.757812 220.152344 L 449.457031 212.871094 \"/>\n",
       "<path style=\"fill:none;stroke-width:0.5;stroke-linecap:butt;stroke-linejoin:miter;stroke:rgb(74.509804%,74.509804%,74.509804%);stroke-opacity:1;stroke-miterlimit:10;\" d=\"M 383.960938 52.757812 L 455.253906 174.800781 \"/>\n",
       "<path style=\"fill:none;stroke-width:0.5;stroke-linecap:butt;stroke-linejoin:miter;stroke:rgb(74.509804%,74.509804%,74.509804%);stroke-opacity:1;stroke-miterlimit:10;\" d=\"M 383.960938 52.757812 L 449.457031 212.871094 \"/>\n",
       "<path style=\"fill:none;stroke-width:0.5;stroke-linecap:butt;stroke-linejoin:miter;stroke:rgb(74.509804%,74.509804%,74.509804%);stroke-opacity:1;stroke-miterlimit:10;\" d=\"M 580 195.355469 L 455.253906 174.800781 \"/>\n",
       "<path style=\"fill:none;stroke-width:0.5;stroke-linecap:butt;stroke-linejoin:miter;stroke:rgb(74.509804%,74.509804%,74.509804%);stroke-opacity:1;stroke-miterlimit:10;\" d=\"M 580 195.355469 L 449.457031 212.871094 \"/>\n",
       "<path style=\"fill:none;stroke-width:2;stroke-linecap:butt;stroke-linejoin:miter;stroke:rgb(100%,0%,0%);stroke-opacity:1;stroke-miterlimit:10;\" d=\"M 553.273438 284.808594 L 574.003906 439.148438 \"/>\n",
       "<path style=\"fill:none;stroke-width:2;stroke-linecap:butt;stroke-linejoin:miter;stroke:rgb(100%,0%,0%);stroke-opacity:1;stroke-miterlimit:10;\" d=\"M 553.273438 284.808594 L 509.847656 386.65625 \"/>\n",
       "<path style=\"fill:none;stroke-width:0.5;stroke-linecap:butt;stroke-linejoin:miter;stroke:rgb(74.509804%,74.509804%,74.509804%);stroke-opacity:1;stroke-miterlimit:10;\" d=\"M 553.273438 284.808594 L 455.253906 174.800781 \"/>\n",
       "<path style=\"fill:none;stroke-width:0.5;stroke-linecap:butt;stroke-linejoin:miter;stroke:rgb(74.509804%,74.509804%,74.509804%);stroke-opacity:1;stroke-miterlimit:10;\" d=\"M 553.273438 284.808594 L 449.457031 212.871094 \"/>\n",
       "<path style=\"fill:none;stroke-width:0.5;stroke-linecap:butt;stroke-linejoin:miter;stroke:rgb(74.509804%,74.509804%,74.509804%);stroke-opacity:1;stroke-miterlimit:10;\" d=\"M 553.273438 284.808594 L 544.550781 154.023438 \"/>\n",
       "<path style=\"fill:none;stroke-width:2;stroke-linecap:butt;stroke-linejoin:miter;stroke:rgb(100%,0%,0%);stroke-opacity:1;stroke-miterlimit:10;\" d=\"M 531.066406 516.8125 L 574.003906 439.148438 \"/>\n",
       "<path style=\"fill:none;stroke-width:2;stroke-linecap:butt;stroke-linejoin:miter;stroke:rgb(100%,0%,0%);stroke-opacity:1;stroke-miterlimit:10;\" d=\"M 531.066406 516.8125 L 509.847656 386.65625 \"/>\n",
       "<path style=\"fill:none;stroke-width:0.5;stroke-linecap:butt;stroke-linejoin:miter;stroke:rgb(74.509804%,74.509804%,74.509804%);stroke-opacity:1;stroke-miterlimit:10;\" d=\"M 531.066406 516.8125 L 434.171875 373.011719 \"/>\n",
       "<path style=\"fill:none;stroke-width:0.5;stroke-linecap:butt;stroke-linejoin:miter;stroke:rgb(74.509804%,74.509804%,74.509804%);stroke-opacity:1;stroke-miterlimit:10;\" d=\"M 574.003906 439.148438 L 434.171875 373.011719 \"/>\n",
       "<path style=\"fill:none;stroke-width:0.5;stroke-linecap:butt;stroke-linejoin:miter;stroke:rgb(74.509804%,74.509804%,74.509804%);stroke-opacity:1;stroke-miterlimit:10;\" d=\"M 544.292969 30.21875 L 544.550781 154.023438 \"/>\n",
       "<path style=\"fill:none;stroke-width:0.5;stroke-linecap:butt;stroke-linejoin:miter;stroke:rgb(74.509804%,74.509804%,74.509804%);stroke-opacity:1;stroke-miterlimit:10;\" d=\"M 544.292969 30.21875 L 449.457031 212.871094 \"/>\n",
       "<path style=\"fill:none;stroke-width:0.5;stroke-linecap:butt;stroke-linejoin:miter;stroke:rgb(74.509804%,74.509804%,74.509804%);stroke-opacity:1;stroke-miterlimit:10;\" d=\"M 509.847656 386.65625 L 449.457031 212.871094 \"/>\n",
       "<path style=\"fill:none;stroke-width:0.5;stroke-linecap:butt;stroke-linejoin:miter;stroke:rgb(74.509804%,74.509804%,74.509804%);stroke-opacity:1;stroke-miterlimit:10;\" d=\"M 469.820312 324.519531 L 434.171875 373.011719 \"/>\n",
       "<path style=\"fill:none;stroke-width:0.5;stroke-linecap:butt;stroke-linejoin:miter;stroke:rgb(74.509804%,74.509804%,74.509804%);stroke-opacity:1;stroke-miterlimit:10;\" d=\"M 469.820312 324.519531 L 449.457031 212.871094 \"/>\n",
       "<path style=\"fill:none;stroke-width:0.5;stroke-linecap:butt;stroke-linejoin:miter;stroke:rgb(74.509804%,74.509804%,74.509804%);stroke-opacity:1;stroke-miterlimit:10;\" d=\"M 544.550781 154.023438 L 455.253906 174.800781 \"/>\n",
       "<path style=\"fill:none;stroke-width:0.5;stroke-linecap:butt;stroke-linejoin:miter;stroke:rgb(74.509804%,74.509804%,74.509804%);stroke-opacity:1;stroke-miterlimit:10;\" d=\"M 544.550781 154.023438 L 449.457031 212.871094 \"/>\n",
       "<path style=\"fill:none;stroke-width:0.5;stroke-linecap:butt;stroke-linejoin:miter;stroke:rgb(74.509804%,74.509804%,74.509804%);stroke-opacity:1;stroke-miterlimit:10;\" d=\"M 346.40625 169.027344 L 455.253906 174.800781 \"/>\n",
       "<path style=\"fill:none;stroke-width:0.5;stroke-linecap:butt;stroke-linejoin:miter;stroke:rgb(74.509804%,74.509804%,74.509804%);stroke-opacity:1;stroke-miterlimit:10;\" d=\"M 346.40625 169.027344 L 449.457031 212.871094 \"/>\n",
       "<path style=\"fill:none;stroke-width:0.5;stroke-linecap:butt;stroke-linejoin:miter;stroke:rgb(74.509804%,74.509804%,74.509804%);stroke-opacity:1;stroke-miterlimit:10;\" d=\"M 434.171875 373.011719 L 455.253906 174.800781 \"/>\n",
       "<path style=\"fill:none;stroke-width:0.5;stroke-linecap:butt;stroke-linejoin:miter;stroke:rgb(74.509804%,74.509804%,74.509804%);stroke-opacity:1;stroke-miterlimit:10;\" d=\"M 434.171875 373.011719 L 449.457031 212.871094 \"/>\n",
       "<path style=\"fill:none;stroke-width:0.5;stroke-linecap:butt;stroke-linejoin:miter;stroke:rgb(74.509804%,74.509804%,74.509804%);stroke-opacity:1;stroke-miterlimit:10;\" d=\"M 455.253906 174.800781 L 449.457031 212.871094 \"/>\n",
       "<path style=\"fill-rule:nonzero;fill:rgb(0%,100%,100%);fill-opacity:1;stroke-width:1;stroke-linecap:butt;stroke-linejoin:miter;stroke:rgb(0%,0%,0%);stroke-opacity:1;stroke-miterlimit:10;\" d=\"M 231.085938 374.695312 C 231.085938 380.214844 226.609375 384.695312 221.085938 384.695312 C 215.5625 384.695312 211.085938 380.214844 211.085938 374.695312 C 211.085938 369.171875 215.5625 364.695312 221.085938 364.695312 C 226.609375 364.695312 231.085938 369.171875 231.085938 374.695312 \"/>\n",
       "<path style=\"fill-rule:nonzero;fill:rgb(100%,0%,0%);fill-opacity:1;stroke-width:1;stroke-linecap:butt;stroke-linejoin:miter;stroke:rgb(0%,0%,0%);stroke-opacity:1;stroke-miterlimit:10;\" d=\"M 270.867188 332.039062 C 270.867188 337.5625 266.390625 342.039062 260.867188 342.039062 C 255.34375 342.039062 250.867188 337.5625 250.867188 332.039062 C 250.867188 326.519531 255.34375 322.039062 260.867188 322.039062 C 266.390625 322.039062 270.867188 326.519531 270.867188 332.039062 \"/>\n",
       "<path style=\"fill-rule:nonzero;fill:rgb(100%,0%,0%);fill-opacity:1;stroke-width:1;stroke-linecap:butt;stroke-linejoin:miter;stroke:rgb(0%,0%,0%);stroke-opacity:1;stroke-miterlimit:10;\" d=\"M 378.019531 370.164062 C 378.019531 375.6875 373.542969 380.164062 368.019531 380.164062 C 362.5 380.164062 358.019531 375.6875 358.019531 370.164062 C 358.019531 364.640625 362.5 360.164062 368.019531 360.164062 C 373.542969 360.164062 378.019531 364.640625 378.019531 370.164062 \"/>\n",
       "<path style=\"fill-rule:nonzero;fill:rgb(100%,0%,0%);fill-opacity:1;stroke-width:1;stroke-linecap:butt;stroke-linejoin:miter;stroke:rgb(0%,0%,0%);stroke-opacity:1;stroke-miterlimit:10;\" d=\"M 307.65625 476.515625 C 307.65625 482.039062 303.179688 486.515625 297.65625 486.515625 C 292.132812 486.515625 287.65625 482.039062 287.65625 476.515625 C 287.65625 470.992188 292.132812 466.515625 297.65625 466.515625 C 303.179688 466.515625 307.65625 470.992188 307.65625 476.515625 \"/>\n",
       "<path style=\"fill-rule:nonzero;fill:rgb(100%,0%,0%);fill-opacity:1;stroke-width:1;stroke-linecap:butt;stroke-linejoin:miter;stroke:rgb(0%,0%,0%);stroke-opacity:1;stroke-miterlimit:10;\" d=\"M 85.875 415.714844 C 85.875 421.238281 81.398438 425.714844 75.875 425.714844 C 70.351562 425.714844 65.875 421.238281 65.875 415.714844 C 65.875 410.195312 70.351562 405.714844 75.875 405.714844 C 81.398438 405.714844 85.875 410.195312 85.875 415.714844 \"/>\n",
       "<path style=\"fill-rule:nonzero;fill:rgb(100%,0%,0%);fill-opacity:1;stroke-width:1;stroke-linecap:butt;stroke-linejoin:miter;stroke:rgb(0%,0%,0%);stroke-opacity:1;stroke-miterlimit:10;\" d=\"M 104.472656 241.8125 C 104.472656 247.332031 99.996094 251.8125 94.472656 251.8125 C 88.953125 251.8125 84.472656 247.332031 84.472656 241.8125 C 84.472656 236.289062 88.953125 231.8125 94.472656 231.8125 C 99.996094 231.8125 104.472656 236.289062 104.472656 241.8125 \"/>\n",
       "<path style=\"fill-rule:nonzero;fill:rgb(100%,0%,0%);fill-opacity:1;stroke-width:1;stroke-linecap:butt;stroke-linejoin:miter;stroke:rgb(0%,0%,0%);stroke-opacity:1;stroke-miterlimit:10;\" d=\"M 72.777344 297.972656 C 72.777344 303.496094 68.300781 307.972656 62.777344 307.972656 C 57.253906 307.972656 52.777344 303.496094 52.777344 297.972656 C 52.777344 292.449219 57.253906 287.972656 62.777344 287.972656 C 68.300781 287.972656 72.777344 292.449219 72.777344 297.972656 \"/>\n",
       "<path style=\"fill-rule:nonzero;fill:rgb(100%,0%,0%);fill-opacity:1;stroke-width:1;stroke-linecap:butt;stroke-linejoin:miter;stroke:rgb(0%,0%,0%);stroke-opacity:1;stroke-miterlimit:10;\" d=\"M 272.082031 458.457031 C 272.082031 463.980469 267.605469 468.457031 262.082031 468.457031 C 256.558594 468.457031 252.082031 463.980469 252.082031 458.457031 C 252.082031 452.933594 256.558594 448.457031 262.082031 448.457031 C 267.605469 448.457031 272.082031 452.933594 272.082031 458.457031 \"/>\n",
       "<path style=\"fill-rule:nonzero;fill:rgb(100%,0%,0%);fill-opacity:1;stroke-width:1;stroke-linecap:butt;stroke-linejoin:miter;stroke:rgb(0%,0%,0%);stroke-opacity:1;stroke-miterlimit:10;\" d=\"M 360.632812 251.960938 C 360.632812 257.484375 356.15625 261.960938 350.632812 261.960938 C 345.109375 261.960938 340.632812 257.484375 340.632812 251.960938 C 340.632812 246.441406 345.109375 241.960938 350.632812 241.960938 C 356.15625 241.960938 360.632812 246.441406 360.632812 251.960938 \"/>\n",
       "<path style=\"fill-rule:nonzero;fill:rgb(100%,0%,0%);fill-opacity:1;stroke-width:1;stroke-linecap:butt;stroke-linejoin:miter;stroke:rgb(0%,0%,0%);stroke-opacity:1;stroke-miterlimit:10;\" d=\"M 459.386719 441.878906 C 459.386719 447.402344 454.910156 451.878906 449.386719 451.878906 C 443.867188 451.878906 439.386719 447.402344 439.386719 441.878906 C 439.386719 436.355469 443.867188 431.878906 449.386719 431.878906 C 454.910156 431.878906 459.386719 436.355469 459.386719 441.878906 \"/>\n",
       "<path style=\"fill-rule:nonzero;fill:rgb(100%,0%,0%);fill-opacity:1;stroke-width:1;stroke-linecap:butt;stroke-linejoin:miter;stroke:rgb(0%,0%,0%);stroke-opacity:1;stroke-miterlimit:10;\" d=\"M 109.964844 350.988281 C 109.964844 356.511719 105.488281 360.988281 99.964844 360.988281 C 94.441406 360.988281 89.964844 356.511719 89.964844 350.988281 C 89.964844 345.464844 94.441406 340.988281 99.964844 340.988281 C 105.488281 340.988281 109.964844 345.464844 109.964844 350.988281 \"/>\n",
       "<path style=\"fill-rule:nonzero;fill:rgb(100%,0%,0%);fill-opacity:1;stroke-width:1;stroke-linecap:butt;stroke-linejoin:miter;stroke:rgb(0%,0%,0%);stroke-opacity:1;stroke-miterlimit:10;\" d=\"M 155.425781 564.195312 C 155.425781 569.71875 150.945312 574.195312 145.425781 574.195312 C 139.902344 574.195312 135.425781 569.71875 135.425781 564.195312 C 135.425781 558.671875 139.902344 554.195312 145.425781 554.195312 C 150.945312 554.195312 155.425781 558.671875 155.425781 564.195312 \"/>\n",
       "<path style=\"fill-rule:nonzero;fill:rgb(100%,0%,0%);fill-opacity:1;stroke-width:1;stroke-linecap:butt;stroke-linejoin:miter;stroke:rgb(0%,0%,0%);stroke-opacity:1;stroke-miterlimit:10;\" d=\"M 253.695312 580 C 253.695312 585.523438 249.21875 590 243.695312 590 C 238.171875 590 233.695312 585.523438 233.695312 580 C 233.695312 574.476562 238.171875 570 243.695312 570 C 249.21875 570 253.695312 574.476562 253.695312 580 \"/>\n",
       "<path style=\"fill-rule:nonzero;fill:rgb(100%,0%,0%);fill-opacity:1;stroke-width:1;stroke-linecap:butt;stroke-linejoin:miter;stroke:rgb(0%,0%,0%);stroke-opacity:1;stroke-miterlimit:10;\" d=\"M 332.859375 352.128906 C 332.859375 357.652344 328.382812 362.128906 322.859375 362.128906 C 317.335938 362.128906 312.859375 357.652344 312.859375 352.128906 C 312.859375 346.605469 317.335938 342.128906 322.859375 342.128906 C 328.382812 342.128906 332.859375 346.605469 332.859375 352.128906 \"/>\n",
       "<path style=\"fill-rule:nonzero;fill:rgb(100%,0%,0%);fill-opacity:1;stroke-width:1;stroke-linecap:butt;stroke-linejoin:miter;stroke:rgb(0%,0%,0%);stroke-opacity:1;stroke-miterlimit:10;\" d=\"M 484.171875 40.453125 C 484.171875 45.976562 479.695312 50.453125 474.171875 50.453125 C 468.648438 50.453125 464.171875 45.976562 464.171875 40.453125 C 464.171875 34.929688 468.648438 30.453125 474.171875 30.453125 C 479.695312 30.453125 484.171875 34.929688 484.171875 40.453125 \"/>\n",
       "<path style=\"fill-rule:nonzero;fill:rgb(100%,0%,0%);fill-opacity:1;stroke-width:1;stroke-linecap:butt;stroke-linejoin:miter;stroke:rgb(0%,0%,0%);stroke-opacity:1;stroke-miterlimit:10;\" d=\"M 554.511719 92.824219 C 554.511719 98.347656 550.03125 102.824219 544.511719 102.824219 C 538.988281 102.824219 534.511719 98.347656 534.511719 92.824219 C 534.511719 87.300781 538.988281 82.824219 544.511719 82.824219 C 550.03125 82.824219 554.511719 87.300781 554.511719 92.824219 \"/>\n",
       "<path style=\"fill-rule:nonzero;fill:rgb(100%,0%,0%);fill-opacity:1;stroke-width:1;stroke-linecap:butt;stroke-linejoin:miter;stroke:rgb(0%,0%,0%);stroke-opacity:1;stroke-miterlimit:10;\" d=\"M 30 170.296875 C 30 175.820312 25.523438 180.296875 20 180.296875 C 14.476562 180.296875 10 175.820312 10 170.296875 C 10 164.777344 14.476562 160.296875 20 160.296875 C 25.523438 160.296875 30 164.777344 30 170.296875 \"/>\n",
       "<path style=\"fill-rule:nonzero;fill:rgb(100%,0%,0%);fill-opacity:1;stroke-width:1;stroke-linecap:butt;stroke-linejoin:miter;stroke:rgb(0%,0%,0%);stroke-opacity:1;stroke-miterlimit:10;\" d=\"M 188.90625 234.371094 C 188.90625 239.894531 184.429688 244.371094 178.90625 244.371094 C 173.382812 244.371094 168.90625 239.894531 168.90625 234.371094 C 168.90625 228.847656 173.382812 224.371094 178.90625 224.371094 C 184.429688 224.371094 188.90625 228.847656 188.90625 234.371094 \"/>\n",
       "<path style=\"fill-rule:nonzero;fill:rgb(100%,0%,0%);fill-opacity:1;stroke-width:1;stroke-linecap:butt;stroke-linejoin:miter;stroke:rgb(0%,0%,0%);stroke-opacity:1;stroke-miterlimit:10;\" d=\"M 437.582031 20 C 437.582031 25.523438 433.105469 30 427.582031 30 C 422.058594 30 417.582031 25.523438 417.582031 20 C 417.582031 14.476562 422.058594 10 427.582031 10 C 433.105469 10 437.582031 14.476562 437.582031 20 \"/>\n",
       "<path style=\"fill-rule:nonzero;fill:rgb(100%,0%,0%);fill-opacity:1;stroke-width:1;stroke-linecap:butt;stroke-linejoin:miter;stroke:rgb(0%,0%,0%);stroke-opacity:1;stroke-miterlimit:10;\" d=\"M 292.757812 220.152344 C 292.757812 225.675781 288.28125 230.152344 282.757812 230.152344 C 277.238281 230.152344 272.757812 225.675781 272.757812 220.152344 C 272.757812 214.628906 277.238281 210.152344 282.757812 210.152344 C 288.28125 210.152344 292.757812 214.628906 292.757812 220.152344 \"/>\n",
       "<path style=\"fill-rule:nonzero;fill:rgb(100%,0%,0%);fill-opacity:1;stroke-width:1;stroke-linecap:butt;stroke-linejoin:miter;stroke:rgb(0%,0%,0%);stroke-opacity:1;stroke-miterlimit:10;\" d=\"M 393.960938 52.757812 C 393.960938 58.28125 389.484375 62.757812 383.960938 62.757812 C 378.4375 62.757812 373.960938 58.28125 373.960938 52.757812 C 373.960938 47.234375 378.4375 42.757812 383.960938 42.757812 C 389.484375 42.757812 393.960938 47.234375 393.960938 52.757812 \"/>\n",
       "<path style=\"fill-rule:nonzero;fill:rgb(100%,0%,0%);fill-opacity:1;stroke-width:1;stroke-linecap:butt;stroke-linejoin:miter;stroke:rgb(0%,0%,0%);stroke-opacity:1;stroke-miterlimit:10;\" d=\"M 179.078125 452.429688 C 179.078125 457.953125 174.601562 462.429688 169.078125 462.429688 C 163.554688 462.429688 159.078125 457.953125 159.078125 452.429688 C 159.078125 446.90625 163.554688 442.429688 169.078125 442.429688 C 174.601562 442.429688 179.078125 446.90625 179.078125 452.429688 \"/>\n",
       "<path style=\"fill-rule:nonzero;fill:rgb(100%,0%,0%);fill-opacity:1;stroke-width:1;stroke-linecap:butt;stroke-linejoin:miter;stroke:rgb(0%,0%,0%);stroke-opacity:1;stroke-miterlimit:10;\" d=\"M 590 195.355469 C 590 200.878906 585.523438 205.355469 580 205.355469 C 574.476562 205.355469 570 200.878906 570 195.355469 C 570 189.832031 574.476562 185.355469 580 185.355469 C 585.523438 185.355469 590 189.832031 590 195.355469 \"/>\n",
       "<path style=\"fill-rule:nonzero;fill:rgb(100%,0%,0%);fill-opacity:1;stroke-width:1;stroke-linecap:butt;stroke-linejoin:miter;stroke:rgb(0%,0%,0%);stroke-opacity:1;stroke-miterlimit:10;\" d=\"M 563.273438 284.808594 C 563.273438 290.332031 558.796875 294.808594 553.273438 294.808594 C 547.75 294.808594 543.273438 290.332031 543.273438 284.808594 C 543.273438 279.289062 547.75 274.808594 553.273438 274.808594 C 558.796875 274.808594 563.273438 279.289062 563.273438 284.808594 \"/>\n",
       "<path style=\"fill-rule:nonzero;fill:rgb(100%,0%,0%);fill-opacity:1;stroke-width:1;stroke-linecap:butt;stroke-linejoin:miter;stroke:rgb(0%,0%,0%);stroke-opacity:1;stroke-miterlimit:10;\" d=\"M 541.066406 516.8125 C 541.066406 522.335938 536.589844 526.8125 531.066406 526.8125 C 525.542969 526.8125 521.066406 522.335938 521.066406 516.8125 C 521.066406 511.289062 525.542969 506.8125 531.066406 506.8125 C 536.589844 506.8125 541.066406 511.289062 541.066406 516.8125 \"/>\n",
       "<path style=\"fill-rule:nonzero;fill:rgb(100%,0%,0%);fill-opacity:1;stroke-width:1;stroke-linecap:butt;stroke-linejoin:miter;stroke:rgb(0%,0%,0%);stroke-opacity:1;stroke-miterlimit:10;\" d=\"M 584.003906 439.148438 C 584.003906 444.667969 579.527344 449.148438 574.003906 449.148438 C 568.480469 449.148438 564.003906 444.667969 564.003906 439.148438 C 564.003906 433.625 568.480469 429.148438 574.003906 429.148438 C 579.527344 429.148438 584.003906 433.625 584.003906 439.148438 \"/>\n",
       "<path style=\"fill-rule:nonzero;fill:rgb(100%,0%,0%);fill-opacity:1;stroke-width:1;stroke-linecap:butt;stroke-linejoin:miter;stroke:rgb(0%,0%,0%);stroke-opacity:1;stroke-miterlimit:10;\" d=\"M 554.292969 30.21875 C 554.292969 35.742188 549.816406 40.21875 544.292969 40.21875 C 538.769531 40.21875 534.292969 35.742188 534.292969 30.21875 C 534.292969 24.695312 538.769531 20.21875 544.292969 20.21875 C 549.816406 20.21875 554.292969 24.695312 554.292969 30.21875 \"/>\n",
       "<path style=\"fill-rule:nonzero;fill:rgb(100%,0%,0%);fill-opacity:1;stroke-width:1;stroke-linecap:butt;stroke-linejoin:miter;stroke:rgb(0%,0%,0%);stroke-opacity:1;stroke-miterlimit:10;\" d=\"M 519.847656 386.65625 C 519.847656 392.179688 515.371094 396.65625 509.847656 396.65625 C 504.328125 396.65625 499.847656 392.179688 499.847656 386.65625 C 499.847656 381.132812 504.328125 376.65625 509.847656 376.65625 C 515.371094 376.65625 519.847656 381.132812 519.847656 386.65625 \"/>\n",
       "<path style=\"fill-rule:nonzero;fill:rgb(100%,0%,0%);fill-opacity:1;stroke-width:1;stroke-linecap:butt;stroke-linejoin:miter;stroke:rgb(0%,0%,0%);stroke-opacity:1;stroke-miterlimit:10;\" d=\"M 479.820312 324.519531 C 479.820312 330.042969 475.34375 334.519531 469.820312 334.519531 C 464.296875 334.519531 459.820312 330.042969 459.820312 324.519531 C 459.820312 319 464.296875 314.519531 469.820312 314.519531 C 475.34375 314.519531 479.820312 319 479.820312 324.519531 \"/>\n",
       "<path style=\"fill-rule:nonzero;fill:rgb(100%,0%,0%);fill-opacity:1;stroke-width:1;stroke-linecap:butt;stroke-linejoin:miter;stroke:rgb(0%,0%,0%);stroke-opacity:1;stroke-miterlimit:10;\" d=\"M 554.550781 154.023438 C 554.550781 159.546875 550.070312 164.023438 544.550781 164.023438 C 539.027344 164.023438 534.550781 159.546875 534.550781 154.023438 C 534.550781 148.503906 539.027344 144.023438 544.550781 144.023438 C 550.070312 144.023438 554.550781 148.503906 554.550781 154.023438 \"/>\n",
       "<path style=\"fill-rule:nonzero;fill:rgb(100%,0%,0%);fill-opacity:1;stroke-width:1;stroke-linecap:butt;stroke-linejoin:miter;stroke:rgb(0%,0%,0%);stroke-opacity:1;stroke-miterlimit:10;\" d=\"M 356.40625 169.027344 C 356.40625 174.550781 351.925781 179.027344 346.40625 179.027344 C 340.882812 179.027344 336.40625 174.550781 336.40625 169.027344 C 336.40625 163.503906 340.882812 159.027344 346.40625 159.027344 C 351.925781 159.027344 356.40625 163.503906 356.40625 169.027344 \"/>\n",
       "<path style=\"fill-rule:nonzero;fill:rgb(100%,0%,0%);fill-opacity:1;stroke-width:1;stroke-linecap:butt;stroke-linejoin:miter;stroke:rgb(0%,0%,0%);stroke-opacity:1;stroke-miterlimit:10;\" d=\"M 444.171875 373.011719 C 444.171875 378.535156 439.695312 383.011719 434.171875 383.011719 C 428.652344 383.011719 424.171875 378.535156 424.171875 373.011719 C 424.171875 367.488281 428.652344 363.011719 434.171875 363.011719 C 439.695312 363.011719 444.171875 367.488281 444.171875 373.011719 \"/>\n",
       "<path style=\"fill-rule:nonzero;fill:rgb(100%,0%,0%);fill-opacity:1;stroke-width:1;stroke-linecap:butt;stroke-linejoin:miter;stroke:rgb(0%,0%,0%);stroke-opacity:1;stroke-miterlimit:10;\" d=\"M 465.253906 174.800781 C 465.253906 180.320312 460.777344 184.800781 455.253906 184.800781 C 449.730469 184.800781 445.253906 180.320312 445.253906 174.800781 C 445.253906 169.277344 449.730469 164.800781 455.253906 164.800781 C 460.777344 164.800781 465.253906 169.277344 465.253906 174.800781 \"/>\n",
       "<path style=\"fill-rule:nonzero;fill:rgb(100%,0%,0%);fill-opacity:1;stroke-width:1;stroke-linecap:butt;stroke-linejoin:miter;stroke:rgb(0%,0%,0%);stroke-opacity:1;stroke-miterlimit:10;\" d=\"M 459.457031 212.871094 C 459.457031 218.394531 454.980469 222.871094 449.457031 222.871094 C 443.933594 222.871094 439.457031 218.394531 439.457031 212.871094 C 439.457031 207.347656 443.933594 202.871094 449.457031 202.871094 C 454.980469 202.871094 459.457031 207.347656 459.457031 212.871094 \"/>\n",
       "</g>\n",
       "</svg>\n"
      ],
      "text/plain": [
       "<igraph.drawing.Plot at 0x1a1ea3fcc0>"
      ]
     },
     "execution_count": 29,
     "metadata": {},
     "output_type": "execute_result"
    }
   ],
   "source": [
    "is_bridge = [False]*G.vcount()\n",
    "for v in range(G.vcount()):\n",
    "    H = G.copy()\n",
    "    H.delete_vertices(v)\n",
    "    is_bridge[v] = len(H.clusters()) > 1\n",
    "    \n",
    "ig.plot(G, vertex_color=is_bridge, palette=ig.RainbowPalette(2))"
   ]
  }
 ],
 "metadata": {
  "kernelspec": {
   "display_name": "igraph",
   "language": "python",
   "name": "igraph"
  },
  "language_info": {
   "codemirror_mode": {
    "name": "ipython",
    "version": 3
   },
   "file_extension": ".py",
   "mimetype": "text/x-python",
   "name": "python",
   "nbconvert_exporter": "python",
   "pygments_lexer": "ipython3",
   "version": "3.7.3"
  },
  "latex_envs": {
   "LaTeX_envs_menu_present": true,
   "autoclose": false,
   "autocomplete": true,
   "bibliofile": "biblio.bib",
   "cite_by": "apalike",
   "current_citInitial": 1,
   "eqLabelWithNumbers": true,
   "eqNumInitial": 1,
   "hotkeys": {
    "equation": "Ctrl-E",
    "itemize": "Ctrl-I"
   },
   "labels_anchors": false,
   "latex_user_defs": false,
   "report_style_numbering": false,
   "user_envs_cfg": false
  },
  "toc": {
   "nav_menu": {},
   "number_sections": true,
   "sideBar": true,
   "skip_h1_title": false,
   "title_cell": "Table of Contents",
   "title_sidebar": "Contents",
   "toc_cell": false,
   "toc_position": {
    "height": "calc(100% - 180px)",
    "left": "10px",
    "top": "150px",
    "width": "175px"
   },
   "toc_section_display": true,
   "toc_window_display": true
  }
 },
 "nbformat": 4,
 "nbformat_minor": 1
}
