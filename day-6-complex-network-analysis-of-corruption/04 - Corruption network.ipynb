{
 "cells": [
  {
   "cell_type": "markdown",
   "metadata": {},
   "source": [
    "# Corruption network"
   ]
  },
  {
   "cell_type": "markdown",
   "metadata": {},
   "source": [
    "## Packages and libraries"
   ]
  },
  {
   "cell_type": "code",
   "execution_count": 1,
   "metadata": {
    "ExecuteTime": {
     "end_time": "2019-06-25T20:01:26.299100Z",
     "start_time": "2019-06-25T20:01:25.116677Z"
    }
   },
   "outputs": [
    {
     "data": {
      "text/html": [
       "<style>.container { width:80% !important; }</style>"
      ],
      "text/plain": [
       "<IPython.core.display.HTML object>"
      ]
     },
     "metadata": {},
     "output_type": "display_data"
    }
   ],
   "source": [
    "#sets the notebook width\n",
    "from IPython.core.display import display, HTML\n",
    "display(HTML(\"<style>.container { width:80% !important; }</style>\"))\n",
    "\n",
    "%load_ext autoreload\n",
    "%autoreload 2\n",
    "%matplotlib inline"
   ]
  },
  {
   "cell_type": "code",
   "execution_count": 2,
   "metadata": {
    "ExecuteTime": {
     "end_time": "2019-06-25T20:01:26.845285Z",
     "start_time": "2019-06-25T20:01:26.825465Z"
    }
   },
   "outputs": [],
   "source": [
    "import warnings\n",
    "warnings.filterwarnings('ignore')"
   ]
  },
  {
   "cell_type": "code",
   "execution_count": 3,
   "metadata": {
    "ExecuteTime": {
     "end_time": "2019-06-25T20:01:31.281053Z",
     "start_time": "2019-06-25T20:01:27.683421Z"
    }
   },
   "outputs": [],
   "source": [
    "#Third Party Libraries\n",
    "import pandas as pd\n",
    "import numpy as np\n",
    "from scipy import stats\n",
    "import random\n",
    "from operator import itemgetter\n",
    "# Plots\n",
    "import seaborn as sns\n",
    "import matplotlib.pyplot as plt\n",
    "import matplotlib as mpl\n",
    "import matplotlib.ticker as plticker\n",
    "from matplotlib import ticker\n",
    "import matplotlib.pyplot as plt\n",
    "import matplotlib.colors as colors\n",
    "import matplotlib.cm as cmx\n",
    "\n",
    "#Networks\n",
    "import networkx as nx"
   ]
  },
  {
   "cell_type": "code",
   "execution_count": 4,
   "metadata": {
    "ExecuteTime": {
     "end_time": "2019-06-25T20:01:31.343171Z",
     "start_time": "2019-06-25T20:01:31.284432Z"
    }
   },
   "outputs": [
    {
     "name": "stdout",
     "output_type": "stream",
     "text": [
      "(9.1, 7)\n"
     ]
    },
    {
     "name": "stderr",
     "output_type": "stream",
     "text": [
      "/Users/lgaalves/miniconda3/lib/python3.6/site-packages/matplotlib/__init__.py:846: MatplotlibDeprecationWarning: \n",
      "The text.latex.unicode rcparam was deprecated in Matplotlib 2.2 and will be removed in 3.1.\n",
      "  \"2.2\", name=key, obj_type=\"rcparam\", addendum=addendum)\n"
     ]
    }
   ],
   "source": [
    "def stdfigsize(scale=1, nx=1, ny=1, ratio=1.3):\n",
    "    \"\"\"\n",
    "    Returns a tuple to be used as figure size.\n",
    "    -------\n",
    "    returns (7*ratio*scale*nx, 7.*scale*ny)\n",
    "    By default: ratio=1.3\n",
    "    If ratio<0 them ratio = golden ratio\n",
    "    \"\"\"\n",
    "    if ratio < 0:\n",
    "        ratio = 1.61803398875\n",
    "    return((7*ratio*scale*nx, 7*scale*ny))\n",
    "\n",
    "def stdrcparams(usetex=False):\n",
    "    \"\"\"\n",
    "    Set several mpl.rcParams and sns.set_style for my taste.\n",
    "    ----\n",
    "    usetex = True\n",
    "    ----\n",
    "    \"\"\"\n",
    "    sns.set_style(\"white\")\n",
    "    sns.set_style({\"xtick.direction\": \"in\",\n",
    "                 \"ytick.direction\": \"in\"})\n",
    "    rcparams = {'text.usetex': usetex,\n",
    "              'font.family': 'sans-serif',\n",
    "              'font.sans-serif': ['Helvetica'],\n",
    "              'text.latex.unicode': True,\n",
    "              'text.latex.preamble': [r\"\\usepackage[T1]{fontenc}\",\n",
    "                                      r\"\\usepackage{lmodern}\",\n",
    "                                      r\"\\usepackage{amsmath}\",\n",
    "                                      r\"\\usepackage{mathptmx}\"\n",
    "                                      ],\n",
    "              'axes.labelsize': 30,\n",
    "              'axes.titlesize': 30,\n",
    "              'ytick.right': 'on',\n",
    "              'xtick.top': 'on',\n",
    "              'xtick.labelsize': '25',\n",
    "              'ytick.labelsize': '25',\n",
    "              'axes.linewidth': 1.8,\n",
    "              'xtick.major.width': 1.8,\n",
    "              'xtick.minor.width': 1.8,\n",
    "              'xtick.major.size': 14,\n",
    "              'xtick.minor.size': 7,\n",
    "              'xtick.major.pad': 10,\n",
    "              'xtick.minor.pad': 10,\n",
    "              'ytick.major.width': 1.8,\n",
    "              'ytick.minor.width': 1.8,\n",
    "              'ytick.major.size': 14,\n",
    "              'ytick.minor.size': 7,\n",
    "              'ytick.major.pad': 10,\n",
    "              'ytick.minor.pad': 10,\n",
    "              'axes.labelpad': 15,\n",
    "              'axes.titlepad': 15,\n",
    "              \"xtick.direction\": \"in\",\n",
    "              \"ytick.direction\": \"in\"\n",
    "              }\n",
    "    mpl.rcParams.update(rcparams) \n",
    "\n",
    "stdrcparams(usetex=True)\n",
    "figsize=stdfigsize()\n",
    "print(figsize)"
   ]
  },
  {
   "cell_type": "markdown",
   "metadata": {
    "ExecuteTime": {
     "end_time": "2018-04-30T19:37:55.025144Z",
     "start_time": "2018-04-30T19:37:54.979221Z"
    }
   },
   "source": [
    "# Demography corruption network\n",
    "\n",
    "- HV Ribeiro, LGA Alves, AF Martins, EK Lenzi, M Perc. The dynamical structure of political corruption networks. Journal of Complex Networks CNY002 1-15 (2018)."
   ]
  },
  {
   "cell_type": "code",
   "execution_count": 5,
   "metadata": {
    "ExecuteTime": {
     "end_time": "2019-06-25T20:01:31.580633Z",
     "start_time": "2019-06-25T20:01:31.346574Z"
    }
   },
   "outputs": [],
   "source": [
    "df_size=pd.read_csv(\"data/scandalssize.csv\",index_col=0)"
   ]
  },
  {
   "cell_type": "code",
   "execution_count": 6,
   "metadata": {
    "ExecuteTime": {
     "end_time": "2019-06-25T20:01:31.635981Z",
     "start_time": "2019-06-25T20:01:31.583724Z"
    }
   },
   "outputs": [
    {
     "data": {
      "text/html": [
       "<div>\n",
       "<style scoped>\n",
       "    .dataframe tbody tr th:only-of-type {\n",
       "        vertical-align: middle;\n",
       "    }\n",
       "\n",
       "    .dataframe tbody tr th {\n",
       "        vertical-align: top;\n",
       "    }\n",
       "\n",
       "    .dataframe thead th {\n",
       "        text-align: right;\n",
       "    }\n",
       "</style>\n",
       "<table border=\"1\" class=\"dataframe\">\n",
       "  <thead>\n",
       "    <tr style=\"text-align: right;\">\n",
       "      <th></th>\n",
       "      <th>scandal</th>\n",
       "      <th>year</th>\n",
       "      <th>size</th>\n",
       "    </tr>\n",
       "  </thead>\n",
       "  <tbody>\n",
       "    <tr>\n",
       "      <th>0</th>\n",
       "      <td>Caso Banespa</td>\n",
       "      <td>1987</td>\n",
       "      <td>4</td>\n",
       "    </tr>\n",
       "    <tr>\n",
       "      <th>1</th>\n",
       "      <td>Ferrovia Norte-Sul</td>\n",
       "      <td>1987</td>\n",
       "      <td>2</td>\n",
       "    </tr>\n",
       "    <tr>\n",
       "      <th>2</th>\n",
       "      <td>CPI da Corrupção</td>\n",
       "      <td>1988</td>\n",
       "      <td>3</td>\n",
       "    </tr>\n",
       "    <tr>\n",
       "      <th>3</th>\n",
       "      <td>Máfia da Previdência</td>\n",
       "      <td>1991</td>\n",
       "      <td>3</td>\n",
       "    </tr>\n",
       "    <tr>\n",
       "      <th>4</th>\n",
       "      <td>Caso Collor</td>\n",
       "      <td>1992</td>\n",
       "      <td>11</td>\n",
       "    </tr>\n",
       "  </tbody>\n",
       "</table>\n",
       "</div>"
      ],
      "text/plain": [
       "                scandal  year  size\n",
       "0          Caso Banespa  1987     4\n",
       "1    Ferrovia Norte-Sul  1987     2\n",
       "2      CPI da Corrupção  1988     3\n",
       "3  Máfia da Previdência  1991     3\n",
       "4           Caso Collor  1992    11"
      ]
     },
     "execution_count": 6,
     "metadata": {},
     "output_type": "execute_result"
    }
   ],
   "source": [
    "df_size.head()"
   ]
  },
  {
   "cell_type": "code",
   "execution_count": 7,
   "metadata": {
    "ExecuteTime": {
     "end_time": "2019-06-25T20:01:35.530913Z",
     "start_time": "2019-06-25T20:01:31.638107Z"
    }
   },
   "outputs": [
    {
     "data": {
      "text/plain": [
       "Text(0.5, 0, 'Scandals')"
      ]
     },
     "execution_count": 7,
     "metadata": {},
     "output_type": "execute_result"
    },
    {
     "name": "stderr",
     "output_type": "stream",
     "text": [
      "/Users/lgaalves/miniconda3/lib/python3.6/site-packages/matplotlib/font_manager.py:1241: UserWarning: findfont: Font family ['sans-serif'] not found. Falling back to DejaVu Sans.\n",
      "  (prop.get_family(), self.defaultFamily[fontext]))\n",
      "/Users/lgaalves/miniconda3/lib/python3.6/site-packages/matplotlib/font_manager.py:1241: UserWarning: findfont: Font family ['sans-serif'] not found. Falling back to DejaVu Sans.\n",
      "  (prop.get_family(), self.defaultFamily[fontext]))\n",
      "/Users/lgaalves/miniconda3/lib/python3.6/site-packages/matplotlib/font_manager.py:1241: UserWarning: findfont: Font family ['sans-serif'] not found. Falling back to DejaVu Sans.\n",
      "  (prop.get_family(), self.defaultFamily[fontext]))\n"
     ]
    },
    {
     "data": {
      "image/png": "[encoded data removed]",
      "text/plain": [
       "<Figure size 1296x504 with 1 Axes>"
      ]
     },
     "metadata": {},
     "output_type": "display_data"
    }
   ],
   "source": [
    "fig, ax = plt.subplots(figsize=(18,7))\n",
    "y=df_size['size'].values.astype(int)\n",
    "x=np.array(df_size.index)\n",
    "\n",
    "norm = mpl.colors.Normalize(vmin=1, vmax=max(y))\n",
    "cmap = plt.cm.rainbow\n",
    "m = plt.cm.ScalarMappable(norm=norm, cmap=cmap)\n",
    "cmaplist = [m.to_rgba(i) for i in y]\n",
    "ax.bar(x,y,color=cmaplist)\n",
    "\n",
    "ax.spines['top'].set_visible(False)\n",
    "ax.spines['right'].set_visible(False)\n",
    "ax.get_xaxis().tick_bottom()\n",
    "ax.get_yaxis().tick_left()\n",
    "ax.tick_params(axis='x',length=0)\n",
    "#ax.tick_params(axis=\"x\",length=0,direction=\"in\", pad=-200)\n",
    "\n",
    "ax.set_xlim(-1,66)\n",
    "ax.xaxis.set_major_locator(ticker.MultipleLocator(1))\n",
    "labels=[\"\",\"\"]\n",
    "labels.extend(list(df_size.scandal))\n",
    "ax.set_xticklabels(labels,rotation=90,fontsize=14)\n",
    "ax.set_ylabel(r\"Number of people\")\n",
    "ax.set_xlabel(r\"Scandals\")"
   ]
  },
  {
   "cell_type": "markdown",
   "metadata": {},
   "source": [
    "# Load data"
   ]
  },
  {
   "cell_type": "code",
   "execution_count": 8,
   "metadata": {
    "ExecuteTime": {
     "end_time": "2019-06-25T20:01:45.726139Z",
     "start_time": "2019-06-25T20:01:45.632047Z"
    }
   },
   "outputs": [
    {
     "data": {
      "text/html": [
       "<div>\n",
       "<style scoped>\n",
       "    .dataframe tbody tr th:only-of-type {\n",
       "        vertical-align: middle;\n",
       "    }\n",
       "\n",
       "    .dataframe tbody tr th {\n",
       "        vertical-align: top;\n",
       "    }\n",
       "\n",
       "    .dataframe thead th {\n",
       "        text-align: right;\n",
       "    }\n",
       "</style>\n",
       "<table border=\"1\" class=\"dataframe\">\n",
       "  <thead>\n",
       "    <tr style=\"text-align: right;\">\n",
       "      <th></th>\n",
       "      <th>Source</th>\n",
       "      <th>Target</th>\n",
       "    </tr>\n",
       "  </thead>\n",
       "  <tbody>\n",
       "    <tr>\n",
       "      <th>0</th>\n",
       "      <td>246</td>\n",
       "      <td>243</td>\n",
       "    </tr>\n",
       "    <tr>\n",
       "      <th>1</th>\n",
       "      <td>246</td>\n",
       "      <td>60</td>\n",
       "    </tr>\n",
       "    <tr>\n",
       "      <th>2</th>\n",
       "      <td>246</td>\n",
       "      <td>240</td>\n",
       "    </tr>\n",
       "    <tr>\n",
       "      <th>3</th>\n",
       "      <td>246</td>\n",
       "      <td>242</td>\n",
       "    </tr>\n",
       "    <tr>\n",
       "      <th>4</th>\n",
       "      <td>246</td>\n",
       "      <td>241</td>\n",
       "    </tr>\n",
       "  </tbody>\n",
       "</table>\n",
       "</div>"
      ],
      "text/plain": [
       "   Source  Target\n",
       "0     246     243\n",
       "1     246      60\n",
       "2     246     240\n",
       "3     246     242\n",
       "4     246     241"
      ]
     },
     "execution_count": 8,
     "metadata": {},
     "output_type": "execute_result"
    }
   ],
   "source": [
    "df_net=pd.read_csv(\"data/edge_list.csv\")[['Source','Target']]\n",
    "df_net.head()"
   ]
  },
  {
   "cell_type": "markdown",
   "metadata": {},
   "source": [
    "# Corruption network "
   ]
  },
  {
   "cell_type": "code",
   "execution_count": 9,
   "metadata": {
    "ExecuteTime": {
     "end_time": "2019-06-25T20:01:46.670544Z",
     "start_time": "2019-06-25T20:01:46.610049Z"
    }
   },
   "outputs": [],
   "source": [
    "G=nx.Graph()\n",
    "G.add_edges_from(df_net.values)"
   ]
  },
  {
   "cell_type": "code",
   "execution_count": 10,
   "metadata": {
    "ExecuteTime": {
     "end_time": "2019-06-25T20:01:47.059671Z",
     "start_time": "2019-06-25T20:01:47.011128Z"
    }
   },
   "outputs": [
    {
     "name": "stdout",
     "output_type": "stream",
     "text": [
      "Name: \n",
      "Type: Graph\n",
      "Number of nodes: 404\n",
      "Number of edges: 3549\n",
      "Average degree:  17.5693\n"
     ]
    }
   ],
   "source": [
    "print(nx.info(G))"
   ]
  },
  {
   "cell_type": "code",
   "execution_count": 13,
   "metadata": {
    "ExecuteTime": {
     "end_time": "2019-06-25T20:02:44.490454Z",
     "start_time": "2019-06-25T20:02:43.779214Z"
    }
   },
   "outputs": [
    {
     "name": "stderr",
     "output_type": "stream",
     "text": [
      "/Users/lgaalves/miniconda3/lib/python3.6/site-packages/networkx/drawing/nx_pylab.py:611: MatplotlibDeprecationWarning: isinstance(..., numbers.Number)\n",
      "  if cb.is_numlike(alpha):\n"
     ]
    },
    {
     "data": {
      "image/png": "[encoded data removed]",
      "text/plain": [
       "<Figure size 432x288 with 1 Axes>"
      ]
     },
     "metadata": {},
     "output_type": "display_data"
    }
   ],
   "source": [
    "nx.draw(G,pos=nx.spring_layout(G))"
   ]
  },
  {
   "cell_type": "markdown",
   "metadata": {},
   "source": [
    "# Structural properties"
   ]
  },
  {
   "cell_type": "code",
   "execution_count": 14,
   "metadata": {
    "ExecuteTime": {
     "end_time": "2019-06-25T20:02:44.617079Z",
     "start_time": "2019-06-25T20:02:44.579534Z"
    }
   },
   "outputs": [
    {
     "data": {
      "text/plain": [
       "17.56930693069307"
      ]
     },
     "execution_count": 14,
     "metadata": {},
     "output_type": "execute_result"
    }
   ],
   "source": [
    "np.average(list(dict(G.degree()).values()))"
   ]
  },
  {
   "cell_type": "code",
   "execution_count": 15,
   "metadata": {
    "ExecuteTime": {
     "end_time": "2019-06-25T20:02:45.117705Z",
     "start_time": "2019-06-25T20:02:45.008612Z"
    }
   },
   "outputs": [
    {
     "name": "stdout",
     "output_type": "stream",
     "text": [
      "degree_assortativity_coefficient 0.5985375644805349\n",
      "average_clustering 0.925765588813958\n"
     ]
    }
   ],
   "source": [
    "print('degree_assortativity_coefficient',nx.degree_assortativity_coefficient(G))\n",
    "print('average_clustering',nx.average_clustering(G))"
   ]
  },
  {
   "cell_type": "code",
   "execution_count": 16,
   "metadata": {
    "ExecuteTime": {
     "end_time": "2019-06-25T20:02:52.579840Z",
     "start_time": "2019-06-25T20:02:45.477066Z"
    }
   },
   "outputs": [
    {
     "data": {
      "text/plain": [
       "0.2344131648187608"
      ]
     },
     "execution_count": 16,
     "metadata": {},
     "output_type": "execute_result"
    }
   ],
   "source": [
    "nx.global_efficiency(G)"
   ]
  },
  {
   "cell_type": "code",
   "execution_count": 17,
   "metadata": {
    "ExecuteTime": {
     "end_time": "2019-06-25T20:02:57.415174Z",
     "start_time": "2019-06-25T20:02:52.582371Z"
    }
   },
   "outputs": [
    {
     "data": {
      "text/plain": [
       "2.990018072542344"
      ]
     },
     "execution_count": 17,
     "metadata": {},
     "output_type": "execute_result"
    }
   ],
   "source": [
    "gcc=sorted(nx.connected_components(G),key=len,reverse=True)[0]\n",
    "\n",
    "nx.average_shortest_path_length(nx.subgraph(G,gcc))"
   ]
  },
  {
   "cell_type": "markdown",
   "metadata": {},
   "source": [
    "# Degree distribution "
   ]
  },
  {
   "cell_type": "code",
   "execution_count": 18,
   "metadata": {
    "ExecuteTime": {
     "end_time": "2019-06-25T20:02:57.461627Z",
     "start_time": "2019-06-25T20:02:57.418231Z"
    }
   },
   "outputs": [],
   "source": [
    "degree_sequence = [d for n, d in G.degree()] # degree sequence"
   ]
  },
  {
   "cell_type": "code",
   "execution_count": 19,
   "metadata": {
    "ExecuteTime": {
     "end_time": "2019-06-25T20:02:57.517609Z",
     "start_time": "2019-06-25T20:02:57.465581Z"
    }
   },
   "outputs": [],
   "source": [
    "def moving_average(a, n=3):\n",
    "    \"\"\"\n",
    "    Calculates the moving average over an array.\n",
    "    Parameters\n",
    "    ----------\n",
    "    a: array   \n",
    "    n: windows size (default = 3)\n",
    "    ----------\n",
    "    Returns the moving average of a.\n",
    "    \"\"\"\n",
    "    ret = np.cumsum(a, dtype=float)\n",
    "    ret[n:] = ret[n:] - ret[:-n]\n",
    "    return ret[n - 1:] / n\n",
    "\n",
    "def pdf(data, nbins=15, log=False, symmetrical=False):\n",
    "    \"\"\"\n",
    "    Estimates the pdf from a np.array.\n",
    "    Parameters\n",
    "    ----------\n",
    "    data: np.array\n",
    "    nbins: number of bins or np.histogram method name (Default: 15).\n",
    "    log: True for log-spaced bins (Default: False).\n",
    "    symmetrical: True for symmetrical bin interval (Default: False).\n",
    "    ----------\n",
    "    Returns [bins,pdf].\n",
    "    \"\"\"\n",
    "    if not isinstance(nbins, str):\n",
    "        if log:\n",
    "            if symmetrical:\n",
    "                maxdata = max(np.abs(np.min(data)), np.abs(np.max(data)))\n",
    "                bins = np.logspace(-maxdata, maxdata, nbins)\n",
    "            else:\n",
    "                bins = np.logspace(np.log10(np.min(data)), np.log10(np.max(data)), nbins)\n",
    "        else:\n",
    "            if symmetrical:\n",
    "                maxdata = max(np.abs(np.min(data)), np.abs(np.max(data)))\n",
    "                bins = np.linspace(-maxdata, maxdata, nbins)\n",
    "            else:\n",
    "                bins = np.linspace(np.min(data), np.max(data), nbins)\n",
    "    else:\n",
    "        bins = nbins\n",
    "    densities, bbins = np.histogram(data, bins=bins, density=True)\n",
    "    return moving_average(bbins, 2), densities\n",
    "\n",
    "\n",
    "def cdf(data, nbins=15, log=False, surv=True):\n",
    "    \"\"\"\n",
    "    Estimates the survival distribution from a np.array.\n",
    "    Parameters\n",
    "    ----------\n",
    "    data: np.array\n",
    "    nbins: number of bins.\n",
    "    log: True for log-spaced bins (Default: False).\n",
    "    surv: False for cumulative distribution function (Default: True).\n",
    "    ----------\n",
    "    Returns [bins,pdf].\n",
    "    \"\"\"\n",
    "    size = len(data)\n",
    "    if log:\n",
    "        bins = np.logspace(np.log10(np.min(data)), np.log10(np.max(data)), nbins)\n",
    "    else:\n",
    "        bins = np.linspace(np.min(data), np.max(data),nbins)        \n",
    "    densities = np.array([len(data[data>=binvalue])/size for binvalue in bins])\n",
    "    if not surv:\n",
    "        densities = 1 - densities\n",
    "    return bins, densities"
   ]
  },
  {
   "cell_type": "code",
   "execution_count": 20,
   "metadata": {
    "ExecuteTime": {
     "end_time": "2019-06-25T20:02:57.887386Z",
     "start_time": "2019-06-25T20:02:57.519738Z"
    }
   },
   "outputs": [
    {
     "data": {
      "text/plain": [
       "Text(0.5, 0, 'Degree, $k$')"
      ]
     },
     "execution_count": 20,
     "metadata": {},
     "output_type": "execute_result"
    },
    {
     "data": {
      "image/png": "[encoded data removed]",
      "text/plain": [
       "<Figure size 655.2x504 with 1 Axes>"
      ]
     },
     "metadata": {},
     "output_type": "display_data"
    }
   ],
   "source": [
    "fig, ax = plt.subplots(figsize=figsize)\n",
    "bins, densities=pdf(np.array(degree_sequence),log=False)\n",
    "ax.plot(bins, densities,\n",
    "        marker='o',\n",
    "        color='#bebada',\n",
    "        markeredgecolor='k',\n",
    "        markersize=12,\n",
    "        linewidth=0)\n",
    "\n",
    "\n",
    "ax.xaxis.set_major_locator(ticker.MultipleLocator(20))\n",
    "\n",
    "ax.set_yscale('log')\n",
    "ax.set_ylabel(r\"PDF\")\n",
    "ax.set_xlabel(r\"Degree, $k$\")"
   ]
  },
  {
   "cell_type": "code",
   "execution_count": 21,
   "metadata": {
    "ExecuteTime": {
     "end_time": "2019-06-25T20:02:57.934374Z",
     "start_time": "2019-06-25T20:02:57.889786Z"
    }
   },
   "outputs": [],
   "source": [
    "loc, scale = stats.expon.fit(degree_sequence, floc=0)"
   ]
  },
  {
   "cell_type": "code",
   "execution_count": 22,
   "metadata": {
    "ExecuteTime": {
     "end_time": "2019-06-25T20:02:58.537036Z",
     "start_time": "2019-06-25T20:02:57.937831Z"
    }
   },
   "outputs": [
    {
     "name": "stdout",
     "output_type": "stream",
     "text": [
      "(1.0, 16.56930693069307)\n"
     ]
    },
    {
     "data": {
      "text/plain": [
       "Text(0.5, 0, 'Degree, $k$')"
      ]
     },
     "execution_count": 22,
     "metadata": {},
     "output_type": "execute_result"
    },
    {
     "data": {
      "image/png": "[encoded data removed]",
      "text/plain": [
       "<Figure size 655.2x504 with 1 Axes>"
      ]
     },
     "metadata": {},
     "output_type": "display_data"
    }
   ],
   "source": [
    "fig, ax = plt.subplots(figsize=figsize)\n",
    "bins, densities=cdf(np.array(degree_sequence))\n",
    "ax.plot(bins, densities,\n",
    "        marker='o',\n",
    "        color='#bebada',\n",
    "        markeredgecolor='k',\n",
    "        markersize=12,\n",
    "        linewidth=0)\n",
    "\n",
    "rX = np.linspace(0,100, 100)\n",
    "params = stats.expon.fit(degree_sequence)\n",
    "rP=1-stats.expon.cdf(rX, *params)\n",
    "print(params)\n",
    "ax.plot(rX, rP,'k--',linewidth=3)\n",
    "\n",
    "ax.xaxis.set_major_locator(ticker.MultipleLocator(20))\n",
    "\n",
    "ax.set_yscale('log')\n",
    "ax.set_ylabel(r\"CDF\")\n",
    "ax.set_xlabel(r\"Degree, $k$\")"
   ]
  },
  {
   "cell_type": "markdown",
   "metadata": {},
   "source": [
    "# Community structure"
   ]
  },
  {
   "cell_type": "markdown",
   "metadata": {},
   "source": [
    "## Louvain \n",
    "\n",
    "`$ pip install community`\n",
    "\n",
    "`$ pip install python-louvain`"
   ]
  },
  {
   "cell_type": "code",
   "execution_count": 23,
   "metadata": {
    "ExecuteTime": {
     "end_time": "2019-06-25T20:02:58.840316Z",
     "start_time": "2019-06-25T20:02:58.540900Z"
    }
   },
   "outputs": [],
   "source": [
    "import community\n",
    "\n",
    "partition = community.best_partition(G)"
   ]
  },
  {
   "cell_type": "code",
   "execution_count": 24,
   "metadata": {
    "ExecuteTime": {
     "end_time": "2019-06-25T20:02:59.824238Z",
     "start_time": "2019-06-25T20:02:58.842789Z"
    },
    "scrolled": false
   },
   "outputs": [
    {
     "name": "stdout",
     "output_type": "stream",
     "text": [
      "Number of partitions:26\n"
     ]
    },
    {
     "name": "stderr",
     "output_type": "stream",
     "text": [
      "/Users/lgaalves/miniconda3/lib/python3.6/site-packages/networkx/drawing/nx_pylab.py:611: MatplotlibDeprecationWarning: isinstance(..., numbers.Number)\n",
      "  if cb.is_numlike(alpha):\n",
      "/Users/lgaalves/miniconda3/lib/python3.6/site-packages/networkx/drawing/nx_pylab.py:611: MatplotlibDeprecationWarning: isinstance(..., numbers.Number)\n",
      "  if cb.is_numlike(alpha):\n",
      "/Users/lgaalves/miniconda3/lib/python3.6/site-packages/networkx/drawing/nx_pylab.py:611: MatplotlibDeprecationWarning: isinstance(..., numbers.Number)\n",
      "  if cb.is_numlike(alpha):\n",
      "/Users/lgaalves/miniconda3/lib/python3.6/site-packages/networkx/drawing/nx_pylab.py:611: MatplotlibDeprecationWarning: isinstance(..., numbers.Number)\n",
      "  if cb.is_numlike(alpha):\n",
      "/Users/lgaalves/miniconda3/lib/python3.6/site-packages/networkx/drawing/nx_pylab.py:611: MatplotlibDeprecationWarning: isinstance(..., numbers.Number)\n",
      "  if cb.is_numlike(alpha):\n",
      "/Users/lgaalves/miniconda3/lib/python3.6/site-packages/networkx/drawing/nx_pylab.py:611: MatplotlibDeprecationWarning: isinstance(..., numbers.Number)\n",
      "  if cb.is_numlike(alpha):\n",
      "/Users/lgaalves/miniconda3/lib/python3.6/site-packages/networkx/drawing/nx_pylab.py:611: MatplotlibDeprecationWarning: isinstance(..., numbers.Number)\n",
      "  if cb.is_numlike(alpha):\n",
      "/Users/lgaalves/miniconda3/lib/python3.6/site-packages/networkx/drawing/nx_pylab.py:611: MatplotlibDeprecationWarning: isinstance(..., numbers.Number)\n",
      "  if cb.is_numlike(alpha):\n",
      "/Users/lgaalves/miniconda3/lib/python3.6/site-packages/networkx/drawing/nx_pylab.py:611: MatplotlibDeprecationWarning: isinstance(..., numbers.Number)\n",
      "  if cb.is_numlike(alpha):\n",
      "/Users/lgaalves/miniconda3/lib/python3.6/site-packages/networkx/drawing/nx_pylab.py:611: MatplotlibDeprecationWarning: isinstance(..., numbers.Number)\n",
      "  if cb.is_numlike(alpha):\n",
      "/Users/lgaalves/miniconda3/lib/python3.6/site-packages/networkx/drawing/nx_pylab.py:611: MatplotlibDeprecationWarning: isinstance(..., numbers.Number)\n",
      "  if cb.is_numlike(alpha):\n",
      "/Users/lgaalves/miniconda3/lib/python3.6/site-packages/networkx/drawing/nx_pylab.py:611: MatplotlibDeprecationWarning: isinstance(..., numbers.Number)\n",
      "  if cb.is_numlike(alpha):\n",
      "/Users/lgaalves/miniconda3/lib/python3.6/site-packages/networkx/drawing/nx_pylab.py:611: MatplotlibDeprecationWarning: isinstance(..., numbers.Number)\n",
      "  if cb.is_numlike(alpha):\n",
      "/Users/lgaalves/miniconda3/lib/python3.6/site-packages/networkx/drawing/nx_pylab.py:611: MatplotlibDeprecationWarning: isinstance(..., numbers.Number)\n",
      "  if cb.is_numlike(alpha):\n",
      "/Users/lgaalves/miniconda3/lib/python3.6/site-packages/networkx/drawing/nx_pylab.py:611: MatplotlibDeprecationWarning: isinstance(..., numbers.Number)\n",
      "  if cb.is_numlike(alpha):\n",
      "/Users/lgaalves/miniconda3/lib/python3.6/site-packages/networkx/drawing/nx_pylab.py:611: MatplotlibDeprecationWarning: isinstance(..., numbers.Number)\n",
      "  if cb.is_numlike(alpha):\n",
      "/Users/lgaalves/miniconda3/lib/python3.6/site-packages/networkx/drawing/nx_pylab.py:611: MatplotlibDeprecationWarning: isinstance(..., numbers.Number)\n",
      "  if cb.is_numlike(alpha):\n",
      "/Users/lgaalves/miniconda3/lib/python3.6/site-packages/networkx/drawing/nx_pylab.py:611: MatplotlibDeprecationWarning: isinstance(..., numbers.Number)\n",
      "  if cb.is_numlike(alpha):\n",
      "/Users/lgaalves/miniconda3/lib/python3.6/site-packages/networkx/drawing/nx_pylab.py:611: MatplotlibDeprecationWarning: isinstance(..., numbers.Number)\n",
      "  if cb.is_numlike(alpha):\n",
      "/Users/lgaalves/miniconda3/lib/python3.6/site-packages/networkx/drawing/nx_pylab.py:611: MatplotlibDeprecationWarning: isinstance(..., numbers.Number)\n",
      "  if cb.is_numlike(alpha):\n",
      "/Users/lgaalves/miniconda3/lib/python3.6/site-packages/networkx/drawing/nx_pylab.py:611: MatplotlibDeprecationWarning: isinstance(..., numbers.Number)\n",
      "  if cb.is_numlike(alpha):\n",
      "/Users/lgaalves/miniconda3/lib/python3.6/site-packages/networkx/drawing/nx_pylab.py:611: MatplotlibDeprecationWarning: isinstance(..., numbers.Number)\n",
      "  if cb.is_numlike(alpha):\n",
      "/Users/lgaalves/miniconda3/lib/python3.6/site-packages/networkx/drawing/nx_pylab.py:611: MatplotlibDeprecationWarning: isinstance(..., numbers.Number)\n",
      "  if cb.is_numlike(alpha):\n",
      "/Users/lgaalves/miniconda3/lib/python3.6/site-packages/networkx/drawing/nx_pylab.py:611: MatplotlibDeprecationWarning: isinstance(..., numbers.Number)\n",
      "  if cb.is_numlike(alpha):\n",
      "/Users/lgaalves/miniconda3/lib/python3.6/site-packages/networkx/drawing/nx_pylab.py:611: MatplotlibDeprecationWarning: isinstance(..., numbers.Number)\n",
      "  if cb.is_numlike(alpha):\n",
      "/Users/lgaalves/miniconda3/lib/python3.6/site-packages/networkx/drawing/nx_pylab.py:611: MatplotlibDeprecationWarning: isinstance(..., numbers.Number)\n",
      "  if cb.is_numlike(alpha):\n"
     ]
    },
    {
     "data": {
      "image/png": "[encoded data removed]",
      "text/plain": [
       "<Figure size 720x720 with 1 Axes>"
      ]
     },
     "metadata": {},
     "output_type": "display_data"
    }
   ],
   "source": [
    "fig, ax = plt.subplots(figsize=(10, 10))\n",
    "\n",
    "print('Number of partitions:{}'.format(len(set(partition.values()))))\n",
    "# NETWORK     \n",
    "node_size=(np.array(list(dict(G.degree()).values())))/5\n",
    "node_size[node_size<3]=3\n",
    "\n",
    "cmap =plt.get_cmap('RdBu_r') \n",
    "cNorm  = colors.Normalize(vmin=min(node_size), vmax=max(node_size))\n",
    "scalarMap = cmx.ScalarMappable(norm=cNorm, cmap=cmap)\n",
    "\n",
    "\n",
    "pos=nx.spring_layout(G)\n",
    "count = 0.\n",
    "for i in set(partition.values()) :\n",
    "    count = count + 1.\n",
    "    list_nodes = [nodes for nodes in partition.keys()\n",
    "                                if partition[nodes] == i]\n",
    "    k = G.subgraph(list_nodes)\n",
    "    colorVal = scalarMap.to_rgba(i)\n",
    "    nx.draw(k,\n",
    "            pos=pos,\n",
    "            node_color=mpl.colors.rgb2hex(colorVal),\n",
    "            node_size=20,\n",
    "            edge_color='#bdbdbd', \n",
    "            width=1, \n",
    "            edge_cmap=plt.cm.winter,\n",
    "            with_labels=False,\n",
    "            font_size=10,\n",
    "            color=\"k\",\n",
    "            alpha=0.8)\n"
   ]
  },
  {
   "cell_type": "markdown",
   "metadata": {},
   "source": [
    "## Netcarto: Community structure and node's role\n",
    "http://seeslab.info/downloads/network-cartography-netcarto/"
   ]
  },
  {
   "cell_type": "code",
   "execution_count": 25,
   "metadata": {
    "ExecuteTime": {
     "end_time": "2019-06-25T20:02:59.901859Z",
     "start_time": "2019-06-25T20:02:59.833168Z"
    }
   },
   "outputs": [
    {
     "data": {
      "text/html": [
       "<div>\n",
       "<style scoped>\n",
       "    .dataframe tbody tr th:only-of-type {\n",
       "        vertical-align: middle;\n",
       "    }\n",
       "\n",
       "    .dataframe tbody tr th {\n",
       "        vertical-align: top;\n",
       "    }\n",
       "\n",
       "    .dataframe thead th {\n",
       "        text-align: right;\n",
       "    }\n",
       "</style>\n",
       "<table border=\"1\" class=\"dataframe\">\n",
       "  <thead>\n",
       "    <tr style=\"text-align: right;\">\n",
       "      <th></th>\n",
       "      <th>Source</th>\n",
       "      <th>Target</th>\n",
       "    </tr>\n",
       "  </thead>\n",
       "  <tbody>\n",
       "    <tr>\n",
       "      <th>0</th>\n",
       "      <td>246</td>\n",
       "      <td>243</td>\n",
       "    </tr>\n",
       "    <tr>\n",
       "      <th>1</th>\n",
       "      <td>246</td>\n",
       "      <td>60</td>\n",
       "    </tr>\n",
       "    <tr>\n",
       "      <th>2</th>\n",
       "      <td>246</td>\n",
       "      <td>240</td>\n",
       "    </tr>\n",
       "    <tr>\n",
       "      <th>3</th>\n",
       "      <td>246</td>\n",
       "      <td>242</td>\n",
       "    </tr>\n",
       "    <tr>\n",
       "      <th>4</th>\n",
       "      <td>246</td>\n",
       "      <td>241</td>\n",
       "    </tr>\n",
       "  </tbody>\n",
       "</table>\n",
       "</div>"
      ],
      "text/plain": [
       "   Source  Target\n",
       "0     246     243\n",
       "1     246      60\n",
       "2     246     240\n",
       "3     246     242\n",
       "4     246     241"
      ]
     },
     "execution_count": 25,
     "metadata": {},
     "output_type": "execute_result"
    }
   ],
   "source": [
    "df_net.head()"
   ]
  },
  {
   "cell_type": "code",
   "execution_count": 26,
   "metadata": {
    "ExecuteTime": {
     "end_time": "2019-06-25T20:02:59.970423Z",
     "start_time": "2019-06-25T20:02:59.904822Z"
    }
   },
   "outputs": [],
   "source": [
    "def netcarto(net,weight=False):\n",
    "    \"\"\"\n",
    "    Executes netcarto in C, see netcarto documentation\n",
    "\n",
    "    \"\"\"\n",
    "    import subprocess\n",
    "    path_in='c/netcarto/net.dat'\n",
    "    path_out='c/netcarto/net.dat.log'\n",
    "\n",
    "    #Save network\n",
    "    net.to_csv(path_in, header=None, index=None, sep='\\t',encoding='utf-8')\n",
    "\n",
    "    #Run netcarto\n",
    "    command= './c/netcarto/netcarto -f {0} -r -o {1}'.format(path_in,path_out)\n",
    "    if weight==True:\n",
    "        command= './c/netcarto/netcarto -f {0} -r -w -o {1}'.format(path_in,path_out)\n",
    "    process = subprocess.Popen(command, shell=True, stdout=subprocess.PIPE)\n",
    "    process.wait()\n",
    "\n",
    "    #Read netcarto results\n",
    "    netcarto_result= pd.read_csv(path_out,skiprows=[0,1],sep='\\t',encoding='utf-8')\n",
    "    netcarto_result.rename(columns={netcarto_result.columns[0]: \"Label\"},inplace=True)\n",
    "    netcarto_result.fillna(0,inplace=True)\n",
    "    netcarto_result.sort_values(\"Role\",inplace=True,ascending=False)\n",
    "    process.wait()\n",
    "\n",
    "    #Remove files\n",
    "    #os.system('rm '+path_in)\n",
    "    #os.system('rm '+path_out)\n",
    "    print(\"Netcarto done!\")\n",
    "    return netcarto_result\n",
    "\n",
    "\n",
    "def plot_background_netcarto(ax,ymin=-3,ymax=4):\n",
    "    alpha=0.5\n",
    "\n",
    "    #R1\n",
    "    x=np.array([-0.01, 0.05])\n",
    "    y1=[ymin for i in range(0,len(x))]\n",
    "    y2=[2.5 for i in range(0,len(x))]\n",
    "    ax.fill_between(x,y1,y2, facecolor='#cccccc', interpolate=True,alpha=alpha) #gray\n",
    "\n",
    "    #R2\n",
    "    x=np.array([0.05,0.62])\n",
    "    y1=[ymin for i in range(0,len(x))]\n",
    "    y2=[2.5 for i in range(0,len(x))]\n",
    "    ax.fill_between(x,y1,y2, facecolor='#ef3b2c', interpolate=True,alpha=alpha) #red\n",
    "\n",
    "    #R3\n",
    "    x=np.array([0.62, 0.8])\n",
    "    y1=[ymin for i in range(0,len(x))]\n",
    "    y2=[2.5 for i in range(0,len(x))]\n",
    "    ax.fill_between(x,y1,y2, facecolor='#74c476', interpolate=True,alpha=alpha) #green\n",
    "\n",
    "    #R4\n",
    "    x=np.array([0.8, 1])\n",
    "    y1=[ymin for i in range(0,len(x))]\n",
    "    y2=[2.5 for i in range(0,len(x))]\n",
    "    ax.fill_between(x,y1,y2, facecolor='#6baed6', interpolate=True,alpha=alpha) #blue\n",
    "\n",
    "    #R5\n",
    "    x=np.array([-0.01, 0.3])\n",
    "    y1=[2.5 for i in range(0,len(x))]\n",
    "    y2=[ymax for i in range(0,len(x))]\n",
    "    ax.fill_between(x,y1,y2, facecolor='#fee090', interpolate=True,alpha=alpha) #yellow\n",
    "\n",
    "    #R6\n",
    "    x=np.array([0.3, 0.75])\n",
    "    y1=[2.5 for i in range(0,len(x))]\n",
    "    y2=[ymax for i in range(0,len(x))]\n",
    "    ax.fill_between(x,y1,y2, facecolor='#8c510a', interpolate=True,alpha=alpha) #brown\n",
    "\n",
    "    #R7\n",
    "    x=np.array([0.75, 1])\n",
    "    y1=[2.5 for i in range(0,len(x))]\n",
    "    y2=[ymax for i in range(0,len(x))]\n",
    "    ax.fill_between(x,y1,y2, facecolor='#c994c7', interpolate=True,alpha=alpha) #pink\n",
    "\n",
    "\n",
    "    ax.set_xlim(0,1)\n",
    "    ax.set_ylim(ymin,ymax)\n",
    "    ax.set_xlabel(r'Participation coefficient, $P$')\n",
    "    ax.set_ylabel(r'Within-module, $Z$')"
   ]
  },
  {
   "cell_type": "code",
   "execution_count": 27,
   "metadata": {
    "ExecuteTime": {
     "end_time": "2019-06-25T20:03:04.368442Z",
     "start_time": "2019-06-25T20:02:59.974034Z"
    }
   },
   "outputs": [
    {
     "name": "stdout",
     "output_type": "stream",
     "text": [
      "Netcarto done!\n"
     ]
    }
   ],
   "source": [
    "resultnetcarto=netcarto(df_net,weight=False)"
   ]
  },
  {
   "cell_type": "code",
   "execution_count": 28,
   "metadata": {
    "ExecuteTime": {
     "end_time": "2019-06-25T20:03:04.427978Z",
     "start_time": "2019-06-25T20:03:04.371954Z"
    }
   },
   "outputs": [
    {
     "data": {
      "text/html": [
       "<div>\n",
       "<style scoped>\n",
       "    .dataframe tbody tr th:only-of-type {\n",
       "        vertical-align: middle;\n",
       "    }\n",
       "\n",
       "    .dataframe tbody tr th {\n",
       "        vertical-align: top;\n",
       "    }\n",
       "\n",
       "    .dataframe thead th {\n",
       "        text-align: right;\n",
       "    }\n",
       "</style>\n",
       "<table border=\"1\" class=\"dataframe\">\n",
       "  <thead>\n",
       "    <tr style=\"text-align: right;\">\n",
       "      <th></th>\n",
       "      <th>Label</th>\n",
       "      <th>Module</th>\n",
       "      <th>Connectivity</th>\n",
       "      <th>Participation</th>\n",
       "      <th>Role</th>\n",
       "    </tr>\n",
       "  </thead>\n",
       "  <tbody>\n",
       "    <tr>\n",
       "      <th>150</th>\n",
       "      <td>117</td>\n",
       "      <td>14</td>\n",
       "      <td>2.593094</td>\n",
       "      <td>0.465028</td>\n",
       "      <td>R6</td>\n",
       "    </tr>\n",
       "    <tr>\n",
       "      <th>141</th>\n",
       "      <td>112</td>\n",
       "      <td>14</td>\n",
       "      <td>2.593094</td>\n",
       "      <td>0.000000</td>\n",
       "      <td>R5</td>\n",
       "    </tr>\n",
       "    <tr>\n",
       "      <th>104</th>\n",
       "      <td>168</td>\n",
       "      <td>18</td>\n",
       "      <td>6.083618</td>\n",
       "      <td>0.161633</td>\n",
       "      <td>R5</td>\n",
       "    </tr>\n",
       "    <tr>\n",
       "      <th>50</th>\n",
       "      <td>273</td>\n",
       "      <td>8</td>\n",
       "      <td>3.464102</td>\n",
       "      <td>0.000000</td>\n",
       "      <td>R5</td>\n",
       "    </tr>\n",
       "    <tr>\n",
       "      <th>139</th>\n",
       "      <td>124</td>\n",
       "      <td>14</td>\n",
       "      <td>2.593094</td>\n",
       "      <td>0.283419</td>\n",
       "      <td>R5</td>\n",
       "    </tr>\n",
       "  </tbody>\n",
       "</table>\n",
       "</div>"
      ],
      "text/plain": [
       "     Label  Module  Connectivity  Participation Role\n",
       "150    117      14      2.593094       0.465028   R6\n",
       "141    112      14      2.593094       0.000000   R5\n",
       "104    168      18      6.083618       0.161633   R5\n",
       "50     273       8      3.464102       0.000000   R5\n",
       "139    124      14      2.593094       0.283419   R5"
      ]
     },
     "execution_count": 28,
     "metadata": {},
     "output_type": "execute_result"
    }
   ],
   "source": [
    "resultnetcarto.head()"
   ]
  },
  {
   "cell_type": "code",
   "execution_count": 29,
   "metadata": {
    "ExecuteTime": {
     "end_time": "2019-06-25T20:03:04.470923Z",
     "start_time": "2019-06-25T20:03:04.430855Z"
    }
   },
   "outputs": [
    {
     "data": {
      "text/plain": [
       "{0, 1, 2, 3, 4, 5, 6, 7, 8, 9, 10, 11, 12, 13, 14, 15, 16, 17, 18, 19, 20}"
      ]
     },
     "execution_count": 29,
     "metadata": {},
     "output_type": "execute_result"
    }
   ],
   "source": [
    "set(list(resultnetcarto.Module))"
   ]
  },
  {
   "cell_type": "code",
   "execution_count": 30,
   "metadata": {
    "ExecuteTime": {
     "end_time": "2019-06-25T20:03:04.834975Z",
     "start_time": "2019-06-25T20:03:04.474238Z"
    }
   },
   "outputs": [
    {
     "data": {
      "text/plain": [
       "(-0.01, 1.0)"
      ]
     },
     "execution_count": 30,
     "metadata": {},
     "output_type": "execute_result"
    },
    {
     "data": {
      "image/png": "[encoded data removed]",
      "text/plain": [
       "<Figure size 655.2x504 with 1 Axes>"
      ]
     },
     "metadata": {},
     "output_type": "display_data"
    }
   ],
   "source": [
    "fig = plt.figure(figsize=figsize)\n",
    "ax = fig.add_subplot(111)\n",
    "ax.plot(resultnetcarto.Participation,resultnetcarto.Connectivity,\"ko\",alpha=0.6)#,markersize=12)\n",
    "plot_background_netcarto(ax, ymin=-5, ymax=7)\n",
    "ax.set_ylim(-5,7)\n",
    "ax.set_xlim(-0.01,1.00)"
   ]
  },
  {
   "cell_type": "code",
   "execution_count": 31,
   "metadata": {
    "ExecuteTime": {
     "end_time": "2019-06-25T20:03:04.884997Z",
     "start_time": "2019-06-25T20:03:04.837878Z"
    }
   },
   "outputs": [],
   "source": [
    "roles=sorted(list(set(resultnetcarto.Role)))\n",
    "sizes=[50,70,100,300,600]\n",
    "D=dict()\n",
    "for i,role in enumerate(roles):\n",
    "    D[role]=sizes[i]"
   ]
  },
  {
   "cell_type": "code",
   "execution_count": 32,
   "metadata": {
    "ExecuteTime": {
     "end_time": "2019-06-25T20:03:06.022281Z",
     "start_time": "2019-06-25T20:03:04.887184Z"
    },
    "scrolled": false
   },
   "outputs": [
    {
     "name": "stdout",
     "output_type": "stream",
     "text": [
      "Number of partitions:21\n"
     ]
    },
    {
     "name": "stderr",
     "output_type": "stream",
     "text": [
      "/Users/lgaalves/miniconda3/lib/python3.6/site-packages/networkx/drawing/nx_pylab.py:611: MatplotlibDeprecationWarning: isinstance(..., numbers.Number)\n",
      "  if cb.is_numlike(alpha):\n",
      "/Users/lgaalves/miniconda3/lib/python3.6/site-packages/networkx/drawing/nx_pylab.py:611: MatplotlibDeprecationWarning: isinstance(..., numbers.Number)\n",
      "  if cb.is_numlike(alpha):\n",
      "/Users/lgaalves/miniconda3/lib/python3.6/site-packages/networkx/drawing/nx_pylab.py:611: MatplotlibDeprecationWarning: isinstance(..., numbers.Number)\n",
      "  if cb.is_numlike(alpha):\n",
      "/Users/lgaalves/miniconda3/lib/python3.6/site-packages/networkx/drawing/nx_pylab.py:611: MatplotlibDeprecationWarning: isinstance(..., numbers.Number)\n",
      "  if cb.is_numlike(alpha):\n",
      "/Users/lgaalves/miniconda3/lib/python3.6/site-packages/networkx/drawing/nx_pylab.py:611: MatplotlibDeprecationWarning: isinstance(..., numbers.Number)\n",
      "  if cb.is_numlike(alpha):\n",
      "/Users/lgaalves/miniconda3/lib/python3.6/site-packages/networkx/drawing/nx_pylab.py:611: MatplotlibDeprecationWarning: isinstance(..., numbers.Number)\n",
      "  if cb.is_numlike(alpha):\n",
      "/Users/lgaalves/miniconda3/lib/python3.6/site-packages/networkx/drawing/nx_pylab.py:611: MatplotlibDeprecationWarning: isinstance(..., numbers.Number)\n",
      "  if cb.is_numlike(alpha):\n",
      "/Users/lgaalves/miniconda3/lib/python3.6/site-packages/networkx/drawing/nx_pylab.py:611: MatplotlibDeprecationWarning: isinstance(..., numbers.Number)\n",
      "  if cb.is_numlike(alpha):\n",
      "/Users/lgaalves/miniconda3/lib/python3.6/site-packages/networkx/drawing/nx_pylab.py:611: MatplotlibDeprecationWarning: isinstance(..., numbers.Number)\n",
      "  if cb.is_numlike(alpha):\n",
      "/Users/lgaalves/miniconda3/lib/python3.6/site-packages/networkx/drawing/nx_pylab.py:611: MatplotlibDeprecationWarning: isinstance(..., numbers.Number)\n",
      "  if cb.is_numlike(alpha):\n",
      "/Users/lgaalves/miniconda3/lib/python3.6/site-packages/networkx/drawing/nx_pylab.py:611: MatplotlibDeprecationWarning: isinstance(..., numbers.Number)\n",
      "  if cb.is_numlike(alpha):\n",
      "/Users/lgaalves/miniconda3/lib/python3.6/site-packages/networkx/drawing/nx_pylab.py:611: MatplotlibDeprecationWarning: isinstance(..., numbers.Number)\n",
      "  if cb.is_numlike(alpha):\n",
      "/Users/lgaalves/miniconda3/lib/python3.6/site-packages/networkx/drawing/nx_pylab.py:611: MatplotlibDeprecationWarning: isinstance(..., numbers.Number)\n",
      "  if cb.is_numlike(alpha):\n",
      "/Users/lgaalves/miniconda3/lib/python3.6/site-packages/networkx/drawing/nx_pylab.py:611: MatplotlibDeprecationWarning: isinstance(..., numbers.Number)\n",
      "  if cb.is_numlike(alpha):\n",
      "/Users/lgaalves/miniconda3/lib/python3.6/site-packages/networkx/drawing/nx_pylab.py:611: MatplotlibDeprecationWarning: isinstance(..., numbers.Number)\n",
      "  if cb.is_numlike(alpha):\n",
      "/Users/lgaalves/miniconda3/lib/python3.6/site-packages/networkx/drawing/nx_pylab.py:611: MatplotlibDeprecationWarning: isinstance(..., numbers.Number)\n",
      "  if cb.is_numlike(alpha):\n",
      "/Users/lgaalves/miniconda3/lib/python3.6/site-packages/networkx/drawing/nx_pylab.py:611: MatplotlibDeprecationWarning: isinstance(..., numbers.Number)\n",
      "  if cb.is_numlike(alpha):\n",
      "/Users/lgaalves/miniconda3/lib/python3.6/site-packages/networkx/drawing/nx_pylab.py:611: MatplotlibDeprecationWarning: isinstance(..., numbers.Number)\n",
      "  if cb.is_numlike(alpha):\n",
      "/Users/lgaalves/miniconda3/lib/python3.6/site-packages/networkx/drawing/nx_pylab.py:611: MatplotlibDeprecationWarning: isinstance(..., numbers.Number)\n",
      "  if cb.is_numlike(alpha):\n",
      "/Users/lgaalves/miniconda3/lib/python3.6/site-packages/networkx/drawing/nx_pylab.py:611: MatplotlibDeprecationWarning: isinstance(..., numbers.Number)\n",
      "  if cb.is_numlike(alpha):\n",
      "/Users/lgaalves/miniconda3/lib/python3.6/site-packages/networkx/drawing/nx_pylab.py:611: MatplotlibDeprecationWarning: isinstance(..., numbers.Number)\n",
      "  if cb.is_numlike(alpha):\n",
      "/Users/lgaalves/miniconda3/lib/python3.6/site-packages/networkx/drawing/nx_pylab.py:611: MatplotlibDeprecationWarning: isinstance(..., numbers.Number)\n",
      "  if cb.is_numlike(alpha):\n",
      "/Users/lgaalves/miniconda3/lib/python3.6/site-packages/networkx/drawing/nx_pylab.py:611: MatplotlibDeprecationWarning: isinstance(..., numbers.Number)\n",
      "  if cb.is_numlike(alpha):\n",
      "/Users/lgaalves/miniconda3/lib/python3.6/site-packages/networkx/drawing/nx_pylab.py:611: MatplotlibDeprecationWarning: isinstance(..., numbers.Number)\n",
      "  if cb.is_numlike(alpha):\n",
      "/Users/lgaalves/miniconda3/lib/python3.6/site-packages/networkx/drawing/nx_pylab.py:611: MatplotlibDeprecationWarning: isinstance(..., numbers.Number)\n",
      "  if cb.is_numlike(alpha):\n",
      "/Users/lgaalves/miniconda3/lib/python3.6/site-packages/networkx/drawing/nx_pylab.py:611: MatplotlibDeprecationWarning: isinstance(..., numbers.Number)\n",
      "  if cb.is_numlike(alpha):\n",
      "/Users/lgaalves/miniconda3/lib/python3.6/site-packages/networkx/drawing/nx_pylab.py:611: MatplotlibDeprecationWarning: isinstance(..., numbers.Number)\n",
      "  if cb.is_numlike(alpha):\n",
      "/Users/lgaalves/miniconda3/lib/python3.6/site-packages/networkx/drawing/nx_pylab.py:611: MatplotlibDeprecationWarning: isinstance(..., numbers.Number)\n",
      "  if cb.is_numlike(alpha):\n",
      "/Users/lgaalves/miniconda3/lib/python3.6/site-packages/networkx/drawing/nx_pylab.py:611: MatplotlibDeprecationWarning: isinstance(..., numbers.Number)\n",
      "  if cb.is_numlike(alpha):\n",
      "/Users/lgaalves/miniconda3/lib/python3.6/site-packages/networkx/drawing/nx_pylab.py:611: MatplotlibDeprecationWarning: isinstance(..., numbers.Number)\n",
      "  if cb.is_numlike(alpha):\n"
     ]
    },
    {
     "data": {
      "text/plain": [
       "(-0.9871882997120419,\n",
       " 0.7896063004073669,\n",
       " -1.060002959117719,\n",
       " 1.1072308490673706)"
      ]
     },
     "execution_count": 32,
     "metadata": {},
     "output_type": "execute_result"
    },
    {
     "data": {
      "image/png": "[encoded data removed]",
      "text/plain": [
       "<Figure size 720x720 with 1 Axes>"
      ]
     },
     "metadata": {},
     "output_type": "display_data"
    }
   ],
   "source": [
    "fig, ax = plt.subplots(figsize=(10, 10))\n",
    "\n",
    "# NETWORK     \n",
    "number_of_modules=len(pd.unique(resultnetcarto.Module))\n",
    "print('Number of partitions:{}'.format(number_of_modules))\n",
    "\n",
    "pos=nx.spring_layout(G)\n",
    "\n",
    "\n",
    "cmap =plt.get_cmap('Set1') \n",
    "cNorm  = colors.Normalize(vmin=0, vmax=number_of_modules)\n",
    "scalarMap = cmx.ScalarMappable(norm=cNorm, cmap=cmap)\n",
    "\n",
    "for i in range(0,number_of_modules):\n",
    "    k = G.subgraph(list(resultnetcarto[resultnetcarto.Module==i].Label))\n",
    "    \n",
    "    for role in roles:\n",
    "        subk = k.subgraph(list(resultnetcarto[resultnetcarto.Role==role].Label))\n",
    "        colorVal = scalarMap.to_rgba(i)\n",
    "        nx.draw_networkx_nodes(subk,\n",
    "                pos=pos,\n",
    "                #node_shape=shapes[role],\n",
    "                node_color=mpl.colors.rgb2hex(colorVal),\n",
    "                node_size=D[role],\n",
    "                linewidths=0,\n",
    "                with_labels=False,\n",
    "                font_size=10,\n",
    "                color=\"k\",\n",
    "                alpha=0.8)\n",
    "        nx.draw_networkx_edges(subk,pos=pos,edge_color='gray')\n",
    "ax.axis('off')"
   ]
  },
  {
   "cell_type": "code",
   "execution_count": null,
   "metadata": {},
   "outputs": [],
   "source": []
  },
  {
   "cell_type": "code",
   "execution_count": null,
   "metadata": {},
   "outputs": [],
   "source": []
  }
 ],
 "metadata": {
  "kernelspec": {
   "display_name": "Python 3",
   "language": "python",
   "name": "python3"
  },
  "language_info": {
   "codemirror_mode": {
    "name": "ipython",
    "version": 3
   },
   "file_extension": ".py",
   "mimetype": "text/x-python",
   "name": "python",
   "nbconvert_exporter": "python",
   "pygments_lexer": "ipython3",
   "version": "3.6.8"
  },
  "latex_envs": {
   "LaTeX_envs_menu_present": true,
   "autoclose": false,
   "autocomplete": true,
   "bibliofile": "biblio.bib",
   "cite_by": "apalike",
   "current_citInitial": 1,
   "eqLabelWithNumbers": true,
   "eqNumInitial": 1,
   "hotkeys": {
    "equation": "Ctrl-E",
    "itemize": "Ctrl-I"
   },
   "labels_anchors": false,
   "latex_user_defs": false,
   "report_style_numbering": false,
   "user_envs_cfg": false
  },
  "toc": {
   "nav_menu": {},
   "number_sections": true,
   "sideBar": true,
   "skip_h1_title": false,
   "title_cell": "Table of Contents",
   "title_sidebar": "Contents",
   "toc_cell": false,
   "toc_position": {
    "height": "calc(100% - 180px)",
    "left": "10px",
    "top": "150px",
    "width": "314px"
   },
   "toc_section_display": true,
   "toc_window_display": true
  }
 },
 "nbformat": 4,
 "nbformat_minor": 2
}
