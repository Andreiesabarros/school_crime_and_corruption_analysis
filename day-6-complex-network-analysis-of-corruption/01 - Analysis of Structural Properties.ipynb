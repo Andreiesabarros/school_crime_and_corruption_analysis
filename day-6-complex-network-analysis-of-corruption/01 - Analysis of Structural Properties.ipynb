{
 "cells": [
  {
   "cell_type": "markdown",
   "metadata": {
    "slideshow": {
     "slide_type": "-"
    }
   },
   "source": [
    "# Analysis of Structural Properties"
   ]
  },
  {
   "cell_type": "code",
   "execution_count": 1,
   "metadata": {
    "ExecuteTime": {
     "end_time": "2019-07-05T12:25:09.444162Z",
     "start_time": "2019-07-05T12:25:05.345150Z"
    },
    "slideshow": {
     "slide_type": "-"
    }
   },
   "outputs": [],
   "source": [
    "import numpy as np\n",
    "import networkx as nx\n",
    "import matplotlib.pyplot as plt\n",
    "import nxviz as nv\n",
    "from collections import Counter\n",
    "\n",
    "%matplotlib inline"
   ]
  },
  {
   "cell_type": "markdown",
   "metadata": {},
   "source": [
    "## Node degree, network average degree, degree distribution"
   ]
  },
  {
   "cell_type": "code",
   "execution_count": 4,
   "metadata": {
    "ExecuteTime": {
     "end_time": "2019-07-05T12:26:08.604182Z",
     "start_time": "2019-07-05T12:26:05.291549Z"
    }
   },
   "outputs": [],
   "source": [
    "# input edgelist from file\n",
    "G = nx.read_edgelist(\"datafiles/social/facebook/fb.txt\")"
   ]
  },
  {
   "cell_type": "code",
   "execution_count": null,
   "metadata": {
    "ExecuteTime": {
     "end_time": "2019-07-05T12:26:42.683404Z",
     "start_time": "2019-07-05T12:26:42.588440Z"
    },
    "scrolled": false
   },
   "outputs": [],
   "source": []
  },
  {
   "cell_type": "code",
   "execution_count": 6,
   "metadata": {
    "ExecuteTime": {
     "end_time": "2019-07-05T12:27:36.555254Z",
     "start_time": "2019-07-05T12:27:36.502304Z"
    }
   },
   "outputs": [],
   "source": [
    "degrees = [deg for node, deg in nx.degree(G)]"
   ]
  },
  {
   "cell_type": "code",
   "execution_count": 8,
   "metadata": {
    "ExecuteTime": {
     "end_time": "2019-07-05T12:28:19.634460Z",
     "start_time": "2019-07-05T12:28:19.608919Z"
    }
   },
   "outputs": [
    {
     "name": "stdout",
     "output_type": "stream",
     "text": [
      "minimum degree 1\n",
      "maximum degree 1098\n",
      "average degree 25.640112347209364\n"
     ]
    }
   ],
   "source": [
    "# kmin - minimum degree\n",
    "kmin = np.min(degrees)\n",
    "print('minimum degree {}'.format(kmin))\n",
    "# kmax - maximum degree\n",
    "kmax = np.max(degrees)\n",
    "print('maximum degree {}'.format(kmax))\n",
    "# kavg - average degree of the network\n",
    "kavg = np.mean(degrees)\n",
    "print('average degree {}'.format(kavg))"
   ]
  },
  {
   "cell_type": "markdown",
   "metadata": {},
   "source": [
    "**Degree distribution**: helps us understand connectivity trends in networks and how edges are distributed among nodes (does everyone have similar number of connections, or do we have hubs, nodes with significantly higher number of connections?)"
   ]
  },
  {
   "cell_type": "code",
   "execution_count": 9,
   "metadata": {
    "ExecuteTime": {
     "end_time": "2019-07-05T12:28:54.117531Z",
     "start_time": "2019-07-05T12:28:54.111378Z"
    }
   },
   "outputs": [],
   "source": [
    "def degree_distr(net):\n",
    "    degrees = dict(net.degree()) \n",
    "    hist = list(Counter(degrees.values()).items()) \n",
    "    hist.sort(key=lambda x:x[0])\n",
    "    hist = np.array(hist)\n",
    "    return hist"
   ]
  },
  {
   "cell_type": "code",
   "execution_count": 12,
   "metadata": {
    "ExecuteTime": {
     "end_time": "2019-07-05T12:29:24.781451Z",
     "start_time": "2019-07-05T12:29:24.713938Z"
    }
   },
   "outputs": [],
   "source": [
    "x,y=np.transpose(degree_distr(G))"
   ]
  },
  {
   "cell_type": "code",
   "execution_count": 15,
   "metadata": {
    "ExecuteTime": {
     "end_time": "2019-07-05T12:30:07.318346Z",
     "start_time": "2019-07-05T12:30:06.538209Z"
    }
   },
   "outputs": [
    {
     "data": {
      "text/plain": [
       "Text(0, 0.5, 'P(k)')"
      ]
     },
     "execution_count": 15,
     "metadata": {},
     "output_type": "execute_result"
    },
    {
     "data": {
      "image/png": "[encoded data removed]",
      "text/plain": [
       "<Figure size 432x288 with 1 Axes>"
      ]
     },
     "metadata": {
      "needs_background": "light"
     },
     "output_type": "display_data"
    }
   ],
   "source": [
    "plt.loglog(x,y)\n",
    "plt.xlabel(r'k')\n",
    "plt.ylabel(r'P(k)')"
   ]
  },
  {
   "cell_type": "markdown",
   "metadata": {},
   "source": [
    "## Paths on Networks: average path length, shortest path, longest path"
   ]
  },
  {
   "cell_type": "code",
   "execution_count": 18,
   "metadata": {
    "ExecuteTime": {
     "end_time": "2019-07-05T12:33:37.952648Z",
     "start_time": "2019-07-05T12:33:37.946908Z"
    }
   },
   "outputs": [],
   "source": [
    "G=nx.Graph()\n",
    "# assign weight to edge\n",
    "G.add_edge('Mary','Steven', weight=5)"
   ]
  },
  {
   "cell_type": "code",
   "execution_count": 19,
   "metadata": {
    "ExecuteTime": {
     "end_time": "2019-07-05T12:33:39.443165Z",
     "start_time": "2019-07-05T12:33:39.436215Z"
    }
   },
   "outputs": [
    {
     "data": {
      "text/plain": [
       "1.0"
      ]
     },
     "execution_count": 19,
     "metadata": {},
     "output_type": "execute_result"
    }
   ],
   "source": [
    "# average path length in graph\n",
    "nx.average_shortest_path_length(G, weight=None)"
   ]
  },
  {
   "cell_type": "markdown",
   "metadata": {},
   "source": [
    "## Clustering coefficient, triangles"
   ]
  },
  {
   "cell_type": "code",
   "execution_count": 26,
   "metadata": {
    "ExecuteTime": {
     "end_time": "2019-07-05T12:36:27.688584Z",
     "start_time": "2019-07-05T12:36:23.682149Z"
    }
   },
   "outputs": [],
   "source": [
    "G = nx.read_edgelist(\"datafiles/social/facebook/fb.txt\")"
   ]
  },
  {
   "cell_type": "code",
   "execution_count": 29,
   "metadata": {
    "ExecuteTime": {
     "end_time": "2019-07-05T12:38:34.758764Z",
     "start_time": "2019-07-05T12:38:34.755788Z"
    }
   },
   "outputs": [],
   "source": [
    "# triangles\n",
    "nx.triangles(G)"
   ]
  },
  {
   "cell_type": "code",
   "execution_count": 30,
   "metadata": {
    "ExecuteTime": {
     "end_time": "2019-07-05T12:39:23.004108Z",
     "start_time": "2019-07-05T12:39:22.993039Z"
    }
   },
   "outputs": [],
   "source": [
    "g=nx.complete_graph(100)"
   ]
  },
  {
   "cell_type": "code",
   "execution_count": 32,
   "metadata": {
    "ExecuteTime": {
     "end_time": "2019-07-05T12:39:37.315506Z",
     "start_time": "2019-07-05T12:39:37.307979Z"
    }
   },
   "outputs": [
    {
     "data": {
      "text/plain": [
       "1.0"
      ]
     },
     "execution_count": 32,
     "metadata": {},
     "output_type": "execute_result"
    }
   ],
   "source": [
    "nx.clustering(g, 10)"
   ]
  },
  {
   "cell_type": "code",
   "execution_count": 28,
   "metadata": {
    "ExecuteTime": {
     "end_time": "2019-07-05T12:37:34.503708Z",
     "start_time": "2019-07-05T12:37:34.496647Z"
    }
   },
   "outputs": [
    {
     "data": {
      "text/plain": [
       "0.6666666666666666"
      ]
     },
     "execution_count": 28,
     "metadata": {},
     "output_type": "execute_result"
    }
   ],
   "source": [
    "# clustering coefficient of a node\n",
    "nx.clustering(G, '10')"
   ]
  },
  {
   "cell_type": "code",
   "execution_count": 34,
   "metadata": {
    "ExecuteTime": {
     "end_time": "2019-07-05T12:40:21.179630Z",
     "start_time": "2019-07-05T12:40:21.176716Z"
    }
   },
   "outputs": [],
   "source": [
    "# clustering coefficient of all nodes (returns a dictionary)\n",
    "# nx.clustering(G)"
   ]
  },
  {
   "cell_type": "code",
   "execution_count": 35,
   "metadata": {
    "ExecuteTime": {
     "end_time": "2019-07-05T12:40:50.017086Z",
     "start_time": "2019-07-05T12:40:27.240654Z"
    }
   },
   "outputs": [
    {
     "name": "stdout",
     "output_type": "stream",
     "text": [
      "0.22098240472748912\n"
     ]
    }
   ],
   "source": [
    "# clustering coefficient of the network\n",
    "cc = nx.clustering(G)\n",
    "avg_clust = sum(cc.values()) / len(cc)\n",
    "print(avg_clust)"
   ]
  },
  {
   "cell_type": "markdown",
   "metadata": {},
   "source": [
    "## Centrality measures"
   ]
  },
  {
   "cell_type": "code",
   "execution_count": 44,
   "metadata": {
    "ExecuteTime": {
     "end_time": "2019-07-05T12:45:13.852155Z",
     "start_time": "2019-07-05T12:45:13.847131Z"
    }
   },
   "outputs": [],
   "source": [
    "G=nx.Graph()\n",
    "# assign weight to edge\n",
    "G.add_edge('Mary','Steven', weight=5)\n",
    "G.add_edge('Mary','Adam', weight=1)\n",
    "G.add_edge('Luiz','Adam', weight=1)\n",
    "G.add_edge('Luiz','Mary', weight=1)"
   ]
  },
  {
   "cell_type": "code",
   "execution_count": 45,
   "metadata": {
    "ExecuteTime": {
     "end_time": "2019-07-05T12:45:14.891180Z",
     "start_time": "2019-07-05T12:45:14.795734Z"
    }
   },
   "outputs": [
    {
     "name": "stderr",
     "output_type": "stream",
     "text": [
      "/Users/lgaalves/miniconda3/lib/python3.6/site-packages/networkx/drawing/nx_pylab.py:611: MatplotlibDeprecationWarning: isinstance(..., numbers.Number)\n",
      "  if cb.is_numlike(alpha):\n"
     ]
    },
    {
     "data": {
      "image/png": "[encoded data removed]",
      "text/plain": [
       "<Figure size 432x288 with 1 Axes>"
      ]
     },
     "metadata": {},
     "output_type": "display_data"
    }
   ],
   "source": [
    "nx.draw(G)"
   ]
  },
  {
   "cell_type": "code",
   "execution_count": 46,
   "metadata": {
    "ExecuteTime": {
     "end_time": "2019-07-05T12:45:18.964513Z",
     "start_time": "2019-07-05T12:45:18.957985Z"
    }
   },
   "outputs": [
    {
     "data": {
      "text/plain": [
       "DegreeView({'Mary': 3, 'Steven': 1, 'Adam': 2, 'Luiz': 2})"
      ]
     },
     "execution_count": 46,
     "metadata": {},
     "output_type": "execute_result"
    }
   ],
   "source": [
    "nx.degree(G)"
   ]
  },
  {
   "cell_type": "code",
   "execution_count": 47,
   "metadata": {
    "ExecuteTime": {
     "end_time": "2019-07-05T12:45:22.540531Z",
     "start_time": "2019-07-05T12:45:22.535054Z"
    }
   },
   "outputs": [
    {
     "data": {
      "text/plain": [
       "{'Mary': 1.0,\n",
       " 'Steven': 0.3333333333333333,\n",
       " 'Adam': 0.6666666666666666,\n",
       " 'Luiz': 0.6666666666666666}"
      ]
     },
     "execution_count": 47,
     "metadata": {},
     "output_type": "execute_result"
    }
   ],
   "source": [
    "# degree centrality\n",
    "nx.degree_centrality(G)"
   ]
  },
  {
   "cell_type": "code",
   "execution_count": 48,
   "metadata": {
    "ExecuteTime": {
     "end_time": "2019-07-05T12:45:27.131889Z",
     "start_time": "2019-07-05T12:45:27.124528Z"
    }
   },
   "outputs": [
    {
     "data": {
      "text/plain": [
       "{'Mary': 0.6666666666666666, 'Steven': 0.0, 'Adam': 0.0, 'Luiz': 0.0}"
      ]
     },
     "execution_count": 48,
     "metadata": {},
     "output_type": "execute_result"
    }
   ],
   "source": [
    "# betweenness centrality of network\n",
    "nx.betweenness_centrality(G)"
   ]
  },
  {
   "cell_type": "code",
   "execution_count": 51,
   "metadata": {
    "ExecuteTime": {
     "end_time": "2019-07-05T12:46:36.200331Z",
     "start_time": "2019-07-05T12:46:36.192747Z"
    }
   },
   "outputs": [
    {
     "data": {
      "text/plain": [
       "{'Mary': 1.0, 'Steven': 0.6, 'Adam': 0.75, 'Luiz': 0.75}"
      ]
     },
     "execution_count": 51,
     "metadata": {},
     "output_type": "execute_result"
    }
   ],
   "source": [
    "# closeness centrality of network\n",
    "nx.closeness_centrality(G)"
   ]
  },
  {
   "cell_type": "code",
   "execution_count": 52,
   "metadata": {
    "ExecuteTime": {
     "end_time": "2019-07-05T12:46:37.548559Z",
     "start_time": "2019-07-05T12:46:37.542475Z"
    }
   },
   "outputs": [
    {
     "data": {
      "text/plain": [
       "{'Mary': 0.6116286437343043,\n",
       " 'Steven': 0.2818457979386572,\n",
       " 'Adam': 0.5227204550943348,\n",
       " 'Luiz': 0.5227204550943348}"
      ]
     },
     "execution_count": 52,
     "metadata": {},
     "output_type": "execute_result"
    }
   ],
   "source": [
    "# eigenvector centrality of network\n",
    "nx.eigenvector_centrality(G)"
   ]
  },
  {
   "cell_type": "markdown",
   "metadata": {},
   "source": [
    "## Components"
   ]
  },
  {
   "cell_type": "code",
   "execution_count": 30,
   "metadata": {
    "ExecuteTime": {
     "end_time": "2019-06-24T01:57:37.234090Z",
     "start_time": "2019-06-24T01:57:37.227548Z"
    }
   },
   "outputs": [
    {
     "data": {
      "text/plain": [
       "True"
      ]
     },
     "execution_count": 30,
     "metadata": {},
     "output_type": "execute_result"
    }
   ],
   "source": [
    "# checks whether the network is connected\n",
    "nx.is_connected(G)"
   ]
  },
  {
   "cell_type": "code",
   "execution_count": 53,
   "metadata": {
    "ExecuteTime": {
     "end_time": "2019-07-05T12:47:45.312878Z",
     "start_time": "2019-07-05T12:47:45.305090Z"
    }
   },
   "outputs": [
    {
     "data": {
      "text/plain": [
       "1"
      ]
     },
     "execution_count": 53,
     "metadata": {},
     "output_type": "execute_result"
    }
   ],
   "source": [
    "# find number of connected components\n",
    "nx.number_connected_components(G)"
   ]
  },
  {
   "cell_type": "code",
   "execution_count": 54,
   "metadata": {
    "ExecuteTime": {
     "end_time": "2019-07-05T12:47:55.325978Z",
     "start_time": "2019-07-05T12:47:55.320935Z"
    }
   },
   "outputs": [
    {
     "data": {
      "text/plain": [
       "{'Adam', 'Luiz', 'Mary', 'Steven'}"
      ]
     },
     "execution_count": 54,
     "metadata": {},
     "output_type": "execute_result"
    }
   ],
   "source": [
    "# get the nodes in the same component as *n*\n",
    "nx.node_connected_component(G, 'Mary')"
   ]
  },
  {
   "cell_type": "markdown",
   "metadata": {},
   "source": [
    "## 6. Assortativity\n",
    "\n",
    "* Pearson correlation coefficient [-1; 1]\n",
    "* social networks are highly assortative (homophily): high degree nodes connect to other high degree nodes\n",
    "* technological are disassortative: high degree nodes connect to low degree nodes\n",
    "\n",
    "Assortativity computed based on:\n",
    "* degree"
   ]
  },
  {
   "cell_type": "code",
   "execution_count": 55,
   "metadata": {
    "ExecuteTime": {
     "end_time": "2019-07-05T12:48:15.729846Z",
     "start_time": "2019-07-05T12:48:15.725840Z"
    }
   },
   "outputs": [],
   "source": [
    "# Barabasi-Albert (scale-free) network \n",
    "ba = nx.barabasi_albert_graph(50, 3)"
   ]
  },
  {
   "cell_type": "code",
   "execution_count": 56,
   "metadata": {
    "ExecuteTime": {
     "end_time": "2019-07-05T12:48:16.628311Z",
     "start_time": "2019-07-05T12:48:16.621117Z"
    }
   },
   "outputs": [
    {
     "data": {
      "text/plain": [
       "-0.1700403137475433"
      ]
     },
     "execution_count": 56,
     "metadata": {},
     "output_type": "execute_result"
    }
   ],
   "source": [
    "nx.degree_assortativity_coefficient(ba)"
   ]
  },
  {
   "cell_type": "code",
   "execution_count": null,
   "metadata": {},
   "outputs": [],
   "source": []
  }
 ],
 "metadata": {
  "kernelspec": {
   "display_name": "Python 3",
   "language": "python",
   "name": "python3"
  },
  "language_info": {
   "codemirror_mode": {
    "name": "ipython",
    "version": 3
   },
   "file_extension": ".py",
   "mimetype": "text/x-python",
   "name": "python",
   "nbconvert_exporter": "python",
   "pygments_lexer": "ipython3",
   "version": "3.6.8"
  },
  "latex_envs": {
   "LaTeX_envs_menu_present": true,
   "autoclose": false,
   "autocomplete": true,
   "bibliofile": "biblio.bib",
   "cite_by": "apalike",
   "current_citInitial": 1,
   "eqLabelWithNumbers": true,
   "eqNumInitial": 1,
   "hotkeys": {
    "equation": "Ctrl-E",
    "itemize": "Ctrl-I"
   },
   "labels_anchors": false,
   "latex_user_defs": false,
   "report_style_numbering": false,
   "user_envs_cfg": false
  },
  "toc": {
   "nav_menu": {},
   "number_sections": true,
   "sideBar": true,
   "skip_h1_title": false,
   "title_cell": "Table of Contents",
   "title_sidebar": "Contents",
   "toc_cell": false,
   "toc_position": {
    "height": "calc(100% - 180px)",
    "left": "10px",
    "top": "150px",
    "width": "269px"
   },
   "toc_section_display": true,
   "toc_window_display": true
  }
 },
 "nbformat": 4,
 "nbformat_minor": 2
}
